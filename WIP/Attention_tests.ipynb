{
 "cells": [
  {
   "cell_type": "code",
   "execution_count": 51,
   "metadata": {},
   "outputs": [],
   "source": [
    "import numpy as np\n",
    "import torch\n",
    "import matplotlib.pyplot as plt\n",
    "import seaborn as sns\n",
    "from braindecode.models import EEGConformer\n",
    "import pandas as pd\n",
    "from collections import OrderedDict\n",
    "import math\n",
    "import importlib\n",
    "import Attention_models\n",
    "importlib.reload(Attention_models)\n",
    "from Attention_models import ShallowAttentionNet\n",
    "from shallow_laurits import ShallowFBCSPNet\n",
    "from torchinfo import summary"
   ]
  },
  {
   "cell_type": "code",
   "execution_count": 58,
   "metadata": {},
   "outputs": [],
   "source": [
    "in_chans = 22\n",
    "n_classes = 4\n",
    "input_window_samples = 1125\n",
    "model = ShallowAttentionNet(in_chans,n_classes,input_window_samples,mini_pool_size=2)\n",
    "ref_model = ShallowFBCSPNet(in_chans,n_classes,input_window_samples)"
   ]
  },
  {
   "cell_type": "code",
   "execution_count": 53,
   "metadata": {},
   "outputs": [
    {
     "data": {
      "text/plain": [
       "============================================================================================================================================\n",
       "Layer (type:depth-idx)                   Input Shape               Output Shape              Param #                   Kernel Shape\n",
       "============================================================================================================================================\n",
       "ShallowAttentionNet                      [1, 22, 1125]             [1, 4]                    --                        --\n",
       "├─Conv2d: 1-1                            [1, 1, 22, 1125]          [1, 10, 22, 1101]         260                       [1, 25]\n",
       "├─SpatialAttention: 1-2                  [1, 10, 22, 1101]         [1, 10, 22, 1101]         --                        --\n",
       "│    └─Conv1d: 2-1                       [10, 22, 1101]            [10, 22, 1101]            506                       [1]\n",
       "│    └─Conv1d: 2-2                       [10, 22, 1101]            [10, 22, 1101]            506                       [1]\n",
       "│    └─Conv1d: 2-3                       [10, 22, 1101]            [10, 22, 1101]            506                       [1]\n",
       "├─BatchNorm2d: 1-3                       [1, 10, 22, 1101]         [1, 10, 22, 1101]         20                        --\n",
       "├─AvgPool2d: 1-4                         [1, 10, 22, 1101]         [1, 10, 22, 11]           --                        [1, 100]\n",
       "├─Dropout: 1-5                           [1, 2420]                 [1, 2420]                 --                        --\n",
       "├─Linear: 1-6                            [1, 2420]                 [1, 4]                    9,684                     --\n",
       "============================================================================================================================================\n",
       "Total params: 11,482\n",
       "Trainable params: 11,482\n",
       "Non-trainable params: 0\n",
       "Total mult-adds (Units.MEGABYTES): 23.02\n",
       "============================================================================================================================================\n",
       "Input size (MB): 0.10\n",
       "Forward/backward pass size (MB): 9.69\n",
       "Params size (MB): 0.05\n",
       "Estimated Total Size (MB): 9.83\n",
       "============================================================================================================================================"
      ]
     },
     "execution_count": 53,
     "metadata": {},
     "output_type": "execute_result"
    }
   ],
   "source": [
    "summary(model,input_size=(1, 22, 1125),col_names=[\"input_size\", \"output_size\", \"num_params\", \"kernel_size\"])"
   ]
  },
  {
   "cell_type": "code",
   "execution_count": 54,
   "metadata": {},
   "outputs": [
    {
     "data": {
      "text/plain": [
       "============================================================================================================================================\n",
       "Layer (type:depth-idx)                   Input Shape               Output Shape              Param #                   Kernel Shape\n",
       "============================================================================================================================================\n",
       "ShallowFBCSPNet                          [1, 22, 1125]             [1, 4]                    --                        --\n",
       "├─Conv2d: 1-1                            [1, 1, 22, 1125]          [1, 40, 22, 1101]         1,040                     [1, 25]\n",
       "├─Conv2d: 1-2                            [1, 40, 22, 1101]         [1, 40, 1, 1101]          35,240                    [22, 1]\n",
       "├─BatchNorm2d: 1-3                       [1, 40, 1, 1101]          [1, 40, 1, 1101]          80                        --\n",
       "├─AvgPool2d: 1-4                         [1, 40, 1, 1101]          [1, 40, 1, 11]            --                        [1, 100]\n",
       "├─Dropout: 1-5                           [1, 440]                  [1, 440]                  --                        --\n",
       "├─Linear: 1-6                            [1, 440]                  [1, 4]                    1,764                     --\n",
       "============================================================================================================================================\n",
       "Total params: 38,124\n",
       "Trainable params: 38,124\n",
       "Non-trainable params: 0\n",
       "Total mult-adds (Units.MEGABYTES): 63.99\n",
       "============================================================================================================================================\n",
       "Input size (MB): 0.10\n",
       "Forward/backward pass size (MB): 8.46\n",
       "Params size (MB): 0.15\n",
       "Estimated Total Size (MB): 8.71\n",
       "============================================================================================================================================"
      ]
     },
     "execution_count": 54,
     "metadata": {},
     "output_type": "execute_result"
    }
   ],
   "source": [
    "summary(ref_model,input_size=(1, 22, 1125),col_names=[\"input_size\", \"output_size\", \"num_params\", \"kernel_size\"])"
   ]
  },
  {
   "cell_type": "code",
   "execution_count": 55,
   "metadata": {},
   "outputs": [],
   "source": [
    "import pickle\n",
    "with open('Datasets/test_set.pkl', 'rb') as f:\n",
    "    test_set = pickle.load(f)\n",
    "\n",
    "X = torch.stack([torch.from_numpy(test_set[i][0]) for i in range(len(test_set))])"
   ]
  },
  {
   "cell_type": "code",
   "execution_count": 56,
   "metadata": {},
   "outputs": [
    {
     "name": "stdout",
     "output_type": "stream",
     "text": [
      "torch.Size([2592, 1, 22, 1125])\n"
     ]
    }
   ],
   "source": [
    "\n",
    "X_un = X.unsqueeze(dim=1)\n",
    "print(X_un.shape)"
   ]
  },
  {
   "cell_type": "code",
   "execution_count": 57,
   "metadata": {},
   "outputs": [
    {
     "name": "stdout",
     "output_type": "stream",
     "text": [
      "torch.Size([1, 4])\n",
      "tensor([[ 0.0170, -0.0066,  0.0045,  0.0245]], grad_fn=<AddmmBackward0>)\n"
     ]
    }
   ],
   "source": [
    "model.eval()\n",
    "out = model(X[:1])\n",
    "print(out.shape)\n",
    "print(out)"
   ]
  },
  {
   "cell_type": "code",
   "execution_count": null,
   "metadata": {},
   "outputs": [],
   "source": []
  }
 ],
 "metadata": {
  "kernelspec": {
   "display_name": "Python 3",
   "language": "python",
   "name": "python3"
  },
  "language_info": {
   "codemirror_mode": {
    "name": "ipython",
    "version": 3
   },
   "file_extension": ".py",
   "mimetype": "text/x-python",
   "name": "python",
   "nbconvert_exporter": "python",
   "pygments_lexer": "ipython3",
   "version": "3.12.9"
  }
 },
 "nbformat": 4,
 "nbformat_minor": 2
}
