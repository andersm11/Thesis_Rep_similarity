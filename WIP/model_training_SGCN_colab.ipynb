{
  "cells": [
    {
      "cell_type": "code",
      "execution_count": 1,
      "metadata": {
        "colab": {
          "base_uri": "https://localhost:8080/"
        },
        "id": "82Vbwzg32ZhZ",
        "outputId": "a149e0d1-17e5-43fe-ce23-97b390afe293"
      },
      "outputs": [
        {
          "name": "stdout",
          "output_type": "stream",
          "text": [
            "Running in Google Colab. Checking required libraries...\n",
            "All required libraries are already installed.\n"
          ]
        }
      ],
      "source": [
        "import sys\n",
        "import importlib\n",
        "import subprocess\n",
        "import torch\n",
        "\n",
        "def install_if_colab():\n",
        "    if \"google.colab\" in sys.modules:\n",
        "        print(\"Running in Google Colab. Checking required libraries...\")\n",
        "\n",
        "        packages = [\"braindecode\",\"torch_geometric\"]  # Add required libraries\n",
        "        missing_packages = [pkg for pkg in packages if importlib.util.find_spec(pkg) is None]\n",
        "\n",
        "        if missing_packages:\n",
        "            print(f\"Installing missing libraries: {', '.join(missing_packages)}\")\n",
        "            !pip install {\" \".join(missing_packages)}\n",
        "        else:\n",
        "            print(\"All required libraries are already installed.\")\n",
        "    else:\n",
        "        print(\"Not running in Google Colab. No installation needed.\")\n",
        "\n",
        "install_if_colab()\n"
      ]
    },
    {
      "cell_type": "code",
      "execution_count": 2,
      "metadata": {
        "colab": {
          "base_uri": "https://localhost:8080/"
        },
        "id": "f_sHCnT22v9k",
        "outputId": "4dbf4e5f-9f35-41a5-ba8d-049d705a8da9"
      },
      "outputs": [
        {
          "name": "stdout",
          "output_type": "stream",
          "text": [
            "Drive already mounted at /content/drive; to attempt to forcibly remount, call drive.mount(\"/content/drive\", force_remount=True).\n"
          ]
        }
      ],
      "source": [
        "from google.colab import drive\n",
        "drive.mount('/content/drive')\n",
        "path = \"/content/drive/MyDrive/\""
      ]
    },
    {
      "cell_type": "code",
      "execution_count": 3,
      "metadata": {
        "colab": {
          "base_uri": "https://localhost:8080/"
        },
        "id": "ZsDMRz4zbXOG",
        "outputId": "6114f29e-8e69-47fd-e3ee-3112d4e94b18"
      },
      "outputs": [
        {
          "name": "stderr",
          "output_type": "stream",
          "text": [
            "\u001b[34m\u001b[1mwandb\u001b[0m: Using wandb-core as the SDK backend.  Please refer to https://wandb.me/wandb-core for more information.\n",
            "\u001b[34m\u001b[1mwandb\u001b[0m: Currently logged in as: \u001b[33mahmm98\u001b[0m (\u001b[33mphilinthesky\u001b[0m) to \u001b[32mhttps://api.wandb.ai\u001b[0m. Use \u001b[1m`wandb login --relogin`\u001b[0m to force relogin\n"
          ]
        },
        {
          "data": {
            "text/plain": [
              "True"
            ]
          },
          "execution_count": 3,
          "metadata": {},
          "output_type": "execute_result"
        }
      ],
      "source": [
        "import wandb\n",
        "wandb.login()"
      ]
    },
    {
      "cell_type": "code",
      "execution_count": 4,
      "metadata": {
        "id": "1osynJth26to"
      },
      "outputs": [],
      "source": [
        "import pickle\n",
        "train_set = torch.load(path+'EEG_data/emotion_train_set.pt')\n",
        "test_set = torch.load(path+'EEG_data/emotion_test_set.pt')"
      ]
    },
    {
      "cell_type": "code",
      "execution_count": 5,
      "metadata": {
        "colab": {
          "base_uri": "https://localhost:8080/"
        },
        "id": "Xba9vjnO2Zhg",
        "outputId": "8af87375-91ae-46a3-c8d0-ba9483c85069"
      },
      "outputs": [
        {
          "name": "stdout",
          "output_type": "stream",
          "text": [
            "n_classes:  3\n",
            "n_channels: 32\n",
            "input_window_samples size: 400\n"
          ]
        },
        {
          "name": "stderr",
          "output_type": "stream",
          "text": [
            "/usr/local/lib/python3.11/dist-packages/braindecode/util.py:51: UserWarning: torch.backends.cudnn.benchmark was set to True which may results in lack of reproducibility. In some cases to ensure reproducibility you may need to set torch.backends.cudnn.benchmark to False.\n",
            "  warn(\n"
          ]
        }
      ],
      "source": [
        "import torch\n",
        "#from shallow_fbcsp import ShallowFBCSPNet\n",
        "from braindecode.util import set_random_seeds\n",
        "import torch.nn.functional as F\n",
        "\n",
        "\n",
        "cuda = torch.cuda.is_available()  # check if GPU is available, if True chooses to use it\n",
        "device = \"cuda\" if cuda else \"cpu\"\n",
        "if cuda:\n",
        "    torch.backends.cudnn.benchmark = True\n",
        "seed = 282828\n",
        "set_random_seeds(seed=seed, cuda=cuda)\n",
        "\n",
        "n_classes = 3\n",
        "classes = list(range(n_classes))\n",
        "# Extract number of chans and time steps from dataset\n",
        "n_channels = 32\n",
        "input_window_samples = 400\n",
        "\n",
        "print(\"n_classes: \", n_classes)\n",
        "print(\"n_channels:\", n_channels)\n",
        "print(\"input_window_samples size:\", input_window_samples)"
      ]
    },
    {
      "cell_type": "code",
      "execution_count": null,
      "metadata": {
        "colab": {
          "base_uri": "https://localhost:8080/"
        },
        "id": "b3wPzn3X2Zhh",
        "outputId": "7f0b5daf-38d7-490b-d2dc-ae3b7de0b55d"
      },
      "outputs": [
        {
          "name": "stdout",
          "output_type": "stream",
          "text": [
            "torch.Size([1024])\n",
            "ShallowSGCNNet(\n",
            "  (temporal): Conv2d(1, 10, kernel_size=(1, 25), stride=(1, 1))\n",
            "  (sgconv): SimpleGCNNet(\n",
            "    (sgconv): SGConv(37, 10, K=1)\n",
            "  )\n",
            "  (batch_norm): BatchNorm2d(10, eps=1e-05, momentum=0.1, affine=True, track_running_stats=True)\n",
            "  (pool): AvgPool2d(kernel_size=(1, 10), stride=(1, 10), padding=0)\n",
            "  (dropout): Dropout(p=0.5, inplace=False)\n",
            "  (fc): Linear(in_features=3200, out_features=3, bias=True)\n",
            ")\n"
          ]
        }
      ],
      "source": [
        "#from models_fbscp import CollapsedShallowNet\n",
        "# The ShallowFBCSPNet is a `nn.Sequential` model\n",
        "import importlib\n",
        "import SGCN_FACED\n",
        "importlib.reload(SGCN_FACED)\n",
        "from SGCN_FACED import ShallowSGCNNet\n",
        "from weight_init import init_weights\n",
        "from CKA_functions import adjacency_matrix_motion,adjacency_matrix_distance_motion\n",
        "from CKA_functions import adjacency_matrix_FACED,adjacency_matrix_distance_FACED\n",
        "# adj_m,pos = adjacency_matrix_FACED()\n",
        "# #print(adj_m)\n",
        "# adj_dis_m, dm = adjacency_matrix_distance_FACED(pos,delta=5)\n",
        "# dm\n",
        "# torch_tensor = torch.from_numpy(dm)\n",
        "# edge_weight = torch_tensor.reshape(-1)\n",
        "# print(edge_weight.shape)\n",
        "\n",
        "# model = ShallowSGCNNet(n_channels,n_classes,input_window_samples,edge_weight)\n",
        "\n",
        "# # Display torchinfo table describing the model\n",
        "# print(model)\n",
        "\n",
        "# # Send model to GPU\n",
        "# if cuda:\n",
        "#     model.cuda()\n",
        "\n"
      ]
    },
    {
      "cell_type": "code",
      "execution_count": 6,
      "metadata": {
        "id": "nDl5hBP4DonW"
      },
      "outputs": [],
      "source": []
    },
    {
      "cell_type": "code",
      "execution_count": 7,
      "metadata": {
        "id": "n7Eii9TH2Zhi"
      },
      "outputs": [],
      "source": [
        "# splitted = windows_dataset.split(\"session\")\n",
        "# train_set = splitted['0train']  # Session train\n",
        "# test_set = splitted['1test']  # Session evaluation\n",
        "\n",
        "from torch.nn import Module\n",
        "from torch.optim.lr_scheduler import LRScheduler\n",
        "from torch.utils.data import DataLoader\n",
        "\n",
        "#lr = 1e-4\n",
        "#weight_decay = 1e-4\n",
        "#batch_size = 64\n",
        "#n_epochs = 200\n"
      ]
    },
    {
      "cell_type": "code",
      "execution_count": 8,
      "metadata": {
        "id": "PlgtbF-r2Zhj"
      },
      "outputs": [],
      "source": [
        "\n",
        "from tqdm import tqdm\n",
        "# Define a method for training one epoch\n",
        "\n",
        "\n",
        "def train_one_epoch(\n",
        "        dataloader: DataLoader, model: Module,edge_index, loss_fn, optimizer,\n",
        "        scheduler: LRScheduler, epoch: int, device, print_batch_stats=True\n",
        "):\n",
        "    model.train()  # Set the model to training mode\n",
        "    train_loss, correct = 0, 0\n",
        "\n",
        "    progress_bar = tqdm(enumerate(dataloader), total=len(dataloader),\n",
        "                        disable=not print_batch_stats)\n",
        "\n",
        "    for batch_idx, (X, y) in progress_bar:\n",
        "        X, y = X.to(device), y.to(device)\n",
        "        #print(y)\n",
        "        #print(X.shape)\n",
        "        optimizer.zero_grad()\n",
        "        pred = model(X,edge_index)\n",
        "\n",
        "\n",
        "        #print(y.shape)\n",
        "        #print(pred.shape)\n",
        "        loss = loss_fn(pred, y)\n",
        "        loss.backward()\n",
        "        optimizer.step()  # update the model weights\n",
        "        optimizer.zero_grad()\n",
        "        #print(loss.item())\n",
        "        #print(loss)\n",
        "        #print(train_loss)\n",
        "        train_loss += loss.item()\n",
        "        correct += (pred.argmax(1) == y).sum().item()\n",
        "\n",
        "        #if print_batch_stats:\n",
        "        #    progress_bar.set_description(\n",
        "        #        f\"Epoch {epoch}/{n_epochs}, \"\n",
        "        #        f\"Batch {batch_idx + 1}/{len(dataloader)}, \"\n",
        "        #        f\"Loss: {loss.item():.6f}\"\n",
        "        #    )\n",
        "\n",
        "    # Update the learning rate\n",
        "    scheduler.step()\n",
        "\n",
        "    correct /= len(dataloader.dataset)\n",
        "    return train_loss / len(dataloader), correct\n"
      ]
    },
    {
      "cell_type": "code",
      "execution_count": 9,
      "metadata": {
        "id": "M1S-1vTK2Zhk"
      },
      "outputs": [],
      "source": [
        "from collections import defaultdict\n",
        "from tqdm import tqdm\n",
        "import torch\n",
        "from torch.utils.data import DataLoader\n",
        "from sklearn.metrics import confusion_matrix\n",
        "import numpy as np\n",
        "\n",
        "@torch.no_grad()\n",
        "def test_model(dataloader: DataLoader, model: torch.nn.Module,edge_index, loss_fn, print_batch_stats=True):\n",
        "    device = next(model.parameters()).device  # Get model device\n",
        "    size = len(dataloader.dataset)\n",
        "    n_batches = len(dataloader)\n",
        "    model.eval()  # Switch to evaluation mode\n",
        "    test_loss, correct = 0, 0\n",
        "\n",
        "    # Initialize dictionaries for per-class tracking\n",
        "    class_correct = defaultdict(int)\n",
        "    class_total = defaultdict(int)\n",
        "\n",
        "    # Lists to store true and predicted labels for confusion matrix\n",
        "    all_preds = []\n",
        "    all_targets = []\n",
        "\n",
        "    if print_batch_stats:\n",
        "        progress_bar = tqdm(enumerate(dataloader), total=len(dataloader))\n",
        "    else:\n",
        "        progress_bar = enumerate(dataloader)\n",
        "\n",
        "    for batch_idx, (X, y) in progress_bar:\n",
        "        X, y = X.to(device), y.to(device)\n",
        "        pred = model(X,edge_index)\n",
        "        batch_loss = loss_fn(pred, y).item()\n",
        "\n",
        "        test_loss += batch_loss\n",
        "        correct += (pred.argmax(1) == y).sum().item()\n",
        "\n",
        "        # Store predictions and true labels for confusion matrix\n",
        "        all_preds.append(pred.argmax(1).cpu())\n",
        "        all_targets.append(y.cpu())\n",
        "\n",
        "        # Compute per-class accuracy\n",
        "        preds_labels = pred.argmax(1)\n",
        "        for label, pred_label in zip(y, preds_labels):\n",
        "            class_total[label.item()] += 1\n",
        "            class_correct[label.item()] += (label == pred_label).item()\n",
        "\n",
        "        if print_batch_stats:\n",
        "            progress_bar.set_description(\n",
        "                f\"Batch {batch_idx + 1}/{len(dataloader)}, Loss: {batch_loss:.6f}\"\n",
        "            )\n",
        "\n",
        "    # Convert lists to tensors\n",
        "    all_preds = torch.cat(all_preds)\n",
        "    all_targets = torch.cat(all_targets)\n",
        "\n",
        "    # Compute per-class accuracy\n",
        "    class_accuracies = {\n",
        "        cls: (class_correct[cls] / class_total[cls]) * 100 if class_total[cls] > 0 else 0\n",
        "        for cls in class_total\n",
        "    }\n",
        "\n",
        "    # Compute overall accuracy\n",
        "    test_loss /= n_batches\n",
        "    overall_accuracy = (correct / size) * 100\n",
        "\n",
        "    # Print per-class accuracy\n",
        "    print(\"\\nClass-wise Accuracy:\")\n",
        "    for cls, acc in class_accuracies.items():\n",
        "        print(f\"  Class {cls}: {acc:.2f}%\")\n",
        "\n",
        "    print(f\"Test Accuracy: {overall_accuracy:.1f}%, Test Loss: {test_loss:.6f}\\n\")\n",
        "\n",
        "\n",
        "\n",
        "    return test_loss, overall_accuracy, class_accuracies, all_preds, all_targets\n"
      ]
    },
    {
      "cell_type": "code",
      "execution_count": 10,
      "metadata": {
        "id": "TI5GEmbX4vG6"
      },
      "outputs": [],
      "source": [
        "\n",
        "\n",
        "def get_e_index(dm):\n",
        "  threshold = 0  # Adjust as needed\n",
        "\n",
        "  source_nodes = []\n",
        "  target_nodes = []\n",
        "\n",
        "  # Iterate over all elements in the distance matrix, including self-loops and duplicates\n",
        "  for i in range(dm.shape[0]):\n",
        "      for j in range(dm.shape[1]):  # Iterate over all pairs, including (i, i)\n",
        "          if dm[i, j] >= threshold:  # If the distance meets the condition\n",
        "              source_nodes.append(i)  # Source node\n",
        "              target_nodes.append(j)  # Target node\n",
        "\n",
        "  # Create the edge_index tensor\n",
        "  edge_index = torch.tensor([source_nodes, target_nodes], dtype=torch.long).to(device)\n",
        "  return edge_index"
      ]
    },
    {
      "cell_type": "code",
      "execution_count": null,
      "metadata": {
        "colab": {
          "base_uri": "https://localhost:8080/",
          "height": 734
        },
        "id": "uDUBctmi2Zhl",
        "outputId": "e21e48a1-daac-48f2-ef0b-a8410a41c2aa"
      },
      "outputs": [
        {
          "name": "stderr",
          "output_type": "stream",
          "text": [
            "/usr/local/lib/python3.11/dist-packages/braindecode/util.py:51: UserWarning: torch.backends.cudnn.benchmark was set to True which may results in lack of reproducibility. In some cases to ensure reproducibility you may need to set torch.backends.cudnn.benchmark to False.\n",
            "  warn(\n"
          ]
        },
        {
          "name": "stdout",
          "output_type": "stream",
          "text": [
            "torch.Size([1024])\n"
          ]
        },
        {
          "data": {
            "text/html": [
              "Tracking run with wandb version 0.19.9"
            ],
            "text/plain": [
              "<IPython.core.display.HTML object>"
            ]
          },
          "metadata": {},
          "output_type": "display_data"
        },
        {
          "data": {
            "text/html": [
              "Run data is saved locally in <code>/content/wandb/run-20250408_090401-bde4sys9</code>"
            ],
            "text/plain": [
              "<IPython.core.display.HTML object>"
            ]
          },
          "metadata": {},
          "output_type": "display_data"
        },
        {
          "data": {
            "text/html": [
              "Syncing run <strong><a href='https://wandb.ai/philinthesky/Master%20Thesis/runs/bde4sys9' target=\"_blank\">ShallowSGCNNet 99999</a></strong> to <a href='https://wandb.ai/philinthesky/Master%20Thesis' target=\"_blank\">Weights & Biases</a> (<a href='https://wandb.me/developer-guide' target=\"_blank\">docs</a>)<br>"
            ],
            "text/plain": [
              "<IPython.core.display.HTML object>"
            ]
          },
          "metadata": {},
          "output_type": "display_data"
        },
        {
          "data": {
            "text/html": [
              " View project at <a href='https://wandb.ai/philinthesky/Master%20Thesis' target=\"_blank\">https://wandb.ai/philinthesky/Master%20Thesis</a>"
            ],
            "text/plain": [
              "<IPython.core.display.HTML object>"
            ]
          },
          "metadata": {},
          "output_type": "display_data"
        },
        {
          "data": {
            "text/html": [
              " View run at <a href='https://wandb.ai/philinthesky/Master%20Thesis/runs/bde4sys9' target=\"_blank\">https://wandb.ai/philinthesky/Master%20Thesis/runs/bde4sys9</a>"
            ],
            "text/plain": [
              "<IPython.core.display.HTML object>"
            ]
          },
          "metadata": {},
          "output_type": "display_data"
        },
        {
          "name": "stdout",
          "output_type": "stream",
          "text": [
            "Epoch 1/1000: "
          ]
        },
        {
          "name": "stderr",
          "output_type": "stream",
          "text": [
            "100%|██████████| 1398/1398 [00:22<00:00, 62.38it/s]\n",
            "Batch 350/350, Loss: 1.093141: 100%|██████████| 350/350 [00:03<00:00, 94.15it/s]\n"
          ]
        },
        {
          "name": "stdout",
          "output_type": "stream",
          "text": [
            "\n",
            "Class-wise Accuracy:\n",
            "  Class 2: 41.41%\n",
            "  Class 0: 17.65%\n",
            "  Class 1: 43.19%\n",
            "Test Accuracy: 34.1%, Test Loss: 1.097841\n",
            "\n",
            "\n",
            "Class-wise Accuracy:\n",
            "  Class 2: 41.41%\n",
            "  Class 0: 17.65%\n",
            "  Class 1: 43.19%\n"
          ]
        },
        {
          "ename": "AttributeError",
          "evalue": "'ShallowSGCNNet' object has no attribute 'rgnn'",
          "output_type": "error",
          "traceback": [
            "\u001b[0;31m---------------------------------------------------------------------------\u001b[0m",
            "\u001b[0;31mAttributeError\u001b[0m                            Traceback (most recent call last)",
            "\u001b[0;32m<ipython-input-11-84a3b8cd26d8>\u001b[0m in \u001b[0;36m<cell line: 0>\u001b[0;34m()\u001b[0m\n\u001b[1;32m     84\u001b[0m             \u001b[0mprint\u001b[0m\u001b[0;34m(\u001b[0m\u001b[0;34mf\"  Class {class_idx}: {acc:.2f}%\"\u001b[0m\u001b[0;34m)\u001b[0m\u001b[0;34m\u001b[0m\u001b[0;34m\u001b[0m\u001b[0m\n\u001b[1;32m     85\u001b[0m \u001b[0;34m\u001b[0m\u001b[0m\n\u001b[0;32m---> 86\u001b[0;31m         \u001b[0madj_matrix\u001b[0m \u001b[0;34m=\u001b[0m \u001b[0mmodel\u001b[0m\u001b[0;34m.\u001b[0m\u001b[0mrgnn\u001b[0m\u001b[0;34m.\u001b[0m\u001b[0medge_weights\u001b[0m\u001b[0;34m.\u001b[0m\u001b[0mdetach\u001b[0m\u001b[0;34m(\u001b[0m\u001b[0;34m)\u001b[0m\u001b[0;34m.\u001b[0m\u001b[0mcpu\u001b[0m\u001b[0;34m(\u001b[0m\u001b[0;34m)\u001b[0m\u001b[0;34m.\u001b[0m\u001b[0mnumpy\u001b[0m\u001b[0;34m(\u001b[0m\u001b[0;34m)\u001b[0m\u001b[0;34m.\u001b[0m\u001b[0mreshape\u001b[0m\u001b[0;34m(\u001b[0m\u001b[0;36m22\u001b[0m\u001b[0;34m,\u001b[0m\u001b[0;36m22\u001b[0m\u001b[0;34m)\u001b[0m\u001b[0;34m\u001b[0m\u001b[0;34m\u001b[0m\u001b[0m\n\u001b[0m\u001b[1;32m     87\u001b[0m \u001b[0;34m\u001b[0m\u001b[0m\n\u001b[1;32m     88\u001b[0m         \u001b[0;31m# Create a plot\u001b[0m\u001b[0;34m\u001b[0m\u001b[0;34m\u001b[0m\u001b[0m\n",
            "\u001b[0;32m/usr/local/lib/python3.11/dist-packages/torch/nn/modules/module.py\u001b[0m in \u001b[0;36m__getattr__\u001b[0;34m(self, name)\u001b[0m\n\u001b[1;32m   1926\u001b[0m             \u001b[0;32mif\u001b[0m \u001b[0mname\u001b[0m \u001b[0;32min\u001b[0m \u001b[0mmodules\u001b[0m\u001b[0;34m:\u001b[0m\u001b[0;34m\u001b[0m\u001b[0;34m\u001b[0m\u001b[0m\n\u001b[1;32m   1927\u001b[0m                 \u001b[0;32mreturn\u001b[0m \u001b[0mmodules\u001b[0m\u001b[0;34m[\u001b[0m\u001b[0mname\u001b[0m\u001b[0;34m]\u001b[0m\u001b[0;34m\u001b[0m\u001b[0;34m\u001b[0m\u001b[0m\n\u001b[0;32m-> 1928\u001b[0;31m         raise AttributeError(\n\u001b[0m\u001b[1;32m   1929\u001b[0m             \u001b[0;34mf\"'{type(self).__name__}' object has no attribute '{name}'\"\u001b[0m\u001b[0;34m\u001b[0m\u001b[0;34m\u001b[0m\u001b[0m\n\u001b[1;32m   1930\u001b[0m         )\n",
            "\u001b[0;31mAttributeError\u001b[0m: 'ShallowSGCNNet' object has no attribute 'rgnn'"
          ]
        }
      ],
      "source": [
        "import torch\n",
        "import wandb\n",
        "from torch.utils.data import DataLoader\n",
        "from torch.optim import AdamW\n",
        "from torch.optim.lr_scheduler import CosineAnnealingLR\n",
        "from torch.nn import CrossEntropyLoss\n",
        "import numpy as np\n",
        "import matplotlib.pyplot as plt\n",
        "import math\n",
        "save_path =\"models/\"\n",
        "\n",
        "seeds = [99999]#],182726,91111222,44552222,12223111,100300,47456655,4788347,77766666,809890]\n",
        "for _seed in seeds:\n",
        "    seed = _seed\n",
        "    set_random_seeds(seed=seed, cuda=cuda)\n",
        "    adj_m,pos = adjacency_matrix_FACED()\n",
        "    #print(adj_m)\n",
        "    adj_dis_m, dm = adjacency_matrix_distance_FACED(pos,delta=5)\n",
        "    dm\n",
        "    torch_tensor = torch.from_numpy(dm)\n",
        "    edge_weight = torch_tensor.reshape(-1)\n",
        "    print(edge_weight.shape)\n",
        "    model = ShallowSGCNNet(\n",
        "        n_chans=n_channels,\n",
        "        n_outputs=n_classes,\n",
        "        n_times=input_window_samples,\n",
        "        edge_weights=edge_weight\n",
        "    )\n",
        "\n",
        "    if cuda:\n",
        "        model.cuda()\n",
        "\n",
        "    edge_index = get_e_index(dm)\n",
        "    # Initialize Weights & Biases\n",
        "    wandb.init(project=\"Master Thesis\", name=f\"{model.__class__.__name__} {seed}\")\n",
        "    model.apply(init_weights)\n",
        "    # Define hyperparameters\n",
        "    lr = 1e-4\n",
        "    weight_decay = 1e-4\n",
        "    batch_size = 64  # Start with 124\n",
        "    n_epochs = 1000\n",
        "\n",
        "    final_acc = 0.0\n",
        "\n",
        "    # Log hyperparameters to wandb\n",
        "    wandb.config.update({\n",
        "        \"learning_rate\": lr,\n",
        "        \"weight_decay\": weight_decay,\n",
        "        \"batch_size\": batch_size,\n",
        "        \"epochs\": n_epochs\n",
        "    })\n",
        "\n",
        "    # Define optimizer and scheduler\n",
        "    optimizer = AdamW(model.parameters(), lr=lr, weight_decay=weight_decay)\n",
        "    scheduler = CosineAnnealingLR(optimizer, T_max=n_epochs - 1)\n",
        "\n",
        "    # Define loss function\n",
        "    loss_fn = CrossEntropyLoss()\n",
        "\n",
        "    # Create DataLoaders\n",
        "    train_loader = DataLoader(train_set, batch_size=batch_size, shuffle=True)\n",
        "    test_loader = DataLoader(test_set, batch_size=batch_size)\n",
        "\n",
        "    # Initialize lists to store all predictions & targets\n",
        "    all_preds, all_targets = [], []\n",
        "\n",
        "    # Training loop\n",
        "    for epoch in range(1, n_epochs + 1):\n",
        "        print(f\"Epoch {epoch}/{n_epochs}: \", end=\"\")\n",
        "\n",
        "        train_loss, train_accuracy = train_one_epoch(\n",
        "            train_loader, model,edge_index, loss_fn, optimizer, scheduler, epoch, device\n",
        "        )\n",
        "\n",
        "        test_loss, test_accuracy, class_accuracies, batch_preds, batch_targets = test_model(test_loader, model,edge_index, loss_fn)\n",
        "        final_acc = test_accuracy\n",
        "\n",
        "        # Store predictions & labels for confusion matrix\n",
        "        all_preds.extend(batch_preds)\n",
        "        all_targets.extend(batch_targets)\n",
        "\n",
        "        # Print class-wise accuracy\n",
        "        print(\"\\nClass-wise Accuracy:\")\n",
        "        for class_idx, acc in class_accuracies.items():\n",
        "            print(f\"  Class {class_idx}: {acc:.2f}%\")\n",
        "\n",
        "        adj_matrix = model.sgconv.edge_weights.detach().cpu().numpy().reshape(22,22)\n",
        "\n",
        "        # Create a plot\n",
        "        fig, ax = plt.subplots(figsize=(8, 8))\n",
        "        cax = ax.matshow(adj_matrix, cmap='viridis', interpolation='nearest',vmin=0, vmax=1)  # Adjust color map\n",
        "        fig.colorbar(cax)\n",
        "\n",
        "        # Save the adjacency matrix as an image (not as a graph)\n",
        "        plt.tight_layout()\n",
        "        img_path = f\"adj_matrix_epoch_{epoch}.png\"\n",
        "        plt.savefig(img_path)\n",
        "        plt.close()\n",
        "\n",
        "        # Log results to wandb\n",
        "        wandb.log({\n",
        "            \"epoch\": epoch,\n",
        "            \"train_loss\": train_loss,\n",
        "            \"train_accuracy\": train_accuracy * 100,\n",
        "            \"test_loss\": test_loss,\n",
        "            \"test_accuracy\": test_accuracy,\n",
        "            \"learning_rate\": scheduler.get_last_lr()[0],\n",
        "            **{f\"class_{class_idx}_accuracy\": acc for class_idx, acc in class_accuracies.items()},\n",
        "            \"adj_matrix\": wandb.Image(img_path),\n",
        "        })\n",
        "\n",
        "        print(\n",
        "            f\"Train Accuracy: {100 * train_accuracy:.2f}%, \"\n",
        "            f\"Average Train Loss: {train_loss:.6f}, \"\n",
        "            f\"Test Accuracy: {test_accuracy:.2f}%, \"\n",
        "            f\"Average Test Loss: {test_loss:.6f}\\n\"\n",
        "        )\n",
        "\n",
        "    # Convert lists to NumPy arrays\n",
        "    all_preds = np.array(all_preds)\n",
        "    all_targets = np.array(all_targets)\n",
        "\n",
        "    # Save predictions & true labels for later use (confusion matrix)\n",
        "    wandb.log({\"all_preds\": all_preds.tolist(), \"all_targets\": all_targets.tolist()})\n",
        "    wandb.finish()\n",
        "\n",
        "    # Assuming 'model' is your trained Braindecode model\n",
        "    print(seed)\n",
        "    torch.save(model, save_path+f\"{model.__class__.__name__}_{math.ceil(final_acc)}_{seed}.pth\")\n",
        "    torch.save(model.state_dict(), save_path+f\"{model.__class__.__name__}_{math.ceil(final_acc)}_{seed}_state.pth\")\n",
        "\n",
        "\n"
      ]
    },
    {
      "cell_type": "code",
      "execution_count": null,
      "metadata": {
        "id": "_EeozMvYlqbs"
      },
      "outputs": [],
      "source": [
        "import shutil\n",
        "import os\n",
        "from google.colab import drive\n",
        "\n",
        "source_dir = \"./\"  # Root directory where .pth files are stored\n",
        "dest_dir = f\"/content/drive/My Drive/pth_backups/{model.__class__.__name__}\"  # Destination in Google Drive\n",
        "\n",
        "# Ensure destination directory exists\n",
        "os.makedirs(dest_dir, exist_ok=True)\n",
        "\n",
        "# Find and move all .pth files\n",
        "for file_name in os.listdir(source_dir):\n",
        "    if file_name.endswith(\".pth\"):\n",
        "        src_path = os.path.join(source_dir, file_name)\n",
        "        dest_path = os.path.join(dest_dir, file_name)\n",
        "        shutil.move(src_path, dest_path)\n",
        "        print(f\"Moved: {file_name} -> {dest_path}\")\n",
        "\n",
        "print(\"All .pth files have been moved to Google Drive!\")"
      ]
    },
    {
      "cell_type": "code",
      "execution_count": null,
      "metadata": {
        "id": "r25kGBA32Zhm"
      },
      "outputs": [],
      "source": []
    },
    {
      "cell_type": "code",
      "execution_count": null,
      "metadata": {
        "id": "6oTC35YwpAzQ"
      },
      "outputs": [],
      "source": []
    }
  ],
  "metadata": {
    "accelerator": "GPU",
    "colab": {
      "gpuType": "T4",
      "machine_shape": "hm",
      "provenance": []
    },
    "kernelspec": {
      "display_name": "Python 3",
      "name": "python3"
    },
    "language_info": {
      "codemirror_mode": {
        "name": "ipython",
        "version": 3
      },
      "file_extension": ".py",
      "mimetype": "text/x-python",
      "name": "python",
      "nbconvert_exporter": "python",
      "pygments_lexer": "ipython3",
      "version": "3.12.9"
    }
  },
  "nbformat": 4,
  "nbformat_minor": 0
}
