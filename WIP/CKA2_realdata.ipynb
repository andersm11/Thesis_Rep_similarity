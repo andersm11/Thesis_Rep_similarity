{
 "cells": [
  {
   "cell_type": "code",
   "execution_count": 1,
   "metadata": {},
   "outputs": [],
   "source": [
    "import numpy as np\n",
    "import torch\n",
    "import matplotlib.pyplot as plt\n",
    "import seaborn as sns\n",
    "from shallow_fbcsp import ShallowFBCSPNet\n",
    "import pandas as pd\n",
    "from collections import OrderedDict\n",
    "import math"
   ]
  },
  {
   "cell_type": "code",
   "execution_count": 2,
   "metadata": {},
   "outputs": [],
   "source": [
    "def linear_kernel(X):\n",
    "    \"\"\"Computes the linear kernel matrix for X.\"\"\"\n",
    "    return torch.matmul(X,X.T)  # Dot product\n",
    "\n",
    "def centering_matrix(K):\n",
    "    \"\"\"Apply centering to the kernel matrix.\"\"\"\n",
    "    n = K.shape[0]\n",
    "    H = torch.eye(n) - (1.0 / n) * torch.ones((n, n), device=K.device)\n",
    "    return H @ K @ H  # Centered kernel matrix\n",
    "\n",
    "def compute_hsic(K_x, K_y):\n",
    "    \"\"\"\n",
    "    Computes the Hilbert-Schmidt Independence Criterion (HSIC).\n",
    "    \n",
    "    Parameters:\n",
    "    - X: (n_samples, n_features_X) numpy array\n",
    "    - Y: (n_samples, n_features_Y) numpy array\n",
    "    - kernel_X: function to compute the kernel matrix for X\n",
    "    - kernel_Y: function to compute the kernel matrix for Y\n",
    "    \n",
    "    Returns:\n",
    "    - HSIC value (float)\n",
    "    \"\"\"\n",
    "    K_x_centered = centering_matrix(K_x)\n",
    "    K_y_centered = centering_matrix(K_y)\n",
    "    hsic_value = np.trace(K_x_centered @ K_y_centered) / ((K_x.shape[0] - 1) ** 2)\n",
    "    return hsic_value\n",
    "  \n",
    "def compute_CKA(K_x,K_y):\n",
    "  \"\"\"\n",
    "  compute CKA between two X,Y activations\n",
    "  \n",
    "  Parameters:\n",
    "  - X: (n_samples, x_features)\n",
    "  - Y: (n_samples, y_features)\n",
    "  - kernel_X: kernel for X\n",
    "  - kernel_Y: kernel for Y  \n",
    "  \"\"\"\n",
    "  HSIC_KL = compute_hsic(K_x,K_y) \n",
    "  HSIC_KK = compute_hsic(K_x,K_x)\n",
    "  HSIC_LL = compute_hsic(K_y,K_y)\n",
    "  numerator = HSIC_KL\n",
    "  denominator = math.sqrt(HSIC_KK * HSIC_LL)\n",
    "  return(numerator/denominator).item()\n"
   ]
  },
  {
   "cell_type": "code",
   "execution_count": 3,
   "metadata": {},
   "outputs": [],
   "source": [
    "# Define model parameters\n",
    "in_chans = 22\n",
    "n_classes = 4\n",
    "n_channels = 22\n",
    "input_window_samples = 1125\n",
    "# Load two models for comparison\n",
    "model= torch.load(\"braindecode_model_temponly_1.pth\",weights_only = False,map_location=torch.device('cpu'))\n",
    "model2 =torch.load(\"conformer_model.pth\",weights_only = False,map_location=torch.device('cpu'))#ShallowFBCSPNet(in_chans, n_classes, input_window_samples)\n",
    "\n"
   ]
  },
  {
   "cell_type": "code",
   "execution_count": 4,
   "metadata": {},
   "outputs": [
    {
     "name": "stdout",
     "output_type": "stream",
     "text": [
      "================================================================================================================================================================\n",
      "Layer (type (var_name):depth-idx)                            Input Shape               Output Shape              Param #                   Kernel Shape\n",
      "================================================================================================================================================================\n",
      "EEGConformer (EEGConformer)                                  [1, 22, 1000]             [1, 4]                    --                        --\n",
      "├─_PatchEmbedding (patch_embedding): 1-1                     [1, 1, 22, 1000]          [1, 61, 40]               --                        --\n",
      "│    └─Sequential (shallownet): 2-1                          [1, 1, 22, 1000]          [1, 40, 1, 61]            --                        --\n",
      "│    │    └─Conv2d (0): 3-1                                  [1, 1, 22, 1000]          [1, 40, 22, 976]          1,040                     [1, 25]\n",
      "│    │    └─Conv2d (1): 3-2                                  [1, 40, 22, 976]          [1, 40, 1, 976]           35,240                    [22, 1]\n",
      "│    │    └─BatchNorm2d (2): 3-3                             [1, 40, 1, 976]           [1, 40, 1, 976]           80                        --\n",
      "│    │    └─ELU (3): 3-4                                     [1, 40, 1, 976]           [1, 40, 1, 976]           --                        --\n",
      "│    │    └─AvgPool2d (4): 3-5                               [1, 40, 1, 976]           [1, 40, 1, 61]            --                        [1, 75]\n",
      "│    │    └─Dropout (5): 3-6                                 [1, 40, 1, 61]            [1, 40, 1, 61]            --                        --\n",
      "│    └─Sequential (projection): 2-2                          [1, 40, 1, 61]            [1, 61, 40]               --                        --\n",
      "│    │    └─Conv2d (0): 3-7                                  [1, 40, 1, 61]            [1, 40, 1, 61]            1,640                     [1, 1]\n",
      "│    │    └─Rearrange (1): 3-8                               [1, 40, 1, 61]            [1, 61, 40]               --                        --\n",
      "├─_TransformerEncoder (transformer): 1-2                     [1, 61, 40]               [1, 61, 40]               --                        --\n",
      "│    └─_TransformerEncoderBlock (0): 2-3                     [1, 61, 40]               [1, 61, 40]               --                        --\n",
      "│    │    └─_ResidualAdd (0): 3-9                            [1, 61, 40]               [1, 61, 40]               6,640                     --\n",
      "│    │    └─_ResidualAdd (1): 3-10                           [1, 61, 40]               [1, 61, 40]               13,080                    --\n",
      "│    └─_TransformerEncoderBlock (1): 2-4                     [1, 61, 40]               [1, 61, 40]               --                        --\n",
      "│    │    └─_ResidualAdd (0): 3-11                           [1, 61, 40]               [1, 61, 40]               6,640                     --\n",
      "│    │    └─_ResidualAdd (1): 3-12                           [1, 61, 40]               [1, 61, 40]               13,080                    --\n",
      "│    └─_TransformerEncoderBlock (2): 2-5                     [1, 61, 40]               [1, 61, 40]               --                        --\n",
      "│    │    └─_ResidualAdd (0): 3-13                           [1, 61, 40]               [1, 61, 40]               6,640                     --\n",
      "│    │    └─_ResidualAdd (1): 3-14                           [1, 61, 40]               [1, 61, 40]               13,080                    --\n",
      "│    └─_TransformerEncoderBlock (3): 2-6                     [1, 61, 40]               [1, 61, 40]               --                        --\n",
      "│    │    └─_ResidualAdd (0): 3-15                           [1, 61, 40]               [1, 61, 40]               6,640                     --\n",
      "│    │    └─_ResidualAdd (1): 3-16                           [1, 61, 40]               [1, 61, 40]               13,080                    --\n",
      "│    └─_TransformerEncoderBlock (4): 2-7                     [1, 61, 40]               [1, 61, 40]               --                        --\n",
      "│    │    └─_ResidualAdd (0): 3-17                           [1, 61, 40]               [1, 61, 40]               6,640                     --\n",
      "│    │    └─_ResidualAdd (1): 3-18                           [1, 61, 40]               [1, 61, 40]               13,080                    --\n",
      "│    └─_TransformerEncoderBlock (5): 2-8                     [1, 61, 40]               [1, 61, 40]               --                        --\n",
      "│    │    └─_ResidualAdd (0): 3-19                           [1, 61, 40]               [1, 61, 40]               6,640                     --\n",
      "│    │    └─_ResidualAdd (1): 3-20                           [1, 61, 40]               [1, 61, 40]               13,080                    --\n",
      "├─_FullyConnected (fc): 1-3                                  [1, 61, 40]               [1, 32]                   --                        --\n",
      "│    └─Sequential (fc): 2-9                                  [1, 2440]                 [1, 32]                   --                        --\n",
      "│    │    └─Linear (0): 3-21                                 [1, 2440]                 [1, 256]                  624,896                   --\n",
      "│    │    └─ELU (1): 3-22                                    [1, 256]                  [1, 256]                  --                        --\n",
      "│    │    └─Dropout (2): 3-23                                [1, 256]                  [1, 256]                  --                        --\n",
      "│    │    └─Linear (3): 3-24                                 [1, 256]                  [1, 32]                   8,224                     --\n",
      "│    │    └─ELU (4): 3-25                                    [1, 32]                   [1, 32]                   --                        --\n",
      "│    │    └─Dropout (5): 3-26                                [1, 32]                   [1, 32]                   --                        --\n",
      "├─_FinalLayer (final_layer): 1-4                             [1, 32]                   [1, 4]                    --                        --\n",
      "│    └─Sequential (final_layer): 2-10                        [1, 32]                   [1, 4]                    --                        --\n",
      "│    │    └─Linear (0): 3-27                                 [1, 32]                   [1, 4]                    132                       --\n",
      "│    │    └─LogSoftmax (classification): 3-28                [1, 4]                    [1, 4]                    --                        --\n",
      "================================================================================================================================================================\n",
      "Total params: 789,572\n",
      "Trainable params: 789,572\n",
      "Non-trainable params: 0\n",
      "Total mult-adds (Units.MEGABYTES): 57.58\n",
      "================================================================================================================================================================\n",
      "Input size (MB): 0.09\n",
      "Forward/backward pass size (MB): 8.81\n",
      "Params size (MB): 3.16\n",
      "Estimated Total Size (MB): 12.05\n",
      "================================================================================================================================================================\n"
     ]
    }
   ],
   "source": [
    "print(model2)"
   ]
  },
  {
   "cell_type": "code",
   "execution_count": 5,
   "metadata": {},
   "outputs": [
    {
     "name": "stdout",
     "output_type": "stream",
     "text": [
      "============================================================================================================================================\n",
      "Layer (type (var_name):depth-idx)        Input Shape               Output Shape              Param #                   Kernel Shape\n",
      "============================================================================================================================================\n",
      "ShallowFBCSPNet (ShallowFBCSPNet)        [1, 22, 1125]             [1, 4]                    --                        --\n",
      "├─SafeLog (pool_nonlin_exp): 1-1         [1, 22, 1125]             [1, 22, 1125]             --                        --\n",
      "├─Ensure4d (ensuredims): 1-2             [1, 22, 1125]             [1, 22, 1125, 1]          --                        --\n",
      "├─Rearrange (dimshuffle): 1-3            [1, 22, 1125, 1]          [1, 1, 1125, 22]          --                        --\n",
      "├─Conv2d (conv_time): 1-4                [1, 1, 1125, 22]          [1, 40, 1101, 22]         1,040                     [25, 1]\n",
      "├─Conv2d (conv_spat): 1-5                [1, 40, 1101, 22]         [1, 40, 1101, 1]          35,200                    [1, 22]\n",
      "├─BatchNorm2d (bnorm): 1-6               [1, 40, 1101, 1]          [1, 40, 1101, 1]          80                        --\n",
      "├─Expression (conv_nonlin_exp): 1-7      [1, 40, 1101, 1]          [1, 40, 1101, 1]          --                        --\n",
      "├─AvgPool2d (pool): 1-8                  [1, 40, 1101, 1]          [1, 40, 69, 1]            --                        [75, 1]\n",
      "├─SafeLog (pool_nonlin_exp): 1-9         [1, 40, 69, 1]            [1, 40, 69, 1]            --                        --\n",
      "├─Dropout (drop): 1-10                   [1, 40, 69, 1]            [1, 40, 69, 1]            --                        --\n",
      "├─Sequential (final_layer): 1-11         [1, 40, 69, 1]            [1, 4]                    --                        --\n",
      "│    └─Conv2d (conv_classifier): 2-1     [1, 40, 69, 1]            [1, 4, 1, 1]              11,044                    [69, 1]\n",
      "│    └─Expression (squeeze): 2-2         [1, 4, 1, 1]              [1, 4]                    --                        --\n",
      "============================================================================================================================================\n",
      "Total params: 47,364\n",
      "Trainable params: 47,364\n",
      "Non-trainable params: 0\n",
      "Total mult-adds (Units.MEGABYTES): 63.96\n",
      "============================================================================================================================================\n",
      "Input size (MB): 0.10\n",
      "Forward/backward pass size (MB): 8.46\n",
      "Params size (MB): 0.19\n",
      "Estimated Total Size (MB): 8.74\n",
      "============================================================================================================================================\n"
     ]
    }
   ],
   "source": [
    "print(model)"
   ]
  },
  {
   "cell_type": "code",
   "execution_count": 12,
   "metadata": {},
   "outputs": [],
   "source": [
    "import os\n",
    "import torch\n",
    "\n",
    "def extract_model_activations(model, input_tensor, output_dir, batch_size=128):\n",
    "    if not os.path.exists(output_dir):\n",
    "        os.makedirs(output_dir)\n",
    "\n",
    "    activations = OrderedDict()\n",
    "\n",
    "    def get_activation(name):\n",
    "        def hook(model, input, output):\n",
    "            activations[name] = output.detach()\n",
    "        return hook\n",
    "\n",
    "    # Register hooks for specific layers\n",
    "    for name, layer in model.named_modules():\n",
    "        if name == \"conv_time\" or name == \"conv_spat\" or name ==\"pool\" or name == \"patch_embedding.shallownet.0\" or  name == \"patch_embedding.shallownet.1\" or  name == \"patch_embedding.shallownet.4\" :  # Modify as per your layer names\n",
    "            layer.register_forward_hook(get_activation(name))\n",
    "\n",
    "    model.eval()\n",
    "\n",
    "    with torch.no_grad():\n",
    "        for i in range(0, input_tensor.shape[0], batch_size):\n",
    "            batch = input_tensor[i:i + batch_size]  # Select current batch\n",
    "            _ = model(batch)  # Forward pass through the model\n",
    "\n",
    "            # Save activations after each batch\n",
    "            for name, activation in activations.items():\n",
    "                batch_idx = i // batch_size + 1  # This determines the batch number\n",
    "                print(f\"saving: {name}_batch_{batch_idx}.pt\")\n",
    "                torch.save(activation, os.path.join(output_dir, f\"{name}_batch_{batch_idx}.pt\"))\n",
    "            \n",
    "            # Clear activations list after saving\n",
    "            activations.clear()\n",
    "            torch.cuda.empty_cache()  # Optional: Clear GPU memory after each batch\n",
    "\n"
   ]
  },
  {
   "cell_type": "code",
   "execution_count": 13,
   "metadata": {},
   "outputs": [],
   "source": [
    "import pickle\n",
    "with open('Datasets/test_set.pkl', 'rb') as f:\n",
    "    test_set = pickle.load(f)"
   ]
  },
  {
   "cell_type": "code",
   "execution_count": 14,
   "metadata": {},
   "outputs": [
    {
     "name": "stdout",
     "output_type": "stream",
     "text": [
      "torch.Size([2592, 22, 1125])\n",
      "<class 'torch.Tensor'>\n"
     ]
    }
   ],
   "source": [
    "X = torch.stack([torch.from_numpy(test_set[i][0]) for i in range(len(test_set))])\n",
    "\n",
    "total_samples = X.shape[0]\n",
    "print(X.shape)  # Verify the tensor shape\n",
    "print(type(X))  # Should output <class 'torch.Tensor'>\n"
   ]
  },
  {
   "cell_type": "code",
   "execution_count": 15,
   "metadata": {},
   "outputs": [
    {
     "name": "stdout",
     "output_type": "stream",
     "text": [
      "cpu\n",
      "cpu\n"
     ]
    }
   ],
   "source": [
    "print(model.conv_time.weight.device)  # Check the device of the conv_time layer\n",
    "print(next(model.parameters()).device)\n"
   ]
  },
  {
   "cell_type": "code",
   "execution_count": 16,
   "metadata": {},
   "outputs": [
    {
     "name": "stdout",
     "output_type": "stream",
     "text": [
      "2592\n"
     ]
    }
   ],
   "source": [
    "\n",
    "batch_size = 128\n",
    "total_samples = X.shape[0]\n",
    "print(total_samples)"
   ]
  },
  {
   "cell_type": "code",
   "execution_count": 17,
   "metadata": {},
   "outputs": [
    {
     "name": "stdout",
     "output_type": "stream",
     "text": [
      "saving: conv_time_batch_1.pt\n",
      "saving: conv_spat_batch_1.pt\n",
      "saving: pool_batch_1.pt\n",
      "saving: conv_time_batch_2.pt\n",
      "saving: conv_spat_batch_2.pt\n",
      "saving: pool_batch_2.pt\n",
      "saving: conv_time_batch_3.pt\n",
      "saving: conv_spat_batch_3.pt\n",
      "saving: pool_batch_3.pt\n",
      "saving: conv_time_batch_4.pt\n",
      "saving: conv_spat_batch_4.pt\n",
      "saving: pool_batch_4.pt\n",
      "saving: conv_time_batch_5.pt\n",
      "saving: conv_spat_batch_5.pt\n",
      "saving: pool_batch_5.pt\n",
      "saving: conv_time_batch_6.pt\n",
      "saving: conv_spat_batch_6.pt\n",
      "saving: pool_batch_6.pt\n",
      "saving: conv_time_batch_7.pt\n",
      "saving: conv_spat_batch_7.pt\n",
      "saving: pool_batch_7.pt\n",
      "saving: conv_time_batch_8.pt\n",
      "saving: conv_spat_batch_8.pt\n",
      "saving: pool_batch_8.pt\n",
      "saving: conv_time_batch_9.pt\n",
      "saving: conv_spat_batch_9.pt\n",
      "saving: pool_batch_9.pt\n",
      "saving: conv_time_batch_10.pt\n",
      "saving: conv_spat_batch_10.pt\n",
      "saving: pool_batch_10.pt\n",
      "saving: conv_time_batch_11.pt\n",
      "saving: conv_spat_batch_11.pt\n",
      "saving: pool_batch_11.pt\n",
      "saving: conv_time_batch_12.pt\n",
      "saving: conv_spat_batch_12.pt\n",
      "saving: pool_batch_12.pt\n",
      "saving: conv_time_batch_13.pt\n",
      "saving: conv_spat_batch_13.pt\n",
      "saving: pool_batch_13.pt\n",
      "saving: conv_time_batch_14.pt\n",
      "saving: conv_spat_batch_14.pt\n",
      "saving: pool_batch_14.pt\n",
      "saving: conv_time_batch_15.pt\n",
      "saving: conv_spat_batch_15.pt\n",
      "saving: pool_batch_15.pt\n",
      "saving: conv_time_batch_16.pt\n",
      "saving: conv_spat_batch_16.pt\n",
      "saving: pool_batch_16.pt\n",
      "saving: conv_time_batch_17.pt\n",
      "saving: conv_spat_batch_17.pt\n",
      "saving: pool_batch_17.pt\n",
      "saving: conv_time_batch_18.pt\n",
      "saving: conv_spat_batch_18.pt\n",
      "saving: pool_batch_18.pt\n",
      "saving: conv_time_batch_19.pt\n",
      "saving: conv_spat_batch_19.pt\n",
      "saving: pool_batch_19.pt\n",
      "saving: conv_time_batch_20.pt\n",
      "saving: conv_spat_batch_20.pt\n",
      "saving: pool_batch_20.pt\n",
      "saving: conv_time_batch_21.pt\n",
      "saving: conv_spat_batch_21.pt\n",
      "saving: pool_batch_21.pt\n"
     ]
    }
   ],
   "source": [
    "extract_model_activations(model,X,output_dir=\"Datasets/activations/model1/\",batch_size=batch_size)\n"
   ]
  },
  {
   "cell_type": "code",
   "execution_count": 22,
   "metadata": {},
   "outputs": [
    {
     "data": {
      "text/plain": [
       "tensor([[[ 0.7572,  0.2350, -0.6641,  ..., -0.5319, -0.7245, -0.7503],\n",
       "         [ 0.9262,  0.3819, -0.6817,  ..., -0.1393, -0.6566, -1.0515],\n",
       "         [ 0.7173,  0.1305, -0.8557,  ..., -0.5107, -0.9155, -1.1805],\n",
       "         ...,\n",
       "         [ 1.0485,  0.3779, -0.4664,  ...,  0.3598, -0.3712, -1.1172],\n",
       "         [ 1.2797,  0.5733, -0.3778,  ...,  0.2856, -0.4021, -1.0165],\n",
       "         [ 0.8957,  0.2404, -0.4676,  ...,  0.4036, -0.2375, -0.9484]],\n",
       "\n",
       "        [[-0.9802, -0.4504,  0.0736,  ...,  0.3706,  0.5285,  0.3389],\n",
       "         [-1.4601, -1.0182, -0.3219,  ..., -0.1469,  0.0648, -0.0264],\n",
       "         [-1.1477, -0.5098,  0.1589,  ..., -0.0585,  0.2614,  0.2788],\n",
       "         ...,\n",
       "         [-0.4758,  0.5283,  1.1812,  ...,  0.9263,  1.3226,  1.0898],\n",
       "         [-0.3593,  0.6378,  1.2573,  ...,  0.9938,  1.5093,  1.3627],\n",
       "         [-0.5109,  0.2467,  0.6979,  ...,  1.1527,  1.4732,  1.1049]],\n",
       "\n",
       "        [[ 0.4521,  0.7261,  0.6770,  ..., -0.2889, -0.1052,  0.1011],\n",
       "         [ 0.2186,  0.4495,  0.5285,  ...,  0.4125,  0.4902,  0.5902],\n",
       "         [ 0.5603,  0.7842,  0.7323,  ...,  0.6483,  0.7993,  0.7785],\n",
       "         ...,\n",
       "         [-0.2137,  0.3185,  0.7104,  ...,  0.5366,  0.5874,  0.6196],\n",
       "         [-0.6201,  0.0199,  0.6331,  ...,  0.3960,  0.5264,  0.6682],\n",
       "         [-0.7416, -0.3719,  0.1128,  ...,  0.2053,  0.2427,  0.1733]],\n",
       "\n",
       "        ...,\n",
       "\n",
       "        [[ 0.0495,  0.3065,  0.4414,  ..., -0.2198, -0.5875, -0.8513],\n",
       "         [ 0.3248,  0.6201,  0.8071,  ...,  0.7097,  0.0926, -0.3555],\n",
       "         [ 0.3012,  0.5114,  0.6709,  ...,  0.5210,  0.1557, -0.1174],\n",
       "         ...,\n",
       "         [-0.1567,  0.2791,  0.8017,  ...,  1.0425,  0.8891,  0.8537],\n",
       "         [-0.5728, -0.1445,  0.4562,  ...,  1.3331,  1.1346,  1.0664],\n",
       "         [-0.2535,  0.0991,  0.5127,  ...,  0.7289,  0.6463,  0.7046]],\n",
       "\n",
       "        [[ 0.0580,  0.2153,  0.3110,  ..., -1.0460, -1.0187, -0.9211],\n",
       "         [-0.3862, -0.1068,  0.0457,  ..., -1.9495, -2.2084, -2.1537],\n",
       "         [-0.2933, -0.0338,  0.0633,  ..., -1.5380, -1.7322, -1.7680],\n",
       "         ...,\n",
       "         [-1.3352, -1.1410, -0.6969,  ..., -0.3781, -0.3734, -0.2712],\n",
       "         [-1.2163, -1.0926, -0.6995,  ..., -0.0216, -0.1259, -0.1892],\n",
       "         [-1.6919, -1.4101, -0.7988,  ..., -0.3106, -0.2762, -0.1731]],\n",
       "\n",
       "        [[ 0.1959,  0.6890,  1.1407,  ...,  0.1306,  0.0291,  0.0729],\n",
       "         [ 0.2654,  0.7189,  1.1958,  ...,  0.7453,  0.5898,  0.3978],\n",
       "         [ 0.0633,  0.5646,  1.0661,  ...,  0.6156,  0.4006,  0.1933],\n",
       "         ...,\n",
       "         [-0.0266,  0.6166,  1.1975,  ..., -0.1614, -0.1827, -0.2757],\n",
       "         [ 0.2236,  0.8697,  1.4261,  ..., -0.2446, -0.1389, -0.1035],\n",
       "         [-0.5090,  0.1842,  0.8890,  ..., -0.3589, -0.2532, -0.1945]]])"
      ]
     },
     "execution_count": 22,
     "metadata": {},
     "output_type": "execute_result"
    }
   ],
   "source": [
    "from scipy.signal import resample\n",
    "resampled_input = torch.from_numpy(resample(X, num=1000, axis=-1))\n",
    "resampled_input"
   ]
  },
  {
   "cell_type": "code",
   "execution_count": 23,
   "metadata": {},
   "outputs": [
    {
     "name": "stdout",
     "output_type": "stream",
     "text": [
      "saving: patch_embedding.shallownet.0_batch_1.pt\n",
      "saving: patch_embedding.shallownet.1_batch_1.pt\n",
      "saving: patch_embedding.shallownet.4_batch_1.pt\n",
      "saving: patch_embedding.shallownet.0_batch_2.pt\n",
      "saving: patch_embedding.shallownet.1_batch_2.pt\n",
      "saving: patch_embedding.shallownet.4_batch_2.pt\n",
      "saving: patch_embedding.shallownet.0_batch_3.pt\n",
      "saving: patch_embedding.shallownet.1_batch_3.pt\n",
      "saving: patch_embedding.shallownet.4_batch_3.pt\n",
      "saving: patch_embedding.shallownet.0_batch_4.pt\n",
      "saving: patch_embedding.shallownet.1_batch_4.pt\n",
      "saving: patch_embedding.shallownet.4_batch_4.pt\n",
      "saving: patch_embedding.shallownet.0_batch_5.pt\n",
      "saving: patch_embedding.shallownet.1_batch_5.pt\n",
      "saving: patch_embedding.shallownet.4_batch_5.pt\n",
      "saving: patch_embedding.shallownet.0_batch_6.pt\n",
      "saving: patch_embedding.shallownet.1_batch_6.pt\n",
      "saving: patch_embedding.shallownet.4_batch_6.pt\n",
      "saving: patch_embedding.shallownet.0_batch_7.pt\n",
      "saving: patch_embedding.shallownet.1_batch_7.pt\n",
      "saving: patch_embedding.shallownet.4_batch_7.pt\n",
      "saving: patch_embedding.shallownet.0_batch_8.pt\n",
      "saving: patch_embedding.shallownet.1_batch_8.pt\n",
      "saving: patch_embedding.shallownet.4_batch_8.pt\n",
      "saving: patch_embedding.shallownet.0_batch_9.pt\n",
      "saving: patch_embedding.shallownet.1_batch_9.pt\n",
      "saving: patch_embedding.shallownet.4_batch_9.pt\n",
      "saving: patch_embedding.shallownet.0_batch_10.pt\n",
      "saving: patch_embedding.shallownet.1_batch_10.pt\n",
      "saving: patch_embedding.shallownet.4_batch_10.pt\n",
      "saving: patch_embedding.shallownet.0_batch_11.pt\n",
      "saving: patch_embedding.shallownet.1_batch_11.pt\n",
      "saving: patch_embedding.shallownet.4_batch_11.pt\n",
      "saving: patch_embedding.shallownet.0_batch_12.pt\n",
      "saving: patch_embedding.shallownet.1_batch_12.pt\n",
      "saving: patch_embedding.shallownet.4_batch_12.pt\n",
      "saving: patch_embedding.shallownet.0_batch_13.pt\n",
      "saving: patch_embedding.shallownet.1_batch_13.pt\n",
      "saving: patch_embedding.shallownet.4_batch_13.pt\n",
      "saving: patch_embedding.shallownet.0_batch_14.pt\n",
      "saving: patch_embedding.shallownet.1_batch_14.pt\n",
      "saving: patch_embedding.shallownet.4_batch_14.pt\n",
      "saving: patch_embedding.shallownet.0_batch_15.pt\n",
      "saving: patch_embedding.shallownet.1_batch_15.pt\n",
      "saving: patch_embedding.shallownet.4_batch_15.pt\n",
      "saving: patch_embedding.shallownet.0_batch_16.pt\n",
      "saving: patch_embedding.shallownet.1_batch_16.pt\n",
      "saving: patch_embedding.shallownet.4_batch_16.pt\n",
      "saving: patch_embedding.shallownet.0_batch_17.pt\n",
      "saving: patch_embedding.shallownet.1_batch_17.pt\n",
      "saving: patch_embedding.shallownet.4_batch_17.pt\n",
      "saving: patch_embedding.shallownet.0_batch_18.pt\n",
      "saving: patch_embedding.shallownet.1_batch_18.pt\n",
      "saving: patch_embedding.shallownet.4_batch_18.pt\n",
      "saving: patch_embedding.shallownet.0_batch_19.pt\n",
      "saving: patch_embedding.shallownet.1_batch_19.pt\n",
      "saving: patch_embedding.shallownet.4_batch_19.pt\n",
      "saving: patch_embedding.shallownet.0_batch_20.pt\n",
      "saving: patch_embedding.shallownet.1_batch_20.pt\n",
      "saving: patch_embedding.shallownet.4_batch_20.pt\n",
      "saving: patch_embedding.shallownet.0_batch_21.pt\n",
      "saving: patch_embedding.shallownet.1_batch_21.pt\n",
      "saving: patch_embedding.shallownet.4_batch_21.pt\n"
     ]
    }
   ],
   "source": [
    "extract_model_activations(model2,resampled_input,output_dir=\"Datasets/activations/model2/\",batch_size=batch_size)"
   ]
  },
  {
   "cell_type": "code",
   "execution_count": 24,
   "metadata": {},
   "outputs": [
    {
     "name": "stderr",
     "output_type": "stream",
     "text": [
      "C:\\Users\\ahmm9\\AppData\\Local\\Temp\\ipykernel_11988\\4051774759.py:1: FutureWarning: You are using `torch.load` with `weights_only=False` (the current default value), which uses the default pickle module implicitly. It is possible to construct malicious pickle data which will execute arbitrary code during unpickling (See https://github.com/pytorch/pytorch/blob/main/SECURITY.md#untrusted-models for more details). In a future release, the default value for `weights_only` will be flipped to `True`. This limits the functions that could be executed during unpickling. Arbitrary objects will no longer be allowed to be loaded via this mode unless they are explicitly allowlisted by the user via `torch.serialization.add_safe_globals`. We recommend you start setting `weights_only=True` for any use case where you don't have full control of the loaded file. Please open an issue on GitHub for any issues related to this experimental feature.\n",
      "  length = torch.load(f\"Datasets/activations/model1/conv_time_batch_{3}.pt\")\n"
     ]
    },
    {
     "name": "stdout",
     "output_type": "stream",
     "text": [
      "torch.Size([128, 40, 1101, 22])\n"
     ]
    }
   ],
   "source": [
    "length = torch.load(f\"Datasets/activations/model1/conv_time_batch_{3}.pt\")\n",
    "print(length.shape)"
   ]
  },
  {
   "cell_type": "code",
   "execution_count": 25,
   "metadata": {},
   "outputs": [
    {
     "name": "stdout",
     "output_type": "stream",
     "text": [
      "['conv_time', 'conv_spat', 'pool']\n",
      "['patch_embedding.shallownet.0', 'patch_embedding.shallownet.1', 'patch_embedding.shallownet.4']\n"
     ]
    }
   ],
   "source": [
    "import numpy as np\n",
    "import pandas as pd\n",
    "import seaborn as sns\n",
    "import matplotlib.pyplot as plt\n",
    "from collections import OrderedDict\n",
    "del X\n",
    "# Use OrderedDict to preserve the order of layer names\n",
    "layer_names_model1 = ['conv_time', 'conv_spat','pool']\n",
    "layer_names_model2 = [\"patch_embedding.shallownet.0\",\"patch_embedding.shallownet.1\",\"patch_embedding.shallownet.4\"]\n",
    "\n",
    "\n",
    "print(layer_names_model1)\n",
    "print(layer_names_model2)"
   ]
  },
  {
   "cell_type": "code",
   "execution_count": 26,
   "metadata": {},
   "outputs": [
    {
     "data": {
      "text/plain": [
       "20.25"
      ]
     },
     "execution_count": 26,
     "metadata": {},
     "output_type": "execute_result"
    }
   ],
   "source": [
    "import math\n",
    "batch_nr = total_samples /batch_size\n",
    "\n",
    "batch_nr"
   ]
  },
  {
   "cell_type": "code",
   "execution_count": 27,
   "metadata": {},
   "outputs": [],
   "source": [
    "\n",
    "\n",
    "\n",
    "\n",
    "def compute_kernel_full_highmem(layer, batch_nr, model_number):\n",
    "    \"\"\"Computes the linear kernel for all samples at once.\"\"\"\n",
    "    \n",
    "\n",
    "    activations_list = []\n",
    "    \n",
    "    for batch_idx in range(1, math.ceil(batch_nr+1)):\n",
    "        print(f\"\\rLoading batch {batch_idx} for {layer} in model {model_number}\", end='', flush=True)\n",
    "        \n",
    "\n",
    "        batch_activations = torch.load(f\"Datasets/activations/model{model_number}/{layer}_batch_{batch_idx}.pt\")\n",
    "        batch_activations = batch_activations.reshape(batch_activations.shape[0], -1)  # Flatten\n",
    "        \n",
    "        activations_list.append(batch_activations)\n",
    "    \n",
    "    all_activations = torch.cat(activations_list, dim=0)\n",
    "    print(\"\\nFinal Activations Shape:\", all_activations.shape)\n",
    "\n",
    "    full_kernel = torch.matmul(all_activations, all_activations.T)\n",
    "\n",
    "    return full_kernel\n",
    "\n",
    "# model_1_kernels = OrderedDict()\n",
    "# model_2_kernels = OrderedDict()\n",
    "\n",
    "# for layer in layer_names_model1:\n",
    "#     model_1_kernels[layer] = compute_kernel_full_highmem(layer, batch_nr,1)\n",
    "# for layer in layer_names_model2:\n",
    "#     model_2_kernels[layer] = compute_kernel_full_highmem(layer,batch_nr,2)\n",
    "\n",
    "\n",
    "\n",
    "\n",
    "\n"
   ]
  },
  {
   "cell_type": "code",
   "execution_count": 29,
   "metadata": {},
   "outputs": [
    {
     "name": "stdout",
     "output_type": "stream",
     "text": [
      "Loading batches 1-4 for conv_time in model 1"
     ]
    },
    {
     "name": "stderr",
     "output_type": "stream",
     "text": [
      "C:\\Users\\ahmm9\\AppData\\Local\\Temp\\ipykernel_11988\\3079511491.py:21: FutureWarning: You are using `torch.load` with `weights_only=False` (the current default value), which uses the default pickle module implicitly. It is possible to construct malicious pickle data which will execute arbitrary code during unpickling (See https://github.com/pytorch/pytorch/blob/main/SECURITY.md#untrusted-models for more details). In a future release, the default value for `weights_only` will be flipped to `True`. This limits the functions that could be executed during unpickling. Arbitrary objects will no longer be allowed to be loaded via this mode unless they are explicitly allowlisted by the user via `torch.serialization.add_safe_globals`. We recommend you start setting `weights_only=True` for any use case where you don't have full control of the loaded file. Please open an issue on GitHub for any issues related to this experimental feature.\n",
      "  batch_activations = torch.load(\n",
      "C:\\Users\\ahmm9\\AppData\\Local\\Temp\\ipykernel_11988\\3079511491.py:41: FutureWarning: You are using `torch.load` with `weights_only=False` (the current default value), which uses the default pickle module implicitly. It is possible to construct malicious pickle data which will execute arbitrary code during unpickling (See https://github.com/pytorch/pytorch/blob/main/SECURITY.md#untrusted-models for more details). In a future release, the default value for `weights_only` will be flipped to `True`. This limits the functions that could be executed during unpickling. Arbitrary objects will no longer be allowed to be loaded via this mode unless they are explicitly allowlisted by the user via `torch.serialization.add_safe_globals`. We recommend you start setting `weights_only=True` for any use case where you don't have full control of the loaded file. Please open an issue on GitHub for any issues related to this experimental feature.\n",
      "  batch_activations_transpose = torch.load(\n"
     ]
    },
    {
     "name": "stdout",
     "output_type": "stream",
     "text": [
      "Loading batches 21-24 for patch_embedding.shallownet.4 in model 2"
     ]
    }
   ],
   "source": [
    "def compute_kernel_full_lowmem(layer, batch_nr, model_number, total_samples, batch_size, n_batches=1, use_cuda=False):\n",
    "    \"\"\"Computes the full kernel matrix in batches efficiently using matrix multiplication.\"\"\"\n",
    "    \n",
    "    device = torch.device(\"cuda\" if use_cuda and torch.cuda.is_available() else \"cpu\")\n",
    "\n",
    "    full_kernel = torch.zeros((total_samples, total_samples), dtype=torch.float32, device=device)\n",
    "    \n",
    "    for batch_idx in range(1, math.ceil(math.ceil(batch_nr) / n_batches) + 1):\n",
    "        print(f\"\\rLoading batches {batch_idx * n_batches - (n_batches - 1)}-{batch_idx * n_batches} for {layer} in model {model_number}\", \n",
    "              end='', flush=True)\n",
    "\n",
    "        batch_activations_list = []\n",
    "        start_idx_col = (batch_idx - 1) * batch_size * n_batches\n",
    "        end_idx_col = min(start_idx_col + batch_size * n_batches, total_samples)  \n",
    "\n",
    "        # Load multiple batches at once\n",
    "        for sub_batch in range(n_batches):\n",
    "            batch_file_idx = (batch_idx - 1) * n_batches + sub_batch + 1\n",
    "            if batch_file_idx > math.ceil(batch_nr):\n",
    "                break\n",
    "            batch_activations = torch.load(\n",
    "                f\"Datasets/activations/model{model_number}/{layer}_batch_{batch_file_idx}.pt\"\n",
    "            ).to(device)\n",
    "            batch_activations_list.append(batch_activations.reshape(batch_activations.shape[0], -1))\n",
    "\n",
    "        if not batch_activations_list:\n",
    "            continue\n",
    "\n",
    "        batch_activations = torch.cat(batch_activations_list, dim=0)  # Merge batches\n",
    "\n",
    "        for batch_idx2 in range(1, math.ceil(math.ceil(batch_nr) / n_batches) + 2):\n",
    "            batch_activations_transpose_list = []\n",
    "            start_idx_row = (batch_idx2 - 1) * batch_size * n_batches\n",
    "            end_idx_row = min(start_idx_row + batch_size * n_batches, total_samples)\n",
    "\n",
    "            # Load multiple batches at once\n",
    "            for sub_batch2 in range(n_batches):\n",
    "                batch_file_idx2 = (batch_idx2 - 1) * n_batches + sub_batch2 + 1\n",
    "                if batch_file_idx2 > math.ceil(batch_nr):\n",
    "                    break\n",
    "                batch_activations_transpose = torch.load(\n",
    "                    f\"Datasets/activations/model{model_number}/{layer}_batch_{batch_file_idx2}.pt\"\n",
    "                ).to(device)\n",
    "                batch_activations_transpose_list.append(batch_activations_transpose.reshape(batch_activations_transpose.shape[0], -1))\n",
    "\n",
    "            if not batch_activations_transpose_list:\n",
    "                continue\n",
    "\n",
    "            batch_activations_transpose = torch.cat(batch_activations_transpose_list, dim=0)\n",
    "\n",
    "            kernel_block = batch_activations @ batch_activations_transpose.T\n",
    "            full_kernel[start_idx_col:end_idx_col, start_idx_row:end_idx_row] = kernel_block\n",
    "            full_kernel[start_idx_row:end_idx_row, start_idx_col:end_idx_col] = kernel_block.T  # Use symmetry\n",
    "\n",
    "    return full_kernel.cpu()\n",
    "\n",
    "\n",
    "def compute_full_kernels(layer_names_model1, layer_names_model2, batch_nr, total_samples,batch_size,n_batches):\n",
    "    \"\"\"Computes the kernels for both models.\"\"\"\n",
    "    model_1_kernels = {}\n",
    "    model_2_kernels = {}\n",
    "\n",
    "    # Compute kernels for model 1\n",
    "    for layer in layer_names_model1:\n",
    "        model_1_kernels[layer] = compute_kernel_full_lowmem(layer, batch_nr, 1, total_samples,batch_size,n_batches)\n",
    "\n",
    "    # Compute kernels for model 2\n",
    "    for layer in layer_names_model2:\n",
    "        model_2_kernels[layer] = compute_kernel_full_lowmem(layer, batch_nr, 2, total_samples,batch_size,n_batches)\n",
    "\n",
    "    return model_1_kernels, model_2_kernels\n",
    "\n",
    "model_1_kernels = OrderedDict()\n",
    "model_2_kernels = OrderedDict()\n",
    "layer_names_model = layer_names_model1 \n",
    "\n",
    "    \n",
    "model_1_kernels, model_2_kernels = compute_full_kernels(layer_names_model1, layer_names_model2, batch_nr,total_samples,batch_size,4)"
   ]
  },
  {
   "cell_type": "code",
   "execution_count": 41,
   "metadata": {},
   "outputs": [],
   "source": [
    "model_1_kernels_mean = {\n",
    "    key: tensor - tensor.mean()\n",
    "    for key, tensor in model_1_kernels.items()\n",
    "}\n",
    "\n",
    "model_2_kernels_mean = {\n",
    "    key: tensor - tensor.mean()\n",
    "    for key, tensor in model_2_kernels.items()\n",
    "}"
   ]
  },
  {
   "cell_type": "code",
   "execution_count": 42,
   "metadata": {},
   "outputs": [
    {
     "data": {
      "text/plain": [
       "{'conv_time': tensor([[3076525.5000, -113278.2500,  434241.0000,  ...,  -76649.7500,\n",
       "           -33992.2500, -308219.0000],\n",
       "         [-113278.2500, 3238203.0000,   93663.2500,  ...,  411449.5000,\n",
       "            32982.5000,  -27320.5000],\n",
       "         [ 434241.0000,   93663.2500, 3455234.0000,  ...,  335064.5000,\n",
       "            41526.0000, -117522.5000],\n",
       "         ...,\n",
       "         [ -76649.7500,  411449.5000,  335064.5000,  ..., 3740529.0000,\n",
       "             3751.2500,  167064.5000],\n",
       "         [ -33992.2500,   32982.5000,   41526.0000,  ...,    3751.2500,\n",
       "          3223613.5000,  -59523.2500],\n",
       "         [-308219.0000,  -27320.5000, -117522.5000,  ...,  167065.0000,\n",
       "           -59523.2500, 3206920.5000]]),\n",
       " 'conv_spat': tensor([[ 6.7294e+04, -1.7543e+03,  4.2395e+03,  ..., -3.2868e+02,\n",
       "          -2.1558e+03, -1.6089e+03],\n",
       "         [-1.7543e+03,  6.1615e+04,  1.2975e+03,  ...,  3.9466e+03,\n",
       "          -2.0516e+03, -5.1857e+02],\n",
       "         [ 4.2395e+03,  1.2975e+03,  6.3833e+04,  ...,  1.2998e+03,\n",
       "          -2.2578e+03, -8.8761e+02],\n",
       "         ...,\n",
       "         [-3.2868e+02,  3.9466e+03,  1.2998e+03,  ...,  5.9949e+04,\n",
       "          -1.4316e+01, -2.1785e+02],\n",
       "         [-2.1558e+03, -2.0516e+03, -2.2578e+03,  ..., -1.4316e+01,\n",
       "           7.2673e+04, -9.1861e+02],\n",
       "         [-1.6089e+03, -5.1857e+02, -8.8761e+02,  ..., -2.1786e+02,\n",
       "          -9.1861e+02,  6.7321e+04]]),\n",
       " 'pool': tensor([[1351.4543,  578.5671,  528.5127,  ...,   69.8857, 1242.9915,\n",
       "           987.4031],\n",
       "         [ 578.5671,  501.5063,  182.0315,  ..., -222.9255,  823.1741,\n",
       "           559.1951],\n",
       "         [ 528.5127,  182.0315,  470.2117,  ..., -227.2434,  731.7986,\n",
       "           544.4939],\n",
       "         ...,\n",
       "         [  69.8857, -222.9255, -227.2434,  ..., -227.9197,  372.6099,\n",
       "           100.8899],\n",
       "         [1242.9915,  823.1741,  731.7986,  ...,  372.6101, 2374.9417,\n",
       "          1304.4695],\n",
       "         [ 987.4031,  559.1951,  544.4939,  ...,  100.8899, 1304.4695,\n",
       "          1609.5051]])}"
      ]
     },
     "execution_count": 42,
     "metadata": {},
     "output_type": "execute_result"
    }
   ],
   "source": [
    "model_1_kernels_mean"
   ]
  },
  {
   "cell_type": "code",
   "execution_count": 43,
   "metadata": {},
   "outputs": [
    {
     "name": "stdout",
     "output_type": "stream",
     "text": [
      "torch.Size([2592, 2592])\n",
      "The tensor contains at least one zero value.\n",
      "tensor([[1351.4543,  578.5671,  528.5127,  ...,   69.8857, 1242.9915,\n",
      "          987.4031],\n",
      "        [ 578.5671,  501.5063,  182.0315,  ..., -222.9255,  823.1741,\n",
      "          559.1951],\n",
      "        [ 528.5127,  182.0315,  470.2117,  ..., -227.2434,  731.7986,\n",
      "          544.4939],\n",
      "        ...,\n",
      "        [  69.8857, -222.9255, -227.2434,  ..., -227.9197,  372.6099,\n",
      "          100.8899],\n",
      "        [1242.9915,  823.1741,  731.7986,  ...,  372.6101, 2374.9417,\n",
      "         1304.4695],\n",
      "        [ 987.4031,  559.1951,  544.4939,  ...,  100.8899, 1304.4695,\n",
      "         1609.5051]])\n"
     ]
    }
   ],
   "source": [
    "\n",
    "print(model_1_kernels_mean[\"conv_time\"].shape)\n",
    "if (model_1_kernels_mean[\"conv_time\"] == 0).any():\n",
    "    print(\"The tensor contains at least one zero value.\")\n",
    "else:\n",
    "    print(\"No zero values in the tensor.\")\n",
    "\n",
    "print(model_1_kernels_mean[\"pool\"])\n"
   ]
  },
  {
   "cell_type": "code",
   "execution_count": 44,
   "metadata": {},
   "outputs": [
    {
     "data": {
      "text/plain": [
       "{'patch_embedding.shallownet.0': tensor([[276718.6875, -12260.5156,  36394.1562,  ..., -26344.1953,\n",
       "            4056.9766, -21161.0547],\n",
       "         [-12260.5156, 283754.7812,   4837.2402,  ...,   7366.8066,\n",
       "            5317.5234,  16137.7695],\n",
       "         [ 36394.1562,   4837.2402, 245235.0156,  ..., -10684.3877,\n",
       "           -5757.5122, -16849.0723],\n",
       "         ...,\n",
       "         [-26344.1953,   7366.8066, -10684.3877,  ..., 220753.7812,\n",
       "          -16346.6689,  10344.8535],\n",
       "         [  4056.9766,   5317.5234,  -5757.5122,  ..., -16346.6699,\n",
       "          216353.1562,   3918.3242],\n",
       "         [-21161.0547,  16137.7695, -16849.0723,  ...,  10344.8535,\n",
       "            3918.3242, 241446.7500]]),\n",
       " 'patch_embedding.shallownet.1': tensor([[50103.6211, -2990.6436,  2839.2119,  ...,  -961.6953,  2414.9897,\n",
       "           -566.7386],\n",
       "         [-2990.6436, 43966.4453,  1339.3416,  ...,   997.7467, -3688.4561,\n",
       "            478.9615],\n",
       "         [ 2839.2119,  1339.3416, 28569.9492,  ...,  -489.7380,   203.9644,\n",
       "            195.5109],\n",
       "         ...,\n",
       "         [ -961.6953,   997.7467,  -489.7380,  ..., 34116.1016, -1035.0986,\n",
       "          -2244.2241],\n",
       "         [ 2414.9897, -3688.4561,   203.9644,  ..., -1035.0984, 48774.3750,\n",
       "          -1971.7305],\n",
       "         [ -566.7386,   478.9615,   195.5109,  ..., -2244.2236, -1971.7305,\n",
       "          49052.9766]]),\n",
       " 'patch_embedding.shallownet.4': tensor([[100.8313,  39.7971,   3.3115,  ...,  -3.0215,  64.8369,  64.3049],\n",
       "         [ 39.7971,  50.4434,  -2.8465,  ...,  -9.0382,  45.5757,  28.8620],\n",
       "         [  3.3115,  -2.8465,  -2.4687,  ..., -21.7326,  -0.6643,  -5.3539],\n",
       "         ...,\n",
       "         [ -3.0215,  -9.0382, -21.7326,  ...,  -0.4812,  -4.8660,  -8.0428],\n",
       "         [ 64.8369,  45.5757,  -0.6643,  ...,  -4.8660, 131.0768,  67.7696],\n",
       "         [ 64.3049,  28.8620,  -5.3539,  ...,  -8.0428,  67.7696, 103.2005]])}"
      ]
     },
     "execution_count": 44,
     "metadata": {},
     "output_type": "execute_result"
    }
   ],
   "source": [
    "model_2_kernels_mean"
   ]
  },
  {
   "cell_type": "code",
   "execution_count": 46,
   "metadata": {},
   "outputs": [
    {
     "name": "stdout",
     "output_type": "stream",
     "text": [
      "torch.Size([2592, 2592])\n",
      "No zero values in the tensor.\n",
      "tensor([[100.8313,  39.7971,   3.3115,  ...,  -3.0215,  64.8369,  64.3049],\n",
      "        [ 39.7971,  50.4434,  -2.8465,  ...,  -9.0382,  45.5757,  28.8620],\n",
      "        [  3.3115,  -2.8465,  -2.4687,  ..., -21.7326,  -0.6643,  -5.3539],\n",
      "        ...,\n",
      "        [ -3.0215,  -9.0382, -21.7326,  ...,  -0.4812,  -4.8660,  -8.0428],\n",
      "        [ 64.8369,  45.5757,  -0.6643,  ...,  -4.8660, 131.0768,  67.7696],\n",
      "        [ 64.3049,  28.8620,  -5.3539,  ...,  -8.0428,  67.7696, 103.2005]])\n"
     ]
    }
   ],
   "source": [
    "\n",
    "print(model_2_kernels_mean[\"patch_embedding.shallownet.4\"].shape)\n",
    "if (model_2_kernels_mean[\"patch_embedding.shallownet.4\"] == 0).any():\n",
    "    print(\"The tensor contains at least one zero value.\")\n",
    "else:\n",
    "    print(\"No zero values in the tensor.\")\n",
    "\n",
    "print(model_2_kernels_mean[\"patch_embedding.shallownet.4\"])"
   ]
  },
  {
   "cell_type": "code",
   "execution_count": 48,
   "metadata": {},
   "outputs": [
    {
     "name": "stdout",
     "output_type": "stream",
     "text": [
      "CKA(conv_time, patch_embedding.shallownet.0): 0.8394258554049755\n",
      "CKA(conv_time, patch_embedding.shallownet.1): 0.69623316427972\n",
      "CKA(conv_time, patch_embedding.shallownet.4): 0.09120927303860057\n",
      "CKA(conv_spat, patch_embedding.shallownet.0): 0.7112966135392372\n",
      "CKA(conv_spat, patch_embedding.shallownet.1): 0.7529259560777435\n",
      "CKA(conv_spat, patch_embedding.shallownet.4): 0.11105491941066073\n",
      "CKA(pool, patch_embedding.shallownet.0): 0.06266716745604835\n",
      "CKA(pool, patch_embedding.shallownet.1): 0.07871995395345727\n",
      "CKA(pool, patch_embedding.shallownet.4): 0.6141148956213193\n"
     ]
    }
   ],
   "source": [
    "cka_results = OrderedDict()\n",
    "\n",
    "for layer1, K_x in model_1_kernels_mean.items():\n",
    "    for layer2, K_y in model_2_kernels_mean.items():\n",
    "        cka_value = compute_CKA(K_x, K_y)\n",
    "        cka_results[(layer1, layer2)] = cka_value\n",
    "        print(f\"CKA({layer1}, {layer2}): {cka_value}\")"
   ]
  },
  {
   "cell_type": "code",
   "execution_count": 50,
   "metadata": {},
   "outputs": [
    {
     "data": {
      "image/png": "[encoded data removed]",
      "text/plain": [
       "<Figure size 1000x800 with 2 Axes>"
      ]
     },
     "metadata": {},
     "output_type": "display_data"
    }
   ],
   "source": [
    "# Initialize a matrix for the CKA similarities\n",
    "n_layers1 = len(layer_names_model1)\n",
    "n_layers2 = len(layer_names_model2)\n",
    "matrix = np.zeros((n_layers1, n_layers2))\n",
    "\n",
    "# Fill the matrix with the CKA similarity values\n",
    "for (layer1, layer2), similarity in cka_results.items():\n",
    "    # Get the index for layer1 in model1 and layer2 in model2\n",
    "    if layer1 in layer_names_model1:\n",
    "        i = layer_names_model1.index(layer1)  # Index for model 1 layer\n",
    "    else:\n",
    "        i = -1  # Invalid index (in case of layer not in model1)\n",
    "\n",
    "    if layer2 in layer_names_model2:\n",
    "        j = layer_names_model2.index(layer2)  # Index for model 2 layer\n",
    "    else:\n",
    "        j = -1  # Invalid index (in case of layer not in model2)\n",
    "    \n",
    "    if i != -1 and j != -1:  # Only fill the matrix if both indices are valid\n",
    "        matrix[i, j] = similarity\n",
    "\n",
    "# Create a DataFrame for better visualization\n",
    "df = pd.DataFrame(matrix, index=layer_names_model1, columns=layer_names_model2)\n",
    "\n",
    "# Plot the heatmap\n",
    "plt.figure(figsize=(10, 8))\n",
    "sns.heatmap(df, annot=True, cmap='gist_heat', fmt='.2f', square=True, linewidths=0.5, cbar=True, vmin=0, vmax=1)\n",
    "plt.title('CKA Similarity Heatmap (ShallowFSCPN vs Conformer )')\n",
    "plt.xlabel(f'Layer (Untrained)')\n",
    "plt.ylabel(f'Layer (Trained)')\n",
    "plt.show()\n"
   ]
  },
  {
   "cell_type": "code",
   "execution_count": null,
   "metadata": {},
   "outputs": [],
   "source": []
  }
 ],
 "metadata": {
  "kernelspec": {
   "display_name": "Python 3",
   "language": "python",
   "name": "python3"
  },
  "language_info": {
   "codemirror_mode": {
    "name": "ipython",
    "version": 3
   },
   "file_extension": ".py",
   "mimetype": "text/x-python",
   "name": "python",
   "nbconvert_exporter": "python",
   "pygments_lexer": "ipython3",
   "version": "3.12.3"
  }
 },
 "nbformat": 4,
 "nbformat_minor": 2
}
