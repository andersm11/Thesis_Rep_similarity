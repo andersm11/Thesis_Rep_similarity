{
 "cells": [
  {
   "cell_type": "code",
   "execution_count": 1,
   "metadata": {},
   "outputs": [],
   "source": [
    "import numpy as np\n",
    "import torch\n",
    "import matplotlib.pyplot as plt\n",
    "import seaborn as sns\n",
    "#from shallow_fbcsp import ShallowFBCSPNet\n",
    "from braindecode.models import EEGConformer\n",
    "import Attention_models\n",
    "import importlib\n",
    "importlib.reload(Attention_models)\n",
    "import pandas as pd\n",
    "from collections import OrderedDict\n",
    "import math"
   ]
  },
  {
   "cell_type": "code",
   "execution_count": 2,
   "metadata": {},
   "outputs": [],
   "source": [
    "def linear_kernel(X):\n",
    "    \"\"\"Computes the linear kernel matrix for X.\"\"\"\n",
    "    return torch.matmul(X,X.T)  # Dot product\n",
    "\n",
    "def centering_matrix(K):\n",
    "    \"\"\"Apply centering to the kernel matrix.\"\"\"\n",
    "    n = K.shape[0]\n",
    "    H = torch.eye(n) - (1.0 / n) * torch.ones((n, n), device=K.device)\n",
    "    return H @ K @ H  # Centered kernel matrix\n",
    "\n",
    "def compute_hsic(K_x, K_y):\n",
    "    \"\"\"\n",
    "    Computes the Hilbert-Schmidt Independence Criterion (HSIC).\n",
    "    \n",
    "    Parameters:\n",
    "    - X: (n_samples, n_features_X) numpy array\n",
    "    - Y: (n_samples, n_features_Y) numpy array\n",
    "    - kernel_X: function to compute the kernel matrix for X\n",
    "    - kernel_Y: function to compute the kernel matrix for Y\n",
    "    \n",
    "    Returns:\n",
    "    - HSIC value (float)\n",
    "    \"\"\"\n",
    "    K_x_centered = centering_matrix(K_x)\n",
    "    K_y_centered = centering_matrix(K_y)\n",
    "    hsic_value = np.trace(K_x_centered @ K_y_centered) / ((K_x.shape[0] - 1) ** 2)\n",
    "    return hsic_value\n",
    "  \n",
    "def compute_CKA(K_x,K_y):\n",
    "  \"\"\"\n",
    "  compute CKA between two X,Y activations\n",
    "  \n",
    "  Parameters:\n",
    "  - X: (n_samples, x_features)\n",
    "  - Y: (n_samples, y_features)\n",
    "  - kernel_X: kernel for X\n",
    "  - kernel_Y: kernel for Y  \n",
    "  \"\"\"\n",
    "  HSIC_KL = compute_hsic(K_x,K_y) \n",
    "  #print(\"HSIC_KL:\", HSIC_KL)\n",
    "  HSIC_KK = compute_hsic(K_x,K_x)\n",
    "  #print(\"HSIC_KK:\", HSIC_KK)\n",
    "  HSIC_LL = compute_hsic(K_y,K_y)\n",
    "  #print(\"HSIC_LL:\", HSIC_LL)\n",
    "  numerator = HSIC_KL\n",
    "  denominator = math.sqrt(HSIC_KK * HSIC_LL)\n",
    "  return(numerator/denominator).item()\n"
   ]
  },
  {
   "cell_type": "code",
   "execution_count": 4,
   "metadata": {},
   "outputs": [],
   "source": [
    "# Define model parameters\n",
    "in_chans = 22\n",
    "n_classes = 4\n",
    "n_channels = 22\n",
    "input_window_samples = 1125\n",
    "# Load two models for comparison\n",
    "model= torch.load(\"shallow_63acc.pth\",weights_only = False,map_location=torch.device('cpu'))\n",
    "model2 =torch.load(\"Attention_models/spatial_attention_71_299221222.pth\",weights_only = False,map_location=torch.device('cpu'))#ShallowFBCSPNet(in_chans, n_classes, input_window_samples)\n",
    "\n"
   ]
  },
  {
   "cell_type": "code",
   "execution_count": 5,
   "metadata": {},
   "outputs": [
    {
     "name": "stdout",
     "output_type": "stream",
     "text": [
      "ShallowAttentionNet(\n",
      "  (temporal): Conv2d(1, 10, kernel_size=(1, 25), stride=(1, 1))\n",
      "  (spatial_attention): SpatialAttention(\n",
      "    (query): Conv1d(22, 22, kernel_size=(1,), stride=(1,))\n",
      "    (key): Conv1d(22, 22, kernel_size=(1,), stride=(1,))\n",
      "    (value): Conv1d(22, 22, kernel_size=(1,), stride=(1,))\n",
      "  )\n",
      "  (batch_norm): BatchNorm2d(10, eps=1e-05, momentum=0.1, affine=True, track_running_stats=True)\n",
      "  (pool): AvgPool2d(kernel_size=(1, 100), stride=(1, 100), padding=0)\n",
      "  (dropout): Dropout(p=0.5, inplace=False)\n",
      "  (fc): Linear(in_features=2420, out_features=4, bias=True)\n",
      ")\n"
     ]
    }
   ],
   "source": [
    "print(model2)"
   ]
  },
  {
   "cell_type": "code",
   "execution_count": 6,
   "metadata": {},
   "outputs": [
    {
     "name": "stdout",
     "output_type": "stream",
     "text": [
      "ShallowFBCSPNet(\n",
      "  (temporal): Conv2d(1, 40, kernel_size=(1, 25), stride=(1, 1))\n",
      "  (spatial): Conv2d(40, 40, kernel_size=(22, 1), stride=(1, 1))\n",
      "  (pool): AvgPool2d(kernel_size=(1, 100), stride=(1, 100), padding=0)\n",
      "  (batch_norm): BatchNorm2d(40, eps=1e-05, momentum=0.1, affine=True, track_running_stats=True)\n",
      "  (dropout): Dropout(p=0.5, inplace=False)\n",
      "  (fc): Linear(in_features=440, out_features=4, bias=True)\n",
      ")\n"
     ]
    }
   ],
   "source": [
    "print(model)"
   ]
  },
  {
   "cell_type": "code",
   "execution_count": 7,
   "metadata": {},
   "outputs": [],
   "source": [
    "import os\n",
    "import torch\n",
    "\n",
    "def extract_model_activations(model, input_tensor, output_dir, batch_size=128):\n",
    "    if not os.path.exists(output_dir):\n",
    "        os.makedirs(output_dir)\n",
    "\n",
    "    activations = OrderedDict()\n",
    "\n",
    "    def get_activation(name):\n",
    "        def hook(model, input, output):\n",
    "            activations[name] = output.detach()\n",
    "        return hook\n",
    "\n",
    "    # Register hooks for specific layers\n",
    "    for name, layer in model.named_modules():\n",
    "        if name == \"temporal\" or name == \"spatial\" or name ==\"pool\" or name == \"patch_embedding.shallownet.0\" or  name == \"patch_embedding.shallownet.1\" or  name == \"patch_embedding.shallownet.4\" or name == \"spatial_attention\" :  # Modify as per your layer names\n",
    "            layer.register_forward_hook(get_activation(name))\n",
    "\n",
    "    model.eval()\n",
    "\n",
    "    with torch.no_grad():\n",
    "        for i in range(0, input_tensor.shape[0], batch_size):\n",
    "            batch = input_tensor[i:i + batch_size]  # Select current batch\n",
    "            _ = model(batch)  # Forward pass through the model\n",
    "\n",
    "            # Save activations after each batch\n",
    "            for name, activation in activations.items():\n",
    "                batch_idx = i // batch_size + 1  # This determines the batch number\n",
    "                print(f\"saving: {name}_batch_{batch_idx}.pt\")\n",
    "                torch.save(activation, os.path.join(output_dir, f\"{name}_batch_{batch_idx}.pt\"))\n",
    "            \n",
    "            # Clear activations list after saving\n",
    "            activations.clear()\n",
    "            torch.cuda.empty_cache()  # Optional: Clear GPU memory after each batch\n",
    "\n"
   ]
  },
  {
   "cell_type": "code",
   "execution_count": 8,
   "metadata": {},
   "outputs": [],
   "source": [
    "import pickle\n",
    "with open('Datasets/test_set.pkl', 'rb') as f:\n",
    "    test_set = pickle.load(f)"
   ]
  },
  {
   "cell_type": "code",
   "execution_count": 9,
   "metadata": {},
   "outputs": [
    {
     "name": "stdout",
     "output_type": "stream",
     "text": [
      "torch.Size([2592, 22, 1125])\n",
      "<class 'torch.Tensor'>\n"
     ]
    }
   ],
   "source": [
    "X = torch.stack([torch.from_numpy(test_set[i][0]) for i in range(len(test_set))])\n",
    "\n",
    "total_samples = X.shape[0]\n",
    "print(X.shape)  # Verify the tensor shape\n",
    "print(type(X))  # Should output <class 'torch.Tensor'>\n"
   ]
  },
  {
   "cell_type": "code",
   "execution_count": 10,
   "metadata": {},
   "outputs": [],
   "source": [
    "# print(model.conv_time.weight.device)  # Check the device of the conv_time layer\n",
    "# print(next(model.parameters()).device)\n"
   ]
  },
  {
   "cell_type": "code",
   "execution_count": 11,
   "metadata": {},
   "outputs": [
    {
     "name": "stdout",
     "output_type": "stream",
     "text": [
      "2592\n"
     ]
    }
   ],
   "source": [
    "\n",
    "batch_size = 64\n",
    "total_samples = X.shape[0]\n",
    "print(total_samples)"
   ]
  },
  {
   "cell_type": "code",
   "execution_count": 12,
   "metadata": {},
   "outputs": [],
   "source": [
    "# from scipy.signal import resample\n",
    "# resampled_input = torch.from_numpy(resample(X, num=1000, axis=-1))\n",
    "# resampled_input"
   ]
  },
  {
   "cell_type": "code",
   "execution_count": 13,
   "metadata": {},
   "outputs": [
    {
     "name": "stdout",
     "output_type": "stream",
     "text": [
      "torch.Size([22, 1125])\n"
     ]
    }
   ],
   "source": [
    "print(X[0].shape)"
   ]
  },
  {
   "cell_type": "code",
   "execution_count": 14,
   "metadata": {},
   "outputs": [
    {
     "name": "stdout",
     "output_type": "stream",
     "text": [
      "saving: temporal_batch_1.pt\n",
      "saving: spatial_batch_1.pt\n",
      "saving: pool_batch_1.pt\n",
      "saving: temporal_batch_2.pt\n",
      "saving: spatial_batch_2.pt\n",
      "saving: pool_batch_2.pt\n",
      "saving: temporal_batch_3.pt\n",
      "saving: spatial_batch_3.pt\n",
      "saving: pool_batch_3.pt\n",
      "saving: temporal_batch_4.pt\n",
      "saving: spatial_batch_4.pt\n",
      "saving: pool_batch_4.pt\n",
      "saving: temporal_batch_5.pt\n",
      "saving: spatial_batch_5.pt\n",
      "saving: pool_batch_5.pt\n",
      "saving: temporal_batch_6.pt\n",
      "saving: spatial_batch_6.pt\n",
      "saving: pool_batch_6.pt\n",
      "saving: temporal_batch_7.pt\n",
      "saving: spatial_batch_7.pt\n",
      "saving: pool_batch_7.pt\n",
      "saving: temporal_batch_8.pt\n",
      "saving: spatial_batch_8.pt\n",
      "saving: pool_batch_8.pt\n",
      "saving: temporal_batch_9.pt\n",
      "saving: spatial_batch_9.pt\n",
      "saving: pool_batch_9.pt\n",
      "saving: temporal_batch_10.pt\n",
      "saving: spatial_batch_10.pt\n",
      "saving: pool_batch_10.pt\n",
      "saving: temporal_batch_11.pt\n",
      "saving: spatial_batch_11.pt\n",
      "saving: pool_batch_11.pt\n",
      "saving: temporal_batch_12.pt\n",
      "saving: spatial_batch_12.pt\n",
      "saving: pool_batch_12.pt\n",
      "saving: temporal_batch_13.pt\n",
      "saving: spatial_batch_13.pt\n",
      "saving: pool_batch_13.pt\n",
      "saving: temporal_batch_14.pt\n",
      "saving: spatial_batch_14.pt\n",
      "saving: pool_batch_14.pt\n",
      "saving: temporal_batch_15.pt\n",
      "saving: spatial_batch_15.pt\n",
      "saving: pool_batch_15.pt\n",
      "saving: temporal_batch_16.pt\n",
      "saving: spatial_batch_16.pt\n",
      "saving: pool_batch_16.pt\n",
      "saving: temporal_batch_17.pt\n",
      "saving: spatial_batch_17.pt\n",
      "saving: pool_batch_17.pt\n",
      "saving: temporal_batch_18.pt\n",
      "saving: spatial_batch_18.pt\n",
      "saving: pool_batch_18.pt\n",
      "saving: temporal_batch_19.pt\n",
      "saving: spatial_batch_19.pt\n",
      "saving: pool_batch_19.pt\n",
      "saving: temporal_batch_20.pt\n",
      "saving: spatial_batch_20.pt\n",
      "saving: pool_batch_20.pt\n",
      "saving: temporal_batch_21.pt\n",
      "saving: spatial_batch_21.pt\n",
      "saving: pool_batch_21.pt\n",
      "saving: temporal_batch_22.pt\n",
      "saving: spatial_batch_22.pt\n",
      "saving: pool_batch_22.pt\n",
      "saving: temporal_batch_23.pt\n",
      "saving: spatial_batch_23.pt\n",
      "saving: pool_batch_23.pt\n",
      "saving: temporal_batch_24.pt\n",
      "saving: spatial_batch_24.pt\n",
      "saving: pool_batch_24.pt\n",
      "saving: temporal_batch_25.pt\n",
      "saving: spatial_batch_25.pt\n",
      "saving: pool_batch_25.pt\n",
      "saving: temporal_batch_26.pt\n",
      "saving: spatial_batch_26.pt\n",
      "saving: pool_batch_26.pt\n",
      "saving: temporal_batch_27.pt\n",
      "saving: spatial_batch_27.pt\n",
      "saving: pool_batch_27.pt\n",
      "saving: temporal_batch_28.pt\n",
      "saving: spatial_batch_28.pt\n",
      "saving: pool_batch_28.pt\n",
      "saving: temporal_batch_29.pt\n",
      "saving: spatial_batch_29.pt\n",
      "saving: pool_batch_29.pt\n",
      "saving: temporal_batch_30.pt\n",
      "saving: spatial_batch_30.pt\n",
      "saving: pool_batch_30.pt\n",
      "saving: temporal_batch_31.pt\n",
      "saving: spatial_batch_31.pt\n",
      "saving: pool_batch_31.pt\n",
      "saving: temporal_batch_32.pt\n",
      "saving: spatial_batch_32.pt\n",
      "saving: pool_batch_32.pt\n",
      "saving: temporal_batch_33.pt\n",
      "saving: spatial_batch_33.pt\n",
      "saving: pool_batch_33.pt\n",
      "saving: temporal_batch_34.pt\n",
      "saving: spatial_batch_34.pt\n",
      "saving: pool_batch_34.pt\n",
      "saving: temporal_batch_35.pt\n",
      "saving: spatial_batch_35.pt\n",
      "saving: pool_batch_35.pt\n",
      "saving: temporal_batch_36.pt\n",
      "saving: spatial_batch_36.pt\n",
      "saving: pool_batch_36.pt\n",
      "saving: temporal_batch_37.pt\n",
      "saving: spatial_batch_37.pt\n",
      "saving: pool_batch_37.pt\n",
      "saving: temporal_batch_38.pt\n",
      "saving: spatial_batch_38.pt\n",
      "saving: pool_batch_38.pt\n",
      "saving: temporal_batch_39.pt\n",
      "saving: spatial_batch_39.pt\n",
      "saving: pool_batch_39.pt\n",
      "saving: temporal_batch_40.pt\n",
      "saving: spatial_batch_40.pt\n",
      "saving: pool_batch_40.pt\n",
      "saving: temporal_batch_41.pt\n",
      "saving: spatial_batch_41.pt\n",
      "saving: pool_batch_41.pt\n"
     ]
    }
   ],
   "source": [
    "extract_model_activations(model,X,output_dir=\"Datasets/activations/model1/\",batch_size=batch_size)\n"
   ]
  },
  {
   "cell_type": "code",
   "execution_count": 15,
   "metadata": {},
   "outputs": [
    {
     "name": "stdout",
     "output_type": "stream",
     "text": [
      "torch.Size([2592, 22, 1125])\n"
     ]
    }
   ],
   "source": [
    "print(X.shape)\n",
    "#X_un = X.unsqueeze(dim=3)\n",
    "#print(X_un.shape)"
   ]
  },
  {
   "cell_type": "code",
   "execution_count": 16,
   "metadata": {},
   "outputs": [
    {
     "name": "stdout",
     "output_type": "stream",
     "text": [
      "saving: temporal_batch_1.pt\n",
      "saving: spatial_attention_batch_1.pt\n",
      "saving: pool_batch_1.pt\n",
      "saving: temporal_batch_2.pt\n",
      "saving: spatial_attention_batch_2.pt\n",
      "saving: pool_batch_2.pt\n",
      "saving: temporal_batch_3.pt\n",
      "saving: spatial_attention_batch_3.pt\n",
      "saving: pool_batch_3.pt\n",
      "saving: temporal_batch_4.pt\n",
      "saving: spatial_attention_batch_4.pt\n",
      "saving: pool_batch_4.pt\n",
      "saving: temporal_batch_5.pt\n",
      "saving: spatial_attention_batch_5.pt\n",
      "saving: pool_batch_5.pt\n",
      "saving: temporal_batch_6.pt\n",
      "saving: spatial_attention_batch_6.pt\n",
      "saving: pool_batch_6.pt\n",
      "saving: temporal_batch_7.pt\n",
      "saving: spatial_attention_batch_7.pt\n",
      "saving: pool_batch_7.pt\n",
      "saving: temporal_batch_8.pt\n",
      "saving: spatial_attention_batch_8.pt\n",
      "saving: pool_batch_8.pt\n",
      "saving: temporal_batch_9.pt\n",
      "saving: spatial_attention_batch_9.pt\n",
      "saving: pool_batch_9.pt\n",
      "saving: temporal_batch_10.pt\n",
      "saving: spatial_attention_batch_10.pt\n",
      "saving: pool_batch_10.pt\n",
      "saving: temporal_batch_11.pt\n",
      "saving: spatial_attention_batch_11.pt\n",
      "saving: pool_batch_11.pt\n",
      "saving: temporal_batch_12.pt\n",
      "saving: spatial_attention_batch_12.pt\n",
      "saving: pool_batch_12.pt\n",
      "saving: temporal_batch_13.pt\n",
      "saving: spatial_attention_batch_13.pt\n",
      "saving: pool_batch_13.pt\n",
      "saving: temporal_batch_14.pt\n",
      "saving: spatial_attention_batch_14.pt\n",
      "saving: pool_batch_14.pt\n",
      "saving: temporal_batch_15.pt\n",
      "saving: spatial_attention_batch_15.pt\n",
      "saving: pool_batch_15.pt\n",
      "saving: temporal_batch_16.pt\n",
      "saving: spatial_attention_batch_16.pt\n",
      "saving: pool_batch_16.pt\n",
      "saving: temporal_batch_17.pt\n",
      "saving: spatial_attention_batch_17.pt\n",
      "saving: pool_batch_17.pt\n",
      "saving: temporal_batch_18.pt\n",
      "saving: spatial_attention_batch_18.pt\n",
      "saving: pool_batch_18.pt\n",
      "saving: temporal_batch_19.pt\n",
      "saving: spatial_attention_batch_19.pt\n",
      "saving: pool_batch_19.pt\n",
      "saving: temporal_batch_20.pt\n",
      "saving: spatial_attention_batch_20.pt\n",
      "saving: pool_batch_20.pt\n",
      "saving: temporal_batch_21.pt\n",
      "saving: spatial_attention_batch_21.pt\n",
      "saving: pool_batch_21.pt\n",
      "saving: temporal_batch_22.pt\n",
      "saving: spatial_attention_batch_22.pt\n",
      "saving: pool_batch_22.pt\n",
      "saving: temporal_batch_23.pt\n",
      "saving: spatial_attention_batch_23.pt\n",
      "saving: pool_batch_23.pt\n",
      "saving: temporal_batch_24.pt\n",
      "saving: spatial_attention_batch_24.pt\n",
      "saving: pool_batch_24.pt\n",
      "saving: temporal_batch_25.pt\n",
      "saving: spatial_attention_batch_25.pt\n",
      "saving: pool_batch_25.pt\n",
      "saving: temporal_batch_26.pt\n",
      "saving: spatial_attention_batch_26.pt\n",
      "saving: pool_batch_26.pt\n",
      "saving: temporal_batch_27.pt\n",
      "saving: spatial_attention_batch_27.pt\n",
      "saving: pool_batch_27.pt\n"
     ]
    },
    {
     "ename": "KeyboardInterrupt",
     "evalue": "",
     "output_type": "error",
     "traceback": [
      "\u001b[1;31m---------------------------------------------------------------------------\u001b[0m",
      "\u001b[1;31mKeyboardInterrupt\u001b[0m                         Traceback (most recent call last)",
      "Cell \u001b[1;32mIn[16], line 1\u001b[0m\n\u001b[1;32m----> 1\u001b[0m \u001b[43mextract_model_activations\u001b[49m\u001b[43m(\u001b[49m\u001b[43mmodel2\u001b[49m\u001b[43m,\u001b[49m\u001b[43mX\u001b[49m\u001b[43m,\u001b[49m\u001b[43moutput_dir\u001b[49m\u001b[38;5;241;43m=\u001b[39;49m\u001b[38;5;124;43m\"\u001b[39;49m\u001b[38;5;124;43mDatasets/activations/model2/\u001b[39;49m\u001b[38;5;124;43m\"\u001b[39;49m\u001b[43m,\u001b[49m\u001b[43mbatch_size\u001b[49m\u001b[38;5;241;43m=\u001b[39;49m\u001b[43mbatch_size\u001b[49m\u001b[43m)\u001b[49m\n",
      "Cell \u001b[1;32mIn[7], line 25\u001b[0m, in \u001b[0;36mextract_model_activations\u001b[1;34m(model, input_tensor, output_dir, batch_size)\u001b[0m\n\u001b[0;32m     23\u001b[0m \u001b[38;5;28;01mfor\u001b[39;00m i \u001b[38;5;129;01min\u001b[39;00m \u001b[38;5;28mrange\u001b[39m(\u001b[38;5;241m0\u001b[39m, input_tensor\u001b[38;5;241m.\u001b[39mshape[\u001b[38;5;241m0\u001b[39m], batch_size):\n\u001b[0;32m     24\u001b[0m     batch \u001b[38;5;241m=\u001b[39m input_tensor[i:i \u001b[38;5;241m+\u001b[39m batch_size]  \u001b[38;5;66;03m# Select current batch\u001b[39;00m\n\u001b[1;32m---> 25\u001b[0m     _ \u001b[38;5;241m=\u001b[39m \u001b[43mmodel\u001b[49m\u001b[43m(\u001b[49m\u001b[43mbatch\u001b[49m\u001b[43m)\u001b[49m  \u001b[38;5;66;03m# Forward pass through the model\u001b[39;00m\n\u001b[0;32m     27\u001b[0m     \u001b[38;5;66;03m# Save activations after each batch\u001b[39;00m\n\u001b[0;32m     28\u001b[0m     \u001b[38;5;28;01mfor\u001b[39;00m name, activation \u001b[38;5;129;01min\u001b[39;00m activations\u001b[38;5;241m.\u001b[39mitems():\n",
      "File \u001b[1;32mc:\\Users\\ahmm9\\AppData\\Local\\Programs\\Python\\Python312\\Lib\\site-packages\\torch\\nn\\modules\\module.py:1739\u001b[0m, in \u001b[0;36mModule._wrapped_call_impl\u001b[1;34m(self, *args, **kwargs)\u001b[0m\n\u001b[0;32m   1737\u001b[0m     \u001b[38;5;28;01mreturn\u001b[39;00m \u001b[38;5;28mself\u001b[39m\u001b[38;5;241m.\u001b[39m_compiled_call_impl(\u001b[38;5;241m*\u001b[39margs, \u001b[38;5;241m*\u001b[39m\u001b[38;5;241m*\u001b[39mkwargs)  \u001b[38;5;66;03m# type: ignore[misc]\u001b[39;00m\n\u001b[0;32m   1738\u001b[0m \u001b[38;5;28;01melse\u001b[39;00m:\n\u001b[1;32m-> 1739\u001b[0m     \u001b[38;5;28;01mreturn\u001b[39;00m \u001b[38;5;28;43mself\u001b[39;49m\u001b[38;5;241;43m.\u001b[39;49m\u001b[43m_call_impl\u001b[49m\u001b[43m(\u001b[49m\u001b[38;5;241;43m*\u001b[39;49m\u001b[43margs\u001b[49m\u001b[43m,\u001b[49m\u001b[43m \u001b[49m\u001b[38;5;241;43m*\u001b[39;49m\u001b[38;5;241;43m*\u001b[39;49m\u001b[43mkwargs\u001b[49m\u001b[43m)\u001b[49m\n",
      "File \u001b[1;32mc:\\Users\\ahmm9\\AppData\\Local\\Programs\\Python\\Python312\\Lib\\site-packages\\torch\\nn\\modules\\module.py:1750\u001b[0m, in \u001b[0;36mModule._call_impl\u001b[1;34m(self, *args, **kwargs)\u001b[0m\n\u001b[0;32m   1745\u001b[0m \u001b[38;5;66;03m# If we don't have any hooks, we want to skip the rest of the logic in\u001b[39;00m\n\u001b[0;32m   1746\u001b[0m \u001b[38;5;66;03m# this function, and just call forward.\u001b[39;00m\n\u001b[0;32m   1747\u001b[0m \u001b[38;5;28;01mif\u001b[39;00m \u001b[38;5;129;01mnot\u001b[39;00m (\u001b[38;5;28mself\u001b[39m\u001b[38;5;241m.\u001b[39m_backward_hooks \u001b[38;5;129;01mor\u001b[39;00m \u001b[38;5;28mself\u001b[39m\u001b[38;5;241m.\u001b[39m_backward_pre_hooks \u001b[38;5;129;01mor\u001b[39;00m \u001b[38;5;28mself\u001b[39m\u001b[38;5;241m.\u001b[39m_forward_hooks \u001b[38;5;129;01mor\u001b[39;00m \u001b[38;5;28mself\u001b[39m\u001b[38;5;241m.\u001b[39m_forward_pre_hooks\n\u001b[0;32m   1748\u001b[0m         \u001b[38;5;129;01mor\u001b[39;00m _global_backward_pre_hooks \u001b[38;5;129;01mor\u001b[39;00m _global_backward_hooks\n\u001b[0;32m   1749\u001b[0m         \u001b[38;5;129;01mor\u001b[39;00m _global_forward_hooks \u001b[38;5;129;01mor\u001b[39;00m _global_forward_pre_hooks):\n\u001b[1;32m-> 1750\u001b[0m     \u001b[38;5;28;01mreturn\u001b[39;00m \u001b[43mforward_call\u001b[49m\u001b[43m(\u001b[49m\u001b[38;5;241;43m*\u001b[39;49m\u001b[43margs\u001b[49m\u001b[43m,\u001b[49m\u001b[43m \u001b[49m\u001b[38;5;241;43m*\u001b[39;49m\u001b[38;5;241;43m*\u001b[39;49m\u001b[43mkwargs\u001b[49m\u001b[43m)\u001b[49m\n\u001b[0;32m   1752\u001b[0m result \u001b[38;5;241m=\u001b[39m \u001b[38;5;28;01mNone\u001b[39;00m\n\u001b[0;32m   1753\u001b[0m called_always_called_hooks \u001b[38;5;241m=\u001b[39m \u001b[38;5;28mset\u001b[39m()\n",
      "File \u001b[1;32mc:\\Users\\ahmm9\\Documents\\GitHub\\Thesis_Rep_similarity\\WIP\\Attention_models.py:59\u001b[0m, in \u001b[0;36mShallowAttentionNet.forward\u001b[1;34m(self, input)\u001b[0m\n\u001b[0;32m     57\u001b[0m \u001b[38;5;66;03m#print(\"after unsqueeze:\", x.shape)\u001b[39;00m\n\u001b[0;32m     58\u001b[0m x \u001b[38;5;241m=\u001b[39m \u001b[38;5;28mself\u001b[39m\u001b[38;5;241m.\u001b[39mtemporal(x)\n\u001b[1;32m---> 59\u001b[0m x \u001b[38;5;241m=\u001b[39m \u001b[38;5;28;43mself\u001b[39;49m\u001b[38;5;241;43m.\u001b[39;49m\u001b[43mspatial_attention\u001b[49m\u001b[43m(\u001b[49m\u001b[43mx\u001b[49m\u001b[43m)\u001b[49m  \n\u001b[0;32m     62\u001b[0m x \u001b[38;5;241m=\u001b[39m F\u001b[38;5;241m.\u001b[39melu(x)\n\u001b[0;32m     63\u001b[0m \u001b[38;5;66;03m#print(\"after att:\", x.shape)\u001b[39;00m\n",
      "File \u001b[1;32mc:\\Users\\ahmm9\\AppData\\Local\\Programs\\Python\\Python312\\Lib\\site-packages\\torch\\nn\\modules\\module.py:1739\u001b[0m, in \u001b[0;36mModule._wrapped_call_impl\u001b[1;34m(self, *args, **kwargs)\u001b[0m\n\u001b[0;32m   1737\u001b[0m     \u001b[38;5;28;01mreturn\u001b[39;00m \u001b[38;5;28mself\u001b[39m\u001b[38;5;241m.\u001b[39m_compiled_call_impl(\u001b[38;5;241m*\u001b[39margs, \u001b[38;5;241m*\u001b[39m\u001b[38;5;241m*\u001b[39mkwargs)  \u001b[38;5;66;03m# type: ignore[misc]\u001b[39;00m\n\u001b[0;32m   1738\u001b[0m \u001b[38;5;28;01melse\u001b[39;00m:\n\u001b[1;32m-> 1739\u001b[0m     \u001b[38;5;28;01mreturn\u001b[39;00m \u001b[38;5;28;43mself\u001b[39;49m\u001b[38;5;241;43m.\u001b[39;49m\u001b[43m_call_impl\u001b[49m\u001b[43m(\u001b[49m\u001b[38;5;241;43m*\u001b[39;49m\u001b[43margs\u001b[49m\u001b[43m,\u001b[49m\u001b[43m \u001b[49m\u001b[38;5;241;43m*\u001b[39;49m\u001b[38;5;241;43m*\u001b[39;49m\u001b[43mkwargs\u001b[49m\u001b[43m)\u001b[49m\n",
      "File \u001b[1;32mc:\\Users\\ahmm9\\AppData\\Local\\Programs\\Python\\Python312\\Lib\\site-packages\\torch\\nn\\modules\\module.py:1845\u001b[0m, in \u001b[0;36mModule._call_impl\u001b[1;34m(self, *args, **kwargs)\u001b[0m\n\u001b[0;32m   1842\u001b[0m     \u001b[38;5;28;01mreturn\u001b[39;00m inner()\n\u001b[0;32m   1844\u001b[0m \u001b[38;5;28;01mtry\u001b[39;00m:\n\u001b[1;32m-> 1845\u001b[0m     \u001b[38;5;28;01mreturn\u001b[39;00m \u001b[43minner\u001b[49m\u001b[43m(\u001b[49m\u001b[43m)\u001b[49m\n\u001b[0;32m   1846\u001b[0m \u001b[38;5;28;01mexcept\u001b[39;00m \u001b[38;5;167;01mException\u001b[39;00m:\n\u001b[0;32m   1847\u001b[0m     \u001b[38;5;66;03m# run always called hooks if they have not already been run\u001b[39;00m\n\u001b[0;32m   1848\u001b[0m     \u001b[38;5;66;03m# For now only forward hooks have the always_call option but perhaps\u001b[39;00m\n\u001b[0;32m   1849\u001b[0m     \u001b[38;5;66;03m# this functionality should be added to full backward hooks as well.\u001b[39;00m\n\u001b[0;32m   1850\u001b[0m     \u001b[38;5;28;01mfor\u001b[39;00m hook_id, hook \u001b[38;5;129;01min\u001b[39;00m _global_forward_hooks\u001b[38;5;241m.\u001b[39mitems():\n",
      "File \u001b[1;32mc:\\Users\\ahmm9\\AppData\\Local\\Programs\\Python\\Python312\\Lib\\site-packages\\torch\\nn\\modules\\module.py:1793\u001b[0m, in \u001b[0;36mModule._call_impl.<locals>.inner\u001b[1;34m()\u001b[0m\n\u001b[0;32m   1790\u001b[0m     bw_hook \u001b[38;5;241m=\u001b[39m BackwardHook(\u001b[38;5;28mself\u001b[39m, full_backward_hooks, backward_pre_hooks)\n\u001b[0;32m   1791\u001b[0m     args \u001b[38;5;241m=\u001b[39m bw_hook\u001b[38;5;241m.\u001b[39msetup_input_hook(args)\n\u001b[1;32m-> 1793\u001b[0m result \u001b[38;5;241m=\u001b[39m \u001b[43mforward_call\u001b[49m\u001b[43m(\u001b[49m\u001b[38;5;241;43m*\u001b[39;49m\u001b[43margs\u001b[49m\u001b[43m,\u001b[49m\u001b[43m \u001b[49m\u001b[38;5;241;43m*\u001b[39;49m\u001b[38;5;241;43m*\u001b[39;49m\u001b[43mkwargs\u001b[49m\u001b[43m)\u001b[49m\n\u001b[0;32m   1794\u001b[0m \u001b[38;5;28;01mif\u001b[39;00m _global_forward_hooks \u001b[38;5;129;01mor\u001b[39;00m \u001b[38;5;28mself\u001b[39m\u001b[38;5;241m.\u001b[39m_forward_hooks:\n\u001b[0;32m   1795\u001b[0m     \u001b[38;5;28;01mfor\u001b[39;00m hook_id, hook \u001b[38;5;129;01min\u001b[39;00m (\n\u001b[0;32m   1796\u001b[0m         \u001b[38;5;241m*\u001b[39m_global_forward_hooks\u001b[38;5;241m.\u001b[39mitems(),\n\u001b[0;32m   1797\u001b[0m         \u001b[38;5;241m*\u001b[39m\u001b[38;5;28mself\u001b[39m\u001b[38;5;241m.\u001b[39m_forward_hooks\u001b[38;5;241m.\u001b[39mitems(),\n\u001b[0;32m   1798\u001b[0m     ):\n\u001b[0;32m   1799\u001b[0m         \u001b[38;5;66;03m# mark that always called hook is run\u001b[39;00m\n",
      "File \u001b[1;32mc:\\Users\\ahmm9\\Documents\\GitHub\\Thesis_Rep_similarity\\WIP\\Attention_models.py:24\u001b[0m, in \u001b[0;36mSpatialAttention.forward\u001b[1;34m(self, x)\u001b[0m\n\u001b[0;32m     22\u001b[0m value \u001b[38;5;241m=\u001b[39m \u001b[38;5;28mself\u001b[39m\u001b[38;5;241m.\u001b[39mvalue(x_reshaped)  \u001b[38;5;66;03m# [B, temp_out_channels, spat_channels, time_steps]\u001b[39;00m\n\u001b[0;32m     23\u001b[0m attention_scores \u001b[38;5;241m=\u001b[39m torch\u001b[38;5;241m.\u001b[39mmatmul(query\u001b[38;5;241m.\u001b[39mtranspose(\u001b[38;5;241m1\u001b[39m, \u001b[38;5;241m2\u001b[39m), key)\n\u001b[1;32m---> 24\u001b[0m attention_weights \u001b[38;5;241m=\u001b[39m \u001b[43mtorch\u001b[49m\u001b[38;5;241;43m.\u001b[39;49m\u001b[43msoftmax\u001b[49m\u001b[43m(\u001b[49m\u001b[43mattention_scores\u001b[49m\u001b[43m,\u001b[49m\u001b[43m \u001b[49m\u001b[43mdim\u001b[49m\u001b[38;5;241;43m=\u001b[39;49m\u001b[38;5;241;43m-\u001b[39;49m\u001b[38;5;241;43m1\u001b[39;49m\u001b[43m)\u001b[49m\n\u001b[0;32m     26\u001b[0m output \u001b[38;5;241m=\u001b[39m torch\u001b[38;5;241m.\u001b[39mmatmul(attention_weights, value\u001b[38;5;241m.\u001b[39mtranspose(\u001b[38;5;241m1\u001b[39m, \u001b[38;5;241m2\u001b[39m))  \u001b[38;5;66;03m# [B * temp_out_channels, time_steps, spat_channels]\u001b[39;00m\n\u001b[0;32m     27\u001b[0m output \u001b[38;5;241m=\u001b[39m output\u001b[38;5;241m.\u001b[39mtranspose(\u001b[38;5;241m1\u001b[39m, \u001b[38;5;241m2\u001b[39m)  \u001b[38;5;66;03m# [B * temp_out_channels, spat_channels, time_steps]\u001b[39;00m\n",
      "\u001b[1;31mKeyboardInterrupt\u001b[0m: "
     ]
    }
   ],
   "source": [
    "extract_model_activations(model2,X,output_dir=\"Datasets/activations/model2/\",batch_size=batch_size)"
   ]
  },
  {
   "cell_type": "code",
   "execution_count": null,
   "metadata": {},
   "outputs": [],
   "source": [
    "# length = torch.load(f\"Datasets/activations/model1/final_layer.conv_classifier_batch_1.pt\")\n",
    "# print(length.shape)"
   ]
  },
  {
   "cell_type": "code",
   "execution_count": null,
   "metadata": {},
   "outputs": [],
   "source": [
    "del X"
   ]
  },
  {
   "cell_type": "code",
   "execution_count": null,
   "metadata": {},
   "outputs": [
    {
     "name": "stdout",
     "output_type": "stream",
     "text": [
      "['temporal', 'spatial', 'pool']\n",
      "['patch_embedding.shallownet.0', 'patch_embedding.shallownet.1', 'patch_embedding.shallownet.4']\n"
     ]
    }
   ],
   "source": [
    "import numpy as np\n",
    "import pandas as pd\n",
    "import seaborn as sns\n",
    "import matplotlib.pyplot as plt\n",
    "from collections import OrderedDict\n",
    "\n",
    "# Use OrderedDict to preserve the order of layer names\n",
    "layer_names_model1 = [\"temporal\",\"spatial\",\"pool\"]#['conv_time', 'conv_spat','pool']\n",
    "layer_names_model2 = [\"temporal\",\"spatial_attention\",\"pool\"]\n",
    "\n",
    "\n",
    "print(layer_names_model1)\n",
    "print(layer_names_model2)"
   ]
  },
  {
   "cell_type": "code",
   "execution_count": null,
   "metadata": {},
   "outputs": [
    {
     "data": {
      "text/plain": [
       "20.25"
      ]
     },
     "execution_count": 18,
     "metadata": {},
     "output_type": "execute_result"
    }
   ],
   "source": [
    "import math\n",
    "batch_nr = total_samples /batch_size\n",
    "\n",
    "batch_nr"
   ]
  },
  {
   "cell_type": "code",
   "execution_count": null,
   "metadata": {},
   "outputs": [],
   "source": [
    "\n",
    "def compute_kernel_full_highmem(layer, batch_nr, model_number):\n",
    "    \"\"\"Computes the linear kernel for all samples at once.\"\"\"\n",
    "    \n",
    "\n",
    "    activations_list = []\n",
    "    \n",
    "    for batch_idx in range(1, math.ceil(batch_nr+1)):\n",
    "        print(f\"\\rLoading batch {batch_idx} for {layer} in model {model_number}\", end='', flush=True)\n",
    "        \n",
    "\n",
    "        batch_activations = torch.load(f\"Datasets/activations/model{model_number}/{layer}_batch_{batch_idx}.pt\")\n",
    "        batch_activations = batch_activations.reshape(batch_activations.shape[0], -1)  # Flatten\n",
    "        \n",
    "        activations_list.append(batch_activations)\n",
    "    \n",
    "    all_activations = torch.cat(activations_list, dim=0)\n",
    "    print(\"\\nFinal Activations Shape:\", all_activations.shape)\n",
    "\n",
    "    full_kernel = torch.matmul(all_activations, all_activations.T)\n",
    "\n",
    "    return full_kernel\n",
    "\n",
    "# model_1_kernels = OrderedDict()\n",
    "# model_2_kernels = OrderedDict()\n",
    "\n",
    "# for layer in layer_names_model1:\n",
    "#     model_1_kernels[layer] = compute_kernel_full_highmem(layer, batch_nr,1)\n",
    "# for layer in layer_names_model2:\n",
    "#     model_2_kernels[layer] = compute_kernel_full_highmem(layer,batch_nr,2)\n",
    "\n",
    "\n",
    "\n",
    "\n",
    "\n"
   ]
  },
  {
   "cell_type": "code",
   "execution_count": null,
   "metadata": {},
   "outputs": [
    {
     "name": "stdout",
     "output_type": "stream",
     "text": [
      "Loading batches 21-22 for patch_embedding.shallownet.4 in model 2"
     ]
    }
   ],
   "source": [
    "def compute_kernel_full_lowmem(layer, batch_nr, model_number, total_samples, batch_size, n_batches=1, use_cuda=False):\n",
    "    \"\"\"Computes the full kernel matrix in batches efficiently using matrix multiplication.\"\"\"\n",
    "    \n",
    "    device = torch.device(\"cuda\" if use_cuda and torch.cuda.is_available() else \"cpu\")\n",
    "\n",
    "    full_kernel = torch.zeros((total_samples, total_samples), dtype=torch.float32, device=device)\n",
    "    \n",
    "    for batch_idx in range(1, math.ceil(math.ceil(batch_nr) / n_batches) + 1):\n",
    "        print(f\"\\rLoading batches {batch_idx * n_batches - (n_batches - 1)}-{batch_idx * n_batches} for {layer} in model {model_number}\", \n",
    "              end='', flush=True)\n",
    "\n",
    "        batch_activations_list = []\n",
    "        start_idx_col = (batch_idx - 1) * batch_size * n_batches\n",
    "        end_idx_col = min(start_idx_col + batch_size * n_batches, total_samples)  \n",
    "\n",
    "        # Load multiple batches at once\n",
    "        for sub_batch in range(n_batches):\n",
    "            batch_file_idx = (batch_idx - 1) * n_batches + sub_batch + 1\n",
    "            if batch_file_idx > math.ceil(batch_nr):\n",
    "                break\n",
    "            batch_activations = torch.load(\n",
    "                f\"Datasets/activations/model{model_number}/{layer}_batch_{batch_file_idx}.pt\"\n",
    "            ).to(device)\n",
    "            batch_activations_list.append(batch_activations.reshape(batch_activations.shape[0], -1))\n",
    "\n",
    "        if not batch_activations_list:\n",
    "            continue\n",
    "\n",
    "        batch_activations = torch.cat(batch_activations_list, dim=0)  # Merge batches\n",
    "\n",
    "        for batch_idx2 in range(1, math.ceil(math.ceil(batch_nr) / n_batches) + 2):\n",
    "            batch_activations_transpose_list = []\n",
    "            start_idx_row = (batch_idx2 - 1) * batch_size * n_batches\n",
    "            end_idx_row = min(start_idx_row + batch_size * n_batches, total_samples)\n",
    "\n",
    "            # Load multiple batches at once\n",
    "            for sub_batch2 in range(n_batches):\n",
    "                batch_file_idx2 = (batch_idx2 - 1) * n_batches + sub_batch2 + 1\n",
    "                if batch_file_idx2 > math.ceil(batch_nr):\n",
    "                    break\n",
    "                batch_activations_transpose = torch.load(\n",
    "                    f\"Datasets/activations/model{model_number}/{layer}_batch_{batch_file_idx2}.pt\"\n",
    "                ).to(device)\n",
    "                batch_activations_transpose_list.append(batch_activations_transpose.reshape(batch_activations_transpose.shape[0], -1))\n",
    "\n",
    "            if not batch_activations_transpose_list:\n",
    "                continue\n",
    "\n",
    "            batch_activations_transpose = torch.cat(batch_activations_transpose_list, dim=0)\n",
    "\n",
    "            kernel_block = batch_activations @ batch_activations_transpose.T\n",
    "            full_kernel[start_idx_col:end_idx_col, start_idx_row:end_idx_row] = kernel_block\n",
    "            full_kernel[start_idx_row:end_idx_row, start_idx_col:end_idx_col] = kernel_block.T  # Use symmetry\n",
    "\n",
    "    return full_kernel.cpu()\n",
    "\n",
    "\n",
    "def compute_full_kernels(layer_names_model1, layer_names_model2, batch_nr, total_samples,batch_size,n_batches):\n",
    "    \"\"\"Computes the kernels for both models.\"\"\"\n",
    "    model_1_kernels = {}\n",
    "    model_2_kernels = {}\n",
    "\n",
    "    # Compute kernels for model 1\n",
    "    for layer in layer_names_model1:\n",
    "        model_1_kernels[layer] = compute_kernel_full_lowmem(layer, batch_nr, 1, total_samples,batch_size,n_batches)\n",
    "\n",
    "    # Compute kernels for model 2\n",
    "    for layer in layer_names_model2:\n",
    "        model_2_kernels[layer] = compute_kernel_full_lowmem(layer, batch_nr, 2, total_samples,batch_size,n_batches)\n",
    "\n",
    "    return model_1_kernels, model_2_kernels\n",
    "\n",
    "model_1_kernels = OrderedDict()\n",
    "model_2_kernels = OrderedDict()\n",
    "layer_names_model = layer_names_model1 \n",
    "\n",
    "    \n",
    "model_1_kernels, model_2_kernels = compute_full_kernels(layer_names_model1, layer_names_model2, batch_nr,total_samples,batch_size,2)"
   ]
  },
  {
   "cell_type": "code",
   "execution_count": null,
   "metadata": {},
   "outputs": [
    {
     "name": "stdout",
     "output_type": "stream",
     "text": [
      "torch.Size([2592, 2592])\n",
      "No zero values in the tensor.\n",
      "tensor([[6519904.0000, -131470.8594,  891554.7500,  ..., -135528.0625,\n",
      "          351305.3750, -247082.1875],\n",
      "        [-131470.8594, 6319219.0000,  342514.5000,  ...,  398593.7812,\n",
      "          389983.5625,  381403.2500],\n",
      "        [ 891554.7500,  342514.5000, 5467753.5000,  ...,  145468.9219,\n",
      "          150283.0000, -105330.3281],\n",
      "        ...,\n",
      "        [-135528.0625,  398593.7812,  145468.9219,  ..., 3943606.0000,\n",
      "          -49945.9102,  220594.7188],\n",
      "        [ 351305.3750,  389983.5625,  150283.0000,  ...,  -49945.9102,\n",
      "         4040195.0000,  274010.5000],\n",
      "        [-247082.1875,  381403.2500, -105330.3281,  ...,  220594.7188,\n",
      "          274010.5000, 4611881.5000]])\n"
     ]
    }
   ],
   "source": [
    "\n",
    "print(model_1_kernels[\"temporal\"].shape)\n",
    "if (model_1_kernels[\"temporal\"] == 0).any():\n",
    "    print(\"The tensor contains at least one zero value.\")\n",
    "else:\n",
    "    print(\"No zero values in the tensor.\")\n",
    "\n",
    "print(model_1_kernels[\"temporal\"])\n"
   ]
  },
  {
   "cell_type": "code",
   "execution_count": null,
   "metadata": {},
   "outputs": [
    {
     "ename": "KeyError",
     "evalue": "'temporal'",
     "output_type": "error",
     "traceback": [
      "\u001b[1;31m---------------------------------------------------------------------------\u001b[0m",
      "\u001b[1;31mKeyError\u001b[0m                                  Traceback (most recent call last)",
      "Cell \u001b[1;32mIn[24], line 1\u001b[0m\n\u001b[1;32m----> 1\u001b[0m \u001b[38;5;28mprint\u001b[39m(\u001b[43mmodel_2_kernels\u001b[49m\u001b[43m[\u001b[49m\u001b[38;5;124;43m\"\u001b[39;49m\u001b[38;5;124;43mtemporal\u001b[39;49m\u001b[38;5;124;43m\"\u001b[39;49m\u001b[43m]\u001b[49m\u001b[38;5;241m.\u001b[39mshape)\n\u001b[0;32m      2\u001b[0m \u001b[38;5;28;01mif\u001b[39;00m (model_2_kernels[\u001b[38;5;124m\"\u001b[39m\u001b[38;5;124mtemporal\u001b[39m\u001b[38;5;124m\"\u001b[39m] \u001b[38;5;241m==\u001b[39m \u001b[38;5;241m0\u001b[39m)\u001b[38;5;241m.\u001b[39many():\n\u001b[0;32m      3\u001b[0m     \u001b[38;5;28mprint\u001b[39m(\u001b[38;5;124m\"\u001b[39m\u001b[38;5;124mThe tensor contains at least one zero value.\u001b[39m\u001b[38;5;124m\"\u001b[39m)\n",
      "\u001b[1;31mKeyError\u001b[0m: 'temporal'"
     ]
    }
   ],
   "source": [
    "\n",
    "print(model_2_kernels[\"temporal\"].shape)\n",
    "if (model_2_kernels[\"temporal\"] == 0).any():\n",
    "    print(\"The tensor contains at least one zero value.\")\n",
    "else:\n",
    "    print(\"No zero values in the tensor.\")\n",
    "\n",
    "print(model_2_kernels[\"temporal\"])"
   ]
  },
  {
   "cell_type": "code",
   "execution_count": null,
   "metadata": {},
   "outputs": [
    {
     "name": "stdout",
     "output_type": "stream",
     "text": [
      "HSIC_KL: 4596233877.0926895\n",
      "HSIC_KK: 97185172315.24388\n",
      "HSIC_LL: 271084550.7415215\n",
      "CKA(temporal, patch_embedding.shallownet.0): 0.8954672997633307\n",
      "HSIC_KL: 481144716.39976937\n",
      "HSIC_KK: 97185172315.24388\n",
      "HSIC_LL: 4959123.907008808\n",
      "CKA(temporal, patch_embedding.shallownet.1): 0.6930638339871623\n",
      "HSIC_KL: 258102.55145762555\n",
      "HSIC_KK: 97185172315.24388\n",
      "HSIC_LL: 78.98781415525434\n",
      "CKA(temporal, patch_embedding.shallownet.4): 0.0931563031294704\n",
      "HSIC_KL: 18926694196.29888\n",
      "HSIC_KK: 3455721450233.265\n",
      "HSIC_LL: 271084550.7415215\n",
      "CKA(spatial, patch_embedding.shallownet.0): 0.6183765571709332\n",
      "HSIC_KL: 3181878391.9512477\n",
      "HSIC_KK: 3455721450233.265\n",
      "HSIC_LL: 4959123.907008808\n",
      "CKA(spatial, patch_embedding.shallownet.1): 0.7686200925462217\n",
      "HSIC_KL: 1732628.3205079602\n",
      "HSIC_KK: 3455721450233.265\n",
      "HSIC_LL: 78.98781415525434\n",
      "CKA(spatial, patch_embedding.shallownet.4): 0.10487114183706496\n",
      "HSIC_KL: 2364.2204781834694\n",
      "HSIC_KK: 9.004926205234073\n",
      "HSIC_LL: 271084550.7415215\n",
      "CKA(pool, patch_embedding.shallownet.0): 0.04785149512096955\n",
      "HSIC_KL: 432.4230634767113\n",
      "HSIC_KK: 9.004926205234073\n",
      "HSIC_LL: 4959123.907008808\n",
      "CKA(pool, patch_embedding.shallownet.1): 0.06470923868856635\n",
      "HSIC_KL: 18.971754645753695\n",
      "HSIC_KK: 9.004926205234073\n",
      "HSIC_LL: 78.98781415525434\n",
      "CKA(pool, patch_embedding.shallownet.4): 0.7113566119064596\n"
     ]
    }
   ],
   "source": [
    "cka_results = OrderedDict()\n",
    "\n",
    "for layer1, K_x in model_1_kernels.items():\n",
    "    for layer2, K_y in model_2_kernels.items():\n",
    "        cka_value = compute_CKA(K_x, K_y)\n",
    "        cka_results[(layer1, layer2)] = cka_value\n",
    "        print(f\"CKA({layer1}, {layer2}): {cka_value}\")"
   ]
  },
  {
   "cell_type": "code",
   "execution_count": null,
   "metadata": {},
   "outputs": [
    {
     "data": {
      "image/png": "[encoded data removed]",
      "text/plain": [
       "<Figure size 1000x800 with 2 Axes>"
      ]
     },
     "metadata": {},
     "output_type": "display_data"
    }
   ],
   "source": [
    "# Initialize a matrix for the CKA similarities\n",
    "n_layers1 = len(layer_names_model1)\n",
    "n_layers2 = len(layer_names_model2)\n",
    "matrix = np.zeros((n_layers1, n_layers2))\n",
    "\n",
    "# Fill the matrix with the CKA similarity values\n",
    "for (layer1, layer2), similarity in cka_results.items():\n",
    "\n",
    "    if layer1 in layer_names_model1:\n",
    "        i = layer_names_model1.index(layer1)  # Index for model 1 layer\n",
    "    else:\n",
    "        i = -1  # Invalid index (in case of layer not in model1)\n",
    "\n",
    "    if layer2 in layer_names_model2:\n",
    "        j = layer_names_model2.index(layer2)  # Index for model 2 layer\n",
    "    else:\n",
    "        j = -1  # Invalid index (in case of layer not in model2)\n",
    "    \n",
    "    if i != -1 and j != -1:  # Only fill the matrix if both indices are valid\n",
    "        matrix[i, j] = similarity\n",
    "\n",
    "# Create a DataFrame for better visualization\n",
    "df = pd.DataFrame(matrix, index=layer_names_model1, columns=layer_names_model2)\n",
    "\n",
    "# Plot the heatmap\n",
    "plt.figure(figsize=(10, 8))\n",
    "sns.heatmap(df, annot=True, cmap='gist_heat', fmt='.2f', square=True, linewidths=0.5, cbar=True, vmin=0, vmax=1)\n",
    "plt.title('CKA Similarity Heatmap (Conformer vs Conformer )')\n",
    "plt.xlabel(f'Layer (Conformer (58))')\n",
    "plt.ylabel(f'Layer (Conformer (52))')\n",
    "plt.show()\n"
   ]
  },
  {
   "cell_type": "code",
   "execution_count": null,
   "metadata": {},
   "outputs": [],
   "source": []
  }
 ],
 "metadata": {
  "kernelspec": {
   "display_name": "Python 3",
   "language": "python",
   "name": "python3"
  },
  "language_info": {
   "codemirror_mode": {
    "name": "ipython",
    "version": 3
   },
   "file_extension": ".py",
   "mimetype": "text/x-python",
   "name": "python",
   "nbconvert_exporter": "python",
   "pygments_lexer": "ipython3",
   "version": "3.12.9"
  }
 },
 "nbformat": 4,
 "nbformat_minor": 2
}
