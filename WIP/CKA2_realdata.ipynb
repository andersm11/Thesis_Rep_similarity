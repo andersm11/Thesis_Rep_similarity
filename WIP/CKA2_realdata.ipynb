{
 "cells": [
  {
   "cell_type": "code",
   "execution_count": 1,
   "metadata": {},
   "outputs": [],
   "source": [
    "import numpy as np\n",
    "import torch\n",
    "import matplotlib.pyplot as plt\n",
    "import seaborn as sns\n",
    "from shallow_fbcsp import ShallowFBCSPNet\n",
    "import pandas as pd\n",
    "from collections import OrderedDict\n",
    "import math"
   ]
  },
  {
   "cell_type": "code",
   "execution_count": 2,
   "metadata": {},
   "outputs": [],
   "source": [
    "def linear_kernel(X):\n",
    "    \"\"\"Computes the linear kernel matrix for X.\"\"\"\n",
    "    return torch.matmul(X,X.T)  # Dot product\n",
    "\n",
    "def centering_matrix(K):\n",
    "    \"\"\"Apply centering to the kernel matrix.\"\"\"\n",
    "    n = K.shape[0]\n",
    "    H = torch.eye(n) - (1.0 / n) * torch.ones((n, n), device=K.device)\n",
    "    return H @ K @ H  # Centered kernel matrix\n",
    "\n",
    "def compute_hsic(K_x, K_y):\n",
    "    \"\"\"\n",
    "    Computes the Hilbert-Schmidt Independence Criterion (HSIC).\n",
    "    \n",
    "    Parameters:\n",
    "    - X: (n_samples, n_features_X) numpy array\n",
    "    - Y: (n_samples, n_features_Y) numpy array\n",
    "    - kernel_X: function to compute the kernel matrix for X\n",
    "    - kernel_Y: function to compute the kernel matrix for Y\n",
    "    \n",
    "    Returns:\n",
    "    - HSIC value (float)\n",
    "    \"\"\"\n",
    "    K_x_centered = centering_matrix(K_x)\n",
    "    K_y_centered = centering_matrix(K_y)\n",
    "    hsic_value = np.trace(K_x_centered @ K_y_centered) / ((K_x.shape[0] - 1) ** 2)\n",
    "    return hsic_value\n",
    "  \n",
    "def compute_CKA(K_x,K_y):\n",
    "  \"\"\"\n",
    "  compute CKA between two X,Y activations\n",
    "  \n",
    "  Parameters:\n",
    "  - X: (n_samples, x_features)\n",
    "  - Y: (n_samples, y_features)\n",
    "  - kernel_X: kernel for X\n",
    "  - kernel_Y: kernel for Y  \n",
    "  \"\"\"\n",
    "  HSIC_KL = compute_hsic(K_x,K_y) \n",
    "  HSIC_KK = compute_hsic(K_x,K_x)\n",
    "  HSIC_LL = compute_hsic(K_y,K_y)\n",
    "  numerator = HSIC_KL\n",
    "  denominator = math.sqrt(HSIC_KK * HSIC_LL)\n",
    "  return(numerator/denominator).item()\n"
   ]
  },
  {
   "cell_type": "code",
   "execution_count": 3,
   "metadata": {},
   "outputs": [],
   "source": [
    "# Define model parameters\n",
    "in_chans = 22\n",
    "n_classes = 4\n",
    "n_channels = 22\n",
    "input_window_samples = 1125\n",
    "# Load two models for comparison\n",
    "model= torch.load(\"braindecode_model_temponly_1.pth\",weights_only = False,map_location=torch.device('cpu'))\n",
    "model2 =ShallowFBCSPNet(in_chans, n_classes, input_window_samples)\n",
    "\n"
   ]
  },
  {
   "cell_type": "code",
   "execution_count": 4,
   "metadata": {},
   "outputs": [
    {
     "name": "stdout",
     "output_type": "stream",
     "text": [
      "============================================================================================================================================\n",
      "Layer (type (var_name):depth-idx)        Input Shape               Output Shape              Param #                   Kernel Shape\n",
      "============================================================================================================================================\n",
      "ShallowFBCSPNet (ShallowFBCSPNet)        [1, 22, 1125]             [1, 4]                    --                        --\n",
      "├─SafeLog (pool_nonlin_exp): 1-1         [1, 22, 1125]             [1, 22, 1125]             --                        --\n",
      "├─Ensure4d (ensuredims): 1-2             [1, 22, 1125]             [1, 22, 1125, 1]          --                        --\n",
      "├─Rearrange (dimshuffle): 1-3            [1, 22, 1125, 1]          [1, 1, 1125, 22]          --                        --\n",
      "├─Conv2d (conv_time): 1-4                [1, 1, 1125, 22]          [1, 40, 1101, 22]         1,040                     [25, 1]\n",
      "├─Conv2d (conv_spat): 1-5                [1, 40, 1101, 22]         [1, 40, 1101, 1]          35,200                    [1, 22]\n",
      "├─BatchNorm2d (bnorm): 1-6               [1, 40, 1101, 1]          [1, 40, 1101, 1]          80                        --\n",
      "├─Expression (conv_nonlin_exp): 1-7      [1, 40, 1101, 1]          [1, 40, 1101, 1]          --                        --\n",
      "├─AvgPool2d (pool): 1-8                  [1, 40, 1101, 1]          [1, 40, 69, 1]            --                        [75, 1]\n",
      "├─SafeLog (pool_nonlin_exp): 1-9         [1, 40, 69, 1]            [1, 40, 69, 1]            --                        --\n",
      "├─Dropout (drop): 1-10                   [1, 40, 69, 1]            [1, 40, 69, 1]            --                        --\n",
      "├─Sequential (final_layer): 1-11         [1, 40, 69, 1]            [1, 4]                    --                        --\n",
      "│    └─Conv2d (conv_classifier): 2-1     [1, 40, 69, 1]            [1, 4, 1, 1]              11,044                    [69, 1]\n",
      "│    └─Expression (squeeze): 2-2         [1, 4, 1, 1]              [1, 4]                    --                        --\n",
      "============================================================================================================================================\n",
      "Total params: 47,364\n",
      "Trainable params: 47,364\n",
      "Non-trainable params: 0\n",
      "Total mult-adds (Units.MEGABYTES): 63.96\n",
      "============================================================================================================================================\n",
      "Input size (MB): 0.10\n",
      "Forward/backward pass size (MB): 8.46\n",
      "Params size (MB): 0.19\n",
      "Estimated Total Size (MB): 8.74\n",
      "============================================================================================================================================\n"
     ]
    }
   ],
   "source": [
    "print(model2)"
   ]
  },
  {
   "cell_type": "code",
   "execution_count": 5,
   "metadata": {},
   "outputs": [
    {
     "name": "stdout",
     "output_type": "stream",
     "text": [
      "============================================================================================================================================\n",
      "Layer (type (var_name):depth-idx)        Input Shape               Output Shape              Param #                   Kernel Shape\n",
      "============================================================================================================================================\n",
      "ShallowFBCSPNet (ShallowFBCSPNet)        [1, 22, 1125]             [1, 4]                    --                        --\n",
      "├─SafeLog (pool_nonlin_exp): 1-1         [1, 22, 1125]             [1, 22, 1125]             --                        --\n",
      "├─Ensure4d (ensuredims): 1-2             [1, 22, 1125]             [1, 22, 1125, 1]          --                        --\n",
      "├─Rearrange (dimshuffle): 1-3            [1, 22, 1125, 1]          [1, 1, 1125, 22]          --                        --\n",
      "├─Conv2d (conv_time): 1-4                [1, 1, 1125, 22]          [1, 40, 1101, 22]         1,040                     [25, 1]\n",
      "├─Conv2d (conv_spat): 1-5                [1, 40, 1101, 22]         [1, 40, 1101, 1]          35,200                    [1, 22]\n",
      "├─BatchNorm2d (bnorm): 1-6               [1, 40, 1101, 1]          [1, 40, 1101, 1]          80                        --\n",
      "├─Expression (conv_nonlin_exp): 1-7      [1, 40, 1101, 1]          [1, 40, 1101, 1]          --                        --\n",
      "├─AvgPool2d (pool): 1-8                  [1, 40, 1101, 1]          [1, 40, 69, 1]            --                        [75, 1]\n",
      "├─SafeLog (pool_nonlin_exp): 1-9         [1, 40, 69, 1]            [1, 40, 69, 1]            --                        --\n",
      "├─Dropout (drop): 1-10                   [1, 40, 69, 1]            [1, 40, 69, 1]            --                        --\n",
      "├─Sequential (final_layer): 1-11         [1, 40, 69, 1]            [1, 4]                    --                        --\n",
      "│    └─Conv2d (conv_classifier): 2-1     [1, 40, 69, 1]            [1, 4, 1, 1]              11,044                    [69, 1]\n",
      "│    └─Expression (squeeze): 2-2         [1, 4, 1, 1]              [1, 4]                    --                        --\n",
      "============================================================================================================================================\n",
      "Total params: 47,364\n",
      "Trainable params: 47,364\n",
      "Non-trainable params: 0\n",
      "Total mult-adds (Units.MEGABYTES): 63.96\n",
      "============================================================================================================================================\n",
      "Input size (MB): 0.10\n",
      "Forward/backward pass size (MB): 8.46\n",
      "Params size (MB): 0.19\n",
      "Estimated Total Size (MB): 8.74\n",
      "============================================================================================================================================\n"
     ]
    }
   ],
   "source": [
    "print(model)"
   ]
  },
  {
   "cell_type": "code",
   "execution_count": 6,
   "metadata": {},
   "outputs": [],
   "source": [
    "import os\n",
    "import torch\n",
    "\n",
    "def extract_model_activations(model, input_tensor, output_dir, batch_size=128):\n",
    "    if not os.path.exists(output_dir):\n",
    "        os.makedirs(output_dir)\n",
    "\n",
    "    activations = OrderedDict()\n",
    "\n",
    "    def get_activation(name):\n",
    "        def hook(model, input, output):\n",
    "            activations[name] = output.detach()\n",
    "        return hook\n",
    "\n",
    "    # Register hooks for specific layers\n",
    "    for name, layer in model.named_modules():\n",
    "        if name == \"conv_time\" or name == \"conv_spat\" or name ==\"pool\":  # Modify as per your layer names\n",
    "            layer.register_forward_hook(get_activation(name))\n",
    "\n",
    "    model.eval()\n",
    "\n",
    "    with torch.no_grad():\n",
    "        for i in range(0, input_tensor.shape[0], batch_size):\n",
    "            batch = input_tensor[i:i + batch_size]  # Select current batch\n",
    "            _ = model(batch)  # Forward pass through the model\n",
    "\n",
    "            # Save activations after each batch\n",
    "            for name, activation in activations.items():\n",
    "                batch_idx = i // batch_size + 1  # This determines the batch number\n",
    "                print(f\"saving: {name}_batch_{batch_idx}.pt\")\n",
    "                torch.save(activation, os.path.join(output_dir, f\"{name}_batch_{batch_idx}.pt\"))\n",
    "            \n",
    "            # Clear activations list after saving\n",
    "            activations.clear()\n",
    "            torch.cuda.empty_cache()  # Optional: Clear GPU memory after each batch\n",
    "\n"
   ]
  },
  {
   "cell_type": "code",
   "execution_count": 7,
   "metadata": {},
   "outputs": [],
   "source": [
    "import pickle\n",
    "with open('Datasets/test_set.pkl', 'rb') as f:\n",
    "    test_set = pickle.load(f)"
   ]
  },
  {
   "cell_type": "code",
   "execution_count": 8,
   "metadata": {},
   "outputs": [
    {
     "name": "stdout",
     "output_type": "stream",
     "text": [
      "torch.Size([2592, 22, 1125])\n",
      "<class 'torch.Tensor'>\n"
     ]
    }
   ],
   "source": [
    "X = torch.stack([torch.from_numpy(test_set[i][0]) for i in range(len(test_set))])\n",
    "\n",
    "total_samples = X.shape[0]\n",
    "print(X.shape)  # Verify the tensor shape\n",
    "print(type(X))  # Should output <class 'torch.Tensor'>\n"
   ]
  },
  {
   "cell_type": "code",
   "execution_count": 9,
   "metadata": {},
   "outputs": [
    {
     "name": "stdout",
     "output_type": "stream",
     "text": [
      "cpu\n",
      "cpu\n"
     ]
    }
   ],
   "source": [
    "print(model.conv_time.weight.device)  # Check the device of the conv_time layer\n",
    "print(next(model.parameters()).device)\n"
   ]
  },
  {
   "cell_type": "code",
   "execution_count": 10,
   "metadata": {},
   "outputs": [
    {
     "name": "stdout",
     "output_type": "stream",
     "text": [
      "2592\n"
     ]
    }
   ],
   "source": [
    "\n",
    "batch_size = 128\n",
    "total_samples = X.shape[0]\n",
    "print(total_samples)"
   ]
  },
  {
   "cell_type": "code",
   "execution_count": 11,
   "metadata": {},
   "outputs": [
    {
     "name": "stdout",
     "output_type": "stream",
     "text": [
      "saving: conv_time_batch_1.pt\n",
      "saving: conv_spat_batch_1.pt\n",
      "saving: pool_batch_1.pt\n",
      "saving: conv_time_batch_2.pt\n",
      "saving: conv_spat_batch_2.pt\n",
      "saving: pool_batch_2.pt\n",
      "saving: conv_time_batch_3.pt\n",
      "saving: conv_spat_batch_3.pt\n",
      "saving: pool_batch_3.pt\n",
      "saving: conv_time_batch_4.pt\n",
      "saving: conv_spat_batch_4.pt\n",
      "saving: pool_batch_4.pt\n",
      "saving: conv_time_batch_5.pt\n",
      "saving: conv_spat_batch_5.pt\n",
      "saving: pool_batch_5.pt\n",
      "saving: conv_time_batch_6.pt\n",
      "saving: conv_spat_batch_6.pt\n",
      "saving: pool_batch_6.pt\n",
      "saving: conv_time_batch_7.pt\n",
      "saving: conv_spat_batch_7.pt\n",
      "saving: pool_batch_7.pt\n",
      "saving: conv_time_batch_8.pt\n",
      "saving: conv_spat_batch_8.pt\n",
      "saving: pool_batch_8.pt\n",
      "saving: conv_time_batch_9.pt\n",
      "saving: conv_spat_batch_9.pt\n",
      "saving: pool_batch_9.pt\n",
      "saving: conv_time_batch_10.pt\n",
      "saving: conv_spat_batch_10.pt\n",
      "saving: pool_batch_10.pt\n",
      "saving: conv_time_batch_11.pt\n",
      "saving: conv_spat_batch_11.pt\n",
      "saving: pool_batch_11.pt\n",
      "saving: conv_time_batch_12.pt\n",
      "saving: conv_spat_batch_12.pt\n",
      "saving: pool_batch_12.pt\n",
      "saving: conv_time_batch_13.pt\n",
      "saving: conv_spat_batch_13.pt\n",
      "saving: pool_batch_13.pt\n",
      "saving: conv_time_batch_14.pt\n",
      "saving: conv_spat_batch_14.pt\n",
      "saving: pool_batch_14.pt\n",
      "saving: conv_time_batch_15.pt\n",
      "saving: conv_spat_batch_15.pt\n",
      "saving: pool_batch_15.pt\n",
      "saving: conv_time_batch_16.pt\n",
      "saving: conv_spat_batch_16.pt\n",
      "saving: pool_batch_16.pt\n",
      "saving: conv_time_batch_17.pt\n",
      "saving: conv_spat_batch_17.pt\n",
      "saving: pool_batch_17.pt\n",
      "saving: conv_time_batch_18.pt\n",
      "saving: conv_spat_batch_18.pt\n",
      "saving: pool_batch_18.pt\n",
      "saving: conv_time_batch_19.pt\n",
      "saving: conv_spat_batch_19.pt\n",
      "saving: pool_batch_19.pt\n",
      "saving: conv_time_batch_20.pt\n",
      "saving: conv_spat_batch_20.pt\n",
      "saving: pool_batch_20.pt\n",
      "saving: conv_time_batch_21.pt\n",
      "saving: conv_spat_batch_21.pt\n",
      "saving: pool_batch_21.pt\n"
     ]
    }
   ],
   "source": [
    "extract_model_activations(model,X,output_dir=\"Datasets/activations/model1/\",batch_size=batch_size)\n"
   ]
  },
  {
   "cell_type": "code",
   "execution_count": 12,
   "metadata": {},
   "outputs": [
    {
     "name": "stdout",
     "output_type": "stream",
     "text": [
      "saving: conv_time_batch_1.pt\n",
      "saving: conv_spat_batch_1.pt\n",
      "saving: pool_batch_1.pt\n",
      "saving: conv_time_batch_2.pt\n",
      "saving: conv_spat_batch_2.pt\n",
      "saving: pool_batch_2.pt\n",
      "saving: conv_time_batch_3.pt\n",
      "saving: conv_spat_batch_3.pt\n",
      "saving: pool_batch_3.pt\n",
      "saving: conv_time_batch_4.pt\n",
      "saving: conv_spat_batch_4.pt\n",
      "saving: pool_batch_4.pt\n",
      "saving: conv_time_batch_5.pt\n",
      "saving: conv_spat_batch_5.pt\n",
      "saving: pool_batch_5.pt\n",
      "saving: conv_time_batch_6.pt\n",
      "saving: conv_spat_batch_6.pt\n",
      "saving: pool_batch_6.pt\n",
      "saving: conv_time_batch_7.pt\n",
      "saving: conv_spat_batch_7.pt\n",
      "saving: pool_batch_7.pt\n",
      "saving: conv_time_batch_8.pt\n",
      "saving: conv_spat_batch_8.pt\n",
      "saving: pool_batch_8.pt\n",
      "saving: conv_time_batch_9.pt\n",
      "saving: conv_spat_batch_9.pt\n",
      "saving: pool_batch_9.pt\n",
      "saving: conv_time_batch_10.pt\n",
      "saving: conv_spat_batch_10.pt\n",
      "saving: pool_batch_10.pt\n",
      "saving: conv_time_batch_11.pt\n",
      "saving: conv_spat_batch_11.pt\n",
      "saving: pool_batch_11.pt\n",
      "saving: conv_time_batch_12.pt\n",
      "saving: conv_spat_batch_12.pt\n",
      "saving: pool_batch_12.pt\n",
      "saving: conv_time_batch_13.pt\n",
      "saving: conv_spat_batch_13.pt\n",
      "saving: pool_batch_13.pt\n",
      "saving: conv_time_batch_14.pt\n",
      "saving: conv_spat_batch_14.pt\n",
      "saving: pool_batch_14.pt\n",
      "saving: conv_time_batch_15.pt\n",
      "saving: conv_spat_batch_15.pt\n",
      "saving: pool_batch_15.pt\n",
      "saving: conv_time_batch_16.pt\n",
      "saving: conv_spat_batch_16.pt\n",
      "saving: pool_batch_16.pt\n",
      "saving: conv_time_batch_17.pt\n",
      "saving: conv_spat_batch_17.pt\n",
      "saving: pool_batch_17.pt\n",
      "saving: conv_time_batch_18.pt\n",
      "saving: conv_spat_batch_18.pt\n",
      "saving: pool_batch_18.pt\n",
      "saving: conv_time_batch_19.pt\n",
      "saving: conv_spat_batch_19.pt\n",
      "saving: pool_batch_19.pt\n",
      "saving: conv_time_batch_20.pt\n",
      "saving: conv_spat_batch_20.pt\n",
      "saving: pool_batch_20.pt\n",
      "saving: conv_time_batch_21.pt\n",
      "saving: conv_spat_batch_21.pt\n",
      "saving: pool_batch_21.pt\n"
     ]
    }
   ],
   "source": [
    "extract_model_activations(model2,X,output_dir=\"Datasets/activations/model2/\",batch_size=batch_size)"
   ]
  },
  {
   "cell_type": "code",
   "execution_count": 13,
   "metadata": {},
   "outputs": [
    {
     "name": "stdout",
     "output_type": "stream",
     "text": [
      "torch.Size([128, 40, 1101, 22])\n"
     ]
    }
   ],
   "source": [
    "length = torch.load(f\"Datasets/activations/model1/conv_time_batch_{3}.pt\")\n",
    "print(length.shape)"
   ]
  },
  {
   "cell_type": "code",
   "execution_count": 14,
   "metadata": {},
   "outputs": [
    {
     "name": "stdout",
     "output_type": "stream",
     "text": [
      "['conv_time', 'conv_spat', 'pool']\n",
      "['conv_time', 'conv_spat', 'pool']\n"
     ]
    }
   ],
   "source": [
    "import numpy as np\n",
    "import pandas as pd\n",
    "import seaborn as sns\n",
    "import matplotlib.pyplot as plt\n",
    "from collections import OrderedDict\n",
    "del X\n",
    "# Use OrderedDict to preserve the order of layer names\n",
    "layer_names_model1 = ['conv_time', 'conv_spat','pool']\n",
    "layer_names_model2 = layer_names_model1\n",
    "\n",
    "\n",
    "print(layer_names_model1)\n",
    "print(layer_names_model2)"
   ]
  },
  {
   "cell_type": "code",
   "execution_count": 15,
   "metadata": {},
   "outputs": [
    {
     "data": {
      "text/plain": [
       "20.25"
      ]
     },
     "execution_count": 15,
     "metadata": {},
     "output_type": "execute_result"
    }
   ],
   "source": [
    "import math\n",
    "batch_nr = total_samples /batch_size\n",
    "\n",
    "batch_nr"
   ]
  },
  {
   "cell_type": "code",
   "execution_count": 16,
   "metadata": {},
   "outputs": [],
   "source": [
    "\n",
    "\n",
    "\n",
    "\n",
    "def compute_kernel_full_highmem(layer, batch_nr, model_number):\n",
    "    \"\"\"Computes the linear kernel for all samples at once.\"\"\"\n",
    "    \n",
    "\n",
    "    activations_list = []\n",
    "    \n",
    "    for batch_idx in range(1, math.ceil(batch_nr+1)):\n",
    "        print(f\"\\rLoading batch {batch_idx} for {layer} in model {model_number}\", end='', flush=True)\n",
    "        \n",
    "\n",
    "        batch_activations = torch.load(f\"Datasets/activations/model{model_number}/{layer}_batch_{batch_idx}.pt\")\n",
    "        batch_activations = batch_activations.reshape(batch_activations.shape[0], -1)  # Flatten\n",
    "        \n",
    "        activations_list.append(batch_activations)\n",
    "    \n",
    "    all_activations = torch.cat(activations_list, dim=0)\n",
    "    print(\"\\nFinal Activations Shape:\", all_activations.shape)\n",
    "\n",
    "    full_kernel = torch.matmul(all_activations, all_activations.T)\n",
    "\n",
    "    return full_kernel\n",
    "\n",
    "# model_1_kernels = OrderedDict()\n",
    "# model_2_kernels = OrderedDict()\n",
    "\n",
    "# for layer in layer_names_model1:\n",
    "#     model_1_kernels[layer] = compute_kernel_full_highmem(layer, batch_nr,1)\n",
    "# for layer in layer_names_model2:\n",
    "#     model_2_kernels[layer] = compute_kernel_full_highmem(layer,batch_nr,2)\n",
    "\n",
    "\n",
    "\n",
    "\n",
    "\n"
   ]
  },
  {
   "cell_type": "code",
   "execution_count": 17,
   "metadata": {},
   "outputs": [
    {
     "name": "stdout",
     "output_type": "stream",
     "text": [
      "Loading batches 1-2 for conv_time in model 1"
     ]
    },
    {
     "name": "stdout",
     "output_type": "stream",
     "text": [
      "Loading batches 21-22 for pool in model 2del 2"
     ]
    }
   ],
   "source": [
    "def compute_kernel_full_lowmem(layer, batch_nr, model_number, total_samples, batch_size, n_batches=1, use_cuda=False):\n",
    "    \"\"\"Computes the full kernel matrix in batches efficiently using matrix multiplication.\"\"\"\n",
    "    \n",
    "    device = torch.device(\"cuda\" if use_cuda and torch.cuda.is_available() else \"cpu\")\n",
    "\n",
    "    full_kernel = torch.zeros((total_samples, total_samples), dtype=torch.float32, device=device)\n",
    "    \n",
    "    for batch_idx in range(1, math.ceil(math.ceil(batch_nr) / n_batches) + 1):\n",
    "        print(f\"\\rLoading batches {batch_idx * n_batches - (n_batches - 1)}-{batch_idx * n_batches} for {layer} in model {model_number}\", \n",
    "              end='', flush=True)\n",
    "\n",
    "        batch_activations_list = []\n",
    "        start_idx_col = (batch_idx - 1) * batch_size * n_batches\n",
    "        end_idx_col = min(start_idx_col + batch_size * n_batches, total_samples)  \n",
    "\n",
    "        # Load multiple batches at once\n",
    "        for sub_batch in range(n_batches):\n",
    "            batch_file_idx = (batch_idx - 1) * n_batches + sub_batch + 1\n",
    "            if batch_file_idx > math.ceil(batch_nr):\n",
    "                break\n",
    "            batch_activations = torch.load(\n",
    "                f\"Datasets/activations/model{model_number}/{layer}_batch_{batch_file_idx}.pt\"\n",
    "            ).to(device)\n",
    "            batch_activations_list.append(batch_activations.reshape(batch_activations.shape[0], -1))\n",
    "\n",
    "        if not batch_activations_list:\n",
    "            continue\n",
    "\n",
    "        batch_activations = torch.cat(batch_activations_list, dim=0)  # Merge batches\n",
    "\n",
    "        for batch_idx2 in range(1, math.ceil(math.ceil(batch_nr) / n_batches) + 2):\n",
    "            batch_activations_transpose_list = []\n",
    "            start_idx_row = (batch_idx2 - 1) * batch_size * n_batches\n",
    "            end_idx_row = min(start_idx_row + batch_size * n_batches, total_samples)\n",
    "\n",
    "            # Load multiple batches at once\n",
    "            for sub_batch2 in range(n_batches):\n",
    "                batch_file_idx2 = (batch_idx2 - 1) * n_batches + sub_batch2 + 1\n",
    "                if batch_file_idx2 > math.ceil(batch_nr):\n",
    "                    break\n",
    "                batch_activations_transpose = torch.load(\n",
    "                    f\"Datasets/activations/model{model_number}/{layer}_batch_{batch_file_idx2}.pt\"\n",
    "                ).to(device)\n",
    "                batch_activations_transpose_list.append(batch_activations_transpose.reshape(batch_activations_transpose.shape[0], -1))\n",
    "\n",
    "            if not batch_activations_transpose_list:\n",
    "                continue\n",
    "\n",
    "            batch_activations_transpose = torch.cat(batch_activations_transpose_list, dim=0)\n",
    "\n",
    "            kernel_block = batch_activations @ batch_activations_transpose.T\n",
    "            full_kernel[start_idx_col:end_idx_col, start_idx_row:end_idx_row] = kernel_block\n",
    "            full_kernel[start_idx_row:end_idx_row, start_idx_col:end_idx_col] = kernel_block.T  # Use symmetry\n",
    "\n",
    "    return full_kernel.cpu()\n",
    "\n",
    "\n",
    "def compute_full_kernels(layer_names_model1, layer_names_model2, batch_nr, total_samples,batch_size,n_batches):\n",
    "    \"\"\"Computes the kernels for both models.\"\"\"\n",
    "    model_1_kernels = {}\n",
    "    model_2_kernels = {}\n",
    "\n",
    "    # Compute kernels for model 1\n",
    "    for layer in layer_names_model1:\n",
    "        model_1_kernels[layer] = compute_kernel_full_lowmem(layer, batch_nr, 1, total_samples,batch_size,n_batches)\n",
    "\n",
    "    # Compute kernels for model 2\n",
    "    for layer in layer_names_model2:\n",
    "        model_2_kernels[layer] = compute_kernel_full_lowmem(layer, batch_nr, 2, total_samples,batch_size,n_batches)\n",
    "\n",
    "    return model_1_kernels, model_2_kernels\n",
    "\n",
    "model_1_kernels = OrderedDict()\n",
    "model_2_kernels = OrderedDict()\n",
    "layer_names_model = layer_names_model1 \n",
    "\n",
    "    \n",
    "model_1_kernels, model_2_kernels = compute_full_kernels(layer_names_model, layer_names_model, batch_nr,total_samples,batch_size,2)"
   ]
  },
  {
   "cell_type": "code",
   "execution_count": 18,
   "metadata": {},
   "outputs": [
    {
     "name": "stdout",
     "output_type": "stream",
     "text": [
      "torch.Size([2592, 2592])\n",
      "No zero values in the tensor.\n",
      "tensor([[4354.4941, 3581.6069, 3531.5522,  ..., 3072.9255, 4246.0312,\n",
      "         3990.4431],\n",
      "        [3581.6069, 3504.5457, 3185.0710,  ..., 2780.1140, 3826.2139,\n",
      "         3562.2351],\n",
      "        [3531.5522, 3185.0710, 3473.2515,  ..., 2775.7959, 3734.8384,\n",
      "         3547.5334],\n",
      "        ...,\n",
      "        [3072.9255, 2780.1140, 2775.7959,  ..., 2775.1204, 3375.6501,\n",
      "         3103.9297],\n",
      "        [4246.0312, 3826.2139, 3734.8384,  ..., 3375.6501, 5377.9814,\n",
      "         4307.5093],\n",
      "        [3990.4431, 3562.2351, 3547.5334,  ..., 3103.9297, 4307.5093,\n",
      "         4612.5444]])\n"
     ]
    }
   ],
   "source": [
    "\n",
    "print(model_1_kernels[\"conv_time\"].shape)\n",
    "if (model_1_kernels[\"conv_time\"] == 0).any():\n",
    "    print(\"The tensor contains at least one zero value.\")\n",
    "else:\n",
    "    print(\"No zero values in the tensor.\")\n",
    "\n",
    "print(model_1_kernels[\"pool\"])\n"
   ]
  },
  {
   "cell_type": "code",
   "execution_count": 19,
   "metadata": {},
   "outputs": [
    {
     "name": "stdout",
     "output_type": "stream",
     "text": [
      "CKA(conv_time, conv_time): 0.9934050820742923\n",
      "CKA(conv_time, conv_spat): 0.9788495684684053\n",
      "CKA(conv_time, pool): 0.31432706053251025\n",
      "CKA(conv_spat, conv_time): 0.87032200763708\n",
      "CKA(conv_spat, conv_spat): 0.8586771375234233\n",
      "CKA(conv_spat, pool): 0.3162279829252574\n",
      "CKA(pool, conv_time): 0.07823009547922961\n",
      "CKA(pool, conv_spat): 0.07591207960512499\n",
      "CKA(pool, pool): 0.18666662314812527\n"
     ]
    }
   ],
   "source": [
    "cka_results = OrderedDict()\n",
    "\n",
    "for layer1, K_x in model_1_kernels.items():\n",
    "    for layer2, K_y in model_2_kernels.items():\n",
    "        cka_value = compute_CKA(K_x, K_y)\n",
    "        cka_results[(layer1, layer2)] = cka_value\n",
    "        print(f\"CKA({layer1}, {layer2}): {cka_value}\")"
   ]
  },
  {
   "cell_type": "code",
   "execution_count": 22,
   "metadata": {},
   "outputs": [
    {
     "data": {
      "image/png": "[encoded data removed]",
      "text/plain": [
       "<Figure size 1000x800 with 2 Axes>"
      ]
     },
     "metadata": {},
     "output_type": "display_data"
    }
   ],
   "source": [
    "# Initialize a matrix for the CKA similarities\n",
    "n_layers1 = len(layer_names_model1)\n",
    "n_layers2 = len(layer_names_model2)\n",
    "matrix = np.zeros((n_layers1, n_layers2))\n",
    "\n",
    "# Fill the matrix with the CKA similarity values\n",
    "for (layer1, layer2), similarity in cka_results.items():\n",
    "    # Get the index for layer1 in model1 and layer2 in model2\n",
    "    if layer1 in layer_names_model1:\n",
    "        i = layer_names_model1.index(layer1)  # Index for model 1 layer\n",
    "    else:\n",
    "        i = -1  # Invalid index (in case of layer not in model1)\n",
    "\n",
    "    if layer2 in layer_names_model2:\n",
    "        j = layer_names_model2.index(layer2)  # Index for model 2 layer\n",
    "    else:\n",
    "        j = -1  # Invalid index (in case of layer not in model2)\n",
    "    \n",
    "    if i != -1 and j != -1:  # Only fill the matrix if both indices are valid\n",
    "        matrix[i, j] = similarity\n",
    "\n",
    "# Create a DataFrame for better visualization\n",
    "df = pd.DataFrame(matrix, index=layer_names_model1, columns=layer_names_model2)\n",
    "\n",
    "# Plot the heatmap\n",
    "plt.figure(figsize=(10, 8))\n",
    "sns.heatmap(df, annot=True, cmap='gist_heat', fmt='.2f', square=True, linewidths=0.5, cbar=True, vmin=0, vmax=1)\n",
    "plt.title('CKA Similarity Heatmap (Shallow)')\n",
    "plt.xlabel(f'Layer (Untrained)')\n",
    "plt.ylabel(f'Layer (Trained)')\n",
    "plt.show()\n"
   ]
  },
  {
   "cell_type": "code",
   "execution_count": null,
   "metadata": {},
   "outputs": [],
   "source": []
  }
 ],
 "metadata": {
  "kernelspec": {
   "display_name": "Python 3",
   "language": "python",
   "name": "python3"
  },
  "language_info": {
   "codemirror_mode": {
    "name": "ipython",
    "version": 3
   },
   "file_extension": ".py",
   "mimetype": "text/x-python",
   "name": "python",
   "nbconvert_exporter": "python",
   "pygments_lexer": "ipython3",
   "version": "3.12.9"
  }
 },
 "nbformat": 4,
 "nbformat_minor": 2
}
