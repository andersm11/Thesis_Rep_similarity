{
 "cells": [
  {
   "cell_type": "code",
   "execution_count": 458,
   "metadata": {},
   "outputs": [],
   "source": [
    "import numpy as np\n",
    "import torch\n",
    "import matplotlib.pyplot as plt\n",
    "import seaborn as sns\n",
    "from braindecode.models import EEGConformer\n",
    "import pandas as pd\n",
    "from collections import OrderedDict\n",
    "from scipy.sparse import coo_matrix\n",
    "import math\n",
    "import importlib\n",
    "import GIN_model\n",
    "importlib.reload(GIN_model)\n",
    "from GIN_model  import ShallowGINNet\n",
    "from torchinfo import summary"
   ]
  },
  {
   "cell_type": "code",
   "execution_count": 459,
   "metadata": {},
   "outputs": [],
   "source": [
    "in_chans = 22\n",
    "n_classes = 4\n",
    "input_window_samples = 1125\n",
    "model = ShallowGINNet(in_chans,n_classes,input_window_samples)\n",
    "#ref_model = ShallowFBCSPNet(in_chans,n_classes,input_window_samples)"
   ]
  },
  {
   "cell_type": "code",
   "execution_count": 460,
   "metadata": {},
   "outputs": [
    {
     "name": "stdout",
     "output_type": "stream",
     "text": [
      "ShallowGINNet(\n",
      "  (gin): GIN(22, 128, num_layers=2)\n",
      "  (spatial): Conv2d(1, 1, kernel_size=(64, 1), stride=(1, 1))\n",
      "  (pool): AvgPool1d(kernel_size=(100,), stride=(100,), padding=(0,))\n",
      "  (batch_norm): BatchNorm2d(1, eps=1e-05, momentum=0.1, affine=True, track_running_stats=True)\n",
      "  (dropout): Dropout(p=0.5, inplace=False)\n",
      "  (fc): LazyLinear(in_features=0, out_features=4, bias=True)\n",
      ")\n"
     ]
    }
   ],
   "source": [
    "print(model)"
   ]
  },
  {
   "cell_type": "code",
   "execution_count": 461,
   "metadata": {},
   "outputs": [],
   "source": [
    "import torch\n",
    "from torch_geometric.data import Data, Batch\n",
    "\n",
    "# Number of nodes per graph\n",
    "num_nodes = 1125  \n",
    "\n",
    "# Construct a single graph's edge index\n",
    "edge_index = torch.tensor([\n",
    "    [i for i in range(num_nodes - 1)] + [i + 1 for i in range(num_nodes - 1)],\n",
    "    [i + 1 for i in range(num_nodes - 1)] + [i for i in range(num_nodes - 1)]\n",
    "], dtype=torch.long)\n",
    "\n",
    "# Batch size\n",
    "batch_size = 3  \n",
    "\n",
    "# Repeat edge index for batching\n",
    "edge_index = edge_index.repeat(1, batch_size)\n",
    "\n",
    "# Create batch indices\n",
    "batch = torch.tensor([i for i in range(batch_size) for _ in range(num_nodes)])\n",
    "\n",
    "# Create node features (random example)\n",
    "x = torch.rand((batch_size * num_nodes, 22))  # Assuming 22 node features per node\n",
    "\n",
    "# Wrap into PyG data object\n",
    "data_list = [Data(x=x[i*num_nodes:(i+1)*num_nodes], edge_index=edge_index) for i in range(batch_size)]\n",
    "batched_data = Batch.from_data_list(data_list)"
   ]
  },
  {
   "cell_type": "code",
   "execution_count": 462,
   "metadata": {},
   "outputs": [],
   "source": [
    "# Dummy input matching the expected input size\n",
    "dummy_input = torch.rand(batch_size, 22, num_nodes)  # Ensure it matches your model's input size\n",
    "\n",
    "# Ensure edge_index is properly formatted for PyG models\n",
    "dummy_edge_index = torch.randint(0, num_nodes, (2, num_nodes * 2))  # Example edges\n",
    "\n",
    "# Forward pass to initialize lazy layers\n",
    "with torch.no_grad():\n",
    "    model(dummy_input, edge_index=dummy_edge_index)  # Make sure your model takes edge_index\n"
   ]
  },
  {
   "cell_type": "code",
   "execution_count": 463,
   "metadata": {},
   "outputs": [
    {
     "data": {
      "text/plain": [
       "=================================================================================================================================================\n",
       "Layer (type:depth-idx)                        Input Shape               Output Shape              Param #                   Kernel Shape\n",
       "=================================================================================================================================================\n",
       "ShallowGINNet                                 [1, 22, 1125]             [1, 4]                    --                        --\n",
       "├─GIN: 1-1                                    [1, 1125, 22]             [1, 1125, 128]            --                        --\n",
       "│    └─ModuleList: 2-5                        --                        --                        (recursive)               --\n",
       "│    │    └─GINConv: 3-1                      [1, 1125, 22]             [1, 1125, 128]            19,456                    --\n",
       "│    │    └─GINConv: 3-5                      --                        --                        (recursive)               --\n",
       "│    │    └─GINConv: 3-3                      --                        --                        (recursive)               --\n",
       "│    └─ModuleList: 2-2                        --                        --                        --                        --\n",
       "│    │    └─Identity: 3-4                     [1, 1125, 128]            [1, 1125, 128]            --                        --\n",
       "│    └─ModuleList: 2-5                        --                        --                        (recursive)               --\n",
       "│    │    └─GINConv: 3-5                      --                        --                        (recursive)               --\n",
       "│    └─Dropout: 2-4                           [1, 1125, 128]            [1, 1125, 128]            --                        --\n",
       "│    └─ModuleList: 2-5                        --                        --                        (recursive)               --\n",
       "│    │    └─GINConv: 3-6                      [1, 1125, 128]            [1, 1125, 128]            33,024                    --\n",
       "├─Conv2d: 1-2                                 [1, 1, 128, 1125]         [1, 1, 65, 1125]          65                        [64, 1]\n",
       "├─BatchNorm2d: 1-3                            [1, 1, 65, 1125]          [1, 1, 65, 1125]          2                         --\n",
       "├─AvgPool1d: 1-4                              [1, 73125]                [1, 731]                  --                        [100]\n",
       "├─Dropout: 1-5                                [1, 731]                  [1, 731]                  --                        --\n",
       "├─Linear: 1-6                                 [1, 731]                  [1, 4]                    2,928                     --\n",
       "=================================================================================================================================================\n",
       "Total params: 71,987\n",
       "Trainable params: 71,987\n",
       "Non-trainable params: 0\n",
       "Total mult-adds (Units.MEGABYTES): 4.81\n",
       "=================================================================================================================================================\n",
       "Input size (MB): 0.10\n",
       "Forward/backward pass size (MB): 5.78\n",
       "Params size (MB): 0.22\n",
       "Estimated Total Size (MB): 6.10\n",
       "================================================================================================================================================="
      ]
     },
     "execution_count": 463,
     "metadata": {},
     "output_type": "execute_result"
    }
   ],
   "source": [
    "summary(model, input_size=(1, 22, 1125), col_names=[\"input_size\", \"output_size\", \"num_params\", \"kernel_size\"],edge_index=edge_index)\n"
   ]
  },
  {
   "cell_type": "code",
   "execution_count": null,
   "metadata": {},
   "outputs": [],
   "source": []
  }
 ],
 "metadata": {
  "kernelspec": {
   "display_name": "Python 3",
   "language": "python",
   "name": "python3"
  },
  "language_info": {
   "codemirror_mode": {
    "name": "ipython",
    "version": 3
   },
   "file_extension": ".py",
   "mimetype": "text/x-python",
   "name": "python",
   "nbconvert_exporter": "python",
   "pygments_lexer": "ipython3",
   "version": "3.12.9"
  }
 },
 "nbformat": 4,
 "nbformat_minor": 2
}
