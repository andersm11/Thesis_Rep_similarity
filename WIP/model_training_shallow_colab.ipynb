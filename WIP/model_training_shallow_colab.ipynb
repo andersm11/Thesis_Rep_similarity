{
  "cells": [
    {
      "cell_type": "code",
      "execution_count": 1,
      "metadata": {
        "colab": {
          "base_uri": "https://localhost:8080/"
        },
        "id": "xToQncVyPKLp",
        "outputId": "d7184413-a50d-4b01-90ce-17208842dfe3"
      },
      "outputs": [
        {
          "output_type": "stream",
          "name": "stdout",
          "text": [
            "Running in Google Colab. Checking required libraries...\n",
            "All required libraries are already installed.\n"
          ]
        }
      ],
      "source": [
        "import sys\n",
        "import importlib\n",
        "import subprocess\n",
        "\n",
        "def install_if_colab():\n",
        "    if \"google.colab\" in sys.modules:\n",
        "        print(\"Running in Google Colab. Checking required libraries...\")\n",
        "\n",
        "        packages = [\"moabb\", \"braindecode\"]  # Add required libraries\n",
        "        missing_packages = [pkg for pkg in packages if importlib.util.find_spec(pkg) is None]\n",
        "\n",
        "        if missing_packages:\n",
        "            print(f\"Installing missing libraries: {', '.join(missing_packages)}\")\n",
        "            !pip install {\" \".join(missing_packages)}\n",
        "        else:\n",
        "            print(\"All required libraries are already installed.\")\n",
        "    else:\n",
        "        print(\"Not running in Google Colab. No installation needed.\")\n",
        "\n",
        "install_if_colab()\n"
      ]
    },
    {
      "cell_type": "code",
      "execution_count": 2,
      "metadata": {
        "colab": {
          "base_uri": "https://localhost:8080/"
        },
        "id": "tdJUlU4SP2w4",
        "outputId": "a87a3919-81ca-4547-e95e-a8e4b999ddac"
      },
      "outputs": [
        {
          "output_type": "stream",
          "name": "stdout",
          "text": [
            "Drive already mounted at /content/drive; to attempt to forcibly remount, call drive.mount(\"/content/drive\", force_remount=True).\n"
          ]
        }
      ],
      "source": [
        "from google.colab import drive\n",
        "drive.mount('/content/drive')\n",
        "path = \"/content/drive/MyDrive/\""
      ]
    },
    {
      "cell_type": "code",
      "execution_count": 3,
      "metadata": {
        "id": "qOKNCnZCP4YO"
      },
      "outputs": [],
      "source": [
        "import pickle\n",
        "with open(path+'EEG_data/test_set.pkl', 'rb') as f_test:\n",
        "    test_set = pickle.load(f_test)\n",
        "\n",
        "import pickle\n",
        "with open(path+'EEG_data/train_set.pkl', 'rb') as f_train:\n",
        "    train_set = pickle.load(f_train)"
      ]
    },
    {
      "cell_type": "code",
      "source": [
        "print(test_set)"
      ],
      "metadata": {
        "colab": {
          "base_uri": "https://localhost:8080/"
        },
        "id": "HrYD0VhJNVnP",
        "outputId": "43b2febb-feec-4e28-b25b-421468bca0a5"
      },
      "execution_count": 4,
      "outputs": [
        {
          "output_type": "stream",
          "name": "stdout",
          "text": [
            "<braindecode.datasets.base.BaseConcatDataset object at 0x7ebcea75dd50>\n"
          ]
        }
      ]
    },
    {
      "cell_type": "code",
      "source": [
        "print(train_set)"
      ],
      "metadata": {
        "colab": {
          "base_uri": "https://localhost:8080/"
        },
        "id": "vVpW56o5NXcS",
        "outputId": "8e20b3ca-e23d-4972-e39e-1afbb1abcd87"
      },
      "execution_count": 5,
      "outputs": [
        {
          "output_type": "stream",
          "name": "stdout",
          "text": [
            "<braindecode.datasets.base.BaseConcatDataset object at 0x7ebbde3eeb10>\n"
          ]
        }
      ]
    },
    {
      "cell_type": "code",
      "execution_count": 6,
      "metadata": {
        "colab": {
          "base_uri": "https://localhost:8080/"
        },
        "id": "YIzwGI0APKLw",
        "outputId": "4534db75-eae8-4c48-b922-415e7d361054"
      },
      "outputs": [
        {
          "output_type": "stream",
          "name": "stdout",
          "text": [
            "n_classes:  4\n",
            "n_channels: 22\n",
            "input_window_samples size: 1125\n"
          ]
        },
        {
          "output_type": "stream",
          "name": "stderr",
          "text": [
            "/usr/local/lib/python3.11/dist-packages/braindecode/util.py:51: UserWarning: torch.backends.cudnn.benchmark was set to True which may results in lack of reproducibility. In some cases to ensure reproducibility you may need to set torch.backends.cudnn.benchmark to False.\n",
            "  warn(\n"
          ]
        }
      ],
      "source": [
        "import torch\n",
        "#from shallow_fbcsp import ShallowFBCSPNet\n",
        "from braindecode.util import set_random_seeds\n",
        "\n",
        "\n",
        "cuda = torch.cuda.is_available()  # check if GPU is available, if True chooses to use it\n",
        "device = \"cuda\" if cuda else \"cpu\"\n",
        "if cuda:\n",
        "    torch.backends.cudnn.benchmark = True\n",
        "seed = 99999\n",
        "set_random_seeds(seed=seed, cuda=cuda)\n",
        "\n",
        "n_classes = 4\n",
        "classes = list(range(n_classes))\n",
        "# Extract number of chans and time steps from dataset\n",
        "n_channels = 22\n",
        "input_window_samples = 1125\n",
        "\n",
        "print(\"n_classes: \", n_classes)\n",
        "print(\"n_channels:\", n_channels)\n",
        "print(\"input_window_samples size:\", input_window_samples)"
      ]
    },
    {
      "cell_type": "code",
      "execution_count": 7,
      "metadata": {
        "id": "PqLutP50PKLw"
      },
      "outputs": [],
      "source": [
        "#windows_dataset[0][0].shape"
      ]
    },
    {
      "cell_type": "code",
      "execution_count": 8,
      "metadata": {
        "id": "O3uHPoI-PKLw"
      },
      "outputs": [],
      "source": [
        "#!dir collapsed_shallow_fbscp"
      ]
    },
    {
      "cell_type": "code",
      "execution_count": 9,
      "metadata": {
        "colab": {
          "base_uri": "https://localhost:8080/"
        },
        "id": "qfjReSmiPKLw",
        "outputId": "e283dd5b-ca2f-4162-97a7-c12e186698b1"
      },
      "outputs": [
        {
          "output_type": "stream",
          "name": "stdout",
          "text": [
            "ShallowFBCSPNet(\n",
            "  (temporal): Conv2d(1, 10, kernel_size=(1, 25), stride=(1, 1))\n",
            "  (spatial): Conv2d(10, 20, kernel_size=(22, 1), stride=(1, 1))\n",
            "  (batch_norm): BatchNorm2d(20, eps=1e-05, momentum=0.1, affine=True, track_running_stats=True)\n",
            "  (pool): AvgPool2d(kernel_size=(1, 20), stride=(1, 20), padding=0)\n",
            "  (dropout): Dropout(p=0.7, inplace=False)\n",
            "  (fc): Linear(in_features=1100, out_features=4, bias=True)\n",
            ")\n"
          ]
        }
      ],
      "source": [
        "#from models_fbscp import CollapsedShallowNet\n",
        "# The ShallowFBCSPNet is a `nn.Sequential` model\n",
        "import importlib\n",
        "import shallow_laurits\n",
        "from weight_init import init_weights\n",
        "importlib.reload(shallow_laurits)\n",
        "from shallow_laurits import ShallowFBCSPNet\n",
        "\n",
        "model = ShallowFBCSPNet(\n",
        "    n_chans=22,\n",
        "    n_outputs=n_classes,\n",
        "    n_times=input_window_samples,\n",
        ")\n",
        "\n",
        "# Display torchinfo table describing the model\n",
        "print(model)\n",
        "\n",
        "# Send model to GPU\n",
        "if cuda:\n",
        "    model.cuda()\n",
        "\n"
      ]
    },
    {
      "cell_type": "code",
      "execution_count": 10,
      "metadata": {
        "id": "i--sNts7PKLx"
      },
      "outputs": [],
      "source": [
        "# splitted = windows_dataset.split(\"session\")\n",
        "# train_set = splitted['0train']  # Session train\n",
        "# test_set = splitted['1test']  # Session evaluation\n",
        "\n",
        "from torch.nn import Module\n",
        "from torch.optim.lr_scheduler import LRScheduler\n",
        "from torch.utils.data import DataLoader\n",
        "\n",
        "#lr = 1e-4\n",
        "#weight_decay = 1e-4\n",
        "#batch_size = 64\n",
        "#n_epochs = 200\n"
      ]
    },
    {
      "cell_type": "code",
      "execution_count": 11,
      "metadata": {
        "id": "7GYFp83kPKLy"
      },
      "outputs": [],
      "source": [
        "\n",
        "from tqdm import tqdm\n",
        "# Define a method for training one epoch\n",
        "\n",
        "\n",
        "def train_one_epoch(\n",
        "        dataloader: DataLoader, model: Module, loss_fn, optimizer,\n",
        "        scheduler: LRScheduler, epoch: int, device, print_batch_stats=True\n",
        "):\n",
        "    model.train()  # Set the model to training mode\n",
        "    train_loss, correct = 0, 0\n",
        "\n",
        "    progress_bar = tqdm(enumerate(dataloader), total=len(dataloader),\n",
        "                        disable=not print_batch_stats)\n",
        "\n",
        "    for batch_idx, (X, y, _) in progress_bar:\n",
        "        X, y = X.to(device), y.to(device)\n",
        "        #print(X.shape)\n",
        "        optimizer.zero_grad()\n",
        "        pred = model(X)\n",
        "        loss = loss_fn(pred, y)\n",
        "        loss.backward()\n",
        "        optimizer.step()  # update the model weights\n",
        "        optimizer.zero_grad()\n",
        "\n",
        "        train_loss += loss.item()\n",
        "        correct += (pred.argmax(1) == y).sum().item()\n",
        "\n",
        "        #if print_batch_stats:\n",
        "        #    progress_bar.set_description(\n",
        "        #        f\"Epoch {epoch}/{n_epochs}, \"\n",
        "        #        f\"Batch {batch_idx + 1}/{len(dataloader)}, \"\n",
        "        #        f\"Loss: {loss.item():.6f}\"\n",
        "        #    )\n",
        "\n",
        "    # Update the learning rate\n",
        "    scheduler.step()\n",
        "\n",
        "    correct /= len(dataloader.dataset)\n",
        "    return train_loss / len(dataloader), correct\n"
      ]
    },
    {
      "cell_type": "code",
      "execution_count": 12,
      "metadata": {
        "id": "JZtxdOS5PKLy"
      },
      "outputs": [],
      "source": [
        "from collections import defaultdict\n",
        "from tqdm import tqdm\n",
        "import torch\n",
        "from torch.utils.data import DataLoader\n",
        "from sklearn.metrics import confusion_matrix\n",
        "import numpy as np\n",
        "\n",
        "@torch.no_grad()\n",
        "def test_model(dataloader: DataLoader, model: torch.nn.Module, loss_fn, print_batch_stats=True):\n",
        "    device = next(model.parameters()).device  # Get model device\n",
        "    size = len(dataloader.dataset)\n",
        "    n_batches = len(dataloader)\n",
        "    model.eval()  # Switch to evaluation mode\n",
        "    test_loss, correct = 0, 0\n",
        "\n",
        "    # Initialize dictionaries for per-class tracking\n",
        "    class_correct = defaultdict(int)\n",
        "    class_total = defaultdict(int)\n",
        "\n",
        "    # Lists to store true and predicted labels for confusion matrix\n",
        "    all_preds = []\n",
        "    all_targets = []\n",
        "\n",
        "    if print_batch_stats:\n",
        "        progress_bar = tqdm(enumerate(dataloader), total=len(dataloader))\n",
        "    else:\n",
        "        progress_bar = enumerate(dataloader)\n",
        "\n",
        "    for batch_idx, (X, y, _) in progress_bar:\n",
        "        X, y = X.to(device), y.to(device)\n",
        "        pred = model(X)\n",
        "        batch_loss = loss_fn(pred, y).item()\n",
        "\n",
        "        test_loss += batch_loss\n",
        "        correct += (pred.argmax(1) == y).sum().item()\n",
        "\n",
        "        # Store predictions and true labels for confusion matrix\n",
        "        all_preds.append(pred.argmax(1).cpu())\n",
        "        all_targets.append(y.cpu())\n",
        "\n",
        "        # Compute per-class accuracy\n",
        "        preds_labels = pred.argmax(1)\n",
        "        for label, pred_label in zip(y, preds_labels):\n",
        "            class_total[label.item()] += 1\n",
        "            class_correct[label.item()] += (label == pred_label).item()\n",
        "\n",
        "        if print_batch_stats:\n",
        "            progress_bar.set_description(\n",
        "                f\"Batch {batch_idx + 1}/{len(dataloader)}, Loss: {batch_loss:.6f}\"\n",
        "            )\n",
        "\n",
        "    # Convert lists to tensors\n",
        "    all_preds = torch.cat(all_preds)\n",
        "    all_targets = torch.cat(all_targets)\n",
        "\n",
        "    # Compute per-class accuracy\n",
        "    class_accuracies = {\n",
        "        cls: (class_correct[cls] / class_total[cls]) * 100 if class_total[cls] > 0 else 0\n",
        "        for cls in class_total\n",
        "    }\n",
        "\n",
        "    # Compute overall accuracy\n",
        "    test_loss /= n_batches\n",
        "    overall_accuracy = (correct / size) * 100\n",
        "\n",
        "    # Print per-class accuracy\n",
        "    print(\"\\nClass-wise Accuracy:\")\n",
        "    for cls, acc in class_accuracies.items():\n",
        "        print(f\"  Class {cls}: {acc:.2f}%\")\n",
        "\n",
        "    print(f\"Test Accuracy: {overall_accuracy:.1f}%, Test Loss: {test_loss:.6f}\\n\")\n",
        "\n",
        "    return test_loss, overall_accuracy, class_accuracies, all_preds, all_targets\n"
      ]
    },
    {
      "cell_type": "code",
      "execution_count": 13,
      "metadata": {
        "id": "yjRXtOdAPKLz",
        "colab": {
          "base_uri": "https://localhost:8080/"
        },
        "outputId": "cc71ebba-a3c6-4ba1-e32c-a6bbf367075a"
      },
      "outputs": [
        {
          "output_type": "stream",
          "name": "stderr",
          "text": [
            "\u001b[34m\u001b[1mwandb\u001b[0m: Using wandb-core as the SDK backend.  Please refer to https://wandb.me/wandb-core for more information.\n",
            "\u001b[34m\u001b[1mwandb\u001b[0m: Currently logged in as: \u001b[33mahmm98\u001b[0m (\u001b[33mphilinthesky\u001b[0m) to \u001b[32mhttps://api.wandb.ai\u001b[0m. Use \u001b[1m`wandb login --relogin`\u001b[0m to force relogin\n"
          ]
        },
        {
          "output_type": "execute_result",
          "data": {
            "text/plain": [
              "True"
            ]
          },
          "metadata": {},
          "execution_count": 13
        }
      ],
      "source": [
        "import wandb\n",
        "wandb.login()"
      ]
    },
    {
      "cell_type": "code",
      "execution_count": 14,
      "metadata": {
        "id": "vZUm0f8TPKLz",
        "colab": {
          "base_uri": "https://localhost:8080/",
          "height": 1000
        },
        "outputId": "a7328517-392d-45e1-f9f4-9a1b65e9b830"
      },
      "outputs": [
        {
          "output_type": "display_data",
          "data": {
            "text/plain": [
              "<IPython.core.display.HTML object>"
            ],
            "text/html": [
              "Tracking run with wandb version 0.19.8"
            ]
          },
          "metadata": {}
        },
        {
          "output_type": "display_data",
          "data": {
            "text/plain": [
              "<IPython.core.display.HTML object>"
            ],
            "text/html": [
              "Run data is saved locally in <code>/content/wandb/run-20250318_132330-saf7to9g</code>"
            ]
          },
          "metadata": {}
        },
        {
          "output_type": "display_data",
          "data": {
            "text/plain": [
              "<IPython.core.display.HTML object>"
            ],
            "text/html": [
              "Syncing run <strong><a href='https://wandb.ai/philinthesky/Master%20Thesis/runs/saf7to9g' target=\"_blank\">Shallow 99999</a></strong> to <a href='https://wandb.ai/philinthesky/Master%20Thesis' target=\"_blank\">Weights & Biases</a> (<a href='https://wandb.me/developer-guide' target=\"_blank\">docs</a>)<br>"
            ]
          },
          "metadata": {}
        },
        {
          "output_type": "display_data",
          "data": {
            "text/plain": [
              "<IPython.core.display.HTML object>"
            ],
            "text/html": [
              " View project at <a href='https://wandb.ai/philinthesky/Master%20Thesis' target=\"_blank\">https://wandb.ai/philinthesky/Master%20Thesis</a>"
            ]
          },
          "metadata": {}
        },
        {
          "output_type": "display_data",
          "data": {
            "text/plain": [
              "<IPython.core.display.HTML object>"
            ],
            "text/html": [
              " View run at <a href='https://wandb.ai/philinthesky/Master%20Thesis/runs/saf7to9g' target=\"_blank\">https://wandb.ai/philinthesky/Master%20Thesis/runs/saf7to9g</a>"
            ]
          },
          "metadata": {}
        },
        {
          "output_type": "stream",
          "name": "stdout",
          "text": [
            "Epoch 1/100: "
          ]
        },
        {
          "output_type": "stream",
          "name": "stderr",
          "text": [
            "100%|██████████| 41/41 [00:02<00:00, 17.19it/s]\n",
            "Batch 41/41, Loss: 1.344154: 100%|██████████| 41/41 [00:00<00:00, 44.09it/s]\n"
          ]
        },
        {
          "output_type": "stream",
          "name": "stdout",
          "text": [
            "\n",
            "Class-wise Accuracy:\n",
            "  Class 1: 25.46%\n",
            "  Class 2: 28.55%\n",
            "  Class 0: 22.53%\n",
            "  Class 3: 32.56%\n",
            "Test Accuracy: 27.3%, Test Loss: 1.398575\n",
            "\n",
            "\n",
            "Class-wise Accuracy:\n",
            "  Class 1: 25.46%\n",
            "  Class 2: 28.55%\n",
            "  Class 0: 22.53%\n",
            "  Class 3: 32.56%\n",
            "Train Accuracy: 24.54%, Average Train Loss: 1.575892, Test Accuracy: 27.28%, Average Test Loss: 1.398575\n",
            "\n",
            "Epoch 2/100: "
          ]
        },
        {
          "output_type": "stream",
          "name": "stderr",
          "text": [
            "100%|██████████| 41/41 [00:00<00:00, 53.85it/s]\n",
            "Batch 41/41, Loss: 1.357629: 100%|██████████| 41/41 [00:00<00:00, 50.50it/s]\n"
          ]
        },
        {
          "output_type": "stream",
          "name": "stdout",
          "text": [
            "\n",
            "Class-wise Accuracy:\n",
            "  Class 1: 23.92%\n",
            "  Class 2: 27.16%\n",
            "  Class 0: 27.47%\n",
            "  Class 3: 37.81%\n",
            "Test Accuracy: 29.1%, Test Loss: 1.383888\n",
            "\n",
            "\n",
            "Class-wise Accuracy:\n",
            "  Class 1: 23.92%\n",
            "  Class 2: 27.16%\n",
            "  Class 0: 27.47%\n",
            "  Class 3: 37.81%\n",
            "Train Accuracy: 28.51%, Average Train Loss: 1.430674, Test Accuracy: 29.09%, Average Test Loss: 1.383888\n",
            "\n",
            "Epoch 3/100: "
          ]
        },
        {
          "output_type": "stream",
          "name": "stderr",
          "text": [
            "100%|██████████| 41/41 [00:00<00:00, 45.75it/s]\n",
            "Batch 41/41, Loss: 1.335175: 100%|██████████| 41/41 [00:00<00:00, 52.02it/s]\n"
          ]
        },
        {
          "output_type": "stream",
          "name": "stdout",
          "text": [
            "\n",
            "Class-wise Accuracy:\n",
            "  Class 1: 28.24%\n",
            "  Class 2: 29.63%\n",
            "  Class 0: 26.85%\n",
            "  Class 3: 37.04%\n",
            "Test Accuracy: 30.4%, Test Loss: 1.372013\n",
            "\n",
            "\n",
            "Class-wise Accuracy:\n",
            "  Class 1: 28.24%\n",
            "  Class 2: 29.63%\n",
            "  Class 0: 26.85%\n",
            "  Class 3: 37.04%\n",
            "Train Accuracy: 29.63%, Average Train Loss: 1.416642, Test Accuracy: 30.44%, Average Test Loss: 1.372013\n",
            "\n",
            "Epoch 4/100: "
          ]
        },
        {
          "output_type": "stream",
          "name": "stderr",
          "text": [
            "100%|██████████| 41/41 [00:00<00:00, 56.06it/s]\n",
            "Batch 41/41, Loss: 1.276808: 100%|██████████| 41/41 [00:00<00:00, 58.63it/s]\n"
          ]
        },
        {
          "output_type": "stream",
          "name": "stdout",
          "text": [
            "\n",
            "Class-wise Accuracy:\n",
            "  Class 1: 34.41%\n",
            "  Class 2: 29.63%\n",
            "  Class 0: 27.01%\n",
            "  Class 3: 34.10%\n",
            "Test Accuracy: 31.3%, Test Loss: 1.358415\n",
            "\n",
            "\n",
            "Class-wise Accuracy:\n",
            "  Class 1: 34.41%\n",
            "  Class 2: 29.63%\n",
            "  Class 0: 27.01%\n",
            "  Class 3: 34.10%\n",
            "Train Accuracy: 33.68%, Average Train Loss: 1.368697, Test Accuracy: 31.29%, Average Test Loss: 1.358415\n",
            "\n",
            "Epoch 5/100: "
          ]
        },
        {
          "output_type": "stream",
          "name": "stderr",
          "text": [
            "100%|██████████| 41/41 [00:00<00:00, 58.95it/s]\n",
            "Batch 41/41, Loss: 1.251499: 100%|██████████| 41/41 [00:00<00:00, 60.95it/s]\n"
          ]
        },
        {
          "output_type": "stream",
          "name": "stdout",
          "text": [
            "\n",
            "Class-wise Accuracy:\n",
            "  Class 1: 33.80%\n",
            "  Class 2: 29.94%\n",
            "  Class 0: 30.56%\n",
            "  Class 3: 42.13%\n",
            "Test Accuracy: 34.1%, Test Loss: 1.343762\n",
            "\n",
            "\n",
            "Class-wise Accuracy:\n",
            "  Class 1: 33.80%\n",
            "  Class 2: 29.94%\n",
            "  Class 0: 30.56%\n",
            "  Class 3: 42.13%\n",
            "Train Accuracy: 35.46%, Average Train Loss: 1.345555, Test Accuracy: 34.10%, Average Test Loss: 1.343762\n",
            "\n",
            "Epoch 6/100: "
          ]
        },
        {
          "output_type": "stream",
          "name": "stderr",
          "text": [
            "100%|██████████| 41/41 [00:00<00:00, 53.81it/s]\n",
            "Batch 41/41, Loss: 1.254859: 100%|██████████| 41/41 [00:00<00:00, 56.04it/s]\n"
          ]
        },
        {
          "output_type": "stream",
          "name": "stdout",
          "text": [
            "\n",
            "Class-wise Accuracy:\n",
            "  Class 1: 35.96%\n",
            "  Class 2: 30.86%\n",
            "  Class 0: 31.94%\n",
            "  Class 3: 38.27%\n",
            "Test Accuracy: 34.3%, Test Loss: 1.332481\n",
            "\n",
            "\n",
            "Class-wise Accuracy:\n",
            "  Class 1: 35.96%\n",
            "  Class 2: 30.86%\n",
            "  Class 0: 31.94%\n",
            "  Class 3: 38.27%\n",
            "Train Accuracy: 37.77%, Average Train Loss: 1.321043, Test Accuracy: 34.26%, Average Test Loss: 1.332481\n",
            "\n",
            "Epoch 7/100: "
          ]
        },
        {
          "output_type": "stream",
          "name": "stderr",
          "text": [
            "100%|██████████| 41/41 [00:00<00:00, 62.47it/s]\n",
            "Batch 41/41, Loss: 1.243174: 100%|██████████| 41/41 [00:00<00:00, 59.55it/s]\n"
          ]
        },
        {
          "output_type": "stream",
          "name": "stdout",
          "text": [
            "\n",
            "Class-wise Accuracy:\n",
            "  Class 1: 39.35%\n",
            "  Class 2: 36.27%\n",
            "  Class 0: 29.78%\n",
            "  Class 3: 39.20%\n",
            "Test Accuracy: 36.1%, Test Loss: 1.318056\n",
            "\n",
            "\n",
            "Class-wise Accuracy:\n",
            "  Class 1: 39.35%\n",
            "  Class 2: 36.27%\n",
            "  Class 0: 29.78%\n",
            "  Class 3: 39.20%\n",
            "Train Accuracy: 37.42%, Average Train Loss: 1.309227, Test Accuracy: 36.15%, Average Test Loss: 1.318056\n",
            "\n",
            "Epoch 8/100: "
          ]
        },
        {
          "output_type": "stream",
          "name": "stderr",
          "text": [
            "100%|██████████| 41/41 [00:00<00:00, 63.88it/s]\n",
            "Batch 41/41, Loss: 1.233116: 100%|██████████| 41/41 [00:00<00:00, 59.27it/s]\n"
          ]
        },
        {
          "output_type": "stream",
          "name": "stdout",
          "text": [
            "\n",
            "Class-wise Accuracy:\n",
            "  Class 1: 48.15%\n",
            "  Class 2: 35.80%\n",
            "  Class 0: 27.93%\n",
            "  Class 3: 41.05%\n",
            "Test Accuracy: 38.2%, Test Loss: 1.297826\n",
            "\n",
            "\n",
            "Class-wise Accuracy:\n",
            "  Class 1: 48.15%\n",
            "  Class 2: 35.80%\n",
            "  Class 0: 27.93%\n",
            "  Class 3: 41.05%\n",
            "Train Accuracy: 41.32%, Average Train Loss: 1.274943, Test Accuracy: 38.23%, Average Test Loss: 1.297826\n",
            "\n",
            "Epoch 9/100: "
          ]
        },
        {
          "output_type": "stream",
          "name": "stderr",
          "text": [
            "100%|██████████| 41/41 [00:00<00:00, 67.97it/s]\n",
            "Batch 41/41, Loss: 1.221548: 100%|██████████| 41/41 [00:00<00:00, 60.36it/s]\n"
          ]
        },
        {
          "output_type": "stream",
          "name": "stdout",
          "text": [
            "\n",
            "Class-wise Accuracy:\n",
            "  Class 1: 45.99%\n",
            "  Class 2: 37.35%\n",
            "  Class 0: 25.62%\n",
            "  Class 3: 48.61%\n",
            "Test Accuracy: 39.4%, Test Loss: 1.278334\n",
            "\n",
            "\n",
            "Class-wise Accuracy:\n",
            "  Class 1: 45.99%\n",
            "  Class 2: 37.35%\n",
            "  Class 0: 25.62%\n",
            "  Class 3: 48.61%\n",
            "Train Accuracy: 41.44%, Average Train Loss: 1.252663, Test Accuracy: 39.39%, Average Test Loss: 1.278334\n",
            "\n",
            "Epoch 10/100: "
          ]
        },
        {
          "output_type": "stream",
          "name": "stderr",
          "text": [
            "100%|██████████| 41/41 [00:00<00:00, 63.48it/s]\n",
            "Batch 41/41, Loss: 1.195584: 100%|██████████| 41/41 [00:00<00:00, 48.51it/s]\n"
          ]
        },
        {
          "output_type": "stream",
          "name": "stdout",
          "text": [
            "\n",
            "Class-wise Accuracy:\n",
            "  Class 1: 52.31%\n",
            "  Class 2: 38.43%\n",
            "  Class 0: 28.24%\n",
            "  Class 3: 43.83%\n",
            "Test Accuracy: 40.7%, Test Loss: 1.268288\n",
            "\n",
            "\n",
            "Class-wise Accuracy:\n",
            "  Class 1: 52.31%\n",
            "  Class 2: 38.43%\n",
            "  Class 0: 28.24%\n",
            "  Class 3: 43.83%\n",
            "Train Accuracy: 44.98%, Average Train Loss: 1.222746, Test Accuracy: 40.70%, Average Test Loss: 1.268288\n",
            "\n",
            "Epoch 11/100: "
          ]
        },
        {
          "output_type": "stream",
          "name": "stderr",
          "text": [
            "100%|██████████| 41/41 [00:00<00:00, 51.98it/s]\n",
            "Batch 41/41, Loss: 1.152654: 100%|██████████| 41/41 [00:00<00:00, 50.65it/s]\n"
          ]
        },
        {
          "output_type": "stream",
          "name": "stdout",
          "text": [
            "\n",
            "Class-wise Accuracy:\n",
            "  Class 1: 56.64%\n",
            "  Class 2: 39.20%\n",
            "  Class 0: 23.77%\n",
            "  Class 3: 48.92%\n",
            "Test Accuracy: 42.1%, Test Loss: 1.252158\n",
            "\n",
            "\n",
            "Class-wise Accuracy:\n",
            "  Class 1: 56.64%\n",
            "  Class 2: 39.20%\n",
            "  Class 0: 23.77%\n",
            "  Class 3: 48.92%\n",
            "Train Accuracy: 45.64%, Average Train Loss: 1.218623, Test Accuracy: 42.13%, Average Test Loss: 1.252158\n",
            "\n",
            "Epoch 12/100: "
          ]
        },
        {
          "output_type": "stream",
          "name": "stderr",
          "text": [
            "100%|██████████| 41/41 [00:00<00:00, 54.74it/s]\n",
            "Batch 41/41, Loss: 1.174109: 100%|██████████| 41/41 [00:00<00:00, 44.21it/s]\n"
          ]
        },
        {
          "output_type": "stream",
          "name": "stdout",
          "text": [
            "\n",
            "Class-wise Accuracy:\n",
            "  Class 1: 52.01%\n",
            "  Class 2: 41.05%\n",
            "  Class 0: 30.40%\n",
            "  Class 3: 48.46%\n",
            "Test Accuracy: 43.0%, Test Loss: 1.239818\n",
            "\n",
            "\n",
            "Class-wise Accuracy:\n",
            "  Class 1: 52.01%\n",
            "  Class 2: 41.05%\n",
            "  Class 0: 30.40%\n",
            "  Class 3: 48.46%\n",
            "Train Accuracy: 47.76%, Average Train Loss: 1.182314, Test Accuracy: 42.98%, Average Test Loss: 1.239818\n",
            "\n",
            "Epoch 13/100: "
          ]
        },
        {
          "output_type": "stream",
          "name": "stderr",
          "text": [
            "100%|██████████| 41/41 [00:00<00:00, 52.18it/s]\n",
            "Batch 41/41, Loss: 1.161010: 100%|██████████| 41/41 [00:00<00:00, 58.26it/s]\n"
          ]
        },
        {
          "output_type": "stream",
          "name": "stdout",
          "text": [
            "\n",
            "Class-wise Accuracy:\n",
            "  Class 1: 57.56%\n",
            "  Class 2: 39.81%\n",
            "  Class 0: 29.01%\n",
            "  Class 3: 50.31%\n",
            "Test Accuracy: 44.2%, Test Loss: 1.227076\n",
            "\n",
            "\n",
            "Class-wise Accuracy:\n",
            "  Class 1: 57.56%\n",
            "  Class 2: 39.81%\n",
            "  Class 0: 29.01%\n",
            "  Class 3: 50.31%\n",
            "Train Accuracy: 47.26%, Average Train Loss: 1.172573, Test Accuracy: 44.17%, Average Test Loss: 1.227076\n",
            "\n",
            "Epoch 14/100: "
          ]
        },
        {
          "output_type": "stream",
          "name": "stderr",
          "text": [
            "100%|██████████| 41/41 [00:00<00:00, 63.71it/s]\n",
            "Batch 41/41, Loss: 1.161313: 100%|██████████| 41/41 [00:00<00:00, 61.76it/s]\n"
          ]
        },
        {
          "output_type": "stream",
          "name": "stdout",
          "text": [
            "\n",
            "Class-wise Accuracy:\n",
            "  Class 1: 60.03%\n",
            "  Class 2: 39.04%\n",
            "  Class 0: 29.94%\n",
            "  Class 3: 47.84%\n",
            "Test Accuracy: 44.2%, Test Loss: 1.218961\n",
            "\n",
            "\n",
            "Class-wise Accuracy:\n",
            "  Class 1: 60.03%\n",
            "  Class 2: 39.04%\n",
            "  Class 0: 29.94%\n",
            "  Class 3: 47.84%\n",
            "Train Accuracy: 49.19%, Average Train Loss: 1.155649, Test Accuracy: 44.21%, Average Test Loss: 1.218961\n",
            "\n",
            "Epoch 15/100: "
          ]
        },
        {
          "output_type": "stream",
          "name": "stderr",
          "text": [
            "100%|██████████| 41/41 [00:00<00:00, 65.38it/s]\n",
            "Batch 41/41, Loss: 1.160110: 100%|██████████| 41/41 [00:00<00:00, 60.04it/s]\n"
          ]
        },
        {
          "output_type": "stream",
          "name": "stdout",
          "text": [
            "\n",
            "Class-wise Accuracy:\n",
            "  Class 1: 61.27%\n",
            "  Class 2: 41.20%\n",
            "  Class 0: 28.40%\n",
            "  Class 3: 54.17%\n",
            "Test Accuracy: 46.3%, Test Loss: 1.202653\n",
            "\n",
            "\n",
            "Class-wise Accuracy:\n",
            "  Class 1: 61.27%\n",
            "  Class 2: 41.20%\n",
            "  Class 0: 28.40%\n",
            "  Class 3: 54.17%\n",
            "Train Accuracy: 50.81%, Average Train Loss: 1.136282, Test Accuracy: 46.26%, Average Test Loss: 1.202653\n",
            "\n",
            "Epoch 16/100: "
          ]
        },
        {
          "output_type": "stream",
          "name": "stderr",
          "text": [
            "100%|██████████| 41/41 [00:00<00:00, 71.12it/s]\n",
            "Batch 41/41, Loss: 1.134273: 100%|██████████| 41/41 [00:00<00:00, 63.19it/s]\n"
          ]
        },
        {
          "output_type": "stream",
          "name": "stdout",
          "text": [
            "\n",
            "Class-wise Accuracy:\n",
            "  Class 1: 55.09%\n",
            "  Class 2: 43.83%\n",
            "  Class 0: 35.96%\n",
            "  Class 3: 53.55%\n",
            "Test Accuracy: 47.1%, Test Loss: 1.177747\n",
            "\n",
            "\n",
            "Class-wise Accuracy:\n",
            "  Class 1: 55.09%\n",
            "  Class 2: 43.83%\n",
            "  Class 0: 35.96%\n",
            "  Class 3: 53.55%\n",
            "Train Accuracy: 50.89%, Average Train Loss: 1.120735, Test Accuracy: 47.11%, Average Test Loss: 1.177747\n",
            "\n",
            "Epoch 17/100: "
          ]
        },
        {
          "output_type": "stream",
          "name": "stderr",
          "text": [
            "100%|██████████| 41/41 [00:00<00:00, 70.77it/s]\n",
            "Batch 41/41, Loss: 1.126461: 100%|██████████| 41/41 [00:00<00:00, 62.98it/s]\n"
          ]
        },
        {
          "output_type": "stream",
          "name": "stdout",
          "text": [
            "\n",
            "Class-wise Accuracy:\n",
            "  Class 1: 63.27%\n",
            "  Class 2: 37.81%\n",
            "  Class 0: 31.94%\n",
            "  Class 3: 56.79%\n",
            "Test Accuracy: 47.5%, Test Loss: 1.170967\n",
            "\n",
            "\n",
            "Class-wise Accuracy:\n",
            "  Class 1: 63.27%\n",
            "  Class 2: 37.81%\n",
            "  Class 0: 31.94%\n",
            "  Class 3: 56.79%\n",
            "Train Accuracy: 52.66%, Average Train Loss: 1.106977, Test Accuracy: 47.45%, Average Test Loss: 1.170967\n",
            "\n",
            "Epoch 18/100: "
          ]
        },
        {
          "output_type": "stream",
          "name": "stderr",
          "text": [
            "100%|██████████| 41/41 [00:00<00:00, 65.67it/s]\n",
            "Batch 41/41, Loss: 1.148014: 100%|██████████| 41/41 [00:00<00:00, 63.77it/s]\n"
          ]
        },
        {
          "output_type": "stream",
          "name": "stdout",
          "text": [
            "\n",
            "Class-wise Accuracy:\n",
            "  Class 1: 52.93%\n",
            "  Class 2: 56.64%\n",
            "  Class 0: 34.10%\n",
            "  Class 3: 52.31%\n",
            "Test Accuracy: 49.0%, Test Loss: 1.160894\n",
            "\n",
            "\n",
            "Class-wise Accuracy:\n",
            "  Class 1: 52.93%\n",
            "  Class 2: 56.64%\n",
            "  Class 0: 34.10%\n",
            "  Class 3: 52.31%\n",
            "Train Accuracy: 53.32%, Average Train Loss: 1.099175, Test Accuracy: 49.00%, Average Test Loss: 1.160894\n",
            "\n",
            "Epoch 19/100: "
          ]
        },
        {
          "output_type": "stream",
          "name": "stderr",
          "text": [
            "100%|██████████| 41/41 [00:00<00:00, 61.43it/s]\n",
            "Batch 41/41, Loss: 1.128821: 100%|██████████| 41/41 [00:00<00:00, 55.77it/s]\n"
          ]
        },
        {
          "output_type": "stream",
          "name": "stdout",
          "text": [
            "\n",
            "Class-wise Accuracy:\n",
            "  Class 1: 56.94%\n",
            "  Class 2: 56.33%\n",
            "  Class 0: 32.87%\n",
            "  Class 3: 52.16%\n",
            "Test Accuracy: 49.6%, Test Loss: 1.143344\n",
            "\n",
            "\n",
            "Class-wise Accuracy:\n",
            "  Class 1: 56.94%\n",
            "  Class 2: 56.33%\n",
            "  Class 0: 32.87%\n",
            "  Class 3: 52.16%\n",
            "Train Accuracy: 53.55%, Average Train Loss: 1.090370, Test Accuracy: 49.58%, Average Test Loss: 1.143344\n",
            "\n",
            "Epoch 20/100: "
          ]
        },
        {
          "output_type": "stream",
          "name": "stderr",
          "text": [
            "100%|██████████| 41/41 [00:00<00:00, 60.45it/s]\n",
            "Batch 41/41, Loss: 1.149103: 100%|██████████| 41/41 [00:00<00:00, 46.57it/s]\n"
          ]
        },
        {
          "output_type": "stream",
          "name": "stdout",
          "text": [
            "\n",
            "Class-wise Accuracy:\n",
            "  Class 1: 62.04%\n",
            "  Class 2: 45.37%\n",
            "  Class 0: 32.87%\n",
            "  Class 3: 58.18%\n",
            "Test Accuracy: 49.6%, Test Loss: 1.129237\n",
            "\n",
            "\n",
            "Class-wise Accuracy:\n",
            "  Class 1: 62.04%\n",
            "  Class 2: 45.37%\n",
            "  Class 0: 32.87%\n",
            "  Class 3: 58.18%\n",
            "Train Accuracy: 54.86%, Average Train Loss: 1.056579, Test Accuracy: 49.61%, Average Test Loss: 1.129237\n",
            "\n",
            "Epoch 21/100: "
          ]
        },
        {
          "output_type": "stream",
          "name": "stderr",
          "text": [
            "100%|██████████| 41/41 [00:00<00:00, 47.08it/s]\n",
            "Batch 41/41, Loss: 1.166819: 100%|██████████| 41/41 [00:00<00:00, 44.70it/s]\n"
          ]
        },
        {
          "output_type": "stream",
          "name": "stdout",
          "text": [
            "\n",
            "Class-wise Accuracy:\n",
            "  Class 1: 63.73%\n",
            "  Class 2: 50.46%\n",
            "  Class 0: 36.88%\n",
            "  Class 3: 54.78%\n",
            "Test Accuracy: 51.5%, Test Loss: 1.118518\n",
            "\n",
            "\n",
            "Class-wise Accuracy:\n",
            "  Class 1: 63.73%\n",
            "  Class 2: 50.46%\n",
            "  Class 0: 36.88%\n",
            "  Class 3: 54.78%\n",
            "Train Accuracy: 56.44%, Average Train Loss: 1.048320, Test Accuracy: 51.47%, Average Test Loss: 1.118518\n",
            "\n",
            "Epoch 22/100: "
          ]
        },
        {
          "output_type": "stream",
          "name": "stderr",
          "text": [
            "100%|██████████| 41/41 [00:00<00:00, 47.90it/s]\n",
            "Batch 41/41, Loss: 1.123972: 100%|██████████| 41/41 [00:00<00:00, 42.16it/s]\n"
          ]
        },
        {
          "output_type": "stream",
          "name": "stdout",
          "text": [
            "\n",
            "Class-wise Accuracy:\n",
            "  Class 1: 61.11%\n",
            "  Class 2: 43.83%\n",
            "  Class 0: 41.98%\n",
            "  Class 3: 59.10%\n",
            "Test Accuracy: 51.5%, Test Loss: 1.105802\n",
            "\n",
            "\n",
            "Class-wise Accuracy:\n",
            "  Class 1: 61.11%\n",
            "  Class 2: 43.83%\n",
            "  Class 0: 41.98%\n",
            "  Class 3: 59.10%\n",
            "Train Accuracy: 56.79%, Average Train Loss: 1.027932, Test Accuracy: 51.50%, Average Test Loss: 1.105802\n",
            "\n",
            "Epoch 23/100: "
          ]
        },
        {
          "output_type": "stream",
          "name": "stderr",
          "text": [
            "100%|██████████| 41/41 [00:00<00:00, 54.61it/s]\n",
            "Batch 41/41, Loss: 1.155587: 100%|██████████| 41/41 [00:00<00:00, 54.63it/s]\n"
          ]
        },
        {
          "output_type": "stream",
          "name": "stdout",
          "text": [
            "\n",
            "Class-wise Accuracy:\n",
            "  Class 1: 55.09%\n",
            "  Class 2: 67.75%\n",
            "  Class 0: 36.57%\n",
            "  Class 3: 52.01%\n",
            "Test Accuracy: 52.9%, Test Loss: 1.102718\n",
            "\n",
            "\n",
            "Class-wise Accuracy:\n",
            "  Class 1: 55.09%\n",
            "  Class 2: 67.75%\n",
            "  Class 0: 36.57%\n",
            "  Class 3: 52.01%\n",
            "Train Accuracy: 57.10%, Average Train Loss: 1.021026, Test Accuracy: 52.85%, Average Test Loss: 1.102718\n",
            "\n",
            "Epoch 24/100: "
          ]
        },
        {
          "output_type": "stream",
          "name": "stderr",
          "text": [
            "100%|██████████| 41/41 [00:00<00:00, 58.55it/s]\n",
            "Batch 41/41, Loss: 1.139575: 100%|██████████| 41/41 [00:00<00:00, 58.38it/s]\n"
          ]
        },
        {
          "output_type": "stream",
          "name": "stdout",
          "text": [
            "\n",
            "Class-wise Accuracy:\n",
            "  Class 1: 60.96%\n",
            "  Class 2: 62.50%\n",
            "  Class 0: 34.88%\n",
            "  Class 3: 52.47%\n",
            "Test Accuracy: 52.7%, Test Loss: 1.095692\n",
            "\n",
            "\n",
            "Class-wise Accuracy:\n",
            "  Class 1: 60.96%\n",
            "  Class 2: 62.50%\n",
            "  Class 0: 34.88%\n",
            "  Class 3: 52.47%\n",
            "Train Accuracy: 56.98%, Average Train Loss: 1.024582, Test Accuracy: 52.70%, Average Test Loss: 1.095692\n",
            "\n",
            "Epoch 25/100: "
          ]
        },
        {
          "output_type": "stream",
          "name": "stderr",
          "text": [
            "100%|██████████| 41/41 [00:00<00:00, 61.14it/s]\n",
            "Batch 41/41, Loss: 1.162113: 100%|██████████| 41/41 [00:00<00:00, 59.76it/s]\n"
          ]
        },
        {
          "output_type": "stream",
          "name": "stdout",
          "text": [
            "\n",
            "Class-wise Accuracy:\n",
            "  Class 1: 58.95%\n",
            "  Class 2: 61.42%\n",
            "  Class 0: 37.96%\n",
            "  Class 3: 57.72%\n",
            "Test Accuracy: 54.0%, Test Loss: 1.081300\n",
            "\n",
            "\n",
            "Class-wise Accuracy:\n",
            "  Class 1: 58.95%\n",
            "  Class 2: 61.42%\n",
            "  Class 0: 37.96%\n",
            "  Class 3: 57.72%\n",
            "Train Accuracy: 55.59%, Average Train Loss: 1.022234, Test Accuracy: 54.01%, Average Test Loss: 1.081300\n",
            "\n",
            "Epoch 26/100: "
          ]
        },
        {
          "output_type": "stream",
          "name": "stderr",
          "text": [
            "100%|██████████| 41/41 [00:00<00:00, 58.45it/s]\n",
            "Batch 41/41, Loss: 1.133202: 100%|██████████| 41/41 [00:00<00:00, 53.37it/s]\n"
          ]
        },
        {
          "output_type": "stream",
          "name": "stdout",
          "text": [
            "\n",
            "Class-wise Accuracy:\n",
            "  Class 1: 64.20%\n",
            "  Class 2: 59.72%\n",
            "  Class 0: 41.98%\n",
            "  Class 3: 53.24%\n",
            "Test Accuracy: 54.8%, Test Loss: 1.070570\n",
            "\n",
            "\n",
            "Class-wise Accuracy:\n",
            "  Class 1: 64.20%\n",
            "  Class 2: 59.72%\n",
            "  Class 0: 41.98%\n",
            "  Class 3: 53.24%\n",
            "Train Accuracy: 58.14%, Average Train Loss: 0.991450, Test Accuracy: 54.78%, Average Test Loss: 1.070570\n",
            "\n",
            "Epoch 27/100: "
          ]
        },
        {
          "output_type": "stream",
          "name": "stderr",
          "text": [
            "100%|██████████| 41/41 [00:00<00:00, 58.31it/s]\n",
            "Batch 41/41, Loss: 1.094376: 100%|██████████| 41/41 [00:00<00:00, 62.69it/s]\n"
          ]
        },
        {
          "output_type": "stream",
          "name": "stdout",
          "text": [
            "\n",
            "Class-wise Accuracy:\n",
            "  Class 1: 61.88%\n",
            "  Class 2: 61.88%\n",
            "  Class 0: 33.33%\n",
            "  Class 3: 57.87%\n",
            "Test Accuracy: 53.7%, Test Loss: 1.069075\n",
            "\n",
            "\n",
            "Class-wise Accuracy:\n",
            "  Class 1: 61.88%\n",
            "  Class 2: 61.88%\n",
            "  Class 0: 33.33%\n",
            "  Class 3: 57.87%\n",
            "Train Accuracy: 57.99%, Average Train Loss: 0.993986, Test Accuracy: 53.74%, Average Test Loss: 1.069075\n",
            "\n",
            "Epoch 28/100: "
          ]
        },
        {
          "output_type": "stream",
          "name": "stderr",
          "text": [
            "100%|██████████| 41/41 [00:00<00:00, 65.36it/s]\n",
            "Batch 41/41, Loss: 1.151260: 100%|██████████| 41/41 [00:00<00:00, 58.65it/s]\n"
          ]
        },
        {
          "output_type": "stream",
          "name": "stdout",
          "text": [
            "\n",
            "Class-wise Accuracy:\n",
            "  Class 1: 71.91%\n",
            "  Class 2: 47.53%\n",
            "  Class 0: 36.27%\n",
            "  Class 3: 58.95%\n",
            "Test Accuracy: 53.7%, Test Loss: 1.069036\n",
            "\n",
            "\n",
            "Class-wise Accuracy:\n",
            "  Class 1: 71.91%\n",
            "  Class 2: 47.53%\n",
            "  Class 0: 36.27%\n",
            "  Class 3: 58.95%\n",
            "Train Accuracy: 58.14%, Average Train Loss: 0.992498, Test Accuracy: 53.67%, Average Test Loss: 1.069036\n",
            "\n",
            "Epoch 29/100: "
          ]
        },
        {
          "output_type": "stream",
          "name": "stderr",
          "text": [
            "100%|██████████| 41/41 [00:00<00:00, 62.01it/s]\n",
            "Batch 41/41, Loss: 1.114468: 100%|██████████| 41/41 [00:00<00:00, 54.79it/s]\n"
          ]
        },
        {
          "output_type": "stream",
          "name": "stdout",
          "text": [
            "\n",
            "Class-wise Accuracy:\n",
            "  Class 1: 67.44%\n",
            "  Class 2: 55.71%\n",
            "  Class 0: 41.05%\n",
            "  Class 3: 58.18%\n",
            "Test Accuracy: 55.6%, Test Loss: 1.053362\n",
            "\n",
            "\n",
            "Class-wise Accuracy:\n",
            "  Class 1: 67.44%\n",
            "  Class 2: 55.71%\n",
            "  Class 0: 41.05%\n",
            "  Class 3: 58.18%\n",
            "Train Accuracy: 59.07%, Average Train Loss: 0.978248, Test Accuracy: 55.59%, Average Test Loss: 1.053362\n",
            "\n",
            "Epoch 30/100: "
          ]
        },
        {
          "output_type": "stream",
          "name": "stderr",
          "text": [
            "100%|██████████| 41/41 [00:00<00:00, 54.58it/s]\n",
            "Batch 41/41, Loss: 1.085656: 100%|██████████| 41/41 [00:00<00:00, 47.74it/s]\n"
          ]
        },
        {
          "output_type": "stream",
          "name": "stdout",
          "text": [
            "\n",
            "Class-wise Accuracy:\n",
            "  Class 1: 63.73%\n",
            "  Class 2: 66.98%\n",
            "  Class 0: 41.98%\n",
            "  Class 3: 52.16%\n",
            "Test Accuracy: 56.2%, Test Loss: 1.041851\n",
            "\n",
            "\n",
            "Class-wise Accuracy:\n",
            "  Class 1: 63.73%\n",
            "  Class 2: 66.98%\n",
            "  Class 0: 41.98%\n",
            "  Class 3: 52.16%\n",
            "Train Accuracy: 59.72%, Average Train Loss: 0.952523, Test Accuracy: 56.21%, Average Test Loss: 1.041851\n",
            "\n",
            "Epoch 31/100: "
          ]
        },
        {
          "output_type": "stream",
          "name": "stderr",
          "text": [
            "100%|██████████| 41/41 [00:00<00:00, 52.34it/s]\n",
            "Batch 41/41, Loss: 1.146511: 100%|██████████| 41/41 [00:01<00:00, 28.64it/s]\n"
          ]
        },
        {
          "output_type": "stream",
          "name": "stdout",
          "text": [
            "\n",
            "Class-wise Accuracy:\n",
            "  Class 1: 60.96%\n",
            "  Class 2: 54.63%\n",
            "  Class 0: 46.91%\n",
            "  Class 3: 58.18%\n",
            "Test Accuracy: 55.2%, Test Loss: 1.051169\n",
            "\n",
            "\n",
            "Class-wise Accuracy:\n",
            "  Class 1: 60.96%\n",
            "  Class 2: 54.63%\n",
            "  Class 0: 46.91%\n",
            "  Class 3: 58.18%\n",
            "Train Accuracy: 59.10%, Average Train Loss: 0.984213, Test Accuracy: 55.17%, Average Test Loss: 1.051169\n",
            "\n",
            "Epoch 32/100: "
          ]
        },
        {
          "output_type": "stream",
          "name": "stderr",
          "text": [
            "100%|██████████| 41/41 [00:01<00:00, 33.52it/s]\n",
            "Batch 41/41, Loss: 1.145054: 100%|██████████| 41/41 [00:01<00:00, 39.33it/s]\n"
          ]
        },
        {
          "output_type": "stream",
          "name": "stdout",
          "text": [
            "\n",
            "Class-wise Accuracy:\n",
            "  Class 1: 61.11%\n",
            "  Class 2: 66.82%\n",
            "  Class 0: 41.05%\n",
            "  Class 3: 52.01%\n",
            "Test Accuracy: 55.2%, Test Loss: 1.050018\n",
            "\n",
            "\n",
            "Class-wise Accuracy:\n",
            "  Class 1: 61.11%\n",
            "  Class 2: 66.82%\n",
            "  Class 0: 41.05%\n",
            "  Class 3: 52.01%\n",
            "Train Accuracy: 60.49%, Average Train Loss: 0.946182, Test Accuracy: 55.25%, Average Test Loss: 1.050018\n",
            "\n",
            "Epoch 33/100: "
          ]
        },
        {
          "output_type": "stream",
          "name": "stderr",
          "text": [
            "100%|██████████| 41/41 [00:00<00:00, 51.85it/s]\n",
            "Batch 41/41, Loss: 1.145149: 100%|██████████| 41/41 [00:00<00:00, 57.21it/s]\n"
          ]
        },
        {
          "output_type": "stream",
          "name": "stdout",
          "text": [
            "\n",
            "Class-wise Accuracy:\n",
            "  Class 1: 58.49%\n",
            "  Class 2: 69.44%\n",
            "  Class 0: 39.20%\n",
            "  Class 3: 59.72%\n",
            "Test Accuracy: 56.7%, Test Loss: 1.035935\n",
            "\n",
            "\n",
            "Class-wise Accuracy:\n",
            "  Class 1: 58.49%\n",
            "  Class 2: 69.44%\n",
            "  Class 0: 39.20%\n",
            "  Class 3: 59.72%\n",
            "Train Accuracy: 61.19%, Average Train Loss: 0.938782, Test Accuracy: 56.71%, Average Test Loss: 1.035935\n",
            "\n",
            "Epoch 34/100: "
          ]
        },
        {
          "output_type": "stream",
          "name": "stderr",
          "text": [
            "100%|██████████| 41/41 [00:00<00:00, 58.56it/s]\n",
            "Batch 41/41, Loss: 1.140888: 100%|██████████| 41/41 [00:00<00:00, 55.55it/s]\n"
          ]
        },
        {
          "output_type": "stream",
          "name": "stdout",
          "text": [
            "\n",
            "Class-wise Accuracy:\n",
            "  Class 1: 62.81%\n",
            "  Class 2: 67.59%\n",
            "  Class 0: 43.21%\n",
            "  Class 3: 53.09%\n",
            "Test Accuracy: 56.7%, Test Loss: 1.030956\n",
            "\n",
            "\n",
            "Class-wise Accuracy:\n",
            "  Class 1: 62.81%\n",
            "  Class 2: 67.59%\n",
            "  Class 0: 43.21%\n",
            "  Class 3: 53.09%\n",
            "Train Accuracy: 60.38%, Average Train Loss: 0.948707, Test Accuracy: 56.67%, Average Test Loss: 1.030956\n",
            "\n",
            "Epoch 35/100: "
          ]
        },
        {
          "output_type": "stream",
          "name": "stderr",
          "text": [
            "100%|██████████| 41/41 [00:00<00:00, 58.16it/s]\n",
            "Batch 41/41, Loss: 1.163727: 100%|██████████| 41/41 [00:00<00:00, 56.84it/s]\n"
          ]
        },
        {
          "output_type": "stream",
          "name": "stdout",
          "text": [
            "\n",
            "Class-wise Accuracy:\n",
            "  Class 1: 56.17%\n",
            "  Class 2: 72.99%\n",
            "  Class 0: 41.51%\n",
            "  Class 3: 55.09%\n",
            "Test Accuracy: 56.4%, Test Loss: 1.034475\n",
            "\n",
            "\n",
            "Class-wise Accuracy:\n",
            "  Class 1: 56.17%\n",
            "  Class 2: 72.99%\n",
            "  Class 0: 41.51%\n",
            "  Class 3: 55.09%\n",
            "Train Accuracy: 59.18%, Average Train Loss: 0.967179, Test Accuracy: 56.44%, Average Test Loss: 1.034475\n",
            "\n",
            "Epoch 36/100: "
          ]
        },
        {
          "output_type": "stream",
          "name": "stderr",
          "text": [
            "100%|██████████| 41/41 [00:00<00:00, 61.08it/s]\n",
            "Batch 41/41, Loss: 1.125644: 100%|██████████| 41/41 [00:00<00:00, 57.93it/s]\n"
          ]
        },
        {
          "output_type": "stream",
          "name": "stdout",
          "text": [
            "\n",
            "Class-wise Accuracy:\n",
            "  Class 1: 64.35%\n",
            "  Class 2: 68.06%\n",
            "  Class 0: 39.04%\n",
            "  Class 3: 57.41%\n",
            "Test Accuracy: 57.2%, Test Loss: 1.021601\n",
            "\n",
            "\n",
            "Class-wise Accuracy:\n",
            "  Class 1: 64.35%\n",
            "  Class 2: 68.06%\n",
            "  Class 0: 39.04%\n",
            "  Class 3: 57.41%\n",
            "Train Accuracy: 61.15%, Average Train Loss: 0.937645, Test Accuracy: 57.21%, Average Test Loss: 1.021601\n",
            "\n",
            "Epoch 37/100: "
          ]
        },
        {
          "output_type": "stream",
          "name": "stderr",
          "text": [
            "100%|██████████| 41/41 [00:00<00:00, 57.87it/s]\n",
            "Batch 41/41, Loss: 1.132368: 100%|██████████| 41/41 [00:00<00:00, 50.77it/s]\n"
          ]
        },
        {
          "output_type": "stream",
          "name": "stdout",
          "text": [
            "\n",
            "Class-wise Accuracy:\n",
            "  Class 1: 60.96%\n",
            "  Class 2: 69.14%\n",
            "  Class 0: 43.06%\n",
            "  Class 3: 55.40%\n",
            "Test Accuracy: 57.1%, Test Loss: 1.026005\n",
            "\n",
            "\n",
            "Class-wise Accuracy:\n",
            "  Class 1: 60.96%\n",
            "  Class 2: 69.14%\n",
            "  Class 0: 43.06%\n",
            "  Class 3: 55.40%\n",
            "Train Accuracy: 61.73%, Average Train Loss: 0.945427, Test Accuracy: 57.14%, Average Test Loss: 1.026005\n",
            "\n",
            "Epoch 38/100: "
          ]
        },
        {
          "output_type": "stream",
          "name": "stderr",
          "text": [
            "100%|██████████| 41/41 [00:00<00:00, 63.23it/s]\n",
            "Batch 41/41, Loss: 1.129659: 100%|██████████| 41/41 [00:00<00:00, 52.59it/s]\n"
          ]
        },
        {
          "output_type": "stream",
          "name": "stdout",
          "text": [
            "\n",
            "Class-wise Accuracy:\n",
            "  Class 1: 61.73%\n",
            "  Class 2: 71.14%\n",
            "  Class 0: 43.52%\n",
            "  Class 3: 54.32%\n",
            "Test Accuracy: 57.7%, Test Loss: 1.016378\n",
            "\n",
            "\n",
            "Class-wise Accuracy:\n",
            "  Class 1: 61.73%\n",
            "  Class 2: 71.14%\n",
            "  Class 0: 43.52%\n",
            "  Class 3: 54.32%\n",
            "Train Accuracy: 60.92%, Average Train Loss: 0.932459, Test Accuracy: 57.68%, Average Test Loss: 1.016378\n",
            "\n",
            "Epoch 39/100: "
          ]
        },
        {
          "output_type": "stream",
          "name": "stderr",
          "text": [
            "100%|██████████| 41/41 [00:00<00:00, 49.09it/s]\n",
            "Batch 41/41, Loss: 1.117435: 100%|██████████| 41/41 [00:00<00:00, 47.80it/s]\n"
          ]
        },
        {
          "output_type": "stream",
          "name": "stdout",
          "text": [
            "\n",
            "Class-wise Accuracy:\n",
            "  Class 1: 68.67%\n",
            "  Class 2: 57.72%\n",
            "  Class 0: 41.98%\n",
            "  Class 3: 60.03%\n",
            "Test Accuracy: 57.1%, Test Loss: 1.019289\n",
            "\n",
            "\n",
            "Class-wise Accuracy:\n",
            "  Class 1: 68.67%\n",
            "  Class 2: 57.72%\n",
            "  Class 0: 41.98%\n",
            "  Class 3: 60.03%\n",
            "Train Accuracy: 62.96%, Average Train Loss: 0.909028, Test Accuracy: 57.10%, Average Test Loss: 1.019289\n",
            "\n",
            "Epoch 40/100: "
          ]
        },
        {
          "output_type": "stream",
          "name": "stderr",
          "text": [
            "100%|██████████| 41/41 [00:00<00:00, 45.71it/s]\n",
            "Batch 41/41, Loss: 1.131032: 100%|██████████| 41/41 [00:00<00:00, 41.62it/s]\n"
          ]
        },
        {
          "output_type": "stream",
          "name": "stdout",
          "text": [
            "\n",
            "Class-wise Accuracy:\n",
            "  Class 1: 62.04%\n",
            "  Class 2: 70.99%\n",
            "  Class 0: 40.59%\n",
            "  Class 3: 56.79%\n",
            "Test Accuracy: 57.6%, Test Loss: 1.013381\n",
            "\n",
            "\n",
            "Class-wise Accuracy:\n",
            "  Class 1: 62.04%\n",
            "  Class 2: 70.99%\n",
            "  Class 0: 40.59%\n",
            "  Class 3: 56.79%\n",
            "Train Accuracy: 63.04%, Average Train Loss: 0.928485, Test Accuracy: 57.60%, Average Test Loss: 1.013381\n",
            "\n",
            "Epoch 41/100: "
          ]
        },
        {
          "output_type": "stream",
          "name": "stderr",
          "text": [
            "100%|██████████| 41/41 [00:00<00:00, 53.41it/s]\n",
            "Batch 41/41, Loss: 1.127052: 100%|██████████| 41/41 [00:00<00:00, 54.77it/s]\n"
          ]
        },
        {
          "output_type": "stream",
          "name": "stdout",
          "text": [
            "\n",
            "Class-wise Accuracy:\n",
            "  Class 1: 66.20%\n",
            "  Class 2: 63.89%\n",
            "  Class 0: 42.59%\n",
            "  Class 3: 57.87%\n",
            "Test Accuracy: 57.6%, Test Loss: 1.012630\n",
            "\n",
            "\n",
            "Class-wise Accuracy:\n",
            "  Class 1: 66.20%\n",
            "  Class 2: 63.89%\n",
            "  Class 0: 42.59%\n",
            "  Class 3: 57.87%\n",
            "Train Accuracy: 62.69%, Average Train Loss: 0.917163, Test Accuracy: 57.64%, Average Test Loss: 1.012630\n",
            "\n",
            "Epoch 42/100: "
          ]
        },
        {
          "output_type": "stream",
          "name": "stderr",
          "text": [
            "100%|██████████| 41/41 [00:00<00:00, 59.89it/s]\n",
            "Batch 41/41, Loss: 1.135013: 100%|██████████| 41/41 [00:00<00:00, 53.51it/s]\n"
          ]
        },
        {
          "output_type": "stream",
          "name": "stdout",
          "text": [
            "\n",
            "Class-wise Accuracy:\n",
            "  Class 1: 57.72%\n",
            "  Class 2: 74.23%\n",
            "  Class 0: 45.06%\n",
            "  Class 3: 53.09%\n",
            "Test Accuracy: 57.5%, Test Loss: 1.008501\n",
            "\n",
            "\n",
            "Class-wise Accuracy:\n",
            "  Class 1: 57.72%\n",
            "  Class 2: 74.23%\n",
            "  Class 0: 45.06%\n",
            "  Class 3: 53.09%\n",
            "Train Accuracy: 62.38%, Average Train Loss: 0.909445, Test Accuracy: 57.52%, Average Test Loss: 1.008501\n",
            "\n",
            "Epoch 43/100: "
          ]
        },
        {
          "output_type": "stream",
          "name": "stderr",
          "text": [
            "100%|██████████| 41/41 [00:00<00:00, 58.06it/s]\n",
            "Batch 41/41, Loss: 1.133255: 100%|██████████| 41/41 [00:00<00:00, 50.67it/s]\n"
          ]
        },
        {
          "output_type": "stream",
          "name": "stdout",
          "text": [
            "\n",
            "Class-wise Accuracy:\n",
            "  Class 1: 60.80%\n",
            "  Class 2: 72.07%\n",
            "  Class 0: 40.43%\n",
            "  Class 3: 56.02%\n",
            "Test Accuracy: 57.3%, Test Loss: 1.011326\n",
            "\n",
            "\n",
            "Class-wise Accuracy:\n",
            "  Class 1: 60.80%\n",
            "  Class 2: 72.07%\n",
            "  Class 0: 40.43%\n",
            "  Class 3: 56.02%\n",
            "Train Accuracy: 62.81%, Average Train Loss: 0.917922, Test Accuracy: 57.33%, Average Test Loss: 1.011326\n",
            "\n",
            "Epoch 44/100: "
          ]
        },
        {
          "output_type": "stream",
          "name": "stderr",
          "text": [
            "100%|██████████| 41/41 [00:00<00:00, 59.60it/s]\n",
            "Batch 41/41, Loss: 1.092505: 100%|██████████| 41/41 [00:00<00:00, 57.35it/s]\n"
          ]
        },
        {
          "output_type": "stream",
          "name": "stdout",
          "text": [
            "\n",
            "Class-wise Accuracy:\n",
            "  Class 1: 65.90%\n",
            "  Class 2: 62.65%\n",
            "  Class 0: 45.99%\n",
            "  Class 3: 55.86%\n",
            "Test Accuracy: 57.6%, Test Loss: 1.003525\n",
            "\n",
            "\n",
            "Class-wise Accuracy:\n",
            "  Class 1: 65.90%\n",
            "  Class 2: 62.65%\n",
            "  Class 0: 45.99%\n",
            "  Class 3: 55.86%\n",
            "Train Accuracy: 64.16%, Average Train Loss: 0.895359, Test Accuracy: 57.60%, Average Test Loss: 1.003525\n",
            "\n",
            "Epoch 45/100: "
          ]
        },
        {
          "output_type": "stream",
          "name": "stderr",
          "text": [
            "100%|██████████| 41/41 [00:00<00:00, 61.82it/s]\n",
            "Batch 41/41, Loss: 1.146528: 100%|██████████| 41/41 [00:00<00:00, 54.76it/s]\n"
          ]
        },
        {
          "output_type": "stream",
          "name": "stdout",
          "text": [
            "\n",
            "Class-wise Accuracy:\n",
            "  Class 1: 59.57%\n",
            "  Class 2: 71.30%\n",
            "  Class 0: 43.67%\n",
            "  Class 3: 58.64%\n",
            "Test Accuracy: 58.3%, Test Loss: 0.999869\n",
            "\n",
            "\n",
            "Class-wise Accuracy:\n",
            "  Class 1: 59.57%\n",
            "  Class 2: 71.30%\n",
            "  Class 0: 43.67%\n",
            "  Class 3: 58.64%\n",
            "Train Accuracy: 62.23%, Average Train Loss: 0.921443, Test Accuracy: 58.29%, Average Test Loss: 0.999869\n",
            "\n",
            "Epoch 46/100: "
          ]
        },
        {
          "output_type": "stream",
          "name": "stderr",
          "text": [
            "100%|██████████| 41/41 [00:00<00:00, 64.88it/s]\n",
            "Batch 41/41, Loss: 1.118504: 100%|██████████| 41/41 [00:00<00:00, 58.14it/s]\n"
          ]
        },
        {
          "output_type": "stream",
          "name": "stdout",
          "text": [
            "\n",
            "Class-wise Accuracy:\n",
            "  Class 1: 58.02%\n",
            "  Class 2: 77.16%\n",
            "  Class 0: 38.89%\n",
            "  Class 3: 53.70%\n",
            "Test Accuracy: 56.9%, Test Loss: 1.021003\n",
            "\n",
            "\n",
            "Class-wise Accuracy:\n",
            "  Class 1: 58.02%\n",
            "  Class 2: 77.16%\n",
            "  Class 0: 38.89%\n",
            "  Class 3: 53.70%\n",
            "Train Accuracy: 61.65%, Average Train Loss: 0.903896, Test Accuracy: 56.94%, Average Test Loss: 1.021003\n",
            "\n",
            "Epoch 47/100: "
          ]
        },
        {
          "output_type": "stream",
          "name": "stderr",
          "text": [
            "100%|██████████| 41/41 [00:00<00:00, 61.85it/s]\n",
            "Batch 41/41, Loss: 1.159985: 100%|██████████| 41/41 [00:00<00:00, 51.33it/s]\n"
          ]
        },
        {
          "output_type": "stream",
          "name": "stdout",
          "text": [
            "\n",
            "Class-wise Accuracy:\n",
            "  Class 1: 57.41%\n",
            "  Class 2: 73.92%\n",
            "  Class 0: 42.59%\n",
            "  Class 3: 56.33%\n",
            "Test Accuracy: 57.6%, Test Loss: 1.006190\n",
            "\n",
            "\n",
            "Class-wise Accuracy:\n",
            "  Class 1: 57.41%\n",
            "  Class 2: 73.92%\n",
            "  Class 0: 42.59%\n",
            "  Class 3: 56.33%\n",
            "Train Accuracy: 63.46%, Average Train Loss: 0.924001, Test Accuracy: 57.56%, Average Test Loss: 1.006190\n",
            "\n",
            "Epoch 48/100: "
          ]
        },
        {
          "output_type": "stream",
          "name": "stderr",
          "text": [
            "100%|██████████| 41/41 [00:00<00:00, 50.19it/s]\n",
            "Batch 41/41, Loss: 1.149150: 100%|██████████| 41/41 [00:00<00:00, 43.98it/s]\n"
          ]
        },
        {
          "output_type": "stream",
          "name": "stdout",
          "text": [
            "\n",
            "Class-wise Accuracy:\n",
            "  Class 1: 64.20%\n",
            "  Class 2: 63.43%\n",
            "  Class 0: 47.38%\n",
            "  Class 3: 58.95%\n",
            "Test Accuracy: 58.5%, Test Loss: 0.994735\n",
            "\n",
            "\n",
            "Class-wise Accuracy:\n",
            "  Class 1: 64.20%\n",
            "  Class 2: 63.43%\n",
            "  Class 0: 47.38%\n",
            "  Class 3: 58.95%\n",
            "Train Accuracy: 61.57%, Average Train Loss: 0.898383, Test Accuracy: 58.49%, Average Test Loss: 0.994735\n",
            "\n",
            "Epoch 49/100: "
          ]
        },
        {
          "output_type": "stream",
          "name": "stderr",
          "text": [
            "100%|██████████| 41/41 [00:00<00:00, 49.24it/s]\n",
            "Batch 41/41, Loss: 1.172444: 100%|██████████| 41/41 [00:00<00:00, 45.94it/s]\n"
          ]
        },
        {
          "output_type": "stream",
          "name": "stdout",
          "text": [
            "\n",
            "Class-wise Accuracy:\n",
            "  Class 1: 60.65%\n",
            "  Class 2: 70.83%\n",
            "  Class 0: 44.60%\n",
            "  Class 3: 56.64%\n",
            "Test Accuracy: 58.2%, Test Loss: 0.998087\n",
            "\n",
            "\n",
            "Class-wise Accuracy:\n",
            "  Class 1: 60.65%\n",
            "  Class 2: 70.83%\n",
            "  Class 0: 44.60%\n",
            "  Class 3: 56.64%\n",
            "Train Accuracy: 64.54%, Average Train Loss: 0.876811, Test Accuracy: 58.18%, Average Test Loss: 0.998087\n",
            "\n",
            "Epoch 50/100: "
          ]
        },
        {
          "output_type": "stream",
          "name": "stderr",
          "text": [
            "100%|██████████| 41/41 [00:00<00:00, 49.15it/s]\n",
            "Batch 41/41, Loss: 1.123976: 100%|██████████| 41/41 [00:00<00:00, 53.01it/s]\n"
          ]
        },
        {
          "output_type": "stream",
          "name": "stdout",
          "text": [
            "\n",
            "Class-wise Accuracy:\n",
            "  Class 1: 64.20%\n",
            "  Class 2: 69.14%\n",
            "  Class 0: 45.52%\n",
            "  Class 3: 57.41%\n",
            "Test Accuracy: 59.1%, Test Loss: 0.990398\n",
            "\n",
            "\n",
            "Class-wise Accuracy:\n",
            "  Class 1: 64.20%\n",
            "  Class 2: 69.14%\n",
            "  Class 0: 45.52%\n",
            "  Class 3: 57.41%\n",
            "Train Accuracy: 63.54%, Average Train Loss: 0.892083, Test Accuracy: 59.07%, Average Test Loss: 0.990398\n",
            "\n",
            "Epoch 51/100: "
          ]
        },
        {
          "output_type": "stream",
          "name": "stderr",
          "text": [
            "100%|██████████| 41/41 [00:00<00:00, 56.71it/s]\n",
            "Batch 41/41, Loss: 1.173405: 100%|██████████| 41/41 [00:00<00:00, 55.43it/s]\n"
          ]
        },
        {
          "output_type": "stream",
          "name": "stdout",
          "text": [
            "\n",
            "Class-wise Accuracy:\n",
            "  Class 1: 59.57%\n",
            "  Class 2: 72.99%\n",
            "  Class 0: 45.06%\n",
            "  Class 3: 55.09%\n",
            "Test Accuracy: 58.2%, Test Loss: 0.996276\n",
            "\n",
            "\n",
            "Class-wise Accuracy:\n",
            "  Class 1: 59.57%\n",
            "  Class 2: 72.99%\n",
            "  Class 0: 45.06%\n",
            "  Class 3: 55.09%\n",
            "Train Accuracy: 63.77%, Average Train Loss: 0.895942, Test Accuracy: 58.18%, Average Test Loss: 0.996276\n",
            "\n",
            "Epoch 52/100: "
          ]
        },
        {
          "output_type": "stream",
          "name": "stderr",
          "text": [
            "100%|██████████| 41/41 [00:00<00:00, 59.76it/s]\n",
            "Batch 41/41, Loss: 1.177925: 100%|██████████| 41/41 [00:00<00:00, 58.93it/s]\n"
          ]
        },
        {
          "output_type": "stream",
          "name": "stdout",
          "text": [
            "\n",
            "Class-wise Accuracy:\n",
            "  Class 1: 65.28%\n",
            "  Class 2: 64.04%\n",
            "  Class 0: 44.91%\n",
            "  Class 3: 63.12%\n",
            "Test Accuracy: 59.3%, Test Loss: 0.991690\n",
            "\n",
            "\n",
            "Class-wise Accuracy:\n",
            "  Class 1: 65.28%\n",
            "  Class 2: 64.04%\n",
            "  Class 0: 44.91%\n",
            "  Class 3: 63.12%\n",
            "Train Accuracy: 65.16%, Average Train Loss: 0.868026, Test Accuracy: 59.34%, Average Test Loss: 0.991690\n",
            "\n",
            "Epoch 53/100: "
          ]
        },
        {
          "output_type": "stream",
          "name": "stderr",
          "text": [
            "100%|██████████| 41/41 [00:00<00:00, 58.97it/s]\n",
            "Batch 41/41, Loss: 1.221144: 100%|██████████| 41/41 [00:00<00:00, 55.73it/s]\n"
          ]
        },
        {
          "output_type": "stream",
          "name": "stdout",
          "text": [
            "\n",
            "Class-wise Accuracy:\n",
            "  Class 1: 67.13%\n",
            "  Class 2: 65.12%\n",
            "  Class 0: 46.14%\n",
            "  Class 3: 58.80%\n",
            "Test Accuracy: 59.3%, Test Loss: 0.987084\n",
            "\n",
            "\n",
            "Class-wise Accuracy:\n",
            "  Class 1: 67.13%\n",
            "  Class 2: 65.12%\n",
            "  Class 0: 46.14%\n",
            "  Class 3: 58.80%\n",
            "Train Accuracy: 64.66%, Average Train Loss: 0.877000, Test Accuracy: 59.30%, Average Test Loss: 0.987084\n",
            "\n",
            "Epoch 54/100: "
          ]
        },
        {
          "output_type": "stream",
          "name": "stderr",
          "text": [
            "100%|██████████| 41/41 [00:00<00:00, 65.99it/s]\n",
            "Batch 41/41, Loss: 1.171956: 100%|██████████| 41/41 [00:00<00:00, 57.20it/s]\n"
          ]
        },
        {
          "output_type": "stream",
          "name": "stdout",
          "text": [
            "\n",
            "Class-wise Accuracy:\n",
            "  Class 1: 63.89%\n",
            "  Class 2: 70.06%\n",
            "  Class 0: 44.60%\n",
            "  Class 3: 55.56%\n",
            "Test Accuracy: 58.5%, Test Loss: 0.986065\n",
            "\n",
            "\n",
            "Class-wise Accuracy:\n",
            "  Class 1: 63.89%\n",
            "  Class 2: 70.06%\n",
            "  Class 0: 44.60%\n",
            "  Class 3: 55.56%\n",
            "Train Accuracy: 64.04%, Average Train Loss: 0.882632, Test Accuracy: 58.53%, Average Test Loss: 0.986065\n",
            "\n",
            "Epoch 55/100: "
          ]
        },
        {
          "output_type": "stream",
          "name": "stderr",
          "text": [
            "100%|██████████| 41/41 [00:00<00:00, 62.10it/s]\n",
            "Batch 41/41, Loss: 1.181125: 100%|██████████| 41/41 [00:00<00:00, 56.64it/s]\n"
          ]
        },
        {
          "output_type": "stream",
          "name": "stdout",
          "text": [
            "\n",
            "Class-wise Accuracy:\n",
            "  Class 1: 64.20%\n",
            "  Class 2: 65.43%\n",
            "  Class 0: 48.30%\n",
            "  Class 3: 59.41%\n",
            "Test Accuracy: 59.3%, Test Loss: 0.988376\n",
            "\n",
            "\n",
            "Class-wise Accuracy:\n",
            "  Class 1: 64.20%\n",
            "  Class 2: 65.43%\n",
            "  Class 0: 48.30%\n",
            "  Class 3: 59.41%\n",
            "Train Accuracy: 63.62%, Average Train Loss: 0.877970, Test Accuracy: 59.34%, Average Test Loss: 0.988376\n",
            "\n",
            "Epoch 56/100: "
          ]
        },
        {
          "output_type": "stream",
          "name": "stderr",
          "text": [
            "100%|██████████| 41/41 [00:00<00:00, 60.55it/s]\n",
            "Batch 41/41, Loss: 1.168950: 100%|██████████| 41/41 [00:00<00:00, 52.26it/s]\n"
          ]
        },
        {
          "output_type": "stream",
          "name": "stdout",
          "text": [
            "\n",
            "Class-wise Accuracy:\n",
            "  Class 1: 63.27%\n",
            "  Class 2: 72.38%\n",
            "  Class 0: 40.74%\n",
            "  Class 3: 57.87%\n",
            "Test Accuracy: 58.6%, Test Loss: 0.988450\n",
            "\n",
            "\n",
            "Class-wise Accuracy:\n",
            "  Class 1: 63.27%\n",
            "  Class 2: 72.38%\n",
            "  Class 0: 40.74%\n",
            "  Class 3: 57.87%\n",
            "Train Accuracy: 65.12%, Average Train Loss: 0.868154, Test Accuracy: 58.56%, Average Test Loss: 0.988450\n",
            "\n",
            "Epoch 57/100: "
          ]
        },
        {
          "output_type": "stream",
          "name": "stderr",
          "text": [
            "100%|██████████| 41/41 [00:00<00:00, 53.00it/s]\n",
            "Batch 41/41, Loss: 1.169442: 100%|██████████| 41/41 [00:00<00:00, 45.20it/s]\n"
          ]
        },
        {
          "output_type": "stream",
          "name": "stdout",
          "text": [
            "\n",
            "Class-wise Accuracy:\n",
            "  Class 1: 64.04%\n",
            "  Class 2: 68.52%\n",
            "  Class 0: 47.22%\n",
            "  Class 3: 56.64%\n",
            "Test Accuracy: 59.1%, Test Loss: 0.979933\n",
            "\n",
            "\n",
            "Class-wise Accuracy:\n",
            "  Class 1: 64.04%\n",
            "  Class 2: 68.52%\n",
            "  Class 0: 47.22%\n",
            "  Class 3: 56.64%\n",
            "Train Accuracy: 63.89%, Average Train Loss: 0.883107, Test Accuracy: 59.10%, Average Test Loss: 0.979933\n",
            "\n",
            "Epoch 58/100: "
          ]
        },
        {
          "output_type": "stream",
          "name": "stderr",
          "text": [
            "100%|██████████| 41/41 [00:00<00:00, 47.03it/s]\n",
            "Batch 41/41, Loss: 1.183063: 100%|██████████| 41/41 [00:00<00:00, 46.51it/s]\n"
          ]
        },
        {
          "output_type": "stream",
          "name": "stdout",
          "text": [
            "\n",
            "Class-wise Accuracy:\n",
            "  Class 1: 63.73%\n",
            "  Class 2: 70.06%\n",
            "  Class 0: 45.37%\n",
            "  Class 3: 58.02%\n",
            "Test Accuracy: 59.3%, Test Loss: 0.986030\n",
            "\n",
            "\n",
            "Class-wise Accuracy:\n",
            "  Class 1: 63.73%\n",
            "  Class 2: 70.06%\n",
            "  Class 0: 45.37%\n",
            "  Class 3: 58.02%\n",
            "Train Accuracy: 64.62%, Average Train Loss: 0.871644, Test Accuracy: 59.30%, Average Test Loss: 0.986030\n",
            "\n",
            "Epoch 59/100: "
          ]
        },
        {
          "output_type": "stream",
          "name": "stderr",
          "text": [
            "100%|██████████| 41/41 [00:00<00:00, 43.05it/s]\n",
            "Batch 41/41, Loss: 1.133403: 100%|██████████| 41/41 [00:00<00:00, 52.10it/s]\n"
          ]
        },
        {
          "output_type": "stream",
          "name": "stdout",
          "text": [
            "\n",
            "Class-wise Accuracy:\n",
            "  Class 1: 63.89%\n",
            "  Class 2: 72.69%\n",
            "  Class 0: 43.21%\n",
            "  Class 3: 57.25%\n",
            "Test Accuracy: 59.3%, Test Loss: 0.982504\n",
            "\n",
            "\n",
            "Class-wise Accuracy:\n",
            "  Class 1: 63.89%\n",
            "  Class 2: 72.69%\n",
            "  Class 0: 43.21%\n",
            "  Class 3: 57.25%\n",
            "Train Accuracy: 65.86%, Average Train Loss: 0.857099, Test Accuracy: 59.26%, Average Test Loss: 0.982504\n",
            "\n",
            "Epoch 60/100: "
          ]
        },
        {
          "output_type": "stream",
          "name": "stderr",
          "text": [
            "100%|██████████| 41/41 [00:00<00:00, 50.04it/s]\n",
            "Batch 41/41, Loss: 1.108008: 100%|██████████| 41/41 [00:00<00:00, 48.94it/s]\n"
          ]
        },
        {
          "output_type": "stream",
          "name": "stdout",
          "text": [
            "\n",
            "Class-wise Accuracy:\n",
            "  Class 1: 64.81%\n",
            "  Class 2: 69.91%\n",
            "  Class 0: 46.76%\n",
            "  Class 3: 56.64%\n",
            "Test Accuracy: 59.5%, Test Loss: 0.975615\n",
            "\n",
            "\n",
            "Class-wise Accuracy:\n",
            "  Class 1: 64.81%\n",
            "  Class 2: 69.91%\n",
            "  Class 0: 46.76%\n",
            "  Class 3: 56.64%\n",
            "Train Accuracy: 64.81%, Average Train Loss: 0.857021, Test Accuracy: 59.53%, Average Test Loss: 0.975615\n",
            "\n",
            "Epoch 61/100: "
          ]
        },
        {
          "output_type": "stream",
          "name": "stderr",
          "text": [
            "100%|██████████| 41/41 [00:00<00:00, 55.02it/s]\n",
            "Batch 41/41, Loss: 1.153034: 100%|██████████| 41/41 [00:00<00:00, 53.90it/s]\n"
          ]
        },
        {
          "output_type": "stream",
          "name": "stdout",
          "text": [
            "\n",
            "Class-wise Accuracy:\n",
            "  Class 1: 66.51%\n",
            "  Class 2: 65.59%\n",
            "  Class 0: 44.14%\n",
            "  Class 3: 61.73%\n",
            "Test Accuracy: 59.5%, Test Loss: 0.978498\n",
            "\n",
            "\n",
            "Class-wise Accuracy:\n",
            "  Class 1: 66.51%\n",
            "  Class 2: 65.59%\n",
            "  Class 0: 44.14%\n",
            "  Class 3: 61.73%\n",
            "Train Accuracy: 65.28%, Average Train Loss: 0.856801, Test Accuracy: 59.49%, Average Test Loss: 0.978498\n",
            "\n",
            "Epoch 62/100: "
          ]
        },
        {
          "output_type": "stream",
          "name": "stderr",
          "text": [
            "100%|██████████| 41/41 [00:00<00:00, 55.57it/s]\n",
            "Batch 41/41, Loss: 1.134078: 100%|██████████| 41/41 [00:00<00:00, 58.72it/s]\n"
          ]
        },
        {
          "output_type": "stream",
          "name": "stdout",
          "text": [
            "\n",
            "Class-wise Accuracy:\n",
            "  Class 1: 62.19%\n",
            "  Class 2: 73.77%\n",
            "  Class 0: 42.90%\n",
            "  Class 3: 58.95%\n",
            "Test Accuracy: 59.5%, Test Loss: 0.979951\n",
            "\n",
            "\n",
            "Class-wise Accuracy:\n",
            "  Class 1: 62.19%\n",
            "  Class 2: 73.77%\n",
            "  Class 0: 42.90%\n",
            "  Class 3: 58.95%\n",
            "Train Accuracy: 64.39%, Average Train Loss: 0.874757, Test Accuracy: 59.45%, Average Test Loss: 0.979951\n",
            "\n",
            "Epoch 63/100: "
          ]
        },
        {
          "output_type": "stream",
          "name": "stderr",
          "text": [
            "100%|██████████| 41/41 [00:00<00:00, 62.84it/s]\n",
            "Batch 41/41, Loss: 1.125935: 100%|██████████| 41/41 [00:00<00:00, 58.88it/s]\n"
          ]
        },
        {
          "output_type": "stream",
          "name": "stdout",
          "text": [
            "\n",
            "Class-wise Accuracy:\n",
            "  Class 1: 66.20%\n",
            "  Class 2: 68.52%\n",
            "  Class 0: 46.76%\n",
            "  Class 3: 55.71%\n",
            "Test Accuracy: 59.3%, Test Loss: 0.973128\n",
            "\n",
            "\n",
            "Class-wise Accuracy:\n",
            "  Class 1: 66.20%\n",
            "  Class 2: 68.52%\n",
            "  Class 0: 46.76%\n",
            "  Class 3: 55.71%\n",
            "Train Accuracy: 63.70%, Average Train Loss: 0.874975, Test Accuracy: 59.30%, Average Test Loss: 0.973128\n",
            "\n",
            "Epoch 64/100: "
          ]
        },
        {
          "output_type": "stream",
          "name": "stderr",
          "text": [
            "100%|██████████| 41/41 [00:00<00:00, 65.18it/s]\n",
            "Batch 41/41, Loss: 1.158504: 100%|██████████| 41/41 [00:00<00:00, 56.87it/s]\n"
          ]
        },
        {
          "output_type": "stream",
          "name": "stdout",
          "text": [
            "\n",
            "Class-wise Accuracy:\n",
            "  Class 1: 62.04%\n",
            "  Class 2: 72.38%\n",
            "  Class 0: 46.14%\n",
            "  Class 3: 56.33%\n",
            "Test Accuracy: 59.2%, Test Loss: 0.980792\n",
            "\n",
            "\n",
            "Class-wise Accuracy:\n",
            "  Class 1: 62.04%\n",
            "  Class 2: 72.38%\n",
            "  Class 0: 46.14%\n",
            "  Class 3: 56.33%\n",
            "Train Accuracy: 65.43%, Average Train Loss: 0.849387, Test Accuracy: 59.22%, Average Test Loss: 0.980792\n",
            "\n",
            "Epoch 65/100: "
          ]
        },
        {
          "output_type": "stream",
          "name": "stderr",
          "text": [
            "100%|██████████| 41/41 [00:00<00:00, 63.13it/s]\n",
            "Batch 41/41, Loss: 1.143979: 100%|██████████| 41/41 [00:00<00:00, 57.35it/s]\n"
          ]
        },
        {
          "output_type": "stream",
          "name": "stdout",
          "text": [
            "\n",
            "Class-wise Accuracy:\n",
            "  Class 1: 67.44%\n",
            "  Class 2: 66.82%\n",
            "  Class 0: 45.37%\n",
            "  Class 3: 59.72%\n",
            "Test Accuracy: 59.8%, Test Loss: 0.976489\n",
            "\n",
            "\n",
            "Class-wise Accuracy:\n",
            "  Class 1: 67.44%\n",
            "  Class 2: 66.82%\n",
            "  Class 0: 45.37%\n",
            "  Class 3: 59.72%\n",
            "Train Accuracy: 63.85%, Average Train Loss: 0.879168, Test Accuracy: 59.84%, Average Test Loss: 0.976489\n",
            "\n",
            "Epoch 66/100: "
          ]
        },
        {
          "output_type": "stream",
          "name": "stderr",
          "text": [
            "100%|██████████| 41/41 [00:00<00:00, 58.77it/s]\n",
            "Batch 41/41, Loss: 1.182289: 100%|██████████| 41/41 [00:00<00:00, 46.83it/s]\n"
          ]
        },
        {
          "output_type": "stream",
          "name": "stdout",
          "text": [
            "\n",
            "Class-wise Accuracy:\n",
            "  Class 1: 64.35%\n",
            "  Class 2: 70.37%\n",
            "  Class 0: 46.45%\n",
            "  Class 3: 58.02%\n",
            "Test Accuracy: 59.8%, Test Loss: 0.974841\n",
            "\n",
            "\n",
            "Class-wise Accuracy:\n",
            "  Class 1: 64.35%\n",
            "  Class 2: 70.37%\n",
            "  Class 0: 46.45%\n",
            "  Class 3: 58.02%\n",
            "Train Accuracy: 65.16%, Average Train Loss: 0.853563, Test Accuracy: 59.80%, Average Test Loss: 0.974841\n",
            "\n",
            "Epoch 67/100: "
          ]
        },
        {
          "output_type": "stream",
          "name": "stderr",
          "text": [
            "100%|██████████| 41/41 [00:00<00:00, 47.90it/s]\n",
            "Batch 41/41, Loss: 1.183421: 100%|██████████| 41/41 [00:00<00:00, 48.98it/s]\n"
          ]
        },
        {
          "output_type": "stream",
          "name": "stdout",
          "text": [
            "\n",
            "Class-wise Accuracy:\n",
            "  Class 1: 62.35%\n",
            "  Class 2: 72.38%\n",
            "  Class 0: 45.68%\n",
            "  Class 3: 57.56%\n",
            "Test Accuracy: 59.5%, Test Loss: 0.980680\n",
            "\n",
            "\n",
            "Class-wise Accuracy:\n",
            "  Class 1: 62.35%\n",
            "  Class 2: 72.38%\n",
            "  Class 0: 45.68%\n",
            "  Class 3: 57.56%\n",
            "Train Accuracy: 65.43%, Average Train Loss: 0.851599, Test Accuracy: 59.49%, Average Test Loss: 0.980680\n",
            "\n",
            "Epoch 68/100: "
          ]
        },
        {
          "output_type": "stream",
          "name": "stderr",
          "text": [
            "100%|██████████| 41/41 [00:00<00:00, 50.55it/s]\n",
            "Batch 41/41, Loss: 1.188857: 100%|██████████| 41/41 [00:00<00:00, 43.87it/s]\n"
          ]
        },
        {
          "output_type": "stream",
          "name": "stdout",
          "text": [
            "\n",
            "Class-wise Accuracy:\n",
            "  Class 1: 63.12%\n",
            "  Class 2: 70.22%\n",
            "  Class 0: 47.07%\n",
            "  Class 3: 58.64%\n",
            "Test Accuracy: 59.8%, Test Loss: 0.974478\n",
            "\n",
            "\n",
            "Class-wise Accuracy:\n",
            "  Class 1: 63.12%\n",
            "  Class 2: 70.22%\n",
            "  Class 0: 47.07%\n",
            "  Class 3: 58.64%\n",
            "Train Accuracy: 64.70%, Average Train Loss: 0.855345, Test Accuracy: 59.76%, Average Test Loss: 0.974478\n",
            "\n",
            "Epoch 69/100: "
          ]
        },
        {
          "output_type": "stream",
          "name": "stderr",
          "text": [
            "100%|██████████| 41/41 [00:00<00:00, 55.29it/s]\n",
            "Batch 41/41, Loss: 1.194926: 100%|██████████| 41/41 [00:00<00:00, 58.18it/s]\n"
          ]
        },
        {
          "output_type": "stream",
          "name": "stdout",
          "text": [
            "\n",
            "Class-wise Accuracy:\n",
            "  Class 1: 64.97%\n",
            "  Class 2: 67.90%\n",
            "  Class 0: 45.37%\n",
            "  Class 3: 59.88%\n",
            "Test Accuracy: 59.5%, Test Loss: 0.977019\n",
            "\n",
            "\n",
            "Class-wise Accuracy:\n",
            "  Class 1: 64.97%\n",
            "  Class 2: 67.90%\n",
            "  Class 0: 45.37%\n",
            "  Class 3: 59.88%\n",
            "Train Accuracy: 65.16%, Average Train Loss: 0.851467, Test Accuracy: 59.53%, Average Test Loss: 0.977019\n",
            "\n",
            "Epoch 70/100: "
          ]
        },
        {
          "output_type": "stream",
          "name": "stderr",
          "text": [
            "100%|██████████| 41/41 [00:00<00:00, 66.20it/s]\n",
            "Batch 41/41, Loss: 1.190338: 100%|██████████| 41/41 [00:00<00:00, 60.08it/s]\n"
          ]
        },
        {
          "output_type": "stream",
          "name": "stdout",
          "text": [
            "\n",
            "Class-wise Accuracy:\n",
            "  Class 1: 61.27%\n",
            "  Class 2: 71.60%\n",
            "  Class 0: 46.60%\n",
            "  Class 3: 57.56%\n",
            "Test Accuracy: 59.3%, Test Loss: 0.979756\n",
            "\n",
            "\n",
            "Class-wise Accuracy:\n",
            "  Class 1: 61.27%\n",
            "  Class 2: 71.60%\n",
            "  Class 0: 46.60%\n",
            "  Class 3: 57.56%\n",
            "Train Accuracy: 65.28%, Average Train Loss: 0.856571, Test Accuracy: 59.26%, Average Test Loss: 0.979756\n",
            "\n",
            "Epoch 71/100: "
          ]
        },
        {
          "output_type": "stream",
          "name": "stderr",
          "text": [
            "100%|██████████| 41/41 [00:00<00:00, 65.16it/s]\n",
            "Batch 41/41, Loss: 1.203627: 100%|██████████| 41/41 [00:00<00:00, 57.46it/s]\n"
          ]
        },
        {
          "output_type": "stream",
          "name": "stdout",
          "text": [
            "\n",
            "Class-wise Accuracy:\n",
            "  Class 1: 64.51%\n",
            "  Class 2: 67.44%\n",
            "  Class 0: 48.46%\n",
            "  Class 3: 58.49%\n",
            "Test Accuracy: 59.7%, Test Loss: 0.973736\n",
            "\n",
            "\n",
            "Class-wise Accuracy:\n",
            "  Class 1: 64.51%\n",
            "  Class 2: 67.44%\n",
            "  Class 0: 48.46%\n",
            "  Class 3: 58.49%\n",
            "Train Accuracy: 66.17%, Average Train Loss: 0.836218, Test Accuracy: 59.72%, Average Test Loss: 0.973736\n",
            "\n",
            "Epoch 72/100: "
          ]
        },
        {
          "output_type": "stream",
          "name": "stderr",
          "text": [
            "100%|██████████| 41/41 [00:00<00:00, 57.97it/s]\n",
            "Batch 41/41, Loss: 1.171963: 100%|██████████| 41/41 [00:00<00:00, 59.30it/s]\n"
          ]
        },
        {
          "output_type": "stream",
          "name": "stdout",
          "text": [
            "\n",
            "Class-wise Accuracy:\n",
            "  Class 1: 63.43%\n",
            "  Class 2: 71.14%\n",
            "  Class 0: 47.22%\n",
            "  Class 3: 59.72%\n",
            "Test Accuracy: 60.4%, Test Loss: 0.971417\n",
            "\n",
            "\n",
            "Class-wise Accuracy:\n",
            "  Class 1: 63.43%\n",
            "  Class 2: 71.14%\n",
            "  Class 0: 47.22%\n",
            "  Class 3: 59.72%\n",
            "Train Accuracy: 65.97%, Average Train Loss: 0.834477, Test Accuracy: 60.38%, Average Test Loss: 0.971417\n",
            "\n",
            "Epoch 73/100: "
          ]
        },
        {
          "output_type": "stream",
          "name": "stderr",
          "text": [
            "100%|██████████| 41/41 [00:00<00:00, 65.16it/s]\n",
            "Batch 41/41, Loss: 1.163597: 100%|██████████| 41/41 [00:00<00:00, 58.86it/s]\n"
          ]
        },
        {
          "output_type": "stream",
          "name": "stdout",
          "text": [
            "\n",
            "Class-wise Accuracy:\n",
            "  Class 1: 65.90%\n",
            "  Class 2: 69.29%\n",
            "  Class 0: 46.45%\n",
            "  Class 3: 58.95%\n",
            "Test Accuracy: 60.1%, Test Loss: 0.971673\n",
            "\n",
            "\n",
            "Class-wise Accuracy:\n",
            "  Class 1: 65.90%\n",
            "  Class 2: 69.29%\n",
            "  Class 0: 46.45%\n",
            "  Class 3: 58.95%\n",
            "Train Accuracy: 67.13%, Average Train Loss: 0.829667, Test Accuracy: 60.15%, Average Test Loss: 0.971673\n",
            "\n",
            "Epoch 74/100: "
          ]
        },
        {
          "output_type": "stream",
          "name": "stderr",
          "text": [
            "100%|██████████| 41/41 [00:00<00:00, 66.64it/s]\n",
            "Batch 41/41, Loss: 1.172221: 100%|██████████| 41/41 [00:00<00:00, 59.30it/s]\n"
          ]
        },
        {
          "output_type": "stream",
          "name": "stdout",
          "text": [
            "\n",
            "Class-wise Accuracy:\n",
            "  Class 1: 64.81%\n",
            "  Class 2: 69.44%\n",
            "  Class 0: 46.60%\n",
            "  Class 3: 59.57%\n",
            "Test Accuracy: 60.1%, Test Loss: 0.970386\n",
            "\n",
            "\n",
            "Class-wise Accuracy:\n",
            "  Class 1: 64.81%\n",
            "  Class 2: 69.44%\n",
            "  Class 0: 46.60%\n",
            "  Class 3: 59.57%\n",
            "Train Accuracy: 66.28%, Average Train Loss: 0.824791, Test Accuracy: 60.11%, Average Test Loss: 0.970386\n",
            "\n",
            "Epoch 75/100: "
          ]
        },
        {
          "output_type": "stream",
          "name": "stderr",
          "text": [
            "100%|██████████| 41/41 [00:00<00:00, 66.57it/s]\n",
            "Batch 41/41, Loss: 1.160790: 100%|██████████| 41/41 [00:00<00:00, 59.80it/s]\n"
          ]
        },
        {
          "output_type": "stream",
          "name": "stdout",
          "text": [
            "\n",
            "Class-wise Accuracy:\n",
            "  Class 1: 64.97%\n",
            "  Class 2: 70.68%\n",
            "  Class 0: 45.37%\n",
            "  Class 3: 59.26%\n",
            "Test Accuracy: 60.1%, Test Loss: 0.970935\n",
            "\n",
            "\n",
            "Class-wise Accuracy:\n",
            "  Class 1: 64.97%\n",
            "  Class 2: 70.68%\n",
            "  Class 0: 45.37%\n",
            "  Class 3: 59.26%\n",
            "Train Accuracy: 65.05%, Average Train Loss: 0.858181, Test Accuracy: 60.07%, Average Test Loss: 0.970935\n",
            "\n",
            "Epoch 76/100: "
          ]
        },
        {
          "output_type": "stream",
          "name": "stderr",
          "text": [
            "100%|██████████| 41/41 [00:00<00:00, 57.55it/s]\n",
            "Batch 41/41, Loss: 1.161331: 100%|██████████| 41/41 [00:00<00:00, 42.49it/s]\n"
          ]
        },
        {
          "output_type": "stream",
          "name": "stdout",
          "text": [
            "\n",
            "Class-wise Accuracy:\n",
            "  Class 1: 63.73%\n",
            "  Class 2: 70.83%\n",
            "  Class 0: 46.60%\n",
            "  Class 3: 58.18%\n",
            "Test Accuracy: 59.8%, Test Loss: 0.970470\n",
            "\n",
            "\n",
            "Class-wise Accuracy:\n",
            "  Class 1: 63.73%\n",
            "  Class 2: 70.83%\n",
            "  Class 0: 46.60%\n",
            "  Class 3: 58.18%\n",
            "Train Accuracy: 66.17%, Average Train Loss: 0.824904, Test Accuracy: 59.84%, Average Test Loss: 0.970470\n",
            "\n",
            "Epoch 77/100: "
          ]
        },
        {
          "output_type": "stream",
          "name": "stderr",
          "text": [
            "100%|██████████| 41/41 [00:00<00:00, 45.78it/s]\n",
            "Batch 41/41, Loss: 1.188903: 100%|██████████| 41/41 [00:00<00:00, 42.67it/s]\n"
          ]
        },
        {
          "output_type": "stream",
          "name": "stdout",
          "text": [
            "\n",
            "Class-wise Accuracy:\n",
            "  Class 1: 63.27%\n",
            "  Class 2: 71.45%\n",
            "  Class 0: 45.83%\n",
            "  Class 3: 58.80%\n",
            "Test Accuracy: 59.8%, Test Loss: 0.972095\n",
            "\n",
            "\n",
            "Class-wise Accuracy:\n",
            "  Class 1: 63.27%\n",
            "  Class 2: 71.45%\n",
            "  Class 0: 45.83%\n",
            "  Class 3: 58.80%\n",
            "Train Accuracy: 66.90%, Average Train Loss: 0.824438, Test Accuracy: 59.84%, Average Test Loss: 0.972095\n",
            "\n",
            "Epoch 78/100: "
          ]
        },
        {
          "output_type": "stream",
          "name": "stderr",
          "text": [
            "100%|██████████| 41/41 [00:00<00:00, 43.49it/s]\n",
            "Batch 41/41, Loss: 1.169840: 100%|██████████| 41/41 [00:00<00:00, 47.61it/s]\n"
          ]
        },
        {
          "output_type": "stream",
          "name": "stdout",
          "text": [
            "\n",
            "Class-wise Accuracy:\n",
            "  Class 1: 62.65%\n",
            "  Class 2: 71.76%\n",
            "  Class 0: 45.06%\n",
            "  Class 3: 59.10%\n",
            "Test Accuracy: 59.6%, Test Loss: 0.971431\n",
            "\n",
            "\n",
            "Class-wise Accuracy:\n",
            "  Class 1: 62.65%\n",
            "  Class 2: 71.76%\n",
            "  Class 0: 45.06%\n",
            "  Class 3: 59.10%\n",
            "Train Accuracy: 65.59%, Average Train Loss: 0.841052, Test Accuracy: 59.65%, Average Test Loss: 0.971431\n",
            "\n",
            "Epoch 79/100: "
          ]
        },
        {
          "output_type": "stream",
          "name": "stderr",
          "text": [
            "100%|██████████| 41/41 [00:00<00:00, 56.83it/s]\n",
            "Batch 41/41, Loss: 1.153325: 100%|██████████| 41/41 [00:00<00:00, 53.14it/s]\n"
          ]
        },
        {
          "output_type": "stream",
          "name": "stdout",
          "text": [
            "\n",
            "Class-wise Accuracy:\n",
            "  Class 1: 64.66%\n",
            "  Class 2: 69.75%\n",
            "  Class 0: 45.83%\n",
            "  Class 3: 57.10%\n",
            "Test Accuracy: 59.3%, Test Loss: 0.969586\n",
            "\n",
            "\n",
            "Class-wise Accuracy:\n",
            "  Class 1: 64.66%\n",
            "  Class 2: 69.75%\n",
            "  Class 0: 45.83%\n",
            "  Class 3: 57.10%\n",
            "Train Accuracy: 65.55%, Average Train Loss: 0.835218, Test Accuracy: 59.34%, Average Test Loss: 0.969586\n",
            "\n",
            "Epoch 80/100: "
          ]
        },
        {
          "output_type": "stream",
          "name": "stderr",
          "text": [
            "100%|██████████| 41/41 [00:00<00:00, 57.15it/s]\n",
            "Batch 41/41, Loss: 1.186126: 100%|██████████| 41/41 [00:00<00:00, 55.69it/s]\n"
          ]
        },
        {
          "output_type": "stream",
          "name": "stdout",
          "text": [
            "\n",
            "Class-wise Accuracy:\n",
            "  Class 1: 64.81%\n",
            "  Class 2: 69.75%\n",
            "  Class 0: 46.60%\n",
            "  Class 3: 58.49%\n",
            "Test Accuracy: 59.9%, Test Loss: 0.969639\n",
            "\n",
            "\n",
            "Class-wise Accuracy:\n",
            "  Class 1: 64.81%\n",
            "  Class 2: 69.75%\n",
            "  Class 0: 46.60%\n",
            "  Class 3: 58.49%\n",
            "Train Accuracy: 66.24%, Average Train Loss: 0.827184, Test Accuracy: 59.92%, Average Test Loss: 0.969639\n",
            "\n",
            "Epoch 81/100: "
          ]
        },
        {
          "output_type": "stream",
          "name": "stderr",
          "text": [
            "100%|██████████| 41/41 [00:00<00:00, 57.98it/s]\n",
            "Batch 41/41, Loss: 1.174048: 100%|██████████| 41/41 [00:00<00:00, 55.20it/s]\n"
          ]
        },
        {
          "output_type": "stream",
          "name": "stdout",
          "text": [
            "\n",
            "Class-wise Accuracy:\n",
            "  Class 1: 64.97%\n",
            "  Class 2: 70.06%\n",
            "  Class 0: 45.06%\n",
            "  Class 3: 60.19%\n",
            "Test Accuracy: 60.1%, Test Loss: 0.969249\n",
            "\n",
            "\n",
            "Class-wise Accuracy:\n",
            "  Class 1: 64.97%\n",
            "  Class 2: 70.06%\n",
            "  Class 0: 45.06%\n",
            "  Class 3: 60.19%\n",
            "Train Accuracy: 66.24%, Average Train Loss: 0.841570, Test Accuracy: 60.07%, Average Test Loss: 0.969249\n",
            "\n",
            "Epoch 82/100: "
          ]
        },
        {
          "output_type": "stream",
          "name": "stderr",
          "text": [
            "100%|██████████| 41/41 [00:00<00:00, 59.26it/s]\n",
            "Batch 41/41, Loss: 1.171195: 100%|██████████| 41/41 [00:00<00:00, 57.03it/s]\n"
          ]
        },
        {
          "output_type": "stream",
          "name": "stdout",
          "text": [
            "\n",
            "Class-wise Accuracy:\n",
            "  Class 1: 64.20%\n",
            "  Class 2: 70.37%\n",
            "  Class 0: 45.99%\n",
            "  Class 3: 59.57%\n",
            "Test Accuracy: 60.0%, Test Loss: 0.968232\n",
            "\n",
            "\n",
            "Class-wise Accuracy:\n",
            "  Class 1: 64.20%\n",
            "  Class 2: 70.37%\n",
            "  Class 0: 45.99%\n",
            "  Class 3: 59.57%\n",
            "Train Accuracy: 66.09%, Average Train Loss: 0.822377, Test Accuracy: 60.03%, Average Test Loss: 0.968232\n",
            "\n",
            "Epoch 83/100: "
          ]
        },
        {
          "output_type": "stream",
          "name": "stderr",
          "text": [
            "100%|██████████| 41/41 [00:00<00:00, 61.73it/s]\n",
            "Batch 41/41, Loss: 1.181970: 100%|██████████| 41/41 [00:00<00:00, 55.10it/s]\n"
          ]
        },
        {
          "output_type": "stream",
          "name": "stdout",
          "text": [
            "\n",
            "Class-wise Accuracy:\n",
            "  Class 1: 63.89%\n",
            "  Class 2: 71.14%\n",
            "  Class 0: 45.99%\n",
            "  Class 3: 58.95%\n",
            "Test Accuracy: 60.0%, Test Loss: 0.968876\n",
            "\n",
            "\n",
            "Class-wise Accuracy:\n",
            "  Class 1: 63.89%\n",
            "  Class 2: 71.14%\n",
            "  Class 0: 45.99%\n",
            "  Class 3: 58.95%\n",
            "Train Accuracy: 66.24%, Average Train Loss: 0.830898, Test Accuracy: 59.99%, Average Test Loss: 0.968876\n",
            "\n",
            "Epoch 84/100: "
          ]
        },
        {
          "output_type": "stream",
          "name": "stderr",
          "text": [
            "100%|██████████| 41/41 [00:00<00:00, 63.11it/s]\n",
            "Batch 41/41, Loss: 1.180545: 100%|██████████| 41/41 [00:00<00:00, 55.01it/s]\n"
          ]
        },
        {
          "output_type": "stream",
          "name": "stdout",
          "text": [
            "\n",
            "Class-wise Accuracy:\n",
            "  Class 1: 64.81%\n",
            "  Class 2: 70.52%\n",
            "  Class 0: 45.52%\n",
            "  Class 3: 59.26%\n",
            "Test Accuracy: 60.0%, Test Loss: 0.967058\n",
            "\n",
            "\n",
            "Class-wise Accuracy:\n",
            "  Class 1: 64.81%\n",
            "  Class 2: 70.52%\n",
            "  Class 0: 45.52%\n",
            "  Class 3: 59.26%\n",
            "Train Accuracy: 66.90%, Average Train Loss: 0.825338, Test Accuracy: 60.03%, Average Test Loss: 0.967058\n",
            "\n",
            "Epoch 85/100: "
          ]
        },
        {
          "output_type": "stream",
          "name": "stderr",
          "text": [
            "100%|██████████| 41/41 [00:00<00:00, 49.22it/s]\n",
            "Batch 41/41, Loss: 1.182285: 100%|██████████| 41/41 [00:00<00:00, 46.44it/s]\n"
          ]
        },
        {
          "output_type": "stream",
          "name": "stdout",
          "text": [
            "\n",
            "Class-wise Accuracy:\n",
            "  Class 1: 64.97%\n",
            "  Class 2: 70.68%\n",
            "  Class 0: 44.91%\n",
            "  Class 3: 58.80%\n",
            "Test Accuracy: 59.8%, Test Loss: 0.968413\n",
            "\n",
            "\n",
            "Class-wise Accuracy:\n",
            "  Class 1: 64.97%\n",
            "  Class 2: 70.68%\n",
            "  Class 0: 44.91%\n",
            "  Class 3: 58.80%\n",
            "Train Accuracy: 66.44%, Average Train Loss: 0.819277, Test Accuracy: 59.84%, Average Test Loss: 0.968413\n",
            "\n",
            "Epoch 86/100: "
          ]
        },
        {
          "output_type": "stream",
          "name": "stderr",
          "text": [
            "100%|██████████| 41/41 [00:00<00:00, 47.13it/s]\n",
            "Batch 41/41, Loss: 1.172212: 100%|██████████| 41/41 [00:00<00:00, 48.07it/s]\n"
          ]
        },
        {
          "output_type": "stream",
          "name": "stdout",
          "text": [
            "\n",
            "Class-wise Accuracy:\n",
            "  Class 1: 64.97%\n",
            "  Class 2: 71.30%\n",
            "  Class 0: 45.06%\n",
            "  Class 3: 58.18%\n",
            "Test Accuracy: 59.9%, Test Loss: 0.967453\n",
            "\n",
            "\n",
            "Class-wise Accuracy:\n",
            "  Class 1: 64.97%\n",
            "  Class 2: 71.30%\n",
            "  Class 0: 45.06%\n",
            "  Class 3: 58.18%\n",
            "Train Accuracy: 65.82%, Average Train Loss: 0.844726, Test Accuracy: 59.88%, Average Test Loss: 0.967453\n",
            "\n",
            "Epoch 87/100: "
          ]
        },
        {
          "output_type": "stream",
          "name": "stderr",
          "text": [
            "100%|██████████| 41/41 [00:00<00:00, 48.90it/s]\n",
            "Batch 41/41, Loss: 1.185697: 100%|██████████| 41/41 [00:00<00:00, 44.34it/s]\n"
          ]
        },
        {
          "output_type": "stream",
          "name": "stdout",
          "text": [
            "\n",
            "Class-wise Accuracy:\n",
            "  Class 1: 64.51%\n",
            "  Class 2: 69.91%\n",
            "  Class 0: 45.52%\n",
            "  Class 3: 60.03%\n",
            "Test Accuracy: 60.0%, Test Loss: 0.967519\n",
            "\n",
            "\n",
            "Class-wise Accuracy:\n",
            "  Class 1: 64.51%\n",
            "  Class 2: 69.91%\n",
            "  Class 0: 45.52%\n",
            "  Class 3: 60.03%\n",
            "Train Accuracy: 66.78%, Average Train Loss: 0.821994, Test Accuracy: 59.99%, Average Test Loss: 0.967519\n",
            "\n",
            "Epoch 88/100: "
          ]
        },
        {
          "output_type": "stream",
          "name": "stderr",
          "text": [
            "100%|██████████| 41/41 [00:00<00:00, 59.54it/s]\n",
            "Batch 41/41, Loss: 1.178938: 100%|██████████| 41/41 [00:00<00:00, 60.55it/s]\n"
          ]
        },
        {
          "output_type": "stream",
          "name": "stdout",
          "text": [
            "\n",
            "Class-wise Accuracy:\n",
            "  Class 1: 65.12%\n",
            "  Class 2: 69.44%\n",
            "  Class 0: 45.37%\n",
            "  Class 3: 60.03%\n",
            "Test Accuracy: 60.0%, Test Loss: 0.967385\n",
            "\n",
            "\n",
            "Class-wise Accuracy:\n",
            "  Class 1: 65.12%\n",
            "  Class 2: 69.44%\n",
            "  Class 0: 45.37%\n",
            "  Class 3: 60.03%\n",
            "Train Accuracy: 66.20%, Average Train Loss: 0.821310, Test Accuracy: 59.99%, Average Test Loss: 0.967385\n",
            "\n",
            "Epoch 89/100: "
          ]
        },
        {
          "output_type": "stream",
          "name": "stderr",
          "text": [
            "100%|██████████| 41/41 [00:00<00:00, 64.99it/s]\n",
            "Batch 41/41, Loss: 1.170725: 100%|██████████| 41/41 [00:00<00:00, 59.34it/s]\n"
          ]
        },
        {
          "output_type": "stream",
          "name": "stdout",
          "text": [
            "\n",
            "Class-wise Accuracy:\n",
            "  Class 1: 64.97%\n",
            "  Class 2: 70.06%\n",
            "  Class 0: 45.22%\n",
            "  Class 3: 59.26%\n",
            "Test Accuracy: 59.9%, Test Loss: 0.967218\n",
            "\n",
            "\n",
            "Class-wise Accuracy:\n",
            "  Class 1: 64.97%\n",
            "  Class 2: 70.06%\n",
            "  Class 0: 45.22%\n",
            "  Class 3: 59.26%\n",
            "Train Accuracy: 67.67%, Average Train Loss: 0.824239, Test Accuracy: 59.88%, Average Test Loss: 0.967218\n",
            "\n",
            "Epoch 90/100: "
          ]
        },
        {
          "output_type": "stream",
          "name": "stderr",
          "text": [
            "100%|██████████| 41/41 [00:00<00:00, 66.87it/s]\n",
            "Batch 41/41, Loss: 1.180155: 100%|██████████| 41/41 [00:00<00:00, 57.14it/s]\n"
          ]
        },
        {
          "output_type": "stream",
          "name": "stdout",
          "text": [
            "\n",
            "Class-wise Accuracy:\n",
            "  Class 1: 65.28%\n",
            "  Class 2: 69.60%\n",
            "  Class 0: 45.83%\n",
            "  Class 3: 59.26%\n",
            "Test Accuracy: 60.0%, Test Loss: 0.967903\n",
            "\n",
            "\n",
            "Class-wise Accuracy:\n",
            "  Class 1: 65.28%\n",
            "  Class 2: 69.60%\n",
            "  Class 0: 45.83%\n",
            "  Class 3: 59.26%\n",
            "Train Accuracy: 66.86%, Average Train Loss: 0.825052, Test Accuracy: 59.99%, Average Test Loss: 0.967903\n",
            "\n",
            "Epoch 91/100: "
          ]
        },
        {
          "output_type": "stream",
          "name": "stderr",
          "text": [
            "100%|██████████| 41/41 [00:00<00:00, 64.89it/s]\n",
            "Batch 41/41, Loss: 1.184419: 100%|██████████| 41/41 [00:00<00:00, 56.44it/s]\n"
          ]
        },
        {
          "output_type": "stream",
          "name": "stdout",
          "text": [
            "\n",
            "Class-wise Accuracy:\n",
            "  Class 1: 63.73%\n",
            "  Class 2: 70.99%\n",
            "  Class 0: 46.14%\n",
            "  Class 3: 59.10%\n",
            "Test Accuracy: 60.0%, Test Loss: 0.968543\n",
            "\n",
            "\n",
            "Class-wise Accuracy:\n",
            "  Class 1: 63.73%\n",
            "  Class 2: 70.99%\n",
            "  Class 0: 46.14%\n",
            "  Class 3: 59.10%\n",
            "Train Accuracy: 65.55%, Average Train Loss: 0.828507, Test Accuracy: 59.99%, Average Test Loss: 0.968543\n",
            "\n",
            "Epoch 92/100: "
          ]
        },
        {
          "output_type": "stream",
          "name": "stderr",
          "text": [
            "100%|██████████| 41/41 [00:00<00:00, 56.63it/s]\n",
            "Batch 41/41, Loss: 1.183593: 100%|██████████| 41/41 [00:00<00:00, 53.91it/s]\n"
          ]
        },
        {
          "output_type": "stream",
          "name": "stdout",
          "text": [
            "\n",
            "Class-wise Accuracy:\n",
            "  Class 1: 64.35%\n",
            "  Class 2: 70.68%\n",
            "  Class 0: 45.83%\n",
            "  Class 3: 59.26%\n",
            "Test Accuracy: 60.0%, Test Loss: 0.967738\n",
            "\n",
            "\n",
            "Class-wise Accuracy:\n",
            "  Class 1: 64.35%\n",
            "  Class 2: 70.68%\n",
            "  Class 0: 45.83%\n",
            "  Class 3: 59.26%\n",
            "Train Accuracy: 65.93%, Average Train Loss: 0.836833, Test Accuracy: 60.03%, Average Test Loss: 0.967738\n",
            "\n",
            "Epoch 93/100: "
          ]
        },
        {
          "output_type": "stream",
          "name": "stderr",
          "text": [
            "100%|██████████| 41/41 [00:00<00:00, 55.27it/s]\n",
            "Batch 41/41, Loss: 1.182308: 100%|██████████| 41/41 [00:00<00:00, 55.72it/s]\n"
          ]
        },
        {
          "output_type": "stream",
          "name": "stdout",
          "text": [
            "\n",
            "Class-wise Accuracy:\n",
            "  Class 1: 64.35%\n",
            "  Class 2: 70.37%\n",
            "  Class 0: 45.52%\n",
            "  Class 3: 59.26%\n",
            "Test Accuracy: 59.9%, Test Loss: 0.967412\n",
            "\n",
            "\n",
            "Class-wise Accuracy:\n",
            "  Class 1: 64.35%\n",
            "  Class 2: 70.37%\n",
            "  Class 0: 45.52%\n",
            "  Class 3: 59.26%\n",
            "Train Accuracy: 67.01%, Average Train Loss: 0.818603, Test Accuracy: 59.88%, Average Test Loss: 0.967412\n",
            "\n",
            "Epoch 94/100: "
          ]
        },
        {
          "output_type": "stream",
          "name": "stderr",
          "text": [
            "100%|██████████| 41/41 [00:00<00:00, 55.61it/s]\n",
            "Batch 41/41, Loss: 1.182433: 100%|██████████| 41/41 [00:00<00:00, 52.39it/s]\n"
          ]
        },
        {
          "output_type": "stream",
          "name": "stdout",
          "text": [
            "\n",
            "Class-wise Accuracy:\n",
            "  Class 1: 64.66%\n",
            "  Class 2: 70.83%\n",
            "  Class 0: 45.37%\n",
            "  Class 3: 58.95%\n",
            "Test Accuracy: 60.0%, Test Loss: 0.967038\n",
            "\n",
            "\n",
            "Class-wise Accuracy:\n",
            "  Class 1: 64.66%\n",
            "  Class 2: 70.83%\n",
            "  Class 0: 45.37%\n",
            "  Class 3: 58.95%\n",
            "Train Accuracy: 66.36%, Average Train Loss: 0.819676, Test Accuracy: 59.95%, Average Test Loss: 0.967038\n",
            "\n",
            "Epoch 95/100: "
          ]
        },
        {
          "output_type": "stream",
          "name": "stderr",
          "text": [
            "100%|██████████| 41/41 [00:00<00:00, 45.28it/s]\n",
            "Batch 41/41, Loss: 1.183538: 100%|██████████| 41/41 [00:00<00:00, 45.77it/s]\n"
          ]
        },
        {
          "output_type": "stream",
          "name": "stdout",
          "text": [
            "\n",
            "Class-wise Accuracy:\n",
            "  Class 1: 64.51%\n",
            "  Class 2: 70.22%\n",
            "  Class 0: 45.68%\n",
            "  Class 3: 60.03%\n",
            "Test Accuracy: 60.1%, Test Loss: 0.967137\n",
            "\n",
            "\n",
            "Class-wise Accuracy:\n",
            "  Class 1: 64.51%\n",
            "  Class 2: 70.22%\n",
            "  Class 0: 45.68%\n",
            "  Class 3: 60.03%\n",
            "Train Accuracy: 66.13%, Average Train Loss: 0.830178, Test Accuracy: 60.11%, Average Test Loss: 0.967137\n",
            "\n",
            "Epoch 96/100: "
          ]
        },
        {
          "output_type": "stream",
          "name": "stderr",
          "text": [
            "100%|██████████| 41/41 [00:00<00:00, 44.72it/s]\n",
            "Batch 41/41, Loss: 1.179529: 100%|██████████| 41/41 [00:00<00:00, 45.55it/s]\n"
          ]
        },
        {
          "output_type": "stream",
          "name": "stdout",
          "text": [
            "\n",
            "Class-wise Accuracy:\n",
            "  Class 1: 64.51%\n",
            "  Class 2: 70.68%\n",
            "  Class 0: 45.22%\n",
            "  Class 3: 58.95%\n",
            "Test Accuracy: 59.8%, Test Loss: 0.966960\n",
            "\n",
            "\n",
            "Class-wise Accuracy:\n",
            "  Class 1: 64.51%\n",
            "  Class 2: 70.68%\n",
            "  Class 0: 45.22%\n",
            "  Class 3: 58.95%\n",
            "Train Accuracy: 66.74%, Average Train Loss: 0.816650, Test Accuracy: 59.84%, Average Test Loss: 0.966960\n",
            "\n",
            "Epoch 97/100: "
          ]
        },
        {
          "output_type": "stream",
          "name": "stderr",
          "text": [
            "100%|██████████| 41/41 [00:01<00:00, 40.69it/s]\n",
            "Batch 41/41, Loss: 1.173383: 100%|██████████| 41/41 [00:00<00:00, 51.89it/s]\n"
          ]
        },
        {
          "output_type": "stream",
          "name": "stdout",
          "text": [
            "\n",
            "Class-wise Accuracy:\n",
            "  Class 1: 64.81%\n",
            "  Class 2: 70.99%\n",
            "  Class 0: 45.22%\n",
            "  Class 3: 58.64%\n",
            "Test Accuracy: 59.9%, Test Loss: 0.967118\n",
            "\n",
            "\n",
            "Class-wise Accuracy:\n",
            "  Class 1: 64.81%\n",
            "  Class 2: 70.99%\n",
            "  Class 0: 45.22%\n",
            "  Class 3: 58.64%\n",
            "Train Accuracy: 66.28%, Average Train Loss: 0.841289, Test Accuracy: 59.92%, Average Test Loss: 0.967118\n",
            "\n",
            "Epoch 98/100: "
          ]
        },
        {
          "output_type": "stream",
          "name": "stderr",
          "text": [
            "100%|██████████| 41/41 [00:00<00:00, 51.79it/s]\n",
            "Batch 41/41, Loss: 1.177730: 100%|██████████| 41/41 [00:00<00:00, 51.24it/s]\n"
          ]
        },
        {
          "output_type": "stream",
          "name": "stdout",
          "text": [
            "\n",
            "Class-wise Accuracy:\n",
            "  Class 1: 65.12%\n",
            "  Class 2: 70.22%\n",
            "  Class 0: 45.37%\n",
            "  Class 3: 58.95%\n",
            "Test Accuracy: 59.9%, Test Loss: 0.966692\n",
            "\n",
            "\n",
            "Class-wise Accuracy:\n",
            "  Class 1: 65.12%\n",
            "  Class 2: 70.22%\n",
            "  Class 0: 45.37%\n",
            "  Class 3: 58.95%\n",
            "Train Accuracy: 65.97%, Average Train Loss: 0.824770, Test Accuracy: 59.92%, Average Test Loss: 0.966692\n",
            "\n",
            "Epoch 99/100: "
          ]
        },
        {
          "output_type": "stream",
          "name": "stderr",
          "text": [
            "100%|██████████| 41/41 [00:00<00:00, 56.41it/s]\n",
            "Batch 41/41, Loss: 1.183112: 100%|██████████| 41/41 [00:00<00:00, 53.54it/s]\n"
          ]
        },
        {
          "output_type": "stream",
          "name": "stdout",
          "text": [
            "\n",
            "Class-wise Accuracy:\n",
            "  Class 1: 65.28%\n",
            "  Class 2: 68.83%\n",
            "  Class 0: 45.99%\n",
            "  Class 3: 59.41%\n",
            "Test Accuracy: 59.9%, Test Loss: 0.966408\n",
            "\n",
            "\n",
            "Class-wise Accuracy:\n",
            "  Class 1: 65.28%\n",
            "  Class 2: 68.83%\n",
            "  Class 0: 45.99%\n",
            "  Class 3: 59.41%\n",
            "Train Accuracy: 66.09%, Average Train Loss: 0.827387, Test Accuracy: 59.88%, Average Test Loss: 0.966408\n",
            "\n",
            "Epoch 100/100: "
          ]
        },
        {
          "output_type": "stream",
          "name": "stderr",
          "text": [
            "100%|██████████| 41/41 [00:00<00:00, 61.76it/s]\n",
            "Batch 41/41, Loss: 1.182710: 100%|██████████| 41/41 [00:00<00:00, 56.60it/s]\n"
          ]
        },
        {
          "output_type": "stream",
          "name": "stdout",
          "text": [
            "\n",
            "Class-wise Accuracy:\n",
            "  Class 1: 64.20%\n",
            "  Class 2: 71.14%\n",
            "  Class 0: 45.99%\n",
            "  Class 3: 58.95%\n",
            "Test Accuracy: 60.1%, Test Loss: 0.967262\n",
            "\n",
            "\n",
            "Class-wise Accuracy:\n",
            "  Class 1: 64.20%\n",
            "  Class 2: 71.14%\n",
            "  Class 0: 45.99%\n",
            "  Class 3: 58.95%\n",
            "Train Accuracy: 65.86%, Average Train Loss: 0.819418, Test Accuracy: 60.07%, Average Test Loss: 0.967262\n",
            "\n"
          ]
        }
      ],
      "source": [
        "import torch\n",
        "import wandb\n",
        "from torch.utils.data import DataLoader\n",
        "from torch.optim import AdamW\n",
        "from torch.optim.lr_scheduler import CosineAnnealingLR\n",
        "from torch.nn import CrossEntropyLoss\n",
        "import numpy as np\n",
        "\n",
        "\n",
        "wandb.init(project=\"Master Thesis\", name=f\"Shallow {seed}\")\n",
        "model.apply(init_weights)\n",
        "\n",
        "lr = 1e-3\n",
        "weight_decay = 1e-4\n",
        "batch_size = 64\n",
        "n_epochs = 100\n",
        "\n",
        "final_acc = 0.0\n",
        "\n",
        "patience = 10  # Early stopping patience\n",
        "best_val_loss = float(\"inf\")\n",
        "counter = 0  # Counts epochs without improvement\n",
        "\n",
        "wandb.config.update({\n",
        "    \"learning_rate\": lr,\n",
        "    \"weight_decay\": weight_decay,\n",
        "    \"batch_size\": batch_size,\n",
        "    \"epochs\": n_epochs\n",
        "})\n",
        "\n",
        "\n",
        "\n",
        "# Define optimizer and scheduler\n",
        "optimizer = AdamW(model.parameters(), lr=lr, weight_decay=weight_decay)\n",
        "scheduler = CosineAnnealingLR(optimizer, T_max=n_epochs - 1)\n",
        "\n",
        "# Define loss function\n",
        "loss_fn = CrossEntropyLoss()\n",
        "\n",
        "# Create DataLoaders\n",
        "train_loader = DataLoader(train_set, batch_size=batch_size, shuffle=True)\n",
        "test_loader = DataLoader(test_set, batch_size=batch_size)\n",
        "\n",
        "# Initialize lists to store all predictions & targets\n",
        "all_preds, all_targets = [], []\n",
        "#wandb.watch(model, log=\"all\")\n",
        "# Training loop\n",
        "for epoch in range(1, n_epochs + 1):\n",
        "    print(f\"Epoch {epoch}/{n_epochs}: \", end=\"\")\n",
        "\n",
        "    train_loss, train_accuracy = train_one_epoch(\n",
        "        train_loader, model, loss_fn, optimizer, scheduler, epoch, device\n",
        "    )\n",
        "\n",
        "    test_loss, test_accuracy, class_accuracies, batch_preds, batch_targets = test_model(test_loader, model, loss_fn)\n",
        "    final_acc = test_accuracy\n",
        "    # Store predictions & labels for confusion matrix\n",
        "    all_preds.extend(batch_preds)\n",
        "    all_targets.extend(batch_targets)\n",
        "\n",
        "    # Print class-wise accuracy\n",
        "    print(\"\\nClass-wise Accuracy:\")\n",
        "    for class_idx, acc in class_accuracies.items():\n",
        "        print(f\"  Class {class_idx}: {acc:.2f}%\")\n",
        "\n",
        "    # Log results to wandb\n",
        "    wandb.log({\n",
        "        \"epoch\": epoch,\n",
        "        \"train_loss\": train_loss,\n",
        "        \"train_accuracy\": train_accuracy * 100,\n",
        "        \"test_loss\": test_loss,\n",
        "        \"test_accuracy\": test_accuracy,\n",
        "        \"learning_rate\": scheduler.get_last_lr()[0],\n",
        "        **{f\"class_{class_idx}_accuracy\": acc for class_idx, acc in class_accuracies.items()}\n",
        "    })\n",
        "\n",
        "    print(\n",
        "        f\"Train Accuracy: {100 * train_accuracy:.2f}%, \"\n",
        "        f\"Average Train Loss: {train_loss:.6f}, \"\n",
        "        f\"Test Accuracy: {test_accuracy:.2f}%, \"\n",
        "        f\"Average Test Loss: {test_loss:.6f}\\n\"\n",
        "    )\n",
        "    # Early Stopping Logic\n",
        "    if test_loss < best_val_loss:\n",
        "        best_val_loss = test_loss\n",
        "        counter = 0  # Reset counter if validation loss improves\n",
        "        torch.save(model.state_dict(), \"best_model.pth\")  # Save best model\n",
        "    else:\n",
        "        counter += 1  # Increment if no improvement\n",
        "\n",
        "    if counter >= patience:\n",
        "        print(f\"Early stopping triggered after {patience} epochs of no improvement.\")\n",
        "        break  # Stop training\n",
        "\n",
        "\n",
        "# Convert lists to NumPy arrays\n",
        "all_preds = np.array(all_preds)\n",
        "all_targets = np.array(all_targets)\n",
        "\n",
        "# Save predictions & true labels for later use (confusion matrix)\n",
        "wandb.log({\"all_preds\": all_preds.tolist(), \"all_targets\": all_targets.tolist()})"
      ]
    },
    {
      "cell_type": "code",
      "source": [
        "wandb.finish()"
      ],
      "metadata": {
        "colab": {
          "base_uri": "https://localhost:8080/",
          "height": 703
        },
        "id": "T5qs-PQULpeh",
        "outputId": "a20dd1a1-41f0-46b7-bcb5-a968bc77b9de"
      },
      "execution_count": 15,
      "outputs": [
        {
          "output_type": "display_data",
          "data": {
            "text/plain": [
              "<IPython.core.display.HTML object>"
            ],
            "text/html": []
          },
          "metadata": {}
        },
        {
          "output_type": "display_data",
          "data": {
            "text/plain": [
              "<IPython.core.display.HTML object>"
            ],
            "text/html": [
              "<br>    <style><br>        .wandb-row {<br>            display: flex;<br>            flex-direction: row;<br>            flex-wrap: wrap;<br>            justify-content: flex-start;<br>            width: 100%;<br>        }<br>        .wandb-col {<br>            display: flex;<br>            flex-direction: column;<br>            flex-basis: 100%;<br>            flex: 1;<br>            padding: 10px;<br>        }<br>    </style><br><div class=\"wandb-row\"><div class=\"wandb-col\"><h3>Run history:</h3><br/><table class=\"wandb\"><tr><td>class_0_accuracy</td><td>▁▃▃▃▃▄▄▄▅▄▆▄▅▆▆▆▇▆▆█▇▆▇█▇██▇██▇██▇▇▇▇▇▇█</td></tr><tr><td>class_1_accuracy</td><td>▁▂▃▅▅▆▆▆▇▇▆▇█▇▇▇▇▆▆▆▇▇▇▇▇▇▇▇▇▇▇▇▇▇▇▇▇▇▇▇</td></tr><tr><td>class_2_accuracy</td><td>▁▁▁▁▂▃▃▃▂▅▅▇▇▇▇▆▆█▆▇▇▆█▇▇▇▇▇▇▇▇▇▇▇▇▇▇▇▇▇</td></tr><tr><td>class_3_accuracy</td><td>▁▂▂▅▆▇▇▅▇▇▇▅▇▅▆▆▇▆▅▅▆▆█▇▆▆▆▇▆▇▇▆▇▇▇▇▇▇▇▇</td></tr><tr><td>epoch</td><td>▁▁▁▁▁▂▂▂▂▃▃▃▃▃▃▄▄▄▄▄▅▅▅▅▆▆▆▆▆▆▆▇▇▇▇▇████</td></tr><tr><td>learning_rate</td><td>███████▇▇▇▇▇▇▆▆▆▆▆▆▅▅▅▄▄▄▃▃▃▃▂▂▂▂▂▂▁▁▁▁▁</td></tr><tr><td>test_accuracy</td><td>▁▁▂▃▃▄▄▄▄▆▆▆▇▇▇▇▇▇▇█████████████████████</td></tr><tr><td>test_loss</td><td>██▇▇▆▅▅▄▄▄▃▃▂▂▂▂▂▂▂▁▁▁▁▁▁▁▁▁▁▁▁▁▁▁▁▁▁▁▁▁</td></tr><tr><td>train_accuracy</td><td>▁▃▃▃▄▄▅▅▆▆▆▆▇▇▇▇▇▇▇▇████▇▇██████████████</td></tr><tr><td>train_loss</td><td>█▇▆▅▅▄▄▄▄▃▂▂▂▂▂▂▂▂▂▂▂▂▂▂▁▁▂▁▁▁▁▁▁▁▁▁▁▁▁▁</td></tr></table><br/></div><div class=\"wandb-col\"><h3>Run summary:</h3><br/><table class=\"wandb\"><tr><td>class_0_accuracy</td><td>45.98765</td></tr><tr><td>class_1_accuracy</td><td>64.19753</td></tr><tr><td>class_2_accuracy</td><td>71.14198</td></tr><tr><td>class_3_accuracy</td><td>58.95062</td></tr><tr><td>epoch</td><td>100</td></tr><tr><td>learning_rate</td><td>0.0</td></tr><tr><td>test_accuracy</td><td>60.06944</td></tr><tr><td>test_loss</td><td>0.96726</td></tr><tr><td>train_accuracy</td><td>65.85648</td></tr><tr><td>train_loss</td><td>0.81942</td></tr></table><br/></div></div>"
            ]
          },
          "metadata": {}
        },
        {
          "output_type": "display_data",
          "data": {
            "text/plain": [
              "<IPython.core.display.HTML object>"
            ],
            "text/html": [
              " View run <strong style=\"color:#cdcd00\">Shallow 99999</strong> at: <a href='https://wandb.ai/philinthesky/Master%20Thesis/runs/saf7to9g' target=\"_blank\">https://wandb.ai/philinthesky/Master%20Thesis/runs/saf7to9g</a><br> View project at: <a href='https://wandb.ai/philinthesky/Master%20Thesis' target=\"_blank\">https://wandb.ai/philinthesky/Master%20Thesis</a><br>Synced 5 W&B file(s), 0 media file(s), 0 artifact file(s) and 0 other file(s)"
            ]
          },
          "metadata": {}
        },
        {
          "output_type": "display_data",
          "data": {
            "text/plain": [
              "<IPython.core.display.HTML object>"
            ],
            "text/html": [
              "Find logs at: <code>./wandb/run-20250318_132330-saf7to9g/logs</code>"
            ]
          },
          "metadata": {}
        }
      ]
    },
    {
      "cell_type": "code",
      "execution_count": 16,
      "metadata": {
        "id": "lhpLVMtMPKL0"
      },
      "outputs": [],
      "source": [
        "import math\n",
        "# Assuming 'model' is your trained Braindecode model\n",
        "torch.save(model, f\"Shallow_{math.ceil(final_acc)}_{seed}.pth\")\n",
        "torch.save(model.state_dict(), f\"Shallow_{math.ceil(final_acc)}_{seed}_state.pth\")\n"
      ]
    }
  ],
  "metadata": {
    "accelerator": "GPU",
    "colab": {
      "gpuType": "T4",
      "provenance": []
    },
    "kernelspec": {
      "display_name": "Python 3",
      "name": "python3"
    },
    "language_info": {
      "codemirror_mode": {
        "name": "ipython",
        "version": 3
      },
      "file_extension": ".py",
      "mimetype": "text/x-python",
      "name": "python",
      "nbconvert_exporter": "python",
      "pygments_lexer": "ipython3",
      "version": "3.12.9"
    }
  },
  "nbformat": 4,
  "nbformat_minor": 0
}