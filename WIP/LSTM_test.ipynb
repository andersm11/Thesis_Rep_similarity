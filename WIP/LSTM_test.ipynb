{
 "cells": [
  {
   "cell_type": "code",
   "execution_count": 385,
   "metadata": {},
   "outputs": [],
   "source": [
    "import numpy as np\n",
    "import torch\n",
    "import matplotlib.pyplot as plt\n",
    "import seaborn as sns\n",
    "from braindecode.models import EEGConformer\n",
    "import pandas as pd\n",
    "from collections import OrderedDict\n",
    "import math\n",
    "import importlib\n",
    "import LSTM_model\n",
    "importlib.reload(LSTM_model)\n",
    "from LSTM_model  import ShallowLSTMNet\n",
    "from shallow_laurits import ShallowFBCSPNet\n",
    "from torchinfo import summary"
   ]
  },
  {
   "cell_type": "code",
   "execution_count": 386,
   "metadata": {},
   "outputs": [],
   "source": [
    "in_chans = 22\n",
    "n_classes = 4\n",
    "input_window_samples = 1125\n",
    "model = ShallowLSTMNet(in_chans,n_classes,input_window_samples)\n",
    "ref_model = ShallowFBCSPNet(in_chans,n_classes,input_window_samples)"
   ]
  },
  {
   "cell_type": "code",
   "execution_count": 387,
   "metadata": {},
   "outputs": [
    {
     "data": {
      "text/plain": [
       "============================================================================================================================================\n",
       "Layer (type:depth-idx)                   Input Shape               Output Shape              Param #                   Kernel Shape\n",
       "============================================================================================================================================\n",
       "ShallowLSTMNet                           [32, 22, 1125]            [32, 4]                   --                        --\n",
       "├─IndependentLSTM: 1-1                   [32, 22, 1125]            [32, 22, 22, 1125]        --                        --\n",
       "│    └─LSTM: 2-1                         [32, 1125, 1]             [32, 1125, 22]            2,200                     --\n",
       "│    └─LSTM: 2-2                         [32, 1125, 1]             [32, 1125, 22]            (recursive)               --\n",
       "│    └─LSTM: 2-3                         [32, 1125, 1]             [32, 1125, 22]            (recursive)               --\n",
       "│    └─LSTM: 2-4                         [32, 1125, 1]             [32, 1125, 22]            (recursive)               --\n",
       "│    └─LSTM: 2-5                         [32, 1125, 1]             [32, 1125, 22]            (recursive)               --\n",
       "│    └─LSTM: 2-6                         [32, 1125, 1]             [32, 1125, 22]            (recursive)               --\n",
       "│    └─LSTM: 2-7                         [32, 1125, 1]             [32, 1125, 22]            (recursive)               --\n",
       "│    └─LSTM: 2-8                         [32, 1125, 1]             [32, 1125, 22]            (recursive)               --\n",
       "│    └─LSTM: 2-9                         [32, 1125, 1]             [32, 1125, 22]            (recursive)               --\n",
       "│    └─LSTM: 2-10                        [32, 1125, 1]             [32, 1125, 22]            (recursive)               --\n",
       "│    └─LSTM: 2-11                        [32, 1125, 1]             [32, 1125, 22]            (recursive)               --\n",
       "│    └─LSTM: 2-12                        [32, 1125, 1]             [32, 1125, 22]            (recursive)               --\n",
       "│    └─LSTM: 2-13                        [32, 1125, 1]             [32, 1125, 22]            (recursive)               --\n",
       "│    └─LSTM: 2-14                        [32, 1125, 1]             [32, 1125, 22]            (recursive)               --\n",
       "│    └─LSTM: 2-15                        [32, 1125, 1]             [32, 1125, 22]            (recursive)               --\n",
       "│    └─LSTM: 2-16                        [32, 1125, 1]             [32, 1125, 22]            (recursive)               --\n",
       "│    └─LSTM: 2-17                        [32, 1125, 1]             [32, 1125, 22]            (recursive)               --\n",
       "│    └─LSTM: 2-18                        [32, 1125, 1]             [32, 1125, 22]            (recursive)               --\n",
       "│    └─LSTM: 2-19                        [32, 1125, 1]             [32, 1125, 22]            (recursive)               --\n",
       "│    └─LSTM: 2-20                        [32, 1125, 1]             [32, 1125, 22]            (recursive)               --\n",
       "│    └─LSTM: 2-21                        [32, 1125, 1]             [32, 1125, 22]            (recursive)               --\n",
       "│    └─LSTM: 2-22                        [32, 1125, 1]             [32, 1125, 22]            (recursive)               --\n",
       "├─Conv2d: 1-2                            [32, 22, 22, 1125]        [32, 22, 1, 1125]         10,670                    [22, 1]\n",
       "├─BatchNorm2d: 1-3                       [32, 22, 1, 1125]         [32, 22, 1, 1125]         44                        --\n",
       "├─AvgPool2d: 1-4                         [32, 22, 1, 1125]         [32, 22, 1, 11]           --                        [1, 100]\n",
       "├─Dropout: 1-5                           [32, 242]                 [32, 242]                 --                        --\n",
       "├─Linear: 1-6                            [32, 242]                 [32, 4]                   972                       --\n",
       "============================================================================================================================================\n",
       "Total params: 13,886\n",
       "Trainable params: 13,886\n",
       "Non-trainable params: 0\n",
       "Total mult-adds (Units.GIGABYTES): 2.13\n",
       "============================================================================================================================================\n",
       "Input size (MB): 3.17\n",
       "Forward/backward pass size (MB): 152.07\n",
       "Params size (MB): 0.06\n",
       "Estimated Total Size (MB): 155.29\n",
       "============================================================================================================================================"
      ]
     },
     "execution_count": 387,
     "metadata": {},
     "output_type": "execute_result"
    }
   ],
   "source": [
    "summary(model,input_size=(32, 22, 1125),col_names=[\"input_size\", \"output_size\", \"num_params\", \"kernel_size\"])"
   ]
  }
 ],
 "metadata": {
  "kernelspec": {
   "display_name": "Python 3",
   "language": "python",
   "name": "python3"
  },
  "language_info": {
   "codemirror_mode": {
    "name": "ipython",
    "version": 3
   },
   "file_extension": ".py",
   "mimetype": "text/x-python",
   "name": "python",
   "nbconvert_exporter": "python",
   "pygments_lexer": "ipython3",
   "version": "3.12.9"
  }
 },
 "nbformat": 4,
 "nbformat_minor": 2
}
