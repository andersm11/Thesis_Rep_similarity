{
 "cells": [
  {
   "cell_type": "code",
   "execution_count": 83,
   "metadata": {},
   "outputs": [],
   "source": [
    "import numpy as np\n",
    "import torch\n",
    "import matplotlib.pyplot as plt\n",
    "import seaborn as sns\n",
    "from braindecode.models import EEGConformer\n",
    "import pandas as pd\n",
    "from collections import OrderedDict\n",
    "import math\n",
    "import importlib\n",
    "import LSTM_model\n",
    "importlib.reload(LSTM_model)\n",
    "from LSTM_model  import ShallowLSTMNet\n",
    "from torchinfo import summary"
   ]
  },
  {
   "cell_type": "code",
   "execution_count": 84,
   "metadata": {},
   "outputs": [],
   "source": [
    "in_chans = 22\n",
    "n_classes = 4\n",
    "input_window_samples = 1125\n",
    "model = ShallowLSTMNet(in_chans,n_classes,input_window_samples)\n"
   ]
  },
  {
   "cell_type": "code",
   "execution_count": 85,
   "metadata": {},
   "outputs": [
    {
     "name": "stdout",
     "output_type": "stream",
     "text": [
      "ShallowLSTMNet(\n",
      "  (lstm): LSTM(22, 128, num_layers=2, batch_first=True, bidirectional=True)\n",
      "  (spatial): Conv1d(256, 16, kernel_size=(25,), stride=(1,), padding=(12,))\n",
      "  (pool): AvgPool1d(kernel_size=(2,), stride=(2,), padding=(0,))\n",
      "  (batch_norm): BatchNorm1d(16, eps=1e-05, momentum=0.1, affine=True, track_running_stats=True)\n",
      "  (norm_lstm): LayerNorm((256,), eps=1e-05, elementwise_affine=True)\n",
      "  (dropout): Dropout(p=0.8, inplace=False)\n",
      "  (fc): Linear(in_features=8992, out_features=4, bias=True)\n",
      ")\n"
     ]
    }
   ],
   "source": [
    "print(model)"
   ]
  },
  {
   "cell_type": "code",
   "execution_count": 86,
   "metadata": {},
   "outputs": [
    {
     "data": {
      "text/plain": [
       "============================================================================================================================================\n",
       "Layer (type:depth-idx)                   Input Shape               Output Shape              Param #                   Kernel Shape\n",
       "============================================================================================================================================\n",
       "ShallowLSTMNet                           [32, 22, 1125]            [32, 4]                   --                        --\n",
       "├─LSTM: 1-1                              [32, 1125, 22]            [32, 1125, 256]           550,912                   --\n",
       "├─LayerNorm: 1-2                         [32, 1125, 256]           [32, 1125, 256]           512                       --\n",
       "├─Conv1d: 1-3                            [32, 256, 1125]           [32, 16, 1125]            102,416                   [25]\n",
       "├─BatchNorm1d: 1-4                       [32, 16, 1125]            [32, 16, 1125]            32                        --\n",
       "├─AvgPool1d: 1-5                         [32, 16, 1125]            [32, 16, 562]             --                        [2]\n",
       "├─Dropout: 1-6                           [32, 8992]                [32, 8992]                --                        --\n",
       "├─Linear: 1-7                            [32, 8992]                [32, 4]                   35,972                    --\n",
       "============================================================================================================================================\n",
       "Total params: 689,844\n",
       "Trainable params: 689,844\n",
       "Non-trainable params: 0\n",
       "Total mult-adds (Units.GIGABYTES): 23.52\n",
       "============================================================================================================================================\n",
       "Input size (MB): 3.17\n",
       "Forward/backward pass size (MB): 156.67\n",
       "Params size (MB): 2.76\n",
       "Estimated Total Size (MB): 162.60\n",
       "============================================================================================================================================"
      ]
     },
     "execution_count": 86,
     "metadata": {},
     "output_type": "execute_result"
    }
   ],
   "source": [
    "summary(model,input_size=(32, 22, 1125),col_names=[\"input_size\", \"output_size\", \"num_params\", \"kernel_size\"])"
   ]
  }
 ],
 "metadata": {
  "kernelspec": {
   "display_name": "Python 3",
   "language": "python",
   "name": "python3"
  },
  "language_info": {
   "codemirror_mode": {
    "name": "ipython",
    "version": 3
   },
   "file_extension": ".py",
   "mimetype": "text/x-python",
   "name": "python",
   "nbconvert_exporter": "python",
   "pygments_lexer": "ipython3",
   "version": "3.12.3"
  }
 },
 "nbformat": 4,
 "nbformat_minor": 2
}
