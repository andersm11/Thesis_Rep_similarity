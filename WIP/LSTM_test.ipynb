{
 "cells": [
  {
   "cell_type": "code",
   "execution_count": 139,
   "metadata": {},
   "outputs": [],
   "source": [
    "import numpy as np\n",
    "import torch\n",
    "import matplotlib.pyplot as plt\n",
    "import seaborn as sns\n",
    "from braindecode.models import EEGConformer\n",
    "import pandas as pd\n",
    "from collections import OrderedDict\n",
    "import math\n",
    "import importlib\n",
    "import LSTM_model\n",
    "importlib.reload(LSTM_model)\n",
    "from LSTM_model  import ShallowLSTMNet\n",
    "from shallow_laurits import ShallowFBCSPNet\n",
    "from torchinfo import summary"
   ]
  },
  {
   "cell_type": "code",
   "execution_count": 140,
   "metadata": {},
   "outputs": [],
   "source": [
    "in_chans = 22\n",
    "n_classes = 4\n",
    "input_window_samples = 1125\n",
    "model = ShallowLSTMNet(in_chans,n_classes,input_window_samples)\n",
    "ref_model = ShallowFBCSPNet(in_chans,n_classes,input_window_samples)"
   ]
  },
  {
   "cell_type": "code",
   "execution_count": 141,
   "metadata": {},
   "outputs": [
    {
     "data": {
      "text/plain": [
       "============================================================================================================================================\n",
       "Layer (type:depth-idx)                   Input Shape               Output Shape              Param #                   Kernel Shape\n",
       "============================================================================================================================================\n",
       "ShallowLSTMNet                           [32, 22, 1125]            [32, 4]                   --                        --\n",
       "├─LSTM: 1-1                              [32, 1125, 22]            [32, 22, 1125]            --                        --\n",
       "│    └─LSTM: 2-1                         [32, 1125, 22]            [32, 1125, 22]            4,048                     --\n",
       "├─Conv2d: 1-2                            [32, 1, 22, 1125]         [32, 1, 1, 1125]          23                        [22, 1]\n",
       "├─BatchNorm2d: 1-3                       [32, 1, 1, 1125]          [32, 1, 1, 1125]          2                         --\n",
       "├─AvgPool2d: 1-4                         [32, 1, 1, 1125]          [32, 1, 1, 11]            --                        [1, 100]\n",
       "├─Dropout: 1-5                           [32, 11]                  [32, 11]                  --                        --\n",
       "├─Linear: 1-6                            [32, 11]                  [32, 4]                   48                        --\n",
       "============================================================================================================================================\n",
       "Total params: 4,121\n",
       "Trainable params: 4,121\n",
       "Non-trainable params: 0\n",
       "Total mult-adds (Units.MEGABYTES): 146.56\n",
       "============================================================================================================================================\n",
       "Input size (MB): 3.17\n",
       "Forward/backward pass size (MB): 6.91\n",
       "Params size (MB): 0.02\n",
       "Estimated Total Size (MB): 10.10\n",
       "============================================================================================================================================"
      ]
     },
     "execution_count": 141,
     "metadata": {},
     "output_type": "execute_result"
    }
   ],
   "source": [
    "summary(model,input_size=(32, 22, 1125),col_names=[\"input_size\", \"output_size\", \"num_params\", \"kernel_size\"])"
   ]
  }
 ],
 "metadata": {
  "kernelspec": {
   "display_name": "Python 3",
   "language": "python",
   "name": "python3"
  },
  "language_info": {
   "codemirror_mode": {
    "name": "ipython",
    "version": 3
   },
   "file_extension": ".py",
   "mimetype": "text/x-python",
   "name": "python",
   "nbconvert_exporter": "python",
   "pygments_lexer": "ipython3",
   "version": "3.12.3"
  }
 },
 "nbformat": 4,
 "nbformat_minor": 2
}
