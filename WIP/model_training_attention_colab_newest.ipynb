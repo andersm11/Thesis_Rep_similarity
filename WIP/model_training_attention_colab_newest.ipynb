{
  "cells": [
    {
      "cell_type": "code",
      "execution_count": 1,
      "metadata": {
        "colab": {
          "base_uri": "https://localhost:8080/"
        },
        "id": "82Vbwzg32ZhZ",
        "outputId": "3de867d7-382e-4ab8-a918-b912f2968638"
      },
      "outputs": [
        {
          "output_type": "stream",
          "name": "stdout",
          "text": [
            "Running in Google Colab. Checking required libraries...\n",
            "All required libraries are already installed.\n"
          ]
        }
      ],
      "source": [
        "import sys\n",
        "import importlib\n",
        "import subprocess\n",
        "import math\n",
        "import torch\n",
        "\n",
        "\n",
        "def install_if_colab():\n",
        "    if \"google.colab\" in sys.modules:\n",
        "        print(\"Running in Google Colab. Checking required libraries...\")\n",
        "\n",
        "        packages = [\"moabb\", \"braindecode\", \"torch_geometric\"]  # Add required libraries\n",
        "        missing_packages = [pkg for pkg in packages if importlib.util.find_spec(pkg) is None]\n",
        "\n",
        "        if missing_packages:\n",
        "            print(f\"Installing missing libraries: {', '.join(missing_packages)}\")\n",
        "            !pip install {\" \".join(missing_packages)}\n",
        "        else:\n",
        "            print(\"All required libraries are already installed.\")\n",
        "    else:\n",
        "        print(\"Not running in Google Colab. No installation needed.\")\n",
        "\n",
        "install_if_colab()\n"
      ]
    },
    {
      "cell_type": "code",
      "execution_count": 2,
      "metadata": {
        "colab": {
          "base_uri": "https://localhost:8080/"
        },
        "id": "f_sHCnT22v9k",
        "outputId": "e4ee4059-b71e-451f-80f2-09b8c1097a3f"
      },
      "outputs": [
        {
          "output_type": "stream",
          "name": "stdout",
          "text": [
            "Drive already mounted at /content/drive; to attempt to forcibly remount, call drive.mount(\"/content/drive\", force_remount=True).\n"
          ]
        }
      ],
      "source": [
        "from google.colab import drive\n",
        "drive.mount('/content/drive')\n",
        "path = \"/content/drive/MyDrive/\""
      ]
    },
    {
      "cell_type": "code",
      "source": [
        "import wandb\n",
        "wandb.login()"
      ],
      "metadata": {
        "colab": {
          "base_uri": "https://localhost:8080/"
        },
        "id": "fKfgbCZrMQXw",
        "outputId": "4774d648-6b62-4ad3-93c1-387cc18b7993"
      },
      "execution_count": 3,
      "outputs": [
        {
          "output_type": "stream",
          "name": "stderr",
          "text": [
            "\u001b[34m\u001b[1mwandb\u001b[0m: Using wandb-core as the SDK backend.  Please refer to https://wandb.me/wandb-core for more information.\n",
            "\u001b[34m\u001b[1mwandb\u001b[0m: Currently logged in as: \u001b[33mahmm98\u001b[0m (\u001b[33mphilinthesky\u001b[0m) to \u001b[32mhttps://api.wandb.ai\u001b[0m. Use \u001b[1m`wandb login --relogin`\u001b[0m to force relogin\n"
          ]
        },
        {
          "output_type": "execute_result",
          "data": {
            "text/plain": [
              "True"
            ]
          },
          "metadata": {},
          "execution_count": 3
        }
      ]
    },
    {
      "cell_type": "code",
      "execution_count": 4,
      "metadata": {
        "id": "1osynJth26to"
      },
      "outputs": [],
      "source": [
        "import pickle\n",
        "train_set = torch.load(path+'EEG_data/emotion_train_set.pt')\n",
        "test_set = torch.load(path+'EEG_data/emotion_test_set.pt')"
      ]
    },
    {
      "cell_type": "code",
      "execution_count": 5,
      "metadata": {
        "colab": {
          "base_uri": "https://localhost:8080/"
        },
        "id": "31OCpWX8DcWY",
        "outputId": "8109ce41-8a50-43fe-a56f-bfc4b12ae449"
      },
      "outputs": [
        {
          "output_type": "stream",
          "name": "stdout",
          "text": [
            "(tensor([[ 1.3709,  1.1631,  0.9860,  ...,  0.6608,  0.3711,  0.5850],\n",
            "        [ 0.0536,  0.2639,  0.5837,  ...,  0.3063, -0.1448,  0.3250],\n",
            "        [ 0.8047,  0.7626,  0.7537,  ...,  0.0321, -0.1673, -0.0748],\n",
            "        ...,\n",
            "        [ 0.1825,  0.2730,  0.5490,  ...,  0.1451,  0.2315,  0.4730],\n",
            "        [ 0.3319,  0.4954,  0.6188,  ...,  0.0978,  0.2070,  0.4820],\n",
            "        [ 0.0599,  0.1392,  0.3839,  ..., -0.0753, -0.0844,  0.0899]]), 1)\n"
          ]
        }
      ],
      "source": [
        "print(train_set[0])"
      ]
    },
    {
      "cell_type": "code",
      "execution_count": 6,
      "metadata": {
        "colab": {
          "base_uri": "https://localhost:8080/"
        },
        "id": "boUgL8BBDd3R",
        "outputId": "698dbc63-ca3f-4770-a62d-bda3839e34a3"
      },
      "outputs": [
        {
          "output_type": "stream",
          "name": "stdout",
          "text": [
            "(tensor([[-0.5482, -0.4555, -0.4191,  ..., -0.2153, -0.5544, -0.5329],\n",
            "        [-0.2279, -0.2818, -0.3444,  ..., -0.2440, -0.4217, -0.4094],\n",
            "        [ 1.2236,  1.0995,  0.7925,  ..., -0.3916, -0.5255, -0.5388],\n",
            "        ...,\n",
            "        [ 0.1314,  0.0978,  0.1155,  ..., -0.2819, -0.3323, -0.2750],\n",
            "        [ 0.1756,  0.1055,  0.0437,  ..., -0.5413, -0.6014, -0.4987],\n",
            "        [ 0.0034,  0.0012,  0.0618,  ..., -0.1658, -0.1769, -0.1478]]), 2)\n"
          ]
        }
      ],
      "source": [
        "print(test_set[0])"
      ]
    },
    {
      "cell_type": "code",
      "execution_count": 7,
      "metadata": {
        "colab": {
          "base_uri": "https://localhost:8080/"
        },
        "id": "Xba9vjnO2Zhg",
        "outputId": "f6f7f754-d145-4cdd-f2f4-e16048f203b5"
      },
      "outputs": [
        {
          "output_type": "stream",
          "name": "stdout",
          "text": [
            "n_classes:  3\n",
            "n_channels: 32\n",
            "input_window_samples size: 400\n"
          ]
        },
        {
          "output_type": "stream",
          "name": "stderr",
          "text": [
            "/usr/local/lib/python3.11/dist-packages/braindecode/util.py:51: UserWarning: torch.backends.cudnn.benchmark was set to True which may results in lack of reproducibility. In some cases to ensure reproducibility you may need to set torch.backends.cudnn.benchmark to False.\n",
            "  warn(\n"
          ]
        }
      ],
      "source": [
        "import torch\n",
        "#from shallow_fbcsp import ShallowFBCSPNet\n",
        "from braindecode.util import set_random_seeds\n",
        "\n",
        "\n",
        "cuda = torch.cuda.is_available()  # check if GPU is available, if True chooses to use it\n",
        "device = \"cuda\" if cuda else \"cpu\"\n",
        "if cuda:\n",
        "    torch.backends.cudnn.benchmark = True\n",
        "seed = 2938475\n",
        "set_random_seeds(seed=seed, cuda=cuda)\n",
        "\n",
        "n_classes = 3\n",
        "classes = list(range(n_classes))\n",
        "# Extract number of chans and time steps from dataset\n",
        "n_channels = 32\n",
        "input_window_samples = 400\n",
        "\n",
        "print(\"n_classes: \", n_classes)\n",
        "print(\"n_channels:\", n_channels)\n",
        "print(\"input_window_samples size:\", input_window_samples)"
      ]
    },
    {
      "cell_type": "code",
      "execution_count": 8,
      "metadata": {
        "colab": {
          "base_uri": "https://localhost:8080/"
        },
        "id": "b3wPzn3X2Zhh",
        "outputId": "cc29361c-130b-4356-8e9c-b10f92fa3f80"
      },
      "outputs": [
        {
          "output_type": "stream",
          "name": "stdout",
          "text": [
            "ShallowAttentionNet(\n",
            "  (temporal): Conv2d(1, 20, kernel_size=(1, 25), stride=(1, 1))\n",
            "  (spatial_att): SpatialAttention(\n",
            "    (conv): Conv2d(20, 20, kernel_size=(1, 1), stride=(1, 1), bias=False)\n",
            "    (pool): MaxPool2d(kernel_size=(1, 5), stride=(1, 5), padding=0, dilation=1, ceil_mode=False)\n",
            "  )\n",
            "  (batch_norm): BatchNorm2d(20, eps=1e-05, momentum=0.1, affine=True, track_running_stats=True)\n",
            "  (pool): AvgPool2d(kernel_size=(1, 20), stride=(1, 20), padding=0)\n",
            "  (dropout): Dropout(p=0.5, inplace=False)\n",
            "  (fc): Linear(in_features=4840, out_features=3, bias=True)\n",
            ")\n"
          ]
        }
      ],
      "source": [
        "#from models_fbscp import CollapsedShallowNet\n",
        "# The ShallowFBCSPNet is a `nn.Sequential` model\n",
        "import importlib\n",
        "import Spatial_attention_model\n",
        "importlib.reload(Spatial_attention_model)\n",
        "from Spatial_attention_model import ShallowAttentionNet\n",
        "model = ShallowAttentionNet(\n",
        "    n_chans=n_channels,\n",
        "    n_outputs=n_classes,\n",
        "    n_times=input_window_samples,\n",
        ")\n",
        "\n",
        "# Display torchinfo table describing the model\n",
        "print(model)\n",
        "\n",
        "# Send model to GPU\n",
        "if cuda:\n",
        "    model.cuda()\n",
        "\n"
      ]
    },
    {
      "cell_type": "code",
      "execution_count": 9,
      "metadata": {
        "id": "n7Eii9TH2Zhi"
      },
      "outputs": [],
      "source": [
        "# splitted = windows_dataset.split(\"session\")\n",
        "# train_set = splitted['0train']  # Session train\n",
        "# test_set = splitted['1test']  # Session evaluation\n",
        "\n",
        "from torch.nn import Module\n",
        "from torch.optim.lr_scheduler import LRScheduler\n",
        "from torch.utils.data import DataLoader\n",
        "\n",
        "#lr = 1e-4\n",
        "#weight_decay = 1e-4\n",
        "#batch_size = 64\n",
        "#n_epochs = 200\n"
      ]
    },
    {
      "cell_type": "code",
      "execution_count": 10,
      "metadata": {
        "id": "PlgtbF-r2Zhj"
      },
      "outputs": [],
      "source": [
        "\n",
        "from tqdm import tqdm\n",
        "# Define a method for training one epoch\n",
        "\n",
        "\n",
        "def train_one_epoch(\n",
        "        dataloader: DataLoader, model: Module, loss_fn, optimizer,\n",
        "        scheduler: LRScheduler, epoch: int, device, print_batch_stats=True\n",
        "):\n",
        "    model.train()  # Set the model to training mode\n",
        "    train_loss, correct = 0, 0\n",
        "\n",
        "    progress_bar = tqdm(enumerate(dataloader), total=len(dataloader),\n",
        "                        disable=not print_batch_stats)\n",
        "\n",
        "    for batch_idx, (X, y) in progress_bar:\n",
        "        X, y = X.to(device), y.to(device)\n",
        "        #print(X.shape)\n",
        "        optimizer.zero_grad()\n",
        "        pred = model(X)\n",
        "        loss = loss_fn(pred, y)\n",
        "        loss.backward()\n",
        "        optimizer.step()  # update the model weights\n",
        "        optimizer.zero_grad()\n",
        "\n",
        "        train_loss += loss.item()\n",
        "        correct += (pred.argmax(1) == y).sum().item()\n",
        "\n",
        "        #if print_batch_stats:\n",
        "        #    progress_bar.set_description(\n",
        "        #        f\"Epoch {epoch}/{n_epochs}, \"\n",
        "        #        f\"Batch {batch_idx + 1}/{len(dataloader)}, \"\n",
        "        #        f\"Loss: {loss.item():.6f}\"\n",
        "        #    )\n",
        "\n",
        "    # Update the learning rate\n",
        "    scheduler.step()\n",
        "\n",
        "    correct /= len(dataloader.dataset)\n",
        "    return train_loss / len(dataloader), correct\n"
      ]
    },
    {
      "cell_type": "code",
      "execution_count": 11,
      "metadata": {
        "id": "M1S-1vTK2Zhk"
      },
      "outputs": [],
      "source": [
        "from collections import defaultdict\n",
        "from tqdm import tqdm\n",
        "import torch\n",
        "from torch.utils.data import DataLoader\n",
        "from sklearn.metrics import confusion_matrix\n",
        "import numpy as np\n",
        "\n",
        "@torch.no_grad()\n",
        "def test_model(dataloader: DataLoader, model: torch.nn.Module, loss_fn, print_batch_stats=True):\n",
        "    device = next(model.parameters()).device  # Get model device\n",
        "    size = len(dataloader.dataset)\n",
        "    n_batches = len(dataloader)\n",
        "    model.eval()  # Switch to evaluation mode\n",
        "    test_loss, correct = 0, 0\n",
        "\n",
        "    # Initialize dictionaries for per-class tracking\n",
        "    class_correct = defaultdict(int)\n",
        "    class_total = defaultdict(int)\n",
        "\n",
        "    # Lists to store true and predicted labels for confusion matrix\n",
        "    all_preds = []\n",
        "    all_targets = []\n",
        "\n",
        "    if print_batch_stats:\n",
        "        progress_bar = tqdm(enumerate(dataloader), total=len(dataloader))\n",
        "    else:\n",
        "        progress_bar = enumerate(dataloader)\n",
        "\n",
        "    for batch_idx, (X, y) in progress_bar:\n",
        "        X, y = X.to(device), y.to(device)\n",
        "        pred = model(X)\n",
        "        batch_loss = loss_fn(pred, y).item()\n",
        "\n",
        "        test_loss += batch_loss\n",
        "        correct += (pred.argmax(1) == y).sum().item()\n",
        "\n",
        "        # Store predictions and true labels for confusion matrix\n",
        "        all_preds.append(pred.argmax(1).cpu())\n",
        "        all_targets.append(y.cpu())\n",
        "\n",
        "        # Compute per-class accuracy\n",
        "        preds_labels = pred.argmax(1)\n",
        "        for label, pred_label in zip(y, preds_labels):\n",
        "            class_total[label.item()] += 1\n",
        "            class_correct[label.item()] += (label == pred_label).item()\n",
        "\n",
        "        if print_batch_stats:\n",
        "            progress_bar.set_description(\n",
        "                f\"Batch {batch_idx + 1}/{len(dataloader)}, Loss: {batch_loss:.6f}\"\n",
        "            )\n",
        "\n",
        "    # Convert lists to tensors\n",
        "    all_preds = torch.cat(all_preds)\n",
        "    all_targets = torch.cat(all_targets)\n",
        "\n",
        "    # Compute per-class accuracy\n",
        "    class_accuracies = {\n",
        "        cls: (class_correct[cls] / class_total[cls]) * 100 if class_total[cls] > 0 else 0\n",
        "        for cls in class_total\n",
        "    }\n",
        "\n",
        "    # Compute overall accuracy\n",
        "    test_loss /= n_batches\n",
        "    overall_accuracy = (correct / size) * 100\n",
        "\n",
        "    # Print per-class accuracy\n",
        "    print(\"\\nClass-wise Accuracy:\")\n",
        "    for cls, acc in class_accuracies.items():\n",
        "        print(f\"  Class {cls}: {acc:.2f}%\")\n",
        "\n",
        "    print(f\"Test Accuracy: {overall_accuracy:.1f}%, Test Loss: {test_loss:.6f}\\n\")\n",
        "\n",
        "    return test_loss, overall_accuracy, class_accuracies, all_preds, all_targets\n"
      ]
    },
    {
      "cell_type": "code",
      "execution_count": 11,
      "metadata": {
        "id": "Vn58-cmZ2Zhl"
      },
      "outputs": [],
      "source": []
    },
    {
      "cell_type": "code",
      "execution_count": 12,
      "metadata": {
        "colab": {
          "base_uri": "https://localhost:8080/",
          "height": 505
        },
        "id": "uDUBctmi2Zhl",
        "outputId": "48f3c0e0-1ebd-425d-9938-798d4b42d982"
      },
      "outputs": [
        {
          "output_type": "error",
          "ename": "ModuleNotFoundError",
          "evalue": "No module named 'torch_geometric'",
          "traceback": [
            "\u001b[0;31m---------------------------------------------------------------------------\u001b[0m",
            "\u001b[0;31mModuleNotFoundError\u001b[0m                       Traceback (most recent call last)",
            "\u001b[0;32m<ipython-input-12-ab1171c14c56>\u001b[0m in \u001b[0;36m<cell line: 0>\u001b[0;34m()\u001b[0m\n\u001b[1;32m      6\u001b[0m \u001b[0;32mfrom\u001b[0m \u001b[0mtorch\u001b[0m\u001b[0;34m.\u001b[0m\u001b[0mnn\u001b[0m \u001b[0;32mimport\u001b[0m \u001b[0mCrossEntropyLoss\u001b[0m\u001b[0;34m\u001b[0m\u001b[0;34m\u001b[0m\u001b[0m\n\u001b[1;32m      7\u001b[0m \u001b[0;32mimport\u001b[0m \u001b[0mnumpy\u001b[0m \u001b[0;32mas\u001b[0m \u001b[0mnp\u001b[0m\u001b[0;34m\u001b[0m\u001b[0;34m\u001b[0m\u001b[0m\n\u001b[0;32m----> 8\u001b[0;31m \u001b[0;32mfrom\u001b[0m \u001b[0mweight_init\u001b[0m \u001b[0;32mimport\u001b[0m \u001b[0minit_weights\u001b[0m\u001b[0;34m\u001b[0m\u001b[0;34m\u001b[0m\u001b[0m\n\u001b[0m\u001b[1;32m      9\u001b[0m \u001b[0;34m\u001b[0m\u001b[0m\n\u001b[1;32m     10\u001b[0m \u001b[0mseeds\u001b[0m \u001b[0;34m=\u001b[0m \u001b[0;34m[\u001b[0m\u001b[0;36m99999\u001b[0m\u001b[0;34m,\u001b[0m\u001b[0;36m182726\u001b[0m\u001b[0;34m,\u001b[0m\u001b[0;36m91111222\u001b[0m\u001b[0;34m,\u001b[0m\u001b[0;36m44552222\u001b[0m\u001b[0;34m,\u001b[0m\u001b[0;36m12223111\u001b[0m\u001b[0;34m,\u001b[0m\u001b[0;36m100300\u001b[0m\u001b[0;34m,\u001b[0m\u001b[0;36m47456655\u001b[0m\u001b[0;34m,\u001b[0m\u001b[0;36m4788347\u001b[0m\u001b[0;34m,\u001b[0m\u001b[0;36m77766666\u001b[0m\u001b[0;34m,\u001b[0m\u001b[0;36m809890\u001b[0m\u001b[0;34m]\u001b[0m\u001b[0;34m\u001b[0m\u001b[0;34m\u001b[0m\u001b[0m\n",
            "\u001b[0;32m/content/weight_init.py\u001b[0m in \u001b[0;36m<module>\u001b[0;34m\u001b[0m\n\u001b[1;32m      1\u001b[0m \u001b[0;32mimport\u001b[0m \u001b[0mtorch\u001b[0m\u001b[0;34m.\u001b[0m\u001b[0mnn\u001b[0m \u001b[0;32mas\u001b[0m \u001b[0mnn\u001b[0m\u001b[0;34m\u001b[0m\u001b[0;34m\u001b[0m\u001b[0m\n\u001b[1;32m      2\u001b[0m \u001b[0;32mimport\u001b[0m \u001b[0mtorch\u001b[0m\u001b[0;34m\u001b[0m\u001b[0;34m\u001b[0m\u001b[0m\n\u001b[0;32m----> 3\u001b[0;31m \u001b[0;32mfrom\u001b[0m \u001b[0mtorch_geometric\u001b[0m\u001b[0;34m.\u001b[0m\u001b[0mnn\u001b[0m \u001b[0;32mimport\u001b[0m \u001b[0mSGConv\u001b[0m\u001b[0;34m\u001b[0m\u001b[0;34m\u001b[0m\u001b[0m\n\u001b[0m\u001b[1;32m      4\u001b[0m \u001b[0;32mdef\u001b[0m \u001b[0minit_weights\u001b[0m\u001b[0;34m(\u001b[0m\u001b[0mm\u001b[0m\u001b[0;34m)\u001b[0m\u001b[0;34m:\u001b[0m\u001b[0;34m\u001b[0m\u001b[0;34m\u001b[0m\u001b[0m\n\u001b[1;32m      5\u001b[0m     \u001b[0;32mif\u001b[0m \u001b[0misinstance\u001b[0m\u001b[0;34m(\u001b[0m\u001b[0mm\u001b[0m\u001b[0;34m,\u001b[0m \u001b[0mnn\u001b[0m\u001b[0;34m.\u001b[0m\u001b[0mConv2d\u001b[0m\u001b[0;34m)\u001b[0m \u001b[0;32mor\u001b[0m \u001b[0misinstance\u001b[0m\u001b[0;34m(\u001b[0m\u001b[0mm\u001b[0m\u001b[0;34m,\u001b[0m \u001b[0mnn\u001b[0m\u001b[0;34m.\u001b[0m\u001b[0mLinear\u001b[0m\u001b[0;34m)\u001b[0m\u001b[0;34m:\u001b[0m\u001b[0;34m\u001b[0m\u001b[0;34m\u001b[0m\u001b[0m\n",
            "\u001b[0;31mModuleNotFoundError\u001b[0m: No module named 'torch_geometric'",
            "",
            "\u001b[0;31m---------------------------------------------------------------------------\u001b[0;32m\nNOTE: If your import is failing due to a missing package, you can\nmanually install dependencies using either !pip or !apt.\n\nTo view examples of installing some common dependencies, click the\n\"Open Examples\" button below.\n\u001b[0;31m---------------------------------------------------------------------------\u001b[0m\n"
          ],
          "errorDetails": {
            "actions": [
              {
                "action": "open_url",
                "actionText": "Open Examples",
                "url": "/notebooks/snippets/importing_libraries.ipynb"
              }
            ]
          }
        }
      ],
      "source": [
        "import torch\n",
        "import wandb\n",
        "from torch.utils.data import DataLoader\n",
        "from torch.optim import AdamW\n",
        "from torch.optim.lr_scheduler import CosineAnnealingLR\n",
        "from torch.nn import CrossEntropyLoss\n",
        "import numpy as np\n",
        "from weight_init import init_weights\n",
        "\n",
        "seeds = [99999,182726,91111222,44552222,12223111,100300,47456655,4788347,77766666,809890]\n",
        "for _seed in seeds:\n",
        "  seed = _seed\n",
        "  set_random_seeds(seed=seed, cuda=cuda)\n",
        "  model = ShallowAttentionNet(\n",
        "    n_chans=n_channels,\n",
        "    n_outputs=n_classes,\n",
        "    n_times=input_window_samples,\n",
        "  )\n",
        "\n",
        "  # Display torchinfo table describing the model\n",
        "  print(model)\n",
        "  model.apply(init_weights)\n",
        "  # Send model to GPU\n",
        "  if cuda:\n",
        "      model.cuda()\n",
        "  # Initialize Weights & Biases\n",
        "  wandb.init(project=\"Master Thesis\", name=f\"{model.__class__.__name__} {seed}\")\n",
        "\n",
        "  # Define hyperparameters\n",
        "  lr = 1e-3\n",
        "  weight_decay = 1e-4\n",
        "  batch_size = 32  # Start with 124\n",
        "  n_epochs = 100\n",
        "  patience = 30  # Patience for early stopping\n",
        "\n",
        "  final_acc = 0.0\n",
        "\n",
        "  # Log hyperparameters to wandb\n",
        "  wandb.config.update({\n",
        "      \"learning_rate\": lr,\n",
        "      \"weight_decay\": weight_decay,\n",
        "      \"batch_size\": batch_size,\n",
        "      \"epochs\": n_epochs\n",
        "  })\n",
        "\n",
        "  # Define optimizer and scheduler\n",
        "  optimizer = AdamW(model.parameters(), lr=lr, weight_decay=weight_decay)\n",
        "  scheduler = CosineAnnealingLR(optimizer, T_max=n_epochs - 1)\n",
        "\n",
        "  # Define loss function\n",
        "  loss_fn = CrossEntropyLoss()\n",
        "\n",
        "  # Create DataLoaders\n",
        "  train_loader = DataLoader(train_set, batch_size=batch_size, shuffle=True)\n",
        "  test_loader = DataLoader(test_set, batch_size=batch_size)\n",
        "\n",
        "  # Initialize lists to store all predictions & targets\n",
        "  all_preds, all_targets = [], []\n",
        "\n",
        "  # Early Stopping setup\n",
        "  best_val_loss = float('inf')\n",
        "  epochs_without_improvement = 0\n",
        "\n",
        "  # Training loop\n",
        "  for epoch in range(1, n_epochs + 1):\n",
        "      print(f\"Epoch {epoch}/{n_epochs}: \", end=\"\")\n",
        "\n",
        "      train_loss, train_accuracy = train_one_epoch(\n",
        "          train_loader, model, loss_fn, optimizer, scheduler, epoch, device\n",
        "      )\n",
        "\n",
        "      test_loss, test_accuracy, class_accuracies, batch_preds, batch_targets = test_model(test_loader, model, loss_fn)\n",
        "      final_acc = test_accuracy\n",
        "\n",
        "      # Store predictions & labels for confusion matrix\n",
        "      all_preds.extend(batch_preds)\n",
        "      all_targets.extend(batch_targets)\n",
        "\n",
        "      # Print class-wise accuracy\n",
        "      print(\"\\nClass-wise Accuracy:\")\n",
        "      for class_idx, acc in class_accuracies.items():\n",
        "          print(f\"  Class {class_idx}: {acc:.2f}%\")\n",
        "\n",
        "      # Log results to wandb\n",
        "      wandb.log({\n",
        "          \"epoch\": epoch,\n",
        "          \"train_loss\": train_loss,\n",
        "          \"train_accuracy\": train_accuracy * 100,\n",
        "          \"test_loss\": test_loss,\n",
        "          \"test_accuracy\": test_accuracy,\n",
        "          \"learning_rate\": scheduler.get_last_lr()[0],\n",
        "          **{f\"class_{class_idx}_accuracy\": acc for class_idx, acc in class_accuracies.items()}\n",
        "      })\n",
        "\n",
        "      print(\n",
        "          f\"Train Accuracy: {100 * train_accuracy:.2f}%, \"\n",
        "          f\"Average Train Loss: {train_loss:.6f}, \"\n",
        "          f\"Test Accuracy: {test_accuracy:.2f}%, \"\n",
        "          f\"Average Test Loss: {test_loss:.6f}\\n\"\n",
        "      )\n",
        "\n",
        "      # Early stopping check\n",
        "      if test_loss < best_val_loss:\n",
        "          best_val_loss = test_loss\n",
        "          epochs_without_improvement = 0  # Reset counter if we have improvement\n",
        "      else:\n",
        "          epochs_without_improvement += 1\n",
        "\n",
        "      # If no improvement for 'patience' epochs, stop training early\n",
        "      if epochs_without_improvement >= patience:\n",
        "          print(f\"Early stopping triggered after {epoch+1} epochs.\")\n",
        "          break\n",
        "\n",
        "  # Convert lists to NumPy arrays\n",
        "  all_preds = np.array(all_preds)\n",
        "  all_targets = np.array(all_targets)\n",
        "\n",
        "  # Save predictions & true labels for later use (confusion matrix)\n",
        "  wandb.log({\"all_preds\": all_preds.tolist(), \"all_targets\": all_targets.tolist()})\n",
        "  wandb.finish()\n",
        "  torch.save(model, f\"{model.__class__.__name__}_{math.ceil(final_acc)}_{seed}.pth\")\n",
        "  torch.save(model.state_dict(), f\"{model.__class__.__name__}_{math.ceil(final_acc)}_{seed}_state.pth\")\n",
        "\n"
      ]
    },
    {
      "cell_type": "code",
      "execution_count": null,
      "metadata": {
        "id": "DFUwHkQWPqUL"
      },
      "outputs": [],
      "source": [
        "import shutil\n",
        "import os\n",
        "from google.colab import drive\n",
        "\n",
        "source_dir = \"./\"  # Root directory where .pth files are stored\n",
        "dest_dir = f\"/content/drive/My Drive/pth_backups/{model.__class__.__name__}\"  # Destination in Google Drive\n",
        "\n",
        "# Ensure destination directory exists\n",
        "os.makedirs(dest_dir, exist_ok=True)\n",
        "\n",
        "# Find and move all .pth files\n",
        "for file_name in os.listdir(source_dir):\n",
        "    if file_name.endswith(\".pth\"):\n",
        "        src_path = os.path.join(source_dir, file_name)\n",
        "        dest_path = os.path.join(dest_dir, file_name)\n",
        "        shutil.move(src_path, dest_path)\n",
        "        print(f\"Moved: {file_name} -> {dest_path}\")\n",
        "\n",
        "print(\"All .pth files have been moved to Google Drive!\")"
      ]
    }
  ],
  "metadata": {
    "accelerator": "GPU",
    "colab": {
      "gpuType": "T4",
      "machine_shape": "hm",
      "provenance": []
    },
    "kernelspec": {
      "display_name": "Python 3",
      "name": "python3"
    },
    "language_info": {
      "codemirror_mode": {
        "name": "ipython",
        "version": 3
      },
      "file_extension": ".py",
      "mimetype": "text/x-python",
      "name": "python",
      "nbconvert_exporter": "python",
      "pygments_lexer": "ipython3",
      "version": "3.12.9"
    }
  },
  "nbformat": 4,
  "nbformat_minor": 0
}