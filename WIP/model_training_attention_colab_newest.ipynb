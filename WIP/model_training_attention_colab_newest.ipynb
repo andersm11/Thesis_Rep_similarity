{
  "cells": [
    {
      "cell_type": "code",
      "execution_count": 1,
      "metadata": {
        "colab": {
          "base_uri": "https://localhost:8080/"
        },
        "id": "82Vbwzg32ZhZ",
        "outputId": "94a849e8-e9fc-466f-8073-68eb3e65c96a"
      },
      "outputs": [
        {
          "output_type": "stream",
          "name": "stdout",
          "text": [
            "Running in Google Colab. Checking required libraries...\n",
            "All required libraries are already installed.\n"
          ]
        }
      ],
      "source": [
        "import sys\n",
        "import importlib\n",
        "import subprocess\n",
        "import math\n",
        "import torch\n",
        "\n",
        "\n",
        "def install_if_colab():\n",
        "    if \"google.colab\" in sys.modules:\n",
        "        print(\"Running in Google Colab. Checking required libraries...\")\n",
        "\n",
        "        packages = [\"moabb\", \"braindecode\"]  # Add required libraries\n",
        "        missing_packages = [pkg for pkg in packages if importlib.util.find_spec(pkg) is None]\n",
        "\n",
        "        if missing_packages:\n",
        "            print(f\"Installing missing libraries: {', '.join(missing_packages)}\")\n",
        "            !pip install {\" \".join(missing_packages)}\n",
        "        else:\n",
        "            print(\"All required libraries are already installed.\")\n",
        "    else:\n",
        "        print(\"Not running in Google Colab. No installation needed.\")\n",
        "\n",
        "install_if_colab()\n"
      ]
    },
    {
      "cell_type": "code",
      "source": [
        "from google.colab import drive\n",
        "drive.mount('/content/drive')\n",
        "path = \"/content/drive/MyDrive/\""
      ],
      "metadata": {
        "colab": {
          "base_uri": "https://localhost:8080/"
        },
        "id": "f_sHCnT22v9k",
        "outputId": "e3d218fb-7182-4614-9e39-7bce79a00868"
      },
      "execution_count": 2,
      "outputs": [
        {
          "output_type": "stream",
          "name": "stdout",
          "text": [
            "Drive already mounted at /content/drive; to attempt to forcibly remount, call drive.mount(\"/content/drive\", force_remount=True).\n"
          ]
        }
      ]
    },
    {
      "cell_type": "code",
      "source": [
        "import pickle\n",
        "train_set = torch.load(path+'EEG_data/emotion_train_set.pt')\n",
        "test_set = torch.load(path+'EEG_data/emotion_test_set.pt')"
      ],
      "metadata": {
        "id": "1osynJth26to"
      },
      "execution_count": 3,
      "outputs": []
    },
    {
      "cell_type": "code",
      "source": [
        "print(train_set[0])"
      ],
      "metadata": {
        "colab": {
          "base_uri": "https://localhost:8080/"
        },
        "id": "31OCpWX8DcWY",
        "outputId": "e4b7c903-0a3a-4368-a74f-f23a36e95d83"
      },
      "execution_count": 4,
      "outputs": [
        {
          "output_type": "stream",
          "name": "stdout",
          "text": [
            "(tensor([[ 0.9150,  0.8747,  0.5803,  ..., -0.2005, -0.1347, -0.3848],\n",
            "        [ 1.7004,  1.6020,  1.6953,  ...,  1.0995,  0.8411,  0.8266],\n",
            "        [ 0.7192,  0.8144,  0.8551,  ...,  0.2869,  0.0526, -0.1273],\n",
            "        ...,\n",
            "        [-0.8671, -0.8598, -0.8854,  ..., -0.8429, -0.8595, -0.9021],\n",
            "        [-0.6019, -0.5692, -0.6069,  ..., -0.5514, -0.5329, -0.5943],\n",
            "        [-1.3706, -1.3457, -1.3528,  ..., -1.3049, -1.3285, -1.3405]]), 2)\n"
          ]
        }
      ]
    },
    {
      "cell_type": "code",
      "source": [
        "print(test_set[0])"
      ],
      "metadata": {
        "colab": {
          "base_uri": "https://localhost:8080/"
        },
        "id": "boUgL8BBDd3R",
        "outputId": "1707717c-cf35-42ba-eb72-ff4d2f51a74f"
      },
      "execution_count": 5,
      "outputs": [
        {
          "output_type": "stream",
          "name": "stdout",
          "text": [
            "(tensor([[-0.5158, -0.6248, -0.6551,  ..., -0.4628, -0.5278, -0.4867],\n",
            "        [-1.2126, -1.2868, -1.2099,  ..., -1.5684, -1.4594, -1.3268],\n",
            "        [-0.8480, -0.9666, -1.3216,  ..., -1.5301, -1.5275, -1.4339],\n",
            "        ...,\n",
            "        [-0.4385, -0.4423, -0.4248,  ..., -1.4230, -1.4142, -1.4046],\n",
            "        [-0.7436, -0.7013, -0.6265,  ..., -1.3699, -1.3475, -1.3313],\n",
            "        [-0.1592, -0.1750, -0.1235,  ..., -0.8981, -0.8791, -0.8352]]), 2)\n"
          ]
        }
      ]
    },
    {
      "cell_type": "code",
      "execution_count": 6,
      "metadata": {
        "colab": {
          "base_uri": "https://localhost:8080/"
        },
        "id": "Xba9vjnO2Zhg",
        "outputId": "97d39242-c99c-4215-cb82-d89e6b1f590b"
      },
      "outputs": [
        {
          "output_type": "stream",
          "name": "stdout",
          "text": [
            "n_classes:  3\n",
            "n_channels: 32\n",
            "input_window_samples size: 400\n"
          ]
        },
        {
          "output_type": "stream",
          "name": "stderr",
          "text": [
            "/usr/local/lib/python3.11/dist-packages/braindecode/util.py:51: UserWarning: torch.backends.cudnn.benchmark was set to True which may results in lack of reproducibility. In some cases to ensure reproducibility you may need to set torch.backends.cudnn.benchmark to False.\n",
            "  warn(\n"
          ]
        }
      ],
      "source": [
        "import torch\n",
        "#from shallow_fbcsp import ShallowFBCSPNet\n",
        "from braindecode.util import set_random_seeds\n",
        "\n",
        "\n",
        "cuda = torch.cuda.is_available()  # check if GPU is available, if True chooses to use it\n",
        "device = \"cuda\" if cuda else \"cpu\"\n",
        "if cuda:\n",
        "    torch.backends.cudnn.benchmark = True\n",
        "seed = 2938475\n",
        "set_random_seeds(seed=seed, cuda=cuda)\n",
        "\n",
        "n_classes = 3\n",
        "classes = list(range(n_classes))\n",
        "# Extract number of chans and time steps from dataset\n",
        "n_channels = 32\n",
        "input_window_samples = 400\n",
        "\n",
        "print(\"n_classes: \", n_classes)\n",
        "print(\"n_channels:\", n_channels)\n",
        "print(\"input_window_samples size:\", input_window_samples)"
      ]
    },
    {
      "cell_type": "code",
      "execution_count": 7,
      "metadata": {
        "colab": {
          "base_uri": "https://localhost:8080/"
        },
        "id": "b3wPzn3X2Zhh",
        "outputId": "5cb3f12f-cdb2-47bd-ec96-2ef2984ab7d3"
      },
      "outputs": [
        {
          "output_type": "stream",
          "name": "stdout",
          "text": [
            "ShallowAttentionNet(\n",
            "  (temporal): Conv2d(1, 10, kernel_size=(1, 25), stride=(1, 1))\n",
            "  (spatial_att): SpatialAttention(\n",
            "    (conv): Conv2d(10, 10, kernel_size=(1, 1), stride=(1, 1), bias=False)\n",
            "    (pool): MaxPool2d(kernel_size=(1, 5), stride=(1, 5), padding=0, dilation=1, ceil_mode=False)\n",
            "  )\n",
            "  (batch_norm): BatchNorm2d(10, eps=1e-05, momentum=0.1, affine=True, track_running_stats=True)\n",
            "  (pool): AvgPool2d(kernel_size=(1, 20), stride=(1, 20), padding=0)\n",
            "  (dropout): Dropout(p=0.5, inplace=False)\n",
            "  (fc): Linear(in_features=960, out_features=3, bias=True)\n",
            ")\n"
          ]
        }
      ],
      "source": [
        "#from models_fbscp import CollapsedShallowNet\n",
        "# The ShallowFBCSPNet is a `nn.Sequential` model\n",
        "import importlib\n",
        "import Spatial_attention_model\n",
        "importlib.reload(Spatial_attention_model)\n",
        "from Spatial_attention_model import ShallowAttentionNet\n",
        "model = ShallowAttentionNet(\n",
        "    n_chans=n_channels,\n",
        "    n_outputs=n_classes,\n",
        "    n_times=input_window_samples,\n",
        ")\n",
        "\n",
        "# Display torchinfo table describing the model\n",
        "print(model)\n",
        "\n",
        "# Send model to GPU\n",
        "if cuda:\n",
        "    model.cuda()\n",
        "\n"
      ]
    },
    {
      "cell_type": "code",
      "execution_count": 8,
      "metadata": {
        "id": "n7Eii9TH2Zhi"
      },
      "outputs": [],
      "source": [
        "# splitted = windows_dataset.split(\"session\")\n",
        "# train_set = splitted['0train']  # Session train\n",
        "# test_set = splitted['1test']  # Session evaluation\n",
        "\n",
        "from torch.nn import Module\n",
        "from torch.optim.lr_scheduler import LRScheduler\n",
        "from torch.utils.data import DataLoader\n",
        "\n",
        "#lr = 1e-4\n",
        "#weight_decay = 1e-4\n",
        "#batch_size = 64\n",
        "#n_epochs = 200\n"
      ]
    },
    {
      "cell_type": "code",
      "execution_count": 9,
      "metadata": {
        "id": "PlgtbF-r2Zhj"
      },
      "outputs": [],
      "source": [
        "\n",
        "from tqdm import tqdm\n",
        "# Define a method for training one epoch\n",
        "\n",
        "\n",
        "def train_one_epoch(\n",
        "        dataloader: DataLoader, model: Module, loss_fn, optimizer,\n",
        "        scheduler: LRScheduler, epoch: int, device, print_batch_stats=True\n",
        "):\n",
        "    model.train()  # Set the model to training mode\n",
        "    train_loss, correct = 0, 0\n",
        "\n",
        "    progress_bar = tqdm(enumerate(dataloader), total=len(dataloader),\n",
        "                        disable=not print_batch_stats)\n",
        "\n",
        "    for batch_idx, (X, y) in progress_bar:\n",
        "        X, y = X.to(device), y.to(device)\n",
        "        #print(X.shape)\n",
        "        optimizer.zero_grad()\n",
        "        pred = model(X)\n",
        "        loss = loss_fn(pred, y)\n",
        "        loss.backward()\n",
        "        optimizer.step()  # update the model weights\n",
        "        optimizer.zero_grad()\n",
        "\n",
        "        train_loss += loss.item()\n",
        "        correct += (pred.argmax(1) == y).sum().item()\n",
        "\n",
        "        #if print_batch_stats:\n",
        "        #    progress_bar.set_description(\n",
        "        #        f\"Epoch {epoch}/{n_epochs}, \"\n",
        "        #        f\"Batch {batch_idx + 1}/{len(dataloader)}, \"\n",
        "        #        f\"Loss: {loss.item():.6f}\"\n",
        "        #    )\n",
        "\n",
        "    # Update the learning rate\n",
        "    scheduler.step()\n",
        "\n",
        "    correct /= len(dataloader.dataset)\n",
        "    return train_loss / len(dataloader), correct\n"
      ]
    },
    {
      "cell_type": "code",
      "execution_count": 10,
      "metadata": {
        "id": "M1S-1vTK2Zhk"
      },
      "outputs": [],
      "source": [
        "from collections import defaultdict\n",
        "from tqdm import tqdm\n",
        "import torch\n",
        "from torch.utils.data import DataLoader\n",
        "from sklearn.metrics import confusion_matrix\n",
        "import numpy as np\n",
        "\n",
        "@torch.no_grad()\n",
        "def test_model(dataloader: DataLoader, model: torch.nn.Module, loss_fn, print_batch_stats=True):\n",
        "    device = next(model.parameters()).device  # Get model device\n",
        "    size = len(dataloader.dataset)\n",
        "    n_batches = len(dataloader)\n",
        "    model.eval()  # Switch to evaluation mode\n",
        "    test_loss, correct = 0, 0\n",
        "\n",
        "    # Initialize dictionaries for per-class tracking\n",
        "    class_correct = defaultdict(int)\n",
        "    class_total = defaultdict(int)\n",
        "\n",
        "    # Lists to store true and predicted labels for confusion matrix\n",
        "    all_preds = []\n",
        "    all_targets = []\n",
        "\n",
        "    if print_batch_stats:\n",
        "        progress_bar = tqdm(enumerate(dataloader), total=len(dataloader))\n",
        "    else:\n",
        "        progress_bar = enumerate(dataloader)\n",
        "\n",
        "    for batch_idx, (X, y) in progress_bar:\n",
        "        X, y = X.to(device), y.to(device)\n",
        "        pred = model(X)\n",
        "        batch_loss = loss_fn(pred, y).item()\n",
        "\n",
        "        test_loss += batch_loss\n",
        "        correct += (pred.argmax(1) == y).sum().item()\n",
        "\n",
        "        # Store predictions and true labels for confusion matrix\n",
        "        all_preds.append(pred.argmax(1).cpu())\n",
        "        all_targets.append(y.cpu())\n",
        "\n",
        "        # Compute per-class accuracy\n",
        "        preds_labels = pred.argmax(1)\n",
        "        for label, pred_label in zip(y, preds_labels):\n",
        "            class_total[label.item()] += 1\n",
        "            class_correct[label.item()] += (label == pred_label).item()\n",
        "\n",
        "        if print_batch_stats:\n",
        "            progress_bar.set_description(\n",
        "                f\"Batch {batch_idx + 1}/{len(dataloader)}, Loss: {batch_loss:.6f}\"\n",
        "            )\n",
        "\n",
        "    # Convert lists to tensors\n",
        "    all_preds = torch.cat(all_preds)\n",
        "    all_targets = torch.cat(all_targets)\n",
        "\n",
        "    # Compute per-class accuracy\n",
        "    class_accuracies = {\n",
        "        cls: (class_correct[cls] / class_total[cls]) * 100 if class_total[cls] > 0 else 0\n",
        "        for cls in class_total\n",
        "    }\n",
        "\n",
        "    # Compute overall accuracy\n",
        "    test_loss /= n_batches\n",
        "    overall_accuracy = (correct / size) * 100\n",
        "\n",
        "    # Print per-class accuracy\n",
        "    print(\"\\nClass-wise Accuracy:\")\n",
        "    for cls, acc in class_accuracies.items():\n",
        "        print(f\"  Class {cls}: {acc:.2f}%\")\n",
        "\n",
        "    print(f\"Test Accuracy: {overall_accuracy:.1f}%, Test Loss: {test_loss:.6f}\\n\")\n",
        "\n",
        "    return test_loss, overall_accuracy, class_accuracies, all_preds, all_targets\n"
      ]
    },
    {
      "cell_type": "code",
      "execution_count": 11,
      "metadata": {
        "colab": {
          "base_uri": "https://localhost:8080/"
        },
        "id": "Vn58-cmZ2Zhl",
        "outputId": "2d1222c2-d4e3-4b45-c3ca-dc287f4aef60"
      },
      "outputs": [
        {
          "output_type": "stream",
          "name": "stderr",
          "text": [
            "\u001b[34m\u001b[1mwandb\u001b[0m: Using wandb-core as the SDK backend.  Please refer to https://wandb.me/wandb-core for more information.\n",
            "\u001b[34m\u001b[1mwandb\u001b[0m: Currently logged in as: \u001b[33mahmm98\u001b[0m (\u001b[33mphilinthesky\u001b[0m) to \u001b[32mhttps://api.wandb.ai\u001b[0m. Use \u001b[1m`wandb login --relogin`\u001b[0m to force relogin\n"
          ]
        },
        {
          "output_type": "execute_result",
          "data": {
            "text/plain": [
              "True"
            ]
          },
          "metadata": {},
          "execution_count": 11
        }
      ],
      "source": [
        "import wandb\n",
        "wandb.login()"
      ]
    },
    {
      "cell_type": "code",
      "execution_count": 12,
      "metadata": {
        "colab": {
          "base_uri": "https://localhost:8080/",
          "height": 1000
        },
        "id": "uDUBctmi2Zhl",
        "outputId": "1ce07515-0a28-4ce3-a438-5bfccdba7f5a"
      },
      "outputs": [
        {
          "output_type": "stream",
          "name": "stderr",
          "text": [
            "/usr/local/lib/python3.11/dist-packages/braindecode/util.py:51: UserWarning: torch.backends.cudnn.benchmark was set to True which may results in lack of reproducibility. In some cases to ensure reproducibility you may need to set torch.backends.cudnn.benchmark to False.\n",
            "  warn(\n"
          ]
        },
        {
          "output_type": "stream",
          "name": "stdout",
          "text": [
            "ShallowAttentionNet(\n",
            "  (temporal): Conv2d(1, 10, kernel_size=(1, 25), stride=(1, 1))\n",
            "  (spatial_att): SpatialAttention(\n",
            "    (conv): Conv2d(10, 10, kernel_size=(1, 1), stride=(1, 1), bias=False)\n",
            "    (pool): MaxPool2d(kernel_size=(1, 5), stride=(1, 5), padding=0, dilation=1, ceil_mode=False)\n",
            "  )\n",
            "  (batch_norm): BatchNorm2d(10, eps=1e-05, momentum=0.1, affine=True, track_running_stats=True)\n",
            "  (pool): AvgPool2d(kernel_size=(1, 20), stride=(1, 20), padding=0)\n",
            "  (dropout): Dropout(p=0.5, inplace=False)\n",
            "  (fc): Linear(in_features=960, out_features=3, bias=True)\n",
            ")\n"
          ]
        },
        {
          "output_type": "display_data",
          "data": {
            "text/plain": [
              "<IPython.core.display.HTML object>"
            ],
            "text/html": [
              "Tracking run with wandb version 0.19.8"
            ]
          },
          "metadata": {}
        },
        {
          "output_type": "display_data",
          "data": {
            "text/plain": [
              "<IPython.core.display.HTML object>"
            ],
            "text/html": [
              "Run data is saved locally in <code>/content/wandb/run-20250330_132757-0sam3510</code>"
            ]
          },
          "metadata": {}
        },
        {
          "output_type": "display_data",
          "data": {
            "text/plain": [
              "<IPython.core.display.HTML object>"
            ],
            "text/html": [
              "Syncing run <strong><a href='https://wandb.ai/philinthesky/Master%20Thesis/runs/0sam3510' target=\"_blank\">ShallowAttentionNet 99999</a></strong> to <a href='https://wandb.ai/philinthesky/Master%20Thesis' target=\"_blank\">Weights & Biases</a> (<a href='https://wandb.me/developer-guide' target=\"_blank\">docs</a>)<br>"
            ]
          },
          "metadata": {}
        },
        {
          "output_type": "display_data",
          "data": {
            "text/plain": [
              "<IPython.core.display.HTML object>"
            ],
            "text/html": [
              " View project at <a href='https://wandb.ai/philinthesky/Master%20Thesis' target=\"_blank\">https://wandb.ai/philinthesky/Master%20Thesis</a>"
            ]
          },
          "metadata": {}
        },
        {
          "output_type": "display_data",
          "data": {
            "text/plain": [
              "<IPython.core.display.HTML object>"
            ],
            "text/html": [
              " View run at <a href='https://wandb.ai/philinthesky/Master%20Thesis/runs/0sam3510' target=\"_blank\">https://wandb.ai/philinthesky/Master%20Thesis/runs/0sam3510</a>"
            ]
          },
          "metadata": {}
        },
        {
          "output_type": "stream",
          "name": "stdout",
          "text": [
            "Epoch 1/60: "
          ]
        },
        {
          "output_type": "stream",
          "name": "stderr",
          "text": [
            "100%|██████████| 2795/2795 [00:14<00:00, 198.56it/s]\n",
            "Batch 699/699, Loss: 1.083459: 100%|██████████| 699/699 [00:03<00:00, 197.55it/s]\n"
          ]
        },
        {
          "output_type": "stream",
          "name": "stdout",
          "text": [
            "\n",
            "Class-wise Accuracy:\n",
            "  Class 2: 1.81%\n",
            "  Class 0: 1.03%\n",
            "  Class 1: 99.29%\n",
            "Test Accuracy: 33.6%, Test Loss: 1.101808\n",
            "\n",
            "\n",
            "Class-wise Accuracy:\n",
            "  Class 2: 1.81%\n",
            "  Class 0: 1.03%\n",
            "  Class 1: 99.29%\n",
            "Train Accuracy: 56.06%, Average Train Loss: 0.944016, Test Accuracy: 33.60%, Average Test Loss: 1.101808\n",
            "\n",
            "Epoch 2/60: "
          ]
        },
        {
          "output_type": "stream",
          "name": "stderr",
          "text": [
            "100%|██████████| 2795/2795 [00:13<00:00, 205.66it/s]\n",
            "Batch 699/699, Loss: 1.057906: 100%|██████████| 699/699 [00:03<00:00, 200.91it/s]\n"
          ]
        },
        {
          "output_type": "stream",
          "name": "stdout",
          "text": [
            "\n",
            "Class-wise Accuracy:\n",
            "  Class 2: 12.34%\n",
            "  Class 0: 3.60%\n",
            "  Class 1: 94.24%\n",
            "Test Accuracy: 36.3%, Test Loss: 1.160225\n",
            "\n",
            "\n",
            "Class-wise Accuracy:\n",
            "  Class 2: 12.34%\n",
            "  Class 0: 3.60%\n",
            "  Class 1: 94.24%\n",
            "Train Accuracy: 61.98%, Average Train Loss: 0.836448, Test Accuracy: 36.35%, Average Test Loss: 1.160225\n",
            "\n",
            "Epoch 3/60: "
          ]
        },
        {
          "output_type": "stream",
          "name": "stderr",
          "text": [
            "100%|██████████| 2795/2795 [00:13<00:00, 202.88it/s]\n",
            "Batch 699/699, Loss: 1.033409: 100%|██████████| 699/699 [00:03<00:00, 204.15it/s]\n"
          ]
        },
        {
          "output_type": "stream",
          "name": "stdout",
          "text": [
            "\n",
            "Class-wise Accuracy:\n",
            "  Class 2: 42.43%\n",
            "  Class 0: 4.44%\n",
            "  Class 1: 93.78%\n",
            "Test Accuracy: 46.6%, Test Loss: 1.093474\n",
            "\n",
            "\n",
            "Class-wise Accuracy:\n",
            "  Class 2: 42.43%\n",
            "  Class 0: 4.44%\n",
            "  Class 1: 93.78%\n",
            "Train Accuracy: 62.90%, Average Train Loss: 0.815294, Test Accuracy: 46.64%, Average Test Loss: 1.093474\n",
            "\n",
            "Epoch 4/60: "
          ]
        },
        {
          "output_type": "stream",
          "name": "stderr",
          "text": [
            "100%|██████████| 2795/2795 [00:13<00:00, 203.77it/s]\n",
            "Batch 699/699, Loss: 1.095555: 100%|██████████| 699/699 [00:03<00:00, 201.45it/s]\n"
          ]
        },
        {
          "output_type": "stream",
          "name": "stdout",
          "text": [
            "\n",
            "Class-wise Accuracy:\n",
            "  Class 2: 2.03%\n",
            "  Class 0: 15.58%\n",
            "  Class 1: 98.82%\n",
            "Test Accuracy: 38.4%, Test Loss: 1.127261\n",
            "\n",
            "\n",
            "Class-wise Accuracy:\n",
            "  Class 2: 2.03%\n",
            "  Class 0: 15.58%\n",
            "  Class 1: 98.82%\n",
            "Train Accuracy: 64.72%, Average Train Loss: 0.791570, Test Accuracy: 38.36%, Average Test Loss: 1.127261\n",
            "\n",
            "Epoch 5/60: "
          ]
        },
        {
          "output_type": "stream",
          "name": "stderr",
          "text": [
            "100%|██████████| 2795/2795 [00:13<00:00, 203.76it/s]\n",
            "Batch 699/699, Loss: 0.996396: 100%|██████████| 699/699 [00:03<00:00, 220.25it/s]\n"
          ]
        },
        {
          "output_type": "stream",
          "name": "stdout",
          "text": [
            "\n",
            "Class-wise Accuracy:\n",
            "  Class 2: 48.84%\n",
            "  Class 0: 19.72%\n",
            "  Class 1: 88.70%\n",
            "Test Accuracy: 52.2%, Test Loss: 1.088129\n",
            "\n",
            "\n",
            "Class-wise Accuracy:\n",
            "  Class 2: 48.84%\n",
            "  Class 0: 19.72%\n",
            "  Class 1: 88.70%\n",
            "Train Accuracy: 65.84%, Average Train Loss: 0.762282, Test Accuracy: 52.23%, Average Test Loss: 1.088129\n",
            "\n",
            "Epoch 6/60: "
          ]
        },
        {
          "output_type": "stream",
          "name": "stderr",
          "text": [
            "100%|██████████| 2795/2795 [00:13<00:00, 206.69it/s]\n",
            "Batch 699/699, Loss: 1.005210: 100%|██████████| 699/699 [00:03<00:00, 222.63it/s]\n"
          ]
        },
        {
          "output_type": "stream",
          "name": "stdout",
          "text": [
            "\n",
            "Class-wise Accuracy:\n",
            "  Class 2: 41.58%\n",
            "  Class 0: 25.48%\n",
            "  Class 1: 96.60%\n",
            "Test Accuracy: 54.3%, Test Loss: 1.005270\n",
            "\n",
            "\n",
            "Class-wise Accuracy:\n",
            "  Class 2: 41.58%\n",
            "  Class 0: 25.48%\n",
            "  Class 1: 96.60%\n",
            "Train Accuracy: 66.58%, Average Train Loss: 0.760708, Test Accuracy: 54.30%, Average Test Loss: 1.005270\n",
            "\n",
            "Epoch 7/60: "
          ]
        },
        {
          "output_type": "stream",
          "name": "stderr",
          "text": [
            "100%|██████████| 2795/2795 [00:13<00:00, 205.10it/s]\n",
            "Batch 699/699, Loss: 1.102844: 100%|██████████| 699/699 [00:03<00:00, 201.29it/s]\n"
          ]
        },
        {
          "output_type": "stream",
          "name": "stdout",
          "text": [
            "\n",
            "Class-wise Accuracy:\n",
            "  Class 2: 1.42%\n",
            "  Class 0: 1.72%\n",
            "  Class 1: 98.19%\n",
            "Test Accuracy: 33.3%, Test Loss: 1.105296\n",
            "\n",
            "\n",
            "Class-wise Accuracy:\n",
            "  Class 2: 1.42%\n",
            "  Class 0: 1.72%\n",
            "  Class 1: 98.19%\n",
            "Train Accuracy: 66.49%, Average Train Loss: 0.771730, Test Accuracy: 33.33%, Average Test Loss: 1.105296\n",
            "\n",
            "Epoch 8/60: "
          ]
        },
        {
          "output_type": "stream",
          "name": "stderr",
          "text": [
            "100%|██████████| 2795/2795 [00:13<00:00, 204.64it/s]\n",
            "Batch 699/699, Loss: 1.059093: 100%|██████████| 699/699 [00:03<00:00, 213.94it/s]\n"
          ]
        },
        {
          "output_type": "stream",
          "name": "stdout",
          "text": [
            "\n",
            "Class-wise Accuracy:\n",
            "  Class 2: 25.27%\n",
            "  Class 0: 13.71%\n",
            "  Class 1: 94.19%\n",
            "Test Accuracy: 44.1%, Test Loss: 1.057671\n",
            "\n",
            "\n",
            "Class-wise Accuracy:\n",
            "  Class 2: 25.27%\n",
            "  Class 0: 13.71%\n",
            "  Class 1: 94.19%\n",
            "Train Accuracy: 68.11%, Average Train Loss: 0.729482, Test Accuracy: 44.07%, Average Test Loss: 1.057671\n",
            "\n",
            "Epoch 9/60: "
          ]
        },
        {
          "output_type": "stream",
          "name": "stderr",
          "text": [
            "100%|██████████| 2795/2795 [00:13<00:00, 205.22it/s]\n",
            "Batch 699/699, Loss: 0.972353: 100%|██████████| 699/699 [00:03<00:00, 209.13it/s]\n"
          ]
        },
        {
          "output_type": "stream",
          "name": "stdout",
          "text": [
            "\n",
            "Class-wise Accuracy:\n",
            "  Class 2: 48.10%\n",
            "  Class 0: 22.55%\n",
            "  Class 1: 90.12%\n",
            "Test Accuracy: 53.4%, Test Loss: 1.050781\n",
            "\n",
            "\n",
            "Class-wise Accuracy:\n",
            "  Class 2: 48.10%\n",
            "  Class 0: 22.55%\n",
            "  Class 1: 90.12%\n",
            "Train Accuracy: 70.78%, Average Train Loss: 0.680686, Test Accuracy: 53.39%, Average Test Loss: 1.050781\n",
            "\n",
            "Epoch 10/60: "
          ]
        },
        {
          "output_type": "stream",
          "name": "stderr",
          "text": [
            "100%|██████████| 2795/2795 [00:13<00:00, 204.47it/s]\n",
            "Batch 699/699, Loss: 0.931600: 100%|██████████| 699/699 [00:03<00:00, 211.30it/s]\n"
          ]
        },
        {
          "output_type": "stream",
          "name": "stdout",
          "text": [
            "\n",
            "Class-wise Accuracy:\n",
            "  Class 2: 64.19%\n",
            "  Class 0: 34.41%\n",
            "  Class 1: 93.94%\n",
            "Test Accuracy: 64.0%, Test Loss: 0.939373\n",
            "\n",
            "\n",
            "Class-wise Accuracy:\n",
            "  Class 2: 64.19%\n",
            "  Class 0: 34.41%\n",
            "  Class 1: 93.94%\n",
            "Train Accuracy: 72.68%, Average Train Loss: 0.650046, Test Accuracy: 64.04%, Average Test Loss: 0.939373\n",
            "\n",
            "Epoch 11/60: "
          ]
        },
        {
          "output_type": "stream",
          "name": "stderr",
          "text": [
            "100%|██████████| 2795/2795 [00:13<00:00, 204.54it/s]\n",
            "Batch 699/699, Loss: 0.991157: 100%|██████████| 699/699 [00:03<00:00, 208.29it/s]\n"
          ]
        },
        {
          "output_type": "stream",
          "name": "stdout",
          "text": [
            "\n",
            "Class-wise Accuracy:\n",
            "  Class 2: 54.19%\n",
            "  Class 0: 12.72%\n",
            "  Class 1: 92.28%\n",
            "Test Accuracy: 52.9%, Test Loss: 1.065120\n",
            "\n",
            "\n",
            "Class-wise Accuracy:\n",
            "  Class 2: 54.19%\n",
            "  Class 0: 12.72%\n",
            "  Class 1: 92.28%\n",
            "Train Accuracy: 67.95%, Average Train Loss: 0.743346, Test Accuracy: 52.88%, Average Test Loss: 1.065120\n",
            "\n",
            "Epoch 12/60: "
          ]
        },
        {
          "output_type": "stream",
          "name": "stderr",
          "text": [
            "100%|██████████| 2795/2795 [00:13<00:00, 205.91it/s]\n",
            "Batch 699/699, Loss: 0.991977: 100%|██████████| 699/699 [00:03<00:00, 208.30it/s]\n"
          ]
        },
        {
          "output_type": "stream",
          "name": "stdout",
          "text": [
            "\n",
            "Class-wise Accuracy:\n",
            "  Class 2: 25.57%\n",
            "  Class 0: 30.87%\n",
            "  Class 1: 97.59%\n",
            "Test Accuracy: 51.0%, Test Loss: 0.975831\n",
            "\n",
            "\n",
            "Class-wise Accuracy:\n",
            "  Class 2: 25.57%\n",
            "  Class 0: 30.87%\n",
            "  Class 1: 97.59%\n",
            "Train Accuracy: 71.44%, Average Train Loss: 0.671920, Test Accuracy: 51.01%, Average Test Loss: 0.975831\n",
            "\n",
            "Epoch 13/60: "
          ]
        },
        {
          "output_type": "stream",
          "name": "stderr",
          "text": [
            "100%|██████████| 2795/2795 [00:13<00:00, 204.54it/s]\n",
            "Batch 699/699, Loss: 0.835549: 100%|██████████| 699/699 [00:03<00:00, 221.42it/s]\n"
          ]
        },
        {
          "output_type": "stream",
          "name": "stdout",
          "text": [
            "\n",
            "Class-wise Accuracy:\n",
            "  Class 2: 70.23%\n",
            "  Class 0: 63.09%\n",
            "  Class 1: 81.33%\n",
            "Test Accuracy: 71.5%, Test Loss: 0.779216\n",
            "\n",
            "\n",
            "Class-wise Accuracy:\n",
            "  Class 2: 70.23%\n",
            "  Class 0: 63.09%\n",
            "  Class 1: 81.33%\n",
            "Train Accuracy: 73.81%, Average Train Loss: 0.621910, Test Accuracy: 71.50%, Average Test Loss: 0.779216\n",
            "\n",
            "Epoch 14/60: "
          ]
        },
        {
          "output_type": "stream",
          "name": "stderr",
          "text": [
            "100%|██████████| 2795/2795 [00:13<00:00, 205.53it/s]\n",
            "Batch 699/699, Loss: 0.774067: 100%|██████████| 699/699 [00:03<00:00, 210.38it/s]\n"
          ]
        },
        {
          "output_type": "stream",
          "name": "stdout",
          "text": [
            "\n",
            "Class-wise Accuracy:\n",
            "  Class 2: 69.22%\n",
            "  Class 0: 59.03%\n",
            "  Class 1: 81.02%\n",
            "Test Accuracy: 69.7%, Test Loss: 0.830667\n",
            "\n",
            "\n",
            "Class-wise Accuracy:\n",
            "  Class 2: 69.22%\n",
            "  Class 0: 59.03%\n",
            "  Class 1: 81.02%\n",
            "Train Accuracy: 74.22%, Average Train Loss: 0.618314, Test Accuracy: 69.70%, Average Test Loss: 0.830667\n",
            "\n",
            "Epoch 15/60: "
          ]
        },
        {
          "output_type": "stream",
          "name": "stderr",
          "text": [
            "100%|██████████| 2795/2795 [00:13<00:00, 205.05it/s]\n",
            "Batch 699/699, Loss: 0.767547: 100%|██████████| 699/699 [00:03<00:00, 207.65it/s]\n"
          ]
        },
        {
          "output_type": "stream",
          "name": "stdout",
          "text": [
            "\n",
            "Class-wise Accuracy:\n",
            "  Class 2: 80.44%\n",
            "  Class 0: 54.36%\n",
            "  Class 1: 77.54%\n",
            "Test Accuracy: 70.8%, Test Loss: 0.779443\n",
            "\n",
            "\n",
            "Class-wise Accuracy:\n",
            "  Class 2: 80.44%\n",
            "  Class 0: 54.36%\n",
            "  Class 1: 77.54%\n",
            "Train Accuracy: 75.24%, Average Train Loss: 0.602998, Test Accuracy: 70.79%, Average Test Loss: 0.779443\n",
            "\n",
            "Epoch 16/60: "
          ]
        },
        {
          "output_type": "stream",
          "name": "stderr",
          "text": [
            "100%|██████████| 2795/2795 [00:13<00:00, 205.54it/s]\n",
            "Batch 699/699, Loss: 0.835940: 100%|██████████| 699/699 [00:03<00:00, 211.08it/s]\n"
          ]
        },
        {
          "output_type": "stream",
          "name": "stdout",
          "text": [
            "\n",
            "Class-wise Accuracy:\n",
            "  Class 2: 71.65%\n",
            "  Class 0: 39.94%\n",
            "  Class 1: 76.67%\n",
            "Test Accuracy: 62.7%, Test Loss: 0.848712\n",
            "\n",
            "\n",
            "Class-wise Accuracy:\n",
            "  Class 2: 71.65%\n",
            "  Class 0: 39.94%\n",
            "  Class 1: 76.67%\n",
            "Train Accuracy: 75.94%, Average Train Loss: 0.580840, Test Accuracy: 62.73%, Average Test Loss: 0.848712\n",
            "\n",
            "Epoch 17/60: "
          ]
        },
        {
          "output_type": "stream",
          "name": "stderr",
          "text": [
            "100%|██████████| 2795/2795 [00:13<00:00, 205.34it/s]\n",
            "Batch 699/699, Loss: 0.773460: 100%|██████████| 699/699 [00:03<00:00, 218.89it/s]\n"
          ]
        },
        {
          "output_type": "stream",
          "name": "stdout",
          "text": [
            "\n",
            "Class-wise Accuracy:\n",
            "  Class 2: 75.70%\n",
            "  Class 0: 55.65%\n",
            "  Class 1: 80.96%\n",
            "Test Accuracy: 70.7%, Test Loss: 0.756107\n",
            "\n",
            "\n",
            "Class-wise Accuracy:\n",
            "  Class 2: 75.70%\n",
            "  Class 0: 55.65%\n",
            "  Class 1: 80.96%\n",
            "Train Accuracy: 77.29%, Average Train Loss: 0.557175, Test Accuracy: 70.74%, Average Test Loss: 0.756107\n",
            "\n",
            "Epoch 18/60: "
          ]
        },
        {
          "output_type": "stream",
          "name": "stderr",
          "text": [
            "100%|██████████| 2795/2795 [00:13<00:00, 205.23it/s]\n",
            "Batch 699/699, Loss: 0.903178: 100%|██████████| 699/699 [00:03<00:00, 214.77it/s]\n"
          ]
        },
        {
          "output_type": "stream",
          "name": "stdout",
          "text": [
            "\n",
            "Class-wise Accuracy:\n",
            "  Class 2: 60.07%\n",
            "  Class 0: 48.39%\n",
            "  Class 1: 61.42%\n",
            "Test Accuracy: 56.6%, Test Loss: 1.010680\n",
            "\n",
            "\n",
            "Class-wise Accuracy:\n",
            "  Class 2: 60.07%\n",
            "  Class 0: 48.39%\n",
            "  Class 1: 61.42%\n",
            "Train Accuracy: 76.57%, Average Train Loss: 0.576175, Test Accuracy: 56.62%, Average Test Loss: 1.010680\n",
            "\n",
            "Epoch 19/60: "
          ]
        },
        {
          "output_type": "stream",
          "name": "stderr",
          "text": [
            "100%|██████████| 2795/2795 [00:13<00:00, 205.38it/s]\n",
            "Batch 699/699, Loss: 0.754802: 100%|██████████| 699/699 [00:03<00:00, 222.47it/s]\n"
          ]
        },
        {
          "output_type": "stream",
          "name": "stdout",
          "text": [
            "\n",
            "Class-wise Accuracy:\n",
            "  Class 2: 69.17%\n",
            "  Class 0: 64.35%\n",
            "  Class 1: 92.00%\n",
            "Test Accuracy: 75.1%, Test Loss: 0.783307\n",
            "\n",
            "\n",
            "Class-wise Accuracy:\n",
            "  Class 2: 69.17%\n",
            "  Class 0: 64.35%\n",
            "  Class 1: 92.00%\n",
            "Train Accuracy: 76.84%, Average Train Loss: 0.561874, Test Accuracy: 75.07%, Average Test Loss: 0.783307\n",
            "\n",
            "Epoch 20/60: "
          ]
        },
        {
          "output_type": "stream",
          "name": "stderr",
          "text": [
            "100%|██████████| 2795/2795 [00:13<00:00, 205.24it/s]\n",
            "Batch 699/699, Loss: 0.803404: 100%|██████████| 699/699 [00:03<00:00, 209.10it/s]\n"
          ]
        },
        {
          "output_type": "stream",
          "name": "stdout",
          "text": [
            "\n",
            "Class-wise Accuracy:\n",
            "  Class 2: 73.18%\n",
            "  Class 0: 49.50%\n",
            "  Class 1: 90.88%\n",
            "Test Accuracy: 71.1%, Test Loss: 0.780850\n",
            "\n",
            "\n",
            "Class-wise Accuracy:\n",
            "  Class 2: 73.18%\n",
            "  Class 0: 49.50%\n",
            "  Class 1: 90.88%\n",
            "Train Accuracy: 78.00%, Average Train Loss: 0.541120, Test Accuracy: 71.10%, Average Test Loss: 0.780850\n",
            "\n",
            "Epoch 21/60: "
          ]
        },
        {
          "output_type": "stream",
          "name": "stderr",
          "text": [
            "100%|██████████| 2795/2795 [00:13<00:00, 205.08it/s]\n",
            "Batch 699/699, Loss: 0.714415: 100%|██████████| 699/699 [00:03<00:00, 222.01it/s]\n"
          ]
        },
        {
          "output_type": "stream",
          "name": "stdout",
          "text": [
            "\n",
            "Class-wise Accuracy:\n",
            "  Class 2: 71.20%\n",
            "  Class 0: 66.51%\n",
            "  Class 1: 80.32%\n",
            "Test Accuracy: 72.6%, Test Loss: 0.893340\n",
            "\n",
            "\n",
            "Class-wise Accuracy:\n",
            "  Class 2: 71.20%\n",
            "  Class 0: 66.51%\n",
            "  Class 1: 80.32%\n",
            "Train Accuracy: 78.37%, Average Train Loss: 0.539664, Test Accuracy: 72.63%, Average Test Loss: 0.893340\n",
            "\n",
            "Epoch 22/60: "
          ]
        },
        {
          "output_type": "stream",
          "name": "stderr",
          "text": [
            "100%|██████████| 2795/2795 [00:13<00:00, 204.74it/s]\n",
            "Batch 699/699, Loss: 0.735208: 100%|██████████| 699/699 [00:03<00:00, 215.98it/s]\n"
          ]
        },
        {
          "output_type": "stream",
          "name": "stdout",
          "text": [
            "\n",
            "Class-wise Accuracy:\n",
            "  Class 2: 78.04%\n",
            "  Class 0: 53.72%\n",
            "  Class 1: 79.01%\n",
            "Test Accuracy: 70.3%, Test Loss: 0.717793\n",
            "\n",
            "\n",
            "Class-wise Accuracy:\n",
            "  Class 2: 78.04%\n",
            "  Class 0: 53.72%\n",
            "  Class 1: 79.01%\n",
            "Train Accuracy: 78.11%, Average Train Loss: 0.537396, Test Accuracy: 70.25%, Average Test Loss: 0.717793\n",
            "\n",
            "Epoch 23/60: "
          ]
        },
        {
          "output_type": "stream",
          "name": "stderr",
          "text": [
            "100%|██████████| 2795/2795 [00:13<00:00, 205.61it/s]\n",
            "Batch 699/699, Loss: 0.634358: 100%|██████████| 699/699 [00:03<00:00, 197.75it/s]\n"
          ]
        },
        {
          "output_type": "stream",
          "name": "stdout",
          "text": [
            "\n",
            "Class-wise Accuracy:\n",
            "  Class 2: 76.98%\n",
            "  Class 0: 68.08%\n",
            "  Class 1: 82.57%\n",
            "Test Accuracy: 75.9%, Test Loss: 0.664215\n",
            "\n",
            "\n",
            "Class-wise Accuracy:\n",
            "  Class 2: 76.98%\n",
            "  Class 0: 68.08%\n",
            "  Class 1: 82.57%\n",
            "Train Accuracy: 77.98%, Average Train Loss: 0.552614, Test Accuracy: 75.85%, Average Test Loss: 0.664215\n",
            "\n",
            "Epoch 24/60: "
          ]
        },
        {
          "output_type": "stream",
          "name": "stderr",
          "text": [
            "100%|██████████| 2795/2795 [00:13<00:00, 204.70it/s]\n",
            "Batch 699/699, Loss: 0.632907: 100%|██████████| 699/699 [00:03<00:00, 206.47it/s]\n"
          ]
        },
        {
          "output_type": "stream",
          "name": "stdout",
          "text": [
            "\n",
            "Class-wise Accuracy:\n",
            "  Class 2: 72.82%\n",
            "  Class 0: 71.16%\n",
            "  Class 1: 83.32%\n",
            "Test Accuracy: 75.7%, Test Loss: 2.129095\n",
            "\n",
            "\n",
            "Class-wise Accuracy:\n",
            "  Class 2: 72.82%\n",
            "  Class 0: 71.16%\n",
            "  Class 1: 83.32%\n",
            "Train Accuracy: 78.88%, Average Train Loss: 0.521187, Test Accuracy: 75.72%, Average Test Loss: 2.129095\n",
            "\n",
            "Epoch 25/60: "
          ]
        },
        {
          "output_type": "stream",
          "name": "stderr",
          "text": [
            "100%|██████████| 2795/2795 [00:13<00:00, 205.03it/s]\n",
            "Batch 699/699, Loss: 0.752206: 100%|██████████| 699/699 [00:03<00:00, 205.37it/s]\n"
          ]
        },
        {
          "output_type": "stream",
          "name": "stdout",
          "text": [
            "\n",
            "Class-wise Accuracy:\n",
            "  Class 2: 75.58%\n",
            "  Class 0: 53.23%\n",
            "  Class 1: 92.75%\n",
            "Test Accuracy: 73.8%, Test Loss: 0.802705\n",
            "\n",
            "\n",
            "Class-wise Accuracy:\n",
            "  Class 2: 75.58%\n",
            "  Class 0: 53.23%\n",
            "  Class 1: 92.75%\n",
            "Train Accuracy: 79.79%, Average Train Loss: 0.500849, Test Accuracy: 73.77%, Average Test Loss: 0.802705\n",
            "\n",
            "Epoch 26/60: "
          ]
        },
        {
          "output_type": "stream",
          "name": "stderr",
          "text": [
            "100%|██████████| 2795/2795 [00:13<00:00, 204.75it/s]\n",
            "Batch 699/699, Loss: 0.658022: 100%|██████████| 699/699 [00:03<00:00, 207.13it/s]\n"
          ]
        },
        {
          "output_type": "stream",
          "name": "stdout",
          "text": [
            "\n",
            "Class-wise Accuracy:\n",
            "  Class 2: 75.41%\n",
            "  Class 0: 72.02%\n",
            "  Class 1: 88.00%\n",
            "Test Accuracy: 78.4%, Test Loss: 0.641907\n",
            "\n",
            "\n",
            "Class-wise Accuracy:\n",
            "  Class 2: 75.41%\n",
            "  Class 0: 72.02%\n",
            "  Class 1: 88.00%\n",
            "Train Accuracy: 79.49%, Average Train Loss: 0.509734, Test Accuracy: 78.41%, Average Test Loss: 0.641907\n",
            "\n",
            "Epoch 27/60: "
          ]
        },
        {
          "output_type": "stream",
          "name": "stderr",
          "text": [
            "100%|██████████| 2795/2795 [00:13<00:00, 205.33it/s]\n",
            "Batch 699/699, Loss: 0.865085: 100%|██████████| 699/699 [00:03<00:00, 219.69it/s]\n"
          ]
        },
        {
          "output_type": "stream",
          "name": "stdout",
          "text": [
            "\n",
            "Class-wise Accuracy:\n",
            "  Class 2: 72.53%\n",
            "  Class 0: 36.09%\n",
            "  Class 1: 86.72%\n",
            "Test Accuracy: 65.0%, Test Loss: 0.832210\n",
            "\n",
            "\n",
            "Class-wise Accuracy:\n",
            "  Class 2: 72.53%\n",
            "  Class 0: 36.09%\n",
            "  Class 1: 86.72%\n",
            "Train Accuracy: 80.11%, Average Train Loss: 0.496080, Test Accuracy: 65.04%, Average Test Loss: 0.832210\n",
            "\n",
            "Epoch 28/60: "
          ]
        },
        {
          "output_type": "stream",
          "name": "stderr",
          "text": [
            "100%|██████████| 2795/2795 [00:13<00:00, 205.10it/s]\n",
            "Batch 699/699, Loss: 1.225892: 100%|██████████| 699/699 [00:03<00:00, 217.67it/s]\n"
          ]
        },
        {
          "output_type": "stream",
          "name": "stdout",
          "text": [
            "\n",
            "Class-wise Accuracy:\n",
            "  Class 2: 61.09%\n",
            "  Class 0: 59.59%\n",
            "  Class 1: 69.60%\n",
            "Test Accuracy: 63.4%, Test Loss: 1.017748\n",
            "\n",
            "\n",
            "Class-wise Accuracy:\n",
            "  Class 2: 61.09%\n",
            "  Class 0: 59.59%\n",
            "  Class 1: 69.60%\n",
            "Train Accuracy: 79.97%, Average Train Loss: 0.499082, Test Accuracy: 63.39%, Average Test Loss: 1.017748\n",
            "\n",
            "Epoch 29/60: "
          ]
        },
        {
          "output_type": "stream",
          "name": "stderr",
          "text": [
            "100%|██████████| 2795/2795 [00:13<00:00, 205.57it/s]\n",
            "Batch 699/699, Loss: 0.641621: 100%|██████████| 699/699 [00:03<00:00, 222.56it/s]\n"
          ]
        },
        {
          "output_type": "stream",
          "name": "stdout",
          "text": [
            "\n",
            "Class-wise Accuracy:\n",
            "  Class 2: 74.88%\n",
            "  Class 0: 72.71%\n",
            "  Class 1: 89.40%\n",
            "Test Accuracy: 78.9%, Test Loss: 0.564449\n",
            "\n",
            "\n",
            "Class-wise Accuracy:\n",
            "  Class 2: 74.88%\n",
            "  Class 0: 72.71%\n",
            "  Class 1: 89.40%\n",
            "Train Accuracy: 80.30%, Average Train Loss: 0.490963, Test Accuracy: 78.93%, Average Test Loss: 0.564449\n",
            "\n",
            "Epoch 30/60: "
          ]
        },
        {
          "output_type": "stream",
          "name": "stderr",
          "text": [
            "100%|██████████| 2795/2795 [00:13<00:00, 205.96it/s]\n",
            "Batch 699/699, Loss: 0.655073: 100%|██████████| 699/699 [00:03<00:00, 221.95it/s]\n"
          ]
        },
        {
          "output_type": "stream",
          "name": "stdout",
          "text": [
            "\n",
            "Class-wise Accuracy:\n",
            "  Class 2: 74.59%\n",
            "  Class 0: 71.69%\n",
            "  Class 1: 92.47%\n",
            "Test Accuracy: 79.5%, Test Loss: 0.711454\n",
            "\n",
            "\n",
            "Class-wise Accuracy:\n",
            "  Class 2: 74.59%\n",
            "  Class 0: 71.69%\n",
            "  Class 1: 92.47%\n",
            "Train Accuracy: 80.85%, Average Train Loss: 0.478016, Test Accuracy: 79.50%, Average Test Loss: 0.711454\n",
            "\n",
            "Epoch 31/60: "
          ]
        },
        {
          "output_type": "stream",
          "name": "stderr",
          "text": [
            "100%|██████████| 2795/2795 [00:13<00:00, 204.91it/s]\n",
            "Batch 699/699, Loss: 0.633646: 100%|██████████| 699/699 [00:03<00:00, 211.70it/s]\n"
          ]
        },
        {
          "output_type": "stream",
          "name": "stdout",
          "text": [
            "\n",
            "Class-wise Accuracy:\n",
            "  Class 2: 73.05%\n",
            "  Class 0: 75.70%\n",
            "  Class 1: 92.08%\n",
            "Test Accuracy: 80.2%, Test Loss: 0.614590\n",
            "\n",
            "\n",
            "Class-wise Accuracy:\n",
            "  Class 2: 73.05%\n",
            "  Class 0: 75.70%\n",
            "  Class 1: 92.08%\n",
            "Train Accuracy: 80.71%, Average Train Loss: 0.479307, Test Accuracy: 80.19%, Average Test Loss: 0.614590\n",
            "\n",
            "Epoch 32/60: "
          ]
        },
        {
          "output_type": "stream",
          "name": "stderr",
          "text": [
            "100%|██████████| 2795/2795 [00:13<00:00, 205.20it/s]\n",
            "Batch 699/699, Loss: 0.773203: 100%|██████████| 699/699 [00:03<00:00, 218.31it/s]\n"
          ]
        },
        {
          "output_type": "stream",
          "name": "stdout",
          "text": [
            "\n",
            "Class-wise Accuracy:\n",
            "  Class 2: 79.12%\n",
            "  Class 0: 58.80%\n",
            "  Class 1: 77.82%\n",
            "Test Accuracy: 71.9%, Test Loss: 0.795677\n",
            "\n",
            "\n",
            "Class-wise Accuracy:\n",
            "  Class 2: 79.12%\n",
            "  Class 0: 58.80%\n",
            "  Class 1: 77.82%\n",
            "Train Accuracy: 80.59%, Average Train Loss: 0.485860, Test Accuracy: 71.91%, Average Test Loss: 0.795677\n",
            "\n",
            "Epoch 33/60: "
          ]
        },
        {
          "output_type": "stream",
          "name": "stderr",
          "text": [
            "100%|██████████| 2795/2795 [00:13<00:00, 204.16it/s]\n",
            "Batch 699/699, Loss: 0.871747: 100%|██████████| 699/699 [00:03<00:00, 215.51it/s]\n"
          ]
        },
        {
          "output_type": "stream",
          "name": "stdout",
          "text": [
            "\n",
            "Class-wise Accuracy:\n",
            "  Class 2: 77.45%\n",
            "  Class 0: 35.24%\n",
            "  Class 1: 81.34%\n",
            "Test Accuracy: 64.7%, Test Loss: 0.867433\n",
            "\n",
            "\n",
            "Class-wise Accuracy:\n",
            "  Class 2: 77.45%\n",
            "  Class 0: 35.24%\n",
            "  Class 1: 81.34%\n",
            "Train Accuracy: 80.92%, Average Train Loss: 0.483359, Test Accuracy: 64.65%, Average Test Loss: 0.867433\n",
            "\n",
            "Epoch 34/60: "
          ]
        },
        {
          "output_type": "stream",
          "name": "stderr",
          "text": [
            "100%|██████████| 2795/2795 [00:13<00:00, 205.34it/s]\n",
            "Batch 699/699, Loss: 0.743353: 100%|██████████| 699/699 [00:03<00:00, 220.49it/s]\n"
          ]
        },
        {
          "output_type": "stream",
          "name": "stdout",
          "text": [
            "\n",
            "Class-wise Accuracy:\n",
            "  Class 2: 76.18%\n",
            "  Class 0: 72.91%\n",
            "  Class 1: 85.62%\n",
            "Test Accuracy: 78.2%, Test Loss: 0.773953\n",
            "\n",
            "\n",
            "Class-wise Accuracy:\n",
            "  Class 2: 76.18%\n",
            "  Class 0: 72.91%\n",
            "  Class 1: 85.62%\n",
            "Train Accuracy: 81.24%, Average Train Loss: 0.470992, Test Accuracy: 78.19%, Average Test Loss: 0.773953\n",
            "\n",
            "Epoch 35/60: "
          ]
        },
        {
          "output_type": "stream",
          "name": "stderr",
          "text": [
            "100%|██████████| 2795/2795 [00:13<00:00, 203.13it/s]\n",
            "Batch 699/699, Loss: 0.702342: 100%|██████████| 699/699 [00:03<00:00, 210.53it/s]\n"
          ]
        },
        {
          "output_type": "stream",
          "name": "stdout",
          "text": [
            "\n",
            "Class-wise Accuracy:\n",
            "  Class 2: 85.06%\n",
            "  Class 0: 61.00%\n",
            "  Class 1: 70.79%\n",
            "Test Accuracy: 72.3%, Test Loss: 0.661457\n",
            "\n",
            "\n",
            "Class-wise Accuracy:\n",
            "  Class 2: 85.06%\n",
            "  Class 0: 61.00%\n",
            "  Class 1: 70.79%\n",
            "Train Accuracy: 81.20%, Average Train Loss: 0.475498, Test Accuracy: 72.35%, Average Test Loss: 0.661457\n",
            "\n",
            "Epoch 36/60: "
          ]
        },
        {
          "output_type": "stream",
          "name": "stderr",
          "text": [
            "100%|██████████| 2795/2795 [00:13<00:00, 203.67it/s]\n",
            "Batch 699/699, Loss: 0.663557: 100%|██████████| 699/699 [00:03<00:00, 200.38it/s]\n"
          ]
        },
        {
          "output_type": "stream",
          "name": "stdout",
          "text": [
            "\n",
            "Class-wise Accuracy:\n",
            "  Class 2: 84.45%\n",
            "  Class 0: 59.73%\n",
            "  Class 1: 72.56%\n",
            "Test Accuracy: 72.3%, Test Loss: 0.660362\n",
            "\n",
            "\n",
            "Class-wise Accuracy:\n",
            "  Class 2: 84.45%\n",
            "  Class 0: 59.73%\n",
            "  Class 1: 72.56%\n",
            "Train Accuracy: 81.93%, Average Train Loss: 0.452326, Test Accuracy: 72.30%, Average Test Loss: 0.660362\n",
            "\n",
            "Epoch 37/60: "
          ]
        },
        {
          "output_type": "stream",
          "name": "stderr",
          "text": [
            "100%|██████████| 2795/2795 [00:13<00:00, 204.08it/s]\n",
            "Batch 699/699, Loss: 0.719527: 100%|██████████| 699/699 [00:03<00:00, 201.94it/s]\n"
          ]
        },
        {
          "output_type": "stream",
          "name": "stdout",
          "text": [
            "\n",
            "Class-wise Accuracy:\n",
            "  Class 2: 81.09%\n",
            "  Class 0: 66.23%\n",
            "  Class 1: 81.71%\n",
            "Test Accuracy: 76.3%, Test Loss: 0.843690\n",
            "\n",
            "\n",
            "Class-wise Accuracy:\n",
            "  Class 2: 81.09%\n",
            "  Class 0: 66.23%\n",
            "  Class 1: 81.71%\n",
            "Train Accuracy: 81.57%, Average Train Loss: 0.471066, Test Accuracy: 76.34%, Average Test Loss: 0.843690\n",
            "\n",
            "Epoch 38/60: "
          ]
        },
        {
          "output_type": "stream",
          "name": "stderr",
          "text": [
            "100%|██████████| 2795/2795 [00:13<00:00, 204.02it/s]\n",
            "Batch 699/699, Loss: 0.682168: 100%|██████████| 699/699 [00:03<00:00, 205.37it/s]\n"
          ]
        },
        {
          "output_type": "stream",
          "name": "stdout",
          "text": [
            "\n",
            "Class-wise Accuracy:\n",
            "  Class 2: 77.71%\n",
            "  Class 0: 69.29%\n",
            "  Class 1: 87.47%\n",
            "Test Accuracy: 78.1%, Test Loss: 0.731296\n",
            "\n",
            "\n",
            "Class-wise Accuracy:\n",
            "  Class 2: 77.71%\n",
            "  Class 0: 69.29%\n",
            "  Class 1: 87.47%\n",
            "Train Accuracy: 82.05%, Average Train Loss: 0.451344, Test Accuracy: 78.11%, Average Test Loss: 0.731296\n",
            "\n",
            "Epoch 39/60: "
          ]
        },
        {
          "output_type": "stream",
          "name": "stderr",
          "text": [
            "100%|██████████| 2795/2795 [00:13<00:00, 204.97it/s]\n",
            "Batch 699/699, Loss: 0.707561: 100%|██████████| 699/699 [00:03<00:00, 213.30it/s]\n"
          ]
        },
        {
          "output_type": "stream",
          "name": "stdout",
          "text": [
            "\n",
            "Class-wise Accuracy:\n",
            "  Class 2: 72.93%\n",
            "  Class 0: 63.25%\n",
            "  Class 1: 92.07%\n",
            "Test Accuracy: 76.0%, Test Loss: 0.655133\n",
            "\n",
            "\n",
            "Class-wise Accuracy:\n",
            "  Class 2: 72.93%\n",
            "  Class 0: 63.25%\n",
            "  Class 1: 92.07%\n",
            "Train Accuracy: 81.92%, Average Train Loss: 0.457132, Test Accuracy: 75.99%, Average Test Loss: 0.655133\n",
            "\n",
            "Epoch 40/60: "
          ]
        },
        {
          "output_type": "stream",
          "name": "stderr",
          "text": [
            "100%|██████████| 2795/2795 [00:13<00:00, 203.56it/s]\n",
            "Batch 699/699, Loss: 0.729953: 100%|██████████| 699/699 [00:03<00:00, 218.46it/s]\n"
          ]
        },
        {
          "output_type": "stream",
          "name": "stdout",
          "text": [
            "\n",
            "Class-wise Accuracy:\n",
            "  Class 2: 83.18%\n",
            "  Class 0: 58.68%\n",
            "  Class 1: 79.49%\n",
            "Test Accuracy: 73.8%, Test Loss: 0.664436\n",
            "\n",
            "\n",
            "Class-wise Accuracy:\n",
            "  Class 2: 83.18%\n",
            "  Class 0: 58.68%\n",
            "  Class 1: 79.49%\n",
            "Train Accuracy: 82.24%, Average Train Loss: 0.449246, Test Accuracy: 73.80%, Average Test Loss: 0.664436\n",
            "\n",
            "Epoch 41/60: "
          ]
        },
        {
          "output_type": "stream",
          "name": "stderr",
          "text": [
            "100%|██████████| 2795/2795 [00:13<00:00, 204.77it/s]\n",
            "Batch 699/699, Loss: 0.790251: 100%|██████████| 699/699 [00:03<00:00, 217.90it/s]\n"
          ]
        },
        {
          "output_type": "stream",
          "name": "stdout",
          "text": [
            "\n",
            "Class-wise Accuracy:\n",
            "  Class 2: 85.84%\n",
            "  Class 0: 48.23%\n",
            "  Class 1: 75.93%\n",
            "Test Accuracy: 70.0%, Test Loss: 0.733836\n",
            "\n",
            "\n",
            "Class-wise Accuracy:\n",
            "  Class 2: 85.84%\n",
            "  Class 0: 48.23%\n",
            "  Class 1: 75.93%\n",
            "Train Accuracy: 82.32%, Average Train Loss: 0.446858, Test Accuracy: 70.04%, Average Test Loss: 0.733836\n",
            "\n",
            "Epoch 42/60: "
          ]
        },
        {
          "output_type": "stream",
          "name": "stderr",
          "text": [
            "100%|██████████| 2795/2795 [00:13<00:00, 203.97it/s]\n",
            "Batch 699/699, Loss: 0.610544: 100%|██████████| 699/699 [00:03<00:00, 215.37it/s]\n"
          ]
        },
        {
          "output_type": "stream",
          "name": "stdout",
          "text": [
            "\n",
            "Class-wise Accuracy:\n",
            "  Class 2: 78.25%\n",
            "  Class 0: 77.56%\n",
            "  Class 1: 90.41%\n",
            "Test Accuracy: 82.0%, Test Loss: 0.681060\n",
            "\n",
            "\n",
            "Class-wise Accuracy:\n",
            "  Class 2: 78.25%\n",
            "  Class 0: 77.56%\n",
            "  Class 1: 90.41%\n",
            "Train Accuracy: 82.33%, Average Train Loss: 0.445559, Test Accuracy: 82.02%, Average Test Loss: 0.681060\n",
            "\n",
            "Epoch 43/60: "
          ]
        },
        {
          "output_type": "stream",
          "name": "stderr",
          "text": [
            "100%|██████████| 2795/2795 [00:13<00:00, 204.42it/s]\n",
            "Batch 699/699, Loss: 0.627255: 100%|██████████| 699/699 [00:03<00:00, 217.94it/s]\n"
          ]
        },
        {
          "output_type": "stream",
          "name": "stdout",
          "text": [
            "\n",
            "Class-wise Accuracy:\n",
            "  Class 2: 85.46%\n",
            "  Class 0: 63.90%\n",
            "  Class 1: 81.85%\n",
            "Test Accuracy: 77.1%, Test Loss: 0.633426\n",
            "\n",
            "\n",
            "Class-wise Accuracy:\n",
            "  Class 2: 85.46%\n",
            "  Class 0: 63.90%\n",
            "  Class 1: 81.85%\n",
            "Train Accuracy: 83.08%, Average Train Loss: 0.429887, Test Accuracy: 77.08%, Average Test Loss: 0.633426\n",
            "\n",
            "Epoch 44/60: "
          ]
        },
        {
          "output_type": "stream",
          "name": "stderr",
          "text": [
            "100%|██████████| 2795/2795 [00:13<00:00, 204.36it/s]\n",
            "Batch 699/699, Loss: 0.821544: 100%|██████████| 699/699 [00:03<00:00, 212.76it/s]\n"
          ]
        },
        {
          "output_type": "stream",
          "name": "stdout",
          "text": [
            "\n",
            "Class-wise Accuracy:\n",
            "  Class 2: 62.63%\n",
            "  Class 0: 53.68%\n",
            "  Class 1: 93.89%\n",
            "Test Accuracy: 69.9%, Test Loss: 0.831536\n",
            "\n",
            "\n",
            "Class-wise Accuracy:\n",
            "  Class 2: 62.63%\n",
            "  Class 0: 53.68%\n",
            "  Class 1: 93.89%\n",
            "Train Accuracy: 82.68%, Average Train Loss: 0.439392, Test Accuracy: 69.92%, Average Test Loss: 0.831536\n",
            "\n",
            "Epoch 45/60: "
          ]
        },
        {
          "output_type": "stream",
          "name": "stderr",
          "text": [
            "100%|██████████| 2795/2795 [00:13<00:00, 203.43it/s]\n",
            "Batch 699/699, Loss: 0.696127: 100%|██████████| 699/699 [00:04<00:00, 164.86it/s]\n"
          ]
        },
        {
          "output_type": "stream",
          "name": "stdout",
          "text": [
            "\n",
            "Class-wise Accuracy:\n",
            "  Class 2: 77.45%\n",
            "  Class 0: 78.66%\n",
            "  Class 1: 85.51%\n",
            "Test Accuracy: 80.5%, Test Loss: 0.692405\n",
            "\n",
            "\n",
            "Class-wise Accuracy:\n",
            "  Class 2: 77.45%\n",
            "  Class 0: 78.66%\n",
            "  Class 1: 85.51%\n",
            "Train Accuracy: 82.84%, Average Train Loss: 0.429906, Test Accuracy: 80.50%, Average Test Loss: 0.692405\n",
            "\n",
            "Epoch 46/60: "
          ]
        },
        {
          "output_type": "stream",
          "name": "stderr",
          "text": [
            "100%|██████████| 2795/2795 [00:13<00:00, 204.34it/s]\n",
            "Batch 699/699, Loss: 0.686426: 100%|██████████| 699/699 [00:03<00:00, 207.37it/s]\n"
          ]
        },
        {
          "output_type": "stream",
          "name": "stdout",
          "text": [
            "\n",
            "Class-wise Accuracy:\n",
            "  Class 2: 74.22%\n",
            "  Class 0: 75.93%\n",
            "  Class 1: 90.16%\n",
            "Test Accuracy: 80.0%, Test Loss: 0.622430\n",
            "\n",
            "\n",
            "Class-wise Accuracy:\n",
            "  Class 2: 74.22%\n",
            "  Class 0: 75.93%\n",
            "  Class 1: 90.16%\n",
            "Train Accuracy: 83.14%, Average Train Loss: 0.424724, Test Accuracy: 80.03%, Average Test Loss: 0.622430\n",
            "\n",
            "Epoch 47/60: "
          ]
        },
        {
          "output_type": "stream",
          "name": "stderr",
          "text": [
            "100%|██████████| 2795/2795 [00:13<00:00, 205.18it/s]\n",
            "Batch 699/699, Loss: 0.743112: 100%|██████████| 699/699 [00:03<00:00, 206.30it/s]\n"
          ]
        },
        {
          "output_type": "stream",
          "name": "stdout",
          "text": [
            "\n",
            "Class-wise Accuracy:\n",
            "  Class 2: 74.15%\n",
            "  Class 0: 71.53%\n",
            "  Class 1: 89.29%\n",
            "Test Accuracy: 78.3%, Test Loss: 0.665468\n",
            "\n",
            "\n",
            "Class-wise Accuracy:\n",
            "  Class 2: 74.15%\n",
            "  Class 0: 71.53%\n",
            "  Class 1: 89.29%\n",
            "Train Accuracy: 83.29%, Average Train Loss: 0.423708, Test Accuracy: 78.25%, Average Test Loss: 0.665468\n",
            "\n",
            "Epoch 48/60: "
          ]
        },
        {
          "output_type": "stream",
          "name": "stderr",
          "text": [
            "100%|██████████| 2795/2795 [00:13<00:00, 204.12it/s]\n",
            "Batch 699/699, Loss: 0.666196: 100%|██████████| 699/699 [00:03<00:00, 208.82it/s]\n"
          ]
        },
        {
          "output_type": "stream",
          "name": "stdout",
          "text": [
            "\n",
            "Class-wise Accuracy:\n",
            "  Class 2: 81.26%\n",
            "  Class 0: 69.77%\n",
            "  Class 1: 84.12%\n",
            "Test Accuracy: 78.4%, Test Loss: 0.702084\n",
            "\n",
            "\n",
            "Class-wise Accuracy:\n",
            "  Class 2: 81.26%\n",
            "  Class 0: 69.77%\n",
            "  Class 1: 84.12%\n",
            "Train Accuracy: 83.47%, Average Train Loss: 0.419782, Test Accuracy: 78.37%, Average Test Loss: 0.702084\n",
            "\n",
            "Epoch 49/60: "
          ]
        },
        {
          "output_type": "stream",
          "name": "stderr",
          "text": [
            "100%|██████████| 2795/2795 [00:13<00:00, 205.42it/s]\n",
            "Batch 699/699, Loss: 0.669144: 100%|██████████| 699/699 [00:03<00:00, 210.40it/s]\n"
          ]
        },
        {
          "output_type": "stream",
          "name": "stdout",
          "text": [
            "\n",
            "Class-wise Accuracy:\n",
            "  Class 2: 77.14%\n",
            "  Class 0: 75.58%\n",
            "  Class 1: 88.35%\n",
            "Test Accuracy: 80.3%, Test Loss: 0.656055\n",
            "\n",
            "\n",
            "Class-wise Accuracy:\n",
            "  Class 2: 77.14%\n",
            "  Class 0: 75.58%\n",
            "  Class 1: 88.35%\n",
            "Train Accuracy: 83.36%, Average Train Loss: 0.423185, Test Accuracy: 80.31%, Average Test Loss: 0.656055\n",
            "\n",
            "Epoch 50/60: "
          ]
        },
        {
          "output_type": "stream",
          "name": "stderr",
          "text": [
            "100%|██████████| 2795/2795 [00:13<00:00, 206.19it/s]\n",
            "Batch 699/699, Loss: 0.702993: 100%|██████████| 699/699 [00:03<00:00, 216.64it/s]\n"
          ]
        },
        {
          "output_type": "stream",
          "name": "stdout",
          "text": [
            "\n",
            "Class-wise Accuracy:\n",
            "  Class 2: 87.60%\n",
            "  Class 0: 55.08%\n",
            "  Class 1: 69.75%\n",
            "Test Accuracy: 70.9%, Test Loss: 0.697196\n",
            "\n",
            "\n",
            "Class-wise Accuracy:\n",
            "  Class 2: 87.60%\n",
            "  Class 0: 55.08%\n",
            "  Class 1: 69.75%\n",
            "Train Accuracy: 83.55%, Average Train Loss: 0.420182, Test Accuracy: 70.89%, Average Test Loss: 0.697196\n",
            "\n",
            "Epoch 51/60: "
          ]
        },
        {
          "output_type": "stream",
          "name": "stderr",
          "text": [
            "100%|██████████| 2795/2795 [00:13<00:00, 205.29it/s]\n",
            "Batch 699/699, Loss: 0.686269: 100%|██████████| 699/699 [00:03<00:00, 219.59it/s]\n"
          ]
        },
        {
          "output_type": "stream",
          "name": "stdout",
          "text": [
            "\n",
            "Class-wise Accuracy:\n",
            "  Class 2: 78.41%\n",
            "  Class 0: 76.88%\n",
            "  Class 1: 86.54%\n",
            "Test Accuracy: 80.6%, Test Loss: 0.681991\n",
            "\n",
            "\n",
            "Class-wise Accuracy:\n",
            "  Class 2: 78.41%\n",
            "  Class 0: 76.88%\n",
            "  Class 1: 86.54%\n",
            "Train Accuracy: 83.49%, Average Train Loss: 0.418729, Test Accuracy: 80.58%, Average Test Loss: 0.681991\n",
            "\n",
            "Epoch 52/60: "
          ]
        },
        {
          "output_type": "stream",
          "name": "stderr",
          "text": [
            "100%|██████████| 2795/2795 [00:13<00:00, 205.22it/s]\n",
            "Batch 699/699, Loss: 0.690460: 100%|██████████| 699/699 [00:03<00:00, 216.20it/s]\n"
          ]
        },
        {
          "output_type": "stream",
          "name": "stdout",
          "text": [
            "\n",
            "Class-wise Accuracy:\n",
            "  Class 2: 75.35%\n",
            "  Class 0: 74.89%\n",
            "  Class 1: 91.83%\n",
            "Test Accuracy: 80.6%, Test Loss: 0.582058\n",
            "\n",
            "\n",
            "Class-wise Accuracy:\n",
            "  Class 2: 75.35%\n",
            "  Class 0: 74.89%\n",
            "  Class 1: 91.83%\n",
            "Train Accuracy: 83.39%, Average Train Loss: 0.419864, Test Accuracy: 80.62%, Average Test Loss: 0.582058\n",
            "\n",
            "Epoch 53/60: "
          ]
        },
        {
          "output_type": "stream",
          "name": "stderr",
          "text": [
            "100%|██████████| 2795/2795 [00:13<00:00, 204.80it/s]\n",
            "Batch 699/699, Loss: 0.658282: 100%|██████████| 699/699 [00:03<00:00, 217.14it/s]\n"
          ]
        },
        {
          "output_type": "stream",
          "name": "stdout",
          "text": [
            "\n",
            "Class-wise Accuracy:\n",
            "  Class 2: 79.26%\n",
            "  Class 0: 81.39%\n",
            "  Class 1: 87.83%\n",
            "Test Accuracy: 82.8%, Test Loss: 0.658308\n",
            "\n",
            "\n",
            "Class-wise Accuracy:\n",
            "  Class 2: 79.26%\n",
            "  Class 0: 81.39%\n",
            "  Class 1: 87.83%\n",
            "Train Accuracy: 83.63%, Average Train Loss: 0.412301, Test Accuracy: 82.79%, Average Test Loss: 0.658308\n",
            "\n",
            "Epoch 54/60: "
          ]
        },
        {
          "output_type": "stream",
          "name": "stderr",
          "text": [
            "100%|██████████| 2795/2795 [00:13<00:00, 203.84it/s]\n",
            "Batch 699/699, Loss: 0.688454: 100%|██████████| 699/699 [00:03<00:00, 214.64it/s]\n"
          ]
        },
        {
          "output_type": "stream",
          "name": "stdout",
          "text": [
            "\n",
            "Class-wise Accuracy:\n",
            "  Class 2: 81.64%\n",
            "  Class 0: 60.14%\n",
            "  Class 1: 90.08%\n",
            "Test Accuracy: 77.2%, Test Loss: 0.628415\n",
            "\n",
            "\n",
            "Class-wise Accuracy:\n",
            "  Class 2: 81.64%\n",
            "  Class 0: 60.14%\n",
            "  Class 1: 90.08%\n",
            "Train Accuracy: 83.82%, Average Train Loss: 0.411670, Test Accuracy: 77.25%, Average Test Loss: 0.628415\n",
            "\n",
            "Epoch 55/60: "
          ]
        },
        {
          "output_type": "stream",
          "name": "stderr",
          "text": [
            "100%|██████████| 2795/2795 [00:13<00:00, 204.19it/s]\n",
            "Batch 699/699, Loss: 0.708774: 100%|██████████| 699/699 [00:03<00:00, 211.68it/s]\n"
          ]
        },
        {
          "output_type": "stream",
          "name": "stdout",
          "text": [
            "\n",
            "Class-wise Accuracy:\n",
            "  Class 2: 70.12%\n",
            "  Class 0: 72.14%\n",
            "  Class 1: 95.39%\n",
            "Test Accuracy: 79.1%, Test Loss: 0.694490\n",
            "\n",
            "\n",
            "Class-wise Accuracy:\n",
            "  Class 2: 70.12%\n",
            "  Class 0: 72.14%\n",
            "  Class 1: 95.39%\n",
            "Train Accuracy: 83.66%, Average Train Loss: 0.414151, Test Accuracy: 79.10%, Average Test Loss: 0.694490\n",
            "\n",
            "Epoch 56/60: "
          ]
        },
        {
          "output_type": "stream",
          "name": "stderr",
          "text": [
            "100%|██████████| 2795/2795 [00:13<00:00, 204.05it/s]\n",
            "Batch 699/699, Loss: 0.707258: 100%|██████████| 699/699 [00:03<00:00, 217.73it/s]\n"
          ]
        },
        {
          "output_type": "stream",
          "name": "stdout",
          "text": [
            "\n",
            "Class-wise Accuracy:\n",
            "  Class 2: 88.21%\n",
            "  Class 0: 55.98%\n",
            "  Class 1: 65.36%\n",
            "Test Accuracy: 70.0%, Test Loss: 0.686115\n",
            "\n",
            "\n",
            "Class-wise Accuracy:\n",
            "  Class 2: 88.21%\n",
            "  Class 0: 55.98%\n",
            "  Class 1: 65.36%\n",
            "Train Accuracy: 83.82%, Average Train Loss: 0.410588, Test Accuracy: 69.95%, Average Test Loss: 0.686115\n",
            "\n",
            "Epoch 57/60: "
          ]
        },
        {
          "output_type": "stream",
          "name": "stderr",
          "text": [
            "100%|██████████| 2795/2795 [00:13<00:00, 202.87it/s]\n",
            "Batch 699/699, Loss: 0.672198: 100%|██████████| 699/699 [00:03<00:00, 213.86it/s]\n"
          ]
        },
        {
          "output_type": "stream",
          "name": "stdout",
          "text": [
            "\n",
            "Class-wise Accuracy:\n",
            "  Class 2: 80.39%\n",
            "  Class 0: 73.80%\n",
            "  Class 1: 85.03%\n",
            "Test Accuracy: 79.7%, Test Loss: 0.581667\n",
            "\n",
            "\n",
            "Class-wise Accuracy:\n",
            "  Class 2: 80.39%\n",
            "  Class 0: 73.80%\n",
            "  Class 1: 85.03%\n",
            "Train Accuracy: 83.88%, Average Train Loss: 0.408718, Test Accuracy: 79.72%, Average Test Loss: 0.581667\n",
            "\n",
            "Epoch 58/60: "
          ]
        },
        {
          "output_type": "stream",
          "name": "stderr",
          "text": [
            "100%|██████████| 2795/2795 [00:13<00:00, 203.82it/s]\n",
            "Batch 699/699, Loss: 0.619980: 100%|██████████| 699/699 [00:03<00:00, 216.79it/s]\n"
          ]
        },
        {
          "output_type": "stream",
          "name": "stdout",
          "text": [
            "\n",
            "Class-wise Accuracy:\n",
            "  Class 2: 84.65%\n",
            "  Class 0: 70.23%\n",
            "  Class 1: 84.73%\n",
            "Test Accuracy: 79.9%, Test Loss: 0.604436\n",
            "\n",
            "\n",
            "Class-wise Accuracy:\n",
            "  Class 2: 84.65%\n",
            "  Class 0: 70.23%\n",
            "  Class 1: 84.73%\n",
            "Train Accuracy: 83.74%, Average Train Loss: 0.407931, Test Accuracy: 79.87%, Average Test Loss: 0.604436\n",
            "\n",
            "Epoch 59/60: "
          ]
        },
        {
          "output_type": "stream",
          "name": "stderr",
          "text": [
            "100%|██████████| 2795/2795 [00:13<00:00, 203.53it/s]\n",
            "Batch 699/699, Loss: 0.733712: 100%|██████████| 699/699 [00:03<00:00, 218.46it/s]\n"
          ]
        },
        {
          "output_type": "stream",
          "name": "stdout",
          "text": [
            "\n",
            "Class-wise Accuracy:\n",
            "  Class 2: 75.16%\n",
            "  Class 0: 79.31%\n",
            "  Class 1: 87.92%\n",
            "Test Accuracy: 80.7%, Test Loss: 0.656051\n",
            "\n",
            "\n",
            "Class-wise Accuracy:\n",
            "  Class 2: 75.16%\n",
            "  Class 0: 79.31%\n",
            "  Class 1: 87.92%\n",
            "Train Accuracy: 83.65%, Average Train Loss: 0.406217, Test Accuracy: 80.74%, Average Test Loss: 0.656051\n",
            "\n",
            "Early stopping triggered after 60 epochs.\n"
          ]
        },
        {
          "output_type": "display_data",
          "data": {
            "text/plain": [
              "<IPython.core.display.HTML object>"
            ],
            "text/html": []
          },
          "metadata": {}
        },
        {
          "output_type": "display_data",
          "data": {
            "text/plain": [
              "<IPython.core.display.HTML object>"
            ],
            "text/html": [
              "<br>    <style><br>        .wandb-row {<br>            display: flex;<br>            flex-direction: row;<br>            flex-wrap: wrap;<br>            justify-content: flex-start;<br>            width: 100%;<br>        }<br>        .wandb-col {<br>            display: flex;<br>            flex-direction: column;<br>            flex-basis: 100%;<br>            flex: 1;<br>            padding: 10px;<br>        }<br>    </style><br><div class=\"wandb-row\"><div class=\"wandb-col\"><h3>Run history:</h3><br/><table class=\"wandb\"><tr><td>class_0_accuracy</td><td>▁▁▁▃▃▂▄▆▆▆▅▇▅▇▇▆▇▄▇▇▄▇▆▆▇▆▅█▆▆█▇▇▇▆▇█▇▇█</td></tr><tr><td>class_1_accuracy</td><td>█▇█▆█▇▆▇▇█▅▄▄▅▁▆▅▅▇▆▆▇▇▄▅▃▅▆▄▄▅▇▆▅▃▇▇▂▅▆</td></tr><tr><td>class_2_accuracy</td><td>▂▄▁▅▄▅▆▅▃▇▇▇▆▆▇▇▇▇▇▆▇▇▇▇█▇▇███▇▇▇▇▇▇▇█▇▇</td></tr><tr><td>epoch</td><td>▁▁▁▁▁▂▂▂▂▂▃▃▃▃▃▄▄▄▄▄▄▅▅▅▅▅▅▅▆▆▆▆▆▇▇▇▇███</td></tr><tr><td>learning_rate</td><td>████████▇▇▇▆▆▆▆▆▅▅▅▅▄▄▄▄▃▃▃▃▂▂▂▂▂▁▁▁▁▁▁▁</td></tr><tr><td>test_accuracy</td><td>▁▁▃▂▄▁▃▅▄▄▆▆▅▆▄▇▆▇▇▇▆▅███▆▇▇▇▇▇▆███▇█▆▆█</td></tr><tr><td>test_loss</td><td>▇█▇█▇▇▆▃▄▃▃▆▃▃▅▂▄▂▄▆▃▁▄▃▂▄▃▂▂▃▂▁▂▂▂▂▂▂▁▂</td></tr><tr><td>train_accuracy</td><td>▁▂▃▃▃▄▄▅▅▄▅▆▆▆▆▇▇▇▇▇▇▇▇█▇███████████████</td></tr><tr><td>train_loss</td><td>█▇▆▆▆▅▄▄▄▄▃▃▃▃▃▂▂▂▂▂▂▂▂▂▂▂▂▂▁▁▁▁▁▁▁▁▁▁▁▁</td></tr></table><br/></div><div class=\"wandb-col\"><h3>Run summary:</h3><br/><table class=\"wandb\"><tr><td>class_0_accuracy</td><td>79.31312</td></tr><tr><td>class_1_accuracy</td><td>87.91508</td></tr><tr><td>class_2_accuracy</td><td>75.15561</td></tr><tr><td>epoch</td><td>59</td></tr><tr><td>learning_rate</td><td>0</td></tr><tr><td>test_accuracy</td><td>80.73637</td></tr><tr><td>test_loss</td><td>0.65605</td></tr><tr><td>train_accuracy</td><td>83.64594</td></tr><tr><td>train_loss</td><td>0.40622</td></tr></table><br/></div></div>"
            ]
          },
          "metadata": {}
        },
        {
          "output_type": "display_data",
          "data": {
            "text/plain": [
              "<IPython.core.display.HTML object>"
            ],
            "text/html": [
              " View run <strong style=\"color:#cdcd00\">ShallowAttentionNet 99999</strong> at: <a href='https://wandb.ai/philinthesky/Master%20Thesis/runs/0sam3510' target=\"_blank\">https://wandb.ai/philinthesky/Master%20Thesis/runs/0sam3510</a><br> View project at: <a href='https://wandb.ai/philinthesky/Master%20Thesis' target=\"_blank\">https://wandb.ai/philinthesky/Master%20Thesis</a><br>Synced 5 W&B file(s), 0 media file(s), 0 artifact file(s) and 0 other file(s)"
            ]
          },
          "metadata": {}
        },
        {
          "output_type": "display_data",
          "data": {
            "text/plain": [
              "<IPython.core.display.HTML object>"
            ],
            "text/html": [
              "Find logs at: <code>./wandb/run-20250330_132757-0sam3510/logs</code>"
            ]
          },
          "metadata": {}
        },
        {
          "output_type": "stream",
          "name": "stdout",
          "text": [
            "ShallowAttentionNet(\n",
            "  (temporal): Conv2d(1, 10, kernel_size=(1, 25), stride=(1, 1))\n",
            "  (spatial_att): SpatialAttention(\n",
            "    (conv): Conv2d(10, 10, kernel_size=(1, 1), stride=(1, 1), bias=False)\n",
            "    (pool): MaxPool2d(kernel_size=(1, 5), stride=(1, 5), padding=0, dilation=1, ceil_mode=False)\n",
            "  )\n",
            "  (batch_norm): BatchNorm2d(10, eps=1e-05, momentum=0.1, affine=True, track_running_stats=True)\n",
            "  (pool): AvgPool2d(kernel_size=(1, 20), stride=(1, 20), padding=0)\n",
            "  (dropout): Dropout(p=0.5, inplace=False)\n",
            "  (fc): Linear(in_features=960, out_features=3, bias=True)\n",
            ")\n"
          ]
        },
        {
          "output_type": "display_data",
          "data": {
            "text/plain": [
              "<IPython.core.display.HTML object>"
            ],
            "text/html": [
              "Tracking run with wandb version 0.19.8"
            ]
          },
          "metadata": {}
        },
        {
          "output_type": "display_data",
          "data": {
            "text/plain": [
              "<IPython.core.display.HTML object>"
            ],
            "text/html": [
              "Run data is saved locally in <code>/content/wandb/run-20250330_134510-pv1rmwir</code>"
            ]
          },
          "metadata": {}
        },
        {
          "output_type": "display_data",
          "data": {
            "text/plain": [
              "<IPython.core.display.HTML object>"
            ],
            "text/html": [
              "Syncing run <strong><a href='https://wandb.ai/philinthesky/Master%20Thesis/runs/pv1rmwir' target=\"_blank\">ShallowAttentionNet 182726</a></strong> to <a href='https://wandb.ai/philinthesky/Master%20Thesis' target=\"_blank\">Weights & Biases</a> (<a href='https://wandb.me/developer-guide' target=\"_blank\">docs</a>)<br>"
            ]
          },
          "metadata": {}
        },
        {
          "output_type": "display_data",
          "data": {
            "text/plain": [
              "<IPython.core.display.HTML object>"
            ],
            "text/html": [
              " View project at <a href='https://wandb.ai/philinthesky/Master%20Thesis' target=\"_blank\">https://wandb.ai/philinthesky/Master%20Thesis</a>"
            ]
          },
          "metadata": {}
        },
        {
          "output_type": "display_data",
          "data": {
            "text/plain": [
              "<IPython.core.display.HTML object>"
            ],
            "text/html": [
              " View run at <a href='https://wandb.ai/philinthesky/Master%20Thesis/runs/pv1rmwir' target=\"_blank\">https://wandb.ai/philinthesky/Master%20Thesis/runs/pv1rmwir</a>"
            ]
          },
          "metadata": {}
        },
        {
          "output_type": "stream",
          "name": "stdout",
          "text": [
            "Epoch 1/60: "
          ]
        },
        {
          "output_type": "stream",
          "name": "stderr",
          "text": [
            "100%|██████████| 2795/2795 [00:13<00:00, 203.73it/s]\n",
            "Batch 699/699, Loss: 1.066401: 100%|██████████| 699/699 [00:03<00:00, 211.84it/s]\n"
          ]
        },
        {
          "output_type": "stream",
          "name": "stdout",
          "text": [
            "\n",
            "Class-wise Accuracy:\n",
            "  Class 2: 62.83%\n",
            "  Class 0: 1.70%\n",
            "  Class 1: 59.39%\n",
            "Test Accuracy: 41.3%, Test Loss: 1.101017\n",
            "\n",
            "\n",
            "Class-wise Accuracy:\n",
            "  Class 2: 62.83%\n",
            "  Class 0: 1.70%\n",
            "  Class 1: 59.39%\n",
            "Train Accuracy: 56.05%, Average Train Loss: 0.959816, Test Accuracy: 41.31%, Average Test Loss: 1.101017\n",
            "\n",
            "Epoch 2/60: "
          ]
        },
        {
          "output_type": "stream",
          "name": "stderr",
          "text": [
            "100%|██████████| 2795/2795 [00:13<00:00, 201.35it/s]\n",
            "Batch 699/699, Loss: 1.077134: 100%|██████████| 699/699 [00:03<00:00, 222.22it/s]\n"
          ]
        },
        {
          "output_type": "stream",
          "name": "stdout",
          "text": [
            "\n",
            "Class-wise Accuracy:\n",
            "  Class 2: 16.83%\n",
            "  Class 0: 10.84%\n",
            "  Class 1: 97.07%\n",
            "Test Accuracy: 41.2%, Test Loss: 1.180440\n",
            "\n",
            "\n",
            "Class-wise Accuracy:\n",
            "  Class 2: 16.83%\n",
            "  Class 0: 10.84%\n",
            "  Class 1: 97.07%\n",
            "Train Accuracy: 61.96%, Average Train Loss: 0.849027, Test Accuracy: 41.21%, Average Test Loss: 1.180440\n",
            "\n",
            "Epoch 3/60: "
          ]
        },
        {
          "output_type": "stream",
          "name": "stderr",
          "text": [
            "100%|██████████| 2795/2795 [00:13<00:00, 203.63it/s]\n",
            "Batch 699/699, Loss: 1.037889: 100%|██████████| 699/699 [00:03<00:00, 211.84it/s]\n"
          ]
        },
        {
          "output_type": "stream",
          "name": "stdout",
          "text": [
            "\n",
            "Class-wise Accuracy:\n",
            "  Class 2: 49.81%\n",
            "  Class 0: 2.13%\n",
            "  Class 1: 94.62%\n",
            "Test Accuracy: 48.6%, Test Loss: 1.098785\n",
            "\n",
            "\n",
            "Class-wise Accuracy:\n",
            "  Class 2: 49.81%\n",
            "  Class 0: 2.13%\n",
            "  Class 1: 94.62%\n",
            "Train Accuracy: 63.35%, Average Train Loss: 0.823365, Test Accuracy: 48.64%, Average Test Loss: 1.098785\n",
            "\n",
            "Epoch 4/60: "
          ]
        },
        {
          "output_type": "stream",
          "name": "stderr",
          "text": [
            "100%|██████████| 2795/2795 [00:13<00:00, 204.67it/s]\n",
            "Batch 699/699, Loss: 1.076888: 100%|██████████| 699/699 [00:03<00:00, 221.66it/s]\n"
          ]
        },
        {
          "output_type": "stream",
          "name": "stdout",
          "text": [
            "\n",
            "Class-wise Accuracy:\n",
            "  Class 2: 1.38%\n",
            "  Class 0: 0.89%\n",
            "  Class 1: 99.31%\n",
            "Test Accuracy: 33.4%, Test Loss: 1.113483\n",
            "\n",
            "\n",
            "Class-wise Accuracy:\n",
            "  Class 2: 1.38%\n",
            "  Class 0: 0.89%\n",
            "  Class 1: 99.31%\n",
            "Train Accuracy: 63.98%, Average Train Loss: 0.822434, Test Accuracy: 33.40%, Average Test Loss: 1.113483\n",
            "\n",
            "Epoch 5/60: "
          ]
        },
        {
          "output_type": "stream",
          "name": "stderr",
          "text": [
            "100%|██████████| 2795/2795 [00:13<00:00, 205.72it/s]\n",
            "Batch 699/699, Loss: 1.060262: 100%|██████████| 699/699 [00:03<00:00, 218.25it/s]\n"
          ]
        },
        {
          "output_type": "stream",
          "name": "stdout",
          "text": [
            "\n",
            "Class-wise Accuracy:\n",
            "  Class 2: 9.23%\n",
            "  Class 0: 3.53%\n",
            "  Class 1: 99.39%\n",
            "Test Accuracy: 37.0%, Test Loss: 1.083201\n",
            "\n",
            "\n",
            "Class-wise Accuracy:\n",
            "  Class 2: 9.23%\n",
            "  Class 0: 3.53%\n",
            "  Class 1: 99.39%\n",
            "Train Accuracy: 67.15%, Average Train Loss: 0.759391, Test Accuracy: 36.97%, Average Test Loss: 1.083201\n",
            "\n",
            "Epoch 6/60: "
          ]
        },
        {
          "output_type": "stream",
          "name": "stderr",
          "text": [
            "100%|██████████| 2795/2795 [00:13<00:00, 205.39it/s]\n",
            "Batch 699/699, Loss: 1.033788: 100%|██████████| 699/699 [00:03<00:00, 216.30it/s]\n"
          ]
        },
        {
          "output_type": "stream",
          "name": "stdout",
          "text": [
            "\n",
            "Class-wise Accuracy:\n",
            "  Class 2: 41.84%\n",
            "  Class 0: 16.55%\n",
            "  Class 1: 94.87%\n",
            "Test Accuracy: 50.8%, Test Loss: 1.129092\n",
            "\n",
            "\n",
            "Class-wise Accuracy:\n",
            "  Class 2: 41.84%\n",
            "  Class 0: 16.55%\n",
            "  Class 1: 94.87%\n",
            "Train Accuracy: 69.28%, Average Train Loss: 0.726035, Test Accuracy: 50.84%, Average Test Loss: 1.129092\n",
            "\n",
            "Epoch 7/60: "
          ]
        },
        {
          "output_type": "stream",
          "name": "stderr",
          "text": [
            "100%|██████████| 2795/2795 [00:13<00:00, 202.96it/s]\n",
            "Batch 699/699, Loss: 0.933509: 100%|██████████| 699/699 [00:03<00:00, 219.12it/s]\n"
          ]
        },
        {
          "output_type": "stream",
          "name": "stdout",
          "text": [
            "\n",
            "Class-wise Accuracy:\n",
            "  Class 2: 57.56%\n",
            "  Class 0: 49.75%\n",
            "  Class 1: 73.90%\n",
            "Test Accuracy: 60.3%, Test Loss: 1.072475\n",
            "\n",
            "\n",
            "Class-wise Accuracy:\n",
            "  Class 2: 57.56%\n",
            "  Class 0: 49.75%\n",
            "  Class 1: 73.90%\n",
            "Train Accuracy: 67.79%, Average Train Loss: 0.747395, Test Accuracy: 60.32%, Average Test Loss: 1.072475\n",
            "\n",
            "Epoch 8/60: "
          ]
        },
        {
          "output_type": "stream",
          "name": "stderr",
          "text": [
            "100%|██████████| 2795/2795 [00:13<00:00, 204.02it/s]\n",
            "Batch 699/699, Loss: 0.966758: 100%|██████████| 699/699 [00:03<00:00, 218.76it/s]\n"
          ]
        },
        {
          "output_type": "stream",
          "name": "stdout",
          "text": [
            "\n",
            "Class-wise Accuracy:\n",
            "  Class 2: 64.60%\n",
            "  Class 0: 13.48%\n",
            "  Class 1: 87.22%\n",
            "Test Accuracy: 55.0%, Test Loss: 1.126163\n",
            "\n",
            "\n",
            "Class-wise Accuracy:\n",
            "  Class 2: 64.60%\n",
            "  Class 0: 13.48%\n",
            "  Class 1: 87.22%\n",
            "Train Accuracy: 70.29%, Average Train Loss: 0.701650, Test Accuracy: 54.99%, Average Test Loss: 1.126163\n",
            "\n",
            "Epoch 9/60: "
          ]
        },
        {
          "output_type": "stream",
          "name": "stderr",
          "text": [
            "100%|██████████| 2795/2795 [00:13<00:00, 204.51it/s]\n",
            "Batch 699/699, Loss: 1.043872: 100%|██████████| 699/699 [00:03<00:00, 215.85it/s]\n"
          ]
        },
        {
          "output_type": "stream",
          "name": "stdout",
          "text": [
            "\n",
            "Class-wise Accuracy:\n",
            "  Class 2: 64.43%\n",
            "  Class 0: 65.58%\n",
            "  Class 1: 59.70%\n",
            "Test Accuracy: 63.3%, Test Loss: 0.930529\n",
            "\n",
            "\n",
            "Class-wise Accuracy:\n",
            "  Class 2: 64.43%\n",
            "  Class 0: 65.58%\n",
            "  Class 1: 59.70%\n",
            "Train Accuracy: 70.89%, Average Train Loss: 0.682869, Test Accuracy: 63.26%, Average Test Loss: 0.930529\n",
            "\n",
            "Epoch 10/60: "
          ]
        },
        {
          "output_type": "stream",
          "name": "stderr",
          "text": [
            "100%|██████████| 2795/2795 [00:13<00:00, 205.79it/s]\n",
            "Batch 699/699, Loss: 0.734564: 100%|██████████| 699/699 [00:03<00:00, 217.06it/s]\n"
          ]
        },
        {
          "output_type": "stream",
          "name": "stdout",
          "text": [
            "\n",
            "Class-wise Accuracy:\n",
            "  Class 2: 67.63%\n",
            "  Class 0: 66.45%\n",
            "  Class 1: 91.36%\n",
            "Test Accuracy: 75.0%, Test Loss: 1.100501\n",
            "\n",
            "\n",
            "Class-wise Accuracy:\n",
            "  Class 2: 67.63%\n",
            "  Class 0: 66.45%\n",
            "  Class 1: 91.36%\n",
            "Train Accuracy: 73.74%, Average Train Loss: 0.636598, Test Accuracy: 75.04%, Average Test Loss: 1.100501\n",
            "\n",
            "Epoch 11/60: "
          ]
        },
        {
          "output_type": "stream",
          "name": "stderr",
          "text": [
            "100%|██████████| 2795/2795 [00:13<00:00, 204.87it/s]\n",
            "Batch 699/699, Loss: 1.004254: 100%|██████████| 699/699 [00:03<00:00, 221.37it/s]\n"
          ]
        },
        {
          "output_type": "stream",
          "name": "stdout",
          "text": [
            "\n",
            "Class-wise Accuracy:\n",
            "  Class 2: 42.82%\n",
            "  Class 0: 11.43%\n",
            "  Class 1: 97.56%\n",
            "Test Accuracy: 50.3%, Test Loss: 1.028945\n",
            "\n",
            "\n",
            "Class-wise Accuracy:\n",
            "  Class 2: 42.82%\n",
            "  Class 0: 11.43%\n",
            "  Class 1: 97.56%\n",
            "Train Accuracy: 74.46%, Average Train Loss: 0.624372, Test Accuracy: 50.35%, Average Test Loss: 1.028945\n",
            "\n",
            "Epoch 12/60: "
          ]
        },
        {
          "output_type": "stream",
          "name": "stderr",
          "text": [
            "100%|██████████| 2795/2795 [00:13<00:00, 204.64it/s]\n",
            "Batch 699/699, Loss: 0.849347: 100%|██████████| 699/699 [00:03<00:00, 221.80it/s]\n"
          ]
        },
        {
          "output_type": "stream",
          "name": "stdout",
          "text": [
            "\n",
            "Class-wise Accuracy:\n",
            "  Class 2: 79.62%\n",
            "  Class 0: 57.06%\n",
            "  Class 1: 76.32%\n",
            "Test Accuracy: 71.0%, Test Loss: 1.365953\n",
            "\n",
            "\n",
            "Class-wise Accuracy:\n",
            "  Class 2: 79.62%\n",
            "  Class 0: 57.06%\n",
            "  Class 1: 76.32%\n",
            "Train Accuracy: 75.58%, Average Train Loss: 0.594299, Test Accuracy: 71.01%, Average Test Loss: 1.365953\n",
            "\n",
            "Epoch 13/60: "
          ]
        },
        {
          "output_type": "stream",
          "name": "stderr",
          "text": [
            "100%|██████████| 2795/2795 [00:13<00:00, 205.20it/s]\n",
            "Batch 699/699, Loss: 0.971029: 100%|██████████| 699/699 [00:03<00:00, 217.93it/s]\n"
          ]
        },
        {
          "output_type": "stream",
          "name": "stdout",
          "text": [
            "\n",
            "Class-wise Accuracy:\n",
            "  Class 2: 57.83%\n",
            "  Class 0: 12.05%\n",
            "  Class 1: 90.68%\n",
            "Test Accuracy: 53.4%, Test Loss: 1.131219\n",
            "\n",
            "\n",
            "Class-wise Accuracy:\n",
            "  Class 2: 57.83%\n",
            "  Class 0: 12.05%\n",
            "  Class 1: 90.68%\n",
            "Train Accuracy: 72.47%, Average Train Loss: 0.657256, Test Accuracy: 53.36%, Average Test Loss: 1.131219\n",
            "\n",
            "Epoch 14/60: "
          ]
        },
        {
          "output_type": "stream",
          "name": "stderr",
          "text": [
            "100%|██████████| 2795/2795 [00:13<00:00, 205.54it/s]\n",
            "Batch 699/699, Loss: 0.705292: 100%|██████████| 699/699 [00:03<00:00, 202.39it/s]\n"
          ]
        },
        {
          "output_type": "stream",
          "name": "stdout",
          "text": [
            "\n",
            "Class-wise Accuracy:\n",
            "  Class 2: 79.31%\n",
            "  Class 0: 64.72%\n",
            "  Class 1: 78.63%\n",
            "Test Accuracy: 74.2%, Test Loss: 0.694461\n",
            "\n",
            "\n",
            "Class-wise Accuracy:\n",
            "  Class 2: 79.31%\n",
            "  Class 0: 64.72%\n",
            "  Class 1: 78.63%\n",
            "Train Accuracy: 70.53%, Average Train Loss: 0.690110, Test Accuracy: 74.22%, Average Test Loss: 0.694461\n",
            "\n",
            "Epoch 15/60: "
          ]
        },
        {
          "output_type": "stream",
          "name": "stderr",
          "text": [
            "100%|██████████| 2795/2795 [00:13<00:00, 205.47it/s]\n",
            "Batch 699/699, Loss: 0.829784: 100%|██████████| 699/699 [00:03<00:00, 215.81it/s]\n"
          ]
        },
        {
          "output_type": "stream",
          "name": "stdout",
          "text": [
            "\n",
            "Class-wise Accuracy:\n",
            "  Class 2: 69.85%\n",
            "  Class 0: 44.23%\n",
            "  Class 1: 90.46%\n",
            "Test Accuracy: 68.1%, Test Loss: 1.060418\n",
            "\n",
            "\n",
            "Class-wise Accuracy:\n",
            "  Class 2: 69.85%\n",
            "  Class 0: 44.23%\n",
            "  Class 1: 90.46%\n",
            "Train Accuracy: 76.65%, Average Train Loss: 0.571781, Test Accuracy: 68.08%, Average Test Loss: 1.060418\n",
            "\n",
            "Epoch 16/60: "
          ]
        },
        {
          "output_type": "stream",
          "name": "stderr",
          "text": [
            "100%|██████████| 2795/2795 [00:13<00:00, 204.55it/s]\n",
            "Batch 699/699, Loss: 0.707629: 100%|██████████| 699/699 [00:03<00:00, 216.12it/s]\n"
          ]
        },
        {
          "output_type": "stream",
          "name": "stdout",
          "text": [
            "\n",
            "Class-wise Accuracy:\n",
            "  Class 2: 78.35%\n",
            "  Class 0: 63.20%\n",
            "  Class 1: 84.83%\n",
            "Test Accuracy: 75.4%, Test Loss: 0.726014\n",
            "\n",
            "\n",
            "Class-wise Accuracy:\n",
            "  Class 2: 78.35%\n",
            "  Class 0: 63.20%\n",
            "  Class 1: 84.83%\n",
            "Train Accuracy: 76.99%, Average Train Loss: 0.567156, Test Accuracy: 75.43%, Average Test Loss: 0.726014\n",
            "\n",
            "Epoch 17/60: "
          ]
        },
        {
          "output_type": "stream",
          "name": "stderr",
          "text": [
            "100%|██████████| 2795/2795 [00:13<00:00, 204.70it/s]\n",
            "Batch 699/699, Loss: 0.655913: 100%|██████████| 699/699 [00:03<00:00, 210.78it/s]\n"
          ]
        },
        {
          "output_type": "stream",
          "name": "stdout",
          "text": [
            "\n",
            "Class-wise Accuracy:\n",
            "  Class 2: 75.09%\n",
            "  Class 0: 72.62%\n",
            "  Class 1: 81.72%\n",
            "Test Accuracy: 76.4%, Test Loss: 0.999799\n",
            "\n",
            "\n",
            "Class-wise Accuracy:\n",
            "  Class 2: 75.09%\n",
            "  Class 0: 72.62%\n",
            "  Class 1: 81.72%\n",
            "Train Accuracy: 77.74%, Average Train Loss: 0.546536, Test Accuracy: 76.45%, Average Test Loss: 0.999799\n",
            "\n",
            "Epoch 18/60: "
          ]
        },
        {
          "output_type": "stream",
          "name": "stderr",
          "text": [
            "100%|██████████| 2795/2795 [00:13<00:00, 204.67it/s]\n",
            "Batch 699/699, Loss: 0.728544: 100%|██████████| 699/699 [00:03<00:00, 217.89it/s]\n"
          ]
        },
        {
          "output_type": "stream",
          "name": "stdout",
          "text": [
            "\n",
            "Class-wise Accuracy:\n",
            "  Class 2: 78.56%\n",
            "  Class 0: 59.83%\n",
            "  Class 1: 87.14%\n",
            "Test Accuracy: 75.1%, Test Loss: 0.673267\n",
            "\n",
            "\n",
            "Class-wise Accuracy:\n",
            "  Class 2: 78.56%\n",
            "  Class 0: 59.83%\n",
            "  Class 1: 87.14%\n",
            "Train Accuracy: 78.16%, Average Train Loss: 0.541590, Test Accuracy: 75.14%, Average Test Loss: 0.673267\n",
            "\n",
            "Epoch 19/60: "
          ]
        },
        {
          "output_type": "stream",
          "name": "stderr",
          "text": [
            "100%|██████████| 2795/2795 [00:13<00:00, 205.06it/s]\n",
            "Batch 699/699, Loss: 0.743452: 100%|██████████| 699/699 [00:03<00:00, 213.23it/s]\n"
          ]
        },
        {
          "output_type": "stream",
          "name": "stdout",
          "text": [
            "\n",
            "Class-wise Accuracy:\n",
            "  Class 2: 66.02%\n",
            "  Class 0: 65.60%\n",
            "  Class 1: 91.19%\n",
            "Test Accuracy: 74.2%, Test Loss: 0.892304\n",
            "\n",
            "\n",
            "Class-wise Accuracy:\n",
            "  Class 2: 66.02%\n",
            "  Class 0: 65.60%\n",
            "  Class 1: 91.19%\n",
            "Train Accuracy: 76.85%, Average Train Loss: 0.569029, Test Accuracy: 74.16%, Average Test Loss: 0.892304\n",
            "\n",
            "Epoch 20/60: "
          ]
        },
        {
          "output_type": "stream",
          "name": "stderr",
          "text": [
            "100%|██████████| 2795/2795 [00:13<00:00, 205.33it/s]\n",
            "Batch 699/699, Loss: 0.606686: 100%|██████████| 699/699 [00:03<00:00, 212.13it/s]\n"
          ]
        },
        {
          "output_type": "stream",
          "name": "stdout",
          "text": [
            "\n",
            "Class-wise Accuracy:\n",
            "  Class 2: 80.85%\n",
            "  Class 0: 64.17%\n",
            "  Class 1: 81.59%\n",
            "Test Accuracy: 75.5%, Test Loss: 0.734597\n",
            "\n",
            "\n",
            "Class-wise Accuracy:\n",
            "  Class 2: 80.85%\n",
            "  Class 0: 64.17%\n",
            "  Class 1: 81.59%\n",
            "Train Accuracy: 78.27%, Average Train Loss: 0.544702, Test Accuracy: 75.53%, Average Test Loss: 0.734597\n",
            "\n",
            "Epoch 21/60: "
          ]
        },
        {
          "output_type": "stream",
          "name": "stderr",
          "text": [
            "100%|██████████| 2795/2795 [00:13<00:00, 206.12it/s]\n",
            "Batch 699/699, Loss: 1.062127: 100%|██████████| 699/699 [00:03<00:00, 217.74it/s]\n"
          ]
        },
        {
          "output_type": "stream",
          "name": "stdout",
          "text": [
            "\n",
            "Class-wise Accuracy:\n",
            "  Class 2: 9.72%\n",
            "  Class 0: 0.79%\n",
            "  Class 1: 99.50%\n",
            "Test Accuracy: 36.3%, Test Loss: 1.099523\n",
            "\n",
            "\n",
            "Class-wise Accuracy:\n",
            "  Class 2: 9.72%\n",
            "  Class 0: 0.79%\n",
            "  Class 1: 99.50%\n",
            "Train Accuracy: 79.37%, Average Train Loss: 0.510430, Test Accuracy: 36.25%, Average Test Loss: 1.099523\n",
            "\n",
            "Epoch 22/60: "
          ]
        },
        {
          "output_type": "stream",
          "name": "stderr",
          "text": [
            "100%|██████████| 2795/2795 [00:13<00:00, 205.57it/s]\n",
            "Batch 699/699, Loss: 1.064435: 100%|██████████| 699/699 [00:03<00:00, 205.88it/s]\n"
          ]
        },
        {
          "output_type": "stream",
          "name": "stdout",
          "text": [
            "\n",
            "Class-wise Accuracy:\n",
            "  Class 2: 3.47%\n",
            "  Class 0: 0.67%\n",
            "  Class 1: 99.51%\n",
            "Test Accuracy: 34.1%, Test Loss: 1.122438\n",
            "\n",
            "\n",
            "Class-wise Accuracy:\n",
            "  Class 2: 3.47%\n",
            "  Class 0: 0.67%\n",
            "  Class 1: 99.51%\n",
            "Train Accuracy: 79.34%, Average Train Loss: 0.513772, Test Accuracy: 34.11%, Average Test Loss: 1.122438\n",
            "\n",
            "Epoch 23/60: "
          ]
        },
        {
          "output_type": "stream",
          "name": "stderr",
          "text": [
            "100%|██████████| 2795/2795 [00:13<00:00, 206.02it/s]\n",
            "Batch 699/699, Loss: 0.723190: 100%|██████████| 699/699 [00:03<00:00, 220.83it/s]\n"
          ]
        },
        {
          "output_type": "stream",
          "name": "stdout",
          "text": [
            "\n",
            "Class-wise Accuracy:\n",
            "  Class 2: 75.46%\n",
            "  Class 0: 67.25%\n",
            "  Class 1: 84.89%\n",
            "Test Accuracy: 75.8%, Test Loss: 0.697164\n",
            "\n",
            "\n",
            "Class-wise Accuracy:\n",
            "  Class 2: 75.46%\n",
            "  Class 0: 67.25%\n",
            "  Class 1: 84.89%\n",
            "Train Accuracy: 76.22%, Average Train Loss: 0.585041, Test Accuracy: 75.82%, Average Test Loss: 0.697164\n",
            "\n",
            "Epoch 24/60: "
          ]
        },
        {
          "output_type": "stream",
          "name": "stderr",
          "text": [
            "100%|██████████| 2795/2795 [00:13<00:00, 205.74it/s]\n",
            "Batch 699/699, Loss: 0.609790: 100%|██████████| 699/699 [00:03<00:00, 215.09it/s]\n"
          ]
        },
        {
          "output_type": "stream",
          "name": "stdout",
          "text": [
            "\n",
            "Class-wise Accuracy:\n",
            "  Class 2: 84.36%\n",
            "  Class 0: 66.35%\n",
            "  Class 1: 86.01%\n",
            "Test Accuracy: 78.9%, Test Loss: 0.603529\n",
            "\n",
            "\n",
            "Class-wise Accuracy:\n",
            "  Class 2: 84.36%\n",
            "  Class 0: 66.35%\n",
            "  Class 1: 86.01%\n",
            "Train Accuracy: 79.81%, Average Train Loss: 0.499292, Test Accuracy: 78.90%, Average Test Loss: 0.603529\n",
            "\n",
            "Epoch 25/60: "
          ]
        },
        {
          "output_type": "stream",
          "name": "stderr",
          "text": [
            "100%|██████████| 2795/2795 [00:13<00:00, 205.70it/s]\n",
            "Batch 699/699, Loss: 0.768162: 100%|██████████| 699/699 [00:03<00:00, 211.40it/s]\n"
          ]
        },
        {
          "output_type": "stream",
          "name": "stdout",
          "text": [
            "\n",
            "Class-wise Accuracy:\n",
            "  Class 2: 68.34%\n",
            "  Class 0: 58.49%\n",
            "  Class 1: 92.86%\n",
            "Test Accuracy: 73.1%, Test Loss: 0.787697\n",
            "\n",
            "\n",
            "Class-wise Accuracy:\n",
            "  Class 2: 68.34%\n",
            "  Class 0: 58.49%\n",
            "  Class 1: 92.86%\n",
            "Train Accuracy: 79.92%, Average Train Loss: 0.496232, Test Accuracy: 73.11%, Average Test Loss: 0.787697\n",
            "\n",
            "Epoch 26/60: "
          ]
        },
        {
          "output_type": "stream",
          "name": "stderr",
          "text": [
            "100%|██████████| 2795/2795 [00:13<00:00, 206.12it/s]\n",
            "Batch 699/699, Loss: 0.645863: 100%|██████████| 699/699 [00:03<00:00, 220.83it/s]\n"
          ]
        },
        {
          "output_type": "stream",
          "name": "stdout",
          "text": [
            "\n",
            "Class-wise Accuracy:\n",
            "  Class 2: 75.38%\n",
            "  Class 0: 61.24%\n",
            "  Class 1: 88.65%\n",
            "Test Accuracy: 75.0%, Test Loss: 0.703600\n",
            "\n",
            "\n",
            "Class-wise Accuracy:\n",
            "  Class 2: 75.38%\n",
            "  Class 0: 61.24%\n",
            "  Class 1: 88.65%\n",
            "Train Accuracy: 79.05%, Average Train Loss: 0.513961, Test Accuracy: 75.03%, Average Test Loss: 0.703600\n",
            "\n",
            "Epoch 27/60: "
          ]
        },
        {
          "output_type": "stream",
          "name": "stderr",
          "text": [
            "100%|██████████| 2795/2795 [00:13<00:00, 205.75it/s]\n",
            "Batch 699/699, Loss: 0.881022: 100%|██████████| 699/699 [00:03<00:00, 216.82it/s]\n"
          ]
        },
        {
          "output_type": "stream",
          "name": "stdout",
          "text": [
            "\n",
            "Class-wise Accuracy:\n",
            "  Class 2: 37.81%\n",
            "  Class 0: 28.35%\n",
            "  Class 1: 97.10%\n",
            "Test Accuracy: 54.1%, Test Loss: 0.960799\n",
            "\n",
            "\n",
            "Class-wise Accuracy:\n",
            "  Class 2: 37.81%\n",
            "  Class 0: 28.35%\n",
            "  Class 1: 97.10%\n",
            "Train Accuracy: 79.71%, Average Train Loss: 0.502281, Test Accuracy: 54.14%, Average Test Loss: 0.960799\n",
            "\n",
            "Epoch 28/60: "
          ]
        },
        {
          "output_type": "stream",
          "name": "stderr",
          "text": [
            "100%|██████████| 2795/2795 [00:13<00:00, 205.15it/s]\n",
            "Batch 699/699, Loss: 0.986540: 100%|██████████| 699/699 [00:03<00:00, 215.31it/s]\n"
          ]
        },
        {
          "output_type": "stream",
          "name": "stdout",
          "text": [
            "\n",
            "Class-wise Accuracy:\n",
            "  Class 2: 56.85%\n",
            "  Class 0: 48.48%\n",
            "  Class 1: 85.18%\n",
            "Test Accuracy: 63.4%, Test Loss: 0.920253\n",
            "\n",
            "\n",
            "Class-wise Accuracy:\n",
            "  Class 2: 56.85%\n",
            "  Class 0: 48.48%\n",
            "  Class 1: 85.18%\n",
            "Train Accuracy: 79.11%, Average Train Loss: 0.515172, Test Accuracy: 63.37%, Average Test Loss: 0.920253\n",
            "\n",
            "Epoch 29/60: "
          ]
        },
        {
          "output_type": "stream",
          "name": "stderr",
          "text": [
            "100%|██████████| 2795/2795 [00:13<00:00, 205.60it/s]\n",
            "Batch 699/699, Loss: 0.623971: 100%|██████████| 699/699 [00:03<00:00, 215.39it/s]\n"
          ]
        },
        {
          "output_type": "stream",
          "name": "stdout",
          "text": [
            "\n",
            "Class-wise Accuracy:\n",
            "  Class 2: 75.55%\n",
            "  Class 0: 67.00%\n",
            "  Class 1: 86.04%\n",
            "Test Accuracy: 76.1%, Test Loss: 0.711272\n",
            "\n",
            "\n",
            "Class-wise Accuracy:\n",
            "  Class 2: 75.55%\n",
            "  Class 0: 67.00%\n",
            "  Class 1: 86.04%\n",
            "Train Accuracy: 79.32%, Average Train Loss: 0.510113, Test Accuracy: 76.15%, Average Test Loss: 0.711272\n",
            "\n",
            "Epoch 30/60: "
          ]
        },
        {
          "output_type": "stream",
          "name": "stderr",
          "text": [
            "100%|██████████| 2795/2795 [00:13<00:00, 205.81it/s]\n",
            "Batch 699/699, Loss: 0.487652: 100%|██████████| 699/699 [00:03<00:00, 218.08it/s]\n"
          ]
        },
        {
          "output_type": "stream",
          "name": "stdout",
          "text": [
            "\n",
            "Class-wise Accuracy:\n",
            "  Class 2: 84.16%\n",
            "  Class 0: 71.29%\n",
            "  Class 1: 85.27%\n",
            "Test Accuracy: 80.2%, Test Loss: 0.551882\n",
            "\n",
            "\n",
            "Class-wise Accuracy:\n",
            "  Class 2: 84.16%\n",
            "  Class 0: 71.29%\n",
            "  Class 1: 85.27%\n",
            "Train Accuracy: 81.31%, Average Train Loss: 0.462956, Test Accuracy: 80.24%, Average Test Loss: 0.551882\n",
            "\n",
            "Epoch 31/60: "
          ]
        },
        {
          "output_type": "stream",
          "name": "stderr",
          "text": [
            "100%|██████████| 2795/2795 [00:13<00:00, 204.53it/s]\n",
            "Batch 699/699, Loss: 0.522229: 100%|██████████| 699/699 [00:03<00:00, 216.49it/s]\n"
          ]
        },
        {
          "output_type": "stream",
          "name": "stdout",
          "text": [
            "\n",
            "Class-wise Accuracy:\n",
            "  Class 2: 79.05%\n",
            "  Class 0: 75.60%\n",
            "  Class 1: 88.88%\n",
            "Test Accuracy: 81.1%, Test Loss: 0.846474\n",
            "\n",
            "\n",
            "Class-wise Accuracy:\n",
            "  Class 2: 79.05%\n",
            "  Class 0: 75.60%\n",
            "  Class 1: 88.88%\n",
            "Train Accuracy: 80.68%, Average Train Loss: 0.480898, Test Accuracy: 81.13%, Average Test Loss: 0.846474\n",
            "\n",
            "Epoch 32/60: "
          ]
        },
        {
          "output_type": "stream",
          "name": "stderr",
          "text": [
            "100%|██████████| 2795/2795 [00:13<00:00, 203.56it/s]\n",
            "Batch 699/699, Loss: 0.717459: 100%|██████████| 699/699 [00:03<00:00, 216.76it/s]\n"
          ]
        },
        {
          "output_type": "stream",
          "name": "stdout",
          "text": [
            "\n",
            "Class-wise Accuracy:\n",
            "  Class 2: 72.37%\n",
            "  Class 0: 53.37%\n",
            "  Class 1: 92.42%\n",
            "Test Accuracy: 72.6%, Test Loss: 0.709781\n",
            "\n",
            "\n",
            "Class-wise Accuracy:\n",
            "  Class 2: 72.37%\n",
            "  Class 0: 53.37%\n",
            "  Class 1: 92.42%\n",
            "Train Accuracy: 81.07%, Average Train Loss: 0.471036, Test Accuracy: 72.63%, Average Test Loss: 0.709781\n",
            "\n",
            "Epoch 33/60: "
          ]
        },
        {
          "output_type": "stream",
          "name": "stderr",
          "text": [
            "100%|██████████| 2795/2795 [00:13<00:00, 206.03it/s]\n",
            "Batch 699/699, Loss: 0.409602: 100%|██████████| 699/699 [00:03<00:00, 216.57it/s]\n"
          ]
        },
        {
          "output_type": "stream",
          "name": "stdout",
          "text": [
            "\n",
            "Class-wise Accuracy:\n",
            "  Class 2: 85.25%\n",
            "  Class 0: 79.04%\n",
            "  Class 1: 84.83%\n",
            "Test Accuracy: 83.0%, Test Loss: 0.543306\n",
            "\n",
            "\n",
            "Class-wise Accuracy:\n",
            "  Class 2: 85.25%\n",
            "  Class 0: 79.04%\n",
            "  Class 1: 84.83%\n",
            "Train Accuracy: 81.74%, Average Train Loss: 0.451567, Test Accuracy: 83.04%, Average Test Loss: 0.543306\n",
            "\n",
            "Epoch 34/60: "
          ]
        },
        {
          "output_type": "stream",
          "name": "stderr",
          "text": [
            "100%|██████████| 2795/2795 [00:13<00:00, 203.67it/s]\n",
            "Batch 699/699, Loss: 1.069464: 100%|██████████| 699/699 [00:03<00:00, 217.28it/s]\n"
          ]
        },
        {
          "output_type": "stream",
          "name": "stdout",
          "text": [
            "\n",
            "Class-wise Accuracy:\n",
            "  Class 2: 59.12%\n",
            "  Class 0: 56.69%\n",
            "  Class 1: 75.35%\n",
            "Test Accuracy: 63.6%, Test Loss: 0.914805\n",
            "\n",
            "\n",
            "Class-wise Accuracy:\n",
            "  Class 2: 59.12%\n",
            "  Class 0: 56.69%\n",
            "  Class 1: 75.35%\n",
            "Train Accuracy: 81.32%, Average Train Loss: 0.465442, Test Accuracy: 63.65%, Average Test Loss: 0.914805\n",
            "\n",
            "Epoch 35/60: "
          ]
        },
        {
          "output_type": "stream",
          "name": "stderr",
          "text": [
            "100%|██████████| 2795/2795 [00:13<00:00, 203.32it/s]\n",
            "Batch 699/699, Loss: 0.446714: 100%|██████████| 699/699 [00:03<00:00, 208.44it/s]\n"
          ]
        },
        {
          "output_type": "stream",
          "name": "stdout",
          "text": [
            "\n",
            "Class-wise Accuracy:\n",
            "  Class 2: 84.62%\n",
            "  Class 0: 73.83%\n",
            "  Class 1: 82.31%\n",
            "Test Accuracy: 80.3%, Test Loss: 0.546410\n",
            "\n",
            "\n",
            "Class-wise Accuracy:\n",
            "  Class 2: 84.62%\n",
            "  Class 0: 73.83%\n",
            "  Class 1: 82.31%\n",
            "Train Accuracy: 81.38%, Average Train Loss: 0.460270, Test Accuracy: 80.26%, Average Test Loss: 0.546410\n",
            "\n",
            "Epoch 36/60: "
          ]
        },
        {
          "output_type": "stream",
          "name": "stderr",
          "text": [
            "100%|██████████| 2795/2795 [00:13<00:00, 201.47it/s]\n",
            "Batch 699/699, Loss: 0.424848: 100%|██████████| 699/699 [00:03<00:00, 209.58it/s]\n"
          ]
        },
        {
          "output_type": "stream",
          "name": "stdout",
          "text": [
            "\n",
            "Class-wise Accuracy:\n",
            "  Class 2: 81.50%\n",
            "  Class 0: 83.06%\n",
            "  Class 1: 89.55%\n",
            "Test Accuracy: 84.7%, Test Loss: 0.698625\n",
            "\n",
            "\n",
            "Class-wise Accuracy:\n",
            "  Class 2: 81.50%\n",
            "  Class 0: 83.06%\n",
            "  Class 1: 89.55%\n",
            "Train Accuracy: 82.42%, Average Train Loss: 0.441218, Test Accuracy: 84.66%, Average Test Loss: 0.698625\n",
            "\n",
            "Epoch 37/60: "
          ]
        },
        {
          "output_type": "stream",
          "name": "stderr",
          "text": [
            "100%|██████████| 2795/2795 [00:13<00:00, 203.74it/s]\n",
            "Batch 699/699, Loss: 0.419686: 100%|██████████| 699/699 [00:03<00:00, 200.86it/s]\n"
          ]
        },
        {
          "output_type": "stream",
          "name": "stdout",
          "text": [
            "\n",
            "Class-wise Accuracy:\n",
            "  Class 2: 83.78%\n",
            "  Class 0: 78.59%\n",
            "  Class 1: 86.84%\n",
            "Test Accuracy: 83.1%, Test Loss: 0.575600\n",
            "\n",
            "\n",
            "Class-wise Accuracy:\n",
            "  Class 2: 83.78%\n",
            "  Class 0: 78.59%\n",
            "  Class 1: 86.84%\n",
            "Train Accuracy: 82.41%, Average Train Loss: 0.441337, Test Accuracy: 83.05%, Average Test Loss: 0.575600\n",
            "\n",
            "Epoch 38/60: "
          ]
        },
        {
          "output_type": "stream",
          "name": "stderr",
          "text": [
            "100%|██████████| 2795/2795 [00:13<00:00, 202.27it/s]\n",
            "Batch 699/699, Loss: 0.601601: 100%|██████████| 699/699 [00:03<00:00, 206.16it/s]\n"
          ]
        },
        {
          "output_type": "stream",
          "name": "stdout",
          "text": [
            "\n",
            "Class-wise Accuracy:\n",
            "  Class 2: 75.69%\n",
            "  Class 0: 73.81%\n",
            "  Class 1: 92.69%\n",
            "Test Accuracy: 80.7%, Test Loss: 0.626611\n",
            "\n",
            "\n",
            "Class-wise Accuracy:\n",
            "  Class 2: 75.69%\n",
            "  Class 0: 73.81%\n",
            "  Class 1: 92.69%\n",
            "Train Accuracy: 82.25%, Average Train Loss: 0.450255, Test Accuracy: 80.65%, Average Test Loss: 0.626611\n",
            "\n",
            "Epoch 39/60: "
          ]
        },
        {
          "output_type": "stream",
          "name": "stderr",
          "text": [
            "100%|██████████| 2795/2795 [00:13<00:00, 203.21it/s]\n",
            "Batch 699/699, Loss: 0.644949: 100%|██████████| 699/699 [00:03<00:00, 215.95it/s]\n"
          ]
        },
        {
          "output_type": "stream",
          "name": "stdout",
          "text": [
            "\n",
            "Class-wise Accuracy:\n",
            "  Class 2: 74.39%\n",
            "  Class 0: 63.59%\n",
            "  Class 1: 89.64%\n",
            "Test Accuracy: 75.8%, Test Loss: 0.786544\n",
            "\n",
            "\n",
            "Class-wise Accuracy:\n",
            "  Class 2: 74.39%\n",
            "  Class 0: 63.59%\n",
            "  Class 1: 89.64%\n",
            "Train Accuracy: 81.87%, Average Train Loss: 0.453030, Test Accuracy: 75.80%, Average Test Loss: 0.786544\n",
            "\n",
            "Epoch 40/60: "
          ]
        },
        {
          "output_type": "stream",
          "name": "stderr",
          "text": [
            "100%|██████████| 2795/2795 [00:13<00:00, 204.86it/s]\n",
            "Batch 699/699, Loss: 0.380962: 100%|██████████| 699/699 [00:03<00:00, 220.42it/s]\n"
          ]
        },
        {
          "output_type": "stream",
          "name": "stdout",
          "text": [
            "\n",
            "Class-wise Accuracy:\n",
            "  Class 2: 84.08%\n",
            "  Class 0: 82.26%\n",
            "  Class 1: 87.38%\n",
            "Test Accuracy: 84.6%, Test Loss: 0.520948\n",
            "\n",
            "\n",
            "Class-wise Accuracy:\n",
            "  Class 2: 84.08%\n",
            "  Class 0: 82.26%\n",
            "  Class 1: 87.38%\n",
            "Train Accuracy: 82.70%, Average Train Loss: 0.430944, Test Accuracy: 84.56%, Average Test Loss: 0.520948\n",
            "\n",
            "Epoch 41/60: "
          ]
        },
        {
          "output_type": "stream",
          "name": "stderr",
          "text": [
            "100%|██████████| 2795/2795 [00:13<00:00, 205.68it/s]\n",
            "Batch 699/699, Loss: 0.478230: 100%|██████████| 699/699 [00:03<00:00, 217.60it/s]\n"
          ]
        },
        {
          "output_type": "stream",
          "name": "stdout",
          "text": [
            "\n",
            "Class-wise Accuracy:\n",
            "  Class 2: 85.83%\n",
            "  Class 0: 68.47%\n",
            "  Class 1: 87.86%\n",
            "Test Accuracy: 80.7%, Test Loss: 0.541356\n",
            "\n",
            "\n",
            "Class-wise Accuracy:\n",
            "  Class 2: 85.83%\n",
            "  Class 0: 68.47%\n",
            "  Class 1: 87.86%\n",
            "Train Accuracy: 82.68%, Average Train Loss: 0.431297, Test Accuracy: 80.71%, Average Test Loss: 0.541356\n",
            "\n",
            "Epoch 42/60: "
          ]
        },
        {
          "output_type": "stream",
          "name": "stderr",
          "text": [
            "100%|██████████| 2795/2795 [00:13<00:00, 205.12it/s]\n",
            "Batch 699/699, Loss: 0.365471: 100%|██████████| 699/699 [00:03<00:00, 219.82it/s]\n"
          ]
        },
        {
          "output_type": "stream",
          "name": "stdout",
          "text": [
            "\n",
            "Class-wise Accuracy:\n",
            "  Class 2: 87.01%\n",
            "  Class 0: 78.43%\n",
            "  Class 1: 85.90%\n",
            "Test Accuracy: 83.8%, Test Loss: 0.481984\n",
            "\n",
            "\n",
            "Class-wise Accuracy:\n",
            "  Class 2: 87.01%\n",
            "  Class 0: 78.43%\n",
            "  Class 1: 85.90%\n",
            "Train Accuracy: 82.97%, Average Train Loss: 0.422398, Test Accuracy: 83.78%, Average Test Loss: 0.481984\n",
            "\n",
            "Epoch 43/60: "
          ]
        },
        {
          "output_type": "stream",
          "name": "stderr",
          "text": [
            "100%|██████████| 2795/2795 [00:13<00:00, 203.36it/s]\n",
            "Batch 699/699, Loss: 0.417743: 100%|██████████| 699/699 [00:03<00:00, 205.07it/s]\n"
          ]
        },
        {
          "output_type": "stream",
          "name": "stdout",
          "text": [
            "\n",
            "Class-wise Accuracy:\n",
            "  Class 2: 89.67%\n",
            "  Class 0: 71.87%\n",
            "  Class 1: 83.33%\n",
            "Test Accuracy: 81.6%, Test Loss: 0.495016\n",
            "\n",
            "\n",
            "Class-wise Accuracy:\n",
            "  Class 2: 89.67%\n",
            "  Class 0: 71.87%\n",
            "  Class 1: 83.33%\n",
            "Train Accuracy: 82.96%, Average Train Loss: 0.425866, Test Accuracy: 81.65%, Average Test Loss: 0.495016\n",
            "\n",
            "Epoch 44/60: "
          ]
        },
        {
          "output_type": "stream",
          "name": "stderr",
          "text": [
            "100%|██████████| 2795/2795 [00:13<00:00, 204.10it/s]\n",
            "Batch 699/699, Loss: 0.513418: 100%|██████████| 699/699 [00:03<00:00, 218.81it/s]\n"
          ]
        },
        {
          "output_type": "stream",
          "name": "stdout",
          "text": [
            "\n",
            "Class-wise Accuracy:\n",
            "  Class 2: 80.27%\n",
            "  Class 0: 66.86%\n",
            "  Class 1: 89.87%\n",
            "Test Accuracy: 79.0%, Test Loss: 0.602985\n",
            "\n",
            "\n",
            "Class-wise Accuracy:\n",
            "  Class 2: 80.27%\n",
            "  Class 0: 66.86%\n",
            "  Class 1: 89.87%\n",
            "Train Accuracy: 83.37%, Average Train Loss: 0.416795, Test Accuracy: 78.96%, Average Test Loss: 0.602985\n",
            "\n",
            "Epoch 45/60: "
          ]
        },
        {
          "output_type": "stream",
          "name": "stderr",
          "text": [
            "100%|██████████| 2795/2795 [00:13<00:00, 201.85it/s]\n",
            "Batch 699/699, Loss: 0.347224: 100%|██████████| 699/699 [00:03<00:00, 214.89it/s]\n"
          ]
        },
        {
          "output_type": "stream",
          "name": "stdout",
          "text": [
            "\n",
            "Class-wise Accuracy:\n",
            "  Class 2: 89.34%\n",
            "  Class 0: 80.55%\n",
            "  Class 1: 85.74%\n",
            "Test Accuracy: 85.2%, Test Loss: 0.430654\n",
            "\n",
            "\n",
            "Class-wise Accuracy:\n",
            "  Class 2: 89.34%\n",
            "  Class 0: 80.55%\n",
            "  Class 1: 85.74%\n",
            "Train Accuracy: 83.46%, Average Train Loss: 0.413919, Test Accuracy: 85.22%, Average Test Loss: 0.430654\n",
            "\n",
            "Epoch 46/60: "
          ]
        },
        {
          "output_type": "stream",
          "name": "stderr",
          "text": [
            "100%|██████████| 2795/2795 [00:13<00:00, 203.68it/s]\n",
            "Batch 699/699, Loss: 0.394568: 100%|██████████| 699/699 [00:03<00:00, 206.89it/s]\n"
          ]
        },
        {
          "output_type": "stream",
          "name": "stdout",
          "text": [
            "\n",
            "Class-wise Accuracy:\n",
            "  Class 2: 85.37%\n",
            "  Class 0: 72.35%\n",
            "  Class 1: 87.86%\n",
            "Test Accuracy: 81.8%, Test Loss: 0.503855\n",
            "\n",
            "\n",
            "Class-wise Accuracy:\n",
            "  Class 2: 85.37%\n",
            "  Class 0: 72.35%\n",
            "  Class 1: 87.86%\n",
            "Train Accuracy: 83.56%, Average Train Loss: 0.412852, Test Accuracy: 81.85%, Average Test Loss: 0.503855\n",
            "\n",
            "Epoch 47/60: "
          ]
        },
        {
          "output_type": "stream",
          "name": "stderr",
          "text": [
            "100%|██████████| 2795/2795 [00:13<00:00, 204.67it/s]\n",
            "Batch 699/699, Loss: 0.773775: 100%|██████████| 699/699 [00:03<00:00, 210.68it/s]\n"
          ]
        },
        {
          "output_type": "stream",
          "name": "stdout",
          "text": [
            "\n",
            "Class-wise Accuracy:\n",
            "  Class 2: 69.24%\n",
            "  Class 0: 38.05%\n",
            "  Class 1: 86.50%\n",
            "Test Accuracy: 64.5%, Test Loss: 0.823121\n",
            "\n",
            "\n",
            "Class-wise Accuracy:\n",
            "  Class 2: 69.24%\n",
            "  Class 0: 38.05%\n",
            "  Class 1: 86.50%\n",
            "Train Accuracy: 83.50%, Average Train Loss: 0.414112, Test Accuracy: 64.51%, Average Test Loss: 0.823121\n",
            "\n",
            "Epoch 48/60: "
          ]
        },
        {
          "output_type": "stream",
          "name": "stderr",
          "text": [
            "100%|██████████| 2795/2795 [00:13<00:00, 203.32it/s]\n",
            "Batch 699/699, Loss: 0.412337: 100%|██████████| 699/699 [00:03<00:00, 214.01it/s]\n"
          ]
        },
        {
          "output_type": "stream",
          "name": "stdout",
          "text": [
            "\n",
            "Class-wise Accuracy:\n",
            "  Class 2: 85.33%\n",
            "  Class 0: 69.65%\n",
            "  Class 1: 84.96%\n",
            "Test Accuracy: 80.0%, Test Loss: 0.552951\n",
            "\n",
            "\n",
            "Class-wise Accuracy:\n",
            "  Class 2: 85.33%\n",
            "  Class 0: 69.65%\n",
            "  Class 1: 84.96%\n",
            "Train Accuracy: 83.79%, Average Train Loss: 0.407972, Test Accuracy: 79.98%, Average Test Loss: 0.552951\n",
            "\n",
            "Epoch 49/60: "
          ]
        },
        {
          "output_type": "stream",
          "name": "stderr",
          "text": [
            "100%|██████████| 2795/2795 [00:13<00:00, 205.14it/s]\n",
            "Batch 699/699, Loss: 0.420331: 100%|██████████| 699/699 [00:03<00:00, 212.34it/s]\n"
          ]
        },
        {
          "output_type": "stream",
          "name": "stdout",
          "text": [
            "\n",
            "Class-wise Accuracy:\n",
            "  Class 2: 89.51%\n",
            "  Class 0: 78.15%\n",
            "  Class 1: 90.15%\n",
            "Test Accuracy: 85.9%, Test Loss: 0.416104\n",
            "\n",
            "\n",
            "Class-wise Accuracy:\n",
            "  Class 2: 89.51%\n",
            "  Class 0: 78.15%\n",
            "  Class 1: 90.15%\n",
            "Train Accuracy: 83.71%, Average Train Loss: 0.406135, Test Accuracy: 85.93%, Average Test Loss: 0.416104\n",
            "\n",
            "Epoch 50/60: "
          ]
        },
        {
          "output_type": "stream",
          "name": "stderr",
          "text": [
            "100%|██████████| 2795/2795 [00:13<00:00, 206.09it/s]\n",
            "Batch 699/699, Loss: 0.337239: 100%|██████████| 699/699 [00:03<00:00, 220.29it/s]\n"
          ]
        },
        {
          "output_type": "stream",
          "name": "stdout",
          "text": [
            "\n",
            "Class-wise Accuracy:\n",
            "  Class 2: 82.45%\n",
            "  Class 0: 84.57%\n",
            "  Class 1: 88.27%\n",
            "Test Accuracy: 85.1%, Test Loss: 0.550252\n",
            "\n",
            "\n",
            "Class-wise Accuracy:\n",
            "  Class 2: 82.45%\n",
            "  Class 0: 84.57%\n",
            "  Class 1: 88.27%\n",
            "Train Accuracy: 83.73%, Average Train Loss: 0.403760, Test Accuracy: 85.07%, Average Test Loss: 0.550252\n",
            "\n",
            "Epoch 51/60: "
          ]
        },
        {
          "output_type": "stream",
          "name": "stderr",
          "text": [
            "100%|██████████| 2795/2795 [00:13<00:00, 205.87it/s]\n",
            "Batch 699/699, Loss: 0.589835: 100%|██████████| 699/699 [00:03<00:00, 216.19it/s]\n"
          ]
        },
        {
          "output_type": "stream",
          "name": "stdout",
          "text": [
            "\n",
            "Class-wise Accuracy:\n",
            "  Class 2: 85.23%\n",
            "  Class 0: 53.97%\n",
            "  Class 1: 87.17%\n",
            "Test Accuracy: 75.4%, Test Loss: 0.647937\n",
            "\n",
            "\n",
            "Class-wise Accuracy:\n",
            "  Class 2: 85.23%\n",
            "  Class 0: 53.97%\n",
            "  Class 1: 87.17%\n",
            "Train Accuracy: 84.03%, Average Train Loss: 0.401810, Test Accuracy: 75.44%, Average Test Loss: 0.647937\n",
            "\n",
            "Epoch 52/60: "
          ]
        },
        {
          "output_type": "stream",
          "name": "stderr",
          "text": [
            "100%|██████████| 2795/2795 [00:13<00:00, 205.86it/s]\n",
            "Batch 699/699, Loss: 0.457913: 100%|██████████| 699/699 [00:03<00:00, 218.55it/s]\n"
          ]
        },
        {
          "output_type": "stream",
          "name": "stdout",
          "text": [
            "\n",
            "Class-wise Accuracy:\n",
            "  Class 2: 84.27%\n",
            "  Class 0: 64.09%\n",
            "  Class 1: 77.48%\n",
            "Test Accuracy: 75.3%, Test Loss: 0.624381\n",
            "\n",
            "\n",
            "Class-wise Accuracy:\n",
            "  Class 2: 84.27%\n",
            "  Class 0: 64.09%\n",
            "  Class 1: 77.48%\n",
            "Train Accuracy: 83.86%, Average Train Loss: 0.404347, Test Accuracy: 75.31%, Average Test Loss: 0.624381\n",
            "\n",
            "Epoch 53/60: "
          ]
        },
        {
          "output_type": "stream",
          "name": "stderr",
          "text": [
            "100%|██████████| 2795/2795 [00:13<00:00, 206.16it/s]\n",
            "Batch 699/699, Loss: 0.366565: 100%|██████████| 699/699 [00:03<00:00, 217.75it/s]\n"
          ]
        },
        {
          "output_type": "stream",
          "name": "stdout",
          "text": [
            "\n",
            "Class-wise Accuracy:\n",
            "  Class 2: 91.03%\n",
            "  Class 0: 72.93%\n",
            "  Class 1: 81.64%\n",
            "Test Accuracy: 81.9%, Test Loss: 0.490169\n",
            "\n",
            "\n",
            "Class-wise Accuracy:\n",
            "  Class 2: 91.03%\n",
            "  Class 0: 72.93%\n",
            "  Class 1: 81.64%\n",
            "Train Accuracy: 84.05%, Average Train Loss: 0.402061, Test Accuracy: 81.91%, Average Test Loss: 0.490169\n",
            "\n",
            "Epoch 54/60: "
          ]
        },
        {
          "output_type": "stream",
          "name": "stderr",
          "text": [
            "100%|██████████| 2795/2795 [00:13<00:00, 204.43it/s]\n",
            "Batch 699/699, Loss: 0.354065: 100%|██████████| 699/699 [00:03<00:00, 213.53it/s]\n"
          ]
        },
        {
          "output_type": "stream",
          "name": "stdout",
          "text": [
            "\n",
            "Class-wise Accuracy:\n",
            "  Class 2: 83.13%\n",
            "  Class 0: 82.96%\n",
            "  Class 1: 90.02%\n",
            "Test Accuracy: 85.3%, Test Loss: 0.504595\n",
            "\n",
            "\n",
            "Class-wise Accuracy:\n",
            "  Class 2: 83.13%\n",
            "  Class 0: 82.96%\n",
            "  Class 1: 90.02%\n",
            "Train Accuracy: 84.15%, Average Train Loss: 0.396375, Test Accuracy: 85.34%, Average Test Loss: 0.504595\n",
            "\n",
            "Epoch 55/60: "
          ]
        },
        {
          "output_type": "stream",
          "name": "stderr",
          "text": [
            "100%|██████████| 2795/2795 [00:13<00:00, 204.29it/s]\n",
            "Batch 699/699, Loss: 0.334807: 100%|██████████| 699/699 [00:03<00:00, 200.32it/s]\n"
          ]
        },
        {
          "output_type": "stream",
          "name": "stdout",
          "text": [
            "\n",
            "Class-wise Accuracy:\n",
            "  Class 2: 90.37%\n",
            "  Class 0: 77.49%\n",
            "  Class 1: 83.44%\n",
            "Test Accuracy: 83.8%, Test Loss: 0.445423\n",
            "\n",
            "\n",
            "Class-wise Accuracy:\n",
            "  Class 2: 90.37%\n",
            "  Class 0: 77.49%\n",
            "  Class 1: 83.44%\n",
            "Train Accuracy: 84.10%, Average Train Loss: 0.399225, Test Accuracy: 83.80%, Average Test Loss: 0.445423\n",
            "\n",
            "Epoch 56/60: "
          ]
        },
        {
          "output_type": "stream",
          "name": "stderr",
          "text": [
            "100%|██████████| 2795/2795 [00:13<00:00, 203.48it/s]\n",
            "Batch 699/699, Loss: 0.338092: 100%|██████████| 699/699 [00:03<00:00, 199.31it/s]\n"
          ]
        },
        {
          "output_type": "stream",
          "name": "stdout",
          "text": [
            "\n",
            "Class-wise Accuracy:\n",
            "  Class 2: 84.04%\n",
            "  Class 0: 85.46%\n",
            "  Class 1: 89.22%\n",
            "Test Accuracy: 86.2%, Test Loss: 0.463670\n",
            "\n",
            "\n",
            "Class-wise Accuracy:\n",
            "  Class 2: 84.04%\n",
            "  Class 0: 85.46%\n",
            "  Class 1: 89.22%\n",
            "Train Accuracy: 84.08%, Average Train Loss: 0.395841, Test Accuracy: 86.22%, Average Test Loss: 0.463670\n",
            "\n",
            "Epoch 57/60: "
          ]
        },
        {
          "output_type": "stream",
          "name": "stderr",
          "text": [
            "100%|██████████| 2795/2795 [00:13<00:00, 202.69it/s]\n",
            "Batch 699/699, Loss: 0.351493: 100%|██████████| 699/699 [00:03<00:00, 195.00it/s]\n"
          ]
        },
        {
          "output_type": "stream",
          "name": "stdout",
          "text": [
            "\n",
            "Class-wise Accuracy:\n",
            "  Class 2: 84.11%\n",
            "  Class 0: 85.36%\n",
            "  Class 1: 89.44%\n",
            "Test Accuracy: 86.3%, Test Loss: 0.467101\n",
            "\n",
            "\n",
            "Class-wise Accuracy:\n",
            "  Class 2: 84.11%\n",
            "  Class 0: 85.36%\n",
            "  Class 1: 89.44%\n",
            "Train Accuracy: 84.05%, Average Train Loss: 0.399428, Test Accuracy: 86.28%, Average Test Loss: 0.467101\n",
            "\n",
            "Epoch 58/60: "
          ]
        },
        {
          "output_type": "stream",
          "name": "stderr",
          "text": [
            "100%|██████████| 2795/2795 [00:13<00:00, 201.40it/s]\n",
            "Batch 699/699, Loss: 0.975881: 100%|██████████| 699/699 [00:03<00:00, 213.52it/s]\n"
          ]
        },
        {
          "output_type": "stream",
          "name": "stdout",
          "text": [
            "\n",
            "Class-wise Accuracy:\n",
            "  Class 2: 53.52%\n",
            "  Class 0: 0.28%\n",
            "  Class 1: 94.45%\n",
            "Test Accuracy: 49.2%, Test Loss: 1.070864\n",
            "\n",
            "\n",
            "Class-wise Accuracy:\n",
            "  Class 2: 53.52%\n",
            "  Class 0: 0.28%\n",
            "  Class 1: 94.45%\n",
            "Train Accuracy: 84.06%, Average Train Loss: 0.397593, Test Accuracy: 49.22%, Average Test Loss: 1.070864\n",
            "\n",
            "Epoch 59/60: "
          ]
        },
        {
          "output_type": "stream",
          "name": "stderr",
          "text": [
            "100%|██████████| 2795/2795 [00:13<00:00, 201.46it/s]\n",
            "Batch 699/699, Loss: 0.411333: 100%|██████████| 699/699 [00:03<00:00, 197.38it/s]\n"
          ]
        },
        {
          "output_type": "stream",
          "name": "stdout",
          "text": [
            "\n",
            "Class-wise Accuracy:\n",
            "  Class 2: 89.37%\n",
            "  Class 0: 69.20%\n",
            "  Class 1: 77.44%\n",
            "Test Accuracy: 78.7%, Test Loss: 0.519033\n",
            "\n",
            "\n",
            "Class-wise Accuracy:\n",
            "  Class 2: 89.37%\n",
            "  Class 0: 69.20%\n",
            "  Class 1: 77.44%\n",
            "Train Accuracy: 84.30%, Average Train Loss: 0.396586, Test Accuracy: 78.72%, Average Test Loss: 0.519033\n",
            "\n",
            "Epoch 60/60: "
          ]
        },
        {
          "output_type": "stream",
          "name": "stderr",
          "text": [
            "100%|██████████| 2795/2795 [00:13<00:00, 202.20it/s]\n",
            "Batch 699/699, Loss: 0.345527: 100%|██████████| 699/699 [00:03<00:00, 198.69it/s]\n"
          ]
        },
        {
          "output_type": "stream",
          "name": "stdout",
          "text": [
            "\n",
            "Class-wise Accuracy:\n",
            "  Class 2: 89.67%\n",
            "  Class 0: 77.80%\n",
            "  Class 1: 84.31%\n",
            "Test Accuracy: 83.9%, Test Loss: 0.473708\n",
            "\n",
            "\n",
            "Class-wise Accuracy:\n",
            "  Class 2: 89.67%\n",
            "  Class 0: 77.80%\n",
            "  Class 1: 84.31%\n",
            "Train Accuracy: 84.10%, Average Train Loss: 0.396325, Test Accuracy: 83.95%, Average Test Loss: 0.473708\n",
            "\n"
          ]
        },
        {
          "output_type": "display_data",
          "data": {
            "text/plain": [
              "<IPython.core.display.HTML object>"
            ],
            "text/html": []
          },
          "metadata": {}
        },
        {
          "output_type": "display_data",
          "data": {
            "text/plain": [
              "<IPython.core.display.HTML object>"
            ],
            "text/html": [
              "<br>    <style><br>        .wandb-row {<br>            display: flex;<br>            flex-direction: row;<br>            flex-wrap: wrap;<br>            justify-content: flex-start;<br>            width: 100%;<br>        }<br>        .wandb-col {<br>            display: flex;<br>            flex-direction: column;<br>            flex-basis: 100%;<br>            flex: 1;<br>            padding: 10px;<br>        }<br>    </style><br><div class=\"wandb-row\"><div class=\"wandb-col\"><h3>Run history:</h3><br/><table class=\"wandb\"><tr><td>class_0_accuracy</td><td>▁▂▁▁▅▂▆▂▆▅▇▆▆▁▁▆▆▃▅▇▅▇▆▇█▆█▇▆▇▇▇▅▆▇▇██▁▇</td></tr><tr><td>class_1_accuracy</td><td>█▇██▇▆▁▇█▄▅▆▇▅█▆▇█▆▅▇▅▄▅▆▆▆▆▆▅▆▆▅▆▆▅▅▆▆▄</td></tr><tr><td>class_2_accuracy</td><td>▁▂▄▆▆▇▇▆▇▆▂▁▇▇▆▅▇▇▇▇▆▇▇▇▇▇██▇██▇█▇██▇▇▅█</td></tr><tr><td>epoch</td><td>▁▁▁▁▂▂▂▂▂▂▃▃▃▃▄▄▄▄▄▄▅▅▅▅▅▆▆▆▆▆▆▇▇▇▇▇▇███</td></tr><tr><td>learning_rate</td><td>████████▇▇▇▇▇▇▆▆▆▆▅▅▅▄▄▄▄▃▃▃▂▂▂▂▁▁▁▁▁▁▁▁</td></tr><tr><td>test_accuracy</td><td>▃▁▁▃▅▃▆▄▆▆▇▇▆▁▁▇▆▇▄▅▇▇▆▅▇▇█▇▇▇▇██▇▇███▃█</td></tr><tr><td>test_loss</td><td>▇▆▆▆▆▅▆▅█▆▃▅▃▄▃▃▄▃▃▂▃▂▅▂▃▂▄▂▂▁▂▁▂▄▂▂▁▁▆▁</td></tr><tr><td>train_accuracy</td><td>▁▂▃▃▄▄▅▅▅▆▆▆▆▇▆▇▇▇▇▇▇▇▇█████████████████</td></tr><tr><td>train_loss</td><td>█▇▆▆▆▅▅▄▄▅▃▃▃▃▂▂▂▂▂▂▂▂▂▂▂▁▁▁▁▁▁▁▁▁▁▁▁▁▁▁</td></tr></table><br/></div><div class=\"wandb-col\"><h3>Run summary:</h3><br/><table class=\"wandb\"><tr><td>class_0_accuracy</td><td>77.79716</td></tr><tr><td>class_1_accuracy</td><td>84.30866</td></tr><tr><td>class_2_accuracy</td><td>89.67024</td></tr><tr><td>epoch</td><td>60</td></tr><tr><td>learning_rate</td><td>0.0</td></tr><tr><td>test_accuracy</td><td>83.94846</td></tr><tr><td>test_loss</td><td>0.47371</td></tr><tr><td>train_accuracy</td><td>84.10115</td></tr><tr><td>train_loss</td><td>0.39633</td></tr></table><br/></div></div>"
            ]
          },
          "metadata": {}
        },
        {
          "output_type": "display_data",
          "data": {
            "text/plain": [
              "<IPython.core.display.HTML object>"
            ],
            "text/html": [
              " View run <strong style=\"color:#cdcd00\">ShallowAttentionNet 182726</strong> at: <a href='https://wandb.ai/philinthesky/Master%20Thesis/runs/pv1rmwir' target=\"_blank\">https://wandb.ai/philinthesky/Master%20Thesis/runs/pv1rmwir</a><br> View project at: <a href='https://wandb.ai/philinthesky/Master%20Thesis' target=\"_blank\">https://wandb.ai/philinthesky/Master%20Thesis</a><br>Synced 5 W&B file(s), 0 media file(s), 0 artifact file(s) and 0 other file(s)"
            ]
          },
          "metadata": {}
        },
        {
          "output_type": "display_data",
          "data": {
            "text/plain": [
              "<IPython.core.display.HTML object>"
            ],
            "text/html": [
              "Find logs at: <code>./wandb/run-20250330_134510-pv1rmwir/logs</code>"
            ]
          },
          "metadata": {}
        },
        {
          "output_type": "stream",
          "name": "stdout",
          "text": [
            "ShallowAttentionNet(\n",
            "  (temporal): Conv2d(1, 10, kernel_size=(1, 25), stride=(1, 1))\n",
            "  (spatial_att): SpatialAttention(\n",
            "    (conv): Conv2d(10, 10, kernel_size=(1, 1), stride=(1, 1), bias=False)\n",
            "    (pool): MaxPool2d(kernel_size=(1, 5), stride=(1, 5), padding=0, dilation=1, ceil_mode=False)\n",
            "  )\n",
            "  (batch_norm): BatchNorm2d(10, eps=1e-05, momentum=0.1, affine=True, track_running_stats=True)\n",
            "  (pool): AvgPool2d(kernel_size=(1, 20), stride=(1, 20), padding=0)\n",
            "  (dropout): Dropout(p=0.5, inplace=False)\n",
            "  (fc): Linear(in_features=960, out_features=3, bias=True)\n",
            ")\n"
          ]
        },
        {
          "output_type": "display_data",
          "data": {
            "text/plain": [
              "<IPython.core.display.HTML object>"
            ],
            "text/html": [
              "Tracking run with wandb version 0.19.8"
            ]
          },
          "metadata": {}
        },
        {
          "output_type": "display_data",
          "data": {
            "text/plain": [
              "<IPython.core.display.HTML object>"
            ],
            "text/html": [
              "Run data is saved locally in <code>/content/wandb/run-20250330_140241-kjmd9tp9</code>"
            ]
          },
          "metadata": {}
        },
        {
          "output_type": "display_data",
          "data": {
            "text/plain": [
              "<IPython.core.display.HTML object>"
            ],
            "text/html": [
              "Syncing run <strong><a href='https://wandb.ai/philinthesky/Master%20Thesis/runs/kjmd9tp9' target=\"_blank\">ShallowAttentionNet 91111222</a></strong> to <a href='https://wandb.ai/philinthesky/Master%20Thesis' target=\"_blank\">Weights & Biases</a> (<a href='https://wandb.me/developer-guide' target=\"_blank\">docs</a>)<br>"
            ]
          },
          "metadata": {}
        },
        {
          "output_type": "display_data",
          "data": {
            "text/plain": [
              "<IPython.core.display.HTML object>"
            ],
            "text/html": [
              " View project at <a href='https://wandb.ai/philinthesky/Master%20Thesis' target=\"_blank\">https://wandb.ai/philinthesky/Master%20Thesis</a>"
            ]
          },
          "metadata": {}
        },
        {
          "output_type": "display_data",
          "data": {
            "text/plain": [
              "<IPython.core.display.HTML object>"
            ],
            "text/html": [
              " View run at <a href='https://wandb.ai/philinthesky/Master%20Thesis/runs/kjmd9tp9' target=\"_blank\">https://wandb.ai/philinthesky/Master%20Thesis/runs/kjmd9tp9</a>"
            ]
          },
          "metadata": {}
        },
        {
          "output_type": "stream",
          "name": "stdout",
          "text": [
            "Epoch 1/60: "
          ]
        },
        {
          "output_type": "stream",
          "name": "stderr",
          "text": [
            "100%|██████████| 2795/2795 [00:13<00:00, 202.34it/s]\n",
            "Batch 699/699, Loss: 1.037137: 100%|██████████| 699/699 [00:03<00:00, 204.27it/s]\n"
          ]
        },
        {
          "output_type": "stream",
          "name": "stdout",
          "text": [
            "\n",
            "Class-wise Accuracy:\n",
            "  Class 2: 9.24%\n",
            "  Class 0: 11.77%\n",
            "  Class 1: 93.98%\n",
            "Test Accuracy: 37.9%, Test Loss: 1.156913\n",
            "\n",
            "\n",
            "Class-wise Accuracy:\n",
            "  Class 2: 9.24%\n",
            "  Class 0: 11.77%\n",
            "  Class 1: 93.98%\n",
            "Train Accuracy: 55.48%, Average Train Loss: 0.961595, Test Accuracy: 37.94%, Average Test Loss: 1.156913\n",
            "\n",
            "Epoch 2/60: "
          ]
        },
        {
          "output_type": "stream",
          "name": "stderr",
          "text": [
            "100%|██████████| 2795/2795 [00:13<00:00, 200.07it/s]\n",
            "Batch 699/699, Loss: 1.051120: 100%|██████████| 699/699 [00:03<00:00, 214.72it/s]\n"
          ]
        },
        {
          "output_type": "stream",
          "name": "stdout",
          "text": [
            "\n",
            "Class-wise Accuracy:\n",
            "  Class 2: 6.99%\n",
            "  Class 0: 17.09%\n",
            "  Class 1: 99.02%\n",
            "Test Accuracy: 40.6%, Test Loss: 1.052447\n",
            "\n",
            "\n",
            "Class-wise Accuracy:\n",
            "  Class 2: 6.99%\n",
            "  Class 0: 17.09%\n",
            "  Class 1: 99.02%\n",
            "Train Accuracy: 60.32%, Average Train Loss: 0.857035, Test Accuracy: 40.61%, Average Test Loss: 1.052447\n",
            "\n",
            "Epoch 3/60: "
          ]
        },
        {
          "output_type": "stream",
          "name": "stderr",
          "text": [
            "100%|██████████| 2795/2795 [00:13<00:00, 201.02it/s]\n",
            "Batch 699/699, Loss: 1.006270: 100%|██████████| 699/699 [00:03<00:00, 218.80it/s]\n"
          ]
        },
        {
          "output_type": "stream",
          "name": "stdout",
          "text": [
            "\n",
            "Class-wise Accuracy:\n",
            "  Class 2: 29.97%\n",
            "  Class 0: 33.26%\n",
            "  Class 1: 98.50%\n",
            "Test Accuracy: 53.6%, Test Loss: 1.004082\n",
            "\n",
            "\n",
            "Class-wise Accuracy:\n",
            "  Class 2: 29.97%\n",
            "  Class 0: 33.26%\n",
            "  Class 1: 98.50%\n",
            "Train Accuracy: 62.74%, Average Train Loss: 0.823479, Test Accuracy: 53.59%, Average Test Loss: 1.004082\n",
            "\n",
            "Epoch 4/60: "
          ]
        },
        {
          "output_type": "stream",
          "name": "stderr",
          "text": [
            "100%|██████████| 2795/2795 [00:13<00:00, 204.59it/s]\n",
            "Batch 699/699, Loss: 1.069658: 100%|██████████| 699/699 [00:03<00:00, 209.55it/s]\n"
          ]
        },
        {
          "output_type": "stream",
          "name": "stdout",
          "text": [
            "\n",
            "Class-wise Accuracy:\n",
            "  Class 2: 13.92%\n",
            "  Class 0: 1.68%\n",
            "  Class 1: 98.29%\n",
            "Test Accuracy: 37.6%, Test Loss: 1.102133\n",
            "\n",
            "\n",
            "Class-wise Accuracy:\n",
            "  Class 2: 13.92%\n",
            "  Class 0: 1.68%\n",
            "  Class 1: 98.29%\n",
            "Train Accuracy: 65.88%, Average Train Loss: 0.768957, Test Accuracy: 37.57%, Average Test Loss: 1.102133\n",
            "\n",
            "Epoch 5/60: "
          ]
        },
        {
          "output_type": "stream",
          "name": "stderr",
          "text": [
            "100%|██████████| 2795/2795 [00:13<00:00, 202.34it/s]\n",
            "Batch 699/699, Loss: 1.099505: 100%|██████████| 699/699 [00:03<00:00, 213.75it/s]\n"
          ]
        },
        {
          "output_type": "stream",
          "name": "stdout",
          "text": [
            "\n",
            "Class-wise Accuracy:\n",
            "  Class 2: 0.56%\n",
            "  Class 0: 1.09%\n",
            "  Class 1: 99.55%\n",
            "Test Accuracy: 33.3%, Test Loss: 1.109120\n",
            "\n",
            "\n",
            "Class-wise Accuracy:\n",
            "  Class 2: 0.56%\n",
            "  Class 0: 1.09%\n",
            "  Class 1: 99.55%\n",
            "Train Accuracy: 66.33%, Average Train Loss: 0.763954, Test Accuracy: 33.28%, Average Test Loss: 1.109120\n",
            "\n",
            "Epoch 6/60: "
          ]
        },
        {
          "output_type": "stream",
          "name": "stderr",
          "text": [
            "100%|██████████| 2795/2795 [00:13<00:00, 202.51it/s]\n",
            "Batch 699/699, Loss: 1.042674: 100%|██████████| 699/699 [00:03<00:00, 210.27it/s]\n"
          ]
        },
        {
          "output_type": "stream",
          "name": "stdout",
          "text": [
            "\n",
            "Class-wise Accuracy:\n",
            "  Class 2: 34.62%\n",
            "  Class 0: 10.12%\n",
            "  Class 1: 94.68%\n",
            "Test Accuracy: 46.2%, Test Loss: 1.127476\n",
            "\n",
            "\n",
            "Class-wise Accuracy:\n",
            "  Class 2: 34.62%\n",
            "  Class 0: 10.12%\n",
            "  Class 1: 94.68%\n",
            "Train Accuracy: 65.80%, Average Train Loss: 0.771041, Test Accuracy: 46.19%, Average Test Loss: 1.127476\n",
            "\n",
            "Epoch 7/60: "
          ]
        },
        {
          "output_type": "stream",
          "name": "stderr",
          "text": [
            "100%|██████████| 2795/2795 [00:13<00:00, 204.22it/s]\n",
            "Batch 699/699, Loss: 1.062952: 100%|██████████| 699/699 [00:03<00:00, 213.64it/s]\n"
          ]
        },
        {
          "output_type": "stream",
          "name": "stdout",
          "text": [
            "\n",
            "Class-wise Accuracy:\n",
            "  Class 2: 13.31%\n",
            "  Class 0: 2.54%\n",
            "  Class 1: 98.20%\n",
            "Test Accuracy: 37.6%, Test Loss: 1.140980\n",
            "\n",
            "\n",
            "Class-wise Accuracy:\n",
            "  Class 2: 13.31%\n",
            "  Class 0: 2.54%\n",
            "  Class 1: 98.20%\n",
            "Train Accuracy: 65.78%, Average Train Loss: 0.778569, Test Accuracy: 37.62%, Average Test Loss: 1.140980\n",
            "\n",
            "Epoch 8/60: "
          ]
        },
        {
          "output_type": "stream",
          "name": "stderr",
          "text": [
            "100%|██████████| 2795/2795 [00:13<00:00, 204.31it/s]\n",
            "Batch 699/699, Loss: 1.083230: 100%|██████████| 699/699 [00:03<00:00, 214.35it/s]\n"
          ]
        },
        {
          "output_type": "stream",
          "name": "stdout",
          "text": [
            "\n",
            "Class-wise Accuracy:\n",
            "  Class 2: 2.13%\n",
            "  Class 0: 2.79%\n",
            "  Class 1: 99.48%\n",
            "Test Accuracy: 34.4%, Test Loss: 1.097727\n",
            "\n",
            "\n",
            "Class-wise Accuracy:\n",
            "  Class 2: 2.13%\n",
            "  Class 0: 2.79%\n",
            "  Class 1: 99.48%\n",
            "Train Accuracy: 67.99%, Average Train Loss: 0.735458, Test Accuracy: 34.35%, Average Test Loss: 1.097727\n",
            "\n",
            "Epoch 9/60: "
          ]
        },
        {
          "output_type": "stream",
          "name": "stderr",
          "text": [
            "100%|██████████| 2795/2795 [00:13<00:00, 205.22it/s]\n",
            "Batch 699/699, Loss: 1.020614: 100%|██████████| 699/699 [00:03<00:00, 215.23it/s]\n"
          ]
        },
        {
          "output_type": "stream",
          "name": "stdout",
          "text": [
            "\n",
            "Class-wise Accuracy:\n",
            "  Class 2: 35.41%\n",
            "  Class 0: 17.94%\n",
            "  Class 1: 93.63%\n",
            "Test Accuracy: 48.7%, Test Loss: 1.124579\n",
            "\n",
            "\n",
            "Class-wise Accuracy:\n",
            "  Class 2: 35.41%\n",
            "  Class 0: 17.94%\n",
            "  Class 1: 93.63%\n",
            "Train Accuracy: 68.92%, Average Train Loss: 0.725728, Test Accuracy: 48.72%, Average Test Loss: 1.124579\n",
            "\n",
            "Epoch 10/60: "
          ]
        },
        {
          "output_type": "stream",
          "name": "stderr",
          "text": [
            "100%|██████████| 2795/2795 [00:13<00:00, 205.64it/s]\n",
            "Batch 699/699, Loss: 0.929723: 100%|██████████| 699/699 [00:03<00:00, 216.31it/s]\n"
          ]
        },
        {
          "output_type": "stream",
          "name": "stdout",
          "text": [
            "\n",
            "Class-wise Accuracy:\n",
            "  Class 2: 49.33%\n",
            "  Class 0: 40.13%\n",
            "  Class 1: 94.99%\n",
            "Test Accuracy: 61.3%, Test Loss: 0.932306\n",
            "\n",
            "\n",
            "Class-wise Accuracy:\n",
            "  Class 2: 49.33%\n",
            "  Class 0: 40.13%\n",
            "  Class 1: 94.99%\n",
            "Train Accuracy: 70.41%, Average Train Loss: 0.699151, Test Accuracy: 61.27%, Average Test Loss: 0.932306\n",
            "\n",
            "Epoch 11/60: "
          ]
        },
        {
          "output_type": "stream",
          "name": "stderr",
          "text": [
            "100%|██████████| 2795/2795 [00:13<00:00, 205.49it/s]\n",
            "Batch 699/699, Loss: 0.789277: 100%|██████████| 699/699 [00:03<00:00, 221.76it/s]\n"
          ]
        },
        {
          "output_type": "stream",
          "name": "stdout",
          "text": [
            "\n",
            "Class-wise Accuracy:\n",
            "  Class 2: 62.76%\n",
            "  Class 0: 57.98%\n",
            "  Class 1: 91.24%\n",
            "Test Accuracy: 70.5%, Test Loss: 1.048896\n",
            "\n",
            "\n",
            "Class-wise Accuracy:\n",
            "  Class 2: 62.76%\n",
            "  Class 0: 57.98%\n",
            "  Class 1: 91.24%\n",
            "Train Accuracy: 72.70%, Average Train Loss: 0.652772, Test Accuracy: 70.53%, Average Test Loss: 1.048896\n",
            "\n",
            "Epoch 12/60: "
          ]
        },
        {
          "output_type": "stream",
          "name": "stderr",
          "text": [
            "100%|██████████| 2795/2795 [00:13<00:00, 204.34it/s]\n",
            "Batch 699/699, Loss: 0.827482: 100%|██████████| 699/699 [00:03<00:00, 213.33it/s]\n"
          ]
        },
        {
          "output_type": "stream",
          "name": "stdout",
          "text": [
            "\n",
            "Class-wise Accuracy:\n",
            "  Class 2: 61.08%\n",
            "  Class 0: 48.90%\n",
            "  Class 1: 84.15%\n",
            "Test Accuracy: 64.6%, Test Loss: 0.864322\n",
            "\n",
            "\n",
            "Class-wise Accuracy:\n",
            "  Class 2: 61.08%\n",
            "  Class 0: 48.90%\n",
            "  Class 1: 84.15%\n",
            "Train Accuracy: 74.11%, Average Train Loss: 0.621013, Test Accuracy: 64.60%, Average Test Loss: 0.864322\n",
            "\n",
            "Epoch 13/60: "
          ]
        },
        {
          "output_type": "stream",
          "name": "stderr",
          "text": [
            "100%|██████████| 2795/2795 [00:13<00:00, 206.45it/s]\n",
            "Batch 699/699, Loss: 0.887184: 100%|██████████| 699/699 [00:03<00:00, 223.03it/s]\n"
          ]
        },
        {
          "output_type": "stream",
          "name": "stdout",
          "text": [
            "\n",
            "Class-wise Accuracy:\n",
            "  Class 2: 65.95%\n",
            "  Class 0: 45.13%\n",
            "  Class 1: 91.71%\n",
            "Test Accuracy: 67.5%, Test Loss: 0.828547\n",
            "\n",
            "\n",
            "Class-wise Accuracy:\n",
            "  Class 2: 65.95%\n",
            "  Class 0: 45.13%\n",
            "  Class 1: 91.71%\n",
            "Train Accuracy: 73.24%, Average Train Loss: 0.642836, Test Accuracy: 67.48%, Average Test Loss: 0.828547\n",
            "\n",
            "Epoch 14/60: "
          ]
        },
        {
          "output_type": "stream",
          "name": "stderr",
          "text": [
            "100%|██████████| 2795/2795 [00:13<00:00, 206.17it/s]\n",
            "Batch 699/699, Loss: 0.931714: 100%|██████████| 699/699 [00:03<00:00, 219.11it/s]\n"
          ]
        },
        {
          "output_type": "stream",
          "name": "stdout",
          "text": [
            "\n",
            "Class-wise Accuracy:\n",
            "  Class 2: 54.07%\n",
            "  Class 0: 40.47%\n",
            "  Class 1: 84.31%\n",
            "Test Accuracy: 59.5%, Test Loss: 0.967482\n",
            "\n",
            "\n",
            "Class-wise Accuracy:\n",
            "  Class 2: 54.07%\n",
            "  Class 0: 40.47%\n",
            "  Class 1: 84.31%\n",
            "Train Accuracy: 75.00%, Average Train Loss: 0.607322, Test Accuracy: 59.48%, Average Test Loss: 0.967482\n",
            "\n",
            "Epoch 15/60: "
          ]
        },
        {
          "output_type": "stream",
          "name": "stderr",
          "text": [
            "100%|██████████| 2795/2795 [00:13<00:00, 206.26it/s]\n",
            "Batch 699/699, Loss: 1.043023: 100%|██████████| 699/699 [00:03<00:00, 217.30it/s]\n"
          ]
        },
        {
          "output_type": "stream",
          "name": "stdout",
          "text": [
            "\n",
            "Class-wise Accuracy:\n",
            "  Class 2: 25.24%\n",
            "  Class 0: 2.60%\n",
            "  Class 1: 99.32%\n",
            "Test Accuracy: 42.0%, Test Loss: 1.048180\n",
            "\n",
            "\n",
            "Class-wise Accuracy:\n",
            "  Class 2: 25.24%\n",
            "  Class 0: 2.60%\n",
            "  Class 1: 99.32%\n",
            "Train Accuracy: 75.05%, Average Train Loss: 0.602603, Test Accuracy: 42.04%, Average Test Loss: 1.048180\n",
            "\n",
            "Epoch 16/60: "
          ]
        },
        {
          "output_type": "stream",
          "name": "stderr",
          "text": [
            "100%|██████████| 2795/2795 [00:13<00:00, 204.76it/s]\n",
            "Batch 699/699, Loss: 0.818779: 100%|██████████| 699/699 [00:03<00:00, 205.54it/s]\n"
          ]
        },
        {
          "output_type": "stream",
          "name": "stdout",
          "text": [
            "\n",
            "Class-wise Accuracy:\n",
            "  Class 2: 60.28%\n",
            "  Class 0: 54.64%\n",
            "  Class 1: 94.64%\n",
            "Test Accuracy: 69.7%, Test Loss: 0.773224\n",
            "\n",
            "\n",
            "Class-wise Accuracy:\n",
            "  Class 2: 60.28%\n",
            "  Class 0: 54.64%\n",
            "  Class 1: 94.64%\n",
            "Train Accuracy: 75.05%, Average Train Loss: 0.604138, Test Accuracy: 69.70%, Average Test Loss: 0.773224\n",
            "\n",
            "Epoch 17/60: "
          ]
        },
        {
          "output_type": "stream",
          "name": "stderr",
          "text": [
            "100%|██████████| 2795/2795 [00:13<00:00, 200.10it/s]\n",
            "Batch 699/699, Loss: 0.755161: 100%|██████████| 699/699 [00:03<00:00, 210.50it/s]\n"
          ]
        },
        {
          "output_type": "stream",
          "name": "stdout",
          "text": [
            "\n",
            "Class-wise Accuracy:\n",
            "  Class 2: 73.08%\n",
            "  Class 0: 61.67%\n",
            "  Class 1: 85.62%\n",
            "Test Accuracy: 73.4%, Test Loss: 0.720884\n",
            "\n",
            "\n",
            "Class-wise Accuracy:\n",
            "  Class 2: 73.08%\n",
            "  Class 0: 61.67%\n",
            "  Class 1: 85.62%\n",
            "Train Accuracy: 73.38%, Average Train Loss: 0.630316, Test Accuracy: 73.40%, Average Test Loss: 0.720884\n",
            "\n",
            "Epoch 18/60: "
          ]
        },
        {
          "output_type": "stream",
          "name": "stderr",
          "text": [
            "100%|██████████| 2795/2795 [00:13<00:00, 203.16it/s]\n",
            "Batch 699/699, Loss: 0.849134: 100%|██████████| 699/699 [00:03<00:00, 203.71it/s]\n"
          ]
        },
        {
          "output_type": "stream",
          "name": "stdout",
          "text": [
            "\n",
            "Class-wise Accuracy:\n",
            "  Class 2: 53.17%\n",
            "  Class 0: 48.79%\n",
            "  Class 1: 96.80%\n",
            "Test Accuracy: 66.1%, Test Loss: 0.907827\n",
            "\n",
            "\n",
            "Class-wise Accuracy:\n",
            "  Class 2: 53.17%\n",
            "  Class 0: 48.79%\n",
            "  Class 1: 96.80%\n",
            "Train Accuracy: 76.32%, Average Train Loss: 0.578079, Test Accuracy: 66.05%, Average Test Loss: 0.907827\n",
            "\n",
            "Epoch 19/60: "
          ]
        },
        {
          "output_type": "stream",
          "name": "stderr",
          "text": [
            "100%|██████████| 2795/2795 [00:13<00:00, 201.50it/s]\n",
            "Batch 699/699, Loss: 0.811889: 100%|██████████| 699/699 [00:03<00:00, 211.10it/s]\n"
          ]
        },
        {
          "output_type": "stream",
          "name": "stdout",
          "text": [
            "\n",
            "Class-wise Accuracy:\n",
            "  Class 2: 77.79%\n",
            "  Class 0: 55.78%\n",
            "  Class 1: 79.40%\n",
            "Test Accuracy: 71.0%, Test Loss: 0.770122\n",
            "\n",
            "\n",
            "Class-wise Accuracy:\n",
            "  Class 2: 77.79%\n",
            "  Class 0: 55.78%\n",
            "  Class 1: 79.40%\n",
            "Train Accuracy: 76.58%, Average Train Loss: 0.574061, Test Accuracy: 70.98%, Average Test Loss: 0.770122\n",
            "\n",
            "Epoch 20/60: "
          ]
        },
        {
          "output_type": "stream",
          "name": "stderr",
          "text": [
            "100%|██████████| 2795/2795 [00:13<00:00, 205.31it/s]\n",
            "Batch 699/699, Loss: 0.825105: 100%|██████████| 699/699 [00:03<00:00, 209.95it/s]\n"
          ]
        },
        {
          "output_type": "stream",
          "name": "stdout",
          "text": [
            "\n",
            "Class-wise Accuracy:\n",
            "  Class 2: 66.59%\n",
            "  Class 0: 59.15%\n",
            "  Class 1: 88.17%\n",
            "Test Accuracy: 71.2%, Test Loss: 0.813180\n",
            "\n",
            "\n",
            "Class-wise Accuracy:\n",
            "  Class 2: 66.59%\n",
            "  Class 0: 59.15%\n",
            "  Class 1: 88.17%\n",
            "Train Accuracy: 74.29%, Average Train Loss: 0.620084, Test Accuracy: 71.20%, Average Test Loss: 0.813180\n",
            "\n",
            "Epoch 21/60: "
          ]
        },
        {
          "output_type": "stream",
          "name": "stderr",
          "text": [
            "100%|██████████| 2795/2795 [00:13<00:00, 204.26it/s]\n",
            "Batch 699/699, Loss: 0.645220: 100%|██████████| 699/699 [00:03<00:00, 218.21it/s]\n"
          ]
        },
        {
          "output_type": "stream",
          "name": "stdout",
          "text": [
            "\n",
            "Class-wise Accuracy:\n",
            "  Class 2: 73.08%\n",
            "  Class 0: 65.51%\n",
            "  Class 1: 84.24%\n",
            "Test Accuracy: 74.2%, Test Loss: 0.807988\n",
            "\n",
            "\n",
            "Class-wise Accuracy:\n",
            "  Class 2: 73.08%\n",
            "  Class 0: 65.51%\n",
            "  Class 1: 84.24%\n",
            "Train Accuracy: 76.62%, Average Train Loss: 0.571231, Test Accuracy: 74.22%, Average Test Loss: 0.807988\n",
            "\n",
            "Epoch 22/60: "
          ]
        },
        {
          "output_type": "stream",
          "name": "stderr",
          "text": [
            "100%|██████████| 2795/2795 [00:13<00:00, 203.57it/s]\n",
            "Batch 699/699, Loss: 0.902017: 100%|██████████| 699/699 [00:03<00:00, 211.51it/s]\n"
          ]
        },
        {
          "output_type": "stream",
          "name": "stdout",
          "text": [
            "\n",
            "Class-wise Accuracy:\n",
            "  Class 2: 73.88%\n",
            "  Class 0: 32.85%\n",
            "  Class 1: 88.70%\n",
            "Test Accuracy: 65.1%, Test Loss: 0.891818\n",
            "\n",
            "\n",
            "Class-wise Accuracy:\n",
            "  Class 2: 73.88%\n",
            "  Class 0: 32.85%\n",
            "  Class 1: 88.70%\n",
            "Train Accuracy: 77.21%, Average Train Loss: 0.558442, Test Accuracy: 65.07%, Average Test Loss: 0.891818\n",
            "\n",
            "Epoch 23/60: "
          ]
        },
        {
          "output_type": "stream",
          "name": "stderr",
          "text": [
            "100%|██████████| 2795/2795 [00:13<00:00, 204.95it/s]\n",
            "Batch 699/699, Loss: 0.688998: 100%|██████████| 699/699 [00:03<00:00, 218.65it/s]\n"
          ]
        },
        {
          "output_type": "stream",
          "name": "stdout",
          "text": [
            "\n",
            "Class-wise Accuracy:\n",
            "  Class 2: 75.55%\n",
            "  Class 0: 60.67%\n",
            "  Class 1: 82.38%\n",
            "Test Accuracy: 72.8%, Test Loss: 0.669817\n",
            "\n",
            "\n",
            "Class-wise Accuracy:\n",
            "  Class 2: 75.55%\n",
            "  Class 0: 60.67%\n",
            "  Class 1: 82.38%\n",
            "Train Accuracy: 76.05%, Average Train Loss: 0.579914, Test Accuracy: 72.83%, Average Test Loss: 0.669817\n",
            "\n",
            "Epoch 24/60: "
          ]
        },
        {
          "output_type": "stream",
          "name": "stderr",
          "text": [
            "100%|██████████| 2795/2795 [00:13<00:00, 205.36it/s]\n",
            "Batch 699/699, Loss: 0.912110: 100%|██████████| 699/699 [00:03<00:00, 219.12it/s]\n"
          ]
        },
        {
          "output_type": "stream",
          "name": "stdout",
          "text": [
            "\n",
            "Class-wise Accuracy:\n",
            "  Class 2: 63.01%\n",
            "  Class 0: 40.38%\n",
            "  Class 1: 80.48%\n",
            "Test Accuracy: 61.2%, Test Loss: 0.937522\n",
            "\n",
            "\n",
            "Class-wise Accuracy:\n",
            "  Class 2: 63.01%\n",
            "  Class 0: 40.38%\n",
            "  Class 1: 80.48%\n",
            "Train Accuracy: 74.44%, Average Train Loss: 0.615605, Test Accuracy: 61.21%, Average Test Loss: 0.937522\n",
            "\n",
            "Epoch 25/60: "
          ]
        },
        {
          "output_type": "stream",
          "name": "stderr",
          "text": [
            "100%|██████████| 2795/2795 [00:13<00:00, 204.23it/s]\n",
            "Batch 699/699, Loss: 0.622642: 100%|██████████| 699/699 [00:03<00:00, 210.09it/s]\n"
          ]
        },
        {
          "output_type": "stream",
          "name": "stdout",
          "text": [
            "\n",
            "Class-wise Accuracy:\n",
            "  Class 2: 77.46%\n",
            "  Class 0: 69.28%\n",
            "  Class 1: 82.20%\n",
            "Test Accuracy: 76.3%, Test Loss: 0.642505\n",
            "\n",
            "\n",
            "Class-wise Accuracy:\n",
            "  Class 2: 77.46%\n",
            "  Class 0: 69.28%\n",
            "  Class 1: 82.20%\n",
            "Train Accuracy: 78.27%, Average Train Loss: 0.531924, Test Accuracy: 76.29%, Average Test Loss: 0.642505\n",
            "\n",
            "Epoch 26/60: "
          ]
        },
        {
          "output_type": "stream",
          "name": "stderr",
          "text": [
            "100%|██████████| 2795/2795 [00:13<00:00, 204.16it/s]\n",
            "Batch 699/699, Loss: 0.554271: 100%|██████████| 699/699 [00:03<00:00, 215.35it/s]\n"
          ]
        },
        {
          "output_type": "stream",
          "name": "stdout",
          "text": [
            "\n",
            "Class-wise Accuracy:\n",
            "  Class 2: 80.59%\n",
            "  Class 0: 68.14%\n",
            "  Class 1: 83.90%\n",
            "Test Accuracy: 77.5%, Test Loss: 0.631595\n",
            "\n",
            "\n",
            "Class-wise Accuracy:\n",
            "  Class 2: 80.59%\n",
            "  Class 0: 68.14%\n",
            "  Class 1: 83.90%\n",
            "Train Accuracy: 79.28%, Average Train Loss: 0.510427, Test Accuracy: 77.52%, Average Test Loss: 0.631595\n",
            "\n",
            "Epoch 27/60: "
          ]
        },
        {
          "output_type": "stream",
          "name": "stderr",
          "text": [
            "100%|██████████| 2795/2795 [00:13<00:00, 205.25it/s]\n",
            "Batch 699/699, Loss: 0.793178: 100%|██████████| 699/699 [00:03<00:00, 216.06it/s]\n"
          ]
        },
        {
          "output_type": "stream",
          "name": "stdout",
          "text": [
            "\n",
            "Class-wise Accuracy:\n",
            "  Class 2: 77.69%\n",
            "  Class 0: 49.84%\n",
            "  Class 1: 77.18%\n",
            "Test Accuracy: 68.2%, Test Loss: 0.939388\n",
            "\n",
            "\n",
            "Class-wise Accuracy:\n",
            "  Class 2: 77.69%\n",
            "  Class 0: 49.84%\n",
            "  Class 1: 77.18%\n",
            "Train Accuracy: 78.33%, Average Train Loss: 0.537041, Test Accuracy: 68.23%, Average Test Loss: 0.939388\n",
            "\n",
            "Epoch 28/60: "
          ]
        },
        {
          "output_type": "stream",
          "name": "stderr",
          "text": [
            "100%|██████████| 2795/2795 [00:13<00:00, 205.77it/s]\n",
            "Batch 699/699, Loss: 0.849127: 100%|██████████| 699/699 [00:03<00:00, 212.12it/s]\n"
          ]
        },
        {
          "output_type": "stream",
          "name": "stdout",
          "text": [
            "\n",
            "Class-wise Accuracy:\n",
            "  Class 2: 67.09%\n",
            "  Class 0: 34.68%\n",
            "  Class 1: 85.97%\n",
            "Test Accuracy: 62.5%, Test Loss: 0.861387\n",
            "\n",
            "\n",
            "Class-wise Accuracy:\n",
            "  Class 2: 67.09%\n",
            "  Class 0: 34.68%\n",
            "  Class 1: 85.97%\n",
            "Train Accuracy: 79.17%, Average Train Loss: 0.515862, Test Accuracy: 62.49%, Average Test Loss: 0.861387\n",
            "\n",
            "Epoch 29/60: "
          ]
        },
        {
          "output_type": "stream",
          "name": "stderr",
          "text": [
            "100%|██████████| 2795/2795 [00:13<00:00, 205.00it/s]\n",
            "Batch 699/699, Loss: 0.658163: 100%|██████████| 699/699 [00:03<00:00, 217.28it/s]\n"
          ]
        },
        {
          "output_type": "stream",
          "name": "stdout",
          "text": [
            "\n",
            "Class-wise Accuracy:\n",
            "  Class 2: 73.57%\n",
            "  Class 0: 65.04%\n",
            "  Class 1: 90.72%\n",
            "Test Accuracy: 76.4%, Test Loss: 0.634145\n",
            "\n",
            "\n",
            "Class-wise Accuracy:\n",
            "  Class 2: 73.57%\n",
            "  Class 0: 65.04%\n",
            "  Class 1: 90.72%\n",
            "Train Accuracy: 79.28%, Average Train Loss: 0.507133, Test Accuracy: 76.36%, Average Test Loss: 0.634145\n",
            "\n",
            "Epoch 30/60: "
          ]
        },
        {
          "output_type": "stream",
          "name": "stderr",
          "text": [
            "100%|██████████| 2795/2795 [00:13<00:00, 204.54it/s]\n",
            "Batch 699/699, Loss: 0.546768: 100%|██████████| 699/699 [00:03<00:00, 213.04it/s]\n"
          ]
        },
        {
          "output_type": "stream",
          "name": "stdout",
          "text": [
            "\n",
            "Class-wise Accuracy:\n",
            "  Class 2: 80.04%\n",
            "  Class 0: 70.66%\n",
            "  Class 1: 82.17%\n",
            "Test Accuracy: 77.6%, Test Loss: 0.638425\n",
            "\n",
            "\n",
            "Class-wise Accuracy:\n",
            "  Class 2: 80.04%\n",
            "  Class 0: 70.66%\n",
            "  Class 1: 82.17%\n",
            "Train Accuracy: 79.76%, Average Train Loss: 0.499959, Test Accuracy: 77.61%, Average Test Loss: 0.638425\n",
            "\n",
            "Epoch 31/60: "
          ]
        },
        {
          "output_type": "stream",
          "name": "stderr",
          "text": [
            "100%|██████████| 2795/2795 [00:13<00:00, 204.26it/s]\n",
            "Batch 699/699, Loss: 0.620427: 100%|██████████| 699/699 [00:03<00:00, 208.94it/s]\n"
          ]
        },
        {
          "output_type": "stream",
          "name": "stdout",
          "text": [
            "\n",
            "Class-wise Accuracy:\n",
            "  Class 2: 73.05%\n",
            "  Class 0: 65.96%\n",
            "  Class 1: 88.08%\n",
            "Test Accuracy: 75.6%, Test Loss: 0.823014\n",
            "\n",
            "\n",
            "Class-wise Accuracy:\n",
            "  Class 2: 73.05%\n",
            "  Class 0: 65.96%\n",
            "  Class 1: 88.08%\n",
            "Train Accuracy: 79.06%, Average Train Loss: 0.515481, Test Accuracy: 75.63%, Average Test Loss: 0.823014\n",
            "\n",
            "Epoch 32/60: "
          ]
        },
        {
          "output_type": "stream",
          "name": "stderr",
          "text": [
            "100%|██████████| 2795/2795 [00:13<00:00, 204.46it/s]\n",
            "Batch 699/699, Loss: 0.506636: 100%|██████████| 699/699 [00:03<00:00, 213.29it/s]\n"
          ]
        },
        {
          "output_type": "stream",
          "name": "stdout",
          "text": [
            "\n",
            "Class-wise Accuracy:\n",
            "  Class 2: 76.72%\n",
            "  Class 0: 75.97%\n",
            "  Class 1: 85.85%\n",
            "Test Accuracy: 79.5%, Test Loss: 0.746066\n",
            "\n",
            "\n",
            "Class-wise Accuracy:\n",
            "  Class 2: 76.72%\n",
            "  Class 0: 75.97%\n",
            "  Class 1: 85.85%\n",
            "Train Accuracy: 79.63%, Average Train Loss: 0.498855, Test Accuracy: 79.47%, Average Test Loss: 0.746066\n",
            "\n",
            "Epoch 33/60: "
          ]
        },
        {
          "output_type": "stream",
          "name": "stderr",
          "text": [
            "100%|██████████| 2795/2795 [00:13<00:00, 202.86it/s]\n",
            "Batch 699/699, Loss: 0.568928: 100%|██████████| 699/699 [00:03<00:00, 208.80it/s]\n"
          ]
        },
        {
          "output_type": "stream",
          "name": "stdout",
          "text": [
            "\n",
            "Class-wise Accuracy:\n",
            "  Class 2: 81.80%\n",
            "  Class 0: 63.40%\n",
            "  Class 1: 82.92%\n",
            "Test Accuracy: 76.0%, Test Loss: 0.629556\n",
            "\n",
            "\n",
            "Class-wise Accuracy:\n",
            "  Class 2: 81.80%\n",
            "  Class 0: 63.40%\n",
            "  Class 1: 82.92%\n",
            "Train Accuracy: 79.93%, Average Train Loss: 0.496933, Test Accuracy: 76.03%, Average Test Loss: 0.629556\n",
            "\n",
            "Epoch 34/60: "
          ]
        },
        {
          "output_type": "stream",
          "name": "stderr",
          "text": [
            "100%|██████████| 2795/2795 [00:13<00:00, 204.23it/s]\n",
            "Batch 699/699, Loss: 0.748746: 100%|██████████| 699/699 [00:03<00:00, 209.09it/s]\n"
          ]
        },
        {
          "output_type": "stream",
          "name": "stdout",
          "text": [
            "\n",
            "Class-wise Accuracy:\n",
            "  Class 2: 63.69%\n",
            "  Class 0: 57.90%\n",
            "  Class 1: 94.11%\n",
            "Test Accuracy: 71.8%, Test Loss: 0.847523\n",
            "\n",
            "\n",
            "Class-wise Accuracy:\n",
            "  Class 2: 63.69%\n",
            "  Class 0: 57.90%\n",
            "  Class 1: 94.11%\n",
            "Train Accuracy: 80.24%, Average Train Loss: 0.484983, Test Accuracy: 71.76%, Average Test Loss: 0.847523\n",
            "\n",
            "Epoch 35/60: "
          ]
        },
        {
          "output_type": "stream",
          "name": "stderr",
          "text": [
            "100%|██████████| 2795/2795 [00:13<00:00, 204.03it/s]\n",
            "Batch 699/699, Loss: 0.904851: 100%|██████████| 699/699 [00:03<00:00, 211.02it/s]\n"
          ]
        },
        {
          "output_type": "stream",
          "name": "stdout",
          "text": [
            "\n",
            "Class-wise Accuracy:\n",
            "  Class 2: 75.98%\n",
            "  Class 0: 24.50%\n",
            "  Class 1: 92.90%\n",
            "Test Accuracy: 64.4%, Test Loss: 0.933425\n",
            "\n",
            "\n",
            "Class-wise Accuracy:\n",
            "  Class 2: 75.98%\n",
            "  Class 0: 24.50%\n",
            "  Class 1: 92.90%\n",
            "Train Accuracy: 80.18%, Average Train Loss: 0.484621, Test Accuracy: 64.37%, Average Test Loss: 0.933425\n",
            "\n",
            "Epoch 36/60: "
          ]
        },
        {
          "output_type": "stream",
          "name": "stderr",
          "text": [
            "100%|██████████| 2795/2795 [00:13<00:00, 204.33it/s]\n",
            "Batch 699/699, Loss: 0.711731: 100%|██████████| 699/699 [00:03<00:00, 204.46it/s]\n"
          ]
        },
        {
          "output_type": "stream",
          "name": "stdout",
          "text": [
            "\n",
            "Class-wise Accuracy:\n",
            "  Class 2: 80.17%\n",
            "  Class 0: 43.90%\n",
            "  Class 1: 76.05%\n",
            "Test Accuracy: 66.7%, Test Loss: 0.779572\n",
            "\n",
            "\n",
            "Class-wise Accuracy:\n",
            "  Class 2: 80.17%\n",
            "  Class 0: 43.90%\n",
            "  Class 1: 76.05%\n",
            "Train Accuracy: 80.03%, Average Train Loss: 0.492402, Test Accuracy: 66.72%, Average Test Loss: 0.779572\n",
            "\n",
            "Epoch 37/60: "
          ]
        },
        {
          "output_type": "stream",
          "name": "stderr",
          "text": [
            "100%|██████████| 2795/2795 [00:13<00:00, 204.64it/s]\n",
            "Batch 699/699, Loss: 0.477593: 100%|██████████| 699/699 [00:03<00:00, 216.63it/s]\n"
          ]
        },
        {
          "output_type": "stream",
          "name": "stdout",
          "text": [
            "\n",
            "Class-wise Accuracy:\n",
            "  Class 2: 82.56%\n",
            "  Class 0: 74.05%\n",
            "  Class 1: 84.93%\n",
            "Test Accuracy: 80.5%, Test Loss: 0.503685\n",
            "\n",
            "\n",
            "Class-wise Accuracy:\n",
            "  Class 2: 82.56%\n",
            "  Class 0: 74.05%\n",
            "  Class 1: 84.93%\n",
            "Train Accuracy: 80.48%, Average Train Loss: 0.485358, Test Accuracy: 80.50%, Average Test Loss: 0.503685\n",
            "\n",
            "Epoch 38/60: "
          ]
        },
        {
          "output_type": "stream",
          "name": "stderr",
          "text": [
            "100%|██████████| 2795/2795 [00:13<00:00, 203.71it/s]\n",
            "Batch 699/699, Loss: 0.461886: 100%|██████████| 699/699 [00:03<00:00, 206.43it/s]\n"
          ]
        },
        {
          "output_type": "stream",
          "name": "stdout",
          "text": [
            "\n",
            "Class-wise Accuracy:\n",
            "  Class 2: 83.49%\n",
            "  Class 0: 73.57%\n",
            "  Class 1: 83.78%\n",
            "Test Accuracy: 80.3%, Test Loss: 0.498445\n",
            "\n",
            "\n",
            "Class-wise Accuracy:\n",
            "  Class 2: 83.49%\n",
            "  Class 0: 73.57%\n",
            "  Class 1: 83.78%\n",
            "Train Accuracy: 80.86%, Average Train Loss: 0.473996, Test Accuracy: 80.28%, Average Test Loss: 0.498445\n",
            "\n",
            "Epoch 39/60: "
          ]
        },
        {
          "output_type": "stream",
          "name": "stderr",
          "text": [
            "100%|██████████| 2795/2795 [00:13<00:00, 203.47it/s]\n",
            "Batch 699/699, Loss: 0.464517: 100%|██████████| 699/699 [00:03<00:00, 215.24it/s]\n"
          ]
        },
        {
          "output_type": "stream",
          "name": "stdout",
          "text": [
            "\n",
            "Class-wise Accuracy:\n",
            "  Class 2: 88.54%\n",
            "  Class 0: 69.67%\n",
            "  Class 1: 78.09%\n",
            "Test Accuracy: 78.8%, Test Loss: 0.530617\n",
            "\n",
            "\n",
            "Class-wise Accuracy:\n",
            "  Class 2: 88.54%\n",
            "  Class 0: 69.67%\n",
            "  Class 1: 78.09%\n",
            "Train Accuracy: 80.83%, Average Train Loss: 0.473391, Test Accuracy: 78.81%, Average Test Loss: 0.530617\n",
            "\n",
            "Epoch 40/60: "
          ]
        },
        {
          "output_type": "stream",
          "name": "stderr",
          "text": [
            "100%|██████████| 2795/2795 [00:13<00:00, 204.42it/s]\n",
            "Batch 699/699, Loss: 0.534589: 100%|██████████| 699/699 [00:03<00:00, 214.07it/s]\n"
          ]
        },
        {
          "output_type": "stream",
          "name": "stdout",
          "text": [
            "\n",
            "Class-wise Accuracy:\n",
            "  Class 2: 76.28%\n",
            "  Class 0: 61.00%\n",
            "  Class 1: 85.33%\n",
            "Test Accuracy: 74.2%, Test Loss: 0.711458\n",
            "\n",
            "\n",
            "Class-wise Accuracy:\n",
            "  Class 2: 76.28%\n",
            "  Class 0: 61.00%\n",
            "  Class 1: 85.33%\n",
            "Train Accuracy: 80.90%, Average Train Loss: 0.474858, Test Accuracy: 74.16%, Average Test Loss: 0.711458\n",
            "\n",
            "Epoch 41/60: "
          ]
        },
        {
          "output_type": "stream",
          "name": "stderr",
          "text": [
            "100%|██████████| 2795/2795 [00:13<00:00, 205.22it/s]\n",
            "Batch 699/699, Loss: 0.500400: 100%|██████████| 699/699 [00:03<00:00, 204.53it/s]\n"
          ]
        },
        {
          "output_type": "stream",
          "name": "stdout",
          "text": [
            "\n",
            "Class-wise Accuracy:\n",
            "  Class 2: 84.84%\n",
            "  Class 0: 66.11%\n",
            "  Class 1: 82.02%\n",
            "Test Accuracy: 77.7%, Test Loss: 0.569366\n",
            "\n",
            "\n",
            "Class-wise Accuracy:\n",
            "  Class 2: 84.84%\n",
            "  Class 0: 66.11%\n",
            "  Class 1: 82.02%\n",
            "Train Accuracy: 81.15%, Average Train Loss: 0.465185, Test Accuracy: 77.67%, Average Test Loss: 0.569366\n",
            "\n",
            "Epoch 42/60: "
          ]
        },
        {
          "output_type": "stream",
          "name": "stderr",
          "text": [
            "100%|██████████| 2795/2795 [00:13<00:00, 205.20it/s]\n",
            "Batch 699/699, Loss: 0.507554: 100%|██████████| 699/699 [00:03<00:00, 209.55it/s]\n"
          ]
        },
        {
          "output_type": "stream",
          "name": "stdout",
          "text": [
            "\n",
            "Class-wise Accuracy:\n",
            "  Class 2: 80.63%\n",
            "  Class 0: 69.95%\n",
            "  Class 1: 85.47%\n",
            "Test Accuracy: 78.7%, Test Loss: 0.576241\n",
            "\n",
            "\n",
            "Class-wise Accuracy:\n",
            "  Class 2: 80.63%\n",
            "  Class 0: 69.95%\n",
            "  Class 1: 85.47%\n",
            "Train Accuracy: 81.29%, Average Train Loss: 0.461061, Test Accuracy: 78.66%, Average Test Loss: 0.576241\n",
            "\n",
            "Epoch 43/60: "
          ]
        },
        {
          "output_type": "stream",
          "name": "stderr",
          "text": [
            "100%|██████████| 2795/2795 [00:13<00:00, 205.18it/s]\n",
            "Batch 699/699, Loss: 0.441781: 100%|██████████| 699/699 [00:03<00:00, 206.46it/s]\n"
          ]
        },
        {
          "output_type": "stream",
          "name": "stdout",
          "text": [
            "\n",
            "Class-wise Accuracy:\n",
            "  Class 2: 78.77%\n",
            "  Class 0: 81.34%\n",
            "  Class 1: 87.74%\n",
            "Test Accuracy: 82.6%, Test Loss: 0.600999\n",
            "\n",
            "\n",
            "Class-wise Accuracy:\n",
            "  Class 2: 78.77%\n",
            "  Class 0: 81.34%\n",
            "  Class 1: 87.74%\n",
            "Train Accuracy: 80.94%, Average Train Loss: 0.470224, Test Accuracy: 82.58%, Average Test Loss: 0.600999\n",
            "\n",
            "Epoch 44/60: "
          ]
        },
        {
          "output_type": "stream",
          "name": "stderr",
          "text": [
            "100%|██████████| 2795/2795 [00:13<00:00, 204.67it/s]\n",
            "Batch 699/699, Loss: 0.518185: 100%|██████████| 699/699 [00:03<00:00, 216.18it/s]\n"
          ]
        },
        {
          "output_type": "stream",
          "name": "stdout",
          "text": [
            "\n",
            "Class-wise Accuracy:\n",
            "  Class 2: 82.13%\n",
            "  Class 0: 71.99%\n",
            "  Class 1: 84.10%\n",
            "Test Accuracy: 79.4%, Test Loss: 0.646624\n",
            "\n",
            "\n",
            "Class-wise Accuracy:\n",
            "  Class 2: 82.13%\n",
            "  Class 0: 71.99%\n",
            "  Class 1: 84.10%\n",
            "Train Accuracy: 81.32%, Average Train Loss: 0.462983, Test Accuracy: 79.40%, Average Test Loss: 0.646624\n",
            "\n",
            "Epoch 45/60: "
          ]
        },
        {
          "output_type": "stream",
          "name": "stderr",
          "text": [
            "100%|██████████| 2795/2795 [00:13<00:00, 203.96it/s]\n",
            "Batch 699/699, Loss: 0.452865: 100%|██████████| 699/699 [00:03<00:00, 211.38it/s]\n"
          ]
        },
        {
          "output_type": "stream",
          "name": "stdout",
          "text": [
            "\n",
            "Class-wise Accuracy:\n",
            "  Class 2: 84.19%\n",
            "  Class 0: 72.85%\n",
            "  Class 1: 83.37%\n",
            "Test Accuracy: 80.1%, Test Loss: 0.514401\n",
            "\n",
            "\n",
            "Class-wise Accuracy:\n",
            "  Class 2: 84.19%\n",
            "  Class 0: 72.85%\n",
            "  Class 1: 83.37%\n",
            "Train Accuracy: 81.51%, Average Train Loss: 0.456770, Test Accuracy: 80.14%, Average Test Loss: 0.514401\n",
            "\n",
            "Epoch 46/60: "
          ]
        },
        {
          "output_type": "stream",
          "name": "stderr",
          "text": [
            "100%|██████████| 2795/2795 [00:13<00:00, 205.88it/s]\n",
            "Batch 699/699, Loss: 0.539258: 100%|██████████| 699/699 [00:03<00:00, 212.13it/s]\n"
          ]
        },
        {
          "output_type": "stream",
          "name": "stdout",
          "text": [
            "\n",
            "Class-wise Accuracy:\n",
            "  Class 2: 79.01%\n",
            "  Class 0: 52.44%\n",
            "  Class 1: 81.75%\n",
            "Test Accuracy: 71.1%, Test Loss: 0.817571\n",
            "\n",
            "\n",
            "Class-wise Accuracy:\n",
            "  Class 2: 79.01%\n",
            "  Class 0: 52.44%\n",
            "  Class 1: 81.75%\n",
            "Train Accuracy: 81.58%, Average Train Loss: 0.455542, Test Accuracy: 71.05%, Average Test Loss: 0.817571\n",
            "\n",
            "Epoch 47/60: "
          ]
        },
        {
          "output_type": "stream",
          "name": "stderr",
          "text": [
            "100%|██████████| 2795/2795 [00:13<00:00, 203.98it/s]\n",
            "Batch 699/699, Loss: 0.426268: 100%|██████████| 699/699 [00:03<00:00, 213.75it/s]\n"
          ]
        },
        {
          "output_type": "stream",
          "name": "stdout",
          "text": [
            "\n",
            "Class-wise Accuracy:\n",
            "  Class 2: 85.58%\n",
            "  Class 0: 73.46%\n",
            "  Class 1: 83.07%\n",
            "Test Accuracy: 80.7%, Test Loss: 0.514825\n",
            "\n",
            "\n",
            "Class-wise Accuracy:\n",
            "  Class 2: 85.58%\n",
            "  Class 0: 73.46%\n",
            "  Class 1: 83.07%\n",
            "Train Accuracy: 81.70%, Average Train Loss: 0.451922, Test Accuracy: 80.71%, Average Test Loss: 0.514825\n",
            "\n",
            "Epoch 48/60: "
          ]
        },
        {
          "output_type": "stream",
          "name": "stderr",
          "text": [
            "100%|██████████| 2795/2795 [00:13<00:00, 205.70it/s]\n",
            "Batch 699/699, Loss: 0.470236: 100%|██████████| 699/699 [00:03<00:00, 213.26it/s]\n"
          ]
        },
        {
          "output_type": "stream",
          "name": "stdout",
          "text": [
            "\n",
            "Class-wise Accuracy:\n",
            "  Class 2: 87.02%\n",
            "  Class 0: 66.26%\n",
            "  Class 1: 79.30%\n",
            "Test Accuracy: 77.6%, Test Loss: 0.561412\n",
            "\n",
            "\n",
            "Class-wise Accuracy:\n",
            "  Class 2: 87.02%\n",
            "  Class 0: 66.26%\n",
            "  Class 1: 79.30%\n",
            "Train Accuracy: 81.85%, Average Train Loss: 0.448970, Test Accuracy: 77.56%, Average Test Loss: 0.561412\n",
            "\n",
            "Epoch 49/60: "
          ]
        },
        {
          "output_type": "stream",
          "name": "stderr",
          "text": [
            "100%|██████████| 2795/2795 [00:13<00:00, 205.74it/s]\n",
            "Batch 699/699, Loss: 0.458757: 100%|██████████| 699/699 [00:03<00:00, 211.37it/s]\n"
          ]
        },
        {
          "output_type": "stream",
          "name": "stdout",
          "text": [
            "\n",
            "Class-wise Accuracy:\n",
            "  Class 2: 79.45%\n",
            "  Class 0: 77.09%\n",
            "  Class 1: 88.38%\n",
            "Test Accuracy: 81.6%, Test Loss: 0.526203\n",
            "\n",
            "\n",
            "Class-wise Accuracy:\n",
            "  Class 2: 79.45%\n",
            "  Class 0: 77.09%\n",
            "  Class 1: 88.38%\n",
            "Train Accuracy: 81.86%, Average Train Loss: 0.448538, Test Accuracy: 81.60%, Average Test Loss: 0.526203\n",
            "\n",
            "Epoch 50/60: "
          ]
        },
        {
          "output_type": "stream",
          "name": "stderr",
          "text": [
            "100%|██████████| 2795/2795 [00:13<00:00, 205.02it/s]\n",
            "Batch 699/699, Loss: 0.413377: 100%|██████████| 699/699 [00:03<00:00, 213.93it/s]\n"
          ]
        },
        {
          "output_type": "stream",
          "name": "stdout",
          "text": [
            "\n",
            "Class-wise Accuracy:\n",
            "  Class 2: 84.13%\n",
            "  Class 0: 75.84%\n",
            "  Class 1: 83.41%\n",
            "Test Accuracy: 81.1%, Test Loss: 0.544351\n",
            "\n",
            "\n",
            "Class-wise Accuracy:\n",
            "  Class 2: 84.13%\n",
            "  Class 0: 75.84%\n",
            "  Class 1: 83.41%\n",
            "Train Accuracy: 82.20%, Average Train Loss: 0.439581, Test Accuracy: 81.13%, Average Test Loss: 0.544351\n",
            "\n",
            "Epoch 51/60: "
          ]
        },
        {
          "output_type": "stream",
          "name": "stderr",
          "text": [
            "100%|██████████| 2795/2795 [00:13<00:00, 205.65it/s]\n",
            "Batch 699/699, Loss: 0.398985: 100%|██████████| 699/699 [00:03<00:00, 212.87it/s]\n"
          ]
        },
        {
          "output_type": "stream",
          "name": "stdout",
          "text": [
            "\n",
            "Class-wise Accuracy:\n",
            "  Class 2: 85.83%\n",
            "  Class 0: 78.48%\n",
            "  Class 1: 85.40%\n",
            "Test Accuracy: 83.2%, Test Loss: 0.487484\n",
            "\n",
            "\n",
            "Class-wise Accuracy:\n",
            "  Class 2: 85.83%\n",
            "  Class 0: 78.48%\n",
            "  Class 1: 85.40%\n",
            "Train Accuracy: 81.96%, Average Train Loss: 0.444364, Test Accuracy: 83.24%, Average Test Loss: 0.487484\n",
            "\n",
            "Epoch 52/60: "
          ]
        },
        {
          "output_type": "stream",
          "name": "stderr",
          "text": [
            "100%|██████████| 2795/2795 [00:13<00:00, 204.87it/s]\n",
            "Batch 699/699, Loss: 0.424777: 100%|██████████| 699/699 [00:03<00:00, 215.27it/s]\n"
          ]
        },
        {
          "output_type": "stream",
          "name": "stdout",
          "text": [
            "\n",
            "Class-wise Accuracy:\n",
            "  Class 2: 83.74%\n",
            "  Class 0: 78.13%\n",
            "  Class 1: 87.30%\n",
            "Test Accuracy: 83.0%, Test Loss: 0.478428\n",
            "\n",
            "\n",
            "Class-wise Accuracy:\n",
            "  Class 2: 83.74%\n",
            "  Class 0: 78.13%\n",
            "  Class 1: 87.30%\n",
            "Train Accuracy: 82.13%, Average Train Loss: 0.444111, Test Accuracy: 83.04%, Average Test Loss: 0.478428\n",
            "\n",
            "Epoch 53/60: "
          ]
        },
        {
          "output_type": "stream",
          "name": "stderr",
          "text": [
            "100%|██████████| 2795/2795 [00:13<00:00, 205.23it/s]\n",
            "Batch 699/699, Loss: 0.437952: 100%|██████████| 699/699 [00:03<00:00, 219.35it/s]\n"
          ]
        },
        {
          "output_type": "stream",
          "name": "stdout",
          "text": [
            "\n",
            "Class-wise Accuracy:\n",
            "  Class 2: 85.43%\n",
            "  Class 0: 75.18%\n",
            "  Class 1: 84.69%\n",
            "Test Accuracy: 81.8%, Test Loss: 0.491199\n",
            "\n",
            "\n",
            "Class-wise Accuracy:\n",
            "  Class 2: 85.43%\n",
            "  Class 0: 75.18%\n",
            "  Class 1: 84.69%\n",
            "Train Accuracy: 82.27%, Average Train Loss: 0.439244, Test Accuracy: 81.77%, Average Test Loss: 0.491199\n",
            "\n",
            "Epoch 54/60: "
          ]
        },
        {
          "output_type": "stream",
          "name": "stderr",
          "text": [
            "100%|██████████| 2795/2795 [00:13<00:00, 205.31it/s]\n",
            "Batch 699/699, Loss: 0.585142: 100%|██████████| 699/699 [00:03<00:00, 202.87it/s]\n"
          ]
        },
        {
          "output_type": "stream",
          "name": "stdout",
          "text": [
            "\n",
            "Class-wise Accuracy:\n",
            "  Class 2: 89.87%\n",
            "  Class 0: 56.32%\n",
            "  Class 1: 77.07%\n",
            "Test Accuracy: 74.5%, Test Loss: 0.630889\n",
            "\n",
            "\n",
            "Class-wise Accuracy:\n",
            "  Class 2: 89.87%\n",
            "  Class 0: 56.32%\n",
            "  Class 1: 77.07%\n",
            "Train Accuracy: 82.24%, Average Train Loss: 0.442289, Test Accuracy: 74.47%, Average Test Loss: 0.630889\n",
            "\n",
            "Epoch 55/60: "
          ]
        },
        {
          "output_type": "stream",
          "name": "stderr",
          "text": [
            "100%|██████████| 2795/2795 [00:13<00:00, 205.31it/s]\n",
            "Batch 699/699, Loss: 0.463309: 100%|██████████| 699/699 [00:03<00:00, 216.37it/s]\n"
          ]
        },
        {
          "output_type": "stream",
          "name": "stdout",
          "text": [
            "\n",
            "Class-wise Accuracy:\n",
            "  Class 2: 80.55%\n",
            "  Class 0: 78.33%\n",
            "  Class 1: 87.40%\n",
            "Test Accuracy: 82.1%, Test Loss: 0.526302\n",
            "\n",
            "\n",
            "Class-wise Accuracy:\n",
            "  Class 2: 80.55%\n",
            "  Class 0: 78.33%\n",
            "  Class 1: 87.40%\n",
            "Train Accuracy: 82.30%, Average Train Loss: 0.435991, Test Accuracy: 82.06%, Average Test Loss: 0.526302\n",
            "\n",
            "Epoch 56/60: "
          ]
        },
        {
          "output_type": "stream",
          "name": "stderr",
          "text": [
            "100%|██████████| 2795/2795 [00:13<00:00, 206.50it/s]\n",
            "Batch 699/699, Loss: 0.379397: 100%|██████████| 699/699 [00:03<00:00, 212.73it/s]\n"
          ]
        },
        {
          "output_type": "stream",
          "name": "stdout",
          "text": [
            "\n",
            "Class-wise Accuracy:\n",
            "  Class 2: 87.78%\n",
            "  Class 0: 79.23%\n",
            "  Class 1: 83.66%\n",
            "Test Accuracy: 83.6%, Test Loss: 0.449034\n",
            "\n",
            "\n",
            "Class-wise Accuracy:\n",
            "  Class 2: 87.78%\n",
            "  Class 0: 79.23%\n",
            "  Class 1: 83.66%\n",
            "Train Accuracy: 82.47%, Average Train Loss: 0.434588, Test Accuracy: 83.57%, Average Test Loss: 0.449034\n",
            "\n",
            "Epoch 57/60: "
          ]
        },
        {
          "output_type": "stream",
          "name": "stderr",
          "text": [
            "100%|██████████| 2795/2795 [00:13<00:00, 203.51it/s]\n",
            "Batch 699/699, Loss: 0.460500: 100%|██████████| 699/699 [00:03<00:00, 200.06it/s]\n"
          ]
        },
        {
          "output_type": "stream",
          "name": "stdout",
          "text": [
            "\n",
            "Class-wise Accuracy:\n",
            "  Class 2: 83.55%\n",
            "  Class 0: 70.90%\n",
            "  Class 1: 86.25%\n",
            "Test Accuracy: 80.2%, Test Loss: 0.525726\n",
            "\n",
            "\n",
            "Class-wise Accuracy:\n",
            "  Class 2: 83.55%\n",
            "  Class 0: 70.90%\n",
            "  Class 1: 86.25%\n",
            "Train Accuracy: 82.28%, Average Train Loss: 0.437217, Test Accuracy: 80.22%, Average Test Loss: 0.525726\n",
            "\n",
            "Epoch 58/60: "
          ]
        },
        {
          "output_type": "stream",
          "name": "stderr",
          "text": [
            "100%|██████████| 2795/2795 [00:13<00:00, 204.84it/s]\n",
            "Batch 699/699, Loss: 0.420176: 100%|██████████| 699/699 [00:03<00:00, 212.45it/s]\n"
          ]
        },
        {
          "output_type": "stream",
          "name": "stdout",
          "text": [
            "\n",
            "Class-wise Accuracy:\n",
            "  Class 2: 82.98%\n",
            "  Class 0: 81.53%\n",
            "  Class 1: 87.68%\n",
            "Test Accuracy: 84.0%, Test Loss: 0.460443\n",
            "\n",
            "\n",
            "Class-wise Accuracy:\n",
            "  Class 2: 82.98%\n",
            "  Class 0: 81.53%\n",
            "  Class 1: 87.68%\n",
            "Train Accuracy: 82.11%, Average Train Loss: 0.441781, Test Accuracy: 84.04%, Average Test Loss: 0.460443\n",
            "\n",
            "Epoch 59/60: "
          ]
        },
        {
          "output_type": "stream",
          "name": "stderr",
          "text": [
            "100%|██████████| 2795/2795 [00:13<00:00, 204.92it/s]\n",
            "Batch 699/699, Loss: 0.534158: 100%|██████████| 699/699 [00:03<00:00, 208.55it/s]\n"
          ]
        },
        {
          "output_type": "stream",
          "name": "stdout",
          "text": [
            "\n",
            "Class-wise Accuracy:\n",
            "  Class 2: 91.05%\n",
            "  Class 0: 56.40%\n",
            "  Class 1: 71.57%\n",
            "Test Accuracy: 73.1%, Test Loss: 0.635496\n",
            "\n",
            "\n",
            "Class-wise Accuracy:\n",
            "  Class 2: 91.05%\n",
            "  Class 0: 56.40%\n",
            "  Class 1: 71.57%\n",
            "Train Accuracy: 82.38%, Average Train Loss: 0.438547, Test Accuracy: 73.09%, Average Test Loss: 0.635496\n",
            "\n",
            "Epoch 60/60: "
          ]
        },
        {
          "output_type": "stream",
          "name": "stderr",
          "text": [
            "100%|██████████| 2795/2795 [00:13<00:00, 205.02it/s]\n",
            "Batch 699/699, Loss: 0.415719: 100%|██████████| 699/699 [00:03<00:00, 201.77it/s]\n"
          ]
        },
        {
          "output_type": "stream",
          "name": "stdout",
          "text": [
            "\n",
            "Class-wise Accuracy:\n",
            "  Class 2: 83.60%\n",
            "  Class 0: 80.64%\n",
            "  Class 1: 84.12%\n",
            "Test Accuracy: 82.8%, Test Loss: 0.494955\n",
            "\n",
            "\n",
            "Class-wise Accuracy:\n",
            "  Class 2: 83.60%\n",
            "  Class 0: 80.64%\n",
            "  Class 1: 84.12%\n",
            "Train Accuracy: 82.27%, Average Train Loss: 0.436298, Test Accuracy: 82.79%, Average Test Loss: 0.494955\n",
            "\n"
          ]
        },
        {
          "output_type": "display_data",
          "data": {
            "text/plain": [
              "<IPython.core.display.HTML object>"
            ],
            "text/html": []
          },
          "metadata": {}
        },
        {
          "output_type": "display_data",
          "data": {
            "text/plain": [
              "<IPython.core.display.HTML object>"
            ],
            "text/html": [
              "<br>    <style><br>        .wandb-row {<br>            display: flex;<br>            flex-direction: row;<br>            flex-wrap: wrap;<br>            justify-content: flex-start;<br>            width: 100%;<br>        }<br>        .wandb-col {<br>            display: flex;<br>            flex-direction: column;<br>            flex-basis: 100%;<br>            flex: 1;<br>            padding: 10px;<br>        }<br>    </style><br><div class=\"wandb-row\"><div class=\"wandb-col\"><h3>Run history:</h3><br/><table class=\"wandb\"><tr><td>class_0_accuracy</td><td>▂▂▄▁▁▁▁▄▆▅▁▆▆▅▆▄▆▄▇▇▄▇▇▇▆▃▅▇▇▆▇▇▇████▇██</td></tr><tr><td>class_1_accuracy</td><td>▆████▆▇▅▃▃▆▄▂▄▃▂▃▃▁▄▃▄▃▆▆▃▄▃▄▃▃▂▅▃▄▁▄▃▄▃</td></tr><tr><td>class_2_accuracy</td><td>▂▂▂▁▄▁▄▅▆▆▅▆▇▇▇▆▇▇▇▆▇▇▇█▆██▇█▇█▇████▇███</td></tr><tr><td>epoch</td><td>▁▁▁▁▂▂▂▂▂▂▃▃▃▃▃▄▄▄▄▅▅▅▅▅▅▆▆▆▆▆▆▆▇▇▇▇▇▇██</td></tr><tr><td>learning_rate</td><td>███████▇▇▇▇▇▆▆▆▆▅▅▅▅▄▄▄▃▃▃▂▂▂▂▂▂▁▁▁▁▁▁▁▁</td></tr><tr><td>test_accuracy</td><td>▂▂▁▃▂▃▅▆▅▆▂▆▇▆▆▅▇▅▇▇▅▇▇▇▆▆██▇▇█▆█▇██▇███</td></tr><tr><td>test_loss</td><td>█▇▆▇██▇█▆▇▅▆▇▄▆▅▅▃▆▃▆▅▅▄▃▄▂▂▄▂▅▂▂▂▂▁▃▂▁▁</td></tr><tr><td>train_accuracy</td><td>▁▂▃▃▃▃▄▅▅▅▆▆▆▅▆▆▇▇▇▇▇▇▇▇▇███████████████</td></tr><tr><td>train_loss</td><td>█▆▅▅▆▅▅▃▃▃▃▃▃▃▃▂▂▂▂▂▂▂▂▂▂▁▁▁▁▁▁▁▁▁▁▁▁▁▁▁</td></tr></table><br/></div><div class=\"wandb-col\"><h3>Run summary:</h3><br/><table class=\"wandb\"><tr><td>class_0_accuracy</td><td>80.64127</td></tr><tr><td>class_1_accuracy</td><td>84.11813</td></tr><tr><td>class_2_accuracy</td><td>83.60482</td></tr><tr><td>epoch</td><td>60</td></tr><tr><td>learning_rate</td><td>0.0</td></tr><tr><td>test_accuracy</td><td>82.78531</td></tr><tr><td>test_loss</td><td>0.49496</td></tr><tr><td>train_accuracy</td><td>82.27472</td></tr><tr><td>train_loss</td><td>0.4363</td></tr></table><br/></div></div>"
            ]
          },
          "metadata": {}
        },
        {
          "output_type": "display_data",
          "data": {
            "text/plain": [
              "<IPython.core.display.HTML object>"
            ],
            "text/html": [
              " View run <strong style=\"color:#cdcd00\">ShallowAttentionNet 91111222</strong> at: <a href='https://wandb.ai/philinthesky/Master%20Thesis/runs/kjmd9tp9' target=\"_blank\">https://wandb.ai/philinthesky/Master%20Thesis/runs/kjmd9tp9</a><br> View project at: <a href='https://wandb.ai/philinthesky/Master%20Thesis' target=\"_blank\">https://wandb.ai/philinthesky/Master%20Thesis</a><br>Synced 5 W&B file(s), 0 media file(s), 0 artifact file(s) and 0 other file(s)"
            ]
          },
          "metadata": {}
        },
        {
          "output_type": "display_data",
          "data": {
            "text/plain": [
              "<IPython.core.display.HTML object>"
            ],
            "text/html": [
              "Find logs at: <code>./wandb/run-20250330_140241-kjmd9tp9/logs</code>"
            ]
          },
          "metadata": {}
        },
        {
          "output_type": "stream",
          "name": "stdout",
          "text": [
            "ShallowAttentionNet(\n",
            "  (temporal): Conv2d(1, 10, kernel_size=(1, 25), stride=(1, 1))\n",
            "  (spatial_att): SpatialAttention(\n",
            "    (conv): Conv2d(10, 10, kernel_size=(1, 1), stride=(1, 1), bias=False)\n",
            "    (pool): MaxPool2d(kernel_size=(1, 5), stride=(1, 5), padding=0, dilation=1, ceil_mode=False)\n",
            "  )\n",
            "  (batch_norm): BatchNorm2d(10, eps=1e-05, momentum=0.1, affine=True, track_running_stats=True)\n",
            "  (pool): AvgPool2d(kernel_size=(1, 20), stride=(1, 20), padding=0)\n",
            "  (dropout): Dropout(p=0.5, inplace=False)\n",
            "  (fc): Linear(in_features=960, out_features=3, bias=True)\n",
            ")\n"
          ]
        },
        {
          "output_type": "display_data",
          "data": {
            "text/plain": [
              "<IPython.core.display.HTML object>"
            ],
            "text/html": [
              "Tracking run with wandb version 0.19.8"
            ]
          },
          "metadata": {}
        },
        {
          "output_type": "display_data",
          "data": {
            "text/plain": [
              "<IPython.core.display.HTML object>"
            ],
            "text/html": [
              "Run data is saved locally in <code>/content/wandb/run-20250330_142012-64fptn5e</code>"
            ]
          },
          "metadata": {}
        },
        {
          "output_type": "display_data",
          "data": {
            "text/plain": [
              "<IPython.core.display.HTML object>"
            ],
            "text/html": [
              "Syncing run <strong><a href='https://wandb.ai/philinthesky/Master%20Thesis/runs/64fptn5e' target=\"_blank\">ShallowAttentionNet 44552222</a></strong> to <a href='https://wandb.ai/philinthesky/Master%20Thesis' target=\"_blank\">Weights & Biases</a> (<a href='https://wandb.me/developer-guide' target=\"_blank\">docs</a>)<br>"
            ]
          },
          "metadata": {}
        },
        {
          "output_type": "display_data",
          "data": {
            "text/plain": [
              "<IPython.core.display.HTML object>"
            ],
            "text/html": [
              " View project at <a href='https://wandb.ai/philinthesky/Master%20Thesis' target=\"_blank\">https://wandb.ai/philinthesky/Master%20Thesis</a>"
            ]
          },
          "metadata": {}
        },
        {
          "output_type": "display_data",
          "data": {
            "text/plain": [
              "<IPython.core.display.HTML object>"
            ],
            "text/html": [
              " View run at <a href='https://wandb.ai/philinthesky/Master%20Thesis/runs/64fptn5e' target=\"_blank\">https://wandb.ai/philinthesky/Master%20Thesis/runs/64fptn5e</a>"
            ]
          },
          "metadata": {}
        },
        {
          "output_type": "stream",
          "name": "stdout",
          "text": [
            "Epoch 1/60: "
          ]
        },
        {
          "output_type": "stream",
          "name": "stderr",
          "text": [
            "100%|██████████| 2795/2795 [00:13<00:00, 201.45it/s]\n",
            "Batch 699/699, Loss: 1.068228: 100%|██████████| 699/699 [00:03<00:00, 196.83it/s]\n"
          ]
        },
        {
          "output_type": "stream",
          "name": "stdout",
          "text": [
            "\n",
            "Class-wise Accuracy:\n",
            "  Class 2: 1.72%\n",
            "  Class 0: 4.53%\n",
            "  Class 1: 99.28%\n",
            "Test Accuracy: 34.7%, Test Loss: 1.089340\n",
            "\n",
            "\n",
            "Class-wise Accuracy:\n",
            "  Class 2: 1.72%\n",
            "  Class 0: 4.53%\n",
            "  Class 1: 99.28%\n",
            "Train Accuracy: 56.33%, Average Train Loss: 0.943469, Test Accuracy: 34.73%, Average Test Loss: 1.089340\n",
            "\n",
            "Epoch 2/60: "
          ]
        },
        {
          "output_type": "stream",
          "name": "stderr",
          "text": [
            "100%|██████████| 2795/2795 [00:14<00:00, 199.16it/s]\n",
            "Batch 699/699, Loss: 1.077655: 100%|██████████| 699/699 [00:03<00:00, 201.26it/s]\n"
          ]
        },
        {
          "output_type": "stream",
          "name": "stdout",
          "text": [
            "\n",
            "Class-wise Accuracy:\n",
            "  Class 2: 6.54%\n",
            "  Class 0: 0.82%\n",
            "  Class 1: 99.21%\n",
            "Test Accuracy: 35.1%, Test Loss: 1.089697\n",
            "\n",
            "\n",
            "Class-wise Accuracy:\n",
            "  Class 2: 6.54%\n",
            "  Class 0: 0.82%\n",
            "  Class 1: 99.21%\n",
            "Train Accuracy: 59.80%, Average Train Loss: 0.871972, Test Accuracy: 35.10%, Average Test Loss: 1.089697\n",
            "\n",
            "Epoch 3/60: "
          ]
        },
        {
          "output_type": "stream",
          "name": "stderr",
          "text": [
            "100%|██████████| 2795/2795 [00:13<00:00, 202.29it/s]\n",
            "Batch 699/699, Loss: 1.045449: 100%|██████████| 699/699 [00:03<00:00, 214.23it/s]\n"
          ]
        },
        {
          "output_type": "stream",
          "name": "stdout",
          "text": [
            "\n",
            "Class-wise Accuracy:\n",
            "  Class 2: 46.52%\n",
            "  Class 0: 16.65%\n",
            "  Class 1: 70.79%\n",
            "Test Accuracy: 44.5%, Test Loss: 1.075876\n",
            "\n",
            "\n",
            "Class-wise Accuracy:\n",
            "  Class 2: 46.52%\n",
            "  Class 0: 16.65%\n",
            "  Class 1: 70.79%\n",
            "Train Accuracy: 62.80%, Average Train Loss: 0.820761, Test Accuracy: 44.54%, Average Test Loss: 1.075876\n",
            "\n",
            "Epoch 4/60: "
          ]
        },
        {
          "output_type": "stream",
          "name": "stderr",
          "text": [
            "100%|██████████| 2795/2795 [00:13<00:00, 204.32it/s]\n",
            "Batch 699/699, Loss: 1.009979: 100%|██████████| 699/699 [00:03<00:00, 206.29it/s]\n"
          ]
        },
        {
          "output_type": "stream",
          "name": "stdout",
          "text": [
            "\n",
            "Class-wise Accuracy:\n",
            "  Class 2: 44.80%\n",
            "  Class 0: 17.88%\n",
            "  Class 1: 87.86%\n",
            "Test Accuracy: 50.0%, Test Loss: 1.255150\n",
            "\n",
            "\n",
            "Class-wise Accuracy:\n",
            "  Class 2: 44.80%\n",
            "  Class 0: 17.88%\n",
            "  Class 1: 87.86%\n",
            "Train Accuracy: 65.22%, Average Train Loss: 0.786783, Test Accuracy: 49.98%, Average Test Loss: 1.255150\n",
            "\n",
            "Epoch 5/60: "
          ]
        },
        {
          "output_type": "stream",
          "name": "stderr",
          "text": [
            "100%|██████████| 2795/2795 [00:13<00:00, 206.53it/s]\n",
            "Batch 699/699, Loss: 1.067358: 100%|██████████| 699/699 [00:03<00:00, 215.41it/s]\n"
          ]
        },
        {
          "output_type": "stream",
          "name": "stdout",
          "text": [
            "\n",
            "Class-wise Accuracy:\n",
            "  Class 2: 38.66%\n",
            "  Class 0: 12.54%\n",
            "  Class 1: 90.95%\n",
            "Test Accuracy: 47.1%, Test Loss: 1.108370\n",
            "\n",
            "\n",
            "Class-wise Accuracy:\n",
            "  Class 2: 38.66%\n",
            "  Class 0: 12.54%\n",
            "  Class 1: 90.95%\n",
            "Train Accuracy: 65.68%, Average Train Loss: 0.783638, Test Accuracy: 47.14%, Average Test Loss: 1.108370\n",
            "\n",
            "Epoch 6/60: "
          ]
        },
        {
          "output_type": "stream",
          "name": "stderr",
          "text": [
            "100%|██████████| 2795/2795 [00:13<00:00, 204.61it/s]\n",
            "Batch 699/699, Loss: 0.989116: 100%|██████████| 699/699 [00:03<00:00, 209.10it/s]\n"
          ]
        },
        {
          "output_type": "stream",
          "name": "stdout",
          "text": [
            "\n",
            "Class-wise Accuracy:\n",
            "  Class 2: 35.19%\n",
            "  Class 0: 29.77%\n",
            "  Class 1: 97.32%\n",
            "Test Accuracy: 53.8%, Test Loss: 1.063725\n",
            "\n",
            "\n",
            "Class-wise Accuracy:\n",
            "  Class 2: 35.19%\n",
            "  Class 0: 29.77%\n",
            "  Class 1: 97.32%\n",
            "Train Accuracy: 66.11%, Average Train Loss: 0.772060, Test Accuracy: 53.80%, Average Test Loss: 1.063725\n",
            "\n",
            "Epoch 7/60: "
          ]
        },
        {
          "output_type": "stream",
          "name": "stderr",
          "text": [
            "100%|██████████| 2795/2795 [00:13<00:00, 203.82it/s]\n",
            "Batch 699/699, Loss: 0.973735: 100%|██████████| 699/699 [00:03<00:00, 204.83it/s]\n"
          ]
        },
        {
          "output_type": "stream",
          "name": "stdout",
          "text": [
            "\n",
            "Class-wise Accuracy:\n",
            "  Class 2: 49.12%\n",
            "  Class 0: 29.22%\n",
            "  Class 1: 95.99%\n",
            "Test Accuracy: 57.9%, Test Loss: 1.008551\n",
            "\n",
            "\n",
            "Class-wise Accuracy:\n",
            "  Class 2: 49.12%\n",
            "  Class 0: 29.22%\n",
            "  Class 1: 95.99%\n",
            "Train Accuracy: 68.80%, Average Train Loss: 0.726699, Test Accuracy: 57.89%, Average Test Loss: 1.008551\n",
            "\n",
            "Epoch 8/60: "
          ]
        },
        {
          "output_type": "stream",
          "name": "stderr",
          "text": [
            "100%|██████████| 2795/2795 [00:13<00:00, 204.97it/s]\n",
            "Batch 699/699, Loss: 1.058906: 100%|██████████| 699/699 [00:03<00:00, 215.96it/s]\n"
          ]
        },
        {
          "output_type": "stream",
          "name": "stdout",
          "text": [
            "\n",
            "Class-wise Accuracy:\n",
            "  Class 2: 10.09%\n",
            "  Class 0: 0.90%\n",
            "  Class 1: 99.06%\n",
            "Test Accuracy: 36.3%, Test Loss: 1.149258\n",
            "\n",
            "\n",
            "Class-wise Accuracy:\n",
            "  Class 2: 10.09%\n",
            "  Class 0: 0.90%\n",
            "  Class 1: 99.06%\n",
            "Train Accuracy: 69.47%, Average Train Loss: 0.714188, Test Accuracy: 36.27%, Average Test Loss: 1.149258\n",
            "\n",
            "Epoch 9/60: "
          ]
        },
        {
          "output_type": "stream",
          "name": "stderr",
          "text": [
            "100%|██████████| 2795/2795 [00:13<00:00, 205.53it/s]\n",
            "Batch 699/699, Loss: 1.058181: 100%|██████████| 699/699 [00:03<00:00, 208.91it/s]\n"
          ]
        },
        {
          "output_type": "stream",
          "name": "stdout",
          "text": [
            "\n",
            "Class-wise Accuracy:\n",
            "  Class 2: 8.28%\n",
            "  Class 0: 1.65%\n",
            "  Class 1: 99.21%\n",
            "Test Accuracy: 36.0%, Test Loss: 1.095436\n",
            "\n",
            "\n",
            "Class-wise Accuracy:\n",
            "  Class 2: 8.28%\n",
            "  Class 0: 1.65%\n",
            "  Class 1: 99.21%\n",
            "Train Accuracy: 70.28%, Average Train Loss: 0.690371, Test Accuracy: 35.96%, Average Test Loss: 1.095436\n",
            "\n",
            "Epoch 10/60: "
          ]
        },
        {
          "output_type": "stream",
          "name": "stderr",
          "text": [
            "100%|██████████| 2795/2795 [00:13<00:00, 205.53it/s]\n",
            "Batch 699/699, Loss: 1.007085: 100%|██████████| 699/699 [00:03<00:00, 210.84it/s]\n"
          ]
        },
        {
          "output_type": "stream",
          "name": "stdout",
          "text": [
            "\n",
            "Class-wise Accuracy:\n",
            "  Class 2: 46.31%\n",
            "  Class 0: 20.71%\n",
            "  Class 1: 92.69%\n",
            "Test Accuracy: 53.0%, Test Loss: 1.353070\n",
            "\n",
            "\n",
            "Class-wise Accuracy:\n",
            "  Class 2: 46.31%\n",
            "  Class 0: 20.71%\n",
            "  Class 1: 92.69%\n",
            "Train Accuracy: 72.94%, Average Train Loss: 0.651992, Test Accuracy: 53.02%, Average Test Loss: 1.353070\n",
            "\n",
            "Epoch 11/60: "
          ]
        },
        {
          "output_type": "stream",
          "name": "stderr",
          "text": [
            "100%|██████████| 2795/2795 [00:13<00:00, 205.07it/s]\n",
            "Batch 699/699, Loss: 0.781579: 100%|██████████| 699/699 [00:03<00:00, 215.49it/s]\n"
          ]
        },
        {
          "output_type": "stream",
          "name": "stdout",
          "text": [
            "\n",
            "Class-wise Accuracy:\n",
            "  Class 2: 60.52%\n",
            "  Class 0: 69.10%\n",
            "  Class 1: 87.17%\n",
            "Test Accuracy: 72.1%, Test Loss: 0.996308\n",
            "\n",
            "\n",
            "Class-wise Accuracy:\n",
            "  Class 2: 60.52%\n",
            "  Class 0: 69.10%\n",
            "  Class 1: 87.17%\n",
            "Train Accuracy: 75.39%, Average Train Loss: 0.608071, Test Accuracy: 72.14%, Average Test Loss: 0.996308\n",
            "\n",
            "Epoch 12/60: "
          ]
        },
        {
          "output_type": "stream",
          "name": "stderr",
          "text": [
            "100%|██████████| 2795/2795 [00:13<00:00, 205.41it/s]\n",
            "Batch 699/699, Loss: 0.829152: 100%|██████████| 699/699 [00:03<00:00, 210.53it/s]\n"
          ]
        },
        {
          "output_type": "stream",
          "name": "stdout",
          "text": [
            "\n",
            "Class-wise Accuracy:\n",
            "  Class 2: 66.89%\n",
            "  Class 0: 51.46%\n",
            "  Class 1: 90.38%\n",
            "Test Accuracy: 69.5%, Test Loss: 0.747528\n",
            "\n",
            "\n",
            "Class-wise Accuracy:\n",
            "  Class 2: 66.89%\n",
            "  Class 0: 51.46%\n",
            "  Class 1: 90.38%\n",
            "Train Accuracy: 75.19%, Average Train Loss: 0.608139, Test Accuracy: 69.47%, Average Test Loss: 0.747528\n",
            "\n",
            "Epoch 13/60: "
          ]
        },
        {
          "output_type": "stream",
          "name": "stderr",
          "text": [
            "100%|██████████| 2795/2795 [00:13<00:00, 205.10it/s]\n",
            "Batch 699/699, Loss: 0.717852: 100%|██████████| 699/699 [00:03<00:00, 214.99it/s]\n"
          ]
        },
        {
          "output_type": "stream",
          "name": "stdout",
          "text": [
            "\n",
            "Class-wise Accuracy:\n",
            "  Class 2: 69.21%\n",
            "  Class 0: 64.31%\n",
            "  Class 1: 90.57%\n",
            "Test Accuracy: 74.6%, Test Loss: 0.711329\n",
            "\n",
            "\n",
            "Class-wise Accuracy:\n",
            "  Class 2: 69.21%\n",
            "  Class 0: 64.31%\n",
            "  Class 1: 90.57%\n",
            "Train Accuracy: 76.55%, Average Train Loss: 0.576634, Test Accuracy: 74.60%, Average Test Loss: 0.711329\n",
            "\n",
            "Epoch 14/60: "
          ]
        },
        {
          "output_type": "stream",
          "name": "stderr",
          "text": [
            "100%|██████████| 2795/2795 [00:13<00:00, 204.61it/s]\n",
            "Batch 699/699, Loss: 0.944615: 100%|██████████| 699/699 [00:03<00:00, 209.61it/s]\n"
          ]
        },
        {
          "output_type": "stream",
          "name": "stdout",
          "text": [
            "\n",
            "Class-wise Accuracy:\n",
            "  Class 2: 68.64%\n",
            "  Class 0: 25.95%\n",
            "  Class 1: 90.85%\n",
            "Test Accuracy: 61.7%, Test Loss: 0.918598\n",
            "\n",
            "\n",
            "Class-wise Accuracy:\n",
            "  Class 2: 68.64%\n",
            "  Class 0: 25.95%\n",
            "  Class 1: 90.85%\n",
            "Train Accuracy: 76.64%, Average Train Loss: 0.585772, Test Accuracy: 61.71%, Average Test Loss: 0.918598\n",
            "\n",
            "Epoch 15/60: "
          ]
        },
        {
          "output_type": "stream",
          "name": "stderr",
          "text": [
            "100%|██████████| 2795/2795 [00:13<00:00, 203.90it/s]\n",
            "Batch 699/699, Loss: 0.742984: 100%|██████████| 699/699 [00:03<00:00, 208.96it/s]\n"
          ]
        },
        {
          "output_type": "stream",
          "name": "stdout",
          "text": [
            "\n",
            "Class-wise Accuracy:\n",
            "  Class 2: 72.97%\n",
            "  Class 0: 59.86%\n",
            "  Class 1: 91.74%\n",
            "Test Accuracy: 74.8%, Test Loss: 0.746688\n",
            "\n",
            "\n",
            "Class-wise Accuracy:\n",
            "  Class 2: 72.97%\n",
            "  Class 0: 59.86%\n",
            "  Class 1: 91.74%\n",
            "Train Accuracy: 77.09%, Average Train Loss: 0.570197, Test Accuracy: 74.77%, Average Test Loss: 0.746688\n",
            "\n",
            "Epoch 16/60: "
          ]
        },
        {
          "output_type": "stream",
          "name": "stderr",
          "text": [
            "100%|██████████| 2795/2795 [00:13<00:00, 203.98it/s]\n",
            "Batch 699/699, Loss: 0.754250: 100%|██████████| 699/699 [00:03<00:00, 210.55it/s]\n"
          ]
        },
        {
          "output_type": "stream",
          "name": "stdout",
          "text": [
            "\n",
            "Class-wise Accuracy:\n",
            "  Class 2: 79.25%\n",
            "  Class 0: 56.63%\n",
            "  Class 1: 80.92%\n",
            "Test Accuracy: 72.3%, Test Loss: 0.724246\n",
            "\n",
            "\n",
            "Class-wise Accuracy:\n",
            "  Class 2: 79.25%\n",
            "  Class 0: 56.63%\n",
            "  Class 1: 80.92%\n",
            "Train Accuracy: 73.69%, Average Train Loss: 0.640277, Test Accuracy: 72.25%, Average Test Loss: 0.724246\n",
            "\n",
            "Epoch 17/60: "
          ]
        },
        {
          "output_type": "stream",
          "name": "stderr",
          "text": [
            "100%|██████████| 2795/2795 [00:13<00:00, 204.36it/s]\n",
            "Batch 699/699, Loss: 0.772220: 100%|██████████| 699/699 [00:03<00:00, 206.18it/s]\n"
          ]
        },
        {
          "output_type": "stream",
          "name": "stdout",
          "text": [
            "\n",
            "Class-wise Accuracy:\n",
            "  Class 2: 59.81%\n",
            "  Class 0: 61.16%\n",
            "  Class 1: 87.74%\n",
            "Test Accuracy: 69.4%, Test Loss: 0.726161\n",
            "\n",
            "\n",
            "Class-wise Accuracy:\n",
            "  Class 2: 59.81%\n",
            "  Class 0: 61.16%\n",
            "  Class 1: 87.74%\n",
            "Train Accuracy: 75.42%, Average Train Loss: 0.606363, Test Accuracy: 69.44%, Average Test Loss: 0.726161\n",
            "\n",
            "Epoch 18/60: "
          ]
        },
        {
          "output_type": "stream",
          "name": "stderr",
          "text": [
            "100%|██████████| 2795/2795 [00:13<00:00, 203.45it/s]\n",
            "Batch 699/699, Loss: 0.754196: 100%|██████████| 699/699 [00:03<00:00, 207.25it/s]\n"
          ]
        },
        {
          "output_type": "stream",
          "name": "stdout",
          "text": [
            "\n",
            "Class-wise Accuracy:\n",
            "  Class 2: 73.65%\n",
            "  Class 0: 49.81%\n",
            "  Class 1: 82.43%\n",
            "Test Accuracy: 68.6%, Test Loss: 0.766996\n",
            "\n",
            "\n",
            "Class-wise Accuracy:\n",
            "  Class 2: 73.65%\n",
            "  Class 0: 49.81%\n",
            "  Class 1: 82.43%\n",
            "Train Accuracy: 77.28%, Average Train Loss: 0.565327, Test Accuracy: 68.59%, Average Test Loss: 0.766996\n",
            "\n",
            "Epoch 19/60: "
          ]
        },
        {
          "output_type": "stream",
          "name": "stderr",
          "text": [
            "100%|██████████| 2795/2795 [00:13<00:00, 204.23it/s]\n",
            "Batch 699/699, Loss: 1.018192: 100%|██████████| 699/699 [00:03<00:00, 211.81it/s]\n"
          ]
        },
        {
          "output_type": "stream",
          "name": "stdout",
          "text": [
            "\n",
            "Class-wise Accuracy:\n",
            "  Class 2: 38.52%\n",
            "  Class 0: 2.37%\n",
            "  Class 1: 99.01%\n",
            "Test Accuracy: 46.4%, Test Loss: 1.034136\n",
            "\n",
            "\n",
            "Class-wise Accuracy:\n",
            "  Class 2: 38.52%\n",
            "  Class 0: 2.37%\n",
            "  Class 1: 99.01%\n",
            "Train Accuracy: 77.16%, Average Train Loss: 0.562206, Test Accuracy: 46.35%, Average Test Loss: 1.034136\n",
            "\n",
            "Epoch 20/60: "
          ]
        },
        {
          "output_type": "stream",
          "name": "stderr",
          "text": [
            "100%|██████████| 2795/2795 [00:13<00:00, 203.59it/s]\n",
            "Batch 699/699, Loss: 0.720442: 100%|██████████| 699/699 [00:03<00:00, 205.11it/s]\n"
          ]
        },
        {
          "output_type": "stream",
          "name": "stdout",
          "text": [
            "\n",
            "Class-wise Accuracy:\n",
            "  Class 2: 74.71%\n",
            "  Class 0: 50.46%\n",
            "  Class 1: 87.21%\n",
            "Test Accuracy: 70.7%, Test Loss: 0.736447\n",
            "\n",
            "\n",
            "Class-wise Accuracy:\n",
            "  Class 2: 74.71%\n",
            "  Class 0: 50.46%\n",
            "  Class 1: 87.21%\n",
            "Train Accuracy: 77.34%, Average Train Loss: 0.559395, Test Accuracy: 70.73%, Average Test Loss: 0.736447\n",
            "\n",
            "Epoch 21/60: "
          ]
        },
        {
          "output_type": "stream",
          "name": "stderr",
          "text": [
            "100%|██████████| 2795/2795 [00:13<00:00, 204.46it/s]\n",
            "Batch 699/699, Loss: 0.580002: 100%|██████████| 699/699 [00:03<00:00, 210.08it/s]\n"
          ]
        },
        {
          "output_type": "stream",
          "name": "stdout",
          "text": [
            "\n",
            "Class-wise Accuracy:\n",
            "  Class 2: 76.82%\n",
            "  Class 0: 67.91%\n",
            "  Class 1: 83.07%\n",
            "Test Accuracy: 75.9%, Test Loss: 0.835020\n",
            "\n",
            "\n",
            "Class-wise Accuracy:\n",
            "  Class 2: 76.82%\n",
            "  Class 0: 67.91%\n",
            "  Class 1: 83.07%\n",
            "Train Accuracy: 78.82%, Average Train Loss: 0.529720, Test Accuracy: 75.90%, Average Test Loss: 0.835020\n",
            "\n",
            "Epoch 22/60: "
          ]
        },
        {
          "output_type": "stream",
          "name": "stderr",
          "text": [
            "100%|██████████| 2795/2795 [00:13<00:00, 205.06it/s]\n",
            "Batch 699/699, Loss: 0.822505: 100%|██████████| 699/699 [00:03<00:00, 212.01it/s]\n"
          ]
        },
        {
          "output_type": "stream",
          "name": "stdout",
          "text": [
            "\n",
            "Class-wise Accuracy:\n",
            "  Class 2: 66.52%\n",
            "  Class 0: 36.81%\n",
            "  Class 1: 84.46%\n",
            "Test Accuracy: 62.5%, Test Loss: 0.835004\n",
            "\n",
            "\n",
            "Class-wise Accuracy:\n",
            "  Class 2: 66.52%\n",
            "  Class 0: 36.81%\n",
            "  Class 1: 84.46%\n",
            "Train Accuracy: 79.02%, Average Train Loss: 0.523511, Test Accuracy: 62.51%, Average Test Loss: 0.835004\n",
            "\n",
            "Epoch 23/60: "
          ]
        },
        {
          "output_type": "stream",
          "name": "stderr",
          "text": [
            "100%|██████████| 2795/2795 [00:13<00:00, 203.91it/s]\n",
            "Batch 699/699, Loss: 0.627342: 100%|██████████| 699/699 [00:03<00:00, 210.92it/s]\n"
          ]
        },
        {
          "output_type": "stream",
          "name": "stdout",
          "text": [
            "\n",
            "Class-wise Accuracy:\n",
            "  Class 2: 76.06%\n",
            "  Class 0: 75.84%\n",
            "  Class 1: 86.73%\n",
            "Test Accuracy: 79.5%, Test Loss: 0.936596\n",
            "\n",
            "\n",
            "Class-wise Accuracy:\n",
            "  Class 2: 76.06%\n",
            "  Class 0: 75.84%\n",
            "  Class 1: 86.73%\n",
            "Train Accuracy: 78.51%, Average Train Loss: 0.538014, Test Accuracy: 79.49%, Average Test Loss: 0.936596\n",
            "\n",
            "Epoch 24/60: "
          ]
        },
        {
          "output_type": "stream",
          "name": "stderr",
          "text": [
            "100%|██████████| 2795/2795 [00:13<00:00, 203.93it/s]\n",
            "Batch 699/699, Loss: 0.683065: 100%|██████████| 699/699 [00:03<00:00, 211.67it/s]\n"
          ]
        },
        {
          "output_type": "stream",
          "name": "stdout",
          "text": [
            "\n",
            "Class-wise Accuracy:\n",
            "  Class 2: 76.78%\n",
            "  Class 0: 63.13%\n",
            "  Class 1: 90.26%\n",
            "Test Accuracy: 76.7%, Test Loss: 0.667972\n",
            "\n",
            "\n",
            "Class-wise Accuracy:\n",
            "  Class 2: 76.78%\n",
            "  Class 0: 63.13%\n",
            "  Class 1: 90.26%\n",
            "Train Accuracy: 78.90%, Average Train Loss: 0.520392, Test Accuracy: 76.66%, Average Test Loss: 0.667972\n",
            "\n",
            "Epoch 25/60: "
          ]
        },
        {
          "output_type": "stream",
          "name": "stderr",
          "text": [
            "100%|██████████| 2795/2795 [00:13<00:00, 204.52it/s]\n",
            "Batch 699/699, Loss: 0.559843: 100%|██████████| 699/699 [00:03<00:00, 207.36it/s]\n"
          ]
        },
        {
          "output_type": "stream",
          "name": "stdout",
          "text": [
            "\n",
            "Class-wise Accuracy:\n",
            "  Class 2: 75.20%\n",
            "  Class 0: 64.11%\n",
            "  Class 1: 87.90%\n",
            "Test Accuracy: 75.7%, Test Loss: 0.678878\n",
            "\n",
            "\n",
            "Class-wise Accuracy:\n",
            "  Class 2: 75.20%\n",
            "  Class 0: 64.11%\n",
            "  Class 1: 87.90%\n",
            "Train Accuracy: 79.11%, Average Train Loss: 0.517873, Test Accuracy: 75.68%, Average Test Loss: 0.678878\n",
            "\n",
            "Epoch 26/60: "
          ]
        },
        {
          "output_type": "stream",
          "name": "stderr",
          "text": [
            "100%|██████████| 2795/2795 [00:13<00:00, 204.21it/s]\n",
            "Batch 699/699, Loss: 0.550205: 100%|██████████| 699/699 [00:03<00:00, 212.48it/s]\n"
          ]
        },
        {
          "output_type": "stream",
          "name": "stdout",
          "text": [
            "\n",
            "Class-wise Accuracy:\n",
            "  Class 2: 80.80%\n",
            "  Class 0: 75.42%\n",
            "  Class 1: 84.93%\n",
            "Test Accuracy: 80.4%, Test Loss: 0.762130\n",
            "\n",
            "\n",
            "Class-wise Accuracy:\n",
            "  Class 2: 80.80%\n",
            "  Class 0: 75.42%\n",
            "  Class 1: 84.93%\n",
            "Train Accuracy: 79.53%, Average Train Loss: 0.518696, Test Accuracy: 80.37%, Average Test Loss: 0.762130\n",
            "\n",
            "Epoch 27/60: "
          ]
        },
        {
          "output_type": "stream",
          "name": "stderr",
          "text": [
            "100%|██████████| 2795/2795 [00:13<00:00, 204.53it/s]\n",
            "Batch 699/699, Loss: 0.484920: 100%|██████████| 699/699 [00:03<00:00, 211.62it/s]\n"
          ]
        },
        {
          "output_type": "stream",
          "name": "stdout",
          "text": [
            "\n",
            "Class-wise Accuracy:\n",
            "  Class 2: 84.68%\n",
            "  Class 0: 70.24%\n",
            "  Class 1: 80.59%\n",
            "Test Accuracy: 78.5%, Test Loss: 0.646789\n",
            "\n",
            "\n",
            "Class-wise Accuracy:\n",
            "  Class 2: 84.68%\n",
            "  Class 0: 70.24%\n",
            "  Class 1: 80.59%\n",
            "Train Accuracy: 80.33%, Average Train Loss: 0.488642, Test Accuracy: 78.52%, Average Test Loss: 0.646789\n",
            "\n",
            "Epoch 28/60: "
          ]
        },
        {
          "output_type": "stream",
          "name": "stderr",
          "text": [
            "100%|██████████| 2795/2795 [00:13<00:00, 204.54it/s]\n",
            "Batch 699/699, Loss: 0.620095: 100%|██████████| 699/699 [00:03<00:00, 203.92it/s]\n"
          ]
        },
        {
          "output_type": "stream",
          "name": "stdout",
          "text": [
            "\n",
            "Class-wise Accuracy:\n",
            "  Class 2: 78.63%\n",
            "  Class 0: 54.82%\n",
            "  Class 1: 79.68%\n",
            "Test Accuracy: 71.0%, Test Loss: 0.678135\n",
            "\n",
            "\n",
            "Class-wise Accuracy:\n",
            "  Class 2: 78.63%\n",
            "  Class 0: 54.82%\n",
            "  Class 1: 79.68%\n",
            "Train Accuracy: 80.05%, Average Train Loss: 0.498733, Test Accuracy: 71.03%, Average Test Loss: 0.678135\n",
            "\n",
            "Epoch 29/60: "
          ]
        },
        {
          "output_type": "stream",
          "name": "stderr",
          "text": [
            "100%|██████████| 2795/2795 [00:13<00:00, 204.95it/s]\n",
            "Batch 699/699, Loss: 0.524870: 100%|██████████| 699/699 [00:03<00:00, 213.19it/s]\n"
          ]
        },
        {
          "output_type": "stream",
          "name": "stdout",
          "text": [
            "\n",
            "Class-wise Accuracy:\n",
            "  Class 2: 82.81%\n",
            "  Class 0: 67.67%\n",
            "  Class 1: 81.02%\n",
            "Test Accuracy: 77.2%, Test Loss: 0.618603\n",
            "\n",
            "\n",
            "Class-wise Accuracy:\n",
            "  Class 2: 82.81%\n",
            "  Class 0: 67.67%\n",
            "  Class 1: 81.02%\n",
            "Train Accuracy: 79.46%, Average Train Loss: 0.515617, Test Accuracy: 77.17%, Average Test Loss: 0.618603\n",
            "\n",
            "Epoch 30/60: "
          ]
        },
        {
          "output_type": "stream",
          "name": "stderr",
          "text": [
            "100%|██████████| 2795/2795 [00:13<00:00, 204.54it/s]\n",
            "Batch 699/699, Loss: 0.538979: 100%|██████████| 699/699 [00:03<00:00, 213.11it/s]\n"
          ]
        },
        {
          "output_type": "stream",
          "name": "stdout",
          "text": [
            "\n",
            "Class-wise Accuracy:\n",
            "  Class 2: 87.59%\n",
            "  Class 0: 59.40%\n",
            "  Class 1: 72.52%\n",
            "Test Accuracy: 73.2%, Test Loss: 0.639049\n",
            "\n",
            "\n",
            "Class-wise Accuracy:\n",
            "  Class 2: 87.59%\n",
            "  Class 0: 59.40%\n",
            "  Class 1: 72.52%\n",
            "Train Accuracy: 80.22%, Average Train Loss: 0.493656, Test Accuracy: 73.24%, Average Test Loss: 0.639049\n",
            "\n",
            "Epoch 31/60: "
          ]
        },
        {
          "output_type": "stream",
          "name": "stderr",
          "text": [
            "100%|██████████| 2795/2795 [00:13<00:00, 202.81it/s]\n",
            "Batch 699/699, Loss: 0.452869: 100%|██████████| 699/699 [00:03<00:00, 209.10it/s]\n"
          ]
        },
        {
          "output_type": "stream",
          "name": "stdout",
          "text": [
            "\n",
            "Class-wise Accuracy:\n",
            "  Class 2: 77.34%\n",
            "  Class 0: 72.18%\n",
            "  Class 1: 85.76%\n",
            "Test Accuracy: 78.4%, Test Loss: 0.725536\n",
            "\n",
            "\n",
            "Class-wise Accuracy:\n",
            "  Class 2: 77.34%\n",
            "  Class 0: 72.18%\n",
            "  Class 1: 85.76%\n",
            "Train Accuracy: 80.75%, Average Train Loss: 0.484486, Test Accuracy: 78.39%, Average Test Loss: 0.725536\n",
            "\n",
            "Epoch 32/60: "
          ]
        },
        {
          "output_type": "stream",
          "name": "stderr",
          "text": [
            "100%|██████████| 2795/2795 [00:13<00:00, 205.12it/s]\n",
            "Batch 699/699, Loss: 0.515964: 100%|██████████| 699/699 [00:03<00:00, 201.87it/s]\n"
          ]
        },
        {
          "output_type": "stream",
          "name": "stdout",
          "text": [
            "\n",
            "Class-wise Accuracy:\n",
            "  Class 2: 83.72%\n",
            "  Class 0: 69.21%\n",
            "  Class 1: 72.92%\n",
            "Test Accuracy: 75.3%, Test Loss: 0.638876\n",
            "\n",
            "\n",
            "Class-wise Accuracy:\n",
            "  Class 2: 83.72%\n",
            "  Class 0: 69.21%\n",
            "  Class 1: 72.92%\n",
            "Train Accuracy: 81.44%, Average Train Loss: 0.464513, Test Accuracy: 75.33%, Average Test Loss: 0.638876\n",
            "\n",
            "Epoch 33/60: "
          ]
        },
        {
          "output_type": "stream",
          "name": "stderr",
          "text": [
            "100%|██████████| 2795/2795 [00:13<00:00, 204.11it/s]\n",
            "Batch 699/699, Loss: 0.435532: 100%|██████████| 699/699 [00:03<00:00, 202.82it/s]\n"
          ]
        },
        {
          "output_type": "stream",
          "name": "stdout",
          "text": [
            "\n",
            "Class-wise Accuracy:\n",
            "  Class 2: 84.45%\n",
            "  Class 0: 71.92%\n",
            "  Class 1: 82.54%\n",
            "Test Accuracy: 79.6%, Test Loss: 0.618920\n",
            "\n",
            "\n",
            "Class-wise Accuracy:\n",
            "  Class 2: 84.45%\n",
            "  Class 0: 71.92%\n",
            "  Class 1: 82.54%\n",
            "Train Accuracy: 81.25%, Average Train Loss: 0.470901, Test Accuracy: 79.64%, Average Test Loss: 0.618920\n",
            "\n",
            "Epoch 34/60: "
          ]
        },
        {
          "output_type": "stream",
          "name": "stderr",
          "text": [
            "100%|██████████| 2795/2795 [00:13<00:00, 202.59it/s]\n",
            "Batch 699/699, Loss: 0.441359: 100%|██████████| 699/699 [00:03<00:00, 212.68it/s]\n"
          ]
        },
        {
          "output_type": "stream",
          "name": "stdout",
          "text": [
            "\n",
            "Class-wise Accuracy:\n",
            "  Class 2: 83.46%\n",
            "  Class 0: 72.14%\n",
            "  Class 1: 83.03%\n",
            "Test Accuracy: 79.5%, Test Loss: 0.617520\n",
            "\n",
            "\n",
            "Class-wise Accuracy:\n",
            "  Class 2: 83.46%\n",
            "  Class 0: 72.14%\n",
            "  Class 1: 83.03%\n",
            "Train Accuracy: 80.49%, Average Train Loss: 0.490382, Test Accuracy: 79.54%, Average Test Loss: 0.617520\n",
            "\n",
            "Epoch 35/60: "
          ]
        },
        {
          "output_type": "stream",
          "name": "stderr",
          "text": [
            "100%|██████████| 2795/2795 [00:13<00:00, 204.83it/s]\n",
            "Batch 699/699, Loss: 0.567944: 100%|██████████| 699/699 [00:03<00:00, 214.03it/s]\n"
          ]
        },
        {
          "output_type": "stream",
          "name": "stdout",
          "text": [
            "\n",
            "Class-wise Accuracy:\n",
            "  Class 2: 78.89%\n",
            "  Class 0: 49.24%\n",
            "  Class 1: 87.77%\n",
            "Test Accuracy: 71.9%, Test Loss: 0.722479\n",
            "\n",
            "\n",
            "Class-wise Accuracy:\n",
            "  Class 2: 78.89%\n",
            "  Class 0: 49.24%\n",
            "  Class 1: 87.77%\n",
            "Train Accuracy: 81.84%, Average Train Loss: 0.457324, Test Accuracy: 71.92%, Average Test Loss: 0.722479\n",
            "\n",
            "Epoch 36/60: "
          ]
        },
        {
          "output_type": "stream",
          "name": "stderr",
          "text": [
            "100%|██████████| 2795/2795 [00:13<00:00, 204.29it/s]\n",
            "Batch 699/699, Loss: 0.522409: 100%|██████████| 699/699 [00:03<00:00, 201.15it/s]\n"
          ]
        },
        {
          "output_type": "stream",
          "name": "stdout",
          "text": [
            "\n",
            "Class-wise Accuracy:\n",
            "  Class 2: 83.43%\n",
            "  Class 0: 72.27%\n",
            "  Class 1: 84.42%\n",
            "Test Accuracy: 80.0%, Test Loss: 0.616754\n",
            "\n",
            "\n",
            "Class-wise Accuracy:\n",
            "  Class 2: 83.43%\n",
            "  Class 0: 72.27%\n",
            "  Class 1: 84.42%\n",
            "Train Accuracy: 81.28%, Average Train Loss: 0.470672, Test Accuracy: 80.03%, Average Test Loss: 0.616754\n",
            "\n",
            "Epoch 37/60: "
          ]
        },
        {
          "output_type": "stream",
          "name": "stderr",
          "text": [
            "100%|██████████| 2795/2795 [00:13<00:00, 202.56it/s]\n",
            "Batch 699/699, Loss: 0.698687: 100%|██████████| 699/699 [00:03<00:00, 204.79it/s]\n"
          ]
        },
        {
          "output_type": "stream",
          "name": "stdout",
          "text": [
            "\n",
            "Class-wise Accuracy:\n",
            "  Class 2: 79.12%\n",
            "  Class 0: 44.33%\n",
            "  Class 1: 92.53%\n",
            "Test Accuracy: 71.9%, Test Loss: 0.782356\n",
            "\n",
            "\n",
            "Class-wise Accuracy:\n",
            "  Class 2: 79.12%\n",
            "  Class 0: 44.33%\n",
            "  Class 1: 92.53%\n",
            "Train Accuracy: 81.34%, Average Train Loss: 0.473078, Test Accuracy: 71.92%, Average Test Loss: 0.782356\n",
            "\n",
            "Epoch 38/60: "
          ]
        },
        {
          "output_type": "stream",
          "name": "stderr",
          "text": [
            "100%|██████████| 2795/2795 [00:13<00:00, 202.40it/s]\n",
            "Batch 699/699, Loss: 0.666336: 100%|██████████| 699/699 [00:03<00:00, 202.80it/s]\n"
          ]
        },
        {
          "output_type": "stream",
          "name": "stdout",
          "text": [
            "\n",
            "Class-wise Accuracy:\n",
            "  Class 2: 80.89%\n",
            "  Class 0: 56.24%\n",
            "  Class 1: 76.97%\n",
            "Test Accuracy: 71.4%, Test Loss: 0.696746\n",
            "\n",
            "\n",
            "Class-wise Accuracy:\n",
            "  Class 2: 80.89%\n",
            "  Class 0: 56.24%\n",
            "  Class 1: 76.97%\n",
            "Train Accuracy: 82.28%, Average Train Loss: 0.444533, Test Accuracy: 71.38%, Average Test Loss: 0.696746\n",
            "\n",
            "Epoch 39/60: "
          ]
        },
        {
          "output_type": "stream",
          "name": "stderr",
          "text": [
            "100%|██████████| 2795/2795 [00:13<00:00, 202.19it/s]\n",
            "Batch 699/699, Loss: 0.576636: 100%|██████████| 699/699 [00:03<00:00, 210.99it/s]\n"
          ]
        },
        {
          "output_type": "stream",
          "name": "stdout",
          "text": [
            "\n",
            "Class-wise Accuracy:\n",
            "  Class 2: 82.47%\n",
            "  Class 0: 57.66%\n",
            "  Class 1: 89.26%\n",
            "Test Accuracy: 76.4%, Test Loss: 0.745732\n",
            "\n",
            "\n",
            "Class-wise Accuracy:\n",
            "  Class 2: 82.47%\n",
            "  Class 0: 57.66%\n",
            "  Class 1: 89.26%\n",
            "Train Accuracy: 81.92%, Average Train Loss: 0.455996, Test Accuracy: 76.43%, Average Test Loss: 0.745732\n",
            "\n",
            "Epoch 40/60: "
          ]
        },
        {
          "output_type": "stream",
          "name": "stderr",
          "text": [
            "100%|██████████| 2795/2795 [00:13<00:00, 202.61it/s]\n",
            "Batch 699/699, Loss: 0.477650: 100%|██████████| 699/699 [00:03<00:00, 211.27it/s]\n"
          ]
        },
        {
          "output_type": "stream",
          "name": "stdout",
          "text": [
            "\n",
            "Class-wise Accuracy:\n",
            "  Class 2: 83.34%\n",
            "  Class 0: 63.51%\n",
            "  Class 1: 81.59%\n",
            "Test Accuracy: 76.2%, Test Loss: 0.602850\n",
            "\n",
            "\n",
            "Class-wise Accuracy:\n",
            "  Class 2: 83.34%\n",
            "  Class 0: 63.51%\n",
            "  Class 1: 81.59%\n",
            "Train Accuracy: 82.54%, Average Train Loss: 0.439502, Test Accuracy: 76.15%, Average Test Loss: 0.602850\n",
            "\n",
            "Epoch 41/60: "
          ]
        },
        {
          "output_type": "stream",
          "name": "stderr",
          "text": [
            "100%|██████████| 2795/2795 [00:13<00:00, 203.94it/s]\n",
            "Batch 699/699, Loss: 0.407377: 100%|██████████| 699/699 [00:03<00:00, 205.94it/s]\n"
          ]
        },
        {
          "output_type": "stream",
          "name": "stdout",
          "text": [
            "\n",
            "Class-wise Accuracy:\n",
            "  Class 2: 84.39%\n",
            "  Class 0: 77.25%\n",
            "  Class 1: 88.24%\n",
            "Test Accuracy: 83.3%, Test Loss: 0.647479\n",
            "\n",
            "\n",
            "Class-wise Accuracy:\n",
            "  Class 2: 84.39%\n",
            "  Class 0: 77.25%\n",
            "  Class 1: 88.24%\n",
            "Train Accuracy: 82.71%, Average Train Loss: 0.437315, Test Accuracy: 83.27%, Average Test Loss: 0.647479\n",
            "\n",
            "Epoch 42/60: "
          ]
        },
        {
          "output_type": "stream",
          "name": "stderr",
          "text": [
            "100%|██████████| 2795/2795 [00:13<00:00, 204.24it/s]\n",
            "Batch 699/699, Loss: 0.452664: 100%|██████████| 699/699 [00:03<00:00, 213.61it/s]\n"
          ]
        },
        {
          "output_type": "stream",
          "name": "stdout",
          "text": [
            "\n",
            "Class-wise Accuracy:\n",
            "  Class 2: 82.68%\n",
            "  Class 0: 74.60%\n",
            "  Class 1: 84.64%\n",
            "Test Accuracy: 80.6%, Test Loss: 0.597516\n",
            "\n",
            "\n",
            "Class-wise Accuracy:\n",
            "  Class 2: 82.68%\n",
            "  Class 0: 74.60%\n",
            "  Class 1: 84.64%\n",
            "Train Accuracy: 82.82%, Average Train Loss: 0.437535, Test Accuracy: 80.63%, Average Test Loss: 0.597516\n",
            "\n",
            "Epoch 43/60: "
          ]
        },
        {
          "output_type": "stream",
          "name": "stderr",
          "text": [
            "100%|██████████| 2795/2795 [00:13<00:00, 204.57it/s]\n",
            "Batch 699/699, Loss: 0.486976: 100%|██████████| 699/699 [00:03<00:00, 213.62it/s]\n"
          ]
        },
        {
          "output_type": "stream",
          "name": "stdout",
          "text": [
            "\n",
            "Class-wise Accuracy:\n",
            "  Class 2: 79.75%\n",
            "  Class 0: 58.45%\n",
            "  Class 1: 81.10%\n",
            "Test Accuracy: 73.1%, Test Loss: 0.632727\n",
            "\n",
            "\n",
            "Class-wise Accuracy:\n",
            "  Class 2: 79.75%\n",
            "  Class 0: 58.45%\n",
            "  Class 1: 81.10%\n",
            "Train Accuracy: 82.96%, Average Train Loss: 0.429224, Test Accuracy: 73.09%, Average Test Loss: 0.632727\n",
            "\n",
            "Epoch 44/60: "
          ]
        },
        {
          "output_type": "stream",
          "name": "stderr",
          "text": [
            "100%|██████████| 2795/2795 [00:13<00:00, 204.09it/s]\n",
            "Batch 699/699, Loss: 0.373993: 100%|██████████| 699/699 [00:03<00:00, 201.64it/s]\n"
          ]
        },
        {
          "output_type": "stream",
          "name": "stdout",
          "text": [
            "\n",
            "Class-wise Accuracy:\n",
            "  Class 2: 87.59%\n",
            "  Class 0: 77.96%\n",
            "  Class 1: 86.51%\n",
            "Test Accuracy: 84.0%, Test Loss: 0.658704\n",
            "\n",
            "\n",
            "Class-wise Accuracy:\n",
            "  Class 2: 87.59%\n",
            "  Class 0: 77.96%\n",
            "  Class 1: 86.51%\n",
            "Train Accuracy: 83.14%, Average Train Loss: 0.427844, Test Accuracy: 84.02%, Average Test Loss: 0.658704\n",
            "\n",
            "Epoch 45/60: "
          ]
        },
        {
          "output_type": "stream",
          "name": "stderr",
          "text": [
            "100%|██████████| 2795/2795 [00:13<00:00, 204.84it/s]\n",
            "Batch 699/699, Loss: 0.395593: 100%|██████████| 699/699 [00:03<00:00, 205.84it/s]\n"
          ]
        },
        {
          "output_type": "stream",
          "name": "stdout",
          "text": [
            "\n",
            "Class-wise Accuracy:\n",
            "  Class 2: 88.58%\n",
            "  Class 0: 72.47%\n",
            "  Class 1: 83.68%\n",
            "Test Accuracy: 81.6%, Test Loss: 0.503444\n",
            "\n",
            "\n",
            "Class-wise Accuracy:\n",
            "  Class 2: 88.58%\n",
            "  Class 0: 72.47%\n",
            "  Class 1: 83.68%\n",
            "Train Accuracy: 83.31%, Average Train Loss: 0.420863, Test Accuracy: 81.60%, Average Test Loss: 0.503444\n",
            "\n",
            "Epoch 46/60: "
          ]
        },
        {
          "output_type": "stream",
          "name": "stderr",
          "text": [
            "100%|██████████| 2795/2795 [00:13<00:00, 204.49it/s]\n",
            "Batch 699/699, Loss: 0.367706: 100%|██████████| 699/699 [00:03<00:00, 200.50it/s]\n"
          ]
        },
        {
          "output_type": "stream",
          "name": "stdout",
          "text": [
            "\n",
            "Class-wise Accuracy:\n",
            "  Class 2: 86.82%\n",
            "  Class 0: 78.45%\n",
            "  Class 1: 84.50%\n",
            "Test Accuracy: 83.3%, Test Loss: 0.461256\n",
            "\n",
            "\n",
            "Class-wise Accuracy:\n",
            "  Class 2: 86.82%\n",
            "  Class 0: 78.45%\n",
            "  Class 1: 84.50%\n",
            "Train Accuracy: 83.44%, Average Train Loss: 0.423407, Test Accuracy: 83.27%, Average Test Loss: 0.461256\n",
            "\n",
            "Epoch 47/60: "
          ]
        },
        {
          "output_type": "stream",
          "name": "stderr",
          "text": [
            "100%|██████████| 2795/2795 [00:13<00:00, 205.00it/s]\n",
            "Batch 699/699, Loss: 0.379944: 100%|██████████| 699/699 [00:03<00:00, 205.07it/s]\n"
          ]
        },
        {
          "output_type": "stream",
          "name": "stdout",
          "text": [
            "\n",
            "Class-wise Accuracy:\n",
            "  Class 2: 83.88%\n",
            "  Class 0: 82.75%\n",
            "  Class 1: 85.79%\n",
            "Test Accuracy: 84.1%, Test Loss: 0.659770\n",
            "\n",
            "\n",
            "Class-wise Accuracy:\n",
            "  Class 2: 83.88%\n",
            "  Class 0: 82.75%\n",
            "  Class 1: 85.79%\n",
            "Train Accuracy: 83.56%, Average Train Loss: 0.418232, Test Accuracy: 84.13%, Average Test Loss: 0.659770\n",
            "\n",
            "Epoch 48/60: "
          ]
        },
        {
          "output_type": "stream",
          "name": "stderr",
          "text": [
            "100%|██████████| 2795/2795 [00:13<00:00, 205.19it/s]\n",
            "Batch 699/699, Loss: 0.369726: 100%|██████████| 699/699 [00:03<00:00, 209.15it/s]\n"
          ]
        },
        {
          "output_type": "stream",
          "name": "stdout",
          "text": [
            "\n",
            "Class-wise Accuracy:\n",
            "  Class 2: 87.31%\n",
            "  Class 0: 86.44%\n",
            "  Class 1: 90.22%\n",
            "Test Accuracy: 88.0%, Test Loss: 0.391697\n",
            "\n",
            "\n",
            "Class-wise Accuracy:\n",
            "  Class 2: 87.31%\n",
            "  Class 0: 86.44%\n",
            "  Class 1: 90.22%\n",
            "Train Accuracy: 83.69%, Average Train Loss: 0.416451, Test Accuracy: 87.97%, Average Test Loss: 0.391697\n",
            "\n",
            "Epoch 49/60: "
          ]
        },
        {
          "output_type": "stream",
          "name": "stderr",
          "text": [
            "100%|██████████| 2795/2795 [00:13<00:00, 205.13it/s]\n",
            "Batch 699/699, Loss: 0.378337: 100%|██████████| 699/699 [00:03<00:00, 203.14it/s]\n"
          ]
        },
        {
          "output_type": "stream",
          "name": "stdout",
          "text": [
            "\n",
            "Class-wise Accuracy:\n",
            "  Class 2: 85.04%\n",
            "  Class 0: 79.89%\n",
            "  Class 1: 87.44%\n",
            "Test Accuracy: 84.1%, Test Loss: 0.551867\n",
            "\n",
            "\n",
            "Class-wise Accuracy:\n",
            "  Class 2: 85.04%\n",
            "  Class 0: 79.89%\n",
            "  Class 1: 87.44%\n",
            "Train Accuracy: 83.82%, Average Train Loss: 0.411034, Test Accuracy: 84.11%, Average Test Loss: 0.551867\n",
            "\n",
            "Epoch 50/60: "
          ]
        },
        {
          "output_type": "stream",
          "name": "stderr",
          "text": [
            "100%|██████████| 2795/2795 [00:13<00:00, 205.09it/s]\n",
            "Batch 699/699, Loss: 0.365210: 100%|██████████| 699/699 [00:03<00:00, 211.32it/s]\n"
          ]
        },
        {
          "output_type": "stream",
          "name": "stdout",
          "text": [
            "\n",
            "Class-wise Accuracy:\n",
            "  Class 2: 89.54%\n",
            "  Class 0: 80.49%\n",
            "  Class 1: 84.04%\n",
            "Test Accuracy: 84.7%, Test Loss: 0.530740\n",
            "\n",
            "\n",
            "Class-wise Accuracy:\n",
            "  Class 2: 89.54%\n",
            "  Class 0: 80.49%\n",
            "  Class 1: 84.04%\n",
            "Train Accuracy: 83.62%, Average Train Loss: 0.411929, Test Accuracy: 84.71%, Average Test Loss: 0.530740\n",
            "\n",
            "Epoch 51/60: "
          ]
        },
        {
          "output_type": "stream",
          "name": "stderr",
          "text": [
            "100%|██████████| 2795/2795 [00:13<00:00, 204.97it/s]\n",
            "Batch 699/699, Loss: 0.407922: 100%|██████████| 699/699 [00:03<00:00, 207.85it/s]\n"
          ]
        },
        {
          "output_type": "stream",
          "name": "stdout",
          "text": [
            "\n",
            "Class-wise Accuracy:\n",
            "  Class 2: 87.84%\n",
            "  Class 0: 66.86%\n",
            "  Class 1: 80.96%\n",
            "Test Accuracy: 78.6%, Test Loss: 0.557422\n",
            "\n",
            "\n",
            "Class-wise Accuracy:\n",
            "  Class 2: 87.84%\n",
            "  Class 0: 66.86%\n",
            "  Class 1: 80.96%\n",
            "Train Accuracy: 83.93%, Average Train Loss: 0.411230, Test Accuracy: 78.58%, Average Test Loss: 0.557422\n",
            "\n",
            "Epoch 52/60: "
          ]
        },
        {
          "output_type": "stream",
          "name": "stderr",
          "text": [
            "100%|██████████| 2795/2795 [00:13<00:00, 204.89it/s]\n",
            "Batch 699/699, Loss: 0.381104: 100%|██████████| 699/699 [00:03<00:00, 208.76it/s]\n"
          ]
        },
        {
          "output_type": "stream",
          "name": "stdout",
          "text": [
            "\n",
            "Class-wise Accuracy:\n",
            "  Class 2: 87.42%\n",
            "  Class 0: 73.38%\n",
            "  Class 1: 87.29%\n",
            "Test Accuracy: 82.7%, Test Loss: 0.467286\n",
            "\n",
            "\n",
            "Class-wise Accuracy:\n",
            "  Class 2: 87.42%\n",
            "  Class 0: 73.38%\n",
            "  Class 1: 87.29%\n",
            "Train Accuracy: 83.82%, Average Train Loss: 0.408634, Test Accuracy: 82.70%, Average Test Loss: 0.467286\n",
            "\n",
            "Epoch 53/60: "
          ]
        },
        {
          "output_type": "stream",
          "name": "stderr",
          "text": [
            "100%|██████████| 2795/2795 [00:13<00:00, 205.79it/s]\n",
            "Batch 699/699, Loss: 0.395885: 100%|██████████| 699/699 [00:03<00:00, 215.19it/s]\n"
          ]
        },
        {
          "output_type": "stream",
          "name": "stdout",
          "text": [
            "\n",
            "Class-wise Accuracy:\n",
            "  Class 2: 81.88%\n",
            "  Class 0: 80.20%\n",
            "  Class 1: 88.92%\n",
            "Test Accuracy: 83.6%, Test Loss: 0.614286\n",
            "\n",
            "\n",
            "Class-wise Accuracy:\n",
            "  Class 2: 81.88%\n",
            "  Class 0: 80.20%\n",
            "  Class 1: 88.92%\n",
            "Train Accuracy: 83.76%, Average Train Loss: 0.405828, Test Accuracy: 83.64%, Average Test Loss: 0.614286\n",
            "\n",
            "Epoch 54/60: "
          ]
        },
        {
          "output_type": "stream",
          "name": "stderr",
          "text": [
            "100%|██████████| 2795/2795 [00:13<00:00, 204.75it/s]\n",
            "Batch 699/699, Loss: 0.346814: 100%|██████████| 699/699 [00:03<00:00, 209.55it/s]\n"
          ]
        },
        {
          "output_type": "stream",
          "name": "stdout",
          "text": [
            "\n",
            "Class-wise Accuracy:\n",
            "  Class 2: 86.51%\n",
            "  Class 0: 81.10%\n",
            "  Class 1: 87.96%\n",
            "Test Accuracy: 85.2%, Test Loss: 0.494230\n",
            "\n",
            "\n",
            "Class-wise Accuracy:\n",
            "  Class 2: 86.51%\n",
            "  Class 0: 81.10%\n",
            "  Class 1: 87.96%\n",
            "Train Accuracy: 84.05%, Average Train Loss: 0.404833, Test Accuracy: 85.18%, Average Test Loss: 0.494230\n",
            "\n",
            "Epoch 55/60: "
          ]
        },
        {
          "output_type": "stream",
          "name": "stderr",
          "text": [
            "100%|██████████| 2795/2795 [00:13<00:00, 205.14it/s]\n",
            "Batch 699/699, Loss: 0.351839: 100%|██████████| 699/699 [00:03<00:00, 212.75it/s]\n"
          ]
        },
        {
          "output_type": "stream",
          "name": "stdout",
          "text": [
            "\n",
            "Class-wise Accuracy:\n",
            "  Class 2: 87.74%\n",
            "  Class 0: 77.89%\n",
            "  Class 1: 83.98%\n",
            "Test Accuracy: 83.2%, Test Loss: 0.456587\n",
            "\n",
            "\n",
            "Class-wise Accuracy:\n",
            "  Class 2: 87.74%\n",
            "  Class 0: 77.89%\n",
            "  Class 1: 83.98%\n",
            "Train Accuracy: 84.01%, Average Train Loss: 0.406280, Test Accuracy: 83.22%, Average Test Loss: 0.456587\n",
            "\n",
            "Epoch 56/60: "
          ]
        },
        {
          "output_type": "stream",
          "name": "stderr",
          "text": [
            "100%|██████████| 2795/2795 [00:13<00:00, 205.03it/s]\n",
            "Batch 699/699, Loss: 0.354889: 100%|██████████| 699/699 [00:03<00:00, 213.25it/s]\n"
          ]
        },
        {
          "output_type": "stream",
          "name": "stdout",
          "text": [
            "\n",
            "Class-wise Accuracy:\n",
            "  Class 2: 89.45%\n",
            "  Class 0: 76.07%\n",
            "  Class 1: 84.57%\n",
            "Test Accuracy: 83.4%, Test Loss: 0.485758\n",
            "\n",
            "\n",
            "Class-wise Accuracy:\n",
            "  Class 2: 89.45%\n",
            "  Class 0: 76.07%\n",
            "  Class 1: 84.57%\n",
            "Train Accuracy: 84.09%, Average Train Loss: 0.406831, Test Accuracy: 83.38%, Average Test Loss: 0.485758\n",
            "\n",
            "Epoch 57/60: "
          ]
        },
        {
          "output_type": "stream",
          "name": "stderr",
          "text": [
            "100%|██████████| 2795/2795 [00:13<00:00, 204.46it/s]\n",
            "Batch 699/699, Loss: 0.405360: 100%|██████████| 699/699 [00:03<00:00, 206.51it/s]\n"
          ]
        },
        {
          "output_type": "stream",
          "name": "stdout",
          "text": [
            "\n",
            "Class-wise Accuracy:\n",
            "  Class 2: 85.30%\n",
            "  Class 0: 66.15%\n",
            "  Class 1: 73.42%\n",
            "Test Accuracy: 75.0%, Test Loss: 0.570905\n",
            "\n",
            "\n",
            "Class-wise Accuracy:\n",
            "  Class 2: 85.30%\n",
            "  Class 0: 66.15%\n",
            "  Class 1: 73.42%\n",
            "Train Accuracy: 84.20%, Average Train Loss: 0.402058, Test Accuracy: 75.01%, Average Test Loss: 0.570905\n",
            "\n",
            "Epoch 58/60: "
          ]
        },
        {
          "output_type": "stream",
          "name": "stderr",
          "text": [
            "100%|██████████| 2795/2795 [00:13<00:00, 204.83it/s]\n",
            "Batch 699/699, Loss: 0.444417: 100%|██████████| 699/699 [00:03<00:00, 213.32it/s]\n"
          ]
        },
        {
          "output_type": "stream",
          "name": "stdout",
          "text": [
            "\n",
            "Class-wise Accuracy:\n",
            "  Class 2: 82.57%\n",
            "  Class 0: 61.31%\n",
            "  Class 1: 74.63%\n",
            "Test Accuracy: 72.9%, Test Loss: 0.611491\n",
            "\n",
            "\n",
            "Class-wise Accuracy:\n",
            "  Class 2: 82.57%\n",
            "  Class 0: 61.31%\n",
            "  Class 1: 74.63%\n",
            "Train Accuracy: 84.15%, Average Train Loss: 0.401646, Test Accuracy: 72.87%, Average Test Loss: 0.611491\n",
            "\n",
            "Epoch 59/60: "
          ]
        },
        {
          "output_type": "stream",
          "name": "stderr",
          "text": [
            "100%|██████████| 2795/2795 [00:13<00:00, 205.49it/s]\n",
            "Batch 699/699, Loss: 0.381435: 100%|██████████| 699/699 [00:03<00:00, 206.69it/s]\n"
          ]
        },
        {
          "output_type": "stream",
          "name": "stdout",
          "text": [
            "\n",
            "Class-wise Accuracy:\n",
            "  Class 2: 86.94%\n",
            "  Class 0: 67.94%\n",
            "  Class 1: 79.29%\n",
            "Test Accuracy: 78.1%, Test Loss: 0.533814\n",
            "\n",
            "\n",
            "Class-wise Accuracy:\n",
            "  Class 2: 86.94%\n",
            "  Class 0: 67.94%\n",
            "  Class 1: 79.29%\n",
            "Train Accuracy: 84.10%, Average Train Loss: 0.400740, Test Accuracy: 78.09%, Average Test Loss: 0.533814\n",
            "\n",
            "Epoch 60/60: "
          ]
        },
        {
          "output_type": "stream",
          "name": "stderr",
          "text": [
            "100%|██████████| 2795/2795 [00:13<00:00, 204.56it/s]\n",
            "Batch 699/699, Loss: 0.366072: 100%|██████████| 699/699 [00:03<00:00, 213.87it/s]\n"
          ]
        },
        {
          "output_type": "stream",
          "name": "stdout",
          "text": [
            "\n",
            "Class-wise Accuracy:\n",
            "  Class 2: 87.03%\n",
            "  Class 0: 71.67%\n",
            "  Class 1: 83.42%\n",
            "Test Accuracy: 80.7%, Test Loss: 0.517338\n",
            "\n",
            "\n",
            "Class-wise Accuracy:\n",
            "  Class 2: 87.03%\n",
            "  Class 0: 71.67%\n",
            "  Class 1: 83.42%\n",
            "Train Accuracy: 84.31%, Average Train Loss: 0.399748, Test Accuracy: 80.72%, Average Test Loss: 0.517338\n",
            "\n"
          ]
        },
        {
          "output_type": "display_data",
          "data": {
            "text/plain": [
              "<IPython.core.display.HTML object>"
            ],
            "text/html": []
          },
          "metadata": {}
        },
        {
          "output_type": "display_data",
          "data": {
            "text/plain": [
              "<IPython.core.display.HTML object>"
            ],
            "text/html": [
              "<br>    <style><br>        .wandb-row {<br>            display: flex;<br>            flex-direction: row;<br>            flex-wrap: wrap;<br>            justify-content: flex-start;<br>            width: 100%;<br>        }<br>        .wandb-col {<br>            display: flex;<br>            flex-direction: column;<br>            flex-basis: 100%;<br>            flex: 1;<br>            padding: 10px;<br>        }<br>    </style><br><div class=\"wandb-row\"><div class=\"wandb-col\"><h3>Run history:</h3><br/><table class=\"wandb\"><tr><td>class_0_accuracy</td><td>▁▁▂▂▂▃▁▃▅▇▆▆▆▁▄▆▇█▇▇▇▇▇▅▆█▇▆▇███▇▇███▇▆▇</td></tr><tr><td>class_1_accuracy</td><td>██▁▅▆▇█▆▅▆▆▆▄█▅▅▆▅▃▃▂▄▅▄▆▄▅▄▄▅▄▅▆▅▄▅▄▂▂▄</td></tr><tr><td>class_2_accuracy</td><td>▁▁▄▄▄▂▂▅▆▆▆▇▄▇▇▇▇▇█▇█▇██▇▇▇█▇▇█████▇██▇█</td></tr><tr><td>epoch</td><td>▁▁▁▁▁▂▂▂▂▂▃▃▃▃▃▄▄▄▄▄▅▅▅▅▅▅▆▆▆▆▆▆▆▇▇▇▇███</td></tr><tr><td>learning_rate</td><td>████████▇▇▇▇▆▆▆▅▅▅▅▅▄▄▃▃▃▃▃▂▂▂▂▂▂▂▁▁▁▁▁▁</td></tr><tr><td>test_accuracy</td><td>▁▂▃▃▄▁▁▄▆▆▆▆▆▃▆▇▇▇▇▇▇▇▇▇▆▆▆▇▇█▇███▇███▇▇</td></tr><tr><td>test_loss</td><td>▆▆▇▆▆▇█▅▃▅▃▄▆▄▄▃▄▃▃▃▃▃▃▃▄▄▃▂▃▂▃▁▂▂▂▂▂▂▃▂</td></tr><tr><td>train_accuracy</td><td>▁▂▃▃▄▆▆▆▆▆▆▆▆▇▇▇▇▇▇▇▇▇▇▇▇▇██████████████</td></tr><tr><td>train_loss</td><td>█▇▆▆▆▅▄▄▃▃▄▃▃▃▃▃▃▃▂▂▂▂▂▂▂▂▂▁▁▁▁▁▁▁▁▁▁▁▁▁</td></tr></table><br/></div><div class=\"wandb-col\"><h3>Run summary:</h3><br/><table class=\"wandb\"><tr><td>class_0_accuracy</td><td>71.66622</td></tr><tr><td>class_1_accuracy</td><td>83.42406</td></tr><tr><td>class_2_accuracy</td><td>87.03483</td></tr><tr><td>epoch</td><td>60</td></tr><tr><td>learning_rate</td><td>0.0</td></tr><tr><td>test_accuracy</td><td>80.72295</td></tr><tr><td>test_loss</td><td>0.51734</td></tr><tr><td>train_accuracy</td><td>84.30919</td></tr><tr><td>train_loss</td><td>0.39975</td></tr></table><br/></div></div>"
            ]
          },
          "metadata": {}
        },
        {
          "output_type": "display_data",
          "data": {
            "text/plain": [
              "<IPython.core.display.HTML object>"
            ],
            "text/html": [
              " View run <strong style=\"color:#cdcd00\">ShallowAttentionNet 44552222</strong> at: <a href='https://wandb.ai/philinthesky/Master%20Thesis/runs/64fptn5e' target=\"_blank\">https://wandb.ai/philinthesky/Master%20Thesis/runs/64fptn5e</a><br> View project at: <a href='https://wandb.ai/philinthesky/Master%20Thesis' target=\"_blank\">https://wandb.ai/philinthesky/Master%20Thesis</a><br>Synced 5 W&B file(s), 0 media file(s), 0 artifact file(s) and 0 other file(s)"
            ]
          },
          "metadata": {}
        },
        {
          "output_type": "display_data",
          "data": {
            "text/plain": [
              "<IPython.core.display.HTML object>"
            ],
            "text/html": [
              "Find logs at: <code>./wandb/run-20250330_142012-64fptn5e/logs</code>"
            ]
          },
          "metadata": {}
        },
        {
          "output_type": "stream",
          "name": "stdout",
          "text": [
            "ShallowAttentionNet(\n",
            "  (temporal): Conv2d(1, 10, kernel_size=(1, 25), stride=(1, 1))\n",
            "  (spatial_att): SpatialAttention(\n",
            "    (conv): Conv2d(10, 10, kernel_size=(1, 1), stride=(1, 1), bias=False)\n",
            "    (pool): MaxPool2d(kernel_size=(1, 5), stride=(1, 5), padding=0, dilation=1, ceil_mode=False)\n",
            "  )\n",
            "  (batch_norm): BatchNorm2d(10, eps=1e-05, momentum=0.1, affine=True, track_running_stats=True)\n",
            "  (pool): AvgPool2d(kernel_size=(1, 20), stride=(1, 20), padding=0)\n",
            "  (dropout): Dropout(p=0.5, inplace=False)\n",
            "  (fc): Linear(in_features=960, out_features=3, bias=True)\n",
            ")\n"
          ]
        },
        {
          "output_type": "display_data",
          "data": {
            "text/plain": [
              "<IPython.core.display.HTML object>"
            ],
            "text/html": [
              "Tracking run with wandb version 0.19.8"
            ]
          },
          "metadata": {}
        },
        {
          "output_type": "display_data",
          "data": {
            "text/plain": [
              "<IPython.core.display.HTML object>"
            ],
            "text/html": [
              "Run data is saved locally in <code>/content/wandb/run-20250330_143747-l185mhvq</code>"
            ]
          },
          "metadata": {}
        },
        {
          "output_type": "display_data",
          "data": {
            "text/plain": [
              "<IPython.core.display.HTML object>"
            ],
            "text/html": [
              "Syncing run <strong><a href='https://wandb.ai/philinthesky/Master%20Thesis/runs/l185mhvq' target=\"_blank\">ShallowAttentionNet 12223111</a></strong> to <a href='https://wandb.ai/philinthesky/Master%20Thesis' target=\"_blank\">Weights & Biases</a> (<a href='https://wandb.me/developer-guide' target=\"_blank\">docs</a>)<br>"
            ]
          },
          "metadata": {}
        },
        {
          "output_type": "display_data",
          "data": {
            "text/plain": [
              "<IPython.core.display.HTML object>"
            ],
            "text/html": [
              " View project at <a href='https://wandb.ai/philinthesky/Master%20Thesis' target=\"_blank\">https://wandb.ai/philinthesky/Master%20Thesis</a>"
            ]
          },
          "metadata": {}
        },
        {
          "output_type": "display_data",
          "data": {
            "text/plain": [
              "<IPython.core.display.HTML object>"
            ],
            "text/html": [
              " View run at <a href='https://wandb.ai/philinthesky/Master%20Thesis/runs/l185mhvq' target=\"_blank\">https://wandb.ai/philinthesky/Master%20Thesis/runs/l185mhvq</a>"
            ]
          },
          "metadata": {}
        },
        {
          "output_type": "stream",
          "name": "stdout",
          "text": [
            "Epoch 1/60: "
          ]
        },
        {
          "output_type": "stream",
          "name": "stderr",
          "text": [
            "100%|██████████| 2795/2795 [00:13<00:00, 204.44it/s]\n",
            "Batch 699/699, Loss: 1.091559: 100%|██████████| 699/699 [00:03<00:00, 208.86it/s]\n"
          ]
        },
        {
          "output_type": "stream",
          "name": "stdout",
          "text": [
            "\n",
            "Class-wise Accuracy:\n",
            "  Class 2: 15.73%\n",
            "  Class 0: 1.50%\n",
            "  Class 1: 98.15%\n",
            "Test Accuracy: 38.1%, Test Loss: 1.112490\n",
            "\n",
            "\n",
            "Class-wise Accuracy:\n",
            "  Class 2: 15.73%\n",
            "  Class 0: 1.50%\n",
            "  Class 1: 98.15%\n",
            "Train Accuracy: 52.19%, Average Train Loss: 1.016736, Test Accuracy: 38.08%, Average Test Loss: 1.112490\n",
            "\n",
            "Epoch 2/60: "
          ]
        },
        {
          "output_type": "stream",
          "name": "stderr",
          "text": [
            "100%|██████████| 2795/2795 [00:13<00:00, 203.04it/s]\n",
            "Batch 699/699, Loss: 1.075067: 100%|██████████| 699/699 [00:03<00:00, 210.99it/s]\n"
          ]
        },
        {
          "output_type": "stream",
          "name": "stdout",
          "text": [
            "\n",
            "Class-wise Accuracy:\n",
            "  Class 2: 1.40%\n",
            "  Class 0: 1.40%\n",
            "  Class 1: 99.41%\n",
            "Test Accuracy: 33.6%, Test Loss: 1.096550\n",
            "\n",
            "\n",
            "Class-wise Accuracy:\n",
            "  Class 2: 1.40%\n",
            "  Class 0: 1.40%\n",
            "  Class 1: 99.41%\n",
            "Train Accuracy: 58.42%, Average Train Loss: 0.895416, Test Accuracy: 33.62%, Average Test Loss: 1.096550\n",
            "\n",
            "Epoch 3/60: "
          ]
        },
        {
          "output_type": "stream",
          "name": "stderr",
          "text": [
            "100%|██████████| 2795/2795 [00:13<00:00, 205.30it/s]\n",
            "Batch 699/699, Loss: 1.072083: 100%|██████████| 699/699 [00:03<00:00, 213.59it/s]\n"
          ]
        },
        {
          "output_type": "stream",
          "name": "stdout",
          "text": [
            "\n",
            "Class-wise Accuracy:\n",
            "  Class 2: 2.45%\n",
            "  Class 0: 1.35%\n",
            "  Class 1: 99.74%\n",
            "Test Accuracy: 34.1%, Test Loss: 1.088125\n",
            "\n",
            "\n",
            "Class-wise Accuracy:\n",
            "  Class 2: 2.45%\n",
            "  Class 0: 1.35%\n",
            "  Class 1: 99.74%\n",
            "Train Accuracy: 60.81%, Average Train Loss: 0.856593, Test Accuracy: 34.07%, Average Test Loss: 1.088125\n",
            "\n",
            "Epoch 4/60: "
          ]
        },
        {
          "output_type": "stream",
          "name": "stderr",
          "text": [
            "100%|██████████| 2795/2795 [00:13<00:00, 205.60it/s]\n",
            "Batch 699/699, Loss: 1.058972: 100%|██████████| 699/699 [00:03<00:00, 208.58it/s]\n"
          ]
        },
        {
          "output_type": "stream",
          "name": "stdout",
          "text": [
            "\n",
            "Class-wise Accuracy:\n",
            "  Class 2: 11.03%\n",
            "  Class 0: 1.40%\n",
            "  Class 1: 99.58%\n",
            "Test Accuracy: 36.9%, Test Loss: 1.088310\n",
            "\n",
            "\n",
            "Class-wise Accuracy:\n",
            "  Class 2: 11.03%\n",
            "  Class 0: 1.40%\n",
            "  Class 1: 99.58%\n",
            "Train Accuracy: 62.78%, Average Train Loss: 0.834830, Test Accuracy: 36.93%, Average Test Loss: 1.088310\n",
            "\n",
            "Epoch 5/60: "
          ]
        },
        {
          "output_type": "stream",
          "name": "stderr",
          "text": [
            "100%|██████████| 2795/2795 [00:13<00:00, 204.79it/s]\n",
            "Batch 699/699, Loss: 1.014865: 100%|██████████| 699/699 [00:03<00:00, 212.92it/s]\n"
          ]
        },
        {
          "output_type": "stream",
          "name": "stdout",
          "text": [
            "\n",
            "Class-wise Accuracy:\n",
            "  Class 2: 30.99%\n",
            "  Class 0: 22.03%\n",
            "  Class 1: 98.12%\n",
            "Test Accuracy: 50.1%, Test Loss: 1.058559\n",
            "\n",
            "\n",
            "Class-wise Accuracy:\n",
            "  Class 2: 30.99%\n",
            "  Class 0: 22.03%\n",
            "  Class 1: 98.12%\n",
            "Train Accuracy: 67.08%, Average Train Loss: 0.751505, Test Accuracy: 50.07%, Average Test Loss: 1.058559\n",
            "\n",
            "Epoch 6/60: "
          ]
        },
        {
          "output_type": "stream",
          "name": "stderr",
          "text": [
            "100%|██████████| 2795/2795 [00:13<00:00, 203.66it/s]\n",
            "Batch 699/699, Loss: 1.062883: 100%|██████████| 699/699 [00:03<00:00, 209.75it/s]\n"
          ]
        },
        {
          "output_type": "stream",
          "name": "stdout",
          "text": [
            "\n",
            "Class-wise Accuracy:\n",
            "  Class 2: 60.31%\n",
            "  Class 0: 2.16%\n",
            "  Class 1: 82.05%\n",
            "Test Accuracy: 48.1%, Test Loss: 1.092043\n",
            "\n",
            "\n",
            "Class-wise Accuracy:\n",
            "  Class 2: 60.31%\n",
            "  Class 0: 2.16%\n",
            "  Class 1: 82.05%\n",
            "Train Accuracy: 67.92%, Average Train Loss: 0.739863, Test Accuracy: 48.07%, Average Test Loss: 1.092043\n",
            "\n",
            "Epoch 7/60: "
          ]
        },
        {
          "output_type": "stream",
          "name": "stderr",
          "text": [
            "100%|██████████| 2795/2795 [00:13<00:00, 202.96it/s]\n",
            "Batch 699/699, Loss: 1.009917: 100%|██████████| 699/699 [00:03<00:00, 207.44it/s]\n"
          ]
        },
        {
          "output_type": "stream",
          "name": "stdout",
          "text": [
            "\n",
            "Class-wise Accuracy:\n",
            "  Class 2: 34.88%\n",
            "  Class 0: 32.52%\n",
            "  Class 1: 92.64%\n",
            "Test Accuracy: 53.1%, Test Loss: 0.976288\n",
            "\n",
            "\n",
            "Class-wise Accuracy:\n",
            "  Class 2: 34.88%\n",
            "  Class 0: 32.52%\n",
            "  Class 1: 92.64%\n",
            "Train Accuracy: 69.13%, Average Train Loss: 0.709025, Test Accuracy: 53.08%, Average Test Loss: 0.976288\n",
            "\n",
            "Epoch 8/60: "
          ]
        },
        {
          "output_type": "stream",
          "name": "stderr",
          "text": [
            "100%|██████████| 2795/2795 [00:13<00:00, 203.88it/s]\n",
            "Batch 699/699, Loss: 0.916941: 100%|██████████| 699/699 [00:03<00:00, 208.91it/s]\n"
          ]
        },
        {
          "output_type": "stream",
          "name": "stdout",
          "text": [
            "\n",
            "Class-wise Accuracy:\n",
            "  Class 2: 46.17%\n",
            "  Class 0: 48.74%\n",
            "  Class 1: 90.41%\n",
            "Test Accuracy: 61.6%, Test Loss: 0.888801\n",
            "\n",
            "\n",
            "Class-wise Accuracy:\n",
            "  Class 2: 46.17%\n",
            "  Class 0: 48.74%\n",
            "  Class 1: 90.41%\n",
            "Train Accuracy: 70.18%, Average Train Loss: 0.693517, Test Accuracy: 61.57%, Average Test Loss: 0.888801\n",
            "\n",
            "Epoch 9/60: "
          ]
        },
        {
          "output_type": "stream",
          "name": "stderr",
          "text": [
            "100%|██████████| 2795/2795 [00:13<00:00, 204.88it/s]\n",
            "Batch 699/699, Loss: 1.087984: 100%|██████████| 699/699 [00:03<00:00, 207.57it/s]\n"
          ]
        },
        {
          "output_type": "stream",
          "name": "stdout",
          "text": [
            "\n",
            "Class-wise Accuracy:\n",
            "  Class 2: 1.35%\n",
            "  Class 0: 0.82%\n",
            "  Class 1: 99.92%\n",
            "Test Accuracy: 33.6%, Test Loss: 1.094788\n",
            "\n",
            "\n",
            "Class-wise Accuracy:\n",
            "  Class 2: 1.35%\n",
            "  Class 0: 0.82%\n",
            "  Class 1: 99.92%\n",
            "Train Accuracy: 72.23%, Average Train Loss: 0.658119, Test Accuracy: 33.57%, Average Test Loss: 1.094788\n",
            "\n",
            "Epoch 10/60: "
          ]
        },
        {
          "output_type": "stream",
          "name": "stderr",
          "text": [
            "100%|██████████| 2795/2795 [00:13<00:00, 203.93it/s]\n",
            "Batch 699/699, Loss: 0.728207: 100%|██████████| 699/699 [00:03<00:00, 199.92it/s]\n"
          ]
        },
        {
          "output_type": "stream",
          "name": "stdout",
          "text": [
            "\n",
            "Class-wise Accuracy:\n",
            "  Class 2: 74.45%\n",
            "  Class 0: 65.79%\n",
            "  Class 1: 88.24%\n",
            "Test Accuracy: 76.1%, Test Loss: 0.763005\n",
            "\n",
            "\n",
            "Class-wise Accuracy:\n",
            "  Class 2: 74.45%\n",
            "  Class 0: 65.79%\n",
            "  Class 1: 88.24%\n",
            "Train Accuracy: 73.90%, Average Train Loss: 0.631993, Test Accuracy: 76.10%, Average Test Loss: 0.763005\n",
            "\n",
            "Epoch 11/60: "
          ]
        },
        {
          "output_type": "stream",
          "name": "stderr",
          "text": [
            "100%|██████████| 2795/2795 [00:13<00:00, 204.54it/s]\n",
            "Batch 699/699, Loss: 0.879592: 100%|██████████| 699/699 [00:03<00:00, 201.43it/s]\n"
          ]
        },
        {
          "output_type": "stream",
          "name": "stdout",
          "text": [
            "\n",
            "Class-wise Accuracy:\n",
            "  Class 2: 61.54%\n",
            "  Class 0: 42.55%\n",
            "  Class 1: 95.36%\n",
            "Test Accuracy: 66.3%, Test Loss: 0.820009\n",
            "\n",
            "\n",
            "Class-wise Accuracy:\n",
            "  Class 2: 61.54%\n",
            "  Class 0: 42.55%\n",
            "  Class 1: 95.36%\n",
            "Train Accuracy: 74.09%, Average Train Loss: 0.626935, Test Accuracy: 66.33%, Average Test Loss: 0.820009\n",
            "\n",
            "Epoch 12/60: "
          ]
        },
        {
          "output_type": "stream",
          "name": "stderr",
          "text": [
            "100%|██████████| 2795/2795 [00:13<00:00, 201.33it/s]\n",
            "Batch 699/699, Loss: 0.754365: 100%|██████████| 699/699 [00:03<00:00, 198.16it/s]\n"
          ]
        },
        {
          "output_type": "stream",
          "name": "stdout",
          "text": [
            "\n",
            "Class-wise Accuracy:\n",
            "  Class 2: 72.19%\n",
            "  Class 0: 59.18%\n",
            "  Class 1: 83.53%\n",
            "Test Accuracy: 71.6%, Test Loss: 0.754236\n",
            "\n",
            "\n",
            "Class-wise Accuracy:\n",
            "  Class 2: 72.19%\n",
            "  Class 0: 59.18%\n",
            "  Class 1: 83.53%\n",
            "Train Accuracy: 75.19%, Average Train Loss: 0.608975, Test Accuracy: 71.58%, Average Test Loss: 0.754236\n",
            "\n",
            "Epoch 13/60: "
          ]
        },
        {
          "output_type": "stream",
          "name": "stderr",
          "text": [
            "100%|██████████| 2795/2795 [00:13<00:00, 205.45it/s]\n",
            "Batch 699/699, Loss: 0.735530: 100%|██████████| 699/699 [00:03<00:00, 214.73it/s]\n"
          ]
        },
        {
          "output_type": "stream",
          "name": "stdout",
          "text": [
            "\n",
            "Class-wise Accuracy:\n",
            "  Class 2: 71.26%\n",
            "  Class 0: 60.88%\n",
            "  Class 1: 84.81%\n",
            "Test Accuracy: 72.3%, Test Loss: 0.710501\n",
            "\n",
            "\n",
            "Class-wise Accuracy:\n",
            "  Class 2: 71.26%\n",
            "  Class 0: 60.88%\n",
            "  Class 1: 84.81%\n",
            "Train Accuracy: 76.01%, Average Train Loss: 0.586747, Test Accuracy: 72.25%, Average Test Loss: 0.710501\n",
            "\n",
            "Epoch 14/60: "
          ]
        },
        {
          "output_type": "stream",
          "name": "stderr",
          "text": [
            "100%|██████████| 2795/2795 [00:13<00:00, 205.52it/s]\n",
            "Batch 699/699, Loss: 0.798822: 100%|██████████| 699/699 [00:03<00:00, 213.28it/s]\n"
          ]
        },
        {
          "output_type": "stream",
          "name": "stdout",
          "text": [
            "\n",
            "Class-wise Accuracy:\n",
            "  Class 2: 72.16%\n",
            "  Class 0: 60.10%\n",
            "  Class 1: 79.76%\n",
            "Test Accuracy: 70.6%, Test Loss: 1.133518\n",
            "\n",
            "\n",
            "Class-wise Accuracy:\n",
            "  Class 2: 72.16%\n",
            "  Class 0: 60.10%\n",
            "  Class 1: 79.76%\n",
            "Train Accuracy: 76.64%, Average Train Loss: 0.573377, Test Accuracy: 70.64%, Average Test Loss: 1.133518\n",
            "\n",
            "Epoch 15/60: "
          ]
        },
        {
          "output_type": "stream",
          "name": "stderr",
          "text": [
            "100%|██████████| 2795/2795 [00:13<00:00, 206.06it/s]\n",
            "Batch 699/699, Loss: 0.718005: 100%|██████████| 699/699 [00:03<00:00, 203.45it/s]\n"
          ]
        },
        {
          "output_type": "stream",
          "name": "stdout",
          "text": [
            "\n",
            "Class-wise Accuracy:\n",
            "  Class 2: 75.95%\n",
            "  Class 0: 60.80%\n",
            "  Class 1: 85.52%\n",
            "Test Accuracy: 74.0%, Test Loss: 0.729077\n",
            "\n",
            "\n",
            "Class-wise Accuracy:\n",
            "  Class 2: 75.95%\n",
            "  Class 0: 60.80%\n",
            "  Class 1: 85.52%\n",
            "Train Accuracy: 77.04%, Average Train Loss: 0.564236, Test Accuracy: 74.04%, Average Test Loss: 0.729077\n",
            "\n",
            "Epoch 16/60: "
          ]
        },
        {
          "output_type": "stream",
          "name": "stderr",
          "text": [
            "100%|██████████| 2795/2795 [00:13<00:00, 205.77it/s]\n",
            "Batch 699/699, Loss: 0.739202: 100%|██████████| 699/699 [00:03<00:00, 203.96it/s]\n"
          ]
        },
        {
          "output_type": "stream",
          "name": "stdout",
          "text": [
            "\n",
            "Class-wise Accuracy:\n",
            "  Class 2: 73.83%\n",
            "  Class 0: 57.59%\n",
            "  Class 1: 87.86%\n",
            "Test Accuracy: 73.0%, Test Loss: 0.760101\n",
            "\n",
            "\n",
            "Class-wise Accuracy:\n",
            "  Class 2: 73.83%\n",
            "  Class 0: 57.59%\n",
            "  Class 1: 87.86%\n",
            "Train Accuracy: 76.37%, Average Train Loss: 0.581184, Test Accuracy: 73.03%, Average Test Loss: 0.760101\n",
            "\n",
            "Epoch 17/60: "
          ]
        },
        {
          "output_type": "stream",
          "name": "stderr",
          "text": [
            "100%|██████████| 2795/2795 [00:13<00:00, 205.72it/s]\n",
            "Batch 699/699, Loss: 0.719679: 100%|██████████| 699/699 [00:03<00:00, 212.44it/s]\n"
          ]
        },
        {
          "output_type": "stream",
          "name": "stdout",
          "text": [
            "\n",
            "Class-wise Accuracy:\n",
            "  Class 2: 75.84%\n",
            "  Class 0: 64.22%\n",
            "  Class 1: 82.23%\n",
            "Test Accuracy: 74.1%, Test Loss: 0.705383\n",
            "\n",
            "\n",
            "Class-wise Accuracy:\n",
            "  Class 2: 75.84%\n",
            "  Class 0: 64.22%\n",
            "  Class 1: 82.23%\n",
            "Train Accuracy: 76.93%, Average Train Loss: 0.577883, Test Accuracy: 74.07%, Average Test Loss: 0.705383\n",
            "\n",
            "Epoch 18/60: "
          ]
        },
        {
          "output_type": "stream",
          "name": "stderr",
          "text": [
            "100%|██████████| 2795/2795 [00:13<00:00, 204.85it/s]\n",
            "Batch 699/699, Loss: 0.570125: 100%|██████████| 699/699 [00:03<00:00, 204.42it/s]\n"
          ]
        },
        {
          "output_type": "stream",
          "name": "stdout",
          "text": [
            "\n",
            "Class-wise Accuracy:\n",
            "  Class 2: 75.33%\n",
            "  Class 0: 73.38%\n",
            "  Class 1: 85.78%\n",
            "Test Accuracy: 78.1%, Test Loss: 0.656084\n",
            "\n",
            "\n",
            "Class-wise Accuracy:\n",
            "  Class 2: 75.33%\n",
            "  Class 0: 73.38%\n",
            "  Class 1: 85.78%\n",
            "Train Accuracy: 77.84%, Average Train Loss: 0.542586, Test Accuracy: 78.11%, Average Test Loss: 0.656084\n",
            "\n",
            "Epoch 19/60: "
          ]
        },
        {
          "output_type": "stream",
          "name": "stderr",
          "text": [
            "100%|██████████| 2795/2795 [00:13<00:00, 205.94it/s]\n",
            "Batch 699/699, Loss: 0.710894: 100%|██████████| 699/699 [00:03<00:00, 204.26it/s]\n"
          ]
        },
        {
          "output_type": "stream",
          "name": "stdout",
          "text": [
            "\n",
            "Class-wise Accuracy:\n",
            "  Class 2: 67.50%\n",
            "  Class 0: 66.34%\n",
            "  Class 1: 89.36%\n",
            "Test Accuracy: 74.3%, Test Loss: 0.721260\n",
            "\n",
            "\n",
            "Class-wise Accuracy:\n",
            "  Class 2: 67.50%\n",
            "  Class 0: 66.34%\n",
            "  Class 1: 89.36%\n",
            "Train Accuracy: 73.39%, Average Train Loss: 0.645579, Test Accuracy: 74.30%, Average Test Loss: 0.721260\n",
            "\n",
            "Epoch 20/60: "
          ]
        },
        {
          "output_type": "stream",
          "name": "stderr",
          "text": [
            "100%|██████████| 2795/2795 [00:13<00:00, 205.79it/s]\n",
            "Batch 699/699, Loss: 0.708281: 100%|██████████| 699/699 [00:03<00:00, 204.87it/s]\n"
          ]
        },
        {
          "output_type": "stream",
          "name": "stdout",
          "text": [
            "\n",
            "Class-wise Accuracy:\n",
            "  Class 2: 79.33%\n",
            "  Class 0: 59.91%\n",
            "  Class 1: 81.36%\n",
            "Test Accuracy: 73.5%, Test Loss: 0.678823\n",
            "\n",
            "\n",
            "Class-wise Accuracy:\n",
            "  Class 2: 79.33%\n",
            "  Class 0: 59.91%\n",
            "  Class 1: 81.36%\n",
            "Train Accuracy: 78.68%, Average Train Loss: 0.524937, Test Accuracy: 73.52%, Average Test Loss: 0.678823\n",
            "\n",
            "Epoch 21/60: "
          ]
        },
        {
          "output_type": "stream",
          "name": "stderr",
          "text": [
            "100%|██████████| 2795/2795 [00:13<00:00, 206.21it/s]\n",
            "Batch 699/699, Loss: 0.665495: 100%|██████████| 699/699 [00:03<00:00, 210.79it/s]\n"
          ]
        },
        {
          "output_type": "stream",
          "name": "stdout",
          "text": [
            "\n",
            "Class-wise Accuracy:\n",
            "  Class 2: 74.10%\n",
            "  Class 0: 64.17%\n",
            "  Class 1: 84.78%\n",
            "Test Accuracy: 74.3%, Test Loss: 0.709917\n",
            "\n",
            "\n",
            "Class-wise Accuracy:\n",
            "  Class 2: 74.10%\n",
            "  Class 0: 64.17%\n",
            "  Class 1: 84.78%\n",
            "Train Accuracy: 79.14%, Average Train Loss: 0.518696, Test Accuracy: 74.30%, Average Test Loss: 0.709917\n",
            "\n",
            "Epoch 22/60: "
          ]
        },
        {
          "output_type": "stream",
          "name": "stderr",
          "text": [
            "100%|██████████| 2795/2795 [00:13<00:00, 205.97it/s]\n",
            "Batch 699/699, Loss: 0.677080: 100%|██████████| 699/699 [00:03<00:00, 211.19it/s]\n"
          ]
        },
        {
          "output_type": "stream",
          "name": "stdout",
          "text": [
            "\n",
            "Class-wise Accuracy:\n",
            "  Class 2: 78.53%\n",
            "  Class 0: 66.37%\n",
            "  Class 1: 80.84%\n",
            "Test Accuracy: 75.2%, Test Loss: 0.663014\n",
            "\n",
            "\n",
            "Class-wise Accuracy:\n",
            "  Class 2: 78.53%\n",
            "  Class 0: 66.37%\n",
            "  Class 1: 80.84%\n",
            "Train Accuracy: 76.49%, Average Train Loss: 0.582927, Test Accuracy: 75.23%, Average Test Loss: 0.663014\n",
            "\n",
            "Epoch 23/60: "
          ]
        },
        {
          "output_type": "stream",
          "name": "stderr",
          "text": [
            "100%|██████████| 2795/2795 [00:13<00:00, 206.14it/s]\n",
            "Batch 699/699, Loss: 0.772719: 100%|██████████| 699/699 [00:03<00:00, 213.79it/s]\n"
          ]
        },
        {
          "output_type": "stream",
          "name": "stdout",
          "text": [
            "\n",
            "Class-wise Accuracy:\n",
            "  Class 2: 72.86%\n",
            "  Class 0: 56.29%\n",
            "  Class 1: 89.21%\n",
            "Test Accuracy: 72.7%, Test Loss: 0.816088\n",
            "\n",
            "\n",
            "Class-wise Accuracy:\n",
            "  Class 2: 72.86%\n",
            "  Class 0: 56.29%\n",
            "  Class 1: 89.21%\n",
            "Train Accuracy: 79.50%, Average Train Loss: 0.506644, Test Accuracy: 72.71%, Average Test Loss: 0.816088\n",
            "\n",
            "Epoch 24/60: "
          ]
        },
        {
          "output_type": "stream",
          "name": "stderr",
          "text": [
            "100%|██████████| 2795/2795 [00:13<00:00, 206.67it/s]\n",
            "Batch 699/699, Loss: 0.473838: 100%|██████████| 699/699 [00:03<00:00, 213.58it/s]\n"
          ]
        },
        {
          "output_type": "stream",
          "name": "stdout",
          "text": [
            "\n",
            "Class-wise Accuracy:\n",
            "  Class 2: 75.94%\n",
            "  Class 0: 76.97%\n",
            "  Class 1: 88.92%\n",
            "Test Accuracy: 80.5%, Test Loss: 0.544450\n",
            "\n",
            "\n",
            "Class-wise Accuracy:\n",
            "  Class 2: 75.94%\n",
            "  Class 0: 76.97%\n",
            "  Class 1: 88.92%\n",
            "Train Accuracy: 79.93%, Average Train Loss: 0.498622, Test Accuracy: 80.55%, Average Test Loss: 0.544450\n",
            "\n",
            "Epoch 25/60: "
          ]
        },
        {
          "output_type": "stream",
          "name": "stderr",
          "text": [
            "100%|██████████| 2795/2795 [00:13<00:00, 205.50it/s]\n",
            "Batch 699/699, Loss: 0.572156: 100%|██████████| 699/699 [00:03<00:00, 212.32it/s]\n"
          ]
        },
        {
          "output_type": "stream",
          "name": "stdout",
          "text": [
            "\n",
            "Class-wise Accuracy:\n",
            "  Class 2: 80.25%\n",
            "  Class 0: 74.19%\n",
            "  Class 1: 84.80%\n",
            "Test Accuracy: 79.7%, Test Loss: 0.611725\n",
            "\n",
            "\n",
            "Class-wise Accuracy:\n",
            "  Class 2: 80.25%\n",
            "  Class 0: 74.19%\n",
            "  Class 1: 84.80%\n",
            "Train Accuracy: 79.74%, Average Train Loss: 0.509938, Test Accuracy: 79.73%, Average Test Loss: 0.611725\n",
            "\n",
            "Epoch 26/60: "
          ]
        },
        {
          "output_type": "stream",
          "name": "stderr",
          "text": [
            "100%|██████████| 2795/2795 [00:13<00:00, 206.11it/s]\n",
            "Batch 699/699, Loss: 0.689176: 100%|██████████| 699/699 [00:03<00:00, 213.22it/s]\n"
          ]
        },
        {
          "output_type": "stream",
          "name": "stdout",
          "text": [
            "\n",
            "Class-wise Accuracy:\n",
            "  Class 2: 73.92%\n",
            "  Class 0: 63.79%\n",
            "  Class 1: 86.47%\n",
            "Test Accuracy: 74.7%, Test Loss: 0.789473\n",
            "\n",
            "\n",
            "Class-wise Accuracy:\n",
            "  Class 2: 73.92%\n",
            "  Class 0: 63.79%\n",
            "  Class 1: 86.47%\n",
            "Train Accuracy: 80.61%, Average Train Loss: 0.483063, Test Accuracy: 74.67%, Average Test Loss: 0.789473\n",
            "\n",
            "Epoch 27/60: "
          ]
        },
        {
          "output_type": "stream",
          "name": "stderr",
          "text": [
            "100%|██████████| 2795/2795 [00:13<00:00, 206.20it/s]\n",
            "Batch 699/699, Loss: 0.521143: 100%|██████████| 699/699 [00:03<00:00, 216.27it/s]\n"
          ]
        },
        {
          "output_type": "stream",
          "name": "stdout",
          "text": [
            "\n",
            "Class-wise Accuracy:\n",
            "  Class 2: 77.05%\n",
            "  Class 0: 72.27%\n",
            "  Class 1: 83.53%\n",
            "Test Accuracy: 77.6%, Test Loss: 0.639605\n",
            "\n",
            "\n",
            "Class-wise Accuracy:\n",
            "  Class 2: 77.05%\n",
            "  Class 0: 72.27%\n",
            "  Class 1: 83.53%\n",
            "Train Accuracy: 80.46%, Average Train Loss: 0.489508, Test Accuracy: 77.59%, Average Test Loss: 0.639605\n",
            "\n",
            "Epoch 28/60: "
          ]
        },
        {
          "output_type": "stream",
          "name": "stderr",
          "text": [
            "100%|██████████| 2795/2795 [00:13<00:00, 206.47it/s]\n",
            "Batch 699/699, Loss: 0.566823: 100%|██████████| 699/699 [00:03<00:00, 211.28it/s]\n"
          ]
        },
        {
          "output_type": "stream",
          "name": "stdout",
          "text": [
            "\n",
            "Class-wise Accuracy:\n",
            "  Class 2: 62.39%\n",
            "  Class 0: 66.68%\n",
            "  Class 1: 92.68%\n",
            "Test Accuracy: 73.8%, Test Loss: 0.718985\n",
            "\n",
            "\n",
            "Class-wise Accuracy:\n",
            "  Class 2: 62.39%\n",
            "  Class 0: 66.68%\n",
            "  Class 1: 92.68%\n",
            "Train Accuracy: 80.58%, Average Train Loss: 0.484041, Test Accuracy: 73.78%, Average Test Loss: 0.718985\n",
            "\n",
            "Epoch 29/60: "
          ]
        },
        {
          "output_type": "stream",
          "name": "stderr",
          "text": [
            "100%|██████████| 2795/2795 [00:13<00:00, 206.68it/s]\n",
            "Batch 699/699, Loss: 0.568011: 100%|██████████| 699/699 [00:03<00:00, 218.46it/s]\n"
          ]
        },
        {
          "output_type": "stream",
          "name": "stdout",
          "text": [
            "\n",
            "Class-wise Accuracy:\n",
            "  Class 2: 76.64%\n",
            "  Class 0: 67.72%\n",
            "  Class 1: 81.52%\n",
            "Test Accuracy: 75.3%, Test Loss: 0.672459\n",
            "\n",
            "\n",
            "Class-wise Accuracy:\n",
            "  Class 2: 76.64%\n",
            "  Class 0: 67.72%\n",
            "  Class 1: 81.52%\n",
            "Train Accuracy: 81.02%, Average Train Loss: 0.473982, Test Accuracy: 75.27%, Average Test Loss: 0.672459\n",
            "\n",
            "Epoch 30/60: "
          ]
        },
        {
          "output_type": "stream",
          "name": "stderr",
          "text": [
            "100%|██████████| 2795/2795 [00:13<00:00, 206.55it/s]\n",
            "Batch 699/699, Loss: 0.647616: 100%|██████████| 699/699 [00:03<00:00, 215.76it/s]\n"
          ]
        },
        {
          "output_type": "stream",
          "name": "stdout",
          "text": [
            "\n",
            "Class-wise Accuracy:\n",
            "  Class 2: 82.98%\n",
            "  Class 0: 54.67%\n",
            "  Class 1: 88.21%\n",
            "Test Accuracy: 75.3%, Test Loss: 0.715370\n",
            "\n",
            "\n",
            "Class-wise Accuracy:\n",
            "  Class 2: 82.98%\n",
            "  Class 0: 54.67%\n",
            "  Class 1: 88.21%\n",
            "Train Accuracy: 81.52%, Average Train Loss: 0.460028, Test Accuracy: 75.26%, Average Test Loss: 0.715370\n",
            "\n",
            "Epoch 31/60: "
          ]
        },
        {
          "output_type": "stream",
          "name": "stderr",
          "text": [
            "100%|██████████| 2795/2795 [00:13<00:00, 205.86it/s]\n",
            "Batch 699/699, Loss: 0.463430: 100%|██████████| 699/699 [00:03<00:00, 211.91it/s]\n"
          ]
        },
        {
          "output_type": "stream",
          "name": "stdout",
          "text": [
            "\n",
            "Class-wise Accuracy:\n",
            "  Class 2: 76.65%\n",
            "  Class 0: 79.41%\n",
            "  Class 1: 89.34%\n",
            "Test Accuracy: 81.7%, Test Loss: 0.627691\n",
            "\n",
            "\n",
            "Class-wise Accuracy:\n",
            "  Class 2: 76.65%\n",
            "  Class 0: 79.41%\n",
            "  Class 1: 89.34%\n",
            "Train Accuracy: 81.24%, Average Train Loss: 0.471177, Test Accuracy: 81.74%, Average Test Loss: 0.627691\n",
            "\n",
            "Epoch 32/60: "
          ]
        },
        {
          "output_type": "stream",
          "name": "stderr",
          "text": [
            "100%|██████████| 2795/2795 [00:13<00:00, 206.26it/s]\n",
            "Batch 699/699, Loss: 0.687611: 100%|██████████| 699/699 [00:03<00:00, 216.01it/s]\n"
          ]
        },
        {
          "output_type": "stream",
          "name": "stdout",
          "text": [
            "\n",
            "Class-wise Accuracy:\n",
            "  Class 2: 83.04%\n",
            "  Class 0: 55.76%\n",
            "  Class 1: 80.57%\n",
            "Test Accuracy: 73.1%, Test Loss: 0.717372\n",
            "\n",
            "\n",
            "Class-wise Accuracy:\n",
            "  Class 2: 83.04%\n",
            "  Class 0: 55.76%\n",
            "  Class 1: 80.57%\n",
            "Train Accuracy: 81.50%, Average Train Loss: 0.465559, Test Accuracy: 73.13%, Average Test Loss: 0.717372\n",
            "\n",
            "Epoch 33/60: "
          ]
        },
        {
          "output_type": "stream",
          "name": "stderr",
          "text": [
            "100%|██████████| 2795/2795 [00:13<00:00, 207.09it/s]\n",
            "Batch 699/699, Loss: 0.507364: 100%|██████████| 699/699 [00:03<00:00, 211.12it/s]\n"
          ]
        },
        {
          "output_type": "stream",
          "name": "stdout",
          "text": [
            "\n",
            "Class-wise Accuracy:\n",
            "  Class 2: 81.75%\n",
            "  Class 0: 71.12%\n",
            "  Class 1: 84.32%\n",
            "Test Accuracy: 79.0%, Test Loss: 0.603937\n",
            "\n",
            "\n",
            "Class-wise Accuracy:\n",
            "  Class 2: 81.75%\n",
            "  Class 0: 71.12%\n",
            "  Class 1: 84.32%\n",
            "Train Accuracy: 81.90%, Average Train Loss: 0.453027, Test Accuracy: 79.05%, Average Test Loss: 0.603937\n",
            "\n",
            "Epoch 34/60: "
          ]
        },
        {
          "output_type": "stream",
          "name": "stderr",
          "text": [
            "100%|██████████| 2795/2795 [00:13<00:00, 206.87it/s]\n",
            "Batch 699/699, Loss: 0.560744: 100%|██████████| 699/699 [00:03<00:00, 212.87it/s]\n"
          ]
        },
        {
          "output_type": "stream",
          "name": "stdout",
          "text": [
            "\n",
            "Class-wise Accuracy:\n",
            "  Class 2: 86.86%\n",
            "  Class 0: 68.08%\n",
            "  Class 1: 79.38%\n",
            "Test Accuracy: 78.1%, Test Loss: 0.595745\n",
            "\n",
            "\n",
            "Class-wise Accuracy:\n",
            "  Class 2: 86.86%\n",
            "  Class 0: 68.08%\n",
            "  Class 1: 79.38%\n",
            "Train Accuracy: 81.82%, Average Train Loss: 0.455192, Test Accuracy: 78.14%, Average Test Loss: 0.595745\n",
            "\n",
            "Epoch 35/60: "
          ]
        },
        {
          "output_type": "stream",
          "name": "stderr",
          "text": [
            "100%|██████████| 2795/2795 [00:13<00:00, 206.11it/s]\n",
            "Batch 699/699, Loss: 0.536091: 100%|██████████| 699/699 [00:03<00:00, 208.19it/s]\n"
          ]
        },
        {
          "output_type": "stream",
          "name": "stdout",
          "text": [
            "\n",
            "Class-wise Accuracy:\n",
            "  Class 2: 77.34%\n",
            "  Class 0: 73.61%\n",
            "  Class 1: 88.66%\n",
            "Test Accuracy: 79.8%, Test Loss: 0.765380\n",
            "\n",
            "\n",
            "Class-wise Accuracy:\n",
            "  Class 2: 77.34%\n",
            "  Class 0: 73.61%\n",
            "  Class 1: 88.66%\n",
            "Train Accuracy: 81.64%, Average Train Loss: 0.464645, Test Accuracy: 79.82%, Average Test Loss: 0.765380\n",
            "\n",
            "Epoch 36/60: "
          ]
        },
        {
          "output_type": "stream",
          "name": "stderr",
          "text": [
            "100%|██████████| 2795/2795 [00:13<00:00, 205.81it/s]\n",
            "Batch 699/699, Loss: 0.449989: 100%|██████████| 699/699 [00:03<00:00, 203.68it/s]\n"
          ]
        },
        {
          "output_type": "stream",
          "name": "stdout",
          "text": [
            "\n",
            "Class-wise Accuracy:\n",
            "  Class 2: 67.45%\n",
            "  Class 0: 75.26%\n",
            "  Class 1: 91.48%\n",
            "Test Accuracy: 78.0%, Test Loss: 0.638030\n",
            "\n",
            "\n",
            "Class-wise Accuracy:\n",
            "  Class 2: 67.45%\n",
            "  Class 0: 75.26%\n",
            "  Class 1: 91.48%\n",
            "Train Accuracy: 82.14%, Average Train Loss: 0.449563, Test Accuracy: 77.95%, Average Test Loss: 0.638030\n",
            "\n",
            "Epoch 37/60: "
          ]
        },
        {
          "output_type": "stream",
          "name": "stderr",
          "text": [
            "100%|██████████| 2795/2795 [00:13<00:00, 205.98it/s]\n",
            "Batch 699/699, Loss: 0.571077: 100%|██████████| 699/699 [00:03<00:00, 211.18it/s]\n"
          ]
        },
        {
          "output_type": "stream",
          "name": "stdout",
          "text": [
            "\n",
            "Class-wise Accuracy:\n",
            "  Class 2: 77.26%\n",
            "  Class 0: 72.70%\n",
            "  Class 1: 88.60%\n",
            "Test Accuracy: 79.5%, Test Loss: 0.748162\n",
            "\n",
            "\n",
            "Class-wise Accuracy:\n",
            "  Class 2: 77.26%\n",
            "  Class 0: 72.70%\n",
            "  Class 1: 88.60%\n",
            "Train Accuracy: 82.21%, Average Train Loss: 0.446794, Test Accuracy: 79.47%, Average Test Loss: 0.748162\n",
            "\n",
            "Epoch 38/60: "
          ]
        },
        {
          "output_type": "stream",
          "name": "stderr",
          "text": [
            "100%|██████████| 2795/2795 [00:13<00:00, 205.95it/s]\n",
            "Batch 699/699, Loss: 0.765981: 100%|██████████| 699/699 [00:03<00:00, 209.15it/s]\n"
          ]
        },
        {
          "output_type": "stream",
          "name": "stdout",
          "text": [
            "\n",
            "Class-wise Accuracy:\n",
            "  Class 2: 83.01%\n",
            "  Class 0: 31.96%\n",
            "  Class 1: 76.54%\n",
            "Test Accuracy: 63.9%, Test Loss: 0.826450\n",
            "\n",
            "\n",
            "Class-wise Accuracy:\n",
            "  Class 2: 83.01%\n",
            "  Class 0: 31.96%\n",
            "  Class 1: 76.54%\n",
            "Train Accuracy: 82.55%, Average Train Loss: 0.435909, Test Accuracy: 63.86%, Average Test Loss: 0.826450\n",
            "\n",
            "Epoch 39/60: "
          ]
        },
        {
          "output_type": "stream",
          "name": "stderr",
          "text": [
            "100%|██████████| 2795/2795 [00:13<00:00, 206.53it/s]\n",
            "Batch 699/699, Loss: 0.537022: 100%|██████████| 699/699 [00:03<00:00, 213.07it/s]\n"
          ]
        },
        {
          "output_type": "stream",
          "name": "stdout",
          "text": [
            "\n",
            "Class-wise Accuracy:\n",
            "  Class 2: 85.92%\n",
            "  Class 0: 64.15%\n",
            "  Class 1: 78.32%\n",
            "Test Accuracy: 76.2%, Test Loss: 0.600550\n",
            "\n",
            "\n",
            "Class-wise Accuracy:\n",
            "  Class 2: 85.92%\n",
            "  Class 0: 64.15%\n",
            "  Class 1: 78.32%\n",
            "Train Accuracy: 82.77%, Average Train Loss: 0.437623, Test Accuracy: 76.16%, Average Test Loss: 0.600550\n",
            "\n",
            "Epoch 40/60: "
          ]
        },
        {
          "output_type": "stream",
          "name": "stderr",
          "text": [
            "100%|██████████| 2795/2795 [00:13<00:00, 206.09it/s]\n",
            "Batch 699/699, Loss: 0.497498: 100%|██████████| 699/699 [00:03<00:00, 212.44it/s]\n"
          ]
        },
        {
          "output_type": "stream",
          "name": "stdout",
          "text": [
            "\n",
            "Class-wise Accuracy:\n",
            "  Class 2: 71.82%\n",
            "  Class 0: 80.52%\n",
            "  Class 1: 91.10%\n",
            "Test Accuracy: 81.1%, Test Loss: 0.694473\n",
            "\n",
            "\n",
            "Class-wise Accuracy:\n",
            "  Class 2: 71.82%\n",
            "  Class 0: 80.52%\n",
            "  Class 1: 91.10%\n",
            "Train Accuracy: 82.02%, Average Train Loss: 0.461822, Test Accuracy: 81.06%, Average Test Loss: 0.694473\n",
            "\n",
            "Epoch 41/60: "
          ]
        },
        {
          "output_type": "stream",
          "name": "stderr",
          "text": [
            "100%|██████████| 2795/2795 [00:13<00:00, 206.56it/s]\n",
            "Batch 699/699, Loss: 0.681820: 100%|██████████| 699/699 [00:03<00:00, 215.09it/s]\n"
          ]
        },
        {
          "output_type": "stream",
          "name": "stdout",
          "text": [
            "\n",
            "Class-wise Accuracy:\n",
            "  Class 2: 83.27%\n",
            "  Class 0: 42.81%\n",
            "  Class 1: 82.68%\n",
            "Test Accuracy: 69.6%, Test Loss: 0.735057\n",
            "\n",
            "\n",
            "Class-wise Accuracy:\n",
            "  Class 2: 83.27%\n",
            "  Class 0: 42.81%\n",
            "  Class 1: 82.68%\n",
            "Train Accuracy: 82.78%, Average Train Loss: 0.429743, Test Accuracy: 69.58%, Average Test Loss: 0.735057\n",
            "\n",
            "Epoch 42/60: "
          ]
        },
        {
          "output_type": "stream",
          "name": "stderr",
          "text": [
            "100%|██████████| 2795/2795 [00:13<00:00, 205.71it/s]\n",
            "Batch 699/699, Loss: 0.477028: 100%|██████████| 699/699 [00:03<00:00, 212.87it/s]\n"
          ]
        },
        {
          "output_type": "stream",
          "name": "stdout",
          "text": [
            "\n",
            "Class-wise Accuracy:\n",
            "  Class 2: 78.67%\n",
            "  Class 0: 75.05%\n",
            "  Class 1: 90.35%\n",
            "Test Accuracy: 81.3%, Test Loss: 0.689623\n",
            "\n",
            "\n",
            "Class-wise Accuracy:\n",
            "  Class 2: 78.67%\n",
            "  Class 0: 75.05%\n",
            "  Class 1: 90.35%\n",
            "Train Accuracy: 83.02%, Average Train Loss: 0.428440, Test Accuracy: 81.30%, Average Test Loss: 0.689623\n",
            "\n",
            "Epoch 43/60: "
          ]
        },
        {
          "output_type": "stream",
          "name": "stderr",
          "text": [
            "100%|██████████| 2795/2795 [00:13<00:00, 205.83it/s]\n",
            "Batch 699/699, Loss: 0.601748: 100%|██████████| 699/699 [00:03<00:00, 214.55it/s]\n"
          ]
        },
        {
          "output_type": "stream",
          "name": "stdout",
          "text": [
            "\n",
            "Class-wise Accuracy:\n",
            "  Class 2: 88.74%\n",
            "  Class 0: 60.12%\n",
            "  Class 1: 76.24%\n",
            "Test Accuracy: 75.1%, Test Loss: 0.647277\n",
            "\n",
            "\n",
            "Class-wise Accuracy:\n",
            "  Class 2: 88.74%\n",
            "  Class 0: 60.12%\n",
            "  Class 1: 76.24%\n",
            "Train Accuracy: 82.97%, Average Train Loss: 0.423925, Test Accuracy: 75.09%, Average Test Loss: 0.647277\n",
            "\n",
            "Epoch 44/60: "
          ]
        },
        {
          "output_type": "stream",
          "name": "stderr",
          "text": [
            "100%|██████████| 2795/2795 [00:13<00:00, 206.51it/s]\n",
            "Batch 699/699, Loss: 0.582792: 100%|██████████| 699/699 [00:03<00:00, 205.29it/s]\n"
          ]
        },
        {
          "output_type": "stream",
          "name": "stdout",
          "text": [
            "\n",
            "Class-wise Accuracy:\n",
            "  Class 2: 78.06%\n",
            "  Class 0: 66.30%\n",
            "  Class 1: 85.71%\n",
            "Test Accuracy: 76.7%, Test Loss: 0.774815\n",
            "\n",
            "\n",
            "Class-wise Accuracy:\n",
            "  Class 2: 78.06%\n",
            "  Class 0: 66.30%\n",
            "  Class 1: 85.71%\n",
            "Train Accuracy: 82.27%, Average Train Loss: 0.461448, Test Accuracy: 76.65%, Average Test Loss: 0.774815\n",
            "\n",
            "Epoch 45/60: "
          ]
        },
        {
          "output_type": "stream",
          "name": "stderr",
          "text": [
            "100%|██████████| 2795/2795 [00:13<00:00, 206.10it/s]\n",
            "Batch 699/699, Loss: 0.478248: 100%|██████████| 699/699 [00:03<00:00, 214.92it/s]\n"
          ]
        },
        {
          "output_type": "stream",
          "name": "stdout",
          "text": [
            "\n",
            "Class-wise Accuracy:\n",
            "  Class 2: 80.21%\n",
            "  Class 0: 80.88%\n",
            "  Class 1: 88.99%\n",
            "Test Accuracy: 83.3%, Test Loss: 0.701486\n",
            "\n",
            "\n",
            "Class-wise Accuracy:\n",
            "  Class 2: 80.21%\n",
            "  Class 0: 80.88%\n",
            "  Class 1: 88.99%\n",
            "Train Accuracy: 82.22%, Average Train Loss: 0.454322, Test Accuracy: 83.32%, Average Test Loss: 0.701486\n",
            "\n",
            "Epoch 46/60: "
          ]
        },
        {
          "output_type": "stream",
          "name": "stderr",
          "text": [
            "100%|██████████| 2795/2795 [00:13<00:00, 205.34it/s]\n",
            "Batch 699/699, Loss: 0.491049: 100%|██████████| 699/699 [00:03<00:00, 209.87it/s]\n"
          ]
        },
        {
          "output_type": "stream",
          "name": "stdout",
          "text": [
            "\n",
            "Class-wise Accuracy:\n",
            "  Class 2: 71.45%\n",
            "  Class 0: 72.57%\n",
            "  Class 1: 92.22%\n",
            "Test Accuracy: 78.6%, Test Loss: 0.643154\n",
            "\n",
            "\n",
            "Class-wise Accuracy:\n",
            "  Class 2: 71.45%\n",
            "  Class 0: 72.57%\n",
            "  Class 1: 92.22%\n",
            "Train Accuracy: 83.36%, Average Train Loss: 0.419154, Test Accuracy: 78.65%, Average Test Loss: 0.643154\n",
            "\n",
            "Epoch 47/60: "
          ]
        },
        {
          "output_type": "stream",
          "name": "stderr",
          "text": [
            "100%|██████████| 2795/2795 [00:13<00:00, 202.60it/s]\n",
            "Batch 699/699, Loss: 0.540830: 100%|██████████| 699/699 [00:03<00:00, 197.35it/s]\n"
          ]
        },
        {
          "output_type": "stream",
          "name": "stdout",
          "text": [
            "\n",
            "Class-wise Accuracy:\n",
            "  Class 2: 79.65%\n",
            "  Class 0: 76.66%\n",
            "  Class 1: 88.04%\n",
            "Test Accuracy: 81.4%, Test Loss: 0.767168\n",
            "\n",
            "\n",
            "Class-wise Accuracy:\n",
            "  Class 2: 79.65%\n",
            "  Class 0: 76.66%\n",
            "  Class 1: 88.04%\n",
            "Train Accuracy: 83.58%, Average Train Loss: 0.414331, Test Accuracy: 81.41%, Average Test Loss: 0.767168\n",
            "\n",
            "Epoch 48/60: "
          ]
        },
        {
          "output_type": "stream",
          "name": "stderr",
          "text": [
            "100%|██████████| 2795/2795 [00:13<00:00, 203.30it/s]\n",
            "Batch 699/699, Loss: 0.506498: 100%|██████████| 699/699 [00:03<00:00, 207.50it/s]\n"
          ]
        },
        {
          "output_type": "stream",
          "name": "stdout",
          "text": [
            "\n",
            "Class-wise Accuracy:\n",
            "  Class 2: 76.81%\n",
            "  Class 0: 75.80%\n",
            "  Class 1: 88.76%\n",
            "Test Accuracy: 80.4%, Test Loss: 0.623798\n",
            "\n",
            "\n",
            "Class-wise Accuracy:\n",
            "  Class 2: 76.81%\n",
            "  Class 0: 75.80%\n",
            "  Class 1: 88.76%\n",
            "Train Accuracy: 83.28%, Average Train Loss: 0.420757, Test Accuracy: 80.40%, Average Test Loss: 0.623798\n",
            "\n",
            "Epoch 49/60: "
          ]
        },
        {
          "output_type": "stream",
          "name": "stderr",
          "text": [
            "100%|██████████| 2795/2795 [00:13<00:00, 205.86it/s]\n",
            "Batch 699/699, Loss: 0.398921: 100%|██████████| 699/699 [00:03<00:00, 205.04it/s]\n"
          ]
        },
        {
          "output_type": "stream",
          "name": "stdout",
          "text": [
            "\n",
            "Class-wise Accuracy:\n",
            "  Class 2: 81.00%\n",
            "  Class 0: 73.64%\n",
            "  Class 1: 87.86%\n",
            "Test Accuracy: 80.8%, Test Loss: 0.552646\n",
            "\n",
            "\n",
            "Class-wise Accuracy:\n",
            "  Class 2: 81.00%\n",
            "  Class 0: 73.64%\n",
            "  Class 1: 87.86%\n",
            "Train Accuracy: 83.42%, Average Train Loss: 0.413960, Test Accuracy: 80.80%, Average Test Loss: 0.552646\n",
            "\n",
            "Epoch 50/60: "
          ]
        },
        {
          "output_type": "stream",
          "name": "stderr",
          "text": [
            "100%|██████████| 2795/2795 [00:13<00:00, 202.72it/s]\n",
            "Batch 699/699, Loss: 0.422973: 100%|██████████| 699/699 [00:03<00:00, 207.49it/s]\n"
          ]
        },
        {
          "output_type": "stream",
          "name": "stdout",
          "text": [
            "\n",
            "Class-wise Accuracy:\n",
            "  Class 2: 77.47%\n",
            "  Class 0: 81.61%\n",
            "  Class 1: 91.22%\n",
            "Test Accuracy: 83.4%, Test Loss: 0.619671\n",
            "\n",
            "\n",
            "Class-wise Accuracy:\n",
            "  Class 2: 77.47%\n",
            "  Class 0: 81.61%\n",
            "  Class 1: 91.22%\n",
            "Train Accuracy: 83.54%, Average Train Loss: 0.413649, Test Accuracy: 83.37%, Average Test Loss: 0.619671\n",
            "\n",
            "Epoch 51/60: "
          ]
        },
        {
          "output_type": "stream",
          "name": "stderr",
          "text": [
            "100%|██████████| 2795/2795 [00:13<00:00, 204.85it/s]\n",
            "Batch 699/699, Loss: 0.387495: 100%|██████████| 699/699 [00:03<00:00, 209.73it/s]\n"
          ]
        },
        {
          "output_type": "stream",
          "name": "stdout",
          "text": [
            "\n",
            "Class-wise Accuracy:\n",
            "  Class 2: 83.55%\n",
            "  Class 0: 74.27%\n",
            "  Class 1: 86.79%\n",
            "Test Accuracy: 81.5%, Test Loss: 0.538052\n",
            "\n",
            "\n",
            "Class-wise Accuracy:\n",
            "  Class 2: 83.55%\n",
            "  Class 0: 74.27%\n",
            "  Class 1: 86.79%\n",
            "Train Accuracy: 83.63%, Average Train Loss: 0.413920, Test Accuracy: 81.52%, Average Test Loss: 0.538052\n",
            "\n",
            "Epoch 52/60: "
          ]
        },
        {
          "output_type": "stream",
          "name": "stderr",
          "text": [
            "100%|██████████| 2795/2795 [00:13<00:00, 204.30it/s]\n",
            "Batch 699/699, Loss: 0.377409: 100%|██████████| 699/699 [00:03<00:00, 196.92it/s]\n"
          ]
        },
        {
          "output_type": "stream",
          "name": "stdout",
          "text": [
            "\n",
            "Class-wise Accuracy:\n",
            "  Class 2: 78.24%\n",
            "  Class 0: 82.59%\n",
            "  Class 1: 94.07%\n",
            "Test Accuracy: 84.9%, Test Loss: 1.117793\n",
            "\n",
            "\n",
            "Class-wise Accuracy:\n",
            "  Class 2: 78.24%\n",
            "  Class 0: 82.59%\n",
            "  Class 1: 94.07%\n",
            "Train Accuracy: 83.82%, Average Train Loss: 0.406612, Test Accuracy: 84.89%, Average Test Loss: 1.117793\n",
            "\n",
            "Epoch 53/60: "
          ]
        },
        {
          "output_type": "stream",
          "name": "stderr",
          "text": [
            "100%|██████████| 2795/2795 [00:13<00:00, 204.89it/s]\n",
            "Batch 699/699, Loss: 0.656661: 100%|██████████| 699/699 [00:03<00:00, 212.78it/s]\n"
          ]
        },
        {
          "output_type": "stream",
          "name": "stdout",
          "text": [
            "\n",
            "Class-wise Accuracy:\n",
            "  Class 2: 92.56%\n",
            "  Class 0: 53.46%\n",
            "  Class 1: 58.76%\n",
            "Test Accuracy: 68.4%, Test Loss: 0.690703\n",
            "\n",
            "\n",
            "Class-wise Accuracy:\n",
            "  Class 2: 92.56%\n",
            "  Class 0: 53.46%\n",
            "  Class 1: 58.76%\n",
            "Train Accuracy: 83.76%, Average Train Loss: 0.404131, Test Accuracy: 68.41%, Average Test Loss: 0.690703\n",
            "\n",
            "Epoch 54/60: "
          ]
        },
        {
          "output_type": "stream",
          "name": "stderr",
          "text": [
            "100%|██████████| 2795/2795 [00:13<00:00, 204.95it/s]\n",
            "Batch 699/699, Loss: 0.458058: 100%|██████████| 699/699 [00:03<00:00, 202.08it/s]\n"
          ]
        },
        {
          "output_type": "stream",
          "name": "stdout",
          "text": [
            "\n",
            "Class-wise Accuracy:\n",
            "  Class 2: 86.65%\n",
            "  Class 0: 71.21%\n",
            "  Class 1: 87.63%\n",
            "Test Accuracy: 81.8%, Test Loss: 0.561845\n",
            "\n",
            "\n",
            "Class-wise Accuracy:\n",
            "  Class 2: 86.65%\n",
            "  Class 0: 71.21%\n",
            "  Class 1: 87.63%\n",
            "Train Accuracy: 83.90%, Average Train Loss: 0.404902, Test Accuracy: 81.82%, Average Test Loss: 0.561845\n",
            "\n",
            "Epoch 55/60: "
          ]
        },
        {
          "output_type": "stream",
          "name": "stderr",
          "text": [
            "100%|██████████| 2795/2795 [00:13<00:00, 204.09it/s]\n",
            "Batch 699/699, Loss: 0.396018: 100%|██████████| 699/699 [00:03<00:00, 205.81it/s]\n"
          ]
        },
        {
          "output_type": "stream",
          "name": "stdout",
          "text": [
            "\n",
            "Class-wise Accuracy:\n",
            "  Class 2: 83.57%\n",
            "  Class 0: 84.10%\n",
            "  Class 1: 87.08%\n",
            "Test Accuracy: 84.9%, Test Loss: 0.692087\n",
            "\n",
            "\n",
            "Class-wise Accuracy:\n",
            "  Class 2: 83.57%\n",
            "  Class 0: 84.10%\n",
            "  Class 1: 87.08%\n",
            "Train Accuracy: 84.20%, Average Train Loss: 0.402428, Test Accuracy: 84.90%, Average Test Loss: 0.692087\n",
            "\n",
            "Epoch 56/60: "
          ]
        },
        {
          "output_type": "stream",
          "name": "stderr",
          "text": [
            "100%|██████████| 2795/2795 [00:13<00:00, 205.17it/s]\n",
            "Batch 699/699, Loss: 0.460457: 100%|██████████| 699/699 [00:03<00:00, 204.63it/s]\n"
          ]
        },
        {
          "output_type": "stream",
          "name": "stdout",
          "text": [
            "\n",
            "Class-wise Accuracy:\n",
            "  Class 2: 79.17%\n",
            "  Class 0: 78.03%\n",
            "  Class 1: 90.79%\n",
            "Test Accuracy: 82.6%, Test Loss: 0.559674\n",
            "\n",
            "\n",
            "Class-wise Accuracy:\n",
            "  Class 2: 79.17%\n",
            "  Class 0: 78.03%\n",
            "  Class 1: 90.79%\n",
            "Train Accuracy: 84.05%, Average Train Loss: 0.402490, Test Accuracy: 82.61%, Average Test Loss: 0.559674\n",
            "\n",
            "Epoch 57/60: "
          ]
        },
        {
          "output_type": "stream",
          "name": "stderr",
          "text": [
            "100%|██████████| 2795/2795 [00:13<00:00, 204.56it/s]\n",
            "Batch 699/699, Loss: 0.529551: 100%|██████████| 699/699 [00:03<00:00, 209.66it/s]\n"
          ]
        },
        {
          "output_type": "stream",
          "name": "stdout",
          "text": [
            "\n",
            "Class-wise Accuracy:\n",
            "  Class 2: 73.73%\n",
            "  Class 0: 79.93%\n",
            "  Class 1: 90.60%\n",
            "Test Accuracy: 81.3%, Test Loss: 0.577179\n",
            "\n",
            "\n",
            "Class-wise Accuracy:\n",
            "  Class 2: 73.73%\n",
            "  Class 0: 79.93%\n",
            "  Class 1: 90.60%\n",
            "Train Accuracy: 83.98%, Average Train Loss: 0.401220, Test Accuracy: 81.34%, Average Test Loss: 0.577179\n",
            "\n",
            "Epoch 58/60: "
          ]
        },
        {
          "output_type": "stream",
          "name": "stderr",
          "text": [
            "100%|██████████| 2795/2795 [00:13<00:00, 204.96it/s]\n",
            "Batch 699/699, Loss: 0.417260: 100%|██████████| 699/699 [00:03<00:00, 212.20it/s]\n"
          ]
        },
        {
          "output_type": "stream",
          "name": "stdout",
          "text": [
            "\n",
            "Class-wise Accuracy:\n",
            "  Class 2: 81.37%\n",
            "  Class 0: 78.31%\n",
            "  Class 1: 89.97%\n",
            "Test Accuracy: 83.2%, Test Loss: 0.571328\n",
            "\n",
            "\n",
            "Class-wise Accuracy:\n",
            "  Class 2: 81.37%\n",
            "  Class 0: 78.31%\n",
            "  Class 1: 89.97%\n",
            "Train Accuracy: 84.22%, Average Train Loss: 0.401148, Test Accuracy: 83.17%, Average Test Loss: 0.571328\n",
            "\n",
            "Epoch 59/60: "
          ]
        },
        {
          "output_type": "stream",
          "name": "stderr",
          "text": [
            "100%|██████████| 2795/2795 [00:13<00:00, 206.29it/s]\n",
            "Batch 699/699, Loss: 0.533631: 100%|██████████| 699/699 [00:03<00:00, 212.24it/s]\n"
          ]
        },
        {
          "output_type": "stream",
          "name": "stdout",
          "text": [
            "\n",
            "Class-wise Accuracy:\n",
            "  Class 2: 88.57%\n",
            "  Class 0: 66.86%\n",
            "  Class 1: 83.52%\n",
            "Test Accuracy: 79.7%, Test Loss: 0.570170\n",
            "\n",
            "\n",
            "Class-wise Accuracy:\n",
            "  Class 2: 88.57%\n",
            "  Class 0: 66.86%\n",
            "  Class 1: 83.52%\n",
            "Train Accuracy: 83.97%, Average Train Loss: 0.401363, Test Accuracy: 79.67%, Average Test Loss: 0.570170\n",
            "\n",
            "Epoch 60/60: "
          ]
        },
        {
          "output_type": "stream",
          "name": "stderr",
          "text": [
            "100%|██████████| 2795/2795 [00:13<00:00, 205.77it/s]\n",
            "Batch 699/699, Loss: 0.516519: 100%|██████████| 699/699 [00:03<00:00, 205.24it/s]\n"
          ]
        },
        {
          "output_type": "stream",
          "name": "stdout",
          "text": [
            "\n",
            "Class-wise Accuracy:\n",
            "  Class 2: 78.37%\n",
            "  Class 0: 80.60%\n",
            "  Class 1: 88.51%\n",
            "Test Accuracy: 82.4%, Test Loss: 0.815576\n",
            "\n",
            "\n",
            "Class-wise Accuracy:\n",
            "  Class 2: 78.37%\n",
            "  Class 0: 80.60%\n",
            "  Class 1: 88.51%\n",
            "Train Accuracy: 84.22%, Average Train Loss: 0.401944, Test Accuracy: 82.45%, Average Test Loss: 0.815576\n",
            "\n"
          ]
        },
        {
          "output_type": "display_data",
          "data": {
            "text/plain": [
              "<IPython.core.display.HTML object>"
            ],
            "text/html": []
          },
          "metadata": {}
        },
        {
          "output_type": "display_data",
          "data": {
            "text/plain": [
              "<IPython.core.display.HTML object>"
            ],
            "text/html": [
              "<br>    <style><br>        .wandb-row {<br>            display: flex;<br>            flex-direction: row;<br>            flex-wrap: wrap;<br>            justify-content: flex-start;<br>            width: 100%;<br>        }<br>        .wandb-col {<br>            display: flex;<br>            flex-direction: column;<br>            flex-basis: 100%;<br>            flex: 1;<br>            padding: 10px;<br>        }<br>    </style><br><div class=\"wandb-row\"><div class=\"wandb-col\"><h3>Run history:</h3><br/><table class=\"wandb\"><tr><td>class_0_accuracy</td><td>▁▁▃▁▄▁▇▅▆▆▆▇▆▆▆▆▇▇▇▆▆▇▇▇▇▄▆█▅▇▇█▇▇██▆▇██</td></tr><tr><td>class_1_accuracy</td><td>███▃▆▅▇▃▄▂▃▄▅▃▄▄▄▃▆▃▅▂▃▅▅▂▅▃▅▁▅▆▅▅▆▄▅▅▅▅</td></tr><tr><td>class_2_accuracy</td><td>▂▁▁▂▄▆▆▆▇▇▇▆▇▇▆▇▇▇▇▇▇█▇▆▇▆▇█▇▇▇▇▇▇█▇▇▇▇▇</td></tr><tr><td>epoch</td><td>▁▁▁▁▁▂▂▂▂▂▃▃▃▃▃▄▄▄▄▄▄▅▅▅▅▅▆▆▆▆▆▆▇▇▇▇▇███</td></tr><tr><td>learning_rate</td><td>██████▇▇▇▇▇▆▆▆▆▅▅▄▄▄▃▃▃▃▃▂▂▂▂▂▂▂▁▁▁▁▁▁▁▁</td></tr><tr><td>test_accuracy</td><td>▁▁▃▃▄▇▆▆▆▇▇▇▇▆▇▇▇▇▇▇▇▇▇▇▇▇▇▆█▇██▇███████</td></tr><tr><td>test_loss</td><td>███▆▅▄▃▄▃▂▃▃▄▁▂▂▃▃▃▂▂▂▄▂▄▃▃▃▂▄▂▄▂▁▁▁▁▁▁▄</td></tr><tr><td>train_accuracy</td><td>▁▃▃▄▄▅▆▆▆▆▆▆▆▇▇▇▇▇▇▇▇▇▇▇▇███████████████</td></tr><tr><td>train_loss</td><td>█▇▆▆▅▄▄▄▄▃▃▃▃▄▂▂▂▂▂▂▂▂▂▂▂▂▁▂▁▁▁▁▁▁▁▁▁▁▁▁</td></tr></table><br/></div><div class=\"wandb-col\"><h3>Run summary:</h3><br/><table class=\"wandb\"><tr><td>class_0_accuracy</td><td>80.60102</td></tr><tr><td>class_1_accuracy</td><td>88.51388</td></tr><tr><td>class_2_accuracy</td><td>78.37373</td></tr><tr><td>epoch</td><td>60</td></tr><tr><td>learning_rate</td><td>0.0</td></tr><tr><td>test_accuracy</td><td>82.44978</td></tr><tr><td>test_loss</td><td>0.81558</td></tr><tr><td>train_accuracy</td><td>84.22195</td></tr><tr><td>train_loss</td><td>0.40194</td></tr></table><br/></div></div>"
            ]
          },
          "metadata": {}
        },
        {
          "output_type": "display_data",
          "data": {
            "text/plain": [
              "<IPython.core.display.HTML object>"
            ],
            "text/html": [
              " View run <strong style=\"color:#cdcd00\">ShallowAttentionNet 12223111</strong> at: <a href='https://wandb.ai/philinthesky/Master%20Thesis/runs/l185mhvq' target=\"_blank\">https://wandb.ai/philinthesky/Master%20Thesis/runs/l185mhvq</a><br> View project at: <a href='https://wandb.ai/philinthesky/Master%20Thesis' target=\"_blank\">https://wandb.ai/philinthesky/Master%20Thesis</a><br>Synced 5 W&B file(s), 0 media file(s), 0 artifact file(s) and 0 other file(s)"
            ]
          },
          "metadata": {}
        },
        {
          "output_type": "display_data",
          "data": {
            "text/plain": [
              "<IPython.core.display.HTML object>"
            ],
            "text/html": [
              "Find logs at: <code>./wandb/run-20250330_143747-l185mhvq/logs</code>"
            ]
          },
          "metadata": {}
        },
        {
          "output_type": "stream",
          "name": "stdout",
          "text": [
            "ShallowAttentionNet(\n",
            "  (temporal): Conv2d(1, 10, kernel_size=(1, 25), stride=(1, 1))\n",
            "  (spatial_att): SpatialAttention(\n",
            "    (conv): Conv2d(10, 10, kernel_size=(1, 1), stride=(1, 1), bias=False)\n",
            "    (pool): MaxPool2d(kernel_size=(1, 5), stride=(1, 5), padding=0, dilation=1, ceil_mode=False)\n",
            "  )\n",
            "  (batch_norm): BatchNorm2d(10, eps=1e-05, momentum=0.1, affine=True, track_running_stats=True)\n",
            "  (pool): AvgPool2d(kernel_size=(1, 20), stride=(1, 20), padding=0)\n",
            "  (dropout): Dropout(p=0.5, inplace=False)\n",
            "  (fc): Linear(in_features=960, out_features=3, bias=True)\n",
            ")\n"
          ]
        },
        {
          "output_type": "display_data",
          "data": {
            "text/plain": [
              "<IPython.core.display.HTML object>"
            ],
            "text/html": [
              "Tracking run with wandb version 0.19.8"
            ]
          },
          "metadata": {}
        },
        {
          "output_type": "display_data",
          "data": {
            "text/plain": [
              "<IPython.core.display.HTML object>"
            ],
            "text/html": [
              "Run data is saved locally in <code>/content/wandb/run-20250330_145519-i449rnoa</code>"
            ]
          },
          "metadata": {}
        },
        {
          "output_type": "display_data",
          "data": {
            "text/plain": [
              "<IPython.core.display.HTML object>"
            ],
            "text/html": [
              "Syncing run <strong><a href='https://wandb.ai/philinthesky/Master%20Thesis/runs/i449rnoa' target=\"_blank\">ShallowAttentionNet 100300</a></strong> to <a href='https://wandb.ai/philinthesky/Master%20Thesis' target=\"_blank\">Weights & Biases</a> (<a href='https://wandb.me/developer-guide' target=\"_blank\">docs</a>)<br>"
            ]
          },
          "metadata": {}
        },
        {
          "output_type": "display_data",
          "data": {
            "text/plain": [
              "<IPython.core.display.HTML object>"
            ],
            "text/html": [
              " View project at <a href='https://wandb.ai/philinthesky/Master%20Thesis' target=\"_blank\">https://wandb.ai/philinthesky/Master%20Thesis</a>"
            ]
          },
          "metadata": {}
        },
        {
          "output_type": "display_data",
          "data": {
            "text/plain": [
              "<IPython.core.display.HTML object>"
            ],
            "text/html": [
              " View run at <a href='https://wandb.ai/philinthesky/Master%20Thesis/runs/i449rnoa' target=\"_blank\">https://wandb.ai/philinthesky/Master%20Thesis/runs/i449rnoa</a>"
            ]
          },
          "metadata": {}
        },
        {
          "output_type": "stream",
          "name": "stdout",
          "text": [
            "Epoch 1/60: "
          ]
        },
        {
          "output_type": "stream",
          "name": "stderr",
          "text": [
            "100%|██████████| 2795/2795 [00:13<00:00, 203.77it/s]\n",
            "Batch 699/699, Loss: 1.010645: 100%|██████████| 699/699 [00:03<00:00, 214.34it/s]\n"
          ]
        },
        {
          "output_type": "stream",
          "name": "stdout",
          "text": [
            "\n",
            "Class-wise Accuracy:\n",
            "  Class 2: 31.36%\n",
            "  Class 0: 12.77%\n",
            "  Class 1: 97.43%\n",
            "Test Accuracy: 46.9%, Test Loss: 1.074646\n",
            "\n",
            "\n",
            "Class-wise Accuracy:\n",
            "  Class 2: 31.36%\n",
            "  Class 0: 12.77%\n",
            "  Class 1: 97.43%\n",
            "Train Accuracy: 56.85%, Average Train Loss: 0.941021, Test Accuracy: 46.88%, Average Test Loss: 1.074646\n",
            "\n",
            "Epoch 2/60: "
          ]
        },
        {
          "output_type": "stream",
          "name": "stderr",
          "text": [
            "100%|██████████| 2795/2795 [00:13<00:00, 203.26it/s]\n",
            "Batch 699/699, Loss: 1.054895: 100%|██████████| 699/699 [00:03<00:00, 209.59it/s]\n"
          ]
        },
        {
          "output_type": "stream",
          "name": "stdout",
          "text": [
            "\n",
            "Class-wise Accuracy:\n",
            "  Class 2: 25.89%\n",
            "  Class 0: 0.93%\n",
            "  Class 1: 98.46%\n",
            "Test Accuracy: 41.4%, Test Loss: 1.099157\n",
            "\n",
            "\n",
            "Class-wise Accuracy:\n",
            "  Class 2: 25.89%\n",
            "  Class 0: 0.93%\n",
            "  Class 1: 98.46%\n",
            "Train Accuracy: 62.60%, Average Train Loss: 0.835210, Test Accuracy: 41.42%, Average Test Loss: 1.099157\n",
            "\n",
            "Epoch 3/60: "
          ]
        },
        {
          "output_type": "stream",
          "name": "stderr",
          "text": [
            "100%|██████████| 2795/2795 [00:13<00:00, 205.31it/s]\n",
            "Batch 699/699, Loss: 1.027941: 100%|██████████| 699/699 [00:03<00:00, 215.78it/s]\n"
          ]
        },
        {
          "output_type": "stream",
          "name": "stdout",
          "text": [
            "\n",
            "Class-wise Accuracy:\n",
            "  Class 2: 28.47%\n",
            "  Class 0: 4.63%\n",
            "  Class 1: 98.04%\n",
            "Test Accuracy: 43.4%, Test Loss: 1.066153\n",
            "\n",
            "\n",
            "Class-wise Accuracy:\n",
            "  Class 2: 28.47%\n",
            "  Class 0: 4.63%\n",
            "  Class 1: 98.04%\n",
            "Train Accuracy: 64.59%, Average Train Loss: 0.799930, Test Accuracy: 43.39%, Average Test Loss: 1.066153\n",
            "\n",
            "Epoch 4/60: "
          ]
        },
        {
          "output_type": "stream",
          "name": "stderr",
          "text": [
            "100%|██████████| 2795/2795 [00:13<00:00, 206.80it/s]\n",
            "Batch 699/699, Loss: 1.072394: 100%|██████████| 699/699 [00:03<00:00, 212.92it/s]\n"
          ]
        },
        {
          "output_type": "stream",
          "name": "stdout",
          "text": [
            "\n",
            "Class-wise Accuracy:\n",
            "  Class 2: 38.59%\n",
            "  Class 0: 13.97%\n",
            "  Class 1: 72.88%\n",
            "Test Accuracy: 41.6%, Test Loss: 1.170391\n",
            "\n",
            "\n",
            "Class-wise Accuracy:\n",
            "  Class 2: 38.59%\n",
            "  Class 0: 13.97%\n",
            "  Class 1: 72.88%\n",
            "Train Accuracy: 66.24%, Average Train Loss: 0.761520, Test Accuracy: 41.65%, Average Test Loss: 1.170391\n",
            "\n",
            "Epoch 5/60: "
          ]
        },
        {
          "output_type": "stream",
          "name": "stderr",
          "text": [
            "100%|██████████| 2795/2795 [00:13<00:00, 207.10it/s]\n",
            "Batch 699/699, Loss: 0.957761: 100%|██████████| 699/699 [00:03<00:00, 208.25it/s]\n"
          ]
        },
        {
          "output_type": "stream",
          "name": "stdout",
          "text": [
            "\n",
            "Class-wise Accuracy:\n",
            "  Class 2: 48.46%\n",
            "  Class 0: 34.38%\n",
            "  Class 1: 96.38%\n",
            "Test Accuracy: 59.5%, Test Loss: 0.931618\n",
            "\n",
            "\n",
            "Class-wise Accuracy:\n",
            "  Class 2: 48.46%\n",
            "  Class 0: 34.38%\n",
            "  Class 1: 96.38%\n",
            "Train Accuracy: 69.74%, Average Train Loss: 0.711925, Test Accuracy: 59.52%, Average Test Loss: 0.931618\n",
            "\n",
            "Epoch 6/60: "
          ]
        },
        {
          "output_type": "stream",
          "name": "stderr",
          "text": [
            "100%|██████████| 2795/2795 [00:13<00:00, 206.56it/s]\n",
            "Batch 699/699, Loss: 1.007017: 100%|██████████| 699/699 [00:03<00:00, 213.76it/s]\n"
          ]
        },
        {
          "output_type": "stream",
          "name": "stdout",
          "text": [
            "\n",
            "Class-wise Accuracy:\n",
            "  Class 2: 35.16%\n",
            "  Class 0: 23.18%\n",
            "  Class 1: 97.75%\n",
            "Test Accuracy: 51.7%, Test Loss: 1.013390\n",
            "\n",
            "\n",
            "Class-wise Accuracy:\n",
            "  Class 2: 35.16%\n",
            "  Class 0: 23.18%\n",
            "  Class 1: 97.75%\n",
            "Train Accuracy: 70.60%, Average Train Loss: 0.690595, Test Accuracy: 51.74%, Average Test Loss: 1.013390\n",
            "\n",
            "Epoch 7/60: "
          ]
        },
        {
          "output_type": "stream",
          "name": "stderr",
          "text": [
            "100%|██████████| 2795/2795 [00:13<00:00, 206.12it/s]\n",
            "Batch 699/699, Loss: 0.963617: 100%|██████████| 699/699 [00:03<00:00, 214.48it/s]\n"
          ]
        },
        {
          "output_type": "stream",
          "name": "stdout",
          "text": [
            "\n",
            "Class-wise Accuracy:\n",
            "  Class 2: 51.38%\n",
            "  Class 0: 34.89%\n",
            "  Class 1: 96.19%\n",
            "Test Accuracy: 60.6%, Test Loss: 0.879258\n",
            "\n",
            "\n",
            "Class-wise Accuracy:\n",
            "  Class 2: 51.38%\n",
            "  Class 0: 34.89%\n",
            "  Class 1: 96.19%\n",
            "Train Accuracy: 70.84%, Average Train Loss: 0.692676, Test Accuracy: 60.61%, Average Test Loss: 0.879258\n",
            "\n",
            "Epoch 8/60: "
          ]
        },
        {
          "output_type": "stream",
          "name": "stderr",
          "text": [
            "100%|██████████| 2795/2795 [00:13<00:00, 205.88it/s]\n",
            "Batch 699/699, Loss: 0.865870: 100%|██████████| 699/699 [00:03<00:00, 210.68it/s]\n"
          ]
        },
        {
          "output_type": "stream",
          "name": "stdout",
          "text": [
            "\n",
            "Class-wise Accuracy:\n",
            "  Class 2: 63.22%\n",
            "  Class 0: 53.82%\n",
            "  Class 1: 88.85%\n",
            "Test Accuracy: 68.5%, Test Loss: 1.003551\n",
            "\n",
            "\n",
            "Class-wise Accuracy:\n",
            "  Class 2: 63.22%\n",
            "  Class 0: 53.82%\n",
            "  Class 1: 88.85%\n",
            "Train Accuracy: 73.84%, Average Train Loss: 0.629154, Test Accuracy: 68.51%, Average Test Loss: 1.003551\n",
            "\n",
            "Epoch 9/60: "
          ]
        },
        {
          "output_type": "stream",
          "name": "stderr",
          "text": [
            "100%|██████████| 2795/2795 [00:13<00:00, 206.54it/s]\n",
            "Batch 699/699, Loss: 0.928056: 100%|██████████| 699/699 [00:03<00:00, 213.49it/s]\n"
          ]
        },
        {
          "output_type": "stream",
          "name": "stdout",
          "text": [
            "\n",
            "Class-wise Accuracy:\n",
            "  Class 2: 49.00%\n",
            "  Class 0: 38.91%\n",
            "  Class 1: 94.07%\n",
            "Test Accuracy: 60.4%, Test Loss: 0.887971\n",
            "\n",
            "\n",
            "Class-wise Accuracy:\n",
            "  Class 2: 49.00%\n",
            "  Class 0: 38.91%\n",
            "  Class 1: 94.07%\n",
            "Train Accuracy: 72.94%, Average Train Loss: 0.651337, Test Accuracy: 60.45%, Average Test Loss: 0.887971\n",
            "\n",
            "Epoch 10/60: "
          ]
        },
        {
          "output_type": "stream",
          "name": "stderr",
          "text": [
            "100%|██████████| 2795/2795 [00:13<00:00, 205.87it/s]\n",
            "Batch 699/699, Loss: 1.063501: 100%|██████████| 699/699 [00:03<00:00, 212.32it/s]\n"
          ]
        },
        {
          "output_type": "stream",
          "name": "stdout",
          "text": [
            "\n",
            "Class-wise Accuracy:\n",
            "  Class 2: 41.23%\n",
            "  Class 0: 2.20%\n",
            "  Class 1: 89.98%\n",
            "Test Accuracy: 44.2%, Test Loss: 1.078339\n",
            "\n",
            "\n",
            "Class-wise Accuracy:\n",
            "  Class 2: 41.23%\n",
            "  Class 0: 2.20%\n",
            "  Class 1: 89.98%\n",
            "Train Accuracy: 73.10%, Average Train Loss: 0.652631, Test Accuracy: 44.24%, Average Test Loss: 1.078339\n",
            "\n",
            "Epoch 11/60: "
          ]
        },
        {
          "output_type": "stream",
          "name": "stderr",
          "text": [
            "100%|██████████| 2795/2795 [00:13<00:00, 206.03it/s]\n",
            "Batch 699/699, Loss: 0.988598: 100%|██████████| 699/699 [00:03<00:00, 210.07it/s]\n"
          ]
        },
        {
          "output_type": "stream",
          "name": "stdout",
          "text": [
            "\n",
            "Class-wise Accuracy:\n",
            "  Class 2: 49.61%\n",
            "  Class 0: 19.37%\n",
            "  Class 1: 96.91%\n",
            "Test Accuracy: 55.1%, Test Loss: 1.000768\n",
            "\n",
            "\n",
            "Class-wise Accuracy:\n",
            "  Class 2: 49.61%\n",
            "  Class 0: 19.37%\n",
            "  Class 1: 96.91%\n",
            "Train Accuracy: 75.18%, Average Train Loss: 0.620084, Test Accuracy: 55.08%, Average Test Loss: 1.000768\n",
            "\n",
            "Epoch 12/60: "
          ]
        },
        {
          "output_type": "stream",
          "name": "stderr",
          "text": [
            "100%|██████████| 2795/2795 [00:13<00:00, 204.52it/s]\n",
            "Batch 699/699, Loss: 0.753983: 100%|██████████| 699/699 [00:03<00:00, 208.19it/s]\n"
          ]
        },
        {
          "output_type": "stream",
          "name": "stdout",
          "text": [
            "\n",
            "Class-wise Accuracy:\n",
            "  Class 2: 70.28%\n",
            "  Class 0: 55.19%\n",
            "  Class 1: 89.58%\n",
            "Test Accuracy: 71.6%, Test Loss: 0.798075\n",
            "\n",
            "\n",
            "Class-wise Accuracy:\n",
            "  Class 2: 70.28%\n",
            "  Class 0: 55.19%\n",
            "  Class 1: 89.58%\n",
            "Train Accuracy: 76.49%, Average Train Loss: 0.588087, Test Accuracy: 71.59%, Average Test Loss: 0.798075\n",
            "\n",
            "Epoch 13/60: "
          ]
        },
        {
          "output_type": "stream",
          "name": "stderr",
          "text": [
            "100%|██████████| 2795/2795 [00:13<00:00, 204.70it/s]\n",
            "Batch 699/699, Loss: 0.758365: 100%|██████████| 699/699 [00:03<00:00, 205.77it/s]\n"
          ]
        },
        {
          "output_type": "stream",
          "name": "stdout",
          "text": [
            "\n",
            "Class-wise Accuracy:\n",
            "  Class 2: 69.79%\n",
            "  Class 0: 52.87%\n",
            "  Class 1: 85.07%\n",
            "Test Accuracy: 69.2%, Test Loss: 0.741113\n",
            "\n",
            "\n",
            "Class-wise Accuracy:\n",
            "  Class 2: 69.79%\n",
            "  Class 0: 52.87%\n",
            "  Class 1: 85.07%\n",
            "Train Accuracy: 77.66%, Average Train Loss: 0.552299, Test Accuracy: 69.17%, Average Test Loss: 0.741113\n",
            "\n",
            "Epoch 14/60: "
          ]
        },
        {
          "output_type": "stream",
          "name": "stderr",
          "text": [
            "100%|██████████| 2795/2795 [00:13<00:00, 206.02it/s]\n",
            "Batch 699/699, Loss: 0.811404: 100%|██████████| 699/699 [00:03<00:00, 208.88it/s]\n"
          ]
        },
        {
          "output_type": "stream",
          "name": "stdout",
          "text": [
            "\n",
            "Class-wise Accuracy:\n",
            "  Class 2: 62.99%\n",
            "  Class 0: 43.96%\n",
            "  Class 1: 92.16%\n",
            "Test Accuracy: 66.2%, Test Loss: 0.816291\n",
            "\n",
            "\n",
            "Class-wise Accuracy:\n",
            "  Class 2: 62.99%\n",
            "  Class 0: 43.96%\n",
            "  Class 1: 92.16%\n",
            "Train Accuracy: 77.08%, Average Train Loss: 0.570979, Test Accuracy: 66.23%, Average Test Loss: 0.816291\n",
            "\n",
            "Epoch 15/60: "
          ]
        },
        {
          "output_type": "stream",
          "name": "stderr",
          "text": [
            "100%|██████████| 2795/2795 [00:13<00:00, 206.37it/s]\n",
            "Batch 699/699, Loss: 0.671488: 100%|██████████| 699/699 [00:03<00:00, 210.40it/s]\n"
          ]
        },
        {
          "output_type": "stream",
          "name": "stdout",
          "text": [
            "\n",
            "Class-wise Accuracy:\n",
            "  Class 2: 70.72%\n",
            "  Class 0: 57.74%\n",
            "  Class 1: 90.56%\n",
            "Test Accuracy: 72.9%, Test Loss: 0.748829\n",
            "\n",
            "\n",
            "Class-wise Accuracy:\n",
            "  Class 2: 70.72%\n",
            "  Class 0: 57.74%\n",
            "  Class 1: 90.56%\n",
            "Train Accuracy: 78.69%, Average Train Loss: 0.533841, Test Accuracy: 72.91%, Average Test Loss: 0.748829\n",
            "\n",
            "Epoch 16/60: "
          ]
        },
        {
          "output_type": "stream",
          "name": "stderr",
          "text": [
            "100%|██████████| 2795/2795 [00:13<00:00, 206.02it/s]\n",
            "Batch 699/699, Loss: 0.844170: 100%|██████████| 699/699 [00:03<00:00, 203.73it/s]\n"
          ]
        },
        {
          "output_type": "stream",
          "name": "stdout",
          "text": [
            "\n",
            "Class-wise Accuracy:\n",
            "  Class 2: 61.33%\n",
            "  Class 0: 39.29%\n",
            "  Class 1: 93.66%\n",
            "Test Accuracy: 64.6%, Test Loss: 0.936792\n",
            "\n",
            "\n",
            "Class-wise Accuracy:\n",
            "  Class 2: 61.33%\n",
            "  Class 0: 39.29%\n",
            "  Class 1: 93.66%\n",
            "Train Accuracy: 78.29%, Average Train Loss: 0.537134, Test Accuracy: 64.61%, Average Test Loss: 0.936792\n",
            "\n",
            "Epoch 17/60: "
          ]
        },
        {
          "output_type": "stream",
          "name": "stderr",
          "text": [
            "100%|██████████| 2795/2795 [00:13<00:00, 205.78it/s]\n",
            "Batch 699/699, Loss: 0.575036: 100%|██████████| 699/699 [00:03<00:00, 206.53it/s]\n"
          ]
        },
        {
          "output_type": "stream",
          "name": "stdout",
          "text": [
            "\n",
            "Class-wise Accuracy:\n",
            "  Class 2: 81.78%\n",
            "  Class 0: 74.03%\n",
            "  Class 1: 83.83%\n",
            "Test Accuracy: 79.9%, Test Loss: 0.777859\n",
            "\n",
            "\n",
            "Class-wise Accuracy:\n",
            "  Class 2: 81.78%\n",
            "  Class 0: 74.03%\n",
            "  Class 1: 83.83%\n",
            "Train Accuracy: 79.11%, Average Train Loss: 0.522246, Test Accuracy: 79.87%, Average Test Loss: 0.777859\n",
            "\n",
            "Epoch 18/60: "
          ]
        },
        {
          "output_type": "stream",
          "name": "stderr",
          "text": [
            "100%|██████████| 2795/2795 [00:13<00:00, 204.53it/s]\n",
            "Batch 699/699, Loss: 0.712044: 100%|██████████| 699/699 [00:03<00:00, 208.89it/s]\n"
          ]
        },
        {
          "output_type": "stream",
          "name": "stdout",
          "text": [
            "\n",
            "Class-wise Accuracy:\n",
            "  Class 2: 64.76%\n",
            "  Class 0: 54.57%\n",
            "  Class 1: 87.45%\n",
            "Test Accuracy: 68.8%, Test Loss: 0.763826\n",
            "\n",
            "\n",
            "Class-wise Accuracy:\n",
            "  Class 2: 64.76%\n",
            "  Class 0: 54.57%\n",
            "  Class 1: 87.45%\n",
            "Train Accuracy: 79.73%, Average Train Loss: 0.508721, Test Accuracy: 68.82%, Average Test Loss: 0.763826\n",
            "\n",
            "Epoch 19/60: "
          ]
        },
        {
          "output_type": "stream",
          "name": "stderr",
          "text": [
            "100%|██████████| 2795/2795 [00:13<00:00, 205.48it/s]\n",
            "Batch 699/699, Loss: 0.718870: 100%|██████████| 699/699 [00:03<00:00, 204.90it/s]\n"
          ]
        },
        {
          "output_type": "stream",
          "name": "stdout",
          "text": [
            "\n",
            "Class-wise Accuracy:\n",
            "  Class 2: 61.06%\n",
            "  Class 0: 49.38%\n",
            "  Class 1: 88.28%\n",
            "Test Accuracy: 66.1%, Test Loss: 0.778238\n",
            "\n",
            "\n",
            "Class-wise Accuracy:\n",
            "  Class 2: 61.06%\n",
            "  Class 0: 49.38%\n",
            "  Class 1: 88.28%\n",
            "Train Accuracy: 80.54%, Average Train Loss: 0.484562, Test Accuracy: 66.12%, Average Test Loss: 0.778238\n",
            "\n",
            "Epoch 20/60: "
          ]
        },
        {
          "output_type": "stream",
          "name": "stderr",
          "text": [
            "100%|██████████| 2795/2795 [00:13<00:00, 204.82it/s]\n",
            "Batch 699/699, Loss: 0.520563: 100%|██████████| 699/699 [00:03<00:00, 210.43it/s]\n"
          ]
        },
        {
          "output_type": "stream",
          "name": "stdout",
          "text": [
            "\n",
            "Class-wise Accuracy:\n",
            "  Class 2: 71.54%\n",
            "  Class 0: 71.16%\n",
            "  Class 1: 90.77%\n",
            "Test Accuracy: 77.7%, Test Loss: 0.756519\n",
            "\n",
            "\n",
            "Class-wise Accuracy:\n",
            "  Class 2: 71.54%\n",
            "  Class 0: 71.16%\n",
            "  Class 1: 90.77%\n",
            "Train Accuracy: 81.24%, Average Train Loss: 0.473910, Test Accuracy: 77.73%, Average Test Loss: 0.756519\n",
            "\n",
            "Epoch 21/60: "
          ]
        },
        {
          "output_type": "stream",
          "name": "stderr",
          "text": [
            "100%|██████████| 2795/2795 [00:13<00:00, 205.18it/s]\n",
            "Batch 699/699, Loss: 0.622564: 100%|██████████| 699/699 [00:03<00:00, 202.45it/s]\n"
          ]
        },
        {
          "output_type": "stream",
          "name": "stdout",
          "text": [
            "\n",
            "Class-wise Accuracy:\n",
            "  Class 2: 62.92%\n",
            "  Class 0: 55.47%\n",
            "  Class 1: 88.83%\n",
            "Test Accuracy: 69.0%, Test Loss: 0.721492\n",
            "\n",
            "\n",
            "Class-wise Accuracy:\n",
            "  Class 2: 62.92%\n",
            "  Class 0: 55.47%\n",
            "  Class 1: 88.83%\n",
            "Train Accuracy: 81.00%, Average Train Loss: 0.486247, Test Accuracy: 68.95%, Average Test Loss: 0.721492\n",
            "\n",
            "Epoch 22/60: "
          ]
        },
        {
          "output_type": "stream",
          "name": "stderr",
          "text": [
            "100%|██████████| 2795/2795 [00:13<00:00, 205.93it/s]\n",
            "Batch 699/699, Loss: 0.699192: 100%|██████████| 699/699 [00:03<00:00, 205.72it/s]\n"
          ]
        },
        {
          "output_type": "stream",
          "name": "stdout",
          "text": [
            "\n",
            "Class-wise Accuracy:\n",
            "  Class 2: 66.32%\n",
            "  Class 0: 47.28%\n",
            "  Class 1: 88.47%\n",
            "Test Accuracy: 67.3%, Test Loss: 0.820393\n",
            "\n",
            "\n",
            "Class-wise Accuracy:\n",
            "  Class 2: 66.32%\n",
            "  Class 0: 47.28%\n",
            "  Class 1: 88.47%\n",
            "Train Accuracy: 81.91%, Average Train Loss: 0.454038, Test Accuracy: 67.25%, Average Test Loss: 0.820393\n",
            "\n",
            "Epoch 23/60: "
          ]
        },
        {
          "output_type": "stream",
          "name": "stderr",
          "text": [
            "100%|██████████| 2795/2795 [00:13<00:00, 205.57it/s]\n",
            "Batch 699/699, Loss: 0.390688: 100%|██████████| 699/699 [00:03<00:00, 209.03it/s]\n"
          ]
        },
        {
          "output_type": "stream",
          "name": "stdout",
          "text": [
            "\n",
            "Class-wise Accuracy:\n",
            "  Class 2: 82.11%\n",
            "  Class 0: 83.74%\n",
            "  Class 1: 88.17%\n",
            "Test Accuracy: 84.6%, Test Loss: 0.557110\n",
            "\n",
            "\n",
            "Class-wise Accuracy:\n",
            "  Class 2: 82.11%\n",
            "  Class 0: 83.74%\n",
            "  Class 1: 88.17%\n",
            "Train Accuracy: 81.98%, Average Train Loss: 0.461603, Test Accuracy: 84.65%, Average Test Loss: 0.557110\n",
            "\n",
            "Epoch 24/60: "
          ]
        },
        {
          "output_type": "stream",
          "name": "stderr",
          "text": [
            "100%|██████████| 2795/2795 [00:13<00:00, 205.29it/s]\n",
            "Batch 699/699, Loss: 0.606917: 100%|██████████| 699/699 [00:03<00:00, 205.28it/s]\n"
          ]
        },
        {
          "output_type": "stream",
          "name": "stdout",
          "text": [
            "\n",
            "Class-wise Accuracy:\n",
            "  Class 2: 74.61%\n",
            "  Class 0: 57.20%\n",
            "  Class 1: 89.09%\n",
            "Test Accuracy: 73.6%, Test Loss: 0.656270\n",
            "\n",
            "\n",
            "Class-wise Accuracy:\n",
            "  Class 2: 74.61%\n",
            "  Class 0: 57.20%\n",
            "  Class 1: 89.09%\n",
            "Train Accuracy: 82.21%, Average Train Loss: 0.448222, Test Accuracy: 73.57%, Average Test Loss: 0.656270\n",
            "\n",
            "Epoch 25/60: "
          ]
        },
        {
          "output_type": "stream",
          "name": "stderr",
          "text": [
            "100%|██████████| 2795/2795 [00:13<00:00, 205.95it/s]\n",
            "Batch 699/699, Loss: 0.486534: 100%|██████████| 699/699 [00:03<00:00, 208.20it/s]\n"
          ]
        },
        {
          "output_type": "stream",
          "name": "stdout",
          "text": [
            "\n",
            "Class-wise Accuracy:\n",
            "  Class 2: 78.04%\n",
            "  Class 0: 75.17%\n",
            "  Class 1: 89.44%\n",
            "Test Accuracy: 80.8%, Test Loss: 0.631692\n",
            "\n",
            "\n",
            "Class-wise Accuracy:\n",
            "  Class 2: 78.04%\n",
            "  Class 0: 75.17%\n",
            "  Class 1: 89.44%\n",
            "Train Accuracy: 82.03%, Average Train Loss: 0.456869, Test Accuracy: 80.83%, Average Test Loss: 0.631692\n",
            "\n",
            "Epoch 26/60: "
          ]
        },
        {
          "output_type": "stream",
          "name": "stderr",
          "text": [
            "100%|██████████| 2795/2795 [00:13<00:00, 205.48it/s]\n",
            "Batch 699/699, Loss: 0.516359: 100%|██████████| 699/699 [00:03<00:00, 212.83it/s]\n"
          ]
        },
        {
          "output_type": "stream",
          "name": "stdout",
          "text": [
            "\n",
            "Class-wise Accuracy:\n",
            "  Class 2: 83.43%\n",
            "  Class 0: 75.42%\n",
            "  Class 1: 87.36%\n",
            "Test Accuracy: 82.1%, Test Loss: 0.593610\n",
            "\n",
            "\n",
            "Class-wise Accuracy:\n",
            "  Class 2: 83.43%\n",
            "  Class 0: 75.42%\n",
            "  Class 1: 87.36%\n",
            "Train Accuracy: 81.92%, Average Train Loss: 0.462449, Test Accuracy: 82.05%, Average Test Loss: 0.593610\n",
            "\n",
            "Epoch 27/60: "
          ]
        },
        {
          "output_type": "stream",
          "name": "stderr",
          "text": [
            "100%|██████████| 2795/2795 [00:13<00:00, 205.32it/s]\n",
            "Batch 699/699, Loss: 0.348885: 100%|██████████| 699/699 [00:03<00:00, 205.00it/s]\n"
          ]
        },
        {
          "output_type": "stream",
          "name": "stdout",
          "text": [
            "\n",
            "Class-wise Accuracy:\n",
            "  Class 2: 85.07%\n",
            "  Class 0: 83.20%\n",
            "  Class 1: 87.13%\n",
            "Test Accuracy: 85.1%, Test Loss: 0.502129\n",
            "\n",
            "\n",
            "Class-wise Accuracy:\n",
            "  Class 2: 85.07%\n",
            "  Class 0: 83.20%\n",
            "  Class 1: 87.13%\n",
            "Train Accuracy: 82.74%, Average Train Loss: 0.436852, Test Accuracy: 85.13%, Average Test Loss: 0.502129\n",
            "\n",
            "Epoch 28/60: "
          ]
        },
        {
          "output_type": "stream",
          "name": "stderr",
          "text": [
            "100%|██████████| 2795/2795 [00:13<00:00, 205.80it/s]\n",
            "Batch 699/699, Loss: 0.434875: 100%|██████████| 699/699 [00:03<00:00, 215.91it/s]\n"
          ]
        },
        {
          "output_type": "stream",
          "name": "stdout",
          "text": [
            "\n",
            "Class-wise Accuracy:\n",
            "  Class 2: 79.31%\n",
            "  Class 0: 79.30%\n",
            "  Class 1: 90.27%\n",
            "Test Accuracy: 82.9%, Test Loss: 0.617959\n",
            "\n",
            "\n",
            "Class-wise Accuracy:\n",
            "  Class 2: 79.31%\n",
            "  Class 0: 79.30%\n",
            "  Class 1: 90.27%\n",
            "Train Accuracy: 82.73%, Average Train Loss: 0.436104, Test Accuracy: 82.91%, Average Test Loss: 0.617959\n",
            "\n",
            "Epoch 29/60: "
          ]
        },
        {
          "output_type": "stream",
          "name": "stderr",
          "text": [
            "100%|██████████| 2795/2795 [00:13<00:00, 205.28it/s]\n",
            "Batch 699/699, Loss: 0.420382: 100%|██████████| 699/699 [00:03<00:00, 203.84it/s]\n"
          ]
        },
        {
          "output_type": "stream",
          "name": "stdout",
          "text": [
            "\n",
            "Class-wise Accuracy:\n",
            "  Class 2: 86.45%\n",
            "  Class 0: 80.05%\n",
            "  Class 1: 87.86%\n",
            "Test Accuracy: 84.8%, Test Loss: 0.504181\n",
            "\n",
            "\n",
            "Class-wise Accuracy:\n",
            "  Class 2: 86.45%\n",
            "  Class 0: 80.05%\n",
            "  Class 1: 87.86%\n",
            "Train Accuracy: 82.91%, Average Train Loss: 0.440884, Test Accuracy: 84.78%, Average Test Loss: 0.504181\n",
            "\n",
            "Epoch 30/60: "
          ]
        },
        {
          "output_type": "stream",
          "name": "stderr",
          "text": [
            "100%|██████████| 2795/2795 [00:13<00:00, 205.38it/s]\n",
            "Batch 699/699, Loss: 0.345164: 100%|██████████| 699/699 [00:03<00:00, 209.71it/s]\n"
          ]
        },
        {
          "output_type": "stream",
          "name": "stdout",
          "text": [
            "\n",
            "Class-wise Accuracy:\n",
            "  Class 2: 81.70%\n",
            "  Class 0: 81.77%\n",
            "  Class 1: 88.81%\n",
            "Test Accuracy: 84.1%, Test Loss: 0.612635\n",
            "\n",
            "\n",
            "Class-wise Accuracy:\n",
            "  Class 2: 81.70%\n",
            "  Class 0: 81.77%\n",
            "  Class 1: 88.81%\n",
            "Train Accuracy: 83.67%, Average Train Loss: 0.414490, Test Accuracy: 84.06%, Average Test Loss: 0.612635\n",
            "\n",
            "Epoch 31/60: "
          ]
        },
        {
          "output_type": "stream",
          "name": "stderr",
          "text": [
            "100%|██████████| 2795/2795 [00:13<00:00, 205.69it/s]\n",
            "Batch 699/699, Loss: 0.349210: 100%|██████████| 699/699 [00:03<00:00, 209.93it/s]\n"
          ]
        },
        {
          "output_type": "stream",
          "name": "stdout",
          "text": [
            "\n",
            "Class-wise Accuracy:\n",
            "  Class 2: 86.53%\n",
            "  Class 0: 85.24%\n",
            "  Class 1: 90.73%\n",
            "Test Accuracy: 87.5%, Test Loss: 0.525585\n",
            "\n",
            "\n",
            "Class-wise Accuracy:\n",
            "  Class 2: 86.53%\n",
            "  Class 0: 85.24%\n",
            "  Class 1: 90.73%\n",
            "Train Accuracy: 83.26%, Average Train Loss: 0.423356, Test Accuracy: 87.48%, Average Test Loss: 0.525585\n",
            "\n",
            "Epoch 32/60: "
          ]
        },
        {
          "output_type": "stream",
          "name": "stderr",
          "text": [
            "100%|██████████| 2795/2795 [00:13<00:00, 205.77it/s]\n",
            "Batch 699/699, Loss: 0.583589: 100%|██████████| 699/699 [00:03<00:00, 207.47it/s]\n"
          ]
        },
        {
          "output_type": "stream",
          "name": "stdout",
          "text": [
            "\n",
            "Class-wise Accuracy:\n",
            "  Class 2: 70.43%\n",
            "  Class 0: 59.16%\n",
            "  Class 1: 86.13%\n",
            "Test Accuracy: 71.8%, Test Loss: 0.729942\n",
            "\n",
            "\n",
            "Class-wise Accuracy:\n",
            "  Class 2: 70.43%\n",
            "  Class 0: 59.16%\n",
            "  Class 1: 86.13%\n",
            "Train Accuracy: 83.75%, Average Train Loss: 0.415806, Test Accuracy: 71.83%, Average Test Loss: 0.729942\n",
            "\n",
            "Epoch 33/60: "
          ]
        },
        {
          "output_type": "stream",
          "name": "stderr",
          "text": [
            "100%|██████████| 2795/2795 [00:13<00:00, 206.00it/s]\n",
            "Batch 699/699, Loss: 0.364713: 100%|██████████| 699/699 [00:03<00:00, 211.57it/s]\n"
          ]
        },
        {
          "output_type": "stream",
          "name": "stdout",
          "text": [
            "\n",
            "Class-wise Accuracy:\n",
            "  Class 2: 85.33%\n",
            "  Class 0: 79.43%\n",
            "  Class 1: 89.29%\n",
            "Test Accuracy: 84.7%, Test Loss: 0.465073\n",
            "\n",
            "\n",
            "Class-wise Accuracy:\n",
            "  Class 2: 85.33%\n",
            "  Class 0: 79.43%\n",
            "  Class 1: 89.29%\n",
            "Train Accuracy: 83.38%, Average Train Loss: 0.427793, Test Accuracy: 84.66%, Average Test Loss: 0.465073\n",
            "\n",
            "Epoch 34/60: "
          ]
        },
        {
          "output_type": "stream",
          "name": "stderr",
          "text": [
            "100%|██████████| 2795/2795 [00:13<00:00, 205.24it/s]\n",
            "Batch 699/699, Loss: 0.544115: 100%|██████████| 699/699 [00:03<00:00, 211.19it/s]\n"
          ]
        },
        {
          "output_type": "stream",
          "name": "stdout",
          "text": [
            "\n",
            "Class-wise Accuracy:\n",
            "  Class 2: 88.13%\n",
            "  Class 0: 72.89%\n",
            "  Class 1: 85.29%\n",
            "Test Accuracy: 82.1%, Test Loss: 0.517926\n",
            "\n",
            "\n",
            "Class-wise Accuracy:\n",
            "  Class 2: 88.13%\n",
            "  Class 0: 72.89%\n",
            "  Class 1: 85.29%\n",
            "Train Accuracy: 83.81%, Average Train Loss: 0.412222, Test Accuracy: 82.11%, Average Test Loss: 0.517926\n",
            "\n",
            "Epoch 35/60: "
          ]
        },
        {
          "output_type": "stream",
          "name": "stderr",
          "text": [
            "100%|██████████| 2795/2795 [00:13<00:00, 205.26it/s]\n",
            "Batch 699/699, Loss: 0.415494: 100%|██████████| 699/699 [00:03<00:00, 213.90it/s]\n"
          ]
        },
        {
          "output_type": "stream",
          "name": "stdout",
          "text": [
            "\n",
            "Class-wise Accuracy:\n",
            "  Class 2: 83.38%\n",
            "  Class 0: 77.13%\n",
            "  Class 1: 90.53%\n",
            "Test Accuracy: 83.6%, Test Loss: 0.486358\n",
            "\n",
            "\n",
            "Class-wise Accuracy:\n",
            "  Class 2: 83.38%\n",
            "  Class 0: 77.13%\n",
            "  Class 1: 90.53%\n",
            "Train Accuracy: 83.64%, Average Train Loss: 0.424517, Test Accuracy: 83.64%, Average Test Loss: 0.486358\n",
            "\n",
            "Epoch 36/60: "
          ]
        },
        {
          "output_type": "stream",
          "name": "stderr",
          "text": [
            "100%|██████████| 2795/2795 [00:13<00:00, 205.26it/s]\n",
            "Batch 699/699, Loss: 0.327872: 100%|██████████| 699/699 [00:03<00:00, 212.21it/s]\n"
          ]
        },
        {
          "output_type": "stream",
          "name": "stdout",
          "text": [
            "\n",
            "Class-wise Accuracy:\n",
            "  Class 2: 85.72%\n",
            "  Class 0: 84.56%\n",
            "  Class 1: 85.93%\n",
            "Test Accuracy: 85.4%, Test Loss: 0.489102\n",
            "\n",
            "\n",
            "Class-wise Accuracy:\n",
            "  Class 2: 85.72%\n",
            "  Class 0: 84.56%\n",
            "  Class 1: 85.93%\n",
            "Train Accuracy: 84.50%, Average Train Loss: 0.396210, Test Accuracy: 85.40%, Average Test Loss: 0.489102\n",
            "\n",
            "Epoch 37/60: "
          ]
        },
        {
          "output_type": "stream",
          "name": "stderr",
          "text": [
            "100%|██████████| 2795/2795 [00:13<00:00, 205.97it/s]\n",
            "Batch 699/699, Loss: 0.514416: 100%|██████████| 699/699 [00:03<00:00, 209.01it/s]\n"
          ]
        },
        {
          "output_type": "stream",
          "name": "stdout",
          "text": [
            "\n",
            "Class-wise Accuracy:\n",
            "  Class 2: 64.24%\n",
            "  Class 0: 64.90%\n",
            "  Class 1: 87.49%\n",
            "Test Accuracy: 72.1%, Test Loss: 0.682822\n",
            "\n",
            "\n",
            "Class-wise Accuracy:\n",
            "  Class 2: 64.24%\n",
            "  Class 0: 64.90%\n",
            "  Class 1: 87.49%\n",
            "Train Accuracy: 84.24%, Average Train Loss: 0.399880, Test Accuracy: 72.11%, Average Test Loss: 0.682822\n",
            "\n",
            "Epoch 38/60: "
          ]
        },
        {
          "output_type": "stream",
          "name": "stderr",
          "text": [
            "100%|██████████| 2795/2795 [00:13<00:00, 205.42it/s]\n",
            "Batch 699/699, Loss: 0.355286: 100%|██████████| 699/699 [00:03<00:00, 213.92it/s]\n"
          ]
        },
        {
          "output_type": "stream",
          "name": "stdout",
          "text": [
            "\n",
            "Class-wise Accuracy:\n",
            "  Class 2: 82.82%\n",
            "  Class 0: 79.18%\n",
            "  Class 1: 88.00%\n",
            "Test Accuracy: 83.3%, Test Loss: 0.488748\n",
            "\n",
            "\n",
            "Class-wise Accuracy:\n",
            "  Class 2: 82.82%\n",
            "  Class 0: 79.18%\n",
            "  Class 1: 88.00%\n",
            "Train Accuracy: 84.45%, Average Train Loss: 0.391320, Test Accuracy: 83.31%, Average Test Loss: 0.488748\n",
            "\n",
            "Epoch 39/60: "
          ]
        },
        {
          "output_type": "stream",
          "name": "stderr",
          "text": [
            "100%|██████████| 2795/2795 [00:13<00:00, 206.10it/s]\n",
            "Batch 699/699, Loss: 0.310899: 100%|██████████| 699/699 [00:03<00:00, 207.95it/s]\n"
          ]
        },
        {
          "output_type": "stream",
          "name": "stdout",
          "text": [
            "\n",
            "Class-wise Accuracy:\n",
            "  Class 2: 85.74%\n",
            "  Class 0: 83.59%\n",
            "  Class 1: 88.46%\n",
            "Test Accuracy: 85.9%, Test Loss: 0.459760\n",
            "\n",
            "\n",
            "Class-wise Accuracy:\n",
            "  Class 2: 85.74%\n",
            "  Class 0: 83.59%\n",
            "  Class 1: 88.46%\n",
            "Train Accuracy: 84.15%, Average Train Loss: 0.403134, Test Accuracy: 85.92%, Average Test Loss: 0.459760\n",
            "\n",
            "Epoch 40/60: "
          ]
        },
        {
          "output_type": "stream",
          "name": "stderr",
          "text": [
            "100%|██████████| 2795/2795 [00:13<00:00, 205.40it/s]\n",
            "Batch 699/699, Loss: 0.643115: 100%|██████████| 699/699 [00:03<00:00, 201.83it/s]\n"
          ]
        },
        {
          "output_type": "stream",
          "name": "stdout",
          "text": [
            "\n",
            "Class-wise Accuracy:\n",
            "  Class 2: 47.81%\n",
            "  Class 0: 42.80%\n",
            "  Class 1: 87.03%\n",
            "Test Accuracy: 59.0%, Test Loss: 0.837347\n",
            "\n",
            "\n",
            "Class-wise Accuracy:\n",
            "  Class 2: 47.81%\n",
            "  Class 0: 42.80%\n",
            "  Class 1: 87.03%\n",
            "Train Accuracy: 84.89%, Average Train Loss: 0.389736, Test Accuracy: 59.03%, Average Test Loss: 0.837347\n",
            "\n",
            "Epoch 41/60: "
          ]
        },
        {
          "output_type": "stream",
          "name": "stderr",
          "text": [
            "100%|██████████| 2795/2795 [00:13<00:00, 204.85it/s]\n",
            "Batch 699/699, Loss: 0.837328: 100%|██████████| 699/699 [00:03<00:00, 205.09it/s]\n"
          ]
        },
        {
          "output_type": "stream",
          "name": "stdout",
          "text": [
            "\n",
            "Class-wise Accuracy:\n",
            "  Class 2: 49.77%\n",
            "  Class 0: 13.44%\n",
            "  Class 1: 89.98%\n",
            "Test Accuracy: 50.9%, Test Loss: 0.940987\n",
            "\n",
            "\n",
            "Class-wise Accuracy:\n",
            "  Class 2: 49.77%\n",
            "  Class 0: 13.44%\n",
            "  Class 1: 89.98%\n",
            "Train Accuracy: 84.77%, Average Train Loss: 0.391381, Test Accuracy: 50.87%, Average Test Loss: 0.940987\n",
            "\n",
            "Epoch 42/60: "
          ]
        },
        {
          "output_type": "stream",
          "name": "stderr",
          "text": [
            "100%|██████████| 2795/2795 [00:13<00:00, 205.41it/s]\n",
            "Batch 699/699, Loss: 0.601873: 100%|██████████| 699/699 [00:03<00:00, 203.86it/s]\n"
          ]
        },
        {
          "output_type": "stream",
          "name": "stdout",
          "text": [
            "\n",
            "Class-wise Accuracy:\n",
            "  Class 2: 60.46%\n",
            "  Class 0: 45.08%\n",
            "  Class 1: 87.53%\n",
            "Test Accuracy: 64.2%, Test Loss: 0.825608\n",
            "\n",
            "\n",
            "Class-wise Accuracy:\n",
            "  Class 2: 60.46%\n",
            "  Class 0: 45.08%\n",
            "  Class 1: 87.53%\n",
            "Train Accuracy: 85.03%, Average Train Loss: 0.381656, Test Accuracy: 64.23%, Average Test Loss: 0.825608\n",
            "\n",
            "Epoch 43/60: "
          ]
        },
        {
          "output_type": "stream",
          "name": "stderr",
          "text": [
            "100%|██████████| 2795/2795 [00:13<00:00, 206.20it/s]\n",
            "Batch 699/699, Loss: 0.359807: 100%|██████████| 699/699 [00:03<00:00, 208.67it/s]\n"
          ]
        },
        {
          "output_type": "stream",
          "name": "stdout",
          "text": [
            "\n",
            "Class-wise Accuracy:\n",
            "  Class 2: 80.84%\n",
            "  Class 0: 79.68%\n",
            "  Class 1: 92.03%\n",
            "Test Accuracy: 84.1%, Test Loss: 0.498408\n",
            "\n",
            "\n",
            "Class-wise Accuracy:\n",
            "  Class 2: 80.84%\n",
            "  Class 0: 79.68%\n",
            "  Class 1: 92.03%\n",
            "Train Accuracy: 84.97%, Average Train Loss: 0.383459, Test Accuracy: 84.13%, Average Test Loss: 0.498408\n",
            "\n",
            "Epoch 44/60: "
          ]
        },
        {
          "output_type": "stream",
          "name": "stderr",
          "text": [
            "100%|██████████| 2795/2795 [00:13<00:00, 205.40it/s]\n",
            "Batch 699/699, Loss: 0.315980: 100%|██████████| 699/699 [00:03<00:00, 214.31it/s]\n"
          ]
        },
        {
          "output_type": "stream",
          "name": "stdout",
          "text": [
            "\n",
            "Class-wise Accuracy:\n",
            "  Class 2: 84.12%\n",
            "  Class 0: 80.78%\n",
            "  Class 1: 90.07%\n",
            "Test Accuracy: 85.0%, Test Loss: 0.494238\n",
            "\n",
            "\n",
            "Class-wise Accuracy:\n",
            "  Class 2: 84.12%\n",
            "  Class 0: 80.78%\n",
            "  Class 1: 90.07%\n",
            "Train Accuracy: 85.21%, Average Train Loss: 0.381149, Test Accuracy: 84.96%, Average Test Loss: 0.494238\n",
            "\n",
            "Epoch 45/60: "
          ]
        },
        {
          "output_type": "stream",
          "name": "stderr",
          "text": [
            "100%|██████████| 2795/2795 [00:13<00:00, 205.17it/s]\n",
            "Batch 699/699, Loss: 0.313194: 100%|██████████| 699/699 [00:03<00:00, 209.98it/s]\n"
          ]
        },
        {
          "output_type": "stream",
          "name": "stdout",
          "text": [
            "\n",
            "Class-wise Accuracy:\n",
            "  Class 2: 83.29%\n",
            "  Class 0: 83.91%\n",
            "  Class 1: 91.17%\n",
            "Test Accuracy: 86.1%, Test Loss: 0.467927\n",
            "\n",
            "\n",
            "Class-wise Accuracy:\n",
            "  Class 2: 83.29%\n",
            "  Class 0: 83.91%\n",
            "  Class 1: 91.17%\n",
            "Train Accuracy: 85.30%, Average Train Loss: 0.377583, Test Accuracy: 86.09%, Average Test Loss: 0.467927\n",
            "\n",
            "Epoch 46/60: "
          ]
        },
        {
          "output_type": "stream",
          "name": "stderr",
          "text": [
            "100%|██████████| 2795/2795 [00:13<00:00, 206.06it/s]\n",
            "Batch 699/699, Loss: 0.261631: 100%|██████████| 699/699 [00:03<00:00, 214.39it/s]\n"
          ]
        },
        {
          "output_type": "stream",
          "name": "stdout",
          "text": [
            "\n",
            "Class-wise Accuracy:\n",
            "  Class 2: 89.56%\n",
            "  Class 0: 85.77%\n",
            "  Class 1: 87.10%\n",
            "Test Accuracy: 87.5%, Test Loss: 0.402994\n",
            "\n",
            "\n",
            "Class-wise Accuracy:\n",
            "  Class 2: 89.56%\n",
            "  Class 0: 85.77%\n",
            "  Class 1: 87.10%\n",
            "Train Accuracy: 85.30%, Average Train Loss: 0.377089, Test Accuracy: 87.49%, Average Test Loss: 0.402994\n",
            "\n",
            "Epoch 47/60: "
          ]
        },
        {
          "output_type": "stream",
          "name": "stderr",
          "text": [
            "100%|██████████| 2795/2795 [00:13<00:00, 205.88it/s]\n",
            "Batch 699/699, Loss: 0.283763: 100%|██████████| 699/699 [00:03<00:00, 213.51it/s]\n"
          ]
        },
        {
          "output_type": "stream",
          "name": "stdout",
          "text": [
            "\n",
            "Class-wise Accuracy:\n",
            "  Class 2: 87.62%\n",
            "  Class 0: 84.45%\n",
            "  Class 1: 88.54%\n",
            "Test Accuracy: 86.9%, Test Loss: 0.453093\n",
            "\n",
            "\n",
            "Class-wise Accuracy:\n",
            "  Class 2: 87.62%\n",
            "  Class 0: 84.45%\n",
            "  Class 1: 88.54%\n",
            "Train Accuracy: 85.55%, Average Train Loss: 0.373644, Test Accuracy: 86.87%, Average Test Loss: 0.453093\n",
            "\n",
            "Epoch 48/60: "
          ]
        },
        {
          "output_type": "stream",
          "name": "stderr",
          "text": [
            "100%|██████████| 2795/2795 [00:13<00:00, 205.20it/s]\n",
            "Batch 699/699, Loss: 0.307198: 100%|██████████| 699/699 [00:03<00:00, 211.34it/s]\n"
          ]
        },
        {
          "output_type": "stream",
          "name": "stdout",
          "text": [
            "\n",
            "Class-wise Accuracy:\n",
            "  Class 2: 81.50%\n",
            "  Class 0: 83.94%\n",
            "  Class 1: 93.05%\n",
            "Test Accuracy: 86.1%, Test Loss: 0.464829\n",
            "\n",
            "\n",
            "Class-wise Accuracy:\n",
            "  Class 2: 81.50%\n",
            "  Class 0: 83.94%\n",
            "  Class 1: 93.05%\n",
            "Train Accuracy: 85.70%, Average Train Loss: 0.372458, Test Accuracy: 86.11%, Average Test Loss: 0.464829\n",
            "\n",
            "Epoch 49/60: "
          ]
        },
        {
          "output_type": "stream",
          "name": "stderr",
          "text": [
            "100%|██████████| 2795/2795 [00:13<00:00, 205.90it/s]\n",
            "Batch 699/699, Loss: 0.255541: 100%|██████████| 699/699 [00:03<00:00, 214.21it/s]\n"
          ]
        },
        {
          "output_type": "stream",
          "name": "stdout",
          "text": [
            "\n",
            "Class-wise Accuracy:\n",
            "  Class 2: 87.90%\n",
            "  Class 0: 87.17%\n",
            "  Class 1: 89.74%\n",
            "Test Accuracy: 88.3%, Test Loss: 0.447424\n",
            "\n",
            "\n",
            "Class-wise Accuracy:\n",
            "  Class 2: 87.90%\n",
            "  Class 0: 87.17%\n",
            "  Class 1: 89.74%\n",
            "Train Accuracy: 85.49%, Average Train Loss: 0.374569, Test Accuracy: 88.26%, Average Test Loss: 0.447424\n",
            "\n",
            "Epoch 50/60: "
          ]
        },
        {
          "output_type": "stream",
          "name": "stderr",
          "text": [
            "100%|██████████| 2795/2795 [00:13<00:00, 205.96it/s]\n",
            "Batch 699/699, Loss: 0.267355: 100%|██████████| 699/699 [00:03<00:00, 209.32it/s]\n"
          ]
        },
        {
          "output_type": "stream",
          "name": "stdout",
          "text": [
            "\n",
            "Class-wise Accuracy:\n",
            "  Class 2: 88.28%\n",
            "  Class 0: 87.00%\n",
            "  Class 1: 87.57%\n",
            "Test Accuracy: 87.6%, Test Loss: 0.400329\n",
            "\n",
            "\n",
            "Class-wise Accuracy:\n",
            "  Class 2: 88.28%\n",
            "  Class 0: 87.00%\n",
            "  Class 1: 87.57%\n",
            "Train Accuracy: 85.74%, Average Train Loss: 0.365162, Test Accuracy: 87.62%, Average Test Loss: 0.400329\n",
            "\n",
            "Epoch 51/60: "
          ]
        },
        {
          "output_type": "stream",
          "name": "stderr",
          "text": [
            "100%|██████████| 2795/2795 [00:13<00:00, 205.45it/s]\n",
            "Batch 699/699, Loss: 0.299707: 100%|██████████| 699/699 [00:03<00:00, 215.27it/s]\n"
          ]
        },
        {
          "output_type": "stream",
          "name": "stdout",
          "text": [
            "\n",
            "Class-wise Accuracy:\n",
            "  Class 2: 83.08%\n",
            "  Class 0: 83.74%\n",
            "  Class 1: 92.79%\n",
            "Test Accuracy: 86.5%, Test Loss: 0.437207\n",
            "\n",
            "\n",
            "Class-wise Accuracy:\n",
            "  Class 2: 83.08%\n",
            "  Class 0: 83.74%\n",
            "  Class 1: 92.79%\n",
            "Train Accuracy: 85.71%, Average Train Loss: 0.368086, Test Accuracy: 86.49%, Average Test Loss: 0.437207\n",
            "\n",
            "Epoch 52/60: "
          ]
        },
        {
          "output_type": "stream",
          "name": "stderr",
          "text": [
            "100%|██████████| 2795/2795 [00:13<00:00, 205.73it/s]\n",
            "Batch 699/699, Loss: 0.244486: 100%|██████████| 699/699 [00:03<00:00, 214.49it/s]\n"
          ]
        },
        {
          "output_type": "stream",
          "name": "stdout",
          "text": [
            "\n",
            "Class-wise Accuracy:\n",
            "  Class 2: 90.44%\n",
            "  Class 0: 88.77%\n",
            "  Class 1: 90.77%\n",
            "Test Accuracy: 90.0%, Test Loss: 0.416794\n",
            "\n",
            "\n",
            "Class-wise Accuracy:\n",
            "  Class 2: 90.44%\n",
            "  Class 0: 88.77%\n",
            "  Class 1: 90.77%\n",
            "Train Accuracy: 85.51%, Average Train Loss: 0.368968, Test Accuracy: 89.99%, Average Test Loss: 0.416794\n",
            "\n",
            "Epoch 53/60: "
          ]
        },
        {
          "output_type": "stream",
          "name": "stderr",
          "text": [
            "100%|██████████| 2795/2795 [00:13<00:00, 205.10it/s]\n",
            "Batch 699/699, Loss: 0.415386: 100%|██████████| 699/699 [00:03<00:00, 207.36it/s]\n"
          ]
        },
        {
          "output_type": "stream",
          "name": "stdout",
          "text": [
            "\n",
            "Class-wise Accuracy:\n",
            "  Class 2: 81.10%\n",
            "  Class 0: 69.39%\n",
            "  Class 1: 87.98%\n",
            "Test Accuracy: 79.5%, Test Loss: 0.560116\n",
            "\n",
            "\n",
            "Class-wise Accuracy:\n",
            "  Class 2: 81.10%\n",
            "  Class 0: 69.39%\n",
            "  Class 1: 87.98%\n",
            "Train Accuracy: 85.73%, Average Train Loss: 0.365227, Test Accuracy: 79.46%, Average Test Loss: 0.560116\n",
            "\n",
            "Epoch 54/60: "
          ]
        },
        {
          "output_type": "stream",
          "name": "stderr",
          "text": [
            "100%|██████████| 2795/2795 [00:13<00:00, 205.28it/s]\n",
            "Batch 699/699, Loss: 0.258596: 100%|██████████| 699/699 [00:03<00:00, 211.06it/s]\n"
          ]
        },
        {
          "output_type": "stream",
          "name": "stdout",
          "text": [
            "\n",
            "Class-wise Accuracy:\n",
            "  Class 2: 90.50%\n",
            "  Class 0: 86.68%\n",
            "  Class 1: 85.83%\n",
            "Test Accuracy: 87.7%, Test Loss: 0.400426\n",
            "\n",
            "\n",
            "Class-wise Accuracy:\n",
            "  Class 2: 90.50%\n",
            "  Class 0: 86.68%\n",
            "  Class 1: 85.83%\n",
            "Train Accuracy: 85.89%, Average Train Loss: 0.365140, Test Accuracy: 87.69%, Average Test Loss: 0.400426\n",
            "\n",
            "Epoch 55/60: "
          ]
        },
        {
          "output_type": "stream",
          "name": "stderr",
          "text": [
            "100%|██████████| 2795/2795 [00:13<00:00, 205.40it/s]\n",
            "Batch 699/699, Loss: 0.263855: 100%|██████████| 699/699 [00:03<00:00, 212.49it/s]\n"
          ]
        },
        {
          "output_type": "stream",
          "name": "stdout",
          "text": [
            "\n",
            "Class-wise Accuracy:\n",
            "  Class 2: 88.45%\n",
            "  Class 0: 86.80%\n",
            "  Class 1: 88.13%\n",
            "Test Accuracy: 87.8%, Test Loss: 0.391629\n",
            "\n",
            "\n",
            "Class-wise Accuracy:\n",
            "  Class 2: 88.45%\n",
            "  Class 0: 86.80%\n",
            "  Class 1: 88.13%\n",
            "Train Accuracy: 85.98%, Average Train Loss: 0.360724, Test Accuracy: 87.80%, Average Test Loss: 0.391629\n",
            "\n",
            "Epoch 56/60: "
          ]
        },
        {
          "output_type": "stream",
          "name": "stderr",
          "text": [
            "100%|██████████| 2795/2795 [00:13<00:00, 205.26it/s]\n",
            "Batch 699/699, Loss: 0.357128: 100%|██████████| 699/699 [00:03<00:00, 211.81it/s]\n"
          ]
        },
        {
          "output_type": "stream",
          "name": "stdout",
          "text": [
            "\n",
            "Class-wise Accuracy:\n",
            "  Class 2: 84.77%\n",
            "  Class 0: 74.91%\n",
            "  Class 1: 81.52%\n",
            "Test Accuracy: 80.4%, Test Loss: 0.493127\n",
            "\n",
            "\n",
            "Class-wise Accuracy:\n",
            "  Class 2: 84.77%\n",
            "  Class 0: 74.91%\n",
            "  Class 1: 81.52%\n",
            "Train Accuracy: 85.93%, Average Train Loss: 0.358829, Test Accuracy: 80.41%, Average Test Loss: 0.493127\n",
            "\n",
            "Epoch 57/60: "
          ]
        },
        {
          "output_type": "stream",
          "name": "stderr",
          "text": [
            "100%|██████████| 2795/2795 [00:13<00:00, 204.13it/s]\n",
            "Batch 699/699, Loss: 0.639522: 100%|██████████| 699/699 [00:03<00:00, 210.22it/s]\n"
          ]
        },
        {
          "output_type": "stream",
          "name": "stdout",
          "text": [
            "\n",
            "Class-wise Accuracy:\n",
            "  Class 2: 56.16%\n",
            "  Class 0: 41.49%\n",
            "  Class 1: 81.89%\n",
            "Test Accuracy: 59.7%, Test Loss: 0.850417\n",
            "\n",
            "\n",
            "Class-wise Accuracy:\n",
            "  Class 2: 56.16%\n",
            "  Class 0: 41.49%\n",
            "  Class 1: 81.89%\n",
            "Train Accuracy: 85.91%, Average Train Loss: 0.362693, Test Accuracy: 59.73%, Average Test Loss: 0.850417\n",
            "\n",
            "Epoch 58/60: "
          ]
        },
        {
          "output_type": "stream",
          "name": "stderr",
          "text": [
            "100%|██████████| 2795/2795 [00:13<00:00, 205.54it/s]\n",
            "Batch 699/699, Loss: 0.289309: 100%|██████████| 699/699 [00:03<00:00, 208.54it/s]\n"
          ]
        },
        {
          "output_type": "stream",
          "name": "stdout",
          "text": [
            "\n",
            "Class-wise Accuracy:\n",
            "  Class 2: 85.41%\n",
            "  Class 0: 84.14%\n",
            "  Class 1: 92.01%\n",
            "Test Accuracy: 87.2%, Test Loss: 0.407990\n",
            "\n",
            "\n",
            "Class-wise Accuracy:\n",
            "  Class 2: 85.41%\n",
            "  Class 0: 84.14%\n",
            "  Class 1: 92.01%\n",
            "Train Accuracy: 86.02%, Average Train Loss: 0.358834, Test Accuracy: 87.16%, Average Test Loss: 0.407990\n",
            "\n",
            "Epoch 59/60: "
          ]
        },
        {
          "output_type": "stream",
          "name": "stderr",
          "text": [
            "100%|██████████| 2795/2795 [00:13<00:00, 205.28it/s]\n",
            "Batch 699/699, Loss: 0.282419: 100%|██████████| 699/699 [00:03<00:00, 214.95it/s]\n"
          ]
        },
        {
          "output_type": "stream",
          "name": "stdout",
          "text": [
            "\n",
            "Class-wise Accuracy:\n",
            "  Class 2: 84.40%\n",
            "  Class 0: 86.57%\n",
            "  Class 1: 93.55%\n",
            "Test Accuracy: 88.1%, Test Loss: 0.438603\n",
            "\n",
            "\n",
            "Class-wise Accuracy:\n",
            "  Class 2: 84.40%\n",
            "  Class 0: 86.57%\n",
            "  Class 1: 93.55%\n",
            "Train Accuracy: 86.05%, Average Train Loss: 0.358272, Test Accuracy: 88.13%, Average Test Loss: 0.438603\n",
            "\n",
            "Epoch 60/60: "
          ]
        },
        {
          "output_type": "stream",
          "name": "stderr",
          "text": [
            "100%|██████████| 2795/2795 [00:13<00:00, 205.90it/s]\n",
            "Batch 699/699, Loss: 0.283300: 100%|██████████| 699/699 [00:03<00:00, 215.91it/s]\n"
          ]
        },
        {
          "output_type": "stream",
          "name": "stdout",
          "text": [
            "\n",
            "Class-wise Accuracy:\n",
            "  Class 2: 90.15%\n",
            "  Class 0: 86.69%\n",
            "  Class 1: 90.39%\n",
            "Test Accuracy: 89.1%, Test Loss: 0.423637\n",
            "\n",
            "\n",
            "Class-wise Accuracy:\n",
            "  Class 2: 90.15%\n",
            "  Class 0: 86.69%\n",
            "  Class 1: 90.39%\n",
            "Train Accuracy: 86.10%, Average Train Loss: 0.357143, Test Accuracy: 89.08%, Average Test Loss: 0.423637\n",
            "\n"
          ]
        },
        {
          "output_type": "display_data",
          "data": {
            "text/plain": [
              "<IPython.core.display.HTML object>"
            ],
            "text/html": []
          },
          "metadata": {}
        },
        {
          "output_type": "display_data",
          "data": {
            "text/plain": [
              "<IPython.core.display.HTML object>"
            ],
            "text/html": [
              "<br>    <style><br>        .wandb-row {<br>            display: flex;<br>            flex-direction: row;<br>            flex-wrap: wrap;<br>            justify-content: flex-start;<br>            width: 100%;<br>        }<br>        .wandb-col {<br>            display: flex;<br>            flex-direction: column;<br>            flex-basis: 100%;<br>            flex: 1;<br>            padding: 10px;<br>        }<br>    </style><br><div class=\"wandb-row\"><div class=\"wandb-col\"><h3>Run history:</h3><br/><table class=\"wandb\"><tr><td>class_0_accuracy</td><td>▂▁▄▃▄▄▁▅▅▄▄▇▅▅▇▅█▇█▇█▆▇▇▇▆▇█▄▂▇▇████▆█▄█</td></tr><tr><td>class_1_accuracy</td><td>███▇█▄▆▄▇▄▅▅▆▂▃▅▄▄▄▄▄▄▅▃▂▄▄▃▃▅▅▆▄▃▆▄▃▄▁▅</td></tr><tr><td>class_2_accuracy</td><td>▂▁▁▂▃▄▅▄▃▄▆▅▅▆▅▇▇▇▇█▆▇█▇▇▇▃▄▅▇████▇█▇▄▇█</td></tr><tr><td>epoch</td><td>▁▁▁▁▁▂▂▂▂▃▃▃▃▃▃▄▄▄▄▄▅▅▅▅▅▆▆▆▆▆▇▇▇▇▇▇████</td></tr><tr><td>learning_rate</td><td>███████▇▇▇▇▇▇▆▆▆▆▅▅▅▄▄▄▄▃▃▃▂▂▂▂▂▂▁▁▁▁▁▁▁</td></tr><tr><td>test_accuracy</td><td>▂▁▁▄▂▁▃▅▆▄▅▅▆▅▅▇▇▇▇▇▅▇▇▇▅▇▂▄▇▇▇██▇██▇▄██</td></tr><tr><td>test_loss</td><td>███▆▇▇▆█▇▅▅▆▅▅▅▃▄▃▂▃▃▂▄▂▂▂▄▂▅▆▂▂▂▂▁▁▁▁▂▁</td></tr><tr><td>train_accuracy</td><td>▁▂▄▄▅▆▆▆▆▆▇▇▇▇▇▇▇▇▇▇▇███████████████████</td></tr><tr><td>train_loss</td><td>█▇▆▆▅▅▅▄▄▃▃▃▃▃▂▂▂▂▂▂▂▂▂▁▂▂▁▁▁▁▁▁▁▁▁▁▁▁▁▁</td></tr></table><br/></div><div class=\"wandb-col\"><h3>Run summary:</h3><br/><table class=\"wandb\"><tr><td>class_0_accuracy</td><td>86.69171</td></tr><tr><td>class_1_accuracy</td><td>90.39194</td></tr><tr><td>class_2_accuracy</td><td>90.147</td></tr><tr><td>epoch</td><td>60</td></tr><tr><td>learning_rate</td><td>0.0</td></tr><tr><td>test_accuracy</td><td>89.07529</td></tr><tr><td>test_loss</td><td>0.42364</td></tr><tr><td>train_accuracy</td><td>86.09871</td></tr><tr><td>train_loss</td><td>0.35714</td></tr></table><br/></div></div>"
            ]
          },
          "metadata": {}
        },
        {
          "output_type": "display_data",
          "data": {
            "text/plain": [
              "<IPython.core.display.HTML object>"
            ],
            "text/html": [
              " View run <strong style=\"color:#cdcd00\">ShallowAttentionNet 100300</strong> at: <a href='https://wandb.ai/philinthesky/Master%20Thesis/runs/i449rnoa' target=\"_blank\">https://wandb.ai/philinthesky/Master%20Thesis/runs/i449rnoa</a><br> View project at: <a href='https://wandb.ai/philinthesky/Master%20Thesis' target=\"_blank\">https://wandb.ai/philinthesky/Master%20Thesis</a><br>Synced 5 W&B file(s), 0 media file(s), 0 artifact file(s) and 0 other file(s)"
            ]
          },
          "metadata": {}
        },
        {
          "output_type": "display_data",
          "data": {
            "text/plain": [
              "<IPython.core.display.HTML object>"
            ],
            "text/html": [
              "Find logs at: <code>./wandb/run-20250330_145519-i449rnoa/logs</code>"
            ]
          },
          "metadata": {}
        },
        {
          "output_type": "stream",
          "name": "stdout",
          "text": [
            "ShallowAttentionNet(\n",
            "  (temporal): Conv2d(1, 10, kernel_size=(1, 25), stride=(1, 1))\n",
            "  (spatial_att): SpatialAttention(\n",
            "    (conv): Conv2d(10, 10, kernel_size=(1, 1), stride=(1, 1), bias=False)\n",
            "    (pool): MaxPool2d(kernel_size=(1, 5), stride=(1, 5), padding=0, dilation=1, ceil_mode=False)\n",
            "  )\n",
            "  (batch_norm): BatchNorm2d(10, eps=1e-05, momentum=0.1, affine=True, track_running_stats=True)\n",
            "  (pool): AvgPool2d(kernel_size=(1, 20), stride=(1, 20), padding=0)\n",
            "  (dropout): Dropout(p=0.5, inplace=False)\n",
            "  (fc): Linear(in_features=960, out_features=3, bias=True)\n",
            ")\n"
          ]
        },
        {
          "output_type": "display_data",
          "data": {
            "text/plain": [
              "<IPython.core.display.HTML object>"
            ],
            "text/html": [
              "Tracking run with wandb version 0.19.8"
            ]
          },
          "metadata": {}
        },
        {
          "output_type": "display_data",
          "data": {
            "text/plain": [
              "<IPython.core.display.HTML object>"
            ],
            "text/html": [
              "Run data is saved locally in <code>/content/wandb/run-20250330_151247-k378n83c</code>"
            ]
          },
          "metadata": {}
        },
        {
          "output_type": "display_data",
          "data": {
            "text/plain": [
              "<IPython.core.display.HTML object>"
            ],
            "text/html": [
              "Syncing run <strong><a href='https://wandb.ai/philinthesky/Master%20Thesis/runs/k378n83c' target=\"_blank\">ShallowAttentionNet 47456655</a></strong> to <a href='https://wandb.ai/philinthesky/Master%20Thesis' target=\"_blank\">Weights & Biases</a> (<a href='https://wandb.me/developer-guide' target=\"_blank\">docs</a>)<br>"
            ]
          },
          "metadata": {}
        },
        {
          "output_type": "display_data",
          "data": {
            "text/plain": [
              "<IPython.core.display.HTML object>"
            ],
            "text/html": [
              " View project at <a href='https://wandb.ai/philinthesky/Master%20Thesis' target=\"_blank\">https://wandb.ai/philinthesky/Master%20Thesis</a>"
            ]
          },
          "metadata": {}
        },
        {
          "output_type": "display_data",
          "data": {
            "text/plain": [
              "<IPython.core.display.HTML object>"
            ],
            "text/html": [
              " View run at <a href='https://wandb.ai/philinthesky/Master%20Thesis/runs/k378n83c' target=\"_blank\">https://wandb.ai/philinthesky/Master%20Thesis/runs/k378n83c</a>"
            ]
          },
          "metadata": {}
        },
        {
          "output_type": "stream",
          "name": "stdout",
          "text": [
            "Epoch 1/60: "
          ]
        },
        {
          "output_type": "stream",
          "name": "stderr",
          "text": [
            "100%|██████████| 2795/2795 [00:13<00:00, 205.07it/s]\n",
            "Batch 699/699, Loss: 1.021024: 100%|██████████| 699/699 [00:03<00:00, 207.66it/s]\n"
          ]
        },
        {
          "output_type": "stream",
          "name": "stdout",
          "text": [
            "\n",
            "Class-wise Accuracy:\n",
            "  Class 2: 52.51%\n",
            "  Class 0: 13.35%\n",
            "  Class 1: 77.60%\n",
            "Test Accuracy: 47.7%, Test Loss: 1.153636\n",
            "\n",
            "\n",
            "Class-wise Accuracy:\n",
            "  Class 2: 52.51%\n",
            "  Class 0: 13.35%\n",
            "  Class 1: 77.60%\n",
            "Train Accuracy: 54.52%, Average Train Loss: 0.976650, Test Accuracy: 47.70%, Average Test Loss: 1.153636\n",
            "\n",
            "Epoch 2/60: "
          ]
        },
        {
          "output_type": "stream",
          "name": "stderr",
          "text": [
            "100%|██████████| 2795/2795 [00:13<00:00, 203.39it/s]\n",
            "Batch 699/699, Loss: 1.130038: 100%|██████████| 699/699 [00:03<00:00, 216.56it/s]\n"
          ]
        },
        {
          "output_type": "stream",
          "name": "stdout",
          "text": [
            "\n",
            "Class-wise Accuracy:\n",
            "  Class 2: 34.80%\n",
            "  Class 0: 3.39%\n",
            "  Class 1: 72.97%\n",
            "Test Accuracy: 36.9%, Test Loss: 1.153621\n",
            "\n",
            "\n",
            "Class-wise Accuracy:\n",
            "  Class 2: 34.80%\n",
            "  Class 0: 3.39%\n",
            "  Class 1: 72.97%\n",
            "Train Accuracy: 60.08%, Average Train Loss: 0.866837, Test Accuracy: 36.88%, Average Test Loss: 1.153621\n",
            "\n",
            "Epoch 3/60: "
          ]
        },
        {
          "output_type": "stream",
          "name": "stderr",
          "text": [
            "100%|██████████| 2795/2795 [00:13<00:00, 205.89it/s]\n",
            "Batch 699/699, Loss: 1.112466: 100%|██████████| 699/699 [00:03<00:00, 211.30it/s]\n"
          ]
        },
        {
          "output_type": "stream",
          "name": "stdout",
          "text": [
            "\n",
            "Class-wise Accuracy:\n",
            "  Class 2: 40.64%\n",
            "  Class 0: 4.61%\n",
            "  Class 1: 79.16%\n",
            "Test Accuracy: 41.3%, Test Loss: 1.091118\n",
            "\n",
            "\n",
            "Class-wise Accuracy:\n",
            "  Class 2: 40.64%\n",
            "  Class 0: 4.61%\n",
            "  Class 1: 79.16%\n",
            "Train Accuracy: 61.75%, Average Train Loss: 0.833759, Test Accuracy: 41.29%, Average Test Loss: 1.091118\n",
            "\n",
            "Epoch 4/60: "
          ]
        },
        {
          "output_type": "stream",
          "name": "stderr",
          "text": [
            "100%|██████████| 2795/2795 [00:13<00:00, 206.89it/s]\n",
            "Batch 699/699, Loss: 1.029915: 100%|██████████| 699/699 [00:03<00:00, 212.71it/s]\n"
          ]
        },
        {
          "output_type": "stream",
          "name": "stdout",
          "text": [
            "\n",
            "Class-wise Accuracy:\n",
            "  Class 2: 52.64%\n",
            "  Class 0: 9.93%\n",
            "  Class 1: 89.96%\n",
            "Test Accuracy: 50.7%, Test Loss: 1.092698\n",
            "\n",
            "\n",
            "Class-wise Accuracy:\n",
            "  Class 2: 52.64%\n",
            "  Class 0: 9.93%\n",
            "  Class 1: 89.96%\n",
            "Train Accuracy: 65.08%, Average Train Loss: 0.794062, Test Accuracy: 50.66%, Average Test Loss: 1.092698\n",
            "\n",
            "Epoch 5/60: "
          ]
        },
        {
          "output_type": "stream",
          "name": "stderr",
          "text": [
            "100%|██████████| 2795/2795 [00:13<00:00, 207.35it/s]\n",
            "Batch 699/699, Loss: 0.931685: 100%|██████████| 699/699 [00:03<00:00, 215.85it/s]\n"
          ]
        },
        {
          "output_type": "stream",
          "name": "stdout",
          "text": [
            "\n",
            "Class-wise Accuracy:\n",
            "  Class 2: 52.43%\n",
            "  Class 0: 44.15%\n",
            "  Class 1: 88.91%\n",
            "Test Accuracy: 61.7%, Test Loss: 1.164008\n",
            "\n",
            "\n",
            "Class-wise Accuracy:\n",
            "  Class 2: 52.43%\n",
            "  Class 0: 44.15%\n",
            "  Class 1: 88.91%\n",
            "Train Accuracy: 66.75%, Average Train Loss: 0.766465, Test Accuracy: 61.66%, Average Test Loss: 1.164008\n",
            "\n",
            "Epoch 6/60: "
          ]
        },
        {
          "output_type": "stream",
          "name": "stderr",
          "text": [
            "100%|██████████| 2795/2795 [00:13<00:00, 207.12it/s]\n",
            "Batch 699/699, Loss: 1.015879: 100%|██████████| 699/699 [00:03<00:00, 210.81it/s]\n"
          ]
        },
        {
          "output_type": "stream",
          "name": "stdout",
          "text": [
            "\n",
            "Class-wise Accuracy:\n",
            "  Class 2: 31.31%\n",
            "  Class 0: 14.10%\n",
            "  Class 1: 98.63%\n",
            "Test Accuracy: 47.7%, Test Loss: 1.153613\n",
            "\n",
            "\n",
            "Class-wise Accuracy:\n",
            "  Class 2: 31.31%\n",
            "  Class 0: 14.10%\n",
            "  Class 1: 98.63%\n",
            "Train Accuracy: 66.87%, Average Train Loss: 0.761154, Test Accuracy: 47.70%, Average Test Loss: 1.153613\n",
            "\n",
            "Epoch 7/60: "
          ]
        },
        {
          "output_type": "stream",
          "name": "stderr",
          "text": [
            "100%|██████████| 2795/2795 [00:13<00:00, 206.09it/s]\n",
            "Batch 699/699, Loss: 1.076508: 100%|██████████| 699/699 [00:03<00:00, 214.79it/s]\n"
          ]
        },
        {
          "output_type": "stream",
          "name": "stdout",
          "text": [
            "\n",
            "Class-wise Accuracy:\n",
            "  Class 2: 27.35%\n",
            "  Class 0: 7.24%\n",
            "  Class 1: 94.53%\n",
            "Test Accuracy: 42.7%, Test Loss: 1.132281\n",
            "\n",
            "\n",
            "Class-wise Accuracy:\n",
            "  Class 2: 27.35%\n",
            "  Class 0: 7.24%\n",
            "  Class 1: 94.53%\n",
            "Train Accuracy: 66.84%, Average Train Loss: 0.754209, Test Accuracy: 42.73%, Average Test Loss: 1.132281\n",
            "\n",
            "Epoch 8/60: "
          ]
        },
        {
          "output_type": "stream",
          "name": "stderr",
          "text": [
            "100%|██████████| 2795/2795 [00:13<00:00, 206.41it/s]\n",
            "Batch 699/699, Loss: 1.052197: 100%|██████████| 699/699 [00:03<00:00, 215.47it/s]\n"
          ]
        },
        {
          "output_type": "stream",
          "name": "stdout",
          "text": [
            "\n",
            "Class-wise Accuracy:\n",
            "  Class 2: 36.51%\n",
            "  Class 0: 1.40%\n",
            "  Class 1: 97.18%\n",
            "Test Accuracy: 44.7%, Test Loss: 1.119905\n",
            "\n",
            "\n",
            "Class-wise Accuracy:\n",
            "  Class 2: 36.51%\n",
            "  Class 0: 1.40%\n",
            "  Class 1: 97.18%\n",
            "Train Accuracy: 68.05%, Average Train Loss: 0.742308, Test Accuracy: 44.75%, Average Test Loss: 1.119905\n",
            "\n",
            "Epoch 9/60: "
          ]
        },
        {
          "output_type": "stream",
          "name": "stderr",
          "text": [
            "100%|██████████| 2795/2795 [00:13<00:00, 207.00it/s]\n",
            "Batch 699/699, Loss: 1.030155: 100%|██████████| 699/699 [00:03<00:00, 213.39it/s]\n"
          ]
        },
        {
          "output_type": "stream",
          "name": "stdout",
          "text": [
            "\n",
            "Class-wise Accuracy:\n",
            "  Class 2: 22.42%\n",
            "  Class 0: 10.26%\n",
            "  Class 1: 96.52%\n",
            "Test Accuracy: 42.7%, Test Loss: 1.103877\n",
            "\n",
            "\n",
            "Class-wise Accuracy:\n",
            "  Class 2: 22.42%\n",
            "  Class 0: 10.26%\n",
            "  Class 1: 96.52%\n",
            "Train Accuracy: 69.12%, Average Train Loss: 0.724984, Test Accuracy: 42.72%, Average Test Loss: 1.103877\n",
            "\n",
            "Epoch 10/60: "
          ]
        },
        {
          "output_type": "stream",
          "name": "stderr",
          "text": [
            "100%|██████████| 2795/2795 [00:13<00:00, 206.94it/s]\n",
            "Batch 699/699, Loss: 1.085532: 100%|██████████| 699/699 [00:03<00:00, 215.18it/s]\n"
          ]
        },
        {
          "output_type": "stream",
          "name": "stdout",
          "text": [
            "\n",
            "Class-wise Accuracy:\n",
            "  Class 2: 28.09%\n",
            "  Class 0: 4.25%\n",
            "  Class 1: 93.84%\n",
            "Test Accuracy: 41.8%, Test Loss: 1.133864\n",
            "\n",
            "\n",
            "Class-wise Accuracy:\n",
            "  Class 2: 28.09%\n",
            "  Class 0: 4.25%\n",
            "  Class 1: 93.84%\n",
            "Train Accuracy: 69.28%, Average Train Loss: 0.716514, Test Accuracy: 41.75%, Average Test Loss: 1.133864\n",
            "\n",
            "Epoch 11/60: "
          ]
        },
        {
          "output_type": "stream",
          "name": "stderr",
          "text": [
            "100%|██████████| 2795/2795 [00:13<00:00, 206.49it/s]\n",
            "Batch 699/699, Loss: 1.081486: 100%|██████████| 699/699 [00:03<00:00, 207.56it/s]\n"
          ]
        },
        {
          "output_type": "stream",
          "name": "stdout",
          "text": [
            "\n",
            "Class-wise Accuracy:\n",
            "  Class 2: 0.75%\n",
            "  Class 0: 0.83%\n",
            "  Class 1: 99.63%\n",
            "Test Accuracy: 33.3%, Test Loss: 1.131318\n",
            "\n",
            "\n",
            "Class-wise Accuracy:\n",
            "  Class 2: 0.75%\n",
            "  Class 0: 0.83%\n",
            "  Class 1: 99.63%\n",
            "Train Accuracy: 69.85%, Average Train Loss: 0.701203, Test Accuracy: 33.28%, Average Test Loss: 1.131318\n",
            "\n",
            "Epoch 12/60: "
          ]
        },
        {
          "output_type": "stream",
          "name": "stderr",
          "text": [
            "100%|██████████| 2795/2795 [00:13<00:00, 205.31it/s]\n",
            "Batch 699/699, Loss: 1.011272: 100%|██████████| 699/699 [00:03<00:00, 198.36it/s]\n"
          ]
        },
        {
          "output_type": "stream",
          "name": "stdout",
          "text": [
            "\n",
            "Class-wise Accuracy:\n",
            "  Class 2: 34.72%\n",
            "  Class 0: 12.77%\n",
            "  Class 1: 96.91%\n",
            "Test Accuracy: 47.8%, Test Loss: 1.041806\n",
            "\n",
            "\n",
            "Class-wise Accuracy:\n",
            "  Class 2: 34.72%\n",
            "  Class 0: 12.77%\n",
            "  Class 1: 96.91%\n",
            "Train Accuracy: 67.51%, Average Train Loss: 0.746299, Test Accuracy: 47.85%, Average Test Loss: 1.041806\n",
            "\n",
            "Epoch 13/60: "
          ]
        },
        {
          "output_type": "stream",
          "name": "stderr",
          "text": [
            "100%|██████████| 2795/2795 [00:13<00:00, 202.51it/s]\n",
            "Batch 699/699, Loss: 0.999770: 100%|██████████| 699/699 [00:03<00:00, 207.90it/s]\n"
          ]
        },
        {
          "output_type": "stream",
          "name": "stdout",
          "text": [
            "\n",
            "Class-wise Accuracy:\n",
            "  Class 2: 37.05%\n",
            "  Class 0: 29.11%\n",
            "  Class 1: 97.82%\n",
            "Test Accuracy: 54.4%, Test Loss: 1.029630\n",
            "\n",
            "\n",
            "Class-wise Accuracy:\n",
            "  Class 2: 37.05%\n",
            "  Class 0: 29.11%\n",
            "  Class 1: 97.82%\n",
            "Train Accuracy: 68.90%, Average Train Loss: 0.715160, Test Accuracy: 54.38%, Average Test Loss: 1.029630\n",
            "\n",
            "Epoch 14/60: "
          ]
        },
        {
          "output_type": "stream",
          "name": "stderr",
          "text": [
            "100%|██████████| 2795/2795 [00:13<00:00, 203.07it/s]\n",
            "Batch 699/699, Loss: 1.035874: 100%|██████████| 699/699 [00:03<00:00, 196.58it/s]\n"
          ]
        },
        {
          "output_type": "stream",
          "name": "stdout",
          "text": [
            "\n",
            "Class-wise Accuracy:\n",
            "  Class 2: 34.38%\n",
            "  Class 0: 8.68%\n",
            "  Class 1: 97.24%\n",
            "Test Accuracy: 46.5%, Test Loss: 1.082250\n",
            "\n",
            "\n",
            "Class-wise Accuracy:\n",
            "  Class 2: 34.38%\n",
            "  Class 0: 8.68%\n",
            "  Class 1: 97.24%\n",
            "Train Accuracy: 71.56%, Average Train Loss: 0.675493, Test Accuracy: 46.47%, Average Test Loss: 1.082250\n",
            "\n",
            "Epoch 15/60: "
          ]
        },
        {
          "output_type": "stream",
          "name": "stderr",
          "text": [
            "100%|██████████| 2795/2795 [00:13<00:00, 205.34it/s]\n",
            "Batch 699/699, Loss: 0.774319: 100%|██████████| 699/699 [00:03<00:00, 205.65it/s]\n"
          ]
        },
        {
          "output_type": "stream",
          "name": "stdout",
          "text": [
            "\n",
            "Class-wise Accuracy:\n",
            "  Class 2: 63.30%\n",
            "  Class 0: 57.74%\n",
            "  Class 1: 91.64%\n",
            "Test Accuracy: 70.8%, Test Loss: 0.759136\n",
            "\n",
            "\n",
            "Class-wise Accuracy:\n",
            "  Class 2: 63.30%\n",
            "  Class 0: 57.74%\n",
            "  Class 1: 91.64%\n",
            "Train Accuracy: 73.83%, Average Train Loss: 0.625134, Test Accuracy: 70.76%, Average Test Loss: 0.759136\n",
            "\n",
            "Epoch 16/60: "
          ]
        },
        {
          "output_type": "stream",
          "name": "stderr",
          "text": [
            "100%|██████████| 2795/2795 [00:13<00:00, 204.73it/s]\n",
            "Batch 699/699, Loss: 0.854672: 100%|██████████| 699/699 [00:03<00:00, 206.52it/s]\n"
          ]
        },
        {
          "output_type": "stream",
          "name": "stdout",
          "text": [
            "\n",
            "Class-wise Accuracy:\n",
            "  Class 2: 65.73%\n",
            "  Class 0: 58.34%\n",
            "  Class 1: 82.10%\n",
            "Test Accuracy: 68.6%, Test Loss: 0.751944\n",
            "\n",
            "\n",
            "Class-wise Accuracy:\n",
            "  Class 2: 65.73%\n",
            "  Class 0: 58.34%\n",
            "  Class 1: 82.10%\n",
            "Train Accuracy: 75.44%, Average Train Loss: 0.600905, Test Accuracy: 68.65%, Average Test Loss: 0.751944\n",
            "\n",
            "Epoch 17/60: "
          ]
        },
        {
          "output_type": "stream",
          "name": "stderr",
          "text": [
            "100%|██████████| 2795/2795 [00:13<00:00, 203.81it/s]\n",
            "Batch 699/699, Loss: 0.930982: 100%|██████████| 699/699 [00:03<00:00, 200.68it/s]\n"
          ]
        },
        {
          "output_type": "stream",
          "name": "stdout",
          "text": [
            "\n",
            "Class-wise Accuracy:\n",
            "  Class 2: 47.81%\n",
            "  Class 0: 33.43%\n",
            "  Class 1: 98.49%\n",
            "Test Accuracy: 59.7%, Test Loss: 0.893182\n",
            "\n",
            "\n",
            "Class-wise Accuracy:\n",
            "  Class 2: 47.81%\n",
            "  Class 0: 33.43%\n",
            "  Class 1: 98.49%\n",
            "Train Accuracy: 75.88%, Average Train Loss: 0.591154, Test Accuracy: 59.67%, Average Test Loss: 0.893182\n",
            "\n",
            "Epoch 18/60: "
          ]
        },
        {
          "output_type": "stream",
          "name": "stderr",
          "text": [
            "100%|██████████| 2795/2795 [00:13<00:00, 204.00it/s]\n",
            "Batch 699/699, Loss: 0.727435: 100%|██████████| 699/699 [00:03<00:00, 205.90it/s]\n"
          ]
        },
        {
          "output_type": "stream",
          "name": "stdout",
          "text": [
            "\n",
            "Class-wise Accuracy:\n",
            "  Class 2: 78.61%\n",
            "  Class 0: 60.68%\n",
            "  Class 1: 84.32%\n",
            "Test Accuracy: 74.5%, Test Loss: 0.954450\n",
            "\n",
            "\n",
            "Class-wise Accuracy:\n",
            "  Class 2: 78.61%\n",
            "  Class 0: 60.68%\n",
            "  Class 1: 84.32%\n",
            "Train Accuracy: 76.33%, Average Train Loss: 0.578747, Test Accuracy: 74.51%, Average Test Loss: 0.954450\n",
            "\n",
            "Epoch 19/60: "
          ]
        },
        {
          "output_type": "stream",
          "name": "stderr",
          "text": [
            "100%|██████████| 2795/2795 [00:13<00:00, 203.95it/s]\n",
            "Batch 699/699, Loss: 0.674445: 100%|██████████| 699/699 [00:03<00:00, 205.91it/s]\n"
          ]
        },
        {
          "output_type": "stream",
          "name": "stdout",
          "text": [
            "\n",
            "Class-wise Accuracy:\n",
            "  Class 2: 77.58%\n",
            "  Class 0: 67.56%\n",
            "  Class 1: 80.55%\n",
            "Test Accuracy: 75.2%, Test Loss: 0.702756\n",
            "\n",
            "\n",
            "Class-wise Accuracy:\n",
            "  Class 2: 77.58%\n",
            "  Class 0: 67.56%\n",
            "  Class 1: 80.55%\n",
            "Train Accuracy: 75.18%, Average Train Loss: 0.607833, Test Accuracy: 75.22%, Average Test Loss: 0.702756\n",
            "\n",
            "Epoch 20/60: "
          ]
        },
        {
          "output_type": "stream",
          "name": "stderr",
          "text": [
            "100%|██████████| 2795/2795 [00:13<00:00, 204.29it/s]\n",
            "Batch 699/699, Loss: 0.884180: 100%|██████████| 699/699 [00:03<00:00, 212.81it/s]\n"
          ]
        },
        {
          "output_type": "stream",
          "name": "stdout",
          "text": [
            "\n",
            "Class-wise Accuracy:\n",
            "  Class 2: 61.57%\n",
            "  Class 0: 40.64%\n",
            "  Class 1: 94.75%\n",
            "Test Accuracy: 65.5%, Test Loss: 0.852557\n",
            "\n",
            "\n",
            "Class-wise Accuracy:\n",
            "  Class 2: 61.57%\n",
            "  Class 0: 40.64%\n",
            "  Class 1: 94.75%\n",
            "Train Accuracy: 75.79%, Average Train Loss: 0.588428, Test Accuracy: 65.49%, Average Test Loss: 0.852557\n",
            "\n",
            "Epoch 21/60: "
          ]
        },
        {
          "output_type": "stream",
          "name": "stderr",
          "text": [
            "100%|██████████| 2795/2795 [00:13<00:00, 203.99it/s]\n",
            "Batch 699/699, Loss: 0.660570: 100%|██████████| 699/699 [00:03<00:00, 208.17it/s]\n"
          ]
        },
        {
          "output_type": "stream",
          "name": "stdout",
          "text": [
            "\n",
            "Class-wise Accuracy:\n",
            "  Class 2: 72.10%\n",
            "  Class 0: 66.53%\n",
            "  Class 1: 88.51%\n",
            "Test Accuracy: 75.6%, Test Loss: 0.942415\n",
            "\n",
            "\n",
            "Class-wise Accuracy:\n",
            "  Class 2: 72.10%\n",
            "  Class 0: 66.53%\n",
            "  Class 1: 88.51%\n",
            "Train Accuracy: 77.06%, Average Train Loss: 0.559638, Test Accuracy: 75.64%, Average Test Loss: 0.942415\n",
            "\n",
            "Epoch 22/60: "
          ]
        },
        {
          "output_type": "stream",
          "name": "stderr",
          "text": [
            "100%|██████████| 2795/2795 [00:13<00:00, 203.41it/s]\n",
            "Batch 699/699, Loss: 0.675931: 100%|██████████| 699/699 [00:03<00:00, 206.94it/s]\n"
          ]
        },
        {
          "output_type": "stream",
          "name": "stdout",
          "text": [
            "\n",
            "Class-wise Accuracy:\n",
            "  Class 2: 81.72%\n",
            "  Class 0: 64.06%\n",
            "  Class 1: 70.10%\n",
            "Test Accuracy: 72.0%, Test Loss: 0.753574\n",
            "\n",
            "\n",
            "Class-wise Accuracy:\n",
            "  Class 2: 81.72%\n",
            "  Class 0: 64.06%\n",
            "  Class 1: 70.10%\n",
            "Train Accuracy: 76.49%, Average Train Loss: 0.569313, Test Accuracy: 72.01%, Average Test Loss: 0.753574\n",
            "\n",
            "Epoch 23/60: "
          ]
        },
        {
          "output_type": "stream",
          "name": "stderr",
          "text": [
            "100%|██████████| 2795/2795 [00:13<00:00, 205.52it/s]\n",
            "Batch 699/699, Loss: 0.997191: 100%|██████████| 699/699 [00:03<00:00, 214.59it/s]\n"
          ]
        },
        {
          "output_type": "stream",
          "name": "stdout",
          "text": [
            "\n",
            "Class-wise Accuracy:\n",
            "  Class 2: 40.26%\n",
            "  Class 0: 7.96%\n",
            "  Class 1: 96.79%\n",
            "Test Accuracy: 48.1%, Test Loss: 1.094803\n",
            "\n",
            "\n",
            "Class-wise Accuracy:\n",
            "  Class 2: 40.26%\n",
            "  Class 0: 7.96%\n",
            "  Class 1: 96.79%\n",
            "Train Accuracy: 76.92%, Average Train Loss: 0.561110, Test Accuracy: 48.07%, Average Test Loss: 1.094803\n",
            "\n",
            "Epoch 24/60: "
          ]
        },
        {
          "output_type": "stream",
          "name": "stderr",
          "text": [
            "100%|██████████| 2795/2795 [00:13<00:00, 205.46it/s]\n",
            "Batch 699/699, Loss: 0.875644: 100%|██████████| 699/699 [00:03<00:00, 210.20it/s]\n"
          ]
        },
        {
          "output_type": "stream",
          "name": "stdout",
          "text": [
            "\n",
            "Class-wise Accuracy:\n",
            "  Class 2: 72.90%\n",
            "  Class 0: 43.88%\n",
            "  Class 1: 86.96%\n",
            "Test Accuracy: 67.8%, Test Loss: 0.825582\n",
            "\n",
            "\n",
            "Class-wise Accuracy:\n",
            "  Class 2: 72.90%\n",
            "  Class 0: 43.88%\n",
            "  Class 1: 86.96%\n",
            "Train Accuracy: 77.11%, Average Train Loss: 0.560959, Test Accuracy: 67.85%, Average Test Loss: 0.825582\n",
            "\n",
            "Epoch 25/60: "
          ]
        },
        {
          "output_type": "stream",
          "name": "stderr",
          "text": [
            "100%|██████████| 2795/2795 [00:13<00:00, 206.34it/s]\n",
            "Batch 699/699, Loss: 0.715452: 100%|██████████| 699/699 [00:03<00:00, 207.34it/s]\n"
          ]
        },
        {
          "output_type": "stream",
          "name": "stdout",
          "text": [
            "\n",
            "Class-wise Accuracy:\n",
            "  Class 2: 68.59%\n",
            "  Class 0: 68.89%\n",
            "  Class 1: 91.86%\n",
            "Test Accuracy: 76.3%, Test Loss: 0.712868\n",
            "\n",
            "\n",
            "Class-wise Accuracy:\n",
            "  Class 2: 68.59%\n",
            "  Class 0: 68.89%\n",
            "  Class 1: 91.86%\n",
            "Train Accuracy: 76.03%, Average Train Loss: 0.580651, Test Accuracy: 76.34%, Average Test Loss: 0.712868\n",
            "\n",
            "Epoch 26/60: "
          ]
        },
        {
          "output_type": "stream",
          "name": "stderr",
          "text": [
            "100%|██████████| 2795/2795 [00:13<00:00, 206.24it/s]\n",
            "Batch 699/699, Loss: 0.942505: 100%|██████████| 699/699 [00:03<00:00, 210.25it/s]\n"
          ]
        },
        {
          "output_type": "stream",
          "name": "stdout",
          "text": [
            "\n",
            "Class-wise Accuracy:\n",
            "  Class 2: 61.08%\n",
            "  Class 0: 30.80%\n",
            "  Class 1: 92.42%\n",
            "Test Accuracy: 61.3%, Test Loss: 0.892270\n",
            "\n",
            "\n",
            "Class-wise Accuracy:\n",
            "  Class 2: 61.08%\n",
            "  Class 0: 30.80%\n",
            "  Class 1: 92.42%\n",
            "Train Accuracy: 77.11%, Average Train Loss: 0.557982, Test Accuracy: 61.28%, Average Test Loss: 0.892270\n",
            "\n",
            "Epoch 27/60: "
          ]
        },
        {
          "output_type": "stream",
          "name": "stderr",
          "text": [
            "100%|██████████| 2795/2795 [00:13<00:00, 205.75it/s]\n",
            "Batch 699/699, Loss: 0.597252: 100%|██████████| 699/699 [00:03<00:00, 206.55it/s]\n"
          ]
        },
        {
          "output_type": "stream",
          "name": "stdout",
          "text": [
            "\n",
            "Class-wise Accuracy:\n",
            "  Class 2: 78.33%\n",
            "  Class 0: 71.71%\n",
            "  Class 1: 79.76%\n",
            "Test Accuracy: 76.6%, Test Loss: 1.191209\n",
            "\n",
            "\n",
            "Class-wise Accuracy:\n",
            "  Class 2: 78.33%\n",
            "  Class 0: 71.71%\n",
            "  Class 1: 79.76%\n",
            "Train Accuracy: 77.34%, Average Train Loss: 0.547202, Test Accuracy: 76.59%, Average Test Loss: 1.191209\n",
            "\n",
            "Epoch 28/60: "
          ]
        },
        {
          "output_type": "stream",
          "name": "stderr",
          "text": [
            "100%|██████████| 2795/2795 [00:13<00:00, 205.28it/s]\n",
            "Batch 699/699, Loss: 0.671810: 100%|██████████| 699/699 [00:03<00:00, 208.29it/s]\n"
          ]
        },
        {
          "output_type": "stream",
          "name": "stdout",
          "text": [
            "\n",
            "Class-wise Accuracy:\n",
            "  Class 2: 75.87%\n",
            "  Class 0: 67.28%\n",
            "  Class 1: 84.85%\n",
            "Test Accuracy: 76.0%, Test Loss: 0.760061\n",
            "\n",
            "\n",
            "Class-wise Accuracy:\n",
            "  Class 2: 75.87%\n",
            "  Class 0: 67.28%\n",
            "  Class 1: 84.85%\n",
            "Train Accuracy: 77.64%, Average Train Loss: 0.546362, Test Accuracy: 75.96%, Average Test Loss: 0.760061\n",
            "\n",
            "Epoch 29/60: "
          ]
        },
        {
          "output_type": "stream",
          "name": "stderr",
          "text": [
            "100%|██████████| 2795/2795 [00:13<00:00, 205.19it/s]\n",
            "Batch 699/699, Loss: 0.763161: 100%|██████████| 699/699 [00:03<00:00, 215.93it/s]\n"
          ]
        },
        {
          "output_type": "stream",
          "name": "stdout",
          "text": [
            "\n",
            "Class-wise Accuracy:\n",
            "  Class 2: 78.74%\n",
            "  Class 0: 55.62%\n",
            "  Class 1: 87.62%\n",
            "Test Accuracy: 73.9%, Test Loss: 0.747413\n",
            "\n",
            "\n",
            "Class-wise Accuracy:\n",
            "  Class 2: 78.74%\n",
            "  Class 0: 55.62%\n",
            "  Class 1: 87.62%\n",
            "Train Accuracy: 78.12%, Average Train Loss: 0.541161, Test Accuracy: 73.95%, Average Test Loss: 0.747413\n",
            "\n",
            "Epoch 30/60: "
          ]
        },
        {
          "output_type": "stream",
          "name": "stderr",
          "text": [
            "100%|██████████| 2795/2795 [00:13<00:00, 205.76it/s]\n",
            "Batch 699/699, Loss: 0.859955: 100%|██████████| 699/699 [00:03<00:00, 209.64it/s]\n"
          ]
        },
        {
          "output_type": "stream",
          "name": "stdout",
          "text": [
            "\n",
            "Class-wise Accuracy:\n",
            "  Class 2: 56.35%\n",
            "  Class 0: 36.09%\n",
            "  Class 1: 95.75%\n",
            "Test Accuracy: 62.5%, Test Loss: 0.886801\n",
            "\n",
            "\n",
            "Class-wise Accuracy:\n",
            "  Class 2: 56.35%\n",
            "  Class 0: 36.09%\n",
            "  Class 1: 95.75%\n",
            "Train Accuracy: 78.19%, Average Train Loss: 0.533529, Test Accuracy: 62.55%, Average Test Loss: 0.886801\n",
            "\n",
            "Epoch 31/60: "
          ]
        },
        {
          "output_type": "stream",
          "name": "stderr",
          "text": [
            "100%|██████████| 2795/2795 [00:13<00:00, 206.19it/s]\n",
            "Batch 699/699, Loss: 0.566531: 100%|██████████| 699/699 [00:03<00:00, 212.40it/s]\n"
          ]
        },
        {
          "output_type": "stream",
          "name": "stdout",
          "text": [
            "\n",
            "Class-wise Accuracy:\n",
            "  Class 2: 78.18%\n",
            "  Class 0: 76.47%\n",
            "  Class 1: 86.92%\n",
            "Test Accuracy: 80.5%, Test Loss: 0.674594\n",
            "\n",
            "\n",
            "Class-wise Accuracy:\n",
            "  Class 2: 78.18%\n",
            "  Class 0: 76.47%\n",
            "  Class 1: 86.92%\n",
            "Train Accuracy: 78.69%, Average Train Loss: 0.524578, Test Accuracy: 80.48%, Average Test Loss: 0.674594\n",
            "\n",
            "Epoch 32/60: "
          ]
        },
        {
          "output_type": "stream",
          "name": "stderr",
          "text": [
            "100%|██████████| 2795/2795 [00:13<00:00, 203.87it/s]\n",
            "Batch 699/699, Loss: 0.880255: 100%|██████████| 699/699 [00:03<00:00, 199.86it/s]\n"
          ]
        },
        {
          "output_type": "stream",
          "name": "stdout",
          "text": [
            "\n",
            "Class-wise Accuracy:\n",
            "  Class 2: 63.37%\n",
            "  Class 0: 38.26%\n",
            "  Class 1: 84.96%\n",
            "Test Accuracy: 62.1%, Test Loss: 0.869349\n",
            "\n",
            "\n",
            "Class-wise Accuracy:\n",
            "  Class 2: 63.37%\n",
            "  Class 0: 38.26%\n",
            "  Class 1: 84.96%\n",
            "Train Accuracy: 78.96%, Average Train Loss: 0.519840, Test Accuracy: 62.09%, Average Test Loss: 0.869349\n",
            "\n",
            "Epoch 33/60: "
          ]
        },
        {
          "output_type": "stream",
          "name": "stderr",
          "text": [
            "100%|██████████| 2795/2795 [00:13<00:00, 202.25it/s]\n",
            "Batch 699/699, Loss: 1.005089: 100%|██████████| 699/699 [00:03<00:00, 200.37it/s]\n"
          ]
        },
        {
          "output_type": "stream",
          "name": "stdout",
          "text": [
            "\n",
            "Class-wise Accuracy:\n",
            "  Class 2: 24.20%\n",
            "  Class 0: 5.93%\n",
            "  Class 1: 99.50%\n",
            "Test Accuracy: 42.9%, Test Loss: 1.026199\n",
            "\n",
            "\n",
            "Class-wise Accuracy:\n",
            "  Class 2: 24.20%\n",
            "  Class 0: 5.93%\n",
            "  Class 1: 99.50%\n",
            "Train Accuracy: 79.26%, Average Train Loss: 0.510706, Test Accuracy: 42.86%, Average Test Loss: 1.026199\n",
            "\n",
            "Epoch 34/60: "
          ]
        },
        {
          "output_type": "stream",
          "name": "stderr",
          "text": [
            "100%|██████████| 2795/2795 [00:13<00:00, 204.30it/s]\n",
            "Batch 699/699, Loss: 0.613221: 100%|██████████| 699/699 [00:03<00:00, 216.44it/s]\n"
          ]
        },
        {
          "output_type": "stream",
          "name": "stdout",
          "text": [
            "\n",
            "Class-wise Accuracy:\n",
            "  Class 2: 72.92%\n",
            "  Class 0: 76.20%\n",
            "  Class 1: 92.71%\n",
            "Test Accuracy: 80.5%, Test Loss: 0.677286\n",
            "\n",
            "\n",
            "Class-wise Accuracy:\n",
            "  Class 2: 72.92%\n",
            "  Class 0: 76.20%\n",
            "  Class 1: 92.71%\n",
            "Train Accuracy: 79.68%, Average Train Loss: 0.500759, Test Accuracy: 80.52%, Average Test Loss: 0.677286\n",
            "\n",
            "Epoch 35/60: "
          ]
        },
        {
          "output_type": "stream",
          "name": "stderr",
          "text": [
            "100%|██████████| 2795/2795 [00:13<00:00, 205.92it/s]\n",
            "Batch 699/699, Loss: 0.608316: 100%|██████████| 699/699 [00:03<00:00, 203.32it/s]\n"
          ]
        },
        {
          "output_type": "stream",
          "name": "stdout",
          "text": [
            "\n",
            "Class-wise Accuracy:\n",
            "  Class 2: 73.38%\n",
            "  Class 0: 68.41%\n",
            "  Class 1: 85.93%\n",
            "Test Accuracy: 75.8%, Test Loss: 0.735644\n",
            "\n",
            "\n",
            "Class-wise Accuracy:\n",
            "  Class 2: 73.38%\n",
            "  Class 0: 68.41%\n",
            "  Class 1: 85.93%\n",
            "Train Accuracy: 79.38%, Average Train Loss: 0.513563, Test Accuracy: 75.85%, Average Test Loss: 0.735644\n",
            "\n",
            "Epoch 36/60: "
          ]
        },
        {
          "output_type": "stream",
          "name": "stderr",
          "text": [
            "100%|██████████| 2795/2795 [00:13<00:00, 205.73it/s]\n",
            "Batch 699/699, Loss: 0.622367: 100%|██████████| 699/699 [00:03<00:00, 212.70it/s]\n"
          ]
        },
        {
          "output_type": "stream",
          "name": "stdout",
          "text": [
            "\n",
            "Class-wise Accuracy:\n",
            "  Class 2: 74.55%\n",
            "  Class 0: 68.59%\n",
            "  Class 1: 93.11%\n",
            "Test Accuracy: 78.7%, Test Loss: 0.688403\n",
            "\n",
            "\n",
            "Class-wise Accuracy:\n",
            "  Class 2: 74.55%\n",
            "  Class 0: 68.59%\n",
            "  Class 1: 93.11%\n",
            "Train Accuracy: 79.18%, Average Train Loss: 0.513914, Test Accuracy: 78.67%, Average Test Loss: 0.688403\n",
            "\n",
            "Epoch 37/60: "
          ]
        },
        {
          "output_type": "stream",
          "name": "stderr",
          "text": [
            "100%|██████████| 2795/2795 [00:13<00:00, 205.83it/s]\n",
            "Batch 699/699, Loss: 0.672764: 100%|██████████| 699/699 [00:03<00:00, 211.76it/s]\n"
          ]
        },
        {
          "output_type": "stream",
          "name": "stdout",
          "text": [
            "\n",
            "Class-wise Accuracy:\n",
            "  Class 2: 78.25%\n",
            "  Class 0: 69.65%\n",
            "  Class 1: 91.66%\n",
            "Test Accuracy: 79.8%, Test Loss: 0.655817\n",
            "\n",
            "\n",
            "Class-wise Accuracy:\n",
            "  Class 2: 78.25%\n",
            "  Class 0: 69.65%\n",
            "  Class 1: 91.66%\n",
            "Train Accuracy: 80.35%, Average Train Loss: 0.489259, Test Accuracy: 79.79%, Average Test Loss: 0.655817\n",
            "\n",
            "Epoch 38/60: "
          ]
        },
        {
          "output_type": "stream",
          "name": "stderr",
          "text": [
            "100%|██████████| 2795/2795 [00:13<00:00, 205.90it/s]\n",
            "Batch 699/699, Loss: 0.594743: 100%|██████████| 699/699 [00:03<00:00, 209.65it/s]\n"
          ]
        },
        {
          "output_type": "stream",
          "name": "stdout",
          "text": [
            "\n",
            "Class-wise Accuracy:\n",
            "  Class 2: 68.44%\n",
            "  Class 0: 66.96%\n",
            "  Class 1: 84.01%\n",
            "Test Accuracy: 73.1%, Test Loss: 0.766542\n",
            "\n",
            "\n",
            "Class-wise Accuracy:\n",
            "  Class 2: 68.44%\n",
            "  Class 0: 66.96%\n",
            "  Class 1: 84.01%\n",
            "Train Accuracy: 80.55%, Average Train Loss: 0.485894, Test Accuracy: 73.06%, Average Test Loss: 0.766542\n",
            "\n",
            "Epoch 39/60: "
          ]
        },
        {
          "output_type": "stream",
          "name": "stderr",
          "text": [
            "100%|██████████| 2795/2795 [00:13<00:00, 206.40it/s]\n",
            "Batch 699/699, Loss: 0.856518: 100%|██████████| 699/699 [00:03<00:00, 215.87it/s]\n"
          ]
        },
        {
          "output_type": "stream",
          "name": "stdout",
          "text": [
            "\n",
            "Class-wise Accuracy:\n",
            "  Class 2: 73.05%\n",
            "  Class 0: 41.64%\n",
            "  Class 1: 88.85%\n",
            "Test Accuracy: 67.8%, Test Loss: 0.811792\n",
            "\n",
            "\n",
            "Class-wise Accuracy:\n",
            "  Class 2: 73.05%\n",
            "  Class 0: 41.64%\n",
            "  Class 1: 88.85%\n",
            "Train Accuracy: 81.16%, Average Train Loss: 0.467860, Test Accuracy: 67.77%, Average Test Loss: 0.811792\n",
            "\n",
            "Epoch 40/60: "
          ]
        },
        {
          "output_type": "stream",
          "name": "stderr",
          "text": [
            "100%|██████████| 2795/2795 [00:13<00:00, 205.67it/s]\n",
            "Batch 699/699, Loss: 0.547319: 100%|██████████| 699/699 [00:03<00:00, 205.73it/s]\n"
          ]
        },
        {
          "output_type": "stream",
          "name": "stdout",
          "text": [
            "\n",
            "Class-wise Accuracy:\n",
            "  Class 2: 75.49%\n",
            "  Class 0: 78.11%\n",
            "  Class 1: 93.93%\n",
            "Test Accuracy: 82.4%, Test Loss: 0.616450\n",
            "\n",
            "\n",
            "Class-wise Accuracy:\n",
            "  Class 2: 75.49%\n",
            "  Class 0: 78.11%\n",
            "  Class 1: 93.93%\n",
            "Train Accuracy: 80.68%, Average Train Loss: 0.480143, Test Accuracy: 82.42%, Average Test Loss: 0.616450\n",
            "\n",
            "Epoch 41/60: "
          ]
        },
        {
          "output_type": "stream",
          "name": "stderr",
          "text": [
            "100%|██████████| 2795/2795 [00:13<00:00, 205.99it/s]\n",
            "Batch 699/699, Loss: 0.984453: 100%|██████████| 699/699 [00:03<00:00, 204.86it/s]\n"
          ]
        },
        {
          "output_type": "stream",
          "name": "stdout",
          "text": [
            "\n",
            "Class-wise Accuracy:\n",
            "  Class 2: 44.95%\n",
            "  Class 0: 21.97%\n",
            "  Class 1: 99.50%\n",
            "Test Accuracy: 55.2%, Test Loss: 0.981159\n",
            "\n",
            "\n",
            "Class-wise Accuracy:\n",
            "  Class 2: 44.95%\n",
            "  Class 0: 21.97%\n",
            "  Class 1: 99.50%\n",
            "Train Accuracy: 81.72%, Average Train Loss: 0.450544, Test Accuracy: 55.22%, Average Test Loss: 0.981159\n",
            "\n",
            "Epoch 42/60: "
          ]
        },
        {
          "output_type": "stream",
          "name": "stderr",
          "text": [
            "100%|██████████| 2795/2795 [00:13<00:00, 205.78it/s]\n",
            "Batch 699/699, Loss: 0.521824: 100%|██████████| 699/699 [00:03<00:00, 206.43it/s]\n"
          ]
        },
        {
          "output_type": "stream",
          "name": "stdout",
          "text": [
            "\n",
            "Class-wise Accuracy:\n",
            "  Class 2: 81.74%\n",
            "  Class 0: 76.38%\n",
            "  Class 1: 90.15%\n",
            "Test Accuracy: 82.7%, Test Loss: 0.549102\n",
            "\n",
            "\n",
            "Class-wise Accuracy:\n",
            "  Class 2: 81.74%\n",
            "  Class 0: 76.38%\n",
            "  Class 1: 90.15%\n",
            "Train Accuracy: 81.82%, Average Train Loss: 0.452772, Test Accuracy: 82.71%, Average Test Loss: 0.549102\n",
            "\n",
            "Epoch 43/60: "
          ]
        },
        {
          "output_type": "stream",
          "name": "stderr",
          "text": [
            "100%|██████████| 2795/2795 [00:13<00:00, 205.64it/s]\n",
            "Batch 699/699, Loss: 0.633801: 100%|██████████| 699/699 [00:03<00:00, 204.80it/s]\n"
          ]
        },
        {
          "output_type": "stream",
          "name": "stdout",
          "text": [
            "\n",
            "Class-wise Accuracy:\n",
            "  Class 2: 84.66%\n",
            "  Class 0: 63.03%\n",
            "  Class 1: 80.13%\n",
            "Test Accuracy: 76.0%, Test Loss: 0.614913\n",
            "\n",
            "\n",
            "Class-wise Accuracy:\n",
            "  Class 2: 84.66%\n",
            "  Class 0: 63.03%\n",
            "  Class 1: 80.13%\n",
            "Train Accuracy: 81.77%, Average Train Loss: 0.455246, Test Accuracy: 75.96%, Average Test Loss: 0.614913\n",
            "\n",
            "Epoch 44/60: "
          ]
        },
        {
          "output_type": "stream",
          "name": "stderr",
          "text": [
            "100%|██████████| 2795/2795 [00:13<00:00, 206.09it/s]\n",
            "Batch 699/699, Loss: 0.938693: 100%|██████████| 699/699 [00:03<00:00, 212.64it/s]\n"
          ]
        },
        {
          "output_type": "stream",
          "name": "stdout",
          "text": [
            "\n",
            "Class-wise Accuracy:\n",
            "  Class 2: 82.23%\n",
            "  Class 0: 21.00%\n",
            "  Class 1: 87.22%\n",
            "Test Accuracy: 63.5%, Test Loss: 0.926422\n",
            "\n",
            "\n",
            "Class-wise Accuracy:\n",
            "  Class 2: 82.23%\n",
            "  Class 0: 21.00%\n",
            "  Class 1: 87.22%\n",
            "Train Accuracy: 82.32%, Average Train Loss: 0.439471, Test Accuracy: 63.45%, Average Test Loss: 0.926422\n",
            "\n",
            "Epoch 45/60: "
          ]
        },
        {
          "output_type": "stream",
          "name": "stderr",
          "text": [
            "100%|██████████| 2795/2795 [00:13<00:00, 206.20it/s]\n",
            "Batch 699/699, Loss: 0.595711: 100%|██████████| 699/699 [00:03<00:00, 212.97it/s]\n"
          ]
        },
        {
          "output_type": "stream",
          "name": "stdout",
          "text": [
            "\n",
            "Class-wise Accuracy:\n",
            "  Class 2: 84.82%\n",
            "  Class 0: 71.22%\n",
            "  Class 1: 82.88%\n",
            "Test Accuracy: 79.6%, Test Loss: 0.582892\n",
            "\n",
            "\n",
            "Class-wise Accuracy:\n",
            "  Class 2: 84.82%\n",
            "  Class 0: 71.22%\n",
            "  Class 1: 82.88%\n",
            "Train Accuracy: 82.30%, Average Train Loss: 0.439949, Test Accuracy: 79.65%, Average Test Loss: 0.582892\n",
            "\n",
            "Epoch 46/60: "
          ]
        },
        {
          "output_type": "stream",
          "name": "stderr",
          "text": [
            "100%|██████████| 2795/2795 [00:13<00:00, 205.75it/s]\n",
            "Batch 699/699, Loss: 0.481681: 100%|██████████| 699/699 [00:03<00:00, 205.94it/s]\n"
          ]
        },
        {
          "output_type": "stream",
          "name": "stdout",
          "text": [
            "\n",
            "Class-wise Accuracy:\n",
            "  Class 2: 84.09%\n",
            "  Class 0: 76.04%\n",
            "  Class 1: 86.19%\n",
            "Test Accuracy: 82.1%, Test Loss: 0.521190\n",
            "\n",
            "\n",
            "Class-wise Accuracy:\n",
            "  Class 2: 84.09%\n",
            "  Class 0: 76.04%\n",
            "  Class 1: 86.19%\n",
            "Train Accuracy: 82.55%, Average Train Loss: 0.436706, Test Accuracy: 82.10%, Average Test Loss: 0.521190\n",
            "\n",
            "Epoch 47/60: "
          ]
        },
        {
          "output_type": "stream",
          "name": "stderr",
          "text": [
            "100%|██████████| 2795/2795 [00:13<00:00, 205.44it/s]\n",
            "Batch 699/699, Loss: 0.451193: 100%|██████████| 699/699 [00:03<00:00, 211.62it/s]\n"
          ]
        },
        {
          "output_type": "stream",
          "name": "stdout",
          "text": [
            "\n",
            "Class-wise Accuracy:\n",
            "  Class 2: 82.10%\n",
            "  Class 0: 82.18%\n",
            "  Class 1: 87.77%\n",
            "Test Accuracy: 84.0%, Test Loss: 0.484505\n",
            "\n",
            "\n",
            "Class-wise Accuracy:\n",
            "  Class 2: 82.10%\n",
            "  Class 0: 82.18%\n",
            "  Class 1: 87.77%\n",
            "Train Accuracy: 82.49%, Average Train Loss: 0.439997, Test Accuracy: 83.99%, Average Test Loss: 0.484505\n",
            "\n",
            "Epoch 48/60: "
          ]
        },
        {
          "output_type": "stream",
          "name": "stderr",
          "text": [
            "100%|██████████| 2795/2795 [00:13<00:00, 206.20it/s]\n",
            "Batch 699/699, Loss: 0.524892: 100%|██████████| 699/699 [00:03<00:00, 213.62it/s]\n"
          ]
        },
        {
          "output_type": "stream",
          "name": "stdout",
          "text": [
            "\n",
            "Class-wise Accuracy:\n",
            "  Class 2: 84.51%\n",
            "  Class 0: 72.00%\n",
            "  Class 1: 86.39%\n",
            "Test Accuracy: 81.0%, Test Loss: 0.515916\n",
            "\n",
            "\n",
            "Class-wise Accuracy:\n",
            "  Class 2: 84.51%\n",
            "  Class 0: 72.00%\n",
            "  Class 1: 86.39%\n",
            "Train Accuracy: 82.77%, Average Train Loss: 0.426621, Test Accuracy: 80.96%, Average Test Loss: 0.515916\n",
            "\n",
            "Epoch 49/60: "
          ]
        },
        {
          "output_type": "stream",
          "name": "stderr",
          "text": [
            "100%|██████████| 2795/2795 [00:13<00:00, 206.35it/s]\n",
            "Batch 699/699, Loss: 0.560919: 100%|██████████| 699/699 [00:03<00:00, 211.12it/s]\n"
          ]
        },
        {
          "output_type": "stream",
          "name": "stdout",
          "text": [
            "\n",
            "Class-wise Accuracy:\n",
            "  Class 2: 84.93%\n",
            "  Class 0: 69.01%\n",
            "  Class 1: 83.18%\n",
            "Test Accuracy: 79.0%, Test Loss: 0.552386\n",
            "\n",
            "\n",
            "Class-wise Accuracy:\n",
            "  Class 2: 84.93%\n",
            "  Class 0: 69.01%\n",
            "  Class 1: 83.18%\n",
            "Train Accuracy: 83.08%, Average Train Loss: 0.425064, Test Accuracy: 79.05%, Average Test Loss: 0.552386\n",
            "\n",
            "Epoch 50/60: "
          ]
        },
        {
          "output_type": "stream",
          "name": "stderr",
          "text": [
            "100%|██████████| 2795/2795 [00:13<00:00, 206.33it/s]\n",
            "Batch 699/699, Loss: 0.462983: 100%|██████████| 699/699 [00:03<00:00, 215.92it/s]\n"
          ]
        },
        {
          "output_type": "stream",
          "name": "stdout",
          "text": [
            "\n",
            "Class-wise Accuracy:\n",
            "  Class 2: 83.86%\n",
            "  Class 0: 76.87%\n",
            "  Class 1: 88.79%\n",
            "Test Accuracy: 83.1%, Test Loss: 0.511450\n",
            "\n",
            "\n",
            "Class-wise Accuracy:\n",
            "  Class 2: 83.86%\n",
            "  Class 0: 76.87%\n",
            "  Class 1: 88.79%\n",
            "Train Accuracy: 82.84%, Average Train Loss: 0.429657, Test Accuracy: 83.15%, Average Test Loss: 0.511450\n",
            "\n",
            "Epoch 51/60: "
          ]
        },
        {
          "output_type": "stream",
          "name": "stderr",
          "text": [
            "100%|██████████| 2795/2795 [00:13<00:00, 206.70it/s]\n",
            "Batch 699/699, Loss: 0.578224: 100%|██████████| 699/699 [00:03<00:00, 211.30it/s]\n"
          ]
        },
        {
          "output_type": "stream",
          "name": "stdout",
          "text": [
            "\n",
            "Class-wise Accuracy:\n",
            "  Class 2: 84.11%\n",
            "  Class 0: 66.03%\n",
            "  Class 1: 85.40%\n",
            "Test Accuracy: 78.5%, Test Loss: 0.577316\n",
            "\n",
            "\n",
            "Class-wise Accuracy:\n",
            "  Class 2: 84.11%\n",
            "  Class 0: 66.03%\n",
            "  Class 1: 85.40%\n",
            "Train Accuracy: 82.92%, Average Train Loss: 0.421724, Test Accuracy: 78.50%, Average Test Loss: 0.577316\n",
            "\n",
            "Epoch 52/60: "
          ]
        },
        {
          "output_type": "stream",
          "name": "stderr",
          "text": [
            "100%|██████████| 2795/2795 [00:13<00:00, 205.95it/s]\n",
            "Batch 699/699, Loss: 0.528618: 100%|██████████| 699/699 [00:03<00:00, 216.09it/s]\n"
          ]
        },
        {
          "output_type": "stream",
          "name": "stdout",
          "text": [
            "\n",
            "Class-wise Accuracy:\n",
            "  Class 2: 85.01%\n",
            "  Class 0: 71.40%\n",
            "  Class 1: 87.48%\n",
            "Test Accuracy: 81.3%, Test Loss: 0.528154\n",
            "\n",
            "\n",
            "Class-wise Accuracy:\n",
            "  Class 2: 85.01%\n",
            "  Class 0: 71.40%\n",
            "  Class 1: 87.48%\n",
            "Train Accuracy: 82.91%, Average Train Loss: 0.422549, Test Accuracy: 81.28%, Average Test Loss: 0.528154\n",
            "\n",
            "Epoch 53/60: "
          ]
        },
        {
          "output_type": "stream",
          "name": "stderr",
          "text": [
            "100%|██████████| 2795/2795 [00:13<00:00, 206.34it/s]\n",
            "Batch 699/699, Loss: 0.444168: 100%|██████████| 699/699 [00:03<00:00, 210.79it/s]\n"
          ]
        },
        {
          "output_type": "stream",
          "name": "stdout",
          "text": [
            "\n",
            "Class-wise Accuracy:\n",
            "  Class 2: 83.49%\n",
            "  Class 0: 80.71%\n",
            "  Class 1: 88.80%\n",
            "Test Accuracy: 84.3%, Test Loss: 0.488629\n",
            "\n",
            "\n",
            "Class-wise Accuracy:\n",
            "  Class 2: 83.49%\n",
            "  Class 0: 80.71%\n",
            "  Class 1: 88.80%\n",
            "Train Accuracy: 83.27%, Average Train Loss: 0.419258, Test Accuracy: 84.31%, Average Test Loss: 0.488629\n",
            "\n",
            "Epoch 54/60: "
          ]
        },
        {
          "output_type": "stream",
          "name": "stderr",
          "text": [
            "100%|██████████| 2795/2795 [00:13<00:00, 205.98it/s]\n",
            "Batch 699/699, Loss: 0.472765: 100%|██████████| 699/699 [00:03<00:00, 206.69it/s]\n"
          ]
        },
        {
          "output_type": "stream",
          "name": "stdout",
          "text": [
            "\n",
            "Class-wise Accuracy:\n",
            "  Class 2: 78.43%\n",
            "  Class 0: 79.43%\n",
            "  Class 1: 91.93%\n",
            "Test Accuracy: 83.2%, Test Loss: 0.515949\n",
            "\n",
            "\n",
            "Class-wise Accuracy:\n",
            "  Class 2: 78.43%\n",
            "  Class 0: 79.43%\n",
            "  Class 1: 91.93%\n",
            "Train Accuracy: 83.10%, Average Train Loss: 0.422456, Test Accuracy: 83.20%, Average Test Loss: 0.515949\n",
            "\n",
            "Epoch 55/60: "
          ]
        },
        {
          "output_type": "stream",
          "name": "stderr",
          "text": [
            "100%|██████████| 2795/2795 [00:13<00:00, 205.94it/s]\n",
            "Batch 699/699, Loss: 0.522981: 100%|██████████| 699/699 [00:03<00:00, 212.66it/s]\n"
          ]
        },
        {
          "output_type": "stream",
          "name": "stdout",
          "text": [
            "\n",
            "Class-wise Accuracy:\n",
            "  Class 2: 79.86%\n",
            "  Class 0: 74.62%\n",
            "  Class 1: 89.89%\n",
            "Test Accuracy: 81.4%, Test Loss: 0.519647\n",
            "\n",
            "\n",
            "Class-wise Accuracy:\n",
            "  Class 2: 79.86%\n",
            "  Class 0: 74.62%\n",
            "  Class 1: 89.89%\n",
            "Train Accuracy: 83.15%, Average Train Loss: 0.416161, Test Accuracy: 81.41%, Average Test Loss: 0.519647\n",
            "\n",
            "Epoch 56/60: "
          ]
        },
        {
          "output_type": "stream",
          "name": "stderr",
          "text": [
            "100%|██████████| 2795/2795 [00:13<00:00, 206.18it/s]\n",
            "Batch 699/699, Loss: 0.533687: 100%|██████████| 699/699 [00:03<00:00, 213.80it/s]\n"
          ]
        },
        {
          "output_type": "stream",
          "name": "stdout",
          "text": [
            "\n",
            "Class-wise Accuracy:\n",
            "  Class 2: 80.51%\n",
            "  Class 0: 71.06%\n",
            "  Class 1: 89.97%\n",
            "Test Accuracy: 80.5%, Test Loss: 0.527485\n",
            "\n",
            "\n",
            "Class-wise Accuracy:\n",
            "  Class 2: 80.51%\n",
            "  Class 0: 71.06%\n",
            "  Class 1: 89.97%\n",
            "Train Accuracy: 83.34%, Average Train Loss: 0.417077, Test Accuracy: 80.47%, Average Test Loss: 0.527485\n",
            "\n",
            "Epoch 57/60: "
          ]
        },
        {
          "output_type": "stream",
          "name": "stderr",
          "text": [
            "100%|██████████| 2795/2795 [00:13<00:00, 205.70it/s]\n",
            "Batch 699/699, Loss: 0.511189: 100%|██████████| 699/699 [00:03<00:00, 214.52it/s]\n"
          ]
        },
        {
          "output_type": "stream",
          "name": "stdout",
          "text": [
            "\n",
            "Class-wise Accuracy:\n",
            "  Class 2: 84.68%\n",
            "  Class 0: 72.07%\n",
            "  Class 1: 85.02%\n",
            "Test Accuracy: 80.6%, Test Loss: 0.510768\n",
            "\n",
            "\n",
            "Class-wise Accuracy:\n",
            "  Class 2: 84.68%\n",
            "  Class 0: 72.07%\n",
            "  Class 1: 85.02%\n",
            "Train Accuracy: 83.24%, Average Train Loss: 0.416642, Test Accuracy: 80.58%, Average Test Loss: 0.510768\n",
            "\n",
            "Epoch 58/60: "
          ]
        },
        {
          "output_type": "stream",
          "name": "stderr",
          "text": [
            "100%|██████████| 2795/2795 [00:13<00:00, 205.98it/s]\n",
            "Batch 699/699, Loss: 0.608412: 100%|██████████| 699/699 [00:03<00:00, 214.29it/s]\n"
          ]
        },
        {
          "output_type": "stream",
          "name": "stdout",
          "text": [
            "\n",
            "Class-wise Accuracy:\n",
            "  Class 2: 84.65%\n",
            "  Class 0: 61.60%\n",
            "  Class 1: 82.36%\n",
            "Test Accuracy: 76.2%, Test Loss: 0.595854\n",
            "\n",
            "\n",
            "Class-wise Accuracy:\n",
            "  Class 2: 84.65%\n",
            "  Class 0: 61.60%\n",
            "  Class 1: 82.36%\n",
            "Train Accuracy: 83.11%, Average Train Loss: 0.419295, Test Accuracy: 76.21%, Average Test Loss: 0.595854\n",
            "\n",
            "Epoch 59/60: "
          ]
        },
        {
          "output_type": "stream",
          "name": "stderr",
          "text": [
            "100%|██████████| 2795/2795 [00:13<00:00, 206.14it/s]\n",
            "Batch 699/699, Loss: 0.536954: 100%|██████████| 699/699 [00:03<00:00, 212.69it/s]\n"
          ]
        },
        {
          "output_type": "stream",
          "name": "stdout",
          "text": [
            "\n",
            "Class-wise Accuracy:\n",
            "  Class 2: 81.74%\n",
            "  Class 0: 69.95%\n",
            "  Class 1: 88.43%\n",
            "Test Accuracy: 80.0%, Test Loss: 0.521983\n",
            "\n",
            "\n",
            "Class-wise Accuracy:\n",
            "  Class 2: 81.74%\n",
            "  Class 0: 69.95%\n",
            "  Class 1: 88.43%\n",
            "Train Accuracy: 83.26%, Average Train Loss: 0.411521, Test Accuracy: 80.01%, Average Test Loss: 0.521983\n",
            "\n",
            "Epoch 60/60: "
          ]
        },
        {
          "output_type": "stream",
          "name": "stderr",
          "text": [
            "100%|██████████| 2795/2795 [00:13<00:00, 205.82it/s]\n",
            "Batch 699/699, Loss: 0.593303: 100%|██████████| 699/699 [00:03<00:00, 197.04it/s]\n"
          ]
        },
        {
          "output_type": "stream",
          "name": "stdout",
          "text": [
            "\n",
            "Class-wise Accuracy:\n",
            "  Class 2: 84.12%\n",
            "  Class 0: 63.87%\n",
            "  Class 1: 81.46%\n",
            "Test Accuracy: 76.5%, Test Loss: 0.586721\n",
            "\n",
            "\n",
            "Class-wise Accuracy:\n",
            "  Class 2: 84.12%\n",
            "  Class 0: 63.87%\n",
            "  Class 1: 81.46%\n",
            "Train Accuracy: 83.28%, Average Train Loss: 0.414701, Test Accuracy: 76.50%, Average Test Loss: 0.586721\n",
            "\n"
          ]
        },
        {
          "output_type": "display_data",
          "data": {
            "text/plain": [
              "<IPython.core.display.HTML object>"
            ],
            "text/html": []
          },
          "metadata": {}
        },
        {
          "output_type": "display_data",
          "data": {
            "text/plain": [
              "<IPython.core.display.HTML object>"
            ],
            "text/html": [
              "<br>    <style><br>        .wandb-row {<br>            display: flex;<br>            flex-direction: row;<br>            flex-wrap: wrap;<br>            justify-content: flex-start;<br>            width: 100%;<br>        }<br>        .wandb-col {<br>            display: flex;<br>            flex-direction: column;<br>            flex-basis: 100%;<br>            flex: 1;<br>            padding: 10px;<br>        }<br>    </style><br><div class=\"wandb-row\"><div class=\"wandb-col\"><h3>Run history:</h3><br/><table class=\"wandb\"><tr><td>class_0_accuracy</td><td>▂▁▁▂▅▂▁▁▁▂▆▆▆▇▄▂▅▇▄▇▆█▁▇▇▇▇█▃█▇█▇▇███▇▇▆</td></tr><tr><td>class_1_accuracy</td><td>▂▁▃▅▅▇▇▇▆█▆▃█▄▃▅▆▆▃▄▅▄▄▆▆█▆▅▄▄▅▄▅▄▅▅▅▄▃▃</td></tr><tr><td>class_2_accuracy</td><td>▅▄▅▅▄▃▃▁▄▄▆▅▇▇▆█▄▇▇▆▇▆▆▃▇▇▇▇▅██████▇████</td></tr><tr><td>epoch</td><td>▁▁▁▁▁▂▂▂▂▂▃▃▃▃▃▃▄▄▄▄▄▅▅▅▅▅▆▆▆▆▇▇▇▇▇▇▇███</td></tr><tr><td>learning_rate</td><td>████████▇▇▇▇▇▇▆▆▆▆▆▅▅▅▄▄▄▃▃▃▂▂▂▂▁▁▁▁▁▁▁▁</td></tr><tr><td>test_accuracy</td><td>▃▁▂▃▃▃▂▂▁▃▆▇▇▅▇▃▆▇▅▇▅▅▂█▇▆▄█▇▅███▇▇████▇</td></tr><tr><td>test_loss</td><td>██▇▇███▇██▇▇▅▆▃▆▄▇▅▃▄▃▅▇▃▃▄▂▆▂▆▂▁▁▁▁▁▁▂▂</td></tr><tr><td>train_accuracy</td><td>▁▂▃▄▄▄▄▅▅▅▅▆▆▆▆▆▆▆▆▇▇▇▇▇▇▇██████████████</td></tr><tr><td>train_loss</td><td>█▇▆▆▅▅▅▅▅▅▄▃▃▃▃▃▃▃▃▃▃▃▂▂▂▂▁▁▁▁▁▁▁▁▁▁▁▁▁▁</td></tr></table><br/></div><div class=\"wandb-col\"><h3>Run summary:</h3><br/><table class=\"wandb\"><tr><td>class_0_accuracy</td><td>63.87175</td></tr><tr><td>class_1_accuracy</td><td>81.46434</td></tr><tr><td>class_2_accuracy</td><td>84.12131</td></tr><tr><td>epoch</td><td>60</td></tr><tr><td>learning_rate</td><td>0.0</td></tr><tr><td>test_accuracy</td><td>76.49533</td></tr><tr><td>test_loss</td><td>0.58672</td></tr><tr><td>train_accuracy</td><td>83.28133</td></tr><tr><td>train_loss</td><td>0.4147</td></tr></table><br/></div></div>"
            ]
          },
          "metadata": {}
        },
        {
          "output_type": "display_data",
          "data": {
            "text/plain": [
              "<IPython.core.display.HTML object>"
            ],
            "text/html": [
              " View run <strong style=\"color:#cdcd00\">ShallowAttentionNet 47456655</strong> at: <a href='https://wandb.ai/philinthesky/Master%20Thesis/runs/k378n83c' target=\"_blank\">https://wandb.ai/philinthesky/Master%20Thesis/runs/k378n83c</a><br> View project at: <a href='https://wandb.ai/philinthesky/Master%20Thesis' target=\"_blank\">https://wandb.ai/philinthesky/Master%20Thesis</a><br>Synced 5 W&B file(s), 0 media file(s), 0 artifact file(s) and 0 other file(s)"
            ]
          },
          "metadata": {}
        },
        {
          "output_type": "display_data",
          "data": {
            "text/plain": [
              "<IPython.core.display.HTML object>"
            ],
            "text/html": [
              "Find logs at: <code>./wandb/run-20250330_151247-k378n83c/logs</code>"
            ]
          },
          "metadata": {}
        },
        {
          "output_type": "stream",
          "name": "stdout",
          "text": [
            "ShallowAttentionNet(\n",
            "  (temporal): Conv2d(1, 10, kernel_size=(1, 25), stride=(1, 1))\n",
            "  (spatial_att): SpatialAttention(\n",
            "    (conv): Conv2d(10, 10, kernel_size=(1, 1), stride=(1, 1), bias=False)\n",
            "    (pool): MaxPool2d(kernel_size=(1, 5), stride=(1, 5), padding=0, dilation=1, ceil_mode=False)\n",
            "  )\n",
            "  (batch_norm): BatchNorm2d(10, eps=1e-05, momentum=0.1, affine=True, track_running_stats=True)\n",
            "  (pool): AvgPool2d(kernel_size=(1, 20), stride=(1, 20), padding=0)\n",
            "  (dropout): Dropout(p=0.5, inplace=False)\n",
            "  (fc): Linear(in_features=960, out_features=3, bias=True)\n",
            ")\n"
          ]
        },
        {
          "output_type": "display_data",
          "data": {
            "text/plain": [
              "<IPython.core.display.HTML object>"
            ],
            "text/html": [
              "Tracking run with wandb version 0.19.8"
            ]
          },
          "metadata": {}
        },
        {
          "output_type": "display_data",
          "data": {
            "text/plain": [
              "<IPython.core.display.HTML object>"
            ],
            "text/html": [
              "Run data is saved locally in <code>/content/wandb/run-20250330_153016-p5c3qru1</code>"
            ]
          },
          "metadata": {}
        },
        {
          "output_type": "display_data",
          "data": {
            "text/plain": [
              "<IPython.core.display.HTML object>"
            ],
            "text/html": [
              "Syncing run <strong><a href='https://wandb.ai/philinthesky/Master%20Thesis/runs/p5c3qru1' target=\"_blank\">ShallowAttentionNet 4788347</a></strong> to <a href='https://wandb.ai/philinthesky/Master%20Thesis' target=\"_blank\">Weights & Biases</a> (<a href='https://wandb.me/developer-guide' target=\"_blank\">docs</a>)<br>"
            ]
          },
          "metadata": {}
        },
        {
          "output_type": "display_data",
          "data": {
            "text/plain": [
              "<IPython.core.display.HTML object>"
            ],
            "text/html": [
              " View project at <a href='https://wandb.ai/philinthesky/Master%20Thesis' target=\"_blank\">https://wandb.ai/philinthesky/Master%20Thesis</a>"
            ]
          },
          "metadata": {}
        },
        {
          "output_type": "display_data",
          "data": {
            "text/plain": [
              "<IPython.core.display.HTML object>"
            ],
            "text/html": [
              " View run at <a href='https://wandb.ai/philinthesky/Master%20Thesis/runs/p5c3qru1' target=\"_blank\">https://wandb.ai/philinthesky/Master%20Thesis/runs/p5c3qru1</a>"
            ]
          },
          "metadata": {}
        },
        {
          "output_type": "stream",
          "name": "stdout",
          "text": [
            "Epoch 1/60: "
          ]
        },
        {
          "output_type": "stream",
          "name": "stderr",
          "text": [
            "100%|██████████| 2795/2795 [00:13<00:00, 205.91it/s]\n",
            "Batch 699/699, Loss: 1.057767: 100%|██████████| 699/699 [00:03<00:00, 206.98it/s]\n"
          ]
        },
        {
          "output_type": "stream",
          "name": "stdout",
          "text": [
            "\n",
            "Class-wise Accuracy:\n",
            "  Class 2: 5.97%\n",
            "  Class 0: 8.53%\n",
            "  Class 1: 97.89%\n",
            "Test Accuracy: 37.0%, Test Loss: 1.072010\n",
            "\n",
            "\n",
            "Class-wise Accuracy:\n",
            "  Class 2: 5.97%\n",
            "  Class 0: 8.53%\n",
            "  Class 1: 97.89%\n",
            "Train Accuracy: 54.50%, Average Train Loss: 0.973158, Test Accuracy: 37.04%, Average Test Loss: 1.072010\n",
            "\n",
            "Epoch 2/60: "
          ]
        },
        {
          "output_type": "stream",
          "name": "stderr",
          "text": [
            "100%|██████████| 2795/2795 [00:13<00:00, 204.45it/s]\n",
            "Batch 699/699, Loss: 1.068649: 100%|██████████| 699/699 [00:03<00:00, 211.76it/s]\n"
          ]
        },
        {
          "output_type": "stream",
          "name": "stdout",
          "text": [
            "\n",
            "Class-wise Accuracy:\n",
            "  Class 2: 44.01%\n",
            "  Class 0: 17.47%\n",
            "  Class 1: 60.52%\n",
            "Test Accuracy: 40.6%, Test Loss: 1.136131\n",
            "\n",
            "\n",
            "Class-wise Accuracy:\n",
            "  Class 2: 44.01%\n",
            "  Class 0: 17.47%\n",
            "  Class 1: 60.52%\n",
            "Train Accuracy: 58.55%, Average Train Loss: 0.897996, Test Accuracy: 40.59%, Average Test Loss: 1.136131\n",
            "\n",
            "Epoch 3/60: "
          ]
        },
        {
          "output_type": "stream",
          "name": "stderr",
          "text": [
            "100%|██████████| 2795/2795 [00:13<00:00, 204.90it/s]\n",
            "Batch 699/699, Loss: 1.032572: 100%|██████████| 699/699 [00:03<00:00, 213.74it/s]\n"
          ]
        },
        {
          "output_type": "stream",
          "name": "stdout",
          "text": [
            "\n",
            "Class-wise Accuracy:\n",
            "  Class 2: 39.36%\n",
            "  Class 0: 14.31%\n",
            "  Class 1: 95.66%\n",
            "Test Accuracy: 49.5%, Test Loss: 1.039339\n",
            "\n",
            "\n",
            "Class-wise Accuracy:\n",
            "  Class 2: 39.36%\n",
            "  Class 0: 14.31%\n",
            "  Class 1: 95.66%\n",
            "Train Accuracy: 62.22%, Average Train Loss: 0.835607, Test Accuracy: 49.51%, Average Test Loss: 1.039339\n",
            "\n",
            "Epoch 4/60: "
          ]
        },
        {
          "output_type": "stream",
          "name": "stderr",
          "text": [
            "100%|██████████| 2795/2795 [00:13<00:00, 206.33it/s]\n",
            "Batch 699/699, Loss: 0.982504: 100%|██████████| 699/699 [00:03<00:00, 212.30it/s]\n"
          ]
        },
        {
          "output_type": "stream",
          "name": "stdout",
          "text": [
            "\n",
            "Class-wise Accuracy:\n",
            "  Class 2: 48.40%\n",
            "  Class 0: 25.49%\n",
            "  Class 1: 88.98%\n",
            "Test Accuracy: 54.1%, Test Loss: 1.018104\n",
            "\n",
            "\n",
            "Class-wise Accuracy:\n",
            "  Class 2: 48.40%\n",
            "  Class 0: 25.49%\n",
            "  Class 1: 88.98%\n",
            "Train Accuracy: 65.07%, Average Train Loss: 0.787107, Test Accuracy: 54.10%, Average Test Loss: 1.018104\n",
            "\n",
            "Epoch 5/60: "
          ]
        },
        {
          "output_type": "stream",
          "name": "stderr",
          "text": [
            "100%|██████████| 2795/2795 [00:13<00:00, 206.72it/s]\n",
            "Batch 699/699, Loss: 1.104287: 100%|██████████| 699/699 [00:03<00:00, 215.54it/s]\n"
          ]
        },
        {
          "output_type": "stream",
          "name": "stdout",
          "text": [
            "\n",
            "Class-wise Accuracy:\n",
            "  Class 2: 0.77%\n",
            "  Class 0: 1.27%\n",
            "  Class 1: 98.95%\n",
            "Test Accuracy: 33.2%, Test Loss: 1.121969\n",
            "\n",
            "\n",
            "Class-wise Accuracy:\n",
            "  Class 2: 0.77%\n",
            "  Class 0: 1.27%\n",
            "  Class 1: 98.95%\n",
            "Train Accuracy: 64.97%, Average Train Loss: 0.790004, Test Accuracy: 33.21%, Average Test Loss: 1.121969\n",
            "\n",
            "Epoch 6/60: "
          ]
        },
        {
          "output_type": "stream",
          "name": "stderr",
          "text": [
            "100%|██████████| 2795/2795 [00:13<00:00, 206.46it/s]\n",
            "Batch 699/699, Loss: 1.072015: 100%|██████████| 699/699 [00:03<00:00, 217.33it/s]\n"
          ]
        },
        {
          "output_type": "stream",
          "name": "stdout",
          "text": [
            "\n",
            "Class-wise Accuracy:\n",
            "  Class 2: 13.77%\n",
            "  Class 0: 2.29%\n",
            "  Class 1: 97.80%\n",
            "Test Accuracy: 37.6%, Test Loss: 1.115422\n",
            "\n",
            "\n",
            "Class-wise Accuracy:\n",
            "  Class 2: 13.77%\n",
            "  Class 0: 2.29%\n",
            "  Class 1: 97.80%\n",
            "Train Accuracy: 64.06%, Average Train Loss: 0.803589, Test Accuracy: 37.57%, Average Test Loss: 1.115422\n",
            "\n",
            "Epoch 7/60: "
          ]
        },
        {
          "output_type": "stream",
          "name": "stderr",
          "text": [
            "100%|██████████| 2795/2795 [00:13<00:00, 205.86it/s]\n",
            "Batch 699/699, Loss: 1.067441: 100%|██████████| 699/699 [00:03<00:00, 210.95it/s]\n"
          ]
        },
        {
          "output_type": "stream",
          "name": "stdout",
          "text": [
            "\n",
            "Class-wise Accuracy:\n",
            "  Class 2: 25.04%\n",
            "  Class 0: 2.88%\n",
            "  Class 1: 96.86%\n",
            "Test Accuracy: 41.3%, Test Loss: 1.081399\n",
            "\n",
            "\n",
            "Class-wise Accuracy:\n",
            "  Class 2: 25.04%\n",
            "  Class 0: 2.88%\n",
            "  Class 1: 96.86%\n",
            "Train Accuracy: 64.94%, Average Train Loss: 0.784899, Test Accuracy: 41.26%, Average Test Loss: 1.081399\n",
            "\n",
            "Epoch 8/60: "
          ]
        },
        {
          "output_type": "stream",
          "name": "stderr",
          "text": [
            "100%|██████████| 2795/2795 [00:13<00:00, 205.25it/s]\n",
            "Batch 699/699, Loss: 1.051604: 100%|██████████| 699/699 [00:03<00:00, 215.06it/s]\n"
          ]
        },
        {
          "output_type": "stream",
          "name": "stdout",
          "text": [
            "\n",
            "Class-wise Accuracy:\n",
            "  Class 2: 22.37%\n",
            "  Class 0: 1.56%\n",
            "  Class 1: 99.06%\n",
            "Test Accuracy: 40.6%, Test Loss: 1.083332\n",
            "\n",
            "\n",
            "Class-wise Accuracy:\n",
            "  Class 2: 22.37%\n",
            "  Class 0: 1.56%\n",
            "  Class 1: 99.06%\n",
            "Train Accuracy: 68.76%, Average Train Loss: 0.717887, Test Accuracy: 40.64%, Average Test Loss: 1.083332\n",
            "\n",
            "Epoch 9/60: "
          ]
        },
        {
          "output_type": "stream",
          "name": "stderr",
          "text": [
            "100%|██████████| 2795/2795 [00:13<00:00, 206.35it/s]\n",
            "Batch 699/699, Loss: 1.041624: 100%|██████████| 699/699 [00:03<00:00, 211.52it/s]\n"
          ]
        },
        {
          "output_type": "stream",
          "name": "stdout",
          "text": [
            "\n",
            "Class-wise Accuracy:\n",
            "  Class 2: 48.30%\n",
            "  Class 0: 2.50%\n",
            "  Class 1: 96.82%\n",
            "Test Accuracy: 49.0%, Test Loss: 1.099410\n",
            "\n",
            "\n",
            "Class-wise Accuracy:\n",
            "  Class 2: 48.30%\n",
            "  Class 0: 2.50%\n",
            "  Class 1: 96.82%\n",
            "Train Accuracy: 69.24%, Average Train Loss: 0.714552, Test Accuracy: 48.97%, Average Test Loss: 1.099410\n",
            "\n",
            "Epoch 10/60: "
          ]
        },
        {
          "output_type": "stream",
          "name": "stderr",
          "text": [
            "100%|██████████| 2795/2795 [00:13<00:00, 206.71it/s]\n",
            "Batch 699/699, Loss: 1.044251: 100%|██████████| 699/699 [00:03<00:00, 209.36it/s]\n"
          ]
        },
        {
          "output_type": "stream",
          "name": "stdout",
          "text": [
            "\n",
            "Class-wise Accuracy:\n",
            "  Class 2: 25.24%\n",
            "  Class 0: 4.98%\n",
            "  Class 1: 98.68%\n",
            "Test Accuracy: 42.6%, Test Loss: 1.077901\n",
            "\n",
            "\n",
            "Class-wise Accuracy:\n",
            "  Class 2: 25.24%\n",
            "  Class 0: 4.98%\n",
            "  Class 1: 98.68%\n",
            "Train Accuracy: 70.53%, Average Train Loss: 0.686764, Test Accuracy: 42.63%, Average Test Loss: 1.077901\n",
            "\n",
            "Epoch 11/60: "
          ]
        },
        {
          "output_type": "stream",
          "name": "stderr",
          "text": [
            "100%|██████████| 2795/2795 [00:13<00:00, 206.30it/s]\n",
            "Batch 699/699, Loss: 1.025212: 100%|██████████| 699/699 [00:03<00:00, 215.19it/s]\n"
          ]
        },
        {
          "output_type": "stream",
          "name": "stdout",
          "text": [
            "\n",
            "Class-wise Accuracy:\n",
            "  Class 2: 27.37%\n",
            "  Class 0: 23.36%\n",
            "  Class 1: 98.12%\n",
            "Test Accuracy: 49.3%, Test Loss: 0.985844\n",
            "\n",
            "\n",
            "Class-wise Accuracy:\n",
            "  Class 2: 27.37%\n",
            "  Class 0: 23.36%\n",
            "  Class 1: 98.12%\n",
            "Train Accuracy: 70.97%, Average Train Loss: 0.675476, Test Accuracy: 49.29%, Average Test Loss: 0.985844\n",
            "\n",
            "Epoch 12/60: "
          ]
        },
        {
          "output_type": "stream",
          "name": "stderr",
          "text": [
            "100%|██████████| 2795/2795 [00:13<00:00, 206.18it/s]\n",
            "Batch 699/699, Loss: 1.103160: 100%|██████████| 699/699 [00:03<00:00, 215.83it/s]\n"
          ]
        },
        {
          "output_type": "stream",
          "name": "stdout",
          "text": [
            "\n",
            "Class-wise Accuracy:\n",
            "  Class 2: 9.61%\n",
            "  Class 0: 0.87%\n",
            "  Class 1: 97.40%\n",
            "Test Accuracy: 35.6%, Test Loss: 1.110408\n",
            "\n",
            "\n",
            "Class-wise Accuracy:\n",
            "  Class 2: 9.61%\n",
            "  Class 0: 0.87%\n",
            "  Class 1: 97.40%\n",
            "Train Accuracy: 71.97%, Average Train Loss: 0.662314, Test Accuracy: 35.56%, Average Test Loss: 1.110408\n",
            "\n",
            "Epoch 13/60: "
          ]
        },
        {
          "output_type": "stream",
          "name": "stderr",
          "text": [
            "100%|██████████| 2795/2795 [00:13<00:00, 206.98it/s]\n",
            "Batch 699/699, Loss: 1.020568: 100%|██████████| 699/699 [00:03<00:00, 206.17it/s]\n"
          ]
        },
        {
          "output_type": "stream",
          "name": "stdout",
          "text": [
            "\n",
            "Class-wise Accuracy:\n",
            "  Class 2: 85.90%\n",
            "  Class 0: 7.83%\n",
            "  Class 1: 70.73%\n",
            "Test Accuracy: 54.9%, Test Loss: 1.038130\n",
            "\n",
            "\n",
            "Class-wise Accuracy:\n",
            "  Class 2: 85.90%\n",
            "  Class 0: 7.83%\n",
            "  Class 1: 70.73%\n",
            "Train Accuracy: 71.89%, Average Train Loss: 0.664699, Test Accuracy: 54.88%, Average Test Loss: 1.038130\n",
            "\n",
            "Epoch 14/60: "
          ]
        },
        {
          "output_type": "stream",
          "name": "stderr",
          "text": [
            "100%|██████████| 2795/2795 [00:13<00:00, 205.85it/s]\n",
            "Batch 699/699, Loss: 0.957098: 100%|██████████| 699/699 [00:03<00:00, 210.20it/s]\n"
          ]
        },
        {
          "output_type": "stream",
          "name": "stdout",
          "text": [
            "\n",
            "Class-wise Accuracy:\n",
            "  Class 2: 66.96%\n",
            "  Class 0: 33.61%\n",
            "  Class 1: 89.32%\n",
            "Test Accuracy: 63.2%, Test Loss: 1.211390\n",
            "\n",
            "\n",
            "Class-wise Accuracy:\n",
            "  Class 2: 66.96%\n",
            "  Class 0: 33.61%\n",
            "  Class 1: 89.32%\n",
            "Train Accuracy: 74.66%, Average Train Loss: 0.607447, Test Accuracy: 63.19%, Average Test Loss: 1.211390\n",
            "\n",
            "Epoch 15/60: "
          ]
        },
        {
          "output_type": "stream",
          "name": "stderr",
          "text": [
            "100%|██████████| 2795/2795 [00:13<00:00, 206.68it/s]\n",
            "Batch 699/699, Loss: 0.840255: 100%|██████████| 699/699 [00:03<00:00, 209.53it/s]\n"
          ]
        },
        {
          "output_type": "stream",
          "name": "stdout",
          "text": [
            "\n",
            "Class-wise Accuracy:\n",
            "  Class 2: 80.90%\n",
            "  Class 0: 49.06%\n",
            "  Class 1: 81.85%\n",
            "Test Accuracy: 70.6%, Test Loss: 0.820649\n",
            "\n",
            "\n",
            "Class-wise Accuracy:\n",
            "  Class 2: 80.90%\n",
            "  Class 0: 49.06%\n",
            "  Class 1: 81.85%\n",
            "Train Accuracy: 72.93%, Average Train Loss: 0.645844, Test Accuracy: 70.59%, Average Test Loss: 0.820649\n",
            "\n",
            "Epoch 16/60: "
          ]
        },
        {
          "output_type": "stream",
          "name": "stderr",
          "text": [
            "100%|██████████| 2795/2795 [00:13<00:00, 206.01it/s]\n",
            "Batch 699/699, Loss: 0.954359: 100%|██████████| 699/699 [00:03<00:00, 207.75it/s]\n"
          ]
        },
        {
          "output_type": "stream",
          "name": "stdout",
          "text": [
            "\n",
            "Class-wise Accuracy:\n",
            "  Class 2: 50.70%\n",
            "  Class 0: 36.28%\n",
            "  Class 1: 96.43%\n",
            "Test Accuracy: 60.9%, Test Loss: 0.968364\n",
            "\n",
            "\n",
            "Class-wise Accuracy:\n",
            "  Class 2: 50.70%\n",
            "  Class 0: 36.28%\n",
            "  Class 1: 96.43%\n",
            "Train Accuracy: 75.35%, Average Train Loss: 0.595789, Test Accuracy: 60.92%, Average Test Loss: 0.968364\n",
            "\n",
            "Epoch 17/60: "
          ]
        },
        {
          "output_type": "stream",
          "name": "stderr",
          "text": [
            "100%|██████████| 2795/2795 [00:13<00:00, 206.11it/s]\n",
            "Batch 699/699, Loss: 0.817160: 100%|██████████| 699/699 [00:03<00:00, 207.71it/s]\n"
          ]
        },
        {
          "output_type": "stream",
          "name": "stdout",
          "text": [
            "\n",
            "Class-wise Accuracy:\n",
            "  Class 2: 65.34%\n",
            "  Class 0: 60.68%\n",
            "  Class 1: 76.52%\n",
            "Test Accuracy: 67.5%, Test Loss: 1.699409\n",
            "\n",
            "\n",
            "Class-wise Accuracy:\n",
            "  Class 2: 65.34%\n",
            "  Class 0: 60.68%\n",
            "  Class 1: 76.52%\n",
            "Train Accuracy: 74.86%, Average Train Loss: 0.609235, Test Accuracy: 67.46%, Average Test Loss: 1.699409\n",
            "\n",
            "Epoch 18/60: "
          ]
        },
        {
          "output_type": "stream",
          "name": "stderr",
          "text": [
            "100%|██████████| 2795/2795 [00:13<00:00, 205.87it/s]\n",
            "Batch 699/699, Loss: 0.748699: 100%|██████████| 699/699 [00:03<00:00, 202.22it/s]\n"
          ]
        },
        {
          "output_type": "stream",
          "name": "stdout",
          "text": [
            "\n",
            "Class-wise Accuracy:\n",
            "  Class 2: 77.62%\n",
            "  Class 0: 59.65%\n",
            "  Class 1: 80.58%\n",
            "Test Accuracy: 72.6%, Test Loss: 0.821097\n",
            "\n",
            "\n",
            "Class-wise Accuracy:\n",
            "  Class 2: 77.62%\n",
            "  Class 0: 59.65%\n",
            "  Class 1: 80.58%\n",
            "Train Accuracy: 73.89%, Average Train Loss: 0.623337, Test Accuracy: 72.60%, Average Test Loss: 0.821097\n",
            "\n",
            "Epoch 19/60: "
          ]
        },
        {
          "output_type": "stream",
          "name": "stderr",
          "text": [
            "100%|██████████| 2795/2795 [00:13<00:00, 206.36it/s]\n",
            "Batch 699/699, Loss: 0.976596: 100%|██████████| 699/699 [00:03<00:00, 211.28it/s]\n"
          ]
        },
        {
          "output_type": "stream",
          "name": "stdout",
          "text": [
            "\n",
            "Class-wise Accuracy:\n",
            "  Class 2: 46.58%\n",
            "  Class 0: 10.84%\n",
            "  Class 1: 95.30%\n",
            "Test Accuracy: 50.7%, Test Loss: 1.032483\n",
            "\n",
            "\n",
            "Class-wise Accuracy:\n",
            "  Class 2: 46.58%\n",
            "  Class 0: 10.84%\n",
            "  Class 1: 95.30%\n",
            "Train Accuracy: 74.87%, Average Train Loss: 0.609786, Test Accuracy: 50.68%, Average Test Loss: 1.032483\n",
            "\n",
            "Epoch 20/60: "
          ]
        },
        {
          "output_type": "stream",
          "name": "stderr",
          "text": [
            "100%|██████████| 2795/2795 [00:13<00:00, 206.39it/s]\n",
            "Batch 699/699, Loss: 0.728561: 100%|██████████| 699/699 [00:03<00:00, 210.63it/s]\n"
          ]
        },
        {
          "output_type": "stream",
          "name": "stdout",
          "text": [
            "\n",
            "Class-wise Accuracy:\n",
            "  Class 2: 70.89%\n",
            "  Class 0: 67.96%\n",
            "  Class 1: 89.19%\n",
            "Test Accuracy: 75.9%, Test Loss: 0.729527\n",
            "\n",
            "\n",
            "Class-wise Accuracy:\n",
            "  Class 2: 70.89%\n",
            "  Class 0: 67.96%\n",
            "  Class 1: 89.19%\n",
            "Train Accuracy: 74.57%, Average Train Loss: 0.611020, Test Accuracy: 75.93%, Average Test Loss: 0.729527\n",
            "\n",
            "Epoch 21/60: "
          ]
        },
        {
          "output_type": "stream",
          "name": "stderr",
          "text": [
            "100%|██████████| 2795/2795 [00:13<00:00, 205.96it/s]\n",
            "Batch 699/699, Loss: 0.693392: 100%|██████████| 699/699 [00:03<00:00, 208.97it/s]\n"
          ]
        },
        {
          "output_type": "stream",
          "name": "stdout",
          "text": [
            "\n",
            "Class-wise Accuracy:\n",
            "  Class 2: 73.12%\n",
            "  Class 0: 65.64%\n",
            "  Class 1: 87.57%\n",
            "Test Accuracy: 75.4%, Test Loss: 0.661470\n",
            "\n",
            "\n",
            "Class-wise Accuracy:\n",
            "  Class 2: 73.12%\n",
            "  Class 0: 65.64%\n",
            "  Class 1: 87.57%\n",
            "Train Accuracy: 74.82%, Average Train Loss: 0.610074, Test Accuracy: 75.38%, Average Test Loss: 0.661470\n",
            "\n",
            "Epoch 22/60: "
          ]
        },
        {
          "output_type": "stream",
          "name": "stderr",
          "text": [
            "100%|██████████| 2795/2795 [00:13<00:00, 205.84it/s]\n",
            "Batch 699/699, Loss: 0.679030: 100%|██████████| 699/699 [00:03<00:00, 209.12it/s]\n"
          ]
        },
        {
          "output_type": "stream",
          "name": "stdout",
          "text": [
            "\n",
            "Class-wise Accuracy:\n",
            "  Class 2: 78.44%\n",
            "  Class 0: 60.25%\n",
            "  Class 1: 73.65%\n",
            "Test Accuracy: 70.8%, Test Loss: 0.700936\n",
            "\n",
            "\n",
            "Class-wise Accuracy:\n",
            "  Class 2: 78.44%\n",
            "  Class 0: 60.25%\n",
            "  Class 1: 73.65%\n",
            "Train Accuracy: 76.77%, Average Train Loss: 0.571743, Test Accuracy: 70.80%, Average Test Loss: 0.700936\n",
            "\n",
            "Epoch 23/60: "
          ]
        },
        {
          "output_type": "stream",
          "name": "stderr",
          "text": [
            "100%|██████████| 2795/2795 [00:13<00:00, 205.96it/s]\n",
            "Batch 699/699, Loss: 0.866882: 100%|██████████| 699/699 [00:03<00:00, 210.58it/s]\n"
          ]
        },
        {
          "output_type": "stream",
          "name": "stdout",
          "text": [
            "\n",
            "Class-wise Accuracy:\n",
            "  Class 2: 71.25%\n",
            "  Class 0: 56.28%\n",
            "  Class 1: 77.75%\n",
            "Test Accuracy: 68.4%, Test Loss: 0.848463\n",
            "\n",
            "\n",
            "Class-wise Accuracy:\n",
            "  Class 2: 71.25%\n",
            "  Class 0: 56.28%\n",
            "  Class 1: 77.75%\n",
            "Train Accuracy: 76.75%, Average Train Loss: 0.567592, Test Accuracy: 68.39%, Average Test Loss: 0.848463\n",
            "\n",
            "Epoch 24/60: "
          ]
        },
        {
          "output_type": "stream",
          "name": "stderr",
          "text": [
            "100%|██████████| 2795/2795 [00:13<00:00, 205.85it/s]\n",
            "Batch 699/699, Loss: 0.774380: 100%|██████████| 699/699 [00:03<00:00, 214.13it/s]\n"
          ]
        },
        {
          "output_type": "stream",
          "name": "stdout",
          "text": [
            "\n",
            "Class-wise Accuracy:\n",
            "  Class 2: 76.00%\n",
            "  Class 0: 53.96%\n",
            "  Class 1: 88.66%\n",
            "Test Accuracy: 72.8%, Test Loss: 0.704563\n",
            "\n",
            "\n",
            "Class-wise Accuracy:\n",
            "  Class 2: 76.00%\n",
            "  Class 0: 53.96%\n",
            "  Class 1: 88.66%\n",
            "Train Accuracy: 76.87%, Average Train Loss: 0.565220, Test Accuracy: 72.81%, Average Test Loss: 0.704563\n",
            "\n",
            "Epoch 25/60: "
          ]
        },
        {
          "output_type": "stream",
          "name": "stderr",
          "text": [
            "100%|██████████| 2795/2795 [00:13<00:00, 206.63it/s]\n",
            "Batch 699/699, Loss: 0.649484: 100%|██████████| 699/699 [00:03<00:00, 215.96it/s]\n"
          ]
        },
        {
          "output_type": "stream",
          "name": "stdout",
          "text": [
            "\n",
            "Class-wise Accuracy:\n",
            "  Class 2: 78.28%\n",
            "  Class 0: 61.59%\n",
            "  Class 1: 80.91%\n",
            "Test Accuracy: 73.6%, Test Loss: 0.796607\n",
            "\n",
            "\n",
            "Class-wise Accuracy:\n",
            "  Class 2: 78.28%\n",
            "  Class 0: 61.59%\n",
            "  Class 1: 80.91%\n",
            "Train Accuracy: 76.93%, Average Train Loss: 0.563577, Test Accuracy: 73.58%, Average Test Loss: 0.796607\n",
            "\n",
            "Epoch 26/60: "
          ]
        },
        {
          "output_type": "stream",
          "name": "stderr",
          "text": [
            "100%|██████████| 2795/2795 [00:13<00:00, 205.77it/s]\n",
            "Batch 699/699, Loss: 0.918408: 100%|██████████| 699/699 [00:03<00:00, 209.93it/s]\n"
          ]
        },
        {
          "output_type": "stream",
          "name": "stdout",
          "text": [
            "\n",
            "Class-wise Accuracy:\n",
            "  Class 2: 68.56%\n",
            "  Class 0: 27.80%\n",
            "  Class 1: 94.91%\n",
            "Test Accuracy: 63.6%, Test Loss: 1.125265\n",
            "\n",
            "\n",
            "Class-wise Accuracy:\n",
            "  Class 2: 68.56%\n",
            "  Class 0: 27.80%\n",
            "  Class 1: 94.91%\n",
            "Train Accuracy: 77.56%, Average Train Loss: 0.552065, Test Accuracy: 63.63%, Average Test Loss: 1.125265\n",
            "\n",
            "Epoch 27/60: "
          ]
        },
        {
          "output_type": "stream",
          "name": "stderr",
          "text": [
            "100%|██████████| 2795/2795 [00:13<00:00, 206.48it/s]\n",
            "Batch 699/699, Loss: 0.663213: 100%|██████████| 699/699 [00:03<00:00, 209.44it/s]\n"
          ]
        },
        {
          "output_type": "stream",
          "name": "stdout",
          "text": [
            "\n",
            "Class-wise Accuracy:\n",
            "  Class 2: 78.74%\n",
            "  Class 0: 64.88%\n",
            "  Class 1: 86.53%\n",
            "Test Accuracy: 76.7%, Test Loss: 0.674830\n",
            "\n",
            "\n",
            "Class-wise Accuracy:\n",
            "  Class 2: 78.74%\n",
            "  Class 0: 64.88%\n",
            "  Class 1: 86.53%\n",
            "Train Accuracy: 76.37%, Average Train Loss: 0.584113, Test Accuracy: 76.68%, Average Test Loss: 0.674830\n",
            "\n",
            "Epoch 28/60: "
          ]
        },
        {
          "output_type": "stream",
          "name": "stderr",
          "text": [
            "100%|██████████| 2795/2795 [00:13<00:00, 205.94it/s]\n",
            "Batch 699/699, Loss: 0.852673: 100%|██████████| 699/699 [00:03<00:00, 210.69it/s]\n"
          ]
        },
        {
          "output_type": "stream",
          "name": "stdout",
          "text": [
            "\n",
            "Class-wise Accuracy:\n",
            "  Class 2: 78.74%\n",
            "  Class 0: 39.42%\n",
            "  Class 1: 76.58%\n",
            "Test Accuracy: 64.9%, Test Loss: 0.819921\n",
            "\n",
            "\n",
            "Class-wise Accuracy:\n",
            "  Class 2: 78.74%\n",
            "  Class 0: 39.42%\n",
            "  Class 1: 76.58%\n",
            "Train Accuracy: 77.45%, Average Train Loss: 0.552033, Test Accuracy: 64.92%, Average Test Loss: 0.819921\n",
            "\n",
            "Epoch 29/60: "
          ]
        },
        {
          "output_type": "stream",
          "name": "stderr",
          "text": [
            "100%|██████████| 2795/2795 [00:13<00:00, 206.56it/s]\n",
            "Batch 699/699, Loss: 0.626369: 100%|██████████| 699/699 [00:03<00:00, 211.00it/s]\n"
          ]
        },
        {
          "output_type": "stream",
          "name": "stdout",
          "text": [
            "\n",
            "Class-wise Accuracy:\n",
            "  Class 2: 79.91%\n",
            "  Class 0: 63.63%\n",
            "  Class 1: 80.25%\n",
            "Test Accuracy: 74.6%, Test Loss: 0.766901\n",
            "\n",
            "\n",
            "Class-wise Accuracy:\n",
            "  Class 2: 79.91%\n",
            "  Class 0: 63.63%\n",
            "  Class 1: 80.25%\n",
            "Train Accuracy: 77.58%, Average Train Loss: 0.555599, Test Accuracy: 74.59%, Average Test Loss: 0.766901\n",
            "\n",
            "Epoch 30/60: "
          ]
        },
        {
          "output_type": "stream",
          "name": "stderr",
          "text": [
            "100%|██████████| 2795/2795 [00:13<00:00, 206.19it/s]\n",
            "Batch 699/699, Loss: 0.667726: 100%|██████████| 699/699 [00:03<00:00, 216.30it/s]\n"
          ]
        },
        {
          "output_type": "stream",
          "name": "stdout",
          "text": [
            "\n",
            "Class-wise Accuracy:\n",
            "  Class 2: 75.34%\n",
            "  Class 0: 72.71%\n",
            "  Class 1: 89.78%\n",
            "Test Accuracy: 79.2%, Test Loss: 0.753694\n",
            "\n",
            "\n",
            "Class-wise Accuracy:\n",
            "  Class 2: 75.34%\n",
            "  Class 0: 72.71%\n",
            "  Class 1: 89.78%\n",
            "Train Accuracy: 78.38%, Average Train Loss: 0.533190, Test Accuracy: 79.21%, Average Test Loss: 0.753694\n",
            "\n",
            "Epoch 31/60: "
          ]
        },
        {
          "output_type": "stream",
          "name": "stderr",
          "text": [
            "100%|██████████| 2795/2795 [00:13<00:00, 206.34it/s]\n",
            "Batch 699/699, Loss: 0.685658: 100%|██████████| 699/699 [00:03<00:00, 212.16it/s]\n"
          ]
        },
        {
          "output_type": "stream",
          "name": "stdout",
          "text": [
            "\n",
            "Class-wise Accuracy:\n",
            "  Class 2: 78.89%\n",
            "  Class 0: 56.67%\n",
            "  Class 1: 85.63%\n",
            "Test Accuracy: 73.7%, Test Loss: 0.698293\n",
            "\n",
            "\n",
            "Class-wise Accuracy:\n",
            "  Class 2: 78.89%\n",
            "  Class 0: 56.67%\n",
            "  Class 1: 85.63%\n",
            "Train Accuracy: 78.65%, Average Train Loss: 0.532659, Test Accuracy: 73.69%, Average Test Loss: 0.698293\n",
            "\n",
            "Epoch 32/60: "
          ]
        },
        {
          "output_type": "stream",
          "name": "stderr",
          "text": [
            "100%|██████████| 2795/2795 [00:13<00:00, 205.75it/s]\n",
            "Batch 699/699, Loss: 0.630090: 100%|██████████| 699/699 [00:03<00:00, 213.32it/s]\n"
          ]
        },
        {
          "output_type": "stream",
          "name": "stdout",
          "text": [
            "\n",
            "Class-wise Accuracy:\n",
            "  Class 2: 75.69%\n",
            "  Class 0: 70.06%\n",
            "  Class 1: 89.58%\n",
            "Test Accuracy: 78.4%, Test Loss: 0.659332\n",
            "\n",
            "\n",
            "Class-wise Accuracy:\n",
            "  Class 2: 75.69%\n",
            "  Class 0: 70.06%\n",
            "  Class 1: 89.58%\n",
            "Train Accuracy: 79.08%, Average Train Loss: 0.521966, Test Accuracy: 78.37%, Average Test Loss: 0.659332\n",
            "\n",
            "Epoch 33/60: "
          ]
        },
        {
          "output_type": "stream",
          "name": "stderr",
          "text": [
            "100%|██████████| 2795/2795 [00:13<00:00, 206.92it/s]\n",
            "Batch 699/699, Loss: 0.792430: 100%|██████████| 699/699 [00:03<00:00, 215.45it/s]\n"
          ]
        },
        {
          "output_type": "stream",
          "name": "stdout",
          "text": [
            "\n",
            "Class-wise Accuracy:\n",
            "  Class 2: 73.94%\n",
            "  Class 0: 44.50%\n",
            "  Class 1: 81.08%\n",
            "Test Accuracy: 66.5%, Test Loss: 0.834894\n",
            "\n",
            "\n",
            "Class-wise Accuracy:\n",
            "  Class 2: 73.94%\n",
            "  Class 0: 44.50%\n",
            "  Class 1: 81.08%\n",
            "Train Accuracy: 78.97%, Average Train Loss: 0.520538, Test Accuracy: 66.47%, Average Test Loss: 0.834894\n",
            "\n",
            "Epoch 34/60: "
          ]
        },
        {
          "output_type": "stream",
          "name": "stderr",
          "text": [
            "100%|██████████| 2795/2795 [00:13<00:00, 205.72it/s]\n",
            "Batch 699/699, Loss: 0.671915: 100%|██████████| 699/699 [00:03<00:00, 207.46it/s]\n"
          ]
        },
        {
          "output_type": "stream",
          "name": "stdout",
          "text": [
            "\n",
            "Class-wise Accuracy:\n",
            "  Class 2: 75.38%\n",
            "  Class 0: 61.07%\n",
            "  Class 1: 81.40%\n",
            "Test Accuracy: 72.6%, Test Loss: 0.700099\n",
            "\n",
            "\n",
            "Class-wise Accuracy:\n",
            "  Class 2: 75.38%\n",
            "  Class 0: 61.07%\n",
            "  Class 1: 81.40%\n",
            "Train Accuracy: 78.35%, Average Train Loss: 0.543378, Test Accuracy: 72.59%, Average Test Loss: 0.700099\n",
            "\n",
            "Epoch 35/60: "
          ]
        },
        {
          "output_type": "stream",
          "name": "stderr",
          "text": [
            "100%|██████████| 2795/2795 [00:13<00:00, 206.63it/s]\n",
            "Batch 699/699, Loss: 0.658735: 100%|██████████| 699/699 [00:03<00:00, 208.03it/s]\n"
          ]
        },
        {
          "output_type": "stream",
          "name": "stdout",
          "text": [
            "\n",
            "Class-wise Accuracy:\n",
            "  Class 2: 80.44%\n",
            "  Class 0: 62.99%\n",
            "  Class 1: 86.61%\n",
            "Test Accuracy: 76.6%, Test Loss: 0.742985\n",
            "\n",
            "\n",
            "Class-wise Accuracy:\n",
            "  Class 2: 80.44%\n",
            "  Class 0: 62.99%\n",
            "  Class 1: 86.61%\n",
            "Train Accuracy: 79.55%, Average Train Loss: 0.508973, Test Accuracy: 76.65%, Average Test Loss: 0.742985\n",
            "\n",
            "Epoch 36/60: "
          ]
        },
        {
          "output_type": "stream",
          "name": "stderr",
          "text": [
            "100%|██████████| 2795/2795 [00:13<00:00, 205.73it/s]\n",
            "Batch 699/699, Loss: 0.602616: 100%|██████████| 699/699 [00:03<00:00, 207.00it/s]\n"
          ]
        },
        {
          "output_type": "stream",
          "name": "stdout",
          "text": [
            "\n",
            "Class-wise Accuracy:\n",
            "  Class 2: 78.08%\n",
            "  Class 0: 68.73%\n",
            "  Class 1: 89.59%\n",
            "Test Accuracy: 78.7%, Test Loss: 0.595734\n",
            "\n",
            "\n",
            "Class-wise Accuracy:\n",
            "  Class 2: 78.08%\n",
            "  Class 0: 68.73%\n",
            "  Class 1: 89.59%\n",
            "Train Accuracy: 79.68%, Average Train Loss: 0.507894, Test Accuracy: 78.75%, Average Test Loss: 0.595734\n",
            "\n",
            "Epoch 37/60: "
          ]
        },
        {
          "output_type": "stream",
          "name": "stderr",
          "text": [
            "100%|██████████| 2795/2795 [00:13<00:00, 205.21it/s]\n",
            "Batch 699/699, Loss: 0.526447: 100%|██████████| 699/699 [00:03<00:00, 203.45it/s]\n"
          ]
        },
        {
          "output_type": "stream",
          "name": "stdout",
          "text": [
            "\n",
            "Class-wise Accuracy:\n",
            "  Class 2: 79.55%\n",
            "  Class 0: 77.81%\n",
            "  Class 1: 87.41%\n",
            "Test Accuracy: 81.6%, Test Loss: 0.547040\n",
            "\n",
            "\n",
            "Class-wise Accuracy:\n",
            "  Class 2: 79.55%\n",
            "  Class 0: 77.81%\n",
            "  Class 1: 87.41%\n",
            "Train Accuracy: 79.87%, Average Train Loss: 0.502683, Test Accuracy: 81.56%, Average Test Loss: 0.547040\n",
            "\n",
            "Epoch 38/60: "
          ]
        },
        {
          "output_type": "stream",
          "name": "stderr",
          "text": [
            "100%|██████████| 2795/2795 [00:13<00:00, 205.48it/s]\n",
            "Batch 699/699, Loss: 0.559522: 100%|██████████| 699/699 [00:03<00:00, 207.92it/s]\n"
          ]
        },
        {
          "output_type": "stream",
          "name": "stdout",
          "text": [
            "\n",
            "Class-wise Accuracy:\n",
            "  Class 2: 79.29%\n",
            "  Class 0: 72.55%\n",
            "  Class 1: 86.94%\n",
            "Test Accuracy: 79.6%, Test Loss: 0.606575\n",
            "\n",
            "\n",
            "Class-wise Accuracy:\n",
            "  Class 2: 79.29%\n",
            "  Class 0: 72.55%\n",
            "  Class 1: 86.94%\n",
            "Train Accuracy: 78.93%, Average Train Loss: 0.532773, Test Accuracy: 79.56%, Average Test Loss: 0.606575\n",
            "\n",
            "Epoch 39/60: "
          ]
        },
        {
          "output_type": "stream",
          "name": "stderr",
          "text": [
            "100%|██████████| 2795/2795 [00:13<00:00, 205.73it/s]\n",
            "Batch 699/699, Loss: 0.505956: 100%|██████████| 699/699 [00:03<00:00, 208.31it/s]\n"
          ]
        },
        {
          "output_type": "stream",
          "name": "stdout",
          "text": [
            "\n",
            "Class-wise Accuracy:\n",
            "  Class 2: 83.83%\n",
            "  Class 0: 79.37%\n",
            "  Class 1: 86.51%\n",
            "Test Accuracy: 83.2%, Test Loss: 0.525209\n",
            "\n",
            "\n",
            "Class-wise Accuracy:\n",
            "  Class 2: 83.83%\n",
            "  Class 0: 79.37%\n",
            "  Class 1: 86.51%\n",
            "Train Accuracy: 79.82%, Average Train Loss: 0.498198, Test Accuracy: 83.22%, Average Test Loss: 0.525209\n",
            "\n",
            "Epoch 40/60: "
          ]
        },
        {
          "output_type": "stream",
          "name": "stderr",
          "text": [
            "100%|██████████| 2795/2795 [00:13<00:00, 205.36it/s]\n",
            "Batch 699/699, Loss: 0.602606: 100%|██████████| 699/699 [00:03<00:00, 216.61it/s]\n"
          ]
        },
        {
          "output_type": "stream",
          "name": "stdout",
          "text": [
            "\n",
            "Class-wise Accuracy:\n",
            "  Class 2: 86.29%\n",
            "  Class 0: 62.87%\n",
            "  Class 1: 77.33%\n",
            "Test Accuracy: 75.5%, Test Loss: 0.666358\n",
            "\n",
            "\n",
            "Class-wise Accuracy:\n",
            "  Class 2: 86.29%\n",
            "  Class 0: 62.87%\n",
            "  Class 1: 77.33%\n",
            "Train Accuracy: 80.48%, Average Train Loss: 0.484894, Test Accuracy: 75.53%, Average Test Loss: 0.666358\n",
            "\n",
            "Epoch 41/60: "
          ]
        },
        {
          "output_type": "stream",
          "name": "stderr",
          "text": [
            "100%|██████████| 2795/2795 [00:13<00:00, 205.64it/s]\n",
            "Batch 699/699, Loss: 0.564181: 100%|██████████| 699/699 [00:03<00:00, 205.19it/s]\n"
          ]
        },
        {
          "output_type": "stream",
          "name": "stdout",
          "text": [
            "\n",
            "Class-wise Accuracy:\n",
            "  Class 2: 81.68%\n",
            "  Class 0: 68.94%\n",
            "  Class 1: 84.69%\n",
            "Test Accuracy: 78.4%, Test Loss: 0.650131\n",
            "\n",
            "\n",
            "Class-wise Accuracy:\n",
            "  Class 2: 81.68%\n",
            "  Class 0: 68.94%\n",
            "  Class 1: 84.69%\n",
            "Train Accuracy: 80.19%, Average Train Loss: 0.491904, Test Accuracy: 78.42%, Average Test Loss: 0.650131\n",
            "\n",
            "Epoch 42/60: "
          ]
        },
        {
          "output_type": "stream",
          "name": "stderr",
          "text": [
            "100%|██████████| 2795/2795 [00:13<00:00, 206.09it/s]\n",
            "Batch 699/699, Loss: 0.805746: 100%|██████████| 699/699 [00:03<00:00, 199.02it/s]\n"
          ]
        },
        {
          "output_type": "stream",
          "name": "stdout",
          "text": [
            "\n",
            "Class-wise Accuracy:\n",
            "  Class 2: 78.84%\n",
            "  Class 0: 45.10%\n",
            "  Class 1: 74.20%\n",
            "Test Accuracy: 66.1%, Test Loss: 0.793393\n",
            "\n",
            "\n",
            "Class-wise Accuracy:\n",
            "  Class 2: 78.84%\n",
            "  Class 0: 45.10%\n",
            "  Class 1: 74.20%\n",
            "Train Accuracy: 80.57%, Average Train Loss: 0.482523, Test Accuracy: 66.06%, Average Test Loss: 0.793393\n",
            "\n",
            "Epoch 43/60: "
          ]
        },
        {
          "output_type": "stream",
          "name": "stderr",
          "text": [
            "100%|██████████| 2795/2795 [00:13<00:00, 206.20it/s]\n",
            "Batch 699/699, Loss: 0.551111: 100%|██████████| 699/699 [00:03<00:00, 200.35it/s]\n"
          ]
        },
        {
          "output_type": "stream",
          "name": "stdout",
          "text": [
            "\n",
            "Class-wise Accuracy:\n",
            "  Class 2: 80.25%\n",
            "  Class 0: 70.23%\n",
            "  Class 1: 87.14%\n",
            "Test Accuracy: 79.2%, Test Loss: 0.627810\n",
            "\n",
            "\n",
            "Class-wise Accuracy:\n",
            "  Class 2: 80.25%\n",
            "  Class 0: 70.23%\n",
            "  Class 1: 87.14%\n",
            "Train Accuracy: 80.85%, Average Train Loss: 0.476546, Test Accuracy: 79.18%, Average Test Loss: 0.627810\n",
            "\n",
            "Epoch 44/60: "
          ]
        },
        {
          "output_type": "stream",
          "name": "stderr",
          "text": [
            "100%|██████████| 2795/2795 [00:13<00:00, 204.50it/s]\n",
            "Batch 699/699, Loss: 0.541478: 100%|██████████| 699/699 [00:03<00:00, 204.47it/s]\n"
          ]
        },
        {
          "output_type": "stream",
          "name": "stdout",
          "text": [
            "\n",
            "Class-wise Accuracy:\n",
            "  Class 2: 80.06%\n",
            "  Class 0: 75.21%\n",
            "  Class 1: 87.02%\n",
            "Test Accuracy: 80.7%, Test Loss: 0.607051\n",
            "\n",
            "\n",
            "Class-wise Accuracy:\n",
            "  Class 2: 80.06%\n",
            "  Class 0: 75.21%\n",
            "  Class 1: 87.02%\n",
            "Train Accuracy: 80.81%, Average Train Loss: 0.476800, Test Accuracy: 80.73%, Average Test Loss: 0.607051\n",
            "\n",
            "Epoch 45/60: "
          ]
        },
        {
          "output_type": "stream",
          "name": "stderr",
          "text": [
            "100%|██████████| 2795/2795 [00:13<00:00, 204.45it/s]\n",
            "Batch 699/699, Loss: 0.602001: 100%|██████████| 699/699 [00:03<00:00, 200.84it/s]\n"
          ]
        },
        {
          "output_type": "stream",
          "name": "stdout",
          "text": [
            "\n",
            "Class-wise Accuracy:\n",
            "  Class 2: 81.13%\n",
            "  Class 0: 63.44%\n",
            "  Class 1: 83.25%\n",
            "Test Accuracy: 75.9%, Test Loss: 0.666566\n",
            "\n",
            "\n",
            "Class-wise Accuracy:\n",
            "  Class 2: 81.13%\n",
            "  Class 0: 63.44%\n",
            "  Class 1: 83.25%\n",
            "Train Accuracy: 80.94%, Average Train Loss: 0.476642, Test Accuracy: 75.93%, Average Test Loss: 0.666566\n",
            "\n",
            "Epoch 46/60: "
          ]
        },
        {
          "output_type": "stream",
          "name": "stderr",
          "text": [
            "100%|██████████| 2795/2795 [00:13<00:00, 204.64it/s]\n",
            "Batch 699/699, Loss: 0.537569: 100%|██████████| 699/699 [00:03<00:00, 207.46it/s]\n"
          ]
        },
        {
          "output_type": "stream",
          "name": "stdout",
          "text": [
            "\n",
            "Class-wise Accuracy:\n",
            "  Class 2: 81.33%\n",
            "  Class 0: 69.31%\n",
            "  Class 1: 85.87%\n",
            "Test Accuracy: 78.8%, Test Loss: 0.638600\n",
            "\n",
            "\n",
            "Class-wise Accuracy:\n",
            "  Class 2: 81.33%\n",
            "  Class 0: 69.31%\n",
            "  Class 1: 85.87%\n",
            "Train Accuracy: 81.05%, Average Train Loss: 0.470970, Test Accuracy: 78.81%, Average Test Loss: 0.638600\n",
            "\n",
            "Epoch 47/60: "
          ]
        },
        {
          "output_type": "stream",
          "name": "stderr",
          "text": [
            "100%|██████████| 2795/2795 [00:13<00:00, 204.43it/s]\n",
            "Batch 699/699, Loss: 0.540805: 100%|██████████| 699/699 [00:03<00:00, 200.12it/s]\n"
          ]
        },
        {
          "output_type": "stream",
          "name": "stdout",
          "text": [
            "\n",
            "Class-wise Accuracy:\n",
            "  Class 2: 78.65%\n",
            "  Class 0: 77.94%\n",
            "  Class 1: 87.57%\n",
            "Test Accuracy: 81.3%, Test Loss: 0.578130\n",
            "\n",
            "\n",
            "Class-wise Accuracy:\n",
            "  Class 2: 78.65%\n",
            "  Class 0: 77.94%\n",
            "  Class 1: 87.57%\n",
            "Train Accuracy: 81.20%, Average Train Loss: 0.472329, Test Accuracy: 81.35%, Average Test Loss: 0.578130\n",
            "\n",
            "Epoch 48/60: "
          ]
        },
        {
          "output_type": "stream",
          "name": "stderr",
          "text": [
            "100%|██████████| 2795/2795 [00:13<00:00, 204.90it/s]\n",
            "Batch 699/699, Loss: 0.752790: 100%|██████████| 699/699 [00:03<00:00, 203.59it/s]\n"
          ]
        },
        {
          "output_type": "stream",
          "name": "stdout",
          "text": [
            "\n",
            "Class-wise Accuracy:\n",
            "  Class 2: 82.55%\n",
            "  Class 0: 42.74%\n",
            "  Class 1: 72.35%\n",
            "Test Accuracy: 65.9%, Test Loss: 0.773847\n",
            "\n",
            "\n",
            "Class-wise Accuracy:\n",
            "  Class 2: 82.55%\n",
            "  Class 0: 42.74%\n",
            "  Class 1: 72.35%\n",
            "Train Accuracy: 81.23%, Average Train Loss: 0.465906, Test Accuracy: 65.92%, Average Test Loss: 0.773847\n",
            "\n",
            "Epoch 49/60: "
          ]
        },
        {
          "output_type": "stream",
          "name": "stderr",
          "text": [
            "100%|██████████| 2795/2795 [00:13<00:00, 205.82it/s]\n",
            "Batch 699/699, Loss: 0.549194: 100%|██████████| 699/699 [00:03<00:00, 214.69it/s]\n"
          ]
        },
        {
          "output_type": "stream",
          "name": "stdout",
          "text": [
            "\n",
            "Class-wise Accuracy:\n",
            "  Class 2: 76.24%\n",
            "  Class 0: 78.27%\n",
            "  Class 1: 85.97%\n",
            "Test Accuracy: 80.1%, Test Loss: 0.713062\n",
            "\n",
            "\n",
            "Class-wise Accuracy:\n",
            "  Class 2: 76.24%\n",
            "  Class 0: 78.27%\n",
            "  Class 1: 85.97%\n",
            "Train Accuracy: 81.28%, Average Train Loss: 0.467784, Test Accuracy: 80.11%, Average Test Loss: 0.713062\n",
            "\n",
            "Epoch 50/60: "
          ]
        },
        {
          "output_type": "stream",
          "name": "stderr",
          "text": [
            "100%|██████████| 2795/2795 [00:13<00:00, 205.05it/s]\n",
            "Batch 699/699, Loss: 0.727016: 100%|██████████| 699/699 [00:03<00:00, 211.23it/s]\n"
          ]
        },
        {
          "output_type": "stream",
          "name": "stdout",
          "text": [
            "\n",
            "Class-wise Accuracy:\n",
            "  Class 2: 84.15%\n",
            "  Class 0: 46.22%\n",
            "  Class 1: 70.75%\n",
            "Test Accuracy: 67.1%, Test Loss: 0.746067\n",
            "\n",
            "\n",
            "Class-wise Accuracy:\n",
            "  Class 2: 84.15%\n",
            "  Class 0: 46.22%\n",
            "  Class 1: 70.75%\n",
            "Train Accuracy: 81.43%, Average Train Loss: 0.463339, Test Accuracy: 67.10%, Average Test Loss: 0.746067\n",
            "\n",
            "Epoch 51/60: "
          ]
        },
        {
          "output_type": "stream",
          "name": "stderr",
          "text": [
            "100%|██████████| 2795/2795 [00:13<00:00, 205.81it/s]\n",
            "Batch 699/699, Loss: 0.586490: 100%|██████████| 699/699 [00:03<00:00, 216.27it/s]\n"
          ]
        },
        {
          "output_type": "stream",
          "name": "stdout",
          "text": [
            "\n",
            "Class-wise Accuracy:\n",
            "  Class 2: 84.57%\n",
            "  Class 0: 60.28%\n",
            "  Class 1: 81.14%\n",
            "Test Accuracy: 75.3%, Test Loss: 0.651326\n",
            "\n",
            "\n",
            "Class-wise Accuracy:\n",
            "  Class 2: 84.57%\n",
            "  Class 0: 60.28%\n",
            "  Class 1: 81.14%\n",
            "Train Accuracy: 81.58%, Average Train Loss: 0.456614, Test Accuracy: 75.34%, Average Test Loss: 0.651326\n",
            "\n",
            "Epoch 52/60: "
          ]
        },
        {
          "output_type": "stream",
          "name": "stderr",
          "text": [
            "100%|██████████| 2795/2795 [00:13<00:00, 206.11it/s]\n",
            "Batch 699/699, Loss: 0.547106: 100%|██████████| 699/699 [00:03<00:00, 206.72it/s]\n"
          ]
        },
        {
          "output_type": "stream",
          "name": "stdout",
          "text": [
            "\n",
            "Class-wise Accuracy:\n",
            "  Class 2: 78.67%\n",
            "  Class 0: 73.40%\n",
            "  Class 1: 90.28%\n",
            "Test Accuracy: 80.7%, Test Loss: 0.609318\n",
            "\n",
            "\n",
            "Class-wise Accuracy:\n",
            "  Class 2: 78.67%\n",
            "  Class 0: 73.40%\n",
            "  Class 1: 90.28%\n",
            "Train Accuracy: 81.61%, Average Train Loss: 0.459340, Test Accuracy: 80.73%, Average Test Loss: 0.609318\n",
            "\n",
            "Epoch 53/60: "
          ]
        },
        {
          "output_type": "stream",
          "name": "stderr",
          "text": [
            "100%|██████████| 2795/2795 [00:13<00:00, 206.30it/s]\n",
            "Batch 699/699, Loss: 0.498976: 100%|██████████| 699/699 [00:03<00:00, 212.13it/s]\n"
          ]
        },
        {
          "output_type": "stream",
          "name": "stdout",
          "text": [
            "\n",
            "Class-wise Accuracy:\n",
            "  Class 2: 80.82%\n",
            "  Class 0: 75.80%\n",
            "  Class 1: 87.36%\n",
            "Test Accuracy: 81.3%, Test Loss: 0.544977\n",
            "\n",
            "\n",
            "Class-wise Accuracy:\n",
            "  Class 2: 80.82%\n",
            "  Class 0: 75.80%\n",
            "  Class 1: 87.36%\n",
            "Train Accuracy: 81.39%, Average Train Loss: 0.463356, Test Accuracy: 81.30%, Average Test Loss: 0.544977\n",
            "\n",
            "Epoch 54/60: "
          ]
        },
        {
          "output_type": "stream",
          "name": "stderr",
          "text": [
            "100%|██████████| 2795/2795 [00:13<00:00, 206.25it/s]\n",
            "Batch 699/699, Loss: 0.536615: 100%|██████████| 699/699 [00:03<00:00, 205.43it/s]\n"
          ]
        },
        {
          "output_type": "stream",
          "name": "stdout",
          "text": [
            "\n",
            "Class-wise Accuracy:\n",
            "  Class 2: 81.95%\n",
            "  Class 0: 68.59%\n",
            "  Class 1: 84.65%\n",
            "Test Accuracy: 78.4%, Test Loss: 0.564400\n",
            "\n",
            "\n",
            "Class-wise Accuracy:\n",
            "  Class 2: 81.95%\n",
            "  Class 0: 68.59%\n",
            "  Class 1: 84.65%\n",
            "Train Accuracy: 81.67%, Average Train Loss: 0.455723, Test Accuracy: 78.38%, Average Test Loss: 0.564400\n",
            "\n",
            "Epoch 55/60: "
          ]
        },
        {
          "output_type": "stream",
          "name": "stderr",
          "text": [
            "100%|██████████| 2795/2795 [00:13<00:00, 205.94it/s]\n",
            "Batch 699/699, Loss: 0.498635: 100%|██████████| 699/699 [00:03<00:00, 204.20it/s]\n"
          ]
        },
        {
          "output_type": "stream",
          "name": "stdout",
          "text": [
            "\n",
            "Class-wise Accuracy:\n",
            "  Class 2: 85.35%\n",
            "  Class 0: 71.88%\n",
            "  Class 1: 85.45%\n",
            "Test Accuracy: 80.9%, Test Loss: 0.525169\n",
            "\n",
            "\n",
            "Class-wise Accuracy:\n",
            "  Class 2: 85.35%\n",
            "  Class 0: 71.88%\n",
            "  Class 1: 85.45%\n",
            "Train Accuracy: 81.72%, Average Train Loss: 0.459196, Test Accuracy: 80.89%, Average Test Loss: 0.525169\n",
            "\n",
            "Epoch 56/60: "
          ]
        },
        {
          "output_type": "stream",
          "name": "stderr",
          "text": [
            "100%|██████████| 2795/2795 [00:13<00:00, 206.11it/s]\n",
            "Batch 699/699, Loss: 0.548249: 100%|██████████| 699/699 [00:03<00:00, 207.06it/s]\n"
          ]
        },
        {
          "output_type": "stream",
          "name": "stdout",
          "text": [
            "\n",
            "Class-wise Accuracy:\n",
            "  Class 2: 84.58%\n",
            "  Class 0: 65.95%\n",
            "  Class 1: 83.52%\n",
            "Test Accuracy: 78.0%, Test Loss: 0.579648\n",
            "\n",
            "\n",
            "Class-wise Accuracy:\n",
            "  Class 2: 84.58%\n",
            "  Class 0: 65.95%\n",
            "  Class 1: 83.52%\n",
            "Train Accuracy: 81.75%, Average Train Loss: 0.457470, Test Accuracy: 78.02%, Average Test Loss: 0.579648\n",
            "\n",
            "Epoch 57/60: "
          ]
        },
        {
          "output_type": "stream",
          "name": "stderr",
          "text": [
            "100%|██████████| 2795/2795 [00:13<00:00, 206.15it/s]\n",
            "Batch 699/699, Loss: 0.508850: 100%|██████████| 699/699 [00:03<00:00, 212.21it/s]\n"
          ]
        },
        {
          "output_type": "stream",
          "name": "stdout",
          "text": [
            "\n",
            "Class-wise Accuracy:\n",
            "  Class 2: 80.27%\n",
            "  Class 0: 82.48%\n",
            "  Class 1: 90.45%\n",
            "Test Accuracy: 84.4%, Test Loss: 0.431427\n",
            "\n",
            "\n",
            "Class-wise Accuracy:\n",
            "  Class 2: 80.27%\n",
            "  Class 0: 82.48%\n",
            "  Class 1: 90.45%\n",
            "Train Accuracy: 81.67%, Average Train Loss: 0.452129, Test Accuracy: 84.35%, Average Test Loss: 0.431427\n",
            "\n",
            "Epoch 58/60: "
          ]
        },
        {
          "output_type": "stream",
          "name": "stderr",
          "text": [
            "100%|██████████| 2795/2795 [00:13<00:00, 205.26it/s]\n",
            "Batch 699/699, Loss: 0.516598: 100%|██████████| 699/699 [00:03<00:00, 203.05it/s]\n"
          ]
        },
        {
          "output_type": "stream",
          "name": "stdout",
          "text": [
            "\n",
            "Class-wise Accuracy:\n",
            "  Class 2: 81.18%\n",
            "  Class 0: 78.11%\n",
            "  Class 1: 85.03%\n",
            "Test Accuracy: 81.4%, Test Loss: 0.513783\n",
            "\n",
            "\n",
            "Class-wise Accuracy:\n",
            "  Class 2: 81.18%\n",
            "  Class 0: 78.11%\n",
            "  Class 1: 85.03%\n",
            "Train Accuracy: 81.83%, Average Train Loss: 0.455161, Test Accuracy: 81.42%, Average Test Loss: 0.513783\n",
            "\n",
            "Epoch 59/60: "
          ]
        },
        {
          "output_type": "stream",
          "name": "stderr",
          "text": [
            "100%|██████████| 2795/2795 [00:13<00:00, 205.60it/s]\n",
            "Batch 699/699, Loss: 0.583679: 100%|██████████| 699/699 [00:03<00:00, 209.58it/s]\n"
          ]
        },
        {
          "output_type": "stream",
          "name": "stdout",
          "text": [
            "\n",
            "Class-wise Accuracy:\n",
            "  Class 2: 87.27%\n",
            "  Class 0: 60.10%\n",
            "  Class 1: 74.52%\n",
            "Test Accuracy: 74.0%, Test Loss: 0.625980\n",
            "\n",
            "\n",
            "Class-wise Accuracy:\n",
            "  Class 2: 87.27%\n",
            "  Class 0: 60.10%\n",
            "  Class 1: 74.52%\n",
            "Train Accuracy: 81.80%, Average Train Loss: 0.453420, Test Accuracy: 74.02%, Average Test Loss: 0.625980\n",
            "\n",
            "Epoch 60/60: "
          ]
        },
        {
          "output_type": "stream",
          "name": "stderr",
          "text": [
            "100%|██████████| 2795/2795 [00:13<00:00, 205.35it/s]\n",
            "Batch 699/699, Loss: 0.549422: 100%|██████████| 699/699 [00:03<00:00, 210.92it/s]\n"
          ]
        },
        {
          "output_type": "stream",
          "name": "stdout",
          "text": [
            "\n",
            "Class-wise Accuracy:\n",
            "  Class 2: 76.16%\n",
            "  Class 0: 72.78%\n",
            "  Class 1: 90.70%\n",
            "Test Accuracy: 79.8%, Test Loss: 0.542327\n",
            "\n",
            "\n",
            "Class-wise Accuracy:\n",
            "  Class 2: 76.16%\n",
            "  Class 0: 72.78%\n",
            "  Class 1: 90.70%\n",
            "Train Accuracy: 81.84%, Average Train Loss: 0.455740, Test Accuracy: 79.81%, Average Test Loss: 0.542327\n",
            "\n"
          ]
        },
        {
          "output_type": "display_data",
          "data": {
            "text/plain": [
              "<IPython.core.display.HTML object>"
            ],
            "text/html": []
          },
          "metadata": {}
        },
        {
          "output_type": "display_data",
          "data": {
            "text/plain": [
              "<IPython.core.display.HTML object>"
            ],
            "text/html": [
              "<br>    <style><br>        .wandb-row {<br>            display: flex;<br>            flex-direction: row;<br>            flex-wrap: wrap;<br>            justify-content: flex-start;<br>            width: 100%;<br>        }<br>        .wandb-col {<br>            display: flex;<br>            flex-direction: column;<br>            flex-basis: 100%;<br>            flex: 1;<br>            padding: 10px;<br>        }<br>    </style><br><div class=\"wandb-row\"><div class=\"wandb-col\"><h3>Run history:</h3><br/><table class=\"wandb\"><tr><td>class_0_accuracy</td><td>▂▃▁▁▁▁▁▂▅▆▂▇▇▆▆▆▄▆▇▆▅▆▆█▇▆▇▅▇▆█▅█▅▇▇▇▇█▇</td></tr><tr><td>class_1_accuracy</td><td>█▁▇▆█████▃█▄▅▇▆▃▄▆▅▄▆▆▆▆▆▅▃▆▅▆▃▆▃▅▆▅▆▅▆▄</td></tr><tr><td>class_2_accuracy</td><td>▄▅▁▂▃▂█▆▇▅▇▅▇▇▇▇▇▇▇▇▇▇▇▇▇██▇▇██▇██▇███▇█</td></tr><tr><td>epoch</td><td>▁▁▁▁▁▂▂▂▂▂▃▃▃▃▃▄▄▄▄▄▅▅▅▅▅▆▆▆▆▆▇▇▇▇▇▇████</td></tr><tr><td>learning_rate</td><td>██████▇▇▇▇▆▆▆▆▆▅▅▄▄▄▃▃▃▃▃▂▂▂▂▂▁▁▁▁▁▁▁▁▁▁</td></tr><tr><td>test_accuracy</td><td>▁▂▃▂▂▂▃▅▆▅▇▇▆▆▆▇▅▇▆▇▆▇▇▇█▇▅▇▇▇█▇▅▇▇▇▇▇█▇</td></tr><tr><td>test_loss</td><td>▅▄▄▅▅▅▄▅▄▅▄█▃▄▃▃▃▅▂▃▂▃▂▃▂▂▂▂▃▂▂▂▂▃▃▂▂▂▁▂</td></tr><tr><td>train_accuracy</td><td>▁▃▃▄▅▅▆▅▆▆▆▆▆▆▆▇▆▇▇▇▇▇▇▇▇███████████████</td></tr><tr><td>train_loss</td><td>█▇▆▅▆▅▄▄▄▄▄▃▃▃▃▃▂▂▂▂▂▂▂▂▂▂▂▁▁▁▁▁▁▁▁▁▁▁▁▁</td></tr></table><br/></div><div class=\"wandb-col\"><h3>Run summary:</h3><br/><table class=\"wandb\"><tr><td>class_0_accuracy</td><td>72.77972</td></tr><tr><td>class_1_accuracy</td><td>90.70495</td></tr><tr><td>class_2_accuracy</td><td>76.1621</td></tr><tr><td>epoch</td><td>60</td></tr><tr><td>learning_rate</td><td>0.0</td></tr><tr><td>test_accuracy</td><td>79.81479</td></tr><tr><td>test_loss</td><td>0.54233</td></tr><tr><td>train_accuracy</td><td>81.84299</td></tr><tr><td>train_loss</td><td>0.45574</td></tr></table><br/></div></div>"
            ]
          },
          "metadata": {}
        },
        {
          "output_type": "display_data",
          "data": {
            "text/plain": [
              "<IPython.core.display.HTML object>"
            ],
            "text/html": [
              " View run <strong style=\"color:#cdcd00\">ShallowAttentionNet 4788347</strong> at: <a href='https://wandb.ai/philinthesky/Master%20Thesis/runs/p5c3qru1' target=\"_blank\">https://wandb.ai/philinthesky/Master%20Thesis/runs/p5c3qru1</a><br> View project at: <a href='https://wandb.ai/philinthesky/Master%20Thesis' target=\"_blank\">https://wandb.ai/philinthesky/Master%20Thesis</a><br>Synced 5 W&B file(s), 0 media file(s), 0 artifact file(s) and 0 other file(s)"
            ]
          },
          "metadata": {}
        },
        {
          "output_type": "display_data",
          "data": {
            "text/plain": [
              "<IPython.core.display.HTML object>"
            ],
            "text/html": [
              "Find logs at: <code>./wandb/run-20250330_153016-p5c3qru1/logs</code>"
            ]
          },
          "metadata": {}
        },
        {
          "output_type": "stream",
          "name": "stdout",
          "text": [
            "ShallowAttentionNet(\n",
            "  (temporal): Conv2d(1, 10, kernel_size=(1, 25), stride=(1, 1))\n",
            "  (spatial_att): SpatialAttention(\n",
            "    (conv): Conv2d(10, 10, kernel_size=(1, 1), stride=(1, 1), bias=False)\n",
            "    (pool): MaxPool2d(kernel_size=(1, 5), stride=(1, 5), padding=0, dilation=1, ceil_mode=False)\n",
            "  )\n",
            "  (batch_norm): BatchNorm2d(10, eps=1e-05, momentum=0.1, affine=True, track_running_stats=True)\n",
            "  (pool): AvgPool2d(kernel_size=(1, 20), stride=(1, 20), padding=0)\n",
            "  (dropout): Dropout(p=0.5, inplace=False)\n",
            "  (fc): Linear(in_features=960, out_features=3, bias=True)\n",
            ")\n"
          ]
        },
        {
          "output_type": "display_data",
          "data": {
            "text/plain": [
              "<IPython.core.display.HTML object>"
            ],
            "text/html": [
              "Tracking run with wandb version 0.19.8"
            ]
          },
          "metadata": {}
        },
        {
          "output_type": "display_data",
          "data": {
            "text/plain": [
              "<IPython.core.display.HTML object>"
            ],
            "text/html": [
              "Run data is saved locally in <code>/content/wandb/run-20250330_154745-wscuh4q3</code>"
            ]
          },
          "metadata": {}
        },
        {
          "output_type": "display_data",
          "data": {
            "text/plain": [
              "<IPython.core.display.HTML object>"
            ],
            "text/html": [
              "Syncing run <strong><a href='https://wandb.ai/philinthesky/Master%20Thesis/runs/wscuh4q3' target=\"_blank\">ShallowAttentionNet 77766666</a></strong> to <a href='https://wandb.ai/philinthesky/Master%20Thesis' target=\"_blank\">Weights & Biases</a> (<a href='https://wandb.me/developer-guide' target=\"_blank\">docs</a>)<br>"
            ]
          },
          "metadata": {}
        },
        {
          "output_type": "display_data",
          "data": {
            "text/plain": [
              "<IPython.core.display.HTML object>"
            ],
            "text/html": [
              " View project at <a href='https://wandb.ai/philinthesky/Master%20Thesis' target=\"_blank\">https://wandb.ai/philinthesky/Master%20Thesis</a>"
            ]
          },
          "metadata": {}
        },
        {
          "output_type": "display_data",
          "data": {
            "text/plain": [
              "<IPython.core.display.HTML object>"
            ],
            "text/html": [
              " View run at <a href='https://wandb.ai/philinthesky/Master%20Thesis/runs/wscuh4q3' target=\"_blank\">https://wandb.ai/philinthesky/Master%20Thesis/runs/wscuh4q3</a>"
            ]
          },
          "metadata": {}
        },
        {
          "output_type": "stream",
          "name": "stdout",
          "text": [
            "Epoch 1/60: "
          ]
        },
        {
          "output_type": "stream",
          "name": "stderr",
          "text": [
            "100%|██████████| 2795/2795 [00:13<00:00, 205.83it/s]\n",
            "Batch 699/699, Loss: 1.088007: 100%|██████████| 699/699 [00:03<00:00, 207.66it/s]\n"
          ]
        },
        {
          "output_type": "stream",
          "name": "stdout",
          "text": [
            "\n",
            "Class-wise Accuracy:\n",
            "  Class 2: 10.45%\n",
            "  Class 0: 7.59%\n",
            "  Class 1: 91.49%\n",
            "Test Accuracy: 36.1%, Test Loss: 1.133384\n",
            "\n",
            "\n",
            "Class-wise Accuracy:\n",
            "  Class 2: 10.45%\n",
            "  Class 0: 7.59%\n",
            "  Class 1: 91.49%\n",
            "Train Accuracy: 54.27%, Average Train Loss: 0.985931, Test Accuracy: 36.14%, Average Test Loss: 1.133384\n",
            "\n",
            "Epoch 2/60: "
          ]
        },
        {
          "output_type": "stream",
          "name": "stderr",
          "text": [
            "100%|██████████| 2795/2795 [00:13<00:00, 203.86it/s]\n",
            "Batch 699/699, Loss: 1.078898: 100%|██████████| 699/699 [00:03<00:00, 212.74it/s]\n"
          ]
        },
        {
          "output_type": "stream",
          "name": "stdout",
          "text": [
            "\n",
            "Class-wise Accuracy:\n",
            "  Class 2: 1.15%\n",
            "  Class 0: 1.07%\n",
            "  Class 1: 99.61%\n",
            "Test Accuracy: 33.5%, Test Loss: 1.107536\n",
            "\n",
            "\n",
            "Class-wise Accuracy:\n",
            "  Class 2: 1.15%\n",
            "  Class 0: 1.07%\n",
            "  Class 1: 99.61%\n",
            "Train Accuracy: 58.93%, Average Train Loss: 0.887937, Test Accuracy: 33.49%, Average Test Loss: 1.107536\n",
            "\n",
            "Epoch 3/60: "
          ]
        },
        {
          "output_type": "stream",
          "name": "stderr",
          "text": [
            "100%|██████████| 2795/2795 [00:13<00:00, 204.77it/s]\n",
            "Batch 699/699, Loss: 1.105205: 100%|██████████| 699/699 [00:03<00:00, 213.63it/s]\n"
          ]
        },
        {
          "output_type": "stream",
          "name": "stdout",
          "text": [
            "\n",
            "Class-wise Accuracy:\n",
            "  Class 2: 1.13%\n",
            "  Class 0: 1.17%\n",
            "  Class 1: 99.62%\n",
            "Test Accuracy: 33.5%, Test Loss: 1.108994\n",
            "\n",
            "\n",
            "Class-wise Accuracy:\n",
            "  Class 2: 1.13%\n",
            "  Class 0: 1.17%\n",
            "  Class 1: 99.62%\n",
            "Train Accuracy: 62.13%, Average Train Loss: 0.833867, Test Accuracy: 33.52%, Average Test Loss: 1.108994\n",
            "\n",
            "Epoch 4/60: "
          ]
        },
        {
          "output_type": "stream",
          "name": "stderr",
          "text": [
            "100%|██████████| 2795/2795 [00:13<00:00, 206.65it/s]\n",
            "Batch 699/699, Loss: 1.053553: 100%|██████████| 699/699 [00:03<00:00, 215.79it/s]\n"
          ]
        },
        {
          "output_type": "stream",
          "name": "stdout",
          "text": [
            "\n",
            "Class-wise Accuracy:\n",
            "  Class 2: 22.25%\n",
            "  Class 0: 23.56%\n",
            "  Class 1: 95.73%\n",
            "Test Accuracy: 46.8%, Test Loss: 1.064862\n",
            "\n",
            "\n",
            "Class-wise Accuracy:\n",
            "  Class 2: 22.25%\n",
            "  Class 0: 23.56%\n",
            "  Class 1: 95.73%\n",
            "Train Accuracy: 61.99%, Average Train Loss: 0.840588, Test Accuracy: 46.84%, Average Test Loss: 1.064862\n",
            "\n",
            "Epoch 5/60: "
          ]
        },
        {
          "output_type": "stream",
          "name": "stderr",
          "text": [
            "100%|██████████| 2795/2795 [00:13<00:00, 207.28it/s]\n",
            "Batch 699/699, Loss: 1.009496: 100%|██████████| 699/699 [00:03<00:00, 212.62it/s]\n"
          ]
        },
        {
          "output_type": "stream",
          "name": "stdout",
          "text": [
            "\n",
            "Class-wise Accuracy:\n",
            "  Class 2: 51.66%\n",
            "  Class 0: 19.31%\n",
            "  Class 1: 81.93%\n",
            "Test Accuracy: 50.8%, Test Loss: 1.068750\n",
            "\n",
            "\n",
            "Class-wise Accuracy:\n",
            "  Class 2: 51.66%\n",
            "  Class 0: 19.31%\n",
            "  Class 1: 81.93%\n",
            "Train Accuracy: 61.83%, Average Train Loss: 0.837862, Test Accuracy: 50.82%, Average Test Loss: 1.068750\n",
            "\n",
            "Epoch 6/60: "
          ]
        },
        {
          "output_type": "stream",
          "name": "stderr",
          "text": [
            "100%|██████████| 2795/2795 [00:13<00:00, 206.02it/s]\n",
            "Batch 699/699, Loss: 1.090900: 100%|██████████| 699/699 [00:03<00:00, 217.66it/s]\n"
          ]
        },
        {
          "output_type": "stream",
          "name": "stdout",
          "text": [
            "\n",
            "Class-wise Accuracy:\n",
            "  Class 2: 2.03%\n",
            "  Class 0: 0.99%\n",
            "  Class 1: 99.48%\n",
            "Test Accuracy: 33.7%, Test Loss: 1.104611\n",
            "\n",
            "\n",
            "Class-wise Accuracy:\n",
            "  Class 2: 2.03%\n",
            "  Class 0: 0.99%\n",
            "  Class 1: 99.48%\n",
            "Train Accuracy: 62.67%, Average Train Loss: 0.829437, Test Accuracy: 33.72%, Average Test Loss: 1.104611\n",
            "\n",
            "Epoch 7/60: "
          ]
        },
        {
          "output_type": "stream",
          "name": "stderr",
          "text": [
            "100%|██████████| 2795/2795 [00:13<00:00, 205.31it/s]\n",
            "Batch 699/699, Loss: 1.072179: 100%|██████████| 699/699 [00:03<00:00, 214.36it/s]\n"
          ]
        },
        {
          "output_type": "stream",
          "name": "stdout",
          "text": [
            "\n",
            "Class-wise Accuracy:\n",
            "  Class 2: 15.14%\n",
            "  Class 0: 21.00%\n",
            "  Class 1: 97.69%\n",
            "Test Accuracy: 44.2%, Test Loss: 1.140115\n",
            "\n",
            "\n",
            "Class-wise Accuracy:\n",
            "  Class 2: 15.14%\n",
            "  Class 0: 21.00%\n",
            "  Class 1: 97.69%\n",
            "Train Accuracy: 66.30%, Average Train Loss: 0.767310, Test Accuracy: 44.23%, Average Test Loss: 1.140115\n",
            "\n",
            "Epoch 8/60: "
          ]
        },
        {
          "output_type": "stream",
          "name": "stderr",
          "text": [
            "100%|██████████| 2795/2795 [00:13<00:00, 205.18it/s]\n",
            "Batch 699/699, Loss: 0.955194: 100%|██████████| 699/699 [00:03<00:00, 211.62it/s]\n"
          ]
        },
        {
          "output_type": "stream",
          "name": "stdout",
          "text": [
            "\n",
            "Class-wise Accuracy:\n",
            "  Class 2: 60.01%\n",
            "  Class 0: 33.95%\n",
            "  Class 1: 93.96%\n",
            "Test Accuracy: 62.5%, Test Loss: 1.046662\n",
            "\n",
            "\n",
            "Class-wise Accuracy:\n",
            "  Class 2: 60.01%\n",
            "  Class 0: 33.95%\n",
            "  Class 1: 93.96%\n",
            "Train Accuracy: 68.66%, Average Train Loss: 0.724628, Test Accuracy: 62.48%, Average Test Loss: 1.046662\n",
            "\n",
            "Epoch 9/60: "
          ]
        },
        {
          "output_type": "stream",
          "name": "stderr",
          "text": [
            "100%|██████████| 2795/2795 [00:13<00:00, 206.71it/s]\n",
            "Batch 699/699, Loss: 0.981232: 100%|██████████| 699/699 [00:03<00:00, 215.02it/s]\n"
          ]
        },
        {
          "output_type": "stream",
          "name": "stdout",
          "text": [
            "\n",
            "Class-wise Accuracy:\n",
            "  Class 2: 44.17%\n",
            "  Class 0: 26.04%\n",
            "  Class 1: 96.19%\n",
            "Test Accuracy: 55.2%, Test Loss: 1.026252\n",
            "\n",
            "\n",
            "Class-wise Accuracy:\n",
            "  Class 2: 44.17%\n",
            "  Class 0: 26.04%\n",
            "  Class 1: 96.19%\n",
            "Train Accuracy: 71.12%, Average Train Loss: 0.680530, Test Accuracy: 55.22%, Average Test Loss: 1.026252\n",
            "\n",
            "Epoch 10/60: "
          ]
        },
        {
          "output_type": "stream",
          "name": "stderr",
          "text": [
            "100%|██████████| 2795/2795 [00:13<00:00, 205.10it/s]\n",
            "Batch 699/699, Loss: 1.000789: 100%|██████████| 699/699 [00:03<00:00, 211.03it/s]\n"
          ]
        },
        {
          "output_type": "stream",
          "name": "stdout",
          "text": [
            "\n",
            "Class-wise Accuracy:\n",
            "  Class 2: 47.23%\n",
            "  Class 0: 29.21%\n",
            "  Class 1: 92.69%\n",
            "Test Accuracy: 56.2%, Test Loss: 1.043480\n",
            "\n",
            "\n",
            "Class-wise Accuracy:\n",
            "  Class 2: 47.23%\n",
            "  Class 0: 29.21%\n",
            "  Class 1: 92.69%\n",
            "Train Accuracy: 71.74%, Average Train Loss: 0.663555, Test Accuracy: 56.16%, Average Test Loss: 1.043480\n",
            "\n",
            "Epoch 11/60: "
          ]
        },
        {
          "output_type": "stream",
          "name": "stderr",
          "text": [
            "100%|██████████| 2795/2795 [00:13<00:00, 206.25it/s]\n",
            "Batch 699/699, Loss: 0.787385: 100%|██████████| 699/699 [00:03<00:00, 209.28it/s]\n"
          ]
        },
        {
          "output_type": "stream",
          "name": "stdout",
          "text": [
            "\n",
            "Class-wise Accuracy:\n",
            "  Class 2: 63.83%\n",
            "  Class 0: 57.16%\n",
            "  Class 1: 92.51%\n",
            "Test Accuracy: 71.0%, Test Loss: 0.913713\n",
            "\n",
            "\n",
            "Class-wise Accuracy:\n",
            "  Class 2: 63.83%\n",
            "  Class 0: 57.16%\n",
            "  Class 1: 92.51%\n",
            "Train Accuracy: 74.04%, Average Train Loss: 0.629061, Test Accuracy: 71.04%, Average Test Loss: 0.913713\n",
            "\n",
            "Epoch 12/60: "
          ]
        },
        {
          "output_type": "stream",
          "name": "stderr",
          "text": [
            "100%|██████████| 2795/2795 [00:13<00:00, 205.84it/s]\n",
            "Batch 699/699, Loss: 0.750596: 100%|██████████| 699/699 [00:03<00:00, 213.19it/s]\n"
          ]
        },
        {
          "output_type": "stream",
          "name": "stdout",
          "text": [
            "\n",
            "Class-wise Accuracy:\n",
            "  Class 2: 63.20%\n",
            "  Class 0: 60.60%\n",
            "  Class 1: 88.06%\n",
            "Test Accuracy: 70.5%, Test Loss: 1.279006\n",
            "\n",
            "\n",
            "Class-wise Accuracy:\n",
            "  Class 2: 63.20%\n",
            "  Class 0: 60.60%\n",
            "  Class 1: 88.06%\n",
            "Train Accuracy: 74.67%, Average Train Loss: 0.612896, Test Accuracy: 70.51%, Average Test Loss: 1.279006\n",
            "\n",
            "Epoch 13/60: "
          ]
        },
        {
          "output_type": "stream",
          "name": "stderr",
          "text": [
            "100%|██████████| 2795/2795 [00:13<00:00, 205.74it/s]\n",
            "Batch 699/699, Loss: 1.104969: 100%|██████████| 699/699 [00:03<00:00, 213.03it/s]\n"
          ]
        },
        {
          "output_type": "stream",
          "name": "stdout",
          "text": [
            "\n",
            "Class-wise Accuracy:\n",
            "  Class 2: 56.88%\n",
            "  Class 0: 49.09%\n",
            "  Class 1: 68.92%\n",
            "Test Accuracy: 58.2%, Test Loss: 1.029827\n",
            "\n",
            "\n",
            "Class-wise Accuracy:\n",
            "  Class 2: 56.88%\n",
            "  Class 0: 49.09%\n",
            "  Class 1: 68.92%\n",
            "Train Accuracy: 75.25%, Average Train Loss: 0.608229, Test Accuracy: 58.24%, Average Test Loss: 1.029827\n",
            "\n",
            "Epoch 14/60: "
          ]
        },
        {
          "output_type": "stream",
          "name": "stderr",
          "text": [
            "100%|██████████| 2795/2795 [00:13<00:00, 202.42it/s]\n",
            "Batch 699/699, Loss: 0.829028: 100%|██████████| 699/699 [00:03<00:00, 205.25it/s]\n"
          ]
        },
        {
          "output_type": "stream",
          "name": "stdout",
          "text": [
            "\n",
            "Class-wise Accuracy:\n",
            "  Class 2: 60.57%\n",
            "  Class 0: 55.34%\n",
            "  Class 1: 91.32%\n",
            "Test Accuracy: 68.9%, Test Loss: 0.756948\n",
            "\n",
            "\n",
            "Class-wise Accuracy:\n",
            "  Class 2: 60.57%\n",
            "  Class 0: 55.34%\n",
            "  Class 1: 91.32%\n",
            "Train Accuracy: 74.98%, Average Train Loss: 0.615594, Test Accuracy: 68.93%, Average Test Loss: 0.756948\n",
            "\n",
            "Epoch 15/60: "
          ]
        },
        {
          "output_type": "stream",
          "name": "stderr",
          "text": [
            "100%|██████████| 2795/2795 [00:13<00:00, 203.92it/s]\n",
            "Batch 699/699, Loss: 0.688976: 100%|██████████| 699/699 [00:03<00:00, 209.00it/s]\n"
          ]
        },
        {
          "output_type": "stream",
          "name": "stdout",
          "text": [
            "\n",
            "Class-wise Accuracy:\n",
            "  Class 2: 72.90%\n",
            "  Class 0: 66.07%\n",
            "  Class 1: 87.13%\n",
            "Test Accuracy: 75.3%, Test Loss: 0.643560\n",
            "\n",
            "\n",
            "Class-wise Accuracy:\n",
            "  Class 2: 72.90%\n",
            "  Class 0: 66.07%\n",
            "  Class 1: 87.13%\n",
            "Train Accuracy: 76.22%, Average Train Loss: 0.580648, Test Accuracy: 75.30%, Average Test Loss: 0.643560\n",
            "\n",
            "Epoch 16/60: "
          ]
        },
        {
          "output_type": "stream",
          "name": "stderr",
          "text": [
            "100%|██████████| 2795/2795 [00:13<00:00, 204.92it/s]\n",
            "Batch 699/699, Loss: 1.004292: 100%|██████████| 699/699 [00:03<00:00, 206.11it/s]\n"
          ]
        },
        {
          "output_type": "stream",
          "name": "stdout",
          "text": [
            "\n",
            "Class-wise Accuracy:\n",
            "  Class 2: 21.22%\n",
            "  Class 0: 18.34%\n",
            "  Class 1: 98.19%\n",
            "Test Accuracy: 45.6%, Test Loss: 1.008408\n",
            "\n",
            "\n",
            "Class-wise Accuracy:\n",
            "  Class 2: 21.22%\n",
            "  Class 0: 18.34%\n",
            "  Class 1: 98.19%\n",
            "Train Accuracy: 76.67%, Average Train Loss: 0.571541, Test Accuracy: 45.56%, Average Test Loss: 1.008408\n",
            "\n",
            "Epoch 17/60: "
          ]
        },
        {
          "output_type": "stream",
          "name": "stderr",
          "text": [
            "100%|██████████| 2795/2795 [00:13<00:00, 204.70it/s]\n",
            "Batch 699/699, Loss: 0.846340: 100%|██████████| 699/699 [00:03<00:00, 204.04it/s]\n"
          ]
        },
        {
          "output_type": "stream",
          "name": "stdout",
          "text": [
            "\n",
            "Class-wise Accuracy:\n",
            "  Class 2: 58.09%\n",
            "  Class 0: 46.67%\n",
            "  Class 1: 95.66%\n",
            "Test Accuracy: 66.6%, Test Loss: 0.776919\n",
            "\n",
            "\n",
            "Class-wise Accuracy:\n",
            "  Class 2: 58.09%\n",
            "  Class 0: 46.67%\n",
            "  Class 1: 95.66%\n",
            "Train Accuracy: 77.08%, Average Train Loss: 0.568705, Test Accuracy: 66.63%, Average Test Loss: 0.776919\n",
            "\n",
            "Epoch 18/60: "
          ]
        },
        {
          "output_type": "stream",
          "name": "stderr",
          "text": [
            "100%|██████████| 2795/2795 [00:13<00:00, 204.00it/s]\n",
            "Batch 699/699, Loss: 0.705630: 100%|██████████| 699/699 [00:03<00:00, 208.72it/s]\n"
          ]
        },
        {
          "output_type": "stream",
          "name": "stdout",
          "text": [
            "\n",
            "Class-wise Accuracy:\n",
            "  Class 2: 76.39%\n",
            "  Class 0: 61.60%\n",
            "  Class 1: 85.60%\n",
            "Test Accuracy: 74.5%, Test Loss: 0.700343\n",
            "\n",
            "\n",
            "Class-wise Accuracy:\n",
            "  Class 2: 76.39%\n",
            "  Class 0: 61.60%\n",
            "  Class 1: 85.60%\n",
            "Train Accuracy: 77.10%, Average Train Loss: 0.558948, Test Accuracy: 74.49%, Average Test Loss: 0.700343\n",
            "\n",
            "Epoch 19/60: "
          ]
        },
        {
          "output_type": "stream",
          "name": "stderr",
          "text": [
            "100%|██████████| 2795/2795 [00:13<00:00, 204.62it/s]\n",
            "Batch 699/699, Loss: 0.741986: 100%|██████████| 699/699 [00:03<00:00, 206.83it/s]\n"
          ]
        },
        {
          "output_type": "stream",
          "name": "stdout",
          "text": [
            "\n",
            "Class-wise Accuracy:\n",
            "  Class 2: 59.53%\n",
            "  Class 0: 55.18%\n",
            "  Class 1: 83.79%\n",
            "Test Accuracy: 66.1%, Test Loss: 0.805244\n",
            "\n",
            "\n",
            "Class-wise Accuracy:\n",
            "  Class 2: 59.53%\n",
            "  Class 0: 55.18%\n",
            "  Class 1: 83.79%\n",
            "Train Accuracy: 77.07%, Average Train Loss: 0.564142, Test Accuracy: 66.05%, Average Test Loss: 0.805244\n",
            "\n",
            "Epoch 20/60: "
          ]
        },
        {
          "output_type": "stream",
          "name": "stderr",
          "text": [
            "100%|██████████| 2795/2795 [00:13<00:00, 204.49it/s]\n",
            "Batch 699/699, Loss: 0.805635: 100%|██████████| 699/699 [00:03<00:00, 215.20it/s]\n"
          ]
        },
        {
          "output_type": "stream",
          "name": "stdout",
          "text": [
            "\n",
            "Class-wise Accuracy:\n",
            "  Class 2: 58.39%\n",
            "  Class 0: 51.38%\n",
            "  Class 1: 88.01%\n",
            "Test Accuracy: 65.8%, Test Loss: 0.788828\n",
            "\n",
            "\n",
            "Class-wise Accuracy:\n",
            "  Class 2: 58.39%\n",
            "  Class 0: 51.38%\n",
            "  Class 1: 88.01%\n",
            "Train Accuracy: 77.23%, Average Train Loss: 0.557451, Test Accuracy: 65.79%, Average Test Loss: 0.788828\n",
            "\n",
            "Epoch 21/60: "
          ]
        },
        {
          "output_type": "stream",
          "name": "stderr",
          "text": [
            "100%|██████████| 2795/2795 [00:13<00:00, 205.07it/s]\n",
            "Batch 699/699, Loss: 0.728228: 100%|██████████| 699/699 [00:03<00:00, 204.94it/s]\n"
          ]
        },
        {
          "output_type": "stream",
          "name": "stdout",
          "text": [
            "\n",
            "Class-wise Accuracy:\n",
            "  Class 2: 74.08%\n",
            "  Class 0: 54.12%\n",
            "  Class 1: 86.40%\n",
            "Test Accuracy: 71.5%, Test Loss: 0.710444\n",
            "\n",
            "\n",
            "Class-wise Accuracy:\n",
            "  Class 2: 74.08%\n",
            "  Class 0: 54.12%\n",
            "  Class 1: 86.40%\n",
            "Train Accuracy: 78.59%, Average Train Loss: 0.529812, Test Accuracy: 71.48%, Average Test Loss: 0.710444\n",
            "\n",
            "Epoch 22/60: "
          ]
        },
        {
          "output_type": "stream",
          "name": "stderr",
          "text": [
            "100%|██████████| 2795/2795 [00:13<00:00, 203.86it/s]\n",
            "Batch 699/699, Loss: 0.627681: 100%|██████████| 699/699 [00:03<00:00, 206.61it/s]\n"
          ]
        },
        {
          "output_type": "stream",
          "name": "stdout",
          "text": [
            "\n",
            "Class-wise Accuracy:\n",
            "  Class 2: 75.94%\n",
            "  Class 0: 67.39%\n",
            "  Class 1: 90.30%\n",
            "Test Accuracy: 77.8%, Test Loss: 0.694526\n",
            "\n",
            "\n",
            "Class-wise Accuracy:\n",
            "  Class 2: 75.94%\n",
            "  Class 0: 67.39%\n",
            "  Class 1: 90.30%\n",
            "Train Accuracy: 79.06%, Average Train Loss: 0.515439, Test Accuracy: 77.81%, Average Test Loss: 0.694526\n",
            "\n",
            "Epoch 23/60: "
          ]
        },
        {
          "output_type": "stream",
          "name": "stderr",
          "text": [
            "100%|██████████| 2795/2795 [00:13<00:00, 203.91it/s]\n",
            "Batch 699/699, Loss: 0.616756: 100%|██████████| 699/699 [00:03<00:00, 205.46it/s]\n"
          ]
        },
        {
          "output_type": "stream",
          "name": "stdout",
          "text": [
            "\n",
            "Class-wise Accuracy:\n",
            "  Class 2: 87.31%\n",
            "  Class 0: 64.85%\n",
            "  Class 1: 72.06%\n",
            "Test Accuracy: 74.8%, Test Loss: 0.645940\n",
            "\n",
            "\n",
            "Class-wise Accuracy:\n",
            "  Class 2: 87.31%\n",
            "  Class 0: 64.85%\n",
            "  Class 1: 72.06%\n",
            "Train Accuracy: 78.94%, Average Train Loss: 0.520983, Test Accuracy: 74.81%, Average Test Loss: 0.645940\n",
            "\n",
            "Epoch 24/60: "
          ]
        },
        {
          "output_type": "stream",
          "name": "stderr",
          "text": [
            "100%|██████████| 2795/2795 [00:13<00:00, 204.84it/s]\n",
            "Batch 699/699, Loss: 0.634282: 100%|██████████| 699/699 [00:03<00:00, 204.73it/s]\n"
          ]
        },
        {
          "output_type": "stream",
          "name": "stdout",
          "text": [
            "\n",
            "Class-wise Accuracy:\n",
            "  Class 2: 73.99%\n",
            "  Class 0: 67.52%\n",
            "  Class 1: 90.07%\n",
            "Test Accuracy: 77.1%, Test Loss: 0.659336\n",
            "\n",
            "\n",
            "Class-wise Accuracy:\n",
            "  Class 2: 73.99%\n",
            "  Class 0: 67.52%\n",
            "  Class 1: 90.07%\n",
            "Train Accuracy: 78.12%, Average Train Loss: 0.539869, Test Accuracy: 77.12%, Average Test Loss: 0.659336\n",
            "\n",
            "Epoch 25/60: "
          ]
        },
        {
          "output_type": "stream",
          "name": "stderr",
          "text": [
            "100%|██████████| 2795/2795 [00:13<00:00, 205.50it/s]\n",
            "Batch 699/699, Loss: 0.554675: 100%|██████████| 699/699 [00:03<00:00, 211.27it/s]\n"
          ]
        },
        {
          "output_type": "stream",
          "name": "stdout",
          "text": [
            "\n",
            "Class-wise Accuracy:\n",
            "  Class 2: 74.15%\n",
            "  Class 0: 77.52%\n",
            "  Class 1: 85.93%\n",
            "Test Accuracy: 79.1%, Test Loss: 1.185765\n",
            "\n",
            "\n",
            "Class-wise Accuracy:\n",
            "  Class 2: 74.15%\n",
            "  Class 0: 77.52%\n",
            "  Class 1: 85.93%\n",
            "Train Accuracy: 79.18%, Average Train Loss: 0.510541, Test Accuracy: 79.14%, Average Test Loss: 1.185765\n",
            "\n",
            "Epoch 26/60: "
          ]
        },
        {
          "output_type": "stream",
          "name": "stderr",
          "text": [
            "100%|██████████| 2795/2795 [00:13<00:00, 205.59it/s]\n",
            "Batch 699/699, Loss: 0.846841: 100%|██████████| 699/699 [00:03<00:00, 205.83it/s]\n"
          ]
        },
        {
          "output_type": "stream",
          "name": "stdout",
          "text": [
            "\n",
            "Class-wise Accuracy:\n",
            "  Class 2: 79.63%\n",
            "  Class 0: 28.51%\n",
            "  Class 1: 76.99%\n",
            "Test Accuracy: 61.7%, Test Loss: 0.878515\n",
            "\n",
            "\n",
            "Class-wise Accuracy:\n",
            "  Class 2: 79.63%\n",
            "  Class 0: 28.51%\n",
            "  Class 1: 76.99%\n",
            "Train Accuracy: 79.85%, Average Train Loss: 0.498398, Test Accuracy: 61.71%, Average Test Loss: 0.878515\n",
            "\n",
            "Epoch 27/60: "
          ]
        },
        {
          "output_type": "stream",
          "name": "stderr",
          "text": [
            "100%|██████████| 2795/2795 [00:13<00:00, 206.02it/s]\n",
            "Batch 699/699, Loss: 0.892692: 100%|██████████| 699/699 [00:03<00:00, 205.99it/s]\n"
          ]
        },
        {
          "output_type": "stream",
          "name": "stdout",
          "text": [
            "\n",
            "Class-wise Accuracy:\n",
            "  Class 2: 53.01%\n",
            "  Class 0: 28.96%\n",
            "  Class 1: 94.03%\n",
            "Test Accuracy: 58.5%, Test Loss: 0.878409\n",
            "\n",
            "\n",
            "Class-wise Accuracy:\n",
            "  Class 2: 53.01%\n",
            "  Class 0: 28.96%\n",
            "  Class 1: 94.03%\n",
            "Train Accuracy: 79.85%, Average Train Loss: 0.494941, Test Accuracy: 58.48%, Average Test Loss: 0.878409\n",
            "\n",
            "Epoch 28/60: "
          ]
        },
        {
          "output_type": "stream",
          "name": "stderr",
          "text": [
            "100%|██████████| 2795/2795 [00:13<00:00, 205.18it/s]\n",
            "Batch 699/699, Loss: 0.619582: 100%|██████████| 699/699 [00:03<00:00, 210.72it/s]\n"
          ]
        },
        {
          "output_type": "stream",
          "name": "stdout",
          "text": [
            "\n",
            "Class-wise Accuracy:\n",
            "  Class 2: 78.61%\n",
            "  Class 0: 63.24%\n",
            "  Class 1: 85.81%\n",
            "Test Accuracy: 75.9%, Test Loss: 0.632835\n",
            "\n",
            "\n",
            "Class-wise Accuracy:\n",
            "  Class 2: 78.61%\n",
            "  Class 0: 63.24%\n",
            "  Class 1: 85.81%\n",
            "Train Accuracy: 79.24%, Average Train Loss: 0.513362, Test Accuracy: 75.85%, Average Test Loss: 0.632835\n",
            "\n",
            "Epoch 29/60: "
          ]
        },
        {
          "output_type": "stream",
          "name": "stderr",
          "text": [
            "100%|██████████| 2795/2795 [00:13<00:00, 205.87it/s]\n",
            "Batch 699/699, Loss: 0.563187: 100%|██████████| 699/699 [00:03<00:00, 206.54it/s]\n"
          ]
        },
        {
          "output_type": "stream",
          "name": "stdout",
          "text": [
            "\n",
            "Class-wise Accuracy:\n",
            "  Class 2: 76.64%\n",
            "  Class 0: 74.72%\n",
            "  Class 1: 84.72%\n",
            "Test Accuracy: 78.7%, Test Loss: 0.721254\n",
            "\n",
            "\n",
            "Class-wise Accuracy:\n",
            "  Class 2: 76.64%\n",
            "  Class 0: 74.72%\n",
            "  Class 1: 84.72%\n",
            "Train Accuracy: 79.85%, Average Train Loss: 0.496462, Test Accuracy: 78.66%, Average Test Loss: 0.721254\n",
            "\n",
            "Epoch 30/60: "
          ]
        },
        {
          "output_type": "stream",
          "name": "stderr",
          "text": [
            "100%|██████████| 2795/2795 [00:13<00:00, 205.58it/s]\n",
            "Batch 699/699, Loss: 0.547620: 100%|██████████| 699/699 [00:03<00:00, 213.68it/s]\n"
          ]
        },
        {
          "output_type": "stream",
          "name": "stdout",
          "text": [
            "\n",
            "Class-wise Accuracy:\n",
            "  Class 2: 81.14%\n",
            "  Class 0: 71.09%\n",
            "  Class 1: 82.49%\n",
            "Test Accuracy: 78.2%, Test Loss: 0.614372\n",
            "\n",
            "\n",
            "Class-wise Accuracy:\n",
            "  Class 2: 81.14%\n",
            "  Class 0: 71.09%\n",
            "  Class 1: 82.49%\n",
            "Train Accuracy: 80.57%, Average Train Loss: 0.483475, Test Accuracy: 78.23%, Average Test Loss: 0.614372\n",
            "\n",
            "Epoch 31/60: "
          ]
        },
        {
          "output_type": "stream",
          "name": "stderr",
          "text": [
            "100%|██████████| 2795/2795 [00:13<00:00, 205.82it/s]\n",
            "Batch 699/699, Loss: 0.906226: 100%|██████████| 699/699 [00:03<00:00, 213.75it/s]\n"
          ]
        },
        {
          "output_type": "stream",
          "name": "stdout",
          "text": [
            "\n",
            "Class-wise Accuracy:\n",
            "  Class 2: 85.11%\n",
            "  Class 0: 15.71%\n",
            "  Class 1: 72.22%\n",
            "Test Accuracy: 57.7%, Test Loss: 0.961905\n",
            "\n",
            "\n",
            "Class-wise Accuracy:\n",
            "  Class 2: 85.11%\n",
            "  Class 0: 15.71%\n",
            "  Class 1: 72.22%\n",
            "Train Accuracy: 80.89%, Average Train Loss: 0.475442, Test Accuracy: 57.73%, Average Test Loss: 0.961905\n",
            "\n",
            "Epoch 32/60: "
          ]
        },
        {
          "output_type": "stream",
          "name": "stderr",
          "text": [
            "100%|██████████| 2795/2795 [00:13<00:00, 205.69it/s]\n",
            "Batch 699/699, Loss: 0.802597: 100%|██████████| 699/699 [00:03<00:00, 206.64it/s]\n"
          ]
        },
        {
          "output_type": "stream",
          "name": "stdout",
          "text": [
            "\n",
            "Class-wise Accuracy:\n",
            "  Class 2: 73.84%\n",
            "  Class 0: 30.28%\n",
            "  Class 1: 88.83%\n",
            "Test Accuracy: 64.2%, Test Loss: 0.863175\n",
            "\n",
            "\n",
            "Class-wise Accuracy:\n",
            "  Class 2: 73.84%\n",
            "  Class 0: 30.28%\n",
            "  Class 1: 88.83%\n",
            "Train Accuracy: 81.01%, Average Train Loss: 0.471098, Test Accuracy: 64.24%, Average Test Loss: 0.863175\n",
            "\n",
            "Epoch 33/60: "
          ]
        },
        {
          "output_type": "stream",
          "name": "stderr",
          "text": [
            "100%|██████████| 2795/2795 [00:13<00:00, 205.21it/s]\n",
            "Batch 699/699, Loss: 0.524363: 100%|██████████| 699/699 [00:03<00:00, 209.38it/s]\n"
          ]
        },
        {
          "output_type": "stream",
          "name": "stdout",
          "text": [
            "\n",
            "Class-wise Accuracy:\n",
            "  Class 2: 79.62%\n",
            "  Class 0: 72.47%\n",
            "  Class 1: 84.39%\n",
            "Test Accuracy: 78.8%, Test Loss: 0.596466\n",
            "\n",
            "\n",
            "Class-wise Accuracy:\n",
            "  Class 2: 79.62%\n",
            "  Class 0: 72.47%\n",
            "  Class 1: 84.39%\n",
            "Train Accuracy: 81.28%, Average Train Loss: 0.466226, Test Accuracy: 78.80%, Average Test Loss: 0.596466\n",
            "\n",
            "Epoch 34/60: "
          ]
        },
        {
          "output_type": "stream",
          "name": "stderr",
          "text": [
            "100%|██████████| 2795/2795 [00:13<00:00, 204.89it/s]\n",
            "Batch 699/699, Loss: 0.528996: 100%|██████████| 699/699 [00:03<00:00, 211.01it/s]\n"
          ]
        },
        {
          "output_type": "stream",
          "name": "stdout",
          "text": [
            "\n",
            "Class-wise Accuracy:\n",
            "  Class 2: 81.04%\n",
            "  Class 0: 74.04%\n",
            "  Class 1: 84.61%\n",
            "Test Accuracy: 79.9%, Test Loss: 0.576494\n",
            "\n",
            "\n",
            "Class-wise Accuracy:\n",
            "  Class 2: 81.04%\n",
            "  Class 0: 74.04%\n",
            "  Class 1: 84.61%\n",
            "Train Accuracy: 81.93%, Average Train Loss: 0.452701, Test Accuracy: 79.88%, Average Test Loss: 0.576494\n",
            "\n",
            "Epoch 35/60: "
          ]
        },
        {
          "output_type": "stream",
          "name": "stderr",
          "text": [
            "100%|██████████| 2795/2795 [00:13<00:00, 205.28it/s]\n",
            "Batch 699/699, Loss: 0.461407: 100%|██████████| 699/699 [00:03<00:00, 206.97it/s]\n"
          ]
        },
        {
          "output_type": "stream",
          "name": "stdout",
          "text": [
            "\n",
            "Class-wise Accuracy:\n",
            "  Class 2: 83.30%\n",
            "  Class 0: 79.74%\n",
            "  Class 1: 84.47%\n",
            "Test Accuracy: 82.5%, Test Loss: 0.549391\n",
            "\n",
            "\n",
            "Class-wise Accuracy:\n",
            "  Class 2: 83.30%\n",
            "  Class 0: 79.74%\n",
            "  Class 1: 84.47%\n",
            "Train Accuracy: 81.75%, Average Train Loss: 0.452635, Test Accuracy: 82.50%, Average Test Loss: 0.549391\n",
            "\n",
            "Epoch 36/60: "
          ]
        },
        {
          "output_type": "stream",
          "name": "stderr",
          "text": [
            "100%|██████████| 2795/2795 [00:13<00:00, 205.38it/s]\n",
            "Batch 699/699, Loss: 0.476365: 100%|██████████| 699/699 [00:03<00:00, 211.69it/s]\n"
          ]
        },
        {
          "output_type": "stream",
          "name": "stdout",
          "text": [
            "\n",
            "Class-wise Accuracy:\n",
            "  Class 2: 88.12%\n",
            "  Class 0: 73.42%\n",
            "  Class 1: 80.59%\n",
            "Test Accuracy: 80.7%, Test Loss: 0.563500\n",
            "\n",
            "\n",
            "Class-wise Accuracy:\n",
            "  Class 2: 88.12%\n",
            "  Class 0: 73.42%\n",
            "  Class 1: 80.59%\n",
            "Train Accuracy: 82.15%, Average Train Loss: 0.445509, Test Accuracy: 80.75%, Average Test Loss: 0.563500\n",
            "\n",
            "Epoch 37/60: "
          ]
        },
        {
          "output_type": "stream",
          "name": "stderr",
          "text": [
            "100%|██████████| 2795/2795 [00:13<00:00, 205.85it/s]\n",
            "Batch 699/699, Loss: 0.516296: 100%|██████████| 699/699 [00:03<00:00, 214.04it/s]\n"
          ]
        },
        {
          "output_type": "stream",
          "name": "stdout",
          "text": [
            "\n",
            "Class-wise Accuracy:\n",
            "  Class 2: 81.74%\n",
            "  Class 0: 71.25%\n",
            "  Class 1: 86.55%\n",
            "Test Accuracy: 79.8%, Test Loss: 0.614596\n",
            "\n",
            "\n",
            "Class-wise Accuracy:\n",
            "  Class 2: 81.74%\n",
            "  Class 0: 71.25%\n",
            "  Class 1: 86.55%\n",
            "Train Accuracy: 81.92%, Average Train Loss: 0.453689, Test Accuracy: 79.82%, Average Test Loss: 0.614596\n",
            "\n",
            "Epoch 38/60: "
          ]
        },
        {
          "output_type": "stream",
          "name": "stderr",
          "text": [
            "100%|██████████| 2795/2795 [00:13<00:00, 205.97it/s]\n",
            "Batch 699/699, Loss: 0.490924: 100%|██████████| 699/699 [00:03<00:00, 211.91it/s]\n"
          ]
        },
        {
          "output_type": "stream",
          "name": "stdout",
          "text": [
            "\n",
            "Class-wise Accuracy:\n",
            "  Class 2: 82.28%\n",
            "  Class 0: 76.32%\n",
            "  Class 1: 84.55%\n",
            "Test Accuracy: 81.0%, Test Loss: 0.642651\n",
            "\n",
            "\n",
            "Class-wise Accuracy:\n",
            "  Class 2: 82.28%\n",
            "  Class 0: 76.32%\n",
            "  Class 1: 84.55%\n",
            "Train Accuracy: 82.04%, Average Train Loss: 0.448258, Test Accuracy: 81.04%, Average Test Loss: 0.642651\n",
            "\n",
            "Epoch 39/60: "
          ]
        },
        {
          "output_type": "stream",
          "name": "stderr",
          "text": [
            "100%|██████████| 2795/2795 [00:13<00:00, 205.97it/s]\n",
            "Batch 699/699, Loss: 0.461079: 100%|██████████| 699/699 [00:03<00:00, 215.13it/s]\n"
          ]
        },
        {
          "output_type": "stream",
          "name": "stdout",
          "text": [
            "\n",
            "Class-wise Accuracy:\n",
            "  Class 2: 82.47%\n",
            "  Class 0: 77.49%\n",
            "  Class 1: 86.38%\n",
            "Test Accuracy: 82.1%, Test Loss: 0.546808\n",
            "\n",
            "\n",
            "Class-wise Accuracy:\n",
            "  Class 2: 82.47%\n",
            "  Class 0: 77.49%\n",
            "  Class 1: 86.38%\n",
            "Train Accuracy: 82.53%, Average Train Loss: 0.437578, Test Accuracy: 82.09%, Average Test Loss: 0.546808\n",
            "\n",
            "Epoch 40/60: "
          ]
        },
        {
          "output_type": "stream",
          "name": "stderr",
          "text": [
            "100%|██████████| 2795/2795 [00:13<00:00, 205.82it/s]\n",
            "Batch 699/699, Loss: 0.499889: 100%|██████████| 699/699 [00:03<00:00, 199.09it/s]\n"
          ]
        },
        {
          "output_type": "stream",
          "name": "stdout",
          "text": [
            "\n",
            "Class-wise Accuracy:\n",
            "  Class 2: 72.20%\n",
            "  Class 0: 80.48%\n",
            "  Class 1: 90.50%\n",
            "Test Accuracy: 81.0%, Test Loss: 0.729086\n",
            "\n",
            "\n",
            "Class-wise Accuracy:\n",
            "  Class 2: 72.20%\n",
            "  Class 0: 80.48%\n",
            "  Class 1: 90.50%\n",
            "Train Accuracy: 82.74%, Average Train Loss: 0.431015, Test Accuracy: 80.98%, Average Test Loss: 0.729086\n",
            "\n",
            "Epoch 41/60: "
          ]
        },
        {
          "output_type": "stream",
          "name": "stderr",
          "text": [
            "100%|██████████| 2795/2795 [00:13<00:00, 205.42it/s]\n",
            "Batch 699/699, Loss: 0.498265: 100%|██████████| 699/699 [00:03<00:00, 205.21it/s]\n"
          ]
        },
        {
          "output_type": "stream",
          "name": "stdout",
          "text": [
            "\n",
            "Class-wise Accuracy:\n",
            "  Class 2: 89.06%\n",
            "  Class 0: 65.00%\n",
            "  Class 1: 77.10%\n",
            "Test Accuracy: 77.1%, Test Loss: 0.635720\n",
            "\n",
            "\n",
            "Class-wise Accuracy:\n",
            "  Class 2: 89.06%\n",
            "  Class 0: 65.00%\n",
            "  Class 1: 77.10%\n",
            "Train Accuracy: 82.94%, Average Train Loss: 0.435461, Test Accuracy: 77.10%, Average Test Loss: 0.635720\n",
            "\n",
            "Epoch 42/60: "
          ]
        },
        {
          "output_type": "stream",
          "name": "stderr",
          "text": [
            "100%|██████████| 2795/2795 [00:13<00:00, 205.40it/s]\n",
            "Batch 699/699, Loss: 0.439858: 100%|██████████| 699/699 [00:03<00:00, 207.12it/s]\n"
          ]
        },
        {
          "output_type": "stream",
          "name": "stdout",
          "text": [
            "\n",
            "Class-wise Accuracy:\n",
            "  Class 2: 88.47%\n",
            "  Class 0: 78.52%\n",
            "  Class 1: 81.90%\n",
            "Test Accuracy: 83.0%, Test Loss: 0.552595\n",
            "\n",
            "\n",
            "Class-wise Accuracy:\n",
            "  Class 2: 88.47%\n",
            "  Class 0: 78.52%\n",
            "  Class 1: 81.90%\n",
            "Train Accuracy: 82.95%, Average Train Loss: 0.425684, Test Accuracy: 82.99%, Average Test Loss: 0.552595\n",
            "\n",
            "Epoch 43/60: "
          ]
        },
        {
          "output_type": "stream",
          "name": "stderr",
          "text": [
            "100%|██████████| 2795/2795 [00:13<00:00, 205.79it/s]\n",
            "Batch 699/699, Loss: 0.618766: 100%|██████████| 699/699 [00:03<00:00, 207.20it/s]\n"
          ]
        },
        {
          "output_type": "stream",
          "name": "stdout",
          "text": [
            "\n",
            "Class-wise Accuracy:\n",
            "  Class 2: 78.68%\n",
            "  Class 0: 43.41%\n",
            "  Class 1: 75.57%\n",
            "Test Accuracy: 65.9%, Test Loss: 0.751956\n",
            "\n",
            "\n",
            "Class-wise Accuracy:\n",
            "  Class 2: 78.68%\n",
            "  Class 0: 43.41%\n",
            "  Class 1: 75.57%\n",
            "Train Accuracy: 83.11%, Average Train Loss: 0.426095, Test Accuracy: 65.90%, Average Test Loss: 0.751956\n",
            "\n",
            "Epoch 44/60: "
          ]
        },
        {
          "output_type": "stream",
          "name": "stderr",
          "text": [
            "100%|██████████| 2795/2795 [00:13<00:00, 205.49it/s]\n",
            "Batch 699/699, Loss: 0.459899: 100%|██████████| 699/699 [00:03<00:00, 217.82it/s]\n"
          ]
        },
        {
          "output_type": "stream",
          "name": "stdout",
          "text": [
            "\n",
            "Class-wise Accuracy:\n",
            "  Class 2: 80.33%\n",
            "  Class 0: 83.77%\n",
            "  Class 1: 89.66%\n",
            "Test Accuracy: 84.5%, Test Loss: 0.561772\n",
            "\n",
            "\n",
            "Class-wise Accuracy:\n",
            "  Class 2: 80.33%\n",
            "  Class 0: 83.77%\n",
            "  Class 1: 89.66%\n",
            "Train Accuracy: 83.35%, Average Train Loss: 0.419889, Test Accuracy: 84.54%, Average Test Loss: 0.561772\n",
            "\n",
            "Epoch 45/60: "
          ]
        },
        {
          "output_type": "stream",
          "name": "stderr",
          "text": [
            "100%|██████████| 2795/2795 [00:13<00:00, 205.99it/s]\n",
            "Batch 699/699, Loss: 0.561469: 100%|██████████| 699/699 [00:03<00:00, 212.24it/s]\n"
          ]
        },
        {
          "output_type": "stream",
          "name": "stdout",
          "text": [
            "\n",
            "Class-wise Accuracy:\n",
            "  Class 2: 83.14%\n",
            "  Class 0: 52.44%\n",
            "  Class 1: 78.93%\n",
            "Test Accuracy: 71.5%, Test Loss: 0.687657\n",
            "\n",
            "\n",
            "Class-wise Accuracy:\n",
            "  Class 2: 83.14%\n",
            "  Class 0: 52.44%\n",
            "  Class 1: 78.93%\n",
            "Train Accuracy: 83.35%, Average Train Loss: 0.417916, Test Accuracy: 71.52%, Average Test Loss: 0.687657\n",
            "\n",
            "Epoch 46/60: "
          ]
        },
        {
          "output_type": "stream",
          "name": "stderr",
          "text": [
            "100%|██████████| 2795/2795 [00:13<00:00, 205.45it/s]\n",
            "Batch 699/699, Loss: 0.429166: 100%|██████████| 699/699 [00:03<00:00, 201.70it/s]\n"
          ]
        },
        {
          "output_type": "stream",
          "name": "stdout",
          "text": [
            "\n",
            "Class-wise Accuracy:\n",
            "  Class 2: 84.72%\n",
            "  Class 0: 79.11%\n",
            "  Class 1: 88.38%\n",
            "Test Accuracy: 84.1%, Test Loss: 0.526493\n",
            "\n",
            "\n",
            "Class-wise Accuracy:\n",
            "  Class 2: 84.72%\n",
            "  Class 0: 79.11%\n",
            "  Class 1: 88.38%\n",
            "Train Accuracy: 83.11%, Average Train Loss: 0.423025, Test Accuracy: 84.05%, Average Test Loss: 0.526493\n",
            "\n",
            "Epoch 47/60: "
          ]
        },
        {
          "output_type": "stream",
          "name": "stderr",
          "text": [
            "100%|██████████| 2795/2795 [00:13<00:00, 206.24it/s]\n",
            "Batch 699/699, Loss: 0.453218: 100%|██████████| 699/699 [00:03<00:00, 206.68it/s]\n"
          ]
        },
        {
          "output_type": "stream",
          "name": "stdout",
          "text": [
            "\n",
            "Class-wise Accuracy:\n",
            "  Class 2: 84.07%\n",
            "  Class 0: 79.61%\n",
            "  Class 1: 86.91%\n",
            "Test Accuracy: 83.5%, Test Loss: 0.575909\n",
            "\n",
            "\n",
            "Class-wise Accuracy:\n",
            "  Class 2: 84.07%\n",
            "  Class 0: 79.61%\n",
            "  Class 1: 86.91%\n",
            "Train Accuracy: 83.67%, Average Train Loss: 0.413220, Test Accuracy: 83.51%, Average Test Loss: 0.575909\n",
            "\n",
            "Epoch 48/60: "
          ]
        },
        {
          "output_type": "stream",
          "name": "stderr",
          "text": [
            "100%|██████████| 2795/2795 [00:13<00:00, 205.50it/s]\n",
            "Batch 699/699, Loss: 0.471928: 100%|██████████| 699/699 [00:03<00:00, 198.33it/s]\n"
          ]
        },
        {
          "output_type": "stream",
          "name": "stdout",
          "text": [
            "\n",
            "Class-wise Accuracy:\n",
            "  Class 2: 80.90%\n",
            "  Class 0: 78.82%\n",
            "  Class 1: 88.01%\n",
            "Test Accuracy: 82.5%, Test Loss: 0.596453\n",
            "\n",
            "\n",
            "Class-wise Accuracy:\n",
            "  Class 2: 80.90%\n",
            "  Class 0: 78.82%\n",
            "  Class 1: 88.01%\n",
            "Train Accuracy: 83.76%, Average Train Loss: 0.409885, Test Accuracy: 82.54%, Average Test Loss: 0.596453\n",
            "\n",
            "Epoch 49/60: "
          ]
        },
        {
          "output_type": "stream",
          "name": "stderr",
          "text": [
            "100%|██████████| 2795/2795 [00:13<00:00, 205.55it/s]\n",
            "Batch 699/699, Loss: 0.461044: 100%|██████████| 699/699 [00:03<00:00, 217.88it/s]\n"
          ]
        },
        {
          "output_type": "stream",
          "name": "stdout",
          "text": [
            "\n",
            "Class-wise Accuracy:\n",
            "  Class 2: 84.74%\n",
            "  Class 0: 70.49%\n",
            "  Class 1: 84.44%\n",
            "Test Accuracy: 79.9%, Test Loss: 0.571108\n",
            "\n",
            "\n",
            "Class-wise Accuracy:\n",
            "  Class 2: 84.74%\n",
            "  Class 0: 70.49%\n",
            "  Class 1: 84.44%\n",
            "Train Accuracy: 83.76%, Average Train Loss: 0.410556, Test Accuracy: 79.89%, Average Test Loss: 0.571108\n",
            "\n",
            "Epoch 50/60: "
          ]
        },
        {
          "output_type": "stream",
          "name": "stderr",
          "text": [
            "100%|██████████| 2795/2795 [00:13<00:00, 205.63it/s]\n",
            "Batch 699/699, Loss: 0.706363: 100%|██████████| 699/699 [00:03<00:00, 205.70it/s]\n"
          ]
        },
        {
          "output_type": "stream",
          "name": "stdout",
          "text": [
            "\n",
            "Class-wise Accuracy:\n",
            "  Class 2: 72.60%\n",
            "  Class 0: 32.45%\n",
            "  Class 1: 69.91%\n",
            "Test Accuracy: 58.3%, Test Loss: 0.875115\n",
            "\n",
            "\n",
            "Class-wise Accuracy:\n",
            "  Class 2: 72.60%\n",
            "  Class 0: 32.45%\n",
            "  Class 1: 69.91%\n",
            "Train Accuracy: 83.73%, Average Train Loss: 0.405572, Test Accuracy: 58.33%, Average Test Loss: 0.875115\n",
            "\n",
            "Epoch 51/60: "
          ]
        },
        {
          "output_type": "stream",
          "name": "stderr",
          "text": [
            "100%|██████████| 2795/2795 [00:13<00:00, 205.28it/s]\n",
            "Batch 699/699, Loss: 0.474258: 100%|██████████| 699/699 [00:03<00:00, 206.80it/s]\n"
          ]
        },
        {
          "output_type": "stream",
          "name": "stdout",
          "text": [
            "\n",
            "Class-wise Accuracy:\n",
            "  Class 2: 79.23%\n",
            "  Class 0: 81.11%\n",
            "  Class 1: 89.37%\n",
            "Test Accuracy: 83.2%, Test Loss: 0.604804\n",
            "\n",
            "\n",
            "Class-wise Accuracy:\n",
            "  Class 2: 79.23%\n",
            "  Class 0: 81.11%\n",
            "  Class 1: 89.37%\n",
            "Train Accuracy: 83.96%, Average Train Loss: 0.404030, Test Accuracy: 83.19%, Average Test Loss: 0.604804\n",
            "\n",
            "Epoch 52/60: "
          ]
        },
        {
          "output_type": "stream",
          "name": "stderr",
          "text": [
            "100%|██████████| 2795/2795 [00:13<00:00, 205.87it/s]\n",
            "Batch 699/699, Loss: 0.457733: 100%|██████████| 699/699 [00:03<00:00, 208.65it/s]\n"
          ]
        },
        {
          "output_type": "stream",
          "name": "stdout",
          "text": [
            "\n",
            "Class-wise Accuracy:\n",
            "  Class 2: 85.49%\n",
            "  Class 0: 82.52%\n",
            "  Class 1: 84.81%\n",
            "Test Accuracy: 84.3%, Test Loss: 0.599129\n",
            "\n",
            "\n",
            "Class-wise Accuracy:\n",
            "  Class 2: 85.49%\n",
            "  Class 0: 82.52%\n",
            "  Class 1: 84.81%\n",
            "Train Accuracy: 84.25%, Average Train Loss: 0.403637, Test Accuracy: 84.28%, Average Test Loss: 0.599129\n",
            "\n",
            "Epoch 53/60: "
          ]
        },
        {
          "output_type": "stream",
          "name": "stderr",
          "text": [
            "100%|██████████| 2795/2795 [00:13<00:00, 206.19it/s]\n",
            "Batch 699/699, Loss: 0.411068: 100%|██████████| 699/699 [00:03<00:00, 214.47it/s]\n"
          ]
        },
        {
          "output_type": "stream",
          "name": "stdout",
          "text": [
            "\n",
            "Class-wise Accuracy:\n",
            "  Class 2: 90.61%\n",
            "  Class 0: 75.10%\n",
            "  Class 1: 83.15%\n",
            "Test Accuracy: 83.0%, Test Loss: 0.518708\n",
            "\n",
            "\n",
            "Class-wise Accuracy:\n",
            "  Class 2: 90.61%\n",
            "  Class 0: 75.10%\n",
            "  Class 1: 83.15%\n",
            "Train Accuracy: 84.20%, Average Train Loss: 0.399038, Test Accuracy: 82.99%, Average Test Loss: 0.518708\n",
            "\n",
            "Epoch 54/60: "
          ]
        },
        {
          "output_type": "stream",
          "name": "stderr",
          "text": [
            "100%|██████████| 2795/2795 [00:13<00:00, 205.46it/s]\n",
            "Batch 699/699, Loss: 0.479253: 100%|██████████| 699/699 [00:03<00:00, 214.36it/s]\n"
          ]
        },
        {
          "output_type": "stream",
          "name": "stdout",
          "text": [
            "\n",
            "Class-wise Accuracy:\n",
            "  Class 2: 89.02%\n",
            "  Class 0: 62.54%\n",
            "  Class 1: 75.83%\n",
            "Test Accuracy: 75.9%, Test Loss: 0.577215\n",
            "\n",
            "\n",
            "Class-wise Accuracy:\n",
            "  Class 2: 89.02%\n",
            "  Class 0: 62.54%\n",
            "  Class 1: 75.83%\n",
            "Train Accuracy: 84.27%, Average Train Loss: 0.398253, Test Accuracy: 75.86%, Average Test Loss: 0.577215\n",
            "\n",
            "Epoch 55/60: "
          ]
        },
        {
          "output_type": "stream",
          "name": "stderr",
          "text": [
            "100%|██████████| 2795/2795 [00:13<00:00, 205.29it/s]\n",
            "Batch 699/699, Loss: 0.496487: 100%|██████████| 699/699 [00:03<00:00, 217.71it/s]\n"
          ]
        },
        {
          "output_type": "stream",
          "name": "stdout",
          "text": [
            "\n",
            "Class-wise Accuracy:\n",
            "  Class 2: 79.90%\n",
            "  Class 0: 84.16%\n",
            "  Class 1: 88.81%\n",
            "Test Accuracy: 84.2%, Test Loss: 0.646364\n",
            "\n",
            "\n",
            "Class-wise Accuracy:\n",
            "  Class 2: 79.90%\n",
            "  Class 0: 84.16%\n",
            "  Class 1: 88.81%\n",
            "Train Accuracy: 84.13%, Average Train Loss: 0.399758, Test Accuracy: 84.25%, Average Test Loss: 0.646364\n",
            "\n",
            "Epoch 56/60: "
          ]
        },
        {
          "output_type": "stream",
          "name": "stderr",
          "text": [
            "100%|██████████| 2795/2795 [00:13<00:00, 205.95it/s]\n",
            "Batch 699/699, Loss: 0.460704: 100%|██████████| 699/699 [00:03<00:00, 207.26it/s]\n"
          ]
        },
        {
          "output_type": "stream",
          "name": "stdout",
          "text": [
            "\n",
            "Class-wise Accuracy:\n",
            "  Class 2: 89.37%\n",
            "  Class 0: 71.36%\n",
            "  Class 1: 78.89%\n",
            "Test Accuracy: 79.9%, Test Loss: 0.513461\n",
            "\n",
            "\n",
            "Class-wise Accuracy:\n",
            "  Class 2: 89.37%\n",
            "  Class 0: 71.36%\n",
            "  Class 1: 78.89%\n",
            "Train Accuracy: 84.27%, Average Train Loss: 0.397233, Test Accuracy: 79.92%, Average Test Loss: 0.513461\n",
            "\n",
            "Epoch 57/60: "
          ]
        },
        {
          "output_type": "stream",
          "name": "stderr",
          "text": [
            "100%|██████████| 2795/2795 [00:13<00:00, 205.63it/s]\n",
            "Batch 699/699, Loss: 0.436772: 100%|██████████| 699/699 [00:03<00:00, 215.33it/s]\n"
          ]
        },
        {
          "output_type": "stream",
          "name": "stdout",
          "text": [
            "\n",
            "Class-wise Accuracy:\n",
            "  Class 2: 92.04%\n",
            "  Class 0: 70.10%\n",
            "  Class 1: 72.46%\n",
            "Test Accuracy: 78.3%, Test Loss: 0.542894\n",
            "\n",
            "\n",
            "Class-wise Accuracy:\n",
            "  Class 2: 92.04%\n",
            "  Class 0: 70.10%\n",
            "  Class 1: 72.46%\n",
            "Train Accuracy: 84.18%, Average Train Loss: 0.398435, Test Accuracy: 78.28%, Average Test Loss: 0.542894\n",
            "\n",
            "Epoch 58/60: "
          ]
        },
        {
          "output_type": "stream",
          "name": "stderr",
          "text": [
            "100%|██████████| 2795/2795 [00:13<00:00, 206.25it/s]\n",
            "Batch 699/699, Loss: 0.484997: 100%|██████████| 699/699 [00:03<00:00, 216.71it/s]\n"
          ]
        },
        {
          "output_type": "stream",
          "name": "stdout",
          "text": [
            "\n",
            "Class-wise Accuracy:\n",
            "  Class 2: 77.71%\n",
            "  Class 0: 81.69%\n",
            "  Class 1: 89.63%\n",
            "Test Accuracy: 83.0%, Test Loss: 0.544244\n",
            "\n",
            "\n",
            "Class-wise Accuracy:\n",
            "  Class 2: 77.71%\n",
            "  Class 0: 81.69%\n",
            "  Class 1: 89.63%\n",
            "Train Accuracy: 84.12%, Average Train Loss: 0.398336, Test Accuracy: 82.96%, Average Test Loss: 0.544244\n",
            "\n",
            "Epoch 59/60: "
          ]
        },
        {
          "output_type": "stream",
          "name": "stderr",
          "text": [
            "100%|██████████| 2795/2795 [00:13<00:00, 205.47it/s]\n",
            "Batch 699/699, Loss: 0.563040: 100%|██████████| 699/699 [00:03<00:00, 209.52it/s]\n"
          ]
        },
        {
          "output_type": "stream",
          "name": "stdout",
          "text": [
            "\n",
            "Class-wise Accuracy:\n",
            "  Class 2: 85.53%\n",
            "  Class 0: 49.40%\n",
            "  Class 1: 72.28%\n",
            "Test Accuracy: 69.1%, Test Loss: 0.706945\n",
            "\n",
            "\n",
            "Class-wise Accuracy:\n",
            "  Class 2: 85.53%\n",
            "  Class 0: 49.40%\n",
            "  Class 1: 72.28%\n",
            "Train Accuracy: 84.28%, Average Train Loss: 0.396157, Test Accuracy: 69.12%, Average Test Loss: 0.706945\n",
            "\n",
            "Epoch 60/60: "
          ]
        },
        {
          "output_type": "stream",
          "name": "stderr",
          "text": [
            "100%|██████████| 2795/2795 [00:13<00:00, 205.75it/s]\n",
            "Batch 699/699, Loss: 0.476219: 100%|██████████| 699/699 [00:03<00:00, 215.34it/s]\n"
          ]
        },
        {
          "output_type": "stream",
          "name": "stdout",
          "text": [
            "\n",
            "Class-wise Accuracy:\n",
            "  Class 2: 80.36%\n",
            "  Class 0: 79.69%\n",
            "  Class 1: 89.02%\n",
            "Test Accuracy: 83.0%, Test Loss: 0.534098\n",
            "\n",
            "\n",
            "Class-wise Accuracy:\n",
            "  Class 2: 80.36%\n",
            "  Class 0: 79.69%\n",
            "  Class 1: 89.02%\n",
            "Train Accuracy: 84.38%, Average Train Loss: 0.396999, Test Accuracy: 82.98%, Average Test Loss: 0.534098\n",
            "\n"
          ]
        },
        {
          "output_type": "display_data",
          "data": {
            "text/plain": [
              "<IPython.core.display.HTML object>"
            ],
            "text/html": []
          },
          "metadata": {}
        },
        {
          "output_type": "display_data",
          "data": {
            "text/plain": [
              "<IPython.core.display.HTML object>"
            ],
            "text/html": [
              "<br>    <style><br>        .wandb-row {<br>            display: flex;<br>            flex-direction: row;<br>            flex-wrap: wrap;<br>            justify-content: flex-start;<br>            width: 100%;<br>        }<br>        .wandb-col {<br>            display: flex;<br>            flex-direction: column;<br>            flex-basis: 100%;<br>            flex: 1;<br>            padding: 10px;<br>        }<br>    </style><br><div class=\"wandb-row\"><div class=\"wandb-col\"><h3>Run history:</h3><br/><table class=\"wandb\"><tr><td>class_0_accuracy</td><td>▂▁▁▁▃▃▃▅▆▆▆▅▅▇▆▃▃▆▇▇▃▇▇█▇▇▇█▆█████▇█▇▆██</td></tr><tr><td>class_1_accuracy</td><td>▆█▇▄█▆▆▅▁▆▇▅▄▅▆▆▅▃▇▅▄▂▆▅▅▅▅▆▃▃▃▅▅▅▁▅▄▆▃▆</td></tr><tr><td>class_2_accuracy</td><td>▂▁▃▅▁▆▅▆▅▆▃▆▇▆▆▇▇▇▅▇▇▇█▇▇▇██▇▇██▇█▇██▇█▇</td></tr><tr><td>epoch</td><td>▁▁▁▂▂▂▂▂▂▃▃▃▃▃▃▄▄▄▄▄▄▅▅▅▅▅▆▆▆▆▆▇▇▇▇▇████</td></tr><tr><td>learning_rate</td><td>██████▇▇▇▇▇▇▆▆▆▆▅▅▅▅▄▄▄▄▄▃▃▂▂▂▂▂▂▂▁▁▁▁▁▁</td></tr><tr><td>test_accuracy</td><td>▁▁▁▃▃▂▄▄▆▆▃▆▇▅▅▇▇▇▇▄▇▇██▇██▇█▆██▇▄█▇█▇▇█</td></tr><tr><td>test_loss</td><td>▆▆▆▇▆█▆▃▂▆▃▄▄▃▃▂▇▄▂▃▅▄▂▁▁▂▁▃▂▃▃▂▂▂▄▂▂▂▁▁</td></tr><tr><td>train_accuracy</td><td>▁▂▃▃▃▄▅▅▆▆▆▆▆▆▆▇▇▇▇▇▇▇▇▇▇▇▇█████████████</td></tr><tr><td>train_loss</td><td>█▇▇▇▆▅▅▄▄▄▄▃▃▃▃▃▃▃▂▃▂▂▂▂▂▂▁▂▁▁▁▁▁▁▁▁▁▁▁▁</td></tr></table><br/></div><div class=\"wandb-col\"><h3>Run summary:</h3><br/><table class=\"wandb\"><tr><td>class_0_accuracy</td><td>79.68876</td></tr><tr><td>class_1_accuracy</td><td>89.01742</td></tr><tr><td>class_2_accuracy</td><td>80.36022</td></tr><tr><td>epoch</td><td>60</td></tr><tr><td>learning_rate</td><td>0.0</td></tr><tr><td>test_accuracy</td><td>82.98215</td></tr><tr><td>test_loss</td><td>0.5341</td></tr><tr><td>train_accuracy</td><td>84.37741</td></tr><tr><td>train_loss</td><td>0.397</td></tr></table><br/></div></div>"
            ]
          },
          "metadata": {}
        },
        {
          "output_type": "display_data",
          "data": {
            "text/plain": [
              "<IPython.core.display.HTML object>"
            ],
            "text/html": [
              " View run <strong style=\"color:#cdcd00\">ShallowAttentionNet 77766666</strong> at: <a href='https://wandb.ai/philinthesky/Master%20Thesis/runs/wscuh4q3' target=\"_blank\">https://wandb.ai/philinthesky/Master%20Thesis/runs/wscuh4q3</a><br> View project at: <a href='https://wandb.ai/philinthesky/Master%20Thesis' target=\"_blank\">https://wandb.ai/philinthesky/Master%20Thesis</a><br>Synced 5 W&B file(s), 0 media file(s), 0 artifact file(s) and 0 other file(s)"
            ]
          },
          "metadata": {}
        },
        {
          "output_type": "display_data",
          "data": {
            "text/plain": [
              "<IPython.core.display.HTML object>"
            ],
            "text/html": [
              "Find logs at: <code>./wandb/run-20250330_154745-wscuh4q3/logs</code>"
            ]
          },
          "metadata": {}
        },
        {
          "output_type": "stream",
          "name": "stdout",
          "text": [
            "ShallowAttentionNet(\n",
            "  (temporal): Conv2d(1, 10, kernel_size=(1, 25), stride=(1, 1))\n",
            "  (spatial_att): SpatialAttention(\n",
            "    (conv): Conv2d(10, 10, kernel_size=(1, 1), stride=(1, 1), bias=False)\n",
            "    (pool): MaxPool2d(kernel_size=(1, 5), stride=(1, 5), padding=0, dilation=1, ceil_mode=False)\n",
            "  )\n",
            "  (batch_norm): BatchNorm2d(10, eps=1e-05, momentum=0.1, affine=True, track_running_stats=True)\n",
            "  (pool): AvgPool2d(kernel_size=(1, 20), stride=(1, 20), padding=0)\n",
            "  (dropout): Dropout(p=0.5, inplace=False)\n",
            "  (fc): Linear(in_features=960, out_features=3, bias=True)\n",
            ")\n"
          ]
        },
        {
          "output_type": "display_data",
          "data": {
            "text/plain": [
              "<IPython.core.display.HTML object>"
            ],
            "text/html": [
              "Tracking run with wandb version 0.19.8"
            ]
          },
          "metadata": {}
        },
        {
          "output_type": "display_data",
          "data": {
            "text/plain": [
              "<IPython.core.display.HTML object>"
            ],
            "text/html": [
              "Run data is saved locally in <code>/content/wandb/run-20250330_160516-puwz09lb</code>"
            ]
          },
          "metadata": {}
        },
        {
          "output_type": "display_data",
          "data": {
            "text/plain": [
              "<IPython.core.display.HTML object>"
            ],
            "text/html": [
              "Syncing run <strong><a href='https://wandb.ai/philinthesky/Master%20Thesis/runs/puwz09lb' target=\"_blank\">ShallowAttentionNet 809890</a></strong> to <a href='https://wandb.ai/philinthesky/Master%20Thesis' target=\"_blank\">Weights & Biases</a> (<a href='https://wandb.me/developer-guide' target=\"_blank\">docs</a>)<br>"
            ]
          },
          "metadata": {}
        },
        {
          "output_type": "display_data",
          "data": {
            "text/plain": [
              "<IPython.core.display.HTML object>"
            ],
            "text/html": [
              " View project at <a href='https://wandb.ai/philinthesky/Master%20Thesis' target=\"_blank\">https://wandb.ai/philinthesky/Master%20Thesis</a>"
            ]
          },
          "metadata": {}
        },
        {
          "output_type": "display_data",
          "data": {
            "text/plain": [
              "<IPython.core.display.HTML object>"
            ],
            "text/html": [
              " View run at <a href='https://wandb.ai/philinthesky/Master%20Thesis/runs/puwz09lb' target=\"_blank\">https://wandb.ai/philinthesky/Master%20Thesis/runs/puwz09lb</a>"
            ]
          },
          "metadata": {}
        },
        {
          "output_type": "stream",
          "name": "stdout",
          "text": [
            "Epoch 1/60: "
          ]
        },
        {
          "output_type": "stream",
          "name": "stderr",
          "text": [
            "100%|██████████| 2795/2795 [00:13<00:00, 205.67it/s]\n",
            "Batch 699/699, Loss: 1.088967: 100%|██████████| 699/699 [00:03<00:00, 198.83it/s]\n"
          ]
        },
        {
          "output_type": "stream",
          "name": "stdout",
          "text": [
            "\n",
            "Class-wise Accuracy:\n",
            "  Class 2: 0.87%\n",
            "  Class 0: 0.93%\n",
            "  Class 1: 99.85%\n",
            "Test Accuracy: 33.4%, Test Loss: 1.105676\n",
            "\n",
            "\n",
            "Class-wise Accuracy:\n",
            "  Class 2: 0.87%\n",
            "  Class 0: 0.93%\n",
            "  Class 1: 99.85%\n",
            "Train Accuracy: 57.99%, Average Train Loss: 0.920659, Test Accuracy: 33.43%, Average Test Loss: 1.105676\n",
            "\n",
            "Epoch 2/60: "
          ]
        },
        {
          "output_type": "stream",
          "name": "stderr",
          "text": [
            "100%|██████████| 2795/2795 [00:13<00:00, 203.85it/s]\n",
            "Batch 699/699, Loss: 1.078386: 100%|██████████| 699/699 [00:03<00:00, 214.93it/s]\n"
          ]
        },
        {
          "output_type": "stream",
          "name": "stdout",
          "text": [
            "\n",
            "Class-wise Accuracy:\n",
            "  Class 2: 27.43%\n",
            "  Class 0: 1.54%\n",
            "  Class 1: 89.74%\n",
            "Test Accuracy: 39.3%, Test Loss: 1.107135\n",
            "\n",
            "\n",
            "Class-wise Accuracy:\n",
            "  Class 2: 27.43%\n",
            "  Class 0: 1.54%\n",
            "  Class 1: 89.74%\n",
            "Train Accuracy: 61.61%, Average Train Loss: 0.850800, Test Accuracy: 39.28%, Average Test Loss: 1.107135\n",
            "\n",
            "Epoch 3/60: "
          ]
        },
        {
          "output_type": "stream",
          "name": "stderr",
          "text": [
            "100%|██████████| 2795/2795 [00:13<00:00, 205.45it/s]\n",
            "Batch 699/699, Loss: 1.085781: 100%|██████████| 699/699 [00:03<00:00, 214.49it/s]\n"
          ]
        },
        {
          "output_type": "stream",
          "name": "stdout",
          "text": [
            "\n",
            "Class-wise Accuracy:\n",
            "  Class 2: 6.33%\n",
            "  Class 0: 0.91%\n",
            "  Class 1: 98.50%\n",
            "Test Accuracy: 34.8%, Test Loss: 1.130441\n",
            "\n",
            "\n",
            "Class-wise Accuracy:\n",
            "  Class 2: 6.33%\n",
            "  Class 0: 0.91%\n",
            "  Class 1: 98.50%\n",
            "Train Accuracy: 64.55%, Average Train Loss: 0.795170, Test Accuracy: 34.82%, Average Test Loss: 1.130441\n",
            "\n",
            "Epoch 4/60: "
          ]
        },
        {
          "output_type": "stream",
          "name": "stderr",
          "text": [
            "100%|██████████| 2795/2795 [00:13<00:00, 206.20it/s]\n",
            "Batch 699/699, Loss: 1.014540: 100%|██████████| 699/699 [00:03<00:00, 209.72it/s]\n"
          ]
        },
        {
          "output_type": "stream",
          "name": "stdout",
          "text": [
            "\n",
            "Class-wise Accuracy:\n",
            "  Class 2: 37.70%\n",
            "  Class 0: 12.61%\n",
            "  Class 1: 97.14%\n",
            "Test Accuracy: 48.9%, Test Loss: 1.034501\n",
            "\n",
            "\n",
            "Class-wise Accuracy:\n",
            "  Class 2: 37.70%\n",
            "  Class 0: 12.61%\n",
            "  Class 1: 97.14%\n",
            "Train Accuracy: 66.09%, Average Train Loss: 0.773226, Test Accuracy: 48.87%, Average Test Loss: 1.034501\n",
            "\n",
            "Epoch 5/60: "
          ]
        },
        {
          "output_type": "stream",
          "name": "stderr",
          "text": [
            "100%|██████████| 2795/2795 [00:13<00:00, 205.61it/s]\n",
            "Batch 699/699, Loss: 1.017045: 100%|██████████| 699/699 [00:03<00:00, 207.90it/s]\n"
          ]
        },
        {
          "output_type": "stream",
          "name": "stdout",
          "text": [
            "\n",
            "Class-wise Accuracy:\n",
            "  Class 2: 24.14%\n",
            "  Class 0: 7.39%\n",
            "  Class 1: 94.88%\n",
            "Test Accuracy: 41.8%, Test Loss: 1.138244\n",
            "\n",
            "\n",
            "Class-wise Accuracy:\n",
            "  Class 2: 24.14%\n",
            "  Class 0: 7.39%\n",
            "  Class 1: 94.88%\n",
            "Train Accuracy: 63.42%, Average Train Loss: 0.820081, Test Accuracy: 41.81%, Average Test Loss: 1.138244\n",
            "\n",
            "Epoch 6/60: "
          ]
        },
        {
          "output_type": "stream",
          "name": "stderr",
          "text": [
            "100%|██████████| 2795/2795 [00:13<00:00, 204.10it/s]\n",
            "Batch 699/699, Loss: 1.024860: 100%|██████████| 699/699 [00:03<00:00, 209.17it/s]\n"
          ]
        },
        {
          "output_type": "stream",
          "name": "stdout",
          "text": [
            "\n",
            "Class-wise Accuracy:\n",
            "  Class 2: 33.07%\n",
            "  Class 0: 4.70%\n",
            "  Class 1: 98.30%\n",
            "Test Accuracy: 45.0%, Test Loss: 1.096556\n",
            "\n",
            "\n",
            "Class-wise Accuracy:\n",
            "  Class 2: 33.07%\n",
            "  Class 0: 4.70%\n",
            "  Class 1: 98.30%\n",
            "Train Accuracy: 64.85%, Average Train Loss: 0.787381, Test Accuracy: 45.05%, Average Test Loss: 1.096556\n",
            "\n",
            "Epoch 7/60: "
          ]
        },
        {
          "output_type": "stream",
          "name": "stderr",
          "text": [
            "100%|██████████| 2795/2795 [00:13<00:00, 202.21it/s]\n",
            "Batch 699/699, Loss: 1.000075: 100%|██████████| 699/699 [00:03<00:00, 205.36it/s]\n"
          ]
        },
        {
          "output_type": "stream",
          "name": "stdout",
          "text": [
            "\n",
            "Class-wise Accuracy:\n",
            "  Class 2: 41.08%\n",
            "  Class 0: 34.18%\n",
            "  Class 1: 95.14%\n",
            "Test Accuracy: 56.6%, Test Loss: 1.337818\n",
            "\n",
            "\n",
            "Class-wise Accuracy:\n",
            "  Class 2: 41.08%\n",
            "  Class 0: 34.18%\n",
            "  Class 1: 95.14%\n",
            "Train Accuracy: 67.55%, Average Train Loss: 0.737679, Test Accuracy: 56.55%, Average Test Loss: 1.337818\n",
            "\n",
            "Epoch 8/60: "
          ]
        },
        {
          "output_type": "stream",
          "name": "stderr",
          "text": [
            "100%|██████████| 2795/2795 [00:13<00:00, 203.07it/s]\n",
            "Batch 699/699, Loss: 0.938023: 100%|██████████| 699/699 [00:03<00:00, 210.41it/s]\n"
          ]
        },
        {
          "output_type": "stream",
          "name": "stdout",
          "text": [
            "\n",
            "Class-wise Accuracy:\n",
            "  Class 2: 49.61%\n",
            "  Class 0: 33.46%\n",
            "  Class 1: 96.67%\n",
            "Test Accuracy: 59.7%, Test Loss: 1.002495\n",
            "\n",
            "\n",
            "Class-wise Accuracy:\n",
            "  Class 2: 49.61%\n",
            "  Class 0: 33.46%\n",
            "  Class 1: 96.67%\n",
            "Train Accuracy: 71.65%, Average Train Loss: 0.673590, Test Accuracy: 59.69%, Average Test Loss: 1.002495\n",
            "\n",
            "Epoch 9/60: "
          ]
        },
        {
          "output_type": "stream",
          "name": "stderr",
          "text": [
            "100%|██████████| 2795/2795 [00:13<00:00, 205.18it/s]\n",
            "Batch 699/699, Loss: 1.053961: 100%|██████████| 699/699 [00:03<00:00, 207.89it/s]\n"
          ]
        },
        {
          "output_type": "stream",
          "name": "stdout",
          "text": [
            "\n",
            "Class-wise Accuracy:\n",
            "  Class 2: 19.86%\n",
            "  Class 0: 2.20%\n",
            "  Class 1: 98.79%\n",
            "Test Accuracy: 39.9%, Test Loss: 1.076924\n",
            "\n",
            "\n",
            "Class-wise Accuracy:\n",
            "  Class 2: 19.86%\n",
            "  Class 0: 2.20%\n",
            "  Class 1: 98.79%\n",
            "Train Accuracy: 71.49%, Average Train Loss: 0.679133, Test Accuracy: 39.92%, Average Test Loss: 1.076924\n",
            "\n",
            "Epoch 10/60: "
          ]
        },
        {
          "output_type": "stream",
          "name": "stderr",
          "text": [
            "100%|██████████| 2795/2795 [00:13<00:00, 204.69it/s]\n",
            "Batch 699/699, Loss: 1.026530: 100%|██████████| 699/699 [00:03<00:00, 212.24it/s]\n"
          ]
        },
        {
          "output_type": "stream",
          "name": "stdout",
          "text": [
            "\n",
            "Class-wise Accuracy:\n",
            "  Class 2: 62.76%\n",
            "  Class 0: 7.61%\n",
            "  Class 1: 83.52%\n",
            "Test Accuracy: 51.2%, Test Loss: 1.087976\n",
            "\n",
            "\n",
            "Class-wise Accuracy:\n",
            "  Class 2: 62.76%\n",
            "  Class 0: 7.61%\n",
            "  Class 1: 83.52%\n",
            "Train Accuracy: 72.64%, Average Train Loss: 0.651275, Test Accuracy: 51.19%, Average Test Loss: 1.087976\n",
            "\n",
            "Epoch 11/60: "
          ]
        },
        {
          "output_type": "stream",
          "name": "stderr",
          "text": [
            "100%|██████████| 2795/2795 [00:13<00:00, 204.87it/s]\n",
            "Batch 699/699, Loss: 0.828934: 100%|██████████| 699/699 [00:03<00:00, 214.30it/s]\n"
          ]
        },
        {
          "output_type": "stream",
          "name": "stdout",
          "text": [
            "\n",
            "Class-wise Accuracy:\n",
            "  Class 2: 56.50%\n",
            "  Class 0: 51.69%\n",
            "  Class 1: 93.13%\n",
            "Test Accuracy: 66.9%, Test Loss: 0.799895\n",
            "\n",
            "\n",
            "Class-wise Accuracy:\n",
            "  Class 2: 56.50%\n",
            "  Class 0: 51.69%\n",
            "  Class 1: 93.13%\n",
            "Train Accuracy: 74.44%, Average Train Loss: 0.615351, Test Accuracy: 66.94%, Average Test Loss: 0.799895\n",
            "\n",
            "Epoch 12/60: "
          ]
        },
        {
          "output_type": "stream",
          "name": "stderr",
          "text": [
            "100%|██████████| 2795/2795 [00:13<00:00, 204.91it/s]\n",
            "Batch 699/699, Loss: 0.840959: 100%|██████████| 699/699 [00:03<00:00, 204.68it/s]\n"
          ]
        },
        {
          "output_type": "stream",
          "name": "stdout",
          "text": [
            "\n",
            "Class-wise Accuracy:\n",
            "  Class 2: 69.08%\n",
            "  Class 0: 51.76%\n",
            "  Class 1: 86.92%\n",
            "Test Accuracy: 69.2%, Test Loss: 0.780635\n",
            "\n",
            "\n",
            "Class-wise Accuracy:\n",
            "  Class 2: 69.08%\n",
            "  Class 0: 51.76%\n",
            "  Class 1: 86.92%\n",
            "Train Accuracy: 73.37%, Average Train Loss: 0.645464, Test Accuracy: 69.17%, Average Test Loss: 0.780635\n",
            "\n",
            "Epoch 13/60: "
          ]
        },
        {
          "output_type": "stream",
          "name": "stderr",
          "text": [
            "100%|██████████| 2795/2795 [00:13<00:00, 204.77it/s]\n",
            "Batch 699/699, Loss: 0.962621: 100%|██████████| 699/699 [00:03<00:00, 213.50it/s]\n"
          ]
        },
        {
          "output_type": "stream",
          "name": "stdout",
          "text": [
            "\n",
            "Class-wise Accuracy:\n",
            "  Class 2: 45.34%\n",
            "  Class 0: 14.06%\n",
            "  Class 1: 97.77%\n",
            "Test Accuracy: 52.1%, Test Loss: 1.006161\n",
            "\n",
            "\n",
            "Class-wise Accuracy:\n",
            "  Class 2: 45.34%\n",
            "  Class 0: 14.06%\n",
            "  Class 1: 97.77%\n",
            "Train Accuracy: 75.14%, Average Train Loss: 0.599679, Test Accuracy: 52.15%, Average Test Loss: 1.006161\n",
            "\n",
            "Epoch 14/60: "
          ]
        },
        {
          "output_type": "stream",
          "name": "stderr",
          "text": [
            "100%|██████████| 2795/2795 [00:13<00:00, 205.42it/s]\n",
            "Batch 699/699, Loss: 0.761997: 100%|██████████| 699/699 [00:03<00:00, 210.17it/s]\n"
          ]
        },
        {
          "output_type": "stream",
          "name": "stdout",
          "text": [
            "\n",
            "Class-wise Accuracy:\n",
            "  Class 2: 80.16%\n",
            "  Class 0: 55.51%\n",
            "  Class 1: 78.05%\n",
            "Test Accuracy: 71.2%, Test Loss: 0.748811\n",
            "\n",
            "\n",
            "Class-wise Accuracy:\n",
            "  Class 2: 80.16%\n",
            "  Class 0: 55.51%\n",
            "  Class 1: 78.05%\n",
            "Train Accuracy: 74.82%, Average Train Loss: 0.611758, Test Accuracy: 71.25%, Average Test Loss: 0.748811\n",
            "\n",
            "Epoch 15/60: "
          ]
        },
        {
          "output_type": "stream",
          "name": "stderr",
          "text": [
            "100%|██████████| 2795/2795 [00:13<00:00, 205.48it/s]\n",
            "Batch 699/699, Loss: 0.679394: 100%|██████████| 699/699 [00:03<00:00, 212.36it/s]\n"
          ]
        },
        {
          "output_type": "stream",
          "name": "stdout",
          "text": [
            "\n",
            "Class-wise Accuracy:\n",
            "  Class 2: 70.63%\n",
            "  Class 0: 66.90%\n",
            "  Class 1: 86.53%\n",
            "Test Accuracy: 74.6%, Test Loss: 0.897081\n",
            "\n",
            "\n",
            "Class-wise Accuracy:\n",
            "  Class 2: 70.63%\n",
            "  Class 0: 66.90%\n",
            "  Class 1: 86.53%\n",
            "Train Accuracy: 76.63%, Average Train Loss: 0.576105, Test Accuracy: 74.61%, Average Test Loss: 0.897081\n",
            "\n",
            "Epoch 16/60: "
          ]
        },
        {
          "output_type": "stream",
          "name": "stderr",
          "text": [
            "100%|██████████| 2795/2795 [00:13<00:00, 204.86it/s]\n",
            "Batch 699/699, Loss: 0.722842: 100%|██████████| 699/699 [00:03<00:00, 216.28it/s]\n"
          ]
        },
        {
          "output_type": "stream",
          "name": "stdout",
          "text": [
            "\n",
            "Class-wise Accuracy:\n",
            "  Class 2: 66.49%\n",
            "  Class 0: 61.42%\n",
            "  Class 1: 89.98%\n",
            "Test Accuracy: 72.5%, Test Loss: 0.750138\n",
            "\n",
            "\n",
            "Class-wise Accuracy:\n",
            "  Class 2: 66.49%\n",
            "  Class 0: 61.42%\n",
            "  Class 1: 89.98%\n",
            "Train Accuracy: 73.30%, Average Train Loss: 0.643231, Test Accuracy: 72.52%, Average Test Loss: 0.750138\n",
            "\n",
            "Epoch 17/60: "
          ]
        },
        {
          "output_type": "stream",
          "name": "stderr",
          "text": [
            "100%|██████████| 2795/2795 [00:13<00:00, 205.65it/s]\n",
            "Batch 699/699, Loss: 0.818099: 100%|██████████| 699/699 [00:03<00:00, 210.13it/s]\n"
          ]
        },
        {
          "output_type": "stream",
          "name": "stdout",
          "text": [
            "\n",
            "Class-wise Accuracy:\n",
            "  Class 2: 68.48%\n",
            "  Class 0: 52.63%\n",
            "  Class 1: 83.78%\n",
            "Test Accuracy: 68.2%, Test Loss: 0.777938\n",
            "\n",
            "\n",
            "Class-wise Accuracy:\n",
            "  Class 2: 68.48%\n",
            "  Class 0: 52.63%\n",
            "  Class 1: 83.78%\n",
            "Train Accuracy: 75.78%, Average Train Loss: 0.594030, Test Accuracy: 68.22%, Average Test Loss: 0.777938\n",
            "\n",
            "Epoch 18/60: "
          ]
        },
        {
          "output_type": "stream",
          "name": "stderr",
          "text": [
            "100%|██████████| 2795/2795 [00:13<00:00, 205.39it/s]\n",
            "Batch 699/699, Loss: 0.684671: 100%|██████████| 699/699 [00:03<00:00, 214.54it/s]\n"
          ]
        },
        {
          "output_type": "stream",
          "name": "stdout",
          "text": [
            "\n",
            "Class-wise Accuracy:\n",
            "  Class 2: 80.69%\n",
            "  Class 0: 56.01%\n",
            "  Class 1: 83.98%\n",
            "Test Accuracy: 73.5%, Test Loss: 0.722900\n",
            "\n",
            "\n",
            "Class-wise Accuracy:\n",
            "  Class 2: 80.69%\n",
            "  Class 0: 56.01%\n",
            "  Class 1: 83.98%\n",
            "Train Accuracy: 77.87%, Average Train Loss: 0.543693, Test Accuracy: 73.54%, Average Test Loss: 0.722900\n",
            "\n",
            "Epoch 19/60: "
          ]
        },
        {
          "output_type": "stream",
          "name": "stderr",
          "text": [
            "100%|██████████| 2795/2795 [00:13<00:00, 205.38it/s]\n",
            "Batch 699/699, Loss: 0.999800: 100%|██████████| 699/699 [00:03<00:00, 214.68it/s]\n"
          ]
        },
        {
          "output_type": "stream",
          "name": "stdout",
          "text": [
            "\n",
            "Class-wise Accuracy:\n",
            "  Class 2: 63.77%\n",
            "  Class 0: 7.63%\n",
            "  Class 1: 81.31%\n",
            "Test Accuracy: 50.8%, Test Loss: 1.051930\n",
            "\n",
            "\n",
            "Class-wise Accuracy:\n",
            "  Class 2: 63.77%\n",
            "  Class 0: 7.63%\n",
            "  Class 1: 81.31%\n",
            "Train Accuracy: 75.04%, Average Train Loss: 0.616104, Test Accuracy: 50.82%, Average Test Loss: 1.051930\n",
            "\n",
            "Epoch 20/60: "
          ]
        },
        {
          "output_type": "stream",
          "name": "stderr",
          "text": [
            "100%|██████████| 2795/2795 [00:13<00:00, 204.89it/s]\n",
            "Batch 699/699, Loss: 0.669967: 100%|██████████| 699/699 [00:03<00:00, 202.95it/s]\n"
          ]
        },
        {
          "output_type": "stream",
          "name": "stdout",
          "text": [
            "\n",
            "Class-wise Accuracy:\n",
            "  Class 2: 82.55%\n",
            "  Class 0: 54.29%\n",
            "  Class 1: 79.56%\n",
            "Test Accuracy: 72.1%, Test Loss: 0.719350\n",
            "\n",
            "\n",
            "Class-wise Accuracy:\n",
            "  Class 2: 82.55%\n",
            "  Class 0: 54.29%\n",
            "  Class 1: 79.56%\n",
            "Train Accuracy: 78.44%, Average Train Loss: 0.530187, Test Accuracy: 72.14%, Average Test Loss: 0.719350\n",
            "\n",
            "Epoch 21/60: "
          ]
        },
        {
          "output_type": "stream",
          "name": "stderr",
          "text": [
            "100%|██████████| 2795/2795 [00:13<00:00, 204.92it/s]\n",
            "Batch 699/699, Loss: 0.648285: 100%|██████████| 699/699 [00:03<00:00, 207.82it/s]\n"
          ]
        },
        {
          "output_type": "stream",
          "name": "stdout",
          "text": [
            "\n",
            "Class-wise Accuracy:\n",
            "  Class 2: 74.08%\n",
            "  Class 0: 54.02%\n",
            "  Class 1: 86.88%\n",
            "Test Accuracy: 71.6%, Test Loss: 0.743198\n",
            "\n",
            "\n",
            "Class-wise Accuracy:\n",
            "  Class 2: 74.08%\n",
            "  Class 0: 54.02%\n",
            "  Class 1: 86.88%\n",
            "Train Accuracy: 78.50%, Average Train Loss: 0.533258, Test Accuracy: 71.60%, Average Test Loss: 0.743198\n",
            "\n",
            "Epoch 22/60: "
          ]
        },
        {
          "output_type": "stream",
          "name": "stderr",
          "text": [
            "100%|██████████| 2795/2795 [00:13<00:00, 205.41it/s]\n",
            "Batch 699/699, Loss: 0.698230: 100%|██████████| 699/699 [00:03<00:00, 206.46it/s]\n"
          ]
        },
        {
          "output_type": "stream",
          "name": "stdout",
          "text": [
            "\n",
            "Class-wise Accuracy:\n",
            "  Class 2: 86.31%\n",
            "  Class 0: 56.16%\n",
            "  Class 1: 58.06%\n",
            "Test Accuracy: 67.0%, Test Loss: 0.985225\n",
            "\n",
            "\n",
            "Class-wise Accuracy:\n",
            "  Class 2: 86.31%\n",
            "  Class 0: 56.16%\n",
            "  Class 1: 58.06%\n",
            "Train Accuracy: 78.53%, Average Train Loss: 0.530840, Test Accuracy: 66.97%, Average Test Loss: 0.985225\n",
            "\n",
            "Epoch 23/60: "
          ]
        },
        {
          "output_type": "stream",
          "name": "stderr",
          "text": [
            "100%|██████████| 2795/2795 [00:13<00:00, 205.42it/s]\n",
            "Batch 699/699, Loss: 0.693217: 100%|██████████| 699/699 [00:03<00:00, 207.21it/s]\n"
          ]
        },
        {
          "output_type": "stream",
          "name": "stdout",
          "text": [
            "\n",
            "Class-wise Accuracy:\n",
            "  Class 2: 81.08%\n",
            "  Class 0: 50.27%\n",
            "  Class 1: 86.73%\n",
            "Test Accuracy: 72.7%, Test Loss: 0.779385\n",
            "\n",
            "\n",
            "Class-wise Accuracy:\n",
            "  Class 2: 81.08%\n",
            "  Class 0: 50.27%\n",
            "  Class 1: 86.73%\n",
            "Train Accuracy: 78.13%, Average Train Loss: 0.542722, Test Accuracy: 72.66%, Average Test Loss: 0.779385\n",
            "\n",
            "Epoch 24/60: "
          ]
        },
        {
          "output_type": "stream",
          "name": "stderr",
          "text": [
            "100%|██████████| 2795/2795 [00:13<00:00, 205.07it/s]\n",
            "Batch 699/699, Loss: 0.660463: 100%|██████████| 699/699 [00:03<00:00, 211.42it/s]\n"
          ]
        },
        {
          "output_type": "stream",
          "name": "stdout",
          "text": [
            "\n",
            "Class-wise Accuracy:\n",
            "  Class 2: 70.85%\n",
            "  Class 0: 54.91%\n",
            "  Class 1: 91.59%\n",
            "Test Accuracy: 72.4%, Test Loss: 0.751228\n",
            "\n",
            "\n",
            "Class-wise Accuracy:\n",
            "  Class 2: 70.85%\n",
            "  Class 0: 54.91%\n",
            "  Class 1: 91.59%\n",
            "Train Accuracy: 78.74%, Average Train Loss: 0.526633, Test Accuracy: 72.35%, Average Test Loss: 0.751228\n",
            "\n",
            "Epoch 25/60: "
          ]
        },
        {
          "output_type": "stream",
          "name": "stderr",
          "text": [
            "100%|██████████| 2795/2795 [00:13<00:00, 205.05it/s]\n",
            "Batch 699/699, Loss: 0.730739: 100%|██████████| 699/699 [00:03<00:00, 209.66it/s]\n"
          ]
        },
        {
          "output_type": "stream",
          "name": "stdout",
          "text": [
            "\n",
            "Class-wise Accuracy:\n",
            "  Class 2: 73.41%\n",
            "  Class 0: 41.79%\n",
            "  Class 1: 77.60%\n",
            "Test Accuracy: 64.2%, Test Loss: 0.798220\n",
            "\n",
            "\n",
            "Class-wise Accuracy:\n",
            "  Class 2: 73.41%\n",
            "  Class 0: 41.79%\n",
            "  Class 1: 77.60%\n",
            "Train Accuracy: 79.60%, Average Train Loss: 0.509374, Test Accuracy: 64.24%, Average Test Loss: 0.798220\n",
            "\n",
            "Epoch 26/60: "
          ]
        },
        {
          "output_type": "stream",
          "name": "stderr",
          "text": [
            "100%|██████████| 2795/2795 [00:13<00:00, 205.03it/s]\n",
            "Batch 699/699, Loss: 0.493084: 100%|██████████| 699/699 [00:03<00:00, 213.23it/s]\n"
          ]
        },
        {
          "output_type": "stream",
          "name": "stdout",
          "text": [
            "\n",
            "Class-wise Accuracy:\n",
            "  Class 2: 78.43%\n",
            "  Class 0: 75.60%\n",
            "  Class 1: 84.99%\n",
            "Test Accuracy: 79.6%, Test Loss: 0.771825\n",
            "\n",
            "\n",
            "Class-wise Accuracy:\n",
            "  Class 2: 78.43%\n",
            "  Class 0: 75.60%\n",
            "  Class 1: 84.99%\n",
            "Train Accuracy: 79.91%, Average Train Loss: 0.505033, Test Accuracy: 79.64%, Average Test Loss: 0.771825\n",
            "\n",
            "Epoch 27/60: "
          ]
        },
        {
          "output_type": "stream",
          "name": "stderr",
          "text": [
            "100%|██████████| 2795/2795 [00:13<00:00, 205.97it/s]\n",
            "Batch 699/699, Loss: 0.951426: 100%|██████████| 699/699 [00:03<00:00, 213.15it/s]\n"
          ]
        },
        {
          "output_type": "stream",
          "name": "stdout",
          "text": [
            "\n",
            "Class-wise Accuracy:\n",
            "  Class 2: 43.12%\n",
            "  Class 0: 4.88%\n",
            "  Class 1: 94.75%\n",
            "Test Accuracy: 47.3%, Test Loss: 0.989869\n",
            "\n",
            "\n",
            "Class-wise Accuracy:\n",
            "  Class 2: 43.12%\n",
            "  Class 0: 4.88%\n",
            "  Class 1: 94.75%\n",
            "Train Accuracy: 78.84%, Average Train Loss: 0.534888, Test Accuracy: 47.34%, Average Test Loss: 0.989869\n",
            "\n",
            "Epoch 28/60: "
          ]
        },
        {
          "output_type": "stream",
          "name": "stderr",
          "text": [
            "100%|██████████| 2795/2795 [00:13<00:00, 204.09it/s]\n",
            "Batch 699/699, Loss: 0.514866: 100%|██████████| 699/699 [00:03<00:00, 208.61it/s]\n"
          ]
        },
        {
          "output_type": "stream",
          "name": "stdout",
          "text": [
            "\n",
            "Class-wise Accuracy:\n",
            "  Class 2: 82.77%\n",
            "  Class 0: 65.25%\n",
            "  Class 1: 83.70%\n",
            "Test Accuracy: 77.2%, Test Loss: 0.702966\n",
            "\n",
            "\n",
            "Class-wise Accuracy:\n",
            "  Class 2: 82.77%\n",
            "  Class 0: 65.25%\n",
            "  Class 1: 83.70%\n",
            "Train Accuracy: 80.46%, Average Train Loss: 0.487248, Test Accuracy: 77.23%, Average Test Loss: 0.702966\n",
            "\n",
            "Epoch 29/60: "
          ]
        },
        {
          "output_type": "stream",
          "name": "stderr",
          "text": [
            "100%|██████████| 2795/2795 [00:13<00:00, 204.41it/s]\n",
            "Batch 699/699, Loss: 0.683958: 100%|██████████| 699/699 [00:03<00:00, 215.76it/s]\n"
          ]
        },
        {
          "output_type": "stream",
          "name": "stdout",
          "text": [
            "\n",
            "Class-wise Accuracy:\n",
            "  Class 2: 63.01%\n",
            "  Class 0: 44.55%\n",
            "  Class 1: 85.14%\n",
            "Test Accuracy: 64.1%, Test Loss: 0.792446\n",
            "\n",
            "\n",
            "Class-wise Accuracy:\n",
            "  Class 2: 63.01%\n",
            "  Class 0: 44.55%\n",
            "  Class 1: 85.14%\n",
            "Train Accuracy: 80.09%, Average Train Loss: 0.493764, Test Accuracy: 64.13%, Average Test Loss: 0.792446\n",
            "\n",
            "Epoch 30/60: "
          ]
        },
        {
          "output_type": "stream",
          "name": "stderr",
          "text": [
            "100%|██████████| 2795/2795 [00:13<00:00, 205.04it/s]\n",
            "Batch 699/699, Loss: 0.465163: 100%|██████████| 699/699 [00:03<00:00, 206.41it/s]\n"
          ]
        },
        {
          "output_type": "stream",
          "name": "stdout",
          "text": [
            "\n",
            "Class-wise Accuracy:\n",
            "  Class 2: 83.23%\n",
            "  Class 0: 69.48%\n",
            "  Class 1: 88.69%\n",
            "Test Accuracy: 80.4%, Test Loss: 0.549225\n",
            "\n",
            "\n",
            "Class-wise Accuracy:\n",
            "  Class 2: 83.23%\n",
            "  Class 0: 69.48%\n",
            "  Class 1: 88.69%\n",
            "Train Accuracy: 81.01%, Average Train Loss: 0.475179, Test Accuracy: 80.44%, Average Test Loss: 0.549225\n",
            "\n",
            "Epoch 31/60: "
          ]
        },
        {
          "output_type": "stream",
          "name": "stderr",
          "text": [
            "100%|██████████| 2795/2795 [00:13<00:00, 204.11it/s]\n",
            "Batch 699/699, Loss: 0.508426: 100%|██████████| 699/699 [00:03<00:00, 206.63it/s]\n"
          ]
        },
        {
          "output_type": "stream",
          "name": "stdout",
          "text": [
            "\n",
            "Class-wise Accuracy:\n",
            "  Class 2: 82.56%\n",
            "  Class 0: 63.39%\n",
            "  Class 1: 84.55%\n",
            "Test Accuracy: 76.8%, Test Loss: 0.641508\n",
            "\n",
            "\n",
            "Class-wise Accuracy:\n",
            "  Class 2: 82.56%\n",
            "  Class 0: 63.39%\n",
            "  Class 1: 84.55%\n",
            "Train Accuracy: 80.87%, Average Train Loss: 0.478901, Test Accuracy: 76.82%, Average Test Loss: 0.641508\n",
            "\n",
            "Epoch 32/60: "
          ]
        },
        {
          "output_type": "stream",
          "name": "stderr",
          "text": [
            "100%|██████████| 2795/2795 [00:13<00:00, 205.11it/s]\n",
            "Batch 699/699, Loss: 0.425602: 100%|██████████| 699/699 [00:03<00:00, 207.77it/s]\n"
          ]
        },
        {
          "output_type": "stream",
          "name": "stdout",
          "text": [
            "\n",
            "Class-wise Accuracy:\n",
            "  Class 2: 81.02%\n",
            "  Class 0: 74.86%\n",
            "  Class 1: 85.07%\n",
            "Test Accuracy: 80.3%, Test Loss: 0.910297\n",
            "\n",
            "\n",
            "Class-wise Accuracy:\n",
            "  Class 2: 81.02%\n",
            "  Class 0: 74.86%\n",
            "  Class 1: 85.07%\n",
            "Train Accuracy: 81.54%, Average Train Loss: 0.460567, Test Accuracy: 80.30%, Average Test Loss: 0.910297\n",
            "\n",
            "Epoch 33/60: "
          ]
        },
        {
          "output_type": "stream",
          "name": "stderr",
          "text": [
            "100%|██████████| 2795/2795 [00:13<00:00, 205.92it/s]\n",
            "Batch 699/699, Loss: 0.409541: 100%|██████████| 699/699 [00:03<00:00, 207.03it/s]\n"
          ]
        },
        {
          "output_type": "stream",
          "name": "stdout",
          "text": [
            "\n",
            "Class-wise Accuracy:\n",
            "  Class 2: 83.62%\n",
            "  Class 0: 76.05%\n",
            "  Class 1: 89.56%\n",
            "Test Accuracy: 83.0%, Test Loss: 0.509888\n",
            "\n",
            "\n",
            "Class-wise Accuracy:\n",
            "  Class 2: 83.62%\n",
            "  Class 0: 76.05%\n",
            "  Class 1: 89.56%\n",
            "Train Accuracy: 81.45%, Average Train Loss: 0.463677, Test Accuracy: 83.05%, Average Test Loss: 0.509888\n",
            "\n",
            "Epoch 34/60: "
          ]
        },
        {
          "output_type": "stream",
          "name": "stderr",
          "text": [
            "100%|██████████| 2795/2795 [00:13<00:00, 205.55it/s]\n",
            "Batch 699/699, Loss: 0.375696: 100%|██████████| 699/699 [00:03<00:00, 211.24it/s]\n"
          ]
        },
        {
          "output_type": "stream",
          "name": "stdout",
          "text": [
            "\n",
            "Class-wise Accuracy:\n",
            "  Class 2: 84.96%\n",
            "  Class 0: 76.44%\n",
            "  Class 1: 87.23%\n",
            "Test Accuracy: 82.9%, Test Loss: 0.553195\n",
            "\n",
            "\n",
            "Class-wise Accuracy:\n",
            "  Class 2: 84.96%\n",
            "  Class 0: 76.44%\n",
            "  Class 1: 87.23%\n",
            "Train Accuracy: 81.93%, Average Train Loss: 0.448795, Test Accuracy: 82.87%, Average Test Loss: 0.553195\n",
            "\n",
            "Epoch 35/60: "
          ]
        },
        {
          "output_type": "stream",
          "name": "stderr",
          "text": [
            "100%|██████████| 2795/2795 [00:13<00:00, 204.69it/s]\n",
            "Batch 699/699, Loss: 0.433742: 100%|██████████| 699/699 [00:03<00:00, 211.64it/s]\n"
          ]
        },
        {
          "output_type": "stream",
          "name": "stdout",
          "text": [
            "\n",
            "Class-wise Accuracy:\n",
            "  Class 2: 78.47%\n",
            "  Class 0: 67.10%\n",
            "  Class 1: 89.14%\n",
            "Test Accuracy: 78.2%, Test Loss: 0.645786\n",
            "\n",
            "\n",
            "Class-wise Accuracy:\n",
            "  Class 2: 78.47%\n",
            "  Class 0: 67.10%\n",
            "  Class 1: 89.14%\n",
            "Train Accuracy: 82.18%, Average Train Loss: 0.449308, Test Accuracy: 78.19%, Average Test Loss: 0.645786\n",
            "\n",
            "Epoch 36/60: "
          ]
        },
        {
          "output_type": "stream",
          "name": "stderr",
          "text": [
            "100%|██████████| 2795/2795 [00:13<00:00, 205.42it/s]\n",
            "Batch 699/699, Loss: 0.526390: 100%|██████████| 699/699 [00:03<00:00, 206.17it/s]\n"
          ]
        },
        {
          "output_type": "stream",
          "name": "stdout",
          "text": [
            "\n",
            "Class-wise Accuracy:\n",
            "  Class 2: 74.51%\n",
            "  Class 0: 58.22%\n",
            "  Class 1: 81.85%\n",
            "Test Accuracy: 71.5%, Test Loss: 0.666069\n",
            "\n",
            "\n",
            "Class-wise Accuracy:\n",
            "  Class 2: 74.51%\n",
            "  Class 0: 58.22%\n",
            "  Class 1: 81.85%\n",
            "Train Accuracy: 82.32%, Average Train Loss: 0.446380, Test Accuracy: 71.49%, Average Test Loss: 0.666069\n",
            "\n",
            "Epoch 37/60: "
          ]
        },
        {
          "output_type": "stream",
          "name": "stderr",
          "text": [
            "100%|██████████| 2795/2795 [00:13<00:00, 204.70it/s]\n",
            "Batch 699/699, Loss: 0.367551: 100%|██████████| 699/699 [00:03<00:00, 213.66it/s]\n"
          ]
        },
        {
          "output_type": "stream",
          "name": "stdout",
          "text": [
            "\n",
            "Class-wise Accuracy:\n",
            "  Class 2: 86.73%\n",
            "  Class 0: 75.41%\n",
            "  Class 1: 83.81%\n",
            "Test Accuracy: 82.0%, Test Loss: 0.517914\n",
            "\n",
            "\n",
            "Class-wise Accuracy:\n",
            "  Class 2: 86.73%\n",
            "  Class 0: 75.41%\n",
            "  Class 1: 83.81%\n",
            "Train Accuracy: 82.64%, Average Train Loss: 0.438902, Test Accuracy: 81.99%, Average Test Loss: 0.517914\n",
            "\n",
            "Epoch 38/60: "
          ]
        },
        {
          "output_type": "stream",
          "name": "stderr",
          "text": [
            "100%|██████████| 2795/2795 [00:13<00:00, 205.26it/s]\n",
            "Batch 699/699, Loss: 0.480058: 100%|██████████| 699/699 [00:03<00:00, 211.57it/s]\n"
          ]
        },
        {
          "output_type": "stream",
          "name": "stdout",
          "text": [
            "\n",
            "Class-wise Accuracy:\n",
            "  Class 2: 83.43%\n",
            "  Class 0: 64.46%\n",
            "  Class 1: 85.10%\n",
            "Test Accuracy: 77.7%, Test Loss: 0.616665\n",
            "\n",
            "\n",
            "Class-wise Accuracy:\n",
            "  Class 2: 83.43%\n",
            "  Class 0: 64.46%\n",
            "  Class 1: 85.10%\n",
            "Train Accuracy: 82.75%, Average Train Loss: 0.436627, Test Accuracy: 77.65%, Average Test Loss: 0.616665\n",
            "\n",
            "Epoch 39/60: "
          ]
        },
        {
          "output_type": "stream",
          "name": "stderr",
          "text": [
            "100%|██████████| 2795/2795 [00:13<00:00, 205.09it/s]\n",
            "Batch 699/699, Loss: 0.365083: 100%|██████████| 699/699 [00:03<00:00, 206.40it/s]\n"
          ]
        },
        {
          "output_type": "stream",
          "name": "stdout",
          "text": [
            "\n",
            "Class-wise Accuracy:\n",
            "  Class 2: 85.27%\n",
            "  Class 0: 79.04%\n",
            "  Class 1: 87.30%\n",
            "Test Accuracy: 83.9%, Test Loss: 0.632275\n",
            "\n",
            "\n",
            "Class-wise Accuracy:\n",
            "  Class 2: 85.27%\n",
            "  Class 0: 79.04%\n",
            "  Class 1: 87.30%\n",
            "Train Accuracy: 82.74%, Average Train Loss: 0.434949, Test Accuracy: 83.86%, Average Test Loss: 0.632275\n",
            "\n",
            "Epoch 40/60: "
          ]
        },
        {
          "output_type": "stream",
          "name": "stderr",
          "text": [
            "100%|██████████| 2795/2795 [00:13<00:00, 205.64it/s]\n",
            "Batch 699/699, Loss: 0.456552: 100%|██████████| 699/699 [00:03<00:00, 210.45it/s]\n"
          ]
        },
        {
          "output_type": "stream",
          "name": "stdout",
          "text": [
            "\n",
            "Class-wise Accuracy:\n",
            "  Class 2: 80.69%\n",
            "  Class 0: 66.74%\n",
            "  Class 1: 85.47%\n",
            "Test Accuracy: 77.6%, Test Loss: 0.600304\n",
            "\n",
            "\n",
            "Class-wise Accuracy:\n",
            "  Class 2: 80.69%\n",
            "  Class 0: 66.74%\n",
            "  Class 1: 85.47%\n",
            "Train Accuracy: 83.08%, Average Train Loss: 0.424184, Test Accuracy: 77.61%, Average Test Loss: 0.600304\n",
            "\n",
            "Epoch 41/60: "
          ]
        },
        {
          "output_type": "stream",
          "name": "stderr",
          "text": [
            "100%|██████████| 2795/2795 [00:13<00:00, 205.54it/s]\n",
            "Batch 699/699, Loss: 0.585979: 100%|██████████| 699/699 [00:03<00:00, 204.92it/s]\n"
          ]
        },
        {
          "output_type": "stream",
          "name": "stdout",
          "text": [
            "\n",
            "Class-wise Accuracy:\n",
            "  Class 2: 71.46%\n",
            "  Class 0: 48.94%\n",
            "  Class 1: 84.61%\n",
            "Test Accuracy: 68.3%, Test Loss: 0.750284\n",
            "\n",
            "\n",
            "Class-wise Accuracy:\n",
            "  Class 2: 71.46%\n",
            "  Class 0: 48.94%\n",
            "  Class 1: 84.61%\n",
            "Train Accuracy: 83.22%, Average Train Loss: 0.422808, Test Accuracy: 68.27%, Average Test Loss: 0.750284\n",
            "\n",
            "Epoch 42/60: "
          ]
        },
        {
          "output_type": "stream",
          "name": "stderr",
          "text": [
            "100%|██████████| 2795/2795 [00:13<00:00, 205.45it/s]\n",
            "Batch 699/699, Loss: 0.396730: 100%|██████████| 699/699 [00:03<00:00, 206.60it/s]\n"
          ]
        },
        {
          "output_type": "stream",
          "name": "stdout",
          "text": [
            "\n",
            "Class-wise Accuracy:\n",
            "  Class 2: 85.58%\n",
            "  Class 0: 71.55%\n",
            "  Class 1: 83.78%\n",
            "Test Accuracy: 80.3%, Test Loss: 0.520376\n",
            "\n",
            "\n",
            "Class-wise Accuracy:\n",
            "  Class 2: 85.58%\n",
            "  Class 0: 71.55%\n",
            "  Class 1: 83.78%\n",
            "Train Accuracy: 83.13%, Average Train Loss: 0.429219, Test Accuracy: 80.31%, Average Test Loss: 0.520376\n",
            "\n",
            "Epoch 43/60: "
          ]
        },
        {
          "output_type": "stream",
          "name": "stderr",
          "text": [
            "100%|██████████| 2795/2795 [00:13<00:00, 204.73it/s]\n",
            "Batch 699/699, Loss: 0.630039: 100%|██████████| 699/699 [00:03<00:00, 206.78it/s]\n"
          ]
        },
        {
          "output_type": "stream",
          "name": "stdout",
          "text": [
            "\n",
            "Class-wise Accuracy:\n",
            "  Class 2: 60.54%\n",
            "  Class 0: 43.49%\n",
            "  Class 1: 80.14%\n",
            "Test Accuracy: 61.3%, Test Loss: 0.847335\n",
            "\n",
            "\n",
            "Class-wise Accuracy:\n",
            "  Class 2: 60.54%\n",
            "  Class 0: 43.49%\n",
            "  Class 1: 80.14%\n",
            "Train Accuracy: 83.48%, Average Train Loss: 0.417363, Test Accuracy: 61.30%, Average Test Loss: 0.847335\n",
            "\n",
            "Epoch 44/60: "
          ]
        },
        {
          "output_type": "stream",
          "name": "stderr",
          "text": [
            "100%|██████████| 2795/2795 [00:13<00:00, 204.70it/s]\n",
            "Batch 699/699, Loss: 0.480168: 100%|██████████| 699/699 [00:03<00:00, 206.43it/s]\n"
          ]
        },
        {
          "output_type": "stream",
          "name": "stdout",
          "text": [
            "\n",
            "Class-wise Accuracy:\n",
            "  Class 2: 83.33%\n",
            "  Class 0: 64.97%\n",
            "  Class 1: 89.28%\n",
            "Test Accuracy: 79.2%, Test Loss: 0.565685\n",
            "\n",
            "\n",
            "Class-wise Accuracy:\n",
            "  Class 2: 83.33%\n",
            "  Class 0: 64.97%\n",
            "  Class 1: 89.28%\n",
            "Train Accuracy: 83.70%, Average Train Loss: 0.412852, Test Accuracy: 79.16%, Average Test Loss: 0.565685\n",
            "\n",
            "Epoch 45/60: "
          ]
        },
        {
          "output_type": "stream",
          "name": "stderr",
          "text": [
            "100%|██████████| 2795/2795 [00:13<00:00, 204.82it/s]\n",
            "Batch 699/699, Loss: 0.349423: 100%|██████████| 699/699 [00:03<00:00, 203.74it/s]\n"
          ]
        },
        {
          "output_type": "stream",
          "name": "stdout",
          "text": [
            "\n",
            "Class-wise Accuracy:\n",
            "  Class 2: 87.01%\n",
            "  Class 0: 76.82%\n",
            "  Class 1: 87.87%\n",
            "Test Accuracy: 83.9%, Test Loss: 0.490823\n",
            "\n",
            "\n",
            "Class-wise Accuracy:\n",
            "  Class 2: 87.01%\n",
            "  Class 0: 76.82%\n",
            "  Class 1: 87.87%\n",
            "Train Accuracy: 83.48%, Average Train Loss: 0.417834, Test Accuracy: 83.89%, Average Test Loss: 0.490823\n",
            "\n",
            "Epoch 46/60: "
          ]
        },
        {
          "output_type": "stream",
          "name": "stderr",
          "text": [
            "100%|██████████| 2795/2795 [00:13<00:00, 205.44it/s]\n",
            "Batch 699/699, Loss: 0.379468: 100%|██████████| 699/699 [00:03<00:00, 206.69it/s]\n"
          ]
        },
        {
          "output_type": "stream",
          "name": "stdout",
          "text": [
            "\n",
            "Class-wise Accuracy:\n",
            "  Class 2: 85.31%\n",
            "  Class 0: 74.08%\n",
            "  Class 1: 87.11%\n",
            "Test Accuracy: 82.2%, Test Loss: 0.513038\n",
            "\n",
            "\n",
            "Class-wise Accuracy:\n",
            "  Class 2: 85.31%\n",
            "  Class 0: 74.08%\n",
            "  Class 1: 87.11%\n",
            "Train Accuracy: 83.88%, Average Train Loss: 0.410281, Test Accuracy: 82.16%, Average Test Loss: 0.513038\n",
            "\n",
            "Epoch 47/60: "
          ]
        },
        {
          "output_type": "stream",
          "name": "stderr",
          "text": [
            "100%|██████████| 2795/2795 [00:13<00:00, 204.64it/s]\n",
            "Batch 699/699, Loss: 0.359174: 100%|██████████| 699/699 [00:03<00:00, 205.72it/s]\n"
          ]
        },
        {
          "output_type": "stream",
          "name": "stdout",
          "text": [
            "\n",
            "Class-wise Accuracy:\n",
            "  Class 2: 87.00%\n",
            "  Class 0: 77.15%\n",
            "  Class 1: 85.55%\n",
            "Test Accuracy: 83.2%, Test Loss: 0.750982\n",
            "\n",
            "\n",
            "Class-wise Accuracy:\n",
            "  Class 2: 87.00%\n",
            "  Class 0: 77.15%\n",
            "  Class 1: 85.55%\n",
            "Train Accuracy: 83.71%, Average Train Loss: 0.415097, Test Accuracy: 83.24%, Average Test Loss: 0.750982\n",
            "\n",
            "Epoch 48/60: "
          ]
        },
        {
          "output_type": "stream",
          "name": "stderr",
          "text": [
            "100%|██████████| 2795/2795 [00:13<00:00, 204.74it/s]\n",
            "Batch 699/699, Loss: 0.345283: 100%|██████████| 699/699 [00:03<00:00, 204.93it/s]\n"
          ]
        },
        {
          "output_type": "stream",
          "name": "stdout",
          "text": [
            "\n",
            "Class-wise Accuracy:\n",
            "  Class 2: 88.43%\n",
            "  Class 0: 76.63%\n",
            "  Class 1: 88.23%\n",
            "Test Accuracy: 84.4%, Test Loss: 0.473534\n",
            "\n",
            "\n",
            "Class-wise Accuracy:\n",
            "  Class 2: 88.43%\n",
            "  Class 0: 76.63%\n",
            "  Class 1: 88.23%\n",
            "Train Accuracy: 83.94%, Average Train Loss: 0.406741, Test Accuracy: 84.43%, Average Test Loss: 0.473534\n",
            "\n",
            "Epoch 49/60: "
          ]
        },
        {
          "output_type": "stream",
          "name": "stderr",
          "text": [
            "100%|██████████| 2795/2795 [00:13<00:00, 205.08it/s]\n",
            "Batch 699/699, Loss: 0.363390: 100%|██████████| 699/699 [00:03<00:00, 199.37it/s]\n"
          ]
        },
        {
          "output_type": "stream",
          "name": "stdout",
          "text": [
            "\n",
            "Class-wise Accuracy:\n",
            "  Class 2: 82.16%\n",
            "  Class 0: 78.63%\n",
            "  Class 1: 90.98%\n",
            "Test Accuracy: 83.9%, Test Loss: 0.478527\n",
            "\n",
            "\n",
            "Class-wise Accuracy:\n",
            "  Class 2: 82.16%\n",
            "  Class 0: 78.63%\n",
            "  Class 1: 90.98%\n",
            "Train Accuracy: 84.17%, Average Train Loss: 0.401555, Test Accuracy: 83.88%, Average Test Loss: 0.478527\n",
            "\n",
            "Epoch 50/60: "
          ]
        },
        {
          "output_type": "stream",
          "name": "stderr",
          "text": [
            "100%|██████████| 2795/2795 [00:13<00:00, 204.98it/s]\n",
            "Batch 699/699, Loss: 0.337460: 100%|██████████| 699/699 [00:03<00:00, 215.97it/s]\n"
          ]
        },
        {
          "output_type": "stream",
          "name": "stdout",
          "text": [
            "\n",
            "Class-wise Accuracy:\n",
            "  Class 2: 84.53%\n",
            "  Class 0: 82.79%\n",
            "  Class 1: 88.92%\n",
            "Test Accuracy: 85.4%, Test Loss: 0.474191\n",
            "\n",
            "\n",
            "Class-wise Accuracy:\n",
            "  Class 2: 84.53%\n",
            "  Class 0: 82.79%\n",
            "  Class 1: 88.92%\n",
            "Train Accuracy: 84.01%, Average Train Loss: 0.404502, Test Accuracy: 85.39%, Average Test Loss: 0.474191\n",
            "\n",
            "Epoch 51/60: "
          ]
        },
        {
          "output_type": "stream",
          "name": "stderr",
          "text": [
            "100%|██████████| 2795/2795 [00:13<00:00, 205.48it/s]\n",
            "Batch 699/699, Loss: 0.336318: 100%|██████████| 699/699 [00:03<00:00, 213.87it/s]\n"
          ]
        },
        {
          "output_type": "stream",
          "name": "stdout",
          "text": [
            "\n",
            "Class-wise Accuracy:\n",
            "  Class 2: 84.33%\n",
            "  Class 0: 79.39%\n",
            "  Class 1: 90.80%\n",
            "Test Accuracy: 84.8%, Test Loss: 0.498057\n",
            "\n",
            "\n",
            "Class-wise Accuracy:\n",
            "  Class 2: 84.33%\n",
            "  Class 0: 79.39%\n",
            "  Class 1: 90.80%\n",
            "Train Accuracy: 84.18%, Average Train Loss: 0.401628, Test Accuracy: 84.81%, Average Test Loss: 0.498057\n",
            "\n",
            "Epoch 52/60: "
          ]
        },
        {
          "output_type": "stream",
          "name": "stderr",
          "text": [
            "100%|██████████| 2795/2795 [00:13<00:00, 204.19it/s]\n",
            "Batch 699/699, Loss: 0.336044: 100%|██████████| 699/699 [00:03<00:00, 204.55it/s]\n"
          ]
        },
        {
          "output_type": "stream",
          "name": "stdout",
          "text": [
            "\n",
            "Class-wise Accuracy:\n",
            "  Class 2: 83.75%\n",
            "  Class 0: 79.19%\n",
            "  Class 1: 88.72%\n",
            "Test Accuracy: 83.9%, Test Loss: 0.527238\n",
            "\n",
            "\n",
            "Class-wise Accuracy:\n",
            "  Class 2: 83.75%\n",
            "  Class 0: 79.19%\n",
            "  Class 1: 88.72%\n",
            "Train Accuracy: 84.13%, Average Train Loss: 0.400624, Test Accuracy: 83.86%, Average Test Loss: 0.527238\n",
            "\n",
            "Epoch 53/60: "
          ]
        },
        {
          "output_type": "stream",
          "name": "stderr",
          "text": [
            "100%|██████████| 2795/2795 [00:13<00:00, 205.25it/s]\n",
            "Batch 699/699, Loss: 0.325754: 100%|██████████| 699/699 [00:03<00:00, 209.30it/s]\n"
          ]
        },
        {
          "output_type": "stream",
          "name": "stdout",
          "text": [
            "\n",
            "Class-wise Accuracy:\n",
            "  Class 2: 84.94%\n",
            "  Class 0: 81.27%\n",
            "  Class 1: 89.56%\n",
            "Test Accuracy: 85.2%, Test Loss: 0.466692\n",
            "\n",
            "\n",
            "Class-wise Accuracy:\n",
            "  Class 2: 84.94%\n",
            "  Class 0: 81.27%\n",
            "  Class 1: 89.56%\n",
            "Train Accuracy: 84.30%, Average Train Loss: 0.398334, Test Accuracy: 85.24%, Average Test Loss: 0.466692\n",
            "\n",
            "Epoch 54/60: "
          ]
        },
        {
          "output_type": "stream",
          "name": "stderr",
          "text": [
            "100%|██████████| 2795/2795 [00:13<00:00, 205.58it/s]\n",
            "Batch 699/699, Loss: 0.437227: 100%|██████████| 699/699 [00:03<00:00, 214.33it/s]\n"
          ]
        },
        {
          "output_type": "stream",
          "name": "stdout",
          "text": [
            "\n",
            "Class-wise Accuracy:\n",
            "  Class 2: 84.17%\n",
            "  Class 0: 64.31%\n",
            "  Class 1: 83.94%\n",
            "Test Accuracy: 77.5%, Test Loss: 0.579230\n",
            "\n",
            "\n",
            "Class-wise Accuracy:\n",
            "  Class 2: 84.17%\n",
            "  Class 0: 64.31%\n",
            "  Class 1: 83.94%\n",
            "Train Accuracy: 84.27%, Average Train Loss: 0.396630, Test Accuracy: 77.48%, Average Test Loss: 0.579230\n",
            "\n",
            "Epoch 55/60: "
          ]
        },
        {
          "output_type": "stream",
          "name": "stderr",
          "text": [
            "100%|██████████| 2795/2795 [00:13<00:00, 205.12it/s]\n",
            "Batch 699/699, Loss: 0.350820: 100%|██████████| 699/699 [00:03<00:00, 208.57it/s]\n"
          ]
        },
        {
          "output_type": "stream",
          "name": "stdout",
          "text": [
            "\n",
            "Class-wise Accuracy:\n",
            "  Class 2: 83.58%\n",
            "  Class 0: 80.32%\n",
            "  Class 1: 90.87%\n",
            "Test Accuracy: 84.9%, Test Loss: 0.454030\n",
            "\n",
            "\n",
            "Class-wise Accuracy:\n",
            "  Class 2: 83.58%\n",
            "  Class 0: 80.32%\n",
            "  Class 1: 90.87%\n",
            "Train Accuracy: 84.47%, Average Train Loss: 0.391494, Test Accuracy: 84.89%, Average Test Loss: 0.454030\n",
            "\n",
            "Epoch 56/60: "
          ]
        },
        {
          "output_type": "stream",
          "name": "stderr",
          "text": [
            "100%|██████████| 2795/2795 [00:13<00:00, 204.92it/s]\n",
            "Batch 699/699, Loss: 0.349595: 100%|██████████| 699/699 [00:03<00:00, 208.22it/s]\n"
          ]
        },
        {
          "output_type": "stream",
          "name": "stdout",
          "text": [
            "\n",
            "Class-wise Accuracy:\n",
            "  Class 2: 81.05%\n",
            "  Class 0: 79.65%\n",
            "  Class 1: 91.15%\n",
            "Test Accuracy: 83.9%, Test Loss: 0.481049\n",
            "\n",
            "\n",
            "Class-wise Accuracy:\n",
            "  Class 2: 81.05%\n",
            "  Class 0: 79.65%\n",
            "  Class 1: 91.15%\n",
            "Train Accuracy: 84.52%, Average Train Loss: 0.391421, Test Accuracy: 83.90%, Average Test Loss: 0.481049\n",
            "\n",
            "Epoch 57/60: "
          ]
        },
        {
          "output_type": "stream",
          "name": "stderr",
          "text": [
            "100%|██████████| 2795/2795 [00:13<00:00, 204.79it/s]\n",
            "Batch 699/699, Loss: 0.367903: 100%|██████████| 699/699 [00:03<00:00, 202.69it/s]\n"
          ]
        },
        {
          "output_type": "stream",
          "name": "stdout",
          "text": [
            "\n",
            "Class-wise Accuracy:\n",
            "  Class 2: 80.24%\n",
            "  Class 0: 78.29%\n",
            "  Class 1: 92.22%\n",
            "Test Accuracy: 83.5%, Test Loss: 0.479457\n",
            "\n",
            "\n",
            "Class-wise Accuracy:\n",
            "  Class 2: 80.24%\n",
            "  Class 0: 78.29%\n",
            "  Class 1: 92.22%\n",
            "Train Accuracy: 84.56%, Average Train Loss: 0.392070, Test Accuracy: 83.53%, Average Test Loss: 0.479457\n",
            "\n",
            "Epoch 58/60: "
          ]
        },
        {
          "output_type": "stream",
          "name": "stderr",
          "text": [
            "100%|██████████| 2795/2795 [00:13<00:00, 204.72it/s]\n",
            "Batch 699/699, Loss: 0.644560: 100%|██████████| 699/699 [00:03<00:00, 202.95it/s]\n"
          ]
        },
        {
          "output_type": "stream",
          "name": "stdout",
          "text": [
            "\n",
            "Class-wise Accuracy:\n",
            "  Class 2: 64.93%\n",
            "  Class 0: 39.87%\n",
            "  Class 1: 76.32%\n",
            "Test Accuracy: 60.3%, Test Loss: 0.847337\n",
            "\n",
            "\n",
            "Class-wise Accuracy:\n",
            "  Class 2: 64.93%\n",
            "  Class 0: 39.87%\n",
            "  Class 1: 76.32%\n",
            "Train Accuracy: 84.55%, Average Train Loss: 0.392861, Test Accuracy: 60.32%, Average Test Loss: 0.847337\n",
            "\n",
            "Epoch 59/60: "
          ]
        },
        {
          "output_type": "stream",
          "name": "stderr",
          "text": [
            "100%|██████████| 2795/2795 [00:13<00:00, 204.77it/s]\n",
            "Batch 699/699, Loss: 0.531474: 100%|██████████| 699/699 [00:03<00:00, 209.85it/s]\n"
          ]
        },
        {
          "output_type": "stream",
          "name": "stdout",
          "text": [
            "\n",
            "Class-wise Accuracy:\n",
            "  Class 2: 74.90%\n",
            "  Class 0: 55.63%\n",
            "  Class 1: 78.01%\n",
            "Test Accuracy: 69.5%, Test Loss: 0.690070\n",
            "\n",
            "\n",
            "Class-wise Accuracy:\n",
            "  Class 2: 74.90%\n",
            "  Class 0: 55.63%\n",
            "  Class 1: 78.01%\n",
            "Train Accuracy: 84.28%, Average Train Loss: 0.394322, Test Accuracy: 69.50%, Average Test Loss: 0.690070\n",
            "\n",
            "Epoch 60/60: "
          ]
        },
        {
          "output_type": "stream",
          "name": "stderr",
          "text": [
            "100%|██████████| 2795/2795 [00:13<00:00, 204.21it/s]\n",
            "Batch 699/699, Loss: 0.630302: 100%|██████████| 699/699 [00:03<00:00, 197.70it/s]\n"
          ]
        },
        {
          "output_type": "stream",
          "name": "stdout",
          "text": [
            "\n",
            "Class-wise Accuracy:\n",
            "  Class 2: 63.85%\n",
            "  Class 0: 41.71%\n",
            "  Class 1: 76.18%\n",
            "Test Accuracy: 60.5%, Test Loss: 0.841513\n",
            "\n",
            "\n",
            "Class-wise Accuracy:\n",
            "  Class 2: 63.85%\n",
            "  Class 0: 41.71%\n",
            "  Class 1: 76.18%\n",
            "Train Accuracy: 84.39%, Average Train Loss: 0.392341, Test Accuracy: 60.52%, Average Test Loss: 0.841513\n",
            "\n"
          ]
        },
        {
          "output_type": "display_data",
          "data": {
            "text/plain": [
              "<IPython.core.display.HTML object>"
            ],
            "text/html": []
          },
          "metadata": {}
        },
        {
          "output_type": "display_data",
          "data": {
            "text/plain": [
              "<IPython.core.display.HTML object>"
            ],
            "text/html": [
              "<br>    <style><br>        .wandb-row {<br>            display: flex;<br>            flex-direction: row;<br>            flex-wrap: wrap;<br>            justify-content: flex-start;<br>            width: 100%;<br>        }<br>        .wandb-col {<br>            display: flex;<br>            flex-direction: column;<br>            flex-basis: 100%;<br>            flex: 1;<br>            padding: 10px;<br>        }<br>    </style><br><div class=\"wandb-row\"><div class=\"wandb-col\"><h3>Run history:</h3><br/><table class=\"wandb\"><tr><td>class_0_accuracy</td><td>▁▁▁▂▂▁▂▅▅▂▆▅▂▆▆▅▆▄▇▁▅▇▆▇▇▇▇▆█▅▆▇▇████▆█▆</td></tr><tr><td>class_1_accuracy</td><td>█▆██▇▇█▅▇▆▆▅▅▁▆▆▇▅▆▆▆▆▆▅▆▅▅▅▆▆▆▆▆▆▆▆▇▇▄▄</td></tr><tr><td>class_2_accuracy</td><td>▁▃▁▄▃▅▃▆▆▇▇▇▆▇▆▇█▇▇▇█▆██████▇▇▆███████▇▇</td></tr><tr><td>epoch</td><td>▁▁▁▁▁▂▂▂▂▂▃▃▃▃▃▃▃▄▄▄▄▅▅▅▅▅▅▆▆▆▆▇▇▇▇▇████</td></tr><tr><td>learning_rate</td><td>███████▇▇▇▇▇▇▆▆▆▆▅▅▅▄▄▄▄▃▃▃▃▂▂▂▂▂▁▁▁▁▁▁▁</td></tr><tr><td>test_accuracy</td><td>▁▂▁▃▄▂▃▆▄▆▆▆▆▃▆▅▇▃▇▅▇▇█▆██▇▆▇▇█████▇██▅▅</td></tr><tr><td>test_loss</td><td>▆▆▆▆█▆▆▅▃▅▃▆▃▃▅▃▄▅▃▄▂▁▂▃▂▂▂▃▂▄▁▁▃▁▁▁▂▁▁▄</td></tr><tr><td>train_accuracy</td><td>▁▂▃▃▃▅▅▅▅▆▆▆▅▆▆▆▇▆▇▇▇▇▇▇████████████████</td></tr><tr><td>train_loss</td><td>█▇▆▆▇▆▅▅▄▄▄▄▃▄▃▃▃▃▃▃▂▂▂▂▂▁▁▁▁▁▁▁▁▁▁▁▁▁▁▁</td></tr></table><br/></div><div class=\"wandb-col\"><h3>Run summary:</h3><br/><table class=\"wandb\"><tr><td>class_0_accuracy</td><td>41.70915</td></tr><tr><td>class_1_accuracy</td><td>76.184</td></tr><tr><td>class_2_accuracy</td><td>63.84585</td></tr><tr><td>epoch</td><td>60</td></tr><tr><td>learning_rate</td><td>0.0</td></tr><tr><td>test_accuracy</td><td>60.51984</td></tr><tr><td>test_loss</td><td>0.84151</td></tr><tr><td>train_accuracy</td><td>84.39195</td></tr><tr><td>train_loss</td><td>0.39234</td></tr></table><br/></div></div>"
            ]
          },
          "metadata": {}
        },
        {
          "output_type": "display_data",
          "data": {
            "text/plain": [
              "<IPython.core.display.HTML object>"
            ],
            "text/html": [
              " View run <strong style=\"color:#cdcd00\">ShallowAttentionNet 809890</strong> at: <a href='https://wandb.ai/philinthesky/Master%20Thesis/runs/puwz09lb' target=\"_blank\">https://wandb.ai/philinthesky/Master%20Thesis/runs/puwz09lb</a><br> View project at: <a href='https://wandb.ai/philinthesky/Master%20Thesis' target=\"_blank\">https://wandb.ai/philinthesky/Master%20Thesis</a><br>Synced 5 W&B file(s), 0 media file(s), 0 artifact file(s) and 0 other file(s)"
            ]
          },
          "metadata": {}
        },
        {
          "output_type": "display_data",
          "data": {
            "text/plain": [
              "<IPython.core.display.HTML object>"
            ],
            "text/html": [
              "Find logs at: <code>./wandb/run-20250330_160516-puwz09lb/logs</code>"
            ]
          },
          "metadata": {}
        }
      ],
      "source": [
        "import torch\n",
        "import wandb\n",
        "from torch.utils.data import DataLoader\n",
        "from torch.optim import AdamW\n",
        "from torch.optim.lr_scheduler import CosineAnnealingLR\n",
        "from torch.nn import CrossEntropyLoss\n",
        "import numpy as np\n",
        "from weight_init import init_weights\n",
        "\n",
        "seeds = [99999,182726,91111222,44552222,12223111,100300,47456655,4788347,77766666,809890]\n",
        "for _seed in seeds:\n",
        "  seed = _seed\n",
        "  set_random_seeds(seed=seed, cuda=cuda)\n",
        "  model = ShallowAttentionNet(\n",
        "    n_chans=n_channels,\n",
        "    n_outputs=n_classes,\n",
        "    n_times=input_window_samples,\n",
        "  )\n",
        "\n",
        "  # Display torchinfo table describing the model\n",
        "  print(model)\n",
        "  model.apply(init_weights)\n",
        "  # Send model to GPU\n",
        "  if cuda:\n",
        "      model.cuda()\n",
        "  # Initialize Weights & Biases\n",
        "  wandb.init(project=\"Master Thesis\", name=f\"{model.__class__.__name__} {seed}\")\n",
        "\n",
        "  # Define hyperparameters\n",
        "  lr = 1e-3\n",
        "  weight_decay = 1e-4\n",
        "  batch_size = 32  # Start with 124\n",
        "  n_epochs = 60\n",
        "  patience = 30  # Patience for early stopping\n",
        "\n",
        "  final_acc = 0.0\n",
        "\n",
        "  # Log hyperparameters to wandb\n",
        "  wandb.config.update({\n",
        "      \"learning_rate\": lr,\n",
        "      \"weight_decay\": weight_decay,\n",
        "      \"batch_size\": batch_size,\n",
        "      \"epochs\": n_epochs\n",
        "  })\n",
        "\n",
        "  # Define optimizer and scheduler\n",
        "  optimizer = AdamW(model.parameters(), lr=lr, weight_decay=weight_decay)\n",
        "  scheduler = CosineAnnealingLR(optimizer, T_max=n_epochs - 1)\n",
        "\n",
        "  # Define loss function\n",
        "  loss_fn = CrossEntropyLoss()\n",
        "\n",
        "  # Create DataLoaders\n",
        "  train_loader = DataLoader(train_set, batch_size=batch_size, shuffle=True)\n",
        "  test_loader = DataLoader(test_set, batch_size=batch_size)\n",
        "\n",
        "  # Initialize lists to store all predictions & targets\n",
        "  all_preds, all_targets = [], []\n",
        "\n",
        "  # Early Stopping setup\n",
        "  best_val_loss = float('inf')\n",
        "  epochs_without_improvement = 0\n",
        "\n",
        "  # Training loop\n",
        "  for epoch in range(1, n_epochs + 1):\n",
        "      print(f\"Epoch {epoch}/{n_epochs}: \", end=\"\")\n",
        "\n",
        "      train_loss, train_accuracy = train_one_epoch(\n",
        "          train_loader, model, loss_fn, optimizer, scheduler, epoch, device\n",
        "      )\n",
        "\n",
        "      test_loss, test_accuracy, class_accuracies, batch_preds, batch_targets = test_model(test_loader, model, loss_fn)\n",
        "      final_acc = test_accuracy\n",
        "\n",
        "      # Store predictions & labels for confusion matrix\n",
        "      all_preds.extend(batch_preds)\n",
        "      all_targets.extend(batch_targets)\n",
        "\n",
        "      # Print class-wise accuracy\n",
        "      print(\"\\nClass-wise Accuracy:\")\n",
        "      for class_idx, acc in class_accuracies.items():\n",
        "          print(f\"  Class {class_idx}: {acc:.2f}%\")\n",
        "\n",
        "      # Log results to wandb\n",
        "      wandb.log({\n",
        "          \"epoch\": epoch,\n",
        "          \"train_loss\": train_loss,\n",
        "          \"train_accuracy\": train_accuracy * 100,\n",
        "          \"test_loss\": test_loss,\n",
        "          \"test_accuracy\": test_accuracy,\n",
        "          \"learning_rate\": scheduler.get_last_lr()[0],\n",
        "          **{f\"class_{class_idx}_accuracy\": acc for class_idx, acc in class_accuracies.items()}\n",
        "      })\n",
        "\n",
        "      print(\n",
        "          f\"Train Accuracy: {100 * train_accuracy:.2f}%, \"\n",
        "          f\"Average Train Loss: {train_loss:.6f}, \"\n",
        "          f\"Test Accuracy: {test_accuracy:.2f}%, \"\n",
        "          f\"Average Test Loss: {test_loss:.6f}\\n\"\n",
        "      )\n",
        "\n",
        "      # Early stopping check\n",
        "      if test_loss < best_val_loss:\n",
        "          best_val_loss = test_loss\n",
        "          epochs_without_improvement = 0  # Reset counter if we have improvement\n",
        "      else:\n",
        "          epochs_without_improvement += 1\n",
        "\n",
        "      # If no improvement for 'patience' epochs, stop training early\n",
        "      if epochs_without_improvement >= patience:\n",
        "          print(f\"Early stopping triggered after {epoch+1} epochs.\")\n",
        "          break\n",
        "\n",
        "  # Convert lists to NumPy arrays\n",
        "  all_preds = np.array(all_preds)\n",
        "  all_targets = np.array(all_targets)\n",
        "\n",
        "  # Save predictions & true labels for later use (confusion matrix)\n",
        "  wandb.log({\"all_preds\": all_preds.tolist(), \"all_targets\": all_targets.tolist()})\n",
        "  wandb.finish()\n",
        "  torch.save(model, f\"{model.__class__.__name__}_{math.ceil(final_acc)}_{seed}.pth\")\n",
        "  torch.save(model.state_dict(), f\"{model.__class__.__name__}_{math.ceil(final_acc)}_{seed}_state.pth\")\n",
        "\n"
      ]
    },
    {
      "cell_type": "code",
      "source": [
        "import shutil\n",
        "import os\n",
        "from google.colab import drive\n",
        "\n",
        "source_dir = \"./\"  # Root directory where .pth files are stored\n",
        "dest_dir = \"/content/drive/My Drive/pth_backups/\"  # Destination in Google Drive\n",
        "\n",
        "# Ensure destination directory exists\n",
        "os.makedirs(dest_dir, exist_ok=True)\n",
        "\n",
        "# Find and move all .pth files\n",
        "for file_name in os.listdir(source_dir):\n",
        "    if file_name.endswith(\".pth\"):\n",
        "        src_path = os.path.join(source_dir, file_name)\n",
        "        dest_path = os.path.join(dest_dir, file_name)\n",
        "        shutil.move(src_path, dest_path)\n",
        "        print(f\"Moved: {file_name} -> {dest_path}\")\n",
        "\n",
        "print(\"All .pth files have been moved to Google Drive!\")"
      ],
      "metadata": {
        "id": "DFUwHkQWPqUL",
        "colab": {
          "base_uri": "https://localhost:8080/"
        },
        "outputId": "03c3b09d-8f27-425c-de53-417b88339d93"
      },
      "execution_count": 13,
      "outputs": [
        {
          "output_type": "stream",
          "name": "stdout",
          "text": [
            "Moved: ShallowAttentionNet_90_100300.pth -> /content/drive/My Drive/pth_backups/ShallowAttentionNet_90_100300.pth\n",
            "Moved: ShallowAttentionNet_83_12223111.pth -> /content/drive/My Drive/pth_backups/ShallowAttentionNet_83_12223111.pth\n",
            "Moved: ShallowAttentionNet_72_99999.pth -> /content/drive/My Drive/pth_backups/ShallowAttentionNet_72_99999.pth\n",
            "Moved: ShallowAttentionNet_80_4788347.pth -> /content/drive/My Drive/pth_backups/ShallowAttentionNet_80_4788347.pth\n",
            "Moved: ShallowAttentionNet_60_99999.pth -> /content/drive/My Drive/pth_backups/ShallowAttentionNet_60_99999.pth\n",
            "Moved: ShallowAttentionNet_83_77766666_state.pth -> /content/drive/My Drive/pth_backups/ShallowAttentionNet_83_77766666_state.pth\n",
            "Moved: ShallowAttentionNet_81_44552222.pth -> /content/drive/My Drive/pth_backups/ShallowAttentionNet_81_44552222.pth\n",
            "Moved: ShallowAttentionNet_77_47456655.pth -> /content/drive/My Drive/pth_backups/ShallowAttentionNet_77_47456655.pth\n",
            "Moved: ShallowAttentionNet_81_99999.pth -> /content/drive/My Drive/pth_backups/ShallowAttentionNet_81_99999.pth\n",
            "Moved: ShallowAttentionNet_90_100300_state.pth -> /content/drive/My Drive/pth_backups/ShallowAttentionNet_90_100300_state.pth\n",
            "Moved: ShallowAttentionNet_61_809890_state.pth -> /content/drive/My Drive/pth_backups/ShallowAttentionNet_61_809890_state.pth\n",
            "Moved: ShallowAttentionNet_80_4788347_state.pth -> /content/drive/My Drive/pth_backups/ShallowAttentionNet_80_4788347_state.pth\n",
            "Moved: ShallowAttentionNet_83_91111222_state.pth -> /content/drive/My Drive/pth_backups/ShallowAttentionNet_83_91111222_state.pth\n",
            "Moved: ShallowAttentionNet_72_99999_state.pth -> /content/drive/My Drive/pth_backups/ShallowAttentionNet_72_99999_state.pth\n",
            "Moved: ShallowAttentionNet_83_77766666.pth -> /content/drive/My Drive/pth_backups/ShallowAttentionNet_83_77766666.pth\n",
            "Moved: ShallowAttentionNet_60_99999_state.pth -> /content/drive/My Drive/pth_backups/ShallowAttentionNet_60_99999_state.pth\n",
            "Moved: ShallowAttentionNet_83_12223111_state.pth -> /content/drive/My Drive/pth_backups/ShallowAttentionNet_83_12223111_state.pth\n",
            "Moved: ShallowAttentionNet_84_182726_state.pth -> /content/drive/My Drive/pth_backups/ShallowAttentionNet_84_182726_state.pth\n",
            "Moved: ShallowAttentionNet_83_91111222.pth -> /content/drive/My Drive/pth_backups/ShallowAttentionNet_83_91111222.pth\n",
            "Moved: ShallowAttentionNet_81_99999_state.pth -> /content/drive/My Drive/pth_backups/ShallowAttentionNet_81_99999_state.pth\n",
            "Moved: ShallowAttentionNet_61_809890.pth -> /content/drive/My Drive/pth_backups/ShallowAttentionNet_61_809890.pth\n",
            "Moved: ShallowAttentionNet_84_182726.pth -> /content/drive/My Drive/pth_backups/ShallowAttentionNet_84_182726.pth\n",
            "Moved: ShallowAttentionNet_77_47456655_state.pth -> /content/drive/My Drive/pth_backups/ShallowAttentionNet_77_47456655_state.pth\n",
            "Moved: ShallowAttentionNet_81_44552222_state.pth -> /content/drive/My Drive/pth_backups/ShallowAttentionNet_81_44552222_state.pth\n",
            "All .pth files have been moved to Google Drive!\n"
          ]
        }
      ]
    }
  ],
  "metadata": {
    "kernelspec": {
      "display_name": "Python 3",
      "name": "python3"
    },
    "language_info": {
      "codemirror_mode": {
        "name": "ipython",
        "version": 3
      },
      "file_extension": ".py",
      "mimetype": "text/x-python",
      "name": "python",
      "nbconvert_exporter": "python",
      "pygments_lexer": "ipython3",
      "version": "3.12.9"
    },
    "colab": {
      "provenance": [],
      "gpuType": "T4",
      "machine_shape": "hm"
    },
    "accelerator": "GPU"
  },
  "nbformat": 4,
  "nbformat_minor": 0
}