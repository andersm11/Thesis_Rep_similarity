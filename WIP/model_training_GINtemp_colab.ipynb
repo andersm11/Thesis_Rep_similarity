{
  "cells": [
    {
      "cell_type": "code",
      "execution_count": 1,
      "metadata": {
        "colab": {
          "base_uri": "https://localhost:8080/"
        },
        "id": "82Vbwzg32ZhZ",
        "outputId": "9073bd8d-0f6c-48c7-eb44-96aa1198a10e"
      },
      "outputs": [
        {
          "output_type": "stream",
          "name": "stdout",
          "text": [
            "Running in Google Colab. Checking required libraries...\n",
            "All required libraries are already installed.\n"
          ]
        }
      ],
      "source": [
        "import sys\n",
        "import importlib\n",
        "import subprocess\n",
        "\n",
        "def install_if_colab():\n",
        "    if \"google.colab\" in sys.modules:\n",
        "        print(\"Running in Google Colab. Checking required libraries...\")\n",
        "\n",
        "        packages = [\"moabb\", \"braindecode\",\"torch_geometric\"]  # Add required libraries\n",
        "        missing_packages = [pkg for pkg in packages if importlib.util.find_spec(pkg) is None]\n",
        "\n",
        "        if missing_packages:\n",
        "            print(f\"Installing missing libraries: {', '.join(missing_packages)}\")\n",
        "            !pip install {\" \".join(missing_packages)}\n",
        "        else:\n",
        "            print(\"All required libraries are already installed.\")\n",
        "    else:\n",
        "        print(\"Not running in Google Colab. No installation needed.\")\n",
        "\n",
        "install_if_colab()\n"
      ]
    },
    {
      "cell_type": "code",
      "execution_count": 2,
      "metadata": {
        "id": "RuGBArX_2Zhe"
      },
      "outputs": [],
      "source": [
        "# import numpy as np\n",
        "# from braindecode.datasets import MOABBDataset\n",
        "\n",
        "# subject_id = [1,2,3,4]\n",
        "# dataset = MOABBDataset(dataset_name=\"BNCI2014_001\", subject_ids=[1,2,3,4,5,6,7,8,9])\n",
        "\n",
        "\n",
        "\n",
        "# from braindecode.preprocessing import (\n",
        "#     exponential_moving_standardize,\n",
        "#     preprocess,\n",
        "#     Preprocessor,\n",
        "# )\n",
        "\n",
        "# low_cut_hz = 4.0  # low cut frequency for filtering\n",
        "# high_cut_hz = 38.0  # high cut frequency for filtering\n",
        "# # Parameters for exponential moving standardization\n",
        "# factor_new = 1e-3\n",
        "# init_block_size = 1000\n",
        "\n",
        "# transforms = [\n",
        "#     Preprocessor(\"pick_types\", eeg=True, meg=False, stim=False),  # Keep EEG sensors\n",
        "#     Preprocessor(\n",
        "#         lambda data, factor: np.multiply(data, factor),  # Convert from V to uV\n",
        "#         factor=1e6,\n",
        "#     ),\n",
        "#     Preprocessor(\"filter\", l_freq=low_cut_hz, h_freq=high_cut_hz),  # Bandpass filter\n",
        "#     Preprocessor(\n",
        "#         exponential_moving_standardize,  # Exponential moving standardization\n",
        "#         factor_new=factor_new,\n",
        "#         init_block_size=init_block_size,\n",
        "#     ),\n",
        "# ]\n",
        "\n",
        "# # Transform the data\n",
        "# preprocess(dataset, transforms, n_jobs=-1)\n"
      ]
    },
    {
      "cell_type": "code",
      "execution_count": 3,
      "metadata": {
        "id": "ZQTd3g-i2Zhf"
      },
      "outputs": [],
      "source": [
        "# from braindecode.preprocessing import create_windows_from_events\n",
        "\n",
        "# trial_start_offset_seconds = -0.5\n",
        "# # Extract sampling frequency, check that they are same in all datasets\n",
        "# sfreq = dataset.datasets[0].raw.info[\"sfreq\"]\n",
        "# assert all([ds.raw.info[\"sfreq\"] == sfreq for ds in dataset.datasets])\n",
        "# # Calculate the trial start offset in samples.\n",
        "# trial_start_offset_samples = int(trial_start_offset_seconds * sfreq)\n",
        "\n",
        "# # Create windows using braindecode function for this. It needs parameters to define how\n",
        "# # trials should be used.\n",
        "# windows_dataset = create_windows_from_events(\n",
        "#     dataset,\n",
        "#     trial_start_offset_samples=trial_start_offset_samples,\n",
        "#     trial_stop_offset_samples=0,\n",
        "#     preload=True,\n",
        "# )"
      ]
    },
    {
      "cell_type": "code",
      "execution_count": 4,
      "metadata": {
        "colab": {
          "base_uri": "https://localhost:8080/"
        },
        "id": "f_sHCnT22v9k",
        "outputId": "a8b0f738-cb01-448a-8824-2dd365a0e593"
      },
      "outputs": [
        {
          "output_type": "stream",
          "name": "stdout",
          "text": [
            "Drive already mounted at /content/drive; to attempt to forcibly remount, call drive.mount(\"/content/drive\", force_remount=True).\n"
          ]
        }
      ],
      "source": [
        "from google.colab import drive\n",
        "drive.mount('/content/drive')\n",
        "path = \"/content/drive/MyDrive/\""
      ]
    },
    {
      "cell_type": "code",
      "execution_count": 5,
      "metadata": {
        "id": "1osynJth26to"
      },
      "outputs": [],
      "source": [
        "import pickle\n",
        "with open(path+'EEG_data/test_set.pkl', 'rb') as f:\n",
        "    test_set = pickle.load(f)\n",
        "\n",
        "import pickle\n",
        "with open(path+'EEG_data/train_set.pkl', 'rb') as f:\n",
        "    train_set = pickle.load(f)"
      ]
    },
    {
      "cell_type": "code",
      "execution_count": 6,
      "metadata": {
        "colab": {
          "base_uri": "https://localhost:8080/"
        },
        "id": "Xba9vjnO2Zhg",
        "outputId": "9633ea61-5819-472d-f387-7dc23a020c62"
      },
      "outputs": [
        {
          "output_type": "stream",
          "name": "stdout",
          "text": [
            "n_classes:  4\n",
            "n_channels: 22\n",
            "input_window_samples size: 1125\n"
          ]
        },
        {
          "output_type": "stream",
          "name": "stderr",
          "text": [
            "/usr/local/lib/python3.11/dist-packages/braindecode/util.py:51: UserWarning: torch.backends.cudnn.benchmark was set to True which may results in lack of reproducibility. In some cases to ensure reproducibility you may need to set torch.backends.cudnn.benchmark to False.\n",
            "  warn(\n"
          ]
        }
      ],
      "source": [
        "import torch\n",
        "#from shallow_fbcsp import ShallowFBCSPNet\n",
        "from braindecode.util import set_random_seeds\n",
        "\n",
        "\n",
        "cuda = torch.cuda.is_available()  # check if GPU is available, if True chooses to use it\n",
        "device = \"cuda\" if cuda else \"cpu\"\n",
        "if cuda:\n",
        "    torch.backends.cudnn.benchmark = True\n",
        "seed = 91111\n",
        "set_random_seeds(seed=seed, cuda=cuda)\n",
        "\n",
        "n_classes = 4\n",
        "classes = list(range(n_classes))\n",
        "# Extract number of chans and time steps from dataset\n",
        "n_channels = 22\n",
        "input_window_samples = 1125\n",
        "\n",
        "print(\"n_classes: \", n_classes)\n",
        "print(\"n_channels:\", n_channels)\n",
        "print(\"input_window_samples size:\", input_window_samples)"
      ]
    },
    {
      "cell_type": "code",
      "execution_count": 7,
      "metadata": {
        "colab": {
          "base_uri": "https://localhost:8080/"
        },
        "id": "b3wPzn3X2Zhh",
        "outputId": "16205b79-a891-496f-be6d-544e41e18c35"
      },
      "outputs": [
        {
          "output_type": "stream",
          "name": "stdout",
          "text": [
            "GIN(\n",
            "  (conv1): GINConv(nn=Sequential(\n",
            "    (0): Linear(in_features=22, out_features=32, bias=True)\n",
            "    (1): ReLU()\n",
            "    (2): Linear(in_features=32, out_features=32, bias=True)\n",
            "  ))\n",
            "  (bn1): BatchNorm1d(32, eps=1e-05, momentum=0.1, affine=True, track_running_stats=True)\n",
            "  (conv2): GINConv(nn=Sequential(\n",
            "    (0): Linear(in_features=32, out_features=32, bias=True)\n",
            "    (1): ReLU()\n",
            "    (2): Linear(in_features=32, out_features=32, bias=True)\n",
            "  ))\n",
            "  (bn2): BatchNorm1d(32, eps=1e-05, momentum=0.1, affine=True, track_running_stats=True)\n",
            "  (conv3): GINConv(nn=Sequential(\n",
            "    (0): Linear(in_features=32, out_features=32, bias=True)\n",
            "    (1): ReLU()\n",
            "    (2): Linear(in_features=32, out_features=32, bias=True)\n",
            "  ))\n",
            "  (bn3): BatchNorm1d(32, eps=1e-05, momentum=0.1, affine=True, track_running_stats=True)\n",
            "  (fc1): Linear(in_features=32, out_features=32, bias=True)\n",
            "  (fc2): Linear(in_features=32, out_features=4, bias=True)\n",
            ")\n"
          ]
        }
      ],
      "source": [
        "#from models_fbscp import CollapsedShallowNet\n",
        "# The ShallowFBCSPNet is a `nn.Sequential` model\n",
        "import importlib\n",
        "import GIN_model\n",
        "importlib.reload(GIN_model)\n",
        "from GIN_model import GIN\n",
        "model = GIN()\n",
        "\n",
        "# Display torchinfo table describing the model\n",
        "print(model)\n",
        "\n",
        "# Send model to GPU\n",
        "if cuda:\n",
        "    model.cuda()\n",
        "\n"
      ]
    },
    {
      "cell_type": "code",
      "execution_count": 7,
      "metadata": {
        "id": "mK-C-UW62Zhi"
      },
      "outputs": [],
      "source": [
        "\n"
      ]
    },
    {
      "cell_type": "code",
      "execution_count": 8,
      "metadata": {
        "id": "n7Eii9TH2Zhi"
      },
      "outputs": [],
      "source": [
        "# splitted = windows_dataset.split(\"session\")\n",
        "# train_set = splitted['0train']  # Session train\n",
        "# test_set = splitted['1test']  # Session evaluation\n",
        "\n",
        "from torch.nn import Module\n",
        "from torch.optim.lr_scheduler import LRScheduler\n",
        "from torch.utils.data import DataLoader\n",
        "\n",
        "#lr = 1e-4\n",
        "#weight_decay = 1e-4\n",
        "#batch_size = 64\n",
        "#n_epochs = 200\n"
      ]
    },
    {
      "cell_type": "code",
      "execution_count": 9,
      "metadata": {
        "id": "inbw4Tud2Zhj"
      },
      "outputs": [],
      "source": [
        "#train_loader = DataLoader(train_set, batch_size=batch_size, shuffle=True)\n",
        "#progress_bar = tqdm(enumerate(train_loader), total=len(train_loader))\n",
        "\n",
        "\n",
        "#from collections import defaultdict\n",
        "\n",
        "#counting_dict = defaultdict(int)  # Initialize class counter\n",
        "\n",
        "#for batch_idx, (X, y, _) in progress_bar:\n",
        "#   X, y = X.to(device), y.to(device)  # Move to device if needed\n",
        "\n",
        "    # Count occurrences of each class in y\n",
        "#    for value in y:\n",
        "#        counting_dict[int(value.item())] += 1  # Convert tensor to int and update count\n",
        "\n",
        "# Print class frequencies\n",
        "#print(\"Class counts:\", dict(counting_dict))\n"
      ]
    },
    {
      "cell_type": "code",
      "execution_count": 10,
      "metadata": {
        "id": "PlgtbF-r2Zhj"
      },
      "outputs": [],
      "source": [
        "\n",
        "from tqdm import tqdm\n",
        "# Define a method for training one epoch\n",
        "\n",
        "\n",
        "def train_one_epoch(\n",
        "        dataloader: DataLoader, model: Module,edge_index, loss_fn, optimizer,\n",
        "        scheduler: LRScheduler, epoch: int, device, print_batch_stats=True\n",
        "):\n",
        "    model.train()  # Set the model to training mode\n",
        "    train_loss, correct = 0, 0\n",
        "\n",
        "    progress_bar = tqdm(enumerate(dataloader), total=len(dataloader),\n",
        "                        disable=not print_batch_stats)\n",
        "\n",
        "    for batch_idx, (X, y, _) in progress_bar:\n",
        "        X, y = X.to(device), y.to(device)\n",
        "        #print(y)\n",
        "        #print(X.shape)\n",
        "        optimizer.zero_grad()\n",
        "        pred = model(X,edge_index)\n",
        "\n",
        "\n",
        "        #print(y.shape)\n",
        "        #print(pred.shape)\n",
        "        loss = loss_fn(pred, y)\n",
        "        loss.backward()\n",
        "        optimizer.step()  # update the model weights\n",
        "        optimizer.zero_grad()\n",
        "        #print(loss.item())\n",
        "        #print(loss)\n",
        "        #print(train_loss)\n",
        "        train_loss += loss.item()\n",
        "        correct += (pred.argmax(1) == y).sum().item()\n",
        "\n",
        "        #if print_batch_stats:\n",
        "        #    progress_bar.set_description(\n",
        "        #        f\"Epoch {epoch}/{n_epochs}, \"\n",
        "        #        f\"Batch {batch_idx + 1}/{len(dataloader)}, \"\n",
        "        #        f\"Loss: {loss.item():.6f}\"\n",
        "        #    )\n",
        "\n",
        "    # Update the learning rate\n",
        "    scheduler.step()\n",
        "\n",
        "    correct /= len(dataloader.dataset)\n",
        "    return train_loss / len(dataloader), correct\n"
      ]
    },
    {
      "cell_type": "code",
      "execution_count": 11,
      "metadata": {
        "id": "M1S-1vTK2Zhk"
      },
      "outputs": [],
      "source": [
        "from collections import defaultdict\n",
        "from tqdm import tqdm\n",
        "import torch\n",
        "from torch.utils.data import DataLoader\n",
        "from sklearn.metrics import confusion_matrix\n",
        "import numpy as np\n",
        "\n",
        "@torch.no_grad()\n",
        "def test_model(dataloader: DataLoader, model: torch.nn.Module,edge_index, loss_fn, print_batch_stats=True):\n",
        "    device = next(model.parameters()).device  # Get model device\n",
        "    size = len(dataloader.dataset)\n",
        "    n_batches = len(dataloader)\n",
        "    model.eval()  # Switch to evaluation mode\n",
        "    test_loss, correct = 0, 0\n",
        "\n",
        "    # Initialize dictionaries for per-class tracking\n",
        "    class_correct = defaultdict(int)\n",
        "    class_total = defaultdict(int)\n",
        "\n",
        "    # Lists to store true and predicted labels for confusion matrix\n",
        "    all_preds = []\n",
        "    all_targets = []\n",
        "\n",
        "    if print_batch_stats:\n",
        "        progress_bar = tqdm(enumerate(dataloader), total=len(dataloader))\n",
        "    else:\n",
        "        progress_bar = enumerate(dataloader)\n",
        "\n",
        "    for batch_idx, (X, y, _) in progress_bar:\n",
        "        X, y = X.to(device), y.to(device)\n",
        "        pred = model(X,edge_index)\n",
        "        batch_loss = loss_fn(pred, y).item()\n",
        "\n",
        "        test_loss += batch_loss\n",
        "        correct += (pred.argmax(1) == y).sum().item()\n",
        "\n",
        "        # Store predictions and true labels for confusion matrix\n",
        "        all_preds.append(pred.argmax(1).cpu())\n",
        "        all_targets.append(y.cpu())\n",
        "\n",
        "        # Compute per-class accuracy\n",
        "        preds_labels = pred.argmax(1)\n",
        "        for label, pred_label in zip(y, preds_labels):\n",
        "            class_total[label.item()] += 1\n",
        "            class_correct[label.item()] += (label == pred_label).item()\n",
        "\n",
        "        if print_batch_stats:\n",
        "            progress_bar.set_description(\n",
        "                f\"Batch {batch_idx + 1}/{len(dataloader)}, Loss: {batch_loss:.6f}\"\n",
        "            )\n",
        "\n",
        "    # Convert lists to tensors\n",
        "    all_preds = torch.cat(all_preds)\n",
        "    all_targets = torch.cat(all_targets)\n",
        "\n",
        "    # Compute per-class accuracy\n",
        "    class_accuracies = {\n",
        "        cls: (class_correct[cls] / class_total[cls]) * 100 if class_total[cls] > 0 else 0\n",
        "        for cls in class_total\n",
        "    }\n",
        "\n",
        "    # Compute overall accuracy\n",
        "    test_loss /= n_batches\n",
        "    overall_accuracy = (correct / size) * 100\n",
        "\n",
        "    # Print per-class accuracy\n",
        "    print(\"\\nClass-wise Accuracy:\")\n",
        "    for cls, acc in class_accuracies.items():\n",
        "        print(f\"  Class {cls}: {acc:.2f}%\")\n",
        "\n",
        "    print(f\"Test Accuracy: {overall_accuracy:.1f}%, Test Loss: {test_loss:.6f}\\n\")\n",
        "\n",
        "    return test_loss, overall_accuracy, class_accuracies, all_preds, all_targets\n"
      ]
    },
    {
      "cell_type": "code",
      "execution_count": 12,
      "metadata": {
        "colab": {
          "base_uri": "https://localhost:8080/"
        },
        "id": "Vn58-cmZ2Zhl",
        "outputId": "8154acdd-0309-4974-eb6c-a24cd3ad5869"
      },
      "outputs": [
        {
          "output_type": "stream",
          "name": "stderr",
          "text": [
            "\u001b[34m\u001b[1mwandb\u001b[0m: Using wandb-core as the SDK backend.  Please refer to https://wandb.me/wandb-core for more information.\n",
            "\u001b[34m\u001b[1mwandb\u001b[0m: Currently logged in as: \u001b[33mahmm98\u001b[0m (\u001b[33mphilinthesky\u001b[0m) to \u001b[32mhttps://api.wandb.ai\u001b[0m. Use \u001b[1m`wandb login --relogin`\u001b[0m to force relogin\n"
          ]
        },
        {
          "output_type": "execute_result",
          "data": {
            "text/plain": [
              "True"
            ]
          },
          "metadata": {},
          "execution_count": 12
        }
      ],
      "source": [
        "import wandb\n",
        "wandb.login()"
      ]
    },
    {
      "cell_type": "code",
      "execution_count": 13,
      "metadata": {
        "id": "W-TYNpb6_k07"
      },
      "outputs": [],
      "source": [
        "import torch\n",
        "from torch_geometric.data import Data, Batch\n",
        "\n",
        "# Number of nodes per graph\n",
        "num_nodes = 1125\n",
        "\n",
        "# Construct a single graph's edge index\n",
        "edge_index = torch.tensor([\n",
        "    [i for i in range(num_nodes - 1)] + [i + 1 for i in range(num_nodes - 1)],\n",
        "    [i + 1 for i in range(num_nodes - 1)] + [i for i in range(num_nodes - 1)]\n",
        "], dtype=torch.long)\n",
        "\n",
        "# Batch size\n",
        "batch_size = 16\n",
        "\n",
        "# Repeat edge index for batching\n",
        "edge_index = edge_index.repeat(1, batch_size).to(device)\n",
        "\n",
        "# Create batch indices\n",
        "batch = torch.tensor([i for i in range(batch_size) for _ in range(num_nodes)])\n",
        "\n",
        "# Create node features (random example)\n",
        "x = torch.rand((batch_size * num_nodes, 22))  # Assuming 22 node features per node\n",
        "\n",
        "# Wrap into PyG data object\n",
        "data_list = [Data(x=x[i*num_nodes:(i+1)*num_nodes], edge_index=edge_index) for i in range(batch_size)]\n",
        "batched_data = Batch.from_data_list(data_list)"
      ]
    },
    {
      "cell_type": "code",
      "source": [
        "!export CUDA_LAUNCH_BLOCKING=1\n",
        "import os\n",
        "os.environ[\"CUDA_LAUNCH_BLOCKING\"] = \"1\"\n"
      ],
      "metadata": {
        "id": "2FxmpBdKEHIX"
      },
      "execution_count": 14,
      "outputs": []
    },
    {
      "cell_type": "code",
      "execution_count": 18,
      "metadata": {
        "colab": {
          "base_uri": "https://localhost:8080/",
          "height": 1000
        },
        "id": "uDUBctmi2Zhl",
        "outputId": "b4d1f491-92c1-488e-a382-508c109f25d1"
      },
      "outputs": [
        {
          "output_type": "stream",
          "name": "stdout",
          "text": [
            "Epoch 1/200: "
          ]
        },
        {
          "output_type": "stream",
          "name": "stderr",
          "text": [
            "100%|██████████| 162/162 [00:02<00:00, 60.16it/s] \n",
            "Batch 162/162, Loss: 14.500662: 100%|██████████| 162/162 [00:01<00:00, 105.30it/s]\n"
          ]
        },
        {
          "output_type": "stream",
          "name": "stdout",
          "text": [
            "\n",
            "Class-wise Accuracy:\n",
            "  Class 1: 66.98%\n",
            "  Class 2: 25.00%\n",
            "  Class 0: 2.01%\n",
            "  Class 3: 1.39%\n",
            "Test Accuracy: 23.8%, Test Loss: 18.581208\n",
            "\n",
            "\n",
            "Class-wise Accuracy:\n",
            "  Class 1: 66.98%\n",
            "  Class 2: 25.00%\n",
            "  Class 0: 2.01%\n",
            "  Class 3: 1.39%\n",
            "Train Accuracy: 25.81%, Average Train Loss: 91.950318, Test Accuracy: 23.84%, Average Test Loss: 18.581208\n",
            "\n",
            "Epoch 2/200: "
          ]
        },
        {
          "output_type": "stream",
          "name": "stderr",
          "text": [
            "100%|██████████| 162/162 [00:01<00:00, 102.18it/s]\n",
            "Batch 162/162, Loss: 16.960152: 100%|██████████| 162/162 [00:01<00:00, 124.32it/s]\n"
          ]
        },
        {
          "output_type": "stream",
          "name": "stdout",
          "text": [
            "\n",
            "Class-wise Accuracy:\n",
            "  Class 1: 0.00%\n",
            "  Class 2: 4.94%\n",
            "  Class 0: 0.46%\n",
            "  Class 3: 90.43%\n",
            "Test Accuracy: 24.0%, Test Loss: 17.990513\n",
            "\n",
            "\n",
            "Class-wise Accuracy:\n",
            "  Class 1: 0.00%\n",
            "  Class 2: 4.94%\n",
            "  Class 0: 0.46%\n",
            "  Class 3: 90.43%\n",
            "Train Accuracy: 25.50%, Average Train Loss: 26.525232, Test Accuracy: 23.96%, Average Test Loss: 17.990513\n",
            "\n",
            "Epoch 3/200: "
          ]
        },
        {
          "output_type": "stream",
          "name": "stderr",
          "text": [
            "100%|██████████| 162/162 [00:01<00:00, 133.22it/s]\n",
            "Batch 162/162, Loss: 25.770800: 100%|██████████| 162/162 [00:01<00:00, 128.74it/s]\n"
          ]
        },
        {
          "output_type": "stream",
          "name": "stdout",
          "text": [
            "\n",
            "Class-wise Accuracy:\n",
            "  Class 1: 4.48%\n",
            "  Class 2: 0.15%\n",
            "  Class 0: 44.29%\n",
            "  Class 3: 44.29%\n",
            "Test Accuracy: 23.3%, Test Loss: 12.772923\n",
            "\n",
            "\n",
            "Class-wise Accuracy:\n",
            "  Class 1: 4.48%\n",
            "  Class 2: 0.15%\n",
            "  Class 0: 44.29%\n",
            "  Class 3: 44.29%\n",
            "Train Accuracy: 24.50%, Average Train Loss: 17.777867, Test Accuracy: 23.30%, Average Test Loss: 12.772923\n",
            "\n",
            "Epoch 4/200: "
          ]
        },
        {
          "output_type": "stream",
          "name": "stderr",
          "text": [
            "100%|██████████| 162/162 [00:01<00:00, 126.50it/s]\n",
            "Batch 162/162, Loss: 2.432799: 100%|██████████| 162/162 [00:01<00:00, 125.09it/s]\n"
          ]
        },
        {
          "output_type": "stream",
          "name": "stdout",
          "text": [
            "\n",
            "Class-wise Accuracy:\n",
            "  Class 1: 1.39%\n",
            "  Class 2: 34.41%\n",
            "  Class 0: 0.93%\n",
            "  Class 3: 68.52%\n",
            "Test Accuracy: 26.3%, Test Loss: 7.043814\n",
            "\n",
            "\n",
            "Class-wise Accuracy:\n",
            "  Class 1: 1.39%\n",
            "  Class 2: 34.41%\n",
            "  Class 0: 0.93%\n",
            "  Class 3: 68.52%\n",
            "Train Accuracy: 26.16%, Average Train Loss: 11.596733, Test Accuracy: 26.31%, Average Test Loss: 7.043814\n",
            "\n",
            "Epoch 5/200: "
          ]
        },
        {
          "output_type": "stream",
          "name": "stderr",
          "text": [
            "100%|██████████| 162/162 [00:01<00:00, 136.62it/s]\n",
            "Batch 162/162, Loss: 3.670218: 100%|██████████| 162/162 [00:01<00:00, 126.64it/s]\n"
          ]
        },
        {
          "output_type": "stream",
          "name": "stdout",
          "text": [
            "\n",
            "Class-wise Accuracy:\n",
            "  Class 1: 69.44%\n",
            "  Class 2: 28.09%\n",
            "  Class 0: 3.70%\n",
            "  Class 3: 0.46%\n",
            "Test Accuracy: 25.4%, Test Loss: 6.508112\n",
            "\n",
            "\n",
            "Class-wise Accuracy:\n",
            "  Class 1: 69.44%\n",
            "  Class 2: 28.09%\n",
            "  Class 0: 3.70%\n",
            "  Class 3: 0.46%\n",
            "Train Accuracy: 25.89%, Average Train Loss: 9.039570, Test Accuracy: 25.42%, Average Test Loss: 6.508112\n",
            "\n",
            "Epoch 6/200: "
          ]
        },
        {
          "output_type": "stream",
          "name": "stderr",
          "text": [
            "100%|██████████| 162/162 [00:01<00:00, 93.26it/s]\n",
            "Batch 162/162, Loss: 4.930854: 100%|██████████| 162/162 [00:01<00:00, 89.89it/s]\n"
          ]
        },
        {
          "output_type": "stream",
          "name": "stdout",
          "text": [
            "\n",
            "Class-wise Accuracy:\n",
            "  Class 1: 3.86%\n",
            "  Class 2: 94.44%\n",
            "  Class 0: 1.70%\n",
            "  Class 3: 2.01%\n",
            "Test Accuracy: 25.5%, Test Loss: 6.636006\n",
            "\n",
            "\n",
            "Class-wise Accuracy:\n",
            "  Class 1: 3.86%\n",
            "  Class 2: 94.44%\n",
            "  Class 0: 1.70%\n",
            "  Class 3: 2.01%\n",
            "Train Accuracy: 24.85%, Average Train Loss: 7.507192, Test Accuracy: 25.50%, Average Test Loss: 6.636006\n",
            "\n",
            "Epoch 7/200: "
          ]
        },
        {
          "output_type": "stream",
          "name": "stderr",
          "text": [
            "100%|██████████| 162/162 [00:02<00:00, 78.68it/s]\n",
            "Batch 162/162, Loss: 4.257659: 100%|██████████| 162/162 [00:01<00:00, 98.00it/s] \n"
          ]
        },
        {
          "output_type": "stream",
          "name": "stdout",
          "text": [
            "\n",
            "Class-wise Accuracy:\n",
            "  Class 1: 1.23%\n",
            "  Class 2: 88.58%\n",
            "  Class 0: 0.15%\n",
            "  Class 3: 19.44%\n",
            "Test Accuracy: 27.4%, Test Loss: 7.382732\n",
            "\n",
            "\n",
            "Class-wise Accuracy:\n",
            "  Class 1: 1.23%\n",
            "  Class 2: 88.58%\n",
            "  Class 0: 0.15%\n",
            "  Class 3: 19.44%\n",
            "Train Accuracy: 25.93%, Average Train Loss: 7.702263, Test Accuracy: 27.35%, Average Test Loss: 7.382732\n",
            "\n",
            "Epoch 8/200: "
          ]
        },
        {
          "output_type": "stream",
          "name": "stderr",
          "text": [
            "100%|██████████| 162/162 [00:01<00:00, 110.40it/s]\n",
            "Batch 162/162, Loss: 3.591982: 100%|██████████| 162/162 [00:01<00:00, 130.13it/s]\n"
          ]
        },
        {
          "output_type": "stream",
          "name": "stdout",
          "text": [
            "\n",
            "Class-wise Accuracy:\n",
            "  Class 1: 21.30%\n",
            "  Class 2: 79.94%\n",
            "  Class 0: 0.15%\n",
            "  Class 3: 1.70%\n",
            "Test Accuracy: 25.8%, Test Loss: 11.120703\n",
            "\n",
            "\n",
            "Class-wise Accuracy:\n",
            "  Class 1: 21.30%\n",
            "  Class 2: 79.94%\n",
            "  Class 0: 0.15%\n",
            "  Class 3: 1.70%\n",
            "Train Accuracy: 25.73%, Average Train Loss: 6.621162, Test Accuracy: 25.77%, Average Test Loss: 11.120703\n",
            "\n",
            "Epoch 9/200: "
          ]
        },
        {
          "output_type": "stream",
          "name": "stderr",
          "text": [
            "100%|██████████| 162/162 [00:01<00:00, 133.87it/s]\n",
            "Batch 162/162, Loss: 3.095593: 100%|██████████| 162/162 [00:01<00:00, 127.30it/s]\n"
          ]
        },
        {
          "output_type": "stream",
          "name": "stdout",
          "text": [
            "\n",
            "Class-wise Accuracy:\n",
            "  Class 1: 14.81%\n",
            "  Class 2: 85.49%\n",
            "  Class 0: 0.62%\n",
            "  Class 3: 1.70%\n",
            "Test Accuracy: 25.7%, Test Loss: 5.385554\n",
            "\n",
            "\n",
            "Class-wise Accuracy:\n",
            "  Class 1: 14.81%\n",
            "  Class 2: 85.49%\n",
            "  Class 0: 0.62%\n",
            "  Class 3: 1.70%\n",
            "Train Accuracy: 25.58%, Average Train Loss: 5.312718, Test Accuracy: 25.66%, Average Test Loss: 5.385554\n",
            "\n",
            "Epoch 10/200: "
          ]
        },
        {
          "output_type": "stream",
          "name": "stderr",
          "text": [
            "100%|██████████| 162/162 [00:01<00:00, 132.81it/s]\n",
            "Batch 162/162, Loss: 4.310552: 100%|██████████| 162/162 [00:01<00:00, 134.57it/s]\n"
          ]
        },
        {
          "output_type": "stream",
          "name": "stdout",
          "text": [
            "\n",
            "Class-wise Accuracy:\n",
            "  Class 1: 5.86%\n",
            "  Class 2: 90.28%\n",
            "  Class 0: 0.31%\n",
            "  Class 3: 3.70%\n",
            "Test Accuracy: 25.0%, Test Loss: 5.583128\n",
            "\n",
            "\n",
            "Class-wise Accuracy:\n",
            "  Class 1: 5.86%\n",
            "  Class 2: 90.28%\n",
            "  Class 0: 0.31%\n",
            "  Class 3: 3.70%\n",
            "Train Accuracy: 24.96%, Average Train Loss: 5.630658, Test Accuracy: 25.04%, Average Test Loss: 5.583128\n",
            "\n",
            "Epoch 11/200: "
          ]
        },
        {
          "output_type": "stream",
          "name": "stderr",
          "text": [
            "100%|██████████| 162/162 [00:01<00:00, 131.47it/s]\n",
            "Batch 162/162, Loss: 2.011851: 100%|██████████| 162/162 [00:01<00:00, 125.35it/s]\n"
          ]
        },
        {
          "output_type": "stream",
          "name": "stdout",
          "text": [
            "\n",
            "Class-wise Accuracy:\n",
            "  Class 1: 0.00%\n",
            "  Class 2: 1.23%\n",
            "  Class 0: 4.63%\n",
            "  Class 3: 90.12%\n",
            "Test Accuracy: 24.0%, Test Loss: 4.484591\n",
            "\n",
            "\n",
            "Class-wise Accuracy:\n",
            "  Class 1: 0.00%\n",
            "  Class 2: 1.23%\n",
            "  Class 0: 4.63%\n",
            "  Class 3: 90.12%\n",
            "Train Accuracy: 27.28%, Average Train Loss: 7.486951, Test Accuracy: 24.00%, Average Test Loss: 4.484591\n",
            "\n",
            "Epoch 12/200: "
          ]
        },
        {
          "output_type": "stream",
          "name": "stderr",
          "text": [
            "100%|██████████| 162/162 [00:01<00:00, 114.88it/s]\n",
            "Batch 162/162, Loss: 5.208985: 100%|██████████| 162/162 [00:01<00:00, 99.74it/s]\n"
          ]
        },
        {
          "output_type": "stream",
          "name": "stdout",
          "text": [
            "\n",
            "Class-wise Accuracy:\n",
            "  Class 1: 62.81%\n",
            "  Class 2: 23.30%\n",
            "  Class 0: 9.72%\n",
            "  Class 3: 0.77%\n",
            "Test Accuracy: 24.2%, Test Loss: 4.419772\n",
            "\n",
            "\n",
            "Class-wise Accuracy:\n",
            "  Class 1: 62.81%\n",
            "  Class 2: 23.30%\n",
            "  Class 0: 9.72%\n",
            "  Class 3: 0.77%\n",
            "Train Accuracy: 24.88%, Average Train Loss: 6.513975, Test Accuracy: 24.15%, Average Test Loss: 4.419772\n",
            "\n",
            "Epoch 13/200: "
          ]
        },
        {
          "output_type": "stream",
          "name": "stderr",
          "text": [
            "100%|██████████| 162/162 [00:01<00:00, 103.71it/s]\n",
            "Batch 162/162, Loss: 2.056978: 100%|██████████| 162/162 [00:02<00:00, 76.44it/s]\n"
          ]
        },
        {
          "output_type": "stream",
          "name": "stdout",
          "text": [
            "\n",
            "Class-wise Accuracy:\n",
            "  Class 1: 0.15%\n",
            "  Class 2: 64.04%\n",
            "  Class 0: 29.17%\n",
            "  Class 3: 1.54%\n",
            "Test Accuracy: 23.7%, Test Loss: 2.334350\n",
            "\n",
            "\n",
            "Class-wise Accuracy:\n",
            "  Class 1: 0.15%\n",
            "  Class 2: 64.04%\n",
            "  Class 0: 29.17%\n",
            "  Class 3: 1.54%\n",
            "Train Accuracy: 25.73%, Average Train Loss: 4.418646, Test Accuracy: 23.73%, Average Test Loss: 2.334350\n",
            "\n",
            "Epoch 14/200: "
          ]
        },
        {
          "output_type": "stream",
          "name": "stderr",
          "text": [
            "100%|██████████| 162/162 [00:01<00:00, 93.46it/s]\n",
            "Batch 162/162, Loss: 1.796520: 100%|██████████| 162/162 [00:01<00:00, 106.70it/s]\n"
          ]
        },
        {
          "output_type": "stream",
          "name": "stdout",
          "text": [
            "\n",
            "Class-wise Accuracy:\n",
            "  Class 1: 0.77%\n",
            "  Class 2: 93.06%\n",
            "  Class 0: 2.47%\n",
            "  Class 3: 3.09%\n",
            "Test Accuracy: 24.8%, Test Loss: 2.132154\n",
            "\n",
            "\n",
            "Class-wise Accuracy:\n",
            "  Class 1: 0.77%\n",
            "  Class 2: 93.06%\n",
            "  Class 0: 2.47%\n",
            "  Class 3: 3.09%\n",
            "Train Accuracy: 27.28%, Average Train Loss: 3.299469, Test Accuracy: 24.85%, Average Test Loss: 2.132154\n",
            "\n",
            "Epoch 15/200: "
          ]
        },
        {
          "output_type": "stream",
          "name": "stderr",
          "text": [
            "100%|██████████| 162/162 [00:01<00:00, 133.72it/s]\n",
            "Batch 162/162, Loss: 1.406616: 100%|██████████| 162/162 [00:01<00:00, 128.86it/s]\n"
          ]
        },
        {
          "output_type": "stream",
          "name": "stdout",
          "text": [
            "\n",
            "Class-wise Accuracy:\n",
            "  Class 1: 3.40%\n",
            "  Class 2: 93.67%\n",
            "  Class 0: 0.31%\n",
            "  Class 3: 4.94%\n",
            "Test Accuracy: 25.6%, Test Loss: 1.953541\n",
            "\n",
            "\n",
            "Class-wise Accuracy:\n",
            "  Class 1: 3.40%\n",
            "  Class 2: 93.67%\n",
            "  Class 0: 0.31%\n",
            "  Class 3: 4.94%\n",
            "Train Accuracy: 25.73%, Average Train Loss: 2.731107, Test Accuracy: 25.58%, Average Test Loss: 1.953541\n",
            "\n",
            "Epoch 16/200: "
          ]
        },
        {
          "output_type": "stream",
          "name": "stderr",
          "text": [
            "100%|██████████| 162/162 [00:01<00:00, 127.87it/s]\n",
            "Batch 162/162, Loss: 1.824451: 100%|██████████| 162/162 [00:01<00:00, 126.11it/s]\n"
          ]
        },
        {
          "output_type": "stream",
          "name": "stdout",
          "text": [
            "\n",
            "Class-wise Accuracy:\n",
            "  Class 1: 2.47%\n",
            "  Class 2: 94.44%\n",
            "  Class 0: 1.08%\n",
            "  Class 3: 0.15%\n",
            "Test Accuracy: 24.5%, Test Loss: 3.025782\n",
            "\n",
            "\n",
            "Class-wise Accuracy:\n",
            "  Class 1: 2.47%\n",
            "  Class 2: 94.44%\n",
            "  Class 0: 1.08%\n",
            "  Class 3: 0.15%\n",
            "Train Accuracy: 24.77%, Average Train Loss: 2.283418, Test Accuracy: 24.54%, Average Test Loss: 3.025782\n",
            "\n",
            "Epoch 17/200: "
          ]
        },
        {
          "output_type": "stream",
          "name": "stderr",
          "text": [
            "100%|██████████| 162/162 [00:01<00:00, 103.79it/s]\n",
            "Batch 162/162, Loss: 1.503334: 100%|██████████| 162/162 [00:01<00:00, 105.26it/s]\n"
          ]
        },
        {
          "output_type": "stream",
          "name": "stdout",
          "text": [
            "\n",
            "Class-wise Accuracy:\n",
            "  Class 1: 1.39%\n",
            "  Class 2: 0.15%\n",
            "  Class 0: 98.77%\n",
            "  Class 3: 1.08%\n",
            "Test Accuracy: 25.3%, Test Loss: 1.966347\n",
            "\n",
            "\n",
            "Class-wise Accuracy:\n",
            "  Class 1: 1.39%\n",
            "  Class 2: 0.15%\n",
            "  Class 0: 98.77%\n",
            "  Class 3: 1.08%\n",
            "Train Accuracy: 26.04%, Average Train Loss: 1.818954, Test Accuracy: 25.35%, Average Test Loss: 1.966347\n",
            "\n",
            "Epoch 18/200: "
          ]
        },
        {
          "output_type": "stream",
          "name": "stderr",
          "text": [
            "100%|██████████| 162/162 [00:01<00:00, 105.97it/s]\n",
            "Batch 162/162, Loss: 1.491808: 100%|██████████| 162/162 [00:01<00:00, 129.62it/s]\n"
          ]
        },
        {
          "output_type": "stream",
          "name": "stdout",
          "text": [
            "\n",
            "Class-wise Accuracy:\n",
            "  Class 1: 5.86%\n",
            "  Class 2: 1.54%\n",
            "  Class 0: 0.15%\n",
            "  Class 3: 89.35%\n",
            "Test Accuracy: 24.2%, Test Loss: 3.867337\n",
            "\n",
            "\n",
            "Class-wise Accuracy:\n",
            "  Class 1: 5.86%\n",
            "  Class 2: 1.54%\n",
            "  Class 0: 0.15%\n",
            "  Class 3: 89.35%\n",
            "Train Accuracy: 25.66%, Average Train Loss: 1.666022, Test Accuracy: 24.23%, Average Test Loss: 3.867337\n",
            "\n",
            "Epoch 19/200: "
          ]
        },
        {
          "output_type": "stream",
          "name": "stderr",
          "text": [
            "100%|██████████| 162/162 [00:01<00:00, 139.33it/s]\n",
            "Batch 162/162, Loss: 1.526446: 100%|██████████| 162/162 [00:01<00:00, 134.34it/s]\n"
          ]
        },
        {
          "output_type": "stream",
          "name": "stdout",
          "text": [
            "\n",
            "Class-wise Accuracy:\n",
            "  Class 1: 1.70%\n",
            "  Class 2: 97.53%\n",
            "  Class 0: 0.31%\n",
            "  Class 3: 0.31%\n",
            "Test Accuracy: 25.0%, Test Loss: 1.939730\n",
            "\n",
            "\n",
            "Class-wise Accuracy:\n",
            "  Class 1: 1.70%\n",
            "  Class 2: 97.53%\n",
            "  Class 0: 0.31%\n",
            "  Class 3: 0.31%\n",
            "Train Accuracy: 24.69%, Average Train Loss: 1.552887, Test Accuracy: 24.96%, Average Test Loss: 1.939730\n",
            "\n",
            "Epoch 20/200: "
          ]
        },
        {
          "output_type": "stream",
          "name": "stderr",
          "text": [
            "100%|██████████| 162/162 [00:01<00:00, 131.15it/s]\n",
            "Batch 162/162, Loss: 1.396214: 100%|██████████| 162/162 [00:01<00:00, 128.61it/s]\n"
          ]
        },
        {
          "output_type": "stream",
          "name": "stdout",
          "text": [
            "\n",
            "Class-wise Accuracy:\n",
            "  Class 1: 94.91%\n",
            "  Class 2: 0.93%\n",
            "  Class 0: 1.08%\n",
            "  Class 3: 3.09%\n",
            "Test Accuracy: 25.0%, Test Loss: 2.919163\n",
            "\n",
            "\n",
            "Class-wise Accuracy:\n",
            "  Class 1: 94.91%\n",
            "  Class 2: 0.93%\n",
            "  Class 0: 1.08%\n",
            "  Class 3: 3.09%\n",
            "Train Accuracy: 24.04%, Average Train Loss: 1.465139, Test Accuracy: 25.00%, Average Test Loss: 2.919163\n",
            "\n",
            "Epoch 21/200: "
          ]
        },
        {
          "output_type": "stream",
          "name": "stderr",
          "text": [
            "100%|██████████| 162/162 [00:01<00:00, 135.92it/s]\n",
            "Batch 162/162, Loss: 1.415310: 100%|██████████| 162/162 [00:01<00:00, 132.73it/s]\n"
          ]
        },
        {
          "output_type": "stream",
          "name": "stdout",
          "text": [
            "\n",
            "Class-wise Accuracy:\n",
            "  Class 1: 0.00%\n",
            "  Class 2: 17.90%\n",
            "  Class 0: 0.77%\n",
            "  Class 3: 78.70%\n",
            "Test Accuracy: 24.3%, Test Loss: 2.488821\n",
            "\n",
            "\n",
            "Class-wise Accuracy:\n",
            "  Class 1: 0.00%\n",
            "  Class 2: 17.90%\n",
            "  Class 0: 0.77%\n",
            "  Class 3: 78.70%\n",
            "Train Accuracy: 25.04%, Average Train Loss: 1.450767, Test Accuracy: 24.34%, Average Test Loss: 2.488821\n",
            "\n",
            "Epoch 22/200: "
          ]
        },
        {
          "output_type": "stream",
          "name": "stderr",
          "text": [
            "100%|██████████| 162/162 [00:01<00:00, 131.47it/s]\n",
            "Batch 162/162, Loss: 1.314707: 100%|██████████| 162/162 [00:01<00:00, 109.92it/s]\n"
          ]
        },
        {
          "output_type": "stream",
          "name": "stdout",
          "text": [
            "\n",
            "Class-wise Accuracy:\n",
            "  Class 1: 8.49%\n",
            "  Class 2: 1.23%\n",
            "  Class 0: 95.22%\n",
            "  Class 3: 0.15%\n",
            "Test Accuracy: 26.3%, Test Loss: 1.939676\n",
            "\n",
            "\n",
            "Class-wise Accuracy:\n",
            "  Class 1: 8.49%\n",
            "  Class 2: 1.23%\n",
            "  Class 0: 95.22%\n",
            "  Class 3: 0.15%\n",
            "Train Accuracy: 25.42%, Average Train Loss: 1.460227, Test Accuracy: 26.27%, Average Test Loss: 1.939676\n",
            "\n",
            "Epoch 23/200: "
          ]
        },
        {
          "output_type": "stream",
          "name": "stderr",
          "text": [
            "100%|██████████| 162/162 [00:01<00:00, 104.83it/s]\n",
            "Batch 162/162, Loss: 1.447379: 100%|██████████| 162/162 [00:01<00:00, 105.37it/s]\n"
          ]
        },
        {
          "output_type": "stream",
          "name": "stdout",
          "text": [
            "\n",
            "Class-wise Accuracy:\n",
            "  Class 1: 97.38%\n",
            "  Class 2: 1.39%\n",
            "  Class 0: 0.46%\n",
            "  Class 3: 0.46%\n",
            "Test Accuracy: 24.9%, Test Loss: 2.196128\n",
            "\n",
            "\n",
            "Class-wise Accuracy:\n",
            "  Class 1: 97.38%\n",
            "  Class 2: 1.39%\n",
            "  Class 0: 0.46%\n",
            "  Class 3: 0.46%\n",
            "Train Accuracy: 26.00%, Average Train Loss: 1.474201, Test Accuracy: 24.92%, Average Test Loss: 2.196128\n",
            "\n",
            "Epoch 24/200: "
          ]
        },
        {
          "output_type": "stream",
          "name": "stderr",
          "text": [
            "100%|██████████| 162/162 [00:01<00:00, 131.78it/s]\n",
            "Batch 162/162, Loss: 1.399495: 100%|██████████| 162/162 [00:01<00:00, 134.51it/s]\n"
          ]
        },
        {
          "output_type": "stream",
          "name": "stdout",
          "text": [
            "\n",
            "Class-wise Accuracy:\n",
            "  Class 1: 95.22%\n",
            "  Class 2: 1.85%\n",
            "  Class 0: 0.62%\n",
            "  Class 3: 0.62%\n",
            "Test Accuracy: 24.6%, Test Loss: 4.227189\n",
            "\n",
            "\n",
            "Class-wise Accuracy:\n",
            "  Class 1: 95.22%\n",
            "  Class 2: 1.85%\n",
            "  Class 0: 0.62%\n",
            "  Class 3: 0.62%\n",
            "Train Accuracy: 24.15%, Average Train Loss: 1.445280, Test Accuracy: 24.58%, Average Test Loss: 4.227189\n",
            "\n",
            "Epoch 25/200: "
          ]
        },
        {
          "output_type": "stream",
          "name": "stderr",
          "text": [
            "100%|██████████| 162/162 [00:01<00:00, 139.79it/s]\n",
            "Batch 162/162, Loss: 1.388853: 100%|██████████| 162/162 [00:01<00:00, 135.37it/s]\n"
          ]
        },
        {
          "output_type": "stream",
          "name": "stdout",
          "text": [
            "\n",
            "Class-wise Accuracy:\n",
            "  Class 1: 8.02%\n",
            "  Class 2: 86.27%\n",
            "  Class 0: 0.15%\n",
            "  Class 3: 4.32%\n",
            "Test Accuracy: 24.7%, Test Loss: 1.533850\n",
            "\n",
            "\n",
            "Class-wise Accuracy:\n",
            "  Class 1: 8.02%\n",
            "  Class 2: 86.27%\n",
            "  Class 0: 0.15%\n",
            "  Class 3: 4.32%\n",
            "Train Accuracy: 24.11%, Average Train Loss: 1.423164, Test Accuracy: 24.69%, Average Test Loss: 1.533850\n",
            "\n",
            "Epoch 26/200: "
          ]
        },
        {
          "output_type": "stream",
          "name": "stderr",
          "text": [
            "100%|██████████| 162/162 [00:01<00:00, 132.05it/s]\n",
            "Batch 162/162, Loss: 1.303230: 100%|██████████| 162/162 [00:01<00:00, 128.64it/s]\n"
          ]
        },
        {
          "output_type": "stream",
          "name": "stdout",
          "text": [
            "\n",
            "Class-wise Accuracy:\n",
            "  Class 1: 4.17%\n",
            "  Class 2: 94.60%\n",
            "  Class 0: 1.54%\n",
            "  Class 3: 0.62%\n",
            "Test Accuracy: 25.2%, Test Loss: 1.795964\n",
            "\n",
            "\n",
            "Class-wise Accuracy:\n",
            "  Class 1: 4.17%\n",
            "  Class 2: 94.60%\n",
            "  Class 0: 1.54%\n",
            "  Class 3: 0.62%\n",
            "Train Accuracy: 23.84%, Average Train Loss: 1.413561, Test Accuracy: 25.23%, Average Test Loss: 1.795964\n",
            "\n",
            "Epoch 27/200: "
          ]
        },
        {
          "output_type": "stream",
          "name": "stderr",
          "text": [
            "100%|██████████| 162/162 [00:01<00:00, 138.07it/s]\n",
            "Batch 162/162, Loss: 1.428040: 100%|██████████| 162/162 [00:01<00:00, 131.78it/s]\n"
          ]
        },
        {
          "output_type": "stream",
          "name": "stdout",
          "text": [
            "\n",
            "Class-wise Accuracy:\n",
            "  Class 1: 0.93%\n",
            "  Class 2: 98.92%\n",
            "  Class 0: 0.15%\n",
            "  Class 3: 0.00%\n",
            "Test Accuracy: 25.0%, Test Loss: 3.610485\n",
            "\n",
            "\n",
            "Class-wise Accuracy:\n",
            "  Class 1: 0.93%\n",
            "  Class 2: 98.92%\n",
            "  Class 0: 0.15%\n",
            "  Class 3: 0.00%\n",
            "Train Accuracy: 24.46%, Average Train Loss: 1.401748, Test Accuracy: 25.00%, Average Test Loss: 3.610485\n",
            "\n",
            "Epoch 28/200: "
          ]
        },
        {
          "output_type": "stream",
          "name": "stderr",
          "text": [
            "100%|██████████| 162/162 [00:01<00:00, 105.17it/s]\n",
            "Batch 162/162, Loss: 1.367334: 100%|██████████| 162/162 [00:01<00:00, 111.16it/s]\n"
          ]
        },
        {
          "output_type": "stream",
          "name": "stdout",
          "text": [
            "\n",
            "Class-wise Accuracy:\n",
            "  Class 1: 93.36%\n",
            "  Class 2: 2.62%\n",
            "  Class 0: 0.62%\n",
            "  Class 3: 4.17%\n",
            "Test Accuracy: 25.2%, Test Loss: 1.470599\n",
            "\n",
            "\n",
            "Class-wise Accuracy:\n",
            "  Class 1: 93.36%\n",
            "  Class 2: 2.62%\n",
            "  Class 0: 0.62%\n",
            "  Class 3: 4.17%\n",
            "Train Accuracy: 24.34%, Average Train Loss: 1.403404, Test Accuracy: 25.19%, Average Test Loss: 1.470599\n",
            "\n",
            "Epoch 29/200: "
          ]
        },
        {
          "output_type": "stream",
          "name": "stderr",
          "text": [
            "100%|██████████| 162/162 [00:01<00:00, 104.84it/s]\n",
            "Batch 162/162, Loss: 1.380188: 100%|██████████| 162/162 [00:01<00:00, 130.59it/s]\n"
          ]
        },
        {
          "output_type": "stream",
          "name": "stdout",
          "text": [
            "\n",
            "Class-wise Accuracy:\n",
            "  Class 1: 78.86%\n",
            "  Class 2: 1.39%\n",
            "  Class 0: 24.69%\n",
            "  Class 3: 1.08%\n",
            "Test Accuracy: 26.5%, Test Loss: 3.318613\n",
            "\n",
            "\n",
            "Class-wise Accuracy:\n",
            "  Class 1: 78.86%\n",
            "  Class 2: 1.39%\n",
            "  Class 0: 24.69%\n",
            "  Class 3: 1.08%\n",
            "Train Accuracy: 23.92%, Average Train Loss: 1.396008, Test Accuracy: 26.50%, Average Test Loss: 3.318613\n",
            "\n",
            "Epoch 30/200: "
          ]
        },
        {
          "output_type": "stream",
          "name": "stderr",
          "text": [
            "100%|██████████| 162/162 [00:01<00:00, 142.58it/s]\n",
            "Batch 162/162, Loss: 1.385731: 100%|██████████| 162/162 [00:01<00:00, 135.82it/s]\n"
          ]
        },
        {
          "output_type": "stream",
          "name": "stdout",
          "text": [
            "\n",
            "Class-wise Accuracy:\n",
            "  Class 1: 65.28%\n",
            "  Class 2: 3.24%\n",
            "  Class 0: 39.35%\n",
            "  Class 3: 1.70%\n",
            "Test Accuracy: 27.4%, Test Loss: 3.346382\n",
            "\n",
            "\n",
            "Class-wise Accuracy:\n",
            "  Class 1: 65.28%\n",
            "  Class 2: 3.24%\n",
            "  Class 0: 39.35%\n",
            "  Class 3: 1.70%\n",
            "Train Accuracy: 26.47%, Average Train Loss: 1.397166, Test Accuracy: 27.39%, Average Test Loss: 3.346382\n",
            "\n",
            "Epoch 31/200: "
          ]
        },
        {
          "output_type": "stream",
          "name": "stderr",
          "text": [
            "100%|██████████| 162/162 [00:01<00:00, 136.46it/s]\n",
            "Batch 162/162, Loss: 1.298020: 100%|██████████| 162/162 [00:01<00:00, 132.71it/s]\n"
          ]
        },
        {
          "output_type": "stream",
          "name": "stdout",
          "text": [
            "\n",
            "Class-wise Accuracy:\n",
            "  Class 1: 68.67%\n",
            "  Class 2: 4.48%\n",
            "  Class 0: 0.46%\n",
            "  Class 3: 35.65%\n",
            "Test Accuracy: 27.3%, Test Loss: 2.102632\n",
            "\n",
            "\n",
            "Class-wise Accuracy:\n",
            "  Class 1: 68.67%\n",
            "  Class 2: 4.48%\n",
            "  Class 0: 0.46%\n",
            "  Class 3: 35.65%\n",
            "Train Accuracy: 24.65%, Average Train Loss: 1.654669, Test Accuracy: 27.31%, Average Test Loss: 2.102632\n",
            "\n",
            "Epoch 32/200: "
          ]
        },
        {
          "output_type": "stream",
          "name": "stderr",
          "text": [
            "100%|██████████| 162/162 [00:01<00:00, 143.83it/s]\n",
            "Batch 162/162, Loss: 1.426924: 100%|██████████| 162/162 [00:01<00:00, 133.99it/s]\n"
          ]
        },
        {
          "output_type": "stream",
          "name": "stdout",
          "text": [
            "\n",
            "Class-wise Accuracy:\n",
            "  Class 1: 79.48%\n",
            "  Class 2: 26.85%\n",
            "  Class 0: 0.00%\n",
            "  Class 3: 2.62%\n",
            "Test Accuracy: 27.2%, Test Loss: 1.854002\n",
            "\n",
            "\n",
            "Class-wise Accuracy:\n",
            "  Class 1: 79.48%\n",
            "  Class 2: 26.85%\n",
            "  Class 0: 0.00%\n",
            "  Class 3: 2.62%\n",
            "Train Accuracy: 25.39%, Average Train Loss: 1.911765, Test Accuracy: 27.24%, Average Test Loss: 1.854002\n",
            "\n",
            "Epoch 33/200: "
          ]
        },
        {
          "output_type": "stream",
          "name": "stderr",
          "text": [
            "100%|██████████| 162/162 [00:01<00:00, 138.69it/s]\n",
            "Batch 162/162, Loss: 1.486827: 100%|██████████| 162/162 [00:01<00:00, 118.23it/s]\n"
          ]
        },
        {
          "output_type": "stream",
          "name": "stdout",
          "text": [
            "\n",
            "Class-wise Accuracy:\n",
            "  Class 1: 1.08%\n",
            "  Class 2: 96.60%\n",
            "  Class 0: 0.46%\n",
            "  Class 3: 2.78%\n",
            "Test Accuracy: 25.2%, Test Loss: 1.574108\n",
            "\n",
            "\n",
            "Class-wise Accuracy:\n",
            "  Class 1: 1.08%\n",
            "  Class 2: 96.60%\n",
            "  Class 0: 0.46%\n",
            "  Class 3: 2.78%\n",
            "Train Accuracy: 24.65%, Average Train Loss: 1.629716, Test Accuracy: 25.23%, Average Test Loss: 1.574108\n",
            "\n",
            "Epoch 34/200: "
          ]
        },
        {
          "output_type": "stream",
          "name": "stderr",
          "text": [
            "100%|██████████| 162/162 [00:01<00:00, 113.18it/s]\n",
            "Batch 162/162, Loss: 1.376906: 100%|██████████| 162/162 [00:01<00:00, 108.71it/s]\n"
          ]
        },
        {
          "output_type": "stream",
          "name": "stdout",
          "text": [
            "\n",
            "Class-wise Accuracy:\n",
            "  Class 1: 0.62%\n",
            "  Class 2: 94.29%\n",
            "  Class 0: 1.08%\n",
            "  Class 3: 3.70%\n",
            "Test Accuracy: 24.9%, Test Loss: 2.036597\n",
            "\n",
            "\n",
            "Class-wise Accuracy:\n",
            "  Class 1: 0.62%\n",
            "  Class 2: 94.29%\n",
            "  Class 0: 1.08%\n",
            "  Class 3: 3.70%\n",
            "Train Accuracy: 24.81%, Average Train Loss: 1.657974, Test Accuracy: 24.92%, Average Test Loss: 2.036597\n",
            "\n",
            "Epoch 35/200: "
          ]
        },
        {
          "output_type": "stream",
          "name": "stderr",
          "text": [
            "100%|██████████| 162/162 [00:01<00:00, 123.58it/s]\n",
            "Batch 162/162, Loss: 3.342298: 100%|██████████| 162/162 [00:01<00:00, 135.14it/s]\n"
          ]
        },
        {
          "output_type": "stream",
          "name": "stdout",
          "text": [
            "\n",
            "Class-wise Accuracy:\n",
            "  Class 1: 1.85%\n",
            "  Class 2: 4.63%\n",
            "  Class 0: 97.07%\n",
            "  Class 3: 0.00%\n",
            "Test Accuracy: 25.9%, Test Loss: 1.829616\n",
            "\n",
            "\n",
            "Class-wise Accuracy:\n",
            "  Class 1: 1.85%\n",
            "  Class 2: 4.63%\n",
            "  Class 0: 97.07%\n",
            "  Class 3: 0.00%\n",
            "Train Accuracy: 24.88%, Average Train Loss: 1.704895, Test Accuracy: 25.89%, Average Test Loss: 1.829616\n",
            "\n",
            "Epoch 36/200: "
          ]
        },
        {
          "output_type": "stream",
          "name": "stderr",
          "text": [
            "100%|██████████| 162/162 [00:01<00:00, 137.17it/s]\n",
            "Batch 162/162, Loss: 1.367587: 100%|██████████| 162/162 [00:01<00:00, 136.19it/s]\n"
          ]
        },
        {
          "output_type": "stream",
          "name": "stdout",
          "text": [
            "\n",
            "Class-wise Accuracy:\n",
            "  Class 1: 2.93%\n",
            "  Class 2: 95.99%\n",
            "  Class 0: 0.46%\n",
            "  Class 3: 2.31%\n",
            "Test Accuracy: 25.4%, Test Loss: 1.542445\n",
            "\n",
            "\n",
            "Class-wise Accuracy:\n",
            "  Class 1: 2.93%\n",
            "  Class 2: 95.99%\n",
            "  Class 0: 0.46%\n",
            "  Class 3: 2.31%\n",
            "Train Accuracy: 26.70%, Average Train Loss: 1.668324, Test Accuracy: 25.42%, Average Test Loss: 1.542445\n",
            "\n",
            "Epoch 37/200: "
          ]
        },
        {
          "output_type": "stream",
          "name": "stderr",
          "text": [
            "100%|██████████| 162/162 [00:01<00:00, 131.16it/s]\n",
            "Batch 162/162, Loss: 1.331920: 100%|██████████| 162/162 [00:01<00:00, 128.30it/s]\n"
          ]
        },
        {
          "output_type": "stream",
          "name": "stdout",
          "text": [
            "\n",
            "Class-wise Accuracy:\n",
            "  Class 1: 0.00%\n",
            "  Class 2: 1.70%\n",
            "  Class 0: 96.91%\n",
            "  Class 3: 5.40%\n",
            "Test Accuracy: 26.0%, Test Loss: 1.448003\n",
            "\n",
            "\n",
            "Class-wise Accuracy:\n",
            "  Class 1: 0.00%\n",
            "  Class 2: 1.70%\n",
            "  Class 0: 96.91%\n",
            "  Class 3: 5.40%\n",
            "Train Accuracy: 27.04%, Average Train Loss: 1.525318, Test Accuracy: 26.00%, Average Test Loss: 1.448003\n",
            "\n",
            "Epoch 38/200: "
          ]
        },
        {
          "output_type": "stream",
          "name": "stderr",
          "text": [
            "100%|██████████| 162/162 [00:01<00:00, 132.33it/s]\n",
            "Batch 162/162, Loss: 1.433151: 100%|██████████| 162/162 [00:01<00:00, 132.45it/s]\n"
          ]
        },
        {
          "output_type": "stream",
          "name": "stdout",
          "text": [
            "\n",
            "Class-wise Accuracy:\n",
            "  Class 1: 94.91%\n",
            "  Class 2: 1.85%\n",
            "  Class 0: 0.46%\n",
            "  Class 3: 2.01%\n",
            "Test Accuracy: 24.8%, Test Loss: 1.707493\n",
            "\n",
            "\n",
            "Class-wise Accuracy:\n",
            "  Class 1: 94.91%\n",
            "  Class 2: 1.85%\n",
            "  Class 0: 0.46%\n",
            "  Class 3: 2.01%\n",
            "Train Accuracy: 25.93%, Average Train Loss: 1.505737, Test Accuracy: 24.81%, Average Test Loss: 1.707493\n",
            "\n",
            "Epoch 39/200: "
          ]
        },
        {
          "output_type": "stream",
          "name": "stderr",
          "text": [
            "100%|██████████| 162/162 [00:01<00:00, 115.89it/s]\n",
            "Batch 162/162, Loss: 1.661449: 100%|██████████| 162/162 [00:01<00:00, 104.92it/s]\n"
          ]
        },
        {
          "output_type": "stream",
          "name": "stdout",
          "text": [
            "\n",
            "Class-wise Accuracy:\n",
            "  Class 1: 1.70%\n",
            "  Class 2: 95.22%\n",
            "  Class 0: 0.77%\n",
            "  Class 3: 2.16%\n",
            "Test Accuracy: 25.0%, Test Loss: 1.546926\n",
            "\n",
            "\n",
            "Class-wise Accuracy:\n",
            "  Class 1: 1.70%\n",
            "  Class 2: 95.22%\n",
            "  Class 0: 0.77%\n",
            "  Class 3: 2.16%\n",
            "Train Accuracy: 25.77%, Average Train Loss: 1.514466, Test Accuracy: 24.96%, Average Test Loss: 1.546926\n",
            "\n",
            "Epoch 40/200: "
          ]
        },
        {
          "output_type": "stream",
          "name": "stderr",
          "text": [
            "100%|██████████| 162/162 [00:01<00:00, 107.37it/s]\n",
            "Batch 162/162, Loss: 1.340357: 100%|██████████| 162/162 [00:01<00:00, 112.95it/s]\n"
          ]
        },
        {
          "output_type": "stream",
          "name": "stdout",
          "text": [
            "\n",
            "Class-wise Accuracy:\n",
            "  Class 1: 2.31%\n",
            "  Class 2: 0.93%\n",
            "  Class 0: 88.73%\n",
            "  Class 3: 13.89%\n",
            "Test Accuracy: 26.5%, Test Loss: 1.523343\n",
            "\n",
            "\n",
            "Class-wise Accuracy:\n",
            "  Class 1: 2.31%\n",
            "  Class 2: 0.93%\n",
            "  Class 0: 88.73%\n",
            "  Class 3: 13.89%\n",
            "Train Accuracy: 26.93%, Average Train Loss: 1.447835, Test Accuracy: 26.47%, Average Test Loss: 1.523343\n",
            "\n",
            "Epoch 41/200: "
          ]
        },
        {
          "output_type": "stream",
          "name": "stderr",
          "text": [
            "100%|██████████| 162/162 [00:01<00:00, 130.71it/s]\n",
            "Batch 162/162, Loss: 1.350084: 100%|██████████| 162/162 [00:01<00:00, 128.41it/s]\n"
          ]
        },
        {
          "output_type": "stream",
          "name": "stdout",
          "text": [
            "\n",
            "Class-wise Accuracy:\n",
            "  Class 1: 2.31%\n",
            "  Class 2: 89.66%\n",
            "  Class 0: 6.33%\n",
            "  Class 3: 11.27%\n",
            "Test Accuracy: 27.4%, Test Loss: 1.671910\n",
            "\n",
            "\n",
            "Class-wise Accuracy:\n",
            "  Class 1: 2.31%\n",
            "  Class 2: 89.66%\n",
            "  Class 0: 6.33%\n",
            "  Class 3: 11.27%\n",
            "Train Accuracy: 28.90%, Average Train Loss: 1.445374, Test Accuracy: 27.39%, Average Test Loss: 1.671910\n",
            "\n",
            "Epoch 42/200: "
          ]
        },
        {
          "output_type": "stream",
          "name": "stderr",
          "text": [
            "100%|██████████| 162/162 [00:01<00:00, 134.30it/s]\n",
            "Batch 162/162, Loss: 1.431863: 100%|██████████| 162/162 [00:01<00:00, 129.85it/s]\n"
          ]
        },
        {
          "output_type": "stream",
          "name": "stdout",
          "text": [
            "\n",
            "Class-wise Accuracy:\n",
            "  Class 1: 42.28%\n",
            "  Class 2: 2.47%\n",
            "  Class 0: 0.15%\n",
            "  Class 3: 70.99%\n",
            "Test Accuracy: 29.0%, Test Loss: 2.016352\n",
            "\n",
            "\n",
            "Class-wise Accuracy:\n",
            "  Class 1: 42.28%\n",
            "  Class 2: 2.47%\n",
            "  Class 0: 0.15%\n",
            "  Class 3: 70.99%\n",
            "Train Accuracy: 27.20%, Average Train Loss: 1.486592, Test Accuracy: 28.97%, Average Test Loss: 2.016352\n",
            "\n",
            "Epoch 43/200: "
          ]
        },
        {
          "output_type": "stream",
          "name": "stderr",
          "text": [
            "100%|██████████| 162/162 [00:01<00:00, 130.13it/s]\n",
            "Batch 162/162, Loss: 1.339160: 100%|██████████| 162/162 [00:01<00:00, 126.97it/s]\n"
          ]
        },
        {
          "output_type": "stream",
          "name": "stdout",
          "text": [
            "\n",
            "Class-wise Accuracy:\n",
            "  Class 1: 26.70%\n",
            "  Class 2: 42.75%\n",
            "  Class 0: 4.63%\n",
            "  Class 3: 51.85%\n",
            "Test Accuracy: 31.5%, Test Loss: 1.541272\n",
            "\n",
            "\n",
            "Class-wise Accuracy:\n",
            "  Class 1: 26.70%\n",
            "  Class 2: 42.75%\n",
            "  Class 0: 4.63%\n",
            "  Class 3: 51.85%\n",
            "Train Accuracy: 29.44%, Average Train Loss: 1.432075, Test Accuracy: 31.48%, Average Test Loss: 1.541272\n",
            "\n",
            "Epoch 44/200: "
          ]
        },
        {
          "output_type": "stream",
          "name": "stderr",
          "text": [
            "100%|██████████| 162/162 [00:01<00:00, 139.52it/s]\n",
            "Batch 162/162, Loss: 1.291411: 100%|██████████| 162/162 [00:01<00:00, 117.72it/s]\n"
          ]
        },
        {
          "output_type": "stream",
          "name": "stdout",
          "text": [
            "\n",
            "Class-wise Accuracy:\n",
            "  Class 1: 80.40%\n",
            "  Class 2: 0.00%\n",
            "  Class 0: 5.71%\n",
            "  Class 3: 41.98%\n",
            "Test Accuracy: 32.0%, Test Loss: 1.470580\n",
            "\n",
            "\n",
            "Class-wise Accuracy:\n",
            "  Class 1: 80.40%\n",
            "  Class 2: 0.00%\n",
            "  Class 0: 5.71%\n",
            "  Class 3: 41.98%\n",
            "Train Accuracy: 28.74%, Average Train Loss: 1.416100, Test Accuracy: 32.02%, Average Test Loss: 1.470580\n",
            "\n",
            "Epoch 45/200: "
          ]
        },
        {
          "output_type": "stream",
          "name": "stderr",
          "text": [
            "100%|██████████| 162/162 [00:01<00:00, 108.72it/s]\n",
            "Batch 162/162, Loss: 1.374358: 100%|██████████| 162/162 [00:01<00:00, 117.88it/s]\n"
          ]
        },
        {
          "output_type": "stream",
          "name": "stdout",
          "text": [
            "\n",
            "Class-wise Accuracy:\n",
            "  Class 1: 14.04%\n",
            "  Class 2: 50.93%\n",
            "  Class 0: 45.06%\n",
            "  Class 3: 4.17%\n",
            "Test Accuracy: 28.5%, Test Loss: 1.398633\n",
            "\n",
            "\n",
            "Class-wise Accuracy:\n",
            "  Class 1: 14.04%\n",
            "  Class 2: 50.93%\n",
            "  Class 0: 45.06%\n",
            "  Class 3: 4.17%\n",
            "Train Accuracy: 29.09%, Average Train Loss: 1.406528, Test Accuracy: 28.55%, Average Test Loss: 1.398633\n",
            "\n",
            "Epoch 46/200: "
          ]
        },
        {
          "output_type": "stream",
          "name": "stderr",
          "text": [
            "100%|██████████| 162/162 [00:01<00:00, 107.31it/s]\n",
            "Batch 162/162, Loss: 1.393844: 100%|██████████| 162/162 [00:01<00:00, 129.06it/s]\n"
          ]
        },
        {
          "output_type": "stream",
          "name": "stdout",
          "text": [
            "\n",
            "Class-wise Accuracy:\n",
            "  Class 1: 19.75%\n",
            "  Class 2: 0.77%\n",
            "  Class 0: 0.31%\n",
            "  Class 3: 84.88%\n",
            "Test Accuracy: 26.4%, Test Loss: 1.492497\n",
            "\n",
            "\n",
            "Class-wise Accuracy:\n",
            "  Class 1: 19.75%\n",
            "  Class 2: 0.77%\n",
            "  Class 0: 0.31%\n",
            "  Class 3: 84.88%\n",
            "Train Accuracy: 26.66%, Average Train Loss: 1.483517, Test Accuracy: 26.43%, Average Test Loss: 1.492497\n",
            "\n",
            "Epoch 47/200: "
          ]
        },
        {
          "output_type": "stream",
          "name": "stderr",
          "text": [
            "100%|██████████| 162/162 [00:01<00:00, 128.55it/s]\n",
            "Batch 162/162, Loss: 1.477911: 100%|██████████| 162/162 [00:01<00:00, 128.92it/s]\n"
          ]
        },
        {
          "output_type": "stream",
          "name": "stdout",
          "text": [
            "\n",
            "Class-wise Accuracy:\n",
            "  Class 1: 1.08%\n",
            "  Class 2: 81.02%\n",
            "  Class 0: 1.85%\n",
            "  Class 3: 32.87%\n",
            "Test Accuracy: 29.2%, Test Loss: 1.407782\n",
            "\n",
            "\n",
            "Class-wise Accuracy:\n",
            "  Class 1: 1.08%\n",
            "  Class 2: 81.02%\n",
            "  Class 0: 1.85%\n",
            "  Class 3: 32.87%\n",
            "Train Accuracy: 29.13%, Average Train Loss: 1.423348, Test Accuracy: 29.21%, Average Test Loss: 1.407782\n",
            "\n",
            "Epoch 48/200: "
          ]
        },
        {
          "output_type": "stream",
          "name": "stderr",
          "text": [
            "100%|██████████| 162/162 [00:01<00:00, 138.01it/s]\n",
            "Batch 162/162, Loss: 1.698844: 100%|██████████| 162/162 [00:01<00:00, 134.76it/s]\n"
          ]
        },
        {
          "output_type": "stream",
          "name": "stdout",
          "text": [
            "\n",
            "Class-wise Accuracy:\n",
            "  Class 1: 2.31%\n",
            "  Class 2: 47.07%\n",
            "  Class 0: 0.77%\n",
            "  Class 3: 63.27%\n",
            "Test Accuracy: 28.4%, Test Loss: 1.541870\n",
            "\n",
            "\n",
            "Class-wise Accuracy:\n",
            "  Class 1: 2.31%\n",
            "  Class 2: 47.07%\n",
            "  Class 0: 0.77%\n",
            "  Class 3: 63.27%\n",
            "Train Accuracy: 30.09%, Average Train Loss: 1.429633, Test Accuracy: 28.36%, Average Test Loss: 1.541870\n",
            "\n",
            "Epoch 49/200: "
          ]
        },
        {
          "output_type": "stream",
          "name": "stderr",
          "text": [
            "100%|██████████| 162/162 [00:01<00:00, 135.03it/s]\n",
            "Batch 162/162, Loss: 1.664350: 100%|██████████| 162/162 [00:01<00:00, 133.62it/s]\n"
          ]
        },
        {
          "output_type": "stream",
          "name": "stdout",
          "text": [
            "\n",
            "Class-wise Accuracy:\n",
            "  Class 1: 1.08%\n",
            "  Class 2: 28.09%\n",
            "  Class 0: 0.62%\n",
            "  Class 3: 74.07%\n",
            "Test Accuracy: 26.0%, Test Loss: 1.653825\n",
            "\n",
            "\n",
            "Class-wise Accuracy:\n",
            "  Class 1: 1.08%\n",
            "  Class 2: 28.09%\n",
            "  Class 0: 0.62%\n",
            "  Class 3: 74.07%\n",
            "Train Accuracy: 29.63%, Average Train Loss: 1.503284, Test Accuracy: 25.96%, Average Test Loss: 1.653825\n",
            "\n",
            "Epoch 50/200: "
          ]
        },
        {
          "output_type": "stream",
          "name": "stderr",
          "text": [
            "100%|██████████| 162/162 [00:01<00:00, 128.40it/s]\n",
            "Batch 162/162, Loss: 1.458952: 100%|██████████| 162/162 [00:01<00:00, 101.38it/s]\n"
          ]
        },
        {
          "output_type": "stream",
          "name": "stdout",
          "text": [
            "\n",
            "Class-wise Accuracy:\n",
            "  Class 1: 68.83%\n",
            "  Class 2: 34.41%\n",
            "  Class 0: 2.01%\n",
            "  Class 3: 7.10%\n",
            "Test Accuracy: 28.1%, Test Loss: 1.466447\n",
            "\n",
            "\n",
            "Class-wise Accuracy:\n",
            "  Class 1: 68.83%\n",
            "  Class 2: 34.41%\n",
            "  Class 0: 2.01%\n",
            "  Class 3: 7.10%\n",
            "Train Accuracy: 29.01%, Average Train Loss: 1.447907, Test Accuracy: 28.09%, Average Test Loss: 1.466447\n",
            "\n",
            "Epoch 51/200: "
          ]
        },
        {
          "output_type": "stream",
          "name": "stderr",
          "text": [
            "100%|██████████| 162/162 [00:01<00:00, 112.79it/s]\n",
            "Batch 162/162, Loss: 1.521704: 100%|██████████| 162/162 [00:01<00:00, 103.12it/s]\n"
          ]
        },
        {
          "output_type": "stream",
          "name": "stdout",
          "text": [
            "\n",
            "Class-wise Accuracy:\n",
            "  Class 1: 2.93%\n",
            "  Class 2: 55.25%\n",
            "  Class 0: 8.49%\n",
            "  Class 3: 54.17%\n",
            "Test Accuracy: 30.2%, Test Loss: 1.483133\n",
            "\n",
            "\n",
            "Class-wise Accuracy:\n",
            "  Class 1: 2.93%\n",
            "  Class 2: 55.25%\n",
            "  Class 0: 8.49%\n",
            "  Class 3: 54.17%\n",
            "Train Accuracy: 28.32%, Average Train Loss: 1.429397, Test Accuracy: 30.21%, Average Test Loss: 1.483133\n",
            "\n",
            "Epoch 52/200: "
          ]
        },
        {
          "output_type": "stream",
          "name": "stderr",
          "text": [
            "100%|██████████| 162/162 [00:01<00:00, 137.96it/s]\n",
            "Batch 162/162, Loss: 1.539950: 100%|██████████| 162/162 [00:01<00:00, 126.34it/s]\n"
          ]
        },
        {
          "output_type": "stream",
          "name": "stdout",
          "text": [
            "\n",
            "Class-wise Accuracy:\n",
            "  Class 1: 50.46%\n",
            "  Class 2: 2.31%\n",
            "  Class 0: 12.04%\n",
            "  Class 3: 58.80%\n",
            "Test Accuracy: 30.9%, Test Loss: 1.537501\n",
            "\n",
            "\n",
            "Class-wise Accuracy:\n",
            "  Class 1: 50.46%\n",
            "  Class 2: 2.31%\n",
            "  Class 0: 12.04%\n",
            "  Class 3: 58.80%\n",
            "Train Accuracy: 30.25%, Average Train Loss: 1.381726, Test Accuracy: 30.90%, Average Test Loss: 1.537501\n",
            "\n",
            "Epoch 53/200: "
          ]
        },
        {
          "output_type": "stream",
          "name": "stderr",
          "text": [
            "100%|██████████| 162/162 [00:01<00:00, 137.17it/s]\n",
            "Batch 162/162, Loss: 1.277690: 100%|██████████| 162/162 [00:01<00:00, 129.99it/s]\n"
          ]
        },
        {
          "output_type": "stream",
          "name": "stdout",
          "text": [
            "\n",
            "Class-wise Accuracy:\n",
            "  Class 1: 91.36%\n",
            "  Class 2: 0.00%\n",
            "  Class 0: 9.26%\n",
            "  Class 3: 16.51%\n",
            "Test Accuracy: 29.3%, Test Loss: 1.429207\n",
            "\n",
            "\n",
            "Class-wise Accuracy:\n",
            "  Class 1: 91.36%\n",
            "  Class 2: 0.00%\n",
            "  Class 0: 9.26%\n",
            "  Class 3: 16.51%\n",
            "Train Accuracy: 30.44%, Average Train Loss: 1.420148, Test Accuracy: 29.28%, Average Test Loss: 1.429207\n",
            "\n",
            "Epoch 54/200: "
          ]
        },
        {
          "output_type": "stream",
          "name": "stderr",
          "text": [
            "100%|██████████| 162/162 [00:01<00:00, 131.43it/s]\n",
            "Batch 162/162, Loss: 1.286171: 100%|██████████| 162/162 [00:01<00:00, 128.29it/s]\n"
          ]
        },
        {
          "output_type": "stream",
          "name": "stdout",
          "text": [
            "\n",
            "Class-wise Accuracy:\n",
            "  Class 1: 4.94%\n",
            "  Class 2: 81.48%\n",
            "  Class 0: 0.00%\n",
            "  Class 3: 35.34%\n",
            "Test Accuracy: 30.4%, Test Loss: 1.559774\n",
            "\n",
            "\n",
            "Class-wise Accuracy:\n",
            "  Class 1: 4.94%\n",
            "  Class 2: 81.48%\n",
            "  Class 0: 0.00%\n",
            "  Class 3: 35.34%\n",
            "Train Accuracy: 30.90%, Average Train Loss: 1.374169, Test Accuracy: 30.44%, Average Test Loss: 1.559774\n",
            "\n",
            "Epoch 55/200: "
          ]
        },
        {
          "output_type": "stream",
          "name": "stderr",
          "text": [
            "100%|██████████| 162/162 [00:01<00:00, 135.07it/s]\n",
            "Batch 162/162, Loss: 1.377090: 100%|██████████| 162/162 [00:01<00:00, 130.72it/s]\n"
          ]
        },
        {
          "output_type": "stream",
          "name": "stdout",
          "text": [
            "\n",
            "Class-wise Accuracy:\n",
            "  Class 1: 72.38%\n",
            "  Class 2: 0.00%\n",
            "  Class 0: 0.31%\n",
            "  Class 3: 58.18%\n",
            "Test Accuracy: 32.7%, Test Loss: 1.573794\n",
            "\n",
            "\n",
            "Class-wise Accuracy:\n",
            "  Class 1: 72.38%\n",
            "  Class 2: 0.00%\n",
            "  Class 0: 0.31%\n",
            "  Class 3: 58.18%\n",
            "Train Accuracy: 30.17%, Average Train Loss: 1.364949, Test Accuracy: 32.72%, Average Test Loss: 1.573794\n",
            "\n",
            "Epoch 56/200: "
          ]
        },
        {
          "output_type": "stream",
          "name": "stderr",
          "text": [
            "100%|██████████| 162/162 [00:01<00:00, 100.91it/s]\n",
            "Batch 162/162, Loss: 1.374003: 100%|██████████| 162/162 [00:01<00:00, 109.64it/s]\n"
          ]
        },
        {
          "output_type": "stream",
          "name": "stdout",
          "text": [
            "\n",
            "Class-wise Accuracy:\n",
            "  Class 1: 60.03%\n",
            "  Class 2: 2.47%\n",
            "  Class 0: 2.01%\n",
            "  Class 3: 62.81%\n",
            "Test Accuracy: 31.8%, Test Loss: 1.399390\n",
            "\n",
            "\n",
            "Class-wise Accuracy:\n",
            "  Class 1: 60.03%\n",
            "  Class 2: 2.47%\n",
            "  Class 0: 2.01%\n",
            "  Class 3: 62.81%\n",
            "Train Accuracy: 32.33%, Average Train Loss: 1.357371, Test Accuracy: 31.83%, Average Test Loss: 1.399390\n",
            "\n",
            "Epoch 57/200: "
          ]
        },
        {
          "output_type": "stream",
          "name": "stderr",
          "text": [
            "100%|██████████| 162/162 [00:01<00:00, 101.29it/s]\n",
            "Batch 162/162, Loss: 1.253167: 100%|██████████| 162/162 [00:01<00:00, 126.16it/s]\n"
          ]
        },
        {
          "output_type": "stream",
          "name": "stdout",
          "text": [
            "\n",
            "Class-wise Accuracy:\n",
            "  Class 1: 87.35%\n",
            "  Class 2: 0.62%\n",
            "  Class 0: 17.28%\n",
            "  Class 3: 23.30%\n",
            "Test Accuracy: 32.1%, Test Loss: 1.414788\n",
            "\n",
            "\n",
            "Class-wise Accuracy:\n",
            "  Class 1: 87.35%\n",
            "  Class 2: 0.62%\n",
            "  Class 0: 17.28%\n",
            "  Class 3: 23.30%\n",
            "Train Accuracy: 32.33%, Average Train Loss: 1.366381, Test Accuracy: 32.14%, Average Test Loss: 1.414788\n",
            "\n",
            "Epoch 58/200: "
          ]
        },
        {
          "output_type": "stream",
          "name": "stderr",
          "text": [
            "100%|██████████| 162/162 [00:01<00:00, 132.09it/s]\n",
            "Batch 162/162, Loss: 1.366058: 100%|██████████| 162/162 [00:01<00:00, 126.81it/s]\n"
          ]
        },
        {
          "output_type": "stream",
          "name": "stdout",
          "text": [
            "\n",
            "Class-wise Accuracy:\n",
            "  Class 1: 96.60%\n",
            "  Class 2: 0.00%\n",
            "  Class 0: 4.63%\n",
            "  Class 3: 8.95%\n",
            "Test Accuracy: 27.5%, Test Loss: 1.450600\n",
            "\n",
            "\n",
            "Class-wise Accuracy:\n",
            "  Class 1: 96.60%\n",
            "  Class 2: 0.00%\n",
            "  Class 0: 4.63%\n",
            "  Class 3: 8.95%\n",
            "Train Accuracy: 32.72%, Average Train Loss: 1.385266, Test Accuracy: 27.55%, Average Test Loss: 1.450600\n",
            "\n",
            "Epoch 59/200: "
          ]
        },
        {
          "output_type": "stream",
          "name": "stderr",
          "text": [
            "100%|██████████| 162/162 [00:01<00:00, 133.70it/s]\n",
            "Batch 162/162, Loss: 1.361240: 100%|██████████| 162/162 [00:01<00:00, 124.77it/s]\n"
          ]
        },
        {
          "output_type": "stream",
          "name": "stdout",
          "text": [
            "\n",
            "Class-wise Accuracy:\n",
            "  Class 1: 87.50%\n",
            "  Class 2: 0.77%\n",
            "  Class 0: 1.54%\n",
            "  Class 3: 38.89%\n",
            "Test Accuracy: 32.2%, Test Loss: 1.683336\n",
            "\n",
            "\n",
            "Class-wise Accuracy:\n",
            "  Class 1: 87.50%\n",
            "  Class 2: 0.77%\n",
            "  Class 0: 1.54%\n",
            "  Class 3: 38.89%\n",
            "Train Accuracy: 32.41%, Average Train Loss: 1.376987, Test Accuracy: 32.18%, Average Test Loss: 1.683336\n",
            "\n",
            "Epoch 60/200: "
          ]
        },
        {
          "output_type": "stream",
          "name": "stderr",
          "text": [
            "100%|██████████| 162/162 [00:01<00:00, 134.14it/s]\n",
            "Batch 162/162, Loss: 1.347797: 100%|██████████| 162/162 [00:01<00:00, 128.57it/s]\n"
          ]
        },
        {
          "output_type": "stream",
          "name": "stdout",
          "text": [
            "\n",
            "Class-wise Accuracy:\n",
            "  Class 1: 61.88%\n",
            "  Class 2: 20.37%\n",
            "  Class 0: 0.00%\n",
            "  Class 3: 49.54%\n",
            "Test Accuracy: 32.9%, Test Loss: 1.482118\n",
            "\n",
            "\n",
            "Class-wise Accuracy:\n",
            "  Class 1: 61.88%\n",
            "  Class 2: 20.37%\n",
            "  Class 0: 0.00%\n",
            "  Class 3: 49.54%\n",
            "Train Accuracy: 31.71%, Average Train Loss: 1.368874, Test Accuracy: 32.95%, Average Test Loss: 1.482118\n",
            "\n",
            "Epoch 61/200: "
          ]
        },
        {
          "output_type": "stream",
          "name": "stderr",
          "text": [
            "100%|██████████| 162/162 [00:01<00:00, 113.40it/s]\n",
            "Batch 162/162, Loss: 1.345163: 100%|██████████| 162/162 [00:01<00:00, 105.91it/s]\n"
          ]
        },
        {
          "output_type": "stream",
          "name": "stdout",
          "text": [
            "\n",
            "Class-wise Accuracy:\n",
            "  Class 1: 61.88%\n",
            "  Class 2: 9.88%\n",
            "  Class 0: 0.00%\n",
            "  Class 3: 60.34%\n",
            "Test Accuracy: 33.0%, Test Loss: 1.473827\n",
            "\n",
            "\n",
            "Class-wise Accuracy:\n",
            "  Class 1: 61.88%\n",
            "  Class 2: 9.88%\n",
            "  Class 0: 0.00%\n",
            "  Class 3: 60.34%\n",
            "Train Accuracy: 32.87%, Average Train Loss: 1.354103, Test Accuracy: 33.02%, Average Test Loss: 1.473827\n",
            "\n",
            "Epoch 62/200: "
          ]
        },
        {
          "output_type": "stream",
          "name": "stderr",
          "text": [
            "100%|██████████| 162/162 [00:01<00:00, 103.83it/s]\n",
            "Batch 162/162, Loss: 1.364194: 100%|██████████| 162/162 [00:01<00:00, 107.48it/s]\n"
          ]
        },
        {
          "output_type": "stream",
          "name": "stdout",
          "text": [
            "\n",
            "Class-wise Accuracy:\n",
            "  Class 1: 49.23%\n",
            "  Class 2: 0.93%\n",
            "  Class 0: 0.00%\n",
            "  Class 3: 72.07%\n",
            "Test Accuracy: 30.6%, Test Loss: 1.439187\n",
            "\n",
            "\n",
            "Class-wise Accuracy:\n",
            "  Class 1: 49.23%\n",
            "  Class 2: 0.93%\n",
            "  Class 0: 0.00%\n",
            "  Class 3: 72.07%\n",
            "Train Accuracy: 33.26%, Average Train Loss: 1.350840, Test Accuracy: 30.56%, Average Test Loss: 1.439187\n",
            "\n",
            "Epoch 63/200: "
          ]
        },
        {
          "output_type": "stream",
          "name": "stderr",
          "text": [
            "100%|██████████| 162/162 [00:01<00:00, 132.03it/s]\n",
            "Batch 162/162, Loss: 1.297668: 100%|██████████| 162/162 [00:01<00:00, 126.17it/s]\n"
          ]
        },
        {
          "output_type": "stream",
          "name": "stdout",
          "text": [
            "\n",
            "Class-wise Accuracy:\n",
            "  Class 1: 49.69%\n",
            "  Class 2: 34.41%\n",
            "  Class 0: 14.04%\n",
            "  Class 3: 32.25%\n",
            "Test Accuracy: 32.6%, Test Loss: 1.408070\n",
            "\n",
            "\n",
            "Class-wise Accuracy:\n",
            "  Class 1: 49.69%\n",
            "  Class 2: 34.41%\n",
            "  Class 0: 14.04%\n",
            "  Class 3: 32.25%\n",
            "Train Accuracy: 32.25%, Average Train Loss: 1.354228, Test Accuracy: 32.60%, Average Test Loss: 1.408070\n",
            "\n",
            "Epoch 64/200: "
          ]
        },
        {
          "output_type": "stream",
          "name": "stderr",
          "text": [
            "100%|██████████| 162/162 [00:01<00:00, 133.41it/s]\n",
            "Batch 162/162, Loss: 1.310547: 100%|██████████| 162/162 [00:01<00:00, 124.62it/s]\n"
          ]
        },
        {
          "output_type": "stream",
          "name": "stdout",
          "text": [
            "\n",
            "Class-wise Accuracy:\n",
            "  Class 1: 58.18%\n",
            "  Class 2: 25.46%\n",
            "  Class 0: 7.41%\n",
            "  Class 3: 43.36%\n",
            "Test Accuracy: 33.6%, Test Loss: 1.397074\n",
            "\n",
            "\n",
            "Class-wise Accuracy:\n",
            "  Class 1: 58.18%\n",
            "  Class 2: 25.46%\n",
            "  Class 0: 7.41%\n",
            "  Class 3: 43.36%\n",
            "Train Accuracy: 31.94%, Average Train Loss: 1.368434, Test Accuracy: 33.60%, Average Test Loss: 1.397074\n",
            "\n",
            "Epoch 65/200: "
          ]
        },
        {
          "output_type": "stream",
          "name": "stderr",
          "text": [
            "100%|██████████| 162/162 [00:01<00:00, 130.27it/s]\n",
            "Batch 162/162, Loss: 1.305614: 100%|██████████| 162/162 [00:01<00:00, 125.54it/s]\n"
          ]
        },
        {
          "output_type": "stream",
          "name": "stdout",
          "text": [
            "\n",
            "Class-wise Accuracy:\n",
            "  Class 1: 54.94%\n",
            "  Class 2: 15.43%\n",
            "  Class 0: 15.90%\n",
            "  Class 3: 48.61%\n",
            "Test Accuracy: 33.7%, Test Loss: 1.448319\n",
            "\n",
            "\n",
            "Class-wise Accuracy:\n",
            "  Class 1: 54.94%\n",
            "  Class 2: 15.43%\n",
            "  Class 0: 15.90%\n",
            "  Class 3: 48.61%\n",
            "Train Accuracy: 32.75%, Average Train Loss: 1.355103, Test Accuracy: 33.72%, Average Test Loss: 1.448319\n",
            "\n",
            "Epoch 66/200: "
          ]
        },
        {
          "output_type": "stream",
          "name": "stderr",
          "text": [
            "100%|██████████| 162/162 [00:01<00:00, 133.06it/s]\n",
            "Batch 162/162, Loss: 1.322900: 100%|██████████| 162/162 [00:01<00:00, 115.82it/s]\n"
          ]
        },
        {
          "output_type": "stream",
          "name": "stdout",
          "text": [
            "\n",
            "Class-wise Accuracy:\n",
            "  Class 1: 58.95%\n",
            "  Class 2: 14.81%\n",
            "  Class 0: 3.24%\n",
            "  Class 3: 54.94%\n",
            "Test Accuracy: 33.0%, Test Loss: 1.424858\n",
            "\n",
            "\n",
            "Class-wise Accuracy:\n",
            "  Class 1: 58.95%\n",
            "  Class 2: 14.81%\n",
            "  Class 0: 3.24%\n",
            "  Class 3: 54.94%\n",
            "Train Accuracy: 31.98%, Average Train Loss: 1.349967, Test Accuracy: 32.99%, Average Test Loss: 1.424858\n",
            "\n",
            "Epoch 67/200: "
          ]
        },
        {
          "output_type": "stream",
          "name": "stderr",
          "text": [
            "100%|██████████| 162/162 [00:01<00:00, 99.92it/s] \n",
            "Batch 162/162, Loss: 1.333102: 100%|██████████| 162/162 [00:01<00:00, 110.93it/s]\n"
          ]
        },
        {
          "output_type": "stream",
          "name": "stdout",
          "text": [
            "\n",
            "Class-wise Accuracy:\n",
            "  Class 1: 56.48%\n",
            "  Class 2: 12.04%\n",
            "  Class 0: 0.31%\n",
            "  Class 3: 62.81%\n",
            "Test Accuracy: 32.9%, Test Loss: 1.370281\n",
            "\n",
            "\n",
            "Class-wise Accuracy:\n",
            "  Class 1: 56.48%\n",
            "  Class 2: 12.04%\n",
            "  Class 0: 0.31%\n",
            "  Class 3: 62.81%\n",
            "Train Accuracy: 34.57%, Average Train Loss: 1.346055, Test Accuracy: 32.91%, Average Test Loss: 1.370281\n",
            "\n",
            "Epoch 68/200: "
          ]
        },
        {
          "output_type": "stream",
          "name": "stderr",
          "text": [
            "100%|██████████| 162/162 [00:01<00:00, 105.68it/s]\n",
            "Batch 162/162, Loss: 1.339126: 100%|██████████| 162/162 [00:01<00:00, 124.49it/s]\n"
          ]
        },
        {
          "output_type": "stream",
          "name": "stdout",
          "text": [
            "\n",
            "Class-wise Accuracy:\n",
            "  Class 1: 57.41%\n",
            "  Class 2: 14.35%\n",
            "  Class 0: 4.17%\n",
            "  Class 3: 57.10%\n",
            "Test Accuracy: 33.3%, Test Loss: 1.434312\n",
            "\n",
            "\n",
            "Class-wise Accuracy:\n",
            "  Class 1: 57.41%\n",
            "  Class 2: 14.35%\n",
            "  Class 0: 4.17%\n",
            "  Class 3: 57.10%\n",
            "Train Accuracy: 33.72%, Average Train Loss: 1.351415, Test Accuracy: 33.26%, Average Test Loss: 1.434312\n",
            "\n",
            "Epoch 69/200: "
          ]
        },
        {
          "output_type": "stream",
          "name": "stderr",
          "text": [
            "100%|██████████| 162/162 [00:01<00:00, 137.48it/s]\n",
            "Batch 162/162, Loss: 1.333734: 100%|██████████| 162/162 [00:01<00:00, 126.19it/s]\n"
          ]
        },
        {
          "output_type": "stream",
          "name": "stdout",
          "text": [
            "\n",
            "Class-wise Accuracy:\n",
            "  Class 1: 60.34%\n",
            "  Class 2: 13.27%\n",
            "  Class 0: 4.78%\n",
            "  Class 3: 52.93%\n",
            "Test Accuracy: 32.8%, Test Loss: 1.491239\n",
            "\n",
            "\n",
            "Class-wise Accuracy:\n",
            "  Class 1: 60.34%\n",
            "  Class 2: 13.27%\n",
            "  Class 0: 4.78%\n",
            "  Class 3: 52.93%\n",
            "Train Accuracy: 34.10%, Average Train Loss: 1.344955, Test Accuracy: 32.83%, Average Test Loss: 1.491239\n",
            "\n",
            "Epoch 70/200: "
          ]
        },
        {
          "output_type": "stream",
          "name": "stderr",
          "text": [
            "100%|██████████| 162/162 [00:01<00:00, 131.91it/s]\n",
            "Batch 162/162, Loss: 1.315183: 100%|██████████| 162/162 [00:01<00:00, 122.76it/s]\n"
          ]
        },
        {
          "output_type": "stream",
          "name": "stdout",
          "text": [
            "\n",
            "Class-wise Accuracy:\n",
            "  Class 1: 63.58%\n",
            "  Class 2: 7.87%\n",
            "  Class 0: 4.94%\n",
            "  Class 3: 56.94%\n",
            "Test Accuracy: 33.3%, Test Loss: 1.373510\n",
            "\n",
            "\n",
            "Class-wise Accuracy:\n",
            "  Class 1: 63.58%\n",
            "  Class 2: 7.87%\n",
            "  Class 0: 4.94%\n",
            "  Class 3: 56.94%\n",
            "Train Accuracy: 33.56%, Average Train Loss: 1.343730, Test Accuracy: 33.33%, Average Test Loss: 1.373510\n",
            "\n",
            "Epoch 71/200: "
          ]
        },
        {
          "output_type": "stream",
          "name": "stderr",
          "text": [
            "100%|██████████| 162/162 [00:01<00:00, 138.07it/s]\n",
            "Batch 162/162, Loss: 1.334492: 100%|██████████| 162/162 [00:01<00:00, 130.53it/s]\n"
          ]
        },
        {
          "output_type": "stream",
          "name": "stdout",
          "text": [
            "\n",
            "Class-wise Accuracy:\n",
            "  Class 1: 0.15%\n",
            "  Class 2: 87.50%\n",
            "  Class 0: 0.15%\n",
            "  Class 3: 27.31%\n",
            "Test Accuracy: 28.8%, Test Loss: 1.417096\n",
            "\n",
            "\n",
            "Class-wise Accuracy:\n",
            "  Class 1: 0.15%\n",
            "  Class 2: 87.50%\n",
            "  Class 0: 0.15%\n",
            "  Class 3: 27.31%\n",
            "Train Accuracy: 30.36%, Average Train Loss: 1.483627, Test Accuracy: 28.78%, Average Test Loss: 1.417096\n",
            "\n",
            "Epoch 72/200: "
          ]
        },
        {
          "output_type": "stream",
          "name": "stderr",
          "text": [
            "100%|██████████| 162/162 [00:01<00:00, 126.16it/s]\n",
            "Batch 162/162, Loss: 1.609596: 100%|██████████| 162/162 [00:01<00:00, 108.54it/s]\n"
          ]
        },
        {
          "output_type": "stream",
          "name": "stdout",
          "text": [
            "\n",
            "Class-wise Accuracy:\n",
            "  Class 1: 2.47%\n",
            "  Class 2: 93.98%\n",
            "  Class 0: 0.77%\n",
            "  Class 3: 0.15%\n",
            "Test Accuracy: 24.3%, Test Loss: 1.649569\n",
            "\n",
            "\n",
            "Class-wise Accuracy:\n",
            "  Class 1: 2.47%\n",
            "  Class 2: 93.98%\n",
            "  Class 0: 0.77%\n",
            "  Class 3: 0.15%\n",
            "Train Accuracy: 30.05%, Average Train Loss: 1.440776, Test Accuracy: 24.34%, Average Test Loss: 1.649569\n",
            "\n",
            "Epoch 73/200: "
          ]
        },
        {
          "output_type": "stream",
          "name": "stderr",
          "text": [
            "100%|██████████| 162/162 [00:01<00:00, 111.10it/s]\n",
            "Batch 162/162, Loss: 1.427042: 100%|██████████| 162/162 [00:01<00:00, 102.74it/s]\n"
          ]
        },
        {
          "output_type": "stream",
          "name": "stdout",
          "text": [
            "\n",
            "Class-wise Accuracy:\n",
            "  Class 1: 3.09%\n",
            "  Class 2: 3.55%\n",
            "  Class 0: 96.91%\n",
            "  Class 3: 1.70%\n",
            "Test Accuracy: 26.3%, Test Loss: 1.576115\n",
            "\n",
            "\n",
            "Class-wise Accuracy:\n",
            "  Class 1: 3.09%\n",
            "  Class 2: 3.55%\n",
            "  Class 0: 96.91%\n",
            "  Class 3: 1.70%\n",
            "Train Accuracy: 28.70%, Average Train Loss: 1.490998, Test Accuracy: 26.31%, Average Test Loss: 1.576115\n",
            "\n",
            "Epoch 74/200: "
          ]
        },
        {
          "output_type": "stream",
          "name": "stderr",
          "text": [
            "100%|██████████| 162/162 [00:01<00:00, 129.39it/s]\n",
            "Batch 162/162, Loss: 1.303388: 100%|██████████| 162/162 [00:01<00:00, 124.33it/s]\n"
          ]
        },
        {
          "output_type": "stream",
          "name": "stdout",
          "text": [
            "\n",
            "Class-wise Accuracy:\n",
            "  Class 1: 83.02%\n",
            "  Class 2: 0.93%\n",
            "  Class 0: 0.00%\n",
            "  Class 3: 49.07%\n",
            "Test Accuracy: 33.3%, Test Loss: 3.167199\n",
            "\n",
            "\n",
            "Class-wise Accuracy:\n",
            "  Class 1: 83.02%\n",
            "  Class 2: 0.93%\n",
            "  Class 0: 0.00%\n",
            "  Class 3: 49.07%\n",
            "Train Accuracy: 27.55%, Average Train Loss: 1.438982, Test Accuracy: 33.26%, Average Test Loss: 3.167199\n",
            "\n",
            "Epoch 75/200: "
          ]
        },
        {
          "output_type": "stream",
          "name": "stderr",
          "text": [
            "100%|██████████| 162/162 [00:01<00:00, 137.79it/s]\n",
            "Batch 162/162, Loss: 1.478142: 100%|██████████| 162/162 [00:01<00:00, 131.46it/s]\n"
          ]
        },
        {
          "output_type": "stream",
          "name": "stdout",
          "text": [
            "\n",
            "Class-wise Accuracy:\n",
            "  Class 1: 96.76%\n",
            "  Class 2: 0.62%\n",
            "  Class 0: 0.93%\n",
            "  Class 3: 4.63%\n",
            "Test Accuracy: 25.7%, Test Loss: 1.651370\n",
            "\n",
            "\n",
            "Class-wise Accuracy:\n",
            "  Class 1: 96.76%\n",
            "  Class 2: 0.62%\n",
            "  Class 0: 0.93%\n",
            "  Class 3: 4.63%\n",
            "Train Accuracy: 30.59%, Average Train Loss: 1.400741, Test Accuracy: 25.73%, Average Test Loss: 1.651370\n",
            "\n",
            "Epoch 76/200: "
          ]
        },
        {
          "output_type": "stream",
          "name": "stderr",
          "text": [
            "100%|██████████| 162/162 [00:01<00:00, 137.80it/s]\n",
            "Batch 162/162, Loss: 2.151538: 100%|██████████| 162/162 [00:01<00:00, 127.11it/s]\n"
          ]
        },
        {
          "output_type": "stream",
          "name": "stdout",
          "text": [
            "\n",
            "Class-wise Accuracy:\n",
            "  Class 1: 0.15%\n",
            "  Class 2: 94.29%\n",
            "  Class 0: 1.54%\n",
            "  Class 3: 3.70%\n",
            "Test Accuracy: 24.9%, Test Loss: 2.128447\n",
            "\n",
            "\n",
            "Class-wise Accuracy:\n",
            "  Class 1: 0.15%\n",
            "  Class 2: 94.29%\n",
            "  Class 0: 1.54%\n",
            "  Class 3: 3.70%\n",
            "Train Accuracy: 31.71%, Average Train Loss: 1.363463, Test Accuracy: 24.92%, Average Test Loss: 2.128447\n",
            "\n",
            "Epoch 77/200: "
          ]
        },
        {
          "output_type": "stream",
          "name": "stderr",
          "text": [
            "100%|██████████| 162/162 [00:01<00:00, 134.96it/s]\n",
            "Batch 162/162, Loss: 4.665560: 100%|██████████| 162/162 [00:01<00:00, 125.66it/s]\n"
          ]
        },
        {
          "output_type": "stream",
          "name": "stdout",
          "text": [
            "\n",
            "Class-wise Accuracy:\n",
            "  Class 1: 4.48%\n",
            "  Class 2: 0.00%\n",
            "  Class 0: 0.31%\n",
            "  Class 3: 91.67%\n",
            "Test Accuracy: 24.1%, Test Loss: 2.760804\n",
            "\n",
            "\n",
            "Class-wise Accuracy:\n",
            "  Class 1: 4.48%\n",
            "  Class 2: 0.00%\n",
            "  Class 0: 0.31%\n",
            "  Class 3: 91.67%\n",
            "Train Accuracy: 31.87%, Average Train Loss: 1.367914, Test Accuracy: 24.11%, Average Test Loss: 2.760804\n",
            "\n",
            "Epoch 78/200: "
          ]
        },
        {
          "output_type": "stream",
          "name": "stderr",
          "text": [
            "100%|██████████| 162/162 [00:01<00:00, 111.70it/s]\n",
            "Batch 162/162, Loss: 1.308786: 100%|██████████| 162/162 [00:01<00:00, 108.93it/s]\n"
          ]
        },
        {
          "output_type": "stream",
          "name": "stdout",
          "text": [
            "\n",
            "Class-wise Accuracy:\n",
            "  Class 1: 13.43%\n",
            "  Class 2: 0.00%\n",
            "  Class 0: 62.65%\n",
            "  Class 3: 34.26%\n",
            "Test Accuracy: 27.6%, Test Loss: 1.441810\n",
            "\n",
            "\n",
            "Class-wise Accuracy:\n",
            "  Class 1: 13.43%\n",
            "  Class 2: 0.00%\n",
            "  Class 0: 62.65%\n",
            "  Class 3: 34.26%\n",
            "Train Accuracy: 31.67%, Average Train Loss: 1.390800, Test Accuracy: 27.58%, Average Test Loss: 1.441810\n",
            "\n",
            "Epoch 79/200: "
          ]
        },
        {
          "output_type": "stream",
          "name": "stderr",
          "text": [
            "100%|██████████| 162/162 [00:01<00:00, 109.13it/s]\n",
            "Batch 162/162, Loss: 1.380440: 100%|██████████| 162/162 [00:01<00:00, 106.58it/s]\n"
          ]
        },
        {
          "output_type": "stream",
          "name": "stdout",
          "text": [
            "\n",
            "Class-wise Accuracy:\n",
            "  Class 1: 93.21%\n",
            "  Class 2: 0.00%\n",
            "  Class 0: 0.77%\n",
            "  Class 3: 9.10%\n",
            "Test Accuracy: 25.8%, Test Loss: 1.611421\n",
            "\n",
            "\n",
            "Class-wise Accuracy:\n",
            "  Class 1: 93.21%\n",
            "  Class 2: 0.00%\n",
            "  Class 0: 0.77%\n",
            "  Class 3: 9.10%\n",
            "Train Accuracy: 31.40%, Average Train Loss: 1.367246, Test Accuracy: 25.77%, Average Test Loss: 1.611421\n",
            "\n",
            "Epoch 80/200: "
          ]
        },
        {
          "output_type": "stream",
          "name": "stderr",
          "text": [
            "100%|██████████| 162/162 [00:01<00:00, 135.72it/s]\n",
            "Batch 162/162, Loss: 1.247811: 100%|██████████| 162/162 [00:01<00:00, 126.60it/s]\n"
          ]
        },
        {
          "output_type": "stream",
          "name": "stdout",
          "text": [
            "\n",
            "Class-wise Accuracy:\n",
            "  Class 1: 65.28%\n",
            "  Class 2: 24.38%\n",
            "  Class 0: 35.80%\n",
            "  Class 3: 6.17%\n",
            "Test Accuracy: 32.9%, Test Loss: 1.420235\n",
            "\n",
            "\n",
            "Class-wise Accuracy:\n",
            "  Class 1: 65.28%\n",
            "  Class 2: 24.38%\n",
            "  Class 0: 35.80%\n",
            "  Class 3: 6.17%\n",
            "Train Accuracy: 31.60%, Average Train Loss: 1.358774, Test Accuracy: 32.91%, Average Test Loss: 1.420235\n",
            "\n",
            "Epoch 81/200: "
          ]
        },
        {
          "output_type": "stream",
          "name": "stderr",
          "text": [
            "100%|██████████| 162/162 [00:01<00:00, 135.72it/s]\n",
            "Batch 162/162, Loss: 1.612337: 100%|██████████| 162/162 [00:01<00:00, 127.54it/s]\n"
          ]
        },
        {
          "output_type": "stream",
          "name": "stdout",
          "text": [
            "\n",
            "Class-wise Accuracy:\n",
            "  Class 1: 2.16%\n",
            "  Class 2: 8.02%\n",
            "  Class 0: 0.00%\n",
            "  Class 3: 92.28%\n",
            "Test Accuracy: 25.6%, Test Loss: 1.567588\n",
            "\n",
            "\n",
            "Class-wise Accuracy:\n",
            "  Class 1: 2.16%\n",
            "  Class 2: 8.02%\n",
            "  Class 0: 0.00%\n",
            "  Class 3: 92.28%\n",
            "Train Accuracy: 31.52%, Average Train Loss: 1.370582, Test Accuracy: 25.62%, Average Test Loss: 1.567588\n",
            "\n",
            "Epoch 82/200: "
          ]
        },
        {
          "output_type": "stream",
          "name": "stderr",
          "text": [
            "100%|██████████| 162/162 [00:01<00:00, 138.37it/s]\n",
            "Batch 162/162, Loss: 1.217808: 100%|██████████| 162/162 [00:01<00:00, 131.22it/s]\n"
          ]
        },
        {
          "output_type": "stream",
          "name": "stdout",
          "text": [
            "\n",
            "Class-wise Accuracy:\n",
            "  Class 1: 91.51%\n",
            "  Class 2: 8.49%\n",
            "  Class 0: 0.77%\n",
            "  Class 3: 16.05%\n",
            "Test Accuracy: 29.2%, Test Loss: 1.470599\n",
            "\n",
            "\n",
            "Class-wise Accuracy:\n",
            "  Class 1: 91.51%\n",
            "  Class 2: 8.49%\n",
            "  Class 0: 0.77%\n",
            "  Class 3: 16.05%\n",
            "Train Accuracy: 31.79%, Average Train Loss: 1.361649, Test Accuracy: 29.21%, Average Test Loss: 1.470599\n",
            "\n",
            "Epoch 83/200: "
          ]
        },
        {
          "output_type": "stream",
          "name": "stderr",
          "text": [
            "100%|██████████| 162/162 [00:01<00:00, 137.71it/s]\n",
            "Batch 162/162, Loss: 1.448713: 100%|██████████| 162/162 [00:01<00:00, 123.00it/s]\n"
          ]
        },
        {
          "output_type": "stream",
          "name": "stdout",
          "text": [
            "\n",
            "Class-wise Accuracy:\n",
            "  Class 1: 93.06%\n",
            "  Class 2: 3.40%\n",
            "  Class 0: 0.00%\n",
            "  Class 3: 8.64%\n",
            "Test Accuracy: 26.3%, Test Loss: 1.775853\n",
            "\n",
            "\n",
            "Class-wise Accuracy:\n",
            "  Class 1: 93.06%\n",
            "  Class 2: 3.40%\n",
            "  Class 0: 0.00%\n",
            "  Class 3: 8.64%\n",
            "Train Accuracy: 33.18%, Average Train Loss: 1.358762, Test Accuracy: 26.27%, Average Test Loss: 1.775853\n",
            "\n",
            "Epoch 84/200: "
          ]
        },
        {
          "output_type": "stream",
          "name": "stderr",
          "text": [
            "100%|██████████| 162/162 [00:01<00:00, 104.76it/s]\n",
            "Batch 162/162, Loss: 1.289580: 100%|██████████| 162/162 [00:01<00:00, 110.30it/s]\n"
          ]
        },
        {
          "output_type": "stream",
          "name": "stdout",
          "text": [
            "\n",
            "Class-wise Accuracy:\n",
            "  Class 1: 64.81%\n",
            "  Class 2: 25.93%\n",
            "  Class 0: 0.00%\n",
            "  Class 3: 42.13%\n",
            "Test Accuracy: 33.2%, Test Loss: 1.399252\n",
            "\n",
            "\n",
            "Class-wise Accuracy:\n",
            "  Class 1: 64.81%\n",
            "  Class 2: 25.93%\n",
            "  Class 0: 0.00%\n",
            "  Class 3: 42.13%\n",
            "Train Accuracy: 32.95%, Average Train Loss: 1.359650, Test Accuracy: 33.22%, Average Test Loss: 1.399252\n",
            "\n",
            "Epoch 85/200: "
          ]
        },
        {
          "output_type": "stream",
          "name": "stderr",
          "text": [
            "100%|██████████| 162/162 [00:01<00:00, 106.78it/s]\n",
            "Batch 162/162, Loss: 1.322436: 100%|██████████| 162/162 [00:01<00:00, 127.40it/s]\n"
          ]
        },
        {
          "output_type": "stream",
          "name": "stdout",
          "text": [
            "\n",
            "Class-wise Accuracy:\n",
            "  Class 1: 93.67%\n",
            "  Class 2: 0.00%\n",
            "  Class 0: 2.31%\n",
            "  Class 3: 16.20%\n",
            "Test Accuracy: 28.0%, Test Loss: 1.494893\n",
            "\n",
            "\n",
            "Class-wise Accuracy:\n",
            "  Class 1: 93.67%\n",
            "  Class 2: 0.00%\n",
            "  Class 0: 2.31%\n",
            "  Class 3: 16.20%\n",
            "Train Accuracy: 32.52%, Average Train Loss: 1.388898, Test Accuracy: 28.05%, Average Test Loss: 1.494893\n",
            "\n",
            "Epoch 86/200: "
          ]
        },
        {
          "output_type": "stream",
          "name": "stderr",
          "text": [
            "100%|██████████| 162/162 [00:01<00:00, 140.82it/s]\n",
            "Batch 162/162, Loss: 1.833373: 100%|██████████| 162/162 [00:01<00:00, 131.41it/s]\n"
          ]
        },
        {
          "output_type": "stream",
          "name": "stdout",
          "text": [
            "\n",
            "Class-wise Accuracy:\n",
            "  Class 1: 0.00%\n",
            "  Class 2: 0.15%\n",
            "  Class 0: 1.85%\n",
            "  Class 3: 94.44%\n",
            "Test Accuracy: 24.1%, Test Loss: 3.428510\n",
            "\n",
            "\n",
            "Class-wise Accuracy:\n",
            "  Class 1: 0.00%\n",
            "  Class 2: 0.15%\n",
            "  Class 0: 1.85%\n",
            "  Class 3: 94.44%\n",
            "Train Accuracy: 32.14%, Average Train Loss: 1.400535, Test Accuracy: 24.11%, Average Test Loss: 3.428510\n",
            "\n",
            "Epoch 87/200: "
          ]
        },
        {
          "output_type": "stream",
          "name": "stderr",
          "text": [
            "100%|██████████| 162/162 [00:01<00:00, 135.29it/s]\n",
            "Batch 162/162, Loss: 1.384623: 100%|██████████| 162/162 [00:01<00:00, 124.69it/s]\n"
          ]
        },
        {
          "output_type": "stream",
          "name": "stdout",
          "text": [
            "\n",
            "Class-wise Accuracy:\n",
            "  Class 1: 0.15%\n",
            "  Class 2: 71.45%\n",
            "  Class 0: 0.62%\n",
            "  Class 3: 54.78%\n",
            "Test Accuracy: 31.8%, Test Loss: 1.612221\n",
            "\n",
            "\n",
            "Class-wise Accuracy:\n",
            "  Class 1: 0.15%\n",
            "  Class 2: 71.45%\n",
            "  Class 0: 0.62%\n",
            "  Class 3: 54.78%\n",
            "Train Accuracy: 30.13%, Average Train Loss: 1.500459, Test Accuracy: 31.75%, Average Test Loss: 1.612221\n",
            "\n",
            "Epoch 88/200: "
          ]
        },
        {
          "output_type": "stream",
          "name": "stderr",
          "text": [
            "100%|██████████| 162/162 [00:01<00:00, 137.91it/s]\n",
            "Batch 162/162, Loss: 2.015965: 100%|██████████| 162/162 [00:01<00:00, 130.87it/s]\n"
          ]
        },
        {
          "output_type": "stream",
          "name": "stdout",
          "text": [
            "\n",
            "Class-wise Accuracy:\n",
            "  Class 1: 4.63%\n",
            "  Class 2: 1.08%\n",
            "  Class 0: 0.00%\n",
            "  Class 3: 91.05%\n",
            "Test Accuracy: 24.2%, Test Loss: 1.760573\n",
            "\n",
            "\n",
            "Class-wise Accuracy:\n",
            "  Class 1: 4.63%\n",
            "  Class 2: 1.08%\n",
            "  Class 0: 0.00%\n",
            "  Class 3: 91.05%\n",
            "Train Accuracy: 31.52%, Average Train Loss: 1.370728, Test Accuracy: 24.19%, Average Test Loss: 1.760573\n",
            "\n",
            "Epoch 89/200: "
          ]
        },
        {
          "output_type": "stream",
          "name": "stderr",
          "text": [
            "100%|██████████| 162/162 [00:01<00:00, 139.45it/s]\n",
            "Batch 162/162, Loss: 1.829544: 100%|██████████| 162/162 [00:01<00:00, 110.83it/s]\n"
          ]
        },
        {
          "output_type": "stream",
          "name": "stdout",
          "text": [
            "\n",
            "Class-wise Accuracy:\n",
            "  Class 1: 1.54%\n",
            "  Class 2: 52.62%\n",
            "  Class 0: 0.00%\n",
            "  Class 3: 66.98%\n",
            "Test Accuracy: 30.3%, Test Loss: 1.408812\n",
            "\n",
            "\n",
            "Class-wise Accuracy:\n",
            "  Class 1: 1.54%\n",
            "  Class 2: 52.62%\n",
            "  Class 0: 0.00%\n",
            "  Class 3: 66.98%\n",
            "Train Accuracy: 32.48%, Average Train Loss: 1.453027, Test Accuracy: 30.29%, Average Test Loss: 1.408812\n",
            "\n",
            "Epoch 90/200: "
          ]
        },
        {
          "output_type": "stream",
          "name": "stderr",
          "text": [
            "100%|██████████| 162/162 [00:01<00:00, 107.82it/s]\n",
            "Batch 162/162, Loss: 2.491578: 100%|██████████| 162/162 [00:01<00:00, 109.66it/s]\n"
          ]
        },
        {
          "output_type": "stream",
          "name": "stdout",
          "text": [
            "\n",
            "Class-wise Accuracy:\n",
            "  Class 1: 4.63%\n",
            "  Class 2: 1.54%\n",
            "  Class 0: 0.00%\n",
            "  Class 3: 94.75%\n",
            "Test Accuracy: 25.2%, Test Loss: 1.594983\n",
            "\n",
            "\n",
            "Class-wise Accuracy:\n",
            "  Class 1: 4.63%\n",
            "  Class 2: 1.54%\n",
            "  Class 0: 0.00%\n",
            "  Class 3: 94.75%\n",
            "Train Accuracy: 33.14%, Average Train Loss: 1.351083, Test Accuracy: 25.23%, Average Test Loss: 1.594983\n",
            "\n",
            "Epoch 91/200: "
          ]
        },
        {
          "output_type": "stream",
          "name": "stderr",
          "text": [
            "100%|██████████| 162/162 [00:01<00:00, 117.66it/s]\n",
            "Batch 162/162, Loss: 1.699570: 100%|██████████| 162/162 [00:01<00:00, 130.04it/s]\n"
          ]
        },
        {
          "output_type": "stream",
          "name": "stdout",
          "text": [
            "\n",
            "Class-wise Accuracy:\n",
            "  Class 1: 93.67%\n",
            "  Class 2: 2.01%\n",
            "  Class 0: 1.54%\n",
            "  Class 3: 9.41%\n",
            "Test Accuracy: 26.7%, Test Loss: 1.699288\n",
            "\n",
            "\n",
            "Class-wise Accuracy:\n",
            "  Class 1: 93.67%\n",
            "  Class 2: 2.01%\n",
            "  Class 0: 1.54%\n",
            "  Class 3: 9.41%\n",
            "Train Accuracy: 33.76%, Average Train Loss: 1.342116, Test Accuracy: 26.66%, Average Test Loss: 1.699288\n",
            "\n",
            "Epoch 92/200: "
          ]
        },
        {
          "output_type": "stream",
          "name": "stderr",
          "text": [
            "100%|██████████| 162/162 [00:01<00:00, 137.38it/s]\n",
            "Batch 162/162, Loss: 1.851860: 100%|██████████| 162/162 [00:01<00:00, 127.90it/s]\n"
          ]
        },
        {
          "output_type": "stream",
          "name": "stdout",
          "text": [
            "\n",
            "Class-wise Accuracy:\n",
            "  Class 1: 6.64%\n",
            "  Class 2: 6.33%\n",
            "  Class 0: 6.17%\n",
            "  Class 3: 85.65%\n",
            "Test Accuracy: 26.2%, Test Loss: 1.522127\n",
            "\n",
            "\n",
            "Class-wise Accuracy:\n",
            "  Class 1: 6.64%\n",
            "  Class 2: 6.33%\n",
            "  Class 0: 6.17%\n",
            "  Class 3: 85.65%\n",
            "Train Accuracy: 34.22%, Average Train Loss: 1.344813, Test Accuracy: 26.20%, Average Test Loss: 1.522127\n",
            "\n",
            "Epoch 93/200: "
          ]
        },
        {
          "output_type": "stream",
          "name": "stderr",
          "text": [
            "100%|██████████| 162/162 [00:01<00:00, 141.20it/s]\n",
            "Batch 162/162, Loss: 2.171205: 100%|██████████| 162/162 [00:01<00:00, 132.01it/s]\n"
          ]
        },
        {
          "output_type": "stream",
          "name": "stdout",
          "text": [
            "\n",
            "Class-wise Accuracy:\n",
            "  Class 1: 89.35%\n",
            "  Class 2: 8.64%\n",
            "  Class 0: 5.40%\n",
            "  Class 3: 14.97%\n",
            "Test Accuracy: 29.6%, Test Loss: 1.564577\n",
            "\n",
            "\n",
            "Class-wise Accuracy:\n",
            "  Class 1: 89.35%\n",
            "  Class 2: 8.64%\n",
            "  Class 0: 5.40%\n",
            "  Class 3: 14.97%\n",
            "Train Accuracy: 35.22%, Average Train Loss: 1.332052, Test Accuracy: 29.59%, Average Test Loss: 1.564577\n",
            "\n",
            "Epoch 94/200: "
          ]
        },
        {
          "output_type": "stream",
          "name": "stderr",
          "text": [
            "100%|██████████| 162/162 [00:01<00:00, 119.98it/s]\n",
            "Batch 162/162, Loss: 1.259404: 100%|██████████| 162/162 [00:01<00:00, 112.86it/s]\n"
          ]
        },
        {
          "output_type": "stream",
          "name": "stdout",
          "text": [
            "\n",
            "Class-wise Accuracy:\n",
            "  Class 1: 45.22%\n",
            "  Class 2: 14.66%\n",
            "  Class 0: 0.31%\n",
            "  Class 3: 68.67%\n",
            "Test Accuracy: 32.2%, Test Loss: 1.357503\n",
            "\n",
            "\n",
            "Class-wise Accuracy:\n",
            "  Class 1: 45.22%\n",
            "  Class 2: 14.66%\n",
            "  Class 0: 0.31%\n",
            "  Class 3: 68.67%\n",
            "Train Accuracy: 32.64%, Average Train Loss: 1.371372, Test Accuracy: 32.21%, Average Test Loss: 1.357503\n",
            "\n",
            "Epoch 95/200: "
          ]
        },
        {
          "output_type": "stream",
          "name": "stderr",
          "text": [
            "100%|██████████| 162/162 [00:01<00:00, 97.50it/s]\n",
            "Batch 162/162, Loss: 2.300777: 100%|██████████| 162/162 [00:01<00:00, 101.25it/s]\n"
          ]
        },
        {
          "output_type": "stream",
          "name": "stdout",
          "text": [
            "\n",
            "Class-wise Accuracy:\n",
            "  Class 1: 49.69%\n",
            "  Class 2: 31.33%\n",
            "  Class 0: 2.16%\n",
            "  Class 3: 40.74%\n",
            "Test Accuracy: 31.0%, Test Loss: 1.746283\n",
            "\n",
            "\n",
            "Class-wise Accuracy:\n",
            "  Class 1: 49.69%\n",
            "  Class 2: 31.33%\n",
            "  Class 0: 2.16%\n",
            "  Class 3: 40.74%\n",
            "Train Accuracy: 31.02%, Average Train Loss: 1.418543, Test Accuracy: 30.98%, Average Test Loss: 1.746283\n",
            "\n",
            "Epoch 96/200: "
          ]
        },
        {
          "output_type": "stream",
          "name": "stderr",
          "text": [
            "100%|██████████| 162/162 [00:01<00:00, 98.22it/s] \n",
            "Batch 162/162, Loss: 1.605774: 100%|██████████| 162/162 [00:01<00:00, 115.82it/s]\n"
          ]
        },
        {
          "output_type": "stream",
          "name": "stdout",
          "text": [
            "\n",
            "Class-wise Accuracy:\n",
            "  Class 1: 27.16%\n",
            "  Class 2: 2.78%\n",
            "  Class 0: 2.93%\n",
            "  Class 3: 82.10%\n",
            "Test Accuracy: 28.7%, Test Loss: 1.495892\n",
            "\n",
            "\n",
            "Class-wise Accuracy:\n",
            "  Class 1: 27.16%\n",
            "  Class 2: 2.78%\n",
            "  Class 0: 2.93%\n",
            "  Class 3: 82.10%\n",
            "Train Accuracy: 32.72%, Average Train Loss: 1.378643, Test Accuracy: 28.74%, Average Test Loss: 1.495892\n",
            "\n",
            "Epoch 97/200: "
          ]
        },
        {
          "output_type": "stream",
          "name": "stderr",
          "text": [
            "100%|██████████| 162/162 [00:01<00:00, 108.25it/s]\n",
            "Batch 162/162, Loss: 1.200644: 100%|██████████| 162/162 [00:01<00:00, 129.74it/s]\n"
          ]
        },
        {
          "output_type": "stream",
          "name": "stdout",
          "text": [
            "\n",
            "Class-wise Accuracy:\n",
            "  Class 1: 90.59%\n",
            "  Class 2: 0.93%\n",
            "  Class 0: 17.59%\n",
            "  Class 3: 10.65%\n",
            "Test Accuracy: 29.9%, Test Loss: 1.572423\n",
            "\n",
            "\n",
            "Class-wise Accuracy:\n",
            "  Class 1: 90.59%\n",
            "  Class 2: 0.93%\n",
            "  Class 0: 17.59%\n",
            "  Class 3: 10.65%\n",
            "Train Accuracy: 33.87%, Average Train Loss: 1.328974, Test Accuracy: 29.94%, Average Test Loss: 1.572423\n",
            "\n",
            "Epoch 98/200: "
          ]
        },
        {
          "output_type": "stream",
          "name": "stderr",
          "text": [
            "100%|██████████| 162/162 [00:01<00:00, 137.51it/s]\n",
            "Batch 162/162, Loss: 1.628014: 100%|██████████| 162/162 [00:01<00:00, 125.45it/s]\n"
          ]
        },
        {
          "output_type": "stream",
          "name": "stdout",
          "text": [
            "\n",
            "Class-wise Accuracy:\n",
            "  Class 1: 3.86%\n",
            "  Class 2: 16.98%\n",
            "  Class 0: 1.23%\n",
            "  Class 3: 87.19%\n",
            "Test Accuracy: 27.3%, Test Loss: 1.505544\n",
            "\n",
            "\n",
            "Class-wise Accuracy:\n",
            "  Class 1: 3.86%\n",
            "  Class 2: 16.98%\n",
            "  Class 0: 1.23%\n",
            "  Class 3: 87.19%\n",
            "Train Accuracy: 32.79%, Average Train Loss: 1.339052, Test Accuracy: 27.31%, Average Test Loss: 1.505544\n",
            "\n",
            "Epoch 99/200: "
          ]
        },
        {
          "output_type": "stream",
          "name": "stderr",
          "text": [
            "100%|██████████| 162/162 [00:01<00:00, 141.60it/s]\n",
            "Batch 162/162, Loss: 1.166990: 100%|██████████| 162/162 [00:01<00:00, 131.77it/s]\n"
          ]
        },
        {
          "output_type": "stream",
          "name": "stdout",
          "text": [
            "\n",
            "Class-wise Accuracy:\n",
            "  Class 1: 65.90%\n",
            "  Class 2: 0.00%\n",
            "  Class 0: 41.51%\n",
            "  Class 3: 26.70%\n",
            "Test Accuracy: 33.5%, Test Loss: 1.457237\n",
            "\n",
            "\n",
            "Class-wise Accuracy:\n",
            "  Class 1: 65.90%\n",
            "  Class 2: 0.00%\n",
            "  Class 0: 41.51%\n",
            "  Class 3: 26.70%\n",
            "Train Accuracy: 32.91%, Average Train Loss: 1.323264, Test Accuracy: 33.53%, Average Test Loss: 1.457237\n",
            "\n",
            "Epoch 100/200: "
          ]
        },
        {
          "output_type": "stream",
          "name": "stderr",
          "text": [
            "100%|██████████| 162/162 [00:01<00:00, 136.08it/s]\n",
            "Batch 162/162, Loss: 1.742803: 100%|██████████| 162/162 [00:01<00:00, 128.55it/s]\n"
          ]
        },
        {
          "output_type": "stream",
          "name": "stdout",
          "text": [
            "\n",
            "Class-wise Accuracy:\n",
            "  Class 1: 2.62%\n",
            "  Class 2: 1.85%\n",
            "  Class 0: 0.31%\n",
            "  Class 3: 93.21%\n",
            "Test Accuracy: 24.5%, Test Loss: 1.660490\n",
            "\n",
            "\n",
            "Class-wise Accuracy:\n",
            "  Class 1: 2.62%\n",
            "  Class 2: 1.85%\n",
            "  Class 0: 0.31%\n",
            "  Class 3: 93.21%\n",
            "Train Accuracy: 33.87%, Average Train Loss: 1.333011, Test Accuracy: 24.50%, Average Test Loss: 1.660490\n",
            "\n",
            "Epoch 101/200: "
          ]
        },
        {
          "output_type": "stream",
          "name": "stderr",
          "text": [
            "100%|██████████| 162/162 [00:01<00:00, 130.67it/s]\n",
            "Batch 162/162, Loss: 1.304240: 100%|██████████| 162/162 [00:01<00:00, 113.84it/s]\n"
          ]
        },
        {
          "output_type": "stream",
          "name": "stdout",
          "text": [
            "\n",
            "Class-wise Accuracy:\n",
            "  Class 1: 50.31%\n",
            "  Class 2: 1.70%\n",
            "  Class 0: 2.62%\n",
            "  Class 3: 76.08%\n",
            "Test Accuracy: 32.7%, Test Loss: 1.547679\n",
            "\n",
            "\n",
            "Class-wise Accuracy:\n",
            "  Class 1: 50.31%\n",
            "  Class 2: 1.70%\n",
            "  Class 0: 2.62%\n",
            "  Class 3: 76.08%\n",
            "Train Accuracy: 35.38%, Average Train Loss: 1.328674, Test Accuracy: 32.68%, Average Test Loss: 1.547679\n",
            "\n",
            "Epoch 102/200: "
          ]
        },
        {
          "output_type": "stream",
          "name": "stderr",
          "text": [
            "100%|██████████| 162/162 [00:01<00:00, 114.64it/s]\n",
            "Batch 162/162, Loss: 2.138641: 100%|██████████| 162/162 [00:01<00:00, 99.94it/s]\n"
          ]
        },
        {
          "output_type": "stream",
          "name": "stdout",
          "text": [
            "\n",
            "Class-wise Accuracy:\n",
            "  Class 1: 1.70%\n",
            "  Class 2: 0.31%\n",
            "  Class 0: 0.00%\n",
            "  Class 3: 96.45%\n",
            "Test Accuracy: 24.6%, Test Loss: 2.003665\n",
            "\n",
            "\n",
            "Class-wise Accuracy:\n",
            "  Class 1: 1.70%\n",
            "  Class 2: 0.31%\n",
            "  Class 0: 0.00%\n",
            "  Class 3: 96.45%\n",
            "Train Accuracy: 33.80%, Average Train Loss: 1.329081, Test Accuracy: 24.61%, Average Test Loss: 2.003665\n",
            "\n",
            "Epoch 103/200: "
          ]
        },
        {
          "output_type": "stream",
          "name": "stderr",
          "text": [
            "100%|██████████| 162/162 [00:01<00:00, 143.47it/s]\n",
            "Batch 162/162, Loss: 1.602670: 100%|██████████| 162/162 [00:01<00:00, 127.35it/s]\n"
          ]
        },
        {
          "output_type": "stream",
          "name": "stdout",
          "text": [
            "\n",
            "Class-wise Accuracy:\n",
            "  Class 1: 28.09%\n",
            "  Class 2: 45.68%\n",
            "  Class 0: 8.02%\n",
            "  Class 3: 52.31%\n",
            "Test Accuracy: 33.5%, Test Loss: 1.439902\n",
            "\n",
            "\n",
            "Class-wise Accuracy:\n",
            "  Class 1: 28.09%\n",
            "  Class 2: 45.68%\n",
            "  Class 0: 8.02%\n",
            "  Class 3: 52.31%\n",
            "Train Accuracy: 34.53%, Average Train Loss: 1.322169, Test Accuracy: 33.53%, Average Test Loss: 1.439902\n",
            "\n",
            "Epoch 104/200: "
          ]
        },
        {
          "output_type": "stream",
          "name": "stderr",
          "text": [
            "100%|██████████| 162/162 [00:01<00:00, 138.41it/s]\n",
            "Batch 162/162, Loss: 1.321878: 100%|██████████| 162/162 [00:01<00:00, 124.87it/s]\n"
          ]
        },
        {
          "output_type": "stream",
          "name": "stdout",
          "text": [
            "\n",
            "Class-wise Accuracy:\n",
            "  Class 1: 0.00%\n",
            "  Class 2: 93.21%\n",
            "  Class 0: 2.62%\n",
            "  Class 3: 23.61%\n",
            "Test Accuracy: 29.9%, Test Loss: 1.519080\n",
            "\n",
            "\n",
            "Class-wise Accuracy:\n",
            "  Class 1: 0.00%\n",
            "  Class 2: 93.21%\n",
            "  Class 0: 2.62%\n",
            "  Class 3: 23.61%\n",
            "Train Accuracy: 35.80%, Average Train Loss: 1.308854, Test Accuracy: 29.86%, Average Test Loss: 1.519080\n",
            "\n",
            "Epoch 105/200: "
          ]
        },
        {
          "output_type": "stream",
          "name": "stderr",
          "text": [
            "100%|██████████| 162/162 [00:01<00:00, 144.03it/s]\n",
            "Batch 162/162, Loss: 1.632706: 100%|██████████| 162/162 [00:01<00:00, 131.20it/s]\n"
          ]
        },
        {
          "output_type": "stream",
          "name": "stdout",
          "text": [
            "\n",
            "Class-wise Accuracy:\n",
            "  Class 1: 1.39%\n",
            "  Class 2: 1.54%\n",
            "  Class 0: 1.23%\n",
            "  Class 3: 93.83%\n",
            "Test Accuracy: 24.5%, Test Loss: 1.724623\n",
            "\n",
            "\n",
            "Class-wise Accuracy:\n",
            "  Class 1: 1.39%\n",
            "  Class 2: 1.54%\n",
            "  Class 0: 1.23%\n",
            "  Class 3: 93.83%\n",
            "Train Accuracy: 36.07%, Average Train Loss: 1.308972, Test Accuracy: 24.50%, Average Test Loss: 1.724623\n",
            "\n",
            "Epoch 106/200: "
          ]
        },
        {
          "output_type": "stream",
          "name": "stderr",
          "text": [
            "100%|██████████| 162/162 [00:01<00:00, 138.14it/s]\n",
            "Batch 162/162, Loss: 1.635110: 100%|██████████| 162/162 [00:01<00:00, 128.32it/s]\n"
          ]
        },
        {
          "output_type": "stream",
          "name": "stdout",
          "text": [
            "\n",
            "Class-wise Accuracy:\n",
            "  Class 1: 3.40%\n",
            "  Class 2: 80.86%\n",
            "  Class 0: 6.94%\n",
            "  Class 3: 45.83%\n",
            "Test Accuracy: 34.3%, Test Loss: 1.405759\n",
            "\n",
            "\n",
            "Class-wise Accuracy:\n",
            "  Class 1: 3.40%\n",
            "  Class 2: 80.86%\n",
            "  Class 0: 6.94%\n",
            "  Class 3: 45.83%\n",
            "Train Accuracy: 34.10%, Average Train Loss: 1.310718, Test Accuracy: 34.26%, Average Test Loss: 1.405759\n",
            "\n",
            "Epoch 107/200: "
          ]
        },
        {
          "output_type": "stream",
          "name": "stderr",
          "text": [
            "100%|██████████| 162/162 [00:01<00:00, 114.34it/s]\n",
            "Batch 162/162, Loss: 1.955373: 100%|██████████| 162/162 [00:01<00:00, 112.48it/s]\n"
          ]
        },
        {
          "output_type": "stream",
          "name": "stdout",
          "text": [
            "\n",
            "Class-wise Accuracy:\n",
            "  Class 1: 0.00%\n",
            "  Class 2: 36.88%\n",
            "  Class 0: 2.78%\n",
            "  Class 3: 81.48%\n",
            "Test Accuracy: 30.3%, Test Loss: 1.433005\n",
            "\n",
            "\n",
            "Class-wise Accuracy:\n",
            "  Class 1: 0.00%\n",
            "  Class 2: 36.88%\n",
            "  Class 0: 2.78%\n",
            "  Class 3: 81.48%\n",
            "Train Accuracy: 35.61%, Average Train Loss: 1.310327, Test Accuracy: 30.29%, Average Test Loss: 1.433005\n",
            "\n",
            "Epoch 108/200: "
          ]
        },
        {
          "output_type": "stream",
          "name": "stderr",
          "text": [
            "100%|██████████| 162/162 [00:01<00:00, 111.25it/s]\n",
            "Batch 162/162, Loss: 1.820198: 100%|██████████| 162/162 [00:01<00:00, 116.82it/s]\n"
          ]
        },
        {
          "output_type": "stream",
          "name": "stdout",
          "text": [
            "\n",
            "Class-wise Accuracy:\n",
            "  Class 1: 2.62%\n",
            "  Class 2: 1.54%\n",
            "  Class 0: 2.78%\n",
            "  Class 3: 90.59%\n",
            "Test Accuracy: 24.4%, Test Loss: 1.716582\n",
            "\n",
            "\n",
            "Class-wise Accuracy:\n",
            "  Class 1: 2.62%\n",
            "  Class 2: 1.54%\n",
            "  Class 0: 2.78%\n",
            "  Class 3: 90.59%\n",
            "Train Accuracy: 35.76%, Average Train Loss: 1.316598, Test Accuracy: 24.38%, Average Test Loss: 1.716582\n",
            "\n",
            "Epoch 109/200: "
          ]
        },
        {
          "output_type": "stream",
          "name": "stderr",
          "text": [
            "100%|██████████| 162/162 [00:01<00:00, 135.33it/s]\n",
            "Batch 162/162, Loss: 1.472615: 100%|██████████| 162/162 [00:01<00:00, 131.11it/s]\n"
          ]
        },
        {
          "output_type": "stream",
          "name": "stdout",
          "text": [
            "\n",
            "Class-wise Accuracy:\n",
            "  Class 1: 23.46%\n",
            "  Class 2: 55.09%\n",
            "  Class 0: 4.01%\n",
            "  Class 3: 55.56%\n",
            "Test Accuracy: 34.5%, Test Loss: 1.340346\n",
            "\n",
            "\n",
            "Class-wise Accuracy:\n",
            "  Class 1: 23.46%\n",
            "  Class 2: 55.09%\n",
            "  Class 0: 4.01%\n",
            "  Class 3: 55.56%\n",
            "Train Accuracy: 35.49%, Average Train Loss: 1.306599, Test Accuracy: 34.53%, Average Test Loss: 1.340346\n",
            "\n",
            "Epoch 110/200: "
          ]
        },
        {
          "output_type": "stream",
          "name": "stderr",
          "text": [
            "100%|██████████| 162/162 [00:01<00:00, 139.11it/s]\n",
            "Batch 162/162, Loss: 1.822888: 100%|██████████| 162/162 [00:01<00:00, 129.87it/s]\n"
          ]
        },
        {
          "output_type": "stream",
          "name": "stdout",
          "text": [
            "\n",
            "Class-wise Accuracy:\n",
            "  Class 1: 88.12%\n",
            "  Class 2: 0.00%\n",
            "  Class 0: 8.95%\n",
            "  Class 3: 35.34%\n",
            "Test Accuracy: 33.1%, Test Loss: 1.424381\n",
            "\n",
            "\n",
            "Class-wise Accuracy:\n",
            "  Class 1: 88.12%\n",
            "  Class 2: 0.00%\n",
            "  Class 0: 8.95%\n",
            "  Class 3: 35.34%\n",
            "Train Accuracy: 33.68%, Average Train Loss: 1.302137, Test Accuracy: 33.10%, Average Test Loss: 1.424381\n",
            "\n",
            "Epoch 111/200: "
          ]
        },
        {
          "output_type": "stream",
          "name": "stderr",
          "text": [
            "100%|██████████| 162/162 [00:01<00:00, 137.35it/s]\n",
            "Batch 162/162, Loss: 1.953647: 100%|██████████| 162/162 [00:01<00:00, 127.68it/s]\n"
          ]
        },
        {
          "output_type": "stream",
          "name": "stdout",
          "text": [
            "\n",
            "Class-wise Accuracy:\n",
            "  Class 1: 12.04%\n",
            "  Class 2: 10.03%\n",
            "  Class 0: 0.93%\n",
            "  Class 3: 90.12%\n",
            "Test Accuracy: 28.3%, Test Loss: 1.456520\n",
            "\n",
            "\n",
            "Class-wise Accuracy:\n",
            "  Class 1: 12.04%\n",
            "  Class 2: 10.03%\n",
            "  Class 0: 0.93%\n",
            "  Class 3: 90.12%\n",
            "Train Accuracy: 36.15%, Average Train Loss: 1.304218, Test Accuracy: 28.28%, Average Test Loss: 1.456520\n",
            "\n",
            "Epoch 112/200: "
          ]
        },
        {
          "output_type": "stream",
          "name": "stderr",
          "text": [
            "100%|██████████| 162/162 [00:01<00:00, 137.90it/s]\n",
            "Batch 162/162, Loss: 2.627069: 100%|██████████| 162/162 [00:01<00:00, 123.27it/s]\n"
          ]
        },
        {
          "output_type": "stream",
          "name": "stdout",
          "text": [
            "\n",
            "Class-wise Accuracy:\n",
            "  Class 1: 8.02%\n",
            "  Class 2: 4.48%\n",
            "  Class 0: 2.93%\n",
            "  Class 3: 91.20%\n",
            "Test Accuracy: 26.7%, Test Loss: 1.757741\n",
            "\n",
            "\n",
            "Class-wise Accuracy:\n",
            "  Class 1: 8.02%\n",
            "  Class 2: 4.48%\n",
            "  Class 0: 2.93%\n",
            "  Class 3: 91.20%\n",
            "Train Accuracy: 34.14%, Average Train Loss: 1.303816, Test Accuracy: 26.66%, Average Test Loss: 1.757741\n",
            "\n",
            "Epoch 113/200: "
          ]
        },
        {
          "output_type": "stream",
          "name": "stderr",
          "text": [
            "100%|██████████| 162/162 [00:01<00:00, 106.07it/s]\n",
            "Batch 162/162, Loss: 1.356373: 100%|██████████| 162/162 [00:01<00:00, 106.40it/s]\n"
          ]
        },
        {
          "output_type": "stream",
          "name": "stdout",
          "text": [
            "\n",
            "Class-wise Accuracy:\n",
            "  Class 1: 51.08%\n",
            "  Class 2: 18.98%\n",
            "  Class 0: 5.40%\n",
            "  Class 3: 60.34%\n",
            "Test Accuracy: 34.0%, Test Loss: 1.323313\n",
            "\n",
            "\n",
            "Class-wise Accuracy:\n",
            "  Class 1: 51.08%\n",
            "  Class 2: 18.98%\n",
            "  Class 0: 5.40%\n",
            "  Class 3: 60.34%\n",
            "Train Accuracy: 36.07%, Average Train Loss: 1.302275, Test Accuracy: 33.95%, Average Test Loss: 1.323313\n",
            "\n",
            "Epoch 114/200: "
          ]
        },
        {
          "output_type": "stream",
          "name": "stderr",
          "text": [
            "100%|██████████| 162/162 [00:01<00:00, 106.72it/s]\n",
            "Batch 162/162, Loss: 1.419749: 100%|██████████| 162/162 [00:01<00:00, 126.43it/s]\n"
          ]
        },
        {
          "output_type": "stream",
          "name": "stdout",
          "text": [
            "\n",
            "Class-wise Accuracy:\n",
            "  Class 1: 13.43%\n",
            "  Class 2: 2.78%\n",
            "  Class 0: 7.25%\n",
            "  Class 3: 91.20%\n",
            "Test Accuracy: 28.7%, Test Loss: 1.471021\n",
            "\n",
            "\n",
            "Class-wise Accuracy:\n",
            "  Class 1: 13.43%\n",
            "  Class 2: 2.78%\n",
            "  Class 0: 7.25%\n",
            "  Class 3: 91.20%\n",
            "Train Accuracy: 34.45%, Average Train Loss: 1.305538, Test Accuracy: 28.67%, Average Test Loss: 1.471021\n",
            "\n",
            "Epoch 115/200: "
          ]
        },
        {
          "output_type": "stream",
          "name": "stderr",
          "text": [
            "100%|██████████| 162/162 [00:01<00:00, 136.41it/s]\n",
            "Batch 162/162, Loss: 1.299855: 100%|██████████| 162/162 [00:01<00:00, 123.95it/s]\n"
          ]
        },
        {
          "output_type": "stream",
          "name": "stdout",
          "text": [
            "\n",
            "Class-wise Accuracy:\n",
            "  Class 1: 5.40%\n",
            "  Class 2: 73.61%\n",
            "  Class 0: 13.27%\n",
            "  Class 3: 45.68%\n",
            "Test Accuracy: 34.5%, Test Loss: 1.327830\n",
            "\n",
            "\n",
            "Class-wise Accuracy:\n",
            "  Class 1: 5.40%\n",
            "  Class 2: 73.61%\n",
            "  Class 0: 13.27%\n",
            "  Class 3: 45.68%\n",
            "Train Accuracy: 35.57%, Average Train Loss: 1.300499, Test Accuracy: 34.49%, Average Test Loss: 1.327830\n",
            "\n",
            "Epoch 116/200: "
          ]
        },
        {
          "output_type": "stream",
          "name": "stderr",
          "text": [
            "100%|██████████| 162/162 [00:01<00:00, 142.46it/s]\n",
            "Batch 162/162, Loss: 1.279278: 100%|██████████| 162/162 [00:01<00:00, 126.86it/s]\n"
          ]
        },
        {
          "output_type": "stream",
          "name": "stdout",
          "text": [
            "\n",
            "Class-wise Accuracy:\n",
            "  Class 1: 16.36%\n",
            "  Class 2: 54.94%\n",
            "  Class 0: 14.97%\n",
            "  Class 3: 52.78%\n",
            "Test Accuracy: 34.8%, Test Loss: 1.321917\n",
            "\n",
            "\n",
            "Class-wise Accuracy:\n",
            "  Class 1: 16.36%\n",
            "  Class 2: 54.94%\n",
            "  Class 0: 14.97%\n",
            "  Class 3: 52.78%\n",
            "Train Accuracy: 34.34%, Average Train Loss: 1.290392, Test Accuracy: 34.76%, Average Test Loss: 1.321917\n",
            "\n",
            "Epoch 117/200: "
          ]
        },
        {
          "output_type": "stream",
          "name": "stderr",
          "text": [
            "100%|██████████| 162/162 [00:01<00:00, 134.31it/s]\n",
            "Batch 162/162, Loss: 1.414677: 100%|██████████| 162/162 [00:01<00:00, 124.06it/s]\n"
          ]
        },
        {
          "output_type": "stream",
          "name": "stdout",
          "text": [
            "\n",
            "Class-wise Accuracy:\n",
            "  Class 1: 5.71%\n",
            "  Class 2: 1.54%\n",
            "  Class 0: 3.24%\n",
            "  Class 3: 95.06%\n",
            "Test Accuracy: 26.4%, Test Loss: 1.508241\n",
            "\n",
            "\n",
            "Class-wise Accuracy:\n",
            "  Class 1: 5.71%\n",
            "  Class 2: 1.54%\n",
            "  Class 0: 3.24%\n",
            "  Class 3: 95.06%\n",
            "Train Accuracy: 36.50%, Average Train Loss: 1.288051, Test Accuracy: 26.39%, Average Test Loss: 1.508241\n",
            "\n",
            "Epoch 118/200: "
          ]
        },
        {
          "output_type": "stream",
          "name": "stderr",
          "text": [
            "100%|██████████| 162/162 [00:01<00:00, 138.52it/s]\n",
            "Batch 162/162, Loss: 1.297880: 100%|██████████| 162/162 [00:01<00:00, 112.99it/s]\n"
          ]
        },
        {
          "output_type": "stream",
          "name": "stdout",
          "text": [
            "\n",
            "Class-wise Accuracy:\n",
            "  Class 1: 12.96%\n",
            "  Class 2: 65.12%\n",
            "  Class 0: 17.90%\n",
            "  Class 3: 42.13%\n",
            "Test Accuracy: 34.5%, Test Loss: 1.511916\n",
            "\n",
            "\n",
            "Class-wise Accuracy:\n",
            "  Class 1: 12.96%\n",
            "  Class 2: 65.12%\n",
            "  Class 0: 17.90%\n",
            "  Class 3: 42.13%\n",
            "Train Accuracy: 35.69%, Average Train Loss: 1.300344, Test Accuracy: 34.53%, Average Test Loss: 1.511916\n",
            "\n",
            "Epoch 119/200: "
          ]
        },
        {
          "output_type": "stream",
          "name": "stderr",
          "text": [
            "100%|██████████| 162/162 [00:01<00:00, 104.48it/s]\n",
            "Batch 162/162, Loss: 1.292109: 100%|██████████| 162/162 [00:01<00:00, 108.56it/s]\n"
          ]
        },
        {
          "output_type": "stream",
          "name": "stdout",
          "text": [
            "\n",
            "Class-wise Accuracy:\n",
            "  Class 1: 45.52%\n",
            "  Class 2: 2.16%\n",
            "  Class 0: 7.25%\n",
            "  Class 3: 74.54%\n",
            "Test Accuracy: 32.4%, Test Loss: 1.784068\n",
            "\n",
            "\n",
            "Class-wise Accuracy:\n",
            "  Class 1: 45.52%\n",
            "  Class 2: 2.16%\n",
            "  Class 0: 7.25%\n",
            "  Class 3: 74.54%\n",
            "Train Accuracy: 37.08%, Average Train Loss: 1.291879, Test Accuracy: 32.37%, Average Test Loss: 1.784068\n",
            "\n",
            "Epoch 120/200: "
          ]
        },
        {
          "output_type": "stream",
          "name": "stderr",
          "text": [
            "100%|██████████| 162/162 [00:01<00:00, 112.91it/s]\n",
            "Batch 162/162, Loss: 1.325198: 100%|██████████| 162/162 [00:01<00:00, 125.11it/s]\n"
          ]
        },
        {
          "output_type": "stream",
          "name": "stdout",
          "text": [
            "\n",
            "Class-wise Accuracy:\n",
            "  Class 1: 67.28%\n",
            "  Class 2: 2.16%\n",
            "  Class 0: 22.07%\n",
            "  Class 3: 48.61%\n",
            "Test Accuracy: 35.0%, Test Loss: 1.442817\n",
            "\n",
            "\n",
            "Class-wise Accuracy:\n",
            "  Class 1: 67.28%\n",
            "  Class 2: 2.16%\n",
            "  Class 0: 22.07%\n",
            "  Class 3: 48.61%\n",
            "Train Accuracy: 36.00%, Average Train Loss: 1.295077, Test Accuracy: 35.03%, Average Test Loss: 1.442817\n",
            "\n",
            "Epoch 121/200: "
          ]
        },
        {
          "output_type": "stream",
          "name": "stderr",
          "text": [
            "100%|██████████| 162/162 [00:01<00:00, 131.43it/s]\n",
            "Batch 162/162, Loss: 1.358737: 100%|██████████| 162/162 [00:01<00:00, 116.49it/s]\n"
          ]
        },
        {
          "output_type": "stream",
          "name": "stdout",
          "text": [
            "\n",
            "Class-wise Accuracy:\n",
            "  Class 1: 52.01%\n",
            "  Class 2: 2.01%\n",
            "  Class 0: 19.14%\n",
            "  Class 3: 59.88%\n",
            "Test Accuracy: 33.3%, Test Loss: 1.438934\n",
            "\n",
            "\n",
            "Class-wise Accuracy:\n",
            "  Class 1: 52.01%\n",
            "  Class 2: 2.01%\n",
            "  Class 0: 19.14%\n",
            "  Class 3: 59.88%\n",
            "Train Accuracy: 36.88%, Average Train Loss: 1.286534, Test Accuracy: 33.26%, Average Test Loss: 1.438934\n",
            "\n",
            "Epoch 122/200: "
          ]
        },
        {
          "output_type": "stream",
          "name": "stderr",
          "text": [
            "100%|██████████| 162/162 [00:01<00:00, 134.00it/s]\n",
            "Batch 162/162, Loss: 1.565645: 100%|██████████| 162/162 [00:01<00:00, 118.66it/s]\n"
          ]
        },
        {
          "output_type": "stream",
          "name": "stdout",
          "text": [
            "\n",
            "Class-wise Accuracy:\n",
            "  Class 1: 32.25%\n",
            "  Class 2: 14.35%\n",
            "  Class 0: 10.96%\n",
            "  Class 3: 72.07%\n",
            "Test Accuracy: 32.4%, Test Loss: 1.446638\n",
            "\n",
            "\n",
            "Class-wise Accuracy:\n",
            "  Class 1: 32.25%\n",
            "  Class 2: 14.35%\n",
            "  Class 0: 10.96%\n",
            "  Class 3: 72.07%\n",
            "Train Accuracy: 35.53%, Average Train Loss: 1.288223, Test Accuracy: 32.41%, Average Test Loss: 1.446638\n",
            "\n",
            "Epoch 123/200: "
          ]
        },
        {
          "output_type": "stream",
          "name": "stderr",
          "text": [
            "100%|██████████| 162/162 [00:01<00:00, 125.67it/s]\n",
            "Batch 162/162, Loss: 1.251508: 100%|██████████| 162/162 [00:01<00:00, 121.92it/s]\n"
          ]
        },
        {
          "output_type": "stream",
          "name": "stdout",
          "text": [
            "\n",
            "Class-wise Accuracy:\n",
            "  Class 1: 13.73%\n",
            "  Class 2: 71.30%\n",
            "  Class 0: 12.04%\n",
            "  Class 3: 40.90%\n",
            "Test Accuracy: 34.5%, Test Loss: 1.468920\n",
            "\n",
            "\n",
            "Class-wise Accuracy:\n",
            "  Class 1: 13.73%\n",
            "  Class 2: 71.30%\n",
            "  Class 0: 12.04%\n",
            "  Class 3: 40.90%\n",
            "Train Accuracy: 36.73%, Average Train Loss: 1.281471, Test Accuracy: 34.49%, Average Test Loss: 1.468920\n",
            "\n",
            "Epoch 124/200: "
          ]
        },
        {
          "output_type": "stream",
          "name": "stderr",
          "text": [
            "100%|██████████| 162/162 [00:01<00:00, 102.44it/s]\n",
            "Batch 162/162, Loss: 1.434509: 100%|██████████| 162/162 [00:01<00:00, 105.37it/s]\n"
          ]
        },
        {
          "output_type": "stream",
          "name": "stdout",
          "text": [
            "\n",
            "Class-wise Accuracy:\n",
            "  Class 1: 3.09%\n",
            "  Class 2: 27.31%\n",
            "  Class 0: 15.59%\n",
            "  Class 3: 79.78%\n",
            "Test Accuracy: 31.4%, Test Loss: 1.513568\n",
            "\n",
            "\n",
            "Class-wise Accuracy:\n",
            "  Class 1: 3.09%\n",
            "  Class 2: 27.31%\n",
            "  Class 0: 15.59%\n",
            "  Class 3: 79.78%\n",
            "Train Accuracy: 37.58%, Average Train Loss: 1.281667, Test Accuracy: 31.44%, Average Test Loss: 1.513568\n",
            "\n",
            "Epoch 125/200: "
          ]
        },
        {
          "output_type": "stream",
          "name": "stderr",
          "text": [
            "100%|██████████| 162/162 [00:01<00:00, 95.95it/s]\n",
            "Batch 162/162, Loss: 1.684670: 100%|██████████| 162/162 [00:01<00:00, 111.74it/s]\n"
          ]
        },
        {
          "output_type": "stream",
          "name": "stdout",
          "text": [
            "\n",
            "Class-wise Accuracy:\n",
            "  Class 1: 5.56%\n",
            "  Class 2: 26.23%\n",
            "  Class 0: 6.48%\n",
            "  Class 3: 85.80%\n",
            "Test Accuracy: 31.0%, Test Loss: 1.482002\n",
            "\n",
            "\n",
            "Class-wise Accuracy:\n",
            "  Class 1: 5.56%\n",
            "  Class 2: 26.23%\n",
            "  Class 0: 6.48%\n",
            "  Class 3: 85.80%\n",
            "Train Accuracy: 37.23%, Average Train Loss: 1.275060, Test Accuracy: 31.02%, Average Test Loss: 1.482002\n",
            "\n",
            "Epoch 126/200: "
          ]
        },
        {
          "output_type": "stream",
          "name": "stderr",
          "text": [
            "100%|██████████| 162/162 [00:01<00:00, 130.18it/s]\n",
            "Batch 162/162, Loss: 1.205552: 100%|██████████| 162/162 [00:01<00:00, 119.57it/s]\n"
          ]
        },
        {
          "output_type": "stream",
          "name": "stdout",
          "text": [
            "\n",
            "Class-wise Accuracy:\n",
            "  Class 1: 14.81%\n",
            "  Class 2: 52.16%\n",
            "  Class 0: 24.23%\n",
            "  Class 3: 56.17%\n",
            "Test Accuracy: 36.8%, Test Loss: 1.416012\n",
            "\n",
            "\n",
            "Class-wise Accuracy:\n",
            "  Class 1: 14.81%\n",
            "  Class 2: 52.16%\n",
            "  Class 0: 24.23%\n",
            "  Class 3: 56.17%\n",
            "Train Accuracy: 36.30%, Average Train Loss: 1.276866, Test Accuracy: 36.84%, Average Test Loss: 1.416012\n",
            "\n",
            "Epoch 127/200: "
          ]
        },
        {
          "output_type": "stream",
          "name": "stderr",
          "text": [
            "100%|██████████| 162/162 [00:01<00:00, 130.07it/s]\n",
            "Batch 162/162, Loss: 1.569271: 100%|██████████| 162/162 [00:01<00:00, 117.44it/s]\n"
          ]
        },
        {
          "output_type": "stream",
          "name": "stdout",
          "text": [
            "\n",
            "Class-wise Accuracy:\n",
            "  Class 1: 2.78%\n",
            "  Class 2: 10.03%\n",
            "  Class 0: 5.40%\n",
            "  Class 3: 90.28%\n",
            "Test Accuracy: 27.1%, Test Loss: 1.551801\n",
            "\n",
            "\n",
            "Class-wise Accuracy:\n",
            "  Class 1: 2.78%\n",
            "  Class 2: 10.03%\n",
            "  Class 0: 5.40%\n",
            "  Class 3: 90.28%\n",
            "Train Accuracy: 37.85%, Average Train Loss: 1.276314, Test Accuracy: 27.12%, Average Test Loss: 1.551801\n",
            "\n",
            "Epoch 128/200: "
          ]
        },
        {
          "output_type": "stream",
          "name": "stderr",
          "text": [
            "100%|██████████| 162/162 [00:01<00:00, 130.92it/s]\n",
            "Batch 162/162, Loss: 1.439960: 100%|██████████| 162/162 [00:01<00:00, 121.87it/s]\n"
          ]
        },
        {
          "output_type": "stream",
          "name": "stdout",
          "text": [
            "\n",
            "Class-wise Accuracy:\n",
            "  Class 1: 27.31%\n",
            "  Class 2: 44.14%\n",
            "  Class 0: 11.27%\n",
            "  Class 3: 62.65%\n",
            "Test Accuracy: 36.3%, Test Loss: 1.368900\n",
            "\n",
            "\n",
            "Class-wise Accuracy:\n",
            "  Class 1: 27.31%\n",
            "  Class 2: 44.14%\n",
            "  Class 0: 11.27%\n",
            "  Class 3: 62.65%\n",
            "Train Accuracy: 37.96%, Average Train Loss: 1.275191, Test Accuracy: 36.34%, Average Test Loss: 1.368900\n",
            "\n",
            "Epoch 129/200: "
          ]
        },
        {
          "output_type": "stream",
          "name": "stderr",
          "text": [
            "100%|██████████| 162/162 [00:01<00:00, 128.35it/s]\n",
            "Batch 162/162, Loss: 1.267031: 100%|██████████| 162/162 [00:01<00:00, 100.67it/s]\n"
          ]
        },
        {
          "output_type": "stream",
          "name": "stdout",
          "text": [
            "\n",
            "Class-wise Accuracy:\n",
            "  Class 1: 17.59%\n",
            "  Class 2: 71.76%\n",
            "  Class 0: 9.57%\n",
            "  Class 3: 40.59%\n",
            "Test Accuracy: 34.9%, Test Loss: 1.407720\n",
            "\n",
            "\n",
            "Class-wise Accuracy:\n",
            "  Class 1: 17.59%\n",
            "  Class 2: 71.76%\n",
            "  Class 0: 9.57%\n",
            "  Class 3: 40.59%\n",
            "Train Accuracy: 36.96%, Average Train Loss: 1.272226, Test Accuracy: 34.88%, Average Test Loss: 1.407720\n",
            "\n",
            "Epoch 130/200: "
          ]
        },
        {
          "output_type": "stream",
          "name": "stderr",
          "text": [
            "100%|██████████| 162/162 [00:01<00:00, 100.72it/s]\n",
            "Batch 162/162, Loss: 1.327834: 100%|██████████| 162/162 [00:01<00:00, 102.33it/s]\n"
          ]
        },
        {
          "output_type": "stream",
          "name": "stdout",
          "text": [
            "\n",
            "Class-wise Accuracy:\n",
            "  Class 1: 54.01%\n",
            "  Class 2: 2.01%\n",
            "  Class 0: 21.60%\n",
            "  Class 3: 59.10%\n",
            "Test Accuracy: 34.2%, Test Loss: 1.349069\n",
            "\n",
            "\n",
            "Class-wise Accuracy:\n",
            "  Class 1: 54.01%\n",
            "  Class 2: 2.01%\n",
            "  Class 0: 21.60%\n",
            "  Class 3: 59.10%\n",
            "Train Accuracy: 37.89%, Average Train Loss: 1.267680, Test Accuracy: 34.18%, Average Test Loss: 1.349069\n",
            "\n",
            "Epoch 131/200: "
          ]
        },
        {
          "output_type": "stream",
          "name": "stderr",
          "text": [
            "100%|██████████| 162/162 [00:01<00:00, 107.92it/s]\n",
            "Batch 162/162, Loss: 1.218269: 100%|██████████| 162/162 [00:01<00:00, 122.71it/s]\n"
          ]
        },
        {
          "output_type": "stream",
          "name": "stdout",
          "text": [
            "\n",
            "Class-wise Accuracy:\n",
            "  Class 1: 21.60%\n",
            "  Class 2: 31.17%\n",
            "  Class 0: 19.75%\n",
            "  Class 3: 67.28%\n",
            "Test Accuracy: 35.0%, Test Loss: 1.355058\n",
            "\n",
            "\n",
            "Class-wise Accuracy:\n",
            "  Class 1: 21.60%\n",
            "  Class 2: 31.17%\n",
            "  Class 0: 19.75%\n",
            "  Class 3: 67.28%\n",
            "Train Accuracy: 37.00%, Average Train Loss: 1.268226, Test Accuracy: 34.95%, Average Test Loss: 1.355058\n",
            "\n",
            "Epoch 132/200: "
          ]
        },
        {
          "output_type": "stream",
          "name": "stderr",
          "text": [
            "100%|██████████| 162/162 [00:01<00:00, 129.94it/s]\n",
            "Batch 162/162, Loss: 1.318476: 100%|██████████| 162/162 [00:01<00:00, 118.09it/s]\n"
          ]
        },
        {
          "output_type": "stream",
          "name": "stdout",
          "text": [
            "\n",
            "Class-wise Accuracy:\n",
            "  Class 1: 12.50%\n",
            "  Class 2: 62.04%\n",
            "  Class 0: 18.52%\n",
            "  Class 3: 52.31%\n",
            "Test Accuracy: 36.3%, Test Loss: 1.350500\n",
            "\n",
            "\n",
            "Class-wise Accuracy:\n",
            "  Class 1: 12.50%\n",
            "  Class 2: 62.04%\n",
            "  Class 0: 18.52%\n",
            "  Class 3: 52.31%\n",
            "Train Accuracy: 37.31%, Average Train Loss: 1.266077, Test Accuracy: 36.34%, Average Test Loss: 1.350500\n",
            "\n",
            "Epoch 133/200: "
          ]
        },
        {
          "output_type": "stream",
          "name": "stderr",
          "text": [
            "100%|██████████| 162/162 [00:01<00:00, 135.45it/s]\n",
            "Batch 162/162, Loss: 1.226679: 100%|██████████| 162/162 [00:01<00:00, 121.59it/s]\n"
          ]
        },
        {
          "output_type": "stream",
          "name": "stdout",
          "text": [
            "\n",
            "Class-wise Accuracy:\n",
            "  Class 1: 3.40%\n",
            "  Class 2: 52.01%\n",
            "  Class 0: 20.99%\n",
            "  Class 3: 66.82%\n",
            "Test Accuracy: 35.8%, Test Loss: 1.343190\n",
            "\n",
            "\n",
            "Class-wise Accuracy:\n",
            "  Class 1: 3.40%\n",
            "  Class 2: 52.01%\n",
            "  Class 0: 20.99%\n",
            "  Class 3: 66.82%\n",
            "Train Accuracy: 38.16%, Average Train Loss: 1.266565, Test Accuracy: 35.80%, Average Test Loss: 1.343190\n",
            "\n",
            "Epoch 134/200: "
          ]
        },
        {
          "output_type": "stream",
          "name": "stderr",
          "text": [
            "100%|██████████| 162/162 [00:01<00:00, 130.97it/s]\n",
            "Batch 162/162, Loss: 1.497456: 100%|██████████| 162/162 [00:01<00:00, 119.18it/s]\n"
          ]
        },
        {
          "output_type": "stream",
          "name": "stdout",
          "text": [
            "\n",
            "Class-wise Accuracy:\n",
            "  Class 1: 3.24%\n",
            "  Class 2: 29.32%\n",
            "  Class 0: 13.27%\n",
            "  Class 3: 80.71%\n",
            "Test Accuracy: 31.6%, Test Loss: 1.450390\n",
            "\n",
            "\n",
            "Class-wise Accuracy:\n",
            "  Class 1: 3.24%\n",
            "  Class 2: 29.32%\n",
            "  Class 0: 13.27%\n",
            "  Class 3: 80.71%\n",
            "Train Accuracy: 37.31%, Average Train Loss: 1.267523, Test Accuracy: 31.64%, Average Test Loss: 1.450390\n",
            "\n",
            "Epoch 135/200: "
          ]
        },
        {
          "output_type": "stream",
          "name": "stderr",
          "text": [
            "100%|██████████| 162/162 [00:01<00:00, 106.78it/s]\n",
            "Batch 162/162, Loss: 1.254379: 100%|██████████| 162/162 [00:01<00:00, 102.07it/s]\n"
          ]
        },
        {
          "output_type": "stream",
          "name": "stdout",
          "text": [
            "\n",
            "Class-wise Accuracy:\n",
            "  Class 1: 9.10%\n",
            "  Class 2: 58.80%\n",
            "  Class 0: 18.36%\n",
            "  Class 3: 58.95%\n",
            "Test Accuracy: 36.3%, Test Loss: 1.329779\n",
            "\n",
            "\n",
            "Class-wise Accuracy:\n",
            "  Class 1: 9.10%\n",
            "  Class 2: 58.80%\n",
            "  Class 0: 18.36%\n",
            "  Class 3: 58.95%\n",
            "Train Accuracy: 37.92%, Average Train Loss: 1.269052, Test Accuracy: 36.30%, Average Test Loss: 1.329779\n",
            "\n",
            "Epoch 136/200: "
          ]
        },
        {
          "output_type": "stream",
          "name": "stderr",
          "text": [
            "100%|██████████| 162/162 [00:01<00:00, 107.76it/s]\n",
            "Batch 162/162, Loss: 1.325637: 100%|██████████| 162/162 [00:01<00:00, 110.98it/s]\n"
          ]
        },
        {
          "output_type": "stream",
          "name": "stdout",
          "text": [
            "\n",
            "Class-wise Accuracy:\n",
            "  Class 1: 6.33%\n",
            "  Class 2: 70.83%\n",
            "  Class 0: 20.37%\n",
            "  Class 3: 47.07%\n",
            "Test Accuracy: 36.1%, Test Loss: 1.332990\n",
            "\n",
            "\n",
            "Class-wise Accuracy:\n",
            "  Class 1: 6.33%\n",
            "  Class 2: 70.83%\n",
            "  Class 0: 20.37%\n",
            "  Class 3: 47.07%\n",
            "Train Accuracy: 38.27%, Average Train Loss: 1.255274, Test Accuracy: 36.15%, Average Test Loss: 1.332990\n",
            "\n",
            "Epoch 137/200: "
          ]
        },
        {
          "output_type": "stream",
          "name": "stderr",
          "text": [
            "100%|██████████| 162/162 [00:01<00:00, 132.58it/s]\n",
            "Batch 162/162, Loss: 1.312320: 100%|██████████| 162/162 [00:01<00:00, 115.89it/s]\n"
          ]
        },
        {
          "output_type": "stream",
          "name": "stdout",
          "text": [
            "\n",
            "Class-wise Accuracy:\n",
            "  Class 1: 12.81%\n",
            "  Class 2: 41.98%\n",
            "  Class 0: 20.52%\n",
            "  Class 3: 67.59%\n",
            "Test Accuracy: 35.7%, Test Loss: 1.334982\n",
            "\n",
            "\n",
            "Class-wise Accuracy:\n",
            "  Class 1: 12.81%\n",
            "  Class 2: 41.98%\n",
            "  Class 0: 20.52%\n",
            "  Class 3: 67.59%\n",
            "Train Accuracy: 37.58%, Average Train Loss: 1.258152, Test Accuracy: 35.73%, Average Test Loss: 1.334982\n",
            "\n",
            "Epoch 138/200: "
          ]
        },
        {
          "output_type": "stream",
          "name": "stderr",
          "text": [
            "100%|██████████| 162/162 [00:01<00:00, 137.05it/s]\n",
            "Batch 162/162, Loss: 1.220289: 100%|██████████| 162/162 [00:01<00:00, 122.63it/s]\n"
          ]
        },
        {
          "output_type": "stream",
          "name": "stdout",
          "text": [
            "\n",
            "Class-wise Accuracy:\n",
            "  Class 1: 7.25%\n",
            "  Class 2: 67.90%\n",
            "  Class 0: 19.91%\n",
            "  Class 3: 52.47%\n",
            "Test Accuracy: 36.9%, Test Loss: 1.313684\n",
            "\n",
            "\n",
            "Class-wise Accuracy:\n",
            "  Class 1: 7.25%\n",
            "  Class 2: 67.90%\n",
            "  Class 0: 19.91%\n",
            "  Class 3: 52.47%\n",
            "Train Accuracy: 37.92%, Average Train Loss: 1.261227, Test Accuracy: 36.88%, Average Test Loss: 1.313684\n",
            "\n",
            "Epoch 139/200: "
          ]
        },
        {
          "output_type": "stream",
          "name": "stderr",
          "text": [
            "100%|██████████| 162/162 [00:01<00:00, 131.61it/s]\n",
            "Batch 162/162, Loss: 1.482992: 100%|██████████| 162/162 [00:01<00:00, 119.99it/s]\n"
          ]
        },
        {
          "output_type": "stream",
          "name": "stdout",
          "text": [
            "\n",
            "Class-wise Accuracy:\n",
            "  Class 1: 6.48%\n",
            "  Class 2: 55.09%\n",
            "  Class 0: 17.13%\n",
            "  Class 3: 62.96%\n",
            "Test Accuracy: 35.4%, Test Loss: 1.364694\n",
            "\n",
            "\n",
            "Class-wise Accuracy:\n",
            "  Class 1: 6.48%\n",
            "  Class 2: 55.09%\n",
            "  Class 0: 17.13%\n",
            "  Class 3: 62.96%\n",
            "Train Accuracy: 37.11%, Average Train Loss: 1.262663, Test Accuracy: 35.42%, Average Test Loss: 1.364694\n",
            "\n",
            "Epoch 140/200: "
          ]
        },
        {
          "output_type": "stream",
          "name": "stderr",
          "text": [
            "100%|██████████| 162/162 [00:01<00:00, 136.84it/s]\n",
            "Batch 162/162, Loss: 1.359251: 100%|██████████| 162/162 [00:01<00:00, 113.37it/s]\n"
          ]
        },
        {
          "output_type": "stream",
          "name": "stdout",
          "text": [
            "\n",
            "Class-wise Accuracy:\n",
            "  Class 1: 6.02%\n",
            "  Class 2: 55.71%\n",
            "  Class 0: 19.44%\n",
            "  Class 3: 61.57%\n",
            "Test Accuracy: 35.7%, Test Loss: 1.340515\n",
            "\n",
            "\n",
            "Class-wise Accuracy:\n",
            "  Class 1: 6.02%\n",
            "  Class 2: 55.71%\n",
            "  Class 0: 19.44%\n",
            "  Class 3: 61.57%\n",
            "Train Accuracy: 37.38%, Average Train Loss: 1.257037, Test Accuracy: 35.69%, Average Test Loss: 1.340515\n",
            "\n",
            "Epoch 141/200: "
          ]
        },
        {
          "output_type": "stream",
          "name": "stderr",
          "text": [
            "100%|██████████| 162/162 [00:01<00:00, 104.46it/s]\n",
            "Batch 162/162, Loss: 1.285911: 100%|██████████| 162/162 [00:01<00:00, 98.58it/s]\n"
          ]
        },
        {
          "output_type": "stream",
          "name": "stdout",
          "text": [
            "\n",
            "Class-wise Accuracy:\n",
            "  Class 1: 8.18%\n",
            "  Class 2: 52.78%\n",
            "  Class 0: 18.98%\n",
            "  Class 3: 63.58%\n",
            "Test Accuracy: 35.9%, Test Loss: 1.327047\n",
            "\n",
            "\n",
            "Class-wise Accuracy:\n",
            "  Class 1: 8.18%\n",
            "  Class 2: 52.78%\n",
            "  Class 0: 18.98%\n",
            "  Class 3: 63.58%\n",
            "Train Accuracy: 37.81%, Average Train Loss: 1.256018, Test Accuracy: 35.88%, Average Test Loss: 1.327047\n",
            "\n",
            "Epoch 142/200: "
          ]
        },
        {
          "output_type": "stream",
          "name": "stderr",
          "text": [
            "100%|██████████| 162/162 [00:01<00:00, 108.14it/s]\n",
            "Batch 162/162, Loss: 1.389952: 100%|██████████| 162/162 [00:01<00:00, 123.39it/s]\n"
          ]
        },
        {
          "output_type": "stream",
          "name": "stdout",
          "text": [
            "\n",
            "Class-wise Accuracy:\n",
            "  Class 1: 10.96%\n",
            "  Class 2: 63.89%\n",
            "  Class 0: 17.13%\n",
            "  Class 3: 54.63%\n",
            "Test Accuracy: 36.7%, Test Loss: 1.356455\n",
            "\n",
            "\n",
            "Class-wise Accuracy:\n",
            "  Class 1: 10.96%\n",
            "  Class 2: 63.89%\n",
            "  Class 0: 17.13%\n",
            "  Class 3: 54.63%\n",
            "Train Accuracy: 38.93%, Average Train Loss: 1.253750, Test Accuracy: 36.65%, Average Test Loss: 1.356455\n",
            "\n",
            "Epoch 143/200: "
          ]
        },
        {
          "output_type": "stream",
          "name": "stderr",
          "text": [
            "100%|██████████| 162/162 [00:01<00:00, 135.96it/s]\n",
            "Batch 162/162, Loss: 1.307362: 100%|██████████| 162/162 [00:01<00:00, 124.02it/s]\n"
          ]
        },
        {
          "output_type": "stream",
          "name": "stdout",
          "text": [
            "\n",
            "Class-wise Accuracy:\n",
            "  Class 1: 10.80%\n",
            "  Class 2: 46.14%\n",
            "  Class 0: 14.66%\n",
            "  Class 3: 68.06%\n",
            "Test Accuracy: 34.9%, Test Loss: 1.348644\n",
            "\n",
            "\n",
            "Class-wise Accuracy:\n",
            "  Class 1: 10.80%\n",
            "  Class 2: 46.14%\n",
            "  Class 0: 14.66%\n",
            "  Class 3: 68.06%\n",
            "Train Accuracy: 38.85%, Average Train Loss: 1.251280, Test Accuracy: 34.92%, Average Test Loss: 1.348644\n",
            "\n",
            "Epoch 144/200: "
          ]
        },
        {
          "output_type": "stream",
          "name": "stderr",
          "text": [
            "100%|██████████| 162/162 [00:01<00:00, 131.59it/s]\n",
            "Batch 162/162, Loss: 1.405921: 100%|██████████| 162/162 [00:01<00:00, 122.34it/s]\n"
          ]
        },
        {
          "output_type": "stream",
          "name": "stdout",
          "text": [
            "\n",
            "Class-wise Accuracy:\n",
            "  Class 1: 9.88%\n",
            "  Class 2: 20.22%\n",
            "  Class 0: 12.35%\n",
            "  Class 3: 82.87%\n",
            "Test Accuracy: 31.3%, Test Loss: 1.421674\n",
            "\n",
            "\n",
            "Class-wise Accuracy:\n",
            "  Class 1: 9.88%\n",
            "  Class 2: 20.22%\n",
            "  Class 0: 12.35%\n",
            "  Class 3: 82.87%\n",
            "Train Accuracy: 36.73%, Average Train Loss: 1.257141, Test Accuracy: 31.33%, Average Test Loss: 1.421674\n",
            "\n",
            "Epoch 145/200: "
          ]
        },
        {
          "output_type": "stream",
          "name": "stderr",
          "text": [
            "100%|██████████| 162/162 [00:01<00:00, 137.25it/s]\n",
            "Batch 162/162, Loss: 1.275804: 100%|██████████| 162/162 [00:01<00:00, 119.55it/s]\n"
          ]
        },
        {
          "output_type": "stream",
          "name": "stdout",
          "text": [
            "\n",
            "Class-wise Accuracy:\n",
            "  Class 1: 18.06%\n",
            "  Class 2: 42.75%\n",
            "  Class 0: 16.20%\n",
            "  Class 3: 65.43%\n",
            "Test Accuracy: 35.6%, Test Loss: 1.332388\n",
            "\n",
            "\n",
            "Class-wise Accuracy:\n",
            "  Class 1: 18.06%\n",
            "  Class 2: 42.75%\n",
            "  Class 0: 16.20%\n",
            "  Class 3: 65.43%\n",
            "Train Accuracy: 39.31%, Average Train Loss: 1.252645, Test Accuracy: 35.61%, Average Test Loss: 1.332388\n",
            "\n",
            "Epoch 146/200: "
          ]
        },
        {
          "output_type": "stream",
          "name": "stderr",
          "text": [
            "100%|██████████| 162/162 [00:01<00:00, 120.43it/s]\n",
            "Batch 162/162, Loss: 1.345636: 100%|██████████| 162/162 [00:01<00:00, 107.04it/s]\n"
          ]
        },
        {
          "output_type": "stream",
          "name": "stdout",
          "text": [
            "\n",
            "Class-wise Accuracy:\n",
            "  Class 1: 17.75%\n",
            "  Class 2: 39.66%\n",
            "  Class 0: 15.59%\n",
            "  Class 3: 66.51%\n",
            "Test Accuracy: 34.9%, Test Loss: 1.351402\n",
            "\n",
            "\n",
            "Class-wise Accuracy:\n",
            "  Class 1: 17.75%\n",
            "  Class 2: 39.66%\n",
            "  Class 0: 15.59%\n",
            "  Class 3: 66.51%\n",
            "Train Accuracy: 39.08%, Average Train Loss: 1.259690, Test Accuracy: 34.88%, Average Test Loss: 1.351402\n",
            "\n",
            "Epoch 147/200: "
          ]
        },
        {
          "output_type": "stream",
          "name": "stderr",
          "text": [
            "100%|██████████| 162/162 [00:01<00:00, 105.88it/s]\n",
            "Batch 162/162, Loss: 1.301390: 100%|██████████| 162/162 [00:01<00:00, 107.15it/s]\n"
          ]
        },
        {
          "output_type": "stream",
          "name": "stdout",
          "text": [
            "\n",
            "Class-wise Accuracy:\n",
            "  Class 1: 17.28%\n",
            "  Class 2: 38.89%\n",
            "  Class 0: 16.05%\n",
            "  Class 3: 67.13%\n",
            "Test Accuracy: 34.8%, Test Loss: 1.340310\n",
            "\n",
            "\n",
            "Class-wise Accuracy:\n",
            "  Class 1: 17.28%\n",
            "  Class 2: 38.89%\n",
            "  Class 0: 16.05%\n",
            "  Class 3: 67.13%\n",
            "Train Accuracy: 37.92%, Average Train Loss: 1.258355, Test Accuracy: 34.84%, Average Test Loss: 1.340310\n",
            "\n",
            "Epoch 148/200: "
          ]
        },
        {
          "output_type": "stream",
          "name": "stderr",
          "text": [
            "100%|██████████| 162/162 [00:01<00:00, 118.76it/s]\n",
            "Batch 162/162, Loss: 1.302027: 100%|██████████| 162/162 [00:01<00:00, 120.11it/s]\n"
          ]
        },
        {
          "output_type": "stream",
          "name": "stdout",
          "text": [
            "\n",
            "Class-wise Accuracy:\n",
            "  Class 1: 10.03%\n",
            "  Class 2: 21.76%\n",
            "  Class 0: 14.51%\n",
            "  Class 3: 83.64%\n",
            "Test Accuracy: 32.5%, Test Loss: 1.400814\n",
            "\n",
            "\n",
            "Class-wise Accuracy:\n",
            "  Class 1: 10.03%\n",
            "  Class 2: 21.76%\n",
            "  Class 0: 14.51%\n",
            "  Class 3: 83.64%\n",
            "Train Accuracy: 39.81%, Average Train Loss: 1.252827, Test Accuracy: 32.48%, Average Test Loss: 1.400814\n",
            "\n",
            "Epoch 149/200: "
          ]
        },
        {
          "output_type": "stream",
          "name": "stderr",
          "text": [
            "100%|██████████| 162/162 [00:01<00:00, 138.38it/s]\n",
            "Batch 162/162, Loss: 1.382069: 100%|██████████| 162/162 [00:01<00:00, 123.17it/s]\n"
          ]
        },
        {
          "output_type": "stream",
          "name": "stdout",
          "text": [
            "\n",
            "Class-wise Accuracy:\n",
            "  Class 1: 16.98%\n",
            "  Class 2: 37.96%\n",
            "  Class 0: 14.51%\n",
            "  Class 3: 68.52%\n",
            "Test Accuracy: 34.5%, Test Loss: 1.372385\n",
            "\n",
            "\n",
            "Class-wise Accuracy:\n",
            "  Class 1: 16.98%\n",
            "  Class 2: 37.96%\n",
            "  Class 0: 14.51%\n",
            "  Class 3: 68.52%\n",
            "Train Accuracy: 39.35%, Average Train Loss: 1.251536, Test Accuracy: 34.49%, Average Test Loss: 1.372385\n",
            "\n",
            "Epoch 150/200: "
          ]
        },
        {
          "output_type": "stream",
          "name": "stderr",
          "text": [
            "100%|██████████| 162/162 [00:01<00:00, 130.74it/s]\n",
            "Batch 162/162, Loss: 1.277260: 100%|██████████| 162/162 [00:01<00:00, 120.52it/s]\n"
          ]
        },
        {
          "output_type": "stream",
          "name": "stdout",
          "text": [
            "\n",
            "Class-wise Accuracy:\n",
            "  Class 1: 18.06%\n",
            "  Class 2: 44.75%\n",
            "  Class 0: 17.13%\n",
            "  Class 3: 64.20%\n",
            "Test Accuracy: 36.0%, Test Loss: 1.327933\n",
            "\n",
            "\n",
            "Class-wise Accuracy:\n",
            "  Class 1: 18.06%\n",
            "  Class 2: 44.75%\n",
            "  Class 0: 17.13%\n",
            "  Class 3: 64.20%\n",
            "Train Accuracy: 37.69%, Average Train Loss: 1.258761, Test Accuracy: 36.03%, Average Test Loss: 1.327933\n",
            "\n",
            "Epoch 151/200: "
          ]
        },
        {
          "output_type": "stream",
          "name": "stderr",
          "text": [
            "100%|██████████| 162/162 [00:01<00:00, 132.30it/s]\n",
            "Batch 162/162, Loss: 1.619449: 100%|██████████| 162/162 [00:01<00:00, 122.68it/s]\n"
          ]
        },
        {
          "output_type": "stream",
          "name": "stdout",
          "text": [
            "\n",
            "Class-wise Accuracy:\n",
            "  Class 1: 5.86%\n",
            "  Class 2: 6.02%\n",
            "  Class 0: 64.04%\n",
            "  Class 3: 43.52%\n",
            "Test Accuracy: 29.9%, Test Loss: 1.531147\n",
            "\n",
            "\n",
            "Class-wise Accuracy:\n",
            "  Class 1: 5.86%\n",
            "  Class 2: 6.02%\n",
            "  Class 0: 64.04%\n",
            "  Class 3: 43.52%\n",
            "Train Accuracy: 32.41%, Average Train Loss: 1.358831, Test Accuracy: 29.86%, Average Test Loss: 1.531147\n",
            "\n",
            "Epoch 152/200: "
          ]
        },
        {
          "output_type": "stream",
          "name": "stderr",
          "text": [
            "100%|██████████| 162/162 [00:01<00:00, 106.68it/s]\n",
            "Batch 162/162, Loss: 1.328761: 100%|██████████| 162/162 [00:01<00:00, 110.71it/s]\n"
          ]
        },
        {
          "output_type": "stream",
          "name": "stdout",
          "text": [
            "\n",
            "Class-wise Accuracy:\n",
            "  Class 1: 17.44%\n",
            "  Class 2: 1.23%\n",
            "  Class 0: 16.05%\n",
            "  Class 3: 82.72%\n",
            "Test Accuracy: 29.4%, Test Loss: 1.490593\n",
            "\n",
            "\n",
            "Class-wise Accuracy:\n",
            "  Class 1: 17.44%\n",
            "  Class 2: 1.23%\n",
            "  Class 0: 16.05%\n",
            "  Class 3: 82.72%\n",
            "Train Accuracy: 32.99%, Average Train Loss: 1.321052, Test Accuracy: 29.36%, Average Test Loss: 1.490593\n",
            "\n",
            "Epoch 153/200: "
          ]
        },
        {
          "output_type": "stream",
          "name": "stderr",
          "text": [
            "100%|██████████| 162/162 [00:01<00:00, 104.11it/s]\n",
            "Batch 162/162, Loss: 1.335260: 100%|██████████| 162/162 [00:01<00:00, 122.06it/s]\n"
          ]
        },
        {
          "output_type": "stream",
          "name": "stdout",
          "text": [
            "\n",
            "Class-wise Accuracy:\n",
            "  Class 1: 41.36%\n",
            "  Class 2: 2.47%\n",
            "  Class 0: 62.04%\n",
            "  Class 3: 21.45%\n",
            "Test Accuracy: 31.8%, Test Loss: 1.405507\n",
            "\n",
            "\n",
            "Class-wise Accuracy:\n",
            "  Class 1: 41.36%\n",
            "  Class 2: 2.47%\n",
            "  Class 0: 62.04%\n",
            "  Class 3: 21.45%\n",
            "Train Accuracy: 32.83%, Average Train Loss: 1.320534, Test Accuracy: 31.83%, Average Test Loss: 1.405507\n",
            "\n",
            "Epoch 154/200: "
          ]
        },
        {
          "output_type": "stream",
          "name": "stderr",
          "text": [
            "100%|██████████| 162/162 [00:01<00:00, 131.33it/s]\n",
            "Batch 162/162, Loss: 2.097549: 100%|██████████| 162/162 [00:01<00:00, 117.60it/s]\n"
          ]
        },
        {
          "output_type": "stream",
          "name": "stdout",
          "text": [
            "\n",
            "Class-wise Accuracy:\n",
            "  Class 1: 0.00%\n",
            "  Class 2: 96.14%\n",
            "  Class 0: 1.70%\n",
            "  Class 3: 14.97%\n",
            "Test Accuracy: 28.2%, Test Loss: 1.808697\n",
            "\n",
            "\n",
            "Class-wise Accuracy:\n",
            "  Class 1: 0.00%\n",
            "  Class 2: 96.14%\n",
            "  Class 0: 1.70%\n",
            "  Class 3: 14.97%\n",
            "Train Accuracy: 35.88%, Average Train Loss: 1.307837, Test Accuracy: 28.20%, Average Test Loss: 1.808697\n",
            "\n",
            "Epoch 155/200: "
          ]
        },
        {
          "output_type": "stream",
          "name": "stderr",
          "text": [
            "100%|██████████| 162/162 [00:01<00:00, 132.77it/s]\n",
            "Batch 162/162, Loss: 1.552081: 100%|██████████| 162/162 [00:01<00:00, 122.16it/s]\n"
          ]
        },
        {
          "output_type": "stream",
          "name": "stdout",
          "text": [
            "\n",
            "Class-wise Accuracy:\n",
            "  Class 1: 46.30%\n",
            "  Class 2: 0.77%\n",
            "  Class 0: 0.62%\n",
            "  Class 3: 74.23%\n",
            "Test Accuracy: 30.5%, Test Loss: 1.405808\n",
            "\n",
            "\n",
            "Class-wise Accuracy:\n",
            "  Class 1: 46.30%\n",
            "  Class 2: 0.77%\n",
            "  Class 0: 0.62%\n",
            "  Class 3: 74.23%\n",
            "Train Accuracy: 35.73%, Average Train Loss: 1.310519, Test Accuracy: 30.48%, Average Test Loss: 1.405808\n",
            "\n",
            "Epoch 156/200: "
          ]
        },
        {
          "output_type": "stream",
          "name": "stderr",
          "text": [
            "100%|██████████| 162/162 [00:01<00:00, 130.78it/s]\n",
            "Batch 162/162, Loss: 1.419192: 100%|██████████| 162/162 [00:01<00:00, 119.43it/s]\n"
          ]
        },
        {
          "output_type": "stream",
          "name": "stdout",
          "text": [
            "\n",
            "Class-wise Accuracy:\n",
            "  Class 1: 81.33%\n",
            "  Class 2: 1.70%\n",
            "  Class 0: 28.55%\n",
            "  Class 3: 22.99%\n",
            "Test Accuracy: 33.6%, Test Loss: 1.382486\n",
            "\n",
            "\n",
            "Class-wise Accuracy:\n",
            "  Class 1: 81.33%\n",
            "  Class 2: 1.70%\n",
            "  Class 0: 28.55%\n",
            "  Class 3: 22.99%\n",
            "Train Accuracy: 35.46%, Average Train Loss: 1.300817, Test Accuracy: 33.64%, Average Test Loss: 1.382486\n",
            "\n",
            "Epoch 157/200: "
          ]
        },
        {
          "output_type": "stream",
          "name": "stderr",
          "text": [
            "100%|██████████| 162/162 [00:01<00:00, 124.54it/s]\n",
            "Batch 162/162, Loss: 1.876297: 100%|██████████| 162/162 [00:01<00:00, 106.23it/s]\n"
          ]
        },
        {
          "output_type": "stream",
          "name": "stdout",
          "text": [
            "\n",
            "Class-wise Accuracy:\n",
            "  Class 1: 5.56%\n",
            "  Class 2: 0.00%\n",
            "  Class 0: 2.78%\n",
            "  Class 3: 89.81%\n",
            "Test Accuracy: 24.5%, Test Loss: 1.873749\n",
            "\n",
            "\n",
            "Class-wise Accuracy:\n",
            "  Class 1: 5.56%\n",
            "  Class 2: 0.00%\n",
            "  Class 0: 2.78%\n",
            "  Class 3: 89.81%\n",
            "Train Accuracy: 36.15%, Average Train Loss: 1.298792, Test Accuracy: 24.54%, Average Test Loss: 1.873749\n",
            "\n",
            "Epoch 158/200: "
          ]
        },
        {
          "output_type": "stream",
          "name": "stderr",
          "text": [
            "100%|██████████| 162/162 [00:01<00:00, 105.39it/s]\n",
            "Batch 162/162, Loss: 4.520446: 100%|██████████| 162/162 [00:01<00:00, 104.03it/s]\n"
          ]
        },
        {
          "output_type": "stream",
          "name": "stdout",
          "text": [
            "\n",
            "Class-wise Accuracy:\n",
            "  Class 1: 1.08%\n",
            "  Class 2: 65.43%\n",
            "  Class 0: 53.24%\n",
            "  Class 3: 18.21%\n",
            "Test Accuracy: 34.5%, Test Loss: 1.562426\n",
            "\n",
            "\n",
            "Class-wise Accuracy:\n",
            "  Class 1: 1.08%\n",
            "  Class 2: 65.43%\n",
            "  Class 0: 53.24%\n",
            "  Class 3: 18.21%\n",
            "Train Accuracy: 32.33%, Average Train Loss: 1.510649, Test Accuracy: 34.49%, Average Test Loss: 1.562426\n",
            "\n",
            "Epoch 159/200: "
          ]
        },
        {
          "output_type": "stream",
          "name": "stderr",
          "text": [
            "100%|██████████| 162/162 [00:01<00:00, 110.67it/s]\n",
            "Batch 162/162, Loss: 1.430520: 100%|██████████| 162/162 [00:01<00:00, 116.12it/s]\n"
          ]
        },
        {
          "output_type": "stream",
          "name": "stdout",
          "text": [
            "\n",
            "Class-wise Accuracy:\n",
            "  Class 1: 98.92%\n",
            "  Class 2: 0.31%\n",
            "  Class 0: 0.00%\n",
            "  Class 3: 14.81%\n",
            "Test Accuracy: 28.5%, Test Loss: 1.473864\n",
            "\n",
            "\n",
            "Class-wise Accuracy:\n",
            "  Class 1: 98.92%\n",
            "  Class 2: 0.31%\n",
            "  Class 0: 0.00%\n",
            "  Class 3: 14.81%\n",
            "Train Accuracy: 32.52%, Average Train Loss: 1.407110, Test Accuracy: 28.51%, Average Test Loss: 1.473864\n",
            "\n",
            "Epoch 160/200: "
          ]
        },
        {
          "output_type": "stream",
          "name": "stderr",
          "text": [
            "100%|██████████| 162/162 [00:01<00:00, 134.32it/s]\n",
            "Batch 162/162, Loss: 1.210721: 100%|██████████| 162/162 [00:01<00:00, 118.85it/s]\n"
          ]
        },
        {
          "output_type": "stream",
          "name": "stdout",
          "text": [
            "\n",
            "Class-wise Accuracy:\n",
            "  Class 1: 62.04%\n",
            "  Class 2: 0.46%\n",
            "  Class 0: 36.88%\n",
            "  Class 3: 35.96%\n",
            "Test Accuracy: 33.8%, Test Loss: 1.332765\n",
            "\n",
            "\n",
            "Class-wise Accuracy:\n",
            "  Class 1: 62.04%\n",
            "  Class 2: 0.46%\n",
            "  Class 0: 36.88%\n",
            "  Class 3: 35.96%\n",
            "Train Accuracy: 33.80%, Average Train Loss: 1.338786, Test Accuracy: 33.83%, Average Test Loss: 1.332765\n",
            "\n",
            "Epoch 161/200: "
          ]
        },
        {
          "output_type": "stream",
          "name": "stderr",
          "text": [
            "100%|██████████| 162/162 [00:01<00:00, 130.17it/s]\n",
            "Batch 162/162, Loss: 1.335322: 100%|██████████| 162/162 [00:01<00:00, 117.60it/s]\n"
          ]
        },
        {
          "output_type": "stream",
          "name": "stdout",
          "text": [
            "\n",
            "Class-wise Accuracy:\n",
            "  Class 1: 0.93%\n",
            "  Class 2: 93.21%\n",
            "  Class 0: 17.75%\n",
            "  Class 3: 15.43%\n",
            "Test Accuracy: 31.8%, Test Loss: 1.390071\n",
            "\n",
            "\n",
            "Class-wise Accuracy:\n",
            "  Class 1: 0.93%\n",
            "  Class 2: 93.21%\n",
            "  Class 0: 17.75%\n",
            "  Class 3: 15.43%\n",
            "Train Accuracy: 35.19%, Average Train Loss: 1.307866, Test Accuracy: 31.83%, Average Test Loss: 1.390071\n",
            "\n",
            "Epoch 162/200: "
          ]
        },
        {
          "output_type": "stream",
          "name": "stderr",
          "text": [
            "100%|██████████| 162/162 [00:01<00:00, 129.73it/s]\n",
            "Batch 162/162, Loss: 1.253631: 100%|██████████| 162/162 [00:01<00:00, 118.00it/s]\n"
          ]
        },
        {
          "output_type": "stream",
          "name": "stdout",
          "text": [
            "\n",
            "Class-wise Accuracy:\n",
            "  Class 1: 81.02%\n",
            "  Class 2: 2.47%\n",
            "  Class 0: 17.44%\n",
            "  Class 3: 34.72%\n",
            "Test Accuracy: 33.9%, Test Loss: 1.308230\n",
            "\n",
            "\n",
            "Class-wise Accuracy:\n",
            "  Class 1: 81.02%\n",
            "  Class 2: 2.47%\n",
            "  Class 0: 17.44%\n",
            "  Class 3: 34.72%\n",
            "Train Accuracy: 35.61%, Average Train Loss: 1.307848, Test Accuracy: 33.91%, Average Test Loss: 1.308230\n",
            "\n",
            "Epoch 163/200: "
          ]
        },
        {
          "output_type": "stream",
          "name": "stderr",
          "text": [
            "100%|██████████| 162/162 [00:01<00:00, 102.62it/s]\n",
            "Batch 162/162, Loss: 1.347579: 100%|██████████| 162/162 [00:01<00:00, 107.29it/s]\n"
          ]
        },
        {
          "output_type": "stream",
          "name": "stdout",
          "text": [
            "\n",
            "Class-wise Accuracy:\n",
            "  Class 1: 6.02%\n",
            "  Class 2: 2.62%\n",
            "  Class 0: 4.32%\n",
            "  Class 3: 89.35%\n",
            "Test Accuracy: 25.6%, Test Loss: 1.673225\n",
            "\n",
            "\n",
            "Class-wise Accuracy:\n",
            "  Class 1: 6.02%\n",
            "  Class 2: 2.62%\n",
            "  Class 0: 4.32%\n",
            "  Class 3: 89.35%\n",
            "Train Accuracy: 35.84%, Average Train Loss: 1.327607, Test Accuracy: 25.58%, Average Test Loss: 1.673225\n",
            "\n",
            "Epoch 164/200: "
          ]
        },
        {
          "output_type": "stream",
          "name": "stderr",
          "text": [
            "100%|██████████| 162/162 [00:01<00:00, 94.07it/s]\n",
            "Batch 162/162, Loss: 1.221416: 100%|██████████| 162/162 [00:01<00:00, 109.14it/s]\n"
          ]
        },
        {
          "output_type": "stream",
          "name": "stdout",
          "text": [
            "\n",
            "Class-wise Accuracy:\n",
            "  Class 1: 0.77%\n",
            "  Class 2: 85.34%\n",
            "  Class 0: 14.66%\n",
            "  Class 3: 35.80%\n",
            "Test Accuracy: 34.1%, Test Loss: 1.353088\n",
            "\n",
            "\n",
            "Class-wise Accuracy:\n",
            "  Class 1: 0.77%\n",
            "  Class 2: 85.34%\n",
            "  Class 0: 14.66%\n",
            "  Class 3: 35.80%\n",
            "Train Accuracy: 34.22%, Average Train Loss: 1.334810, Test Accuracy: 34.14%, Average Test Loss: 1.353088\n",
            "\n",
            "Epoch 165/200: "
          ]
        },
        {
          "output_type": "stream",
          "name": "stderr",
          "text": [
            "100%|██████████| 162/162 [00:01<00:00, 132.80it/s]\n",
            "Batch 162/162, Loss: 1.177026: 100%|██████████| 162/162 [00:01<00:00, 116.95it/s]\n"
          ]
        },
        {
          "output_type": "stream",
          "name": "stdout",
          "text": [
            "\n",
            "Class-wise Accuracy:\n",
            "  Class 1: 4.48%\n",
            "  Class 2: 82.87%\n",
            "  Class 0: 18.98%\n",
            "  Class 3: 30.25%\n",
            "Test Accuracy: 34.1%, Test Loss: 1.369682\n",
            "\n",
            "\n",
            "Class-wise Accuracy:\n",
            "  Class 1: 4.48%\n",
            "  Class 2: 82.87%\n",
            "  Class 0: 18.98%\n",
            "  Class 3: 30.25%\n",
            "Train Accuracy: 36.03%, Average Train Loss: 1.306081, Test Accuracy: 34.14%, Average Test Loss: 1.369682\n",
            "\n",
            "Epoch 166/200: "
          ]
        },
        {
          "output_type": "stream",
          "name": "stderr",
          "text": [
            "100%|██████████| 162/162 [00:01<00:00, 131.81it/s]\n",
            "Batch 162/162, Loss: 1.939725: 100%|██████████| 162/162 [00:01<00:00, 120.26it/s]\n"
          ]
        },
        {
          "output_type": "stream",
          "name": "stdout",
          "text": [
            "\n",
            "Class-wise Accuracy:\n",
            "  Class 1: 4.17%\n",
            "  Class 2: 4.63%\n",
            "  Class 0: 2.31%\n",
            "  Class 3: 90.43%\n",
            "Test Accuracy: 25.4%, Test Loss: 1.884448\n",
            "\n",
            "\n",
            "Class-wise Accuracy:\n",
            "  Class 1: 4.17%\n",
            "  Class 2: 4.63%\n",
            "  Class 0: 2.31%\n",
            "  Class 3: 90.43%\n",
            "Train Accuracy: 34.68%, Average Train Loss: 1.306177, Test Accuracy: 25.39%, Average Test Loss: 1.884448\n",
            "\n",
            "Epoch 167/200: "
          ]
        },
        {
          "output_type": "stream",
          "name": "stderr",
          "text": [
            "100%|██████████| 162/162 [00:01<00:00, 127.97it/s]\n",
            "Batch 162/162, Loss: 1.436820: 100%|██████████| 162/162 [00:01<00:00, 120.13it/s]\n"
          ]
        },
        {
          "output_type": "stream",
          "name": "stdout",
          "text": [
            "\n",
            "Class-wise Accuracy:\n",
            "  Class 1: 43.52%\n",
            "  Class 2: 41.05%\n",
            "  Class 0: 17.75%\n",
            "  Class 3: 41.36%\n",
            "Test Accuracy: 35.9%, Test Loss: 1.358681\n",
            "\n",
            "\n",
            "Class-wise Accuracy:\n",
            "  Class 1: 43.52%\n",
            "  Class 2: 41.05%\n",
            "  Class 0: 17.75%\n",
            "  Class 3: 41.36%\n",
            "Train Accuracy: 35.69%, Average Train Loss: 1.303205, Test Accuracy: 35.92%, Average Test Loss: 1.358681\n",
            "\n",
            "Epoch 168/200: "
          ]
        },
        {
          "output_type": "stream",
          "name": "stderr",
          "text": [
            "100%|██████████| 162/162 [00:01<00:00, 133.70it/s]\n",
            "Batch 162/162, Loss: 1.223517: 100%|██████████| 162/162 [00:01<00:00, 112.98it/s]\n"
          ]
        },
        {
          "output_type": "stream",
          "name": "stdout",
          "text": [
            "\n",
            "Class-wise Accuracy:\n",
            "  Class 1: 81.48%\n",
            "  Class 2: 7.56%\n",
            "  Class 0: 1.08%\n",
            "  Class 3: 27.01%\n",
            "Test Accuracy: 29.3%, Test Loss: 1.339999\n",
            "\n",
            "\n",
            "Class-wise Accuracy:\n",
            "  Class 1: 81.48%\n",
            "  Class 2: 7.56%\n",
            "  Class 0: 1.08%\n",
            "  Class 3: 27.01%\n",
            "Train Accuracy: 35.92%, Average Train Loss: 1.305715, Test Accuracy: 29.28%, Average Test Loss: 1.339999\n",
            "\n",
            "Epoch 169/200: "
          ]
        },
        {
          "output_type": "stream",
          "name": "stderr",
          "text": [
            "100%|██████████| 162/162 [00:01<00:00, 100.93it/s]\n",
            "Batch 162/162, Loss: 1.188395: 100%|██████████| 162/162 [00:01<00:00, 124.41it/s]\n"
          ]
        },
        {
          "output_type": "stream",
          "name": "stdout",
          "text": [
            "\n",
            "Class-wise Accuracy:\n",
            "  Class 1: 2.01%\n",
            "  Class 2: 12.19%\n",
            "  Class 0: 50.00%\n",
            "  Class 3: 55.09%\n",
            "Test Accuracy: 29.8%, Test Loss: 1.385466\n",
            "\n",
            "\n",
            "Class-wise Accuracy:\n",
            "  Class 1: 2.01%\n",
            "  Class 2: 12.19%\n",
            "  Class 0: 50.00%\n",
            "  Class 3: 55.09%\n",
            "Train Accuracy: 36.30%, Average Train Loss: 1.292468, Test Accuracy: 29.82%, Average Test Loss: 1.385466\n",
            "\n",
            "Epoch 170/200: "
          ]
        },
        {
          "output_type": "stream",
          "name": "stderr",
          "text": [
            "100%|██████████| 162/162 [00:01<00:00, 90.23it/s]\n",
            "Batch 162/162, Loss: 1.516108: 100%|██████████| 162/162 [00:01<00:00, 114.14it/s]\n"
          ]
        },
        {
          "output_type": "stream",
          "name": "stdout",
          "text": [
            "\n",
            "Class-wise Accuracy:\n",
            "  Class 1: 4.94%\n",
            "  Class 2: 85.34%\n",
            "  Class 0: 15.28%\n",
            "  Class 3: 30.40%\n",
            "Test Accuracy: 34.0%, Test Loss: 1.509077\n",
            "\n",
            "\n",
            "Class-wise Accuracy:\n",
            "  Class 1: 4.94%\n",
            "  Class 2: 85.34%\n",
            "  Class 0: 15.28%\n",
            "  Class 3: 30.40%\n",
            "Train Accuracy: 37.58%, Average Train Loss: 1.283901, Test Accuracy: 33.99%, Average Test Loss: 1.509077\n",
            "\n",
            "Epoch 171/200: "
          ]
        },
        {
          "output_type": "stream",
          "name": "stderr",
          "text": [
            "100%|██████████| 162/162 [00:01<00:00, 137.88it/s]\n",
            "Batch 162/162, Loss: 1.534776: 100%|██████████| 162/162 [00:01<00:00, 122.62it/s]\n"
          ]
        },
        {
          "output_type": "stream",
          "name": "stdout",
          "text": [
            "\n",
            "Class-wise Accuracy:\n",
            "  Class 1: 1.23%\n",
            "  Class 2: 18.36%\n",
            "  Class 0: 12.81%\n",
            "  Class 3: 80.56%\n",
            "Test Accuracy: 28.2%, Test Loss: 1.469173\n",
            "\n",
            "\n",
            "Class-wise Accuracy:\n",
            "  Class 1: 1.23%\n",
            "  Class 2: 18.36%\n",
            "  Class 0: 12.81%\n",
            "  Class 3: 80.56%\n",
            "Train Accuracy: 35.92%, Average Train Loss: 1.291486, Test Accuracy: 28.24%, Average Test Loss: 1.469173\n",
            "\n",
            "Epoch 172/200: "
          ]
        },
        {
          "output_type": "stream",
          "name": "stderr",
          "text": [
            "100%|██████████| 162/162 [00:01<00:00, 131.22it/s]\n",
            "Batch 162/162, Loss: 1.501576: 100%|██████████| 162/162 [00:01<00:00, 120.96it/s]\n"
          ]
        },
        {
          "output_type": "stream",
          "name": "stdout",
          "text": [
            "\n",
            "Class-wise Accuracy:\n",
            "  Class 1: 1.70%\n",
            "  Class 2: 3.70%\n",
            "  Class 0: 1.85%\n",
            "  Class 3: 92.28%\n",
            "Test Accuracy: 24.9%, Test Loss: 1.899798\n",
            "\n",
            "\n",
            "Class-wise Accuracy:\n",
            "  Class 1: 1.70%\n",
            "  Class 2: 3.70%\n",
            "  Class 0: 1.85%\n",
            "  Class 3: 92.28%\n",
            "Train Accuracy: 35.19%, Average Train Loss: 1.293494, Test Accuracy: 24.88%, Average Test Loss: 1.899798\n",
            "\n",
            "Epoch 173/200: "
          ]
        },
        {
          "output_type": "stream",
          "name": "stderr",
          "text": [
            "100%|██████████| 162/162 [00:01<00:00, 136.13it/s]\n",
            "Batch 162/162, Loss: 1.307541: 100%|██████████| 162/162 [00:01<00:00, 118.95it/s]\n"
          ]
        },
        {
          "output_type": "stream",
          "name": "stdout",
          "text": [
            "\n",
            "Class-wise Accuracy:\n",
            "  Class 1: 63.27%\n",
            "  Class 2: 30.56%\n",
            "  Class 0: 0.00%\n",
            "  Class 3: 47.07%\n",
            "Test Accuracy: 35.2%, Test Loss: 1.442732\n",
            "\n",
            "\n",
            "Class-wise Accuracy:\n",
            "  Class 1: 63.27%\n",
            "  Class 2: 30.56%\n",
            "  Class 0: 0.00%\n",
            "  Class 3: 47.07%\n",
            "Train Accuracy: 36.19%, Average Train Loss: 1.290148, Test Accuracy: 35.22%, Average Test Loss: 1.442732\n",
            "\n",
            "Epoch 174/200: "
          ]
        },
        {
          "output_type": "stream",
          "name": "stderr",
          "text": [
            "100%|██████████| 162/162 [00:01<00:00, 122.12it/s]\n",
            "Batch 162/162, Loss: 1.253200: 100%|██████████| 162/162 [00:01<00:00, 104.16it/s]\n"
          ]
        },
        {
          "output_type": "stream",
          "name": "stdout",
          "text": [
            "\n",
            "Class-wise Accuracy:\n",
            "  Class 1: 13.12%\n",
            "  Class 2: 73.61%\n",
            "  Class 0: 14.51%\n",
            "  Class 3: 41.98%\n",
            "Test Accuracy: 35.8%, Test Loss: 1.346258\n",
            "\n",
            "\n",
            "Class-wise Accuracy:\n",
            "  Class 1: 13.12%\n",
            "  Class 2: 73.61%\n",
            "  Class 0: 14.51%\n",
            "  Class 3: 41.98%\n",
            "Train Accuracy: 35.88%, Average Train Loss: 1.296136, Test Accuracy: 35.80%, Average Test Loss: 1.346258\n",
            "\n",
            "Epoch 175/200: "
          ]
        },
        {
          "output_type": "stream",
          "name": "stderr",
          "text": [
            "100%|██████████| 162/162 [00:01<00:00, 103.65it/s]\n",
            "Batch 162/162, Loss: 1.709443: 100%|██████████| 162/162 [00:01<00:00, 97.51it/s]\n"
          ]
        },
        {
          "output_type": "stream",
          "name": "stdout",
          "text": [
            "\n",
            "Class-wise Accuracy:\n",
            "  Class 1: 3.55%\n",
            "  Class 2: 95.68%\n",
            "  Class 0: 6.94%\n",
            "  Class 3: 8.80%\n",
            "Test Accuracy: 28.7%, Test Loss: 1.673443\n",
            "\n",
            "\n",
            "Class-wise Accuracy:\n",
            "  Class 1: 3.55%\n",
            "  Class 2: 95.68%\n",
            "  Class 0: 6.94%\n",
            "  Class 3: 8.80%\n",
            "Train Accuracy: 37.35%, Average Train Loss: 1.277274, Test Accuracy: 28.74%, Average Test Loss: 1.673443\n",
            "\n",
            "Epoch 176/200: "
          ]
        },
        {
          "output_type": "stream",
          "name": "stderr",
          "text": [
            "100%|██████████| 162/162 [00:01<00:00, 114.76it/s]\n",
            "Batch 162/162, Loss: 1.434762: 100%|██████████| 162/162 [00:01<00:00, 120.54it/s]\n"
          ]
        },
        {
          "output_type": "stream",
          "name": "stdout",
          "text": [
            "\n",
            "Class-wise Accuracy:\n",
            "  Class 1: 4.17%\n",
            "  Class 2: 72.22%\n",
            "  Class 0: 9.10%\n",
            "  Class 3: 60.49%\n",
            "Test Accuracy: 36.5%, Test Loss: 1.311664\n",
            "\n",
            "\n",
            "Class-wise Accuracy:\n",
            "  Class 1: 4.17%\n",
            "  Class 2: 72.22%\n",
            "  Class 0: 9.10%\n",
            "  Class 3: 60.49%\n",
            "Train Accuracy: 36.03%, Average Train Loss: 1.295703, Test Accuracy: 36.50%, Average Test Loss: 1.311664\n",
            "\n",
            "Epoch 177/200: "
          ]
        },
        {
          "output_type": "stream",
          "name": "stderr",
          "text": [
            "100%|██████████| 162/162 [00:01<00:00, 135.21it/s]\n",
            "Batch 162/162, Loss: 1.287780: 100%|██████████| 162/162 [00:01<00:00, 116.28it/s]\n"
          ]
        },
        {
          "output_type": "stream",
          "name": "stdout",
          "text": [
            "\n",
            "Class-wise Accuracy:\n",
            "  Class 1: 0.62%\n",
            "  Class 2: 85.03%\n",
            "  Class 0: 21.76%\n",
            "  Class 3: 31.94%\n",
            "Test Accuracy: 34.8%, Test Loss: 1.375042\n",
            "\n",
            "\n",
            "Class-wise Accuracy:\n",
            "  Class 1: 0.62%\n",
            "  Class 2: 85.03%\n",
            "  Class 0: 21.76%\n",
            "  Class 3: 31.94%\n",
            "Train Accuracy: 35.73%, Average Train Loss: 1.294198, Test Accuracy: 34.84%, Average Test Loss: 1.375042\n",
            "\n",
            "Epoch 178/200: "
          ]
        },
        {
          "output_type": "stream",
          "name": "stderr",
          "text": [
            "100%|██████████| 162/162 [00:01<00:00, 126.44it/s]\n",
            "Batch 162/162, Loss: 1.355917: 100%|██████████| 162/162 [00:01<00:00, 117.05it/s]\n"
          ]
        },
        {
          "output_type": "stream",
          "name": "stdout",
          "text": [
            "\n",
            "Class-wise Accuracy:\n",
            "  Class 1: 44.91%\n",
            "  Class 2: 56.02%\n",
            "  Class 0: 10.19%\n",
            "  Class 3: 22.38%\n",
            "Test Accuracy: 33.4%, Test Loss: 1.434381\n",
            "\n",
            "\n",
            "Class-wise Accuracy:\n",
            "  Class 1: 44.91%\n",
            "  Class 2: 56.02%\n",
            "  Class 0: 10.19%\n",
            "  Class 3: 22.38%\n",
            "Train Accuracy: 37.04%, Average Train Loss: 1.276216, Test Accuracy: 33.37%, Average Test Loss: 1.434381\n",
            "\n",
            "Epoch 179/200: "
          ]
        },
        {
          "output_type": "stream",
          "name": "stderr",
          "text": [
            "100%|██████████| 162/162 [00:01<00:00, 134.61it/s]\n",
            "Batch 162/162, Loss: 1.520971: 100%|██████████| 162/162 [00:01<00:00, 122.12it/s]\n"
          ]
        },
        {
          "output_type": "stream",
          "name": "stdout",
          "text": [
            "\n",
            "Class-wise Accuracy:\n",
            "  Class 1: 0.31%\n",
            "  Class 2: 97.38%\n",
            "  Class 0: 0.31%\n",
            "  Class 3: 4.48%\n",
            "Test Accuracy: 25.6%, Test Loss: 2.309292\n",
            "\n",
            "\n",
            "Class-wise Accuracy:\n",
            "  Class 1: 0.31%\n",
            "  Class 2: 97.38%\n",
            "  Class 0: 0.31%\n",
            "  Class 3: 4.48%\n",
            "Train Accuracy: 35.19%, Average Train Loss: 1.318493, Test Accuracy: 25.62%, Average Test Loss: 2.309292\n",
            "\n",
            "Epoch 180/200: "
          ]
        },
        {
          "output_type": "stream",
          "name": "stderr",
          "text": [
            "100%|██████████| 162/162 [00:01<00:00, 106.46it/s]\n",
            "Batch 162/162, Loss: 2.626824: 100%|██████████| 162/162 [00:01<00:00, 97.06it/s]\n"
          ]
        },
        {
          "output_type": "stream",
          "name": "stdout",
          "text": [
            "\n",
            "Class-wise Accuracy:\n",
            "  Class 1: 0.31%\n",
            "  Class 2: 2.47%\n",
            "  Class 0: 0.31%\n",
            "  Class 3: 96.76%\n",
            "Test Accuracy: 25.0%, Test Loss: 2.767281\n",
            "\n",
            "\n",
            "Class-wise Accuracy:\n",
            "  Class 1: 0.31%\n",
            "  Class 2: 2.47%\n",
            "  Class 0: 0.31%\n",
            "  Class 3: 96.76%\n",
            "Train Accuracy: 36.03%, Average Train Loss: 1.301715, Test Accuracy: 24.96%, Average Test Loss: 2.767281\n",
            "\n",
            "Epoch 181/200: "
          ]
        },
        {
          "output_type": "stream",
          "name": "stderr",
          "text": [
            "100%|██████████| 162/162 [00:01<00:00, 99.61it/s]\n",
            "Batch 162/162, Loss: 1.469599: 100%|██████████| 162/162 [00:01<00:00, 109.02it/s]\n"
          ]
        },
        {
          "output_type": "stream",
          "name": "stdout",
          "text": [
            "\n",
            "Class-wise Accuracy:\n",
            "  Class 1: 31.64%\n",
            "  Class 2: 3.70%\n",
            "  Class 0: 0.00%\n",
            "  Class 3: 85.34%\n",
            "Test Accuracy: 30.2%, Test Loss: 1.404897\n",
            "\n",
            "\n",
            "Class-wise Accuracy:\n",
            "  Class 1: 31.64%\n",
            "  Class 2: 3.70%\n",
            "  Class 0: 0.00%\n",
            "  Class 3: 85.34%\n",
            "Train Accuracy: 35.07%, Average Train Loss: 1.284722, Test Accuracy: 30.17%, Average Test Loss: 1.404897\n",
            "\n",
            "Epoch 182/200: "
          ]
        },
        {
          "output_type": "stream",
          "name": "stderr",
          "text": [
            "100%|██████████| 162/162 [00:01<00:00, 91.56it/s] \n",
            "Batch 162/162, Loss: 1.973624: 100%|██████████| 162/162 [00:01<00:00, 107.93it/s]\n"
          ]
        },
        {
          "output_type": "stream",
          "name": "stdout",
          "text": [
            "\n",
            "Class-wise Accuracy:\n",
            "  Class 1: 0.15%\n",
            "  Class 2: 4.32%\n",
            "  Class 0: 0.00%\n",
            "  Class 3: 96.76%\n",
            "Test Accuracy: 25.3%, Test Loss: 1.985219\n",
            "\n",
            "\n",
            "Class-wise Accuracy:\n",
            "  Class 1: 0.15%\n",
            "  Class 2: 4.32%\n",
            "  Class 0: 0.00%\n",
            "  Class 3: 96.76%\n",
            "Train Accuracy: 36.61%, Average Train Loss: 1.278143, Test Accuracy: 25.31%, Average Test Loss: 1.985219\n",
            "\n",
            "Epoch 183/200: "
          ]
        },
        {
          "output_type": "stream",
          "name": "stderr",
          "text": [
            "100%|██████████| 162/162 [00:01<00:00, 100.80it/s]\n",
            "Batch 162/162, Loss: 1.382946: 100%|██████████| 162/162 [00:01<00:00, 117.39it/s]\n"
          ]
        },
        {
          "output_type": "stream",
          "name": "stdout",
          "text": [
            "\n",
            "Class-wise Accuracy:\n",
            "  Class 1: 17.90%\n",
            "  Class 2: 9.88%\n",
            "  Class 0: 0.00%\n",
            "  Class 3: 87.19%\n",
            "Test Accuracy: 28.7%, Test Loss: 1.430900\n",
            "\n",
            "\n",
            "Class-wise Accuracy:\n",
            "  Class 1: 17.90%\n",
            "  Class 2: 9.88%\n",
            "  Class 0: 0.00%\n",
            "  Class 3: 87.19%\n",
            "Train Accuracy: 36.23%, Average Train Loss: 1.291816, Test Accuracy: 28.74%, Average Test Loss: 1.430900\n",
            "\n",
            "Epoch 184/200: "
          ]
        },
        {
          "output_type": "stream",
          "name": "stderr",
          "text": [
            "100%|██████████| 162/162 [00:01<00:00, 132.80it/s]\n",
            "Batch 162/162, Loss: 1.224518: 100%|██████████| 162/162 [00:01<00:00, 120.82it/s]\n"
          ]
        },
        {
          "output_type": "stream",
          "name": "stdout",
          "text": [
            "\n",
            "Class-wise Accuracy:\n",
            "  Class 1: 22.07%\n",
            "  Class 2: 47.99%\n",
            "  Class 0: 26.85%\n",
            "  Class 3: 47.07%\n",
            "Test Accuracy: 36.0%, Test Loss: 1.371872\n",
            "\n",
            "\n",
            "Class-wise Accuracy:\n",
            "  Class 1: 22.07%\n",
            "  Class 2: 47.99%\n",
            "  Class 0: 26.85%\n",
            "  Class 3: 47.07%\n",
            "Train Accuracy: 37.50%, Average Train Loss: 1.282455, Test Accuracy: 36.00%, Average Test Loss: 1.371872\n",
            "\n",
            "Epoch 185/200: "
          ]
        },
        {
          "output_type": "stream",
          "name": "stderr",
          "text": [
            "100%|██████████| 162/162 [00:01<00:00, 128.83it/s]\n",
            "Batch 162/162, Loss: 1.314506: 100%|██████████| 162/162 [00:01<00:00, 97.45it/s]\n"
          ]
        },
        {
          "output_type": "stream",
          "name": "stdout",
          "text": [
            "\n",
            "Class-wise Accuracy:\n",
            "  Class 1: 31.94%\n",
            "  Class 2: 67.28%\n",
            "  Class 0: 1.23%\n",
            "  Class 3: 36.57%\n",
            "Test Accuracy: 34.3%, Test Loss: 1.389361\n",
            "\n",
            "\n",
            "Class-wise Accuracy:\n",
            "  Class 1: 31.94%\n",
            "  Class 2: 67.28%\n",
            "  Class 0: 1.23%\n",
            "  Class 3: 36.57%\n",
            "Train Accuracy: 38.16%, Average Train Loss: 1.288230, Test Accuracy: 34.26%, Average Test Loss: 1.389361\n",
            "\n",
            "Epoch 186/200: "
          ]
        },
        {
          "output_type": "stream",
          "name": "stderr",
          "text": [
            "100%|██████████| 162/162 [00:01<00:00, 105.67it/s]\n",
            "Batch 162/162, Loss: 1.445416: 100%|██████████| 162/162 [00:01<00:00, 106.53it/s]\n"
          ]
        },
        {
          "output_type": "stream",
          "name": "stdout",
          "text": [
            "\n",
            "Class-wise Accuracy:\n",
            "  Class 1: 15.43%\n",
            "  Class 2: 81.33%\n",
            "  Class 0: 12.04%\n",
            "  Class 3: 22.84%\n",
            "Test Accuracy: 32.9%, Test Loss: 1.563867\n",
            "\n",
            "\n",
            "Class-wise Accuracy:\n",
            "  Class 1: 15.43%\n",
            "  Class 2: 81.33%\n",
            "  Class 0: 12.04%\n",
            "  Class 3: 22.84%\n",
            "Train Accuracy: 38.54%, Average Train Loss: 1.270493, Test Accuracy: 32.91%, Average Test Loss: 1.563867\n",
            "\n",
            "Epoch 187/200: "
          ]
        },
        {
          "output_type": "stream",
          "name": "stderr",
          "text": [
            "100%|██████████| 162/162 [00:01<00:00, 106.21it/s]\n",
            "Batch 162/162, Loss: 1.298045: 100%|██████████| 162/162 [00:01<00:00, 119.29it/s]\n"
          ]
        },
        {
          "output_type": "stream",
          "name": "stdout",
          "text": [
            "\n",
            "Class-wise Accuracy:\n",
            "  Class 1: 21.30%\n",
            "  Class 2: 57.10%\n",
            "  Class 0: 2.31%\n",
            "  Class 3: 66.82%\n",
            "Test Accuracy: 36.9%, Test Loss: 1.296753\n",
            "\n",
            "\n",
            "Class-wise Accuracy:\n",
            "  Class 1: 21.30%\n",
            "  Class 2: 57.10%\n",
            "  Class 0: 2.31%\n",
            "  Class 3: 66.82%\n",
            "Train Accuracy: 37.42%, Average Train Loss: 1.276950, Test Accuracy: 36.88%, Average Test Loss: 1.296753\n",
            "\n",
            "Epoch 188/200: "
          ]
        },
        {
          "output_type": "stream",
          "name": "stderr",
          "text": [
            "100%|██████████| 162/162 [00:01<00:00, 133.91it/s]\n",
            "Batch 162/162, Loss: 1.538692: 100%|██████████| 162/162 [00:01<00:00, 118.42it/s]\n"
          ]
        },
        {
          "output_type": "stream",
          "name": "stdout",
          "text": [
            "\n",
            "Class-wise Accuracy:\n",
            "  Class 1: 10.03%\n",
            "  Class 2: 61.27%\n",
            "  Class 0: 28.70%\n",
            "  Class 3: 46.91%\n",
            "Test Accuracy: 36.7%, Test Loss: 1.327140\n",
            "\n",
            "\n",
            "Class-wise Accuracy:\n",
            "  Class 1: 10.03%\n",
            "  Class 2: 61.27%\n",
            "  Class 0: 28.70%\n",
            "  Class 3: 46.91%\n",
            "Train Accuracy: 36.03%, Average Train Loss: 1.276991, Test Accuracy: 36.73%, Average Test Loss: 1.327140\n",
            "\n",
            "Epoch 189/200: "
          ]
        },
        {
          "output_type": "stream",
          "name": "stderr",
          "text": [
            "100%|██████████| 162/162 [00:01<00:00, 132.56it/s]\n",
            "Batch 162/162, Loss: 1.634747: 100%|██████████| 162/162 [00:01<00:00, 118.60it/s]\n"
          ]
        },
        {
          "output_type": "stream",
          "name": "stdout",
          "text": [
            "\n",
            "Class-wise Accuracy:\n",
            "  Class 1: 15.90%\n",
            "  Class 2: 51.08%\n",
            "  Class 0: 2.01%\n",
            "  Class 3: 71.45%\n",
            "Test Accuracy: 35.1%, Test Loss: 1.350562\n",
            "\n",
            "\n",
            "Class-wise Accuracy:\n",
            "  Class 1: 15.90%\n",
            "  Class 2: 51.08%\n",
            "  Class 0: 2.01%\n",
            "  Class 3: 71.45%\n",
            "Train Accuracy: 36.65%, Average Train Loss: 1.289597, Test Accuracy: 35.11%, Average Test Loss: 1.350562\n",
            "\n",
            "Epoch 190/200: "
          ]
        },
        {
          "output_type": "stream",
          "name": "stderr",
          "text": [
            "100%|██████████| 162/162 [00:01<00:00, 131.19it/s]\n",
            "Batch 162/162, Loss: 1.580381: 100%|██████████| 162/162 [00:01<00:00, 118.09it/s]\n"
          ]
        },
        {
          "output_type": "stream",
          "name": "stdout",
          "text": [
            "\n",
            "Class-wise Accuracy:\n",
            "  Class 1: 0.00%\n",
            "  Class 2: 95.52%\n",
            "  Class 0: 5.86%\n",
            "  Class 3: 10.03%\n",
            "Test Accuracy: 27.9%, Test Loss: 1.770116\n",
            "\n",
            "\n",
            "Class-wise Accuracy:\n",
            "  Class 1: 0.00%\n",
            "  Class 2: 95.52%\n",
            "  Class 0: 5.86%\n",
            "  Class 3: 10.03%\n",
            "Train Accuracy: 38.08%, Average Train Loss: 1.282904, Test Accuracy: 27.85%, Average Test Loss: 1.770116\n",
            "\n",
            "Epoch 191/200: "
          ]
        },
        {
          "output_type": "stream",
          "name": "stderr",
          "text": [
            "100%|██████████| 162/162 [00:01<00:00, 107.96it/s]\n",
            "Batch 162/162, Loss: 1.369116: 100%|██████████| 162/162 [00:01<00:00, 99.62it/s]\n"
          ]
        },
        {
          "output_type": "stream",
          "name": "stdout",
          "text": [
            "\n",
            "Class-wise Accuracy:\n",
            "  Class 1: 30.56%\n",
            "  Class 2: 66.36%\n",
            "  Class 0: 9.10%\n",
            "  Class 3: 39.51%\n",
            "Test Accuracy: 36.4%, Test Loss: 1.359994\n",
            "\n",
            "\n",
            "Class-wise Accuracy:\n",
            "  Class 1: 30.56%\n",
            "  Class 2: 66.36%\n",
            "  Class 0: 9.10%\n",
            "  Class 3: 39.51%\n",
            "Train Accuracy: 37.15%, Average Train Loss: 1.280675, Test Accuracy: 36.38%, Average Test Loss: 1.359994\n",
            "\n",
            "Epoch 192/200: "
          ]
        },
        {
          "output_type": "stream",
          "name": "stderr",
          "text": [
            "100%|██████████| 162/162 [00:01<00:00, 99.41it/s] \n",
            "Batch 162/162, Loss: 1.654668: 100%|██████████| 162/162 [00:01<00:00, 108.60it/s]\n"
          ]
        },
        {
          "output_type": "stream",
          "name": "stdout",
          "text": [
            "\n",
            "Class-wise Accuracy:\n",
            "  Class 1: 0.46%\n",
            "  Class 2: 94.14%\n",
            "  Class 0: 10.19%\n",
            "  Class 3: 4.01%\n",
            "Test Accuracy: 27.2%, Test Loss: 1.839636\n",
            "\n",
            "\n",
            "Class-wise Accuracy:\n",
            "  Class 1: 0.46%\n",
            "  Class 2: 94.14%\n",
            "  Class 0: 10.19%\n",
            "  Class 3: 4.01%\n",
            "Train Accuracy: 37.62%, Average Train Loss: 1.283014, Test Accuracy: 27.20%, Average Test Loss: 1.839636\n",
            "\n",
            "Epoch 193/200: "
          ]
        },
        {
          "output_type": "stream",
          "name": "stderr",
          "text": [
            "100%|██████████| 162/162 [00:01<00:00, 131.16it/s]\n",
            "Batch 162/162, Loss: 1.341191: 100%|██████████| 162/162 [00:01<00:00, 119.97it/s]\n"
          ]
        },
        {
          "output_type": "stream",
          "name": "stdout",
          "text": [
            "\n",
            "Class-wise Accuracy:\n",
            "  Class 1: 1.23%\n",
            "  Class 2: 92.28%\n",
            "  Class 0: 17.13%\n",
            "  Class 3: 12.19%\n",
            "Test Accuracy: 30.7%, Test Loss: 1.625196\n",
            "\n",
            "\n",
            "Class-wise Accuracy:\n",
            "  Class 1: 1.23%\n",
            "  Class 2: 92.28%\n",
            "  Class 0: 17.13%\n",
            "  Class 3: 12.19%\n",
            "Train Accuracy: 36.84%, Average Train Loss: 1.279918, Test Accuracy: 30.71%, Average Test Loss: 1.625196\n",
            "\n",
            "Epoch 194/200: "
          ]
        },
        {
          "output_type": "stream",
          "name": "stderr",
          "text": [
            "100%|██████████| 162/162 [00:01<00:00, 130.58it/s]\n",
            "Batch 162/162, Loss: 1.218900: 100%|██████████| 162/162 [00:01<00:00, 121.38it/s]\n"
          ]
        },
        {
          "output_type": "stream",
          "name": "stdout",
          "text": [
            "\n",
            "Class-wise Accuracy:\n",
            "  Class 1: 47.84%\n",
            "  Class 2: 50.77%\n",
            "  Class 0: 12.19%\n",
            "  Class 3: 34.72%\n",
            "Test Accuracy: 36.4%, Test Loss: 1.325403\n",
            "\n",
            "\n",
            "Class-wise Accuracy:\n",
            "  Class 1: 47.84%\n",
            "  Class 2: 50.77%\n",
            "  Class 0: 12.19%\n",
            "  Class 3: 34.72%\n",
            "Train Accuracy: 37.19%, Average Train Loss: 1.274177, Test Accuracy: 36.38%, Average Test Loss: 1.325403\n",
            "\n",
            "Epoch 195/200: "
          ]
        },
        {
          "output_type": "stream",
          "name": "stderr",
          "text": [
            "100%|██████████| 162/162 [00:01<00:00, 141.27it/s]\n",
            "Batch 162/162, Loss: 1.282728: 100%|██████████| 162/162 [00:01<00:00, 122.27it/s]\n"
          ]
        },
        {
          "output_type": "stream",
          "name": "stdout",
          "text": [
            "\n",
            "Class-wise Accuracy:\n",
            "  Class 1: 92.28%\n",
            "  Class 2: 1.23%\n",
            "  Class 0: 4.63%\n",
            "  Class 3: 15.90%\n",
            "Test Accuracy: 28.5%, Test Loss: 1.678329\n",
            "\n",
            "\n",
            "Class-wise Accuracy:\n",
            "  Class 1: 92.28%\n",
            "  Class 2: 1.23%\n",
            "  Class 0: 4.63%\n",
            "  Class 3: 15.90%\n",
            "Train Accuracy: 35.61%, Average Train Loss: 1.282309, Test Accuracy: 28.51%, Average Test Loss: 1.678329\n",
            "\n",
            "Epoch 196/200: "
          ]
        },
        {
          "output_type": "stream",
          "name": "stderr",
          "text": [
            "100%|██████████| 162/162 [00:01<00:00, 132.58it/s]\n",
            "Batch 162/162, Loss: 1.260800: 100%|██████████| 162/162 [00:01<00:00, 113.16it/s]\n"
          ]
        },
        {
          "output_type": "stream",
          "name": "stdout",
          "text": [
            "\n",
            "Class-wise Accuracy:\n",
            "  Class 1: 23.15%\n",
            "  Class 2: 55.56%\n",
            "  Class 0: 1.08%\n",
            "  Class 3: 65.12%\n",
            "Test Accuracy: 36.2%, Test Loss: 2.524503\n",
            "\n",
            "\n",
            "Class-wise Accuracy:\n",
            "  Class 1: 23.15%\n",
            "  Class 2: 55.56%\n",
            "  Class 0: 1.08%\n",
            "  Class 3: 65.12%\n",
            "Train Accuracy: 37.62%, Average Train Loss: 1.276705, Test Accuracy: 36.23%, Average Test Loss: 2.524503\n",
            "\n",
            "Epoch 197/200: "
          ]
        },
        {
          "output_type": "stream",
          "name": "stderr",
          "text": [
            "100%|██████████| 162/162 [00:01<00:00, 97.64it/s] \n",
            "Batch 162/162, Loss: 1.158732: 100%|██████████| 162/162 [00:01<00:00, 113.03it/s]\n"
          ]
        },
        {
          "output_type": "stream",
          "name": "stdout",
          "text": [
            "\n",
            "Class-wise Accuracy:\n",
            "  Class 1: 9.57%\n",
            "  Class 2: 44.91%\n",
            "  Class 0: 50.15%\n",
            "  Class 3: 40.74%\n",
            "Test Accuracy: 36.3%, Test Loss: 1.300415\n",
            "\n",
            "\n",
            "Class-wise Accuracy:\n",
            "  Class 1: 9.57%\n",
            "  Class 2: 44.91%\n",
            "  Class 0: 50.15%\n",
            "  Class 3: 40.74%\n",
            "Train Accuracy: 37.69%, Average Train Loss: 1.280728, Test Accuracy: 36.34%, Average Test Loss: 1.300415\n",
            "\n",
            "Epoch 198/200: "
          ]
        },
        {
          "output_type": "stream",
          "name": "stderr",
          "text": [
            "100%|██████████| 162/162 [00:01<00:00, 81.79it/s]\n",
            "Batch 162/162, Loss: 2.179162: 100%|██████████| 162/162 [00:01<00:00, 86.24it/s] \n"
          ]
        },
        {
          "output_type": "stream",
          "name": "stdout",
          "text": [
            "\n",
            "Class-wise Accuracy:\n",
            "  Class 1: 9.72%\n",
            "  Class 2: 89.04%\n",
            "  Class 0: 4.78%\n",
            "  Class 3: 24.07%\n",
            "Test Accuracy: 31.9%, Test Loss: 1.568637\n",
            "\n",
            "\n",
            "Class-wise Accuracy:\n",
            "  Class 1: 9.72%\n",
            "  Class 2: 89.04%\n",
            "  Class 0: 4.78%\n",
            "  Class 3: 24.07%\n",
            "Train Accuracy: 38.93%, Average Train Loss: 1.259005, Test Accuracy: 31.91%, Average Test Loss: 1.568637\n",
            "\n",
            "Epoch 199/200: "
          ]
        },
        {
          "output_type": "stream",
          "name": "stderr",
          "text": [
            "100%|██████████| 162/162 [00:01<00:00, 82.51it/s]\n",
            "Batch 162/162, Loss: 1.735944: 100%|██████████| 162/162 [00:02<00:00, 79.47it/s] \n"
          ]
        },
        {
          "output_type": "stream",
          "name": "stdout",
          "text": [
            "\n",
            "Class-wise Accuracy:\n",
            "  Class 1: 6.79%\n",
            "  Class 2: 1.39%\n",
            "  Class 0: 0.62%\n",
            "  Class 3: 96.45%\n",
            "Test Accuracy: 26.3%, Test Loss: 1.819026\n",
            "\n",
            "\n",
            "Class-wise Accuracy:\n",
            "  Class 1: 6.79%\n",
            "  Class 2: 1.39%\n",
            "  Class 0: 0.62%\n",
            "  Class 3: 96.45%\n",
            "Train Accuracy: 38.93%, Average Train Loss: 1.267472, Test Accuracy: 26.31%, Average Test Loss: 1.819026\n",
            "\n",
            "Epoch 200/200: "
          ]
        },
        {
          "output_type": "stream",
          "name": "stderr",
          "text": [
            "100%|██████████| 162/162 [00:01<00:00, 131.01it/s]\n",
            "Batch 162/162, Loss: 1.776927: 100%|██████████| 162/162 [00:02<00:00, 73.54it/s]\n"
          ]
        },
        {
          "output_type": "stream",
          "name": "stdout",
          "text": [
            "\n",
            "Class-wise Accuracy:\n",
            "  Class 1: 8.49%\n",
            "  Class 2: 2.62%\n",
            "  Class 0: 0.00%\n",
            "  Class 3: 94.44%\n",
            "Test Accuracy: 26.4%, Test Loss: 1.823475\n",
            "\n",
            "\n",
            "Class-wise Accuracy:\n",
            "  Class 1: 8.49%\n",
            "  Class 2: 2.62%\n",
            "  Class 0: 0.00%\n",
            "  Class 3: 94.44%\n",
            "Train Accuracy: 37.96%, Average Train Loss: 1.274119, Test Accuracy: 26.39%, Average Test Loss: 1.823475\n",
            "\n"
          ]
        }
      ],
      "source": [
        "import torch\n",
        "import wandb\n",
        "from torch.utils.data import DataLoader\n",
        "from torch.optim import AdamW\n",
        "from torch.optim.lr_scheduler import CosineAnnealingLR\n",
        "from torch.nn import CrossEntropyLoss\n",
        "import numpy as np\n",
        "\n",
        "# Initialize Weights & Biases\n",
        "wandb.init(project=\"Master Thesis\", name=f\"GINtemp {seed}\")\n",
        "\n",
        "# Define hyperparameters\n",
        "lr = 1e-3\n",
        "weight_decay = 1e-4\n",
        "batch_size = 16  # Start with 124\n",
        "n_epochs = 400\n",
        "\n",
        "final_acc = 0.0\n",
        "\n",
        "# Log hyperparameters to wandb\n",
        "wandb.config.update({\n",
        "    \"learning_rate\": lr,\n",
        "    \"weight_decay\": weight_decay,\n",
        "    \"batch_size\": batch_size,\n",
        "    \"epochs\": n_epochs\n",
        "})\n",
        "\n",
        "# Define optimizer and scheduler\n",
        "optimizer = AdamW(model.parameters(), lr=lr, weight_decay=weight_decay)\n",
        "scheduler = CosineAnnealingLR(optimizer, T_max=n_epochs - 1)\n",
        "\n",
        "# Define loss function\n",
        "loss_fn = CrossEntropyLoss()\n",
        "\n",
        "# Create DataLoaders\n",
        "train_loader = DataLoader(train_set, batch_size=batch_size, shuffle=True)\n",
        "test_loader = DataLoader(test_set, batch_size=batch_size)\n",
        "\n",
        "# Initialize lists to store all predictions & targets\n",
        "all_preds, all_targets = [], []\n",
        "torch.nn.utils.clip_grad_norm_(model.parameters(), max_norm=1.0)\n",
        "\n",
        "\n",
        "# Training loop\n",
        "for epoch in range(1, n_epochs + 1):\n",
        "    print(f\"Epoch {epoch}/{n_epochs}: \", end=\"\")\n",
        "\n",
        "    train_loss, train_accuracy = train_one_epoch(\n",
        "        train_loader, model,edge_index, loss_fn, optimizer, scheduler, epoch, device\n",
        "    )\n",
        "\n",
        "    test_loss, test_accuracy, class_accuracies, batch_preds, batch_targets = test_model(test_loader, model,edge_index, loss_fn)\n",
        "    final_acc = test_accuracy\n",
        "    # Store predictions & labels for confusion matrix\n",
        "    all_preds.extend(batch_preds)\n",
        "    all_targets.extend(batch_targets)\n",
        "\n",
        "    # Print class-wise accuracy\n",
        "    print(\"\\nClass-wise Accuracy:\")\n",
        "    for class_idx, acc in class_accuracies.items():\n",
        "        print(f\"  Class {class_idx}: {acc:.2f}%\")\n",
        "\n",
        "    # Log results to wandb\n",
        "    wandb.log({\n",
        "        \"epoch\": epoch,\n",
        "        \"train_loss\": train_loss,\n",
        "        \"train_accuracy\": train_accuracy * 100,\n",
        "        \"test_loss\": test_loss,\n",
        "        \"test_accuracy\": test_accuracy,\n",
        "        \"learning_rate\": scheduler.get_last_lr()[0],\n",
        "        **{f\"class_{class_idx}_accuracy\": acc for class_idx, acc in class_accuracies.items()}\n",
        "    })\n",
        "\n",
        "    print(\n",
        "        f\"Train Accuracy: {100 * train_accuracy:.2f}%, \"\n",
        "        f\"Average Train Loss: {train_loss:.6f}, \"\n",
        "        f\"Test Accuracy: {test_accuracy:.2f}%, \"\n",
        "        f\"Average Test Loss: {test_loss:.6f}\\n\"\n",
        "    )\n",
        "\n",
        "# Convert lists to NumPy arrays\n",
        "all_preds = np.array(all_preds)\n",
        "all_targets = np.array(all_targets)\n",
        "\n",
        "# Save predictions & true labels for later use (confusion matrix)\n",
        "wandb.log({\"all_preds\": all_preds.tolist(), \"all_targets\": all_targets.tolist()})\n",
        "\n"
      ]
    },
    {
      "cell_type": "code",
      "execution_count": null,
      "metadata": {
        "id": "_EeozMvYlqbs"
      },
      "outputs": [],
      "source": [
        "wandb.finish()"
      ]
    },
    {
      "cell_type": "code",
      "execution_count": null,
      "metadata": {
        "id": "r25kGBA32Zhm"
      },
      "outputs": [],
      "source": [
        "import math\n",
        "# Assuming 'model' is your trained Braindecode model\n",
        "print(seed)\n",
        "torch.save(model, f\"GINtemp_{math.ceil(final_acc)}_{seed}.pth\")\n",
        "torch.save(model.state_dict(), f\"GINtemp_{math.ceil(final_acc)}_{seed}_state.pth\")\n"
      ]
    },
    {
      "cell_type": "code",
      "execution_count": null,
      "metadata": {
        "id": "6oTC35YwpAzQ"
      },
      "outputs": [],
      "source": []
    }
  ],
  "metadata": {
    "accelerator": "GPU",
    "colab": {
      "gpuType": "T4",
      "provenance": []
    },
    "kernelspec": {
      "display_name": "Python 3",
      "name": "python3"
    },
    "language_info": {
      "codemirror_mode": {
        "name": "ipython",
        "version": 3
      },
      "file_extension": ".py",
      "mimetype": "text/x-python",
      "name": "python",
      "nbconvert_exporter": "python",
      "pygments_lexer": "ipython3",
      "version": "3.12.9"
    }
  },
  "nbformat": 4,
  "nbformat_minor": 0
}