{
  "cells": [
    {
      "cell_type": "code",
      "execution_count": 1,
      "metadata": {
        "colab": {
          "base_uri": "https://localhost:8080/"
        },
        "id": "82Vbwzg32ZhZ",
        "outputId": "d1abcbe7-78d1-4d6f-b5b5-0b6fef335640"
      },
      "outputs": [
        {
          "output_type": "stream",
          "name": "stdout",
          "text": [
            "Running in Google Colab. Checking required libraries...\n",
            "All required libraries are already installed.\n"
          ]
        }
      ],
      "source": [
        "import sys\n",
        "import importlib\n",
        "import subprocess\n",
        "\n",
        "def install_if_colab():\n",
        "    if \"google.colab\" in sys.modules:\n",
        "        print(\"Running in Google Colab. Checking required libraries...\")\n",
        "\n",
        "        packages = [\"moabb\", \"braindecode\"]  # Add required libraries\n",
        "        missing_packages = [pkg for pkg in packages if importlib.util.find_spec(pkg) is None]\n",
        "\n",
        "        if missing_packages:\n",
        "            print(f\"Installing missing libraries: {', '.join(missing_packages)}\")\n",
        "            !pip install {\" \".join(missing_packages)}\n",
        "        else:\n",
        "            print(\"All required libraries are already installed.\")\n",
        "    else:\n",
        "        print(\"Not running in Google Colab. No installation needed.\")\n",
        "\n",
        "install_if_colab()\n"
      ]
    },
    {
      "cell_type": "code",
      "execution_count": 2,
      "metadata": {
        "id": "RuGBArX_2Zhe"
      },
      "outputs": [],
      "source": [
        "# import numpy as np\n",
        "# from braindecode.datasets import MOABBDataset\n",
        "\n",
        "# subject_id = [1,2,3,4]\n",
        "# dataset = MOABBDataset(dataset_name=\"BNCI2014_001\", subject_ids=[1,2,3,4,5,6,7,8,9])\n",
        "\n",
        "\n",
        "\n",
        "# from braindecode.preprocessing import (\n",
        "#     exponential_moving_standardize,\n",
        "#     preprocess,\n",
        "#     Preprocessor,\n",
        "# )\n",
        "\n",
        "# low_cut_hz = 4.0  # low cut frequency for filtering\n",
        "# high_cut_hz = 38.0  # high cut frequency for filtering\n",
        "# # Parameters for exponential moving standardization\n",
        "# factor_new = 1e-3\n",
        "# init_block_size = 1000\n",
        "\n",
        "# transforms = [\n",
        "#     Preprocessor(\"pick_types\", eeg=True, meg=False, stim=False),  # Keep EEG sensors\n",
        "#     Preprocessor(\n",
        "#         lambda data, factor: np.multiply(data, factor),  # Convert from V to uV\n",
        "#         factor=1e6,\n",
        "#     ),\n",
        "#     Preprocessor(\"filter\", l_freq=low_cut_hz, h_freq=high_cut_hz),  # Bandpass filter\n",
        "#     Preprocessor(\n",
        "#         exponential_moving_standardize,  # Exponential moving standardization\n",
        "#         factor_new=factor_new,\n",
        "#         init_block_size=init_block_size,\n",
        "#     ),\n",
        "# ]\n",
        "\n",
        "# # Transform the data\n",
        "# preprocess(dataset, transforms, n_jobs=-1)\n"
      ]
    },
    {
      "cell_type": "code",
      "execution_count": 3,
      "metadata": {
        "id": "ZQTd3g-i2Zhf"
      },
      "outputs": [],
      "source": [
        "# from braindecode.preprocessing import create_windows_from_events\n",
        "\n",
        "# trial_start_offset_seconds = -0.5\n",
        "# # Extract sampling frequency, check that they are same in all datasets\n",
        "# sfreq = dataset.datasets[0].raw.info[\"sfreq\"]\n",
        "# assert all([ds.raw.info[\"sfreq\"] == sfreq for ds in dataset.datasets])\n",
        "# # Calculate the trial start offset in samples.\n",
        "# trial_start_offset_samples = int(trial_start_offset_seconds * sfreq)\n",
        "\n",
        "# # Create windows using braindecode function for this. It needs parameters to define how\n",
        "# # trials should be used.\n",
        "# windows_dataset = create_windows_from_events(\n",
        "#     dataset,\n",
        "#     trial_start_offset_samples=trial_start_offset_samples,\n",
        "#     trial_stop_offset_samples=0,\n",
        "#     preload=True,\n",
        "# )"
      ]
    },
    {
      "cell_type": "code",
      "execution_count": 4,
      "metadata": {
        "colab": {
          "base_uri": "https://localhost:8080/"
        },
        "id": "f_sHCnT22v9k",
        "outputId": "049ebdb3-261d-404b-e87f-23f77943b123"
      },
      "outputs": [
        {
          "output_type": "stream",
          "name": "stdout",
          "text": [
            "Drive already mounted at /content/drive; to attempt to forcibly remount, call drive.mount(\"/content/drive\", force_remount=True).\n"
          ]
        }
      ],
      "source": [
        "from google.colab import drive\n",
        "drive.mount('/content/drive')\n",
        "path = \"/content/drive/MyDrive/\""
      ]
    },
    {
      "cell_type": "code",
      "execution_count": 5,
      "metadata": {
        "id": "1osynJth26to"
      },
      "outputs": [],
      "source": [
        "import pickle\n",
        "with open(path+'EEG_data/test_set.pkl', 'rb') as f:\n",
        "    test_set = pickle.load(f)\n",
        "\n",
        "import pickle\n",
        "with open(path+'EEG_data/train_set.pkl', 'rb') as f:\n",
        "    train_set = pickle.load(f)"
      ]
    },
    {
      "cell_type": "code",
      "execution_count": 6,
      "metadata": {
        "colab": {
          "base_uri": "https://localhost:8080/"
        },
        "id": "Xba9vjnO2Zhg",
        "outputId": "7abb1bea-09e6-4d63-979d-a4efa015eac5"
      },
      "outputs": [
        {
          "output_type": "stream",
          "name": "stdout",
          "text": [
            "n_classes:  4\n",
            "n_channels: 22\n",
            "input_window_samples size: 1125\n"
          ]
        },
        {
          "output_type": "stream",
          "name": "stderr",
          "text": [
            "/usr/local/lib/python3.11/dist-packages/braindecode/util.py:51: UserWarning: torch.backends.cudnn.benchmark was set to True which may results in lack of reproducibility. In some cases to ensure reproducibility you may need to set torch.backends.cudnn.benchmark to False.\n",
            "  warn(\n"
          ]
        }
      ],
      "source": [
        "import torch\n",
        "#from shallow_fbcsp import ShallowFBCSPNet\n",
        "from braindecode.util import set_random_seeds\n",
        "\n",
        "\n",
        "cuda = torch.cuda.is_available()  # check if GPU is available, if True chooses to use it\n",
        "device = \"cuda\" if cuda else \"cpu\"\n",
        "if cuda:\n",
        "    torch.backends.cudnn.benchmark = True\n",
        "seed = 19123\n",
        "set_random_seeds(seed=seed, cuda=cuda)\n",
        "\n",
        "n_classes = 4\n",
        "classes = list(range(n_classes))\n",
        "# Extract number of chans and time steps from dataset\n",
        "n_channels = 22\n",
        "input_window_samples = 1125\n",
        "\n",
        "print(\"n_classes: \", n_classes)\n",
        "print(\"n_channels:\", n_channels)\n",
        "print(\"input_window_samples size:\", input_window_samples)"
      ]
    },
    {
      "cell_type": "code",
      "execution_count": 7,
      "metadata": {
        "colab": {
          "base_uri": "https://localhost:8080/"
        },
        "id": "b3wPzn3X2Zhh",
        "outputId": "4db9c8f7-3812-4c65-ac56-b6a4184edbe8"
      },
      "outputs": [
        {
          "output_type": "stream",
          "name": "stdout",
          "text": [
            "ShallowRNNNet(\n",
            "  (RNN): RNN(\n",
            "    (RNN): RNN(22, 64, num_layers=2, batch_first=True)\n",
            "  )\n",
            "  (spatial): Conv2d(1, 10, kernel_size=(64, 1), stride=(1, 1))\n",
            "  (pool): AvgPool2d(kernel_size=(1, 200), stride=(1, 200), padding=0)\n",
            "  (batch_norm): BatchNorm2d(10, eps=1e-05, momentum=0.1, affine=True, track_running_stats=True)\n",
            "  (dropout): Dropout(p=0.7, inplace=False)\n",
            "  (fc): LazyLinear(in_features=0, out_features=4, bias=True)\n",
            ")\n"
          ]
        }
      ],
      "source": [
        "#from models_fbscp import CollapsedShallowNet\n",
        "# The ShallowFBCSPNet is a `nn.Sequential` model\n",
        "import importlib\n",
        "import RNN_model\n",
        "importlib.reload(RNN_model)\n",
        "from RNN_model import ShallowRNNNet\n",
        "model = ShallowRNNNet(\n",
        "    n_chans=22,\n",
        "    n_outputs=n_classes,\n",
        "    n_times=input_window_samples,\n",
        ")\n",
        "pool_size = 25\n",
        "# Display torchinfo table describing the model\n",
        "print(model)\n",
        "\n",
        "# Send model to GPU\n",
        "if cuda:\n",
        "    model.cuda()\n",
        "\n"
      ]
    },
    {
      "cell_type": "code",
      "execution_count": 7,
      "metadata": {
        "id": "mK-C-UW62Zhi"
      },
      "outputs": [],
      "source": [
        "\n"
      ]
    },
    {
      "cell_type": "code",
      "execution_count": 8,
      "metadata": {
        "id": "n7Eii9TH2Zhi"
      },
      "outputs": [],
      "source": [
        "# splitted = windows_dataset.split(\"session\")\n",
        "# train_set = splitted['0train']  # Session train\n",
        "# test_set = splitted['1test']  # Session evaluation\n",
        "\n",
        "from torch.nn import Module\n",
        "from torch.optim.lr_scheduler import LRScheduler\n",
        "from torch.utils.data import DataLoader\n",
        "\n",
        "#lr = 1e-4\n",
        "#weight_decay = 1e-4\n",
        "#batch_size = 64\n",
        "#n_epochs = 200\n"
      ]
    },
    {
      "cell_type": "code",
      "execution_count": 9,
      "metadata": {
        "id": "inbw4Tud2Zhj"
      },
      "outputs": [],
      "source": [
        "#train_loader = DataLoader(train_set, batch_size=batch_size, shuffle=True)\n",
        "#progress_bar = tqdm(enumerate(train_loader), total=len(train_loader))\n",
        "\n",
        "\n",
        "#from collections import defaultdict\n",
        "\n",
        "#counting_dict = defaultdict(int)  # Initialize class counter\n",
        "\n",
        "#for batch_idx, (X, y, _) in progress_bar:\n",
        "#   X, y = X.to(device), y.to(device)  # Move to device if needed\n",
        "\n",
        "    # Count occurrences of each class in y\n",
        "#    for value in y:\n",
        "#        counting_dict[int(value.item())] += 1  # Convert tensor to int and update count\n",
        "\n",
        "# Print class frequencies\n",
        "#print(\"Class counts:\", dict(counting_dict))\n"
      ]
    },
    {
      "cell_type": "code",
      "execution_count": 10,
      "metadata": {
        "id": "PlgtbF-r2Zhj"
      },
      "outputs": [],
      "source": [
        "\n",
        "from tqdm import tqdm\n",
        "# Define a method for training one epoch\n",
        "\n",
        "\n",
        "def train_one_epoch(\n",
        "        dataloader: DataLoader, model: Module, loss_fn, optimizer,\n",
        "        scheduler: LRScheduler, epoch: int, device, print_batch_stats=True\n",
        "):\n",
        "    model.train()  # Set the model to training mode\n",
        "    train_loss, correct = 0, 0\n",
        "\n",
        "    progress_bar = tqdm(enumerate(dataloader), total=len(dataloader),\n",
        "                        disable=not print_batch_stats)\n",
        "\n",
        "    for batch_idx, (X, y, _) in progress_bar:\n",
        "        X, y = X.to(device), y.to(device)\n",
        "        #print(X.shape)\n",
        "        optimizer.zero_grad()\n",
        "        pred = model(X)\n",
        "        #print(y.shape)\n",
        "        #print(pred.shape)\n",
        "        loss = loss_fn(pred, y)\n",
        "        loss.backward()\n",
        "        optimizer.step()  # update the model weights\n",
        "        optimizer.zero_grad()\n",
        "\n",
        "        train_loss += loss.item()\n",
        "        correct += (pred.argmax(1) == y).sum().item()\n",
        "\n",
        "        #if print_batch_stats:\n",
        "        #    progress_bar.set_description(\n",
        "        #        f\"Epoch {epoch}/{n_epochs}, \"\n",
        "        #        f\"Batch {batch_idx + 1}/{len(dataloader)}, \"\n",
        "        #        f\"Loss: {loss.item():.6f}\"\n",
        "        #    )\n",
        "\n",
        "    # Update the learning rate\n",
        "    scheduler.step()\n",
        "\n",
        "    correct /= len(dataloader.dataset)\n",
        "    return train_loss / len(dataloader), correct\n"
      ]
    },
    {
      "cell_type": "code",
      "execution_count": 11,
      "metadata": {
        "id": "M1S-1vTK2Zhk"
      },
      "outputs": [],
      "source": [
        "from collections import defaultdict\n",
        "from tqdm import tqdm\n",
        "import torch\n",
        "from torch.utils.data import DataLoader\n",
        "from sklearn.metrics import confusion_matrix\n",
        "import numpy as np\n",
        "\n",
        "@torch.no_grad()\n",
        "def test_model(dataloader: DataLoader, model: torch.nn.Module, loss_fn, print_batch_stats=True):\n",
        "    device = next(model.parameters()).device  # Get model device\n",
        "    size = len(dataloader.dataset)\n",
        "    n_batches = len(dataloader)\n",
        "    model.eval()  # Switch to evaluation mode\n",
        "    test_loss, correct = 0, 0\n",
        "\n",
        "    # Initialize dictionaries for per-class tracking\n",
        "    class_correct = defaultdict(int)\n",
        "    class_total = defaultdict(int)\n",
        "\n",
        "    # Lists to store true and predicted labels for confusion matrix\n",
        "    all_preds = []\n",
        "    all_targets = []\n",
        "\n",
        "    if print_batch_stats:\n",
        "        progress_bar = tqdm(enumerate(dataloader), total=len(dataloader))\n",
        "    else:\n",
        "        progress_bar = enumerate(dataloader)\n",
        "\n",
        "    for batch_idx, (X, y, _) in progress_bar:\n",
        "        X, y = X.to(device), y.to(device)\n",
        "        pred = model(X)\n",
        "        batch_loss = loss_fn(pred, y).item()\n",
        "\n",
        "        test_loss += batch_loss\n",
        "        correct += (pred.argmax(1) == y).sum().item()\n",
        "\n",
        "        # Store predictions and true labels for confusion matrix\n",
        "        all_preds.append(pred.argmax(1).cpu())\n",
        "        all_targets.append(y.cpu())\n",
        "\n",
        "        # Compute per-class accuracy\n",
        "        preds_labels = pred.argmax(1)\n",
        "        for label, pred_label in zip(y, preds_labels):\n",
        "            class_total[label.item()] += 1\n",
        "            class_correct[label.item()] += (label == pred_label).item()\n",
        "\n",
        "        if print_batch_stats:\n",
        "            progress_bar.set_description(\n",
        "                f\"Batch {batch_idx + 1}/{len(dataloader)}, Loss: {batch_loss:.6f}\"\n",
        "            )\n",
        "\n",
        "    # Convert lists to tensors\n",
        "    all_preds = torch.cat(all_preds)\n",
        "    all_targets = torch.cat(all_targets)\n",
        "\n",
        "    # Compute per-class accuracy\n",
        "    class_accuracies = {\n",
        "        cls: (class_correct[cls] / class_total[cls]) * 100 if class_total[cls] > 0 else 0\n",
        "        for cls in class_total\n",
        "    }\n",
        "\n",
        "    # Compute overall accuracy\n",
        "    test_loss /= n_batches\n",
        "    overall_accuracy = (correct / size) * 100\n",
        "\n",
        "    # Print per-class accuracy\n",
        "    print(\"\\nClass-wise Accuracy:\")\n",
        "    for cls, acc in class_accuracies.items():\n",
        "        print(f\"  Class {cls}: {acc:.2f}%\")\n",
        "\n",
        "    print(f\"Test Accuracy: {overall_accuracy:.1f}%, Test Loss: {test_loss:.6f}\\n\")\n",
        "\n",
        "    return test_loss, overall_accuracy, class_accuracies, all_preds, all_targets\n"
      ]
    },
    {
      "cell_type": "code",
      "execution_count": 12,
      "metadata": {
        "colab": {
          "base_uri": "https://localhost:8080/"
        },
        "id": "Vn58-cmZ2Zhl",
        "outputId": "7121eb47-139c-4871-f5b5-b63ad4752141"
      },
      "outputs": [
        {
          "output_type": "stream",
          "name": "stderr",
          "text": [
            "\u001b[34m\u001b[1mwandb\u001b[0m: Using wandb-core as the SDK backend.  Please refer to https://wandb.me/wandb-core for more information.\n",
            "\u001b[34m\u001b[1mwandb\u001b[0m: Currently logged in as: \u001b[33mahmm98\u001b[0m (\u001b[33mphilinthesky\u001b[0m) to \u001b[32mhttps://api.wandb.ai\u001b[0m. Use \u001b[1m`wandb login --relogin`\u001b[0m to force relogin\n"
          ]
        },
        {
          "output_type": "execute_result",
          "data": {
            "text/plain": [
              "True"
            ]
          },
          "metadata": {},
          "execution_count": 12
        }
      ],
      "source": [
        "import wandb\n",
        "wandb.login()"
      ]
    },
    {
      "cell_type": "code",
      "execution_count": 13,
      "metadata": {
        "colab": {
          "base_uri": "https://localhost:8080/",
          "height": 1000
        },
        "id": "uDUBctmi2Zhl",
        "outputId": "51b9b434-fd8e-419c-aac6-3bc6019dc773"
      },
      "outputs": [
        {
          "output_type": "display_data",
          "data": {
            "text/plain": [
              "<IPython.core.display.HTML object>"
            ],
            "text/html": [
              "Tracking run with wandb version 0.19.8"
            ]
          },
          "metadata": {}
        },
        {
          "output_type": "display_data",
          "data": {
            "text/plain": [
              "<IPython.core.display.HTML object>"
            ],
            "text/html": [
              "Run data is saved locally in <code>/content/wandb/run-20250317_103800-lo9uqucz</code>"
            ]
          },
          "metadata": {}
        },
        {
          "output_type": "display_data",
          "data": {
            "text/plain": [
              "<IPython.core.display.HTML object>"
            ],
            "text/html": [
              "Syncing run <strong><a href='https://wandb.ai/philinthesky/Master%20Thesis/runs/lo9uqucz' target=\"_blank\">RNN 200 19123</a></strong> to <a href='https://wandb.ai/philinthesky/Master%20Thesis' target=\"_blank\">Weights & Biases</a> (<a href='https://wandb.me/developer-guide' target=\"_blank\">docs</a>)<br>"
            ]
          },
          "metadata": {}
        },
        {
          "output_type": "display_data",
          "data": {
            "text/plain": [
              "<IPython.core.display.HTML object>"
            ],
            "text/html": [
              " View project at <a href='https://wandb.ai/philinthesky/Master%20Thesis' target=\"_blank\">https://wandb.ai/philinthesky/Master%20Thesis</a>"
            ]
          },
          "metadata": {}
        },
        {
          "output_type": "display_data",
          "data": {
            "text/plain": [
              "<IPython.core.display.HTML object>"
            ],
            "text/html": [
              " View run at <a href='https://wandb.ai/philinthesky/Master%20Thesis/runs/lo9uqucz' target=\"_blank\">https://wandb.ai/philinthesky/Master%20Thesis/runs/lo9uqucz</a>"
            ]
          },
          "metadata": {}
        },
        {
          "output_type": "stream",
          "name": "stdout",
          "text": [
            "Epoch 1/50: "
          ]
        },
        {
          "output_type": "stream",
          "name": "stderr",
          "text": [
            "100%|██████████| 41/41 [00:01<00:00, 20.54it/s]\n",
            "Batch 41/41, Loss: 1.331975: 100%|██████████| 41/41 [00:00<00:00, 54.75it/s]\n"
          ]
        },
        {
          "output_type": "stream",
          "name": "stdout",
          "text": [
            "\n",
            "Class-wise Accuracy:\n",
            "  Class 1: 100.00%\n",
            "  Class 2: 0.00%\n",
            "  Class 0: 0.15%\n",
            "  Class 3: 2.16%\n",
            "Test Accuracy: 25.6%, Test Loss: 1.404101\n",
            "\n",
            "\n",
            "Class-wise Accuracy:\n",
            "  Class 1: 100.00%\n",
            "  Class 2: 0.00%\n",
            "  Class 0: 0.15%\n",
            "  Class 3: 2.16%\n",
            "Train Accuracy: 28.05%, Average Train Loss: 1.375165, Test Accuracy: 25.58%, Average Test Loss: 1.404101\n",
            "\n",
            "Epoch 2/50: "
          ]
        },
        {
          "output_type": "stream",
          "name": "stderr",
          "text": [
            "100%|██████████| 41/41 [00:00<00:00, 57.15it/s]\n",
            "Batch 41/41, Loss: 1.618740: 100%|██████████| 41/41 [00:00<00:00, 53.16it/s]\n"
          ]
        },
        {
          "output_type": "stream",
          "name": "stdout",
          "text": [
            "\n",
            "Class-wise Accuracy:\n",
            "  Class 1: 100.00%\n",
            "  Class 2: 0.00%\n",
            "  Class 0: 0.00%\n",
            "  Class 3: 0.31%\n",
            "Test Accuracy: 25.1%, Test Loss: 1.827058\n",
            "\n",
            "\n",
            "Class-wise Accuracy:\n",
            "  Class 1: 100.00%\n",
            "  Class 2: 0.00%\n",
            "  Class 0: 0.00%\n",
            "  Class 3: 0.31%\n",
            "Train Accuracy: 33.18%, Average Train Loss: 1.338512, Test Accuracy: 25.08%, Average Test Loss: 1.827058\n",
            "\n",
            "Epoch 3/50: "
          ]
        },
        {
          "output_type": "stream",
          "name": "stderr",
          "text": [
            "100%|██████████| 41/41 [00:00<00:00, 54.76it/s]\n",
            "Batch 41/41, Loss: 1.312721: 100%|██████████| 41/41 [00:00<00:00, 56.61it/s]\n"
          ]
        },
        {
          "output_type": "stream",
          "name": "stdout",
          "text": [
            "\n",
            "Class-wise Accuracy:\n",
            "  Class 1: 62.65%\n",
            "  Class 2: 7.10%\n",
            "  Class 0: 3.55%\n",
            "  Class 3: 69.75%\n",
            "Test Accuracy: 35.8%, Test Loss: 1.317703\n",
            "\n",
            "\n",
            "Class-wise Accuracy:\n",
            "  Class 1: 62.65%\n",
            "  Class 2: 7.10%\n",
            "  Class 0: 3.55%\n",
            "  Class 3: 69.75%\n",
            "Train Accuracy: 35.07%, Average Train Loss: 1.323159, Test Accuracy: 35.76%, Average Test Loss: 1.317703\n",
            "\n",
            "Epoch 4/50: "
          ]
        },
        {
          "output_type": "stream",
          "name": "stderr",
          "text": [
            "100%|██████████| 41/41 [00:00<00:00, 57.97it/s]\n",
            "Batch 41/41, Loss: 1.244950: 100%|██████████| 41/41 [00:00<00:00, 54.01it/s]\n"
          ]
        },
        {
          "output_type": "stream",
          "name": "stdout",
          "text": [
            "\n",
            "Class-wise Accuracy:\n",
            "  Class 1: 66.82%\n",
            "  Class 2: 10.19%\n",
            "  Class 0: 15.59%\n",
            "  Class 3: 56.02%\n",
            "Test Accuracy: 37.2%, Test Loss: 1.299849\n",
            "\n",
            "\n",
            "Class-wise Accuracy:\n",
            "  Class 1: 66.82%\n",
            "  Class 2: 10.19%\n",
            "  Class 0: 15.59%\n",
            "  Class 3: 56.02%\n",
            "Train Accuracy: 37.54%, Average Train Loss: 1.302510, Test Accuracy: 37.15%, Average Test Loss: 1.299849\n",
            "\n",
            "Epoch 5/50: "
          ]
        },
        {
          "output_type": "stream",
          "name": "stderr",
          "text": [
            "100%|██████████| 41/41 [00:00<00:00, 54.38it/s]\n",
            "Batch 41/41, Loss: 1.644727: 100%|██████████| 41/41 [00:00<00:00, 47.90it/s]\n"
          ]
        },
        {
          "output_type": "stream",
          "name": "stdout",
          "text": [
            "\n",
            "Class-wise Accuracy:\n",
            "  Class 1: 7.72%\n",
            "  Class 2: 0.31%\n",
            "  Class 0: 0.15%\n",
            "  Class 3: 99.54%\n",
            "Test Accuracy: 26.9%, Test Loss: 1.601334\n",
            "\n",
            "\n",
            "Class-wise Accuracy:\n",
            "  Class 1: 7.72%\n",
            "  Class 2: 0.31%\n",
            "  Class 0: 0.15%\n",
            "  Class 3: 99.54%\n",
            "Train Accuracy: 38.39%, Average Train Loss: 1.287807, Test Accuracy: 26.93%, Average Test Loss: 1.601334\n",
            "\n",
            "Epoch 6/50: "
          ]
        },
        {
          "output_type": "stream",
          "name": "stderr",
          "text": [
            "100%|██████████| 41/41 [00:00<00:00, 47.31it/s]\n",
            "Batch 41/41, Loss: 1.095611: 100%|██████████| 41/41 [00:00<00:00, 44.62it/s]\n"
          ]
        },
        {
          "output_type": "stream",
          "name": "stdout",
          "text": [
            "\n",
            "Class-wise Accuracy:\n",
            "  Class 1: 94.91%\n",
            "  Class 2: 15.12%\n",
            "  Class 0: 7.41%\n",
            "  Class 3: 28.24%\n",
            "Test Accuracy: 36.4%, Test Loss: 1.345086\n",
            "\n",
            "\n",
            "Class-wise Accuracy:\n",
            "  Class 1: 94.91%\n",
            "  Class 2: 15.12%\n",
            "  Class 0: 7.41%\n",
            "  Class 3: 28.24%\n",
            "Train Accuracy: 40.20%, Average Train Loss: 1.274466, Test Accuracy: 36.42%, Average Test Loss: 1.345086\n",
            "\n",
            "Epoch 7/50: "
          ]
        },
        {
          "output_type": "stream",
          "name": "stderr",
          "text": [
            "100%|██████████| 41/41 [00:00<00:00, 43.64it/s]\n",
            "Batch 41/41, Loss: 1.461483: 100%|██████████| 41/41 [00:00<00:00, 45.75it/s]\n"
          ]
        },
        {
          "output_type": "stream",
          "name": "stdout",
          "text": [
            "\n",
            "Class-wise Accuracy:\n",
            "  Class 1: 0.00%\n",
            "  Class 2: 99.23%\n",
            "  Class 0: 2.78%\n",
            "  Class 3: 6.79%\n",
            "Test Accuracy: 27.2%, Test Loss: 1.768906\n",
            "\n",
            "\n",
            "Class-wise Accuracy:\n",
            "  Class 1: 0.00%\n",
            "  Class 2: 99.23%\n",
            "  Class 0: 2.78%\n",
            "  Class 3: 6.79%\n",
            "Train Accuracy: 41.24%, Average Train Loss: 1.257439, Test Accuracy: 27.20%, Average Test Loss: 1.768906\n",
            "\n",
            "Epoch 8/50: "
          ]
        },
        {
          "output_type": "stream",
          "name": "stderr",
          "text": [
            "100%|██████████| 41/41 [00:00<00:00, 51.67it/s]\n",
            "Batch 41/41, Loss: 1.086124: 100%|██████████| 41/41 [00:00<00:00, 55.14it/s]\n"
          ]
        },
        {
          "output_type": "stream",
          "name": "stdout",
          "text": [
            "\n",
            "Class-wise Accuracy:\n",
            "  Class 1: 99.07%\n",
            "  Class 2: 12.04%\n",
            "  Class 0: 1.70%\n",
            "  Class 3: 27.47%\n",
            "Test Accuracy: 35.1%, Test Loss: 1.397954\n",
            "\n",
            "\n",
            "Class-wise Accuracy:\n",
            "  Class 1: 99.07%\n",
            "  Class 2: 12.04%\n",
            "  Class 0: 1.70%\n",
            "  Class 3: 27.47%\n",
            "Train Accuracy: 41.82%, Average Train Loss: 1.254384, Test Accuracy: 35.07%, Average Test Loss: 1.397954\n",
            "\n",
            "Epoch 9/50: "
          ]
        },
        {
          "output_type": "stream",
          "name": "stderr",
          "text": [
            "100%|██████████| 41/41 [00:00<00:00, 55.63it/s]\n",
            "Batch 41/41, Loss: 1.168081: 100%|██████████| 41/41 [00:00<00:00, 54.58it/s]\n"
          ]
        },
        {
          "output_type": "stream",
          "name": "stdout",
          "text": [
            "\n",
            "Class-wise Accuracy:\n",
            "  Class 1: 50.00%\n",
            "  Class 2: 82.72%\n",
            "  Class 0: 0.93%\n",
            "  Class 3: 14.51%\n",
            "Test Accuracy: 37.0%, Test Loss: 1.495209\n",
            "\n",
            "\n",
            "Class-wise Accuracy:\n",
            "  Class 1: 50.00%\n",
            "  Class 2: 82.72%\n",
            "  Class 0: 0.93%\n",
            "  Class 3: 14.51%\n",
            "Train Accuracy: 43.40%, Average Train Loss: 1.232329, Test Accuracy: 37.04%, Average Test Loss: 1.495209\n",
            "\n",
            "Epoch 10/50: "
          ]
        },
        {
          "output_type": "stream",
          "name": "stderr",
          "text": [
            "100%|██████████| 41/41 [00:00<00:00, 59.73it/s]\n",
            "Batch 41/41, Loss: 1.241238: 100%|██████████| 41/41 [00:00<00:00, 53.34it/s]\n"
          ]
        },
        {
          "output_type": "stream",
          "name": "stdout",
          "text": [
            "\n",
            "Class-wise Accuracy:\n",
            "  Class 1: 34.57%\n",
            "  Class 2: 94.91%\n",
            "  Class 0: 0.46%\n",
            "  Class 3: 10.80%\n",
            "Test Accuracy: 35.2%, Test Loss: 1.442237\n",
            "\n",
            "\n",
            "Class-wise Accuracy:\n",
            "  Class 1: 34.57%\n",
            "  Class 2: 94.91%\n",
            "  Class 0: 0.46%\n",
            "  Class 3: 10.80%\n",
            "Train Accuracy: 44.14%, Average Train Loss: 1.214620, Test Accuracy: 35.19%, Average Test Loss: 1.442237\n",
            "\n",
            "Epoch 11/50: "
          ]
        },
        {
          "output_type": "stream",
          "name": "stderr",
          "text": [
            "100%|██████████| 41/41 [00:00<00:00, 56.68it/s]\n",
            "Batch 41/41, Loss: 1.055961: 100%|██████████| 41/41 [00:00<00:00, 52.49it/s]\n"
          ]
        },
        {
          "output_type": "stream",
          "name": "stdout",
          "text": [
            "\n",
            "Class-wise Accuracy:\n",
            "  Class 1: 58.95%\n",
            "  Class 2: 64.97%\n",
            "  Class 0: 7.41%\n",
            "  Class 3: 61.27%\n",
            "Test Accuracy: 48.1%, Test Loss: 1.176395\n",
            "\n",
            "\n",
            "Class-wise Accuracy:\n",
            "  Class 1: 58.95%\n",
            "  Class 2: 64.97%\n",
            "  Class 0: 7.41%\n",
            "  Class 3: 61.27%\n",
            "Train Accuracy: 45.99%, Average Train Loss: 1.207158, Test Accuracy: 48.15%, Average Test Loss: 1.176395\n",
            "\n",
            "Epoch 12/50: "
          ]
        },
        {
          "output_type": "stream",
          "name": "stderr",
          "text": [
            "100%|██████████| 41/41 [00:00<00:00, 60.45it/s]\n",
            "Batch 41/41, Loss: 1.101647: 100%|██████████| 41/41 [00:00<00:00, 59.98it/s]\n"
          ]
        },
        {
          "output_type": "stream",
          "name": "stdout",
          "text": [
            "\n",
            "Class-wise Accuracy:\n",
            "  Class 1: 95.06%\n",
            "  Class 2: 7.56%\n",
            "  Class 0: 5.25%\n",
            "  Class 3: 54.01%\n",
            "Test Accuracy: 40.5%, Test Loss: 1.372927\n",
            "\n",
            "\n",
            "Class-wise Accuracy:\n",
            "  Class 1: 95.06%\n",
            "  Class 2: 7.56%\n",
            "  Class 0: 5.25%\n",
            "  Class 3: 54.01%\n",
            "Train Accuracy: 46.18%, Average Train Loss: 1.201372, Test Accuracy: 40.47%, Average Test Loss: 1.372927\n",
            "\n",
            "Epoch 13/50: "
          ]
        },
        {
          "output_type": "stream",
          "name": "stderr",
          "text": [
            "100%|██████████| 41/41 [00:00<00:00, 61.98it/s]\n",
            "Batch 41/41, Loss: 1.049529: 100%|██████████| 41/41 [00:00<00:00, 58.93it/s]\n"
          ]
        },
        {
          "output_type": "stream",
          "name": "stdout",
          "text": [
            "\n",
            "Class-wise Accuracy:\n",
            "  Class 1: 79.01%\n",
            "  Class 2: 55.56%\n",
            "  Class 0: 11.57%\n",
            "  Class 3: 43.06%\n",
            "Test Accuracy: 47.3%, Test Loss: 1.176901\n",
            "\n",
            "\n",
            "Class-wise Accuracy:\n",
            "  Class 1: 79.01%\n",
            "  Class 2: 55.56%\n",
            "  Class 0: 11.57%\n",
            "  Class 3: 43.06%\n",
            "Train Accuracy: 47.53%, Average Train Loss: 1.183581, Test Accuracy: 47.30%, Average Test Loss: 1.176901\n",
            "\n",
            "Epoch 14/50: "
          ]
        },
        {
          "output_type": "stream",
          "name": "stderr",
          "text": [
            "100%|██████████| 41/41 [00:00<00:00, 58.50it/s]\n",
            "Batch 41/41, Loss: 1.015662: 100%|██████████| 41/41 [00:00<00:00, 43.61it/s]\n"
          ]
        },
        {
          "output_type": "stream",
          "name": "stdout",
          "text": [
            "\n",
            "Class-wise Accuracy:\n",
            "  Class 1: 77.47%\n",
            "  Class 2: 37.19%\n",
            "  Class 0: 17.13%\n",
            "  Class 3: 58.02%\n",
            "Test Accuracy: 47.5%, Test Loss: 1.187085\n",
            "\n",
            "\n",
            "Class-wise Accuracy:\n",
            "  Class 1: 77.47%\n",
            "  Class 2: 37.19%\n",
            "  Class 0: 17.13%\n",
            "  Class 3: 58.02%\n",
            "Train Accuracy: 47.45%, Average Train Loss: 1.183447, Test Accuracy: 47.45%, Average Test Loss: 1.187085\n",
            "\n",
            "Epoch 15/50: "
          ]
        },
        {
          "output_type": "stream",
          "name": "stderr",
          "text": [
            "100%|██████████| 41/41 [00:00<00:00, 51.79it/s]\n",
            "Batch 41/41, Loss: 1.159813: 100%|██████████| 41/41 [00:00<00:00, 48.24it/s]\n"
          ]
        },
        {
          "output_type": "stream",
          "name": "stdout",
          "text": [
            "\n",
            "Class-wise Accuracy:\n",
            "  Class 1: 21.76%\n",
            "  Class 2: 48.61%\n",
            "  Class 0: 10.03%\n",
            "  Class 3: 85.19%\n",
            "Test Accuracy: 41.4%, Test Loss: 1.221769\n",
            "\n",
            "\n",
            "Class-wise Accuracy:\n",
            "  Class 1: 21.76%\n",
            "  Class 2: 48.61%\n",
            "  Class 0: 10.03%\n",
            "  Class 3: 85.19%\n",
            "Train Accuracy: 46.53%, Average Train Loss: 1.185225, Test Accuracy: 41.40%, Average Test Loss: 1.221769\n",
            "\n",
            "Epoch 16/50: "
          ]
        },
        {
          "output_type": "stream",
          "name": "stderr",
          "text": [
            "100%|██████████| 41/41 [00:00<00:00, 53.08it/s]\n",
            "Batch 41/41, Loss: 1.228006: 100%|██████████| 41/41 [00:00<00:00, 44.90it/s]\n"
          ]
        },
        {
          "output_type": "stream",
          "name": "stdout",
          "text": [
            "\n",
            "Class-wise Accuracy:\n",
            "  Class 1: 25.31%\n",
            "  Class 2: 93.06%\n",
            "  Class 0: 11.27%\n",
            "  Class 3: 38.27%\n",
            "Test Accuracy: 42.0%, Test Loss: 1.228296\n",
            "\n",
            "\n",
            "Class-wise Accuracy:\n",
            "  Class 1: 25.31%\n",
            "  Class 2: 93.06%\n",
            "  Class 0: 11.27%\n",
            "  Class 3: 38.27%\n",
            "Train Accuracy: 48.03%, Average Train Loss: 1.161982, Test Accuracy: 41.98%, Average Test Loss: 1.228296\n",
            "\n",
            "Epoch 17/50: "
          ]
        },
        {
          "output_type": "stream",
          "name": "stderr",
          "text": [
            "100%|██████████| 41/41 [00:00<00:00, 59.30it/s]\n",
            "Batch 41/41, Loss: 1.437837: 100%|██████████| 41/41 [00:00<00:00, 58.63it/s]\n"
          ]
        },
        {
          "output_type": "stream",
          "name": "stdout",
          "text": [
            "\n",
            "Class-wise Accuracy:\n",
            "  Class 1: 70.06%\n",
            "  Class 2: 0.93%\n",
            "  Class 0: 0.15%\n",
            "  Class 3: 76.85%\n",
            "Test Accuracy: 37.0%, Test Loss: 1.646479\n",
            "\n",
            "\n",
            "Class-wise Accuracy:\n",
            "  Class 1: 70.06%\n",
            "  Class 2: 0.93%\n",
            "  Class 0: 0.15%\n",
            "  Class 3: 76.85%\n",
            "Train Accuracy: 48.96%, Average Train Loss: 1.148940, Test Accuracy: 37.00%, Average Test Loss: 1.646479\n",
            "\n",
            "Epoch 18/50: "
          ]
        },
        {
          "output_type": "stream",
          "name": "stderr",
          "text": [
            "100%|██████████| 41/41 [00:00<00:00, 61.20it/s]\n",
            "Batch 41/41, Loss: 1.125011: 100%|██████████| 41/41 [00:00<00:00, 58.23it/s]\n"
          ]
        },
        {
          "output_type": "stream",
          "name": "stdout",
          "text": [
            "\n",
            "Class-wise Accuracy:\n",
            "  Class 1: 89.20%\n",
            "  Class 2: 12.35%\n",
            "  Class 0: 4.48%\n",
            "  Class 3: 65.59%\n",
            "Test Accuracy: 42.9%, Test Loss: 1.275225\n",
            "\n",
            "\n",
            "Class-wise Accuracy:\n",
            "  Class 1: 89.20%\n",
            "  Class 2: 12.35%\n",
            "  Class 0: 4.48%\n",
            "  Class 3: 65.59%\n",
            "Train Accuracy: 48.07%, Average Train Loss: 1.147626, Test Accuracy: 42.90%, Average Test Loss: 1.275225\n",
            "\n",
            "Epoch 19/50: "
          ]
        },
        {
          "output_type": "stream",
          "name": "stderr",
          "text": [
            "100%|██████████| 41/41 [00:00<00:00, 60.33it/s]\n",
            "Batch 41/41, Loss: 1.152157: 100%|██████████| 41/41 [00:00<00:00, 59.85it/s]\n"
          ]
        },
        {
          "output_type": "stream",
          "name": "stdout",
          "text": [
            "\n",
            "Class-wise Accuracy:\n",
            "  Class 1: 25.93%\n",
            "  Class 2: 24.54%\n",
            "  Class 0: 11.27%\n",
            "  Class 3: 85.80%\n",
            "Test Accuracy: 36.9%, Test Loss: 1.299367\n",
            "\n",
            "\n",
            "Class-wise Accuracy:\n",
            "  Class 1: 25.93%\n",
            "  Class 2: 24.54%\n",
            "  Class 0: 11.27%\n",
            "  Class 3: 85.80%\n",
            "Train Accuracy: 48.11%, Average Train Loss: 1.149829, Test Accuracy: 36.88%, Average Test Loss: 1.299367\n",
            "\n",
            "Epoch 20/50: "
          ]
        },
        {
          "output_type": "stream",
          "name": "stderr",
          "text": [
            "100%|██████████| 41/41 [00:00<00:00, 62.65it/s]\n",
            "Batch 41/41, Loss: 1.007922: 100%|██████████| 41/41 [00:00<00:00, 57.79it/s]\n"
          ]
        },
        {
          "output_type": "stream",
          "name": "stdout",
          "text": [
            "\n",
            "Class-wise Accuracy:\n",
            "  Class 1: 65.90%\n",
            "  Class 2: 65.28%\n",
            "  Class 0: 16.82%\n",
            "  Class 3: 50.77%\n",
            "Test Accuracy: 49.7%, Test Loss: 1.132389\n",
            "\n",
            "\n",
            "Class-wise Accuracy:\n",
            "  Class 1: 65.90%\n",
            "  Class 2: 65.28%\n",
            "  Class 0: 16.82%\n",
            "  Class 3: 50.77%\n",
            "Train Accuracy: 48.77%, Average Train Loss: 1.144009, Test Accuracy: 49.69%, Average Test Loss: 1.132389\n",
            "\n",
            "Epoch 21/50: "
          ]
        },
        {
          "output_type": "stream",
          "name": "stderr",
          "text": [
            "100%|██████████| 41/41 [00:00<00:00, 60.72it/s]\n",
            "Batch 41/41, Loss: 1.130558: 100%|██████████| 41/41 [00:00<00:00, 54.17it/s]\n"
          ]
        },
        {
          "output_type": "stream",
          "name": "stdout",
          "text": [
            "\n",
            "Class-wise Accuracy:\n",
            "  Class 1: 46.76%\n",
            "  Class 2: 85.80%\n",
            "  Class 0: 12.04%\n",
            "  Class 3: 37.96%\n",
            "Test Accuracy: 45.6%, Test Loss: 1.193489\n",
            "\n",
            "\n",
            "Class-wise Accuracy:\n",
            "  Class 1: 46.76%\n",
            "  Class 2: 85.80%\n",
            "  Class 0: 12.04%\n",
            "  Class 3: 37.96%\n",
            "Train Accuracy: 48.88%, Average Train Loss: 1.140441, Test Accuracy: 45.64%, Average Test Loss: 1.193489\n",
            "\n",
            "Epoch 22/50: "
          ]
        },
        {
          "output_type": "stream",
          "name": "stderr",
          "text": [
            "100%|██████████| 41/41 [00:00<00:00, 58.24it/s]\n",
            "Batch 41/41, Loss: 1.477419: 100%|██████████| 41/41 [00:00<00:00, 55.37it/s]\n"
          ]
        },
        {
          "output_type": "stream",
          "name": "stdout",
          "text": [
            "\n",
            "Class-wise Accuracy:\n",
            "  Class 1: 8.18%\n",
            "  Class 2: 23.30%\n",
            "  Class 0: 6.94%\n",
            "  Class 3: 92.28%\n",
            "Test Accuracy: 32.7%, Test Loss: 1.433360\n",
            "\n",
            "\n",
            "Class-wise Accuracy:\n",
            "  Class 1: 8.18%\n",
            "  Class 2: 23.30%\n",
            "  Class 0: 6.94%\n",
            "  Class 3: 92.28%\n",
            "Train Accuracy: 50.50%, Average Train Loss: 1.112196, Test Accuracy: 32.68%, Average Test Loss: 1.433360\n",
            "\n",
            "Epoch 23/50: "
          ]
        },
        {
          "output_type": "stream",
          "name": "stderr",
          "text": [
            "100%|██████████| 41/41 [00:00<00:00, 57.11it/s]\n",
            "Batch 41/41, Loss: 1.128017: 100%|██████████| 41/41 [00:00<00:00, 59.64it/s]\n"
          ]
        },
        {
          "output_type": "stream",
          "name": "stdout",
          "text": [
            "\n",
            "Class-wise Accuracy:\n",
            "  Class 1: 36.88%\n",
            "  Class 2: 89.35%\n",
            "  Class 0: 20.06%\n",
            "  Class 3: 38.73%\n",
            "Test Accuracy: 46.3%, Test Loss: 1.181111\n",
            "\n",
            "\n",
            "Class-wise Accuracy:\n",
            "  Class 1: 36.88%\n",
            "  Class 2: 89.35%\n",
            "  Class 0: 20.06%\n",
            "  Class 3: 38.73%\n",
            "Train Accuracy: 50.15%, Average Train Loss: 1.117931, Test Accuracy: 46.26%, Average Test Loss: 1.181111\n",
            "\n",
            "Epoch 24/50: "
          ]
        },
        {
          "output_type": "stream",
          "name": "stderr",
          "text": [
            "100%|██████████| 41/41 [00:00<00:00, 54.26it/s]\n",
            "Batch 41/41, Loss: 1.276910: 100%|██████████| 41/41 [00:00<00:00, 47.72it/s]\n"
          ]
        },
        {
          "output_type": "stream",
          "name": "stdout",
          "text": [
            "\n",
            "Class-wise Accuracy:\n",
            "  Class 1: 21.30%\n",
            "  Class 2: 91.98%\n",
            "  Class 0: 14.51%\n",
            "  Class 3: 45.52%\n",
            "Test Accuracy: 43.3%, Test Loss: 1.208086\n",
            "\n",
            "\n",
            "Class-wise Accuracy:\n",
            "  Class 1: 21.30%\n",
            "  Class 2: 91.98%\n",
            "  Class 0: 14.51%\n",
            "  Class 3: 45.52%\n",
            "Train Accuracy: 51.12%, Average Train Loss: 1.094277, Test Accuracy: 43.33%, Average Test Loss: 1.208086\n",
            "\n",
            "Epoch 25/50: "
          ]
        },
        {
          "output_type": "stream",
          "name": "stderr",
          "text": [
            "100%|██████████| 41/41 [00:00<00:00, 52.74it/s]\n",
            "Batch 41/41, Loss: 1.361498: 100%|██████████| 41/41 [00:00<00:00, 50.13it/s]\n"
          ]
        },
        {
          "output_type": "stream",
          "name": "stdout",
          "text": [
            "\n",
            "Class-wise Accuracy:\n",
            "  Class 1: 11.57%\n",
            "  Class 2: 97.69%\n",
            "  Class 0: 7.41%\n",
            "  Class 3: 31.64%\n",
            "Test Accuracy: 37.1%, Test Loss: 1.438203\n",
            "\n",
            "\n",
            "Class-wise Accuracy:\n",
            "  Class 1: 11.57%\n",
            "  Class 2: 97.69%\n",
            "  Class 0: 7.41%\n",
            "  Class 3: 31.64%\n",
            "Train Accuracy: 50.00%, Average Train Loss: 1.102891, Test Accuracy: 37.08%, Average Test Loss: 1.438203\n",
            "\n",
            "Epoch 26/50: "
          ]
        },
        {
          "output_type": "stream",
          "name": "stderr",
          "text": [
            "100%|██████████| 41/41 [00:00<00:00, 44.84it/s]\n",
            "Batch 41/41, Loss: 1.091831: 100%|██████████| 41/41 [00:00<00:00, 47.93it/s]\n"
          ]
        },
        {
          "output_type": "stream",
          "name": "stdout",
          "text": [
            "\n",
            "Class-wise Accuracy:\n",
            "  Class 1: 56.64%\n",
            "  Class 2: 49.23%\n",
            "  Class 0: 13.89%\n",
            "  Class 3: 71.60%\n",
            "Test Accuracy: 47.8%, Test Loss: 1.130161\n",
            "\n",
            "\n",
            "Class-wise Accuracy:\n",
            "  Class 1: 56.64%\n",
            "  Class 2: 49.23%\n",
            "  Class 0: 13.89%\n",
            "  Class 3: 71.60%\n",
            "Train Accuracy: 52.24%, Average Train Loss: 1.092153, Test Accuracy: 47.84%, Average Test Loss: 1.130161\n",
            "\n",
            "Epoch 27/50: "
          ]
        },
        {
          "output_type": "stream",
          "name": "stderr",
          "text": [
            "100%|██████████| 41/41 [00:00<00:00, 54.60it/s]\n",
            "Batch 41/41, Loss: 1.591776: 100%|██████████| 41/41 [00:00<00:00, 55.26it/s]\n"
          ]
        },
        {
          "output_type": "stream",
          "name": "stdout",
          "text": [
            "\n",
            "Class-wise Accuracy:\n",
            "  Class 1: 28.55%\n",
            "  Class 2: 98.15%\n",
            "  Class 0: 2.47%\n",
            "  Class 3: 13.58%\n",
            "Test Accuracy: 35.7%, Test Loss: 1.643937\n",
            "\n",
            "\n",
            "Class-wise Accuracy:\n",
            "  Class 1: 28.55%\n",
            "  Class 2: 98.15%\n",
            "  Class 0: 2.47%\n",
            "  Class 3: 13.58%\n",
            "Train Accuracy: 50.15%, Average Train Loss: 1.095201, Test Accuracy: 35.69%, Average Test Loss: 1.643937\n",
            "\n",
            "Epoch 28/50: "
          ]
        },
        {
          "output_type": "stream",
          "name": "stderr",
          "text": [
            "100%|██████████| 41/41 [00:00<00:00, 57.41it/s]\n",
            "Batch 41/41, Loss: 1.546807: 100%|██████████| 41/41 [00:00<00:00, 54.40it/s]\n"
          ]
        },
        {
          "output_type": "stream",
          "name": "stdout",
          "text": [
            "\n",
            "Class-wise Accuracy:\n",
            "  Class 1: 6.48%\n",
            "  Class 2: 96.45%\n",
            "  Class 0: 8.80%\n",
            "  Class 3: 34.57%\n",
            "Test Accuracy: 36.6%, Test Loss: 1.620576\n",
            "\n",
            "\n",
            "Class-wise Accuracy:\n",
            "  Class 1: 6.48%\n",
            "  Class 2: 96.45%\n",
            "  Class 0: 8.80%\n",
            "  Class 3: 34.57%\n",
            "Train Accuracy: 51.20%, Average Train Loss: 1.084458, Test Accuracy: 36.57%, Average Test Loss: 1.620576\n",
            "\n",
            "Epoch 29/50: "
          ]
        },
        {
          "output_type": "stream",
          "name": "stderr",
          "text": [
            "100%|██████████| 41/41 [00:00<00:00, 55.39it/s]\n",
            "Batch 41/41, Loss: 1.288629: 100%|██████████| 41/41 [00:00<00:00, 56.49it/s]\n"
          ]
        },
        {
          "output_type": "stream",
          "name": "stdout",
          "text": [
            "\n",
            "Class-wise Accuracy:\n",
            "  Class 1: 23.92%\n",
            "  Class 2: 76.23%\n",
            "  Class 0: 12.81%\n",
            "  Class 3: 68.36%\n",
            "Test Accuracy: 45.3%, Test Loss: 1.170632\n",
            "\n",
            "\n",
            "Class-wise Accuracy:\n",
            "  Class 1: 23.92%\n",
            "  Class 2: 76.23%\n",
            "  Class 0: 12.81%\n",
            "  Class 3: 68.36%\n",
            "Train Accuracy: 51.77%, Average Train Loss: 1.077356, Test Accuracy: 45.33%, Average Test Loss: 1.170632\n",
            "\n",
            "Epoch 30/50: "
          ]
        },
        {
          "output_type": "stream",
          "name": "stderr",
          "text": [
            "100%|██████████| 41/41 [00:00<00:00, 58.85it/s]\n",
            "Batch 41/41, Loss: 1.279124: 100%|██████████| 41/41 [00:00<00:00, 56.03it/s]\n"
          ]
        },
        {
          "output_type": "stream",
          "name": "stdout",
          "text": [
            "\n",
            "Class-wise Accuracy:\n",
            "  Class 1: 21.76%\n",
            "  Class 2: 55.40%\n",
            "  Class 0: 19.60%\n",
            "  Class 3: 77.62%\n",
            "Test Accuracy: 43.6%, Test Loss: 1.208092\n",
            "\n",
            "\n",
            "Class-wise Accuracy:\n",
            "  Class 1: 21.76%\n",
            "  Class 2: 55.40%\n",
            "  Class 0: 19.60%\n",
            "  Class 3: 77.62%\n",
            "Train Accuracy: 52.58%, Average Train Loss: 1.070321, Test Accuracy: 43.60%, Average Test Loss: 1.208092\n",
            "\n",
            "Epoch 31/50: "
          ]
        },
        {
          "output_type": "stream",
          "name": "stderr",
          "text": [
            "100%|██████████| 41/41 [00:00<00:00, 60.85it/s]\n",
            "Batch 41/41, Loss: 1.478348: 100%|██████████| 41/41 [00:00<00:00, 57.71it/s]\n"
          ]
        },
        {
          "output_type": "stream",
          "name": "stdout",
          "text": [
            "\n",
            "Class-wise Accuracy:\n",
            "  Class 1: 14.66%\n",
            "  Class 2: 95.06%\n",
            "  Class 0: 16.05%\n",
            "  Class 3: 40.43%\n",
            "Test Accuracy: 41.6%, Test Loss: 1.298977\n",
            "\n",
            "\n",
            "Class-wise Accuracy:\n",
            "  Class 1: 14.66%\n",
            "  Class 2: 95.06%\n",
            "  Class 0: 16.05%\n",
            "  Class 3: 40.43%\n",
            "Train Accuracy: 52.62%, Average Train Loss: 1.078448, Test Accuracy: 41.55%, Average Test Loss: 1.298977\n",
            "\n",
            "Epoch 32/50: "
          ]
        },
        {
          "output_type": "stream",
          "name": "stderr",
          "text": [
            "100%|██████████| 41/41 [00:00<00:00, 56.93it/s]\n",
            "Batch 41/41, Loss: 1.018361: 100%|██████████| 41/41 [00:01<00:00, 40.35it/s]\n"
          ]
        },
        {
          "output_type": "stream",
          "name": "stdout",
          "text": [
            "\n",
            "Class-wise Accuracy:\n",
            "  Class 1: 87.65%\n",
            "  Class 2: 56.64%\n",
            "  Class 0: 13.43%\n",
            "  Class 3: 47.07%\n",
            "Test Accuracy: 51.2%, Test Loss: 1.112434\n",
            "\n",
            "\n",
            "Class-wise Accuracy:\n",
            "  Class 1: 87.65%\n",
            "  Class 2: 56.64%\n",
            "  Class 0: 13.43%\n",
            "  Class 3: 47.07%\n",
            "Train Accuracy: 52.85%, Average Train Loss: 1.062418, Test Accuracy: 51.20%, Average Test Loss: 1.112434\n",
            "\n",
            "Epoch 33/50: "
          ]
        },
        {
          "output_type": "stream",
          "name": "stderr",
          "text": [
            "100%|██████████| 41/41 [00:01<00:00, 24.99it/s]\n",
            "Batch 41/41, Loss: 1.141023: 100%|██████████| 41/41 [00:01<00:00, 39.09it/s]\n"
          ]
        },
        {
          "output_type": "stream",
          "name": "stdout",
          "text": [
            "\n",
            "Class-wise Accuracy:\n",
            "  Class 1: 50.93%\n",
            "  Class 2: 83.64%\n",
            "  Class 0: 18.67%\n",
            "  Class 3: 43.21%\n",
            "Test Accuracy: 49.1%, Test Loss: 1.109997\n",
            "\n",
            "\n",
            "Class-wise Accuracy:\n",
            "  Class 1: 50.93%\n",
            "  Class 2: 83.64%\n",
            "  Class 0: 18.67%\n",
            "  Class 3: 43.21%\n",
            "Train Accuracy: 53.86%, Average Train Loss: 1.052289, Test Accuracy: 49.11%, Average Test Loss: 1.109997\n",
            "\n",
            "Epoch 34/50: "
          ]
        },
        {
          "output_type": "stream",
          "name": "stderr",
          "text": [
            "100%|██████████| 41/41 [00:01<00:00, 39.73it/s]\n",
            "Batch 41/41, Loss: 1.050443: 100%|██████████| 41/41 [00:01<00:00, 39.29it/s]\n"
          ]
        },
        {
          "output_type": "stream",
          "name": "stdout",
          "text": [
            "\n",
            "Class-wise Accuracy:\n",
            "  Class 1: 77.16%\n",
            "  Class 2: 56.79%\n",
            "  Class 0: 21.45%\n",
            "  Class 3: 54.17%\n",
            "Test Accuracy: 52.4%, Test Loss: 1.076373\n",
            "\n",
            "\n",
            "Class-wise Accuracy:\n",
            "  Class 1: 77.16%\n",
            "  Class 2: 56.79%\n",
            "  Class 0: 21.45%\n",
            "  Class 3: 54.17%\n",
            "Train Accuracy: 54.05%, Average Train Loss: 1.050260, Test Accuracy: 52.39%, Average Test Loss: 1.076373\n",
            "\n",
            "Epoch 35/50: "
          ]
        },
        {
          "output_type": "stream",
          "name": "stderr",
          "text": [
            "100%|██████████| 41/41 [00:00<00:00, 50.07it/s]\n",
            "Batch 41/41, Loss: 1.076275: 100%|██████████| 41/41 [00:00<00:00, 55.05it/s]\n"
          ]
        },
        {
          "output_type": "stream",
          "name": "stdout",
          "text": [
            "\n",
            "Class-wise Accuracy:\n",
            "  Class 1: 79.17%\n",
            "  Class 2: 23.92%\n",
            "  Class 0: 11.27%\n",
            "  Class 3: 68.83%\n",
            "Test Accuracy: 45.8%, Test Loss: 1.207745\n",
            "\n",
            "\n",
            "Class-wise Accuracy:\n",
            "  Class 1: 79.17%\n",
            "  Class 2: 23.92%\n",
            "  Class 0: 11.27%\n",
            "  Class 3: 68.83%\n",
            "Train Accuracy: 54.55%, Average Train Loss: 1.039807, Test Accuracy: 45.79%, Average Test Loss: 1.207745\n",
            "\n",
            "Epoch 36/50: "
          ]
        },
        {
          "output_type": "stream",
          "name": "stderr",
          "text": [
            "100%|██████████| 41/41 [00:00<00:00, 53.76it/s]\n",
            "Batch 41/41, Loss: 1.114691: 100%|██████████| 41/41 [00:00<00:00, 52.35it/s]\n"
          ]
        },
        {
          "output_type": "stream",
          "name": "stdout",
          "text": [
            "\n",
            "Class-wise Accuracy:\n",
            "  Class 1: 42.13%\n",
            "  Class 2: 79.48%\n",
            "  Class 0: 19.75%\n",
            "  Class 3: 57.87%\n",
            "Test Accuracy: 49.8%, Test Loss: 1.092166\n",
            "\n",
            "\n",
            "Class-wise Accuracy:\n",
            "  Class 1: 42.13%\n",
            "  Class 2: 79.48%\n",
            "  Class 0: 19.75%\n",
            "  Class 3: 57.87%\n",
            "Train Accuracy: 53.94%, Average Train Loss: 1.042232, Test Accuracy: 49.81%, Average Test Loss: 1.092166\n",
            "\n",
            "Epoch 37/50: "
          ]
        },
        {
          "output_type": "stream",
          "name": "stderr",
          "text": [
            "100%|██████████| 41/41 [00:00<00:00, 55.62it/s]\n",
            "Batch 41/41, Loss: 1.057488: 100%|██████████| 41/41 [00:00<00:00, 52.13it/s]\n"
          ]
        },
        {
          "output_type": "stream",
          "name": "stdout",
          "text": [
            "\n",
            "Class-wise Accuracy:\n",
            "  Class 1: 81.94%\n",
            "  Class 2: 61.11%\n",
            "  Class 0: 18.06%\n",
            "  Class 3: 48.92%\n",
            "Test Accuracy: 52.5%, Test Loss: 1.080136\n",
            "\n",
            "\n",
            "Class-wise Accuracy:\n",
            "  Class 1: 81.94%\n",
            "  Class 2: 61.11%\n",
            "  Class 0: 18.06%\n",
            "  Class 3: 48.92%\n",
            "Train Accuracy: 54.44%, Average Train Loss: 1.033080, Test Accuracy: 52.51%, Average Test Loss: 1.080136\n",
            "\n",
            "Epoch 38/50: "
          ]
        },
        {
          "output_type": "stream",
          "name": "stderr",
          "text": [
            "100%|██████████| 41/41 [00:00<00:00, 54.20it/s]\n",
            "Batch 41/41, Loss: 1.058310: 100%|██████████| 41/41 [00:00<00:00, 55.71it/s]\n"
          ]
        },
        {
          "output_type": "stream",
          "name": "stdout",
          "text": [
            "\n",
            "Class-wise Accuracy:\n",
            "  Class 1: 66.67%\n",
            "  Class 2: 68.83%\n",
            "  Class 0: 19.75%\n",
            "  Class 3: 53.86%\n",
            "Test Accuracy: 52.3%, Test Loss: 1.072329\n",
            "\n",
            "\n",
            "Class-wise Accuracy:\n",
            "  Class 1: 66.67%\n",
            "  Class 2: 68.83%\n",
            "  Class 0: 19.75%\n",
            "  Class 3: 53.86%\n",
            "Train Accuracy: 55.67%, Average Train Loss: 1.027892, Test Accuracy: 52.28%, Average Test Loss: 1.072329\n",
            "\n",
            "Epoch 39/50: "
          ]
        },
        {
          "output_type": "stream",
          "name": "stderr",
          "text": [
            "100%|██████████| 41/41 [00:01<00:00, 38.29it/s]\n",
            "Batch 41/41, Loss: 1.128739: 100%|██████████| 41/41 [00:00<00:00, 50.81it/s]\n"
          ]
        },
        {
          "output_type": "stream",
          "name": "stdout",
          "text": [
            "\n",
            "Class-wise Accuracy:\n",
            "  Class 1: 64.35%\n",
            "  Class 2: 78.55%\n",
            "  Class 0: 17.59%\n",
            "  Class 3: 38.43%\n",
            "Test Accuracy: 49.7%, Test Loss: 1.106103\n",
            "\n",
            "\n",
            "Class-wise Accuracy:\n",
            "  Class 1: 64.35%\n",
            "  Class 2: 78.55%\n",
            "  Class 0: 17.59%\n",
            "  Class 3: 38.43%\n",
            "Train Accuracy: 54.90%, Average Train Loss: 1.034697, Test Accuracy: 49.73%, Average Test Loss: 1.106103\n",
            "\n",
            "Epoch 40/50: "
          ]
        },
        {
          "output_type": "stream",
          "name": "stderr",
          "text": [
            "100%|██████████| 41/41 [00:00<00:00, 55.82it/s]\n",
            "Batch 41/41, Loss: 1.193832: 100%|██████████| 41/41 [00:00<00:00, 50.92it/s]\n"
          ]
        },
        {
          "output_type": "stream",
          "name": "stdout",
          "text": [
            "\n",
            "Class-wise Accuracy:\n",
            "  Class 1: 43.36%\n",
            "  Class 2: 87.35%\n",
            "  Class 0: 19.29%\n",
            "  Class 3: 44.29%\n",
            "Test Accuracy: 48.6%, Test Loss: 1.137942\n",
            "\n",
            "\n",
            "Class-wise Accuracy:\n",
            "  Class 1: 43.36%\n",
            "  Class 2: 87.35%\n",
            "  Class 0: 19.29%\n",
            "  Class 3: 44.29%\n",
            "Train Accuracy: 53.43%, Average Train Loss: 1.042488, Test Accuracy: 48.57%, Average Test Loss: 1.137942\n",
            "\n",
            "Epoch 41/50: "
          ]
        },
        {
          "output_type": "stream",
          "name": "stderr",
          "text": [
            "100%|██████████| 41/41 [00:00<00:00, 48.61it/s]\n",
            "Batch 41/41, Loss: 1.118743: 100%|██████████| 41/41 [00:00<00:00, 41.53it/s]\n"
          ]
        },
        {
          "output_type": "stream",
          "name": "stdout",
          "text": [
            "\n",
            "Class-wise Accuracy:\n",
            "  Class 1: 66.98%\n",
            "  Class 2: 43.98%\n",
            "  Class 0: 16.67%\n",
            "  Class 3: 69.60%\n",
            "Test Accuracy: 49.3%, Test Loss: 1.126263\n",
            "\n",
            "\n",
            "Class-wise Accuracy:\n",
            "  Class 1: 66.98%\n",
            "  Class 2: 43.98%\n",
            "  Class 0: 16.67%\n",
            "  Class 3: 69.60%\n",
            "Train Accuracy: 54.71%, Average Train Loss: 1.039107, Test Accuracy: 49.31%, Average Test Loss: 1.126263\n",
            "\n",
            "Epoch 42/50: "
          ]
        },
        {
          "output_type": "stream",
          "name": "stderr",
          "text": [
            "100%|██████████| 41/41 [00:00<00:00, 43.28it/s]\n",
            "Batch 41/41, Loss: 1.037261: 100%|██████████| 41/41 [00:01<00:00, 39.08it/s]\n"
          ]
        },
        {
          "output_type": "stream",
          "name": "stdout",
          "text": [
            "\n",
            "Class-wise Accuracy:\n",
            "  Class 1: 78.86%\n",
            "  Class 2: 60.65%\n",
            "  Class 0: 18.21%\n",
            "  Class 3: 52.01%\n",
            "Test Accuracy: 52.4%, Test Loss: 1.077629\n",
            "\n",
            "\n",
            "Class-wise Accuracy:\n",
            "  Class 1: 78.86%\n",
            "  Class 2: 60.65%\n",
            "  Class 0: 18.21%\n",
            "  Class 3: 52.01%\n",
            "Train Accuracy: 55.36%, Average Train Loss: 1.018704, Test Accuracy: 52.43%, Average Test Loss: 1.077629\n",
            "\n",
            "Epoch 43/50: "
          ]
        },
        {
          "output_type": "stream",
          "name": "stderr",
          "text": [
            "100%|██████████| 41/41 [00:00<00:00, 43.37it/s]\n",
            "Batch 41/41, Loss: 1.111946: 100%|██████████| 41/41 [00:00<00:00, 51.50it/s]\n"
          ]
        },
        {
          "output_type": "stream",
          "name": "stdout",
          "text": [
            "\n",
            "Class-wise Accuracy:\n",
            "  Class 1: 64.81%\n",
            "  Class 2: 73.46%\n",
            "  Class 0: 20.68%\n",
            "  Class 3: 46.91%\n",
            "Test Accuracy: 51.5%, Test Loss: 1.077276\n",
            "\n",
            "\n",
            "Class-wise Accuracy:\n",
            "  Class 1: 64.81%\n",
            "  Class 2: 73.46%\n",
            "  Class 0: 20.68%\n",
            "  Class 3: 46.91%\n",
            "Train Accuracy: 54.63%, Average Train Loss: 1.016925, Test Accuracy: 51.47%, Average Test Loss: 1.077276\n",
            "\n",
            "Epoch 44/50: "
          ]
        },
        {
          "output_type": "stream",
          "name": "stderr",
          "text": [
            "100%|██████████| 41/41 [00:00<00:00, 55.11it/s]\n",
            "Batch 41/41, Loss: 1.085292: 100%|██████████| 41/41 [00:00<00:00, 52.89it/s]\n"
          ]
        },
        {
          "output_type": "stream",
          "name": "stdout",
          "text": [
            "\n",
            "Class-wise Accuracy:\n",
            "  Class 1: 70.37%\n",
            "  Class 2: 67.75%\n",
            "  Class 0: 20.06%\n",
            "  Class 3: 52.78%\n",
            "Test Accuracy: 52.7%, Test Loss: 1.072575\n",
            "\n",
            "\n",
            "Class-wise Accuracy:\n",
            "  Class 1: 70.37%\n",
            "  Class 2: 67.75%\n",
            "  Class 0: 20.06%\n",
            "  Class 3: 52.78%\n",
            "Train Accuracy: 55.94%, Average Train Loss: 1.006122, Test Accuracy: 52.74%, Average Test Loss: 1.072575\n",
            "\n",
            "Epoch 45/50: "
          ]
        },
        {
          "output_type": "stream",
          "name": "stderr",
          "text": [
            "100%|██████████| 41/41 [00:00<00:00, 53.00it/s]\n",
            "Batch 41/41, Loss: 1.059153: 100%|██████████| 41/41 [00:00<00:00, 53.44it/s]\n"
          ]
        },
        {
          "output_type": "stream",
          "name": "stdout",
          "text": [
            "\n",
            "Class-wise Accuracy:\n",
            "  Class 1: 71.91%\n",
            "  Class 2: 64.35%\n",
            "  Class 0: 20.22%\n",
            "  Class 3: 51.70%\n",
            "Test Accuracy: 52.0%, Test Loss: 1.073321\n",
            "\n",
            "\n",
            "Class-wise Accuracy:\n",
            "  Class 1: 71.91%\n",
            "  Class 2: 64.35%\n",
            "  Class 0: 20.22%\n",
            "  Class 3: 51.70%\n",
            "Train Accuracy: 55.86%, Average Train Loss: 1.019823, Test Accuracy: 52.04%, Average Test Loss: 1.073321\n",
            "\n",
            "Epoch 46/50: "
          ]
        },
        {
          "output_type": "stream",
          "name": "stderr",
          "text": [
            "100%|██████████| 41/41 [00:00<00:00, 52.37it/s]\n",
            "Batch 41/41, Loss: 1.065646: 100%|██████████| 41/41 [00:00<00:00, 51.07it/s]\n"
          ]
        },
        {
          "output_type": "stream",
          "name": "stdout",
          "text": [
            "\n",
            "Class-wise Accuracy:\n",
            "  Class 1: 70.22%\n",
            "  Class 2: 60.03%\n",
            "  Class 0: 19.14%\n",
            "  Class 3: 59.72%\n",
            "Test Accuracy: 52.3%, Test Loss: 1.075050\n",
            "\n",
            "\n",
            "Class-wise Accuracy:\n",
            "  Class 1: 70.22%\n",
            "  Class 2: 60.03%\n",
            "  Class 0: 19.14%\n",
            "  Class 3: 59.72%\n",
            "Train Accuracy: 54.82%, Average Train Loss: 1.017015, Test Accuracy: 52.28%, Average Test Loss: 1.075050\n",
            "\n",
            "Epoch 47/50: "
          ]
        },
        {
          "output_type": "stream",
          "name": "stderr",
          "text": [
            "100%|██████████| 41/41 [00:00<00:00, 53.85it/s]\n",
            "Batch 41/41, Loss: 1.078326: 100%|██████████| 41/41 [00:00<00:00, 52.27it/s]\n"
          ]
        },
        {
          "output_type": "stream",
          "name": "stdout",
          "text": [
            "\n",
            "Class-wise Accuracy:\n",
            "  Class 1: 69.29%\n",
            "  Class 2: 65.12%\n",
            "  Class 0: 20.22%\n",
            "  Class 3: 55.09%\n",
            "Test Accuracy: 52.4%, Test Loss: 1.068512\n",
            "\n",
            "\n",
            "Class-wise Accuracy:\n",
            "  Class 1: 69.29%\n",
            "  Class 2: 65.12%\n",
            "  Class 0: 20.22%\n",
            "  Class 3: 55.09%\n",
            "Train Accuracy: 54.90%, Average Train Loss: 1.021207, Test Accuracy: 52.43%, Average Test Loss: 1.068512\n",
            "\n",
            "Epoch 48/50: "
          ]
        },
        {
          "output_type": "stream",
          "name": "stderr",
          "text": [
            "100%|██████████| 41/41 [00:00<00:00, 54.04it/s]\n",
            "Batch 41/41, Loss: 1.070950: 100%|██████████| 41/41 [00:00<00:00, 54.21it/s]\n"
          ]
        },
        {
          "output_type": "stream",
          "name": "stdout",
          "text": [
            "\n",
            "Class-wise Accuracy:\n",
            "  Class 1: 70.99%\n",
            "  Class 2: 63.89%\n",
            "  Class 0: 19.91%\n",
            "  Class 3: 54.78%\n",
            "Test Accuracy: 52.4%, Test Loss: 1.070056\n",
            "\n",
            "\n",
            "Class-wise Accuracy:\n",
            "  Class 1: 70.99%\n",
            "  Class 2: 63.89%\n",
            "  Class 0: 19.91%\n",
            "  Class 3: 54.78%\n",
            "Train Accuracy: 56.48%, Average Train Loss: 1.014289, Test Accuracy: 52.39%, Average Test Loss: 1.070056\n",
            "\n",
            "Epoch 49/50: "
          ]
        },
        {
          "output_type": "stream",
          "name": "stderr",
          "text": [
            "100%|██████████| 41/41 [00:00<00:00, 57.92it/s]\n",
            "Batch 41/41, Loss: 1.069409: 100%|██████████| 41/41 [00:00<00:00, 45.11it/s]\n"
          ]
        },
        {
          "output_type": "stream",
          "name": "stdout",
          "text": [
            "\n",
            "Class-wise Accuracy:\n",
            "  Class 1: 70.99%\n",
            "  Class 2: 63.58%\n",
            "  Class 0: 20.22%\n",
            "  Class 3: 54.94%\n",
            "Test Accuracy: 52.4%, Test Loss: 1.070217\n",
            "\n",
            "\n",
            "Class-wise Accuracy:\n",
            "  Class 1: 70.99%\n",
            "  Class 2: 63.58%\n",
            "  Class 0: 20.22%\n",
            "  Class 3: 54.94%\n",
            "Train Accuracy: 55.67%, Average Train Loss: 1.007540, Test Accuracy: 52.43%, Average Test Loss: 1.070217\n",
            "\n",
            "Epoch 50/50: "
          ]
        },
        {
          "output_type": "stream",
          "name": "stderr",
          "text": [
            "100%|██████████| 41/41 [00:00<00:00, 44.04it/s]\n",
            "Batch 41/41, Loss: 1.072712: 100%|██████████| 41/41 [00:00<00:00, 45.65it/s]\n"
          ]
        },
        {
          "output_type": "stream",
          "name": "stdout",
          "text": [
            "\n",
            "Class-wise Accuracy:\n",
            "  Class 1: 70.83%\n",
            "  Class 2: 64.66%\n",
            "  Class 0: 20.37%\n",
            "  Class 3: 54.17%\n",
            "Test Accuracy: 52.5%, Test Loss: 1.070175\n",
            "\n",
            "\n",
            "Class-wise Accuracy:\n",
            "  Class 1: 70.83%\n",
            "  Class 2: 64.66%\n",
            "  Class 0: 20.37%\n",
            "  Class 3: 54.17%\n",
            "Train Accuracy: 54.98%, Average Train Loss: 1.019267, Test Accuracy: 52.51%, Average Test Loss: 1.070175\n",
            "\n"
          ]
        }
      ],
      "source": [
        "import torch\n",
        "import wandb\n",
        "from torch.utils.data import DataLoader\n",
        "from torch.optim import AdamW\n",
        "from torch.optim.lr_scheduler import CosineAnnealingLR\n",
        "from torch.nn import CrossEntropyLoss\n",
        "import numpy as np\n",
        "\n",
        "# Initialize Weights & Biases\n",
        "wandb.init(project=\"Master Thesis\", name=f\"RNN {pool_size} {seed}\")\n",
        "\n",
        "# Define hyperparameters\n",
        "lr = 1e-3\n",
        "weight_decay = 1e-4\n",
        "batch_size = 64  # Start with 124\n",
        "n_epochs = 50\n",
        "\n",
        "final_acc = 0.0\n",
        "\n",
        "# Log hyperparameters to wandb\n",
        "wandb.config.update({\n",
        "    \"learning_rate\": lr,\n",
        "    \"weight_decay\": weight_decay,\n",
        "    \"batch_size\": batch_size,\n",
        "    \"epochs\": n_epochs\n",
        "})\n",
        "\n",
        "# Define optimizer and scheduler\n",
        "optimizer = AdamW(model.parameters(), lr=lr, weight_decay=weight_decay)\n",
        "scheduler = CosineAnnealingLR(optimizer, T_max=n_epochs - 1)\n",
        "\n",
        "# Define loss function\n",
        "loss_fn = CrossEntropyLoss()\n",
        "\n",
        "# Create DataLoaders\n",
        "train_loader = DataLoader(train_set, batch_size=batch_size, shuffle=True)\n",
        "test_loader = DataLoader(test_set, batch_size=batch_size)\n",
        "\n",
        "# Initialize lists to store all predictions & targets\n",
        "all_preds, all_targets = [], []\n",
        "\n",
        "# Training loop\n",
        "for epoch in range(1, n_epochs + 1):\n",
        "    print(f\"Epoch {epoch}/{n_epochs}: \", end=\"\")\n",
        "\n",
        "    train_loss, train_accuracy = train_one_epoch(\n",
        "        train_loader, model, loss_fn, optimizer, scheduler, epoch, device\n",
        "    )\n",
        "\n",
        "    test_loss, test_accuracy, class_accuracies, batch_preds, batch_targets = test_model(test_loader, model, loss_fn)\n",
        "    final_acc = test_accuracy\n",
        "    # Store predictions & labels for confusion matrix\n",
        "    all_preds.extend(batch_preds)\n",
        "    all_targets.extend(batch_targets)\n",
        "\n",
        "    # Print class-wise accuracy\n",
        "    print(\"\\nClass-wise Accuracy:\")\n",
        "    for class_idx, acc in class_accuracies.items():\n",
        "        print(f\"  Class {class_idx}: {acc:.2f}%\")\n",
        "\n",
        "    # Log results to wandb\n",
        "    wandb.log({\n",
        "        \"epoch\": epoch,\n",
        "        \"train_loss\": train_loss,\n",
        "        \"train_accuracy\": train_accuracy * 100,\n",
        "        \"test_loss\": test_loss,\n",
        "        \"test_accuracy\": test_accuracy,\n",
        "        \"learning_rate\": scheduler.get_last_lr()[0],\n",
        "        **{f\"class_{class_idx}_accuracy\": acc for class_idx, acc in class_accuracies.items()}\n",
        "    })\n",
        "\n",
        "    print(\n",
        "        f\"Train Accuracy: {100 * train_accuracy:.2f}%, \"\n",
        "        f\"Average Train Loss: {train_loss:.6f}, \"\n",
        "        f\"Test Accuracy: {test_accuracy:.2f}%, \"\n",
        "        f\"Average Test Loss: {test_loss:.6f}\\n\"\n",
        "    )\n",
        "\n",
        "# Convert lists to NumPy arrays\n",
        "all_preds = np.array(all_preds)\n",
        "all_targets = np.array(all_targets)\n",
        "\n",
        "# Save predictions & true labels for later use (confusion matrix)\n",
        "wandb.log({\"all_preds\": all_preds.tolist(), \"all_targets\": all_targets.tolist()})\n",
        "\n"
      ]
    },
    {
      "cell_type": "code",
      "execution_count": 14,
      "metadata": {
        "id": "_EeozMvYlqbs",
        "colab": {
          "base_uri": "https://localhost:8080/"
        },
        "outputId": "d6c7cf5d-8cb3-4064-becd-8a63ff25381f"
      },
      "outputs": [
        {
          "output_type": "display_data",
          "data": {
            "text/plain": [
              "<IPython.core.display.HTML object>"
            ],
            "text/html": []
          },
          "metadata": {}
        },
        {
          "output_type": "display_data",
          "data": {
            "text/plain": [
              "<IPython.core.display.HTML object>"
            ],
            "text/html": [
              "<br>    <style><br>        .wandb-row {<br>            display: flex;<br>            flex-direction: row;<br>            flex-wrap: wrap;<br>            justify-content: flex-start;<br>            width: 100%;<br>        }<br>        .wandb-col {<br>            display: flex;<br>            flex-direction: column;<br>            flex-basis: 100%;<br>            flex: 1;<br>            padding: 10px;<br>        }<br>    </style><br><div class=\"wandb-row\"><div class=\"wandb-col\"><h3>Run history:</h3><br/><table class=\"wandb\"><tr><td>class_0_accuracy</td><td>▁▁▂▆▃▂▁▁▃▃▇▄▅▁▂▆▅▃█▆▆▂▄▅▇▅▇█▅▇▇▇▇▆▇█▇█▇█</td></tr><tr><td>class_1_accuracy</td><td>██▅▆▂▁█▅▃▅▇▆▃▃▆▃▆▄▂▂▅▃▁▃▃▇▅▆▇▄▆▄▆▇▆▆▆▆▆▆</td></tr><tr><td>class_2_accuracy</td><td>▁▁▂▂▁▂▇█▆▂▄▅█▁▂▆▇▃▇█▅█▇▅█▇▅▃▇▅▇▇▄▅▆▆▅▆▆▆</td></tr><tr><td>class_3_accuracy</td><td>▁▆▅█▃▃▂▂▅▅▅▇▄▆▆▅▄▇▄▄▆▂▃▆▆▄▄▅▆▅▅▄▄▅▄▅▅▅▅▅</td></tr><tr><td>epoch</td><td>▁▁▁▁▂▂▂▂▂▃▃▃▃▃▃▄▄▄▄▄▅▅▅▅▅▅▆▆▆▆▆▇▇▇▇▇▇███</td></tr><tr><td>learning_rate</td><td>███████▇▇▇▇▇▇▆▆▅▅▅▅▅▄▄▄▄▃▃▂▂▂▂▂▂▁▁▁▁▁▁▁▁</td></tr><tr><td>test_accuracy</td><td>▁▁▄▄▁▂▄▄▄▇▇▅▅▄▆▇▆▃▆▆▇▄▄▆▆█▇█▆▇█▇▇▇██████</td></tr><tr><td>test_loss</td><td>█▃▃▆▄▄▅▄▂▄▂▂▆▃▃▂▄▂▂▄▆▆▂▂▃▁▁▂▁▁▁▂▂▁▁▁▁▁▁▁</td></tr><tr><td>train_accuracy</td><td>▁▂▃▃▄▄▄▅▅▅▆▆▆▆▆▆▆▇▆▇▇▆▇▇▇▇▇▇█▇█▇████████</td></tr><tr><td>train_loss</td><td>█▇▇▇▆▆▅▅▅▅▄▄▄▄▄▃▃▃▃▃▃▂▂▂▂▂▂▁▂▁▁▂▁▁▁▁▁▁▁▁</td></tr></table><br/></div><div class=\"wandb-col\"><h3>Run summary:</h3><br/><table class=\"wandb\"><tr><td>class_0_accuracy</td><td>20.37037</td></tr><tr><td>class_1_accuracy</td><td>70.83333</td></tr><tr><td>class_2_accuracy</td><td>64.66049</td></tr><tr><td>class_3_accuracy</td><td>54.16667</td></tr><tr><td>epoch</td><td>50</td></tr><tr><td>learning_rate</td><td>0.0</td></tr><tr><td>test_accuracy</td><td>52.50772</td></tr><tr><td>test_loss</td><td>1.07017</td></tr><tr><td>train_accuracy</td><td>54.97685</td></tr><tr><td>train_loss</td><td>1.01927</td></tr></table><br/></div></div>"
            ]
          },
          "metadata": {}
        },
        {
          "output_type": "display_data",
          "data": {
            "text/plain": [
              "<IPython.core.display.HTML object>"
            ],
            "text/html": [
              " View run <strong style=\"color:#cdcd00\">RNN 200 19123</strong> at: <a href='https://wandb.ai/philinthesky/Master%20Thesis/runs/lo9uqucz' target=\"_blank\">https://wandb.ai/philinthesky/Master%20Thesis/runs/lo9uqucz</a><br> View project at: <a href='https://wandb.ai/philinthesky/Master%20Thesis' target=\"_blank\">https://wandb.ai/philinthesky/Master%20Thesis</a><br>Synced 5 W&B file(s), 0 media file(s), 0 artifact file(s) and 0 other file(s)"
            ]
          },
          "metadata": {}
        },
        {
          "output_type": "display_data",
          "data": {
            "text/plain": [
              "<IPython.core.display.HTML object>"
            ],
            "text/html": [
              "Find logs at: <code>./wandb/run-20250317_103800-lo9uqucz/logs</code>"
            ]
          },
          "metadata": {}
        }
      ],
      "source": [
        "wandb.finish()"
      ]
    },
    {
      "cell_type": "code",
      "execution_count": 15,
      "metadata": {
        "id": "r25kGBA32Zhm",
        "colab": {
          "base_uri": "https://localhost:8080/"
        },
        "outputId": "d1754ce3-1ebb-418f-cf6f-bdec9cb323b6"
      },
      "outputs": [
        {
          "output_type": "stream",
          "name": "stdout",
          "text": [
            "19123\n"
          ]
        }
      ],
      "source": [
        "import math\n",
        "# Assuming 'model' is your trained Braindecode model\n",
        "print(seed)\n",
        "torch.save(model, f\"RNN{pool_size}_{math.ceil(final_acc)}_{seed}.pth\")\n",
        "torch.save(model.state_dict(), f\"RNN{pool_size}_{math.ceil(final_acc)}_{seed}_state.pth\")\n"
      ]
    },
    {
      "cell_type": "code",
      "source": [],
      "metadata": {
        "id": "6oTC35YwpAzQ"
      },
      "execution_count": 15,
      "outputs": []
    }
  ],
  "metadata": {
    "accelerator": "GPU",
    "colab": {
      "gpuType": "T4",
      "provenance": []
    },
    "kernelspec": {
      "display_name": "Python 3",
      "name": "python3"
    },
    "language_info": {
      "codemirror_mode": {
        "name": "ipython",
        "version": 3
      },
      "file_extension": ".py",
      "mimetype": "text/x-python",
      "name": "python",
      "nbconvert_exporter": "python",
      "pygments_lexer": "ipython3",
      "version": "3.12.9"
    }
  },
  "nbformat": 4,
  "nbformat_minor": 0
}