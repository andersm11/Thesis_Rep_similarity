{
 "cells": [
  {
   "cell_type": "code",
   "execution_count": 6,
   "metadata": {},
   "outputs": [],
   "source": [
    "import numpy as np\n",
    "import torch\n",
    "import matplotlib.pyplot as plt\n",
    "import seaborn as sns\n",
    "from shallow_fbcsp import ShallowFBCSPNet\n",
    "import pandas as pd\n",
    "from collections import OrderedDict\n",
    "import math"
   ]
  },
  {
   "cell_type": "code",
   "execution_count": 7,
   "metadata": {},
   "outputs": [
    {
     "name": "stdout",
     "output_type": "stream",
     "text": [
      "False\n"
     ]
    }
   ],
   "source": [
    "import torch\n",
    "\n",
    "print(torch.cuda.is_available())\n"
   ]
  },
  {
   "cell_type": "code",
   "execution_count": 8,
   "metadata": {},
   "outputs": [],
   "source": [
    "def linear_kernel(X):\n",
    "    \"\"\"Computes the linear kernel matrix for X.\"\"\"\n",
    "    return torch.matmul(X,X.T)  # Dot product\n",
    "\n",
    "def centering_matrix(K):\n",
    "    \"\"\"Apply centering to the kernel matrix.\"\"\"\n",
    "    n = K.shape[0]\n",
    "    H = torch.eye(n) - (1.0 / n) * torch.ones((n, n), device=K.device)\n",
    "    return H @ K @ H  # Centered kernel matrix\n",
    "\n",
    "def compute_hsic(K_x, K_y):\n",
    "    \"\"\"\n",
    "    Computes the Hilbert-Schmidt Independence Criterion (HSIC).\n",
    "    \n",
    "    Parameters:\n",
    "    - X: (n_samples, n_features_X) numpy array\n",
    "    - Y: (n_samples, n_features_Y) numpy array\n",
    "    - kernel_X: function to compute the kernel matrix for X\n",
    "    - kernel_Y: function to compute the kernel matrix for Y\n",
    "    \n",
    "    Returns:\n",
    "    - HSIC value (float)\n",
    "    \"\"\"\n",
    "    K_x_centered = centering_matrix(K_x)\n",
    "    K_y_centered = centering_matrix(K_y)\n",
    "    hsic_value = np.trace(K_x_centered @ K_y_centered) / ((K_x.shape[0] - 1) ** 2)\n",
    "    return hsic_value\n",
    "  \n",
    "def compute_CKA(K_x,K_y):\n",
    "  \"\"\"\n",
    "  compute CKA between two X,Y activations\n",
    "  \n",
    "  Parameters:\n",
    "  - X: (n_samples, x_features)\n",
    "  - Y: (n_samples, y_features)\n",
    "  - kernel_X: kernel for X\n",
    "  - kernel_Y: kernel for Y  \n",
    "  \"\"\"\n",
    "  HSIC_KL = compute_hsic(K_x,K_y) \n",
    "  HSIC_KK = compute_hsic(K_x,K_x)\n",
    "  HSIC_LL = compute_hsic(K_y,K_y)\n",
    "  numerator = HSIC_KL\n",
    "  denominator = math.sqrt(HSIC_KK * HSIC_LL)\n",
    "  return(numerator/denominator).item()\n"
   ]
  },
  {
   "cell_type": "code",
   "execution_count": 9,
   "metadata": {},
   "outputs": [],
   "source": [
    "# Define model parameters\n",
    "in_chans = 22\n",
    "n_classes = 4\n",
    "n_channels = 22\n",
    "input_window_samples = 1125\n",
    "# Load two models for comparison\n",
    "model= torch.load(\"shallow/braindecode_model_temponly_9.pth\",weights_only = False,map_location=torch.device('cpu'))\n",
    "model2 =ShallowFBCSPNet(in_chans, n_classes, input_window_samples)\n",
    "\n"
   ]
  },
  {
   "cell_type": "code",
   "execution_count": 10,
   "metadata": {},
   "outputs": [],
   "source": [
    "#print(model)"
   ]
  },
  {
   "cell_type": "code",
   "execution_count": 11,
   "metadata": {},
   "outputs": [
    {
     "name": "stdout",
     "output_type": "stream",
     "text": [
      "ShallowFBCSPNet(\n",
      "  (temporal): Conv2d(1, 40, kernel_size=(1, 25), stride=(1, 1))\n",
      "  (spatial): Conv2d(40, 40, kernel_size=(22, 1), stride=(1, 1))\n",
      "  (pool): AvgPool2d(kernel_size=(1, 100), stride=(1, 100), padding=0)\n",
      "  (batch_norm): BatchNorm2d(40, eps=1e-05, momentum=0.1, affine=True, track_running_stats=True)\n",
      "  (dropout): Dropout(p=0.5, inplace=False)\n",
      "  (fc): Linear(in_features=440, out_features=4, bias=True)\n",
      ")\n"
     ]
    }
   ],
   "source": [
    "print(model)"
   ]
  },
  {
   "cell_type": "code",
   "execution_count": 12,
   "metadata": {},
   "outputs": [],
   "source": [
    "import pickle\n",
    "with open('Datasets/test_set.pkl', 'rb') as f:\n",
    "    test_set = pickle.load(f)"
   ]
  },
  {
   "cell_type": "code",
   "execution_count": 13,
   "metadata": {},
   "outputs": [],
   "source": [
    "#print(model.conv_time.weight.device)  # Check the device of the conv_time layer\n",
    "#print(next(model.parameters()).device)\n",
    "\n"
   ]
  },
  {
   "cell_type": "code",
   "execution_count": 14,
   "metadata": {},
   "outputs": [
    {
     "name": "stdout",
     "output_type": "stream",
     "text": [
      "torch.Size([2592, 22, 1125])\n",
      "<class 'torch.Tensor'>\n"
     ]
    }
   ],
   "source": [
    "X = torch.stack([torch.from_numpy(test_set[i][0]) for i in range(len(test_set))])\n",
    "\n",
    "total_samples = X.shape[0]\n",
    "print(X.shape)  # Verify the tensor shape\n",
    "print(type(X))  # Should output <class 'torch.Tensor'>"
   ]
  },
  {
   "cell_type": "code",
   "execution_count": 15,
   "metadata": {},
   "outputs": [
    {
     "name": "stdout",
     "output_type": "stream",
     "text": [
      "saving: temporal_batch_1.pt\n",
      "saving: spatial_batch_1.pt\n",
      "saving: pool_batch_1.pt\n",
      "saving: temporal_batch_2.pt\n",
      "saving: spatial_batch_2.pt\n",
      "saving: pool_batch_2.pt\n",
      "saving: temporal_batch_3.pt\n",
      "saving: spatial_batch_3.pt\n",
      "saving: pool_batch_3.pt\n",
      "saving: temporal_batch_4.pt\n",
      "saving: spatial_batch_4.pt\n",
      "saving: pool_batch_4.pt\n",
      "saving: temporal_batch_5.pt\n",
      "saving: spatial_batch_5.pt\n",
      "saving: pool_batch_5.pt\n",
      "saving: temporal_batch_6.pt\n",
      "saving: spatial_batch_6.pt\n",
      "saving: pool_batch_6.pt\n",
      "saving: temporal_batch_7.pt\n",
      "saving: spatial_batch_7.pt\n",
      "saving: pool_batch_7.pt\n",
      "saving: temporal_batch_8.pt\n",
      "saving: spatial_batch_8.pt\n",
      "saving: pool_batch_8.pt\n",
      "saving: temporal_batch_9.pt\n",
      "saving: spatial_batch_9.pt\n",
      "saving: pool_batch_9.pt\n",
      "saving: temporal_batch_10.pt\n",
      "saving: spatial_batch_10.pt\n",
      "saving: pool_batch_10.pt\n",
      "saving: temporal_batch_11.pt\n",
      "saving: spatial_batch_11.pt\n",
      "saving: pool_batch_11.pt\n",
      "saving: temporal_batch_12.pt\n",
      "saving: spatial_batch_12.pt\n",
      "saving: pool_batch_12.pt\n",
      "saving: temporal_batch_13.pt\n",
      "saving: spatial_batch_13.pt\n",
      "saving: pool_batch_13.pt\n",
      "saving: temporal_batch_14.pt\n",
      "saving: spatial_batch_14.pt\n",
      "saving: pool_batch_14.pt\n",
      "saving: temporal_batch_15.pt\n",
      "saving: spatial_batch_15.pt\n",
      "saving: pool_batch_15.pt\n",
      "saving: temporal_batch_16.pt\n"
     ]
    },
    {
     "ename": "RuntimeError",
     "evalue": "[enforce fail at inline_container.cc:595] . unexpected pos 448 vs 342",
     "output_type": "error",
     "traceback": [
      "\u001b[1;31m---------------------------------------------------------------------------\u001b[0m",
      "\u001b[1;31mRuntimeError\u001b[0m                              Traceback (most recent call last)",
      "File \u001b[1;32mc:\\Users\\User\\miniconda3\\lib\\site-packages\\torch\\serialization.py:629\u001b[0m, in \u001b[0;36msave\u001b[1;34m(obj, f, pickle_module, pickle_protocol, _use_new_zipfile_serialization, _disable_byteorder_record)\u001b[0m\n\u001b[0;32m    628\u001b[0m \u001b[38;5;28;01mwith\u001b[39;00m _open_zipfile_writer(f) \u001b[38;5;28;01mas\u001b[39;00m opened_zipfile:\n\u001b[1;32m--> 629\u001b[0m     \u001b[43m_save\u001b[49m\u001b[43m(\u001b[49m\u001b[43mobj\u001b[49m\u001b[43m,\u001b[49m\u001b[43m \u001b[49m\u001b[43mopened_zipfile\u001b[49m\u001b[43m,\u001b[49m\u001b[43m \u001b[49m\u001b[43mpickle_module\u001b[49m\u001b[43m,\u001b[49m\u001b[43m \u001b[49m\u001b[43mpickle_protocol\u001b[49m\u001b[43m,\u001b[49m\u001b[43m \u001b[49m\u001b[43m_disable_byteorder_record\u001b[49m\u001b[43m)\u001b[49m\n\u001b[0;32m    630\u001b[0m     \u001b[38;5;28;01mreturn\u001b[39;00m\n",
      "File \u001b[1;32mc:\\Users\\User\\miniconda3\\lib\\site-packages\\torch\\serialization.py:863\u001b[0m, in \u001b[0;36m_save\u001b[1;34m(obj, zip_file, pickle_module, pickle_protocol, _disable_byteorder_record)\u001b[0m\n\u001b[0;32m    862\u001b[0m num_bytes \u001b[38;5;241m=\u001b[39m storage\u001b[38;5;241m.\u001b[39mnbytes()\n\u001b[1;32m--> 863\u001b[0m \u001b[43mzip_file\u001b[49m\u001b[38;5;241;43m.\u001b[39;49m\u001b[43mwrite_record\u001b[49m\u001b[43m(\u001b[49m\u001b[43mname\u001b[49m\u001b[43m,\u001b[49m\u001b[43m \u001b[49m\u001b[43mstorage\u001b[49m\u001b[38;5;241;43m.\u001b[39;49m\u001b[43mdata_ptr\u001b[49m\u001b[43m(\u001b[49m\u001b[43m)\u001b[49m\u001b[43m,\u001b[49m\u001b[43m \u001b[49m\u001b[43mnum_bytes\u001b[49m\u001b[43m)\u001b[49m\n",
      "\u001b[1;31mRuntimeError\u001b[0m: [enforce fail at inline_container.cc:769] . PytorchStreamWriter failed writing file data/0: file write failed",
      "\nDuring handling of the above exception, another exception occurred:\n",
      "\u001b[1;31mRuntimeError\u001b[0m                              Traceback (most recent call last)",
      "Cell \u001b[1;32mIn[15], line 52\u001b[0m\n\u001b[0;32m     49\u001b[0m \u001b[38;5;66;03m# Call the function with the correct device:\u001b[39;00m\n\u001b[0;32m     50\u001b[0m \u001b[38;5;66;03m# Assuming 'model' is your model and 'X' is the input tensor\u001b[39;00m\n\u001b[0;32m     51\u001b[0m device \u001b[38;5;241m=\u001b[39m \u001b[38;5;124m\"\u001b[39m\u001b[38;5;124mcuda\u001b[39m\u001b[38;5;124m\"\u001b[39m \u001b[38;5;28;01mif\u001b[39;00m torch\u001b[38;5;241m.\u001b[39mcuda\u001b[38;5;241m.\u001b[39mis_available() \u001b[38;5;28;01melse\u001b[39;00m \u001b[38;5;124m\"\u001b[39m\u001b[38;5;124mcpu\u001b[39m\u001b[38;5;124m\"\u001b[39m\n\u001b[1;32m---> 52\u001b[0m \u001b[43mextract_model_activations\u001b[49m\u001b[43m(\u001b[49m\u001b[43mmodel\u001b[49m\u001b[43m,\u001b[49m\u001b[43m \u001b[49m\u001b[43mX\u001b[49m\u001b[43m,\u001b[49m\u001b[43m \u001b[49m\u001b[43moutput_dir\u001b[49m\u001b[38;5;241;43m=\u001b[39;49m\u001b[38;5;124;43m\"\u001b[39;49m\u001b[38;5;124;43mDatasets/activations/model9/\u001b[39;49m\u001b[38;5;124;43m\"\u001b[39;49m\u001b[43m,\u001b[49m\u001b[43m \u001b[49m\u001b[43mbatch_size\u001b[49m\u001b[38;5;241;43m=\u001b[39;49m\u001b[38;5;241;43m128\u001b[39;49m\u001b[43m,\u001b[49m\u001b[43m \u001b[49m\u001b[43mdevice\u001b[49m\u001b[38;5;241;43m=\u001b[39;49m\u001b[43mdevice\u001b[49m\u001b[43m)\u001b[49m\n",
      "Cell \u001b[1;32mIn[15], line 42\u001b[0m, in \u001b[0;36mextract_model_activations\u001b[1;34m(model, input_tensor, output_dir, batch_size, device)\u001b[0m\n\u001b[0;32m     40\u001b[0m     batch_idx \u001b[38;5;241m=\u001b[39m i \u001b[38;5;241m/\u001b[39m\u001b[38;5;241m/\u001b[39m batch_size \u001b[38;5;241m+\u001b[39m \u001b[38;5;241m1\u001b[39m  \u001b[38;5;66;03m# This determines the batch number\u001b[39;00m\n\u001b[0;32m     41\u001b[0m     \u001b[38;5;28mprint\u001b[39m(\u001b[38;5;124mf\u001b[39m\u001b[38;5;124m\"\u001b[39m\u001b[38;5;124msaving: \u001b[39m\u001b[38;5;132;01m{\u001b[39;00mname\u001b[38;5;132;01m}\u001b[39;00m\u001b[38;5;124m_batch_\u001b[39m\u001b[38;5;132;01m{\u001b[39;00mbatch_idx\u001b[38;5;132;01m}\u001b[39;00m\u001b[38;5;124m.pt\u001b[39m\u001b[38;5;124m\"\u001b[39m)\n\u001b[1;32m---> 42\u001b[0m     \u001b[43mtorch\u001b[49m\u001b[38;5;241;43m.\u001b[39;49m\u001b[43msave\u001b[49m\u001b[43m(\u001b[49m\u001b[43mactivation\u001b[49m\u001b[43m,\u001b[49m\u001b[43m \u001b[49m\u001b[43mos\u001b[49m\u001b[38;5;241;43m.\u001b[39;49m\u001b[43mpath\u001b[49m\u001b[38;5;241;43m.\u001b[39;49m\u001b[43mjoin\u001b[49m\u001b[43m(\u001b[49m\u001b[43moutput_dir\u001b[49m\u001b[43m,\u001b[49m\u001b[43m \u001b[49m\u001b[38;5;124;43mf\u001b[39;49m\u001b[38;5;124;43m\"\u001b[39;49m\u001b[38;5;132;43;01m{\u001b[39;49;00m\u001b[43mname\u001b[49m\u001b[38;5;132;43;01m}\u001b[39;49;00m\u001b[38;5;124;43m_batch_\u001b[39;49m\u001b[38;5;132;43;01m{\u001b[39;49;00m\u001b[43mbatch_idx\u001b[49m\u001b[38;5;132;43;01m}\u001b[39;49;00m\u001b[38;5;124;43m.pt\u001b[39;49m\u001b[38;5;124;43m\"\u001b[39;49m\u001b[43m)\u001b[49m\u001b[43m)\u001b[49m\n\u001b[0;32m     44\u001b[0m \u001b[38;5;66;03m# Clear activations list after saving\u001b[39;00m\n\u001b[0;32m     45\u001b[0m activations\u001b[38;5;241m.\u001b[39mclear()\n",
      "File \u001b[1;32mc:\\Users\\User\\miniconda3\\lib\\site-packages\\torch\\serialization.py:628\u001b[0m, in \u001b[0;36msave\u001b[1;34m(obj, f, pickle_module, pickle_protocol, _use_new_zipfile_serialization, _disable_byteorder_record)\u001b[0m\n\u001b[0;32m    625\u001b[0m _check_save_filelike(f)\n\u001b[0;32m    627\u001b[0m \u001b[38;5;28;01mif\u001b[39;00m _use_new_zipfile_serialization:\n\u001b[1;32m--> 628\u001b[0m     \u001b[38;5;28;01mwith\u001b[39;00m _open_zipfile_writer(f) \u001b[38;5;28;01mas\u001b[39;00m opened_zipfile:\n\u001b[0;32m    629\u001b[0m         _save(obj, opened_zipfile, pickle_module, pickle_protocol, _disable_byteorder_record)\n\u001b[0;32m    630\u001b[0m         \u001b[38;5;28;01mreturn\u001b[39;00m\n",
      "File \u001b[1;32mc:\\Users\\User\\miniconda3\\lib\\site-packages\\torch\\serialization.py:476\u001b[0m, in \u001b[0;36m_open_zipfile_writer_file.__exit__\u001b[1;34m(self, *args)\u001b[0m\n\u001b[0;32m    475\u001b[0m \u001b[38;5;28;01mdef\u001b[39;00m \u001b[38;5;21m__exit__\u001b[39m(\u001b[38;5;28mself\u001b[39m, \u001b[38;5;241m*\u001b[39margs) \u001b[38;5;241m-\u001b[39m\u001b[38;5;241m>\u001b[39m \u001b[38;5;28;01mNone\u001b[39;00m:\n\u001b[1;32m--> 476\u001b[0m     \u001b[38;5;28;43mself\u001b[39;49m\u001b[38;5;241;43m.\u001b[39;49m\u001b[43mfile_like\u001b[49m\u001b[38;5;241;43m.\u001b[39;49m\u001b[43mwrite_end_of_file\u001b[49m\u001b[43m(\u001b[49m\u001b[43m)\u001b[49m\n\u001b[0;32m    477\u001b[0m     \u001b[38;5;28;01mif\u001b[39;00m \u001b[38;5;28mself\u001b[39m\u001b[38;5;241m.\u001b[39mfile_stream \u001b[38;5;129;01mis\u001b[39;00m \u001b[38;5;129;01mnot\u001b[39;00m \u001b[38;5;28;01mNone\u001b[39;00m:\n\u001b[0;32m    478\u001b[0m         \u001b[38;5;28mself\u001b[39m\u001b[38;5;241m.\u001b[39mfile_stream\u001b[38;5;241m.\u001b[39mclose()\n",
      "\u001b[1;31mRuntimeError\u001b[0m: [enforce fail at inline_container.cc:595] . unexpected pos 448 vs 342"
     ]
    }
   ],
   "source": [
    "import os\n",
    "import torch\n",
    "from collections import OrderedDict\n",
    "\n",
    "def extract_model_activations(model, input_tensor, output_dir, batch_size=128, device='cuda'):\n",
    "    # Make sure the model is on the correct device\n",
    "    device = 'cuda' if torch.cuda.is_available() else 'cpu'\n",
    "    model.to(device)\n",
    "        \n",
    "    # Make sure the input tensor is also on the same device\n",
    "    input_tensor = input_tensor.to(device)\n",
    "    \n",
    "    if not os.path.exists(output_dir):\n",
    "        os.makedirs(output_dir)\n",
    "\n",
    "    activations = OrderedDict()\n",
    "\n",
    "    def get_activation(name):\n",
    "        def hook(model, input, output):\n",
    "            activations[name] = output.detach()\n",
    "        return hook\n",
    "\n",
    "    # Register hooks for specific layers\n",
    "    for name, layer in model.named_modules():\n",
    "        if name == \"temporal\" or name == \"spatial\" or name == \"pool\":  # Modify as per your layer names\n",
    "            layer.register_forward_hook(get_activation(name))\n",
    "\n",
    "    model.eval()\n",
    "\n",
    "    with torch.no_grad():\n",
    "        for i in range(0, input_tensor.shape[0], batch_size):\n",
    "            batch = input_tensor[i:i + batch_size]  # Select current batch\n",
    "            batch = batch.to(device)  # Make sure the batch is on the correct device\n",
    "            \n",
    "            # Forward pass through the model\n",
    "            _ = model(batch)  \n",
    "\n",
    "            # Save activations after each batch\n",
    "            for name, activation in activations.items():\n",
    "                batch_idx = i // batch_size + 1  # This determines the batch number\n",
    "                print(f\"saving: {name}_batch_{batch_idx}.pt\")\n",
    "                torch.save(activation, os.path.join(output_dir, f\"{name}_batch_{batch_idx}.pt\"))\n",
    "            \n",
    "            # Clear activations list after saving\n",
    "            activations.clear()\n",
    "            torch.cuda.empty_cache()  # Optional: Clear GPU memory after each batch\n",
    "\n",
    "\n",
    "# Call the function with the correct device:\n",
    "# Assuming 'model' is your model and 'X' is the input tensor\n",
    "device = \"cuda\" if torch.cuda.is_available() else \"cpu\"\n",
    "extract_model_activations(model, X, output_dir=\"Datasets/activations/model9/\", batch_size=128, device=device)"
   ]
  },
  {
   "cell_type": "code",
   "execution_count": null,
   "metadata": {},
   "outputs": [],
   "source": []
  },
  {
   "cell_type": "code",
   "execution_count": null,
   "metadata": {},
   "outputs": [],
   "source": []
  },
  {
   "cell_type": "code",
   "execution_count": 20,
   "metadata": {},
   "outputs": [],
   "source": [
    "#print(model.conv_time.weight.device)  # Check the device of the conv_time layer\n",
    "#print(next(model.parameters()).device)\n"
   ]
  },
  {
   "cell_type": "code",
   "execution_count": 21,
   "metadata": {},
   "outputs": [
    {
     "name": "stdout",
     "output_type": "stream",
     "text": [
      "2592\n"
     ]
    }
   ],
   "source": [
    "\n",
    "batch_size = 128\n",
    "total_samples = X.shape[0]\n",
    "print(total_samples)"
   ]
  },
  {
   "cell_type": "code",
   "execution_count": 22,
   "metadata": {},
   "outputs": [
    {
     "name": "stdout",
     "output_type": "stream",
     "text": [
      "saving: pool_batch_1.pt\n",
      "saving: pool_batch_2.pt\n",
      "saving: pool_batch_3.pt\n",
      "saving: pool_batch_4.pt\n",
      "saving: pool_batch_5.pt\n",
      "saving: pool_batch_6.pt\n",
      "saving: pool_batch_7.pt\n",
      "saving: pool_batch_8.pt\n",
      "saving: pool_batch_9.pt\n",
      "saving: pool_batch_10.pt\n",
      "saving: pool_batch_11.pt\n",
      "saving: pool_batch_12.pt\n",
      "saving: pool_batch_13.pt\n",
      "saving: pool_batch_14.pt\n",
      "saving: pool_batch_15.pt\n",
      "saving: pool_batch_16.pt\n",
      "saving: pool_batch_17.pt\n",
      "saving: pool_batch_18.pt\n",
      "saving: pool_batch_19.pt\n",
      "saving: pool_batch_20.pt\n",
      "saving: pool_batch_21.pt\n"
     ]
    }
   ],
   "source": [
    "extract_model_activations(model,X,output_dir=\"Datasets/activations/model1/\",batch_size=batch_size)\n"
   ]
  },
  {
   "cell_type": "code",
   "execution_count": null,
   "metadata": {},
   "outputs": [
    {
     "name": "stdout",
     "output_type": "stream",
     "text": [
      "saving: conv_time_batch_1.pt\n",
      "saving: conv_spat_batch_1.pt\n",
      "saving: pool_batch_1.pt\n",
      "saving: conv_time_batch_2.pt\n",
      "saving: conv_spat_batch_2.pt\n",
      "saving: pool_batch_2.pt\n",
      "saving: conv_time_batch_3.pt\n",
      "saving: conv_spat_batch_3.pt\n",
      "saving: pool_batch_3.pt\n",
      "saving: conv_time_batch_4.pt\n",
      "saving: conv_spat_batch_4.pt\n",
      "saving: pool_batch_4.pt\n",
      "saving: conv_time_batch_5.pt\n",
      "saving: conv_spat_batch_5.pt\n",
      "saving: pool_batch_5.pt\n",
      "saving: conv_time_batch_6.pt\n",
      "saving: conv_spat_batch_6.pt\n",
      "saving: pool_batch_6.pt\n",
      "saving: conv_time_batch_7.pt\n",
      "saving: conv_spat_batch_7.pt\n",
      "saving: pool_batch_7.pt\n",
      "saving: conv_time_batch_8.pt\n",
      "saving: conv_spat_batch_8.pt\n",
      "saving: pool_batch_8.pt\n",
      "saving: conv_time_batch_9.pt\n",
      "saving: conv_spat_batch_9.pt\n",
      "saving: pool_batch_9.pt\n",
      "saving: conv_time_batch_10.pt\n",
      "saving: conv_spat_batch_10.pt\n",
      "saving: pool_batch_10.pt\n",
      "saving: conv_time_batch_11.pt\n",
      "saving: conv_spat_batch_11.pt\n",
      "saving: pool_batch_11.pt\n",
      "saving: conv_time_batch_12.pt\n",
      "saving: conv_spat_batch_12.pt\n",
      "saving: pool_batch_12.pt\n",
      "saving: conv_time_batch_13.pt\n",
      "saving: conv_spat_batch_13.pt\n",
      "saving: pool_batch_13.pt\n",
      "saving: conv_time_batch_14.pt\n",
      "saving: conv_spat_batch_14.pt\n",
      "saving: pool_batch_14.pt\n",
      "saving: conv_time_batch_15.pt\n",
      "saving: conv_spat_batch_15.pt\n",
      "saving: pool_batch_15.pt\n",
      "saving: conv_time_batch_16.pt\n",
      "saving: conv_spat_batch_16.pt\n",
      "saving: pool_batch_16.pt\n",
      "saving: conv_time_batch_17.pt\n",
      "saving: conv_spat_batch_17.pt\n",
      "saving: pool_batch_17.pt\n",
      "saving: conv_time_batch_18.pt\n",
      "saving: conv_spat_batch_18.pt\n",
      "saving: pool_batch_18.pt\n",
      "saving: conv_time_batch_19.pt\n",
      "saving: conv_spat_batch_19.pt\n",
      "saving: pool_batch_19.pt\n",
      "saving: conv_time_batch_20.pt\n",
      "saving: conv_spat_batch_20.pt\n",
      "saving: pool_batch_20.pt\n",
      "saving: conv_time_batch_21.pt\n",
      "saving: conv_spat_batch_21.pt\n",
      "saving: pool_batch_21.pt\n"
     ]
    }
   ],
   "source": [
    "extract_model_activations(model2,X,output_dir=\"Datasets/activations/model4/\",batch_size=batch_size)"
   ]
  },
  {
   "cell_type": "code",
   "execution_count": 24,
   "metadata": {},
   "outputs": [
    {
     "name": "stdout",
     "output_type": "stream",
     "text": [
      "torch.Size([128, 40, 1101, 22])\n"
     ]
    }
   ],
   "source": [
    "length = torch.load(f\"Datasets/activations/model1/conv_time_batch_{3}.pt\")\n",
    "print(length.shape)"
   ]
  },
  {
   "cell_type": "code",
   "execution_count": 25,
   "metadata": {},
   "outputs": [
    {
     "name": "stdout",
     "output_type": "stream",
     "text": [
      "['conv_time', 'conv_spat', 'pool']\n",
      "['conv_time', 'conv_spat', 'pool']\n"
     ]
    }
   ],
   "source": [
    "import numpy as np\n",
    "import pandas as pd\n",
    "import seaborn as sns\n",
    "import matplotlib.pyplot as plt\n",
    "from collections import OrderedDict\n",
    "del X\n",
    "# Use OrderedDict to preserve the order of layer names\n",
    "layer_names_model1 = ['conv_time', 'conv_spat','pool']\n",
    "layer_names_model2 = layer_names_model1\n",
    "\n",
    "\n",
    "print(layer_names_model1)\n",
    "print(layer_names_model2)"
   ]
  },
  {
   "cell_type": "code",
   "execution_count": 26,
   "metadata": {},
   "outputs": [
    {
     "data": {
      "text/plain": [
       "20.25"
      ]
     },
     "execution_count": 26,
     "metadata": {},
     "output_type": "execute_result"
    }
   ],
   "source": [
    "import math\n",
    "batch_nr = total_samples /batch_size\n",
    "\n",
    "batch_nr"
   ]
  },
  {
   "cell_type": "code",
   "execution_count": 27,
   "metadata": {},
   "outputs": [],
   "source": [
    "\n",
    "\n",
    "\n",
    "\n",
    "def compute_kernel_full_highmem(layer, batch_nr, model_number):\n",
    "    \"\"\"Computes the linear kernel for all samples at once.\"\"\"\n",
    "    \n",
    "\n",
    "    activations_list = []\n",
    "    \n",
    "    for batch_idx in range(1, math.ceil(batch_nr+1)):\n",
    "        print(f\"\\rLoading batch {batch_idx} for {layer} in model {model_number}\", end='', flush=True)\n",
    "        \n",
    "\n",
    "        batch_activations = torch.load(f\"Datasets/activations/model{model_number}/{layer}_batch_{batch_idx}.pt\")\n",
    "        batch_activations = batch_activations.reshape(batch_activations.shape[0], -1)  # Flatten\n",
    "        \n",
    "        activations_list.append(batch_activations)\n",
    "    \n",
    "    all_activations = torch.cat(activations_list, dim=0)\n",
    "    print(\"\\nFinal Activations Shape:\", all_activations.shape)\n",
    "\n",
    "    full_kernel = torch.matmul(all_activations, all_activations.T)\n",
    "\n",
    "    return full_kernel\n",
    "\n",
    "# model_1_kernels = OrderedDict()\n",
    "# model_2_kernels = OrderedDict()\n",
    "\n",
    "# for layer in layer_names_model1:\n",
    "#     model_1_kernels[layer] = compute_kernel_full_highmem(layer, batch_nr,1)\n",
    "# for layer in layer_names_model2:\n",
    "#     model_2_kernels[layer] = compute_kernel_full_highmem(layer,batch_nr,2)\n",
    "\n",
    "\n",
    "\n",
    "\n",
    "\n"
   ]
  },
  {
   "cell_type": "code",
   "execution_count": 28,
   "metadata": {},
   "outputs": [
    {
     "name": "stdout",
     "output_type": "stream",
     "text": [
      "Loading batches 21-22 for pool in model 2del 2"
     ]
    }
   ],
   "source": [
    "def compute_kernel_full_lowmem(layer, batch_nr, model_number, total_samples, batch_size, n_batches=1, use_cuda=False):\n",
    "    \"\"\"Computes the full kernel matrix in batches efficiently using matrix multiplication.\"\"\"\n",
    "    \n",
    "    device = torch.device(\"cuda\" if use_cuda and torch.cuda.is_available() else \"cpu\")\n",
    "\n",
    "    full_kernel = torch.zeros((total_samples, total_samples), dtype=torch.float32, device=device)\n",
    "    \n",
    "    for batch_idx in range(1, math.ceil(math.ceil(batch_nr) / n_batches) + 1):\n",
    "        print(f\"\\rLoading batches {batch_idx * n_batches - (n_batches - 1)}-{batch_idx * n_batches} for {layer} in model {model_number}\", \n",
    "              end='', flush=True)\n",
    "\n",
    "        batch_activations_list = []\n",
    "        start_idx_col = (batch_idx - 1) * batch_size * n_batches\n",
    "        end_idx_col = min(start_idx_col + batch_size * n_batches, total_samples)  \n",
    "\n",
    "        # Load multiple batches at once\n",
    "        for sub_batch in range(n_batches):\n",
    "            batch_file_idx = (batch_idx - 1) * n_batches + sub_batch + 1\n",
    "            if batch_file_idx > math.ceil(batch_nr):\n",
    "                break\n",
    "            batch_activations = torch.load(\n",
    "                f\"Datasets/activations/model{model_number}/{layer}_batch_{batch_file_idx}.pt\"\n",
    "            ).to(device)\n",
    "            batch_activations_list.append(batch_activations.reshape(batch_activations.shape[0], -1))\n",
    "\n",
    "        if not batch_activations_list:\n",
    "            continue\n",
    "\n",
    "        batch_activations = torch.cat(batch_activations_list, dim=0)  # Merge batches\n",
    "\n",
    "        for batch_idx2 in range(1, math.ceil(math.ceil(batch_nr) / n_batches) + 2):\n",
    "            batch_activations_transpose_list = []\n",
    "            start_idx_row = (batch_idx2 - 1) * batch_size * n_batches\n",
    "            end_idx_row = min(start_idx_row + batch_size * n_batches, total_samples)\n",
    "\n",
    "            # Load multiple batches at once\n",
    "            for sub_batch2 in range(n_batches):\n",
    "                batch_file_idx2 = (batch_idx2 - 1) * n_batches + sub_batch2 + 1\n",
    "                if batch_file_idx2 > math.ceil(batch_nr):\n",
    "                    break\n",
    "                batch_activations_transpose = torch.load(\n",
    "                    f\"Datasets/activations/model{model_number}/{layer}_batch_{batch_file_idx2}.pt\"\n",
    "                ).to(device)\n",
    "                batch_activations_transpose_list.append(batch_activations_transpose.reshape(batch_activations_transpose.shape[0], -1))\n",
    "\n",
    "            if not batch_activations_transpose_list:\n",
    "                continue\n",
    "\n",
    "            batch_activations_transpose = torch.cat(batch_activations_transpose_list, dim=0)\n",
    "\n",
    "            kernel_block = batch_activations @ batch_activations_transpose.T\n",
    "            full_kernel[start_idx_col:end_idx_col, start_idx_row:end_idx_row] = kernel_block\n",
    "            full_kernel[start_idx_row:end_idx_row, start_idx_col:end_idx_col] = kernel_block.T  # Use symmetry\n",
    "\n",
    "    return full_kernel.cpu()\n",
    "\n",
    "\n",
    "def compute_full_kernels(layer_names_model1, layer_names_model2, batch_nr, total_samples,batch_size,n_batches):\n",
    "    \"\"\"Computes the kernels for both models.\"\"\"\n",
    "    model_1_kernels = {}\n",
    "    model_2_kernels = {}\n",
    "\n",
    "    # Compute kernels for model 1\n",
    "    for layer in layer_names_model1:\n",
    "        model_1_kernels[layer] = compute_kernel_full_lowmem(layer, batch_nr, 1, total_samples,batch_size,n_batches)\n",
    "\n",
    "    # Compute kernels for model 2\n",
    "    for layer in layer_names_model2:\n",
    "        model_2_kernels[layer] = compute_kernel_full_lowmem(layer, batch_nr, 2, total_samples,batch_size,n_batches)\n",
    "\n",
    "    return model_1_kernels, model_2_kernels\n",
    "\n",
    "model_1_kernels = OrderedDict()\n",
    "model_2_kernels = OrderedDict()\n",
    "layer_names_model = layer_names_model1 \n",
    "\n",
    "    \n",
    "model_1_kernels, model_2_kernels = compute_full_kernels(layer_names_model, layer_names_model, batch_nr,total_samples,batch_size,2)"
   ]
  },
  {
   "cell_type": "code",
   "execution_count": 34,
   "metadata": {},
   "outputs": [
    {
     "name": "stdout",
     "output_type": "stream",
     "text": [
      "torch.Size([2592, 2592])\n",
      "No zero values in the tensor.\n",
      "tensor([[ 95.9349,  26.7519,   5.9710,  ..., -19.7104,  22.3993,  31.7071],\n",
      "        [ 26.7519,  71.1991,  10.2201,  ...,  -7.2852,  16.2143,  10.8721],\n",
      "        [  5.9710,  10.2201,  37.9720,  ...,   1.4735,  -2.5371,  -6.8876],\n",
      "        ...,\n",
      "        [-19.7104,  -7.2852,   1.4735,  ...,  37.4142,  -4.6342, -11.3996],\n",
      "        [ 22.3993,  16.2143,  -2.5371,  ...,  -4.6342,  84.2707,  21.9682],\n",
      "        [ 31.7071,  10.8721,  -6.8876,  ..., -11.3996,  21.9682,  75.0699]])\n"
     ]
    }
   ],
   "source": [
    "\n",
    "print(model_1_kernels[\"conv_time\"].shape)\n",
    "if (model_1_kernels[\"conv_time\"] == 0).any():\n",
    "    print(\"The tensor contains at least one zero value.\")\n",
    "else:\n",
    "    print(\"No zero values in the tensor.\")\n",
    "\n",
    "print(model_1_kernels[\"pool\"])\n"
   ]
  },
  {
   "cell_type": "code",
   "execution_count": 35,
   "metadata": {},
   "outputs": [
    {
     "name": "stdout",
     "output_type": "stream",
     "text": [
      "CKA(conv_time, conv_time): 0.9908600920342787\n",
      "CKA(conv_time, conv_spat): 0.9860235977828841\n",
      "CKA(conv_time, pool): 0.28005577612150806\n",
      "CKA(conv_spat, conv_time): 0.8660256209932173\n",
      "CKA(conv_spat, conv_spat): 0.8437934170249092\n",
      "CKA(conv_spat, pool): 0.29709642884903664\n",
      "CKA(pool, conv_time): 0.054330230521855934\n",
      "CKA(pool, conv_spat): 0.052570198837193216\n",
      "CKA(pool, pool): 0.11179440143373584\n"
     ]
    }
   ],
   "source": [
    "cka_results = OrderedDict()\n",
    "\n",
    "for layer1, K_x in model_1_kernels.items():\n",
    "    for layer2, K_y in model_2_kernels.items():\n",
    "        cka_value = compute_CKA(K_x, K_y)\n",
    "        cka_results[(layer1, layer2)] = cka_value\n",
    "        print(f\"CKA({layer1}, {layer2}): {cka_value}\")"
   ]
  },
  {
   "cell_type": "code",
   "execution_count": 32,
   "metadata": {},
   "outputs": [
    {
     "data": {
      "text/plain": [
       "OrderedDict([(('conv_time', 'conv_time'), 0.9908600920342787),\n",
       "             (('conv_time', 'conv_spat'), 0.9860235977828841),\n",
       "             (('conv_time', 'pool'), 0.28005577612150806),\n",
       "             (('conv_spat', 'conv_time'), 0.8660256209932173),\n",
       "             (('conv_spat', 'conv_spat'), 0.8437934170249092),\n",
       "             (('conv_spat', 'pool'), 0.29709642884903664),\n",
       "             (('pool', 'conv_time'), 0.054330230521855934),\n",
       "             (('pool', 'conv_spat'), 0.052570198837193216),\n",
       "             (('pool', 'pool'), 0.11179440143373584)])"
      ]
     },
     "execution_count": 32,
     "metadata": {},
     "output_type": "execute_result"
    }
   ],
   "source": [
    "cka_results"
   ]
  },
  {
   "cell_type": "code",
   "execution_count": 33,
   "metadata": {},
   "outputs": [
    {
     "data": {
      "image/png": "[encoded data removed]",
      "text/plain": [
       "<Figure size 1000x800 with 2 Axes>"
      ]
     },
     "metadata": {},
     "output_type": "display_data"
    }
   ],
   "source": [
    "\n",
    "n_layers = len(layer_names_model1)# + len(layer_names_model2)\n",
    "matrix = np.zeros((n_layers, n_layers))\n",
    "\n",
    "\n",
    "for (layer1, layer2), similarity in cka_results.items():\n",
    "    i = layer_names_model1.index(layer1) if layer1 in layer_names_model1 else len(layer_names_model1) + layer_names_model2.index(layer1)\n",
    "    j = layer_names_model2.index(layer2) if layer2 in layer_names_model2 else len(layer_names_model2) + layer_names_model1.index(layer2)\n",
    "    \n",
    "    matrix[i, j] = similarity\n",
    "    matrix[j, i] = similarity  # Symmetric matrix\n",
    "layer_names = [\"conv_time\",\"conv_spat\", \"pool\"]\n",
    "df = pd.DataFrame(matrix, index=layer_names, columns=layer_names)\n",
    "\n",
    "# Plot the heatmap\n",
    "plt.figure(figsize=(10, 8))\n",
    "sns.heatmap(df, annot=True)#, cmap='magma', fmt='.2f', square=True)#, linewidths=0.5, cbar=True, vmin=0, vmax=1, xticklabels=layer_names, yticklabels=layer_names)\n",
    "\n",
    "plt.title('Average CKA Similarity Heatmap')\n",
    "plt.xlabel('Layer')\n",
    "plt.ylabel('Layer')\n",
    "plt.show()"
   ]
  },
  {
   "cell_type": "code",
   "execution_count": null,
   "metadata": {},
   "outputs": [],
   "source": [
    "#!pip install seaborn --upgrade"
   ]
  },
  {
   "cell_type": "code",
   "execution_count": null,
   "metadata": {},
   "outputs": [
    {
     "name": "stdout",
     "output_type": "stream",
     "text": [
      "None\n"
     ]
    }
   ],
   "source": [
    "print(df_new)"
   ]
  }
 ],
 "metadata": {
  "kernelspec": {
   "display_name": "Python 3",
   "language": "python",
   "name": "python3"
  },
  "language_info": {
   "codemirror_mode": {
    "name": "ipython",
    "version": 3
   },
   "file_extension": ".py",
   "mimetype": "text/x-python",
   "name": "python",
   "nbconvert_exporter": "python",
   "pygments_lexer": "ipython3",
   "version": "3.10.13"
  }
 },
 "nbformat": 4,
 "nbformat_minor": 2
}
