{
  "cells": [
    {
      "cell_type": "code",
      "execution_count": 1,
      "metadata": {
        "colab": {
          "base_uri": "https://localhost:8080/"
        },
        "id": "82Vbwzg32ZhZ",
        "outputId": "cee75fb4-bd4c-43fb-e10d-76e02f41af50"
      },
      "outputs": [
        {
          "output_type": "stream",
          "name": "stdout",
          "text": [
            "Running in Google Colab. Checking required libraries...\n",
            "All required libraries are already installed.\n"
          ]
        }
      ],
      "source": [
        "import sys\n",
        "import importlib\n",
        "import subprocess\n",
        "\n",
        "def install_if_colab():\n",
        "    if \"google.colab\" in sys.modules:\n",
        "        print(\"Running in Google Colab. Checking required libraries...\")\n",
        "\n",
        "        packages = [\"moabb\", \"braindecode\"]  # Add required libraries\n",
        "        missing_packages = [pkg for pkg in packages if importlib.util.find_spec(pkg) is None]\n",
        "\n",
        "        if missing_packages:\n",
        "            print(f\"Installing missing libraries: {', '.join(missing_packages)}\")\n",
        "            !pip install {\" \".join(missing_packages)}\n",
        "        else:\n",
        "            print(\"All required libraries are already installed.\")\n",
        "    else:\n",
        "        print(\"Not running in Google Colab. No installation needed.\")\n",
        "\n",
        "install_if_colab()\n"
      ]
    },
    {
      "cell_type": "code",
      "execution_count": 2,
      "metadata": {
        "id": "RuGBArX_2Zhe"
      },
      "outputs": [],
      "source": [
        "# import numpy as np\n",
        "# from braindecode.datasets import MOABBDataset\n",
        "\n",
        "# subject_id = [1,2,3,4]\n",
        "# dataset = MOABBDataset(dataset_name=\"BNCI2014_001\", subject_ids=[1,2,3,4,5,6,7,8,9])\n",
        "\n",
        "\n",
        "\n",
        "# from braindecode.preprocessing import (\n",
        "#     exponential_moving_standardize,\n",
        "#     preprocess,\n",
        "#     Preprocessor,\n",
        "# )\n",
        "\n",
        "# low_cut_hz = 4.0  # low cut frequency for filtering\n",
        "# high_cut_hz = 38.0  # high cut frequency for filtering\n",
        "# # Parameters for exponential moving standardization\n",
        "# factor_new = 1e-3\n",
        "# init_block_size = 1000\n",
        "\n",
        "# transforms = [\n",
        "#     Preprocessor(\"pick_types\", eeg=True, meg=False, stim=False),  # Keep EEG sensors\n",
        "#     Preprocessor(\n",
        "#         lambda data, factor: np.multiply(data, factor),  # Convert from V to uV\n",
        "#         factor=1e6,\n",
        "#     ),\n",
        "#     Preprocessor(\"filter\", l_freq=low_cut_hz, h_freq=high_cut_hz),  # Bandpass filter\n",
        "#     Preprocessor(\n",
        "#         exponential_moving_standardize,  # Exponential moving standardization\n",
        "#         factor_new=factor_new,\n",
        "#         init_block_size=init_block_size,\n",
        "#     ),\n",
        "# ]\n",
        "\n",
        "# # Transform the data\n",
        "# preprocess(dataset, transforms, n_jobs=-1)\n"
      ]
    },
    {
      "cell_type": "code",
      "execution_count": 3,
      "metadata": {
        "id": "ZQTd3g-i2Zhf"
      },
      "outputs": [],
      "source": [
        "# from braindecode.preprocessing import create_windows_from_events\n",
        "\n",
        "# trial_start_offset_seconds = -0.5\n",
        "# # Extract sampling frequency, check that they are same in all datasets\n",
        "# sfreq = dataset.datasets[0].raw.info[\"sfreq\"]\n",
        "# assert all([ds.raw.info[\"sfreq\"] == sfreq for ds in dataset.datasets])\n",
        "# # Calculate the trial start offset in samples.\n",
        "# trial_start_offset_samples = int(trial_start_offset_seconds * sfreq)\n",
        "\n",
        "# # Create windows using braindecode function for this. It needs parameters to define how\n",
        "# # trials should be used.\n",
        "# windows_dataset = create_windows_from_events(\n",
        "#     dataset,\n",
        "#     trial_start_offset_samples=trial_start_offset_samples,\n",
        "#     trial_stop_offset_samples=0,\n",
        "#     preload=True,\n",
        "# )"
      ]
    },
    {
      "cell_type": "code",
      "source": [
        "from google.colab import drive\n",
        "drive.mount('/content/drive')\n",
        "path = \"/content/drive/MyDrive/\""
      ],
      "metadata": {
        "colab": {
          "base_uri": "https://localhost:8080/"
        },
        "id": "f_sHCnT22v9k",
        "outputId": "7b237a78-a834-4331-d1c5-97f88f93a82e"
      },
      "execution_count": 4,
      "outputs": [
        {
          "output_type": "stream",
          "name": "stdout",
          "text": [
            "Drive already mounted at /content/drive; to attempt to forcibly remount, call drive.mount(\"/content/drive\", force_remount=True).\n"
          ]
        }
      ]
    },
    {
      "cell_type": "code",
      "source": [
        "import pickle\n",
        "with open(path+'EEG_data/test_set.pkl', 'rb') as f:\n",
        "    test_set = pickle.load(f)\n",
        "\n",
        "import pickle\n",
        "with open(path+'EEG_data/train_set.pkl', 'rb') as f:\n",
        "    train_set = pickle.load(f)"
      ],
      "metadata": {
        "id": "1osynJth26to"
      },
      "execution_count": 5,
      "outputs": []
    },
    {
      "cell_type": "code",
      "execution_count": 6,
      "metadata": {
        "colab": {
          "base_uri": "https://localhost:8080/"
        },
        "id": "Xba9vjnO2Zhg",
        "outputId": "16a63aef-febc-47c9-fc6e-a53bed79ebaa"
      },
      "outputs": [
        {
          "output_type": "stream",
          "name": "stdout",
          "text": [
            "n_classes:  4\n",
            "n_channels: 22\n",
            "input_window_samples size: 1125\n"
          ]
        },
        {
          "output_type": "stream",
          "name": "stderr",
          "text": [
            "/usr/local/lib/python3.11/dist-packages/braindecode/util.py:51: UserWarning: torch.backends.cudnn.benchmark was set to True which may results in lack of reproducibility. In some cases to ensure reproducibility you may need to set torch.backends.cudnn.benchmark to False.\n",
            "  warn(\n"
          ]
        }
      ],
      "source": [
        "import torch\n",
        "#from shallow_fbcsp import ShallowFBCSPNet\n",
        "from braindecode.util import set_random_seeds\n",
        "\n",
        "\n",
        "cuda = torch.cuda.is_available()  # check if GPU is available, if True chooses to use it\n",
        "device = \"cuda\" if cuda else \"cpu\"\n",
        "if cuda:\n",
        "    torch.backends.cudnn.benchmark = True\n",
        "seed = 299221222\n",
        "set_random_seeds(seed=seed, cuda=cuda)\n",
        "\n",
        "n_classes = 4\n",
        "classes = list(range(n_classes))\n",
        "# Extract number of chans and time steps from dataset\n",
        "n_channels = 22\n",
        "input_window_samples = 1125\n",
        "\n",
        "print(\"n_classes: \", n_classes)\n",
        "print(\"n_channels:\", n_channels)\n",
        "print(\"input_window_samples size:\", input_window_samples)"
      ]
    },
    {
      "cell_type": "code",
      "execution_count": 7,
      "metadata": {
        "colab": {
          "base_uri": "https://localhost:8080/"
        },
        "id": "b3wPzn3X2Zhh",
        "outputId": "d87614c6-4cf2-4af2-9851-4ee052ff8985"
      },
      "outputs": [
        {
          "output_type": "stream",
          "name": "stdout",
          "text": [
            "ShallowAttentionNet(\n",
            "  (temporal): Conv2d(1, 10, kernel_size=(1, 25), stride=(1, 1))\n",
            "  (spatial_attention): SpatialAttention(\n",
            "    (query): Conv1d(22, 22, kernel_size=(1,), stride=(1,))\n",
            "    (key): Conv1d(22, 22, kernel_size=(1,), stride=(1,))\n",
            "    (value): Conv1d(22, 22, kernel_size=(1,), stride=(1,))\n",
            "  )\n",
            "  (batch_norm): BatchNorm2d(10, eps=1e-05, momentum=0.1, affine=True, track_running_stats=True)\n",
            "  (pool): AvgPool2d(kernel_size=(1, 100), stride=(1, 100), padding=0)\n",
            "  (dropout): Dropout(p=0.5, inplace=False)\n",
            "  (fc): LazyLinear(in_features=0, out_features=4, bias=True)\n",
            ")\n"
          ]
        }
      ],
      "source": [
        "#from models_fbscp import CollapsedShallowNet\n",
        "# The ShallowFBCSPNet is a `nn.Sequential` model\n",
        "import importlib\n",
        "import Attention_models\n",
        "importlib.reload(Attention_models)\n",
        "from Attention_models import ShallowAttentionNet\n",
        "model = ShallowAttentionNet(\n",
        "    n_chans=22,\n",
        "    n_outputs=n_classes,\n",
        "    n_times=input_window_samples,\n",
        "\n",
        ")\n",
        "\n",
        "# Display torchinfo table describing the model\n",
        "print(model)\n",
        "\n",
        "# Send model to GPU\n",
        "if cuda:\n",
        "    model.cuda()\n",
        "\n"
      ]
    },
    {
      "cell_type": "code",
      "execution_count": 7,
      "metadata": {
        "id": "mK-C-UW62Zhi"
      },
      "outputs": [],
      "source": [
        "\n"
      ]
    },
    {
      "cell_type": "code",
      "execution_count": 8,
      "metadata": {
        "id": "n7Eii9TH2Zhi"
      },
      "outputs": [],
      "source": [
        "# splitted = windows_dataset.split(\"session\")\n",
        "# train_set = splitted['0train']  # Session train\n",
        "# test_set = splitted['1test']  # Session evaluation\n",
        "\n",
        "from torch.nn import Module\n",
        "from torch.optim.lr_scheduler import LRScheduler\n",
        "from torch.utils.data import DataLoader\n",
        "\n",
        "#lr = 1e-4\n",
        "#weight_decay = 1e-4\n",
        "#batch_size = 64\n",
        "#n_epochs = 200\n"
      ]
    },
    {
      "cell_type": "code",
      "execution_count": 9,
      "metadata": {
        "id": "inbw4Tud2Zhj"
      },
      "outputs": [],
      "source": [
        "#train_loader = DataLoader(train_set, batch_size=batch_size, shuffle=True)\n",
        "#progress_bar = tqdm(enumerate(train_loader), total=len(train_loader))\n",
        "\n",
        "\n",
        "#from collections import defaultdict\n",
        "\n",
        "#counting_dict = defaultdict(int)  # Initialize class counter\n",
        "\n",
        "#for batch_idx, (X, y, _) in progress_bar:\n",
        "#   X, y = X.to(device), y.to(device)  # Move to device if needed\n",
        "\n",
        "    # Count occurrences of each class in y\n",
        "#    for value in y:\n",
        "#        counting_dict[int(value.item())] += 1  # Convert tensor to int and update count\n",
        "\n",
        "# Print class frequencies\n",
        "#print(\"Class counts:\", dict(counting_dict))\n"
      ]
    },
    {
      "cell_type": "code",
      "execution_count": 10,
      "metadata": {
        "id": "PlgtbF-r2Zhj"
      },
      "outputs": [],
      "source": [
        "\n",
        "from tqdm import tqdm\n",
        "# Define a method for training one epoch\n",
        "\n",
        "\n",
        "def train_one_epoch(\n",
        "        dataloader: DataLoader, model: Module, loss_fn, optimizer,\n",
        "        scheduler: LRScheduler, epoch: int, device, print_batch_stats=True\n",
        "):\n",
        "    model.train()  # Set the model to training mode\n",
        "    train_loss, correct = 0, 0\n",
        "\n",
        "    progress_bar = tqdm(enumerate(dataloader), total=len(dataloader),\n",
        "                        disable=not print_batch_stats)\n",
        "\n",
        "    for batch_idx, (X, y, _) in progress_bar:\n",
        "        X, y = X.to(device), y.to(device)\n",
        "        #print(X.shape)\n",
        "        optimizer.zero_grad()\n",
        "        pred = model(X)\n",
        "        loss = loss_fn(pred, y)\n",
        "        loss.backward()\n",
        "        optimizer.step()  # update the model weights\n",
        "        optimizer.zero_grad()\n",
        "\n",
        "        train_loss += loss.item()\n",
        "        correct += (pred.argmax(1) == y).sum().item()\n",
        "\n",
        "        #if print_batch_stats:\n",
        "        #    progress_bar.set_description(\n",
        "        #        f\"Epoch {epoch}/{n_epochs}, \"\n",
        "        #        f\"Batch {batch_idx + 1}/{len(dataloader)}, \"\n",
        "        #        f\"Loss: {loss.item():.6f}\"\n",
        "        #    )\n",
        "\n",
        "    # Update the learning rate\n",
        "    scheduler.step()\n",
        "\n",
        "    correct /= len(dataloader.dataset)\n",
        "    return train_loss / len(dataloader), correct\n"
      ]
    },
    {
      "cell_type": "code",
      "execution_count": 11,
      "metadata": {
        "id": "M1S-1vTK2Zhk"
      },
      "outputs": [],
      "source": [
        "from collections import defaultdict\n",
        "from tqdm import tqdm\n",
        "import torch\n",
        "from torch.utils.data import DataLoader\n",
        "from sklearn.metrics import confusion_matrix\n",
        "import numpy as np\n",
        "\n",
        "@torch.no_grad()\n",
        "def test_model(dataloader: DataLoader, model: torch.nn.Module, loss_fn, print_batch_stats=True):\n",
        "    device = next(model.parameters()).device  # Get model device\n",
        "    size = len(dataloader.dataset)\n",
        "    n_batches = len(dataloader)\n",
        "    model.eval()  # Switch to evaluation mode\n",
        "    test_loss, correct = 0, 0\n",
        "\n",
        "    # Initialize dictionaries for per-class tracking\n",
        "    class_correct = defaultdict(int)\n",
        "    class_total = defaultdict(int)\n",
        "\n",
        "    # Lists to store true and predicted labels for confusion matrix\n",
        "    all_preds = []\n",
        "    all_targets = []\n",
        "\n",
        "    if print_batch_stats:\n",
        "        progress_bar = tqdm(enumerate(dataloader), total=len(dataloader))\n",
        "    else:\n",
        "        progress_bar = enumerate(dataloader)\n",
        "\n",
        "    for batch_idx, (X, y, _) in progress_bar:\n",
        "        X, y = X.to(device), y.to(device)\n",
        "        pred = model(X)\n",
        "        batch_loss = loss_fn(pred, y).item()\n",
        "\n",
        "        test_loss += batch_loss\n",
        "        correct += (pred.argmax(1) == y).sum().item()\n",
        "\n",
        "        # Store predictions and true labels for confusion matrix\n",
        "        all_preds.append(pred.argmax(1).cpu())\n",
        "        all_targets.append(y.cpu())\n",
        "\n",
        "        # Compute per-class accuracy\n",
        "        preds_labels = pred.argmax(1)\n",
        "        for label, pred_label in zip(y, preds_labels):\n",
        "            class_total[label.item()] += 1\n",
        "            class_correct[label.item()] += (label == pred_label).item()\n",
        "\n",
        "        if print_batch_stats:\n",
        "            progress_bar.set_description(\n",
        "                f\"Batch {batch_idx + 1}/{len(dataloader)}, Loss: {batch_loss:.6f}\"\n",
        "            )\n",
        "\n",
        "    # Convert lists to tensors\n",
        "    all_preds = torch.cat(all_preds)\n",
        "    all_targets = torch.cat(all_targets)\n",
        "\n",
        "    # Compute per-class accuracy\n",
        "    class_accuracies = {\n",
        "        cls: (class_correct[cls] / class_total[cls]) * 100 if class_total[cls] > 0 else 0\n",
        "        for cls in class_total\n",
        "    }\n",
        "\n",
        "    # Compute overall accuracy\n",
        "    test_loss /= n_batches\n",
        "    overall_accuracy = (correct / size) * 100\n",
        "\n",
        "    # Print per-class accuracy\n",
        "    print(\"\\nClass-wise Accuracy:\")\n",
        "    for cls, acc in class_accuracies.items():\n",
        "        print(f\"  Class {cls}: {acc:.2f}%\")\n",
        "\n",
        "    print(f\"Test Accuracy: {overall_accuracy:.1f}%, Test Loss: {test_loss:.6f}\\n\")\n",
        "\n",
        "    return test_loss, overall_accuracy, class_accuracies, all_preds, all_targets\n"
      ]
    },
    {
      "cell_type": "code",
      "execution_count": 12,
      "metadata": {
        "id": "sv0OjW5u2Zhk"
      },
      "outputs": [],
      "source": [
        "from braindecode.models import ShallowFBCSPNet"
      ]
    },
    {
      "cell_type": "code",
      "execution_count": 13,
      "metadata": {
        "colab": {
          "base_uri": "https://localhost:8080/"
        },
        "id": "QU1ODkiG2Zhk",
        "outputId": "14f4ffca-f7ad-4548-a120-0f241eba1e3b"
      },
      "outputs": [
        {
          "output_type": "stream",
          "name": "stdout",
          "text": [
            "ShallowAttentionNet(\n",
            "  (temporal): Conv2d(1, 10, kernel_size=(1, 25), stride=(1, 1))\n",
            "  (spatial_attention): SpatialAttention(\n",
            "    (query): Conv1d(22, 22, kernel_size=(1,), stride=(1,))\n",
            "    (key): Conv1d(22, 22, kernel_size=(1,), stride=(1,))\n",
            "    (value): Conv1d(22, 22, kernel_size=(1,), stride=(1,))\n",
            "  )\n",
            "  (batch_norm): BatchNorm2d(10, eps=1e-05, momentum=0.1, affine=True, track_running_stats=True)\n",
            "  (pool): AvgPool2d(kernel_size=(1, 100), stride=(1, 100), padding=0)\n",
            "  (dropout): Dropout(p=0.5, inplace=False)\n",
            "  (fc): LazyLinear(in_features=0, out_features=4, bias=True)\n",
            ")\n"
          ]
        }
      ],
      "source": [
        "print(model)"
      ]
    },
    {
      "cell_type": "code",
      "execution_count": 14,
      "metadata": {
        "colab": {
          "base_uri": "https://localhost:8080/"
        },
        "id": "Vn58-cmZ2Zhl",
        "outputId": "3547f0cc-b9e3-44bc-d5d7-c360432cc228"
      },
      "outputs": [
        {
          "output_type": "stream",
          "name": "stderr",
          "text": [
            "\u001b[34m\u001b[1mwandb\u001b[0m: Using wandb-core as the SDK backend.  Please refer to https://wandb.me/wandb-core for more information.\n",
            "\u001b[34m\u001b[1mwandb\u001b[0m: Currently logged in as: \u001b[33mahmm98\u001b[0m (\u001b[33mphilinthesky\u001b[0m) to \u001b[32mhttps://api.wandb.ai\u001b[0m. Use \u001b[1m`wandb login --relogin`\u001b[0m to force relogin\n"
          ]
        },
        {
          "output_type": "execute_result",
          "data": {
            "text/plain": [
              "True"
            ]
          },
          "metadata": {},
          "execution_count": 14
        }
      ],
      "source": [
        "import wandb\n",
        "wandb.login()"
      ]
    },
    {
      "cell_type": "code",
      "source": [
        "\n",
        "\n",
        "wandb.finish()"
      ],
      "metadata": {
        "id": "kNRaiy4MXK9t"
      },
      "execution_count": 15,
      "outputs": []
    },
    {
      "cell_type": "code",
      "execution_count": 16,
      "metadata": {
        "colab": {
          "base_uri": "https://localhost:8080/",
          "height": 1000
        },
        "id": "uDUBctmi2Zhl",
        "outputId": "a05131af-b8e9-49be-8b2b-443defbd0fea"
      },
      "outputs": [
        {
          "output_type": "display_data",
          "data": {
            "text/plain": [
              "<IPython.core.display.HTML object>"
            ],
            "text/html": [
              "Tracking run with wandb version 0.19.7"
            ]
          },
          "metadata": {}
        },
        {
          "output_type": "display_data",
          "data": {
            "text/plain": [
              "<IPython.core.display.HTML object>"
            ],
            "text/html": [
              "Run data is saved locally in <code>/content/wandb/run-20250227_141758-vc3zk1t1</code>"
            ]
          },
          "metadata": {}
        },
        {
          "output_type": "display_data",
          "data": {
            "text/plain": [
              "<IPython.core.display.HTML object>"
            ],
            "text/html": [
              "Syncing run <strong><a href='https://wandb.ai/philinthesky/Master%20Thesis/runs/vc3zk1t1' target=\"_blank\">Spatial Attention Accuracy</a></strong> to <a href='https://wandb.ai/philinthesky/Master%20Thesis' target=\"_blank\">Weights & Biases</a> (<a href='https://wandb.me/developer-guide' target=\"_blank\">docs</a>)<br>"
            ]
          },
          "metadata": {}
        },
        {
          "output_type": "display_data",
          "data": {
            "text/plain": [
              "<IPython.core.display.HTML object>"
            ],
            "text/html": [
              " View project at <a href='https://wandb.ai/philinthesky/Master%20Thesis' target=\"_blank\">https://wandb.ai/philinthesky/Master%20Thesis</a>"
            ]
          },
          "metadata": {}
        },
        {
          "output_type": "display_data",
          "data": {
            "text/plain": [
              "<IPython.core.display.HTML object>"
            ],
            "text/html": [
              " View run at <a href='https://wandb.ai/philinthesky/Master%20Thesis/runs/vc3zk1t1' target=\"_blank\">https://wandb.ai/philinthesky/Master%20Thesis/runs/vc3zk1t1</a>"
            ]
          },
          "metadata": {}
        },
        {
          "output_type": "stream",
          "name": "stdout",
          "text": [
            "Epoch 1/100: "
          ]
        },
        {
          "output_type": "stream",
          "name": "stderr",
          "text": [
            "100%|██████████| 81/81 [00:15<00:00,  5.14it/s]\n",
            "Batch 81/81, Loss: 1.303283: 100%|██████████| 81/81 [00:07<00:00, 11.19it/s]\n"
          ]
        },
        {
          "output_type": "stream",
          "name": "stdout",
          "text": [
            "\n",
            "Class-wise Accuracy:\n",
            "  Class 3: 45.83%\n",
            "  Class 0: 21.60%\n",
            "  Class 2: 28.24%\n",
            "  Class 1: 45.22%\n",
            "Test Accuracy: 35.2%, Test Loss: 1.365767\n",
            "\n",
            "\n",
            "Class-wise Accuracy:\n",
            "  Class 3: 45.83%\n",
            "  Class 0: 21.60%\n",
            "  Class 2: 28.24%\n",
            "  Class 1: 45.22%\n",
            "Train Accuracy: 27.35%, Average Train Loss: 1.720999, Test Accuracy: 35.22%, Average Test Loss: 1.365767\n",
            "\n",
            "Epoch 2/100: "
          ]
        },
        {
          "output_type": "stream",
          "name": "stderr",
          "text": [
            "100%|██████████| 81/81 [00:15<00:00,  5.25it/s]\n",
            "Batch 81/81, Loss: 1.256297: 100%|██████████| 81/81 [00:07<00:00, 11.11it/s]\n"
          ]
        },
        {
          "output_type": "stream",
          "name": "stdout",
          "text": [
            "\n",
            "Class-wise Accuracy:\n",
            "  Class 3: 79.63%\n",
            "  Class 0: 8.64%\n",
            "  Class 2: 20.68%\n",
            "  Class 1: 19.29%\n",
            "Test Accuracy: 32.1%, Test Loss: 1.371267\n",
            "\n",
            "\n",
            "Class-wise Accuracy:\n",
            "  Class 3: 79.63%\n",
            "  Class 0: 8.64%\n",
            "  Class 2: 20.68%\n",
            "  Class 1: 19.29%\n",
            "Train Accuracy: 29.01%, Average Train Loss: 1.446279, Test Accuracy: 32.06%, Average Test Loss: 1.371267\n",
            "\n",
            "Epoch 3/100: "
          ]
        },
        {
          "output_type": "stream",
          "name": "stderr",
          "text": [
            "100%|██████████| 81/81 [00:15<00:00,  5.14it/s]\n",
            "Batch 81/81, Loss: 1.263550: 100%|██████████| 81/81 [00:07<00:00, 11.15it/s]\n"
          ]
        },
        {
          "output_type": "stream",
          "name": "stdout",
          "text": [
            "\n",
            "Class-wise Accuracy:\n",
            "  Class 3: 50.46%\n",
            "  Class 0: 12.81%\n",
            "  Class 2: 65.12%\n",
            "  Class 1: 27.16%\n",
            "Test Accuracy: 38.9%, Test Loss: 1.312800\n",
            "\n",
            "\n",
            "Class-wise Accuracy:\n",
            "  Class 3: 50.46%\n",
            "  Class 0: 12.81%\n",
            "  Class 2: 65.12%\n",
            "  Class 1: 27.16%\n",
            "Train Accuracy: 32.02%, Average Train Loss: 1.374485, Test Accuracy: 38.89%, Average Test Loss: 1.312800\n",
            "\n",
            "Epoch 4/100: "
          ]
        },
        {
          "output_type": "stream",
          "name": "stderr",
          "text": [
            "100%|██████████| 81/81 [00:15<00:00,  5.29it/s]\n",
            "Batch 81/81, Loss: 1.263469: 100%|██████████| 81/81 [00:07<00:00, 11.38it/s]\n"
          ]
        },
        {
          "output_type": "stream",
          "name": "stdout",
          "text": [
            "\n",
            "Class-wise Accuracy:\n",
            "  Class 3: 29.78%\n",
            "  Class 0: 51.08%\n",
            "  Class 2: 24.69%\n",
            "  Class 1: 54.01%\n",
            "Test Accuracy: 39.9%, Test Loss: 1.307641\n",
            "\n",
            "\n",
            "Class-wise Accuracy:\n",
            "  Class 3: 29.78%\n",
            "  Class 0: 51.08%\n",
            "  Class 2: 24.69%\n",
            "  Class 1: 54.01%\n",
            "Train Accuracy: 34.41%, Average Train Loss: 1.348761, Test Accuracy: 39.89%, Average Test Loss: 1.307641\n",
            "\n",
            "Epoch 5/100: "
          ]
        },
        {
          "output_type": "stream",
          "name": "stderr",
          "text": [
            "100%|██████████| 81/81 [00:15<00:00,  5.34it/s]\n",
            "Batch 81/81, Loss: 1.213833: 100%|██████████| 81/81 [00:07<00:00, 11.43it/s]\n"
          ]
        },
        {
          "output_type": "stream",
          "name": "stdout",
          "text": [
            "\n",
            "Class-wise Accuracy:\n",
            "  Class 3: 53.70%\n",
            "  Class 0: 8.80%\n",
            "  Class 2: 56.17%\n",
            "  Class 1: 38.43%\n",
            "Test Accuracy: 39.3%, Test Loss: 1.287191\n",
            "\n",
            "\n",
            "Class-wise Accuracy:\n",
            "  Class 3: 53.70%\n",
            "  Class 0: 8.80%\n",
            "  Class 2: 56.17%\n",
            "  Class 1: 38.43%\n",
            "Train Accuracy: 36.42%, Average Train Loss: 1.333948, Test Accuracy: 39.27%, Average Test Loss: 1.287191\n",
            "\n",
            "Epoch 6/100: "
          ]
        },
        {
          "output_type": "stream",
          "name": "stderr",
          "text": [
            "100%|██████████| 81/81 [00:15<00:00,  5.28it/s]\n",
            "Batch 81/81, Loss: 1.214050: 100%|██████████| 81/81 [00:07<00:00, 11.50it/s]\n"
          ]
        },
        {
          "output_type": "stream",
          "name": "stdout",
          "text": [
            "\n",
            "Class-wise Accuracy:\n",
            "  Class 3: 50.15%\n",
            "  Class 0: 25.31%\n",
            "  Class 2: 52.78%\n",
            "  Class 1: 33.49%\n",
            "Test Accuracy: 40.4%, Test Loss: 1.295830\n",
            "\n",
            "\n",
            "Class-wise Accuracy:\n",
            "  Class 3: 50.15%\n",
            "  Class 0: 25.31%\n",
            "  Class 2: 52.78%\n",
            "  Class 1: 33.49%\n",
            "Train Accuracy: 35.15%, Average Train Loss: 1.328770, Test Accuracy: 40.43%, Average Test Loss: 1.295830\n",
            "\n",
            "Epoch 7/100: "
          ]
        },
        {
          "output_type": "stream",
          "name": "stderr",
          "text": [
            "100%|██████████| 81/81 [00:15<00:00,  5.27it/s]\n",
            "Batch 81/81, Loss: 1.199734: 100%|██████████| 81/81 [00:06<00:00, 11.61it/s]\n"
          ]
        },
        {
          "output_type": "stream",
          "name": "stdout",
          "text": [
            "\n",
            "Class-wise Accuracy:\n",
            "  Class 3: 32.56%\n",
            "  Class 0: 17.75%\n",
            "  Class 2: 39.20%\n",
            "  Class 1: 70.22%\n",
            "Test Accuracy: 39.9%, Test Loss: 1.283579\n",
            "\n",
            "\n",
            "Class-wise Accuracy:\n",
            "  Class 3: 32.56%\n",
            "  Class 0: 17.75%\n",
            "  Class 2: 39.20%\n",
            "  Class 1: 70.22%\n",
            "Train Accuracy: 35.22%, Average Train Loss: 1.325857, Test Accuracy: 39.93%, Average Test Loss: 1.283579\n",
            "\n",
            "Epoch 8/100: "
          ]
        },
        {
          "output_type": "stream",
          "name": "stderr",
          "text": [
            "100%|██████████| 81/81 [00:15<00:00,  5.32it/s]\n",
            "Batch 81/81, Loss: 1.248863: 100%|██████████| 81/81 [00:07<00:00, 11.52it/s]\n"
          ]
        },
        {
          "output_type": "stream",
          "name": "stdout",
          "text": [
            "\n",
            "Class-wise Accuracy:\n",
            "  Class 3: 53.70%\n",
            "  Class 0: 18.36%\n",
            "  Class 2: 80.40%\n",
            "  Class 1: 18.36%\n",
            "Test Accuracy: 42.7%, Test Loss: 1.236463\n",
            "\n",
            "\n",
            "Class-wise Accuracy:\n",
            "  Class 3: 53.70%\n",
            "  Class 0: 18.36%\n",
            "  Class 2: 80.40%\n",
            "  Class 1: 18.36%\n",
            "Train Accuracy: 38.73%, Average Train Loss: 1.288524, Test Accuracy: 42.71%, Average Test Loss: 1.236463\n",
            "\n",
            "Epoch 9/100: "
          ]
        },
        {
          "output_type": "stream",
          "name": "stderr",
          "text": [
            "100%|██████████| 81/81 [00:15<00:00,  5.35it/s]\n",
            "Batch 81/81, Loss: 1.381621: 100%|██████████| 81/81 [00:06<00:00, 11.73it/s]\n"
          ]
        },
        {
          "output_type": "stream",
          "name": "stdout",
          "text": [
            "\n",
            "Class-wise Accuracy:\n",
            "  Class 3: 62.65%\n",
            "  Class 0: 48.46%\n",
            "  Class 2: 37.19%\n",
            "  Class 1: 18.36%\n",
            "Test Accuracy: 41.7%, Test Loss: 1.233883\n",
            "\n",
            "\n",
            "Class-wise Accuracy:\n",
            "  Class 3: 62.65%\n",
            "  Class 0: 48.46%\n",
            "  Class 2: 37.19%\n",
            "  Class 1: 18.36%\n",
            "Train Accuracy: 40.20%, Average Train Loss: 1.272964, Test Accuracy: 41.67%, Average Test Loss: 1.233883\n",
            "\n",
            "Epoch 10/100: "
          ]
        },
        {
          "output_type": "stream",
          "name": "stderr",
          "text": [
            "100%|██████████| 81/81 [00:15<00:00,  5.34it/s]\n",
            "Batch 81/81, Loss: 1.270752: 100%|██████████| 81/81 [00:06<00:00, 11.65it/s]\n"
          ]
        },
        {
          "output_type": "stream",
          "name": "stdout",
          "text": [
            "\n",
            "Class-wise Accuracy:\n",
            "  Class 3: 77.16%\n",
            "  Class 0: 4.94%\n",
            "  Class 2: 12.04%\n",
            "  Class 1: 53.24%\n",
            "Test Accuracy: 36.8%, Test Loss: 1.283883\n",
            "\n",
            "\n",
            "Class-wise Accuracy:\n",
            "  Class 3: 77.16%\n",
            "  Class 0: 4.94%\n",
            "  Class 2: 12.04%\n",
            "  Class 1: 53.24%\n",
            "Train Accuracy: 40.05%, Average Train Loss: 1.271018, Test Accuracy: 36.84%, Average Test Loss: 1.283883\n",
            "\n",
            "Epoch 11/100: "
          ]
        },
        {
          "output_type": "stream",
          "name": "stderr",
          "text": [
            "100%|██████████| 81/81 [00:15<00:00,  5.32it/s]\n",
            "Batch 81/81, Loss: 1.246639: 100%|██████████| 81/81 [00:07<00:00, 11.42it/s]\n"
          ]
        },
        {
          "output_type": "stream",
          "name": "stdout",
          "text": [
            "\n",
            "Class-wise Accuracy:\n",
            "  Class 3: 43.52%\n",
            "  Class 0: 25.15%\n",
            "  Class 2: 18.67%\n",
            "  Class 1: 80.56%\n",
            "Test Accuracy: 42.0%, Test Loss: 1.217080\n",
            "\n",
            "\n",
            "Class-wise Accuracy:\n",
            "  Class 3: 43.52%\n",
            "  Class 0: 25.15%\n",
            "  Class 2: 18.67%\n",
            "  Class 1: 80.56%\n",
            "Train Accuracy: 43.56%, Average Train Loss: 1.239117, Test Accuracy: 41.98%, Average Test Loss: 1.217080\n",
            "\n",
            "Epoch 12/100: "
          ]
        },
        {
          "output_type": "stream",
          "name": "stderr",
          "text": [
            "100%|██████████| 81/81 [00:15<00:00,  5.30it/s]\n",
            "Batch 81/81, Loss: 1.230766: 100%|██████████| 81/81 [00:07<00:00, 11.54it/s]\n"
          ]
        },
        {
          "output_type": "stream",
          "name": "stdout",
          "text": [
            "\n",
            "Class-wise Accuracy:\n",
            "  Class 3: 50.93%\n",
            "  Class 0: 49.85%\n",
            "  Class 2: 60.49%\n",
            "  Class 1: 36.27%\n",
            "Test Accuracy: 49.4%, Test Loss: 1.160229\n",
            "\n",
            "\n",
            "Class-wise Accuracy:\n",
            "  Class 3: 50.93%\n",
            "  Class 0: 49.85%\n",
            "  Class 2: 60.49%\n",
            "  Class 1: 36.27%\n",
            "Train Accuracy: 43.67%, Average Train Loss: 1.225932, Test Accuracy: 49.38%, Average Test Loss: 1.160229\n",
            "\n",
            "Epoch 13/100: "
          ]
        },
        {
          "output_type": "stream",
          "name": "stderr",
          "text": [
            "100%|██████████| 81/81 [00:15<00:00,  5.25it/s]\n",
            "Batch 81/81, Loss: 1.293755: 100%|██████████| 81/81 [00:07<00:00, 11.05it/s]\n"
          ]
        },
        {
          "output_type": "stream",
          "name": "stdout",
          "text": [
            "\n",
            "Class-wise Accuracy:\n",
            "  Class 3: 57.87%\n",
            "  Class 0: 49.23%\n",
            "  Class 2: 21.45%\n",
            "  Class 1: 54.32%\n",
            "Test Accuracy: 45.7%, Test Loss: 1.199494\n",
            "\n",
            "\n",
            "Class-wise Accuracy:\n",
            "  Class 3: 57.87%\n",
            "  Class 0: 49.23%\n",
            "  Class 2: 21.45%\n",
            "  Class 1: 54.32%\n",
            "Train Accuracy: 44.14%, Average Train Loss: 1.210902, Test Accuracy: 45.72%, Average Test Loss: 1.199494\n",
            "\n",
            "Epoch 14/100: "
          ]
        },
        {
          "output_type": "stream",
          "name": "stderr",
          "text": [
            "100%|██████████| 81/81 [00:15<00:00,  5.24it/s]\n",
            "Batch 81/81, Loss: 1.189020: 100%|██████████| 81/81 [00:07<00:00, 11.18it/s]\n"
          ]
        },
        {
          "output_type": "stream",
          "name": "stdout",
          "text": [
            "\n",
            "Class-wise Accuracy:\n",
            "  Class 3: 44.60%\n",
            "  Class 0: 31.33%\n",
            "  Class 2: 40.59%\n",
            "  Class 1: 69.91%\n",
            "Test Accuracy: 46.6%, Test Loss: 1.176372\n",
            "\n",
            "\n",
            "Class-wise Accuracy:\n",
            "  Class 3: 44.60%\n",
            "  Class 0: 31.33%\n",
            "  Class 2: 40.59%\n",
            "  Class 1: 69.91%\n",
            "Train Accuracy: 45.56%, Average Train Loss: 1.203406, Test Accuracy: 46.60%, Average Test Loss: 1.176372\n",
            "\n",
            "Epoch 15/100: "
          ]
        },
        {
          "output_type": "stream",
          "name": "stderr",
          "text": [
            "100%|██████████| 81/81 [00:15<00:00,  5.22it/s]\n",
            "Batch 81/81, Loss: 1.315974: 100%|██████████| 81/81 [00:07<00:00, 11.13it/s]\n"
          ]
        },
        {
          "output_type": "stream",
          "name": "stdout",
          "text": [
            "\n",
            "Class-wise Accuracy:\n",
            "  Class 3: 51.70%\n",
            "  Class 0: 52.93%\n",
            "  Class 2: 19.91%\n",
            "  Class 1: 59.26%\n",
            "Test Accuracy: 45.9%, Test Loss: 1.202585\n",
            "\n",
            "\n",
            "Class-wise Accuracy:\n",
            "  Class 3: 51.70%\n",
            "  Class 0: 52.93%\n",
            "  Class 2: 19.91%\n",
            "  Class 1: 59.26%\n",
            "Train Accuracy: 46.33%, Average Train Loss: 1.199555, Test Accuracy: 45.95%, Average Test Loss: 1.202585\n",
            "\n",
            "Epoch 16/100: "
          ]
        },
        {
          "output_type": "stream",
          "name": "stderr",
          "text": [
            "100%|██████████| 81/81 [00:15<00:00,  5.23it/s]\n",
            "Batch 81/81, Loss: 1.164261: 100%|██████████| 81/81 [00:07<00:00, 10.77it/s]\n"
          ]
        },
        {
          "output_type": "stream",
          "name": "stdout",
          "text": [
            "\n",
            "Class-wise Accuracy:\n",
            "  Class 3: 64.04%\n",
            "  Class 0: 18.06%\n",
            "  Class 2: 72.22%\n",
            "  Class 1: 41.05%\n",
            "Test Accuracy: 48.8%, Test Loss: 1.155073\n",
            "\n",
            "\n",
            "Class-wise Accuracy:\n",
            "  Class 3: 64.04%\n",
            "  Class 0: 18.06%\n",
            "  Class 2: 72.22%\n",
            "  Class 1: 41.05%\n",
            "Train Accuracy: 45.99%, Average Train Loss: 1.212532, Test Accuracy: 48.84%, Average Test Loss: 1.155073\n",
            "\n",
            "Epoch 17/100: "
          ]
        },
        {
          "output_type": "stream",
          "name": "stderr",
          "text": [
            "100%|██████████| 81/81 [00:15<00:00,  5.22it/s]\n",
            "Batch 81/81, Loss: 1.214764: 100%|██████████| 81/81 [00:07<00:00, 10.97it/s]\n"
          ]
        },
        {
          "output_type": "stream",
          "name": "stdout",
          "text": [
            "\n",
            "Class-wise Accuracy:\n",
            "  Class 3: 69.91%\n",
            "  Class 0: 19.91%\n",
            "  Class 2: 38.43%\n",
            "  Class 1: 59.10%\n",
            "Test Accuracy: 46.8%, Test Loss: 1.165933\n",
            "\n",
            "\n",
            "Class-wise Accuracy:\n",
            "  Class 3: 69.91%\n",
            "  Class 0: 19.91%\n",
            "  Class 2: 38.43%\n",
            "  Class 1: 59.10%\n",
            "Train Accuracy: 45.10%, Average Train Loss: 1.217651, Test Accuracy: 46.84%, Average Test Loss: 1.165933\n",
            "\n",
            "Epoch 18/100: "
          ]
        },
        {
          "output_type": "stream",
          "name": "stderr",
          "text": [
            "100%|██████████| 81/81 [00:15<00:00,  5.24it/s]\n",
            "Batch 81/81, Loss: 1.151390: 100%|██████████| 81/81 [00:07<00:00, 10.84it/s]\n"
          ]
        },
        {
          "output_type": "stream",
          "name": "stdout",
          "text": [
            "\n",
            "Class-wise Accuracy:\n",
            "  Class 3: 61.73%\n",
            "  Class 0: 23.61%\n",
            "  Class 2: 42.44%\n",
            "  Class 1: 65.59%\n",
            "Test Accuracy: 48.3%, Test Loss: 1.139829\n",
            "\n",
            "\n",
            "Class-wise Accuracy:\n",
            "  Class 3: 61.73%\n",
            "  Class 0: 23.61%\n",
            "  Class 2: 42.44%\n",
            "  Class 1: 65.59%\n",
            "Train Accuracy: 46.33%, Average Train Loss: 1.185109, Test Accuracy: 48.34%, Average Test Loss: 1.139829\n",
            "\n",
            "Epoch 19/100: "
          ]
        },
        {
          "output_type": "stream",
          "name": "stderr",
          "text": [
            "100%|██████████| 81/81 [00:15<00:00,  5.24it/s]\n",
            "Batch 81/81, Loss: 1.136580: 100%|██████████| 81/81 [00:07<00:00, 10.64it/s]\n"
          ]
        },
        {
          "output_type": "stream",
          "name": "stdout",
          "text": [
            "\n",
            "Class-wise Accuracy:\n",
            "  Class 3: 37.19%\n",
            "  Class 0: 28.55%\n",
            "  Class 2: 83.49%\n",
            "  Class 1: 44.14%\n",
            "Test Accuracy: 48.3%, Test Loss: 1.163126\n",
            "\n",
            "\n",
            "Class-wise Accuracy:\n",
            "  Class 3: 37.19%\n",
            "  Class 0: 28.55%\n",
            "  Class 2: 83.49%\n",
            "  Class 1: 44.14%\n",
            "Train Accuracy: 45.45%, Average Train Loss: 1.199816, Test Accuracy: 48.34%, Average Test Loss: 1.163126\n",
            "\n",
            "Epoch 20/100: "
          ]
        },
        {
          "output_type": "stream",
          "name": "stderr",
          "text": [
            "100%|██████████| 81/81 [00:15<00:00,  5.26it/s]\n",
            "Batch 81/81, Loss: 1.098173: 100%|██████████| 81/81 [00:07<00:00, 10.75it/s]\n"
          ]
        },
        {
          "output_type": "stream",
          "name": "stdout",
          "text": [
            "\n",
            "Class-wise Accuracy:\n",
            "  Class 3: 53.70%\n",
            "  Class 0: 18.52%\n",
            "  Class 2: 81.48%\n",
            "  Class 1: 46.45%\n",
            "Test Accuracy: 50.0%, Test Loss: 1.125213\n",
            "\n",
            "\n",
            "Class-wise Accuracy:\n",
            "  Class 3: 53.70%\n",
            "  Class 0: 18.52%\n",
            "  Class 2: 81.48%\n",
            "  Class 1: 46.45%\n",
            "Train Accuracy: 47.92%, Average Train Loss: 1.173943, Test Accuracy: 50.04%, Average Test Loss: 1.125213\n",
            "\n",
            "Epoch 21/100: "
          ]
        },
        {
          "output_type": "stream",
          "name": "stderr",
          "text": [
            "100%|██████████| 81/81 [00:15<00:00,  5.25it/s]\n",
            "Batch 81/81, Loss: 1.254172: 100%|██████████| 81/81 [00:07<00:00, 10.68it/s]\n"
          ]
        },
        {
          "output_type": "stream",
          "name": "stdout",
          "text": [
            "\n",
            "Class-wise Accuracy:\n",
            "  Class 3: 45.22%\n",
            "  Class 0: 44.75%\n",
            "  Class 2: 62.65%\n",
            "  Class 1: 54.63%\n",
            "Test Accuracy: 51.8%, Test Loss: 1.097964\n",
            "\n",
            "\n",
            "Class-wise Accuracy:\n",
            "  Class 3: 45.22%\n",
            "  Class 0: 44.75%\n",
            "  Class 2: 62.65%\n",
            "  Class 1: 54.63%\n",
            "Train Accuracy: 47.34%, Average Train Loss: 1.178530, Test Accuracy: 51.81%, Average Test Loss: 1.097964\n",
            "\n",
            "Epoch 22/100: "
          ]
        },
        {
          "output_type": "stream",
          "name": "stderr",
          "text": [
            "100%|██████████| 81/81 [00:15<00:00,  5.30it/s]\n",
            "Batch 81/81, Loss: 1.141736: 100%|██████████| 81/81 [00:07<00:00, 10.80it/s]\n"
          ]
        },
        {
          "output_type": "stream",
          "name": "stdout",
          "text": [
            "\n",
            "Class-wise Accuracy:\n",
            "  Class 3: 37.04%\n",
            "  Class 0: 64.97%\n",
            "  Class 2: 67.28%\n",
            "  Class 1: 37.81%\n",
            "Test Accuracy: 51.8%, Test Loss: 1.103643\n",
            "\n",
            "\n",
            "Class-wise Accuracy:\n",
            "  Class 3: 37.04%\n",
            "  Class 0: 64.97%\n",
            "  Class 2: 67.28%\n",
            "  Class 1: 37.81%\n",
            "Train Accuracy: 47.42%, Average Train Loss: 1.176084, Test Accuracy: 51.77%, Average Test Loss: 1.103643\n",
            "\n",
            "Epoch 23/100: "
          ]
        },
        {
          "output_type": "stream",
          "name": "stderr",
          "text": [
            "100%|██████████| 81/81 [00:15<00:00,  5.32it/s]\n",
            "Batch 81/81, Loss: 1.233898: 100%|██████████| 81/81 [00:07<00:00, 10.83it/s]\n"
          ]
        },
        {
          "output_type": "stream",
          "name": "stdout",
          "text": [
            "\n",
            "Class-wise Accuracy:\n",
            "  Class 3: 58.95%\n",
            "  Class 0: 31.64%\n",
            "  Class 2: 53.86%\n",
            "  Class 1: 62.35%\n",
            "Test Accuracy: 51.7%, Test Loss: 1.094429\n",
            "\n",
            "\n",
            "Class-wise Accuracy:\n",
            "  Class 3: 58.95%\n",
            "  Class 0: 31.64%\n",
            "  Class 2: 53.86%\n",
            "  Class 1: 62.35%\n",
            "Train Accuracy: 47.57%, Average Train Loss: 1.167373, Test Accuracy: 51.70%, Average Test Loss: 1.094429\n",
            "\n",
            "Epoch 24/100: "
          ]
        },
        {
          "output_type": "stream",
          "name": "stderr",
          "text": [
            "100%|██████████| 81/81 [00:15<00:00,  5.35it/s]\n",
            "Batch 81/81, Loss: 1.094293: 100%|██████████| 81/81 [00:07<00:00, 10.73it/s]\n"
          ]
        },
        {
          "output_type": "stream",
          "name": "stdout",
          "text": [
            "\n",
            "Class-wise Accuracy:\n",
            "  Class 3: 42.90%\n",
            "  Class 0: 34.10%\n",
            "  Class 2: 59.72%\n",
            "  Class 1: 58.95%\n",
            "Test Accuracy: 48.9%, Test Loss: 1.154727\n",
            "\n",
            "\n",
            "Class-wise Accuracy:\n",
            "  Class 3: 42.90%\n",
            "  Class 0: 34.10%\n",
            "  Class 2: 59.72%\n",
            "  Class 1: 58.95%\n",
            "Train Accuracy: 47.61%, Average Train Loss: 1.157924, Test Accuracy: 48.92%, Average Test Loss: 1.154727\n",
            "\n",
            "Epoch 25/100: "
          ]
        },
        {
          "output_type": "stream",
          "name": "stderr",
          "text": [
            "100%|██████████| 81/81 [00:15<00:00,  5.37it/s]\n",
            "Batch 81/81, Loss: 1.169414: 100%|██████████| 81/81 [00:07<00:00, 10.97it/s]\n"
          ]
        },
        {
          "output_type": "stream",
          "name": "stdout",
          "text": [
            "\n",
            "Class-wise Accuracy:\n",
            "  Class 3: 61.88%\n",
            "  Class 0: 59.26%\n",
            "  Class 2: 44.91%\n",
            "  Class 1: 36.11%\n",
            "Test Accuracy: 50.5%, Test Loss: 1.122788\n",
            "\n",
            "\n",
            "Class-wise Accuracy:\n",
            "  Class 3: 61.88%\n",
            "  Class 0: 59.26%\n",
            "  Class 2: 44.91%\n",
            "  Class 1: 36.11%\n",
            "Train Accuracy: 48.23%, Average Train Loss: 1.181543, Test Accuracy: 50.54%, Average Test Loss: 1.122788\n",
            "\n",
            "Epoch 26/100: "
          ]
        },
        {
          "output_type": "stream",
          "name": "stderr",
          "text": [
            "100%|██████████| 81/81 [00:15<00:00,  5.38it/s]\n",
            "Batch 81/81, Loss: 1.137744: 100%|██████████| 81/81 [00:07<00:00, 10.83it/s]\n"
          ]
        },
        {
          "output_type": "stream",
          "name": "stdout",
          "text": [
            "\n",
            "Class-wise Accuracy:\n",
            "  Class 3: 55.40%\n",
            "  Class 0: 16.36%\n",
            "  Class 2: 70.68%\n",
            "  Class 1: 57.72%\n",
            "Test Accuracy: 50.0%, Test Loss: 1.106528\n",
            "\n",
            "\n",
            "Class-wise Accuracy:\n",
            "  Class 3: 55.40%\n",
            "  Class 0: 16.36%\n",
            "  Class 2: 70.68%\n",
            "  Class 1: 57.72%\n",
            "Train Accuracy: 49.77%, Average Train Loss: 1.130081, Test Accuracy: 50.04%, Average Test Loss: 1.106528\n",
            "\n",
            "Epoch 27/100: "
          ]
        },
        {
          "output_type": "stream",
          "name": "stderr",
          "text": [
            "100%|██████████| 81/81 [00:14<00:00,  5.42it/s]\n",
            "Batch 81/81, Loss: 1.087456: 100%|██████████| 81/81 [00:07<00:00, 10.96it/s]\n"
          ]
        },
        {
          "output_type": "stream",
          "name": "stdout",
          "text": [
            "\n",
            "Class-wise Accuracy:\n",
            "  Class 3: 67.44%\n",
            "  Class 0: 20.99%\n",
            "  Class 2: 75.46%\n",
            "  Class 1: 47.22%\n",
            "Test Accuracy: 52.8%, Test Loss: 1.081624\n",
            "\n",
            "\n",
            "Class-wise Accuracy:\n",
            "  Class 3: 67.44%\n",
            "  Class 0: 20.99%\n",
            "  Class 2: 75.46%\n",
            "  Class 1: 47.22%\n",
            "Train Accuracy: 49.00%, Average Train Loss: 1.171801, Test Accuracy: 52.78%, Average Test Loss: 1.081624\n",
            "\n",
            "Epoch 28/100: "
          ]
        },
        {
          "output_type": "stream",
          "name": "stderr",
          "text": [
            "100%|██████████| 81/81 [00:14<00:00,  5.43it/s]\n",
            "Batch 81/81, Loss: 1.072295: 100%|██████████| 81/81 [00:07<00:00, 10.90it/s]\n"
          ]
        },
        {
          "output_type": "stream",
          "name": "stdout",
          "text": [
            "\n",
            "Class-wise Accuracy:\n",
            "  Class 3: 50.15%\n",
            "  Class 0: 53.70%\n",
            "  Class 2: 69.14%\n",
            "  Class 1: 46.45%\n",
            "Test Accuracy: 54.9%, Test Loss: 1.061321\n",
            "\n",
            "\n",
            "Class-wise Accuracy:\n",
            "  Class 3: 50.15%\n",
            "  Class 0: 53.70%\n",
            "  Class 2: 69.14%\n",
            "  Class 1: 46.45%\n",
            "Train Accuracy: 50.50%, Average Train Loss: 1.137104, Test Accuracy: 54.86%, Average Test Loss: 1.061321\n",
            "\n",
            "Epoch 29/100: "
          ]
        },
        {
          "output_type": "stream",
          "name": "stderr",
          "text": [
            "100%|██████████| 81/81 [00:14<00:00,  5.45it/s]\n",
            "Batch 81/81, Loss: 1.119428: 100%|██████████| 81/81 [00:07<00:00, 11.04it/s]\n"
          ]
        },
        {
          "output_type": "stream",
          "name": "stdout",
          "text": [
            "\n",
            "Class-wise Accuracy:\n",
            "  Class 3: 56.33%\n",
            "  Class 0: 41.82%\n",
            "  Class 2: 60.03%\n",
            "  Class 1: 57.10%\n",
            "Test Accuracy: 53.8%, Test Loss: 1.066445\n",
            "\n",
            "\n",
            "Class-wise Accuracy:\n",
            "  Class 3: 56.33%\n",
            "  Class 0: 41.82%\n",
            "  Class 2: 60.03%\n",
            "  Class 1: 57.10%\n",
            "Train Accuracy: 49.77%, Average Train Loss: 1.129063, Test Accuracy: 53.82%, Average Test Loss: 1.066445\n",
            "\n",
            "Epoch 30/100: "
          ]
        },
        {
          "output_type": "stream",
          "name": "stderr",
          "text": [
            "100%|██████████| 81/81 [00:14<00:00,  5.45it/s]\n",
            "Batch 81/81, Loss: 1.151063: 100%|██████████| 81/81 [00:07<00:00, 10.97it/s]\n"
          ]
        },
        {
          "output_type": "stream",
          "name": "stdout",
          "text": [
            "\n",
            "Class-wise Accuracy:\n",
            "  Class 3: 62.19%\n",
            "  Class 0: 29.17%\n",
            "  Class 2: 44.44%\n",
            "  Class 1: 70.68%\n",
            "Test Accuracy: 51.6%, Test Loss: 1.108757\n",
            "\n",
            "\n",
            "Class-wise Accuracy:\n",
            "  Class 3: 62.19%\n",
            "  Class 0: 29.17%\n",
            "  Class 2: 44.44%\n",
            "  Class 1: 70.68%\n",
            "Train Accuracy: 51.16%, Average Train Loss: 1.122933, Test Accuracy: 51.62%, Average Test Loss: 1.108757\n",
            "\n",
            "Epoch 31/100: "
          ]
        },
        {
          "output_type": "stream",
          "name": "stderr",
          "text": [
            "100%|██████████| 81/81 [00:14<00:00,  5.48it/s]\n",
            "Batch 81/81, Loss: 1.155679: 100%|██████████| 81/81 [00:07<00:00, 11.14it/s]\n"
          ]
        },
        {
          "output_type": "stream",
          "name": "stdout",
          "text": [
            "\n",
            "Class-wise Accuracy:\n",
            "  Class 3: 49.38%\n",
            "  Class 0: 41.98%\n",
            "  Class 2: 57.72%\n",
            "  Class 1: 66.98%\n",
            "Test Accuracy: 54.0%, Test Loss: 1.088422\n",
            "\n",
            "\n",
            "Class-wise Accuracy:\n",
            "  Class 3: 49.38%\n",
            "  Class 0: 41.98%\n",
            "  Class 2: 57.72%\n",
            "  Class 1: 66.98%\n",
            "Train Accuracy: 49.07%, Average Train Loss: 1.133784, Test Accuracy: 54.01%, Average Test Loss: 1.088422\n",
            "\n",
            "Epoch 32/100: "
          ]
        },
        {
          "output_type": "stream",
          "name": "stderr",
          "text": [
            "100%|██████████| 81/81 [00:14<00:00,  5.48it/s]\n",
            "Batch 81/81, Loss: 1.131611: 100%|██████████| 81/81 [00:07<00:00, 11.22it/s]\n"
          ]
        },
        {
          "output_type": "stream",
          "name": "stdout",
          "text": [
            "\n",
            "Class-wise Accuracy:\n",
            "  Class 3: 40.12%\n",
            "  Class 0: 46.60%\n",
            "  Class 2: 80.25%\n",
            "  Class 1: 42.90%\n",
            "Test Accuracy: 52.5%, Test Loss: 1.085168\n",
            "\n",
            "\n",
            "Class-wise Accuracy:\n",
            "  Class 3: 40.12%\n",
            "  Class 0: 46.60%\n",
            "  Class 2: 80.25%\n",
            "  Class 1: 42.90%\n",
            "Train Accuracy: 48.73%, Average Train Loss: 1.144726, Test Accuracy: 52.47%, Average Test Loss: 1.085168\n",
            "\n",
            "Epoch 33/100: "
          ]
        },
        {
          "output_type": "stream",
          "name": "stderr",
          "text": [
            "100%|██████████| 81/81 [00:14<00:00,  5.48it/s]\n",
            "Batch 81/81, Loss: 1.067268: 100%|██████████| 81/81 [00:07<00:00, 11.08it/s]\n"
          ]
        },
        {
          "output_type": "stream",
          "name": "stdout",
          "text": [
            "\n",
            "Class-wise Accuracy:\n",
            "  Class 3: 34.41%\n",
            "  Class 0: 45.83%\n",
            "  Class 2: 56.64%\n",
            "  Class 1: 70.52%\n",
            "Test Accuracy: 51.9%, Test Loss: 1.081111\n",
            "\n",
            "\n",
            "Class-wise Accuracy:\n",
            "  Class 3: 34.41%\n",
            "  Class 0: 45.83%\n",
            "  Class 2: 56.64%\n",
            "  Class 1: 70.52%\n",
            "Train Accuracy: 49.38%, Average Train Loss: 1.135906, Test Accuracy: 51.85%, Average Test Loss: 1.081111\n",
            "\n",
            "Epoch 34/100: "
          ]
        },
        {
          "output_type": "stream",
          "name": "stderr",
          "text": [
            "100%|██████████| 81/81 [00:14<00:00,  5.49it/s]\n",
            "Batch 81/81, Loss: 1.182152: 100%|██████████| 81/81 [00:07<00:00, 11.38it/s]\n"
          ]
        },
        {
          "output_type": "stream",
          "name": "stdout",
          "text": [
            "\n",
            "Class-wise Accuracy:\n",
            "  Class 3: 61.42%\n",
            "  Class 0: 56.02%\n",
            "  Class 2: 70.68%\n",
            "  Class 1: 23.77%\n",
            "Test Accuracy: 53.0%, Test Loss: 1.087928\n",
            "\n",
            "\n",
            "Class-wise Accuracy:\n",
            "  Class 3: 61.42%\n",
            "  Class 0: 56.02%\n",
            "  Class 2: 70.68%\n",
            "  Class 1: 23.77%\n",
            "Train Accuracy: 49.42%, Average Train Loss: 1.139217, Test Accuracy: 52.97%, Average Test Loss: 1.087928\n",
            "\n",
            "Epoch 35/100: "
          ]
        },
        {
          "output_type": "stream",
          "name": "stderr",
          "text": [
            "100%|██████████| 81/81 [00:14<00:00,  5.47it/s]\n",
            "Batch 81/81, Loss: 1.128711: 100%|██████████| 81/81 [00:07<00:00, 11.04it/s]\n"
          ]
        },
        {
          "output_type": "stream",
          "name": "stdout",
          "text": [
            "\n",
            "Class-wise Accuracy:\n",
            "  Class 3: 69.60%\n",
            "  Class 0: 22.84%\n",
            "  Class 2: 47.69%\n",
            "  Class 1: 69.60%\n",
            "Test Accuracy: 52.4%, Test Loss: 1.085893\n",
            "\n",
            "\n",
            "Class-wise Accuracy:\n",
            "  Class 3: 69.60%\n",
            "  Class 0: 22.84%\n",
            "  Class 2: 47.69%\n",
            "  Class 1: 69.60%\n",
            "Train Accuracy: 48.30%, Average Train Loss: 1.152626, Test Accuracy: 52.43%, Average Test Loss: 1.085893\n",
            "\n",
            "Epoch 36/100: "
          ]
        },
        {
          "output_type": "stream",
          "name": "stderr",
          "text": [
            "100%|██████████| 81/81 [00:14<00:00,  5.49it/s]\n",
            "Batch 81/81, Loss: 1.150069: 100%|██████████| 81/81 [00:07<00:00, 11.37it/s]\n"
          ]
        },
        {
          "output_type": "stream",
          "name": "stdout",
          "text": [
            "\n",
            "Class-wise Accuracy:\n",
            "  Class 3: 75.15%\n",
            "  Class 0: 34.26%\n",
            "  Class 2: 64.51%\n",
            "  Class 1: 46.30%\n",
            "Test Accuracy: 55.1%, Test Loss: 1.049053\n",
            "\n",
            "\n",
            "Class-wise Accuracy:\n",
            "  Class 3: 75.15%\n",
            "  Class 0: 34.26%\n",
            "  Class 2: 64.51%\n",
            "  Class 1: 46.30%\n",
            "Train Accuracy: 49.23%, Average Train Loss: 1.132122, Test Accuracy: 55.05%, Average Test Loss: 1.049053\n",
            "\n",
            "Epoch 37/100: "
          ]
        },
        {
          "output_type": "stream",
          "name": "stderr",
          "text": [
            "100%|██████████| 81/81 [00:14<00:00,  5.49it/s]\n",
            "Batch 81/81, Loss: 1.141681: 100%|██████████| 81/81 [00:07<00:00, 11.24it/s]\n"
          ]
        },
        {
          "output_type": "stream",
          "name": "stdout",
          "text": [
            "\n",
            "Class-wise Accuracy:\n",
            "  Class 3: 72.07%\n",
            "  Class 0: 39.51%\n",
            "  Class 2: 66.82%\n",
            "  Class 1: 43.21%\n",
            "Test Accuracy: 55.4%, Test Loss: 1.052733\n",
            "\n",
            "\n",
            "Class-wise Accuracy:\n",
            "  Class 3: 72.07%\n",
            "  Class 0: 39.51%\n",
            "  Class 2: 66.82%\n",
            "  Class 1: 43.21%\n",
            "Train Accuracy: 50.00%, Average Train Loss: 1.133854, Test Accuracy: 55.40%, Average Test Loss: 1.052733\n",
            "\n",
            "Epoch 38/100: "
          ]
        },
        {
          "output_type": "stream",
          "name": "stderr",
          "text": [
            "100%|██████████| 81/81 [00:14<00:00,  5.50it/s]\n",
            "Batch 81/81, Loss: 1.137425: 100%|██████████| 81/81 [00:07<00:00, 11.34it/s]\n"
          ]
        },
        {
          "output_type": "stream",
          "name": "stdout",
          "text": [
            "\n",
            "Class-wise Accuracy:\n",
            "  Class 3: 70.83%\n",
            "  Class 0: 39.81%\n",
            "  Class 2: 51.23%\n",
            "  Class 1: 61.73%\n",
            "Test Accuracy: 55.9%, Test Loss: 1.041169\n",
            "\n",
            "\n",
            "Class-wise Accuracy:\n",
            "  Class 3: 70.83%\n",
            "  Class 0: 39.81%\n",
            "  Class 2: 51.23%\n",
            "  Class 1: 61.73%\n",
            "Train Accuracy: 50.46%, Average Train Loss: 1.121930, Test Accuracy: 55.90%, Average Test Loss: 1.041169\n",
            "\n",
            "Epoch 39/100: "
          ]
        },
        {
          "output_type": "stream",
          "name": "stderr",
          "text": [
            "100%|██████████| 81/81 [00:14<00:00,  5.48it/s]\n",
            "Batch 81/81, Loss: 1.026935: 100%|██████████| 81/81 [00:07<00:00, 11.33it/s]\n"
          ]
        },
        {
          "output_type": "stream",
          "name": "stdout",
          "text": [
            "\n",
            "Class-wise Accuracy:\n",
            "  Class 3: 60.19%\n",
            "  Class 0: 40.43%\n",
            "  Class 2: 67.44%\n",
            "  Class 1: 62.35%\n",
            "Test Accuracy: 57.6%, Test Loss: 1.008605\n",
            "\n",
            "\n",
            "Class-wise Accuracy:\n",
            "  Class 3: 60.19%\n",
            "  Class 0: 40.43%\n",
            "  Class 2: 67.44%\n",
            "  Class 1: 62.35%\n",
            "Train Accuracy: 52.31%, Average Train Loss: 1.090099, Test Accuracy: 57.60%, Average Test Loss: 1.008605\n",
            "\n",
            "Epoch 40/100: "
          ]
        },
        {
          "output_type": "stream",
          "name": "stderr",
          "text": [
            "100%|██████████| 81/81 [00:14<00:00,  5.49it/s]\n",
            "Batch 81/81, Loss: 1.020759: 100%|██████████| 81/81 [00:07<00:00, 11.32it/s]\n"
          ]
        },
        {
          "output_type": "stream",
          "name": "stdout",
          "text": [
            "\n",
            "Class-wise Accuracy:\n",
            "  Class 3: 60.34%\n",
            "  Class 0: 44.75%\n",
            "  Class 2: 57.25%\n",
            "  Class 1: 61.88%\n",
            "Test Accuracy: 56.1%, Test Loss: 1.038856\n",
            "\n",
            "\n",
            "Class-wise Accuracy:\n",
            "  Class 3: 60.34%\n",
            "  Class 0: 44.75%\n",
            "  Class 2: 57.25%\n",
            "  Class 1: 61.88%\n",
            "Train Accuracy: 51.85%, Average Train Loss: 1.091197, Test Accuracy: 56.06%, Average Test Loss: 1.038856\n",
            "\n",
            "Epoch 41/100: "
          ]
        },
        {
          "output_type": "stream",
          "name": "stderr",
          "text": [
            "100%|██████████| 81/81 [00:14<00:00,  5.48it/s]\n",
            "Batch 81/81, Loss: 1.205294: 100%|██████████| 81/81 [00:07<00:00, 11.44it/s]\n"
          ]
        },
        {
          "output_type": "stream",
          "name": "stdout",
          "text": [
            "\n",
            "Class-wise Accuracy:\n",
            "  Class 3: 59.41%\n",
            "  Class 0: 37.19%\n",
            "  Class 2: 65.90%\n",
            "  Class 1: 67.44%\n",
            "Test Accuracy: 57.5%, Test Loss: 1.007624\n",
            "\n",
            "\n",
            "Class-wise Accuracy:\n",
            "  Class 3: 59.41%\n",
            "  Class 0: 37.19%\n",
            "  Class 2: 65.90%\n",
            "  Class 1: 67.44%\n",
            "Train Accuracy: 52.16%, Average Train Loss: 1.101928, Test Accuracy: 57.48%, Average Test Loss: 1.007624\n",
            "\n",
            "Epoch 42/100: "
          ]
        },
        {
          "output_type": "stream",
          "name": "stderr",
          "text": [
            "100%|██████████| 81/81 [00:14<00:00,  5.51it/s]\n",
            "Batch 81/81, Loss: 1.151780: 100%|██████████| 81/81 [00:07<00:00, 11.37it/s]\n"
          ]
        },
        {
          "output_type": "stream",
          "name": "stdout",
          "text": [
            "\n",
            "Class-wise Accuracy:\n",
            "  Class 3: 36.42%\n",
            "  Class 0: 37.35%\n",
            "  Class 2: 84.57%\n",
            "  Class 1: 46.30%\n",
            "Test Accuracy: 51.2%, Test Loss: 1.082796\n",
            "\n",
            "\n",
            "Class-wise Accuracy:\n",
            "  Class 3: 36.42%\n",
            "  Class 0: 37.35%\n",
            "  Class 2: 84.57%\n",
            "  Class 1: 46.30%\n",
            "Train Accuracy: 50.46%, Average Train Loss: 1.123588, Test Accuracy: 51.16%, Average Test Loss: 1.082796\n",
            "\n",
            "Epoch 43/100: "
          ]
        },
        {
          "output_type": "stream",
          "name": "stderr",
          "text": [
            "100%|██████████| 81/81 [00:14<00:00,  5.53it/s]\n",
            "Batch 81/81, Loss: 1.061924: 100%|██████████| 81/81 [00:07<00:00, 11.47it/s]\n"
          ]
        },
        {
          "output_type": "stream",
          "name": "stdout",
          "text": [
            "\n",
            "Class-wise Accuracy:\n",
            "  Class 3: 68.98%\n",
            "  Class 0: 29.94%\n",
            "  Class 2: 74.54%\n",
            "  Class 1: 54.48%\n",
            "Test Accuracy: 57.0%, Test Loss: 1.010806\n",
            "\n",
            "\n",
            "Class-wise Accuracy:\n",
            "  Class 3: 68.98%\n",
            "  Class 0: 29.94%\n",
            "  Class 2: 74.54%\n",
            "  Class 1: 54.48%\n",
            "Train Accuracy: 50.08%, Average Train Loss: 1.125321, Test Accuracy: 56.98%, Average Test Loss: 1.010806\n",
            "\n",
            "Epoch 44/100: "
          ]
        },
        {
          "output_type": "stream",
          "name": "stderr",
          "text": [
            "100%|██████████| 81/81 [00:14<00:00,  5.52it/s]\n",
            "Batch 81/81, Loss: 1.026144: 100%|██████████| 81/81 [00:07<00:00, 11.29it/s]\n"
          ]
        },
        {
          "output_type": "stream",
          "name": "stdout",
          "text": [
            "\n",
            "Class-wise Accuracy:\n",
            "  Class 3: 67.59%\n",
            "  Class 0: 30.56%\n",
            "  Class 2: 60.34%\n",
            "  Class 1: 65.28%\n",
            "Test Accuracy: 55.9%, Test Loss: 1.023625\n",
            "\n",
            "\n",
            "Class-wise Accuracy:\n",
            "  Class 3: 67.59%\n",
            "  Class 0: 30.56%\n",
            "  Class 2: 60.34%\n",
            "  Class 1: 65.28%\n",
            "Train Accuracy: 50.66%, Average Train Loss: 1.118495, Test Accuracy: 55.94%, Average Test Loss: 1.023625\n",
            "\n",
            "Epoch 45/100: "
          ]
        },
        {
          "output_type": "stream",
          "name": "stderr",
          "text": [
            "100%|██████████| 81/81 [00:14<00:00,  5.54it/s]\n",
            "Batch 81/81, Loss: 1.078307: 100%|██████████| 81/81 [00:07<00:00, 11.50it/s]\n"
          ]
        },
        {
          "output_type": "stream",
          "name": "stdout",
          "text": [
            "\n",
            "Class-wise Accuracy:\n",
            "  Class 3: 49.85%\n",
            "  Class 0: 53.55%\n",
            "  Class 2: 74.85%\n",
            "  Class 1: 44.75%\n",
            "Test Accuracy: 55.7%, Test Loss: 1.070771\n",
            "\n",
            "\n",
            "Class-wise Accuracy:\n",
            "  Class 3: 49.85%\n",
            "  Class 0: 53.55%\n",
            "  Class 2: 74.85%\n",
            "  Class 1: 44.75%\n",
            "Train Accuracy: 51.77%, Average Train Loss: 1.109378, Test Accuracy: 55.75%, Average Test Loss: 1.070771\n",
            "\n",
            "Epoch 46/100: "
          ]
        },
        {
          "output_type": "stream",
          "name": "stderr",
          "text": [
            "100%|██████████| 81/81 [00:14<00:00,  5.52it/s]\n",
            "Batch 81/81, Loss: 1.057289: 100%|██████████| 81/81 [00:07<00:00, 11.32it/s]\n"
          ]
        },
        {
          "output_type": "stream",
          "name": "stdout",
          "text": [
            "\n",
            "Class-wise Accuracy:\n",
            "  Class 3: 45.06%\n",
            "  Class 0: 38.89%\n",
            "  Class 2: 57.72%\n",
            "  Class 1: 73.61%\n",
            "Test Accuracy: 53.8%, Test Loss: 1.075241\n",
            "\n",
            "\n",
            "Class-wise Accuracy:\n",
            "  Class 3: 45.06%\n",
            "  Class 0: 38.89%\n",
            "  Class 2: 57.72%\n",
            "  Class 1: 73.61%\n",
            "Train Accuracy: 52.04%, Average Train Loss: 1.110594, Test Accuracy: 53.82%, Average Test Loss: 1.075241\n",
            "\n",
            "Epoch 47/100: "
          ]
        },
        {
          "output_type": "stream",
          "name": "stderr",
          "text": [
            "100%|██████████| 81/81 [00:14<00:00,  5.54it/s]\n",
            "Batch 81/81, Loss: 1.000818: 100%|██████████| 81/81 [00:07<00:00, 11.49it/s]\n"
          ]
        },
        {
          "output_type": "stream",
          "name": "stdout",
          "text": [
            "\n",
            "Class-wise Accuracy:\n",
            "  Class 3: 61.42%\n",
            "  Class 0: 46.14%\n",
            "  Class 2: 67.44%\n",
            "  Class 1: 53.40%\n",
            "Test Accuracy: 57.1%, Test Loss: 1.009210\n",
            "\n",
            "\n",
            "Class-wise Accuracy:\n",
            "  Class 3: 61.42%\n",
            "  Class 0: 46.14%\n",
            "  Class 2: 67.44%\n",
            "  Class 1: 53.40%\n",
            "Train Accuracy: 52.89%, Average Train Loss: 1.093579, Test Accuracy: 57.10%, Average Test Loss: 1.009210\n",
            "\n",
            "Epoch 48/100: "
          ]
        },
        {
          "output_type": "stream",
          "name": "stderr",
          "text": [
            "100%|██████████| 81/81 [00:14<00:00,  5.55it/s]\n",
            "Batch 81/81, Loss: 0.946935: 100%|██████████| 81/81 [00:07<00:00, 11.36it/s]\n"
          ]
        },
        {
          "output_type": "stream",
          "name": "stdout",
          "text": [
            "\n",
            "Class-wise Accuracy:\n",
            "  Class 3: 65.90%\n",
            "  Class 0: 27.16%\n",
            "  Class 2: 76.85%\n",
            "  Class 1: 58.49%\n",
            "Test Accuracy: 57.1%, Test Loss: 1.019943\n",
            "\n",
            "\n",
            "Class-wise Accuracy:\n",
            "  Class 3: 65.90%\n",
            "  Class 0: 27.16%\n",
            "  Class 2: 76.85%\n",
            "  Class 1: 58.49%\n",
            "Train Accuracy: 52.82%, Average Train Loss: 1.078791, Test Accuracy: 57.10%, Average Test Loss: 1.019943\n",
            "\n",
            "Epoch 49/100: "
          ]
        },
        {
          "output_type": "stream",
          "name": "stderr",
          "text": [
            "100%|██████████| 81/81 [00:14<00:00,  5.54it/s]\n",
            "Batch 81/81, Loss: 1.026896: 100%|██████████| 81/81 [00:07<00:00, 11.40it/s]\n"
          ]
        },
        {
          "output_type": "stream",
          "name": "stdout",
          "text": [
            "\n",
            "Class-wise Accuracy:\n",
            "  Class 3: 56.33%\n",
            "  Class 0: 41.36%\n",
            "  Class 2: 69.75%\n",
            "  Class 1: 52.16%\n",
            "Test Accuracy: 54.9%, Test Loss: 1.053262\n",
            "\n",
            "\n",
            "Class-wise Accuracy:\n",
            "  Class 3: 56.33%\n",
            "  Class 0: 41.36%\n",
            "  Class 2: 69.75%\n",
            "  Class 1: 52.16%\n",
            "Train Accuracy: 53.28%, Average Train Loss: 1.079466, Test Accuracy: 54.90%, Average Test Loss: 1.053262\n",
            "\n",
            "Epoch 50/100: "
          ]
        },
        {
          "output_type": "stream",
          "name": "stderr",
          "text": [
            "100%|██████████| 81/81 [00:14<00:00,  5.53it/s]\n",
            "Batch 81/81, Loss: 1.063125: 100%|██████████| 81/81 [00:07<00:00, 11.46it/s]\n"
          ]
        },
        {
          "output_type": "stream",
          "name": "stdout",
          "text": [
            "\n",
            "Class-wise Accuracy:\n",
            "  Class 3: 66.20%\n",
            "  Class 0: 46.30%\n",
            "  Class 2: 64.20%\n",
            "  Class 1: 58.80%\n",
            "Test Accuracy: 58.9%, Test Loss: 0.967455\n",
            "\n",
            "\n",
            "Class-wise Accuracy:\n",
            "  Class 3: 66.20%\n",
            "  Class 0: 46.30%\n",
            "  Class 2: 64.20%\n",
            "  Class 1: 58.80%\n",
            "Train Accuracy: 52.58%, Average Train Loss: 1.087984, Test Accuracy: 58.87%, Average Test Loss: 0.967455\n",
            "\n",
            "Epoch 51/100: "
          ]
        },
        {
          "output_type": "stream",
          "name": "stderr",
          "text": [
            "100%|██████████| 81/81 [00:14<00:00,  5.56it/s]\n",
            "Batch 81/81, Loss: 1.006419: 100%|██████████| 81/81 [00:07<00:00, 11.47it/s]\n"
          ]
        },
        {
          "output_type": "stream",
          "name": "stdout",
          "text": [
            "\n",
            "Class-wise Accuracy:\n",
            "  Class 3: 75.31%\n",
            "  Class 0: 26.85%\n",
            "  Class 2: 67.44%\n",
            "  Class 1: 55.25%\n",
            "Test Accuracy: 56.2%, Test Loss: 1.022403\n",
            "\n",
            "\n",
            "Class-wise Accuracy:\n",
            "  Class 3: 75.31%\n",
            "  Class 0: 26.85%\n",
            "  Class 2: 67.44%\n",
            "  Class 1: 55.25%\n",
            "Train Accuracy: 56.17%, Average Train Loss: 1.049568, Test Accuracy: 56.21%, Average Test Loss: 1.022403\n",
            "\n",
            "Epoch 52/100: "
          ]
        },
        {
          "output_type": "stream",
          "name": "stderr",
          "text": [
            "100%|██████████| 81/81 [00:14<00:00,  5.55it/s]\n",
            "Batch 81/81, Loss: 0.990018: 100%|██████████| 81/81 [00:07<00:00, 11.51it/s]\n"
          ]
        },
        {
          "output_type": "stream",
          "name": "stdout",
          "text": [
            "\n",
            "Class-wise Accuracy:\n",
            "  Class 3: 50.00%\n",
            "  Class 0: 58.95%\n",
            "  Class 2: 67.75%\n",
            "  Class 1: 52.62%\n",
            "Test Accuracy: 57.3%, Test Loss: 1.019298\n",
            "\n",
            "\n",
            "Class-wise Accuracy:\n",
            "  Class 3: 50.00%\n",
            "  Class 0: 58.95%\n",
            "  Class 2: 67.75%\n",
            "  Class 1: 52.62%\n",
            "Train Accuracy: 53.59%, Average Train Loss: 1.089334, Test Accuracy: 57.33%, Average Test Loss: 1.019298\n",
            "\n",
            "Epoch 53/100: "
          ]
        },
        {
          "output_type": "stream",
          "name": "stderr",
          "text": [
            "100%|██████████| 81/81 [00:14<00:00,  5.56it/s]\n",
            "Batch 81/81, Loss: 0.963365: 100%|██████████| 81/81 [00:07<00:00, 11.44it/s]\n"
          ]
        },
        {
          "output_type": "stream",
          "name": "stdout",
          "text": [
            "\n",
            "Class-wise Accuracy:\n",
            "  Class 3: 68.06%\n",
            "  Class 0: 37.35%\n",
            "  Class 2: 68.52%\n",
            "  Class 1: 64.04%\n",
            "Test Accuracy: 59.5%, Test Loss: 0.989401\n",
            "\n",
            "\n",
            "Class-wise Accuracy:\n",
            "  Class 3: 68.06%\n",
            "  Class 0: 37.35%\n",
            "  Class 2: 68.52%\n",
            "  Class 1: 64.04%\n",
            "Train Accuracy: 51.50%, Average Train Loss: 1.096235, Test Accuracy: 59.49%, Average Test Loss: 0.989401\n",
            "\n",
            "Epoch 54/100: "
          ]
        },
        {
          "output_type": "stream",
          "name": "stderr",
          "text": [
            "100%|██████████| 81/81 [00:14<00:00,  5.53it/s]\n",
            "Batch 81/81, Loss: 1.038958: 100%|██████████| 81/81 [00:07<00:00, 11.48it/s]\n"
          ]
        },
        {
          "output_type": "stream",
          "name": "stdout",
          "text": [
            "\n",
            "Class-wise Accuracy:\n",
            "  Class 3: 56.33%\n",
            "  Class 0: 39.20%\n",
            "  Class 2: 82.41%\n",
            "  Class 1: 50.62%\n",
            "Test Accuracy: 57.1%, Test Loss: 1.012566\n",
            "\n",
            "\n",
            "Class-wise Accuracy:\n",
            "  Class 3: 56.33%\n",
            "  Class 0: 39.20%\n",
            "  Class 2: 82.41%\n",
            "  Class 1: 50.62%\n",
            "Train Accuracy: 55.25%, Average Train Loss: 1.057221, Test Accuracy: 57.14%, Average Test Loss: 1.012566\n",
            "\n",
            "Epoch 55/100: "
          ]
        },
        {
          "output_type": "stream",
          "name": "stderr",
          "text": [
            "100%|██████████| 81/81 [00:14<00:00,  5.56it/s]\n",
            "Batch 81/81, Loss: 1.060522: 100%|██████████| 81/81 [00:07<00:00, 11.44it/s]\n"
          ]
        },
        {
          "output_type": "stream",
          "name": "stdout",
          "text": [
            "\n",
            "Class-wise Accuracy:\n",
            "  Class 3: 62.81%\n",
            "  Class 0: 61.11%\n",
            "  Class 2: 77.01%\n",
            "  Class 1: 47.07%\n",
            "Test Accuracy: 62.0%, Test Loss: 0.940208\n",
            "\n",
            "\n",
            "Class-wise Accuracy:\n",
            "  Class 3: 62.81%\n",
            "  Class 0: 61.11%\n",
            "  Class 2: 77.01%\n",
            "  Class 1: 47.07%\n",
            "Train Accuracy: 54.86%, Average Train Loss: 1.041845, Test Accuracy: 62.00%, Average Test Loss: 0.940208\n",
            "\n",
            "Epoch 56/100: "
          ]
        },
        {
          "output_type": "stream",
          "name": "stderr",
          "text": [
            "100%|██████████| 81/81 [00:14<00:00,  5.56it/s]\n",
            "Batch 81/81, Loss: 0.959853: 100%|██████████| 81/81 [00:07<00:00, 11.55it/s]\n"
          ]
        },
        {
          "output_type": "stream",
          "name": "stdout",
          "text": [
            "\n",
            "Class-wise Accuracy:\n",
            "  Class 3: 71.45%\n",
            "  Class 0: 53.70%\n",
            "  Class 2: 65.59%\n",
            "  Class 1: 56.02%\n",
            "Test Accuracy: 61.7%, Test Loss: 0.948372\n",
            "\n",
            "\n",
            "Class-wise Accuracy:\n",
            "  Class 3: 71.45%\n",
            "  Class 0: 53.70%\n",
            "  Class 2: 65.59%\n",
            "  Class 1: 56.02%\n",
            "Train Accuracy: 55.52%, Average Train Loss: 1.026632, Test Accuracy: 61.69%, Average Test Loss: 0.948372\n",
            "\n",
            "Epoch 57/100: "
          ]
        },
        {
          "output_type": "stream",
          "name": "stderr",
          "text": [
            "100%|██████████| 81/81 [00:14<00:00,  5.56it/s]\n",
            "Batch 81/81, Loss: 1.020593: 100%|██████████| 81/81 [00:07<00:00, 11.44it/s]\n"
          ]
        },
        {
          "output_type": "stream",
          "name": "stdout",
          "text": [
            "\n",
            "Class-wise Accuracy:\n",
            "  Class 3: 52.01%\n",
            "  Class 0: 43.21%\n",
            "  Class 2: 63.27%\n",
            "  Class 1: 77.16%\n",
            "Test Accuracy: 58.9%, Test Loss: 0.958160\n",
            "\n",
            "\n",
            "Class-wise Accuracy:\n",
            "  Class 3: 52.01%\n",
            "  Class 0: 43.21%\n",
            "  Class 2: 63.27%\n",
            "  Class 1: 77.16%\n",
            "Train Accuracy: 55.79%, Average Train Loss: 1.028282, Test Accuracy: 58.91%, Average Test Loss: 0.958160\n",
            "\n",
            "Epoch 58/100: "
          ]
        },
        {
          "output_type": "stream",
          "name": "stderr",
          "text": [
            "100%|██████████| 81/81 [00:14<00:00,  5.53it/s]\n",
            "Batch 81/81, Loss: 0.902807: 100%|██████████| 81/81 [00:07<00:00, 11.51it/s]\n"
          ]
        },
        {
          "output_type": "stream",
          "name": "stdout",
          "text": [
            "\n",
            "Class-wise Accuracy:\n",
            "  Class 3: 65.59%\n",
            "  Class 0: 52.31%\n",
            "  Class 2: 68.67%\n",
            "  Class 1: 65.43%\n",
            "Test Accuracy: 63.0%, Test Loss: 0.922745\n",
            "\n",
            "\n",
            "Class-wise Accuracy:\n",
            "  Class 3: 65.59%\n",
            "  Class 0: 52.31%\n",
            "  Class 2: 68.67%\n",
            "  Class 1: 65.43%\n",
            "Train Accuracy: 55.98%, Average Train Loss: 1.016173, Test Accuracy: 63.00%, Average Test Loss: 0.922745\n",
            "\n",
            "Epoch 59/100: "
          ]
        },
        {
          "output_type": "stream",
          "name": "stderr",
          "text": [
            "100%|██████████| 81/81 [00:14<00:00,  5.56it/s]\n",
            "Batch 81/81, Loss: 0.856244: 100%|██████████| 81/81 [00:07<00:00, 11.35it/s]\n"
          ]
        },
        {
          "output_type": "stream",
          "name": "stdout",
          "text": [
            "\n",
            "Class-wise Accuracy:\n",
            "  Class 3: 62.04%\n",
            "  Class 0: 51.08%\n",
            "  Class 2: 72.53%\n",
            "  Class 1: 63.58%\n",
            "Test Accuracy: 62.3%, Test Loss: 0.918856\n",
            "\n",
            "\n",
            "Class-wise Accuracy:\n",
            "  Class 3: 62.04%\n",
            "  Class 0: 51.08%\n",
            "  Class 2: 72.53%\n",
            "  Class 1: 63.58%\n",
            "Train Accuracy: 57.83%, Average Train Loss: 0.990575, Test Accuracy: 62.31%, Average Test Loss: 0.918856\n",
            "\n",
            "Epoch 60/100: "
          ]
        },
        {
          "output_type": "stream",
          "name": "stderr",
          "text": [
            "100%|██████████| 81/81 [00:14<00:00,  5.56it/s]\n",
            "Batch 81/81, Loss: 0.837447: 100%|██████████| 81/81 [00:06<00:00, 11.57it/s]\n"
          ]
        },
        {
          "output_type": "stream",
          "name": "stdout",
          "text": [
            "\n",
            "Class-wise Accuracy:\n",
            "  Class 3: 65.74%\n",
            "  Class 0: 52.01%\n",
            "  Class 2: 71.45%\n",
            "  Class 1: 61.42%\n",
            "Test Accuracy: 62.7%, Test Loss: 0.910285\n",
            "\n",
            "\n",
            "Class-wise Accuracy:\n",
            "  Class 3: 65.74%\n",
            "  Class 0: 52.01%\n",
            "  Class 2: 71.45%\n",
            "  Class 1: 61.42%\n",
            "Train Accuracy: 56.75%, Average Train Loss: 1.005960, Test Accuracy: 62.65%, Average Test Loss: 0.910285\n",
            "\n",
            "Epoch 61/100: "
          ]
        },
        {
          "output_type": "stream",
          "name": "stderr",
          "text": [
            "100%|██████████| 81/81 [00:14<00:00,  5.56it/s]\n",
            "Batch 81/81, Loss: 0.832503: 100%|██████████| 81/81 [00:07<00:00, 11.41it/s]\n"
          ]
        },
        {
          "output_type": "stream",
          "name": "stdout",
          "text": [
            "\n",
            "Class-wise Accuracy:\n",
            "  Class 3: 69.44%\n",
            "  Class 0: 54.32%\n",
            "  Class 2: 62.35%\n",
            "  Class 1: 65.59%\n",
            "Test Accuracy: 62.9%, Test Loss: 0.904190\n",
            "\n",
            "\n",
            "Class-wise Accuracy:\n",
            "  Class 3: 69.44%\n",
            "  Class 0: 54.32%\n",
            "  Class 2: 62.35%\n",
            "  Class 1: 65.59%\n",
            "Train Accuracy: 55.98%, Average Train Loss: 0.997611, Test Accuracy: 62.92%, Average Test Loss: 0.904190\n",
            "\n",
            "Epoch 62/100: "
          ]
        },
        {
          "output_type": "stream",
          "name": "stderr",
          "text": [
            "100%|██████████| 81/81 [00:14<00:00,  5.56it/s]\n",
            "Batch 81/81, Loss: 0.902776: 100%|██████████| 81/81 [00:07<00:00, 11.51it/s]\n"
          ]
        },
        {
          "output_type": "stream",
          "name": "stdout",
          "text": [
            "\n",
            "Class-wise Accuracy:\n",
            "  Class 3: 67.28%\n",
            "  Class 0: 39.97%\n",
            "  Class 2: 79.32%\n",
            "  Class 1: 65.74%\n",
            "Test Accuracy: 63.1%, Test Loss: 0.906853\n",
            "\n",
            "\n",
            "Class-wise Accuracy:\n",
            "  Class 3: 67.28%\n",
            "  Class 0: 39.97%\n",
            "  Class 2: 79.32%\n",
            "  Class 1: 65.74%\n",
            "Train Accuracy: 59.49%, Average Train Loss: 0.974822, Test Accuracy: 63.08%, Average Test Loss: 0.906853\n",
            "\n",
            "Epoch 63/100: "
          ]
        },
        {
          "output_type": "stream",
          "name": "stderr",
          "text": [
            "100%|██████████| 81/81 [00:14<00:00,  5.57it/s]\n",
            "Batch 81/81, Loss: 0.878812: 100%|██████████| 81/81 [00:07<00:00, 11.34it/s]\n"
          ]
        },
        {
          "output_type": "stream",
          "name": "stdout",
          "text": [
            "\n",
            "Class-wise Accuracy:\n",
            "  Class 3: 72.38%\n",
            "  Class 0: 44.75%\n",
            "  Class 2: 74.69%\n",
            "  Class 1: 59.26%\n",
            "Test Accuracy: 62.8%, Test Loss: 0.905542\n",
            "\n",
            "\n",
            "Class-wise Accuracy:\n",
            "  Class 3: 72.38%\n",
            "  Class 0: 44.75%\n",
            "  Class 2: 74.69%\n",
            "  Class 1: 59.26%\n",
            "Train Accuracy: 58.41%, Average Train Loss: 0.995444, Test Accuracy: 62.77%, Average Test Loss: 0.905542\n",
            "\n",
            "Epoch 64/100: "
          ]
        },
        {
          "output_type": "stream",
          "name": "stderr",
          "text": [
            "100%|██████████| 81/81 [00:14<00:00,  5.56it/s]\n",
            "Batch 81/81, Loss: 0.924097: 100%|██████████| 81/81 [00:07<00:00, 11.39it/s]\n"
          ]
        },
        {
          "output_type": "stream",
          "name": "stdout",
          "text": [
            "\n",
            "Class-wise Accuracy:\n",
            "  Class 3: 63.58%\n",
            "  Class 0: 61.42%\n",
            "  Class 2: 72.07%\n",
            "  Class 1: 58.95%\n",
            "Test Accuracy: 64.0%, Test Loss: 0.910114\n",
            "\n",
            "\n",
            "Class-wise Accuracy:\n",
            "  Class 3: 63.58%\n",
            "  Class 0: 61.42%\n",
            "  Class 2: 72.07%\n",
            "  Class 1: 58.95%\n",
            "Train Accuracy: 58.95%, Average Train Loss: 0.979537, Test Accuracy: 64.00%, Average Test Loss: 0.910114\n",
            "\n",
            "Epoch 65/100: "
          ]
        },
        {
          "output_type": "stream",
          "name": "stderr",
          "text": [
            "100%|██████████| 81/81 [00:14<00:00,  5.55it/s]\n",
            "Batch 81/81, Loss: 0.873698: 100%|██████████| 81/81 [00:07<00:00, 11.37it/s]\n"
          ]
        },
        {
          "output_type": "stream",
          "name": "stdout",
          "text": [
            "\n",
            "Class-wise Accuracy:\n",
            "  Class 3: 68.67%\n",
            "  Class 0: 58.49%\n",
            "  Class 2: 71.45%\n",
            "  Class 1: 56.94%\n",
            "Test Accuracy: 63.9%, Test Loss: 0.902889\n",
            "\n",
            "\n",
            "Class-wise Accuracy:\n",
            "  Class 3: 68.67%\n",
            "  Class 0: 58.49%\n",
            "  Class 2: 71.45%\n",
            "  Class 1: 56.94%\n",
            "Train Accuracy: 59.45%, Average Train Loss: 0.968089, Test Accuracy: 63.89%, Average Test Loss: 0.902889\n",
            "\n",
            "Epoch 66/100: "
          ]
        },
        {
          "output_type": "stream",
          "name": "stderr",
          "text": [
            "100%|██████████| 81/81 [00:14<00:00,  5.51it/s]\n",
            "Batch 81/81, Loss: 0.895694: 100%|██████████| 81/81 [00:07<00:00, 10.93it/s]\n"
          ]
        },
        {
          "output_type": "stream",
          "name": "stdout",
          "text": [
            "\n",
            "Class-wise Accuracy:\n",
            "  Class 3: 45.22%\n",
            "  Class 0: 44.14%\n",
            "  Class 2: 87.35%\n",
            "  Class 1: 64.81%\n",
            "Test Accuracy: 60.4%, Test Loss: 0.931800\n",
            "\n",
            "\n",
            "Class-wise Accuracy:\n",
            "  Class 3: 45.22%\n",
            "  Class 0: 44.14%\n",
            "  Class 2: 87.35%\n",
            "  Class 1: 64.81%\n",
            "Train Accuracy: 57.87%, Average Train Loss: 0.983130, Test Accuracy: 60.38%, Average Test Loss: 0.931800\n",
            "\n",
            "Epoch 67/100: "
          ]
        },
        {
          "output_type": "stream",
          "name": "stderr",
          "text": [
            "100%|██████████| 81/81 [00:14<00:00,  5.55it/s]\n",
            "Batch 81/81, Loss: 0.914611: 100%|██████████| 81/81 [00:07<00:00, 11.50it/s]\n"
          ]
        },
        {
          "output_type": "stream",
          "name": "stdout",
          "text": [
            "\n",
            "Class-wise Accuracy:\n",
            "  Class 3: 65.43%\n",
            "  Class 0: 63.43%\n",
            "  Class 2: 67.59%\n",
            "  Class 1: 62.65%\n",
            "Test Accuracy: 64.8%, Test Loss: 0.876105\n",
            "\n",
            "\n",
            "Class-wise Accuracy:\n",
            "  Class 3: 65.43%\n",
            "  Class 0: 63.43%\n",
            "  Class 2: 67.59%\n",
            "  Class 1: 62.65%\n",
            "Train Accuracy: 59.41%, Average Train Loss: 0.969393, Test Accuracy: 64.78%, Average Test Loss: 0.876105\n",
            "\n",
            "Epoch 68/100: "
          ]
        },
        {
          "output_type": "stream",
          "name": "stderr",
          "text": [
            "100%|██████████| 81/81 [00:14<00:00,  5.54it/s]\n",
            "Batch 81/81, Loss: 0.863728: 100%|██████████| 81/81 [00:07<00:00, 11.38it/s]\n"
          ]
        },
        {
          "output_type": "stream",
          "name": "stdout",
          "text": [
            "\n",
            "Class-wise Accuracy:\n",
            "  Class 3: 65.59%\n",
            "  Class 0: 60.96%\n",
            "  Class 2: 75.77%\n",
            "  Class 1: 61.11%\n",
            "Test Accuracy: 65.9%, Test Loss: 0.865208\n",
            "\n",
            "\n",
            "Class-wise Accuracy:\n",
            "  Class 3: 65.59%\n",
            "  Class 0: 60.96%\n",
            "  Class 2: 75.77%\n",
            "  Class 1: 61.11%\n",
            "Train Accuracy: 60.53%, Average Train Loss: 0.952442, Test Accuracy: 65.86%, Average Test Loss: 0.865208\n",
            "\n",
            "Epoch 69/100: "
          ]
        },
        {
          "output_type": "stream",
          "name": "stderr",
          "text": [
            "100%|██████████| 81/81 [00:14<00:00,  5.56it/s]\n",
            "Batch 81/81, Loss: 0.882803: 100%|██████████| 81/81 [00:07<00:00, 11.45it/s]\n"
          ]
        },
        {
          "output_type": "stream",
          "name": "stdout",
          "text": [
            "\n",
            "Class-wise Accuracy:\n",
            "  Class 3: 66.82%\n",
            "  Class 0: 60.19%\n",
            "  Class 2: 56.64%\n",
            "  Class 1: 74.54%\n",
            "Test Accuracy: 64.5%, Test Loss: 0.872501\n",
            "\n",
            "\n",
            "Class-wise Accuracy:\n",
            "  Class 3: 66.82%\n",
            "  Class 0: 60.19%\n",
            "  Class 2: 56.64%\n",
            "  Class 1: 74.54%\n",
            "Train Accuracy: 60.69%, Average Train Loss: 0.936398, Test Accuracy: 64.54%, Average Test Loss: 0.872501\n",
            "\n",
            "Epoch 70/100: "
          ]
        },
        {
          "output_type": "stream",
          "name": "stderr",
          "text": [
            "100%|██████████| 81/81 [00:14<00:00,  5.56it/s]\n",
            "Batch 81/81, Loss: 0.891495: 100%|██████████| 81/81 [00:07<00:00, 11.43it/s]\n"
          ]
        },
        {
          "output_type": "stream",
          "name": "stdout",
          "text": [
            "\n",
            "Class-wise Accuracy:\n",
            "  Class 3: 53.70%\n",
            "  Class 0: 61.88%\n",
            "  Class 2: 78.09%\n",
            "  Class 1: 70.83%\n",
            "Test Accuracy: 66.1%, Test Loss: 0.850715\n",
            "\n",
            "\n",
            "Class-wise Accuracy:\n",
            "  Class 3: 53.70%\n",
            "  Class 0: 61.88%\n",
            "  Class 2: 78.09%\n",
            "  Class 1: 70.83%\n",
            "Train Accuracy: 60.65%, Average Train Loss: 0.933377, Test Accuracy: 66.13%, Average Test Loss: 0.850715\n",
            "\n",
            "Epoch 71/100: "
          ]
        },
        {
          "output_type": "stream",
          "name": "stderr",
          "text": [
            "100%|██████████| 81/81 [00:14<00:00,  5.55it/s]\n",
            "Batch 81/81, Loss: 0.864729: 100%|██████████| 81/81 [00:07<00:00, 11.45it/s]\n"
          ]
        },
        {
          "output_type": "stream",
          "name": "stdout",
          "text": [
            "\n",
            "Class-wise Accuracy:\n",
            "  Class 3: 75.93%\n",
            "  Class 0: 56.64%\n",
            "  Class 2: 74.69%\n",
            "  Class 1: 57.41%\n",
            "Test Accuracy: 66.2%, Test Loss: 0.859551\n",
            "\n",
            "\n",
            "Class-wise Accuracy:\n",
            "  Class 3: 75.93%\n",
            "  Class 0: 56.64%\n",
            "  Class 2: 74.69%\n",
            "  Class 1: 57.41%\n",
            "Train Accuracy: 59.84%, Average Train Loss: 0.953053, Test Accuracy: 66.17%, Average Test Loss: 0.859551\n",
            "\n",
            "Epoch 72/100: "
          ]
        },
        {
          "output_type": "stream",
          "name": "stderr",
          "text": [
            "100%|██████████| 81/81 [00:14<00:00,  5.55it/s]\n",
            "Batch 81/81, Loss: 0.911026: 100%|██████████| 81/81 [00:07<00:00, 11.37it/s]\n"
          ]
        },
        {
          "output_type": "stream",
          "name": "stdout",
          "text": [
            "\n",
            "Class-wise Accuracy:\n",
            "  Class 3: 77.47%\n",
            "  Class 0: 59.10%\n",
            "  Class 2: 67.90%\n",
            "  Class 1: 62.19%\n",
            "Test Accuracy: 66.7%, Test Loss: 0.842501\n",
            "\n",
            "\n",
            "Class-wise Accuracy:\n",
            "  Class 3: 77.47%\n",
            "  Class 0: 59.10%\n",
            "  Class 2: 67.90%\n",
            "  Class 1: 62.19%\n",
            "Train Accuracy: 60.26%, Average Train Loss: 0.940648, Test Accuracy: 66.67%, Average Test Loss: 0.842501\n",
            "\n",
            "Epoch 73/100: "
          ]
        },
        {
          "output_type": "stream",
          "name": "stderr",
          "text": [
            "100%|██████████| 81/81 [00:14<00:00,  5.54it/s]\n",
            "Batch 81/81, Loss: 0.775268: 100%|██████████| 81/81 [00:07<00:00, 11.50it/s]\n"
          ]
        },
        {
          "output_type": "stream",
          "name": "stdout",
          "text": [
            "\n",
            "Class-wise Accuracy:\n",
            "  Class 3: 65.43%\n",
            "  Class 0: 61.42%\n",
            "  Class 2: 75.31%\n",
            "  Class 1: 67.44%\n",
            "Test Accuracy: 67.4%, Test Loss: 0.823340\n",
            "\n",
            "\n",
            "Class-wise Accuracy:\n",
            "  Class 3: 65.43%\n",
            "  Class 0: 61.42%\n",
            "  Class 2: 75.31%\n",
            "  Class 1: 67.44%\n",
            "Train Accuracy: 62.46%, Average Train Loss: 0.916197, Test Accuracy: 67.40%, Average Test Loss: 0.823340\n",
            "\n",
            "Epoch 74/100: "
          ]
        },
        {
          "output_type": "stream",
          "name": "stderr",
          "text": [
            "100%|██████████| 81/81 [00:14<00:00,  5.56it/s]\n",
            "Batch 81/81, Loss: 0.780373: 100%|██████████| 81/81 [00:07<00:00, 11.32it/s]\n"
          ]
        },
        {
          "output_type": "stream",
          "name": "stdout",
          "text": [
            "\n",
            "Class-wise Accuracy:\n",
            "  Class 3: 68.36%\n",
            "  Class 0: 61.73%\n",
            "  Class 2: 67.90%\n",
            "  Class 1: 66.67%\n",
            "Test Accuracy: 66.2%, Test Loss: 0.846320\n",
            "\n",
            "\n",
            "Class-wise Accuracy:\n",
            "  Class 3: 68.36%\n",
            "  Class 0: 61.73%\n",
            "  Class 2: 67.90%\n",
            "  Class 1: 66.67%\n",
            "Train Accuracy: 61.57%, Average Train Loss: 0.922000, Test Accuracy: 66.17%, Average Test Loss: 0.846320\n",
            "\n",
            "Epoch 75/100: "
          ]
        },
        {
          "output_type": "stream",
          "name": "stderr",
          "text": [
            "100%|██████████| 81/81 [00:14<00:00,  5.56it/s]\n",
            "Batch 81/81, Loss: 0.787047: 100%|██████████| 81/81 [00:07<00:00, 11.47it/s]\n"
          ]
        },
        {
          "output_type": "stream",
          "name": "stdout",
          "text": [
            "\n",
            "Class-wise Accuracy:\n",
            "  Class 3: 65.12%\n",
            "  Class 0: 57.72%\n",
            "  Class 2: 73.15%\n",
            "  Class 1: 72.53%\n",
            "Test Accuracy: 67.1%, Test Loss: 0.819875\n",
            "\n",
            "\n",
            "Class-wise Accuracy:\n",
            "  Class 3: 65.12%\n",
            "  Class 0: 57.72%\n",
            "  Class 2: 73.15%\n",
            "  Class 1: 72.53%\n",
            "Train Accuracy: 60.92%, Average Train Loss: 0.927395, Test Accuracy: 67.13%, Average Test Loss: 0.819875\n",
            "\n",
            "Epoch 76/100: "
          ]
        },
        {
          "output_type": "stream",
          "name": "stderr",
          "text": [
            "100%|██████████| 81/81 [00:14<00:00,  5.56it/s]\n",
            "Batch 81/81, Loss: 0.819363: 100%|██████████| 81/81 [00:07<00:00, 11.37it/s]\n"
          ]
        },
        {
          "output_type": "stream",
          "name": "stdout",
          "text": [
            "\n",
            "Class-wise Accuracy:\n",
            "  Class 3: 63.12%\n",
            "  Class 0: 59.10%\n",
            "  Class 2: 77.93%\n",
            "  Class 1: 72.53%\n",
            "Test Accuracy: 68.2%, Test Loss: 0.821248\n",
            "\n",
            "\n",
            "Class-wise Accuracy:\n",
            "  Class 3: 63.12%\n",
            "  Class 0: 59.10%\n",
            "  Class 2: 77.93%\n",
            "  Class 1: 72.53%\n",
            "Train Accuracy: 61.27%, Average Train Loss: 0.918665, Test Accuracy: 68.17%, Average Test Loss: 0.821248\n",
            "\n",
            "Epoch 77/100: "
          ]
        },
        {
          "output_type": "stream",
          "name": "stderr",
          "text": [
            "100%|██████████| 81/81 [00:14<00:00,  5.55it/s]\n",
            "Batch 81/81, Loss: 0.792547: 100%|██████████| 81/81 [00:07<00:00, 11.52it/s]\n"
          ]
        },
        {
          "output_type": "stream",
          "name": "stdout",
          "text": [
            "\n",
            "Class-wise Accuracy:\n",
            "  Class 3: 71.60%\n",
            "  Class 0: 54.48%\n",
            "  Class 2: 77.62%\n",
            "  Class 1: 66.82%\n",
            "Test Accuracy: 67.6%, Test Loss: 0.816360\n",
            "\n",
            "\n",
            "Class-wise Accuracy:\n",
            "  Class 3: 71.60%\n",
            "  Class 0: 54.48%\n",
            "  Class 2: 77.62%\n",
            "  Class 1: 66.82%\n",
            "Train Accuracy: 63.77%, Average Train Loss: 0.890267, Test Accuracy: 67.63%, Average Test Loss: 0.816360\n",
            "\n",
            "Epoch 78/100: "
          ]
        },
        {
          "output_type": "stream",
          "name": "stderr",
          "text": [
            "100%|██████████| 81/81 [00:14<00:00,  5.57it/s]\n",
            "Batch 81/81, Loss: 0.777326: 100%|██████████| 81/81 [00:07<00:00, 11.41it/s]\n"
          ]
        },
        {
          "output_type": "stream",
          "name": "stdout",
          "text": [
            "\n",
            "Class-wise Accuracy:\n",
            "  Class 3: 62.65%\n",
            "  Class 0: 61.27%\n",
            "  Class 2: 82.72%\n",
            "  Class 1: 67.90%\n",
            "Test Accuracy: 68.6%, Test Loss: 0.810602\n",
            "\n",
            "\n",
            "Class-wise Accuracy:\n",
            "  Class 3: 62.65%\n",
            "  Class 0: 61.27%\n",
            "  Class 2: 82.72%\n",
            "  Class 1: 67.90%\n",
            "Train Accuracy: 62.31%, Average Train Loss: 0.904928, Test Accuracy: 68.63%, Average Test Loss: 0.810602\n",
            "\n",
            "Epoch 79/100: "
          ]
        },
        {
          "output_type": "stream",
          "name": "stderr",
          "text": [
            "100%|██████████| 81/81 [00:14<00:00,  5.56it/s]\n",
            "Batch 81/81, Loss: 0.778230: 100%|██████████| 81/81 [00:07<00:00, 11.42it/s]\n"
          ]
        },
        {
          "output_type": "stream",
          "name": "stdout",
          "text": [
            "\n",
            "Class-wise Accuracy:\n",
            "  Class 3: 70.99%\n",
            "  Class 0: 56.33%\n",
            "  Class 2: 76.23%\n",
            "  Class 1: 73.15%\n",
            "Test Accuracy: 69.2%, Test Loss: 0.803927\n",
            "\n",
            "\n",
            "Class-wise Accuracy:\n",
            "  Class 3: 70.99%\n",
            "  Class 0: 56.33%\n",
            "  Class 2: 76.23%\n",
            "  Class 1: 73.15%\n",
            "Train Accuracy: 61.81%, Average Train Loss: 0.917459, Test Accuracy: 69.17%, Average Test Loss: 0.803927\n",
            "\n",
            "Epoch 80/100: "
          ]
        },
        {
          "output_type": "stream",
          "name": "stderr",
          "text": [
            "100%|██████████| 81/81 [00:14<00:00,  5.57it/s]\n",
            "Batch 81/81, Loss: 0.760848: 100%|██████████| 81/81 [00:07<00:00, 11.44it/s]\n"
          ]
        },
        {
          "output_type": "stream",
          "name": "stdout",
          "text": [
            "\n",
            "Class-wise Accuracy:\n",
            "  Class 3: 63.89%\n",
            "  Class 0: 59.26%\n",
            "  Class 2: 83.02%\n",
            "  Class 1: 66.82%\n",
            "Test Accuracy: 68.2%, Test Loss: 0.805509\n",
            "\n",
            "\n",
            "Class-wise Accuracy:\n",
            "  Class 3: 63.89%\n",
            "  Class 0: 59.26%\n",
            "  Class 2: 83.02%\n",
            "  Class 1: 66.82%\n",
            "Train Accuracy: 64.12%, Average Train Loss: 0.881121, Test Accuracy: 68.25%, Average Test Loss: 0.805509\n",
            "\n",
            "Epoch 81/100: "
          ]
        },
        {
          "output_type": "stream",
          "name": "stderr",
          "text": [
            "100%|██████████| 81/81 [00:14<00:00,  5.56it/s]\n",
            "Batch 81/81, Loss: 0.781617: 100%|██████████| 81/81 [00:07<00:00, 11.46it/s]\n"
          ]
        },
        {
          "output_type": "stream",
          "name": "stdout",
          "text": [
            "\n",
            "Class-wise Accuracy:\n",
            "  Class 3: 72.38%\n",
            "  Class 0: 58.02%\n",
            "  Class 2: 74.54%\n",
            "  Class 1: 71.30%\n",
            "Test Accuracy: 69.1%, Test Loss: 0.791873\n",
            "\n",
            "\n",
            "Class-wise Accuracy:\n",
            "  Class 3: 72.38%\n",
            "  Class 0: 58.02%\n",
            "  Class 2: 74.54%\n",
            "  Class 1: 71.30%\n",
            "Train Accuracy: 63.08%, Average Train Loss: 0.884659, Test Accuracy: 69.06%, Average Test Loss: 0.791873\n",
            "\n",
            "Epoch 82/100: "
          ]
        },
        {
          "output_type": "stream",
          "name": "stderr",
          "text": [
            "100%|██████████| 81/81 [00:14<00:00,  5.56it/s]\n",
            "Batch 81/81, Loss: 0.767622: 100%|██████████| 81/81 [00:07<00:00, 11.48it/s]\n"
          ]
        },
        {
          "output_type": "stream",
          "name": "stdout",
          "text": [
            "\n",
            "Class-wise Accuracy:\n",
            "  Class 3: 64.66%\n",
            "  Class 0: 60.49%\n",
            "  Class 2: 77.47%\n",
            "  Class 1: 73.46%\n",
            "Test Accuracy: 69.0%, Test Loss: 0.789879\n",
            "\n",
            "\n",
            "Class-wise Accuracy:\n",
            "  Class 3: 64.66%\n",
            "  Class 0: 60.49%\n",
            "  Class 2: 77.47%\n",
            "  Class 1: 73.46%\n",
            "Train Accuracy: 64.08%, Average Train Loss: 0.853110, Test Accuracy: 69.02%, Average Test Loss: 0.789879\n",
            "\n",
            "Epoch 83/100: "
          ]
        },
        {
          "output_type": "stream",
          "name": "stderr",
          "text": [
            "100%|██████████| 81/81 [00:14<00:00,  5.54it/s]\n",
            "Batch 81/81, Loss: 0.788330: 100%|██████████| 81/81 [00:07<00:00, 11.40it/s]\n"
          ]
        },
        {
          "output_type": "stream",
          "name": "stdout",
          "text": [
            "\n",
            "Class-wise Accuracy:\n",
            "  Class 3: 71.30%\n",
            "  Class 0: 58.18%\n",
            "  Class 2: 81.64%\n",
            "  Class 1: 68.06%\n",
            "Test Accuracy: 69.8%, Test Loss: 0.780116\n",
            "\n",
            "\n",
            "Class-wise Accuracy:\n",
            "  Class 3: 71.30%\n",
            "  Class 0: 58.18%\n",
            "  Class 2: 81.64%\n",
            "  Class 1: 68.06%\n",
            "Train Accuracy: 63.93%, Average Train Loss: 0.863622, Test Accuracy: 69.79%, Average Test Loss: 0.780116\n",
            "\n",
            "Epoch 84/100: "
          ]
        },
        {
          "output_type": "stream",
          "name": "stderr",
          "text": [
            "100%|██████████| 81/81 [00:14<00:00,  5.55it/s]\n",
            "Batch 81/81, Loss: 0.803329: 100%|██████████| 81/81 [00:07<00:00, 11.50it/s]\n"
          ]
        },
        {
          "output_type": "stream",
          "name": "stdout",
          "text": [
            "\n",
            "Class-wise Accuracy:\n",
            "  Class 3: 73.61%\n",
            "  Class 0: 58.49%\n",
            "  Class 2: 76.54%\n",
            "  Class 1: 69.14%\n",
            "Test Accuracy: 69.4%, Test Loss: 0.778178\n",
            "\n",
            "\n",
            "Class-wise Accuracy:\n",
            "  Class 3: 73.61%\n",
            "  Class 0: 58.49%\n",
            "  Class 2: 76.54%\n",
            "  Class 1: 69.14%\n",
            "Train Accuracy: 63.43%, Average Train Loss: 0.888796, Test Accuracy: 69.44%, Average Test Loss: 0.778178\n",
            "\n",
            "Epoch 85/100: "
          ]
        },
        {
          "output_type": "stream",
          "name": "stderr",
          "text": [
            "100%|██████████| 81/81 [00:14<00:00,  5.55it/s]\n",
            "Batch 81/81, Loss: 0.792735: 100%|██████████| 81/81 [00:07<00:00, 11.37it/s]\n"
          ]
        },
        {
          "output_type": "stream",
          "name": "stdout",
          "text": [
            "\n",
            "Class-wise Accuracy:\n",
            "  Class 3: 71.30%\n",
            "  Class 0: 58.64%\n",
            "  Class 2: 78.24%\n",
            "  Class 1: 67.28%\n",
            "Test Accuracy: 68.9%, Test Loss: 0.776887\n",
            "\n",
            "\n",
            "Class-wise Accuracy:\n",
            "  Class 3: 71.30%\n",
            "  Class 0: 58.64%\n",
            "  Class 2: 78.24%\n",
            "  Class 1: 67.28%\n",
            "Train Accuracy: 63.27%, Average Train Loss: 0.876010, Test Accuracy: 68.87%, Average Test Loss: 0.776887\n",
            "\n",
            "Epoch 86/100: "
          ]
        },
        {
          "output_type": "stream",
          "name": "stderr",
          "text": [
            "100%|██████████| 81/81 [00:14<00:00,  5.56it/s]\n",
            "Batch 81/81, Loss: 0.783341: 100%|██████████| 81/81 [00:07<00:00, 11.49it/s]\n"
          ]
        },
        {
          "output_type": "stream",
          "name": "stdout",
          "text": [
            "\n",
            "Class-wise Accuracy:\n",
            "  Class 3: 70.22%\n",
            "  Class 0: 61.27%\n",
            "  Class 2: 76.08%\n",
            "  Class 1: 68.98%\n",
            "Test Accuracy: 69.1%, Test Loss: 0.778538\n",
            "\n",
            "\n",
            "Class-wise Accuracy:\n",
            "  Class 3: 70.22%\n",
            "  Class 0: 61.27%\n",
            "  Class 2: 76.08%\n",
            "  Class 1: 68.98%\n",
            "Train Accuracy: 64.27%, Average Train Loss: 0.873514, Test Accuracy: 69.14%, Average Test Loss: 0.778538\n",
            "\n",
            "Epoch 87/100: "
          ]
        },
        {
          "output_type": "stream",
          "name": "stderr",
          "text": [
            "100%|██████████| 81/81 [00:14<00:00,  5.57it/s]\n",
            "Batch 81/81, Loss: 0.765694: 100%|██████████| 81/81 [00:07<00:00, 11.34it/s]\n"
          ]
        },
        {
          "output_type": "stream",
          "name": "stdout",
          "text": [
            "\n",
            "Class-wise Accuracy:\n",
            "  Class 3: 65.90%\n",
            "  Class 0: 59.57%\n",
            "  Class 2: 81.33%\n",
            "  Class 1: 70.52%\n",
            "Test Accuracy: 69.3%, Test Loss: 0.777579\n",
            "\n",
            "\n",
            "Class-wise Accuracy:\n",
            "  Class 3: 65.90%\n",
            "  Class 0: 59.57%\n",
            "  Class 2: 81.33%\n",
            "  Class 1: 70.52%\n",
            "Train Accuracy: 64.39%, Average Train Loss: 0.878242, Test Accuracy: 69.33%, Average Test Loss: 0.777579\n",
            "\n",
            "Epoch 88/100: "
          ]
        },
        {
          "output_type": "stream",
          "name": "stderr",
          "text": [
            "100%|██████████| 81/81 [00:14<00:00,  5.54it/s]\n",
            "Batch 81/81, Loss: 0.776476: 100%|██████████| 81/81 [00:07<00:00, 11.53it/s]\n"
          ]
        },
        {
          "output_type": "stream",
          "name": "stdout",
          "text": [
            "\n",
            "Class-wise Accuracy:\n",
            "  Class 3: 75.62%\n",
            "  Class 0: 62.50%\n",
            "  Class 2: 77.16%\n",
            "  Class 1: 66.67%\n",
            "Test Accuracy: 70.5%, Test Loss: 0.774705\n",
            "\n",
            "\n",
            "Class-wise Accuracy:\n",
            "  Class 3: 75.62%\n",
            "  Class 0: 62.50%\n",
            "  Class 2: 77.16%\n",
            "  Class 1: 66.67%\n",
            "Train Accuracy: 64.04%, Average Train Loss: 0.873443, Test Accuracy: 70.49%, Average Test Loss: 0.774705\n",
            "\n",
            "Epoch 89/100: "
          ]
        },
        {
          "output_type": "stream",
          "name": "stderr",
          "text": [
            "100%|██████████| 81/81 [00:14<00:00,  5.56it/s]\n",
            "Batch 81/81, Loss: 0.768524: 100%|██████████| 81/81 [00:07<00:00, 11.36it/s]\n"
          ]
        },
        {
          "output_type": "stream",
          "name": "stdout",
          "text": [
            "\n",
            "Class-wise Accuracy:\n",
            "  Class 3: 72.69%\n",
            "  Class 0: 61.57%\n",
            "  Class 2: 78.09%\n",
            "  Class 1: 68.83%\n",
            "Test Accuracy: 70.3%, Test Loss: 0.772217\n",
            "\n",
            "\n",
            "Class-wise Accuracy:\n",
            "  Class 3: 72.69%\n",
            "  Class 0: 61.57%\n",
            "  Class 2: 78.09%\n",
            "  Class 1: 68.83%\n",
            "Train Accuracy: 63.43%, Average Train Loss: 0.871403, Test Accuracy: 70.29%, Average Test Loss: 0.772217\n",
            "\n",
            "Epoch 90/100: "
          ]
        },
        {
          "output_type": "stream",
          "name": "stderr",
          "text": [
            "100%|██████████| 81/81 [00:14<00:00,  5.55it/s]\n",
            "Batch 81/81, Loss: 0.766991: 100%|██████████| 81/81 [00:07<00:00, 11.43it/s]\n"
          ]
        },
        {
          "output_type": "stream",
          "name": "stdout",
          "text": [
            "\n",
            "Class-wise Accuracy:\n",
            "  Class 3: 76.39%\n",
            "  Class 0: 60.19%\n",
            "  Class 2: 77.62%\n",
            "  Class 1: 67.13%\n",
            "Test Accuracy: 70.3%, Test Loss: 0.769365\n",
            "\n",
            "\n",
            "Class-wise Accuracy:\n",
            "  Class 3: 76.39%\n",
            "  Class 0: 60.19%\n",
            "  Class 2: 77.62%\n",
            "  Class 1: 67.13%\n",
            "Train Accuracy: 65.66%, Average Train Loss: 0.852031, Test Accuracy: 70.33%, Average Test Loss: 0.769365\n",
            "\n",
            "Epoch 91/100: "
          ]
        },
        {
          "output_type": "stream",
          "name": "stderr",
          "text": [
            "100%|██████████| 81/81 [00:14<00:00,  5.56it/s]\n",
            "Batch 81/81, Loss: 0.759781: 100%|██████████| 81/81 [00:07<00:00, 11.37it/s]\n"
          ]
        },
        {
          "output_type": "stream",
          "name": "stdout",
          "text": [
            "\n",
            "Class-wise Accuracy:\n",
            "  Class 3: 72.07%\n",
            "  Class 0: 60.96%\n",
            "  Class 2: 79.32%\n",
            "  Class 1: 69.44%\n",
            "Test Accuracy: 70.4%, Test Loss: 0.765650\n",
            "\n",
            "\n",
            "Class-wise Accuracy:\n",
            "  Class 3: 72.07%\n",
            "  Class 0: 60.96%\n",
            "  Class 2: 79.32%\n",
            "  Class 1: 69.44%\n",
            "Train Accuracy: 63.58%, Average Train Loss: 0.877086, Test Accuracy: 70.45%, Average Test Loss: 0.765650\n",
            "\n",
            "Epoch 92/100: "
          ]
        },
        {
          "output_type": "stream",
          "name": "stderr",
          "text": [
            "100%|██████████| 81/81 [00:14<00:00,  5.55it/s]\n",
            "Batch 81/81, Loss: 0.753474: 100%|██████████| 81/81 [00:07<00:00, 11.48it/s]\n"
          ]
        },
        {
          "output_type": "stream",
          "name": "stdout",
          "text": [
            "\n",
            "Class-wise Accuracy:\n",
            "  Class 3: 72.38%\n",
            "  Class 0: 60.96%\n",
            "  Class 2: 78.86%\n",
            "  Class 1: 68.36%\n",
            "Test Accuracy: 70.1%, Test Loss: 0.766175\n",
            "\n",
            "\n",
            "Class-wise Accuracy:\n",
            "  Class 3: 72.38%\n",
            "  Class 0: 60.96%\n",
            "  Class 2: 78.86%\n",
            "  Class 1: 68.36%\n",
            "Train Accuracy: 64.00%, Average Train Loss: 0.862342, Test Accuracy: 70.14%, Average Test Loss: 0.766175\n",
            "\n",
            "Epoch 93/100: "
          ]
        },
        {
          "output_type": "stream",
          "name": "stderr",
          "text": [
            "100%|██████████| 81/81 [00:14<00:00,  5.56it/s]\n",
            "Batch 81/81, Loss: 0.756318: 100%|██████████| 81/81 [00:07<00:00, 11.34it/s]\n"
          ]
        },
        {
          "output_type": "stream",
          "name": "stdout",
          "text": [
            "\n",
            "Class-wise Accuracy:\n",
            "  Class 3: 70.83%\n",
            "  Class 0: 60.49%\n",
            "  Class 2: 79.17%\n",
            "  Class 1: 69.91%\n",
            "Test Accuracy: 70.1%, Test Loss: 0.764401\n",
            "\n",
            "\n",
            "Class-wise Accuracy:\n",
            "  Class 3: 70.83%\n",
            "  Class 0: 60.49%\n",
            "  Class 2: 79.17%\n",
            "  Class 1: 69.91%\n",
            "Train Accuracy: 65.24%, Average Train Loss: 0.854332, Test Accuracy: 70.10%, Average Test Loss: 0.764401\n",
            "\n",
            "Epoch 94/100: "
          ]
        },
        {
          "output_type": "stream",
          "name": "stderr",
          "text": [
            "100%|██████████| 81/81 [00:14<00:00,  5.56it/s]\n",
            "Batch 81/81, Loss: 0.752777: 100%|██████████| 81/81 [00:07<00:00, 11.48it/s]\n"
          ]
        },
        {
          "output_type": "stream",
          "name": "stdout",
          "text": [
            "\n",
            "Class-wise Accuracy:\n",
            "  Class 3: 72.84%\n",
            "  Class 0: 60.49%\n",
            "  Class 2: 78.86%\n",
            "  Class 1: 68.98%\n",
            "Test Accuracy: 70.3%, Test Loss: 0.762146\n",
            "\n",
            "\n",
            "Class-wise Accuracy:\n",
            "  Class 3: 72.84%\n",
            "  Class 0: 60.49%\n",
            "  Class 2: 78.86%\n",
            "  Class 1: 68.98%\n",
            "Train Accuracy: 64.51%, Average Train Loss: 0.864726, Test Accuracy: 70.29%, Average Test Loss: 0.762146\n",
            "\n",
            "Epoch 95/100: "
          ]
        },
        {
          "output_type": "stream",
          "name": "stderr",
          "text": [
            "100%|██████████| 81/81 [00:14<00:00,  5.56it/s]\n",
            "Batch 81/81, Loss: 0.756418: 100%|██████████| 81/81 [00:07<00:00, 11.47it/s]\n"
          ]
        },
        {
          "output_type": "stream",
          "name": "stdout",
          "text": [
            "\n",
            "Class-wise Accuracy:\n",
            "  Class 3: 72.99%\n",
            "  Class 0: 60.80%\n",
            "  Class 2: 78.24%\n",
            "  Class 1: 69.60%\n",
            "Test Accuracy: 70.4%, Test Loss: 0.763348\n",
            "\n",
            "\n",
            "Class-wise Accuracy:\n",
            "  Class 3: 72.99%\n",
            "  Class 0: 60.80%\n",
            "  Class 2: 78.24%\n",
            "  Class 1: 69.60%\n",
            "Train Accuracy: 65.12%, Average Train Loss: 0.855445, Test Accuracy: 70.41%, Average Test Loss: 0.763348\n",
            "\n",
            "Epoch 96/100: "
          ]
        },
        {
          "output_type": "stream",
          "name": "stderr",
          "text": [
            "100%|██████████| 81/81 [00:14<00:00,  5.56it/s]\n",
            "Batch 81/81, Loss: 0.751544: 100%|██████████| 81/81 [00:07<00:00, 11.50it/s]\n"
          ]
        },
        {
          "output_type": "stream",
          "name": "stdout",
          "text": [
            "\n",
            "Class-wise Accuracy:\n",
            "  Class 3: 73.61%\n",
            "  Class 0: 59.10%\n",
            "  Class 2: 79.78%\n",
            "  Class 1: 67.90%\n",
            "Test Accuracy: 70.1%, Test Loss: 0.762281\n",
            "\n",
            "\n",
            "Class-wise Accuracy:\n",
            "  Class 3: 73.61%\n",
            "  Class 0: 59.10%\n",
            "  Class 2: 79.78%\n",
            "  Class 1: 67.90%\n",
            "Train Accuracy: 64.08%, Average Train Loss: 0.859554, Test Accuracy: 70.10%, Average Test Loss: 0.762281\n",
            "\n",
            "Epoch 97/100: "
          ]
        },
        {
          "output_type": "stream",
          "name": "stderr",
          "text": [
            "100%|██████████| 81/81 [00:14<00:00,  5.56it/s]\n",
            "Batch 81/81, Loss: 0.751718: 100%|██████████| 81/81 [00:07<00:00, 11.47it/s]\n"
          ]
        },
        {
          "output_type": "stream",
          "name": "stdout",
          "text": [
            "\n",
            "Class-wise Accuracy:\n",
            "  Class 3: 72.84%\n",
            "  Class 0: 60.49%\n",
            "  Class 2: 79.17%\n",
            "  Class 1: 68.21%\n",
            "Test Accuracy: 70.2%, Test Loss: 0.760906\n",
            "\n",
            "\n",
            "Class-wise Accuracy:\n",
            "  Class 3: 72.84%\n",
            "  Class 0: 60.49%\n",
            "  Class 2: 79.17%\n",
            "  Class 1: 68.21%\n",
            "Train Accuracy: 64.31%, Average Train Loss: 0.860498, Test Accuracy: 70.18%, Average Test Loss: 0.760906\n",
            "\n",
            "Epoch 98/100: "
          ]
        },
        {
          "output_type": "stream",
          "name": "stderr",
          "text": [
            "100%|██████████| 81/81 [00:15<00:00,  5.34it/s]\n",
            "Batch 81/81, Loss: 0.750726: 100%|██████████| 81/81 [00:07<00:00, 11.48it/s]\n"
          ]
        },
        {
          "output_type": "stream",
          "name": "stdout",
          "text": [
            "\n",
            "Class-wise Accuracy:\n",
            "  Class 3: 72.99%\n",
            "  Class 0: 59.57%\n",
            "  Class 2: 79.01%\n",
            "  Class 1: 68.21%\n",
            "Test Accuracy: 69.9%, Test Loss: 0.761887\n",
            "\n",
            "\n",
            "Class-wise Accuracy:\n",
            "  Class 3: 72.99%\n",
            "  Class 0: 59.57%\n",
            "  Class 2: 79.01%\n",
            "  Class 1: 68.21%\n",
            "Train Accuracy: 64.89%, Average Train Loss: 0.849696, Test Accuracy: 69.95%, Average Test Loss: 0.761887\n",
            "\n",
            "Epoch 99/100: "
          ]
        },
        {
          "output_type": "stream",
          "name": "stderr",
          "text": [
            "100%|██████████| 81/81 [00:14<00:00,  5.56it/s]\n",
            "Batch 81/81, Loss: 0.751885: 100%|██████████| 81/81 [00:07<00:00, 11.42it/s]\n"
          ]
        },
        {
          "output_type": "stream",
          "name": "stdout",
          "text": [
            "\n",
            "Class-wise Accuracy:\n",
            "  Class 3: 72.69%\n",
            "  Class 0: 59.72%\n",
            "  Class 2: 78.86%\n",
            "  Class 1: 68.67%\n",
            "Test Accuracy: 70.0%, Test Loss: 0.761898\n",
            "\n",
            "\n",
            "Class-wise Accuracy:\n",
            "  Class 3: 72.69%\n",
            "  Class 0: 59.72%\n",
            "  Class 2: 78.86%\n",
            "  Class 1: 68.67%\n",
            "Train Accuracy: 63.97%, Average Train Loss: 0.859906, Test Accuracy: 69.98%, Average Test Loss: 0.761898\n",
            "\n",
            "Epoch 100/100: "
          ]
        },
        {
          "output_type": "stream",
          "name": "stderr",
          "text": [
            "100%|██████████| 81/81 [00:14<00:00,  5.55it/s]\n",
            "Batch 81/81, Loss: 0.751227: 100%|██████████| 81/81 [00:07<00:00, 11.44it/s]\n"
          ]
        },
        {
          "output_type": "stream",
          "name": "stdout",
          "text": [
            "\n",
            "Class-wise Accuracy:\n",
            "  Class 3: 72.53%\n",
            "  Class 0: 60.65%\n",
            "  Class 2: 79.01%\n",
            "  Class 1: 68.67%\n",
            "Test Accuracy: 70.2%, Test Loss: 0.760642\n",
            "\n",
            "\n",
            "Class-wise Accuracy:\n",
            "  Class 3: 72.53%\n",
            "  Class 0: 60.65%\n",
            "  Class 2: 79.01%\n",
            "  Class 1: 68.67%\n",
            "Train Accuracy: 64.85%, Average Train Loss: 0.857159, Test Accuracy: 70.22%, Average Test Loss: 0.760642\n",
            "\n"
          ]
        },
        {
          "output_type": "display_data",
          "data": {
            "text/plain": [
              "<IPython.core.display.HTML object>"
            ],
            "text/html": []
          },
          "metadata": {}
        },
        {
          "output_type": "display_data",
          "data": {
            "text/plain": [
              "<IPython.core.display.HTML object>"
            ],
            "text/html": [
              "<br>    <style><br>        .wandb-row {<br>            display: flex;<br>            flex-direction: row;<br>            flex-wrap: wrap;<br>            justify-content: flex-start;<br>            width: 100%;<br>        }<br>        .wandb-col {<br>            display: flex;<br>            flex-direction: column;<br>            flex-basis: 100%;<br>            flex: 1;<br>            padding: 10px;<br>        }<br>    </style><br><div class=\"wandb-row\"><div class=\"wandb-col\"><h3>Run history:</h3><br/><table class=\"wandb\"><tr><td>class_0_accuracy</td><td>▃▂▃▁▃▇▃▃▄▃█▄▃▇▅▆▅▅▆▅▄▇▅▆▅▄▇▆▅███▇█▇▇▇██▇</td></tr><tr><td>class_1_accuracy</td><td>▄▂▃▁▅▃▆▇▅▆▇▄▇▇▆▄▅▇▅▅▅█▆▇▇▇▆▇▆▇▇▇█▇▇▇▇▇▇▇</td></tr><tr><td>class_2_accuracy</td><td>▃▆▂▅▄▁▆▂▂▇▄█▄▆▄█▅▆▆▅▆▇▆▇▇▆█▇▆▆▇▅▇▆▇▇▇▇██</td></tr><tr><td>class_3_accuracy</td><td>█▄▁▃▃▂▄▃▂▄▂▅▅▅▆▃▆▆▅▄▅▆▆▇▃▄▇▆▆▇▆▇▇▆▇█▇▇▇▇</td></tr><tr><td>epoch</td><td>▁▁▁▁▂▂▂▂▂▂▃▃▃▃▃▄▄▄▄▄▅▅▅▅▅▅▆▆▆▆▇▇▇▇▇▇████</td></tr><tr><td>learning_rate</td><td>███████▇▇▇▆▆▆▆▅▅▅▅▄▄▄▃▃▃▃▂▂▂▂▂▂▂▂▂▁▁▁▁▁▁</td></tr><tr><td>test_accuracy</td><td>▁▂▂▃▂▄▄▄▅▅▅▅▅▅▅▅▆▆▅▆▅▆▆▆▆▇▇▇▇▇▇█████████</td></tr><tr><td>test_loss</td><td>█▇▇▇▆▆▆▆▅▆▅▅▄▅▅▄▄▄▅▃▃▃▃▃▃▃▃▃▃▂▂▂▁▁▁▁▁▁▁▁</td></tr><tr><td>train_accuracy</td><td>▁▂▂▂▃▄▄▄▅▅▅▅▅▅▆▅▅▅▆▆▆▅▆▆▆▇▇▇█▇██▇███████</td></tr><tr><td>train_loss</td><td>█▇▇▆▆▅▅▅▅▅▄▄▄▄▅▄▄▄▃▄▃▃▃▃▃▂▂▂▂▂▂▁▁▁▁▁▁▁▁▁</td></tr></table><br/></div><div class=\"wandb-col\"><h3>Run summary:</h3><br/><table class=\"wandb\"><tr><td>class_0_accuracy</td><td>60.64815</td></tr><tr><td>class_1_accuracy</td><td>68.67284</td></tr><tr><td>class_2_accuracy</td><td>79.01235</td></tr><tr><td>class_3_accuracy</td><td>72.53086</td></tr><tr><td>epoch</td><td>100</td></tr><tr><td>learning_rate</td><td>0</td></tr><tr><td>test_accuracy</td><td>70.21605</td></tr><tr><td>test_loss</td><td>0.76064</td></tr><tr><td>train_accuracy</td><td>64.8534</td></tr><tr><td>train_loss</td><td>0.85716</td></tr></table><br/></div></div>"
            ]
          },
          "metadata": {}
        },
        {
          "output_type": "display_data",
          "data": {
            "text/plain": [
              "<IPython.core.display.HTML object>"
            ],
            "text/html": [
              " View run <strong style=\"color:#cdcd00\">Spatial Attention Accuracy</strong> at: <a href='https://wandb.ai/philinthesky/Master%20Thesis/runs/vc3zk1t1' target=\"_blank\">https://wandb.ai/philinthesky/Master%20Thesis/runs/vc3zk1t1</a><br> View project at: <a href='https://wandb.ai/philinthesky/Master%20Thesis' target=\"_blank\">https://wandb.ai/philinthesky/Master%20Thesis</a><br>Synced 5 W&B file(s), 0 media file(s), 0 artifact file(s) and 0 other file(s)"
            ]
          },
          "metadata": {}
        },
        {
          "output_type": "display_data",
          "data": {
            "text/plain": [
              "<IPython.core.display.HTML object>"
            ],
            "text/html": [
              "Find logs at: <code>./wandb/run-20250227_141758-vc3zk1t1/logs</code>"
            ]
          },
          "metadata": {}
        }
      ],
      "source": [
        "import torch\n",
        "import wandb\n",
        "from torch.utils.data import DataLoader\n",
        "from torch.optim import AdamW\n",
        "from torch.optim.lr_scheduler import CosineAnnealingLR, CosineAnnealingWarmRestarts\n",
        "from torch.nn import CrossEntropyLoss\n",
        "import numpy as np\n",
        "from torch.cuda.amp import autocast, GradScaler\n",
        "\n",
        "# Initialize Weights & Biases\n",
        "wandb.init(project=\"Master Thesis\", name=\"Spatial Attention Accuracy\")\n",
        "\n",
        "# Define hyperparameters\n",
        "lr = 5e-3\n",
        "weight_decay = 1e-3\n",
        "batch_size = 32  # Start with 124\n",
        "n_epochs = 100\n",
        "\n",
        "final_acc = 0.0\n",
        "\n",
        "# Log hyperparameters to wandb\n",
        "wandb.config.update({\n",
        "    \"learning_rate\": lr,\n",
        "    \"weight_decay\": weight_decay,\n",
        "    \"batch_size\": batch_size,\n",
        "    \"epochs\": n_epochs\n",
        "})\n",
        "\n",
        "# Define optimizer and scheduler\n",
        "optimizer = AdamW(model.parameters(), lr=lr, weight_decay=weight_decay)\n",
        "T_0 = 10  # Number of iterations for the first restart\n",
        "T_mult = 2  # Multiplying factor for the period length after each restart\n",
        "eta_min = 1e-6  # Minimum learning rate after annealing\n",
        "scheduler = CosineAnnealingLR(optimizer, T_max=n_epochs)\n",
        "#scheduler = CosineAnnealingWarmRestarts(optimizer, T_0=T_0, T_mult=T_mult, eta_min=eta_min)\n",
        "\n",
        "# Define loss function\n",
        "loss_fn = CrossEntropyLoss()\n",
        "\n",
        "# Create DataLoaders\n",
        "train_loader = DataLoader(train_set, batch_size=batch_size, shuffle=True)\n",
        "test_loader = DataLoader(test_set, batch_size=batch_size)\n",
        "\n",
        "# Initialize lists to store all predictions & targets\n",
        "all_preds, all_targets = [], []\n",
        "\n",
        "# Training loop\n",
        "for epoch in range(1, n_epochs + 1):\n",
        "    print(f\"Epoch {epoch}/{n_epochs}: \", end=\"\")\n",
        "\n",
        "    train_loss, train_accuracy = train_one_epoch(\n",
        "        train_loader, model, loss_fn, optimizer, scheduler, epoch, device\n",
        "    )\n",
        "\n",
        "    test_loss, test_accuracy, class_accuracies, batch_preds, batch_targets = test_model(test_loader, model, loss_fn)\n",
        "    final_acc = test_accuracy\n",
        "    # Store predictions & labels for confusion matrix\n",
        "    all_preds.extend(batch_preds)\n",
        "    all_targets.extend(batch_targets)\n",
        "\n",
        "    # Print class-wise accuracy\n",
        "    print(\"\\nClass-wise Accuracy:\")\n",
        "    for class_idx, acc in class_accuracies.items():\n",
        "        print(f\"  Class {class_idx}: {acc:.2f}%\")\n",
        "\n",
        "    # Log results to wandb\n",
        "    wandb.log({\n",
        "        \"epoch\": epoch,\n",
        "        \"train_loss\": train_loss,\n",
        "        \"train_accuracy\": train_accuracy * 100,\n",
        "        \"test_loss\": test_loss,\n",
        "        \"test_accuracy\": test_accuracy,\n",
        "        \"learning_rate\": scheduler.get_last_lr()[0],\n",
        "        **{f\"class_{class_idx}_accuracy\": acc for class_idx, acc in class_accuracies.items()}\n",
        "    })\n",
        "\n",
        "    print(\n",
        "        f\"Train Accuracy: {100 * train_accuracy:.2f}%, \"\n",
        "        f\"Average Train Loss: {train_loss:.6f}, \"\n",
        "        f\"Test Accuracy: {test_accuracy:.2f}%, \"\n",
        "        f\"Average Test Loss: {test_loss:.6f}\\n\"\n",
        "    )\n",
        "\n",
        "# Convert lists to NumPy arrays\n",
        "all_preds = np.array(all_preds)\n",
        "all_targets = np.array(all_targets)\n",
        "\n",
        "# Save predictions & true labels for later use (confusion matrix)\n",
        "wandb.log({\"all_preds\": all_preds.tolist(), \"all_targets\": all_targets.tolist()})\n",
        "\n",
        "wandb.finish()\n"
      ]
    },
    {
      "cell_type": "code",
      "execution_count": 17,
      "metadata": {
        "id": "r25kGBA32Zhm"
      },
      "outputs": [],
      "source": [
        "import math\n",
        "# Assuming 'model' is your trained Braindecode model\n",
        "torch.save(model, f\"spatial_attention_{math.ceil(final_acc)}_{seed}.pth\")\n",
        "torch.save(model.state_dict(), f\"spatial_attention_{math.ceil(final_acc)}_{seed}_state.pth\")\n"
      ]
    }
  ],
  "metadata": {
    "kernelspec": {
      "display_name": "Python 3",
      "name": "python3"
    },
    "language_info": {
      "codemirror_mode": {
        "name": "ipython",
        "version": 3
      },
      "file_extension": ".py",
      "mimetype": "text/x-python",
      "name": "python",
      "nbconvert_exporter": "python",
      "pygments_lexer": "ipython3",
      "version": "3.12.9"
    },
    "colab": {
      "provenance": [],
      "gpuType": "T4"
    },
    "accelerator": "GPU"
  },
  "nbformat": 4,
  "nbformat_minor": 0
}