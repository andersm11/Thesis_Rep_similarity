{
  "cells": [
    {
      "cell_type": "code",
      "execution_count": null,
      "metadata": {
        "colab": {
          "base_uri": "https://localhost:8080/"
        },
        "id": "82Vbwzg32ZhZ",
        "outputId": "d74d0d97-20cf-4b5a-da22-73e9b8c4d03f"
      },
      "outputs": [
        {
          "name": "stdout",
          "output_type": "stream",
          "text": [
            "Running in Google Colab. Checking required libraries...\n",
            "All required libraries are already installed.\n"
          ]
        }
      ],
      "source": [
        "import sys\n",
        "import importlib\n",
        "import subprocess\n",
        "\n",
        "def install_if_colab():\n",
        "    if \"google.colab\" in sys.modules:\n",
        "        print(\"Running in Google Colab. Checking required libraries...\")\n",
        "\n",
        "        packages = [\"moabb\", \"braindecode\"]  # Add required libraries\n",
        "        missing_packages = [pkg for pkg in packages if importlib.util.find_spec(pkg) is None]\n",
        "\n",
        "        if missing_packages:\n",
        "            print(f\"Installing missing libraries: {', '.join(missing_packages)}\")\n",
        "            !pip install {\" \".join(missing_packages)}\n",
        "        else:\n",
        "            print(\"All required libraries are already installed.\")\n",
        "    else:\n",
        "        print(\"Not running in Google Colab. No installation needed.\")\n",
        "\n",
        "install_if_colab()\n"
      ]
    },
    {
      "cell_type": "code",
      "execution_count": null,
      "metadata": {
        "id": "RuGBArX_2Zhe"
      },
      "outputs": [],
      "source": [
        "# import numpy as np\n",
        "# from braindecode.datasets import MOABBDataset\n",
        "\n",
        "# subject_id = [1,2,3,4]\n",
        "# dataset = MOABBDataset(dataset_name=\"BNCI2014_001\", subject_ids=[1,2,3,4,5,6,7,8,9])\n",
        "\n",
        "\n",
        "\n",
        "# from braindecode.preprocessing import (\n",
        "#     exponential_moving_standardize,\n",
        "#     preprocess,\n",
        "#     Preprocessor,\n",
        "# )\n",
        "\n",
        "# low_cut_hz = 4.0  # low cut frequency for filtering\n",
        "# high_cut_hz = 38.0  # high cut frequency for filtering\n",
        "# # Parameters for exponential moving standardization\n",
        "# factor_new = 1e-3\n",
        "# init_block_size = 1000\n",
        "\n",
        "# transforms = [\n",
        "#     Preprocessor(\"pick_types\", eeg=True, meg=False, stim=False),  # Keep EEG sensors\n",
        "#     Preprocessor(\n",
        "#         lambda data, factor: np.multiply(data, factor),  # Convert from V to uV\n",
        "#         factor=1e6,\n",
        "#     ),\n",
        "#     Preprocessor(\"filter\", l_freq=low_cut_hz, h_freq=high_cut_hz),  # Bandpass filter\n",
        "#     Preprocessor(\n",
        "#         exponential_moving_standardize,  # Exponential moving standardization\n",
        "#         factor_new=factor_new,\n",
        "#         init_block_size=init_block_size,\n",
        "#     ),\n",
        "# ]\n",
        "\n",
        "# # Transform the data\n",
        "# preprocess(dataset, transforms, n_jobs=-1)\n"
      ]
    },
    {
      "cell_type": "code",
      "execution_count": null,
      "metadata": {
        "id": "ZQTd3g-i2Zhf"
      },
      "outputs": [],
      "source": [
        "# from braindecode.preprocessing import create_windows_from_events\n",
        "\n",
        "# trial_start_offset_seconds = -0.5\n",
        "# # Extract sampling frequency, check that they are same in all datasets\n",
        "# sfreq = dataset.datasets[0].raw.info[\"sfreq\"]\n",
        "# assert all([ds.raw.info[\"sfreq\"] == sfreq for ds in dataset.datasets])\n",
        "# # Calculate the trial start offset in samples.\n",
        "# trial_start_offset_samples = int(trial_start_offset_seconds * sfreq)\n",
        "\n",
        "# # Create windows using braindecode function for this. It needs parameters to define how\n",
        "# # trials should be used.\n",
        "# windows_dataset = create_windows_from_events(\n",
        "#     dataset,\n",
        "#     trial_start_offset_samples=trial_start_offset_samples,\n",
        "#     trial_stop_offset_samples=0,\n",
        "#     preload=True,\n",
        "# )"
      ]
    },
    {
      "cell_type": "code",
      "execution_count": null,
      "metadata": {
        "colab": {
          "base_uri": "https://localhost:8080/"
        },
        "id": "f_sHCnT22v9k",
        "outputId": "f746dc7f-e3fe-4452-b800-09af62a4b1ef"
      },
      "outputs": [
        {
          "name": "stdout",
          "output_type": "stream",
          "text": [
            "Drive already mounted at /content/drive; to attempt to forcibly remount, call drive.mount(\"/content/drive\", force_remount=True).\n"
          ]
        }
      ],
      "source": [
        "from google.colab import drive\n",
        "drive.mount('/content/drive')\n",
        "path = \"/content/drive/MyDrive/\""
      ]
    },
    {
      "cell_type": "code",
      "execution_count": null,
      "metadata": {
        "id": "1osynJth26to"
      },
      "outputs": [],
      "source": [
        "import pickle\n",
        "with open(path+'EEG_data/test_set.pkl', 'rb') as f_test:\n",
        "    test_set = pickle.load(f_test)\n",
        "\n",
        "import pickle\n",
        "with open(path+'EEG_data/train_set.pkl', 'rb') as f_train:\n",
        "    train_set = pickle.load(f_train)"
      ]
    },
    {
      "cell_type": "code",
      "execution_count": null,
      "metadata": {
        "colab": {
          "base_uri": "https://localhost:8080/"
        },
        "id": "31OCpWX8DcWY",
        "outputId": "f57a30a7-095a-4151-f48b-5ecd680a58bd"
      },
      "outputs": [
        {
          "name": "stdout",
          "output_type": "stream",
          "text": [
            "(array([[ 0.8504304 ,  0.29458052, -0.4713258 , ..., -0.62669516,\n",
            "        -0.7537537 , -0.7110096 ],\n",
            "       [ 1.0561131 ,  0.43964705, -0.44574612, ..., -0.33091065,\n",
            "        -0.7764369 , -1.02892   ],\n",
            "       [ 0.8421097 ,  0.18922968, -0.6453838 , ..., -0.67202616,\n",
            "        -1.0031075 , -1.1511658 ],\n",
            "       ...,\n",
            "       [ 1.2091266 ,  0.42327252, -0.30351242, ...,  0.12204538,\n",
            "        -0.56879175, -1.1218617 ],\n",
            "       [ 1.4421294 ,  0.6269664 , -0.1880253 , ...,  0.05452092,\n",
            "        -0.57788235, -1.0038872 ],\n",
            "       [ 1.0378652 ,  0.2819745 , -0.3364473 , ...,  0.21379091,\n",
            "        -0.4244004 , -0.95815575]], dtype=float32), 3, [0, 625, 1750])\n"
          ]
        }
      ],
      "source": [
        "print(train_set[0])"
      ]
    },
    {
      "cell_type": "code",
      "execution_count": null,
      "metadata": {
        "colab": {
          "base_uri": "https://localhost:8080/"
        },
        "id": "boUgL8BBDd3R",
        "outputId": "5451f177-cf1c-43ec-b42a-fe0eeb741919"
      },
      "outputs": [
        {
          "name": "stdout",
          "output_type": "stream",
          "text": [
            "(array([[-1.0934151 , -1.3873037 , -1.6339417 , ...,  0.8225361 ,\n",
            "         0.42854363, -0.06780046],\n",
            "       [-0.7164247 , -1.2801415 , -1.6891396 , ...,  1.3481504 ,\n",
            "         0.9742941 ,  0.4550013 ],\n",
            "       [-0.42542684, -1.040792  , -1.5865724 , ...,  1.3850565 ,\n",
            "         1.0127823 ,  0.4598588 ],\n",
            "       ...,\n",
            "       [-0.05036594, -1.04581   , -1.7916623 , ...,  0.6346427 ,\n",
            "         0.36234155,  0.15559398],\n",
            "       [-0.04652139, -1.0721908 , -1.8145323 , ...,  0.38617915,\n",
            "         0.09819186, -0.12599331],\n",
            "       [ 0.0146174 , -0.94253004, -1.6522993 , ..., -0.00575533,\n",
            "        -0.16144104, -0.11987627]], dtype=float32), 1, [0, 625, 1750])\n"
          ]
        }
      ],
      "source": [
        "print(test_set[0])"
      ]
    },
    {
      "cell_type": "code",
      "execution_count": null,
      "metadata": {
        "colab": {
          "base_uri": "https://localhost:8080/"
        },
        "id": "Xba9vjnO2Zhg",
        "outputId": "02b4bb42-5047-4650-90ac-1e03bd3ef386"
      },
      "outputs": [
        {
          "name": "stdout",
          "output_type": "stream",
          "text": [
            "n_classes:  4\n",
            "n_channels: 22\n",
            "input_window_samples size: 1125\n"
          ]
        }
      ],
      "source": [
        "import torch\n",
        "#from shallow_fbcsp import ShallowFBCSPNet\n",
        "from braindecode.util import set_random_seeds\n",
        "\n",
        "\n",
        "cuda = torch.cuda.is_available()  # check if GPU is available, if True chooses to use it\n",
        "device = \"cuda\" if cuda else \"cpu\"\n",
        "if cuda:\n",
        "    torch.backends.cudnn.benchmark = True\n",
        "seed = 2938475\n",
        "set_random_seeds(seed=seed, cuda=cuda)\n",
        "\n",
        "n_classes = 4\n",
        "classes = list(range(n_classes))\n",
        "# Extract number of chans and time steps from dataset\n",
        "n_channels = 22\n",
        "input_window_samples = 1125\n",
        "\n",
        "print(\"n_classes: \", n_classes)\n",
        "print(\"n_channels:\", n_channels)\n",
        "print(\"input_window_samples size:\", input_window_samples)"
      ]
    },
    {
      "cell_type": "code",
      "execution_count": null,
      "metadata": {
        "colab": {
          "base_uri": "https://localhost:8080/"
        },
        "id": "b3wPzn3X2Zhh",
        "outputId": "e170ce82-74dc-457c-e150-6329b8f27c44"
      },
      "outputs": [
        {
          "name": "stdout",
          "output_type": "stream",
          "text": [
            "ShallowAttentionNet(\n",
            "  (spatial_attention): SpatialAttention(\n",
            "    (query): Conv1d(22, 22, kernel_size=(1,), stride=(1,), bias=False)\n",
            "    (key): Conv1d(22, 22, kernel_size=(1,), stride=(1,), bias=False)\n",
            "    (value): Conv1d(22, 22, kernel_size=(1,), stride=(1,), bias=False)\n",
            "    (out_conv): Conv1d(22, 22, kernel_size=(1,), stride=(1,), bias=False)\n",
            "  )\n",
            "  (temporal): Conv2d(1, 10, kernel_size=(1, 25), stride=(1, 1))\n",
            "  (batch_norm): BatchNorm2d(10, eps=1e-05, momentum=0.1, affine=True, track_running_stats=True)\n",
            "  (pool): AvgPool2d(kernel_size=(1, 100), stride=(1, 100), padding=0)\n",
            "  (dropout): Dropout(p=0.7, inplace=False)\n",
            "  (fc): LazyLinear(in_features=0, out_features=4, bias=True)\n",
            ")\n"
          ]
        }
      ],
      "source": [
        "#from models_fbscp import CollapsedShallowNet\n",
        "# The ShallowFBCSPNet is a `nn.Sequential` model\n",
        "import importlib\n",
        "import Attention_FIRST_model\n",
        "importlib.reload(Attention_FIRST_model)\n",
        "from Attention_FIRST_model import ShallowAttentionNet\n",
        "model = ShallowAttentionNet(\n",
        "    n_chans=22,\n",
        "    n_outputs=n_classes,\n",
        "    n_times=input_window_samples,\n",
        ")\n",
        "\n",
        "# Display torchinfo table describing the model\n",
        "print(model)\n",
        "\n",
        "# Send model to GPU\n",
        "if cuda:\n",
        "    model.cuda()\n",
        "\n"
      ]
    },
    {
      "cell_type": "code",
      "execution_count": null,
      "metadata": {
        "id": "n7Eii9TH2Zhi"
      },
      "outputs": [],
      "source": [
        "# splitted = windows_dataset.split(\"session\")\n",
        "# train_set = splitted['0train']  # Session train\n",
        "# test_set = splitted['1test']  # Session evaluation\n",
        "\n",
        "from torch.nn import Module\n",
        "from torch.optim.lr_scheduler import LRScheduler\n",
        "from torch.utils.data import DataLoader\n",
        "\n",
        "#lr = 1e-4\n",
        "#weight_decay = 1e-4\n",
        "#batch_size = 64\n",
        "#n_epochs = 200\n"
      ]
    },
    {
      "cell_type": "code",
      "execution_count": null,
      "metadata": {
        "id": "inbw4Tud2Zhj"
      },
      "outputs": [],
      "source": [
        "#train_loader = DataLoader(train_set, batch_size=batch_size, shuffle=True)\n",
        "#progress_bar = tqdm(enumerate(train_loader), total=len(train_loader))\n",
        "\n",
        "\n",
        "#from collections import defaultdict\n",
        "\n",
        "#counting_dict = defaultdict(int)  # Initialize class counter\n",
        "\n",
        "#for batch_idx, (X, y, _) in progress_bar:\n",
        "#   X, y = X.to(device), y.to(device)  # Move to device if needed\n",
        "\n",
        "    # Count occurrences of each class in y\n",
        "#    for value in y:\n",
        "#        counting_dict[int(value.item())] += 1  # Convert tensor to int and update count\n",
        "\n",
        "# Print class frequencies\n",
        "#print(\"Class counts:\", dict(counting_dict))\n"
      ]
    },
    {
      "cell_type": "code",
      "execution_count": null,
      "metadata": {
        "id": "PlgtbF-r2Zhj"
      },
      "outputs": [],
      "source": [
        "\n",
        "from tqdm import tqdm\n",
        "# Define a method for training one epoch\n",
        "\n",
        "\n",
        "def train_one_epoch(\n",
        "        dataloader: DataLoader, model: Module, loss_fn, optimizer,\n",
        "        scheduler: LRScheduler, epoch: int, device, print_batch_stats=True\n",
        "):\n",
        "    model.train()  # Set the model to training mode\n",
        "    train_loss, correct = 0, 0\n",
        "\n",
        "    progress_bar = tqdm(enumerate(dataloader), total=len(dataloader),\n",
        "                        disable=not print_batch_stats)\n",
        "\n",
        "    for batch_idx, (X, y, _) in progress_bar:\n",
        "        X, y = X.to(device), y.to(device)\n",
        "        #print(X.shape)\n",
        "        optimizer.zero_grad()\n",
        "        pred = model(X)\n",
        "        loss = loss_fn(pred, y)\n",
        "        loss.backward()\n",
        "        optimizer.step()  # update the model weights\n",
        "        optimizer.zero_grad()\n",
        "\n",
        "        train_loss += loss.item()\n",
        "        correct += (pred.argmax(1) == y).sum().item()\n",
        "\n",
        "        #if print_batch_stats:\n",
        "        #    progress_bar.set_description(\n",
        "        #        f\"Epoch {epoch}/{n_epochs}, \"\n",
        "        #        f\"Batch {batch_idx + 1}/{len(dataloader)}, \"\n",
        "        #        f\"Loss: {loss.item():.6f}\"\n",
        "        #    )\n",
        "\n",
        "    # Update the learning rate\n",
        "    scheduler.step()\n",
        "\n",
        "    correct /= len(dataloader.dataset)\n",
        "    return train_loss / len(dataloader), correct\n"
      ]
    },
    {
      "cell_type": "code",
      "execution_count": null,
      "metadata": {
        "id": "M1S-1vTK2Zhk"
      },
      "outputs": [],
      "source": [
        "from collections import defaultdict\n",
        "from tqdm import tqdm\n",
        "import torch\n",
        "from torch.utils.data import DataLoader\n",
        "from sklearn.metrics import confusion_matrix\n",
        "import numpy as np\n",
        "\n",
        "@torch.no_grad()\n",
        "def test_model(dataloader: DataLoader, model: torch.nn.Module, loss_fn, print_batch_stats=True):\n",
        "    device = next(model.parameters()).device  # Get model device\n",
        "    size = len(dataloader.dataset)\n",
        "    n_batches = len(dataloader)\n",
        "    model.eval()  # Switch to evaluation mode\n",
        "    test_loss, correct = 0, 0\n",
        "\n",
        "    # Initialize dictionaries for per-class tracking\n",
        "    class_correct = defaultdict(int)\n",
        "    class_total = defaultdict(int)\n",
        "\n",
        "    # Lists to store true and predicted labels for confusion matrix\n",
        "    all_preds = []\n",
        "    all_targets = []\n",
        "\n",
        "    if print_batch_stats:\n",
        "        progress_bar = tqdm(enumerate(dataloader), total=len(dataloader))\n",
        "    else:\n",
        "        progress_bar = enumerate(dataloader)\n",
        "\n",
        "    for batch_idx, (X, y, _) in progress_bar:\n",
        "        X, y = X.to(device), y.to(device)\n",
        "        pred = model(X)\n",
        "        batch_loss = loss_fn(pred, y).item()\n",
        "\n",
        "        test_loss += batch_loss\n",
        "        correct += (pred.argmax(1) == y).sum().item()\n",
        "\n",
        "        # Store predictions and true labels for confusion matrix\n",
        "        all_preds.append(pred.argmax(1).cpu())\n",
        "        all_targets.append(y.cpu())\n",
        "\n",
        "        # Compute per-class accuracy\n",
        "        preds_labels = pred.argmax(1)\n",
        "        for label, pred_label in zip(y, preds_labels):\n",
        "            class_total[label.item()] += 1\n",
        "            class_correct[label.item()] += (label == pred_label).item()\n",
        "\n",
        "        if print_batch_stats:\n",
        "            progress_bar.set_description(\n",
        "                f\"Batch {batch_idx + 1}/{len(dataloader)}, Loss: {batch_loss:.6f}\"\n",
        "            )\n",
        "\n",
        "    # Convert lists to tensors\n",
        "    all_preds = torch.cat(all_preds)\n",
        "    all_targets = torch.cat(all_targets)\n",
        "\n",
        "    # Compute per-class accuracy\n",
        "    class_accuracies = {\n",
        "        cls: (class_correct[cls] / class_total[cls]) * 100 if class_total[cls] > 0 else 0\n",
        "        for cls in class_total\n",
        "    }\n",
        "\n",
        "    # Compute overall accuracy\n",
        "    test_loss /= n_batches\n",
        "    overall_accuracy = (correct / size) * 100\n",
        "\n",
        "    # Print per-class accuracy\n",
        "    print(\"\\nClass-wise Accuracy:\")\n",
        "    for cls, acc in class_accuracies.items():\n",
        "        print(f\"  Class {cls}: {acc:.2f}%\")\n",
        "\n",
        "    print(f\"Test Accuracy: {overall_accuracy:.1f}%, Test Loss: {test_loss:.6f}\\n\")\n",
        "\n",
        "    return test_loss, overall_accuracy, class_accuracies, all_preds, all_targets\n"
      ]
    },
    {
      "cell_type": "code",
      "execution_count": null,
      "metadata": {
        "id": "sv0OjW5u2Zhk"
      },
      "outputs": [],
      "source": [
        "from braindecode.models import ShallowFBCSPNet"
      ]
    },
    {
      "cell_type": "code",
      "execution_count": null,
      "metadata": {
        "colab": {
          "base_uri": "https://localhost:8080/"
        },
        "id": "QU1ODkiG2Zhk",
        "outputId": "aa167c05-6bab-41b5-f0d1-257da5f9a282"
      },
      "outputs": [
        {
          "name": "stdout",
          "output_type": "stream",
          "text": [
            "ShallowAttentionNet(\n",
            "  (spatial_attention): SpatialAttention(\n",
            "    (query): Conv1d(22, 22, kernel_size=(1,), stride=(1,), bias=False)\n",
            "    (key): Conv1d(22, 22, kernel_size=(1,), stride=(1,), bias=False)\n",
            "    (value): Conv1d(22, 22, kernel_size=(1,), stride=(1,), bias=False)\n",
            "    (out_conv): Conv1d(22, 22, kernel_size=(1,), stride=(1,), bias=False)\n",
            "  )\n",
            "  (temporal): Conv2d(1, 10, kernel_size=(1, 25), stride=(1, 1))\n",
            "  (batch_norm): BatchNorm2d(10, eps=1e-05, momentum=0.1, affine=True, track_running_stats=True)\n",
            "  (pool): AvgPool2d(kernel_size=(1, 100), stride=(1, 100), padding=0)\n",
            "  (dropout): Dropout(p=0.7, inplace=False)\n",
            "  (fc): LazyLinear(in_features=0, out_features=4, bias=True)\n",
            ")\n"
          ]
        }
      ],
      "source": [
        "print(model)"
      ]
    },
    {
      "cell_type": "code",
      "execution_count": null,
      "metadata": {
        "colab": {
          "base_uri": "https://localhost:8080/"
        },
        "id": "Vn58-cmZ2Zhl",
        "outputId": "57dc6828-9e34-4567-b287-3ec3be9f30be"
      },
      "outputs": [
        {
          "data": {
            "text/plain": [
              "True"
            ]
          },
          "execution_count": 66,
          "metadata": {},
          "output_type": "execute_result"
        }
      ],
      "source": [
        "import wandb\n",
        "wandb.login()"
      ]
    },
    {
      "cell_type": "code",
      "execution_count": null,
      "metadata": {
        "colab": {
          "base_uri": "https://localhost:8080/",
          "height": 434
        },
        "id": "uDUBctmi2Zhl",
        "outputId": "eb7340c2-cca9-4307-db31-60168cdc8b04"
      },
      "outputs": [
        {
          "data": {
            "text/html": [
              "Tracking run with wandb version 0.19.7"
            ],
            "text/plain": [
              "<IPython.core.display.HTML object>"
            ]
          },
          "metadata": {},
          "output_type": "display_data"
        },
        {
          "data": {
            "text/html": [
              "Run data is saved locally in <code>/content/wandb/run-20250304_171648-8yqx5udq</code>"
            ],
            "text/plain": [
              "<IPython.core.display.HTML object>"
            ]
          },
          "metadata": {},
          "output_type": "display_data"
        },
        {
          "data": {
            "text/html": [
              "Syncing run <strong><a href='https://wandb.ai/philinthesky/Master%20Thesis/runs/8yqx5udq' target=\"_blank\">Spatial  Attention First 2938475</a></strong> to <a href='https://wandb.ai/philinthesky/Master%20Thesis' target=\"_blank\">Weights & Biases</a> (<a href='https://wandb.me/developer-guide' target=\"_blank\">docs</a>)<br>"
            ],
            "text/plain": [
              "<IPython.core.display.HTML object>"
            ]
          },
          "metadata": {},
          "output_type": "display_data"
        },
        {
          "data": {
            "text/html": [
              " View project at <a href='https://wandb.ai/philinthesky/Master%20Thesis' target=\"_blank\">https://wandb.ai/philinthesky/Master%20Thesis</a>"
            ],
            "text/plain": [
              "<IPython.core.display.HTML object>"
            ]
          },
          "metadata": {},
          "output_type": "display_data"
        },
        {
          "data": {
            "text/html": [
              " View run at <a href='https://wandb.ai/philinthesky/Master%20Thesis/runs/8yqx5udq' target=\"_blank\">https://wandb.ai/philinthesky/Master%20Thesis/runs/8yqx5udq</a>"
            ],
            "text/plain": [
              "<IPython.core.display.HTML object>"
            ]
          },
          "metadata": {},
          "output_type": "display_data"
        },
        {
          "name": "stdout",
          "output_type": "stream",
          "text": [
            "Epoch 1/50: "
          ]
        },
        {
          "name": "stderr",
          "output_type": "stream",
          "text": [
            "100%|██████████| 41/41 [00:02<00:00, 14.69it/s]\n",
            "Batch 41/41, Loss: 1.290493: 100%|██████████| 41/41 [00:01<00:00, 28.62it/s]\n"
          ]
        },
        {
          "name": "stdout",
          "output_type": "stream",
          "text": [
            "\n",
            "Class-wise Accuracy:\n",
            "  Class 1: 30.86%\n",
            "  Class 2: 30.56%\n",
            "  Class 0: 29.17%\n",
            "  Class 3: 43.52%\n",
            "Test Accuracy: 33.5%, Test Loss: 1.350826\n",
            "\n",
            "\n",
            "Class-wise Accuracy:\n",
            "  Class 1: 30.86%\n",
            "  Class 2: 30.56%\n",
            "  Class 0: 29.17%\n",
            "  Class 3: 43.52%\n",
            "Train Accuracy: 27.28%, Average Train Loss: 1.376938, Test Accuracy: 33.53%, Average Test Loss: 1.350826\n",
            "\n",
            "Epoch 2/50: "
          ]
        },
        {
          "name": "stderr",
          "output_type": "stream",
          "text": [
            " 83%|████████▎ | 34/41 [00:02<00:00, 14.42it/s]"
          ]
        }
      ],
      "source": [
        "import torch\n",
        "import wandb\n",
        "from torch.utils.data import DataLoader\n",
        "from torch.optim import AdamW\n",
        "from torch.optim.lr_scheduler import CosineAnnealingLR\n",
        "from torch.nn import CrossEntropyLoss\n",
        "import numpy as np\n",
        "\n",
        "# Initialize Weights & Biases\n",
        "wandb.init(project=\"Master Thesis\", name=f\"Spatial  Attention First {seed}\")\n",
        "\n",
        "# Define hyperparameters\n",
        "lr = 1e-3\n",
        "weight_decay = 1e-4\n",
        "batch_size = 64  # Start with 124\n",
        "n_epochs = 50\n",
        "patience = 30  # Patience for early stopping\n",
        "\n",
        "final_acc = 0.0\n",
        "\n",
        "# Log hyperparameters to wandb\n",
        "wandb.config.update({\n",
        "    \"learning_rate\": lr,\n",
        "    \"weight_decay\": weight_decay,\n",
        "    \"batch_size\": batch_size,\n",
        "    \"epochs\": n_epochs\n",
        "})\n",
        "\n",
        "# Define optimizer and scheduler\n",
        "optimizer = AdamW(model.parameters(), lr=lr, weight_decay=weight_decay)\n",
        "scheduler = CosineAnnealingLR(optimizer, T_max=n_epochs - 1)\n",
        "\n",
        "# Define loss function\n",
        "loss_fn = CrossEntropyLoss()\n",
        "\n",
        "# Create DataLoaders\n",
        "train_loader = DataLoader(train_set, batch_size=batch_size, shuffle=True)\n",
        "test_loader = DataLoader(test_set, batch_size=batch_size)\n",
        "\n",
        "# Initialize lists to store all predictions & targets\n",
        "all_preds, all_targets = [], []\n",
        "\n",
        "# Early Stopping setup\n",
        "best_val_loss = float('inf')\n",
        "epochs_without_improvement = 0\n",
        "\n",
        "# Training loop\n",
        "for epoch in range(1, n_epochs + 1):\n",
        "    print(f\"Epoch {epoch}/{n_epochs}: \", end=\"\")\n",
        "\n",
        "    train_loss, train_accuracy = train_one_epoch(\n",
        "        train_loader, model, loss_fn, optimizer, scheduler, epoch, device\n",
        "    )\n",
        "\n",
        "    test_loss, test_accuracy, class_accuracies, batch_preds, batch_targets = test_model(test_loader, model, loss_fn)\n",
        "    final_acc = test_accuracy\n",
        "\n",
        "    # Store predictions & labels for confusion matrix\n",
        "    all_preds.extend(batch_preds)\n",
        "    all_targets.extend(batch_targets)\n",
        "\n",
        "    # Print class-wise accuracy\n",
        "    print(\"\\nClass-wise Accuracy:\")\n",
        "    for class_idx, acc in class_accuracies.items():\n",
        "        print(f\"  Class {class_idx}: {acc:.2f}%\")\n",
        "\n",
        "    # Log results to wandb\n",
        "    wandb.log({\n",
        "        \"epoch\": epoch,\n",
        "        \"train_loss\": train_loss,\n",
        "        \"train_accuracy\": train_accuracy * 100,\n",
        "        \"test_loss\": test_loss,\n",
        "        \"test_accuracy\": test_accuracy,\n",
        "        \"learning_rate\": scheduler.get_last_lr()[0],\n",
        "        **{f\"class_{class_idx}_accuracy\": acc for class_idx, acc in class_accuracies.items()}\n",
        "    })\n",
        "\n",
        "    print(\n",
        "        f\"Train Accuracy: {100 * train_accuracy:.2f}%, \"\n",
        "        f\"Average Train Loss: {train_loss:.6f}, \"\n",
        "        f\"Test Accuracy: {test_accuracy:.2f}%, \"\n",
        "        f\"Average Test Loss: {test_loss:.6f}\\n\"\n",
        "    )\n",
        "\n",
        "    # Early stopping check\n",
        "    if test_loss < best_val_loss:\n",
        "        best_val_loss = test_loss\n",
        "        epochs_without_improvement = 0  # Reset counter if we have improvement\n",
        "    else:\n",
        "        epochs_without_improvement += 1\n",
        "\n",
        "    # If no improvement for 'patience' epochs, stop training early\n",
        "    if epochs_without_improvement >= patience:\n",
        "        print(f\"Early stopping triggered after {epoch+1} epochs.\")\n",
        "        break\n",
        "\n",
        "# Convert lists to NumPy arrays\n",
        "all_preds = np.array(all_preds)\n",
        "all_targets = np.array(all_targets)\n",
        "\n",
        "# Save predictions & true labels for later use (confusion matrix)\n",
        "wandb.log({\"all_preds\": all_preds.tolist(), \"all_targets\": all_targets.tolist()})\n"
      ]
    },
    {
      "cell_type": "code",
      "execution_count": null,
      "metadata": {
        "id": "8SWJejiBDSPP"
      },
      "outputs": [],
      "source": [
        "wandb.finish()"
      ]
    },
    {
      "cell_type": "code",
      "execution_count": null,
      "metadata": {
        "id": "r25kGBA32Zhm"
      },
      "outputs": [],
      "source": [
        "import math\n",
        "print(seed)\n",
        "# Assuming 'model' is your trained Braindecode model\n",
        "torch.save(model, f\"spatial_attention_first_{math.ceil(final_acc)}_{seed}.pth\")\n",
        "torch.save(model.state_dict(), f\"spatial_attention_first_{math.ceil(final_acc)}_{seed}_state.pth\")\n"
      ]
    },
    {
      "cell_type": "code",
      "execution_count": null,
      "metadata": {
        "id": "DFUwHkQWPqUL"
      },
      "outputs": [],
      "source": []
    }
  ],
  "metadata": {
    "accelerator": "GPU",
    "colab": {
      "gpuType": "T4",
      "provenance": []
    },
    "kernelspec": {
      "display_name": "eeg_env",
      "language": "python",
      "name": "python3"
    },
    "language_info": {
      "codemirror_mode": {
        "name": "ipython",
        "version": 3
      },
      "file_extension": ".py",
      "mimetype": "text/x-python",
      "name": "python",
      "nbconvert_exporter": "python",
      "pygments_lexer": "ipython3",
      "version": "3.10.10"
    }
  },
  "nbformat": 4,
  "nbformat_minor": 0
}
