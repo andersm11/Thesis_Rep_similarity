{
  "cells": [
    {
      "cell_type": "code",
      "execution_count": 1,
      "metadata": {
        "colab": {
          "base_uri": "https://localhost:8080/"
        },
        "id": "82Vbwzg32ZhZ",
        "outputId": "74f1e1a6-94de-4f34-a04d-e92b79d0e6f7"
      },
      "outputs": [
        {
          "output_type": "stream",
          "name": "stdout",
          "text": [
            "Running in Google Colab. Checking required libraries...\n",
            "Installing missing libraries: moabb, braindecode\n",
            "Collecting moabb\n",
            "  Downloading moabb-1.1.1-py3-none-any.whl.metadata (16 kB)\n",
            "Collecting braindecode\n",
            "  Downloading braindecode-0.8.1-py3-none-any.whl.metadata (8.1 kB)\n",
            "Requirement already satisfied: PyYAML<7.0,>=6.0 in /usr/local/lib/python3.11/dist-packages (from moabb) (6.0.2)\n",
            "Collecting coverage<8.0.0,>=7.0.1 (from moabb)\n",
            "  Downloading coverage-7.6.12-cp311-cp311-manylinux_2_5_x86_64.manylinux1_x86_64.manylinux_2_17_x86_64.manylinux2014_x86_64.whl.metadata (8.5 kB)\n",
            "Collecting edfio<0.5.0,>=0.4.2 (from moabb)\n",
            "  Downloading edfio-0.4.6-py3-none-any.whl.metadata (3.9 kB)\n",
            "Collecting edflib-python<2.0.0,>=1.0.6 (from moabb)\n",
            "  Downloading EDFlib_Python-1.0.8-py3-none-any.whl.metadata (1.3 kB)\n",
            "Requirement already satisfied: h5py<4.0.0,>=3.10.0 in /usr/local/lib/python3.11/dist-packages (from moabb) (3.12.1)\n",
            "Requirement already satisfied: matplotlib<4.0.0,>=3.6.2 in /usr/local/lib/python3.11/dist-packages (from moabb) (3.10.0)\n",
            "Collecting memory-profiler<0.62.0,>=0.61.0 (from moabb)\n",
            "  Downloading memory_profiler-0.61.0-py3-none-any.whl.metadata (20 kB)\n",
            "Collecting mne<2.0.0,>=1.7.0 (from moabb)\n",
            "  Downloading mne-1.9.0-py3-none-any.whl.metadata (20 kB)\n",
            "Collecting mne-bids<0.15,>=0.14 (from moabb)\n",
            "  Downloading mne_bids-0.14-py2.py3-none-any.whl.metadata (4.8 kB)\n",
            "Requirement already satisfied: numpy<2.0,>=1.22 in /usr/local/lib/python3.11/dist-packages (from moabb) (1.26.4)\n",
            "Collecting pandas<2.0.0,>=1.5.2 (from moabb)\n",
            "  Downloading pandas-1.5.3-cp311-cp311-manylinux_2_17_x86_64.manylinux2014_x86_64.whl.metadata (11 kB)\n",
            "Requirement already satisfied: pooch<2.0.0,>=1.6.0 in /usr/local/lib/python3.11/dist-packages (from moabb) (1.8.2)\n",
            "Collecting pyriemann<0.7,>=0.6 (from moabb)\n",
            "  Downloading pyriemann-0.6-py2.py3-none-any.whl.metadata (8.3 kB)\n",
            "Collecting pytest<8.0.0,>=7.4.0 (from moabb)\n",
            "  Downloading pytest-7.4.4-py3-none-any.whl.metadata (7.9 kB)\n",
            "Requirement already satisfied: requests<3.0.0,>=2.28.1 in /usr/local/lib/python3.11/dist-packages (from moabb) (2.32.3)\n",
            "Requirement already satisfied: scikit-learn>=1.4.2 in /usr/local/lib/python3.11/dist-packages (from moabb) (1.6.1)\n",
            "Requirement already satisfied: scipy<2.0.0,>=1.9.3 in /usr/local/lib/python3.11/dist-packages (from moabb) (1.13.1)\n",
            "Collecting seaborn<0.13.0,>=0.12.1 (from moabb)\n",
            "  Downloading seaborn-0.12.2-py3-none-any.whl.metadata (5.4 kB)\n",
            "Requirement already satisfied: tqdm<5.0.0,>=4.64.1 in /usr/local/lib/python3.11/dist-packages (from moabb) (4.67.1)\n",
            "Collecting urllib3<2.0.0,>=1.26.15 (from moabb)\n",
            "  Downloading urllib3-1.26.20-py2.py3-none-any.whl.metadata (50 kB)\n",
            "\u001b[2K     \u001b[90m━━━━━━━━━━━━━━━━━━━━━━━━━━━━━━━━━━━━━━━━\u001b[0m \u001b[32m50.1/50.1 kB\u001b[0m \u001b[31m5.3 MB/s\u001b[0m eta \u001b[36m0:00:00\u001b[0m\n",
            "\u001b[?25hCollecting skorch (from braindecode)\n",
            "  Downloading skorch-1.1.0-py3-none-any.whl.metadata (11 kB)\n",
            "Requirement already satisfied: torch in /usr/local/lib/python3.11/dist-packages (from braindecode) (2.5.1+cu124)\n",
            "Requirement already satisfied: einops in /usr/local/lib/python3.11/dist-packages (from braindecode) (0.8.1)\n",
            "Requirement already satisfied: joblib in /usr/local/lib/python3.11/dist-packages (from braindecode) (1.4.2)\n",
            "Collecting torchinfo (from braindecode)\n",
            "  Downloading torchinfo-1.8.0-py3-none-any.whl.metadata (21 kB)\n",
            "Collecting docstring-inheritance (from braindecode)\n",
            "  Downloading docstring_inheritance-2.2.2-py3-none-any.whl.metadata (11 kB)\n",
            "Requirement already satisfied: contourpy>=1.0.1 in /usr/local/lib/python3.11/dist-packages (from matplotlib<4.0.0,>=3.6.2->moabb) (1.3.1)\n",
            "Requirement already satisfied: cycler>=0.10 in /usr/local/lib/python3.11/dist-packages (from matplotlib<4.0.0,>=3.6.2->moabb) (0.12.1)\n",
            "Requirement already satisfied: fonttools>=4.22.0 in /usr/local/lib/python3.11/dist-packages (from matplotlib<4.0.0,>=3.6.2->moabb) (4.56.0)\n",
            "Requirement already satisfied: kiwisolver>=1.3.1 in /usr/local/lib/python3.11/dist-packages (from matplotlib<4.0.0,>=3.6.2->moabb) (1.4.8)\n",
            "Requirement already satisfied: packaging>=20.0 in /usr/local/lib/python3.11/dist-packages (from matplotlib<4.0.0,>=3.6.2->moabb) (24.2)\n",
            "Requirement already satisfied: pillow>=8 in /usr/local/lib/python3.11/dist-packages (from matplotlib<4.0.0,>=3.6.2->moabb) (11.1.0)\n",
            "Requirement already satisfied: pyparsing>=2.3.1 in /usr/local/lib/python3.11/dist-packages (from matplotlib<4.0.0,>=3.6.2->moabb) (3.2.1)\n",
            "Requirement already satisfied: python-dateutil>=2.7 in /usr/local/lib/python3.11/dist-packages (from matplotlib<4.0.0,>=3.6.2->moabb) (2.8.2)\n",
            "Requirement already satisfied: psutil in /usr/local/lib/python3.11/dist-packages (from memory-profiler<0.62.0,>=0.61.0->moabb) (5.9.5)\n",
            "Requirement already satisfied: decorator in /usr/local/lib/python3.11/dist-packages (from mne<2.0.0,>=1.7.0->moabb) (4.4.2)\n",
            "Requirement already satisfied: jinja2 in /usr/local/lib/python3.11/dist-packages (from mne<2.0.0,>=1.7.0->moabb) (3.1.5)\n",
            "Requirement already satisfied: lazy-loader>=0.3 in /usr/local/lib/python3.11/dist-packages (from mne<2.0.0,>=1.7.0->moabb) (0.4)\n",
            "Requirement already satisfied: pytz>=2020.1 in /usr/local/lib/python3.11/dist-packages (from pandas<2.0.0,>=1.5.2->moabb) (2025.1)\n",
            "Requirement already satisfied: platformdirs>=2.5.0 in /usr/local/lib/python3.11/dist-packages (from pooch<2.0.0,>=1.6.0->moabb) (4.3.6)\n",
            "Requirement already satisfied: iniconfig in /usr/local/lib/python3.11/dist-packages (from pytest<8.0.0,>=7.4.0->moabb) (2.0.0)\n",
            "Requirement already satisfied: pluggy<2.0,>=0.12 in /usr/local/lib/python3.11/dist-packages (from pytest<8.0.0,>=7.4.0->moabb) (1.5.0)\n",
            "Requirement already satisfied: charset-normalizer<4,>=2 in /usr/local/lib/python3.11/dist-packages (from requests<3.0.0,>=2.28.1->moabb) (3.4.1)\n",
            "Requirement already satisfied: idna<4,>=2.5 in /usr/local/lib/python3.11/dist-packages (from requests<3.0.0,>=2.28.1->moabb) (3.10)\n",
            "Requirement already satisfied: certifi>=2017.4.17 in /usr/local/lib/python3.11/dist-packages (from requests<3.0.0,>=2.28.1->moabb) (2025.1.31)\n",
            "Requirement already satisfied: threadpoolctl>=3.1.0 in /usr/local/lib/python3.11/dist-packages (from scikit-learn>=1.4.2->moabb) (3.5.0)\n",
            "Requirement already satisfied: tabulate>=0.7.7 in /usr/local/lib/python3.11/dist-packages (from skorch->braindecode) (0.9.0)\n",
            "Requirement already satisfied: filelock in /usr/local/lib/python3.11/dist-packages (from torch->braindecode) (3.17.0)\n",
            "Requirement already satisfied: typing-extensions>=4.8.0 in /usr/local/lib/python3.11/dist-packages (from torch->braindecode) (4.12.2)\n",
            "Requirement already satisfied: networkx in /usr/local/lib/python3.11/dist-packages (from torch->braindecode) (3.4.2)\n",
            "Requirement already satisfied: fsspec in /usr/local/lib/python3.11/dist-packages (from torch->braindecode) (2024.10.0)\n",
            "Collecting nvidia-cuda-nvrtc-cu12==12.4.127 (from torch->braindecode)\n",
            "  Downloading nvidia_cuda_nvrtc_cu12-12.4.127-py3-none-manylinux2014_x86_64.whl.metadata (1.5 kB)\n",
            "Collecting nvidia-cuda-runtime-cu12==12.4.127 (from torch->braindecode)\n",
            "  Downloading nvidia_cuda_runtime_cu12-12.4.127-py3-none-manylinux2014_x86_64.whl.metadata (1.5 kB)\n",
            "Collecting nvidia-cuda-cupti-cu12==12.4.127 (from torch->braindecode)\n",
            "  Downloading nvidia_cuda_cupti_cu12-12.4.127-py3-none-manylinux2014_x86_64.whl.metadata (1.6 kB)\n",
            "Collecting nvidia-cudnn-cu12==9.1.0.70 (from torch->braindecode)\n",
            "  Downloading nvidia_cudnn_cu12-9.1.0.70-py3-none-manylinux2014_x86_64.whl.metadata (1.6 kB)\n",
            "Collecting nvidia-cublas-cu12==12.4.5.8 (from torch->braindecode)\n",
            "  Downloading nvidia_cublas_cu12-12.4.5.8-py3-none-manylinux2014_x86_64.whl.metadata (1.5 kB)\n",
            "Collecting nvidia-cufft-cu12==11.2.1.3 (from torch->braindecode)\n",
            "  Downloading nvidia_cufft_cu12-11.2.1.3-py3-none-manylinux2014_x86_64.whl.metadata (1.5 kB)\n",
            "Collecting nvidia-curand-cu12==10.3.5.147 (from torch->braindecode)\n",
            "  Downloading nvidia_curand_cu12-10.3.5.147-py3-none-manylinux2014_x86_64.whl.metadata (1.5 kB)\n",
            "Collecting nvidia-cusolver-cu12==11.6.1.9 (from torch->braindecode)\n",
            "  Downloading nvidia_cusolver_cu12-11.6.1.9-py3-none-manylinux2014_x86_64.whl.metadata (1.6 kB)\n",
            "Collecting nvidia-cusparse-cu12==12.3.1.170 (from torch->braindecode)\n",
            "  Downloading nvidia_cusparse_cu12-12.3.1.170-py3-none-manylinux2014_x86_64.whl.metadata (1.6 kB)\n",
            "Requirement already satisfied: nvidia-nccl-cu12==2.21.5 in /usr/local/lib/python3.11/dist-packages (from torch->braindecode) (2.21.5)\n",
            "Requirement already satisfied: nvidia-nvtx-cu12==12.4.127 in /usr/local/lib/python3.11/dist-packages (from torch->braindecode) (12.4.127)\n",
            "Collecting nvidia-nvjitlink-cu12==12.4.127 (from torch->braindecode)\n",
            "  Downloading nvidia_nvjitlink_cu12-12.4.127-py3-none-manylinux2014_x86_64.whl.metadata (1.5 kB)\n",
            "Requirement already satisfied: triton==3.1.0 in /usr/local/lib/python3.11/dist-packages (from torch->braindecode) (3.1.0)\n",
            "Requirement already satisfied: sympy==1.13.1 in /usr/local/lib/python3.11/dist-packages (from torch->braindecode) (1.13.1)\n",
            "Requirement already satisfied: mpmath<1.4,>=1.1.0 in /usr/local/lib/python3.11/dist-packages (from sympy==1.13.1->torch->braindecode) (1.3.0)\n",
            "Requirement already satisfied: six>=1.5 in /usr/local/lib/python3.11/dist-packages (from python-dateutil>=2.7->matplotlib<4.0.0,>=3.6.2->moabb) (1.17.0)\n",
            "Requirement already satisfied: MarkupSafe>=2.0 in /usr/local/lib/python3.11/dist-packages (from jinja2->mne<2.0.0,>=1.7.0->moabb) (3.0.2)\n",
            "Downloading moabb-1.1.1-py3-none-any.whl (269 kB)\n",
            "\u001b[2K   \u001b[90m━━━━━━━━━━━━━━━━━━━━━━━━━━━━━━━━━━━━━━━━\u001b[0m \u001b[32m269.3/269.3 kB\u001b[0m \u001b[31m16.9 MB/s\u001b[0m eta \u001b[36m0:00:00\u001b[0m\n",
            "\u001b[?25hDownloading braindecode-0.8.1-py3-none-any.whl (165 kB)\n",
            "\u001b[2K   \u001b[90m━━━━━━━━━━━━━━━━━━━━━━━━━━━━━━━━━━━━━━━━\u001b[0m \u001b[32m165.2/165.2 kB\u001b[0m \u001b[31m18.0 MB/s\u001b[0m eta \u001b[36m0:00:00\u001b[0m\n",
            "\u001b[?25hDownloading coverage-7.6.12-cp311-cp311-manylinux_2_5_x86_64.manylinux1_x86_64.manylinux_2_17_x86_64.manylinux2014_x86_64.whl (241 kB)\n",
            "\u001b[2K   \u001b[90m━━━━━━━━━━━━━━━━━━━━━━━━━━━━━━━━━━━━━━━━\u001b[0m \u001b[32m241.0/241.0 kB\u001b[0m \u001b[31m24.7 MB/s\u001b[0m eta \u001b[36m0:00:00\u001b[0m\n",
            "\u001b[?25hDownloading edfio-0.4.6-py3-none-any.whl (27 kB)\n",
            "Downloading EDFlib_Python-1.0.8-py3-none-any.whl (26 kB)\n",
            "Downloading memory_profiler-0.61.0-py3-none-any.whl (31 kB)\n",
            "Downloading mne-1.9.0-py3-none-any.whl (7.4 MB)\n",
            "\u001b[2K   \u001b[90m━━━━━━━━━━━━━━━━━━━━━━━━━━━━━━━━━━━━━━━━\u001b[0m \u001b[32m7.4/7.4 MB\u001b[0m \u001b[31m106.1 MB/s\u001b[0m eta \u001b[36m0:00:00\u001b[0m\n",
            "\u001b[?25hDownloading mne_bids-0.14-py2.py3-none-any.whl (1.2 MB)\n",
            "\u001b[2K   \u001b[90m━━━━━━━━━━━━━━━━━━━━━━━━━━━━━━━━━━━━━━━━\u001b[0m \u001b[32m1.2/1.2 MB\u001b[0m \u001b[31m63.5 MB/s\u001b[0m eta \u001b[36m0:00:00\u001b[0m\n",
            "\u001b[?25hDownloading pandas-1.5.3-cp311-cp311-manylinux_2_17_x86_64.manylinux2014_x86_64.whl (12.0 MB)\n",
            "\u001b[2K   \u001b[90m━━━━━━━━━━━━━━━━━━━━━━━━━━━━━━━━━━━━━━━━\u001b[0m \u001b[32m12.0/12.0 MB\u001b[0m \u001b[31m119.1 MB/s\u001b[0m eta \u001b[36m0:00:00\u001b[0m\n",
            "\u001b[?25hDownloading pyriemann-0.6-py2.py3-none-any.whl (111 kB)\n",
            "\u001b[2K   \u001b[90m━━━━━━━━━━━━━━━━━━━━━━━━━━━━━━━━━━━━━━━━\u001b[0m \u001b[32m111.7/111.7 kB\u001b[0m \u001b[31m12.3 MB/s\u001b[0m eta \u001b[36m0:00:00\u001b[0m\n",
            "\u001b[?25hDownloading pytest-7.4.4-py3-none-any.whl (325 kB)\n",
            "\u001b[2K   \u001b[90m━━━━━━━━━━━━━━━━━━━━━━━━━━━━━━━━━━━━━━━━\u001b[0m \u001b[32m325.3/325.3 kB\u001b[0m \u001b[31m30.5 MB/s\u001b[0m eta \u001b[36m0:00:00\u001b[0m\n",
            "\u001b[?25hDownloading seaborn-0.12.2-py3-none-any.whl (293 kB)\n",
            "\u001b[2K   \u001b[90m━━━━━━━━━━━━━━━━━━━━━━━━━━━━━━━━━━━━━━━━\u001b[0m \u001b[32m293.3/293.3 kB\u001b[0m \u001b[31m26.4 MB/s\u001b[0m eta \u001b[36m0:00:00\u001b[0m\n",
            "\u001b[?25hDownloading urllib3-1.26.20-py2.py3-none-any.whl (144 kB)\n",
            "\u001b[2K   \u001b[90m━━━━━━━━━━━━━━━━━━━━━━━━━━━━━━━━━━━━━━━━\u001b[0m \u001b[32m144.2/144.2 kB\u001b[0m \u001b[31m13.6 MB/s\u001b[0m eta \u001b[36m0:00:00\u001b[0m\n",
            "\u001b[?25hDownloading docstring_inheritance-2.2.2-py3-none-any.whl (24 kB)\n",
            "Downloading skorch-1.1.0-py3-none-any.whl (228 kB)\n",
            "\u001b[2K   \u001b[90m━━━━━━━━━━━━━━━━━━━━━━━━━━━━━━━━━━━━━━━━\u001b[0m \u001b[32m228.9/228.9 kB\u001b[0m \u001b[31m24.3 MB/s\u001b[0m eta \u001b[36m0:00:00\u001b[0m\n",
            "\u001b[?25hDownloading nvidia_cublas_cu12-12.4.5.8-py3-none-manylinux2014_x86_64.whl (363.4 MB)\n",
            "\u001b[2K   \u001b[90m━━━━━━━━━━━━━━━━━━━━━━━━━━━━━━━━━━━━━━━━\u001b[0m \u001b[32m363.4/363.4 MB\u001b[0m \u001b[31m4.1 MB/s\u001b[0m eta \u001b[36m0:00:00\u001b[0m\n",
            "\u001b[?25hDownloading nvidia_cuda_cupti_cu12-12.4.127-py3-none-manylinux2014_x86_64.whl (13.8 MB)\n",
            "\u001b[2K   \u001b[90m━━━━━━━━━━━━━━━━━━━━━━━━━━━━━━━━━━━━━━━━\u001b[0m \u001b[32m13.8/13.8 MB\u001b[0m \u001b[31m114.3 MB/s\u001b[0m eta \u001b[36m0:00:00\u001b[0m\n",
            "\u001b[?25hDownloading nvidia_cuda_nvrtc_cu12-12.4.127-py3-none-manylinux2014_x86_64.whl (24.6 MB)\n",
            "\u001b[2K   \u001b[90m━━━━━━━━━━━━━━━━━━━━━━━━━━━━━━━━━━━━━━━━\u001b[0m \u001b[32m24.6/24.6 MB\u001b[0m \u001b[31m88.3 MB/s\u001b[0m eta \u001b[36m0:00:00\u001b[0m\n",
            "\u001b[?25hDownloading nvidia_cuda_runtime_cu12-12.4.127-py3-none-manylinux2014_x86_64.whl (883 kB)\n",
            "\u001b[2K   \u001b[90m━━━━━━━━━━━━━━━━━━━━━━━━━━━━━━━━━━━━━━━━\u001b[0m \u001b[32m883.7/883.7 kB\u001b[0m \u001b[31m61.5 MB/s\u001b[0m eta \u001b[36m0:00:00\u001b[0m\n",
            "\u001b[?25hDownloading nvidia_cudnn_cu12-9.1.0.70-py3-none-manylinux2014_x86_64.whl (664.8 MB)\n",
            "\u001b[2K   \u001b[90m━━━━━━━━━━━━━━━━━━━━━━━━━━━━━━━━━━━━━━━━\u001b[0m \u001b[32m664.8/664.8 MB\u001b[0m \u001b[31m2.1 MB/s\u001b[0m eta \u001b[36m0:00:00\u001b[0m\n",
            "\u001b[?25hDownloading nvidia_cufft_cu12-11.2.1.3-py3-none-manylinux2014_x86_64.whl (211.5 MB)\n",
            "\u001b[2K   \u001b[90m━━━━━━━━━━━━━━━━━━━━━━━━━━━━━━━━━━━━━━━━\u001b[0m \u001b[32m211.5/211.5 MB\u001b[0m \u001b[31m5.5 MB/s\u001b[0m eta \u001b[36m0:00:00\u001b[0m\n",
            "\u001b[?25hDownloading nvidia_curand_cu12-10.3.5.147-py3-none-manylinux2014_x86_64.whl (56.3 MB)\n",
            "\u001b[2K   \u001b[90m━━━━━━━━━━━━━━━━━━━━━━━━━━━━━━━━━━━━━━━━\u001b[0m \u001b[32m56.3/56.3 MB\u001b[0m \u001b[31m14.6 MB/s\u001b[0m eta \u001b[36m0:00:00\u001b[0m\n",
            "\u001b[?25hDownloading nvidia_cusolver_cu12-11.6.1.9-py3-none-manylinux2014_x86_64.whl (127.9 MB)\n",
            "\u001b[2K   \u001b[90m━━━━━━━━━━━━━━━━━━━━━━━━━━━━━━━━━━━━━━━━\u001b[0m \u001b[32m127.9/127.9 MB\u001b[0m \u001b[31m7.6 MB/s\u001b[0m eta \u001b[36m0:00:00\u001b[0m\n",
            "\u001b[?25hDownloading nvidia_cusparse_cu12-12.3.1.170-py3-none-manylinux2014_x86_64.whl (207.5 MB)\n",
            "\u001b[2K   \u001b[90m━━━━━━━━━━━━━━━━━━━━━━━━━━━━━━━━━━━━━━━━\u001b[0m \u001b[32m207.5/207.5 MB\u001b[0m \u001b[31m5.9 MB/s\u001b[0m eta \u001b[36m0:00:00\u001b[0m\n",
            "\u001b[?25hDownloading nvidia_nvjitlink_cu12-12.4.127-py3-none-manylinux2014_x86_64.whl (21.1 MB)\n",
            "\u001b[2K   \u001b[90m━━━━━━━━━━━━━━━━━━━━━━━━━━━━━━━━━━━━━━━━\u001b[0m \u001b[32m21.1/21.1 MB\u001b[0m \u001b[31m88.5 MB/s\u001b[0m eta \u001b[36m0:00:00\u001b[0m\n",
            "\u001b[?25hDownloading torchinfo-1.8.0-py3-none-any.whl (23 kB)\n",
            "Installing collected packages: urllib3, torchinfo, pytest, nvidia-nvjitlink-cu12, nvidia-curand-cu12, nvidia-cufft-cu12, nvidia-cuda-runtime-cu12, nvidia-cuda-nvrtc-cu12, nvidia-cuda-cupti-cu12, nvidia-cublas-cu12, memory-profiler, edflib-python, edfio, docstring-inheritance, coverage, pandas, nvidia-cusparse-cu12, nvidia-cudnn-cu12, skorch, seaborn, pyriemann, nvidia-cusolver-cu12, mne, mne-bids, braindecode, moabb\n",
            "  Attempting uninstall: urllib3\n",
            "    Found existing installation: urllib3 2.3.0\n",
            "    Uninstalling urllib3-2.3.0:\n",
            "      Successfully uninstalled urllib3-2.3.0\n",
            "  Attempting uninstall: pytest\n",
            "    Found existing installation: pytest 8.3.4\n",
            "    Uninstalling pytest-8.3.4:\n",
            "      Successfully uninstalled pytest-8.3.4\n",
            "  Attempting uninstall: nvidia-nvjitlink-cu12\n",
            "    Found existing installation: nvidia-nvjitlink-cu12 12.5.82\n",
            "    Uninstalling nvidia-nvjitlink-cu12-12.5.82:\n",
            "      Successfully uninstalled nvidia-nvjitlink-cu12-12.5.82\n",
            "  Attempting uninstall: nvidia-curand-cu12\n",
            "    Found existing installation: nvidia-curand-cu12 10.3.6.82\n",
            "    Uninstalling nvidia-curand-cu12-10.3.6.82:\n",
            "      Successfully uninstalled nvidia-curand-cu12-10.3.6.82\n",
            "  Attempting uninstall: nvidia-cufft-cu12\n",
            "    Found existing installation: nvidia-cufft-cu12 11.2.3.61\n",
            "    Uninstalling nvidia-cufft-cu12-11.2.3.61:\n",
            "      Successfully uninstalled nvidia-cufft-cu12-11.2.3.61\n",
            "  Attempting uninstall: nvidia-cuda-runtime-cu12\n",
            "    Found existing installation: nvidia-cuda-runtime-cu12 12.5.82\n",
            "    Uninstalling nvidia-cuda-runtime-cu12-12.5.82:\n",
            "      Successfully uninstalled nvidia-cuda-runtime-cu12-12.5.82\n",
            "  Attempting uninstall: nvidia-cuda-nvrtc-cu12\n",
            "    Found existing installation: nvidia-cuda-nvrtc-cu12 12.5.82\n",
            "    Uninstalling nvidia-cuda-nvrtc-cu12-12.5.82:\n",
            "      Successfully uninstalled nvidia-cuda-nvrtc-cu12-12.5.82\n",
            "  Attempting uninstall: nvidia-cuda-cupti-cu12\n",
            "    Found existing installation: nvidia-cuda-cupti-cu12 12.5.82\n",
            "    Uninstalling nvidia-cuda-cupti-cu12-12.5.82:\n",
            "      Successfully uninstalled nvidia-cuda-cupti-cu12-12.5.82\n",
            "  Attempting uninstall: nvidia-cublas-cu12\n",
            "    Found existing installation: nvidia-cublas-cu12 12.5.3.2\n",
            "    Uninstalling nvidia-cublas-cu12-12.5.3.2:\n",
            "      Successfully uninstalled nvidia-cublas-cu12-12.5.3.2\n",
            "  Attempting uninstall: pandas\n",
            "    Found existing installation: pandas 2.2.2\n",
            "    Uninstalling pandas-2.2.2:\n",
            "      Successfully uninstalled pandas-2.2.2\n",
            "  Attempting uninstall: nvidia-cusparse-cu12\n",
            "    Found existing installation: nvidia-cusparse-cu12 12.5.1.3\n",
            "    Uninstalling nvidia-cusparse-cu12-12.5.1.3:\n",
            "      Successfully uninstalled nvidia-cusparse-cu12-12.5.1.3\n",
            "  Attempting uninstall: nvidia-cudnn-cu12\n",
            "    Found existing installation: nvidia-cudnn-cu12 9.3.0.75\n",
            "    Uninstalling nvidia-cudnn-cu12-9.3.0.75:\n",
            "      Successfully uninstalled nvidia-cudnn-cu12-9.3.0.75\n",
            "  Attempting uninstall: seaborn\n",
            "    Found existing installation: seaborn 0.13.2\n",
            "    Uninstalling seaborn-0.13.2:\n",
            "      Successfully uninstalled seaborn-0.13.2\n",
            "  Attempting uninstall: nvidia-cusolver-cu12\n",
            "    Found existing installation: nvidia-cusolver-cu12 11.6.3.83\n",
            "    Uninstalling nvidia-cusolver-cu12-11.6.3.83:\n",
            "      Successfully uninstalled nvidia-cusolver-cu12-11.6.3.83\n",
            "\u001b[31mERROR: pip's dependency resolver does not currently take into account all the packages that are installed. This behaviour is the source of the following dependency conflicts.\n",
            "google-colab 1.0.0 requires pandas==2.2.2, but you have pandas 1.5.3 which is incompatible.\n",
            "mizani 0.13.1 requires pandas>=2.2.0, but you have pandas 1.5.3 which is incompatible.\n",
            "xarray 2025.1.2 requires pandas>=2.1, but you have pandas 1.5.3 which is incompatible.\n",
            "dask-expr 1.1.19 requires pandas>=2, but you have pandas 1.5.3 which is incompatible.\n",
            "plotnine 0.14.5 requires pandas>=2.2.0, but you have pandas 1.5.3 which is incompatible.\n",
            "dask-cudf-cu12 24.12.0 requires pandas<2.2.4dev0,>=2.0, but you have pandas 1.5.3 which is incompatible.\n",
            "cudf-cu12 24.12.0 requires pandas<2.2.4dev0,>=2.0, but you have pandas 1.5.3 which is incompatible.\u001b[0m\u001b[31m\n",
            "\u001b[0mSuccessfully installed braindecode-0.8.1 coverage-7.6.12 docstring-inheritance-2.2.2 edfio-0.4.6 edflib-python-1.0.8 memory-profiler-0.61.0 mne-1.9.0 mne-bids-0.14 moabb-1.1.1 nvidia-cublas-cu12-12.4.5.8 nvidia-cuda-cupti-cu12-12.4.127 nvidia-cuda-nvrtc-cu12-12.4.127 nvidia-cuda-runtime-cu12-12.4.127 nvidia-cudnn-cu12-9.1.0.70 nvidia-cufft-cu12-11.2.1.3 nvidia-curand-cu12-10.3.5.147 nvidia-cusolver-cu12-11.6.1.9 nvidia-cusparse-cu12-12.3.1.170 nvidia-nvjitlink-cu12-12.4.127 pandas-1.5.3 pyriemann-0.6 pytest-7.4.4 seaborn-0.12.2 skorch-1.1.0 torchinfo-1.8.0 urllib3-1.26.20\n"
          ]
        }
      ],
      "source": [
        "import sys\n",
        "import importlib\n",
        "import subprocess\n",
        "\n",
        "def install_if_colab():\n",
        "    if \"google.colab\" in sys.modules:\n",
        "        print(\"Running in Google Colab. Checking required libraries...\")\n",
        "\n",
        "        packages = [\"moabb\", \"braindecode\"]  # Add required libraries\n",
        "        missing_packages = [pkg for pkg in packages if importlib.util.find_spec(pkg) is None]\n",
        "\n",
        "        if missing_packages:\n",
        "            print(f\"Installing missing libraries: {', '.join(missing_packages)}\")\n",
        "            !pip install {\" \".join(missing_packages)}\n",
        "        else:\n",
        "            print(\"All required libraries are already installed.\")\n",
        "    else:\n",
        "        print(\"Not running in Google Colab. No installation needed.\")\n",
        "\n",
        "install_if_colab()\n"
      ]
    },
    {
      "cell_type": "code",
      "execution_count": 2,
      "metadata": {
        "id": "RuGBArX_2Zhe"
      },
      "outputs": [],
      "source": [
        "# import numpy as np\n",
        "# from braindecode.datasets import MOABBDataset\n",
        "\n",
        "# subject_id = [1,2,3,4]\n",
        "# dataset = MOABBDataset(dataset_name=\"BNCI2014_001\", subject_ids=[1,2,3,4,5,6,7,8,9])\n",
        "\n",
        "\n",
        "\n",
        "# from braindecode.preprocessing import (\n",
        "#     exponential_moving_standardize,\n",
        "#     preprocess,\n",
        "#     Preprocessor,\n",
        "# )\n",
        "\n",
        "# low_cut_hz = 4.0  # low cut frequency for filtering\n",
        "# high_cut_hz = 38.0  # high cut frequency for filtering\n",
        "# # Parameters for exponential moving standardization\n",
        "# factor_new = 1e-3\n",
        "# init_block_size = 1000\n",
        "\n",
        "# transforms = [\n",
        "#     Preprocessor(\"pick_types\", eeg=True, meg=False, stim=False),  # Keep EEG sensors\n",
        "#     Preprocessor(\n",
        "#         lambda data, factor: np.multiply(data, factor),  # Convert from V to uV\n",
        "#         factor=1e6,\n",
        "#     ),\n",
        "#     Preprocessor(\"filter\", l_freq=low_cut_hz, h_freq=high_cut_hz),  # Bandpass filter\n",
        "#     Preprocessor(\n",
        "#         exponential_moving_standardize,  # Exponential moving standardization\n",
        "#         factor_new=factor_new,\n",
        "#         init_block_size=init_block_size,\n",
        "#     ),\n",
        "# ]\n",
        "\n",
        "# # Transform the data\n",
        "# preprocess(dataset, transforms, n_jobs=-1)\n"
      ]
    },
    {
      "cell_type": "code",
      "execution_count": 3,
      "metadata": {
        "id": "ZQTd3g-i2Zhf"
      },
      "outputs": [],
      "source": [
        "# from braindecode.preprocessing import create_windows_from_events\n",
        "\n",
        "# trial_start_offset_seconds = -0.5\n",
        "# # Extract sampling frequency, check that they are same in all datasets\n",
        "# sfreq = dataset.datasets[0].raw.info[\"sfreq\"]\n",
        "# assert all([ds.raw.info[\"sfreq\"] == sfreq for ds in dataset.datasets])\n",
        "# # Calculate the trial start offset in samples.\n",
        "# trial_start_offset_samples = int(trial_start_offset_seconds * sfreq)\n",
        "\n",
        "# # Create windows using braindecode function for this. It needs parameters to define how\n",
        "# # trials should be used.\n",
        "# windows_dataset = create_windows_from_events(\n",
        "#     dataset,\n",
        "#     trial_start_offset_samples=trial_start_offset_samples,\n",
        "#     trial_stop_offset_samples=0,\n",
        "#     preload=True,\n",
        "# )"
      ]
    },
    {
      "cell_type": "code",
      "source": [
        "from google.colab import drive\n",
        "drive.mount('/content/drive')\n",
        "path = \"/content/drive/MyDrive/\""
      ],
      "metadata": {
        "colab": {
          "base_uri": "https://localhost:8080/"
        },
        "id": "f_sHCnT22v9k",
        "outputId": "109e75b7-1e8b-473e-8649-9238df5aca1c"
      },
      "execution_count": 11,
      "outputs": [
        {
          "output_type": "stream",
          "name": "stdout",
          "text": [
            "Drive already mounted at /content/drive; to attempt to forcibly remount, call drive.mount(\"/content/drive\", force_remount=True).\n"
          ]
        }
      ]
    },
    {
      "cell_type": "code",
      "source": [
        "import pickle\n",
        "with open(path+'EEG_data/test_set.pkl', 'rb') as f:\n",
        "    test_set = pickle.load(f)\n",
        "\n",
        "import pickle\n",
        "with open(path+'EEG_data/train_set.pkl', 'rb') as f:\n",
        "    train_set = pickle.load(f)"
      ],
      "metadata": {
        "id": "1osynJth26to"
      },
      "execution_count": 12,
      "outputs": []
    },
    {
      "cell_type": "code",
      "execution_count": 13,
      "metadata": {
        "colab": {
          "base_uri": "https://localhost:8080/"
        },
        "id": "Xba9vjnO2Zhg",
        "outputId": "6116537b-7782-4775-f590-f2ae0db487de"
      },
      "outputs": [
        {
          "output_type": "stream",
          "name": "stdout",
          "text": [
            "n_classes:  4\n",
            "n_channels: 22\n",
            "input_window_samples size: 1125\n"
          ]
        },
        {
          "output_type": "stream",
          "name": "stderr",
          "text": [
            "/usr/local/lib/python3.11/dist-packages/braindecode/util.py:51: UserWarning: torch.backends.cudnn.benchmark was set to True which may results in lack of reproducibility. In some cases to ensure reproducibility you may need to set torch.backends.cudnn.benchmark to False.\n",
            "  warn(\n"
          ]
        }
      ],
      "source": [
        "import torch\n",
        "#from shallow_fbcsp import ShallowFBCSPNet\n",
        "from braindecode.util import set_random_seeds\n",
        "\n",
        "\n",
        "cuda = torch.cuda.is_available()  # check if GPU is available, if True chooses to use it\n",
        "device = \"cuda\" if cuda else \"cpu\"\n",
        "if cuda:\n",
        "    torch.backends.cudnn.benchmark = True\n",
        "seed = 2022111222\n",
        "set_random_seeds(seed=seed, cuda=cuda)\n",
        "\n",
        "n_classes = 4\n",
        "classes = list(range(n_classes))\n",
        "# Extract number of chans and time steps from dataset\n",
        "n_channels = 22\n",
        "input_window_samples = 1125\n",
        "\n",
        "print(\"n_classes: \", n_classes)\n",
        "print(\"n_channels:\", n_channels)\n",
        "print(\"input_window_samples size:\", input_window_samples)"
      ]
    },
    {
      "cell_type": "code",
      "execution_count": 32,
      "metadata": {
        "colab": {
          "base_uri": "https://localhost:8080/"
        },
        "id": "b3wPzn3X2Zhh",
        "outputId": "aac6566b-b773-45ae-aa59-fd9873b4a81d"
      },
      "outputs": [
        {
          "output_type": "stream",
          "name": "stdout",
          "text": [
            "ShallowAttentionNet(\n",
            "  (temporal): Conv2d(1, 10, kernel_size=(1, 25), stride=(1, 1))\n",
            "  (spatial_attention): SpatialAttention(\n",
            "    (query): Conv1d(22, 22, kernel_size=(1,), stride=(1,))\n",
            "    (key): Conv1d(22, 22, kernel_size=(1,), stride=(1,))\n",
            "    (value): Conv1d(22, 22, kernel_size=(1,), stride=(1,))\n",
            "  )\n",
            "  (pool): AvgPool2d(kernel_size=(1, 100), stride=(1, 100), padding=0)\n",
            "  (dropout): Dropout(p=0.5, inplace=False)\n",
            "  (fc): LazyLinear(in_features=0, out_features=4, bias=True)\n",
            ")\n"
          ]
        }
      ],
      "source": [
        "#from models_fbscp import CollapsedShallowNet\n",
        "# The ShallowFBCSPNet is a `nn.Sequential` model\n",
        "import importlib\n",
        "import Attention_models\n",
        "importlib.reload(Attention_models)\n",
        "from Attention_models import ShallowAttentionNet\n",
        "model = ShallowAttentionNet(\n",
        "    n_chans=22,\n",
        "    n_outputs=n_classes,\n",
        "    n_times=input_window_samples,\n",
        ")\n",
        "\n",
        "# Display torchinfo table describing the model\n",
        "print(model)\n",
        "\n",
        "# Send model to GPU\n",
        "if cuda:\n",
        "    model.cuda()\n",
        "\n"
      ]
    },
    {
      "cell_type": "code",
      "execution_count": 32,
      "metadata": {
        "id": "mK-C-UW62Zhi"
      },
      "outputs": [],
      "source": [
        "\n"
      ]
    },
    {
      "cell_type": "code",
      "execution_count": 33,
      "metadata": {
        "id": "n7Eii9TH2Zhi"
      },
      "outputs": [],
      "source": [
        "# splitted = windows_dataset.split(\"session\")\n",
        "# train_set = splitted['0train']  # Session train\n",
        "# test_set = splitted['1test']  # Session evaluation\n",
        "\n",
        "from torch.nn import Module\n",
        "from torch.optim.lr_scheduler import LRScheduler\n",
        "from torch.utils.data import DataLoader\n",
        "\n",
        "#lr = 1e-4\n",
        "#weight_decay = 1e-4\n",
        "#batch_size = 64\n",
        "#n_epochs = 200\n"
      ]
    },
    {
      "cell_type": "code",
      "execution_count": 34,
      "metadata": {
        "id": "inbw4Tud2Zhj"
      },
      "outputs": [],
      "source": [
        "#train_loader = DataLoader(train_set, batch_size=batch_size, shuffle=True)\n",
        "#progress_bar = tqdm(enumerate(train_loader), total=len(train_loader))\n",
        "\n",
        "\n",
        "#from collections import defaultdict\n",
        "\n",
        "#counting_dict = defaultdict(int)  # Initialize class counter\n",
        "\n",
        "#for batch_idx, (X, y, _) in progress_bar:\n",
        "#   X, y = X.to(device), y.to(device)  # Move to device if needed\n",
        "\n",
        "    # Count occurrences of each class in y\n",
        "#    for value in y:\n",
        "#        counting_dict[int(value.item())] += 1  # Convert tensor to int and update count\n",
        "\n",
        "# Print class frequencies\n",
        "#print(\"Class counts:\", dict(counting_dict))\n"
      ]
    },
    {
      "cell_type": "code",
      "execution_count": 35,
      "metadata": {
        "id": "PlgtbF-r2Zhj"
      },
      "outputs": [],
      "source": [
        "\n",
        "from tqdm import tqdm\n",
        "# Define a method for training one epoch\n",
        "\n",
        "\n",
        "def train_one_epoch(\n",
        "        dataloader: DataLoader, model: Module, loss_fn, optimizer,\n",
        "        scheduler: LRScheduler, epoch: int, device, print_batch_stats=True\n",
        "):\n",
        "    model.train()  # Set the model to training mode\n",
        "    train_loss, correct = 0, 0\n",
        "\n",
        "    progress_bar = tqdm(enumerate(dataloader), total=len(dataloader),\n",
        "                        disable=not print_batch_stats)\n",
        "\n",
        "    for batch_idx, (X, y, _) in progress_bar:\n",
        "        X, y = X.to(device), y.to(device)\n",
        "        #print(X.shape)\n",
        "        optimizer.zero_grad()\n",
        "        pred = model(X)\n",
        "        loss = loss_fn(pred, y)\n",
        "        loss.backward()\n",
        "        optimizer.step()  # update the model weights\n",
        "        optimizer.zero_grad()\n",
        "\n",
        "        train_loss += loss.item()\n",
        "        correct += (pred.argmax(1) == y).sum().item()\n",
        "\n",
        "        #if print_batch_stats:\n",
        "        #    progress_bar.set_description(\n",
        "        #        f\"Epoch {epoch}/{n_epochs}, \"\n",
        "        #        f\"Batch {batch_idx + 1}/{len(dataloader)}, \"\n",
        "        #        f\"Loss: {loss.item():.6f}\"\n",
        "        #    )\n",
        "\n",
        "    # Update the learning rate\n",
        "    scheduler.step()\n",
        "\n",
        "    correct /= len(dataloader.dataset)\n",
        "    return train_loss / len(dataloader), correct\n"
      ]
    },
    {
      "cell_type": "code",
      "execution_count": 36,
      "metadata": {
        "id": "M1S-1vTK2Zhk"
      },
      "outputs": [],
      "source": [
        "from collections import defaultdict\n",
        "from tqdm import tqdm\n",
        "import torch\n",
        "from torch.utils.data import DataLoader\n",
        "from sklearn.metrics import confusion_matrix\n",
        "import numpy as np\n",
        "\n",
        "@torch.no_grad()\n",
        "def test_model(dataloader: DataLoader, model: torch.nn.Module, loss_fn, print_batch_stats=True):\n",
        "    device = next(model.parameters()).device  # Get model device\n",
        "    size = len(dataloader.dataset)\n",
        "    n_batches = len(dataloader)\n",
        "    model.eval()  # Switch to evaluation mode\n",
        "    test_loss, correct = 0, 0\n",
        "\n",
        "    # Initialize dictionaries for per-class tracking\n",
        "    class_correct = defaultdict(int)\n",
        "    class_total = defaultdict(int)\n",
        "\n",
        "    # Lists to store true and predicted labels for confusion matrix\n",
        "    all_preds = []\n",
        "    all_targets = []\n",
        "\n",
        "    if print_batch_stats:\n",
        "        progress_bar = tqdm(enumerate(dataloader), total=len(dataloader))\n",
        "    else:\n",
        "        progress_bar = enumerate(dataloader)\n",
        "\n",
        "    for batch_idx, (X, y, _) in progress_bar:\n",
        "        X, y = X.to(device), y.to(device)\n",
        "        pred = model(X)\n",
        "        batch_loss = loss_fn(pred, y).item()\n",
        "\n",
        "        test_loss += batch_loss\n",
        "        correct += (pred.argmax(1) == y).sum().item()\n",
        "\n",
        "        # Store predictions and true labels for confusion matrix\n",
        "        all_preds.append(pred.argmax(1).cpu())\n",
        "        all_targets.append(y.cpu())\n",
        "\n",
        "        # Compute per-class accuracy\n",
        "        preds_labels = pred.argmax(1)\n",
        "        for label, pred_label in zip(y, preds_labels):\n",
        "            class_total[label.item()] += 1\n",
        "            class_correct[label.item()] += (label == pred_label).item()\n",
        "\n",
        "        if print_batch_stats:\n",
        "            progress_bar.set_description(\n",
        "                f\"Batch {batch_idx + 1}/{len(dataloader)}, Loss: {batch_loss:.6f}\"\n",
        "            )\n",
        "\n",
        "    # Convert lists to tensors\n",
        "    all_preds = torch.cat(all_preds)\n",
        "    all_targets = torch.cat(all_targets)\n",
        "\n",
        "    # Compute per-class accuracy\n",
        "    class_accuracies = {\n",
        "        cls: (class_correct[cls] / class_total[cls]) * 100 if class_total[cls] > 0 else 0\n",
        "        for cls in class_total\n",
        "    }\n",
        "\n",
        "    # Compute overall accuracy\n",
        "    test_loss /= n_batches\n",
        "    overall_accuracy = (correct / size) * 100\n",
        "\n",
        "    # Print per-class accuracy\n",
        "    print(\"\\nClass-wise Accuracy:\")\n",
        "    for cls, acc in class_accuracies.items():\n",
        "        print(f\"  Class {cls}: {acc:.2f}%\")\n",
        "\n",
        "    print(f\"Test Accuracy: {overall_accuracy:.1f}%, Test Loss: {test_loss:.6f}\\n\")\n",
        "\n",
        "    return test_loss, overall_accuracy, class_accuracies, all_preds, all_targets\n"
      ]
    },
    {
      "cell_type": "code",
      "execution_count": 37,
      "metadata": {
        "id": "sv0OjW5u2Zhk"
      },
      "outputs": [],
      "source": [
        "from braindecode.models import ShallowFBCSPNet"
      ]
    },
    {
      "cell_type": "code",
      "execution_count": 38,
      "metadata": {
        "colab": {
          "base_uri": "https://localhost:8080/"
        },
        "id": "QU1ODkiG2Zhk",
        "outputId": "7d46c29d-6741-4d02-8636-777b14f123d0"
      },
      "outputs": [
        {
          "output_type": "stream",
          "name": "stdout",
          "text": [
            "ShallowAttentionNet(\n",
            "  (temporal): Conv2d(1, 10, kernel_size=(1, 25), stride=(1, 1))\n",
            "  (spatial_attention): SpatialAttention(\n",
            "    (query): Conv1d(22, 22, kernel_size=(1,), stride=(1,))\n",
            "    (key): Conv1d(22, 22, kernel_size=(1,), stride=(1,))\n",
            "    (value): Conv1d(22, 22, kernel_size=(1,), stride=(1,))\n",
            "  )\n",
            "  (pool): AvgPool2d(kernel_size=(1, 100), stride=(1, 100), padding=0)\n",
            "  (dropout): Dropout(p=0.5, inplace=False)\n",
            "  (fc): LazyLinear(in_features=0, out_features=4, bias=True)\n",
            ")\n"
          ]
        }
      ],
      "source": [
        "print(model)"
      ]
    },
    {
      "cell_type": "code",
      "execution_count": 39,
      "metadata": {
        "colab": {
          "base_uri": "https://localhost:8080/"
        },
        "id": "Vn58-cmZ2Zhl",
        "outputId": "4ccadad4-9683-4b38-c752-4738c2cf329c"
      },
      "outputs": [
        {
          "output_type": "stream",
          "name": "stderr",
          "text": [
            "\u001b[34m\u001b[1mwandb\u001b[0m: \u001b[33mWARNING\u001b[0m Calling wandb.login() after wandb.init() has no effect.\n"
          ]
        },
        {
          "output_type": "execute_result",
          "data": {
            "text/plain": [
              "True"
            ]
          },
          "metadata": {},
          "execution_count": 39
        }
      ],
      "source": [
        "import wandb\n",
        "wandb.login()"
      ]
    },
    {
      "cell_type": "code",
      "execution_count": 40,
      "metadata": {
        "colab": {
          "base_uri": "https://localhost:8080/",
          "height": 1000
        },
        "id": "uDUBctmi2Zhl",
        "outputId": "555a243e-8016-4fc7-86ca-5b38de918e5c"
      },
      "outputs": [
        {
          "output_type": "stream",
          "name": "stdout",
          "text": [
            "Epoch 1/100: "
          ]
        },
        {
          "output_type": "stream",
          "name": "stderr",
          "text": [
            "100%|██████████| 162/162 [00:14<00:00, 11.44it/s]\n",
            "Batch 162/162, Loss: 1.315295: 100%|██████████| 162/162 [00:06<00:00, 24.55it/s]\n"
          ]
        },
        {
          "output_type": "stream",
          "name": "stdout",
          "text": [
            "\n",
            "Class-wise Accuracy:\n",
            "  Class 3: 52.47%\n",
            "  Class 0: 49.07%\n",
            "  Class 2: 0.00%\n",
            "  Class 1: 31.17%\n",
            "Test Accuracy: 33.2%, Test Loss: 1.347447\n",
            "\n",
            "\n",
            "Class-wise Accuracy:\n",
            "  Class 3: 52.47%\n",
            "  Class 0: 49.07%\n",
            "  Class 2: 0.00%\n",
            "  Class 1: 31.17%\n",
            "Train Accuracy: 28.51%, Average Train Loss: 1.383911, Test Accuracy: 33.18%, Average Test Loss: 1.347447\n",
            "\n",
            "Epoch 2/100: "
          ]
        },
        {
          "output_type": "stream",
          "name": "stderr",
          "text": [
            "100%|██████████| 162/162 [00:14<00:00, 11.05it/s]\n",
            "Batch 162/162, Loss: 1.265741: 100%|██████████| 162/162 [00:06<00:00, 24.39it/s]\n"
          ]
        },
        {
          "output_type": "stream",
          "name": "stdout",
          "text": [
            "\n",
            "Class-wise Accuracy:\n",
            "  Class 3: 46.30%\n",
            "  Class 0: 23.30%\n",
            "  Class 2: 54.17%\n",
            "  Class 1: 45.52%\n",
            "Test Accuracy: 42.3%, Test Loss: 1.303365\n",
            "\n",
            "\n",
            "Class-wise Accuracy:\n",
            "  Class 3: 46.30%\n",
            "  Class 0: 23.30%\n",
            "  Class 2: 54.17%\n",
            "  Class 1: 45.52%\n",
            "Train Accuracy: 33.53%, Average Train Loss: 1.339264, Test Accuracy: 42.32%, Average Test Loss: 1.303365\n",
            "\n",
            "Epoch 3/100: "
          ]
        },
        {
          "output_type": "stream",
          "name": "stderr",
          "text": [
            "100%|██████████| 162/162 [00:14<00:00, 11.00it/s]\n",
            "Batch 162/162, Loss: 1.187571: 100%|██████████| 162/162 [00:06<00:00, 24.04it/s]\n"
          ]
        },
        {
          "output_type": "stream",
          "name": "stdout",
          "text": [
            "\n",
            "Class-wise Accuracy:\n",
            "  Class 3: 46.14%\n",
            "  Class 0: 5.86%\n",
            "  Class 2: 56.17%\n",
            "  Class 1: 62.65%\n",
            "Test Accuracy: 42.7%, Test Loss: 1.267723\n",
            "\n",
            "\n",
            "Class-wise Accuracy:\n",
            "  Class 3: 46.14%\n",
            "  Class 0: 5.86%\n",
            "  Class 2: 56.17%\n",
            "  Class 1: 62.65%\n",
            "Train Accuracy: 39.70%, Average Train Loss: 1.306854, Test Accuracy: 42.71%, Average Test Loss: 1.267723\n",
            "\n",
            "Epoch 4/100: "
          ]
        },
        {
          "output_type": "stream",
          "name": "stderr",
          "text": [
            "100%|██████████| 162/162 [00:15<00:00, 10.60it/s]\n",
            "Batch 162/162, Loss: 1.092984: 100%|██████████| 162/162 [00:06<00:00, 23.90it/s]\n"
          ]
        },
        {
          "output_type": "stream",
          "name": "stdout",
          "text": [
            "\n",
            "Class-wise Accuracy:\n",
            "  Class 3: 49.69%\n",
            "  Class 0: 52.47%\n",
            "  Class 2: 27.47%\n",
            "  Class 1: 44.60%\n",
            "Test Accuracy: 43.6%, Test Loss: 1.240112\n",
            "\n",
            "\n",
            "Class-wise Accuracy:\n",
            "  Class 3: 49.69%\n",
            "  Class 0: 52.47%\n",
            "  Class 2: 27.47%\n",
            "  Class 1: 44.60%\n",
            "Train Accuracy: 42.13%, Average Train Loss: 1.274911, Test Accuracy: 43.56%, Average Test Loss: 1.240112\n",
            "\n",
            "Epoch 5/100: "
          ]
        },
        {
          "output_type": "stream",
          "name": "stderr",
          "text": [
            "100%|██████████| 162/162 [00:15<00:00, 10.76it/s]\n",
            "Batch 162/162, Loss: 1.105425: 100%|██████████| 162/162 [00:06<00:00, 24.23it/s]\n"
          ]
        },
        {
          "output_type": "stream",
          "name": "stdout",
          "text": [
            "\n",
            "Class-wise Accuracy:\n",
            "  Class 3: 31.64%\n",
            "  Class 0: 46.30%\n",
            "  Class 2: 68.67%\n",
            "  Class 1: 28.40%\n",
            "Test Accuracy: 43.8%, Test Loss: 1.228963\n",
            "\n",
            "\n",
            "Class-wise Accuracy:\n",
            "  Class 3: 31.64%\n",
            "  Class 0: 46.30%\n",
            "  Class 2: 68.67%\n",
            "  Class 1: 28.40%\n",
            "Train Accuracy: 43.17%, Average Train Loss: 1.242575, Test Accuracy: 43.75%, Average Test Loss: 1.228963\n",
            "\n",
            "Epoch 6/100: "
          ]
        },
        {
          "output_type": "stream",
          "name": "stderr",
          "text": [
            "100%|██████████| 162/162 [00:14<00:00, 10.92it/s]\n",
            "Batch 162/162, Loss: 1.201058: 100%|██████████| 162/162 [00:06<00:00, 23.97it/s]\n"
          ]
        },
        {
          "output_type": "stream",
          "name": "stdout",
          "text": [
            "\n",
            "Class-wise Accuracy:\n",
            "  Class 3: 44.60%\n",
            "  Class 0: 50.46%\n",
            "  Class 2: 60.19%\n",
            "  Class 1: 38.73%\n",
            "Test Accuracy: 48.5%, Test Loss: 1.180270\n",
            "\n",
            "\n",
            "Class-wise Accuracy:\n",
            "  Class 3: 44.60%\n",
            "  Class 0: 50.46%\n",
            "  Class 2: 60.19%\n",
            "  Class 1: 38.73%\n",
            "Train Accuracy: 44.02%, Average Train Loss: 1.213179, Test Accuracy: 48.50%, Average Test Loss: 1.180270\n",
            "\n",
            "Epoch 7/100: "
          ]
        },
        {
          "output_type": "stream",
          "name": "stderr",
          "text": [
            "100%|██████████| 162/162 [00:14<00:00, 10.95it/s]\n",
            "Batch 162/162, Loss: 1.008755: 100%|██████████| 162/162 [00:06<00:00, 24.23it/s]\n"
          ]
        },
        {
          "output_type": "stream",
          "name": "stdout",
          "text": [
            "\n",
            "Class-wise Accuracy:\n",
            "  Class 3: 51.54%\n",
            "  Class 0: 19.29%\n",
            "  Class 2: 47.84%\n",
            "  Class 1: 75.00%\n",
            "Test Accuracy: 48.4%, Test Loss: 1.155671\n",
            "\n",
            "\n",
            "Class-wise Accuracy:\n",
            "  Class 3: 51.54%\n",
            "  Class 0: 19.29%\n",
            "  Class 2: 47.84%\n",
            "  Class 1: 75.00%\n",
            "Train Accuracy: 45.37%, Average Train Loss: 1.204445, Test Accuracy: 48.42%, Average Test Loss: 1.155671\n",
            "\n",
            "Epoch 8/100: "
          ]
        },
        {
          "output_type": "stream",
          "name": "stderr",
          "text": [
            "100%|██████████| 162/162 [00:14<00:00, 10.81it/s]\n",
            "Batch 162/162, Loss: 0.993630: 100%|██████████| 162/162 [00:06<00:00, 23.64it/s]\n"
          ]
        },
        {
          "output_type": "stream",
          "name": "stdout",
          "text": [
            "\n",
            "Class-wise Accuracy:\n",
            "  Class 3: 55.09%\n",
            "  Class 0: 22.84%\n",
            "  Class 2: 74.54%\n",
            "  Class 1: 49.69%\n",
            "Test Accuracy: 50.5%, Test Loss: 1.129418\n",
            "\n",
            "\n",
            "Class-wise Accuracy:\n",
            "  Class 3: 55.09%\n",
            "  Class 0: 22.84%\n",
            "  Class 2: 74.54%\n",
            "  Class 1: 49.69%\n",
            "Train Accuracy: 47.11%, Average Train Loss: 1.180761, Test Accuracy: 50.54%, Average Test Loss: 1.129418\n",
            "\n",
            "Epoch 9/100: "
          ]
        },
        {
          "output_type": "stream",
          "name": "stderr",
          "text": [
            "100%|██████████| 162/162 [00:14<00:00, 10.82it/s]\n",
            "Batch 162/162, Loss: 1.091836: 100%|██████████| 162/162 [00:06<00:00, 24.23it/s]\n"
          ]
        },
        {
          "output_type": "stream",
          "name": "stdout",
          "text": [
            "\n",
            "Class-wise Accuracy:\n",
            "  Class 3: 50.15%\n",
            "  Class 0: 41.36%\n",
            "  Class 2: 49.23%\n",
            "  Class 1: 65.59%\n",
            "Test Accuracy: 51.6%, Test Loss: 1.127366\n",
            "\n",
            "\n",
            "Class-wise Accuracy:\n",
            "  Class 3: 50.15%\n",
            "  Class 0: 41.36%\n",
            "  Class 2: 49.23%\n",
            "  Class 1: 65.59%\n",
            "Train Accuracy: 47.76%, Average Train Loss: 1.159373, Test Accuracy: 51.58%, Average Test Loss: 1.127366\n",
            "\n",
            "Epoch 10/100: "
          ]
        },
        {
          "output_type": "stream",
          "name": "stderr",
          "text": [
            "100%|██████████| 162/162 [00:14<00:00, 10.86it/s]\n",
            "Batch 162/162, Loss: 0.972035: 100%|██████████| 162/162 [00:06<00:00, 23.87it/s]\n"
          ]
        },
        {
          "output_type": "stream",
          "name": "stdout",
          "text": [
            "\n",
            "Class-wise Accuracy:\n",
            "  Class 3: 50.15%\n",
            "  Class 0: 26.70%\n",
            "  Class 2: 74.38%\n",
            "  Class 1: 49.69%\n",
            "Test Accuracy: 50.2%, Test Loss: 1.129443\n",
            "\n",
            "\n",
            "Class-wise Accuracy:\n",
            "  Class 3: 50.15%\n",
            "  Class 0: 26.70%\n",
            "  Class 2: 74.38%\n",
            "  Class 1: 49.69%\n",
            "Train Accuracy: 48.73%, Average Train Loss: 1.147187, Test Accuracy: 50.23%, Average Test Loss: 1.129443\n",
            "\n",
            "Epoch 11/100: "
          ]
        },
        {
          "output_type": "stream",
          "name": "stderr",
          "text": [
            "100%|██████████| 162/162 [00:14<00:00, 10.91it/s]\n",
            "Batch 162/162, Loss: 1.018703: 100%|██████████| 162/162 [00:06<00:00, 24.44it/s]\n"
          ]
        },
        {
          "output_type": "stream",
          "name": "stdout",
          "text": [
            "\n",
            "Class-wise Accuracy:\n",
            "  Class 3: 56.33%\n",
            "  Class 0: 22.22%\n",
            "  Class 2: 61.42%\n",
            "  Class 1: 72.07%\n",
            "Test Accuracy: 53.0%, Test Loss: 1.092183\n",
            "\n",
            "\n",
            "Class-wise Accuracy:\n",
            "  Class 3: 56.33%\n",
            "  Class 0: 22.22%\n",
            "  Class 2: 61.42%\n",
            "  Class 1: 72.07%\n",
            "Train Accuracy: 48.61%, Average Train Loss: 1.147325, Test Accuracy: 53.01%, Average Test Loss: 1.092183\n",
            "\n",
            "Epoch 12/100: "
          ]
        },
        {
          "output_type": "stream",
          "name": "stderr",
          "text": [
            "100%|██████████| 162/162 [00:14<00:00, 10.89it/s]\n",
            "Batch 162/162, Loss: 0.972648: 100%|██████████| 162/162 [00:06<00:00, 24.06it/s]\n"
          ]
        },
        {
          "output_type": "stream",
          "name": "stdout",
          "text": [
            "\n",
            "Class-wise Accuracy:\n",
            "  Class 3: 57.41%\n",
            "  Class 0: 23.46%\n",
            "  Class 2: 74.54%\n",
            "  Class 1: 55.71%\n",
            "Test Accuracy: 52.8%, Test Loss: 1.078994\n",
            "\n",
            "\n",
            "Class-wise Accuracy:\n",
            "  Class 3: 57.41%\n",
            "  Class 0: 23.46%\n",
            "  Class 2: 74.54%\n",
            "  Class 1: 55.71%\n",
            "Train Accuracy: 50.00%, Average Train Loss: 1.143985, Test Accuracy: 52.78%, Average Test Loss: 1.078994\n",
            "\n",
            "Epoch 13/100: "
          ]
        },
        {
          "output_type": "stream",
          "name": "stderr",
          "text": [
            "100%|██████████| 162/162 [00:14<00:00, 10.86it/s]\n",
            "Batch 162/162, Loss: 0.955019: 100%|██████████| 162/162 [00:06<00:00, 24.00it/s]\n"
          ]
        },
        {
          "output_type": "stream",
          "name": "stdout",
          "text": [
            "\n",
            "Class-wise Accuracy:\n",
            "  Class 3: 43.67%\n",
            "  Class 0: 39.04%\n",
            "  Class 2: 77.31%\n",
            "  Class 1: 55.56%\n",
            "Test Accuracy: 53.9%, Test Loss: 1.069614\n",
            "\n",
            "\n",
            "Class-wise Accuracy:\n",
            "  Class 3: 43.67%\n",
            "  Class 0: 39.04%\n",
            "  Class 2: 77.31%\n",
            "  Class 1: 55.56%\n",
            "Train Accuracy: 51.31%, Average Train Loss: 1.109087, Test Accuracy: 53.90%, Average Test Loss: 1.069614\n",
            "\n",
            "Epoch 14/100: "
          ]
        },
        {
          "output_type": "stream",
          "name": "stderr",
          "text": [
            "100%|██████████| 162/162 [00:14<00:00, 10.83it/s]\n",
            "Batch 162/162, Loss: 1.046737: 100%|██████████| 162/162 [00:06<00:00, 24.13it/s]\n"
          ]
        },
        {
          "output_type": "stream",
          "name": "stdout",
          "text": [
            "\n",
            "Class-wise Accuracy:\n",
            "  Class 3: 64.66%\n",
            "  Class 0: 56.33%\n",
            "  Class 2: 41.05%\n",
            "  Class 1: 41.20%\n",
            "Test Accuracy: 50.8%, Test Loss: 1.142588\n",
            "\n",
            "\n",
            "Class-wise Accuracy:\n",
            "  Class 3: 64.66%\n",
            "  Class 0: 56.33%\n",
            "  Class 2: 41.05%\n",
            "  Class 1: 41.20%\n",
            "Train Accuracy: 52.35%, Average Train Loss: 1.115272, Test Accuracy: 50.81%, Average Test Loss: 1.142588\n",
            "\n",
            "Epoch 15/100: "
          ]
        },
        {
          "output_type": "stream",
          "name": "stderr",
          "text": [
            "100%|██████████| 162/162 [00:14<00:00, 10.83it/s]\n",
            "Batch 162/162, Loss: 0.948758: 100%|██████████| 162/162 [00:06<00:00, 23.97it/s]\n"
          ]
        },
        {
          "output_type": "stream",
          "name": "stdout",
          "text": [
            "\n",
            "Class-wise Accuracy:\n",
            "  Class 3: 54.48%\n",
            "  Class 0: 46.91%\n",
            "  Class 2: 60.96%\n",
            "  Class 1: 62.96%\n",
            "Test Accuracy: 56.3%, Test Loss: 1.038613\n",
            "\n",
            "\n",
            "Class-wise Accuracy:\n",
            "  Class 3: 54.48%\n",
            "  Class 0: 46.91%\n",
            "  Class 2: 60.96%\n",
            "  Class 1: 62.96%\n",
            "Train Accuracy: 51.89%, Average Train Loss: 1.097777, Test Accuracy: 56.33%, Average Test Loss: 1.038613\n",
            "\n",
            "Epoch 16/100: "
          ]
        },
        {
          "output_type": "stream",
          "name": "stderr",
          "text": [
            "100%|██████████| 162/162 [00:14<00:00, 10.87it/s]\n",
            "Batch 162/162, Loss: 0.897033: 100%|██████████| 162/162 [00:06<00:00, 24.37it/s]\n"
          ]
        },
        {
          "output_type": "stream",
          "name": "stdout",
          "text": [
            "\n",
            "Class-wise Accuracy:\n",
            "  Class 3: 64.81%\n",
            "  Class 0: 38.58%\n",
            "  Class 2: 65.90%\n",
            "  Class 1: 57.25%\n",
            "Test Accuracy: 56.6%, Test Loss: 1.036171\n",
            "\n",
            "\n",
            "Class-wise Accuracy:\n",
            "  Class 3: 64.81%\n",
            "  Class 0: 38.58%\n",
            "  Class 2: 65.90%\n",
            "  Class 1: 57.25%\n",
            "Train Accuracy: 51.93%, Average Train Loss: 1.096768, Test Accuracy: 56.64%, Average Test Loss: 1.036171\n",
            "\n",
            "Epoch 17/100: "
          ]
        },
        {
          "output_type": "stream",
          "name": "stderr",
          "text": [
            "100%|██████████| 162/162 [00:14<00:00, 10.90it/s]\n",
            "Batch 162/162, Loss: 0.856296: 100%|██████████| 162/162 [00:06<00:00, 23.98it/s]\n"
          ]
        },
        {
          "output_type": "stream",
          "name": "stdout",
          "text": [
            "\n",
            "Class-wise Accuracy:\n",
            "  Class 3: 56.33%\n",
            "  Class 0: 47.84%\n",
            "  Class 2: 55.09%\n",
            "  Class 1: 67.75%\n",
            "Test Accuracy: 56.8%, Test Loss: 1.022552\n",
            "\n",
            "\n",
            "Class-wise Accuracy:\n",
            "  Class 3: 56.33%\n",
            "  Class 0: 47.84%\n",
            "  Class 2: 55.09%\n",
            "  Class 1: 67.75%\n",
            "Train Accuracy: 53.59%, Average Train Loss: 1.079250, Test Accuracy: 56.75%, Average Test Loss: 1.022552\n",
            "\n",
            "Epoch 18/100: "
          ]
        },
        {
          "output_type": "stream",
          "name": "stderr",
          "text": [
            "100%|██████████| 162/162 [00:14<00:00, 10.88it/s]\n",
            "Batch 162/162, Loss: 0.953460: 100%|██████████| 162/162 [00:06<00:00, 24.29it/s]\n"
          ]
        },
        {
          "output_type": "stream",
          "name": "stdout",
          "text": [
            "\n",
            "Class-wise Accuracy:\n",
            "  Class 3: 62.81%\n",
            "  Class 0: 39.35%\n",
            "  Class 2: 78.09%\n",
            "  Class 1: 44.91%\n",
            "Test Accuracy: 56.3%, Test Loss: 1.033852\n",
            "\n",
            "\n",
            "Class-wise Accuracy:\n",
            "  Class 3: 62.81%\n",
            "  Class 0: 39.35%\n",
            "  Class 2: 78.09%\n",
            "  Class 1: 44.91%\n",
            "Train Accuracy: 54.24%, Average Train Loss: 1.073396, Test Accuracy: 56.29%, Average Test Loss: 1.033852\n",
            "\n",
            "Epoch 19/100: "
          ]
        },
        {
          "output_type": "stream",
          "name": "stderr",
          "text": [
            "100%|██████████| 162/162 [00:14<00:00, 10.87it/s]\n",
            "Batch 162/162, Loss: 0.875325: 100%|██████████| 162/162 [00:06<00:00, 24.10it/s]\n"
          ]
        },
        {
          "output_type": "stream",
          "name": "stdout",
          "text": [
            "\n",
            "Class-wise Accuracy:\n",
            "  Class 3: 63.27%\n",
            "  Class 0: 25.62%\n",
            "  Class 2: 72.69%\n",
            "  Class 1: 67.28%\n",
            "Test Accuracy: 57.2%, Test Loss: 1.013550\n",
            "\n",
            "\n",
            "Class-wise Accuracy:\n",
            "  Class 3: 63.27%\n",
            "  Class 0: 25.62%\n",
            "  Class 2: 72.69%\n",
            "  Class 1: 67.28%\n",
            "Train Accuracy: 54.86%, Average Train Loss: 1.071045, Test Accuracy: 57.21%, Average Test Loss: 1.013550\n",
            "\n",
            "Epoch 20/100: "
          ]
        },
        {
          "output_type": "stream",
          "name": "stderr",
          "text": [
            "100%|██████████| 162/162 [00:14<00:00, 10.90it/s]\n",
            "Batch 162/162, Loss: 0.816838: 100%|██████████| 162/162 [00:06<00:00, 24.44it/s]\n"
          ]
        },
        {
          "output_type": "stream",
          "name": "stdout",
          "text": [
            "\n",
            "Class-wise Accuracy:\n",
            "  Class 3: 53.86%\n",
            "  Class 0: 32.10%\n",
            "  Class 2: 71.30%\n",
            "  Class 1: 69.91%\n",
            "Test Accuracy: 56.8%, Test Loss: 1.014587\n",
            "\n",
            "\n",
            "Class-wise Accuracy:\n",
            "  Class 3: 53.86%\n",
            "  Class 0: 32.10%\n",
            "  Class 2: 71.30%\n",
            "  Class 1: 69.91%\n",
            "Train Accuracy: 54.44%, Average Train Loss: 1.061352, Test Accuracy: 56.79%, Average Test Loss: 1.014587\n",
            "\n",
            "Epoch 21/100: "
          ]
        },
        {
          "output_type": "stream",
          "name": "stderr",
          "text": [
            "100%|██████████| 162/162 [00:14<00:00, 10.93it/s]\n",
            "Batch 162/162, Loss: 0.834617: 100%|██████████| 162/162 [00:06<00:00, 24.38it/s]\n"
          ]
        },
        {
          "output_type": "stream",
          "name": "stdout",
          "text": [
            "\n",
            "Class-wise Accuracy:\n",
            "  Class 3: 69.14%\n",
            "  Class 0: 37.19%\n",
            "  Class 2: 66.05%\n",
            "  Class 1: 64.66%\n",
            "Test Accuracy: 59.3%, Test Loss: 0.998698\n",
            "\n",
            "\n",
            "Class-wise Accuracy:\n",
            "  Class 3: 69.14%\n",
            "  Class 0: 37.19%\n",
            "  Class 2: 66.05%\n",
            "  Class 1: 64.66%\n",
            "Train Accuracy: 54.67%, Average Train Loss: 1.067371, Test Accuracy: 59.26%, Average Test Loss: 0.998698\n",
            "\n",
            "Epoch 22/100: "
          ]
        },
        {
          "output_type": "stream",
          "name": "stderr",
          "text": [
            "100%|██████████| 162/162 [00:14<00:00, 10.94it/s]\n",
            "Batch 162/162, Loss: 0.742191: 100%|██████████| 162/162 [00:06<00:00, 24.13it/s]\n"
          ]
        },
        {
          "output_type": "stream",
          "name": "stdout",
          "text": [
            "\n",
            "Class-wise Accuracy:\n",
            "  Class 3: 53.24%\n",
            "  Class 0: 37.19%\n",
            "  Class 2: 59.88%\n",
            "  Class 1: 76.85%\n",
            "Test Accuracy: 56.8%, Test Loss: 1.013424\n",
            "\n",
            "\n",
            "Class-wise Accuracy:\n",
            "  Class 3: 53.24%\n",
            "  Class 0: 37.19%\n",
            "  Class 2: 59.88%\n",
            "  Class 1: 76.85%\n",
            "Train Accuracy: 54.67%, Average Train Loss: 1.055168, Test Accuracy: 56.79%, Average Test Loss: 1.013424\n",
            "\n",
            "Epoch 23/100: "
          ]
        },
        {
          "output_type": "stream",
          "name": "stderr",
          "text": [
            "100%|██████████| 162/162 [00:14<00:00, 10.96it/s]\n",
            "Batch 162/162, Loss: 0.776530: 100%|██████████| 162/162 [00:06<00:00, 24.53it/s]\n"
          ]
        },
        {
          "output_type": "stream",
          "name": "stdout",
          "text": [
            "\n",
            "Class-wise Accuracy:\n",
            "  Class 3: 65.28%\n",
            "  Class 0: 44.29%\n",
            "  Class 2: 64.81%\n",
            "  Class 1: 66.98%\n",
            "Test Accuracy: 60.3%, Test Loss: 0.968790\n",
            "\n",
            "\n",
            "Class-wise Accuracy:\n",
            "  Class 3: 65.28%\n",
            "  Class 0: 44.29%\n",
            "  Class 2: 64.81%\n",
            "  Class 1: 66.98%\n",
            "Train Accuracy: 54.36%, Average Train Loss: 1.041858, Test Accuracy: 60.34%, Average Test Loss: 0.968790\n",
            "\n",
            "Epoch 24/100: "
          ]
        },
        {
          "output_type": "stream",
          "name": "stderr",
          "text": [
            "100%|██████████| 162/162 [00:14<00:00, 10.95it/s]\n",
            "Batch 162/162, Loss: 0.820106: 100%|██████████| 162/162 [00:06<00:00, 24.08it/s]\n"
          ]
        },
        {
          "output_type": "stream",
          "name": "stdout",
          "text": [
            "\n",
            "Class-wise Accuracy:\n",
            "  Class 3: 57.25%\n",
            "  Class 0: 53.09%\n",
            "  Class 2: 68.52%\n",
            "  Class 1: 59.10%\n",
            "Test Accuracy: 59.5%, Test Loss: 0.975162\n",
            "\n",
            "\n",
            "Class-wise Accuracy:\n",
            "  Class 3: 57.25%\n",
            "  Class 0: 53.09%\n",
            "  Class 2: 68.52%\n",
            "  Class 1: 59.10%\n",
            "Train Accuracy: 55.94%, Average Train Loss: 1.040145, Test Accuracy: 59.49%, Average Test Loss: 0.975162\n",
            "\n",
            "Epoch 25/100: "
          ]
        },
        {
          "output_type": "stream",
          "name": "stderr",
          "text": [
            "100%|██████████| 162/162 [00:14<00:00, 10.96it/s]\n",
            "Batch 162/162, Loss: 0.869230: 100%|██████████| 162/162 [00:06<00:00, 24.49it/s]\n"
          ]
        },
        {
          "output_type": "stream",
          "name": "stdout",
          "text": [
            "\n",
            "Class-wise Accuracy:\n",
            "  Class 3: 55.56%\n",
            "  Class 0: 45.22%\n",
            "  Class 2: 70.37%\n",
            "  Class 1: 69.91%\n",
            "Test Accuracy: 60.3%, Test Loss: 0.976761\n",
            "\n",
            "\n",
            "Class-wise Accuracy:\n",
            "  Class 3: 55.56%\n",
            "  Class 0: 45.22%\n",
            "  Class 2: 70.37%\n",
            "  Class 1: 69.91%\n",
            "Train Accuracy: 55.09%, Average Train Loss: 1.035664, Test Accuracy: 60.26%, Average Test Loss: 0.976761\n",
            "\n",
            "Epoch 26/100: "
          ]
        },
        {
          "output_type": "stream",
          "name": "stderr",
          "text": [
            "100%|██████████| 162/162 [00:14<00:00, 10.97it/s]\n",
            "Batch 162/162, Loss: 0.814206: 100%|██████████| 162/162 [00:06<00:00, 24.00it/s]\n"
          ]
        },
        {
          "output_type": "stream",
          "name": "stdout",
          "text": [
            "\n",
            "Class-wise Accuracy:\n",
            "  Class 3: 59.72%\n",
            "  Class 0: 54.48%\n",
            "  Class 2: 65.90%\n",
            "  Class 1: 60.96%\n",
            "Test Accuracy: 60.3%, Test Loss: 0.960646\n",
            "\n",
            "\n",
            "Class-wise Accuracy:\n",
            "  Class 3: 59.72%\n",
            "  Class 0: 54.48%\n",
            "  Class 2: 65.90%\n",
            "  Class 1: 60.96%\n",
            "Train Accuracy: 56.75%, Average Train Loss: 1.022126, Test Accuracy: 60.26%, Average Test Loss: 0.960646\n",
            "\n",
            "Epoch 27/100: "
          ]
        },
        {
          "output_type": "stream",
          "name": "stderr",
          "text": [
            "100%|██████████| 162/162 [00:14<00:00, 10.87it/s]\n",
            "Batch 162/162, Loss: 0.784621: 100%|██████████| 162/162 [00:06<00:00, 23.98it/s]\n"
          ]
        },
        {
          "output_type": "stream",
          "name": "stdout",
          "text": [
            "\n",
            "Class-wise Accuracy:\n",
            "  Class 3: 54.17%\n",
            "  Class 0: 55.40%\n",
            "  Class 2: 62.96%\n",
            "  Class 1: 66.98%\n",
            "Test Accuracy: 59.9%, Test Loss: 0.966637\n",
            "\n",
            "\n",
            "Class-wise Accuracy:\n",
            "  Class 3: 54.17%\n",
            "  Class 0: 55.40%\n",
            "  Class 2: 62.96%\n",
            "  Class 1: 66.98%\n",
            "Train Accuracy: 57.10%, Average Train Loss: 1.021650, Test Accuracy: 59.88%, Average Test Loss: 0.966637\n",
            "\n",
            "Epoch 28/100: "
          ]
        },
        {
          "output_type": "stream",
          "name": "stderr",
          "text": [
            "100%|██████████| 162/162 [00:15<00:00, 10.78it/s]\n",
            "Batch 162/162, Loss: 0.879622: 100%|██████████| 162/162 [00:06<00:00, 24.10it/s]\n"
          ]
        },
        {
          "output_type": "stream",
          "name": "stdout",
          "text": [
            "\n",
            "Class-wise Accuracy:\n",
            "  Class 3: 63.43%\n",
            "  Class 0: 59.88%\n",
            "  Class 2: 54.78%\n",
            "  Class 1: 58.80%\n",
            "Test Accuracy: 59.2%, Test Loss: 0.991897\n",
            "\n",
            "\n",
            "Class-wise Accuracy:\n",
            "  Class 3: 63.43%\n",
            "  Class 0: 59.88%\n",
            "  Class 2: 54.78%\n",
            "  Class 1: 58.80%\n",
            "Train Accuracy: 57.87%, Average Train Loss: 1.016399, Test Accuracy: 59.22%, Average Test Loss: 0.991897\n",
            "\n",
            "Epoch 29/100: "
          ]
        },
        {
          "output_type": "stream",
          "name": "stderr",
          "text": [
            "100%|██████████| 162/162 [00:14<00:00, 10.82it/s]\n",
            "Batch 162/162, Loss: 0.764690: 100%|██████████| 162/162 [00:06<00:00, 23.99it/s]\n"
          ]
        },
        {
          "output_type": "stream",
          "name": "stdout",
          "text": [
            "\n",
            "Class-wise Accuracy:\n",
            "  Class 3: 76.70%\n",
            "  Class 0: 48.61%\n",
            "  Class 2: 54.63%\n",
            "  Class 1: 59.57%\n",
            "Test Accuracy: 59.9%, Test Loss: 0.970964\n",
            "\n",
            "\n",
            "Class-wise Accuracy:\n",
            "  Class 3: 76.70%\n",
            "  Class 0: 48.61%\n",
            "  Class 2: 54.63%\n",
            "  Class 1: 59.57%\n",
            "Train Accuracy: 57.25%, Average Train Loss: 1.017956, Test Accuracy: 59.88%, Average Test Loss: 0.970964\n",
            "\n",
            "Epoch 30/100: "
          ]
        },
        {
          "output_type": "stream",
          "name": "stderr",
          "text": [
            "100%|██████████| 162/162 [00:14<00:00, 10.91it/s]\n",
            "Batch 162/162, Loss: 0.762308: 100%|██████████| 162/162 [00:06<00:00, 24.42it/s]\n"
          ]
        },
        {
          "output_type": "stream",
          "name": "stdout",
          "text": [
            "\n",
            "Class-wise Accuracy:\n",
            "  Class 3: 62.65%\n",
            "  Class 0: 48.46%\n",
            "  Class 2: 73.46%\n",
            "  Class 1: 62.96%\n",
            "Test Accuracy: 61.9%, Test Loss: 0.928816\n",
            "\n",
            "\n",
            "Class-wise Accuracy:\n",
            "  Class 3: 62.65%\n",
            "  Class 0: 48.46%\n",
            "  Class 2: 73.46%\n",
            "  Class 1: 62.96%\n",
            "Train Accuracy: 57.06%, Average Train Loss: 1.005285, Test Accuracy: 61.88%, Average Test Loss: 0.928816\n",
            "\n",
            "Epoch 31/100: "
          ]
        },
        {
          "output_type": "stream",
          "name": "stderr",
          "text": [
            "100%|██████████| 162/162 [00:14<00:00, 10.92it/s]\n",
            "Batch 162/162, Loss: 0.740342: 100%|██████████| 162/162 [00:06<00:00, 23.97it/s]\n"
          ]
        },
        {
          "output_type": "stream",
          "name": "stdout",
          "text": [
            "\n",
            "Class-wise Accuracy:\n",
            "  Class 3: 61.11%\n",
            "  Class 0: 43.67%\n",
            "  Class 2: 66.51%\n",
            "  Class 1: 71.91%\n",
            "Test Accuracy: 60.8%, Test Loss: 0.938660\n",
            "\n",
            "\n",
            "Class-wise Accuracy:\n",
            "  Class 3: 61.11%\n",
            "  Class 0: 43.67%\n",
            "  Class 2: 66.51%\n",
            "  Class 1: 71.91%\n",
            "Train Accuracy: 57.21%, Average Train Loss: 0.998114, Test Accuracy: 60.80%, Average Test Loss: 0.938660\n",
            "\n",
            "Epoch 32/100: "
          ]
        },
        {
          "output_type": "stream",
          "name": "stderr",
          "text": [
            "100%|██████████| 162/162 [00:14<00:00, 10.93it/s]\n",
            "Batch 162/162, Loss: 0.806461: 100%|██████████| 162/162 [00:06<00:00, 24.43it/s]\n"
          ]
        },
        {
          "output_type": "stream",
          "name": "stdout",
          "text": [
            "\n",
            "Class-wise Accuracy:\n",
            "  Class 3: 57.10%\n",
            "  Class 0: 47.22%\n",
            "  Class 2: 69.44%\n",
            "  Class 1: 72.69%\n",
            "Test Accuracy: 61.6%, Test Loss: 0.944590\n",
            "\n",
            "\n",
            "Class-wise Accuracy:\n",
            "  Class 3: 57.10%\n",
            "  Class 0: 47.22%\n",
            "  Class 2: 69.44%\n",
            "  Class 1: 72.69%\n",
            "Train Accuracy: 57.64%, Average Train Loss: 1.003581, Test Accuracy: 61.61%, Average Test Loss: 0.944590\n",
            "\n",
            "Epoch 33/100: "
          ]
        },
        {
          "output_type": "stream",
          "name": "stderr",
          "text": [
            "100%|██████████| 162/162 [00:14<00:00, 10.93it/s]\n",
            "Batch 162/162, Loss: 0.742665: 100%|██████████| 162/162 [00:06<00:00, 23.93it/s]\n"
          ]
        },
        {
          "output_type": "stream",
          "name": "stdout",
          "text": [
            "\n",
            "Class-wise Accuracy:\n",
            "  Class 3: 61.73%\n",
            "  Class 0: 40.90%\n",
            "  Class 2: 73.46%\n",
            "  Class 1: 72.53%\n",
            "Test Accuracy: 62.2%, Test Loss: 0.920519\n",
            "\n",
            "\n",
            "Class-wise Accuracy:\n",
            "  Class 3: 61.73%\n",
            "  Class 0: 40.90%\n",
            "  Class 2: 73.46%\n",
            "  Class 1: 72.53%\n",
            "Train Accuracy: 58.26%, Average Train Loss: 0.994128, Test Accuracy: 62.15%, Average Test Loss: 0.920519\n",
            "\n",
            "Epoch 34/100: "
          ]
        },
        {
          "output_type": "stream",
          "name": "stderr",
          "text": [
            "100%|██████████| 162/162 [00:14<00:00, 10.92it/s]\n",
            "Batch 162/162, Loss: 0.705466: 100%|██████████| 162/162 [00:06<00:00, 24.39it/s]\n"
          ]
        },
        {
          "output_type": "stream",
          "name": "stdout",
          "text": [
            "\n",
            "Class-wise Accuracy:\n",
            "  Class 3: 54.17%\n",
            "  Class 0: 52.62%\n",
            "  Class 2: 71.30%\n",
            "  Class 1: 71.30%\n",
            "Test Accuracy: 62.3%, Test Loss: 0.910266\n",
            "\n",
            "\n",
            "Class-wise Accuracy:\n",
            "  Class 3: 54.17%\n",
            "  Class 0: 52.62%\n",
            "  Class 2: 71.30%\n",
            "  Class 1: 71.30%\n",
            "Train Accuracy: 58.53%, Average Train Loss: 0.977355, Test Accuracy: 62.35%, Average Test Loss: 0.910266\n",
            "\n",
            "Epoch 35/100: "
          ]
        },
        {
          "output_type": "stream",
          "name": "stderr",
          "text": [
            "100%|██████████| 162/162 [00:14<00:00, 10.95it/s]\n",
            "Batch 162/162, Loss: 0.731225: 100%|██████████| 162/162 [00:07<00:00, 21.53it/s]\n"
          ]
        },
        {
          "output_type": "stream",
          "name": "stdout",
          "text": [
            "\n",
            "Class-wise Accuracy:\n",
            "  Class 3: 66.05%\n",
            "  Class 0: 41.98%\n",
            "  Class 2: 78.09%\n",
            "  Class 1: 65.74%\n",
            "Test Accuracy: 63.0%, Test Loss: 0.905773\n",
            "\n",
            "\n",
            "Class-wise Accuracy:\n",
            "  Class 3: 66.05%\n",
            "  Class 0: 41.98%\n",
            "  Class 2: 78.09%\n",
            "  Class 1: 65.74%\n",
            "Train Accuracy: 58.33%, Average Train Loss: 0.985373, Test Accuracy: 62.96%, Average Test Loss: 0.905773\n",
            "\n",
            "Epoch 36/100: "
          ]
        },
        {
          "output_type": "stream",
          "name": "stderr",
          "text": [
            "100%|██████████| 162/162 [00:15<00:00, 10.25it/s]\n",
            "Batch 162/162, Loss: 0.812482: 100%|██████████| 162/162 [00:06<00:00, 23.17it/s]\n"
          ]
        },
        {
          "output_type": "stream",
          "name": "stdout",
          "text": [
            "\n",
            "Class-wise Accuracy:\n",
            "  Class 3: 53.86%\n",
            "  Class 0: 48.30%\n",
            "  Class 2: 78.24%\n",
            "  Class 1: 71.14%\n",
            "Test Accuracy: 62.9%, Test Loss: 0.905972\n",
            "\n",
            "\n",
            "Class-wise Accuracy:\n",
            "  Class 3: 53.86%\n",
            "  Class 0: 48.30%\n",
            "  Class 2: 78.24%\n",
            "  Class 1: 71.14%\n",
            "Train Accuracy: 59.61%, Average Train Loss: 0.973516, Test Accuracy: 62.89%, Average Test Loss: 0.905972\n",
            "\n",
            "Epoch 37/100: "
          ]
        },
        {
          "output_type": "stream",
          "name": "stderr",
          "text": [
            "100%|██████████| 162/162 [00:14<00:00, 10.98it/s]\n",
            "Batch 162/162, Loss: 0.735636: 100%|██████████| 162/162 [00:06<00:00, 24.48it/s]\n"
          ]
        },
        {
          "output_type": "stream",
          "name": "stdout",
          "text": [
            "\n",
            "Class-wise Accuracy:\n",
            "  Class 3: 65.12%\n",
            "  Class 0: 50.77%\n",
            "  Class 2: 73.77%\n",
            "  Class 1: 66.36%\n",
            "Test Accuracy: 64.0%, Test Loss: 0.894174\n",
            "\n",
            "\n",
            "Class-wise Accuracy:\n",
            "  Class 3: 65.12%\n",
            "  Class 0: 50.77%\n",
            "  Class 2: 73.77%\n",
            "  Class 1: 66.36%\n",
            "Train Accuracy: 59.03%, Average Train Loss: 0.970464, Test Accuracy: 64.00%, Average Test Loss: 0.894174\n",
            "\n",
            "Epoch 38/100: "
          ]
        },
        {
          "output_type": "stream",
          "name": "stderr",
          "text": [
            "100%|██████████| 162/162 [00:14<00:00, 10.99it/s]\n",
            "Batch 162/162, Loss: 0.762852: 100%|██████████| 162/162 [00:06<00:00, 24.05it/s]\n"
          ]
        },
        {
          "output_type": "stream",
          "name": "stdout",
          "text": [
            "\n",
            "Class-wise Accuracy:\n",
            "  Class 3: 65.59%\n",
            "  Class 0: 52.16%\n",
            "  Class 2: 75.15%\n",
            "  Class 1: 64.81%\n",
            "Test Accuracy: 64.4%, Test Loss: 0.884732\n",
            "\n",
            "\n",
            "Class-wise Accuracy:\n",
            "  Class 3: 65.59%\n",
            "  Class 0: 52.16%\n",
            "  Class 2: 75.15%\n",
            "  Class 1: 64.81%\n",
            "Train Accuracy: 59.03%, Average Train Loss: 0.973148, Test Accuracy: 64.43%, Average Test Loss: 0.884732\n",
            "\n",
            "Epoch 39/100: "
          ]
        },
        {
          "output_type": "stream",
          "name": "stderr",
          "text": [
            "100%|██████████| 162/162 [00:14<00:00, 10.98it/s]\n",
            "Batch 162/162, Loss: 0.843547: 100%|██████████| 162/162 [00:06<00:00, 24.52it/s]\n"
          ]
        },
        {
          "output_type": "stream",
          "name": "stdout",
          "text": [
            "\n",
            "Class-wise Accuracy:\n",
            "  Class 3: 61.73%\n",
            "  Class 0: 52.47%\n",
            "  Class 2: 77.47%\n",
            "  Class 1: 60.80%\n",
            "Test Accuracy: 63.1%, Test Loss: 0.893433\n",
            "\n",
            "\n",
            "Class-wise Accuracy:\n",
            "  Class 3: 61.73%\n",
            "  Class 0: 52.47%\n",
            "  Class 2: 77.47%\n",
            "  Class 1: 60.80%\n",
            "Train Accuracy: 59.34%, Average Train Loss: 0.969058, Test Accuracy: 63.12%, Average Test Loss: 0.893433\n",
            "\n",
            "Epoch 40/100: "
          ]
        },
        {
          "output_type": "stream",
          "name": "stderr",
          "text": [
            "100%|██████████| 162/162 [00:14<00:00, 10.96it/s]\n",
            "Batch 162/162, Loss: 0.706938: 100%|██████████| 162/162 [00:06<00:00, 24.09it/s]\n"
          ]
        },
        {
          "output_type": "stream",
          "name": "stdout",
          "text": [
            "\n",
            "Class-wise Accuracy:\n",
            "  Class 3: 66.36%\n",
            "  Class 0: 60.96%\n",
            "  Class 2: 63.73%\n",
            "  Class 1: 67.75%\n",
            "Test Accuracy: 64.7%, Test Loss: 0.883460\n",
            "\n",
            "\n",
            "Class-wise Accuracy:\n",
            "  Class 3: 66.36%\n",
            "  Class 0: 60.96%\n",
            "  Class 2: 63.73%\n",
            "  Class 1: 67.75%\n",
            "Train Accuracy: 60.03%, Average Train Loss: 0.964518, Test Accuracy: 64.70%, Average Test Loss: 0.883460\n",
            "\n",
            "Epoch 41/100: "
          ]
        },
        {
          "output_type": "stream",
          "name": "stderr",
          "text": [
            "100%|██████████| 162/162 [00:14<00:00, 10.88it/s]\n",
            "Batch 162/162, Loss: 0.704860: 100%|██████████| 162/162 [00:06<00:00, 24.53it/s]\n"
          ]
        },
        {
          "output_type": "stream",
          "name": "stdout",
          "text": [
            "\n",
            "Class-wise Accuracy:\n",
            "  Class 3: 58.49%\n",
            "  Class 0: 46.91%\n",
            "  Class 2: 72.69%\n",
            "  Class 1: 76.54%\n",
            "Test Accuracy: 63.7%, Test Loss: 0.887799\n",
            "\n",
            "\n",
            "Class-wise Accuracy:\n",
            "  Class 3: 58.49%\n",
            "  Class 0: 46.91%\n",
            "  Class 2: 72.69%\n",
            "  Class 1: 76.54%\n",
            "Train Accuracy: 58.72%, Average Train Loss: 0.957140, Test Accuracy: 63.66%, Average Test Loss: 0.887799\n",
            "\n",
            "Epoch 42/100: "
          ]
        },
        {
          "output_type": "stream",
          "name": "stderr",
          "text": [
            "100%|██████████| 162/162 [00:14<00:00, 11.02it/s]\n",
            "Batch 162/162, Loss: 0.729370: 100%|██████████| 162/162 [00:06<00:00, 24.22it/s]\n"
          ]
        },
        {
          "output_type": "stream",
          "name": "stdout",
          "text": [
            "\n",
            "Class-wise Accuracy:\n",
            "  Class 3: 69.29%\n",
            "  Class 0: 53.24%\n",
            "  Class 2: 70.83%\n",
            "  Class 1: 64.81%\n",
            "Test Accuracy: 64.5%, Test Loss: 0.867819\n",
            "\n",
            "\n",
            "Class-wise Accuracy:\n",
            "  Class 3: 69.29%\n",
            "  Class 0: 53.24%\n",
            "  Class 2: 70.83%\n",
            "  Class 1: 64.81%\n",
            "Train Accuracy: 60.07%, Average Train Loss: 0.950833, Test Accuracy: 64.54%, Average Test Loss: 0.867819\n",
            "\n",
            "Epoch 43/100: "
          ]
        },
        {
          "output_type": "stream",
          "name": "stderr",
          "text": [
            "100%|██████████| 162/162 [00:14<00:00, 11.03it/s]\n",
            "Batch 162/162, Loss: 0.716828: 100%|██████████| 162/162 [00:06<00:00, 24.38it/s]\n"
          ]
        },
        {
          "output_type": "stream",
          "name": "stdout",
          "text": [
            "\n",
            "Class-wise Accuracy:\n",
            "  Class 3: 66.05%\n",
            "  Class 0: 45.06%\n",
            "  Class 2: 79.48%\n",
            "  Class 1: 61.73%\n",
            "Test Accuracy: 63.1%, Test Loss: 0.881042\n",
            "\n",
            "\n",
            "Class-wise Accuracy:\n",
            "  Class 3: 66.05%\n",
            "  Class 0: 45.06%\n",
            "  Class 2: 79.48%\n",
            "  Class 1: 61.73%\n",
            "Train Accuracy: 60.65%, Average Train Loss: 0.932182, Test Accuracy: 63.08%, Average Test Loss: 0.881042\n",
            "\n",
            "Epoch 44/100: "
          ]
        },
        {
          "output_type": "stream",
          "name": "stderr",
          "text": [
            "100%|██████████| 162/162 [00:14<00:00, 10.90it/s]\n",
            "Batch 162/162, Loss: 0.718224: 100%|██████████| 162/162 [00:06<00:00, 24.38it/s]\n"
          ]
        },
        {
          "output_type": "stream",
          "name": "stdout",
          "text": [
            "\n",
            "Class-wise Accuracy:\n",
            "  Class 3: 59.41%\n",
            "  Class 0: 54.48%\n",
            "  Class 2: 73.46%\n",
            "  Class 1: 75.31%\n",
            "Test Accuracy: 65.7%, Test Loss: 0.866627\n",
            "\n",
            "\n",
            "Class-wise Accuracy:\n",
            "  Class 3: 59.41%\n",
            "  Class 0: 54.48%\n",
            "  Class 2: 73.46%\n",
            "  Class 1: 75.31%\n",
            "Train Accuracy: 61.07%, Average Train Loss: 0.944897, Test Accuracy: 65.66%, Average Test Loss: 0.866627\n",
            "\n",
            "Epoch 45/100: "
          ]
        },
        {
          "output_type": "stream",
          "name": "stderr",
          "text": [
            "100%|██████████| 162/162 [00:14<00:00, 10.98it/s]\n",
            "Batch 162/162, Loss: 0.777842: 100%|██████████| 162/162 [00:06<00:00, 24.13it/s]\n"
          ]
        },
        {
          "output_type": "stream",
          "name": "stdout",
          "text": [
            "\n",
            "Class-wise Accuracy:\n",
            "  Class 3: 62.96%\n",
            "  Class 0: 55.40%\n",
            "  Class 2: 70.99%\n",
            "  Class 1: 71.14%\n",
            "Test Accuracy: 65.1%, Test Loss: 0.866864\n",
            "\n",
            "\n",
            "Class-wise Accuracy:\n",
            "  Class 3: 62.96%\n",
            "  Class 0: 55.40%\n",
            "  Class 2: 70.99%\n",
            "  Class 1: 71.14%\n",
            "Train Accuracy: 60.76%, Average Train Loss: 0.941886, Test Accuracy: 65.12%, Average Test Loss: 0.866864\n",
            "\n",
            "Epoch 46/100: "
          ]
        },
        {
          "output_type": "stream",
          "name": "stderr",
          "text": [
            "100%|██████████| 162/162 [00:14<00:00, 10.96it/s]\n",
            "Batch 162/162, Loss: 0.744809: 100%|██████████| 162/162 [00:06<00:00, 24.44it/s]\n"
          ]
        },
        {
          "output_type": "stream",
          "name": "stdout",
          "text": [
            "\n",
            "Class-wise Accuracy:\n",
            "  Class 3: 63.58%\n",
            "  Class 0: 49.07%\n",
            "  Class 2: 72.53%\n",
            "  Class 1: 74.23%\n",
            "Test Accuracy: 64.9%, Test Loss: 0.861560\n",
            "\n",
            "\n",
            "Class-wise Accuracy:\n",
            "  Class 3: 63.58%\n",
            "  Class 0: 49.07%\n",
            "  Class 2: 72.53%\n",
            "  Class 1: 74.23%\n",
            "Train Accuracy: 60.22%, Average Train Loss: 0.942132, Test Accuracy: 64.85%, Average Test Loss: 0.861560\n",
            "\n",
            "Epoch 47/100: "
          ]
        },
        {
          "output_type": "stream",
          "name": "stderr",
          "text": [
            "100%|██████████| 162/162 [00:14<00:00, 11.04it/s]\n",
            "Batch 162/162, Loss: 0.695471: 100%|██████████| 162/162 [00:06<00:00, 23.95it/s]\n"
          ]
        },
        {
          "output_type": "stream",
          "name": "stdout",
          "text": [
            "\n",
            "Class-wise Accuracy:\n",
            "  Class 3: 60.65%\n",
            "  Class 0: 55.25%\n",
            "  Class 2: 69.75%\n",
            "  Class 1: 75.46%\n",
            "Test Accuracy: 65.3%, Test Loss: 0.872258\n",
            "\n",
            "\n",
            "Class-wise Accuracy:\n",
            "  Class 3: 60.65%\n",
            "  Class 0: 55.25%\n",
            "  Class 2: 69.75%\n",
            "  Class 1: 75.46%\n",
            "Train Accuracy: 60.22%, Average Train Loss: 0.943178, Test Accuracy: 65.28%, Average Test Loss: 0.872258\n",
            "\n",
            "Epoch 48/100: "
          ]
        },
        {
          "output_type": "stream",
          "name": "stderr",
          "text": [
            "100%|██████████| 162/162 [00:14<00:00, 11.05it/s]\n",
            "Batch 162/162, Loss: 0.713744: 100%|██████████| 162/162 [00:06<00:00, 24.56it/s]\n"
          ]
        },
        {
          "output_type": "stream",
          "name": "stdout",
          "text": [
            "\n",
            "Class-wise Accuracy:\n",
            "  Class 3: 68.52%\n",
            "  Class 0: 60.03%\n",
            "  Class 2: 71.30%\n",
            "  Class 1: 65.59%\n",
            "Test Accuracy: 66.4%, Test Loss: 0.850839\n",
            "\n",
            "\n",
            "Class-wise Accuracy:\n",
            "  Class 3: 68.52%\n",
            "  Class 0: 60.03%\n",
            "  Class 2: 71.30%\n",
            "  Class 1: 65.59%\n",
            "Train Accuracy: 60.69%, Average Train Loss: 0.929264, Test Accuracy: 66.36%, Average Test Loss: 0.850839\n",
            "\n",
            "Epoch 49/100: "
          ]
        },
        {
          "output_type": "stream",
          "name": "stderr",
          "text": [
            "100%|██████████| 162/162 [00:14<00:00, 11.04it/s]\n",
            "Batch 162/162, Loss: 0.724244: 100%|██████████| 162/162 [00:06<00:00, 24.04it/s]\n"
          ]
        },
        {
          "output_type": "stream",
          "name": "stdout",
          "text": [
            "\n",
            "Class-wise Accuracy:\n",
            "  Class 3: 70.68%\n",
            "  Class 0: 57.87%\n",
            "  Class 2: 72.07%\n",
            "  Class 1: 61.57%\n",
            "Test Accuracy: 65.5%, Test Loss: 0.846716\n",
            "\n",
            "\n",
            "Class-wise Accuracy:\n",
            "  Class 3: 70.68%\n",
            "  Class 0: 57.87%\n",
            "  Class 2: 72.07%\n",
            "  Class 1: 61.57%\n",
            "Train Accuracy: 60.49%, Average Train Loss: 0.928585, Test Accuracy: 65.55%, Average Test Loss: 0.846716\n",
            "\n",
            "Epoch 50/100: "
          ]
        },
        {
          "output_type": "stream",
          "name": "stderr",
          "text": [
            "100%|██████████| 162/162 [00:14<00:00, 11.02it/s]\n",
            "Batch 162/162, Loss: 0.755737: 100%|██████████| 162/162 [00:06<00:00, 24.73it/s]\n"
          ]
        },
        {
          "output_type": "stream",
          "name": "stdout",
          "text": [
            "\n",
            "Class-wise Accuracy:\n",
            "  Class 3: 72.84%\n",
            "  Class 0: 50.62%\n",
            "  Class 2: 78.24%\n",
            "  Class 1: 60.80%\n",
            "Test Accuracy: 65.6%, Test Loss: 0.849872\n",
            "\n",
            "\n",
            "Class-wise Accuracy:\n",
            "  Class 3: 72.84%\n",
            "  Class 0: 50.62%\n",
            "  Class 2: 78.24%\n",
            "  Class 1: 60.80%\n",
            "Train Accuracy: 62.62%, Average Train Loss: 0.917326, Test Accuracy: 65.62%, Average Test Loss: 0.849872\n",
            "\n",
            "Epoch 51/100: "
          ]
        },
        {
          "output_type": "stream",
          "name": "stderr",
          "text": [
            "100%|██████████| 162/162 [00:14<00:00, 10.90it/s]\n",
            "Batch 162/162, Loss: 0.694135: 100%|██████████| 162/162 [00:06<00:00, 24.09it/s]\n"
          ]
        },
        {
          "output_type": "stream",
          "name": "stdout",
          "text": [
            "\n",
            "Class-wise Accuracy:\n",
            "  Class 3: 62.96%\n",
            "  Class 0: 58.64%\n",
            "  Class 2: 72.22%\n",
            "  Class 1: 72.84%\n",
            "Test Accuracy: 66.7%, Test Loss: 0.850965\n",
            "\n",
            "\n",
            "Class-wise Accuracy:\n",
            "  Class 3: 62.96%\n",
            "  Class 0: 58.64%\n",
            "  Class 2: 72.22%\n",
            "  Class 1: 72.84%\n",
            "Train Accuracy: 61.73%, Average Train Loss: 0.931124, Test Accuracy: 66.67%, Average Test Loss: 0.850965\n",
            "\n",
            "Epoch 52/100: "
          ]
        },
        {
          "output_type": "stream",
          "name": "stderr",
          "text": [
            "100%|██████████| 162/162 [00:14<00:00, 10.99it/s]\n",
            "Batch 162/162, Loss: 0.650910: 100%|██████████| 162/162 [00:06<00:00, 24.34it/s]\n"
          ]
        },
        {
          "output_type": "stream",
          "name": "stdout",
          "text": [
            "\n",
            "Class-wise Accuracy:\n",
            "  Class 3: 68.21%\n",
            "  Class 0: 51.85%\n",
            "  Class 2: 66.98%\n",
            "  Class 1: 80.56%\n",
            "Test Accuracy: 66.9%, Test Loss: 0.836908\n",
            "\n",
            "\n",
            "Class-wise Accuracy:\n",
            "  Class 3: 68.21%\n",
            "  Class 0: 51.85%\n",
            "  Class 2: 66.98%\n",
            "  Class 1: 80.56%\n",
            "Train Accuracy: 62.23%, Average Train Loss: 0.907674, Test Accuracy: 66.90%, Average Test Loss: 0.836908\n",
            "\n",
            "Epoch 53/100: "
          ]
        },
        {
          "output_type": "stream",
          "name": "stderr",
          "text": [
            "100%|██████████| 162/162 [00:14<00:00, 11.02it/s]\n",
            "Batch 162/162, Loss: 0.714527: 100%|██████████| 162/162 [00:06<00:00, 24.38it/s]\n"
          ]
        },
        {
          "output_type": "stream",
          "name": "stdout",
          "text": [
            "\n",
            "Class-wise Accuracy:\n",
            "  Class 3: 69.75%\n",
            "  Class 0: 68.21%\n",
            "  Class 2: 71.91%\n",
            "  Class 1: 55.09%\n",
            "Test Accuracy: 66.2%, Test Loss: 0.851176\n",
            "\n",
            "\n",
            "Class-wise Accuracy:\n",
            "  Class 3: 69.75%\n",
            "  Class 0: 68.21%\n",
            "  Class 2: 71.91%\n",
            "  Class 1: 55.09%\n",
            "Train Accuracy: 62.65%, Average Train Loss: 0.913842, Test Accuracy: 66.24%, Average Test Loss: 0.851176\n",
            "\n",
            "Epoch 54/100: "
          ]
        },
        {
          "output_type": "stream",
          "name": "stderr",
          "text": [
            "100%|██████████| 162/162 [00:14<00:00, 11.05it/s]\n",
            "Batch 162/162, Loss: 0.701586: 100%|██████████| 162/162 [00:06<00:00, 24.17it/s]\n"
          ]
        },
        {
          "output_type": "stream",
          "name": "stdout",
          "text": [
            "\n",
            "Class-wise Accuracy:\n",
            "  Class 3: 70.37%\n",
            "  Class 0: 56.79%\n",
            "  Class 2: 73.61%\n",
            "  Class 1: 68.98%\n",
            "Test Accuracy: 67.4%, Test Loss: 0.828708\n",
            "\n",
            "\n",
            "Class-wise Accuracy:\n",
            "  Class 3: 70.37%\n",
            "  Class 0: 56.79%\n",
            "  Class 2: 73.61%\n",
            "  Class 1: 68.98%\n",
            "Train Accuracy: 61.00%, Average Train Loss: 0.925022, Test Accuracy: 67.44%, Average Test Loss: 0.828708\n",
            "\n",
            "Epoch 55/100: "
          ]
        },
        {
          "output_type": "stream",
          "name": "stderr",
          "text": [
            "100%|██████████| 162/162 [00:14<00:00, 11.04it/s]\n",
            "Batch 162/162, Loss: 0.694296: 100%|██████████| 162/162 [00:06<00:00, 24.54it/s]\n"
          ]
        },
        {
          "output_type": "stream",
          "name": "stdout",
          "text": [
            "\n",
            "Class-wise Accuracy:\n",
            "  Class 3: 64.97%\n",
            "  Class 0: 53.40%\n",
            "  Class 2: 74.23%\n",
            "  Class 1: 74.69%\n",
            "Test Accuracy: 66.8%, Test Loss: 0.827568\n",
            "\n",
            "\n",
            "Class-wise Accuracy:\n",
            "  Class 3: 64.97%\n",
            "  Class 0: 53.40%\n",
            "  Class 2: 74.23%\n",
            "  Class 1: 74.69%\n",
            "Train Accuracy: 62.15%, Average Train Loss: 0.908505, Test Accuracy: 66.82%, Average Test Loss: 0.827568\n",
            "\n",
            "Epoch 56/100: "
          ]
        },
        {
          "output_type": "stream",
          "name": "stderr",
          "text": [
            "100%|██████████| 162/162 [00:14<00:00, 11.00it/s]\n",
            "Batch 162/162, Loss: 0.742741: 100%|██████████| 162/162 [00:06<00:00, 24.09it/s]\n"
          ]
        },
        {
          "output_type": "stream",
          "name": "stdout",
          "text": [
            "\n",
            "Class-wise Accuracy:\n",
            "  Class 3: 63.73%\n",
            "  Class 0: 49.07%\n",
            "  Class 2: 81.48%\n",
            "  Class 1: 68.98%\n",
            "Test Accuracy: 65.8%, Test Loss: 0.832914\n",
            "\n",
            "\n",
            "Class-wise Accuracy:\n",
            "  Class 3: 63.73%\n",
            "  Class 0: 49.07%\n",
            "  Class 2: 81.48%\n",
            "  Class 1: 68.98%\n",
            "Train Accuracy: 62.50%, Average Train Loss: 0.904168, Test Accuracy: 65.82%, Average Test Loss: 0.832914\n",
            "\n",
            "Epoch 57/100: "
          ]
        },
        {
          "output_type": "stream",
          "name": "stderr",
          "text": [
            "100%|██████████| 162/162 [00:14<00:00, 10.96it/s]\n",
            "Batch 162/162, Loss: 0.647207: 100%|██████████| 162/162 [00:06<00:00, 24.38it/s]\n"
          ]
        },
        {
          "output_type": "stream",
          "name": "stdout",
          "text": [
            "\n",
            "Class-wise Accuracy:\n",
            "  Class 3: 69.60%\n",
            "  Class 0: 50.93%\n",
            "  Class 2: 71.45%\n",
            "  Class 1: 77.47%\n",
            "Test Accuracy: 67.4%, Test Loss: 0.821818\n",
            "\n",
            "\n",
            "Class-wise Accuracy:\n",
            "  Class 3: 69.60%\n",
            "  Class 0: 50.93%\n",
            "  Class 2: 71.45%\n",
            "  Class 1: 77.47%\n",
            "Train Accuracy: 63.43%, Average Train Loss: 0.901656, Test Accuracy: 67.36%, Average Test Loss: 0.821818\n",
            "\n",
            "Epoch 58/100: "
          ]
        },
        {
          "output_type": "stream",
          "name": "stderr",
          "text": [
            "100%|██████████| 162/162 [00:14<00:00, 11.02it/s]\n",
            "Batch 162/162, Loss: 0.673484: 100%|██████████| 162/162 [00:06<00:00, 24.09it/s]\n"
          ]
        },
        {
          "output_type": "stream",
          "name": "stdout",
          "text": [
            "\n",
            "Class-wise Accuracy:\n",
            "  Class 3: 70.68%\n",
            "  Class 0: 55.25%\n",
            "  Class 2: 75.00%\n",
            "  Class 1: 71.14%\n",
            "Test Accuracy: 68.0%, Test Loss: 0.809108\n",
            "\n",
            "\n",
            "Class-wise Accuracy:\n",
            "  Class 3: 70.68%\n",
            "  Class 0: 55.25%\n",
            "  Class 2: 75.00%\n",
            "  Class 1: 71.14%\n",
            "Train Accuracy: 62.69%, Average Train Loss: 0.905792, Test Accuracy: 68.02%, Average Test Loss: 0.809108\n",
            "\n",
            "Epoch 59/100: "
          ]
        },
        {
          "output_type": "stream",
          "name": "stderr",
          "text": [
            "100%|██████████| 162/162 [00:14<00:00, 11.06it/s]\n",
            "Batch 162/162, Loss: 0.687446: 100%|██████████| 162/162 [00:06<00:00, 24.59it/s]\n"
          ]
        },
        {
          "output_type": "stream",
          "name": "stdout",
          "text": [
            "\n",
            "Class-wise Accuracy:\n",
            "  Class 3: 56.64%\n",
            "  Class 0: 59.26%\n",
            "  Class 2: 77.16%\n",
            "  Class 1: 74.54%\n",
            "Test Accuracy: 66.9%, Test Loss: 0.823540\n",
            "\n",
            "\n",
            "Class-wise Accuracy:\n",
            "  Class 3: 56.64%\n",
            "  Class 0: 59.26%\n",
            "  Class 2: 77.16%\n",
            "  Class 1: 74.54%\n",
            "Train Accuracy: 63.27%, Average Train Loss: 0.876965, Test Accuracy: 66.90%, Average Test Loss: 0.823540\n",
            "\n",
            "Epoch 60/100: "
          ]
        },
        {
          "output_type": "stream",
          "name": "stderr",
          "text": [
            "100%|██████████| 162/162 [00:14<00:00, 11.01it/s]\n",
            "Batch 162/162, Loss: 0.733672: 100%|██████████| 162/162 [00:06<00:00, 24.13it/s]\n"
          ]
        },
        {
          "output_type": "stream",
          "name": "stdout",
          "text": [
            "\n",
            "Class-wise Accuracy:\n",
            "  Class 3: 66.98%\n",
            "  Class 0: 59.41%\n",
            "  Class 2: 77.01%\n",
            "  Class 1: 70.83%\n",
            "Test Accuracy: 68.6%, Test Loss: 0.808430\n",
            "\n",
            "\n",
            "Class-wise Accuracy:\n",
            "  Class 3: 66.98%\n",
            "  Class 0: 59.41%\n",
            "  Class 2: 77.01%\n",
            "  Class 1: 70.83%\n",
            "Train Accuracy: 62.04%, Average Train Loss: 0.898989, Test Accuracy: 68.56%, Average Test Loss: 0.808430\n",
            "\n",
            "Epoch 61/100: "
          ]
        },
        {
          "output_type": "stream",
          "name": "stderr",
          "text": [
            "100%|██████████| 162/162 [00:14<00:00, 11.00it/s]\n",
            "Batch 162/162, Loss: 0.719254: 100%|██████████| 162/162 [00:06<00:00, 24.46it/s]\n"
          ]
        },
        {
          "output_type": "stream",
          "name": "stdout",
          "text": [
            "\n",
            "Class-wise Accuracy:\n",
            "  Class 3: 57.25%\n",
            "  Class 0: 60.34%\n",
            "  Class 2: 76.23%\n",
            "  Class 1: 77.62%\n",
            "Test Accuracy: 67.9%, Test Loss: 0.816101\n",
            "\n",
            "\n",
            "Class-wise Accuracy:\n",
            "  Class 3: 57.25%\n",
            "  Class 0: 60.34%\n",
            "  Class 2: 76.23%\n",
            "  Class 1: 77.62%\n",
            "Train Accuracy: 62.89%, Average Train Loss: 0.886993, Test Accuracy: 67.86%, Average Test Loss: 0.816101\n",
            "\n",
            "Epoch 62/100: "
          ]
        },
        {
          "output_type": "stream",
          "name": "stderr",
          "text": [
            "100%|██████████| 162/162 [00:14<00:00, 10.98it/s]\n",
            "Batch 162/162, Loss: 0.670891: 100%|██████████| 162/162 [00:06<00:00, 24.12it/s]\n"
          ]
        },
        {
          "output_type": "stream",
          "name": "stdout",
          "text": [
            "\n",
            "Class-wise Accuracy:\n",
            "  Class 3: 63.58%\n",
            "  Class 0: 60.96%\n",
            "  Class 2: 75.15%\n",
            "  Class 1: 75.46%\n",
            "Test Accuracy: 68.8%, Test Loss: 0.802297\n",
            "\n",
            "\n",
            "Class-wise Accuracy:\n",
            "  Class 3: 63.58%\n",
            "  Class 0: 60.96%\n",
            "  Class 2: 75.15%\n",
            "  Class 1: 75.46%\n",
            "Train Accuracy: 62.50%, Average Train Loss: 0.899838, Test Accuracy: 68.79%, Average Test Loss: 0.802297\n",
            "\n",
            "Epoch 63/100: "
          ]
        },
        {
          "output_type": "stream",
          "name": "stderr",
          "text": [
            "100%|██████████| 162/162 [00:14<00:00, 11.01it/s]\n",
            "Batch 162/162, Loss: 0.657344: 100%|██████████| 162/162 [00:06<00:00, 24.40it/s]\n"
          ]
        },
        {
          "output_type": "stream",
          "name": "stdout",
          "text": [
            "\n",
            "Class-wise Accuracy:\n",
            "  Class 3: 71.91%\n",
            "  Class 0: 57.72%\n",
            "  Class 2: 75.93%\n",
            "  Class 1: 67.75%\n",
            "Test Accuracy: 68.3%, Test Loss: 0.798500\n",
            "\n",
            "\n",
            "Class-wise Accuracy:\n",
            "  Class 3: 71.91%\n",
            "  Class 0: 57.72%\n",
            "  Class 2: 75.93%\n",
            "  Class 1: 67.75%\n",
            "Train Accuracy: 64.51%, Average Train Loss: 0.873008, Test Accuracy: 68.33%, Average Test Loss: 0.798500\n",
            "\n",
            "Epoch 64/100: "
          ]
        },
        {
          "output_type": "stream",
          "name": "stderr",
          "text": [
            "100%|██████████| 162/162 [00:14<00:00, 11.04it/s]\n",
            "Batch 162/162, Loss: 0.710697: 100%|██████████| 162/162 [00:06<00:00, 24.42it/s]\n"
          ]
        },
        {
          "output_type": "stream",
          "name": "stdout",
          "text": [
            "\n",
            "Class-wise Accuracy:\n",
            "  Class 3: 66.67%\n",
            "  Class 0: 52.01%\n",
            "  Class 2: 83.80%\n",
            "  Class 1: 68.83%\n",
            "Test Accuracy: 67.8%, Test Loss: 0.808348\n",
            "\n",
            "\n",
            "Class-wise Accuracy:\n",
            "  Class 3: 66.67%\n",
            "  Class 0: 52.01%\n",
            "  Class 2: 83.80%\n",
            "  Class 1: 68.83%\n",
            "Train Accuracy: 62.77%, Average Train Loss: 0.886605, Test Accuracy: 67.82%, Average Test Loss: 0.808348\n",
            "\n",
            "Epoch 65/100: "
          ]
        },
        {
          "output_type": "stream",
          "name": "stderr",
          "text": [
            "100%|██████████| 162/162 [00:14<00:00, 11.01it/s]\n",
            "Batch 162/162, Loss: 0.677157: 100%|██████████| 162/162 [00:06<00:00, 23.98it/s]\n"
          ]
        },
        {
          "output_type": "stream",
          "name": "stdout",
          "text": [
            "\n",
            "Class-wise Accuracy:\n",
            "  Class 3: 65.59%\n",
            "  Class 0: 63.43%\n",
            "  Class 2: 75.77%\n",
            "  Class 1: 73.15%\n",
            "Test Accuracy: 69.5%, Test Loss: 0.791950\n",
            "\n",
            "\n",
            "Class-wise Accuracy:\n",
            "  Class 3: 65.59%\n",
            "  Class 0: 63.43%\n",
            "  Class 2: 75.77%\n",
            "  Class 1: 73.15%\n",
            "Train Accuracy: 61.96%, Average Train Loss: 0.887360, Test Accuracy: 69.48%, Average Test Loss: 0.791950\n",
            "\n",
            "Epoch 66/100: "
          ]
        },
        {
          "output_type": "stream",
          "name": "stderr",
          "text": [
            "100%|██████████| 162/162 [00:14<00:00, 10.99it/s]\n",
            "Batch 162/162, Loss: 0.683521: 100%|██████████| 162/162 [00:06<00:00, 24.45it/s]\n"
          ]
        },
        {
          "output_type": "stream",
          "name": "stdout",
          "text": [
            "\n",
            "Class-wise Accuracy:\n",
            "  Class 3: 76.39%\n",
            "  Class 0: 54.01%\n",
            "  Class 2: 76.39%\n",
            "  Class 1: 66.82%\n",
            "Test Accuracy: 68.4%, Test Loss: 0.801167\n",
            "\n",
            "\n",
            "Class-wise Accuracy:\n",
            "  Class 3: 76.39%\n",
            "  Class 0: 54.01%\n",
            "  Class 2: 76.39%\n",
            "  Class 1: 66.82%\n",
            "Train Accuracy: 62.89%, Average Train Loss: 0.900068, Test Accuracy: 68.40%, Average Test Loss: 0.801167\n",
            "\n",
            "Epoch 67/100: "
          ]
        },
        {
          "output_type": "stream",
          "name": "stderr",
          "text": [
            "100%|██████████| 162/162 [00:14<00:00, 10.97it/s]\n",
            "Batch 162/162, Loss: 0.690817: 100%|██████████| 162/162 [00:06<00:00, 23.91it/s]\n"
          ]
        },
        {
          "output_type": "stream",
          "name": "stdout",
          "text": [
            "\n",
            "Class-wise Accuracy:\n",
            "  Class 3: 66.98%\n",
            "  Class 0: 58.80%\n",
            "  Class 2: 80.40%\n",
            "  Class 1: 69.91%\n",
            "Test Accuracy: 69.0%, Test Loss: 0.794020\n",
            "\n",
            "\n",
            "Class-wise Accuracy:\n",
            "  Class 3: 66.98%\n",
            "  Class 0: 58.80%\n",
            "  Class 2: 80.40%\n",
            "  Class 1: 69.91%\n",
            "Train Accuracy: 63.89%, Average Train Loss: 0.874506, Test Accuracy: 69.02%, Average Test Loss: 0.794020\n",
            "\n",
            "Epoch 68/100: "
          ]
        },
        {
          "output_type": "stream",
          "name": "stderr",
          "text": [
            "100%|██████████| 162/162 [00:14<00:00, 10.92it/s]\n",
            "Batch 162/162, Loss: 0.672849: 100%|██████████| 162/162 [00:06<00:00, 24.14it/s]\n"
          ]
        },
        {
          "output_type": "stream",
          "name": "stdout",
          "text": [
            "\n",
            "Class-wise Accuracy:\n",
            "  Class 3: 67.13%\n",
            "  Class 0: 62.19%\n",
            "  Class 2: 75.62%\n",
            "  Class 1: 72.53%\n",
            "Test Accuracy: 69.4%, Test Loss: 0.787579\n",
            "\n",
            "\n",
            "Class-wise Accuracy:\n",
            "  Class 3: 67.13%\n",
            "  Class 0: 62.19%\n",
            "  Class 2: 75.62%\n",
            "  Class 1: 72.53%\n",
            "Train Accuracy: 63.85%, Average Train Loss: 0.884706, Test Accuracy: 69.37%, Average Test Loss: 0.787579\n",
            "\n",
            "Epoch 69/100: "
          ]
        },
        {
          "output_type": "stream",
          "name": "stderr",
          "text": [
            "100%|██████████| 162/162 [00:15<00:00, 10.74it/s]\n",
            "Batch 162/162, Loss: 0.656527: 100%|██████████| 162/162 [00:06<00:00, 23.84it/s]\n"
          ]
        },
        {
          "output_type": "stream",
          "name": "stdout",
          "text": [
            "\n",
            "Class-wise Accuracy:\n",
            "  Class 3: 70.37%\n",
            "  Class 0: 64.51%\n",
            "  Class 2: 76.85%\n",
            "  Class 1: 68.67%\n",
            "Test Accuracy: 70.1%, Test Loss: 0.782975\n",
            "\n",
            "\n",
            "Class-wise Accuracy:\n",
            "  Class 3: 70.37%\n",
            "  Class 0: 64.51%\n",
            "  Class 2: 76.85%\n",
            "  Class 1: 68.67%\n",
            "Train Accuracy: 64.04%, Average Train Loss: 0.876879, Test Accuracy: 70.10%, Average Test Loss: 0.782975\n",
            "\n",
            "Epoch 70/100: "
          ]
        },
        {
          "output_type": "stream",
          "name": "stderr",
          "text": [
            "100%|██████████| 162/162 [00:14<00:00, 10.82it/s]\n",
            "Batch 162/162, Loss: 0.672547: 100%|██████████| 162/162 [00:06<00:00, 24.03it/s]\n"
          ]
        },
        {
          "output_type": "stream",
          "name": "stdout",
          "text": [
            "\n",
            "Class-wise Accuracy:\n",
            "  Class 3: 67.59%\n",
            "  Class 0: 59.57%\n",
            "  Class 2: 74.69%\n",
            "  Class 1: 77.62%\n",
            "Test Accuracy: 69.9%, Test Loss: 0.783302\n",
            "\n",
            "\n",
            "Class-wise Accuracy:\n",
            "  Class 3: 67.59%\n",
            "  Class 0: 59.57%\n",
            "  Class 2: 74.69%\n",
            "  Class 1: 77.62%\n",
            "Train Accuracy: 64.51%, Average Train Loss: 0.860744, Test Accuracy: 69.87%, Average Test Loss: 0.783302\n",
            "\n",
            "Epoch 71/100: "
          ]
        },
        {
          "output_type": "stream",
          "name": "stderr",
          "text": [
            "100%|██████████| 162/162 [00:14<00:00, 10.91it/s]\n",
            "Batch 162/162, Loss: 0.671409: 100%|██████████| 162/162 [00:06<00:00, 24.31it/s]\n"
          ]
        },
        {
          "output_type": "stream",
          "name": "stdout",
          "text": [
            "\n",
            "Class-wise Accuracy:\n",
            "  Class 3: 67.28%\n",
            "  Class 0: 68.36%\n",
            "  Class 2: 75.00%\n",
            "  Class 1: 70.22%\n",
            "Test Accuracy: 70.2%, Test Loss: 0.783632\n",
            "\n",
            "\n",
            "Class-wise Accuracy:\n",
            "  Class 3: 67.28%\n",
            "  Class 0: 68.36%\n",
            "  Class 2: 75.00%\n",
            "  Class 1: 70.22%\n",
            "Train Accuracy: 64.54%, Average Train Loss: 0.874418, Test Accuracy: 70.22%, Average Test Loss: 0.783632\n",
            "\n",
            "Epoch 72/100: "
          ]
        },
        {
          "output_type": "stream",
          "name": "stderr",
          "text": [
            "100%|██████████| 162/162 [00:14<00:00, 10.92it/s]\n",
            "Batch 162/162, Loss: 0.671370: 100%|██████████| 162/162 [00:06<00:00, 23.92it/s]\n"
          ]
        },
        {
          "output_type": "stream",
          "name": "stdout",
          "text": [
            "\n",
            "Class-wise Accuracy:\n",
            "  Class 3: 73.92%\n",
            "  Class 0: 62.50%\n",
            "  Class 2: 75.31%\n",
            "  Class 1: 66.20%\n",
            "Test Accuracy: 69.5%, Test Loss: 0.787260\n",
            "\n",
            "\n",
            "Class-wise Accuracy:\n",
            "  Class 3: 73.92%\n",
            "  Class 0: 62.50%\n",
            "  Class 2: 75.31%\n",
            "  Class 1: 66.20%\n",
            "Train Accuracy: 65.20%, Average Train Loss: 0.854969, Test Accuracy: 69.48%, Average Test Loss: 0.787260\n",
            "\n",
            "Epoch 73/100: "
          ]
        },
        {
          "output_type": "stream",
          "name": "stderr",
          "text": [
            "100%|██████████| 162/162 [00:14<00:00, 10.86it/s]\n",
            "Batch 162/162, Loss: 0.641680: 100%|██████████| 162/162 [00:06<00:00, 24.14it/s]\n"
          ]
        },
        {
          "output_type": "stream",
          "name": "stdout",
          "text": [
            "\n",
            "Class-wise Accuracy:\n",
            "  Class 3: 67.75%\n",
            "  Class 0: 60.96%\n",
            "  Class 2: 75.77%\n",
            "  Class 1: 74.38%\n",
            "Test Accuracy: 69.7%, Test Loss: 0.777134\n",
            "\n",
            "\n",
            "Class-wise Accuracy:\n",
            "  Class 3: 67.75%\n",
            "  Class 0: 60.96%\n",
            "  Class 2: 75.77%\n",
            "  Class 1: 74.38%\n",
            "Train Accuracy: 64.78%, Average Train Loss: 0.867548, Test Accuracy: 69.71%, Average Test Loss: 0.777134\n",
            "\n",
            "Epoch 74/100: "
          ]
        },
        {
          "output_type": "stream",
          "name": "stderr",
          "text": [
            "100%|██████████| 162/162 [00:15<00:00, 10.78it/s]\n",
            "Batch 162/162, Loss: 0.654503: 100%|██████████| 162/162 [00:06<00:00, 23.64it/s]\n"
          ]
        },
        {
          "output_type": "stream",
          "name": "stdout",
          "text": [
            "\n",
            "Class-wise Accuracy:\n",
            "  Class 3: 71.30%\n",
            "  Class 0: 60.03%\n",
            "  Class 2: 76.54%\n",
            "  Class 1: 70.37%\n",
            "Test Accuracy: 69.6%, Test Loss: 0.774554\n",
            "\n",
            "\n",
            "Class-wise Accuracy:\n",
            "  Class 3: 71.30%\n",
            "  Class 0: 60.03%\n",
            "  Class 2: 76.54%\n",
            "  Class 1: 70.37%\n",
            "Train Accuracy: 65.08%, Average Train Loss: 0.870903, Test Accuracy: 69.56%, Average Test Loss: 0.774554\n",
            "\n",
            "Epoch 75/100: "
          ]
        },
        {
          "output_type": "stream",
          "name": "stderr",
          "text": [
            "100%|██████████| 162/162 [00:14<00:00, 10.80it/s]\n",
            "Batch 162/162, Loss: 0.637139: 100%|██████████| 162/162 [00:06<00:00, 23.72it/s]\n"
          ]
        },
        {
          "output_type": "stream",
          "name": "stdout",
          "text": [
            "\n",
            "Class-wise Accuracy:\n",
            "  Class 3: 70.06%\n",
            "  Class 0: 61.57%\n",
            "  Class 2: 76.54%\n",
            "  Class 1: 71.60%\n",
            "Test Accuracy: 69.9%, Test Loss: 0.771667\n",
            "\n",
            "\n",
            "Class-wise Accuracy:\n",
            "  Class 3: 70.06%\n",
            "  Class 0: 61.57%\n",
            "  Class 2: 76.54%\n",
            "  Class 1: 71.60%\n",
            "Train Accuracy: 65.32%, Average Train Loss: 0.851199, Test Accuracy: 69.95%, Average Test Loss: 0.771667\n",
            "\n",
            "Epoch 76/100: "
          ]
        },
        {
          "output_type": "stream",
          "name": "stderr",
          "text": [
            "100%|██████████| 162/162 [00:14<00:00, 10.80it/s]\n",
            "Batch 162/162, Loss: 0.607935: 100%|██████████| 162/162 [00:06<00:00, 24.03it/s]\n"
          ]
        },
        {
          "output_type": "stream",
          "name": "stdout",
          "text": [
            "\n",
            "Class-wise Accuracy:\n",
            "  Class 3: 70.68%\n",
            "  Class 0: 62.04%\n",
            "  Class 2: 73.92%\n",
            "  Class 1: 73.61%\n",
            "Test Accuracy: 70.1%, Test Loss: 0.772428\n",
            "\n",
            "\n",
            "Class-wise Accuracy:\n",
            "  Class 3: 70.68%\n",
            "  Class 0: 62.04%\n",
            "  Class 2: 73.92%\n",
            "  Class 1: 73.61%\n",
            "Train Accuracy: 64.20%, Average Train Loss: 0.869937, Test Accuracy: 70.06%, Average Test Loss: 0.772428\n",
            "\n",
            "Epoch 77/100: "
          ]
        },
        {
          "output_type": "stream",
          "name": "stderr",
          "text": [
            "100%|██████████| 162/162 [00:14<00:00, 10.87it/s]\n",
            "Batch 162/162, Loss: 0.639030: 100%|██████████| 162/162 [00:06<00:00, 23.97it/s]\n"
          ]
        },
        {
          "output_type": "stream",
          "name": "stdout",
          "text": [
            "\n",
            "Class-wise Accuracy:\n",
            "  Class 3: 69.60%\n",
            "  Class 0: 62.35%\n",
            "  Class 2: 78.09%\n",
            "  Class 1: 69.44%\n",
            "Test Accuracy: 69.9%, Test Loss: 0.770190\n",
            "\n",
            "\n",
            "Class-wise Accuracy:\n",
            "  Class 3: 69.60%\n",
            "  Class 0: 62.35%\n",
            "  Class 2: 78.09%\n",
            "  Class 1: 69.44%\n",
            "Train Accuracy: 64.62%, Average Train Loss: 0.848150, Test Accuracy: 69.87%, Average Test Loss: 0.770190\n",
            "\n",
            "Epoch 78/100: "
          ]
        },
        {
          "output_type": "stream",
          "name": "stderr",
          "text": [
            "100%|██████████| 162/162 [00:15<00:00, 10.80it/s]\n",
            "Batch 162/162, Loss: 0.646370: 100%|██████████| 162/162 [00:06<00:00, 23.88it/s]\n"
          ]
        },
        {
          "output_type": "stream",
          "name": "stdout",
          "text": [
            "\n",
            "Class-wise Accuracy:\n",
            "  Class 3: 68.06%\n",
            "  Class 0: 61.11%\n",
            "  Class 2: 77.78%\n",
            "  Class 1: 73.15%\n",
            "Test Accuracy: 70.0%, Test Loss: 0.770341\n",
            "\n",
            "\n",
            "Class-wise Accuracy:\n",
            "  Class 3: 68.06%\n",
            "  Class 0: 61.11%\n",
            "  Class 2: 77.78%\n",
            "  Class 1: 73.15%\n",
            "Train Accuracy: 65.20%, Average Train Loss: 0.854981, Test Accuracy: 70.02%, Average Test Loss: 0.770341\n",
            "\n",
            "Epoch 79/100: "
          ]
        },
        {
          "output_type": "stream",
          "name": "stderr",
          "text": [
            "100%|██████████| 162/162 [00:15<00:00, 10.79it/s]\n",
            "Batch 162/162, Loss: 0.634186: 100%|██████████| 162/162 [00:06<00:00, 23.28it/s]\n"
          ]
        },
        {
          "output_type": "stream",
          "name": "stdout",
          "text": [
            "\n",
            "Class-wise Accuracy:\n",
            "  Class 3: 67.13%\n",
            "  Class 0: 62.81%\n",
            "  Class 2: 77.01%\n",
            "  Class 1: 72.84%\n",
            "Test Accuracy: 69.9%, Test Loss: 0.768269\n",
            "\n",
            "\n",
            "Class-wise Accuracy:\n",
            "  Class 3: 67.13%\n",
            "  Class 0: 62.81%\n",
            "  Class 2: 77.01%\n",
            "  Class 1: 72.84%\n",
            "Train Accuracy: 65.35%, Average Train Loss: 0.844452, Test Accuracy: 69.95%, Average Test Loss: 0.768269\n",
            "\n",
            "Epoch 80/100: "
          ]
        },
        {
          "output_type": "stream",
          "name": "stderr",
          "text": [
            "100%|██████████| 162/162 [00:15<00:00, 10.80it/s]\n",
            "Batch 162/162, Loss: 0.623477: 100%|██████████| 162/162 [00:06<00:00, 24.06it/s]\n"
          ]
        },
        {
          "output_type": "stream",
          "name": "stdout",
          "text": [
            "\n",
            "Class-wise Accuracy:\n",
            "  Class 3: 70.06%\n",
            "  Class 0: 62.19%\n",
            "  Class 2: 75.77%\n",
            "  Class 1: 72.99%\n",
            "Test Accuracy: 70.3%, Test Loss: 0.767206\n",
            "\n",
            "\n",
            "Class-wise Accuracy:\n",
            "  Class 3: 70.06%\n",
            "  Class 0: 62.19%\n",
            "  Class 2: 75.77%\n",
            "  Class 1: 72.99%\n",
            "Train Accuracy: 64.51%, Average Train Loss: 0.851762, Test Accuracy: 70.25%, Average Test Loss: 0.767206\n",
            "\n",
            "Epoch 81/100: "
          ]
        },
        {
          "output_type": "stream",
          "name": "stderr",
          "text": [
            "100%|██████████| 162/162 [00:15<00:00, 10.80it/s]\n",
            "Batch 162/162, Loss: 0.648290: 100%|██████████| 162/162 [00:06<00:00, 23.49it/s]\n"
          ]
        },
        {
          "output_type": "stream",
          "name": "stdout",
          "text": [
            "\n",
            "Class-wise Accuracy:\n",
            "  Class 3: 68.06%\n",
            "  Class 0: 62.19%\n",
            "  Class 2: 77.47%\n",
            "  Class 1: 72.22%\n",
            "Test Accuracy: 70.0%, Test Loss: 0.767539\n",
            "\n",
            "\n",
            "Class-wise Accuracy:\n",
            "  Class 3: 68.06%\n",
            "  Class 0: 62.19%\n",
            "  Class 2: 77.47%\n",
            "  Class 1: 72.22%\n",
            "Train Accuracy: 64.89%, Average Train Loss: 0.858905, Test Accuracy: 69.98%, Average Test Loss: 0.767539\n",
            "\n",
            "Epoch 82/100: "
          ]
        },
        {
          "output_type": "stream",
          "name": "stderr",
          "text": [
            "100%|██████████| 162/162 [00:14<00:00, 10.83it/s]\n",
            "Batch 162/162, Loss: 0.640286: 100%|██████████| 162/162 [00:06<00:00, 24.04it/s]\n"
          ]
        },
        {
          "output_type": "stream",
          "name": "stdout",
          "text": [
            "\n",
            "Class-wise Accuracy:\n",
            "  Class 3: 70.22%\n",
            "  Class 0: 60.96%\n",
            "  Class 2: 76.23%\n",
            "  Class 1: 73.46%\n",
            "Test Accuracy: 70.2%, Test Loss: 0.767762\n",
            "\n",
            "\n",
            "Class-wise Accuracy:\n",
            "  Class 3: 70.22%\n",
            "  Class 0: 60.96%\n",
            "  Class 2: 76.23%\n",
            "  Class 1: 73.46%\n",
            "Train Accuracy: 64.81%, Average Train Loss: 0.852090, Test Accuracy: 70.22%, Average Test Loss: 0.767762\n",
            "\n",
            "Epoch 83/100: "
          ]
        },
        {
          "output_type": "stream",
          "name": "stderr",
          "text": [
            "100%|██████████| 162/162 [00:14<00:00, 10.84it/s]\n",
            "Batch 162/162, Loss: 0.614169: 100%|██████████| 162/162 [00:06<00:00, 23.70it/s]\n"
          ]
        },
        {
          "output_type": "stream",
          "name": "stdout",
          "text": [
            "\n",
            "Class-wise Accuracy:\n",
            "  Class 3: 69.14%\n",
            "  Class 0: 64.97%\n",
            "  Class 2: 73.15%\n",
            "  Class 1: 73.92%\n",
            "Test Accuracy: 70.3%, Test Loss: 0.772442\n",
            "\n",
            "\n",
            "Class-wise Accuracy:\n",
            "  Class 3: 69.14%\n",
            "  Class 0: 64.97%\n",
            "  Class 2: 73.15%\n",
            "  Class 1: 73.92%\n",
            "Train Accuracy: 65.12%, Average Train Loss: 0.856663, Test Accuracy: 70.29%, Average Test Loss: 0.772442\n",
            "\n",
            "Epoch 84/100: "
          ]
        },
        {
          "output_type": "stream",
          "name": "stderr",
          "text": [
            "100%|██████████| 162/162 [00:14<00:00, 10.89it/s]\n",
            "Batch 162/162, Loss: 0.650121: 100%|██████████| 162/162 [00:06<00:00, 24.12it/s]\n"
          ]
        },
        {
          "output_type": "stream",
          "name": "stdout",
          "text": [
            "\n",
            "Class-wise Accuracy:\n",
            "  Class 3: 70.37%\n",
            "  Class 0: 63.58%\n",
            "  Class 2: 77.01%\n",
            "  Class 1: 72.84%\n",
            "Test Accuracy: 70.9%, Test Loss: 0.766342\n",
            "\n",
            "\n",
            "Class-wise Accuracy:\n",
            "  Class 3: 70.37%\n",
            "  Class 0: 63.58%\n",
            "  Class 2: 77.01%\n",
            "  Class 1: 72.84%\n",
            "Train Accuracy: 65.08%, Average Train Loss: 0.860349, Test Accuracy: 70.95%, Average Test Loss: 0.766342\n",
            "\n",
            "Epoch 85/100: "
          ]
        },
        {
          "output_type": "stream",
          "name": "stderr",
          "text": [
            "100%|██████████| 162/162 [00:14<00:00, 10.85it/s]\n",
            "Batch 162/162, Loss: 0.639178: 100%|██████████| 162/162 [00:06<00:00, 24.11it/s]\n"
          ]
        },
        {
          "output_type": "stream",
          "name": "stdout",
          "text": [
            "\n",
            "Class-wise Accuracy:\n",
            "  Class 3: 68.06%\n",
            "  Class 0: 64.04%\n",
            "  Class 2: 76.23%\n",
            "  Class 1: 74.38%\n",
            "Test Accuracy: 70.7%, Test Loss: 0.766707\n",
            "\n",
            "\n",
            "Class-wise Accuracy:\n",
            "  Class 3: 68.06%\n",
            "  Class 0: 64.04%\n",
            "  Class 2: 76.23%\n",
            "  Class 1: 74.38%\n",
            "Train Accuracy: 65.01%, Average Train Loss: 0.845370, Test Accuracy: 70.68%, Average Test Loss: 0.766707\n",
            "\n",
            "Epoch 86/100: "
          ]
        },
        {
          "output_type": "stream",
          "name": "stderr",
          "text": [
            "100%|██████████| 162/162 [00:14<00:00, 10.85it/s]\n",
            "Batch 162/162, Loss: 0.651992: 100%|██████████| 162/162 [00:06<00:00, 23.65it/s]\n"
          ]
        },
        {
          "output_type": "stream",
          "name": "stdout",
          "text": [
            "\n",
            "Class-wise Accuracy:\n",
            "  Class 3: 67.90%\n",
            "  Class 0: 62.19%\n",
            "  Class 2: 77.47%\n",
            "  Class 1: 73.92%\n",
            "Test Accuracy: 70.4%, Test Loss: 0.764302\n",
            "\n",
            "\n",
            "Class-wise Accuracy:\n",
            "  Class 3: 67.90%\n",
            "  Class 0: 62.19%\n",
            "  Class 2: 77.47%\n",
            "  Class 1: 73.92%\n",
            "Train Accuracy: 65.32%, Average Train Loss: 0.849747, Test Accuracy: 70.37%, Average Test Loss: 0.764302\n",
            "\n",
            "Epoch 87/100: "
          ]
        },
        {
          "output_type": "stream",
          "name": "stderr",
          "text": [
            "100%|██████████| 162/162 [00:14<00:00, 10.84it/s]\n",
            "Batch 162/162, Loss: 0.641212: 100%|██████████| 162/162 [00:06<00:00, 23.93it/s]\n"
          ]
        },
        {
          "output_type": "stream",
          "name": "stdout",
          "text": [
            "\n",
            "Class-wise Accuracy:\n",
            "  Class 3: 68.98%\n",
            "  Class 0: 62.81%\n",
            "  Class 2: 76.54%\n",
            "  Class 1: 74.54%\n",
            "Test Accuracy: 70.7%, Test Loss: 0.764659\n",
            "\n",
            "\n",
            "Class-wise Accuracy:\n",
            "  Class 3: 68.98%\n",
            "  Class 0: 62.81%\n",
            "  Class 2: 76.54%\n",
            "  Class 1: 74.54%\n",
            "Train Accuracy: 65.62%, Average Train Loss: 0.848410, Test Accuracy: 70.72%, Average Test Loss: 0.764659\n",
            "\n",
            "Epoch 88/100: "
          ]
        },
        {
          "output_type": "stream",
          "name": "stderr",
          "text": [
            "100%|██████████| 162/162 [00:14<00:00, 10.90it/s]\n",
            "Batch 162/162, Loss: 0.640784: 100%|██████████| 162/162 [00:06<00:00, 23.64it/s]\n"
          ]
        },
        {
          "output_type": "stream",
          "name": "stdout",
          "text": [
            "\n",
            "Class-wise Accuracy:\n",
            "  Class 3: 68.98%\n",
            "  Class 0: 62.65%\n",
            "  Class 2: 77.01%\n",
            "  Class 1: 73.92%\n",
            "Test Accuracy: 70.6%, Test Loss: 0.763640\n",
            "\n",
            "\n",
            "Class-wise Accuracy:\n",
            "  Class 3: 68.98%\n",
            "  Class 0: 62.65%\n",
            "  Class 2: 77.01%\n",
            "  Class 1: 73.92%\n",
            "Train Accuracy: 65.97%, Average Train Loss: 0.845305, Test Accuracy: 70.64%, Average Test Loss: 0.763640\n",
            "\n",
            "Epoch 89/100: "
          ]
        },
        {
          "output_type": "stream",
          "name": "stderr",
          "text": [
            "100%|██████████| 162/162 [00:14<00:00, 10.85it/s]\n",
            "Batch 162/162, Loss: 0.635050: 100%|██████████| 162/162 [00:06<00:00, 23.88it/s]\n"
          ]
        },
        {
          "output_type": "stream",
          "name": "stdout",
          "text": [
            "\n",
            "Class-wise Accuracy:\n",
            "  Class 3: 69.29%\n",
            "  Class 0: 64.97%\n",
            "  Class 2: 76.08%\n",
            "  Class 1: 73.92%\n",
            "Test Accuracy: 71.1%, Test Loss: 0.762758\n",
            "\n",
            "\n",
            "Class-wise Accuracy:\n",
            "  Class 3: 69.29%\n",
            "  Class 0: 64.97%\n",
            "  Class 2: 76.08%\n",
            "  Class 1: 73.92%\n",
            "Train Accuracy: 65.86%, Average Train Loss: 0.852119, Test Accuracy: 71.06%, Average Test Loss: 0.762758\n",
            "\n",
            "Epoch 90/100: "
          ]
        },
        {
          "output_type": "stream",
          "name": "stderr",
          "text": [
            "100%|██████████| 162/162 [00:14<00:00, 10.83it/s]\n",
            "Batch 162/162, Loss: 0.635743: 100%|██████████| 162/162 [00:06<00:00, 23.88it/s]\n"
          ]
        },
        {
          "output_type": "stream",
          "name": "stdout",
          "text": [
            "\n",
            "Class-wise Accuracy:\n",
            "  Class 3: 69.44%\n",
            "  Class 0: 64.66%\n",
            "  Class 2: 75.93%\n",
            "  Class 1: 73.61%\n",
            "Test Accuracy: 70.9%, Test Loss: 0.762706\n",
            "\n",
            "\n",
            "Class-wise Accuracy:\n",
            "  Class 3: 69.44%\n",
            "  Class 0: 64.66%\n",
            "  Class 2: 75.93%\n",
            "  Class 1: 73.61%\n",
            "Train Accuracy: 65.62%, Average Train Loss: 0.837938, Test Accuracy: 70.91%, Average Test Loss: 0.762706\n",
            "\n",
            "Epoch 91/100: "
          ]
        },
        {
          "output_type": "stream",
          "name": "stderr",
          "text": [
            "100%|██████████| 162/162 [00:15<00:00, 10.79it/s]\n",
            "Batch 162/162, Loss: 0.638946: 100%|██████████| 162/162 [00:06<00:00, 23.73it/s]\n"
          ]
        },
        {
          "output_type": "stream",
          "name": "stdout",
          "text": [
            "\n",
            "Class-wise Accuracy:\n",
            "  Class 3: 68.21%\n",
            "  Class 0: 63.89%\n",
            "  Class 2: 76.70%\n",
            "  Class 1: 74.07%\n",
            "Test Accuracy: 70.7%, Test Loss: 0.762782\n",
            "\n",
            "\n",
            "Class-wise Accuracy:\n",
            "  Class 3: 68.21%\n",
            "  Class 0: 63.89%\n",
            "  Class 2: 76.70%\n",
            "  Class 1: 74.07%\n",
            "Train Accuracy: 64.54%, Average Train Loss: 0.849761, Test Accuracy: 70.72%, Average Test Loss: 0.762782\n",
            "\n",
            "Epoch 92/100: "
          ]
        },
        {
          "output_type": "stream",
          "name": "stderr",
          "text": [
            "100%|██████████| 162/162 [00:14<00:00, 10.85it/s]\n",
            "Batch 162/162, Loss: 0.636597: 100%|██████████| 162/162 [00:06<00:00, 24.23it/s]\n"
          ]
        },
        {
          "output_type": "stream",
          "name": "stdout",
          "text": [
            "\n",
            "Class-wise Accuracy:\n",
            "  Class 3: 69.91%\n",
            "  Class 0: 63.58%\n",
            "  Class 2: 76.70%\n",
            "  Class 1: 73.46%\n",
            "Test Accuracy: 70.9%, Test Loss: 0.762247\n",
            "\n",
            "\n",
            "Class-wise Accuracy:\n",
            "  Class 3: 69.91%\n",
            "  Class 0: 63.58%\n",
            "  Class 2: 76.70%\n",
            "  Class 1: 73.46%\n",
            "Train Accuracy: 65.66%, Average Train Loss: 0.846074, Test Accuracy: 70.91%, Average Test Loss: 0.762247\n",
            "\n",
            "Epoch 93/100: "
          ]
        },
        {
          "output_type": "stream",
          "name": "stderr",
          "text": [
            "100%|██████████| 162/162 [00:14<00:00, 10.89it/s]\n",
            "Batch 162/162, Loss: 0.636251: 100%|██████████| 162/162 [00:06<00:00, 24.06it/s]\n"
          ]
        },
        {
          "output_type": "stream",
          "name": "stdout",
          "text": [
            "\n",
            "Class-wise Accuracy:\n",
            "  Class 3: 70.22%\n",
            "  Class 0: 62.50%\n",
            "  Class 2: 77.01%\n",
            "  Class 1: 73.61%\n",
            "Test Accuracy: 70.8%, Test Loss: 0.762139\n",
            "\n",
            "\n",
            "Class-wise Accuracy:\n",
            "  Class 3: 70.22%\n",
            "  Class 0: 62.50%\n",
            "  Class 2: 77.01%\n",
            "  Class 1: 73.61%\n",
            "Train Accuracy: 65.97%, Average Train Loss: 0.840706, Test Accuracy: 70.83%, Average Test Loss: 0.762139\n",
            "\n",
            "Epoch 94/100: "
          ]
        },
        {
          "output_type": "stream",
          "name": "stderr",
          "text": [
            "100%|██████████| 162/162 [00:14<00:00, 10.86it/s]\n",
            "Batch 162/162, Loss: 0.636953: 100%|██████████| 162/162 [00:06<00:00, 24.29it/s]\n"
          ]
        },
        {
          "output_type": "stream",
          "name": "stdout",
          "text": [
            "\n",
            "Class-wise Accuracy:\n",
            "  Class 3: 69.60%\n",
            "  Class 0: 62.19%\n",
            "  Class 2: 77.31%\n",
            "  Class 1: 73.92%\n",
            "Test Accuracy: 70.8%, Test Loss: 0.762110\n",
            "\n",
            "\n",
            "Class-wise Accuracy:\n",
            "  Class 3: 69.60%\n",
            "  Class 0: 62.19%\n",
            "  Class 2: 77.31%\n",
            "  Class 1: 73.92%\n",
            "Train Accuracy: 64.27%, Average Train Loss: 0.845612, Test Accuracy: 70.76%, Average Test Loss: 0.762110\n",
            "\n",
            "Epoch 95/100: "
          ]
        },
        {
          "output_type": "stream",
          "name": "stderr",
          "text": [
            "100%|██████████| 162/162 [00:14<00:00, 10.87it/s]\n",
            "Batch 162/162, Loss: 0.636634: 100%|██████████| 162/162 [00:06<00:00, 23.93it/s]\n"
          ]
        },
        {
          "output_type": "stream",
          "name": "stdout",
          "text": [
            "\n",
            "Class-wise Accuracy:\n",
            "  Class 3: 70.37%\n",
            "  Class 0: 62.50%\n",
            "  Class 2: 77.31%\n",
            "  Class 1: 73.61%\n",
            "Test Accuracy: 70.9%, Test Loss: 0.761851\n",
            "\n",
            "\n",
            "Class-wise Accuracy:\n",
            "  Class 3: 70.37%\n",
            "  Class 0: 62.50%\n",
            "  Class 2: 77.31%\n",
            "  Class 1: 73.61%\n",
            "Train Accuracy: 66.01%, Average Train Loss: 0.832301, Test Accuracy: 70.95%, Average Test Loss: 0.761851\n",
            "\n",
            "Epoch 96/100: "
          ]
        },
        {
          "output_type": "stream",
          "name": "stderr",
          "text": [
            "100%|██████████| 162/162 [00:14<00:00, 10.86it/s]\n",
            "Batch 162/162, Loss: 0.634609: 100%|██████████| 162/162 [00:06<00:00, 24.13it/s]\n"
          ]
        },
        {
          "output_type": "stream",
          "name": "stdout",
          "text": [
            "\n",
            "Class-wise Accuracy:\n",
            "  Class 3: 70.22%\n",
            "  Class 0: 62.04%\n",
            "  Class 2: 77.01%\n",
            "  Class 1: 73.92%\n",
            "Test Accuracy: 70.8%, Test Loss: 0.761775\n",
            "\n",
            "\n",
            "Class-wise Accuracy:\n",
            "  Class 3: 70.22%\n",
            "  Class 0: 62.04%\n",
            "  Class 2: 77.01%\n",
            "  Class 1: 73.92%\n",
            "Train Accuracy: 67.05%, Average Train Loss: 0.838288, Test Accuracy: 70.79%, Average Test Loss: 0.761775\n",
            "\n",
            "Epoch 97/100: "
          ]
        },
        {
          "output_type": "stream",
          "name": "stderr",
          "text": [
            "100%|██████████| 162/162 [00:14<00:00, 10.86it/s]\n",
            "Batch 162/162, Loss: 0.634852: 100%|██████████| 162/162 [00:06<00:00, 24.01it/s]\n"
          ]
        },
        {
          "output_type": "stream",
          "name": "stdout",
          "text": [
            "\n",
            "Class-wise Accuracy:\n",
            "  Class 3: 70.37%\n",
            "  Class 0: 62.81%\n",
            "  Class 2: 77.01%\n",
            "  Class 1: 73.61%\n",
            "Test Accuracy: 70.9%, Test Loss: 0.761721\n",
            "\n",
            "\n",
            "Class-wise Accuracy:\n",
            "  Class 3: 70.37%\n",
            "  Class 0: 62.81%\n",
            "  Class 2: 77.01%\n",
            "  Class 1: 73.61%\n",
            "Train Accuracy: 64.97%, Average Train Loss: 0.850626, Test Accuracy: 70.95%, Average Test Loss: 0.761721\n",
            "\n",
            "Epoch 98/100: "
          ]
        },
        {
          "output_type": "stream",
          "name": "stderr",
          "text": [
            "100%|██████████| 162/162 [00:14<00:00, 10.88it/s]\n",
            "Batch 162/162, Loss: 0.635165: 100%|██████████| 162/162 [00:06<00:00, 24.21it/s]\n"
          ]
        },
        {
          "output_type": "stream",
          "name": "stdout",
          "text": [
            "\n",
            "Class-wise Accuracy:\n",
            "  Class 3: 70.37%\n",
            "  Class 0: 62.65%\n",
            "  Class 2: 77.01%\n",
            "  Class 1: 73.61%\n",
            "Test Accuracy: 70.9%, Test Loss: 0.761716\n",
            "\n",
            "\n",
            "Class-wise Accuracy:\n",
            "  Class 3: 70.37%\n",
            "  Class 0: 62.65%\n",
            "  Class 2: 77.01%\n",
            "  Class 1: 73.61%\n",
            "Train Accuracy: 65.16%, Average Train Loss: 0.840453, Test Accuracy: 70.91%, Average Test Loss: 0.761716\n",
            "\n",
            "Epoch 99/100: "
          ]
        },
        {
          "output_type": "stream",
          "name": "stderr",
          "text": [
            "100%|██████████| 162/162 [00:14<00:00, 10.90it/s]\n",
            "Batch 162/162, Loss: 0.635071: 100%|██████████| 162/162 [00:06<00:00, 24.29it/s]\n"
          ]
        },
        {
          "output_type": "stream",
          "name": "stdout",
          "text": [
            "\n",
            "Class-wise Accuracy:\n",
            "  Class 3: 70.37%\n",
            "  Class 0: 62.81%\n",
            "  Class 2: 77.01%\n",
            "  Class 1: 73.77%\n",
            "Test Accuracy: 71.0%, Test Loss: 0.761714\n",
            "\n",
            "\n",
            "Class-wise Accuracy:\n",
            "  Class 3: 70.37%\n",
            "  Class 0: 62.81%\n",
            "  Class 2: 77.01%\n",
            "  Class 1: 73.77%\n",
            "Train Accuracy: 64.66%, Average Train Loss: 0.857982, Test Accuracy: 70.99%, Average Test Loss: 0.761714\n",
            "\n",
            "Epoch 100/100: "
          ]
        },
        {
          "output_type": "stream",
          "name": "stderr",
          "text": [
            "100%|██████████| 162/162 [00:14<00:00, 10.87it/s]\n",
            "Batch 162/162, Loss: 0.635071: 100%|██████████| 162/162 [00:06<00:00, 23.83it/s]\n"
          ]
        },
        {
          "output_type": "stream",
          "name": "stdout",
          "text": [
            "\n",
            "Class-wise Accuracy:\n",
            "  Class 3: 70.37%\n",
            "  Class 0: 62.81%\n",
            "  Class 2: 77.01%\n",
            "  Class 1: 73.77%\n",
            "Test Accuracy: 71.0%, Test Loss: 0.761714\n",
            "\n",
            "\n",
            "Class-wise Accuracy:\n",
            "  Class 3: 70.37%\n",
            "  Class 0: 62.81%\n",
            "  Class 2: 77.01%\n",
            "  Class 1: 73.77%\n",
            "Train Accuracy: 65.12%, Average Train Loss: 0.849938, Test Accuracy: 70.99%, Average Test Loss: 0.761714\n",
            "\n"
          ]
        },
        {
          "output_type": "display_data",
          "data": {
            "text/plain": [
              "<IPython.core.display.HTML object>"
            ],
            "text/html": []
          },
          "metadata": {}
        },
        {
          "output_type": "display_data",
          "data": {
            "text/plain": [
              "<IPython.core.display.HTML object>"
            ],
            "text/html": [
              "<br>    <style><br>        .wandb-row {<br>            display: flex;<br>            flex-direction: row;<br>            flex-wrap: wrap;<br>            justify-content: flex-start;<br>            width: 100%;<br>        }<br>        .wandb-col {<br>            display: flex;<br>            flex-direction: column;<br>            flex-basis: 100%;<br>            flex: 1;<br>            padding: 10px;<br>        }<br>    </style><br><div class=\"wandb-row\"><div class=\"wandb-col\"><h3>Run history:</h3><br/><table class=\"wandb\"><tr><td>class_0_accuracy</td><td>▂▄▃▁▆▅▃▄▅▆▇▆▅▇▆▆▆▇▇▇▇▇██▇██▇█▇██████████</td></tr><tr><td>class_1_accuracy</td><td>▁▃▂▆▃▆▆▇▅▇▇▇▆▆▇▇▇▆▇▇▇█▆█▇▇█▇▇▇▇▇▇▇▇▇▇▇▇▇</td></tr><tr><td>class_2_accuracy</td><td>▁█▃▅▅▄▅▇▆▆▆▆▆▆▇▆▆▇▆▆▇▇▇▇▇▇▇▇▇▇▇▆▇▇▇▇▇▇▇▇</td></tr><tr><td>class_3_accuracy</td><td>▁▅▆▆▇▆█▆▆▆▇▇▆▆▇▇█▇▇█▇▆█▇▇▇█▇███▇▇███████</td></tr><tr><td>epoch</td><td>▁▁▁▁▁▂▂▂▂▂▃▃▃▃▃▄▄▄▄▄▄▅▅▅▅▅▅▆▆▆▆▆▆▇▇▇████</td></tr><tr><td>learning_rate</td><td>█▂▂▂▂▂▂▂▂▂▂▂▂▂▂▂▂▁▁▁▁▁▁▁▁▁▁▁▁▁▁▁▁▁▁▁▁▁▁▁</td></tr><tr><td>test_accuracy</td><td>▁▁▁▁▂▅▅▅▆▆▆▆▆▆▆▇▇▇▇▇▇▇▇▇▇▇▇█████████████</td></tr><tr><td>test_loss</td><td>█▁▁▁▁▁▁▁▁▁▁▁▁▁▁▁▁▁▁▁▁▁▁▁▁▁▁▁▁▁▁▁▁▁▁▁▁▁▁▁</td></tr><tr><td>train_accuracy</td><td>▁▂▃▄▅▅▅▆▆▆▆▆▆▇▆▇▇▇▇▇▇▇▇▇█▇█▇▇███████████</td></tr><tr><td>train_loss</td><td>█▃▁▁▁▁▁▁▁▁▁▁▁▁▁▁▁▁▁▁▁▁▁▁▁▁▁▁▁▁▁▁▁▁▁▁▁▁▁▁</td></tr></table><br/></div><div class=\"wandb-col\"><h3>Run summary:</h3><br/><table class=\"wandb\"><tr><td>class_0_accuracy</td><td>62.80864</td></tr><tr><td>class_1_accuracy</td><td>73.76543</td></tr><tr><td>class_2_accuracy</td><td>77.00617</td></tr><tr><td>class_3_accuracy</td><td>70.37037</td></tr><tr><td>epoch</td><td>100</td></tr><tr><td>learning_rate</td><td>0.0</td></tr><tr><td>test_accuracy</td><td>70.98765</td></tr><tr><td>test_loss</td><td>0.76171</td></tr><tr><td>train_accuracy</td><td>65.12346</td></tr><tr><td>train_loss</td><td>0.84994</td></tr></table><br/></div></div>"
            ]
          },
          "metadata": {}
        },
        {
          "output_type": "display_data",
          "data": {
            "text/plain": [
              "<IPython.core.display.HTML object>"
            ],
            "text/html": [
              " View run <strong style=\"color:#cdcd00\">Shallow Accuracy</strong> at: <a href='https://wandb.ai/philinthesky/Master%20Thesis/runs/iwnqb22u' target=\"_blank\">https://wandb.ai/philinthesky/Master%20Thesis/runs/iwnqb22u</a><br> View project at: <a href='https://wandb.ai/philinthesky/Master%20Thesis' target=\"_blank\">https://wandb.ai/philinthesky/Master%20Thesis</a><br>Synced 5 W&B file(s), 0 media file(s), 0 artifact file(s) and 0 other file(s)"
            ]
          },
          "metadata": {}
        },
        {
          "output_type": "display_data",
          "data": {
            "text/plain": [
              "<IPython.core.display.HTML object>"
            ],
            "text/html": [
              "Find logs at: <code>./wandb/run-20250227_101057-iwnqb22u/logs</code>"
            ]
          },
          "metadata": {}
        }
      ],
      "source": [
        "import torch\n",
        "import wandb\n",
        "from torch.utils.data import DataLoader\n",
        "from torch.optim import AdamW\n",
        "from torch.optim.lr_scheduler import CosineAnnealingLR\n",
        "from torch.nn import CrossEntropyLoss\n",
        "import numpy as np\n",
        "\n",
        "# Initialize Weights & Biases\n",
        "wandb.init(project=\"Master Thesis\", name=\"Spatial Attention Accuracy\")\n",
        "\n",
        "# Define hyperparameters\n",
        "lr = 1e-3\n",
        "weight_decay = 1e-4\n",
        "batch_size = 16  # Start with 124\n",
        "n_epochs = 100\n",
        "\n",
        "final_acc = 0.0\n",
        "\n",
        "# Log hyperparameters to wandb\n",
        "wandb.config.update({\n",
        "    \"learning_rate\": lr,\n",
        "    \"weight_decay\": weight_decay,\n",
        "    \"batch_size\": batch_size,\n",
        "    \"epochs\": n_epochs\n",
        "})\n",
        "\n",
        "# Define optimizer and scheduler\n",
        "optimizer = AdamW(model.parameters(), lr=lr, weight_decay=weight_decay)\n",
        "scheduler = CosineAnnealingLR(optimizer, T_max=n_epochs - 1)\n",
        "\n",
        "# Define loss function\n",
        "loss_fn = CrossEntropyLoss()\n",
        "\n",
        "# Create DataLoaders\n",
        "train_loader = DataLoader(train_set, batch_size=batch_size, shuffle=True)\n",
        "test_loader = DataLoader(test_set, batch_size=batch_size)\n",
        "\n",
        "# Initialize lists to store all predictions & targets\n",
        "all_preds, all_targets = [], []\n",
        "\n",
        "# Training loop\n",
        "for epoch in range(1, n_epochs + 1):\n",
        "    print(f\"Epoch {epoch}/{n_epochs}: \", end=\"\")\n",
        "\n",
        "    train_loss, train_accuracy = train_one_epoch(\n",
        "        train_loader, model, loss_fn, optimizer, scheduler, epoch, device\n",
        "    )\n",
        "\n",
        "    test_loss, test_accuracy, class_accuracies, batch_preds, batch_targets = test_model(test_loader, model, loss_fn)\n",
        "    final_acc = test_accuracy\n",
        "    # Store predictions & labels for confusion matrix\n",
        "    all_preds.extend(batch_preds)\n",
        "    all_targets.extend(batch_targets)\n",
        "\n",
        "    # Print class-wise accuracy\n",
        "    print(\"\\nClass-wise Accuracy:\")\n",
        "    for class_idx, acc in class_accuracies.items():\n",
        "        print(f\"  Class {class_idx}: {acc:.2f}%\")\n",
        "\n",
        "    # Log results to wandb\n",
        "    wandb.log({\n",
        "        \"epoch\": epoch,\n",
        "        \"train_loss\": train_loss,\n",
        "        \"train_accuracy\": train_accuracy * 100,\n",
        "        \"test_loss\": test_loss,\n",
        "        \"test_accuracy\": test_accuracy,\n",
        "        \"learning_rate\": scheduler.get_last_lr()[0],\n",
        "        **{f\"class_{class_idx}_accuracy\": acc for class_idx, acc in class_accuracies.items()}\n",
        "    })\n",
        "\n",
        "    print(\n",
        "        f\"Train Accuracy: {100 * train_accuracy:.2f}%, \"\n",
        "        f\"Average Train Loss: {train_loss:.6f}, \"\n",
        "        f\"Test Accuracy: {test_accuracy:.2f}%, \"\n",
        "        f\"Average Test Loss: {test_loss:.6f}\\n\"\n",
        "    )\n",
        "\n",
        "# Convert lists to NumPy arrays\n",
        "all_preds = np.array(all_preds)\n",
        "all_targets = np.array(all_targets)\n",
        "\n",
        "# Save predictions & true labels for later use (confusion matrix)\n",
        "wandb.log({\"all_preds\": all_preds.tolist(), \"all_targets\": all_targets.tolist()})\n",
        "\n",
        "wandb.finish()\n"
      ]
    },
    {
      "cell_type": "code",
      "execution_count": 42,
      "metadata": {
        "id": "r25kGBA32Zhm"
      },
      "outputs": [],
      "source": [
        "import math\n",
        "# Assuming 'model' is your trained Braindecode model\n",
        "torch.save(model, f\"spatial_attention_{71}_{seed}.pth\")\n",
        "torch.save(model.state_dict(), f\"spatial_attention_{71}_{seed}_state.pth\")\n"
      ]
    }
  ],
  "metadata": {
    "kernelspec": {
      "display_name": "Python 3",
      "name": "python3"
    },
    "language_info": {
      "codemirror_mode": {
        "name": "ipython",
        "version": 3
      },
      "file_extension": ".py",
      "mimetype": "text/x-python",
      "name": "python",
      "nbconvert_exporter": "python",
      "pygments_lexer": "ipython3",
      "version": "3.12.9"
    },
    "colab": {
      "provenance": [],
      "gpuType": "T4"
    },
    "accelerator": "GPU"
  },
  "nbformat": 4,
  "nbformat_minor": 0
}