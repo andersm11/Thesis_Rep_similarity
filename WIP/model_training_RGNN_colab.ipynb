{
  "cells": [
    {
      "cell_type": "code",
      "execution_count": 1,
      "metadata": {
        "colab": {
          "base_uri": "https://localhost:8080/"
        },
        "id": "82Vbwzg32ZhZ",
        "outputId": "a5ed7197-f98c-4f56-b4ca-b8c0d6562297"
      },
      "outputs": [
        {
          "output_type": "stream",
          "name": "stdout",
          "text": [
            "Running in Google Colab. Checking required libraries...\n",
            "All required libraries are already installed.\n"
          ]
        }
      ],
      "source": [
        "import sys\n",
        "import importlib\n",
        "import subprocess\n",
        "\n",
        "def install_if_colab():\n",
        "    if \"google.colab\" in sys.modules:\n",
        "        print(\"Running in Google Colab. Checking required libraries...\")\n",
        "\n",
        "        packages = [\"moabb\", \"braindecode\",\"torch_geometric\"]  # Add required libraries\n",
        "        missing_packages = [pkg for pkg in packages if importlib.util.find_spec(pkg) is None]\n",
        "\n",
        "        if missing_packages:\n",
        "            print(f\"Installing missing libraries: {', '.join(missing_packages)}\")\n",
        "            !pip install {\" \".join(missing_packages)}\n",
        "        else:\n",
        "            print(\"All required libraries are already installed.\")\n",
        "    else:\n",
        "        print(\"Not running in Google Colab. No installation needed.\")\n",
        "\n",
        "install_if_colab()\n"
      ]
    },
    {
      "cell_type": "code",
      "execution_count": 2,
      "metadata": {
        "colab": {
          "base_uri": "https://localhost:8080/"
        },
        "id": "f_sHCnT22v9k",
        "outputId": "f11fa222-4988-4ae5-b1a5-54392d4f7d1f"
      },
      "outputs": [
        {
          "output_type": "stream",
          "name": "stdout",
          "text": [
            "Drive already mounted at /content/drive; to attempt to forcibly remount, call drive.mount(\"/content/drive\", force_remount=True).\n"
          ]
        }
      ],
      "source": [
        "from google.colab import drive\n",
        "drive.mount('/content/drive')\n",
        "path = \"/content/drive/MyDrive/\""
      ]
    },
    {
      "cell_type": "code",
      "execution_count": 3,
      "metadata": {
        "id": "1osynJth26to"
      },
      "outputs": [],
      "source": [
        "import pickle\n",
        "with open(path+'EEG_data/test_set.pkl', 'rb') as f:\n",
        "    test_set = pickle.load(f)\n",
        "\n",
        "import pickle\n",
        "with open(path+'EEG_data/train_set.pkl', 'rb') as f:\n",
        "    train_set = pickle.load(f)"
      ]
    },
    {
      "cell_type": "code",
      "execution_count": 4,
      "metadata": {
        "colab": {
          "base_uri": "https://localhost:8080/"
        },
        "id": "Xba9vjnO2Zhg",
        "outputId": "afe576ef-2569-497e-ea97-57508c701d46"
      },
      "outputs": [
        {
          "output_type": "stream",
          "name": "stdout",
          "text": [
            "n_classes:  4\n",
            "n_channels: 22\n",
            "input_window_samples size: 1125\n"
          ]
        },
        {
          "output_type": "stream",
          "name": "stderr",
          "text": [
            "/usr/local/lib/python3.11/dist-packages/braindecode/util.py:51: UserWarning: torch.backends.cudnn.benchmark was set to True which may results in lack of reproducibility. In some cases to ensure reproducibility you may need to set torch.backends.cudnn.benchmark to False.\n",
            "  warn(\n"
          ]
        }
      ],
      "source": [
        "import torch\n",
        "#from shallow_fbcsp import ShallowFBCSPNet\n",
        "from braindecode.util import set_random_seeds\n",
        "\n",
        "\n",
        "cuda = torch.cuda.is_available()  # check if GPU is available, if True chooses to use it\n",
        "device = \"cuda\" if cuda else \"cpu\"\n",
        "if cuda:\n",
        "    torch.backends.cudnn.benchmark = True\n",
        "seed = 91111\n",
        "set_random_seeds(seed=seed, cuda=cuda)\n",
        "\n",
        "n_classes = 4\n",
        "classes = list(range(n_classes))\n",
        "# Extract number of chans and time steps from dataset\n",
        "n_channels = 22\n",
        "input_window_samples = 1125\n",
        "\n",
        "print(\"n_classes: \", n_classes)\n",
        "print(\"n_channels:\", n_channels)\n",
        "print(\"input_window_samples size:\", input_window_samples)"
      ]
    },
    {
      "cell_type": "code",
      "execution_count": 22,
      "metadata": {
        "colab": {
          "base_uri": "https://localhost:8080/"
        },
        "id": "b3wPzn3X2Zhh",
        "outputId": "68974795-3fa8-4a34-a5c4-1b0b715f44d5"
      },
      "outputs": [
        {
          "output_type": "stream",
          "name": "stdout",
          "text": [
            "torch.Size([484])\n",
            "ShallowRGNNNet(\n",
            "  (temporal): Conv2d(1, 10, kernel_size=(1, 25), stride=(1, 1))\n",
            "  (rgnn): SimpleGCNNet(\n",
            "    (rgnn): SGConv(55, 20, K=1)\n",
            "  )\n",
            "  (batch_norm): BatchNorm2d(10, eps=1e-05, momentum=0.1, affine=True, track_running_stats=True)\n",
            "  (pool): AvgPool2d(kernel_size=(1, 20), stride=(1, 20), padding=0)\n",
            "  (dropout): Dropout(p=0.7, inplace=False)\n",
            "  (fc): Linear(in_features=4400, out_features=4, bias=True)\n",
            ")\n"
          ]
        }
      ],
      "source": [
        "#from models_fbscp import CollapsedShallowNet\n",
        "# The ShallowFBCSPNet is a `nn.Sequential` model\n",
        "import importlib\n",
        "import RGNN\n",
        "importlib.reload(RGNN)\n",
        "from RGNN import ShallowRGNNNet\n",
        "from CKA_functions import adjacency_matrix_motion,adjacency_matrix_distance_motion\n",
        "adj_m,pos = adjacency_matrix_motion()\n",
        "#print(adj_m)\n",
        "adj_dis_m, dm = adjacency_matrix_distance_motion(pos,delta=5)\n",
        "dm\n",
        "torch_tensor = torch.from_numpy(dm)\n",
        "edge_weight = torch_tensor.reshape(-1).to(device)\n",
        "print(edge_weight.shape)\n",
        "\n",
        "model = ShallowRGNNNet(22,4,1125,edge_weight)\n",
        "\n",
        "# Display torchinfo table describing the model\n",
        "print(model)\n",
        "\n",
        "# Send model to GPU\n",
        "if cuda:\n",
        "    model.cuda()\n",
        "\n"
      ]
    },
    {
      "cell_type": "code",
      "source": [],
      "metadata": {
        "id": "nDl5hBP4DonW"
      },
      "execution_count": 22,
      "outputs": []
    },
    {
      "cell_type": "code",
      "execution_count": 23,
      "metadata": {
        "id": "n7Eii9TH2Zhi"
      },
      "outputs": [],
      "source": [
        "# splitted = windows_dataset.split(\"session\")\n",
        "# train_set = splitted['0train']  # Session train\n",
        "# test_set = splitted['1test']  # Session evaluation\n",
        "\n",
        "from torch.nn import Module\n",
        "from torch.optim.lr_scheduler import LRScheduler\n",
        "from torch.utils.data import DataLoader\n",
        "\n",
        "#lr = 1e-4\n",
        "#weight_decay = 1e-4\n",
        "#batch_size = 64\n",
        "#n_epochs = 200\n"
      ]
    },
    {
      "cell_type": "code",
      "execution_count": 24,
      "metadata": {
        "id": "inbw4Tud2Zhj"
      },
      "outputs": [],
      "source": [
        "#train_loader = DataLoader(train_set, batch_size=batch_size, shuffle=True)\n",
        "#progress_bar = tqdm(enumerate(train_loader), total=len(train_loader))\n",
        "\n",
        "\n",
        "#from collections import defaultdict\n",
        "\n",
        "#counting_dict = defaultdict(int)  # Initialize class counter\n",
        "\n",
        "#for batch_idx, (X, y, _) in progress_bar:\n",
        "#   X, y = X.to(device), y.to(device)  # Move to device if needed\n",
        "\n",
        "    # Count occurrences of each class in y\n",
        "#    for value in y:\n",
        "#        counting_dict[int(value.item())] += 1  # Convert tensor to int and update count\n",
        "\n",
        "# Print class frequencies\n",
        "#print(\"Class counts:\", dict(counting_dict))\n"
      ]
    },
    {
      "cell_type": "code",
      "execution_count": 25,
      "metadata": {
        "id": "PlgtbF-r2Zhj"
      },
      "outputs": [],
      "source": [
        "\n",
        "from tqdm import tqdm\n",
        "# Define a method for training one epoch\n",
        "\n",
        "\n",
        "def train_one_epoch(\n",
        "        dataloader: DataLoader, model: Module,edge_index, loss_fn, optimizer,\n",
        "        scheduler: LRScheduler, epoch: int, device, print_batch_stats=True\n",
        "):\n",
        "    model.train()  # Set the model to training mode\n",
        "    train_loss, correct = 0, 0\n",
        "\n",
        "    progress_bar = tqdm(enumerate(dataloader), total=len(dataloader),\n",
        "                        disable=not print_batch_stats)\n",
        "\n",
        "    for batch_idx, (X, y, _) in progress_bar:\n",
        "        X, y = X.to(device), y.to(device)\n",
        "        #print(y)\n",
        "        #print(X.shape)\n",
        "        optimizer.zero_grad()\n",
        "        pred = model(X,edge_index)\n",
        "\n",
        "\n",
        "        #print(y.shape)\n",
        "        #print(pred.shape)\n",
        "        loss = loss_fn(pred, y)\n",
        "        loss.backward()\n",
        "        optimizer.step()  # update the model weights\n",
        "        optimizer.zero_grad()\n",
        "        #print(loss.item())\n",
        "        #print(loss)\n",
        "        #print(train_loss)\n",
        "        train_loss += loss.item()\n",
        "        correct += (pred.argmax(1) == y).sum().item()\n",
        "\n",
        "        #if print_batch_stats:\n",
        "        #    progress_bar.set_description(\n",
        "        #        f\"Epoch {epoch}/{n_epochs}, \"\n",
        "        #        f\"Batch {batch_idx + 1}/{len(dataloader)}, \"\n",
        "        #        f\"Loss: {loss.item():.6f}\"\n",
        "        #    )\n",
        "\n",
        "    # Update the learning rate\n",
        "    scheduler.step()\n",
        "\n",
        "    correct /= len(dataloader.dataset)\n",
        "    return train_loss / len(dataloader), correct\n"
      ]
    },
    {
      "cell_type": "code",
      "execution_count": 26,
      "metadata": {
        "id": "M1S-1vTK2Zhk"
      },
      "outputs": [],
      "source": [
        "from collections import defaultdict\n",
        "from tqdm import tqdm\n",
        "import torch\n",
        "from torch.utils.data import DataLoader\n",
        "from sklearn.metrics import confusion_matrix\n",
        "import numpy as np\n",
        "\n",
        "@torch.no_grad()\n",
        "def test_model(dataloader: DataLoader, model: torch.nn.Module,edge_index, loss_fn, print_batch_stats=True):\n",
        "    device = next(model.parameters()).device  # Get model device\n",
        "    size = len(dataloader.dataset)\n",
        "    n_batches = len(dataloader)\n",
        "    model.eval()  # Switch to evaluation mode\n",
        "    test_loss, correct = 0, 0\n",
        "\n",
        "    # Initialize dictionaries for per-class tracking\n",
        "    class_correct = defaultdict(int)\n",
        "    class_total = defaultdict(int)\n",
        "\n",
        "    # Lists to store true and predicted labels for confusion matrix\n",
        "    all_preds = []\n",
        "    all_targets = []\n",
        "\n",
        "    if print_batch_stats:\n",
        "        progress_bar = tqdm(enumerate(dataloader), total=len(dataloader))\n",
        "    else:\n",
        "        progress_bar = enumerate(dataloader)\n",
        "\n",
        "    for batch_idx, (X, y, _) in progress_bar:\n",
        "        X, y = X.to(device), y.to(device)\n",
        "        pred = model(X,edge_index)\n",
        "        batch_loss = loss_fn(pred, y).item()\n",
        "\n",
        "        test_loss += batch_loss\n",
        "        correct += (pred.argmax(1) == y).sum().item()\n",
        "\n",
        "        # Store predictions and true labels for confusion matrix\n",
        "        all_preds.append(pred.argmax(1).cpu())\n",
        "        all_targets.append(y.cpu())\n",
        "\n",
        "        # Compute per-class accuracy\n",
        "        preds_labels = pred.argmax(1)\n",
        "        for label, pred_label in zip(y, preds_labels):\n",
        "            class_total[label.item()] += 1\n",
        "            class_correct[label.item()] += (label == pred_label).item()\n",
        "\n",
        "        if print_batch_stats:\n",
        "            progress_bar.set_description(\n",
        "                f\"Batch {batch_idx + 1}/{len(dataloader)}, Loss: {batch_loss:.6f}\"\n",
        "            )\n",
        "\n",
        "    # Convert lists to tensors\n",
        "    all_preds = torch.cat(all_preds)\n",
        "    all_targets = torch.cat(all_targets)\n",
        "\n",
        "    # Compute per-class accuracy\n",
        "    class_accuracies = {\n",
        "        cls: (class_correct[cls] / class_total[cls]) * 100 if class_total[cls] > 0 else 0\n",
        "        for cls in class_total\n",
        "    }\n",
        "\n",
        "    # Compute overall accuracy\n",
        "    test_loss /= n_batches\n",
        "    overall_accuracy = (correct / size) * 100\n",
        "\n",
        "    # Print per-class accuracy\n",
        "    print(\"\\nClass-wise Accuracy:\")\n",
        "    for cls, acc in class_accuracies.items():\n",
        "        print(f\"  Class {cls}: {acc:.2f}%\")\n",
        "\n",
        "    print(f\"Test Accuracy: {overall_accuracy:.1f}%, Test Loss: {test_loss:.6f}\\n\")\n",
        "\n",
        "    return test_loss, overall_accuracy, class_accuracies, all_preds, all_targets\n"
      ]
    },
    {
      "cell_type": "code",
      "source": [
        "import wandb\n",
        "wandb.login()"
      ],
      "metadata": {
        "colab": {
          "base_uri": "https://localhost:8080/"
        },
        "id": "G-Pqn7mpqcOb",
        "outputId": "998a2aa5-6f4a-463d-de18-fb5fb8eec3d2"
      },
      "execution_count": 27,
      "outputs": [
        {
          "output_type": "execute_result",
          "data": {
            "text/plain": [
              "True"
            ]
          },
          "metadata": {},
          "execution_count": 27
        }
      ]
    },
    {
      "cell_type": "code",
      "source": [
        "threshold = 0  # Adjust as needed\n",
        "\n",
        "source_nodes = []\n",
        "target_nodes = []\n",
        "\n",
        "# Iterate over all elements in the distance matrix, including self-loops and duplicates\n",
        "for i in range(dm.shape[0]):\n",
        "    for j in range(dm.shape[1]):  # Iterate over all pairs, including (i, i)\n",
        "        if dm[i, j] >= threshold:  # If the distance meets the condition\n",
        "            source_nodes.append(i)  # Source node\n",
        "            target_nodes.append(j)  # Target node\n",
        "\n",
        "# Create the edge_index tensor\n",
        "edge_index = torch.tensor([source_nodes, target_nodes], dtype=torch.long).to(device)"
      ],
      "metadata": {
        "id": "TI5GEmbX4vG6"
      },
      "execution_count": 28,
      "outputs": []
    },
    {
      "cell_type": "code",
      "execution_count": 32,
      "metadata": {
        "colab": {
          "base_uri": "https://localhost:8080/",
          "height": 1000
        },
        "id": "uDUBctmi2Zhl",
        "outputId": "75b37c17-b1e3-4d46-9827-05eeddc81674"
      },
      "outputs": [
        {
          "output_type": "stream",
          "name": "stdout",
          "text": [
            "Epoch 1/100: "
          ]
        },
        {
          "output_type": "stream",
          "name": "stderr",
          "text": [
            "100%|██████████| 81/81 [00:01<00:00, 69.62it/s]\n",
            "Batch 81/81, Loss: 1.163162: 100%|██████████| 81/81 [00:00<00:00, 82.65it/s]\n"
          ]
        },
        {
          "output_type": "stream",
          "name": "stdout",
          "text": [
            "\n",
            "Class-wise Accuracy:\n",
            "  Class 1: 49.85%\n",
            "  Class 2: 52.78%\n",
            "  Class 0: 40.43%\n",
            "  Class 3: 56.17%\n",
            "Test Accuracy: 49.8%, Test Loss: 1.275230\n",
            "\n",
            "\n",
            "Class-wise Accuracy:\n",
            "  Class 1: 49.85%\n",
            "  Class 2: 52.78%\n",
            "  Class 0: 40.43%\n",
            "  Class 3: 56.17%\n",
            "Train Accuracy: 73.42%, Average Train Loss: 0.681562, Test Accuracy: 49.81%, Average Test Loss: 1.275230\n",
            "\n",
            "Epoch 2/100: "
          ]
        },
        {
          "output_type": "stream",
          "name": "stderr",
          "text": [
            "100%|██████████| 81/81 [00:01<00:00, 72.98it/s]\n",
            "Batch 81/81, Loss: 1.282117: 100%|██████████| 81/81 [00:00<00:00, 86.39it/s]\n"
          ]
        },
        {
          "output_type": "stream",
          "name": "stdout",
          "text": [
            "\n",
            "Class-wise Accuracy:\n",
            "  Class 1: 54.94%\n",
            "  Class 2: 49.38%\n",
            "  Class 0: 42.59%\n",
            "  Class 3: 54.94%\n",
            "Test Accuracy: 50.5%, Test Loss: 1.265061\n",
            "\n",
            "\n",
            "Class-wise Accuracy:\n",
            "  Class 1: 54.94%\n",
            "  Class 2: 49.38%\n",
            "  Class 0: 42.59%\n",
            "  Class 3: 54.94%\n",
            "Train Accuracy: 72.30%, Average Train Loss: 0.686929, Test Accuracy: 50.46%, Average Test Loss: 1.265061\n",
            "\n",
            "Epoch 3/100: "
          ]
        },
        {
          "output_type": "stream",
          "name": "stderr",
          "text": [
            "100%|██████████| 81/81 [00:01<00:00, 68.89it/s]\n",
            "Batch 81/81, Loss: 1.202457: 100%|██████████| 81/81 [00:01<00:00, 72.71it/s]\n"
          ]
        },
        {
          "output_type": "stream",
          "name": "stdout",
          "text": [
            "\n",
            "Class-wise Accuracy:\n",
            "  Class 1: 54.48%\n",
            "  Class 2: 46.60%\n",
            "  Class 0: 45.83%\n",
            "  Class 3: 54.01%\n",
            "Test Accuracy: 50.2%, Test Loss: 1.281990\n",
            "\n",
            "\n",
            "Class-wise Accuracy:\n",
            "  Class 1: 54.48%\n",
            "  Class 2: 46.60%\n",
            "  Class 0: 45.83%\n",
            "  Class 3: 54.01%\n",
            "Train Accuracy: 73.38%, Average Train Loss: 0.667057, Test Accuracy: 50.23%, Average Test Loss: 1.281990\n",
            "\n",
            "Epoch 4/100: "
          ]
        },
        {
          "output_type": "stream",
          "name": "stderr",
          "text": [
            "100%|██████████| 81/81 [00:01<00:00, 66.17it/s]\n",
            "Batch 81/81, Loss: 1.282191: 100%|██████████| 81/81 [00:01<00:00, 78.52it/s]\n"
          ]
        },
        {
          "output_type": "stream",
          "name": "stdout",
          "text": [
            "\n",
            "Class-wise Accuracy:\n",
            "  Class 1: 54.01%\n",
            "  Class 2: 52.78%\n",
            "  Class 0: 45.68%\n",
            "  Class 3: 52.93%\n",
            "Test Accuracy: 51.4%, Test Loss: 1.271335\n",
            "\n",
            "\n",
            "Class-wise Accuracy:\n",
            "  Class 1: 54.01%\n",
            "  Class 2: 52.78%\n",
            "  Class 0: 45.68%\n",
            "  Class 3: 52.93%\n",
            "Train Accuracy: 73.92%, Average Train Loss: 0.675713, Test Accuracy: 51.35%, Average Test Loss: 1.271335\n",
            "\n",
            "Epoch 5/100: "
          ]
        },
        {
          "output_type": "stream",
          "name": "stderr",
          "text": [
            "100%|██████████| 81/81 [00:01<00:00, 75.87it/s]\n",
            "Batch 81/81, Loss: 1.255804: 100%|██████████| 81/81 [00:00<00:00, 87.85it/s]\n"
          ]
        },
        {
          "output_type": "stream",
          "name": "stdout",
          "text": [
            "\n",
            "Class-wise Accuracy:\n",
            "  Class 1: 52.16%\n",
            "  Class 2: 53.86%\n",
            "  Class 0: 43.83%\n",
            "  Class 3: 52.62%\n",
            "Test Accuracy: 50.6%, Test Loss: 1.250348\n",
            "\n",
            "\n",
            "Class-wise Accuracy:\n",
            "  Class 1: 52.16%\n",
            "  Class 2: 53.86%\n",
            "  Class 0: 43.83%\n",
            "  Class 3: 52.62%\n",
            "Train Accuracy: 72.38%, Average Train Loss: 0.673602, Test Accuracy: 50.62%, Average Test Loss: 1.250348\n",
            "\n",
            "Epoch 6/100: "
          ]
        },
        {
          "output_type": "stream",
          "name": "stderr",
          "text": [
            "100%|██████████| 81/81 [00:01<00:00, 66.23it/s]\n",
            "Batch 81/81, Loss: 1.314824: 100%|██████████| 81/81 [00:00<00:00, 83.40it/s]\n"
          ]
        },
        {
          "output_type": "stream",
          "name": "stdout",
          "text": [
            "\n",
            "Class-wise Accuracy:\n",
            "  Class 1: 52.93%\n",
            "  Class 2: 57.72%\n",
            "  Class 0: 41.36%\n",
            "  Class 3: 54.48%\n",
            "Test Accuracy: 51.6%, Test Loss: 1.269212\n",
            "\n",
            "\n",
            "Class-wise Accuracy:\n",
            "  Class 1: 52.93%\n",
            "  Class 2: 57.72%\n",
            "  Class 0: 41.36%\n",
            "  Class 3: 54.48%\n",
            "Train Accuracy: 74.27%, Average Train Loss: 0.650275, Test Accuracy: 51.62%, Average Test Loss: 1.269212\n",
            "\n",
            "Epoch 7/100: "
          ]
        },
        {
          "output_type": "stream",
          "name": "stderr",
          "text": [
            "100%|██████████| 81/81 [00:01<00:00, 74.70it/s]\n",
            "Batch 81/81, Loss: 1.325657: 100%|██████████| 81/81 [00:00<00:00, 85.68it/s]\n"
          ]
        },
        {
          "output_type": "stream",
          "name": "stdout",
          "text": [
            "\n",
            "Class-wise Accuracy:\n",
            "  Class 1: 53.09%\n",
            "  Class 2: 54.78%\n",
            "  Class 0: 44.14%\n",
            "  Class 3: 53.86%\n",
            "Test Accuracy: 51.5%, Test Loss: 1.289420\n",
            "\n",
            "\n",
            "Class-wise Accuracy:\n",
            "  Class 1: 53.09%\n",
            "  Class 2: 54.78%\n",
            "  Class 0: 44.14%\n",
            "  Class 3: 53.86%\n",
            "Train Accuracy: 74.04%, Average Train Loss: 0.649809, Test Accuracy: 51.47%, Average Test Loss: 1.289420\n",
            "\n",
            "Epoch 8/100: "
          ]
        },
        {
          "output_type": "stream",
          "name": "stderr",
          "text": [
            "100%|██████████| 81/81 [00:01<00:00, 72.94it/s]\n",
            "Batch 81/81, Loss: 1.198772: 100%|██████████| 81/81 [00:00<00:00, 82.89it/s]\n"
          ]
        },
        {
          "output_type": "stream",
          "name": "stdout",
          "text": [
            "\n",
            "Class-wise Accuracy:\n",
            "  Class 1: 52.16%\n",
            "  Class 2: 53.55%\n",
            "  Class 0: 40.59%\n",
            "  Class 3: 56.48%\n",
            "Test Accuracy: 50.7%, Test Loss: 1.251991\n",
            "\n",
            "\n",
            "Class-wise Accuracy:\n",
            "  Class 1: 52.16%\n",
            "  Class 2: 53.55%\n",
            "  Class 0: 40.59%\n",
            "  Class 3: 56.48%\n",
            "Train Accuracy: 74.42%, Average Train Loss: 0.651818, Test Accuracy: 50.69%, Average Test Loss: 1.251991\n",
            "\n",
            "Epoch 9/100: "
          ]
        },
        {
          "output_type": "stream",
          "name": "stderr",
          "text": [
            "100%|██████████| 81/81 [00:01<00:00, 64.59it/s]\n",
            "Batch 81/81, Loss: 1.210790: 100%|██████████| 81/81 [00:01<00:00, 73.14it/s]\n"
          ]
        },
        {
          "output_type": "stream",
          "name": "stdout",
          "text": [
            "\n",
            "Class-wise Accuracy:\n",
            "  Class 1: 48.61%\n",
            "  Class 2: 57.25%\n",
            "  Class 0: 41.82%\n",
            "  Class 3: 59.26%\n",
            "Test Accuracy: 51.7%, Test Loss: 1.267081\n",
            "\n",
            "\n",
            "Class-wise Accuracy:\n",
            "  Class 1: 48.61%\n",
            "  Class 2: 57.25%\n",
            "  Class 0: 41.82%\n",
            "  Class 3: 59.26%\n",
            "Train Accuracy: 75.35%, Average Train Loss: 0.646039, Test Accuracy: 51.74%, Average Test Loss: 1.267081\n",
            "\n",
            "Epoch 10/100: "
          ]
        },
        {
          "output_type": "stream",
          "name": "stderr",
          "text": [
            "100%|██████████| 81/81 [00:01<00:00, 62.39it/s]\n",
            "Batch 81/81, Loss: 1.239807: 100%|██████████| 81/81 [00:00<00:00, 85.08it/s]\n"
          ]
        },
        {
          "output_type": "stream",
          "name": "stdout",
          "text": [
            "\n",
            "Class-wise Accuracy:\n",
            "  Class 1: 49.69%\n",
            "  Class 2: 54.17%\n",
            "  Class 0: 48.15%\n",
            "  Class 3: 54.17%\n",
            "Test Accuracy: 51.5%, Test Loss: 1.236640\n",
            "\n",
            "\n",
            "Class-wise Accuracy:\n",
            "  Class 1: 49.69%\n",
            "  Class 2: 54.17%\n",
            "  Class 0: 48.15%\n",
            "  Class 3: 54.17%\n",
            "Train Accuracy: 73.23%, Average Train Loss: 0.670327, Test Accuracy: 51.54%, Average Test Loss: 1.236640\n",
            "\n",
            "Epoch 11/100: "
          ]
        },
        {
          "output_type": "stream",
          "name": "stderr",
          "text": [
            "100%|██████████| 81/81 [00:01<00:00, 73.38it/s]\n",
            "Batch 81/81, Loss: 1.146081: 100%|██████████| 81/81 [00:00<00:00, 83.87it/s]\n"
          ]
        },
        {
          "output_type": "stream",
          "name": "stdout",
          "text": [
            "\n",
            "Class-wise Accuracy:\n",
            "  Class 1: 47.99%\n",
            "  Class 2: 52.31%\n",
            "  Class 0: 43.06%\n",
            "  Class 3: 60.34%\n",
            "Test Accuracy: 50.9%, Test Loss: 1.260084\n",
            "\n",
            "\n",
            "Class-wise Accuracy:\n",
            "  Class 1: 47.99%\n",
            "  Class 2: 52.31%\n",
            "  Class 0: 43.06%\n",
            "  Class 3: 60.34%\n",
            "Train Accuracy: 75.31%, Average Train Loss: 0.634455, Test Accuracy: 50.93%, Average Test Loss: 1.260084\n",
            "\n",
            "Epoch 12/100: "
          ]
        },
        {
          "output_type": "stream",
          "name": "stderr",
          "text": [
            "100%|██████████| 81/81 [00:01<00:00, 72.82it/s]\n",
            "Batch 81/81, Loss: 1.200403: 100%|██████████| 81/81 [00:00<00:00, 87.87it/s]\n"
          ]
        },
        {
          "output_type": "stream",
          "name": "stdout",
          "text": [
            "\n",
            "Class-wise Accuracy:\n",
            "  Class 1: 54.17%\n",
            "  Class 2: 46.14%\n",
            "  Class 0: 49.38%\n",
            "  Class 3: 54.78%\n",
            "Test Accuracy: 51.1%, Test Loss: 1.264986\n",
            "\n",
            "\n",
            "Class-wise Accuracy:\n",
            "  Class 1: 54.17%\n",
            "  Class 2: 46.14%\n",
            "  Class 0: 49.38%\n",
            "  Class 3: 54.78%\n",
            "Train Accuracy: 73.19%, Average Train Loss: 0.649761, Test Accuracy: 51.12%, Average Test Loss: 1.264986\n",
            "\n",
            "Epoch 13/100: "
          ]
        },
        {
          "output_type": "stream",
          "name": "stderr",
          "text": [
            "100%|██████████| 81/81 [00:01<00:00, 72.87it/s]\n",
            "Batch 81/81, Loss: 1.204537: 100%|██████████| 81/81 [00:00<00:00, 85.67it/s]\n"
          ]
        },
        {
          "output_type": "stream",
          "name": "stdout",
          "text": [
            "\n",
            "Class-wise Accuracy:\n",
            "  Class 1: 53.86%\n",
            "  Class 2: 49.38%\n",
            "  Class 0: 48.77%\n",
            "  Class 3: 51.70%\n",
            "Test Accuracy: 50.9%, Test Loss: 1.266840\n",
            "\n",
            "\n",
            "Class-wise Accuracy:\n",
            "  Class 1: 53.86%\n",
            "  Class 2: 49.38%\n",
            "  Class 0: 48.77%\n",
            "  Class 3: 51.70%\n",
            "Train Accuracy: 73.88%, Average Train Loss: 0.656761, Test Accuracy: 50.93%, Average Test Loss: 1.266840\n",
            "\n",
            "Epoch 14/100: "
          ]
        },
        {
          "output_type": "stream",
          "name": "stderr",
          "text": [
            "100%|██████████| 81/81 [00:01<00:00, 74.04it/s]\n",
            "Batch 81/81, Loss: 1.193247: 100%|██████████| 81/81 [00:01<00:00, 75.67it/s]\n"
          ]
        },
        {
          "output_type": "stream",
          "name": "stdout",
          "text": [
            "\n",
            "Class-wise Accuracy:\n",
            "  Class 1: 53.70%\n",
            "  Class 2: 51.23%\n",
            "  Class 0: 46.45%\n",
            "  Class 3: 56.79%\n",
            "Test Accuracy: 52.0%, Test Loss: 1.273465\n",
            "\n",
            "\n",
            "Class-wise Accuracy:\n",
            "  Class 1: 53.70%\n",
            "  Class 2: 51.23%\n",
            "  Class 0: 46.45%\n",
            "  Class 3: 56.79%\n",
            "Train Accuracy: 74.96%, Average Train Loss: 0.635876, Test Accuracy: 52.04%, Average Test Loss: 1.273465\n",
            "\n",
            "Epoch 15/100: "
          ]
        },
        {
          "output_type": "stream",
          "name": "stderr",
          "text": [
            "100%|██████████| 81/81 [00:01<00:00, 62.85it/s]\n",
            "Batch 81/81, Loss: 1.198380: 100%|██████████| 81/81 [00:01<00:00, 68.93it/s]\n"
          ]
        },
        {
          "output_type": "stream",
          "name": "stdout",
          "text": [
            "\n",
            "Class-wise Accuracy:\n",
            "  Class 1: 51.70%\n",
            "  Class 2: 54.78%\n",
            "  Class 0: 44.29%\n",
            "  Class 3: 55.56%\n",
            "Test Accuracy: 51.6%, Test Loss: 1.260623\n",
            "\n",
            "\n",
            "Class-wise Accuracy:\n",
            "  Class 1: 51.70%\n",
            "  Class 2: 54.78%\n",
            "  Class 0: 44.29%\n",
            "  Class 3: 55.56%\n"
          ]
        },
        {
          "output_type": "error",
          "ename": "KeyboardInterrupt",
          "evalue": "",
          "traceback": [
            "\u001b[0;31m---------------------------------------------------------------------------\u001b[0m",
            "\u001b[0;31mKeyboardInterrupt\u001b[0m                         Traceback (most recent call last)",
            "\u001b[0;32m<ipython-input-32-0a7fedb99659>\u001b[0m in \u001b[0;36m<cell line: 0>\u001b[0;34m()\u001b[0m\n\u001b[1;32m     73\u001b[0m     \u001b[0mplt\u001b[0m\u001b[0;34m.\u001b[0m\u001b[0mtight_layout\u001b[0m\u001b[0;34m(\u001b[0m\u001b[0;34m)\u001b[0m\u001b[0;34m\u001b[0m\u001b[0;34m\u001b[0m\u001b[0m\n\u001b[1;32m     74\u001b[0m     \u001b[0mimg_path\u001b[0m \u001b[0;34m=\u001b[0m \u001b[0;34mf\"adj_matrix_epoch_{epoch}.png\"\u001b[0m\u001b[0;34m\u001b[0m\u001b[0;34m\u001b[0m\u001b[0m\n\u001b[0;32m---> 75\u001b[0;31m     \u001b[0mplt\u001b[0m\u001b[0;34m.\u001b[0m\u001b[0msavefig\u001b[0m\u001b[0;34m(\u001b[0m\u001b[0mimg_path\u001b[0m\u001b[0;34m)\u001b[0m\u001b[0;34m\u001b[0m\u001b[0;34m\u001b[0m\u001b[0m\n\u001b[0m\u001b[1;32m     76\u001b[0m     \u001b[0mplt\u001b[0m\u001b[0;34m.\u001b[0m\u001b[0mclose\u001b[0m\u001b[0;34m(\u001b[0m\u001b[0;34m)\u001b[0m\u001b[0;34m\u001b[0m\u001b[0;34m\u001b[0m\u001b[0m\n\u001b[1;32m     77\u001b[0m \u001b[0;34m\u001b[0m\u001b[0m\n",
            "\u001b[0;32m/usr/local/lib/python3.11/dist-packages/matplotlib/pyplot.py\u001b[0m in \u001b[0;36msavefig\u001b[0;34m(*args, **kwargs)\u001b[0m\n\u001b[1;32m   1242\u001b[0m     \u001b[0;31m# presumably this is here because subclasses can return?\u001b[0m\u001b[0;34m\u001b[0m\u001b[0;34m\u001b[0m\u001b[0m\n\u001b[1;32m   1243\u001b[0m     \u001b[0mres\u001b[0m \u001b[0;34m=\u001b[0m \u001b[0mfig\u001b[0m\u001b[0;34m.\u001b[0m\u001b[0msavefig\u001b[0m\u001b[0;34m(\u001b[0m\u001b[0;34m*\u001b[0m\u001b[0margs\u001b[0m\u001b[0;34m,\u001b[0m \u001b[0;34m**\u001b[0m\u001b[0mkwargs\u001b[0m\u001b[0;34m)\u001b[0m  \u001b[0;31m# type: ignore[func-returns-value]\u001b[0m\u001b[0;34m\u001b[0m\u001b[0;34m\u001b[0m\u001b[0m\n\u001b[0;32m-> 1244\u001b[0;31m     \u001b[0mfig\u001b[0m\u001b[0;34m.\u001b[0m\u001b[0mcanvas\u001b[0m\u001b[0;34m.\u001b[0m\u001b[0mdraw_idle\u001b[0m\u001b[0;34m(\u001b[0m\u001b[0;34m)\u001b[0m  \u001b[0;31m# Need this if 'transparent=True', to reset colors.\u001b[0m\u001b[0;34m\u001b[0m\u001b[0;34m\u001b[0m\u001b[0m\n\u001b[0m\u001b[1;32m   1245\u001b[0m     \u001b[0;32mreturn\u001b[0m \u001b[0mres\u001b[0m\u001b[0;34m\u001b[0m\u001b[0;34m\u001b[0m\u001b[0m\n\u001b[1;32m   1246\u001b[0m \u001b[0;34m\u001b[0m\u001b[0m\n",
            "\u001b[0;32m/usr/local/lib/python3.11/dist-packages/matplotlib/backend_bases.py\u001b[0m in \u001b[0;36mdraw_idle\u001b[0;34m(self, *args, **kwargs)\u001b[0m\n\u001b[1;32m   1889\u001b[0m         \u001b[0;32mif\u001b[0m \u001b[0;32mnot\u001b[0m \u001b[0mself\u001b[0m\u001b[0;34m.\u001b[0m\u001b[0m_is_idle_drawing\u001b[0m\u001b[0;34m:\u001b[0m\u001b[0;34m\u001b[0m\u001b[0;34m\u001b[0m\u001b[0m\n\u001b[1;32m   1890\u001b[0m             \u001b[0;32mwith\u001b[0m \u001b[0mself\u001b[0m\u001b[0;34m.\u001b[0m\u001b[0m_idle_draw_cntx\u001b[0m\u001b[0;34m(\u001b[0m\u001b[0;34m)\u001b[0m\u001b[0;34m:\u001b[0m\u001b[0;34m\u001b[0m\u001b[0;34m\u001b[0m\u001b[0m\n\u001b[0;32m-> 1891\u001b[0;31m                 \u001b[0mself\u001b[0m\u001b[0;34m.\u001b[0m\u001b[0mdraw\u001b[0m\u001b[0;34m(\u001b[0m\u001b[0;34m*\u001b[0m\u001b[0margs\u001b[0m\u001b[0;34m,\u001b[0m \u001b[0;34m**\u001b[0m\u001b[0mkwargs\u001b[0m\u001b[0;34m)\u001b[0m\u001b[0;34m\u001b[0m\u001b[0;34m\u001b[0m\u001b[0m\n\u001b[0m\u001b[1;32m   1892\u001b[0m \u001b[0;34m\u001b[0m\u001b[0m\n\u001b[1;32m   1893\u001b[0m     \u001b[0;34m@\u001b[0m\u001b[0mproperty\u001b[0m\u001b[0;34m\u001b[0m\u001b[0;34m\u001b[0m\u001b[0m\n",
            "\u001b[0;32m/usr/local/lib/python3.11/dist-packages/matplotlib/backends/backend_agg.py\u001b[0m in \u001b[0;36mdraw\u001b[0;34m(self)\u001b[0m\n\u001b[1;32m    380\u001b[0m         with (self.toolbar._wait_cursor_for_draw_cm() if self.toolbar\n\u001b[1;32m    381\u001b[0m               else nullcontext()):\n\u001b[0;32m--> 382\u001b[0;31m             \u001b[0mself\u001b[0m\u001b[0;34m.\u001b[0m\u001b[0mfigure\u001b[0m\u001b[0;34m.\u001b[0m\u001b[0mdraw\u001b[0m\u001b[0;34m(\u001b[0m\u001b[0mself\u001b[0m\u001b[0;34m.\u001b[0m\u001b[0mrenderer\u001b[0m\u001b[0;34m)\u001b[0m\u001b[0;34m\u001b[0m\u001b[0;34m\u001b[0m\u001b[0m\n\u001b[0m\u001b[1;32m    383\u001b[0m             \u001b[0;31m# A GUI class may be need to update a window using this draw, so\u001b[0m\u001b[0;34m\u001b[0m\u001b[0;34m\u001b[0m\u001b[0m\n\u001b[1;32m    384\u001b[0m             \u001b[0;31m# don't forget to call the superclass.\u001b[0m\u001b[0;34m\u001b[0m\u001b[0;34m\u001b[0m\u001b[0m\n",
            "\u001b[0;32m/usr/local/lib/python3.11/dist-packages/matplotlib/artist.py\u001b[0m in \u001b[0;36mdraw_wrapper\u001b[0;34m(artist, renderer, *args, **kwargs)\u001b[0m\n\u001b[1;32m     92\u001b[0m     \u001b[0;34m@\u001b[0m\u001b[0mwraps\u001b[0m\u001b[0;34m(\u001b[0m\u001b[0mdraw\u001b[0m\u001b[0;34m)\u001b[0m\u001b[0;34m\u001b[0m\u001b[0;34m\u001b[0m\u001b[0m\n\u001b[1;32m     93\u001b[0m     \u001b[0;32mdef\u001b[0m \u001b[0mdraw_wrapper\u001b[0m\u001b[0;34m(\u001b[0m\u001b[0martist\u001b[0m\u001b[0;34m,\u001b[0m \u001b[0mrenderer\u001b[0m\u001b[0;34m,\u001b[0m \u001b[0;34m*\u001b[0m\u001b[0margs\u001b[0m\u001b[0;34m,\u001b[0m \u001b[0;34m**\u001b[0m\u001b[0mkwargs\u001b[0m\u001b[0;34m)\u001b[0m\u001b[0;34m:\u001b[0m\u001b[0;34m\u001b[0m\u001b[0;34m\u001b[0m\u001b[0m\n\u001b[0;32m---> 94\u001b[0;31m         \u001b[0mresult\u001b[0m \u001b[0;34m=\u001b[0m \u001b[0mdraw\u001b[0m\u001b[0;34m(\u001b[0m\u001b[0martist\u001b[0m\u001b[0;34m,\u001b[0m \u001b[0mrenderer\u001b[0m\u001b[0;34m,\u001b[0m \u001b[0;34m*\u001b[0m\u001b[0margs\u001b[0m\u001b[0;34m,\u001b[0m \u001b[0;34m**\u001b[0m\u001b[0mkwargs\u001b[0m\u001b[0;34m)\u001b[0m\u001b[0;34m\u001b[0m\u001b[0;34m\u001b[0m\u001b[0m\n\u001b[0m\u001b[1;32m     95\u001b[0m         \u001b[0;32mif\u001b[0m \u001b[0mrenderer\u001b[0m\u001b[0;34m.\u001b[0m\u001b[0m_rasterizing\u001b[0m\u001b[0;34m:\u001b[0m\u001b[0;34m\u001b[0m\u001b[0;34m\u001b[0m\u001b[0m\n\u001b[1;32m     96\u001b[0m             \u001b[0mrenderer\u001b[0m\u001b[0;34m.\u001b[0m\u001b[0mstop_rasterizing\u001b[0m\u001b[0;34m(\u001b[0m\u001b[0;34m)\u001b[0m\u001b[0;34m\u001b[0m\u001b[0;34m\u001b[0m\u001b[0m\n",
            "\u001b[0;32m/usr/local/lib/python3.11/dist-packages/matplotlib/artist.py\u001b[0m in \u001b[0;36mdraw_wrapper\u001b[0;34m(artist, renderer)\u001b[0m\n\u001b[1;32m     69\u001b[0m                 \u001b[0mrenderer\u001b[0m\u001b[0;34m.\u001b[0m\u001b[0mstart_filter\u001b[0m\u001b[0;34m(\u001b[0m\u001b[0;34m)\u001b[0m\u001b[0;34m\u001b[0m\u001b[0;34m\u001b[0m\u001b[0m\n\u001b[1;32m     70\u001b[0m \u001b[0;34m\u001b[0m\u001b[0m\n\u001b[0;32m---> 71\u001b[0;31m             \u001b[0;32mreturn\u001b[0m \u001b[0mdraw\u001b[0m\u001b[0;34m(\u001b[0m\u001b[0martist\u001b[0m\u001b[0;34m,\u001b[0m \u001b[0mrenderer\u001b[0m\u001b[0;34m)\u001b[0m\u001b[0;34m\u001b[0m\u001b[0;34m\u001b[0m\u001b[0m\n\u001b[0m\u001b[1;32m     72\u001b[0m         \u001b[0;32mfinally\u001b[0m\u001b[0;34m:\u001b[0m\u001b[0;34m\u001b[0m\u001b[0;34m\u001b[0m\u001b[0m\n\u001b[1;32m     73\u001b[0m             \u001b[0;32mif\u001b[0m \u001b[0martist\u001b[0m\u001b[0;34m.\u001b[0m\u001b[0mget_agg_filter\u001b[0m\u001b[0;34m(\u001b[0m\u001b[0;34m)\u001b[0m \u001b[0;32mis\u001b[0m \u001b[0;32mnot\u001b[0m \u001b[0;32mNone\u001b[0m\u001b[0;34m:\u001b[0m\u001b[0;34m\u001b[0m\u001b[0;34m\u001b[0m\u001b[0m\n",
            "\u001b[0;32m/usr/local/lib/python3.11/dist-packages/matplotlib/figure.py\u001b[0m in \u001b[0;36mdraw\u001b[0;34m(self, renderer)\u001b[0m\n\u001b[1;32m   3255\u001b[0m \u001b[0;34m\u001b[0m\u001b[0m\n\u001b[1;32m   3256\u001b[0m                 \u001b[0mself\u001b[0m\u001b[0;34m.\u001b[0m\u001b[0mpatch\u001b[0m\u001b[0;34m.\u001b[0m\u001b[0mdraw\u001b[0m\u001b[0;34m(\u001b[0m\u001b[0mrenderer\u001b[0m\u001b[0;34m)\u001b[0m\u001b[0;34m\u001b[0m\u001b[0;34m\u001b[0m\u001b[0m\n\u001b[0;32m-> 3257\u001b[0;31m                 mimage._draw_list_compositing_images(\n\u001b[0m\u001b[1;32m   3258\u001b[0m                     renderer, self, artists, self.suppressComposite)\n\u001b[1;32m   3259\u001b[0m \u001b[0;34m\u001b[0m\u001b[0m\n",
            "\u001b[0;32m/usr/local/lib/python3.11/dist-packages/matplotlib/image.py\u001b[0m in \u001b[0;36m_draw_list_compositing_images\u001b[0;34m(renderer, parent, artists, suppress_composite)\u001b[0m\n\u001b[1;32m    132\u001b[0m     \u001b[0;32mif\u001b[0m \u001b[0mnot_composite\u001b[0m \u001b[0;32mor\u001b[0m \u001b[0;32mnot\u001b[0m \u001b[0mhas_images\u001b[0m\u001b[0;34m:\u001b[0m\u001b[0;34m\u001b[0m\u001b[0;34m\u001b[0m\u001b[0m\n\u001b[1;32m    133\u001b[0m         \u001b[0;32mfor\u001b[0m \u001b[0ma\u001b[0m \u001b[0;32min\u001b[0m \u001b[0martists\u001b[0m\u001b[0;34m:\u001b[0m\u001b[0;34m\u001b[0m\u001b[0;34m\u001b[0m\u001b[0m\n\u001b[0;32m--> 134\u001b[0;31m             \u001b[0ma\u001b[0m\u001b[0;34m.\u001b[0m\u001b[0mdraw\u001b[0m\u001b[0;34m(\u001b[0m\u001b[0mrenderer\u001b[0m\u001b[0;34m)\u001b[0m\u001b[0;34m\u001b[0m\u001b[0;34m\u001b[0m\u001b[0m\n\u001b[0m\u001b[1;32m    135\u001b[0m     \u001b[0;32melse\u001b[0m\u001b[0;34m:\u001b[0m\u001b[0;34m\u001b[0m\u001b[0;34m\u001b[0m\u001b[0m\n\u001b[1;32m    136\u001b[0m         \u001b[0;31m# Composite any adjacent images together\u001b[0m\u001b[0;34m\u001b[0m\u001b[0;34m\u001b[0m\u001b[0m\n",
            "\u001b[0;32m/usr/local/lib/python3.11/dist-packages/matplotlib/artist.py\u001b[0m in \u001b[0;36mdraw_wrapper\u001b[0;34m(artist, renderer)\u001b[0m\n\u001b[1;32m     69\u001b[0m                 \u001b[0mrenderer\u001b[0m\u001b[0;34m.\u001b[0m\u001b[0mstart_filter\u001b[0m\u001b[0;34m(\u001b[0m\u001b[0;34m)\u001b[0m\u001b[0;34m\u001b[0m\u001b[0;34m\u001b[0m\u001b[0m\n\u001b[1;32m     70\u001b[0m \u001b[0;34m\u001b[0m\u001b[0m\n\u001b[0;32m---> 71\u001b[0;31m             \u001b[0;32mreturn\u001b[0m \u001b[0mdraw\u001b[0m\u001b[0;34m(\u001b[0m\u001b[0martist\u001b[0m\u001b[0;34m,\u001b[0m \u001b[0mrenderer\u001b[0m\u001b[0;34m)\u001b[0m\u001b[0;34m\u001b[0m\u001b[0;34m\u001b[0m\u001b[0m\n\u001b[0m\u001b[1;32m     72\u001b[0m         \u001b[0;32mfinally\u001b[0m\u001b[0;34m:\u001b[0m\u001b[0;34m\u001b[0m\u001b[0;34m\u001b[0m\u001b[0m\n\u001b[1;32m     73\u001b[0m             \u001b[0;32mif\u001b[0m \u001b[0martist\u001b[0m\u001b[0;34m.\u001b[0m\u001b[0mget_agg_filter\u001b[0m\u001b[0;34m(\u001b[0m\u001b[0;34m)\u001b[0m \u001b[0;32mis\u001b[0m \u001b[0;32mnot\u001b[0m \u001b[0;32mNone\u001b[0m\u001b[0;34m:\u001b[0m\u001b[0;34m\u001b[0m\u001b[0;34m\u001b[0m\u001b[0m\n",
            "\u001b[0;32m/usr/local/lib/python3.11/dist-packages/matplotlib/axes/_base.py\u001b[0m in \u001b[0;36mdraw\u001b[0;34m(self, renderer)\u001b[0m\n\u001b[1;32m   3179\u001b[0m             \u001b[0m_draw_rasterized\u001b[0m\u001b[0;34m(\u001b[0m\u001b[0mself\u001b[0m\u001b[0;34m.\u001b[0m\u001b[0mget_figure\u001b[0m\u001b[0;34m(\u001b[0m\u001b[0mroot\u001b[0m\u001b[0;34m=\u001b[0m\u001b[0;32mTrue\u001b[0m\u001b[0;34m)\u001b[0m\u001b[0;34m,\u001b[0m \u001b[0martists_rasterized\u001b[0m\u001b[0;34m,\u001b[0m \u001b[0mrenderer\u001b[0m\u001b[0;34m)\u001b[0m\u001b[0;34m\u001b[0m\u001b[0;34m\u001b[0m\u001b[0m\n\u001b[1;32m   3180\u001b[0m \u001b[0;34m\u001b[0m\u001b[0m\n\u001b[0;32m-> 3181\u001b[0;31m         mimage._draw_list_compositing_images(\n\u001b[0m\u001b[1;32m   3182\u001b[0m             renderer, self, artists, self.get_figure(root=True).suppressComposite)\n\u001b[1;32m   3183\u001b[0m \u001b[0;34m\u001b[0m\u001b[0m\n",
            "\u001b[0;32m/usr/local/lib/python3.11/dist-packages/matplotlib/image.py\u001b[0m in \u001b[0;36m_draw_list_compositing_images\u001b[0;34m(renderer, parent, artists, suppress_composite)\u001b[0m\n\u001b[1;32m    132\u001b[0m     \u001b[0;32mif\u001b[0m \u001b[0mnot_composite\u001b[0m \u001b[0;32mor\u001b[0m \u001b[0;32mnot\u001b[0m \u001b[0mhas_images\u001b[0m\u001b[0;34m:\u001b[0m\u001b[0;34m\u001b[0m\u001b[0;34m\u001b[0m\u001b[0m\n\u001b[1;32m    133\u001b[0m         \u001b[0;32mfor\u001b[0m \u001b[0ma\u001b[0m \u001b[0;32min\u001b[0m \u001b[0martists\u001b[0m\u001b[0;34m:\u001b[0m\u001b[0;34m\u001b[0m\u001b[0;34m\u001b[0m\u001b[0m\n\u001b[0;32m--> 134\u001b[0;31m             \u001b[0ma\u001b[0m\u001b[0;34m.\u001b[0m\u001b[0mdraw\u001b[0m\u001b[0;34m(\u001b[0m\u001b[0mrenderer\u001b[0m\u001b[0;34m)\u001b[0m\u001b[0;34m\u001b[0m\u001b[0;34m\u001b[0m\u001b[0m\n\u001b[0m\u001b[1;32m    135\u001b[0m     \u001b[0;32melse\u001b[0m\u001b[0;34m:\u001b[0m\u001b[0;34m\u001b[0m\u001b[0;34m\u001b[0m\u001b[0m\n\u001b[1;32m    136\u001b[0m         \u001b[0;31m# Composite any adjacent images together\u001b[0m\u001b[0;34m\u001b[0m\u001b[0;34m\u001b[0m\u001b[0m\n",
            "\u001b[0;32m/usr/local/lib/python3.11/dist-packages/matplotlib/artist.py\u001b[0m in \u001b[0;36mdraw_wrapper\u001b[0;34m(artist, renderer)\u001b[0m\n\u001b[1;32m     69\u001b[0m                 \u001b[0mrenderer\u001b[0m\u001b[0;34m.\u001b[0m\u001b[0mstart_filter\u001b[0m\u001b[0;34m(\u001b[0m\u001b[0;34m)\u001b[0m\u001b[0;34m\u001b[0m\u001b[0;34m\u001b[0m\u001b[0m\n\u001b[1;32m     70\u001b[0m \u001b[0;34m\u001b[0m\u001b[0m\n\u001b[0;32m---> 71\u001b[0;31m             \u001b[0;32mreturn\u001b[0m \u001b[0mdraw\u001b[0m\u001b[0;34m(\u001b[0m\u001b[0martist\u001b[0m\u001b[0;34m,\u001b[0m \u001b[0mrenderer\u001b[0m\u001b[0;34m)\u001b[0m\u001b[0;34m\u001b[0m\u001b[0;34m\u001b[0m\u001b[0m\n\u001b[0m\u001b[1;32m     72\u001b[0m         \u001b[0;32mfinally\u001b[0m\u001b[0;34m:\u001b[0m\u001b[0;34m\u001b[0m\u001b[0;34m\u001b[0m\u001b[0m\n\u001b[1;32m     73\u001b[0m             \u001b[0;32mif\u001b[0m \u001b[0martist\u001b[0m\u001b[0;34m.\u001b[0m\u001b[0mget_agg_filter\u001b[0m\u001b[0;34m(\u001b[0m\u001b[0;34m)\u001b[0m \u001b[0;32mis\u001b[0m \u001b[0;32mnot\u001b[0m \u001b[0;32mNone\u001b[0m\u001b[0;34m:\u001b[0m\u001b[0;34m\u001b[0m\u001b[0;34m\u001b[0m\u001b[0m\n",
            "\u001b[0;32m/usr/local/lib/python3.11/dist-packages/matplotlib/axis.py\u001b[0m in \u001b[0;36mdraw\u001b[0;34m(self, renderer)\u001b[0m\n\u001b[1;32m   1420\u001b[0m \u001b[0;34m\u001b[0m\u001b[0m\n\u001b[1;32m   1421\u001b[0m         \u001b[0;31m# Shift label away from axes to avoid overlapping ticklabels.\u001b[0m\u001b[0;34m\u001b[0m\u001b[0;34m\u001b[0m\u001b[0m\n\u001b[0;32m-> 1422\u001b[0;31m         \u001b[0mself\u001b[0m\u001b[0;34m.\u001b[0m\u001b[0m_update_label_position\u001b[0m\u001b[0;34m(\u001b[0m\u001b[0mrenderer\u001b[0m\u001b[0;34m)\u001b[0m\u001b[0;34m\u001b[0m\u001b[0;34m\u001b[0m\u001b[0m\n\u001b[0m\u001b[1;32m   1423\u001b[0m         \u001b[0mself\u001b[0m\u001b[0;34m.\u001b[0m\u001b[0mlabel\u001b[0m\u001b[0;34m.\u001b[0m\u001b[0mdraw\u001b[0m\u001b[0;34m(\u001b[0m\u001b[0mrenderer\u001b[0m\u001b[0;34m)\u001b[0m\u001b[0;34m\u001b[0m\u001b[0;34m\u001b[0m\u001b[0m\n\u001b[1;32m   1424\u001b[0m \u001b[0;34m\u001b[0m\u001b[0m\n",
            "\u001b[0;32m/usr/local/lib/python3.11/dist-packages/matplotlib/axis.py\u001b[0m in \u001b[0;36m_update_label_position\u001b[0;34m(self, renderer)\u001b[0m\n\u001b[1;32m   2684\u001b[0m         \u001b[0;31m# get bounding boxes for this axis and any siblings\u001b[0m\u001b[0;34m\u001b[0m\u001b[0;34m\u001b[0m\u001b[0m\n\u001b[1;32m   2685\u001b[0m         \u001b[0;31m# that have been set by `fig.align_ylabels()`\u001b[0m\u001b[0;34m\u001b[0m\u001b[0;34m\u001b[0m\u001b[0m\n\u001b[0;32m-> 2686\u001b[0;31m         \u001b[0mbboxes\u001b[0m\u001b[0;34m,\u001b[0m \u001b[0mbboxes2\u001b[0m \u001b[0;34m=\u001b[0m \u001b[0mself\u001b[0m\u001b[0;34m.\u001b[0m\u001b[0m_get_tick_boxes_siblings\u001b[0m\u001b[0;34m(\u001b[0m\u001b[0mrenderer\u001b[0m\u001b[0;34m=\u001b[0m\u001b[0mrenderer\u001b[0m\u001b[0;34m)\u001b[0m\u001b[0;34m\u001b[0m\u001b[0;34m\u001b[0m\u001b[0m\n\u001b[0m\u001b[1;32m   2687\u001b[0m         \u001b[0mx\u001b[0m\u001b[0;34m,\u001b[0m \u001b[0my\u001b[0m \u001b[0;34m=\u001b[0m \u001b[0mself\u001b[0m\u001b[0;34m.\u001b[0m\u001b[0mlabel\u001b[0m\u001b[0;34m.\u001b[0m\u001b[0mget_position\u001b[0m\u001b[0;34m(\u001b[0m\u001b[0;34m)\u001b[0m\u001b[0;34m\u001b[0m\u001b[0;34m\u001b[0m\u001b[0m\n\u001b[1;32m   2688\u001b[0m \u001b[0;34m\u001b[0m\u001b[0m\n",
            "\u001b[0;32m/usr/local/lib/python3.11/dist-packages/matplotlib/axis.py\u001b[0m in \u001b[0;36m_get_tick_boxes_siblings\u001b[0;34m(self, renderer)\u001b[0m\n\u001b[1;32m   2250\u001b[0m             \u001b[0maxis\u001b[0m \u001b[0;34m=\u001b[0m \u001b[0max\u001b[0m\u001b[0;34m.\u001b[0m\u001b[0m_axis_map\u001b[0m\u001b[0;34m[\u001b[0m\u001b[0mname\u001b[0m\u001b[0;34m]\u001b[0m\u001b[0;34m\u001b[0m\u001b[0;34m\u001b[0m\u001b[0m\n\u001b[1;32m   2251\u001b[0m             \u001b[0mticks_to_draw\u001b[0m \u001b[0;34m=\u001b[0m \u001b[0maxis\u001b[0m\u001b[0;34m.\u001b[0m\u001b[0m_update_ticks\u001b[0m\u001b[0;34m(\u001b[0m\u001b[0;34m)\u001b[0m\u001b[0;34m\u001b[0m\u001b[0;34m\u001b[0m\u001b[0m\n\u001b[0;32m-> 2252\u001b[0;31m             \u001b[0mtlb\u001b[0m\u001b[0;34m,\u001b[0m \u001b[0mtlb2\u001b[0m \u001b[0;34m=\u001b[0m \u001b[0maxis\u001b[0m\u001b[0;34m.\u001b[0m\u001b[0m_get_ticklabel_bboxes\u001b[0m\u001b[0;34m(\u001b[0m\u001b[0mticks_to_draw\u001b[0m\u001b[0;34m,\u001b[0m \u001b[0mrenderer\u001b[0m\u001b[0;34m)\u001b[0m\u001b[0;34m\u001b[0m\u001b[0;34m\u001b[0m\u001b[0m\n\u001b[0m\u001b[1;32m   2253\u001b[0m             \u001b[0mbboxes\u001b[0m\u001b[0;34m.\u001b[0m\u001b[0mextend\u001b[0m\u001b[0;34m(\u001b[0m\u001b[0mtlb\u001b[0m\u001b[0;34m)\u001b[0m\u001b[0;34m\u001b[0m\u001b[0;34m\u001b[0m\u001b[0m\n\u001b[1;32m   2254\u001b[0m             \u001b[0mbboxes2\u001b[0m\u001b[0;34m.\u001b[0m\u001b[0mextend\u001b[0m\u001b[0;34m(\u001b[0m\u001b[0mtlb2\u001b[0m\u001b[0;34m)\u001b[0m\u001b[0;34m\u001b[0m\u001b[0;34m\u001b[0m\u001b[0m\n",
            "\u001b[0;32m/usr/local/lib/python3.11/dist-packages/matplotlib/axis.py\u001b[0m in \u001b[0;36m_get_ticklabel_bboxes\u001b[0;34m(self, ticks, renderer)\u001b[0m\n\u001b[1;32m   1341\u001b[0m         \u001b[0;32mif\u001b[0m \u001b[0mrenderer\u001b[0m \u001b[0;32mis\u001b[0m \u001b[0;32mNone\u001b[0m\u001b[0;34m:\u001b[0m\u001b[0;34m\u001b[0m\u001b[0;34m\u001b[0m\u001b[0m\n\u001b[1;32m   1342\u001b[0m             \u001b[0mrenderer\u001b[0m \u001b[0;34m=\u001b[0m \u001b[0mself\u001b[0m\u001b[0;34m.\u001b[0m\u001b[0mget_figure\u001b[0m\u001b[0;34m(\u001b[0m\u001b[0mroot\u001b[0m\u001b[0;34m=\u001b[0m\u001b[0;32mTrue\u001b[0m\u001b[0;34m)\u001b[0m\u001b[0;34m.\u001b[0m\u001b[0m_get_renderer\u001b[0m\u001b[0;34m(\u001b[0m\u001b[0;34m)\u001b[0m\u001b[0;34m\u001b[0m\u001b[0;34m\u001b[0m\u001b[0m\n\u001b[0;32m-> 1343\u001b[0;31m         return ([tick.label1.get_window_extent(renderer)\n\u001b[0m\u001b[1;32m   1344\u001b[0m                  for tick in ticks if tick.label1.get_visible()],\n\u001b[1;32m   1345\u001b[0m                 [tick.label2.get_window_extent(renderer)\n",
            "\u001b[0;32m/usr/local/lib/python3.11/dist-packages/matplotlib/axis.py\u001b[0m in \u001b[0;36m<listcomp>\u001b[0;34m(.0)\u001b[0m\n\u001b[1;32m   1341\u001b[0m         \u001b[0;32mif\u001b[0m \u001b[0mrenderer\u001b[0m \u001b[0;32mis\u001b[0m \u001b[0;32mNone\u001b[0m\u001b[0;34m:\u001b[0m\u001b[0;34m\u001b[0m\u001b[0;34m\u001b[0m\u001b[0m\n\u001b[1;32m   1342\u001b[0m             \u001b[0mrenderer\u001b[0m \u001b[0;34m=\u001b[0m \u001b[0mself\u001b[0m\u001b[0;34m.\u001b[0m\u001b[0mget_figure\u001b[0m\u001b[0;34m(\u001b[0m\u001b[0mroot\u001b[0m\u001b[0;34m=\u001b[0m\u001b[0;32mTrue\u001b[0m\u001b[0;34m)\u001b[0m\u001b[0;34m.\u001b[0m\u001b[0m_get_renderer\u001b[0m\u001b[0;34m(\u001b[0m\u001b[0;34m)\u001b[0m\u001b[0;34m\u001b[0m\u001b[0;34m\u001b[0m\u001b[0m\n\u001b[0;32m-> 1343\u001b[0;31m         return ([tick.label1.get_window_extent(renderer)\n\u001b[0m\u001b[1;32m   1344\u001b[0m                  for tick in ticks if tick.label1.get_visible()],\n\u001b[1;32m   1345\u001b[0m                 [tick.label2.get_window_extent(renderer)\n",
            "\u001b[0;32m/usr/local/lib/python3.11/dist-packages/matplotlib/text.py\u001b[0m in \u001b[0;36mget_window_extent\u001b[0;34m(self, renderer, dpi)\u001b[0m\n\u001b[1;32m    967\u001b[0m \u001b[0;34m\u001b[0m\u001b[0m\n\u001b[1;32m    968\u001b[0m         \u001b[0;32mwith\u001b[0m \u001b[0mcbook\u001b[0m\u001b[0;34m.\u001b[0m\u001b[0m_setattr_cm\u001b[0m\u001b[0;34m(\u001b[0m\u001b[0mfig\u001b[0m\u001b[0;34m,\u001b[0m \u001b[0mdpi\u001b[0m\u001b[0;34m=\u001b[0m\u001b[0mdpi\u001b[0m\u001b[0;34m)\u001b[0m\u001b[0;34m:\u001b[0m\u001b[0;34m\u001b[0m\u001b[0;34m\u001b[0m\u001b[0m\n\u001b[0;32m--> 969\u001b[0;31m             \u001b[0mbbox\u001b[0m\u001b[0;34m,\u001b[0m \u001b[0minfo\u001b[0m\u001b[0;34m,\u001b[0m \u001b[0mdescent\u001b[0m \u001b[0;34m=\u001b[0m \u001b[0mself\u001b[0m\u001b[0;34m.\u001b[0m\u001b[0m_get_layout\u001b[0m\u001b[0;34m(\u001b[0m\u001b[0mself\u001b[0m\u001b[0;34m.\u001b[0m\u001b[0m_renderer\u001b[0m\u001b[0;34m)\u001b[0m\u001b[0;34m\u001b[0m\u001b[0;34m\u001b[0m\u001b[0m\n\u001b[0m\u001b[1;32m    970\u001b[0m             \u001b[0mx\u001b[0m\u001b[0;34m,\u001b[0m \u001b[0my\u001b[0m \u001b[0;34m=\u001b[0m \u001b[0mself\u001b[0m\u001b[0;34m.\u001b[0m\u001b[0mget_unitless_position\u001b[0m\u001b[0;34m(\u001b[0m\u001b[0;34m)\u001b[0m\u001b[0;34m\u001b[0m\u001b[0;34m\u001b[0m\u001b[0m\n\u001b[1;32m    971\u001b[0m             \u001b[0mx\u001b[0m\u001b[0;34m,\u001b[0m \u001b[0my\u001b[0m \u001b[0;34m=\u001b[0m \u001b[0mself\u001b[0m\u001b[0;34m.\u001b[0m\u001b[0mget_transform\u001b[0m\u001b[0;34m(\u001b[0m\u001b[0;34m)\u001b[0m\u001b[0;34m.\u001b[0m\u001b[0mtransform\u001b[0m\u001b[0;34m(\u001b[0m\u001b[0;34m(\u001b[0m\u001b[0mx\u001b[0m\u001b[0;34m,\u001b[0m \u001b[0my\u001b[0m\u001b[0;34m)\u001b[0m\u001b[0;34m)\u001b[0m\u001b[0;34m\u001b[0m\u001b[0;34m\u001b[0m\u001b[0m\n",
            "\u001b[0;32m/usr/local/lib/python3.11/dist-packages/matplotlib/text.py\u001b[0m in \u001b[0;36m_get_layout\u001b[0;34m(self, renderer)\u001b[0m\n\u001b[1;32m    506\u001b[0m         \u001b[0mxys\u001b[0m \u001b[0;34m=\u001b[0m \u001b[0mM\u001b[0m\u001b[0;34m.\u001b[0m\u001b[0mtransform\u001b[0m\u001b[0;34m(\u001b[0m\u001b[0moffset_layout\u001b[0m\u001b[0;34m)\u001b[0m \u001b[0;34m-\u001b[0m \u001b[0;34m(\u001b[0m\u001b[0moffsetx\u001b[0m\u001b[0;34m,\u001b[0m \u001b[0moffsety\u001b[0m\u001b[0;34m)\u001b[0m\u001b[0;34m\u001b[0m\u001b[0;34m\u001b[0m\u001b[0m\n\u001b[1;32m    507\u001b[0m \u001b[0;34m\u001b[0m\u001b[0m\n\u001b[0;32m--> 508\u001b[0;31m         \u001b[0;32mreturn\u001b[0m \u001b[0mbbox\u001b[0m\u001b[0;34m,\u001b[0m \u001b[0mlist\u001b[0m\u001b[0;34m(\u001b[0m\u001b[0mzip\u001b[0m\u001b[0;34m(\u001b[0m\u001b[0mlines\u001b[0m\u001b[0;34m,\u001b[0m \u001b[0mzip\u001b[0m\u001b[0;34m(\u001b[0m\u001b[0mws\u001b[0m\u001b[0;34m,\u001b[0m \u001b[0mhs\u001b[0m\u001b[0;34m)\u001b[0m\u001b[0;34m,\u001b[0m \u001b[0;34m*\u001b[0m\u001b[0mxys\u001b[0m\u001b[0;34m.\u001b[0m\u001b[0mT\u001b[0m\u001b[0;34m)\u001b[0m\u001b[0;34m)\u001b[0m\u001b[0;34m,\u001b[0m \u001b[0mdescent\u001b[0m\u001b[0;34m\u001b[0m\u001b[0;34m\u001b[0m\u001b[0m\n\u001b[0m\u001b[1;32m    509\u001b[0m \u001b[0;34m\u001b[0m\u001b[0m\n\u001b[1;32m    510\u001b[0m     \u001b[0;32mdef\u001b[0m \u001b[0mset_bbox\u001b[0m\u001b[0;34m(\u001b[0m\u001b[0mself\u001b[0m\u001b[0;34m,\u001b[0m \u001b[0mrectprops\u001b[0m\u001b[0;34m)\u001b[0m\u001b[0;34m:\u001b[0m\u001b[0;34m\u001b[0m\u001b[0;34m\u001b[0m\u001b[0m\n",
            "\u001b[0;31mKeyboardInterrupt\u001b[0m: "
          ]
        },
        {
          "output_type": "display_data",
          "data": {
            "text/plain": [
              "<Figure size 800x800 with 2 Axes>"
            ],
            "image/png": "[encoded data removed]"
          },
          "metadata": {}
        }
      ],
      "source": [
        "import torch\n",
        "import wandb\n",
        "from torch.utils.data import DataLoader\n",
        "from torch.optim import AdamW\n",
        "from torch.optim.lr_scheduler import CosineAnnealingLR\n",
        "from torch.nn import CrossEntropyLoss\n",
        "import numpy as np\n",
        "import matplotlib.pyplot as plt\n",
        "\n",
        "# Initialize Weights & Biases\n",
        "wandb.init(project=\"Master Thesis\", name=f\"RGNN {seed}\")\n",
        "\n",
        "# Define hyperparameters\n",
        "lr = 1e-3\n",
        "weight_decay = 1e-4\n",
        "batch_size = 32  # Start with 124\n",
        "n_epochs = 100\n",
        "\n",
        "final_acc = 0.0\n",
        "\n",
        "# Log hyperparameters to wandb\n",
        "wandb.config.update({\n",
        "    \"learning_rate\": lr,\n",
        "    \"weight_decay\": weight_decay,\n",
        "    \"batch_size\": batch_size,\n",
        "    \"epochs\": n_epochs\n",
        "})\n",
        "\n",
        "# Define optimizer and scheduler\n",
        "optimizer = AdamW(model.parameters(), lr=lr, weight_decay=weight_decay)\n",
        "scheduler = CosineAnnealingLR(optimizer, T_max=n_epochs - 1)\n",
        "\n",
        "# Define loss function\n",
        "loss_fn = CrossEntropyLoss()\n",
        "\n",
        "# Create DataLoaders\n",
        "train_loader = DataLoader(train_set, batch_size=batch_size, shuffle=True)\n",
        "test_loader = DataLoader(test_set, batch_size=batch_size)\n",
        "\n",
        "# Initialize lists to store all predictions & targets\n",
        "all_preds, all_targets = [], []\n",
        "torch.nn.utils.clip_grad_norm_(model.parameters(), max_norm=1.0)\n",
        "\n",
        "\n",
        "# Training loop\n",
        "for epoch in range(1, n_epochs + 1):\n",
        "    print(f\"Epoch {epoch}/{n_epochs}: \", end=\"\")\n",
        "\n",
        "    train_loss, train_accuracy = train_one_epoch(\n",
        "        train_loader, model,edge_index, loss_fn, optimizer, scheduler, epoch, device\n",
        "    )\n",
        "\n",
        "    test_loss, test_accuracy, class_accuracies, batch_preds, batch_targets = test_model(test_loader, model,edge_index, loss_fn)\n",
        "    final_acc = test_accuracy\n",
        "\n",
        "    # Store predictions & labels for confusion matrix\n",
        "    all_preds.extend(batch_preds)\n",
        "    all_targets.extend(batch_targets)\n",
        "\n",
        "    # Print class-wise accuracy\n",
        "    print(\"\\nClass-wise Accuracy:\")\n",
        "    for class_idx, acc in class_accuracies.items():\n",
        "        print(f\"  Class {class_idx}: {acc:.2f}%\")\n",
        "\n",
        "    adj_matrix = model.rgnn.edge_weights.detach().cpu().numpy().reshape(22,22)\n",
        "\n",
        "    # Create a plot\n",
        "    fig, ax = plt.subplots(figsize=(8, 8))\n",
        "    cax = ax.matshow(adj_matrix, cmap='viridis', interpolation='nearest')  # Adjust color map\n",
        "    fig.colorbar(cax)\n",
        "\n",
        "    # Save the adjacency matrix as an image (not as a graph)\n",
        "    plt.tight_layout()\n",
        "    img_path = f\"adj_matrix_epoch_{epoch}.png\"\n",
        "    plt.savefig(img_path)\n",
        "    plt.close()\n",
        "\n",
        "    # Log results to wandb\n",
        "    wandb.log({\n",
        "        \"epoch\": epoch,\n",
        "        \"train_loss\": train_loss,\n",
        "        \"train_accuracy\": train_accuracy * 100,\n",
        "        \"test_loss\": test_loss,\n",
        "        \"test_accuracy\": test_accuracy,\n",
        "        \"learning_rate\": scheduler.get_last_lr()[0],\n",
        "        **{f\"class_{class_idx}_accuracy\": acc for class_idx, acc in class_accuracies.items()},\n",
        "        \"adj_matrix\": wandb.Image(img_path),\n",
        "    })\n",
        "\n",
        "    print(\n",
        "        f\"Train Accuracy: {100 * train_accuracy:.2f}%, \"\n",
        "        f\"Average Train Loss: {train_loss:.6f}, \"\n",
        "        f\"Test Accuracy: {test_accuracy:.2f}%, \"\n",
        "        f\"Average Test Loss: {test_loss:.6f}\\n\"\n",
        "    )\n",
        "\n",
        "# Convert lists to NumPy arrays\n",
        "all_preds = np.array(all_preds)\n",
        "all_targets = np.array(all_targets)\n",
        "\n",
        "# Save predictions & true labels for later use (confusion matrix)\n",
        "wandb.log({\"all_preds\": all_preds.tolist(), \"all_targets\": all_targets.tolist()})\n",
        "\n"
      ]
    },
    {
      "cell_type": "code",
      "execution_count": null,
      "metadata": {
        "id": "_EeozMvYlqbs"
      },
      "outputs": [],
      "source": [
        "wandb.finish()"
      ]
    },
    {
      "cell_type": "code",
      "execution_count": null,
      "metadata": {
        "id": "r25kGBA32Zhm"
      },
      "outputs": [],
      "source": [
        "import math\n",
        "# Assuming 'model' is your trained Braindecode model\n",
        "print(seed)\n",
        "torch.save(model, f\"RGNN_{math.ceil(final_acc)}_{seed}.pth\")\n",
        "torch.save(model.state_dict(), f\"RGNN_{math.ceil(final_acc)}_{seed}_state.pth\")\n"
      ]
    },
    {
      "cell_type": "code",
      "execution_count": null,
      "metadata": {
        "id": "6oTC35YwpAzQ"
      },
      "outputs": [],
      "source": []
    }
  ],
  "metadata": {
    "accelerator": "GPU",
    "colab": {
      "gpuType": "T4",
      "provenance": []
    },
    "kernelspec": {
      "display_name": "Python 3",
      "name": "python3"
    },
    "language_info": {
      "codemirror_mode": {
        "name": "ipython",
        "version": 3
      },
      "file_extension": ".py",
      "mimetype": "text/x-python",
      "name": "python",
      "nbconvert_exporter": "python",
      "pygments_lexer": "ipython3",
      "version": "3.12.9"
    }
  },
  "nbformat": 4,
  "nbformat_minor": 0
}