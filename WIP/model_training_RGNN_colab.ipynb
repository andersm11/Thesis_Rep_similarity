{
  "cells": [
    {
      "cell_type": "code",
      "execution_count": 1,
      "metadata": {
        "colab": {
          "base_uri": "https://localhost:8080/"
        },
        "id": "82Vbwzg32ZhZ",
        "outputId": "a1c38307-e6fe-4fb3-c40f-584fbe3c6c55"
      },
      "outputs": [
        {
          "output_type": "stream",
          "name": "stdout",
          "text": [
            "Running in Google Colab. Checking required libraries...\n",
            "All required libraries are already installed.\n"
          ]
        }
      ],
      "source": [
        "import sys\n",
        "import importlib\n",
        "import subprocess\n",
        "\n",
        "def install_if_colab():\n",
        "    if \"google.colab\" in sys.modules:\n",
        "        print(\"Running in Google Colab. Checking required libraries...\")\n",
        "\n",
        "        packages = [\"moabb\", \"braindecode\",\"torch_geometric\"]  # Add required libraries\n",
        "        missing_packages = [pkg for pkg in packages if importlib.util.find_spec(pkg) is None]\n",
        "\n",
        "        if missing_packages:\n",
        "            print(f\"Installing missing libraries: {', '.join(missing_packages)}\")\n",
        "            !pip install {\" \".join(missing_packages)}\n",
        "        else:\n",
        "            print(\"All required libraries are already installed.\")\n",
        "    else:\n",
        "        print(\"Not running in Google Colab. No installation needed.\")\n",
        "\n",
        "install_if_colab()\n"
      ]
    },
    {
      "cell_type": "code",
      "execution_count": 2,
      "metadata": {
        "id": "f_sHCnT22v9k",
        "colab": {
          "base_uri": "https://localhost:8080/"
        },
        "outputId": "49affab3-7a8a-4b31-e8de-99bef413a1b8"
      },
      "outputs": [
        {
          "output_type": "stream",
          "name": "stdout",
          "text": [
            "Drive already mounted at /content/drive; to attempt to forcibly remount, call drive.mount(\"/content/drive\", force_remount=True).\n"
          ]
        }
      ],
      "source": [
        "from google.colab import drive\n",
        "drive.mount('/content/drive')\n",
        "path = \"/content/drive/MyDrive/\""
      ]
    },
    {
      "cell_type": "code",
      "execution_count": 3,
      "metadata": {
        "id": "1osynJth26to"
      },
      "outputs": [],
      "source": [
        "import pickle\n",
        "with open(path+'EEG_data/test_set.pkl', 'rb') as f:\n",
        "    test_set = pickle.load(f)\n",
        "\n",
        "import pickle\n",
        "with open(path+'EEG_data/train_set.pkl', 'rb') as f:\n",
        "    train_set = pickle.load(f)"
      ]
    },
    {
      "cell_type": "code",
      "execution_count": 4,
      "metadata": {
        "id": "Xba9vjnO2Zhg",
        "colab": {
          "base_uri": "https://localhost:8080/"
        },
        "outputId": "1cfef59b-25c9-4493-8074-70c1a131ccf6"
      },
      "outputs": [
        {
          "output_type": "stream",
          "name": "stdout",
          "text": [
            "n_classes:  4\n",
            "n_channels: 22\n",
            "input_window_samples size: 1125\n"
          ]
        },
        {
          "output_type": "stream",
          "name": "stderr",
          "text": [
            "/usr/local/lib/python3.11/dist-packages/braindecode/util.py:51: UserWarning: torch.backends.cudnn.benchmark was set to True which may results in lack of reproducibility. In some cases to ensure reproducibility you may need to set torch.backends.cudnn.benchmark to False.\n",
            "  warn(\n"
          ]
        }
      ],
      "source": [
        "import torch\n",
        "#from shallow_fbcsp import ShallowFBCSPNet\n",
        "from braindecode.util import set_random_seeds\n",
        "import torch.nn.functional as F\n",
        "\n",
        "\n",
        "cuda = torch.cuda.is_available()  # check if GPU is available, if True chooses to use it\n",
        "device = \"cuda\" if cuda else \"cpu\"\n",
        "if cuda:\n",
        "    torch.backends.cudnn.benchmark = True\n",
        "seed = 282828\n",
        "set_random_seeds(seed=seed, cuda=cuda)\n",
        "\n",
        "n_classes = 4\n",
        "classes = list(range(n_classes))\n",
        "# Extract number of chans and time steps from dataset\n",
        "n_channels = 22\n",
        "input_window_samples = 1125\n",
        "\n",
        "print(\"n_classes: \", n_classes)\n",
        "print(\"n_channels:\", n_channels)\n",
        "print(\"input_window_samples size:\", input_window_samples)"
      ]
    },
    {
      "cell_type": "code",
      "execution_count": 5,
      "metadata": {
        "id": "b3wPzn3X2Zhh",
        "colab": {
          "base_uri": "https://localhost:8080/"
        },
        "outputId": "9abe0b1b-a87e-4fca-c55f-849bb0bff3e6"
      },
      "outputs": [
        {
          "output_type": "stream",
          "name": "stdout",
          "text": [
            "torch.Size([484])\n",
            "ShallowRGNNNet(\n",
            "  (temporal): Conv2d(1, 10, kernel_size=(1, 25), stride=(1, 1))\n",
            "  (rgnn): SimpleGCNNet(\n",
            "    (rgnn): SGConv(55, 2, K=1)\n",
            "  )\n",
            "  (batch_norm): BatchNorm2d(10, eps=1e-05, momentum=0.1, affine=True, track_running_stats=True)\n",
            "  (pool): AvgPool2d(kernel_size=(1, 20), stride=(1, 20), padding=0)\n",
            "  (dropout): Dropout(p=0.5, inplace=False)\n",
            "  (fc): Linear(in_features=440, out_features=4, bias=True)\n",
            ")\n"
          ]
        }
      ],
      "source": [
        "#from models_fbscp import CollapsedShallowNet\n",
        "# The ShallowFBCSPNet is a `nn.Sequential` model\n",
        "import importlib\n",
        "import RGNN\n",
        "importlib.reload(RGNN)\n",
        "from RGNN import ShallowRGNNNet\n",
        "from weight_init import init_weights\n",
        "from CKA_functions import adjacency_matrix_motion,adjacency_matrix_distance_motion\n",
        "adj_m,pos = adjacency_matrix_motion()\n",
        "#print(adj_m)\n",
        "adj_dis_m, dm = adjacency_matrix_distance_motion(pos,delta=5)\n",
        "dm\n",
        "torch_tensor = torch.from_numpy(dm)\n",
        "edge_weight = torch_tensor.reshape(-1).to(device)\n",
        "print(edge_weight.shape)\n",
        "\n",
        "model = ShallowSGCNNet(22,4,1125,edge_weight)\n",
        "\n",
        "# Display torchinfo table describing the model\n",
        "print(model)\n",
        "\n",
        "# Send model to GPU\n",
        "if cuda:\n",
        "    model.cuda()\n",
        "\n"
      ]
    },
    {
      "cell_type": "code",
      "source": [],
      "metadata": {
        "id": "nDl5hBP4DonW"
      },
      "execution_count": 5,
      "outputs": []
    },
    {
      "cell_type": "code",
      "execution_count": 6,
      "metadata": {
        "id": "n7Eii9TH2Zhi"
      },
      "outputs": [],
      "source": [
        "# splitted = windows_dataset.split(\"session\")\n",
        "# train_set = splitted['0train']  # Session train\n",
        "# test_set = splitted['1test']  # Session evaluation\n",
        "\n",
        "from torch.nn import Module\n",
        "from torch.optim.lr_scheduler import LRScheduler\n",
        "from torch.utils.data import DataLoader\n",
        "\n",
        "#lr = 1e-4\n",
        "#weight_decay = 1e-4\n",
        "#batch_size = 64\n",
        "#n_epochs = 200\n"
      ]
    },
    {
      "cell_type": "code",
      "execution_count": 7,
      "metadata": {
        "id": "inbw4Tud2Zhj"
      },
      "outputs": [],
      "source": [
        "#train_loader = DataLoader(train_set, batch_size=batch_size, shuffle=True)\n",
        "#progress_bar = tqdm(enumerate(train_loader), total=len(train_loader))\n",
        "\n",
        "\n",
        "#from collections import defaultdict\n",
        "\n",
        "#counting_dict = defaultdict(int)  # Initialize class counter\n",
        "\n",
        "#for batch_idx, (X, y, _) in progress_bar:\n",
        "#   X, y = X.to(device), y.to(device)  # Move to device if needed\n",
        "\n",
        "    # Count occurrences of each class in y\n",
        "#    for value in y:\n",
        "#        counting_dict[int(value.item())] += 1  # Convert tensor to int and update count\n",
        "\n",
        "# Print class frequencies\n",
        "#print(\"Class counts:\", dict(counting_dict))\n"
      ]
    },
    {
      "cell_type": "code",
      "execution_count": 8,
      "metadata": {
        "id": "PlgtbF-r2Zhj"
      },
      "outputs": [],
      "source": [
        "\n",
        "from tqdm import tqdm\n",
        "# Define a method for training one epoch\n",
        "\n",
        "\n",
        "def train_one_epoch(\n",
        "        dataloader: DataLoader, model: Module,edge_index, loss_fn, optimizer,\n",
        "        scheduler: LRScheduler, epoch: int, device, print_batch_stats=True\n",
        "):\n",
        "    model.train()  # Set the model to training mode\n",
        "    train_loss, correct = 0, 0\n",
        "\n",
        "    progress_bar = tqdm(enumerate(dataloader), total=len(dataloader),\n",
        "                        disable=not print_batch_stats)\n",
        "\n",
        "    for batch_idx, (X, y, _) in progress_bar:\n",
        "        X, y = X.to(device), y.to(device)\n",
        "        #print(y)\n",
        "        #print(X.shape)\n",
        "        optimizer.zero_grad()\n",
        "        pred = model(X,edge_index)\n",
        "\n",
        "\n",
        "        #print(y.shape)\n",
        "        #print(pred.shape)\n",
        "        loss = loss_fn(pred, y)\n",
        "        loss.backward()\n",
        "        optimizer.step()  # update the model weights\n",
        "        optimizer.zero_grad()\n",
        "        #print(loss.item())\n",
        "        #print(loss)\n",
        "        #print(train_loss)\n",
        "        train_loss += loss.item()\n",
        "        correct += (pred.argmax(1) == y).sum().item()\n",
        "\n",
        "        #if print_batch_stats:\n",
        "        #    progress_bar.set_description(\n",
        "        #        f\"Epoch {epoch}/{n_epochs}, \"\n",
        "        #        f\"Batch {batch_idx + 1}/{len(dataloader)}, \"\n",
        "        #        f\"Loss: {loss.item():.6f}\"\n",
        "        #    )\n",
        "\n",
        "    # Update the learning rate\n",
        "    scheduler.step()\n",
        "\n",
        "    correct /= len(dataloader.dataset)\n",
        "    return train_loss / len(dataloader), correct\n"
      ]
    },
    {
      "cell_type": "code",
      "execution_count": 9,
      "metadata": {
        "id": "M1S-1vTK2Zhk"
      },
      "outputs": [],
      "source": [
        "from collections import defaultdict\n",
        "from tqdm import tqdm\n",
        "import torch\n",
        "from torch.utils.data import DataLoader\n",
        "from sklearn.metrics import confusion_matrix\n",
        "import numpy as np\n",
        "\n",
        "@torch.no_grad()\n",
        "def test_model(dataloader: DataLoader, model: torch.nn.Module,edge_index, loss_fn, print_batch_stats=True):\n",
        "    device = next(model.parameters()).device  # Get model device\n",
        "    size = len(dataloader.dataset)\n",
        "    n_batches = len(dataloader)\n",
        "    model.eval()  # Switch to evaluation mode\n",
        "    test_loss, correct = 0, 0\n",
        "\n",
        "    # Initialize dictionaries for per-class tracking\n",
        "    class_correct = defaultdict(int)\n",
        "    class_total = defaultdict(int)\n",
        "\n",
        "    # Lists to store true and predicted labels for confusion matrix\n",
        "    all_preds = []\n",
        "    all_targets = []\n",
        "\n",
        "    if print_batch_stats:\n",
        "        progress_bar = tqdm(enumerate(dataloader), total=len(dataloader))\n",
        "    else:\n",
        "        progress_bar = enumerate(dataloader)\n",
        "\n",
        "    for batch_idx, (X, y, _) in progress_bar:\n",
        "        X, y = X.to(device), y.to(device)\n",
        "        pred = model(X,edge_index)\n",
        "        batch_loss = loss_fn(pred, y).item()\n",
        "\n",
        "        test_loss += batch_loss\n",
        "        correct += (pred.argmax(1) == y).sum().item()\n",
        "\n",
        "        # Store predictions and true labels for confusion matrix\n",
        "        all_preds.append(pred.argmax(1).cpu())\n",
        "        all_targets.append(y.cpu())\n",
        "\n",
        "        # Compute per-class accuracy\n",
        "        preds_labels = pred.argmax(1)\n",
        "        for label, pred_label in zip(y, preds_labels):\n",
        "            class_total[label.item()] += 1\n",
        "            class_correct[label.item()] += (label == pred_label).item()\n",
        "\n",
        "        if print_batch_stats:\n",
        "            progress_bar.set_description(\n",
        "                f\"Batch {batch_idx + 1}/{len(dataloader)}, Loss: {batch_loss:.6f}\"\n",
        "            )\n",
        "\n",
        "    # Convert lists to tensors\n",
        "    all_preds = torch.cat(all_preds)\n",
        "    all_targets = torch.cat(all_targets)\n",
        "\n",
        "    # Compute per-class accuracy\n",
        "    class_accuracies = {\n",
        "        cls: (class_correct[cls] / class_total[cls]) * 100 if class_total[cls] > 0 else 0\n",
        "        for cls in class_total\n",
        "    }\n",
        "\n",
        "    # Compute overall accuracy\n",
        "    test_loss /= n_batches\n",
        "    overall_accuracy = (correct / size) * 100\n",
        "\n",
        "    # Print per-class accuracy\n",
        "    print(\"\\nClass-wise Accuracy:\")\n",
        "    for cls, acc in class_accuracies.items():\n",
        "        print(f\"  Class {cls}: {acc:.2f}%\")\n",
        "\n",
        "    print(f\"Test Accuracy: {overall_accuracy:.1f}%, Test Loss: {test_loss:.6f}\\n\")\n",
        "\n",
        "\n",
        "\n",
        "    return test_loss, overall_accuracy, class_accuracies, all_preds, all_targets\n"
      ]
    },
    {
      "cell_type": "code",
      "source": [
        "import wandb\n",
        "wandb.login()"
      ],
      "metadata": {
        "id": "G-Pqn7mpqcOb",
        "colab": {
          "base_uri": "https://localhost:8080/"
        },
        "outputId": "4fd76ae6-eda8-4e22-b1e9-6a3edb4f8653"
      },
      "execution_count": 10,
      "outputs": [
        {
          "output_type": "stream",
          "name": "stderr",
          "text": [
            "\u001b[34m\u001b[1mwandb\u001b[0m: Using wandb-core as the SDK backend.  Please refer to https://wandb.me/wandb-core for more information.\n",
            "\u001b[34m\u001b[1mwandb\u001b[0m: Currently logged in as: \u001b[33mahmm98\u001b[0m (\u001b[33mphilinthesky\u001b[0m) to \u001b[32mhttps://api.wandb.ai\u001b[0m. Use \u001b[1m`wandb login --relogin`\u001b[0m to force relogin\n"
          ]
        },
        {
          "output_type": "execute_result",
          "data": {
            "text/plain": [
              "True"
            ]
          },
          "metadata": {},
          "execution_count": 10
        }
      ]
    },
    {
      "cell_type": "code",
      "source": [
        "\n",
        "\n",
        "def get_e_index(dm):\n",
        "  threshold = 0  # Adjust as needed\n",
        "\n",
        "  source_nodes = []\n",
        "  target_nodes = []\n",
        "\n",
        "  # Iterate over all elements in the distance matrix, including self-loops and duplicates\n",
        "  for i in range(dm.shape[0]):\n",
        "      for j in range(dm.shape[1]):  # Iterate over all pairs, including (i, i)\n",
        "          if dm[i, j] >= threshold:  # If the distance meets the condition\n",
        "              source_nodes.append(i)  # Source node\n",
        "              target_nodes.append(j)  # Target node\n",
        "\n",
        "  # Create the edge_index tensor\n",
        "  edge_index = torch.tensor([source_nodes, target_nodes], dtype=torch.long).to(device)"
      ],
      "metadata": {
        "id": "TI5GEmbX4vG6"
      },
      "execution_count": 11,
      "outputs": []
    },
    {
      "cell_type": "code",
      "execution_count": 12,
      "metadata": {
        "id": "uDUBctmi2Zhl",
        "colab": {
          "base_uri": "https://localhost:8080/",
          "height": 1000
        },
        "outputId": "05f056e8-c707-4f5b-8719-235f7facad5a"
      },
      "outputs": [
        {
          "output_type": "display_data",
          "data": {
            "text/plain": [
              "<IPython.core.display.HTML object>"
            ],
            "text/html": [
              "Tracking run with wandb version 0.19.8"
            ]
          },
          "metadata": {}
        },
        {
          "output_type": "display_data",
          "data": {
            "text/plain": [
              "<IPython.core.display.HTML object>"
            ],
            "text/html": [
              "Run data is saved locally in <code>/content/wandb/run-20250325_175110-5zundlkd</code>"
            ]
          },
          "metadata": {}
        },
        {
          "output_type": "display_data",
          "data": {
            "text/plain": [
              "<IPython.core.display.HTML object>"
            ],
            "text/html": [
              "Syncing run <strong><a href='https://wandb.ai/philinthesky/Master%20Thesis/runs/5zundlkd' target=\"_blank\">ShallowRGNNNet 282828</a></strong> to <a href='https://wandb.ai/philinthesky/Master%20Thesis' target=\"_blank\">Weights & Biases</a> (<a href='https://wandb.me/developer-guide' target=\"_blank\">docs</a>)<br>"
            ]
          },
          "metadata": {}
        },
        {
          "output_type": "display_data",
          "data": {
            "text/plain": [
              "<IPython.core.display.HTML object>"
            ],
            "text/html": [
              " View project at <a href='https://wandb.ai/philinthesky/Master%20Thesis' target=\"_blank\">https://wandb.ai/philinthesky/Master%20Thesis</a>"
            ]
          },
          "metadata": {}
        },
        {
          "output_type": "display_data",
          "data": {
            "text/plain": [
              "<IPython.core.display.HTML object>"
            ],
            "text/html": [
              " View run at <a href='https://wandb.ai/philinthesky/Master%20Thesis/runs/5zundlkd' target=\"_blank\">https://wandb.ai/philinthesky/Master%20Thesis/runs/5zundlkd</a>"
            ]
          },
          "metadata": {}
        },
        {
          "output_type": "stream",
          "name": "stdout",
          "text": [
            "Epoch 1/100: "
          ]
        },
        {
          "output_type": "stream",
          "name": "stderr",
          "text": [
            "100%|██████████| 41/41 [00:02<00:00, 17.07it/s]\n",
            "Batch 41/41, Loss: 1.384258: 100%|██████████| 41/41 [00:00<00:00, 44.82it/s]\n"
          ]
        },
        {
          "output_type": "stream",
          "name": "stdout",
          "text": [
            "\n",
            "Class-wise Accuracy:\n",
            "  Class 1: 20.68%\n",
            "  Class 2: 24.07%\n",
            "  Class 0: 45.37%\n",
            "  Class 3: 13.27%\n",
            "Test Accuracy: 25.8%, Test Loss: 1.387350\n",
            "\n",
            "\n",
            "Class-wise Accuracy:\n",
            "  Class 1: 20.68%\n",
            "  Class 2: 24.07%\n",
            "  Class 0: 45.37%\n",
            "  Class 3: 13.27%\n",
            "Train Accuracy: 27.04%, Average Train Loss: 1.395997, Test Accuracy: 25.85%, Average Test Loss: 1.387350\n",
            "\n",
            "Epoch 2/100: "
          ]
        },
        {
          "output_type": "stream",
          "name": "stderr",
          "text": [
            "100%|██████████| 41/41 [00:01<00:00, 34.52it/s]\n",
            "Batch 41/41, Loss: 1.405571: 100%|██████████| 41/41 [00:01<00:00, 39.45it/s]\n"
          ]
        },
        {
          "output_type": "stream",
          "name": "stdout",
          "text": [
            "\n",
            "Class-wise Accuracy:\n",
            "  Class 1: 24.85%\n",
            "  Class 2: 26.39%\n",
            "  Class 0: 25.15%\n",
            "  Class 3: 27.01%\n",
            "Test Accuracy: 25.8%, Test Loss: 1.386106\n",
            "\n",
            "\n",
            "Class-wise Accuracy:\n",
            "  Class 1: 24.85%\n",
            "  Class 2: 26.39%\n",
            "  Class 0: 25.15%\n",
            "  Class 3: 27.01%\n",
            "Train Accuracy: 26.74%, Average Train Loss: 1.385942, Test Accuracy: 25.85%, Average Test Loss: 1.386106\n",
            "\n",
            "Epoch 3/100: "
          ]
        },
        {
          "output_type": "stream",
          "name": "stderr",
          "text": [
            "100%|██████████| 41/41 [00:01<00:00, 33.31it/s]\n",
            "Batch 41/41, Loss: 1.411986: 100%|██████████| 41/41 [00:01<00:00, 36.71it/s]\n"
          ]
        },
        {
          "output_type": "stream",
          "name": "stdout",
          "text": [
            "\n",
            "Class-wise Accuracy:\n",
            "  Class 1: 30.56%\n",
            "  Class 2: 22.22%\n",
            "  Class 0: 22.84%\n",
            "  Class 3: 33.49%\n",
            "Test Accuracy: 27.3%, Test Loss: 1.385399\n",
            "\n",
            "\n",
            "Class-wise Accuracy:\n",
            "  Class 1: 30.56%\n",
            "  Class 2: 22.22%\n",
            "  Class 0: 22.84%\n",
            "  Class 3: 33.49%\n",
            "Train Accuracy: 28.63%, Average Train Loss: 1.380430, Test Accuracy: 27.28%, Average Test Loss: 1.385399\n",
            "\n",
            "Epoch 4/100: "
          ]
        },
        {
          "output_type": "stream",
          "name": "stderr",
          "text": [
            "100%|██████████| 41/41 [00:01<00:00, 36.98it/s]\n",
            "Batch 41/41, Loss: 1.419773: 100%|██████████| 41/41 [00:00<00:00, 45.88it/s]\n"
          ]
        },
        {
          "output_type": "stream",
          "name": "stdout",
          "text": [
            "\n",
            "Class-wise Accuracy:\n",
            "  Class 1: 24.54%\n",
            "  Class 2: 28.40%\n",
            "  Class 0: 25.62%\n",
            "  Class 3: 33.64%\n",
            "Test Accuracy: 28.0%, Test Loss: 1.383405\n",
            "\n",
            "\n",
            "Class-wise Accuracy:\n",
            "  Class 1: 24.54%\n",
            "  Class 2: 28.40%\n",
            "  Class 0: 25.62%\n",
            "  Class 3: 33.64%\n",
            "Train Accuracy: 30.98%, Average Train Loss: 1.371796, Test Accuracy: 28.05%, Average Test Loss: 1.383405\n",
            "\n",
            "Epoch 5/100: "
          ]
        },
        {
          "output_type": "stream",
          "name": "stderr",
          "text": [
            "100%|██████████| 41/41 [00:01<00:00, 38.49it/s]\n",
            "Batch 41/41, Loss: 1.409285: 100%|██████████| 41/41 [00:00<00:00, 48.87it/s]\n"
          ]
        },
        {
          "output_type": "stream",
          "name": "stdout",
          "text": [
            "\n",
            "Class-wise Accuracy:\n",
            "  Class 1: 23.92%\n",
            "  Class 2: 28.55%\n",
            "  Class 0: 21.14%\n",
            "  Class 3: 40.43%\n",
            "Test Accuracy: 28.5%, Test Loss: 1.379931\n",
            "\n",
            "\n",
            "Class-wise Accuracy:\n",
            "  Class 1: 23.92%\n",
            "  Class 2: 28.55%\n",
            "  Class 0: 21.14%\n",
            "  Class 3: 40.43%\n",
            "Train Accuracy: 32.72%, Average Train Loss: 1.358838, Test Accuracy: 28.51%, Average Test Loss: 1.379931\n",
            "\n",
            "Epoch 6/100: "
          ]
        },
        {
          "output_type": "stream",
          "name": "stderr",
          "text": [
            "100%|██████████| 41/41 [00:01<00:00, 37.29it/s]\n",
            "Batch 41/41, Loss: 1.372190: 100%|██████████| 41/41 [00:00<00:00, 46.97it/s]\n"
          ]
        },
        {
          "output_type": "stream",
          "name": "stdout",
          "text": [
            "\n",
            "Class-wise Accuracy:\n",
            "  Class 1: 24.38%\n",
            "  Class 2: 30.40%\n",
            "  Class 0: 27.78%\n",
            "  Class 3: 39.04%\n",
            "Test Accuracy: 30.4%, Test Loss: 1.365768\n",
            "\n",
            "\n",
            "Class-wise Accuracy:\n",
            "  Class 1: 24.38%\n",
            "  Class 2: 30.40%\n",
            "  Class 0: 27.78%\n",
            "  Class 3: 39.04%\n",
            "Train Accuracy: 33.72%, Average Train Loss: 1.349114, Test Accuracy: 30.40%, Average Test Loss: 1.365768\n",
            "\n",
            "Epoch 7/100: "
          ]
        },
        {
          "output_type": "stream",
          "name": "stderr",
          "text": [
            "100%|██████████| 41/41 [00:01<00:00, 38.20it/s]\n",
            "Batch 41/41, Loss: 1.335103: 100%|██████████| 41/41 [00:00<00:00, 48.88it/s]\n"
          ]
        },
        {
          "output_type": "stream",
          "name": "stdout",
          "text": [
            "\n",
            "Class-wise Accuracy:\n",
            "  Class 1: 22.84%\n",
            "  Class 2: 27.47%\n",
            "  Class 0: 28.24%\n",
            "  Class 3: 49.54%\n",
            "Test Accuracy: 32.0%, Test Loss: 1.351217\n",
            "\n",
            "\n",
            "Class-wise Accuracy:\n",
            "  Class 1: 22.84%\n",
            "  Class 2: 27.47%\n",
            "  Class 0: 28.24%\n",
            "  Class 3: 49.54%\n",
            "Train Accuracy: 36.30%, Average Train Loss: 1.326711, Test Accuracy: 32.02%, Average Test Loss: 1.351217\n",
            "\n",
            "Epoch 8/100: "
          ]
        },
        {
          "output_type": "stream",
          "name": "stderr",
          "text": [
            "100%|██████████| 41/41 [00:01<00:00, 35.58it/s]\n",
            "Batch 41/41, Loss: 1.331058: 100%|██████████| 41/41 [00:01<00:00, 37.36it/s]\n"
          ]
        },
        {
          "output_type": "stream",
          "name": "stdout",
          "text": [
            "\n",
            "Class-wise Accuracy:\n",
            "  Class 1: 27.31%\n",
            "  Class 2: 28.09%\n",
            "  Class 0: 31.64%\n",
            "  Class 3: 45.22%\n",
            "Test Accuracy: 33.1%, Test Loss: 1.336986\n",
            "\n",
            "\n",
            "Class-wise Accuracy:\n",
            "  Class 1: 27.31%\n",
            "  Class 2: 28.09%\n",
            "  Class 0: 31.64%\n",
            "  Class 3: 45.22%\n",
            "Train Accuracy: 38.46%, Average Train Loss: 1.313385, Test Accuracy: 33.06%, Average Test Loss: 1.336986\n",
            "\n",
            "Epoch 9/100: "
          ]
        },
        {
          "output_type": "stream",
          "name": "stderr",
          "text": [
            "100%|██████████| 41/41 [00:01<00:00, 33.62it/s]\n",
            "Batch 41/41, Loss: 1.315118: 100%|██████████| 41/41 [00:01<00:00, 36.69it/s]\n"
          ]
        },
        {
          "output_type": "stream",
          "name": "stdout",
          "text": [
            "\n",
            "Class-wise Accuracy:\n",
            "  Class 1: 31.33%\n",
            "  Class 2: 26.08%\n",
            "  Class 0: 30.86%\n",
            "  Class 3: 52.78%\n",
            "Test Accuracy: 35.3%, Test Loss: 1.318283\n",
            "\n",
            "\n",
            "Class-wise Accuracy:\n",
            "  Class 1: 31.33%\n",
            "  Class 2: 26.08%\n",
            "  Class 0: 30.86%\n",
            "  Class 3: 52.78%\n",
            "Train Accuracy: 40.62%, Average Train Loss: 1.291697, Test Accuracy: 35.26%, Average Test Loss: 1.318283\n",
            "\n",
            "Epoch 10/100: "
          ]
        },
        {
          "output_type": "stream",
          "name": "stderr",
          "text": [
            "100%|██████████| 41/41 [00:01<00:00, 36.69it/s]\n",
            "Batch 41/41, Loss: 1.327695: 100%|██████████| 41/41 [00:00<00:00, 46.50it/s]\n"
          ]
        },
        {
          "output_type": "stream",
          "name": "stdout",
          "text": [
            "\n",
            "Class-wise Accuracy:\n",
            "  Class 1: 29.32%\n",
            "  Class 2: 37.50%\n",
            "  Class 0: 27.62%\n",
            "  Class 3: 47.84%\n",
            "Test Accuracy: 35.6%, Test Loss: 1.312770\n",
            "\n",
            "\n",
            "Class-wise Accuracy:\n",
            "  Class 1: 29.32%\n",
            "  Class 2: 37.50%\n",
            "  Class 0: 27.62%\n",
            "  Class 3: 47.84%\n",
            "Train Accuracy: 41.05%, Average Train Loss: 1.279131, Test Accuracy: 35.57%, Average Test Loss: 1.312770\n",
            "\n",
            "Epoch 11/100: "
          ]
        },
        {
          "output_type": "stream",
          "name": "stderr",
          "text": [
            "100%|██████████| 41/41 [00:01<00:00, 36.05it/s]\n",
            "Batch 41/41, Loss: 1.339186: 100%|██████████| 41/41 [00:00<00:00, 45.52it/s]\n"
          ]
        },
        {
          "output_type": "stream",
          "name": "stdout",
          "text": [
            "\n",
            "Class-wise Accuracy:\n",
            "  Class 1: 27.01%\n",
            "  Class 2: 36.27%\n",
            "  Class 0: 33.95%\n",
            "  Class 3: 49.85%\n",
            "Test Accuracy: 36.8%, Test Loss: 1.300239\n",
            "\n",
            "\n",
            "Class-wise Accuracy:\n",
            "  Class 1: 27.01%\n",
            "  Class 2: 36.27%\n",
            "  Class 0: 33.95%\n",
            "  Class 3: 49.85%\n",
            "Train Accuracy: 41.78%, Average Train Loss: 1.260039, Test Accuracy: 36.77%, Average Test Loss: 1.300239\n",
            "\n",
            "Epoch 12/100: "
          ]
        },
        {
          "output_type": "stream",
          "name": "stderr",
          "text": [
            "100%|██████████| 41/41 [00:01<00:00, 37.46it/s]\n",
            "Batch 41/41, Loss: 1.288535: 100%|██████████| 41/41 [00:00<00:00, 48.34it/s]\n"
          ]
        },
        {
          "output_type": "stream",
          "name": "stdout",
          "text": [
            "\n",
            "Class-wise Accuracy:\n",
            "  Class 1: 32.87%\n",
            "  Class 2: 37.96%\n",
            "  Class 0: 33.33%\n",
            "  Class 3: 47.53%\n",
            "Test Accuracy: 37.9%, Test Loss: 1.286569\n",
            "\n",
            "\n",
            "Class-wise Accuracy:\n",
            "  Class 1: 32.87%\n",
            "  Class 2: 37.96%\n",
            "  Class 0: 33.33%\n",
            "  Class 3: 47.53%\n",
            "Train Accuracy: 42.75%, Average Train Loss: 1.244065, Test Accuracy: 37.92%, Average Test Loss: 1.286569\n",
            "\n",
            "Epoch 13/100: "
          ]
        },
        {
          "output_type": "stream",
          "name": "stderr",
          "text": [
            "100%|██████████| 41/41 [00:01<00:00, 38.19it/s]\n",
            "Batch 41/41, Loss: 1.299311: 100%|██████████| 41/41 [00:00<00:00, 49.30it/s]\n"
          ]
        },
        {
          "output_type": "stream",
          "name": "stdout",
          "text": [
            "\n",
            "Class-wise Accuracy:\n",
            "  Class 1: 27.01%\n",
            "  Class 2: 43.98%\n",
            "  Class 0: 35.19%\n",
            "  Class 3: 53.70%\n",
            "Test Accuracy: 40.0%, Test Loss: 1.271163\n",
            "\n",
            "\n",
            "Class-wise Accuracy:\n",
            "  Class 1: 27.01%\n",
            "  Class 2: 43.98%\n",
            "  Class 0: 35.19%\n",
            "  Class 3: 53.70%\n",
            "Train Accuracy: 44.21%, Average Train Loss: 1.233893, Test Accuracy: 39.97%, Average Test Loss: 1.271163\n",
            "\n",
            "Epoch 14/100: "
          ]
        },
        {
          "output_type": "stream",
          "name": "stderr",
          "text": [
            "100%|██████████| 41/41 [00:01<00:00, 34.46it/s]\n",
            "Batch 41/41, Loss: 1.290320: 100%|██████████| 41/41 [00:01<00:00, 38.77it/s]\n"
          ]
        },
        {
          "output_type": "stream",
          "name": "stdout",
          "text": [
            "\n",
            "Class-wise Accuracy:\n",
            "  Class 1: 28.24%\n",
            "  Class 2: 44.60%\n",
            "  Class 0: 35.80%\n",
            "  Class 3: 50.77%\n",
            "Test Accuracy: 39.9%, Test Loss: 1.257388\n",
            "\n",
            "\n",
            "Class-wise Accuracy:\n",
            "  Class 1: 28.24%\n",
            "  Class 2: 44.60%\n",
            "  Class 0: 35.80%\n",
            "  Class 3: 50.77%\n",
            "Train Accuracy: 44.52%, Average Train Loss: 1.212651, Test Accuracy: 39.85%, Average Test Loss: 1.257388\n",
            "\n",
            "Epoch 15/100: "
          ]
        },
        {
          "output_type": "stream",
          "name": "stderr",
          "text": [
            "100%|██████████| 41/41 [00:01<00:00, 33.15it/s]\n",
            "Batch 41/41, Loss: 1.260916: 100%|██████████| 41/41 [00:01<00:00, 35.67it/s]\n"
          ]
        },
        {
          "output_type": "stream",
          "name": "stdout",
          "text": [
            "\n",
            "Class-wise Accuracy:\n",
            "  Class 1: 29.94%\n",
            "  Class 2: 45.99%\n",
            "  Class 0: 36.88%\n",
            "  Class 3: 53.70%\n",
            "Test Accuracy: 41.6%, Test Loss: 1.245431\n",
            "\n",
            "\n",
            "Class-wise Accuracy:\n",
            "  Class 1: 29.94%\n",
            "  Class 2: 45.99%\n",
            "  Class 0: 36.88%\n",
            "  Class 3: 53.70%\n",
            "Train Accuracy: 46.53%, Average Train Loss: 1.199686, Test Accuracy: 41.63%, Average Test Loss: 1.245431\n",
            "\n",
            "Epoch 16/100: "
          ]
        },
        {
          "output_type": "stream",
          "name": "stderr",
          "text": [
            "100%|██████████| 41/41 [00:01<00:00, 36.77it/s]\n",
            "Batch 41/41, Loss: 1.185475: 100%|██████████| 41/41 [00:00<00:00, 45.50it/s]\n"
          ]
        },
        {
          "output_type": "stream",
          "name": "stdout",
          "text": [
            "\n",
            "Class-wise Accuracy:\n",
            "  Class 1: 37.19%\n",
            "  Class 2: 44.29%\n",
            "  Class 0: 33.02%\n",
            "  Class 3: 52.31%\n",
            "Test Accuracy: 41.7%, Test Loss: 1.233425\n",
            "\n",
            "\n",
            "Class-wise Accuracy:\n",
            "  Class 1: 37.19%\n",
            "  Class 2: 44.29%\n",
            "  Class 0: 33.02%\n",
            "  Class 3: 52.31%\n",
            "Train Accuracy: 46.30%, Average Train Loss: 1.201093, Test Accuracy: 41.71%, Average Test Loss: 1.233425\n",
            "\n",
            "Epoch 17/100: "
          ]
        },
        {
          "output_type": "stream",
          "name": "stderr",
          "text": [
            "100%|██████████| 41/41 [00:01<00:00, 36.36it/s]\n",
            "Batch 41/41, Loss: 1.211261: 100%|██████████| 41/41 [00:00<00:00, 46.25it/s]\n"
          ]
        },
        {
          "output_type": "stream",
          "name": "stdout",
          "text": [
            "\n",
            "Class-wise Accuracy:\n",
            "  Class 1: 35.96%\n",
            "  Class 2: 49.38%\n",
            "  Class 0: 34.72%\n",
            "  Class 3: 48.61%\n",
            "Test Accuracy: 42.2%, Test Loss: 1.224496\n",
            "\n",
            "\n",
            "Class-wise Accuracy:\n",
            "  Class 1: 35.96%\n",
            "  Class 2: 49.38%\n",
            "  Class 0: 34.72%\n",
            "  Class 3: 48.61%\n",
            "Train Accuracy: 46.84%, Average Train Loss: 1.190939, Test Accuracy: 42.17%, Average Test Loss: 1.224496\n",
            "\n",
            "Epoch 18/100: "
          ]
        },
        {
          "output_type": "stream",
          "name": "stderr",
          "text": [
            "100%|██████████| 41/41 [00:01<00:00, 36.72it/s]\n",
            "Batch 41/41, Loss: 1.185754: 100%|██████████| 41/41 [00:00<00:00, 44.43it/s]\n"
          ]
        },
        {
          "output_type": "stream",
          "name": "stdout",
          "text": [
            "\n",
            "Class-wise Accuracy:\n",
            "  Class 1: 39.04%\n",
            "  Class 2: 48.46%\n",
            "  Class 0: 38.89%\n",
            "  Class 3: 51.23%\n",
            "Test Accuracy: 44.4%, Test Loss: 1.209435\n",
            "\n",
            "\n",
            "Class-wise Accuracy:\n",
            "  Class 1: 39.04%\n",
            "  Class 2: 48.46%\n",
            "  Class 0: 38.89%\n",
            "  Class 3: 51.23%\n",
            "Train Accuracy: 47.57%, Average Train Loss: 1.169895, Test Accuracy: 44.41%, Average Test Loss: 1.209435\n",
            "\n",
            "Epoch 19/100: "
          ]
        },
        {
          "output_type": "stream",
          "name": "stderr",
          "text": [
            "100%|██████████| 41/41 [00:01<00:00, 36.63it/s]\n",
            "Batch 41/41, Loss: 1.182660: 100%|██████████| 41/41 [00:00<00:00, 45.64it/s]\n"
          ]
        },
        {
          "output_type": "stream",
          "name": "stdout",
          "text": [
            "\n",
            "Class-wise Accuracy:\n",
            "  Class 1: 41.67%\n",
            "  Class 2: 48.92%\n",
            "  Class 0: 36.88%\n",
            "  Class 3: 54.17%\n",
            "Test Accuracy: 45.4%, Test Loss: 1.187348\n",
            "\n",
            "\n",
            "Class-wise Accuracy:\n",
            "  Class 1: 41.67%\n",
            "  Class 2: 48.92%\n",
            "  Class 0: 36.88%\n",
            "  Class 3: 54.17%\n",
            "Train Accuracy: 48.77%, Average Train Loss: 1.157032, Test Accuracy: 45.41%, Average Test Loss: 1.187348\n",
            "\n",
            "Epoch 20/100: "
          ]
        },
        {
          "output_type": "stream",
          "name": "stderr",
          "text": [
            "100%|██████████| 41/41 [00:01<00:00, 33.01it/s]\n",
            "Batch 41/41, Loss: 1.234018: 100%|██████████| 41/41 [00:01<00:00, 38.14it/s]\n"
          ]
        },
        {
          "output_type": "stream",
          "name": "stdout",
          "text": [
            "\n",
            "Class-wise Accuracy:\n",
            "  Class 1: 35.65%\n",
            "  Class 2: 48.15%\n",
            "  Class 0: 37.81%\n",
            "  Class 3: 58.33%\n",
            "Test Accuracy: 45.0%, Test Loss: 1.185631\n",
            "\n",
            "\n",
            "Class-wise Accuracy:\n",
            "  Class 1: 35.65%\n",
            "  Class 2: 48.15%\n",
            "  Class 0: 37.81%\n",
            "  Class 3: 58.33%\n",
            "Train Accuracy: 49.54%, Average Train Loss: 1.135816, Test Accuracy: 44.98%, Average Test Loss: 1.185631\n",
            "\n",
            "Epoch 21/100: "
          ]
        },
        {
          "output_type": "stream",
          "name": "stderr",
          "text": [
            "100%|██████████| 41/41 [00:01<00:00, 32.08it/s]\n",
            "Batch 41/41, Loss: 1.185503: 100%|██████████| 41/41 [00:00<00:00, 44.04it/s]\n"
          ]
        },
        {
          "output_type": "stream",
          "name": "stdout",
          "text": [
            "\n",
            "Class-wise Accuracy:\n",
            "  Class 1: 43.36%\n",
            "  Class 2: 47.22%\n",
            "  Class 0: 39.51%\n",
            "  Class 3: 56.64%\n",
            "Test Accuracy: 46.7%, Test Loss: 1.167553\n",
            "\n",
            "\n",
            "Class-wise Accuracy:\n",
            "  Class 1: 43.36%\n",
            "  Class 2: 47.22%\n",
            "  Class 0: 39.51%\n",
            "  Class 3: 56.64%\n",
            "Train Accuracy: 50.15%, Average Train Loss: 1.131367, Test Accuracy: 46.68%, Average Test Loss: 1.167553\n",
            "\n",
            "Epoch 22/100: "
          ]
        },
        {
          "output_type": "stream",
          "name": "stderr",
          "text": [
            "100%|██████████| 41/41 [00:01<00:00, 36.37it/s]\n",
            "Batch 41/41, Loss: 1.148165: 100%|██████████| 41/41 [00:01<00:00, 34.02it/s]\n"
          ]
        },
        {
          "output_type": "stream",
          "name": "stdout",
          "text": [
            "\n",
            "Class-wise Accuracy:\n",
            "  Class 1: 37.81%\n",
            "  Class 2: 44.29%\n",
            "  Class 0: 42.59%\n",
            "  Class 3: 57.87%\n",
            "Test Accuracy: 45.6%, Test Loss: 1.177243\n",
            "\n",
            "\n",
            "Class-wise Accuracy:\n",
            "  Class 1: 37.81%\n",
            "  Class 2: 44.29%\n",
            "  Class 0: 42.59%\n",
            "  Class 3: 57.87%\n",
            "Train Accuracy: 50.31%, Average Train Loss: 1.138865, Test Accuracy: 45.64%, Average Test Loss: 1.177243\n",
            "\n",
            "Epoch 23/100: "
          ]
        },
        {
          "output_type": "stream",
          "name": "stderr",
          "text": [
            "100%|██████████| 41/41 [00:01<00:00, 26.34it/s]\n",
            "Batch 41/41, Loss: 1.181883: 100%|██████████| 41/41 [00:00<00:00, 46.27it/s]\n"
          ]
        },
        {
          "output_type": "stream",
          "name": "stdout",
          "text": [
            "\n",
            "Class-wise Accuracy:\n",
            "  Class 1: 47.38%\n",
            "  Class 2: 49.38%\n",
            "  Class 0: 39.66%\n",
            "  Class 3: 54.48%\n",
            "Test Accuracy: 47.7%, Test Loss: 1.155143\n",
            "\n",
            "\n",
            "Class-wise Accuracy:\n",
            "  Class 1: 47.38%\n",
            "  Class 2: 49.38%\n",
            "  Class 0: 39.66%\n",
            "  Class 3: 54.48%\n",
            "Train Accuracy: 50.77%, Average Train Loss: 1.128354, Test Accuracy: 47.72%, Average Test Loss: 1.155143\n",
            "\n",
            "Epoch 24/100: "
          ]
        },
        {
          "output_type": "stream",
          "name": "stderr",
          "text": [
            "100%|██████████| 41/41 [00:01<00:00, 35.60it/s]\n",
            "Batch 41/41, Loss: 1.142190: 100%|██████████| 41/41 [00:00<00:00, 46.20it/s]\n"
          ]
        },
        {
          "output_type": "stream",
          "name": "stdout",
          "text": [
            "\n",
            "Class-wise Accuracy:\n",
            "  Class 1: 46.60%\n",
            "  Class 2: 51.39%\n",
            "  Class 0: 33.80%\n",
            "  Class 3: 56.33%\n",
            "Test Accuracy: 47.0%, Test Loss: 1.157672\n",
            "\n",
            "\n",
            "Class-wise Accuracy:\n",
            "  Class 1: 46.60%\n",
            "  Class 2: 51.39%\n",
            "  Class 0: 33.80%\n",
            "  Class 3: 56.33%\n",
            "Train Accuracy: 50.46%, Average Train Loss: 1.115651, Test Accuracy: 47.03%, Average Test Loss: 1.157672\n",
            "\n",
            "Epoch 25/100: "
          ]
        },
        {
          "output_type": "stream",
          "name": "stderr",
          "text": [
            "100%|██████████| 41/41 [00:01<00:00, 37.13it/s]\n",
            "Batch 41/41, Loss: 1.163062: 100%|██████████| 41/41 [00:00<00:00, 41.17it/s]\n"
          ]
        },
        {
          "output_type": "stream",
          "name": "stdout",
          "text": [
            "\n",
            "Class-wise Accuracy:\n",
            "  Class 1: 46.30%\n",
            "  Class 2: 52.47%\n",
            "  Class 0: 42.28%\n",
            "  Class 3: 50.77%\n",
            "Test Accuracy: 48.0%, Test Loss: 1.147011\n",
            "\n",
            "\n",
            "Class-wise Accuracy:\n",
            "  Class 1: 46.30%\n",
            "  Class 2: 52.47%\n",
            "  Class 0: 42.28%\n",
            "  Class 3: 50.77%\n",
            "Train Accuracy: 52.47%, Average Train Loss: 1.103022, Test Accuracy: 47.96%, Average Test Loss: 1.147011\n",
            "\n",
            "Epoch 26/100: "
          ]
        },
        {
          "output_type": "stream",
          "name": "stderr",
          "text": [
            "100%|██████████| 41/41 [00:01<00:00, 33.03it/s]\n",
            "Batch 41/41, Loss: 1.099770: 100%|██████████| 41/41 [00:01<00:00, 39.33it/s]\n"
          ]
        },
        {
          "output_type": "stream",
          "name": "stdout",
          "text": [
            "\n",
            "Class-wise Accuracy:\n",
            "  Class 1: 46.45%\n",
            "  Class 2: 47.38%\n",
            "  Class 0: 43.06%\n",
            "  Class 3: 58.33%\n",
            "Test Accuracy: 48.8%, Test Loss: 1.135481\n",
            "\n",
            "\n",
            "Class-wise Accuracy:\n",
            "  Class 1: 46.45%\n",
            "  Class 2: 47.38%\n",
            "  Class 0: 43.06%\n",
            "  Class 3: 58.33%\n",
            "Train Accuracy: 52.89%, Average Train Loss: 1.097666, Test Accuracy: 48.80%, Average Test Loss: 1.135481\n",
            "\n",
            "Epoch 27/100: "
          ]
        },
        {
          "output_type": "stream",
          "name": "stderr",
          "text": [
            "100%|██████████| 41/41 [00:01<00:00, 34.79it/s]\n",
            "Batch 41/41, Loss: 1.147650: 100%|██████████| 41/41 [00:00<00:00, 43.91it/s]\n"
          ]
        },
        {
          "output_type": "stream",
          "name": "stdout",
          "text": [
            "\n",
            "Class-wise Accuracy:\n",
            "  Class 1: 50.46%\n",
            "  Class 2: 50.62%\n",
            "  Class 0: 36.42%\n",
            "  Class 3: 60.03%\n",
            "Test Accuracy: 49.4%, Test Loss: 1.136337\n",
            "\n",
            "\n",
            "Class-wise Accuracy:\n",
            "  Class 1: 50.46%\n",
            "  Class 2: 50.62%\n",
            "  Class 0: 36.42%\n",
            "  Class 3: 60.03%\n",
            "Train Accuracy: 53.12%, Average Train Loss: 1.071806, Test Accuracy: 49.38%, Average Test Loss: 1.136337\n",
            "\n",
            "Epoch 28/100: "
          ]
        },
        {
          "output_type": "stream",
          "name": "stderr",
          "text": [
            "100%|██████████| 41/41 [00:01<00:00, 38.58it/s]\n",
            "Batch 41/41, Loss: 1.102525: 100%|██████████| 41/41 [00:00<00:00, 47.90it/s]\n"
          ]
        },
        {
          "output_type": "stream",
          "name": "stdout",
          "text": [
            "\n",
            "Class-wise Accuracy:\n",
            "  Class 1: 48.92%\n",
            "  Class 2: 54.63%\n",
            "  Class 0: 39.20%\n",
            "  Class 3: 55.09%\n",
            "Test Accuracy: 49.5%, Test Loss: 1.117851\n",
            "\n",
            "\n",
            "Class-wise Accuracy:\n",
            "  Class 1: 48.92%\n",
            "  Class 2: 54.63%\n",
            "  Class 0: 39.20%\n",
            "  Class 3: 55.09%\n",
            "Train Accuracy: 53.59%, Average Train Loss: 1.085729, Test Accuracy: 49.46%, Average Test Loss: 1.117851\n",
            "\n",
            "Epoch 29/100: "
          ]
        },
        {
          "output_type": "stream",
          "name": "stderr",
          "text": [
            "100%|██████████| 41/41 [00:01<00:00, 37.15it/s]\n",
            "Batch 41/41, Loss: 1.083905: 100%|██████████| 41/41 [00:00<00:00, 45.77it/s]\n"
          ]
        },
        {
          "output_type": "stream",
          "name": "stdout",
          "text": [
            "\n",
            "Class-wise Accuracy:\n",
            "  Class 1: 50.77%\n",
            "  Class 2: 53.86%\n",
            "  Class 0: 40.43%\n",
            "  Class 3: 57.25%\n",
            "Test Accuracy: 50.6%, Test Loss: 1.109981\n",
            "\n",
            "\n",
            "Class-wise Accuracy:\n",
            "  Class 1: 50.77%\n",
            "  Class 2: 53.86%\n",
            "  Class 0: 40.43%\n",
            "  Class 3: 57.25%\n",
            "Train Accuracy: 54.36%, Average Train Loss: 1.061623, Test Accuracy: 50.58%, Average Test Loss: 1.109981\n",
            "\n",
            "Epoch 30/100: "
          ]
        },
        {
          "output_type": "stream",
          "name": "stderr",
          "text": [
            "100%|██████████| 41/41 [00:01<00:00, 37.39it/s]\n",
            "Batch 41/41, Loss: 1.098316: 100%|██████████| 41/41 [00:00<00:00, 49.60it/s]\n"
          ]
        },
        {
          "output_type": "stream",
          "name": "stdout",
          "text": [
            "\n",
            "Class-wise Accuracy:\n",
            "  Class 1: 51.39%\n",
            "  Class 2: 53.55%\n",
            "  Class 0: 42.44%\n",
            "  Class 3: 55.86%\n",
            "Test Accuracy: 50.8%, Test Loss: 1.104667\n",
            "\n",
            "\n",
            "Class-wise Accuracy:\n",
            "  Class 1: 51.39%\n",
            "  Class 2: 53.55%\n",
            "  Class 0: 42.44%\n",
            "  Class 3: 55.86%\n",
            "Train Accuracy: 55.52%, Average Train Loss: 1.060748, Test Accuracy: 50.81%, Average Test Loss: 1.104667\n",
            "\n",
            "Epoch 31/100: "
          ]
        },
        {
          "output_type": "stream",
          "name": "stderr",
          "text": [
            "100%|██████████| 41/41 [00:01<00:00, 37.38it/s]\n",
            "Batch 41/41, Loss: 1.093543: 100%|██████████| 41/41 [00:00<00:00, 42.41it/s]\n"
          ]
        },
        {
          "output_type": "stream",
          "name": "stdout",
          "text": [
            "\n",
            "Class-wise Accuracy:\n",
            "  Class 1: 46.76%\n",
            "  Class 2: 53.09%\n",
            "  Class 0: 48.30%\n",
            "  Class 3: 56.48%\n",
            "Test Accuracy: 51.2%, Test Loss: 1.096487\n",
            "\n",
            "\n",
            "Class-wise Accuracy:\n",
            "  Class 1: 46.76%\n",
            "  Class 2: 53.09%\n",
            "  Class 0: 48.30%\n",
            "  Class 3: 56.48%\n",
            "Train Accuracy: 54.59%, Average Train Loss: 1.064126, Test Accuracy: 51.16%, Average Test Loss: 1.096487\n",
            "\n",
            "Epoch 32/100: "
          ]
        },
        {
          "output_type": "stream",
          "name": "stderr",
          "text": [
            "100%|██████████| 41/41 [00:01<00:00, 32.05it/s]\n",
            "Batch 41/41, Loss: 1.088572: 100%|██████████| 41/41 [00:01<00:00, 38.53it/s]\n"
          ]
        },
        {
          "output_type": "stream",
          "name": "stdout",
          "text": [
            "\n",
            "Class-wise Accuracy:\n",
            "  Class 1: 50.00%\n",
            "  Class 2: 53.24%\n",
            "  Class 0: 43.21%\n",
            "  Class 3: 58.02%\n",
            "Test Accuracy: 51.1%, Test Loss: 1.099259\n",
            "\n",
            "\n",
            "Class-wise Accuracy:\n",
            "  Class 1: 50.00%\n",
            "  Class 2: 53.24%\n",
            "  Class 0: 43.21%\n",
            "  Class 3: 58.02%\n",
            "Train Accuracy: 55.21%, Average Train Loss: 1.048735, Test Accuracy: 51.12%, Average Test Loss: 1.099259\n",
            "\n",
            "Epoch 33/100: "
          ]
        },
        {
          "output_type": "stream",
          "name": "stderr",
          "text": [
            "100%|██████████| 41/41 [00:01<00:00, 35.23it/s]\n",
            "Batch 41/41, Loss: 1.044884: 100%|██████████| 41/41 [00:00<00:00, 44.95it/s]\n"
          ]
        },
        {
          "output_type": "stream",
          "name": "stdout",
          "text": [
            "\n",
            "Class-wise Accuracy:\n",
            "  Class 1: 50.31%\n",
            "  Class 2: 49.85%\n",
            "  Class 0: 47.22%\n",
            "  Class 3: 58.33%\n",
            "Test Accuracy: 51.4%, Test Loss: 1.092073\n",
            "\n",
            "\n",
            "Class-wise Accuracy:\n",
            "  Class 1: 50.31%\n",
            "  Class 2: 49.85%\n",
            "  Class 0: 47.22%\n",
            "  Class 3: 58.33%\n",
            "Train Accuracy: 56.40%, Average Train Loss: 1.042504, Test Accuracy: 51.43%, Average Test Loss: 1.092073\n",
            "\n",
            "Epoch 34/100: "
          ]
        },
        {
          "output_type": "stream",
          "name": "stderr",
          "text": [
            "100%|██████████| 41/41 [00:01<00:00, 36.56it/s]\n",
            "Batch 41/41, Loss: 1.069222: 100%|██████████| 41/41 [00:00<00:00, 45.65it/s]\n"
          ]
        },
        {
          "output_type": "stream",
          "name": "stdout",
          "text": [
            "\n",
            "Class-wise Accuracy:\n",
            "  Class 1: 45.52%\n",
            "  Class 2: 54.63%\n",
            "  Class 0: 51.08%\n",
            "  Class 3: 57.10%\n",
            "Test Accuracy: 52.1%, Test Loss: 1.083923\n",
            "\n",
            "\n",
            "Class-wise Accuracy:\n",
            "  Class 1: 45.52%\n",
            "  Class 2: 54.63%\n",
            "  Class 0: 51.08%\n",
            "  Class 3: 57.10%\n",
            "Train Accuracy: 55.44%, Average Train Loss: 1.038744, Test Accuracy: 52.08%, Average Test Loss: 1.083923\n",
            "\n",
            "Epoch 35/100: "
          ]
        },
        {
          "output_type": "stream",
          "name": "stderr",
          "text": [
            "100%|██████████| 41/41 [00:01<00:00, 36.26it/s]\n",
            "Batch 41/41, Loss: 1.138563: 100%|██████████| 41/41 [00:00<00:00, 44.78it/s]\n"
          ]
        },
        {
          "output_type": "stream",
          "name": "stdout",
          "text": [
            "\n",
            "Class-wise Accuracy:\n",
            "  Class 1: 45.52%\n",
            "  Class 2: 55.56%\n",
            "  Class 0: 47.22%\n",
            "  Class 3: 60.19%\n",
            "Test Accuracy: 52.1%, Test Loss: 1.099959\n",
            "\n",
            "\n",
            "Class-wise Accuracy:\n",
            "  Class 1: 45.52%\n",
            "  Class 2: 55.56%\n",
            "  Class 0: 47.22%\n",
            "  Class 3: 60.19%\n",
            "Train Accuracy: 56.71%, Average Train Loss: 1.037281, Test Accuracy: 52.12%, Average Test Loss: 1.099959\n",
            "\n",
            "Epoch 36/100: "
          ]
        },
        {
          "output_type": "stream",
          "name": "stderr",
          "text": [
            "100%|██████████| 41/41 [00:01<00:00, 38.23it/s]\n",
            "Batch 41/41, Loss: 1.111296: 100%|██████████| 41/41 [00:00<00:00, 48.33it/s]\n"
          ]
        },
        {
          "output_type": "stream",
          "name": "stdout",
          "text": [
            "\n",
            "Class-wise Accuracy:\n",
            "  Class 1: 52.62%\n",
            "  Class 2: 55.56%\n",
            "  Class 0: 46.14%\n",
            "  Class 3: 55.86%\n",
            "Test Accuracy: 52.5%, Test Loss: 1.077245\n",
            "\n",
            "\n",
            "Class-wise Accuracy:\n",
            "  Class 1: 52.62%\n",
            "  Class 2: 55.56%\n",
            "  Class 0: 46.14%\n",
            "  Class 3: 55.86%\n",
            "Train Accuracy: 56.87%, Average Train Loss: 1.038582, Test Accuracy: 52.55%, Average Test Loss: 1.077245\n",
            "\n",
            "Epoch 37/100: "
          ]
        },
        {
          "output_type": "stream",
          "name": "stderr",
          "text": [
            "100%|██████████| 41/41 [00:01<00:00, 34.33it/s]\n",
            "Batch 41/41, Loss: 1.128356: 100%|██████████| 41/41 [00:01<00:00, 38.23it/s]\n"
          ]
        },
        {
          "output_type": "stream",
          "name": "stdout",
          "text": [
            "\n",
            "Class-wise Accuracy:\n",
            "  Class 1: 45.22%\n",
            "  Class 2: 54.78%\n",
            "  Class 0: 49.85%\n",
            "  Class 3: 58.80%\n",
            "Test Accuracy: 52.2%, Test Loss: 1.080774\n",
            "\n",
            "\n",
            "Class-wise Accuracy:\n",
            "  Class 1: 45.22%\n",
            "  Class 2: 54.78%\n",
            "  Class 0: 49.85%\n",
            "  Class 3: 58.80%\n",
            "Train Accuracy: 56.60%, Average Train Loss: 1.021126, Test Accuracy: 52.16%, Average Test Loss: 1.080774\n",
            "\n",
            "Epoch 38/100: "
          ]
        },
        {
          "output_type": "stream",
          "name": "stderr",
          "text": [
            "100%|██████████| 41/41 [00:01<00:00, 34.29it/s]\n",
            "Batch 41/41, Loss: 1.082402: 100%|██████████| 41/41 [00:01<00:00, 37.27it/s]\n"
          ]
        },
        {
          "output_type": "stream",
          "name": "stdout",
          "text": [
            "\n",
            "Class-wise Accuracy:\n",
            "  Class 1: 47.99%\n",
            "  Class 2: 59.41%\n",
            "  Class 0: 48.46%\n",
            "  Class 3: 55.40%\n",
            "Test Accuracy: 52.8%, Test Loss: 1.076679\n",
            "\n",
            "\n",
            "Class-wise Accuracy:\n",
            "  Class 1: 47.99%\n",
            "  Class 2: 59.41%\n",
            "  Class 0: 48.46%\n",
            "  Class 3: 55.40%\n",
            "Train Accuracy: 56.83%, Average Train Loss: 1.034927, Test Accuracy: 52.82%, Average Test Loss: 1.076679\n",
            "\n",
            "Epoch 39/100: "
          ]
        },
        {
          "output_type": "stream",
          "name": "stderr",
          "text": [
            "100%|██████████| 41/41 [00:01<00:00, 36.86it/s]\n",
            "Batch 41/41, Loss: 1.086106: 100%|██████████| 41/41 [00:00<00:00, 45.18it/s]\n"
          ]
        },
        {
          "output_type": "stream",
          "name": "stdout",
          "text": [
            "\n",
            "Class-wise Accuracy:\n",
            "  Class 1: 49.23%\n",
            "  Class 2: 59.26%\n",
            "  Class 0: 49.07%\n",
            "  Class 3: 56.79%\n",
            "Test Accuracy: 53.6%, Test Loss: 1.069989\n",
            "\n",
            "\n",
            "Class-wise Accuracy:\n",
            "  Class 1: 49.23%\n",
            "  Class 2: 59.26%\n",
            "  Class 0: 49.07%\n",
            "  Class 3: 56.79%\n",
            "Train Accuracy: 57.52%, Average Train Loss: 1.005026, Test Accuracy: 53.59%, Average Test Loss: 1.069989\n",
            "\n",
            "Epoch 40/100: "
          ]
        },
        {
          "output_type": "stream",
          "name": "stderr",
          "text": [
            "100%|██████████| 41/41 [00:01<00:00, 37.06it/s]\n",
            "Batch 41/41, Loss: 1.075720: 100%|██████████| 41/41 [00:00<00:00, 45.66it/s]\n"
          ]
        },
        {
          "output_type": "stream",
          "name": "stdout",
          "text": [
            "\n",
            "Class-wise Accuracy:\n",
            "  Class 1: 51.08%\n",
            "  Class 2: 56.02%\n",
            "  Class 0: 47.84%\n",
            "  Class 3: 59.10%\n",
            "Test Accuracy: 53.5%, Test Loss: 1.065603\n",
            "\n",
            "\n",
            "Class-wise Accuracy:\n",
            "  Class 1: 51.08%\n",
            "  Class 2: 56.02%\n",
            "  Class 0: 47.84%\n",
            "  Class 3: 59.10%\n",
            "Train Accuracy: 58.10%, Average Train Loss: 1.016089, Test Accuracy: 53.51%, Average Test Loss: 1.065603\n",
            "\n",
            "Epoch 41/100: "
          ]
        },
        {
          "output_type": "stream",
          "name": "stderr",
          "text": [
            "100%|██████████| 41/41 [00:01<00:00, 38.07it/s]\n",
            "Batch 41/41, Loss: 1.026468: 100%|██████████| 41/41 [00:00<00:00, 44.70it/s]\n"
          ]
        },
        {
          "output_type": "stream",
          "name": "stdout",
          "text": [
            "\n",
            "Class-wise Accuracy:\n",
            "  Class 1: 56.33%\n",
            "  Class 2: 54.01%\n",
            "  Class 0: 45.52%\n",
            "  Class 3: 56.02%\n",
            "Test Accuracy: 53.0%, Test Loss: 1.067801\n",
            "\n",
            "\n",
            "Class-wise Accuracy:\n",
            "  Class 1: 56.33%\n",
            "  Class 2: 54.01%\n",
            "  Class 0: 45.52%\n",
            "  Class 3: 56.02%\n",
            "Train Accuracy: 57.83%, Average Train Loss: 1.015880, Test Accuracy: 52.97%, Average Test Loss: 1.067801\n",
            "\n",
            "Epoch 42/100: "
          ]
        },
        {
          "output_type": "stream",
          "name": "stderr",
          "text": [
            "100%|██████████| 41/41 [00:01<00:00, 36.17it/s]\n",
            "Batch 41/41, Loss: 1.083823: 100%|██████████| 41/41 [00:00<00:00, 46.57it/s]\n"
          ]
        },
        {
          "output_type": "stream",
          "name": "stdout",
          "text": [
            "\n",
            "Class-wise Accuracy:\n",
            "  Class 1: 49.85%\n",
            "  Class 2: 62.65%\n",
            "  Class 0: 47.99%\n",
            "  Class 3: 56.17%\n",
            "Test Accuracy: 54.2%, Test Loss: 1.056899\n",
            "\n",
            "\n",
            "Class-wise Accuracy:\n",
            "  Class 1: 49.85%\n",
            "  Class 2: 62.65%\n",
            "  Class 0: 47.99%\n",
            "  Class 3: 56.17%\n",
            "Train Accuracy: 58.45%, Average Train Loss: 0.996569, Test Accuracy: 54.17%, Average Test Loss: 1.056899\n",
            "\n",
            "Epoch 43/100: "
          ]
        },
        {
          "output_type": "stream",
          "name": "stderr",
          "text": [
            "100%|██████████| 41/41 [00:01<00:00, 35.58it/s]\n",
            "Batch 41/41, Loss: 1.034145: 100%|██████████| 41/41 [00:01<00:00, 39.88it/s]\n"
          ]
        },
        {
          "output_type": "stream",
          "name": "stdout",
          "text": [
            "\n",
            "Class-wise Accuracy:\n",
            "  Class 1: 57.25%\n",
            "  Class 2: 56.64%\n",
            "  Class 0: 44.14%\n",
            "  Class 3: 55.56%\n",
            "Test Accuracy: 53.4%, Test Loss: 1.059907\n",
            "\n",
            "\n",
            "Class-wise Accuracy:\n",
            "  Class 1: 57.25%\n",
            "  Class 2: 56.64%\n",
            "  Class 0: 44.14%\n",
            "  Class 3: 55.56%\n",
            "Train Accuracy: 58.99%, Average Train Loss: 1.005143, Test Accuracy: 53.40%, Average Test Loss: 1.059907\n",
            "\n",
            "Epoch 44/100: "
          ]
        },
        {
          "output_type": "stream",
          "name": "stderr",
          "text": [
            "100%|██████████| 41/41 [00:01<00:00, 33.64it/s]\n",
            "Batch 41/41, Loss: 1.060375: 100%|██████████| 41/41 [00:01<00:00, 37.55it/s]\n"
          ]
        },
        {
          "output_type": "stream",
          "name": "stdout",
          "text": [
            "\n",
            "Class-wise Accuracy:\n",
            "  Class 1: 51.54%\n",
            "  Class 2: 60.80%\n",
            "  Class 0: 44.29%\n",
            "  Class 3: 57.25%\n",
            "Test Accuracy: 53.5%, Test Loss: 1.059213\n",
            "\n",
            "\n",
            "Class-wise Accuracy:\n",
            "  Class 1: 51.54%\n",
            "  Class 2: 60.80%\n",
            "  Class 0: 44.29%\n",
            "  Class 3: 57.25%\n",
            "Train Accuracy: 59.76%, Average Train Loss: 0.998347, Test Accuracy: 53.47%, Average Test Loss: 1.059213\n",
            "\n",
            "Epoch 45/100: "
          ]
        },
        {
          "output_type": "stream",
          "name": "stderr",
          "text": [
            "100%|██████████| 41/41 [00:01<00:00, 37.71it/s]\n",
            "Batch 41/41, Loss: 1.031244: 100%|██████████| 41/41 [00:00<00:00, 47.78it/s]\n"
          ]
        },
        {
          "output_type": "stream",
          "name": "stdout",
          "text": [
            "\n",
            "Class-wise Accuracy:\n",
            "  Class 1: 52.62%\n",
            "  Class 2: 63.58%\n",
            "  Class 0: 45.06%\n",
            "  Class 3: 57.72%\n",
            "Test Accuracy: 54.7%, Test Loss: 1.053845\n",
            "\n",
            "\n",
            "Class-wise Accuracy:\n",
            "  Class 1: 52.62%\n",
            "  Class 2: 63.58%\n",
            "  Class 0: 45.06%\n",
            "  Class 3: 57.72%\n",
            "Train Accuracy: 58.99%, Average Train Loss: 0.989669, Test Accuracy: 54.75%, Average Test Loss: 1.053845\n",
            "\n",
            "Epoch 46/100: "
          ]
        },
        {
          "output_type": "stream",
          "name": "stderr",
          "text": [
            "100%|██████████| 41/41 [00:01<00:00, 37.47it/s]\n",
            "Batch 41/41, Loss: 0.970601: 100%|██████████| 41/41 [00:00<00:00, 46.34it/s]\n"
          ]
        },
        {
          "output_type": "stream",
          "name": "stdout",
          "text": [
            "\n",
            "Class-wise Accuracy:\n",
            "  Class 1: 60.03%\n",
            "  Class 2: 55.86%\n",
            "  Class 0: 44.29%\n",
            "  Class 3: 55.09%\n",
            "Test Accuracy: 53.8%, Test Loss: 1.051425\n",
            "\n",
            "\n",
            "Class-wise Accuracy:\n",
            "  Class 1: 60.03%\n",
            "  Class 2: 55.86%\n",
            "  Class 0: 44.29%\n",
            "  Class 3: 55.09%\n",
            "Train Accuracy: 59.03%, Average Train Loss: 0.989512, Test Accuracy: 53.82%, Average Test Loss: 1.051425\n",
            "\n",
            "Epoch 47/100: "
          ]
        },
        {
          "output_type": "stream",
          "name": "stderr",
          "text": [
            "100%|██████████| 41/41 [00:01<00:00, 36.18it/s]\n",
            "Batch 41/41, Loss: 1.041671: 100%|██████████| 41/41 [00:00<00:00, 46.65it/s]\n"
          ]
        },
        {
          "output_type": "stream",
          "name": "stdout",
          "text": [
            "\n",
            "Class-wise Accuracy:\n",
            "  Class 1: 51.23%\n",
            "  Class 2: 58.02%\n",
            "  Class 0: 54.63%\n",
            "  Class 3: 57.87%\n",
            "Test Accuracy: 55.4%, Test Loss: 1.043429\n",
            "\n",
            "\n",
            "Class-wise Accuracy:\n",
            "  Class 1: 51.23%\n",
            "  Class 2: 58.02%\n",
            "  Class 0: 54.63%\n",
            "  Class 3: 57.87%\n",
            "Train Accuracy: 58.06%, Average Train Loss: 0.981983, Test Accuracy: 55.44%, Average Test Loss: 1.043429\n",
            "\n",
            "Epoch 48/100: "
          ]
        },
        {
          "output_type": "stream",
          "name": "stderr",
          "text": [
            "100%|██████████| 41/41 [00:01<00:00, 37.63it/s]\n",
            "Batch 41/41, Loss: 0.990471: 100%|██████████| 41/41 [00:00<00:00, 49.22it/s]\n"
          ]
        },
        {
          "output_type": "stream",
          "name": "stdout",
          "text": [
            "\n",
            "Class-wise Accuracy:\n",
            "  Class 1: 51.54%\n",
            "  Class 2: 61.42%\n",
            "  Class 0: 43.52%\n",
            "  Class 3: 58.02%\n",
            "Test Accuracy: 53.6%, Test Loss: 1.057418\n",
            "\n",
            "\n",
            "Class-wise Accuracy:\n",
            "  Class 1: 51.54%\n",
            "  Class 2: 61.42%\n",
            "  Class 0: 43.52%\n",
            "  Class 3: 58.02%\n",
            "Train Accuracy: 59.95%, Average Train Loss: 0.985679, Test Accuracy: 53.63%, Average Test Loss: 1.057418\n",
            "\n",
            "Epoch 49/100: "
          ]
        },
        {
          "output_type": "stream",
          "name": "stderr",
          "text": [
            "100%|██████████| 41/41 [00:01<00:00, 36.26it/s]\n",
            "Batch 41/41, Loss: 0.984313: 100%|██████████| 41/41 [00:01<00:00, 38.85it/s]\n"
          ]
        },
        {
          "output_type": "stream",
          "name": "stdout",
          "text": [
            "\n",
            "Class-wise Accuracy:\n",
            "  Class 1: 57.25%\n",
            "  Class 2: 62.19%\n",
            "  Class 0: 44.29%\n",
            "  Class 3: 55.56%\n",
            "Test Accuracy: 54.8%, Test Loss: 1.049666\n",
            "\n",
            "\n",
            "Class-wise Accuracy:\n",
            "  Class 1: 57.25%\n",
            "  Class 2: 62.19%\n",
            "  Class 0: 44.29%\n",
            "  Class 3: 55.56%\n",
            "Train Accuracy: 59.41%, Average Train Loss: 0.984546, Test Accuracy: 54.82%, Average Test Loss: 1.049666\n",
            "\n",
            "Epoch 50/100: "
          ]
        },
        {
          "output_type": "stream",
          "name": "stderr",
          "text": [
            "100%|██████████| 41/41 [00:01<00:00, 33.03it/s]\n",
            "Batch 41/41, Loss: 1.036623: 100%|██████████| 41/41 [00:01<00:00, 36.08it/s]\n"
          ]
        },
        {
          "output_type": "stream",
          "name": "stdout",
          "text": [
            "\n",
            "Class-wise Accuracy:\n",
            "  Class 1: 54.78%\n",
            "  Class 2: 60.65%\n",
            "  Class 0: 49.38%\n",
            "  Class 3: 57.41%\n",
            "Test Accuracy: 55.6%, Test Loss: 1.039195\n",
            "\n",
            "\n",
            "Class-wise Accuracy:\n",
            "  Class 1: 54.78%\n",
            "  Class 2: 60.65%\n",
            "  Class 0: 49.38%\n",
            "  Class 3: 57.41%\n",
            "Train Accuracy: 59.49%, Average Train Loss: 0.980225, Test Accuracy: 55.56%, Average Test Loss: 1.039195\n",
            "\n",
            "Epoch 51/100: "
          ]
        },
        {
          "output_type": "stream",
          "name": "stderr",
          "text": [
            "100%|██████████| 41/41 [00:01<00:00, 36.41it/s]\n",
            "Batch 41/41, Loss: 1.023773: 100%|██████████| 41/41 [00:00<00:00, 44.40it/s]\n"
          ]
        },
        {
          "output_type": "stream",
          "name": "stdout",
          "text": [
            "\n",
            "Class-wise Accuracy:\n",
            "  Class 1: 55.40%\n",
            "  Class 2: 60.19%\n",
            "  Class 0: 44.91%\n",
            "  Class 3: 59.41%\n",
            "Test Accuracy: 55.0%, Test Loss: 1.035164\n",
            "\n",
            "\n",
            "Class-wise Accuracy:\n",
            "  Class 1: 55.40%\n",
            "  Class 2: 60.19%\n",
            "  Class 0: 44.91%\n",
            "  Class 3: 59.41%\n",
            "Train Accuracy: 60.53%, Average Train Loss: 0.978794, Test Accuracy: 54.98%, Average Test Loss: 1.035164\n",
            "\n",
            "Epoch 52/100: "
          ]
        },
        {
          "output_type": "stream",
          "name": "stderr",
          "text": [
            "100%|██████████| 41/41 [00:01<00:00, 36.08it/s]\n",
            "Batch 41/41, Loss: 1.026104: 100%|██████████| 41/41 [00:00<00:00, 47.80it/s]\n"
          ]
        },
        {
          "output_type": "stream",
          "name": "stdout",
          "text": [
            "\n",
            "Class-wise Accuracy:\n",
            "  Class 1: 57.10%\n",
            "  Class 2: 61.11%\n",
            "  Class 0: 45.52%\n",
            "  Class 3: 56.33%\n",
            "Test Accuracy: 55.0%, Test Loss: 1.036063\n",
            "\n",
            "\n",
            "Class-wise Accuracy:\n",
            "  Class 1: 57.10%\n",
            "  Class 2: 61.11%\n",
            "  Class 0: 45.52%\n",
            "  Class 3: 56.33%\n",
            "Train Accuracy: 59.38%, Average Train Loss: 0.982470, Test Accuracy: 55.02%, Average Test Loss: 1.036063\n",
            "\n",
            "Epoch 53/100: "
          ]
        },
        {
          "output_type": "stream",
          "name": "stderr",
          "text": [
            "100%|██████████| 41/41 [00:01<00:00, 36.45it/s]\n",
            "Batch 41/41, Loss: 1.023882: 100%|██████████| 41/41 [00:00<00:00, 46.75it/s]\n"
          ]
        },
        {
          "output_type": "stream",
          "name": "stdout",
          "text": [
            "\n",
            "Class-wise Accuracy:\n",
            "  Class 1: 53.40%\n",
            "  Class 2: 60.80%\n",
            "  Class 0: 47.53%\n",
            "  Class 3: 57.56%\n",
            "Test Accuracy: 54.8%, Test Loss: 1.039014\n",
            "\n",
            "\n",
            "Class-wise Accuracy:\n",
            "  Class 1: 53.40%\n",
            "  Class 2: 60.80%\n",
            "  Class 0: 47.53%\n",
            "  Class 3: 57.56%\n",
            "Train Accuracy: 59.84%, Average Train Loss: 0.978657, Test Accuracy: 54.82%, Average Test Loss: 1.039014\n",
            "\n",
            "Epoch 54/100: "
          ]
        },
        {
          "output_type": "stream",
          "name": "stderr",
          "text": [
            "100%|██████████| 41/41 [00:01<00:00, 37.04it/s]\n",
            "Batch 41/41, Loss: 1.037682: 100%|██████████| 41/41 [00:00<00:00, 46.32it/s]\n"
          ]
        },
        {
          "output_type": "stream",
          "name": "stdout",
          "text": [
            "\n",
            "Class-wise Accuracy:\n",
            "  Class 1: 52.93%\n",
            "  Class 2: 59.26%\n",
            "  Class 0: 49.69%\n",
            "  Class 3: 58.33%\n",
            "Test Accuracy: 55.1%, Test Loss: 1.034787\n",
            "\n",
            "\n",
            "Class-wise Accuracy:\n",
            "  Class 1: 52.93%\n",
            "  Class 2: 59.26%\n",
            "  Class 0: 49.69%\n",
            "  Class 3: 58.33%\n",
            "Train Accuracy: 59.22%, Average Train Loss: 0.987439, Test Accuracy: 55.05%, Average Test Loss: 1.034787\n",
            "\n",
            "Epoch 55/100: "
          ]
        },
        {
          "output_type": "stream",
          "name": "stderr",
          "text": [
            "100%|██████████| 41/41 [00:01<00:00, 34.90it/s]\n",
            "Batch 41/41, Loss: 1.013988: 100%|██████████| 41/41 [00:01<00:00, 35.14it/s]\n"
          ]
        },
        {
          "output_type": "stream",
          "name": "stdout",
          "text": [
            "\n",
            "Class-wise Accuracy:\n",
            "  Class 1: 53.55%\n",
            "  Class 2: 64.81%\n",
            "  Class 0: 45.06%\n",
            "  Class 3: 57.25%\n",
            "Test Accuracy: 55.2%, Test Loss: 1.034099\n",
            "\n",
            "\n",
            "Class-wise Accuracy:\n",
            "  Class 1: 53.55%\n",
            "  Class 2: 64.81%\n",
            "  Class 0: 45.06%\n",
            "  Class 3: 57.25%\n",
            "Train Accuracy: 59.95%, Average Train Loss: 0.970568, Test Accuracy: 55.17%, Average Test Loss: 1.034099\n",
            "\n",
            "Epoch 56/100: "
          ]
        },
        {
          "output_type": "stream",
          "name": "stderr",
          "text": [
            "100%|██████████| 41/41 [00:01<00:00, 33.02it/s]\n",
            "Batch 41/41, Loss: 0.979477: 100%|██████████| 41/41 [00:01<00:00, 38.36it/s]\n"
          ]
        },
        {
          "output_type": "stream",
          "name": "stdout",
          "text": [
            "\n",
            "Class-wise Accuracy:\n",
            "  Class 1: 56.17%\n",
            "  Class 2: 63.73%\n",
            "  Class 0: 47.84%\n",
            "  Class 3: 54.78%\n",
            "Test Accuracy: 55.6%, Test Loss: 1.030850\n",
            "\n",
            "\n",
            "Class-wise Accuracy:\n",
            "  Class 1: 56.17%\n",
            "  Class 2: 63.73%\n",
            "  Class 0: 47.84%\n",
            "  Class 3: 54.78%\n",
            "Train Accuracy: 59.80%, Average Train Loss: 0.975203, Test Accuracy: 55.63%, Average Test Loss: 1.030850\n",
            "\n",
            "Epoch 57/100: "
          ]
        },
        {
          "output_type": "stream",
          "name": "stderr",
          "text": [
            "100%|██████████| 41/41 [00:01<00:00, 36.48it/s]\n",
            "Batch 41/41, Loss: 1.017478: 100%|██████████| 41/41 [00:00<00:00, 45.18it/s]\n"
          ]
        },
        {
          "output_type": "stream",
          "name": "stdout",
          "text": [
            "\n",
            "Class-wise Accuracy:\n",
            "  Class 1: 52.78%\n",
            "  Class 2: 64.66%\n",
            "  Class 0: 46.76%\n",
            "  Class 3: 56.64%\n",
            "Test Accuracy: 55.2%, Test Loss: 1.030945\n",
            "\n",
            "\n",
            "Class-wise Accuracy:\n",
            "  Class 1: 52.78%\n",
            "  Class 2: 64.66%\n",
            "  Class 0: 46.76%\n",
            "  Class 3: 56.64%\n",
            "Train Accuracy: 60.76%, Average Train Loss: 0.966433, Test Accuracy: 55.21%, Average Test Loss: 1.030945\n",
            "\n",
            "Epoch 58/100: "
          ]
        },
        {
          "output_type": "stream",
          "name": "stderr",
          "text": [
            "100%|██████████| 41/41 [00:01<00:00, 36.56it/s]\n",
            "Batch 41/41, Loss: 0.986261: 100%|██████████| 41/41 [00:00<00:00, 45.27it/s]\n"
          ]
        },
        {
          "output_type": "stream",
          "name": "stdout",
          "text": [
            "\n",
            "Class-wise Accuracy:\n",
            "  Class 1: 53.40%\n",
            "  Class 2: 64.51%\n",
            "  Class 0: 48.15%\n",
            "  Class 3: 55.40%\n",
            "Test Accuracy: 55.4%, Test Loss: 1.034976\n",
            "\n",
            "\n",
            "Class-wise Accuracy:\n",
            "  Class 1: 53.40%\n",
            "  Class 2: 64.51%\n",
            "  Class 0: 48.15%\n",
            "  Class 3: 55.40%\n",
            "Train Accuracy: 61.54%, Average Train Loss: 0.963956, Test Accuracy: 55.36%, Average Test Loss: 1.034976\n",
            "\n",
            "Epoch 59/100: "
          ]
        },
        {
          "output_type": "stream",
          "name": "stderr",
          "text": [
            "100%|██████████| 41/41 [00:01<00:00, 36.07it/s]\n",
            "Batch 41/41, Loss: 1.009643: 100%|██████████| 41/41 [00:00<00:00, 45.64it/s]\n"
          ]
        },
        {
          "output_type": "stream",
          "name": "stdout",
          "text": [
            "\n",
            "Class-wise Accuracy:\n",
            "  Class 1: 54.01%\n",
            "  Class 2: 63.12%\n",
            "  Class 0: 46.91%\n",
            "  Class 3: 57.41%\n",
            "Test Accuracy: 55.4%, Test Loss: 1.028386\n",
            "\n",
            "\n",
            "Class-wise Accuracy:\n",
            "  Class 1: 54.01%\n",
            "  Class 2: 63.12%\n",
            "  Class 0: 46.91%\n",
            "  Class 3: 57.41%\n",
            "Train Accuracy: 61.34%, Average Train Loss: 0.965319, Test Accuracy: 55.36%, Average Test Loss: 1.028386\n",
            "\n",
            "Epoch 60/100: "
          ]
        },
        {
          "output_type": "stream",
          "name": "stderr",
          "text": [
            "100%|██████████| 41/41 [00:01<00:00, 37.25it/s]\n",
            "Batch 41/41, Loss: 1.063894: 100%|██████████| 41/41 [00:00<00:00, 45.36it/s]\n"
          ]
        },
        {
          "output_type": "stream",
          "name": "stdout",
          "text": [
            "\n",
            "Class-wise Accuracy:\n",
            "  Class 1: 52.62%\n",
            "  Class 2: 61.88%\n",
            "  Class 0: 52.47%\n",
            "  Class 3: 55.25%\n",
            "Test Accuracy: 55.6%, Test Loss: 1.039220\n",
            "\n",
            "\n",
            "Class-wise Accuracy:\n",
            "  Class 1: 52.62%\n",
            "  Class 2: 61.88%\n",
            "  Class 0: 52.47%\n",
            "  Class 3: 55.25%\n",
            "Train Accuracy: 59.22%, Average Train Loss: 0.980009, Test Accuracy: 55.56%, Average Test Loss: 1.039220\n",
            "\n",
            "Epoch 61/100: "
          ]
        },
        {
          "output_type": "stream",
          "name": "stderr",
          "text": [
            "100%|██████████| 41/41 [00:01<00:00, 31.26it/s]\n",
            "Batch 41/41, Loss: 1.003187: 100%|██████████| 41/41 [00:01<00:00, 39.55it/s]\n"
          ]
        },
        {
          "output_type": "stream",
          "name": "stdout",
          "text": [
            "\n",
            "Class-wise Accuracy:\n",
            "  Class 1: 56.17%\n",
            "  Class 2: 61.88%\n",
            "  Class 0: 47.38%\n",
            "  Class 3: 56.48%\n",
            "Test Accuracy: 55.5%, Test Loss: 1.022732\n",
            "\n",
            "\n",
            "Class-wise Accuracy:\n",
            "  Class 1: 56.17%\n",
            "  Class 2: 61.88%\n",
            "  Class 0: 47.38%\n",
            "  Class 3: 56.48%\n",
            "Train Accuracy: 60.19%, Average Train Loss: 0.961557, Test Accuracy: 55.48%, Average Test Loss: 1.022732\n",
            "\n",
            "Epoch 62/100: "
          ]
        },
        {
          "output_type": "stream",
          "name": "stderr",
          "text": [
            "100%|██████████| 41/41 [00:01<00:00, 30.67it/s]\n",
            "Batch 41/41, Loss: 0.988408: 100%|██████████| 41/41 [00:00<00:00, 46.51it/s]\n"
          ]
        },
        {
          "output_type": "stream",
          "name": "stdout",
          "text": [
            "\n",
            "Class-wise Accuracy:\n",
            "  Class 1: 54.32%\n",
            "  Class 2: 63.43%\n",
            "  Class 0: 46.45%\n",
            "  Class 3: 55.71%\n",
            "Test Accuracy: 55.0%, Test Loss: 1.029964\n",
            "\n",
            "\n",
            "Class-wise Accuracy:\n",
            "  Class 1: 54.32%\n",
            "  Class 2: 63.43%\n",
            "  Class 0: 46.45%\n",
            "  Class 3: 55.71%\n",
            "Train Accuracy: 60.57%, Average Train Loss: 0.963247, Test Accuracy: 54.98%, Average Test Loss: 1.029964\n",
            "\n",
            "Epoch 63/100: "
          ]
        },
        {
          "output_type": "stream",
          "name": "stderr",
          "text": [
            "100%|██████████| 41/41 [00:01<00:00, 37.12it/s]\n",
            "Batch 41/41, Loss: 0.991173: 100%|██████████| 41/41 [00:00<00:00, 45.46it/s]\n"
          ]
        },
        {
          "output_type": "stream",
          "name": "stdout",
          "text": [
            "\n",
            "Class-wise Accuracy:\n",
            "  Class 1: 55.25%\n",
            "  Class 2: 62.50%\n",
            "  Class 0: 49.23%\n",
            "  Class 3: 56.33%\n",
            "Test Accuracy: 55.8%, Test Loss: 1.021014\n",
            "\n",
            "\n",
            "Class-wise Accuracy:\n",
            "  Class 1: 55.25%\n",
            "  Class 2: 62.50%\n",
            "  Class 0: 49.23%\n",
            "  Class 3: 56.33%\n",
            "Train Accuracy: 60.96%, Average Train Loss: 0.962440, Test Accuracy: 55.83%, Average Test Loss: 1.021014\n",
            "\n",
            "Epoch 64/100: "
          ]
        },
        {
          "output_type": "stream",
          "name": "stderr",
          "text": [
            "100%|██████████| 41/41 [00:01<00:00, 36.12it/s]\n",
            "Batch 41/41, Loss: 0.996082: 100%|██████████| 41/41 [00:00<00:00, 46.08it/s]\n"
          ]
        },
        {
          "output_type": "stream",
          "name": "stdout",
          "text": [
            "\n",
            "Class-wise Accuracy:\n",
            "  Class 1: 55.86%\n",
            "  Class 2: 60.49%\n",
            "  Class 0: 48.61%\n",
            "  Class 3: 56.79%\n",
            "Test Accuracy: 55.4%, Test Loss: 1.025480\n",
            "\n",
            "\n",
            "Class-wise Accuracy:\n",
            "  Class 1: 55.86%\n",
            "  Class 2: 60.49%\n",
            "  Class 0: 48.61%\n",
            "  Class 3: 56.79%\n",
            "Train Accuracy: 61.46%, Average Train Loss: 0.949685, Test Accuracy: 55.44%, Average Test Loss: 1.025480\n",
            "\n",
            "Epoch 65/100: "
          ]
        },
        {
          "output_type": "stream",
          "name": "stderr",
          "text": [
            "100%|██████████| 41/41 [00:01<00:00, 37.98it/s]\n",
            "Batch 41/41, Loss: 1.006781: 100%|██████████| 41/41 [00:00<00:00, 45.57it/s]\n"
          ]
        },
        {
          "output_type": "stream",
          "name": "stdout",
          "text": [
            "\n",
            "Class-wise Accuracy:\n",
            "  Class 1: 55.71%\n",
            "  Class 2: 61.88%\n",
            "  Class 0: 48.30%\n",
            "  Class 3: 56.79%\n",
            "Test Accuracy: 55.7%, Test Loss: 1.022095\n",
            "\n",
            "\n",
            "Class-wise Accuracy:\n",
            "  Class 1: 55.71%\n",
            "  Class 2: 61.88%\n",
            "  Class 0: 48.30%\n",
            "  Class 3: 56.79%\n",
            "Train Accuracy: 60.96%, Average Train Loss: 0.958965, Test Accuracy: 55.67%, Average Test Loss: 1.022095\n",
            "\n",
            "Epoch 66/100: "
          ]
        },
        {
          "output_type": "stream",
          "name": "stderr",
          "text": [
            "100%|██████████| 41/41 [00:01<00:00, 37.60it/s]\n",
            "Batch 41/41, Loss: 1.002098: 100%|██████████| 41/41 [00:00<00:00, 45.74it/s]\n"
          ]
        },
        {
          "output_type": "stream",
          "name": "stdout",
          "text": [
            "\n",
            "Class-wise Accuracy:\n",
            "  Class 1: 55.86%\n",
            "  Class 2: 63.43%\n",
            "  Class 0: 46.60%\n",
            "  Class 3: 56.79%\n",
            "Test Accuracy: 55.7%, Test Loss: 1.023407\n",
            "\n",
            "\n",
            "Class-wise Accuracy:\n",
            "  Class 1: 55.86%\n",
            "  Class 2: 63.43%\n",
            "  Class 0: 46.60%\n",
            "  Class 3: 56.79%\n",
            "Train Accuracy: 60.46%, Average Train Loss: 0.965098, Test Accuracy: 55.67%, Average Test Loss: 1.023407\n",
            "\n",
            "Epoch 67/100: "
          ]
        },
        {
          "output_type": "stream",
          "name": "stderr",
          "text": [
            "100%|██████████| 41/41 [00:01<00:00, 31.76it/s]\n",
            "Batch 41/41, Loss: 0.980123: 100%|██████████| 41/41 [00:01<00:00, 39.62it/s]\n"
          ]
        },
        {
          "output_type": "stream",
          "name": "stdout",
          "text": [
            "\n",
            "Class-wise Accuracy:\n",
            "  Class 1: 56.33%\n",
            "  Class 2: 60.96%\n",
            "  Class 0: 46.91%\n",
            "  Class 3: 56.94%\n",
            "Test Accuracy: 55.3%, Test Loss: 1.020657\n",
            "\n",
            "\n",
            "Class-wise Accuracy:\n",
            "  Class 1: 56.33%\n",
            "  Class 2: 60.96%\n",
            "  Class 0: 46.91%\n",
            "  Class 3: 56.94%\n",
            "Train Accuracy: 61.03%, Average Train Loss: 0.955093, Test Accuracy: 55.29%, Average Test Loss: 1.020657\n",
            "\n",
            "Epoch 68/100: "
          ]
        },
        {
          "output_type": "stream",
          "name": "stderr",
          "text": [
            "100%|██████████| 41/41 [00:01<00:00, 33.54it/s]\n",
            "Batch 41/41, Loss: 0.991339: 100%|██████████| 41/41 [00:00<00:00, 44.68it/s]\n"
          ]
        },
        {
          "output_type": "stream",
          "name": "stdout",
          "text": [
            "\n",
            "Class-wise Accuracy:\n",
            "  Class 1: 54.63%\n",
            "  Class 2: 62.65%\n",
            "  Class 0: 48.15%\n",
            "  Class 3: 57.72%\n",
            "Test Accuracy: 55.8%, Test Loss: 1.019024\n",
            "\n",
            "\n",
            "Class-wise Accuracy:\n",
            "  Class 1: 54.63%\n",
            "  Class 2: 62.65%\n",
            "  Class 0: 48.15%\n",
            "  Class 3: 57.72%\n",
            "Train Accuracy: 60.73%, Average Train Loss: 0.947993, Test Accuracy: 55.79%, Average Test Loss: 1.019024\n",
            "\n",
            "Epoch 69/100: "
          ]
        },
        {
          "output_type": "stream",
          "name": "stderr",
          "text": [
            "100%|██████████| 41/41 [00:01<00:00, 36.79it/s]\n",
            "Batch 41/41, Loss: 0.993100: 100%|██████████| 41/41 [00:00<00:00, 44.49it/s]\n"
          ]
        },
        {
          "output_type": "stream",
          "name": "stdout",
          "text": [
            "\n",
            "Class-wise Accuracy:\n",
            "  Class 1: 55.86%\n",
            "  Class 2: 60.19%\n",
            "  Class 0: 47.53%\n",
            "  Class 3: 57.10%\n",
            "Test Accuracy: 55.2%, Test Loss: 1.027593\n",
            "\n",
            "\n",
            "Class-wise Accuracy:\n",
            "  Class 1: 55.86%\n",
            "  Class 2: 60.19%\n",
            "  Class 0: 47.53%\n",
            "  Class 3: 57.10%\n",
            "Train Accuracy: 61.96%, Average Train Loss: 0.946679, Test Accuracy: 55.17%, Average Test Loss: 1.027593\n",
            "\n",
            "Epoch 70/100: "
          ]
        },
        {
          "output_type": "stream",
          "name": "stderr",
          "text": [
            "100%|██████████| 41/41 [00:01<00:00, 36.27it/s]\n",
            "Batch 41/41, Loss: 0.999096: 100%|██████████| 41/41 [00:00<00:00, 45.67it/s]\n"
          ]
        },
        {
          "output_type": "stream",
          "name": "stdout",
          "text": [
            "\n",
            "Class-wise Accuracy:\n",
            "  Class 1: 54.94%\n",
            "  Class 2: 62.35%\n",
            "  Class 0: 47.22%\n",
            "  Class 3: 57.87%\n",
            "Test Accuracy: 55.6%, Test Loss: 1.018041\n",
            "\n",
            "\n",
            "Class-wise Accuracy:\n",
            "  Class 1: 54.94%\n",
            "  Class 2: 62.35%\n",
            "  Class 0: 47.22%\n",
            "  Class 3: 57.87%\n",
            "Train Accuracy: 61.07%, Average Train Loss: 0.952781, Test Accuracy: 55.59%, Average Test Loss: 1.018041\n",
            "\n",
            "Epoch 71/100: "
          ]
        },
        {
          "output_type": "stream",
          "name": "stderr",
          "text": [
            "100%|██████████| 41/41 [00:01<00:00, 38.78it/s]\n",
            "Batch 41/41, Loss: 1.031173: 100%|██████████| 41/41 [00:00<00:00, 46.52it/s]\n"
          ]
        },
        {
          "output_type": "stream",
          "name": "stdout",
          "text": [
            "\n",
            "Class-wise Accuracy:\n",
            "  Class 1: 53.86%\n",
            "  Class 2: 64.66%\n",
            "  Class 0: 49.07%\n",
            "  Class 3: 57.72%\n",
            "Test Accuracy: 56.3%, Test Loss: 1.020468\n",
            "\n",
            "\n",
            "Class-wise Accuracy:\n",
            "  Class 1: 53.86%\n",
            "  Class 2: 64.66%\n",
            "  Class 0: 49.07%\n",
            "  Class 3: 57.72%\n",
            "Train Accuracy: 61.30%, Average Train Loss: 0.940629, Test Accuracy: 56.33%, Average Test Loss: 1.020468\n",
            "\n",
            "Epoch 72/100: "
          ]
        },
        {
          "output_type": "stream",
          "name": "stderr",
          "text": [
            "100%|██████████| 41/41 [00:01<00:00, 38.03it/s]\n",
            "Batch 41/41, Loss: 1.006363: 100%|██████████| 41/41 [00:00<00:00, 44.09it/s]\n"
          ]
        },
        {
          "output_type": "stream",
          "name": "stdout",
          "text": [
            "\n",
            "Class-wise Accuracy:\n",
            "  Class 1: 54.17%\n",
            "  Class 2: 63.43%\n",
            "  Class 0: 46.91%\n",
            "  Class 3: 60.03%\n",
            "Test Accuracy: 56.1%, Test Loss: 1.025800\n",
            "\n",
            "\n",
            "Class-wise Accuracy:\n",
            "  Class 1: 54.17%\n",
            "  Class 2: 63.43%\n",
            "  Class 0: 46.91%\n",
            "  Class 3: 60.03%\n",
            "Train Accuracy: 60.30%, Average Train Loss: 0.949563, Test Accuracy: 56.13%, Average Test Loss: 1.025800\n",
            "\n",
            "Epoch 73/100: "
          ]
        },
        {
          "output_type": "stream",
          "name": "stderr",
          "text": [
            "100%|██████████| 41/41 [00:01<00:00, 30.96it/s]\n",
            "Batch 41/41, Loss: 0.998587: 100%|██████████| 41/41 [00:01<00:00, 40.15it/s]\n"
          ]
        },
        {
          "output_type": "stream",
          "name": "stdout",
          "text": [
            "\n",
            "Class-wise Accuracy:\n",
            "  Class 1: 54.17%\n",
            "  Class 2: 63.27%\n",
            "  Class 0: 50.15%\n",
            "  Class 3: 57.56%\n",
            "Test Accuracy: 56.3%, Test Loss: 1.017745\n",
            "\n",
            "\n",
            "Class-wise Accuracy:\n",
            "  Class 1: 54.17%\n",
            "  Class 2: 63.27%\n",
            "  Class 0: 50.15%\n",
            "  Class 3: 57.56%\n",
            "Train Accuracy: 61.19%, Average Train Loss: 0.948887, Test Accuracy: 56.29%, Average Test Loss: 1.017745\n",
            "\n",
            "Epoch 74/100: "
          ]
        },
        {
          "output_type": "stream",
          "name": "stderr",
          "text": [
            "100%|██████████| 41/41 [00:01<00:00, 34.08it/s]\n",
            "Batch 41/41, Loss: 0.993461: 100%|██████████| 41/41 [00:00<00:00, 43.99it/s]\n"
          ]
        },
        {
          "output_type": "stream",
          "name": "stdout",
          "text": [
            "\n",
            "Class-wise Accuracy:\n",
            "  Class 1: 54.48%\n",
            "  Class 2: 62.35%\n",
            "  Class 0: 48.77%\n",
            "  Class 3: 57.41%\n",
            "Test Accuracy: 55.7%, Test Loss: 1.016299\n",
            "\n",
            "\n",
            "Class-wise Accuracy:\n",
            "  Class 1: 54.48%\n",
            "  Class 2: 62.35%\n",
            "  Class 0: 48.77%\n",
            "  Class 3: 57.41%\n",
            "Train Accuracy: 61.84%, Average Train Loss: 0.940574, Test Accuracy: 55.75%, Average Test Loss: 1.016299\n",
            "\n",
            "Epoch 75/100: "
          ]
        },
        {
          "output_type": "stream",
          "name": "stderr",
          "text": [
            "100%|██████████| 41/41 [00:01<00:00, 36.72it/s]\n",
            "Batch 41/41, Loss: 1.022538: 100%|██████████| 41/41 [00:00<00:00, 45.14it/s]\n"
          ]
        },
        {
          "output_type": "stream",
          "name": "stdout",
          "text": [
            "\n",
            "Class-wise Accuracy:\n",
            "  Class 1: 54.78%\n",
            "  Class 2: 63.12%\n",
            "  Class 0: 49.54%\n",
            "  Class 3: 58.33%\n",
            "Test Accuracy: 56.4%, Test Loss: 1.019826\n",
            "\n",
            "\n",
            "Class-wise Accuracy:\n",
            "  Class 1: 54.78%\n",
            "  Class 2: 63.12%\n",
            "  Class 0: 49.54%\n",
            "  Class 3: 58.33%\n",
            "Train Accuracy: 62.15%, Average Train Loss: 0.944118, Test Accuracy: 56.44%, Average Test Loss: 1.019826\n",
            "\n",
            "Epoch 76/100: "
          ]
        },
        {
          "output_type": "stream",
          "name": "stderr",
          "text": [
            "100%|██████████| 41/41 [00:01<00:00, 36.59it/s]\n",
            "Batch 41/41, Loss: 0.984986: 100%|██████████| 41/41 [00:00<00:00, 46.09it/s]\n"
          ]
        },
        {
          "output_type": "stream",
          "name": "stdout",
          "text": [
            "\n",
            "Class-wise Accuracy:\n",
            "  Class 1: 56.33%\n",
            "  Class 2: 63.43%\n",
            "  Class 0: 48.61%\n",
            "  Class 3: 57.41%\n",
            "Test Accuracy: 56.4%, Test Loss: 1.018514\n",
            "\n",
            "\n",
            "Class-wise Accuracy:\n",
            "  Class 1: 56.33%\n",
            "  Class 2: 63.43%\n",
            "  Class 0: 48.61%\n",
            "  Class 3: 57.41%\n",
            "Train Accuracy: 61.23%, Average Train Loss: 0.935376, Test Accuracy: 56.44%, Average Test Loss: 1.018514\n",
            "\n",
            "Epoch 77/100: "
          ]
        },
        {
          "output_type": "stream",
          "name": "stderr",
          "text": [
            "100%|██████████| 41/41 [00:01<00:00, 36.47it/s]\n",
            "Batch 41/41, Loss: 0.986409: 100%|██████████| 41/41 [00:00<00:00, 46.80it/s]\n"
          ]
        },
        {
          "output_type": "stream",
          "name": "stdout",
          "text": [
            "\n",
            "Class-wise Accuracy:\n",
            "  Class 1: 56.33%\n",
            "  Class 2: 63.89%\n",
            "  Class 0: 48.46%\n",
            "  Class 3: 57.25%\n",
            "Test Accuracy: 56.5%, Test Loss: 1.018146\n",
            "\n",
            "\n",
            "Class-wise Accuracy:\n",
            "  Class 1: 56.33%\n",
            "  Class 2: 63.89%\n",
            "  Class 0: 48.46%\n",
            "  Class 3: 57.25%\n",
            "Train Accuracy: 60.34%, Average Train Loss: 0.945065, Test Accuracy: 56.48%, Average Test Loss: 1.018146\n",
            "\n",
            "Epoch 78/100: "
          ]
        },
        {
          "output_type": "stream",
          "name": "stderr",
          "text": [
            "100%|██████████| 41/41 [00:01<00:00, 37.03it/s]\n",
            "Batch 41/41, Loss: 0.984422: 100%|██████████| 41/41 [00:00<00:00, 41.09it/s]\n"
          ]
        },
        {
          "output_type": "stream",
          "name": "stdout",
          "text": [
            "\n",
            "Class-wise Accuracy:\n",
            "  Class 1: 55.86%\n",
            "  Class 2: 62.19%\n",
            "  Class 0: 47.22%\n",
            "  Class 3: 57.25%\n",
            "Test Accuracy: 55.6%, Test Loss: 1.019458\n",
            "\n",
            "\n",
            "Class-wise Accuracy:\n",
            "  Class 1: 55.86%\n",
            "  Class 2: 62.19%\n",
            "  Class 0: 47.22%\n",
            "  Class 3: 57.25%\n",
            "Train Accuracy: 61.84%, Average Train Loss: 0.944541, Test Accuracy: 55.63%, Average Test Loss: 1.019458\n",
            "\n",
            "Epoch 79/100: "
          ]
        },
        {
          "output_type": "stream",
          "name": "stderr",
          "text": [
            "100%|██████████| 41/41 [00:01<00:00, 32.74it/s]\n",
            "Batch 41/41, Loss: 0.988647: 100%|██████████| 41/41 [00:01<00:00, 37.42it/s]\n"
          ]
        },
        {
          "output_type": "stream",
          "name": "stdout",
          "text": [
            "\n",
            "Class-wise Accuracy:\n",
            "  Class 1: 54.94%\n",
            "  Class 2: 62.65%\n",
            "  Class 0: 47.38%\n",
            "  Class 3: 58.02%\n",
            "Test Accuracy: 55.7%, Test Loss: 1.016163\n",
            "\n",
            "\n",
            "Class-wise Accuracy:\n",
            "  Class 1: 54.94%\n",
            "  Class 2: 62.65%\n",
            "  Class 0: 47.38%\n",
            "  Class 3: 58.02%\n",
            "Train Accuracy: 61.81%, Average Train Loss: 0.950087, Test Accuracy: 55.75%, Average Test Loss: 1.016163\n",
            "\n",
            "Epoch 80/100: "
          ]
        },
        {
          "output_type": "stream",
          "name": "stderr",
          "text": [
            "100%|██████████| 41/41 [00:01<00:00, 35.95it/s]\n",
            "Batch 41/41, Loss: 0.988390: 100%|██████████| 41/41 [00:00<00:00, 47.10it/s]\n"
          ]
        },
        {
          "output_type": "stream",
          "name": "stdout",
          "text": [
            "\n",
            "Class-wise Accuracy:\n",
            "  Class 1: 55.25%\n",
            "  Class 2: 62.81%\n",
            "  Class 0: 49.38%\n",
            "  Class 3: 57.56%\n",
            "Test Accuracy: 56.2%, Test Loss: 1.014528\n",
            "\n",
            "\n",
            "Class-wise Accuracy:\n",
            "  Class 1: 55.25%\n",
            "  Class 2: 62.81%\n",
            "  Class 0: 49.38%\n",
            "  Class 3: 57.56%\n",
            "Train Accuracy: 61.34%, Average Train Loss: 0.945608, Test Accuracy: 56.25%, Average Test Loss: 1.014528\n",
            "\n",
            "Epoch 81/100: "
          ]
        },
        {
          "output_type": "stream",
          "name": "stderr",
          "text": [
            "100%|██████████| 41/41 [00:01<00:00, 36.88it/s]\n",
            "Batch 41/41, Loss: 0.984049: 100%|██████████| 41/41 [00:00<00:00, 45.73it/s]\n"
          ]
        },
        {
          "output_type": "stream",
          "name": "stdout",
          "text": [
            "\n",
            "Class-wise Accuracy:\n",
            "  Class 1: 55.56%\n",
            "  Class 2: 63.43%\n",
            "  Class 0: 48.15%\n",
            "  Class 3: 57.25%\n",
            "Test Accuracy: 56.1%, Test Loss: 1.017084\n",
            "\n",
            "\n",
            "Class-wise Accuracy:\n",
            "  Class 1: 55.56%\n",
            "  Class 2: 63.43%\n",
            "  Class 0: 48.15%\n",
            "  Class 3: 57.25%\n",
            "Train Accuracy: 61.54%, Average Train Loss: 0.941693, Test Accuracy: 56.10%, Average Test Loss: 1.017084\n",
            "\n",
            "Epoch 82/100: "
          ]
        },
        {
          "output_type": "stream",
          "name": "stderr",
          "text": [
            "100%|██████████| 41/41 [00:01<00:00, 37.21it/s]\n",
            "Batch 41/41, Loss: 0.991463: 100%|██████████| 41/41 [00:00<00:00, 44.44it/s]\n"
          ]
        },
        {
          "output_type": "stream",
          "name": "stdout",
          "text": [
            "\n",
            "Class-wise Accuracy:\n",
            "  Class 1: 54.01%\n",
            "  Class 2: 64.20%\n",
            "  Class 0: 48.92%\n",
            "  Class 3: 58.18%\n",
            "Test Accuracy: 56.3%, Test Loss: 1.016518\n",
            "\n",
            "\n",
            "Class-wise Accuracy:\n",
            "  Class 1: 54.01%\n",
            "  Class 2: 64.20%\n",
            "  Class 0: 48.92%\n",
            "  Class 3: 58.18%\n",
            "Train Accuracy: 63.23%, Average Train Loss: 0.921532, Test Accuracy: 56.33%, Average Test Loss: 1.016518\n",
            "\n",
            "Epoch 83/100: "
          ]
        },
        {
          "output_type": "stream",
          "name": "stderr",
          "text": [
            "100%|██████████| 41/41 [00:01<00:00, 37.70it/s]\n",
            "Batch 41/41, Loss: 0.978001: 100%|██████████| 41/41 [00:00<00:00, 45.17it/s]\n"
          ]
        },
        {
          "output_type": "stream",
          "name": "stdout",
          "text": [
            "\n",
            "Class-wise Accuracy:\n",
            "  Class 1: 55.86%\n",
            "  Class 2: 64.20%\n",
            "  Class 0: 48.30%\n",
            "  Class 3: 57.10%\n",
            "Test Accuracy: 56.4%, Test Loss: 1.016895\n",
            "\n",
            "\n",
            "Class-wise Accuracy:\n",
            "  Class 1: 55.86%\n",
            "  Class 2: 64.20%\n",
            "  Class 0: 48.30%\n",
            "  Class 3: 57.10%\n",
            "Train Accuracy: 61.07%, Average Train Loss: 0.945746, Test Accuracy: 56.37%, Average Test Loss: 1.016895\n",
            "\n",
            "Epoch 84/100: "
          ]
        },
        {
          "output_type": "stream",
          "name": "stderr",
          "text": [
            "100%|██████████| 41/41 [00:01<00:00, 36.91it/s]\n",
            "Batch 41/41, Loss: 0.993970: 100%|██████████| 41/41 [00:01<00:00, 40.74it/s]\n"
          ]
        },
        {
          "output_type": "stream",
          "name": "stdout",
          "text": [
            "\n",
            "Class-wise Accuracy:\n",
            "  Class 1: 54.78%\n",
            "  Class 2: 63.58%\n",
            "  Class 0: 48.30%\n",
            "  Class 3: 57.25%\n",
            "Test Accuracy: 56.0%, Test Loss: 1.014772\n",
            "\n",
            "\n",
            "Class-wise Accuracy:\n",
            "  Class 1: 54.78%\n",
            "  Class 2: 63.58%\n",
            "  Class 0: 48.30%\n",
            "  Class 3: 57.25%\n",
            "Train Accuracy: 60.73%, Average Train Loss: 0.941897, Test Accuracy: 55.98%, Average Test Loss: 1.014772\n",
            "\n",
            "Epoch 85/100: "
          ]
        },
        {
          "output_type": "stream",
          "name": "stderr",
          "text": [
            "100%|██████████| 41/41 [00:01<00:00, 32.98it/s]\n",
            "Batch 41/41, Loss: 0.984417: 100%|██████████| 41/41 [00:01<00:00, 38.95it/s]\n"
          ]
        },
        {
          "output_type": "stream",
          "name": "stdout",
          "text": [
            "\n",
            "Class-wise Accuracy:\n",
            "  Class 1: 55.40%\n",
            "  Class 2: 62.96%\n",
            "  Class 0: 47.84%\n",
            "  Class 3: 57.56%\n",
            "Test Accuracy: 55.9%, Test Loss: 1.015133\n",
            "\n",
            "\n",
            "Class-wise Accuracy:\n",
            "  Class 1: 55.40%\n",
            "  Class 2: 62.96%\n",
            "  Class 0: 47.84%\n",
            "  Class 3: 57.56%\n",
            "Train Accuracy: 62.11%, Average Train Loss: 0.929565, Test Accuracy: 55.94%, Average Test Loss: 1.015133\n",
            "\n",
            "Epoch 86/100: "
          ]
        },
        {
          "output_type": "stream",
          "name": "stderr",
          "text": [
            "100%|██████████| 41/41 [00:01<00:00, 34.46it/s]\n",
            "Batch 41/41, Loss: 0.988397: 100%|██████████| 41/41 [00:00<00:00, 44.49it/s]\n"
          ]
        },
        {
          "output_type": "stream",
          "name": "stdout",
          "text": [
            "\n",
            "Class-wise Accuracy:\n",
            "  Class 1: 55.25%\n",
            "  Class 2: 62.96%\n",
            "  Class 0: 47.38%\n",
            "  Class 3: 57.56%\n",
            "Test Accuracy: 55.8%, Test Loss: 1.016087\n",
            "\n",
            "\n",
            "Class-wise Accuracy:\n",
            "  Class 1: 55.25%\n",
            "  Class 2: 62.96%\n",
            "  Class 0: 47.38%\n",
            "  Class 3: 57.56%\n",
            "Train Accuracy: 61.92%, Average Train Loss: 0.938280, Test Accuracy: 55.79%, Average Test Loss: 1.016087\n",
            "\n",
            "Epoch 87/100: "
          ]
        },
        {
          "output_type": "stream",
          "name": "stderr",
          "text": [
            "100%|██████████| 41/41 [00:01<00:00, 36.48it/s]\n",
            "Batch 41/41, Loss: 0.989587: 100%|██████████| 41/41 [00:00<00:00, 45.73it/s]\n"
          ]
        },
        {
          "output_type": "stream",
          "name": "stdout",
          "text": [
            "\n",
            "Class-wise Accuracy:\n",
            "  Class 1: 55.09%\n",
            "  Class 2: 63.27%\n",
            "  Class 0: 47.69%\n",
            "  Class 3: 57.56%\n",
            "Test Accuracy: 55.9%, Test Loss: 1.015928\n",
            "\n",
            "\n",
            "Class-wise Accuracy:\n",
            "  Class 1: 55.09%\n",
            "  Class 2: 63.27%\n",
            "  Class 0: 47.69%\n",
            "  Class 3: 57.56%\n",
            "Train Accuracy: 62.00%, Average Train Loss: 0.936809, Test Accuracy: 55.90%, Average Test Loss: 1.015928\n",
            "\n",
            "Epoch 88/100: "
          ]
        },
        {
          "output_type": "stream",
          "name": "stderr",
          "text": [
            "100%|██████████| 41/41 [00:01<00:00, 36.44it/s]\n",
            "Batch 41/41, Loss: 0.988492: 100%|██████████| 41/41 [00:00<00:00, 43.11it/s]\n"
          ]
        },
        {
          "output_type": "stream",
          "name": "stdout",
          "text": [
            "\n",
            "Class-wise Accuracy:\n",
            "  Class 1: 55.40%\n",
            "  Class 2: 63.12%\n",
            "  Class 0: 47.84%\n",
            "  Class 3: 57.56%\n",
            "Test Accuracy: 56.0%, Test Loss: 1.014242\n",
            "\n",
            "\n",
            "Class-wise Accuracy:\n",
            "  Class 1: 55.40%\n",
            "  Class 2: 63.12%\n",
            "  Class 0: 47.84%\n",
            "  Class 3: 57.56%\n",
            "Train Accuracy: 61.61%, Average Train Loss: 0.948536, Test Accuracy: 55.98%, Average Test Loss: 1.014242\n",
            "\n",
            "Epoch 89/100: "
          ]
        },
        {
          "output_type": "stream",
          "name": "stderr",
          "text": [
            "100%|██████████| 41/41 [00:01<00:00, 36.86it/s]\n",
            "Batch 41/41, Loss: 0.984664: 100%|██████████| 41/41 [00:00<00:00, 44.08it/s]\n"
          ]
        },
        {
          "output_type": "stream",
          "name": "stdout",
          "text": [
            "\n",
            "Class-wise Accuracy:\n",
            "  Class 1: 56.33%\n",
            "  Class 2: 63.73%\n",
            "  Class 0: 47.84%\n",
            "  Class 3: 57.25%\n",
            "Test Accuracy: 56.3%, Test Loss: 1.013803\n",
            "\n",
            "\n",
            "Class-wise Accuracy:\n",
            "  Class 1: 56.33%\n",
            "  Class 2: 63.73%\n",
            "  Class 0: 47.84%\n",
            "  Class 3: 57.25%\n",
            "Train Accuracy: 61.73%, Average Train Loss: 0.944013, Test Accuracy: 56.29%, Average Test Loss: 1.013803\n",
            "\n",
            "Epoch 90/100: "
          ]
        },
        {
          "output_type": "stream",
          "name": "stderr",
          "text": [
            "100%|██████████| 41/41 [00:01<00:00, 34.03it/s]\n",
            "Batch 41/41, Loss: 0.985559: 100%|██████████| 41/41 [00:01<00:00, 38.23it/s]\n"
          ]
        },
        {
          "output_type": "stream",
          "name": "stdout",
          "text": [
            "\n",
            "Class-wise Accuracy:\n",
            "  Class 1: 55.56%\n",
            "  Class 2: 63.12%\n",
            "  Class 0: 48.30%\n",
            "  Class 3: 57.72%\n",
            "Test Accuracy: 56.2%, Test Loss: 1.014061\n",
            "\n",
            "\n",
            "Class-wise Accuracy:\n",
            "  Class 1: 55.56%\n",
            "  Class 2: 63.12%\n",
            "  Class 0: 48.30%\n",
            "  Class 3: 57.72%\n",
            "Train Accuracy: 62.62%, Average Train Loss: 0.929768, Test Accuracy: 56.17%, Average Test Loss: 1.014061\n",
            "\n",
            "Epoch 91/100: "
          ]
        },
        {
          "output_type": "stream",
          "name": "stderr",
          "text": [
            "100%|██████████| 41/41 [00:01<00:00, 33.97it/s]\n",
            "Batch 41/41, Loss: 0.984373: 100%|██████████| 41/41 [00:01<00:00, 38.10it/s]\n"
          ]
        },
        {
          "output_type": "stream",
          "name": "stdout",
          "text": [
            "\n",
            "Class-wise Accuracy:\n",
            "  Class 1: 55.56%\n",
            "  Class 2: 63.12%\n",
            "  Class 0: 48.61%\n",
            "  Class 3: 57.72%\n",
            "Test Accuracy: 56.2%, Test Loss: 1.014174\n",
            "\n",
            "\n",
            "Class-wise Accuracy:\n",
            "  Class 1: 55.56%\n",
            "  Class 2: 63.12%\n",
            "  Class 0: 48.61%\n",
            "  Class 3: 57.72%\n",
            "Train Accuracy: 62.77%, Average Train Loss: 0.927956, Test Accuracy: 56.25%, Average Test Loss: 1.014174\n",
            "\n",
            "Epoch 92/100: "
          ]
        },
        {
          "output_type": "stream",
          "name": "stderr",
          "text": [
            "100%|██████████| 41/41 [00:01<00:00, 36.78it/s]\n",
            "Batch 41/41, Loss: 0.983072: 100%|██████████| 41/41 [00:00<00:00, 44.99it/s]\n"
          ]
        },
        {
          "output_type": "stream",
          "name": "stdout",
          "text": [
            "\n",
            "Class-wise Accuracy:\n",
            "  Class 1: 55.71%\n",
            "  Class 2: 63.43%\n",
            "  Class 0: 47.38%\n",
            "  Class 3: 57.10%\n",
            "Test Accuracy: 55.9%, Test Loss: 1.014505\n",
            "\n",
            "\n",
            "Class-wise Accuracy:\n",
            "  Class 1: 55.71%\n",
            "  Class 2: 63.43%\n",
            "  Class 0: 47.38%\n",
            "  Class 3: 57.10%\n",
            "Train Accuracy: 62.23%, Average Train Loss: 0.935830, Test Accuracy: 55.90%, Average Test Loss: 1.014505\n",
            "\n",
            "Epoch 93/100: "
          ]
        },
        {
          "output_type": "stream",
          "name": "stderr",
          "text": [
            "100%|██████████| 41/41 [00:01<00:00, 36.13it/s]\n",
            "Batch 41/41, Loss: 0.983245: 100%|██████████| 41/41 [00:00<00:00, 43.85it/s]\n"
          ]
        },
        {
          "output_type": "stream",
          "name": "stdout",
          "text": [
            "\n",
            "Class-wise Accuracy:\n",
            "  Class 1: 55.71%\n",
            "  Class 2: 63.43%\n",
            "  Class 0: 48.15%\n",
            "  Class 3: 57.41%\n",
            "Test Accuracy: 56.2%, Test Loss: 1.013824\n",
            "\n",
            "\n",
            "Class-wise Accuracy:\n",
            "  Class 1: 55.71%\n",
            "  Class 2: 63.43%\n",
            "  Class 0: 48.15%\n",
            "  Class 3: 57.41%\n",
            "Train Accuracy: 62.62%, Average Train Loss: 0.932660, Test Accuracy: 56.17%, Average Test Loss: 1.013824\n",
            "\n",
            "Epoch 94/100: "
          ]
        },
        {
          "output_type": "stream",
          "name": "stderr",
          "text": [
            "100%|██████████| 41/41 [00:01<00:00, 36.75it/s]\n",
            "Batch 41/41, Loss: 0.984437: 100%|██████████| 41/41 [00:00<00:00, 45.37it/s]\n"
          ]
        },
        {
          "output_type": "stream",
          "name": "stdout",
          "text": [
            "\n",
            "Class-wise Accuracy:\n",
            "  Class 1: 55.56%\n",
            "  Class 2: 63.58%\n",
            "  Class 0: 48.30%\n",
            "  Class 3: 57.25%\n",
            "Test Accuracy: 56.2%, Test Loss: 1.013882\n",
            "\n",
            "\n",
            "Class-wise Accuracy:\n",
            "  Class 1: 55.56%\n",
            "  Class 2: 63.58%\n",
            "  Class 0: 48.30%\n",
            "  Class 3: 57.25%\n",
            "Train Accuracy: 63.04%, Average Train Loss: 0.922817, Test Accuracy: 56.17%, Average Test Loss: 1.013882\n",
            "\n",
            "Epoch 95/100: "
          ]
        },
        {
          "output_type": "stream",
          "name": "stderr",
          "text": [
            "100%|██████████| 41/41 [00:01<00:00, 37.72it/s]\n",
            "Batch 41/41, Loss: 0.987184: 100%|██████████| 41/41 [00:00<00:00, 46.12it/s]\n"
          ]
        },
        {
          "output_type": "stream",
          "name": "stdout",
          "text": [
            "\n",
            "Class-wise Accuracy:\n",
            "  Class 1: 55.40%\n",
            "  Class 2: 62.96%\n",
            "  Class 0: 48.46%\n",
            "  Class 3: 57.72%\n",
            "Test Accuracy: 56.1%, Test Loss: 1.013959\n",
            "\n",
            "\n",
            "Class-wise Accuracy:\n",
            "  Class 1: 55.40%\n",
            "  Class 2: 62.96%\n",
            "  Class 0: 48.46%\n",
            "  Class 3: 57.72%\n",
            "Train Accuracy: 62.85%, Average Train Loss: 0.923178, Test Accuracy: 56.13%, Average Test Loss: 1.013959\n",
            "\n",
            "Epoch 96/100: "
          ]
        },
        {
          "output_type": "stream",
          "name": "stderr",
          "text": [
            "100%|██████████| 41/41 [00:01<00:00, 33.74it/s]\n",
            "Batch 41/41, Loss: 0.986293: 100%|██████████| 41/41 [00:01<00:00, 36.50it/s]\n"
          ]
        },
        {
          "output_type": "stream",
          "name": "stdout",
          "text": [
            "\n",
            "Class-wise Accuracy:\n",
            "  Class 1: 55.40%\n",
            "  Class 2: 62.96%\n",
            "  Class 0: 48.15%\n",
            "  Class 3: 57.72%\n",
            "Test Accuracy: 56.1%, Test Loss: 1.014207\n",
            "\n",
            "\n",
            "Class-wise Accuracy:\n",
            "  Class 1: 55.40%\n",
            "  Class 2: 62.96%\n",
            "  Class 0: 48.15%\n",
            "  Class 3: 57.72%\n",
            "Train Accuracy: 62.27%, Average Train Loss: 0.932967, Test Accuracy: 56.06%, Average Test Loss: 1.014207\n",
            "\n",
            "Epoch 97/100: "
          ]
        },
        {
          "output_type": "stream",
          "name": "stderr",
          "text": [
            "100%|██████████| 41/41 [00:01<00:00, 33.43it/s]\n",
            "Batch 41/41, Loss: 0.984636: 100%|██████████| 41/41 [00:00<00:00, 41.45it/s]\n"
          ]
        },
        {
          "output_type": "stream",
          "name": "stdout",
          "text": [
            "\n",
            "Class-wise Accuracy:\n",
            "  Class 1: 55.40%\n",
            "  Class 2: 63.43%\n",
            "  Class 0: 47.99%\n",
            "  Class 3: 57.25%\n",
            "Test Accuracy: 56.0%, Test Loss: 1.014048\n",
            "\n",
            "\n",
            "Class-wise Accuracy:\n",
            "  Class 1: 55.40%\n",
            "  Class 2: 63.43%\n",
            "  Class 0: 47.99%\n",
            "  Class 3: 57.25%\n",
            "Train Accuracy: 61.42%, Average Train Loss: 0.937549, Test Accuracy: 56.02%, Average Test Loss: 1.014048\n",
            "\n",
            "Epoch 98/100: "
          ]
        },
        {
          "output_type": "stream",
          "name": "stderr",
          "text": [
            "100%|██████████| 41/41 [00:01<00:00, 37.14it/s]\n",
            "Batch 41/41, Loss: 0.986842: 100%|██████████| 41/41 [00:00<00:00, 46.98it/s]\n"
          ]
        },
        {
          "output_type": "stream",
          "name": "stdout",
          "text": [
            "\n",
            "Class-wise Accuracy:\n",
            "  Class 1: 55.25%\n",
            "  Class 2: 63.12%\n",
            "  Class 0: 48.30%\n",
            "  Class 3: 57.41%\n",
            "Test Accuracy: 56.0%, Test Loss: 1.014037\n",
            "\n",
            "\n",
            "Class-wise Accuracy:\n",
            "  Class 1: 55.25%\n",
            "  Class 2: 63.12%\n",
            "  Class 0: 48.30%\n",
            "  Class 3: 57.41%\n",
            "Train Accuracy: 62.04%, Average Train Loss: 0.935660, Test Accuracy: 56.02%, Average Test Loss: 1.014037\n",
            "\n",
            "Epoch 99/100: "
          ]
        },
        {
          "output_type": "stream",
          "name": "stderr",
          "text": [
            "100%|██████████| 41/41 [00:01<00:00, 36.83it/s]\n",
            "Batch 41/41, Loss: 0.986213: 100%|██████████| 41/41 [00:00<00:00, 45.60it/s]\n"
          ]
        },
        {
          "output_type": "stream",
          "name": "stdout",
          "text": [
            "\n",
            "Class-wise Accuracy:\n",
            "  Class 1: 55.40%\n",
            "  Class 2: 63.27%\n",
            "  Class 0: 48.15%\n",
            "  Class 3: 57.41%\n",
            "Test Accuracy: 56.1%, Test Loss: 1.014155\n",
            "\n",
            "\n",
            "Class-wise Accuracy:\n",
            "  Class 1: 55.40%\n",
            "  Class 2: 63.27%\n",
            "  Class 0: 48.15%\n",
            "  Class 3: 57.41%\n",
            "Train Accuracy: 61.77%, Average Train Loss: 0.930953, Test Accuracy: 56.06%, Average Test Loss: 1.014155\n",
            "\n",
            "Epoch 100/100: "
          ]
        },
        {
          "output_type": "stream",
          "name": "stderr",
          "text": [
            "100%|██████████| 41/41 [00:01<00:00, 36.21it/s]\n",
            "Batch 41/41, Loss: 0.983701: 100%|██████████| 41/41 [00:00<00:00, 43.90it/s]\n"
          ]
        },
        {
          "output_type": "stream",
          "name": "stdout",
          "text": [
            "\n",
            "Class-wise Accuracy:\n",
            "  Class 1: 55.40%\n",
            "  Class 2: 63.43%\n",
            "  Class 0: 47.99%\n",
            "  Class 3: 57.10%\n",
            "Test Accuracy: 56.0%, Test Loss: 1.013999\n",
            "\n",
            "\n",
            "Class-wise Accuracy:\n",
            "  Class 1: 55.40%\n",
            "  Class 2: 63.43%\n",
            "  Class 0: 47.99%\n",
            "  Class 3: 57.10%\n",
            "Train Accuracy: 60.84%, Average Train Loss: 0.944389, Test Accuracy: 55.98%, Average Test Loss: 1.013999\n",
            "\n"
          ]
        }
      ],
      "source": [
        "import torch\n",
        "import wandb\n",
        "from torch.utils.data import DataLoader\n",
        "from torch.optim import AdamW\n",
        "from torch.optim.lr_scheduler import CosineAnnealingLR\n",
        "from torch.nn import CrossEntropyLoss\n",
        "import numpy as np\n",
        "import matplotlib.pyplot as plt\n",
        "import math\n",
        "\n",
        "seeds = [99999,182726,91111222,44552222,12223111,100300,47456655,4788347,77766666,809890]\n",
        "for _seed in seeds:\n",
        "  seed = _seed\n",
        "  set_random_seeds(seed=seed, cuda=cuda)\n",
        "  adj_m,pos = adjacency_matrix_motion()\n",
        "  #print(adj_m)\n",
        "  adj_dis_m, dm = adjacency_matrix_distance_motion(pos,delta=5)\n",
        "  dm\n",
        "  torch_tensor = torch.from_numpy(dm)\n",
        "  edge_weight = torch_tensor.reshape(-1).to(device)\n",
        "  model = ShallowSGCNNet(\n",
        "      n_chans=22,\n",
        "      n_outputs=n_classes,\n",
        "      n_times=input_window_samples,\n",
        "  )\n",
        "\n",
        "  if cuda:\n",
        "      model.cuda()\n",
        "\n",
        "  edge_index = get_e_index(dm)\n",
        "  # Initialize Weights & Biases\n",
        "  wandb.init(project=\"Master Thesis\", name=f\"{model.__class__.__name__} {seed}\")\n",
        "  model.apply(init_weights)\n",
        "  # Define hyperparameters\n",
        "  lr = 1e-3\n",
        "  weight_decay = 1e-4\n",
        "  batch_size = 64  # Start with 124\n",
        "  n_epochs = 100\n",
        "\n",
        "  final_acc = 0.0\n",
        "\n",
        "  # Log hyperparameters to wandb\n",
        "  wandb.config.update({\n",
        "      \"learning_rate\": lr,\n",
        "      \"weight_decay\": weight_decay,\n",
        "      \"batch_size\": batch_size,\n",
        "      \"epochs\": n_epochs\n",
        "  })\n",
        "\n",
        "  # Define optimizer and scheduler\n",
        "  optimizer = AdamW(model.parameters(), lr=lr, weight_decay=weight_decay)\n",
        "  scheduler = CosineAnnealingLR(optimizer, T_max=n_epochs - 1)\n",
        "\n",
        "  # Define loss function\n",
        "  loss_fn = CrossEntropyLoss()\n",
        "\n",
        "  # Create DataLoaders\n",
        "  train_loader = DataLoader(train_set, batch_size=batch_size, shuffle=True)\n",
        "  test_loader = DataLoader(test_set, batch_size=batch_size)\n",
        "\n",
        "  # Initialize lists to store all predictions & targets\n",
        "  all_preds, all_targets = [], []\n",
        "\n",
        "  # Training loop\n",
        "  for epoch in range(1, n_epochs + 1):\n",
        "      print(f\"Epoch {epoch}/{n_epochs}: \", end=\"\")\n",
        "\n",
        "      train_loss, train_accuracy = train_one_epoch(\n",
        "          train_loader, model,edge_index, loss_fn, optimizer, scheduler, epoch, device\n",
        "      )\n",
        "\n",
        "      test_loss, test_accuracy, class_accuracies, batch_preds, batch_targets = test_model(test_loader, model,edge_index, loss_fn)\n",
        "      final_acc = test_accuracy\n",
        "\n",
        "      # Store predictions & labels for confusion matrix\n",
        "      all_preds.extend(batch_preds)\n",
        "      all_targets.extend(batch_targets)\n",
        "\n",
        "      # Print class-wise accuracy\n",
        "      print(\"\\nClass-wise Accuracy:\")\n",
        "      for class_idx, acc in class_accuracies.items():\n",
        "          print(f\"  Class {class_idx}: {acc:.2f}%\")\n",
        "\n",
        "      adj_matrix = model.rgnn.edge_weights.detach().cpu().numpy().reshape(22,22)\n",
        "\n",
        "      # Create a plot\n",
        "      fig, ax = plt.subplots(figsize=(8, 8))\n",
        "      cax = ax.matshow(adj_matrix, cmap='viridis', interpolation='nearest',vmin=0, vmax=1)  # Adjust color map\n",
        "      fig.colorbar(cax)\n",
        "\n",
        "      # Save the adjacency matrix as an image (not as a graph)\n",
        "      plt.tight_layout()\n",
        "      img_path = f\"adj_matrix_epoch_{epoch}.png\"\n",
        "      plt.savefig(img_path)\n",
        "      plt.close()\n",
        "\n",
        "      # Log results to wandb\n",
        "      wandb.log({\n",
        "          \"epoch\": epoch,\n",
        "          \"train_loss\": train_loss,\n",
        "          \"train_accuracy\": train_accuracy * 100,\n",
        "          \"test_loss\": test_loss,\n",
        "          \"test_accuracy\": test_accuracy,\n",
        "          \"learning_rate\": scheduler.get_last_lr()[0],\n",
        "          **{f\"class_{class_idx}_accuracy\": acc for class_idx, acc in class_accuracies.items()},\n",
        "          \"adj_matrix\": wandb.Image(img_path),\n",
        "      })\n",
        "\n",
        "      print(\n",
        "          f\"Train Accuracy: {100 * train_accuracy:.2f}%, \"\n",
        "          f\"Average Train Loss: {train_loss:.6f}, \"\n",
        "          f\"Test Accuracy: {test_accuracy:.2f}%, \"\n",
        "          f\"Average Test Loss: {test_loss:.6f}\\n\"\n",
        "      )\n",
        "\n",
        "  # Convert lists to NumPy arrays\n",
        "  all_preds = np.array(all_preds)\n",
        "  all_targets = np.array(all_targets)\n",
        "\n",
        "  # Save predictions & true labels for later use (confusion matrix)\n",
        "  wandb.log({\"all_preds\": all_preds.tolist(), \"all_targets\": all_targets.tolist()})\n",
        "  wandb.finish()\n",
        "\n",
        "  # Assuming 'model' is your trained Braindecode model\n",
        "  print(seed)\n",
        "  torch.save(model, f\"{model.__class__.__name__}_{math.ceil(final_acc)}_{seed}.pth\")\n",
        "  torch.save(model.state_dict(), f\"{model.__class__.__name__}_{math.ceil(final_acc)}_{seed}_state.pth\")\n",
        "\n",
        "\n"
      ]
    },
    {
      "cell_type": "code",
      "execution_count": 13,
      "metadata": {
        "id": "_EeozMvYlqbs",
        "colab": {
          "base_uri": "https://localhost:8080/",
          "height": 703
        },
        "outputId": "e024dbea-0f0c-4078-bdce-4aad3743f7dc"
      },
      "outputs": [
        {
          "output_type": "display_data",
          "data": {
            "text/plain": [
              "<IPython.core.display.HTML object>"
            ],
            "text/html": []
          },
          "metadata": {}
        },
        {
          "output_type": "display_data",
          "data": {
            "text/plain": [
              "<IPython.core.display.HTML object>"
            ],
            "text/html": [
              "<br>    <style><br>        .wandb-row {<br>            display: flex;<br>            flex-direction: row;<br>            flex-wrap: wrap;<br>            justify-content: flex-start;<br>            width: 100%;<br>        }<br>        .wandb-col {<br>            display: flex;<br>            flex-direction: column;<br>            flex-basis: 100%;<br>            flex: 1;<br>            padding: 10px;<br>        }<br>    </style><br><div class=\"wandb-row\"><div class=\"wandb-col\"><h3>Run history:</h3><br/><table class=\"wandb\"><tr><td>class_0_accuracy</td><td>▆▂▁▂▃▄▃▄▄▅▅▅▅▆▆▇▆▆▆█▆▆▆█▆▇▆▇▆▇▇▆▇▇▆▆▇▇▇▇</td></tr><tr><td>class_1_accuracy</td><td>▁▁▂▂▁▃▄▄▆▅▅▅▇▅▆▇█▆▇▇▇▇▇▇▇▇▇▇▇▇▇▇▇▇▇▇▇▇▇▇</td></tr><tr><td>class_2_accuracy</td><td>▁▁▂▂▂▅▅▆▆▅▆▆▆▆▆█▇█▇▇▇▇▇████▇▇███████████</td></tr><tr><td>class_3_accuracy</td><td>▁▄▄▅▆▆█▇▇▇▇██████▇█▇█▇▇▇█▇▇▇████████████</td></tr><tr><td>epoch</td><td>▁▁▁▂▂▂▂▃▃▃▃▃▄▄▄▄▄▄▄▅▅▅▅▅▅▆▆▆▆▆▆▇▇▇▇█████</td></tr><tr><td>learning_rate</td><td>█████▇▇▇▇▇▇▇▇▇▆▆▅▅▅▄▄▄▃▃▃▃▃▃▂▂▂▂▁▁▁▁▁▁▁▁</td></tr><tr><td>test_accuracy</td><td>▁▃▃▃▅▅▅▅▆▇▇▇▇▇▇▇█▇▇█████████████████████</td></tr><tr><td>test_loss</td><td>██▇▇▆▅▅▄▄▄▃▂▂▃▂▂▂▂▂▁▁▁▁▁▁▁▁▁▁▁▁▁▁▁▁▁▁▁▁▁</td></tr><tr><td>train_accuracy</td><td>▁▁▂▃▄▅▅▅▆▆▆▆▆▆▇▇▇▇▇▇▇▇▇▇████████████████</td></tr><tr><td>train_loss</td><td>██▇▆▆▆▅▄▄▄▄▃▃▃▃▃▂▂▂▂▂▂▂▁▁▁▁▁▁▁▁▁▁▁▁▁▁▁▁▁</td></tr></table><br/></div><div class=\"wandb-col\"><h3>Run summary:</h3><br/><table class=\"wandb\"><tr><td>class_0_accuracy</td><td>47.99383</td></tr><tr><td>class_1_accuracy</td><td>55.40123</td></tr><tr><td>class_2_accuracy</td><td>63.42593</td></tr><tr><td>class_3_accuracy</td><td>57.09877</td></tr><tr><td>epoch</td><td>100</td></tr><tr><td>learning_rate</td><td>0.0</td></tr><tr><td>test_accuracy</td><td>55.97994</td></tr><tr><td>test_loss</td><td>1.014</td></tr><tr><td>train_accuracy</td><td>60.84105</td></tr><tr><td>train_loss</td><td>0.94439</td></tr></table><br/></div></div>"
            ]
          },
          "metadata": {}
        },
        {
          "output_type": "display_data",
          "data": {
            "text/plain": [
              "<IPython.core.display.HTML object>"
            ],
            "text/html": [
              " View run <strong style=\"color:#cdcd00\">ShallowRGNNNet 282828</strong> at: <a href='https://wandb.ai/philinthesky/Master%20Thesis/runs/5zundlkd' target=\"_blank\">https://wandb.ai/philinthesky/Master%20Thesis/runs/5zundlkd</a><br> View project at: <a href='https://wandb.ai/philinthesky/Master%20Thesis' target=\"_blank\">https://wandb.ai/philinthesky/Master%20Thesis</a><br>Synced 5 W&B file(s), 100 media file(s), 0 artifact file(s) and 0 other file(s)"
            ]
          },
          "metadata": {}
        },
        {
          "output_type": "display_data",
          "data": {
            "text/plain": [
              "<IPython.core.display.HTML object>"
            ],
            "text/html": [
              "Find logs at: <code>./wandb/run-20250325_175110-5zundlkd/logs</code>"
            ]
          },
          "metadata": {}
        }
      ],
      "source": []
    },
    {
      "cell_type": "code",
      "execution_count": 14,
      "metadata": {
        "id": "r25kGBA32Zhm",
        "colab": {
          "base_uri": "https://localhost:8080/"
        },
        "outputId": "88e66dbd-9a8d-4a61-f697-4bd044791b08"
      },
      "outputs": [
        {
          "output_type": "stream",
          "name": "stdout",
          "text": [
            "282828\n"
          ]
        }
      ],
      "source": []
    },
    {
      "cell_type": "code",
      "execution_count": 14,
      "metadata": {
        "id": "6oTC35YwpAzQ"
      },
      "outputs": [],
      "source": []
    }
  ],
  "metadata": {
    "accelerator": "GPU",
    "colab": {
      "gpuType": "T4",
      "provenance": []
    },
    "kernelspec": {
      "display_name": "Python 3",
      "name": "python3"
    },
    "language_info": {
      "codemirror_mode": {
        "name": "ipython",
        "version": 3
      },
      "file_extension": ".py",
      "mimetype": "text/x-python",
      "name": "python",
      "nbconvert_exporter": "python",
      "pygments_lexer": "ipython3",
      "version": "3.12.9"
    }
  },
  "nbformat": 4,
  "nbformat_minor": 0
}