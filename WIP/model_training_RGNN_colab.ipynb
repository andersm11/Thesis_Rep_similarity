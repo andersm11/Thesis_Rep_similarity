{
  "cells": [
    {
      "cell_type": "code",
      "execution_count": null,
      "metadata": {
        "colab": {
          "base_uri": "https://localhost:8080/"
        },
        "id": "82Vbwzg32ZhZ",
        "outputId": "a1c38307-e6fe-4fb3-c40f-584fbe3c6c55"
      },
      "outputs": [],
      "source": [
        "import sys\n",
        "import importlib\n",
        "import subprocess\n",
        "\n",
        "def install_if_colab():\n",
        "    if \"google.colab\" in sys.modules:\n",
        "        print(\"Running in Google Colab. Checking required libraries...\")\n",
        "\n",
        "        packages = [\"moabb\", \"braindecode\",\"torch_geometric\"]  # Add required libraries\n",
        "        missing_packages = [pkg for pkg in packages if importlib.util.find_spec(pkg) is None]\n",
        "\n",
        "        if missing_packages:\n",
        "            print(f\"Installing missing libraries: {', '.join(missing_packages)}\")\n",
        "            !pip install {\" \".join(missing_packages)}\n",
        "        else:\n",
        "            print(\"All required libraries are already installed.\")\n",
        "    else:\n",
        "        print(\"Not running in Google Colab. No installation needed.\")\n",
        "\n",
        "install_if_colab()\n"
      ]
    },
    {
      "cell_type": "code",
      "execution_count": null,
      "metadata": {
        "colab": {
          "base_uri": "https://localhost:8080/"
        },
        "id": "f_sHCnT22v9k",
        "outputId": "49affab3-7a8a-4b31-e8de-99bef413a1b8"
      },
      "outputs": [],
      "source": [
        "from google.colab import drive\n",
        "drive.mount('/content/drive')\n",
        "path = \"/content/drive/MyDrive/\""
      ]
    },
    {
      "cell_type": "code",
      "execution_count": null,
      "metadata": {
        "id": "1osynJth26to"
      },
      "outputs": [],
      "source": [
        "import pickle\n",
        "with open(path+'EEG_data/test_set.pkl', 'rb') as f:\n",
        "    test_set = pickle.load(f)\n",
        "\n",
        "import pickle\n",
        "with open(path+'EEG_data/train_set.pkl', 'rb') as f:\n",
        "    train_set = pickle.load(f)"
      ]
    },
    {
      "cell_type": "code",
      "execution_count": null,
      "metadata": {
        "colab": {
          "base_uri": "https://localhost:8080/"
        },
        "id": "Xba9vjnO2Zhg",
        "outputId": "1cfef59b-25c9-4493-8074-70c1a131ccf6"
      },
      "outputs": [],
      "source": [
        "import torch\n",
        "#from shallow_fbcsp import ShallowFBCSPNet\n",
        "from braindecode.util import set_random_seeds\n",
        "import torch.nn.functional as F\n",
        "\n",
        "\n",
        "cuda = torch.cuda.is_available()  # check if GPU is available, if True chooses to use it\n",
        "device = \"cuda\" if cuda else \"cpu\"\n",
        "if cuda:\n",
        "    torch.backends.cudnn.benchmark = True\n",
        "seed = 282828\n",
        "set_random_seeds(seed=seed, cuda=cuda)\n",
        "\n",
        "n_classes = 4\n",
        "classes = list(range(n_classes))\n",
        "# Extract number of chans and time steps from dataset\n",
        "n_channels = 22\n",
        "input_window_samples = 1125\n",
        "\n",
        "print(\"n_classes: \", n_classes)\n",
        "print(\"n_channels:\", n_channels)\n",
        "print(\"input_window_samples size:\", input_window_samples)"
      ]
    },
    {
      "cell_type": "code",
      "execution_count": null,
      "metadata": {
        "colab": {
          "base_uri": "https://localhost:8080/"
        },
        "id": "b3wPzn3X2Zhh",
        "outputId": "9abe0b1b-a87e-4fca-c55f-849bb0bff3e6"
      },
      "outputs": [],
      "source": [
        "#from models_fbscp import CollapsedShallowNet\n",
        "# The ShallowFBCSPNet is a `nn.Sequential` model\n",
        "import importlib\n",
        "import RGNN\n",
        "importlib.reload(RGNN)\n",
        "from RGNN import ShallowRGNNNet\n",
        "from weight_init import init_weights\n",
        "from CKA_functions import adjacency_matrix_motion,adjacency_matrix_distance_motion\n",
        "adj_m,pos = adjacency_matrix_motion()\n",
        "#print(adj_m)\n",
        "adj_dis_m, dm = adjacency_matrix_distance_motion(pos,delta=5)\n",
        "dm\n",
        "torch_tensor = torch.from_numpy(dm)\n",
        "edge_weight = torch_tensor.reshape(-1).to(device)\n",
        "print(edge_weight.shape)\n",
        "\n",
        "model = ShallowSGCNNet(22,4,1125,edge_weight)\n",
        "\n",
        "# Display torchinfo table describing the model\n",
        "print(model)\n",
        "\n",
        "# Send model to GPU\n",
        "if cuda:\n",
        "    model.cuda()\n",
        "\n"
      ]
    },
    {
      "cell_type": "code",
      "execution_count": null,
      "metadata": {
        "id": "nDl5hBP4DonW"
      },
      "outputs": [],
      "source": []
    },
    {
      "cell_type": "code",
      "execution_count": null,
      "metadata": {
        "id": "n7Eii9TH2Zhi"
      },
      "outputs": [],
      "source": [
        "# splitted = windows_dataset.split(\"session\")\n",
        "# train_set = splitted['0train']  # Session train\n",
        "# test_set = splitted['1test']  # Session evaluation\n",
        "\n",
        "from torch.nn import Module\n",
        "from torch.optim.lr_scheduler import LRScheduler\n",
        "from torch.utils.data import DataLoader\n",
        "\n",
        "#lr = 1e-4\n",
        "#weight_decay = 1e-4\n",
        "#batch_size = 64\n",
        "#n_epochs = 200\n"
      ]
    },
    {
      "cell_type": "code",
      "execution_count": null,
      "metadata": {
        "id": "inbw4Tud2Zhj"
      },
      "outputs": [],
      "source": [
        "#train_loader = DataLoader(train_set, batch_size=batch_size, shuffle=True)\n",
        "#progress_bar = tqdm(enumerate(train_loader), total=len(train_loader))\n",
        "\n",
        "\n",
        "#from collections import defaultdict\n",
        "\n",
        "#counting_dict = defaultdict(int)  # Initialize class counter\n",
        "\n",
        "#for batch_idx, (X, y, _) in progress_bar:\n",
        "#   X, y = X.to(device), y.to(device)  # Move to device if needed\n",
        "\n",
        "    # Count occurrences of each class in y\n",
        "#    for value in y:\n",
        "#        counting_dict[int(value.item())] += 1  # Convert tensor to int and update count\n",
        "\n",
        "# Print class frequencies\n",
        "#print(\"Class counts:\", dict(counting_dict))\n"
      ]
    },
    {
      "cell_type": "code",
      "execution_count": null,
      "metadata": {
        "id": "PlgtbF-r2Zhj"
      },
      "outputs": [],
      "source": [
        "\n",
        "from tqdm import tqdm\n",
        "# Define a method for training one epoch\n",
        "\n",
        "\n",
        "def train_one_epoch(\n",
        "        dataloader: DataLoader, model: Module,edge_index, loss_fn, optimizer,\n",
        "        scheduler: LRScheduler, epoch: int, device, print_batch_stats=True\n",
        "):\n",
        "    model.train()  # Set the model to training mode\n",
        "    train_loss, correct = 0, 0\n",
        "\n",
        "    progress_bar = tqdm(enumerate(dataloader), total=len(dataloader),\n",
        "                        disable=not print_batch_stats)\n",
        "\n",
        "    for batch_idx, (X, y, _) in progress_bar:\n",
        "        X, y = X.to(device), y.to(device)\n",
        "        #print(y)\n",
        "        #print(X.shape)\n",
        "        optimizer.zero_grad()\n",
        "        pred = model(X,edge_index)\n",
        "\n",
        "\n",
        "        #print(y.shape)\n",
        "        #print(pred.shape)\n",
        "        loss = loss_fn(pred, y)\n",
        "        loss.backward()\n",
        "        optimizer.step()  # update the model weights\n",
        "        optimizer.zero_grad()\n",
        "        #print(loss.item())\n",
        "        #print(loss)\n",
        "        #print(train_loss)\n",
        "        train_loss += loss.item()\n",
        "        correct += (pred.argmax(1) == y).sum().item()\n",
        "\n",
        "        #if print_batch_stats:\n",
        "        #    progress_bar.set_description(\n",
        "        #        f\"Epoch {epoch}/{n_epochs}, \"\n",
        "        #        f\"Batch {batch_idx + 1}/{len(dataloader)}, \"\n",
        "        #        f\"Loss: {loss.item():.6f}\"\n",
        "        #    )\n",
        "\n",
        "    # Update the learning rate\n",
        "    scheduler.step()\n",
        "\n",
        "    correct /= len(dataloader.dataset)\n",
        "    return train_loss / len(dataloader), correct\n"
      ]
    },
    {
      "cell_type": "code",
      "execution_count": null,
      "metadata": {
        "id": "M1S-1vTK2Zhk"
      },
      "outputs": [],
      "source": [
        "from collections import defaultdict\n",
        "from tqdm import tqdm\n",
        "import torch\n",
        "from torch.utils.data import DataLoader\n",
        "from sklearn.metrics import confusion_matrix\n",
        "import numpy as np\n",
        "\n",
        "@torch.no_grad()\n",
        "def test_model(dataloader: DataLoader, model: torch.nn.Module,edge_index, loss_fn, print_batch_stats=True):\n",
        "    device = next(model.parameters()).device  # Get model device\n",
        "    size = len(dataloader.dataset)\n",
        "    n_batches = len(dataloader)\n",
        "    model.eval()  # Switch to evaluation mode\n",
        "    test_loss, correct = 0, 0\n",
        "\n",
        "    # Initialize dictionaries for per-class tracking\n",
        "    class_correct = defaultdict(int)\n",
        "    class_total = defaultdict(int)\n",
        "\n",
        "    # Lists to store true and predicted labels for confusion matrix\n",
        "    all_preds = []\n",
        "    all_targets = []\n",
        "\n",
        "    if print_batch_stats:\n",
        "        progress_bar = tqdm(enumerate(dataloader), total=len(dataloader))\n",
        "    else:\n",
        "        progress_bar = enumerate(dataloader)\n",
        "\n",
        "    for batch_idx, (X, y, _) in progress_bar:\n",
        "        X, y = X.to(device), y.to(device)\n",
        "        pred = model(X,edge_index)\n",
        "        batch_loss = loss_fn(pred, y).item()\n",
        "\n",
        "        test_loss += batch_loss\n",
        "        correct += (pred.argmax(1) == y).sum().item()\n",
        "\n",
        "        # Store predictions and true labels for confusion matrix\n",
        "        all_preds.append(pred.argmax(1).cpu())\n",
        "        all_targets.append(y.cpu())\n",
        "\n",
        "        # Compute per-class accuracy\n",
        "        preds_labels = pred.argmax(1)\n",
        "        for label, pred_label in zip(y, preds_labels):\n",
        "            class_total[label.item()] += 1\n",
        "            class_correct[label.item()] += (label == pred_label).item()\n",
        "\n",
        "        if print_batch_stats:\n",
        "            progress_bar.set_description(\n",
        "                f\"Batch {batch_idx + 1}/{len(dataloader)}, Loss: {batch_loss:.6f}\"\n",
        "            )\n",
        "\n",
        "    # Convert lists to tensors\n",
        "    all_preds = torch.cat(all_preds)\n",
        "    all_targets = torch.cat(all_targets)\n",
        "\n",
        "    # Compute per-class accuracy\n",
        "    class_accuracies = {\n",
        "        cls: (class_correct[cls] / class_total[cls]) * 100 if class_total[cls] > 0 else 0\n",
        "        for cls in class_total\n",
        "    }\n",
        "\n",
        "    # Compute overall accuracy\n",
        "    test_loss /= n_batches\n",
        "    overall_accuracy = (correct / size) * 100\n",
        "\n",
        "    # Print per-class accuracy\n",
        "    print(\"\\nClass-wise Accuracy:\")\n",
        "    for cls, acc in class_accuracies.items():\n",
        "        print(f\"  Class {cls}: {acc:.2f}%\")\n",
        "\n",
        "    print(f\"Test Accuracy: {overall_accuracy:.1f}%, Test Loss: {test_loss:.6f}\\n\")\n",
        "\n",
        "\n",
        "\n",
        "    return test_loss, overall_accuracy, class_accuracies, all_preds, all_targets\n"
      ]
    },
    {
      "cell_type": "code",
      "execution_count": null,
      "metadata": {
        "colab": {
          "base_uri": "https://localhost:8080/"
        },
        "id": "G-Pqn7mpqcOb",
        "outputId": "4fd76ae6-eda8-4e22-b1e9-6a3edb4f8653"
      },
      "outputs": [],
      "source": [
        "import wandb\n",
        "wandb.login()"
      ]
    },
    {
      "cell_type": "code",
      "execution_count": null,
      "metadata": {
        "id": "TI5GEmbX4vG6"
      },
      "outputs": [],
      "source": [
        "\n",
        "\n",
        "def get_e_index(dm):\n",
        "  threshold = 0  # Adjust as needed\n",
        "\n",
        "  source_nodes = []\n",
        "  target_nodes = []\n",
        "\n",
        "  # Iterate over all elements in the distance matrix, including self-loops and duplicates\n",
        "  for i in range(dm.shape[0]):\n",
        "      for j in range(dm.shape[1]):  # Iterate over all pairs, including (i, i)\n",
        "          if dm[i, j] >= threshold:  # If the distance meets the condition\n",
        "              source_nodes.append(i)  # Source node\n",
        "              target_nodes.append(j)  # Target node\n",
        "\n",
        "  # Create the edge_index tensor\n",
        "  edge_index = torch.tensor([source_nodes, target_nodes], dtype=torch.long).to(device)"
      ]
    },
    {
      "cell_type": "code",
      "execution_count": null,
      "metadata": {
        "colab": {
          "base_uri": "https://localhost:8080/",
          "height": 1000
        },
        "id": "uDUBctmi2Zhl",
        "outputId": "05f056e8-c707-4f5b-8719-235f7facad5a"
      },
      "outputs": [],
      "source": [
        "import torch\n",
        "import wandb\n",
        "from torch.utils.data import DataLoader\n",
        "from torch.optim import AdamW\n",
        "from torch.optim.lr_scheduler import CosineAnnealingLR\n",
        "from torch.nn import CrossEntropyLoss\n",
        "import numpy as np\n",
        "import matplotlib.pyplot as plt\n",
        "import math\n",
        "\n",
        "seeds = [99999,182726,91111222,44552222,12223111,100300,47456655,4788347,77766666,809890]\n",
        "for _seed in seeds:\n",
        "  seed = _seed\n",
        "  set_random_seeds(seed=seed, cuda=cuda)\n",
        "  adj_m,pos = adjacency_matrix_motion()\n",
        "  #print(adj_m)\n",
        "  adj_dis_m, dm = adjacency_matrix_distance_motion(pos,delta=5)\n",
        "  dm\n",
        "  torch_tensor = torch.from_numpy(dm)\n",
        "  edge_weight = torch_tensor.reshape(-1).to(device)\n",
        "  model = ShallowSGCNNet(\n",
        "      n_chans=22,\n",
        "      n_outputs=n_classes,\n",
        "      n_times=input_window_samples,\n",
        "  )\n",
        "\n",
        "  if cuda:\n",
        "      model.cuda()\n",
        "\n",
        "  edge_index = get_e_index(dm)\n",
        "  # Initialize Weights & Biases\n",
        "  wandb.init(project=\"Master Thesis\", name=f\"{model.__class__.__name__} {seed}\")\n",
        "  model.apply(init_weights)\n",
        "  # Define hyperparameters\n",
        "  lr = 1e-3\n",
        "  weight_decay = 1e-4\n",
        "  batch_size = 64  # Start with 124\n",
        "  n_epochs = 100\n",
        "\n",
        "  final_acc = 0.0\n",
        "\n",
        "  # Log hyperparameters to wandb\n",
        "  wandb.config.update({\n",
        "      \"learning_rate\": lr,\n",
        "      \"weight_decay\": weight_decay,\n",
        "      \"batch_size\": batch_size,\n",
        "      \"epochs\": n_epochs\n",
        "  })\n",
        "\n",
        "  # Define optimizer and scheduler\n",
        "  optimizer = AdamW(model.parameters(), lr=lr, weight_decay=weight_decay)\n",
        "  scheduler = CosineAnnealingLR(optimizer, T_max=n_epochs - 1)\n",
        "\n",
        "  # Define loss function\n",
        "  loss_fn = CrossEntropyLoss()\n",
        "\n",
        "  # Create DataLoaders\n",
        "  train_loader = DataLoader(train_set, batch_size=batch_size, shuffle=True)\n",
        "  test_loader = DataLoader(test_set, batch_size=batch_size)\n",
        "\n",
        "  # Initialize lists to store all predictions & targets\n",
        "  all_preds, all_targets = [], []\n",
        "\n",
        "  # Training loop\n",
        "  for epoch in range(1, n_epochs + 1):\n",
        "      print(f\"Epoch {epoch}/{n_epochs}: \", end=\"\")\n",
        "\n",
        "      train_loss, train_accuracy = train_one_epoch(\n",
        "          train_loader, model,edge_index, loss_fn, optimizer, scheduler, epoch, device\n",
        "      )\n",
        "\n",
        "      test_loss, test_accuracy, class_accuracies, batch_preds, batch_targets = test_model(test_loader, model,edge_index, loss_fn)\n",
        "      final_acc = test_accuracy\n",
        "\n",
        "      # Store predictions & labels for confusion matrix\n",
        "      all_preds.extend(batch_preds)\n",
        "      all_targets.extend(batch_targets)\n",
        "\n",
        "      # Print class-wise accuracy\n",
        "      print(\"\\nClass-wise Accuracy:\")\n",
        "      for class_idx, acc in class_accuracies.items():\n",
        "          print(f\"  Class {class_idx}: {acc:.2f}%\")\n",
        "\n",
        "      adj_matrix = model.rgnn.edge_weights.detach().cpu().numpy().reshape(22,22)\n",
        "\n",
        "      # Create a plot\n",
        "      fig, ax = plt.subplots(figsize=(8, 8))\n",
        "      cax = ax.matshow(adj_matrix, cmap='viridis', interpolation='nearest',vmin=0, vmax=1)  # Adjust color map\n",
        "      fig.colorbar(cax)\n",
        "\n",
        "      # Save the adjacency matrix as an image (not as a graph)\n",
        "      plt.tight_layout()\n",
        "      img_path = f\"adj_matrix_epoch_{epoch}.png\"\n",
        "      plt.savefig(img_path)\n",
        "      plt.close()\n",
        "\n",
        "      # Log results to wandb\n",
        "      wandb.log({\n",
        "          \"epoch\": epoch,\n",
        "          \"train_loss\": train_loss,\n",
        "          \"train_accuracy\": train_accuracy * 100,\n",
        "          \"test_loss\": test_loss,\n",
        "          \"test_accuracy\": test_accuracy,\n",
        "          \"learning_rate\": scheduler.get_last_lr()[0],\n",
        "          **{f\"class_{class_idx}_accuracy\": acc for class_idx, acc in class_accuracies.items()},\n",
        "          \"adj_matrix\": wandb.Image(img_path),\n",
        "      })\n",
        "\n",
        "      print(\n",
        "          f\"Train Accuracy: {100 * train_accuracy:.2f}%, \"\n",
        "          f\"Average Train Loss: {train_loss:.6f}, \"\n",
        "          f\"Test Accuracy: {test_accuracy:.2f}%, \"\n",
        "          f\"Average Test Loss: {test_loss:.6f}\\n\"\n",
        "      )\n",
        "\n",
        "  # Convert lists to NumPy arrays\n",
        "  all_preds = np.array(all_preds)\n",
        "  all_targets = np.array(all_targets)\n",
        "\n",
        "  # Save predictions & true labels for later use (confusion matrix)\n",
        "  wandb.log({\"all_preds\": all_preds.tolist(), \"all_targets\": all_targets.tolist()})\n",
        "  wandb.finish()\n",
        "\n",
        "  # Assuming 'model' is your trained Braindecode model\n",
        "  print(seed)\n",
        "  torch.save(model, f\"{model.__class__.__name__}_{math.ceil(final_acc)}_{seed}.pth\")\n",
        "  torch.save(model.state_dict(), f\"{model.__class__.__name__}_{math.ceil(final_acc)}_{seed}_state.pth\")\n",
        "\n",
        "\n"
      ]
    },
    {
      "cell_type": "code",
      "execution_count": null,
      "metadata": {
        "colab": {
          "base_uri": "https://localhost:8080/",
          "height": 703
        },
        "id": "_EeozMvYlqbs",
        "outputId": "e024dbea-0f0c-4078-bdce-4aad3743f7dc"
      },
      "outputs": [],
      "source": []
    },
    {
      "cell_type": "code",
      "execution_count": null,
      "metadata": {
        "colab": {
          "base_uri": "https://localhost:8080/"
        },
        "id": "r25kGBA32Zhm",
        "outputId": "88e66dbd-9a8d-4a61-f697-4bd044791b08"
      },
      "outputs": [],
      "source": []
    },
    {
      "cell_type": "code",
      "execution_count": null,
      "metadata": {
        "id": "6oTC35YwpAzQ"
      },
      "outputs": [],
      "source": []
    }
  ],
  "metadata": {
    "accelerator": "GPU",
    "colab": {
      "gpuType": "T4",
      "provenance": []
    },
    "kernelspec": {
      "display_name": "Python 3",
      "name": "python3"
    },
    "language_info": {
      "codemirror_mode": {
        "name": "ipython",
        "version": 3
      },
      "file_extension": ".py",
      "mimetype": "text/x-python",
      "name": "python",
      "nbconvert_exporter": "python",
      "pygments_lexer": "ipython3",
      "version": "3.12.9"
    }
  },
  "nbformat": 4,
  "nbformat_minor": 0
}
