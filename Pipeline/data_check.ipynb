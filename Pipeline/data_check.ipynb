{
 "cells": [
  {
   "cell_type": "code",
   "execution_count": 1,
   "metadata": {},
   "outputs": [],
   "source": [
    "import torch\n",
    "import numpy as np"
   ]
  },
  {
   "cell_type": "code",
   "execution_count": 2,
   "metadata": {},
   "outputs": [
    {
     "name": "stdout",
     "output_type": "stream",
     "text": [
      "No data leakage detected between the datasets.\n"
     ]
    }
   ],
   "source": [
    "import torch\n",
    "import numpy as np\n",
    "\n",
    "# Load the datasets\n",
    "test_set = torch.load('Datasets/emotion_test_set.pt')\n",
    "train_set = torch.load('Datasets/emotion_train_set.pt')\n",
    "\n",
    "# Convert datasets to sets of unique samples\n",
    "test_set_unique = set(map(tuple, test_set))\n",
    "train_set_unique = set(map(tuple, train_set))\n",
    "\n",
    "# Check for intersection\n",
    "data_leakage = test_set_unique.intersection(train_set_unique)\n",
    "\n",
    "if data_leakage:\n",
    "    print(\"Data leakage detected! Overlapping samples:\")\n",
    "    for sample in data_leakage:\n",
    "        print(sample)\n",
    "else:\n",
    "    print(\"No data leakage detected between the datasets.\")"
   ]
  },
  {
   "cell_type": "code",
   "execution_count": 3,
   "metadata": {},
   "outputs": [],
   "source": [
    "tensors = [sublist[0] for sublist in train_set]  # Extract the first tensor in each tuple\n",
    "labels = [sublist[1] for sublist in train_set]"
   ]
  },
  {
   "cell_type": "code",
   "execution_count": 4,
   "metadata": {},
   "outputs": [
    {
     "name": "stdout",
     "output_type": "stream",
     "text": [
      "Overlap between train_set and test_set: set()\n"
     ]
    }
   ],
   "source": [
    "overlap = set(train_set).intersection(test_set)\n",
    "print(f\"Overlap between train_set and test_set: {overlap}\")"
   ]
  },
  {
   "cell_type": "code",
   "execution_count": 5,
   "metadata": {},
   "outputs": [
    {
     "name": "stdout",
     "output_type": "stream",
     "text": [
      "22353\n",
      "89409\n"
     ]
    }
   ],
   "source": [
    "train_tensors = [sublist[0] for sublist in train_set]  # Extract the first tensor in each tuple\n",
    "train_labels = [sublist[1] for sublist in train_set]\n",
    "\n",
    "test_tensors = [sublist[0] for sublist in test_set]  # Extract the first tensor in each tuple\n",
    "test_labels = [sublist[1] for sublist in test_set]\n",
    "\n",
    "print(len(test_labels))\n",
    "print(len(train_labels))"
   ]
  },
  {
   "cell_type": "code",
   "execution_count": 6,
   "metadata": {},
   "outputs": [
    {
     "name": "stdout",
     "output_type": "stream",
     "text": [
      "tensor([[ 0.9150,  0.8747,  0.5803,  ..., -0.2005, -0.1347, -0.3848],\n",
      "        [ 1.7004,  1.6020,  1.6953,  ...,  1.0995,  0.8411,  0.8266],\n",
      "        [ 0.7192,  0.8144,  0.8551,  ...,  0.2869,  0.0526, -0.1273],\n",
      "        ...,\n",
      "        [-0.8671, -0.8598, -0.8854,  ..., -0.8429, -0.8595, -0.9021],\n",
      "        [-0.6019, -0.5692, -0.6069,  ..., -0.5514, -0.5329, -0.5943],\n",
      "        [-1.3706, -1.3457, -1.3528,  ..., -1.3049, -1.3285, -1.3405]])\n",
      "tensor([[-0.5158, -0.6248, -0.6551,  ..., -0.4628, -0.5278, -0.4867],\n",
      "        [-1.2126, -1.2868, -1.2099,  ..., -1.5684, -1.4594, -1.3268],\n",
      "        [-0.8480, -0.9666, -1.3216,  ..., -1.5301, -1.5275, -1.4339],\n",
      "        ...,\n",
      "        [-0.4385, -0.4423, -0.4248,  ..., -1.4230, -1.4142, -1.4046],\n",
      "        [-0.7436, -0.7013, -0.6265,  ..., -1.3699, -1.3475, -1.3313],\n",
      "        [-0.1592, -0.1750, -0.1235,  ..., -0.8981, -0.8791, -0.8352]])\n"
     ]
    }
   ],
   "source": [
    "print(train_tensors[0])\n",
    "print(test_tensors[0])"
   ]
  },
  {
   "cell_type": "code",
   "execution_count": 7,
   "metadata": {},
   "outputs": [],
   "source": [
    "assert len(set(test_tensors).intersection(set(train_tensors))) == 0, \"Overlap detected!\""
   ]
  },
  {
   "cell_type": "code",
   "execution_count": null,
   "metadata": {},
   "outputs": [],
   "source": []
  }
 ],
 "metadata": {
  "kernelspec": {
   "display_name": "Python 3",
   "language": "python",
   "name": "python3"
  },
  "language_info": {
   "codemirror_mode": {
    "name": "ipython",
    "version": 3
   },
   "file_extension": ".py",
   "mimetype": "text/x-python",
   "name": "python",
   "nbconvert_exporter": "python",
   "pygments_lexer": "ipython3",
   "version": "3.12.9"
  }
 },
 "nbformat": 4,
 "nbformat_minor": 2
}
