{
 "cells": [
  {
   "cell_type": "code",
   "execution_count": null,
   "id": "4dbbfa4a",
   "metadata": {},
   "outputs": [],
   "source": [
    "import sys\n",
    "import importlib\n",
    "import subprocess\n",
    "import math\n",
    "import torch\n",
    "\n",
    "\n",
    "def install_if_colab():\n",
    "    if \"google.colab\" in sys.modules:\n",
    "        print(\"Running in Google Colab. Checking required libraries...\")\n",
    "\n",
    "        packages = [\"moabb\", \"braindecode\", \"torch_geometric\"]  # Add required libraries\n",
    "        missing_packages = [pkg for pkg in packages if importlib.util.find_spec(pkg) is None]\n",
    "\n",
    "        if missing_packages:\n",
    "            print(f\"Installing missing libraries: {', '.join(missing_packages)}\")\n",
    "            !pip install {\" \".join(missing_packages)}\n",
    "        else:\n",
    "            print(\"All required libraries are already installed.\")\n",
    "    else:\n",
    "        print(\"Not running in Google Colab. No installation needed.\")\n",
    "\n",
    "install_if_colab()\n"
   ]
  },
  {
   "cell_type": "code",
   "execution_count": null,
   "id": "604ea1ed",
   "metadata": {},
   "outputs": [],
   "source": [
    "from google.colab import drive\n",
    "drive.mount('/content/drive')\n",
    "path = \"/content/drive/MyDrive/\""
   ]
  },
  {
   "cell_type": "code",
   "execution_count": null,
   "id": "a6f02081",
   "metadata": {},
   "outputs": [],
   "source": []
  },
  {
   "cell_type": "code",
   "execution_count": null,
   "id": "05e81e17",
   "metadata": {},
   "outputs": [],
   "source": [
    "from CKA_functions import compute_all_model_kernels,compute_all_model_CKA,load_model_metadata,plot_cka_heatmaps\n",
    "from CKA_functions import load_dataset,fix_dataset_shape,compute_cross_model_cka,display_cka_matrix,compute_multi_model_kernels,display_differences_matrix_og\n",
    "from CKA_functions import compose_heat_matrix\n",
    "import numpy as np\n",
    "import os\n",
    "import torch\n",
    "model_direc = \"models\"\n",
    "activation_direc = \"activations\"\n",
    "kernel_direc = \"kernels\"\n",
    "use_cuda = torch.cuda.is_available()\n",
    "device = torch.device(\"cuda\" if use_cuda and torch.cuda.is_available() else \"cpu\")\n",
    "\n",
    "\n",
    "\n"
   ]
  },
  {
   "cell_type": "code",
   "execution_count": null,
   "id": "a59a5c08",
   "metadata": {},
   "outputs": [],
   "source": [
    "import pickle\n",
    "X = torch.load(path+'EEG_data/emotion_test_set.pt')\n",
    "X = [sublist[0] for sublist in X]  # Extract the first tensor in each tuple\n",
    "X = torch.stack(X)  # Stack the tensors into a single tensor\n",
    "\n",
    "print(X.shape)\n"
   ]
  },
  {
   "cell_type": "code",
   "execution_count": null,
   "id": "08a87851",
   "metadata": {},
   "outputs": [],
   "source": [
    "layer_names=[\"sgconv\",\"spatial\",\"spatial_att\"]\n",
    "batch_size = 288\n",
    "n_batches = 4\n",
    "compute_all_model_kernels(model_direc,\n",
    "                            activation_direc,\n",
    "                            kernel_direc,X,\n",
    "                            layer_names=layer_names,\n",
    "                            batch_size=batch_size,\n",
    "                            n_batches=n_batches,device=device)\n",
    "# plot_cka_heatmaps(\"../cka_results\",\"../kernels\")"
   ]
  }
 ],
 "metadata": {
  "language_info": {
   "name": "python"
  }
 },
 "nbformat": 4,
 "nbformat_minor": 5
}
