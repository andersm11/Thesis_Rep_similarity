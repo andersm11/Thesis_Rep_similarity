{
 "cells": [
  {
   "cell_type": "code",
   "execution_count": 73,
   "metadata": {},
   "outputs": [],
   "source": [
    "import numpy as np\n",
    "import torch\n",
    "import matplotlib.pyplot as plt\n",
    "import seaborn as sns\n",
    "from braindecode.models import EEGConformer\n",
    "import pandas as pd\n",
    "from collections import OrderedDict\n",
    "import math\n",
    "import importlib\n",
    "import LSTM_model\n",
    "importlib.reload(LSTM_model)\n",
    "from LSTM_model import ShallowLSTMNet\n",
    "from torchinfo import summary"
   ]
  },
  {
   "cell_type": "code",
   "execution_count": 74,
   "metadata": {},
   "outputs": [],
   "source": [
    "in_chans = 22\n",
    "n_classes = 4\n",
    "input_window_samples = 1125\n",
    "model = ShallowLSTMNet(in_chans,n_classes,input_window_samples)"
   ]
  },
  {
   "cell_type": "code",
   "execution_count": 75,
   "metadata": {},
   "outputs": [
    {
     "name": "stdout",
     "output_type": "stream",
     "text": [
      "ShallowLSTMNet(\n",
      "  (lstm): LSTM(22, 22, num_layers=2, batch_first=True)\n",
      "  (spatial): Conv2d(1, 20, kernel_size=(22, 1), stride=(1, 1))\n",
      "  (batch_norm): BatchNorm2d(20, eps=1e-05, momentum=0.1, affine=True, track_running_stats=True)\n",
      "  (pool): AvgPool2d(kernel_size=(1, 20), stride=(1, 20), padding=0)\n",
      "  (dropout): Dropout(p=0.7, inplace=False)\n",
      "  (fc): Linear(in_features=1120, out_features=4, bias=True)\n",
      ")\n"
     ]
    }
   ],
   "source": [
    "print(model)"
   ]
  },
  {
   "cell_type": "code",
   "execution_count": 76,
   "metadata": {},
   "outputs": [
    {
     "data": {
      "text/plain": [
       "============================================================================================================================================\n",
       "Layer (type:depth-idx)                   Input Shape               Output Shape              Param #                   Kernel Shape\n",
       "============================================================================================================================================\n",
       "ShallowLSTMNet                           [2, 22, 1125]             [2, 4]                    --                        --\n",
       "├─LSTM: 1-1                              [2, 1125, 22]             [2, 1125, 22]             8,096                     --\n",
       "├─Conv2d: 1-2                            [2, 1, 22, 1125]          [2, 20, 1, 1125]          460                       [22, 1]\n",
       "├─BatchNorm2d: 1-3                       [2, 20, 1, 1125]          [2, 20, 1, 1125]          40                        --\n",
       "├─AvgPool2d: 1-4                         [2, 20, 1, 1125]          [2, 20, 1, 56]            --                        [1, 20]\n",
       "├─Dropout: 1-5                           [2, 1120]                 [2, 1120]                 --                        --\n",
       "├─Linear: 1-6                            [2, 1120]                 [2, 4]                    4,484                     --\n",
       "============================================================================================================================================\n",
       "Total params: 13,080\n",
       "Trainable params: 13,080\n",
       "Non-trainable params: 0\n",
       "Total mult-adds (Units.MEGABYTES): 19.26\n",
       "============================================================================================================================================\n",
       "Input size (MB): 0.20\n",
       "Forward/backward pass size (MB): 1.12\n",
       "Params size (MB): 0.05\n",
       "Estimated Total Size (MB): 1.37\n",
       "============================================================================================================================================"
      ]
     },
     "execution_count": 76,
     "metadata": {},
     "output_type": "execute_result"
    }
   ],
   "source": [
    "summary(model,input_size=(2, 22, 1125),col_names=[\"input_size\", \"output_size\", \"num_params\", \"kernel_size\"])"
   ]
  },
  {
   "cell_type": "code",
   "execution_count": null,
   "metadata": {},
   "outputs": [],
   "source": []
  }
 ],
 "metadata": {
  "kernelspec": {
   "display_name": "Python 3",
   "language": "python",
   "name": "python3"
  },
  "language_info": {
   "codemirror_mode": {
    "name": "ipython",
    "version": 3
   },
   "file_extension": ".py",
   "mimetype": "text/x-python",
   "name": "python",
   "nbconvert_exporter": "python",
   "pygments_lexer": "ipython3",
   "version": "3.12.3"
  }
 },
 "nbformat": 4,
 "nbformat_minor": 2
}
