{
 "cells": [
  {
   "cell_type": "code",
   "execution_count": 1,
   "metadata": {},
   "outputs": [],
   "source": [
    "import numpy as np\n",
    "import torch\n",
    "import matplotlib.pyplot as plt\n",
    "import seaborn as sns\n",
    "from braindecode.models import EEGConformer\n",
    "import pandas as pd\n",
    "from collections import OrderedDict\n",
    "import math\n",
    "import importlib\n",
    "import LSTM_model\n",
    "importlib.reload(LSTM_model)\n",
    "from LSTM_model import ShallowLSTMNet\n",
    "from torchinfo import summary"
   ]
  },
  {
   "cell_type": "code",
   "execution_count": 2,
   "metadata": {},
   "outputs": [],
   "source": [
    "in_chans = 22\n",
    "n_classes = 4\n",
    "input_window_samples = 1125\n",
    "model = ShallowLSTMNet(in_chans,n_classes,input_window_samples)"
   ]
  },
  {
   "cell_type": "code",
   "execution_count": 3,
   "metadata": {},
   "outputs": [
    {
     "name": "stdout",
     "output_type": "stream",
     "text": [
      "ShallowLSTMNet(\n",
      "  (lstm): LSTM(22, 32, batch_first=True, bidirectional=True)\n",
      "  (spatial): Conv1d(64, 40, kernel_size=(25,), stride=(1,), padding=(12,))\n",
      "  (pool): AvgPool1d(kernel_size=(50,), stride=(50,), padding=(0,))\n",
      "  (batch_norm): BatchNorm1d(40, eps=1e-05, momentum=0.1, affine=True, track_running_stats=True)\n",
      "  (dropout): Dropout(p=0.5, inplace=False)\n",
      "  (fc): Linear(in_features=880, out_features=4, bias=True)\n",
      ")\n"
     ]
    }
   ],
   "source": [
    "print(model)"
   ]
  },
  {
   "cell_type": "code",
   "execution_count": 4,
   "metadata": {},
   "outputs": [
    {
     "data": {
      "text/plain": [
       "============================================================================================================================================\n",
       "Layer (type:depth-idx)                   Input Shape               Output Shape              Param #                   Kernel Shape\n",
       "============================================================================================================================================\n",
       "ShallowLSTMNet                           [2, 22, 1125]             [2, 4]                    --                        --\n",
       "├─LSTM: 1-1                              [2, 1125, 22]             [2, 1125, 64]             14,336                    --\n",
       "├─Conv1d: 1-2                            [2, 64, 1125]             [2, 40, 1125]             64,040                    [25]\n",
       "├─BatchNorm1d: 1-3                       [2, 40, 1125]             [2, 40, 1125]             80                        --\n",
       "├─AvgPool1d: 1-4                         [2, 40, 1125]             [2, 40, 22]               --                        [50]\n",
       "├─Dropout: 1-5                           [2, 880]                  [2, 880]                  --                        --\n",
       "├─Linear: 1-6                            [2, 880]                  [2, 4]                    3,524                     --\n",
       "============================================================================================================================================\n",
       "Total params: 81,980\n",
       "Trainable params: 81,980\n",
       "Non-trainable params: 0\n",
       "Total mult-adds (Units.MEGABYTES): 176.35\n",
       "============================================================================================================================================\n",
       "Input size (MB): 0.20\n",
       "Forward/backward pass size (MB): 2.59\n",
       "Params size (MB): 0.33\n",
       "Estimated Total Size (MB): 3.12\n",
       "============================================================================================================================================"
      ]
     },
     "execution_count": 4,
     "metadata": {},
     "output_type": "execute_result"
    }
   ],
   "source": [
    "summary(model,input_size=(2, 22, 1125),col_names=[\"input_size\", \"output_size\", \"num_params\", \"kernel_size\"])"
   ]
  },
  {
   "cell_type": "code",
   "execution_count": 9,
   "metadata": {},
   "outputs": [
    {
     "name": "stdout",
     "output_type": "stream",
     "text": [
      "Dropout: 0.5\n",
      "Input channels (n_chans): 32\n",
      "LSTM hidden size: 10\n",
      "LSTM num layers: 1\n",
      "LSTM bidirectional: True\n",
      "Conv1d kernel size: (50,)\n",
      "Conv1d out_channels (num_kernels): 40\n",
      "Pooling kernel size (pool_size): (10,)\n",
      "Final Linear input size: 1600\n",
      "Final Linear output size (n_outputs): 3\n"
     ]
    }
   ],
   "source": [
    "model = torch.load(\"ShallowLSTM_52_3.pth\",weights_only=False,map_location=torch.device('cpu'))\n",
    "print(\"Dropout:\", model.dropout.p)  # dropout rate\n",
    "print(\"Input channels (n_chans):\", model.lstm.input_size)\n",
    "\n",
    "# LSTM parameters\n",
    "print(\"LSTM hidden size:\", model.lstm.hidden_size)\n",
    "print(\"LSTM num layers:\", model.lstm.num_layers)\n",
    "print(\"LSTM bidirectional:\", model.lstm.bidirectional)\n",
    "\n",
    "# Conv1d (spatial) kernel info\n",
    "print(\"Conv1d kernel size:\", model.spatial.kernel_size)\n",
    "print(\"Conv1d out_channels (num_kernels):\", model.spatial.out_channels)\n",
    "\n",
    "# Pooling\n",
    "print(\"Pooling kernel size (pool_size):\", model.pool.kernel_size)\n",
    "\n",
    "# Fully connected\n",
    "print(\"Final Linear input size:\", model.fc.in_features)\n",
    "print(\"Final Linear output size (n_outputs):\", model.fc.out_features)"
   ]
  },
  {
   "cell_type": "code",
   "execution_count": null,
   "metadata": {},
   "outputs": [],
   "source": []
  }
 ],
 "metadata": {
  "kernelspec": {
   "display_name": "Python 3",
   "language": "python",
   "name": "python3"
  },
  "language_info": {
   "codemirror_mode": {
    "name": "ipython",
    "version": 3
   },
   "file_extension": ".py",
   "mimetype": "text/x-python",
   "name": "python",
   "nbconvert_exporter": "python",
   "pygments_lexer": "ipython3",
   "version": "3.12.3"
  }
 },
 "nbformat": 4,
 "nbformat_minor": 2
}
