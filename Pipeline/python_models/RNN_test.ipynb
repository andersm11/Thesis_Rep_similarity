{
 "cells": [
  {
   "cell_type": "code",
   "execution_count": 5,
   "metadata": {},
   "outputs": [],
   "source": [
    "import numpy as np\n",
    "import torch\n",
    "import matplotlib.pyplot as plt\n",
    "import seaborn as sns\n",
    "from braindecode.models import EEGConformer\n",
    "import pandas as pd\n",
    "from collections import OrderedDict\n",
    "import math\n",
    "import importlib\n",
    "import RNN_model\n",
    "importlib.reload(RNN_model)\n",
    "from RNN_model import ShallowRNNNet\n",
    "from shallow_laurits import ShallowFBCSPNet\n",
    "from torchinfo import summary"
   ]
  },
  {
   "cell_type": "code",
   "execution_count": 6,
   "metadata": {},
   "outputs": [],
   "source": [
    "in_chans = 22\n",
    "n_classes = 4\n",
    "input_window_samples = 1125\n",
    "model = ShallowRNNNet(in_chans,n_classes,input_window_samples)"
   ]
  },
  {
   "cell_type": "code",
   "execution_count": 7,
   "metadata": {},
   "outputs": [
    {
     "name": "stdout",
     "output_type": "stream",
     "text": [
      "ShallowRNNNet(\n",
      "  (RNN): RNN(22, 22, batch_first=True)\n",
      "  (spatial): Conv2d(1, 20, kernel_size=(22, 1), stride=(1, 1))\n",
      "  (batch_norm): BatchNorm2d(20, eps=1e-05, momentum=0.1, affine=True, track_running_stats=True)\n",
      "  (pool): AvgPool2d(kernel_size=(1, 25), stride=(1, 25), padding=0)\n",
      "  (dropout): Dropout(p=0.7, inplace=False)\n",
      "  (fc): Linear(in_features=900, out_features=4, bias=True)\n",
      ")\n"
     ]
    }
   ],
   "source": [
    "print(model)"
   ]
  },
  {
   "cell_type": "code",
   "execution_count": 8,
   "metadata": {},
   "outputs": [
    {
     "name": "stdout",
     "output_type": "stream",
     "text": [
      "torch.Size([1, 1, 22, 1125])\n"
     ]
    },
    {
     "data": {
      "text/plain": [
       "============================================================================================================================================\n",
       "Layer (type:depth-idx)                   Input Shape               Output Shape              Param #                   Kernel Shape\n",
       "============================================================================================================================================\n",
       "ShallowRNNNet                            [1, 22, 1125]             [1, 4]                    --                        --\n",
       "├─RNN: 1-1                               [1, 1125, 22]             [1, 1125, 22]             1,012                     --\n",
       "├─Conv2d: 1-2                            [1, 1, 22, 1125]          [1, 20, 1, 1125]          460                       [22, 1]\n",
       "├─BatchNorm2d: 1-3                       [1, 20, 1, 1125]          [1, 20, 1, 1125]          40                        --\n",
       "├─AvgPool2d: 1-4                         [1, 20, 1, 1125]          [1, 20, 1, 45]            --                        [1, 25]\n",
       "├─Dropout: 1-5                           [1, 900]                  [1, 900]                  --                        --\n",
       "├─Linear: 1-6                            [1, 900]                  [1, 4]                    3,604                     --\n",
       "============================================================================================================================================\n",
       "Total params: 5,116\n",
       "Trainable params: 5,116\n",
       "Non-trainable params: 0\n",
       "Total mult-adds (Units.MEGABYTES): 1.66\n",
       "============================================================================================================================================\n",
       "Input size (MB): 0.10\n",
       "Forward/backward pass size (MB): 0.56\n",
       "Params size (MB): 0.02\n",
       "Estimated Total Size (MB): 0.68\n",
       "============================================================================================================================================"
      ]
     },
     "execution_count": 8,
     "metadata": {},
     "output_type": "execute_result"
    }
   ],
   "source": [
    "summary(model,input_size=(1, 22, 1125),col_names=[\"input_size\", \"output_size\", \"num_params\", \"kernel_size\"])"
   ]
  },
  {
   "cell_type": "code",
   "execution_count": null,
   "metadata": {},
   "outputs": [],
   "source": []
  }
 ],
 "metadata": {
  "kernelspec": {
   "display_name": "Python 3",
   "language": "python",
   "name": "python3"
  },
  "language_info": {
   "codemirror_mode": {
    "name": "ipython",
    "version": 3
   },
   "file_extension": ".py",
   "mimetype": "text/x-python",
   "name": "python",
   "nbconvert_exporter": "python",
   "pygments_lexer": "ipython3",
   "version": "3.12.3"
  }
 },
 "nbformat": 4,
 "nbformat_minor": 2
}
