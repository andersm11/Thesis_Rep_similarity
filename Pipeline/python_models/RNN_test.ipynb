{
 "cells": [
  {
   "cell_type": "code",
   "execution_count": 21,
   "metadata": {},
   "outputs": [],
   "source": [
    "import numpy as np\n",
    "import torch\n",
    "import matplotlib.pyplot as plt\n",
    "import seaborn as sns\n",
    "from braindecode.models import EEGConformer\n",
    "import pandas as pd\n",
    "from collections import OrderedDict\n",
    "import math\n",
    "import importlib\n",
    "import RNN_model\n",
    "importlib.reload(RNN_model)\n",
    "from RNN_model import ShallowRNNNet\n",
    "from shallow_laurits import ShallowFBCSPNet\n",
    "from torchinfo import summary"
   ]
  },
  {
   "cell_type": "code",
   "execution_count": 22,
   "metadata": {},
   "outputs": [],
   "source": [
    "in_chans = 32\n",
    "n_classes = 3\n",
    "input_window_samples = 400\n",
    "model = ShallowRNNNet(\n",
    "        n_chans=in_chans,\n",
    "        n_outputs=n_classes,\n",
    "        n_times=input_window_samples,\n",
    "        dropout = 0.5,\n",
    "        num_kernels = 20,\n",
    "        pool_size = 100,\n",
    "        hidden_size=32,\n",
    "        nr_layers=4\n",
    "        \n",
    "        \n",
    "    )"
   ]
  },
  {
   "cell_type": "code",
   "execution_count": 23,
   "metadata": {},
   "outputs": [
    {
     "name": "stdout",
     "output_type": "stream",
     "text": [
      "ShallowRNNNet(\n",
      "  (RNN): RNN(32, 32, num_layers=4, batch_first=True)\n",
      "  (spatial): Conv2d(1, 40, kernel_size=(32, 1), stride=(1, 1))\n",
      "  (batch_norm): BatchNorm2d(40, eps=1e-05, momentum=0.1, affine=True, track_running_stats=True)\n",
      "  (pool): AvgPool2d(kernel_size=(1, 100), stride=(1, 100), padding=0)\n",
      "  (dropout): Dropout(p=0.5, inplace=False)\n",
      "  (fc): Linear(in_features=160, out_features=3, bias=True)\n",
      ")\n"
     ]
    }
   ],
   "source": [
    "print(model)"
   ]
  },
  {
   "cell_type": "code",
   "execution_count": 24,
   "metadata": {},
   "outputs": [
    {
     "data": {
      "text/plain": [
       "============================================================================================================================================\n",
       "Layer (type:depth-idx)                   Input Shape               Output Shape              Param #                   Kernel Shape\n",
       "============================================================================================================================================\n",
       "ShallowRNNNet                            [3, 32, 400]              [3, 3]                    --                        --\n",
       "├─RNN: 1-1                               [3, 400, 32]              [3, 400, 32]              8,448                     --\n",
       "├─Conv2d: 1-2                            [3, 1, 32, 400]           [3, 40, 1, 400]           1,320                     [32, 1]\n",
       "├─BatchNorm2d: 1-3                       [3, 40, 1, 400]           [3, 40, 1, 400]           80                        --\n",
       "├─AvgPool2d: 1-4                         [3, 40, 1, 400]           [3, 40, 1, 4]             --                        [1, 100]\n",
       "├─Dropout: 1-5                           [3, 160]                  [3, 160]                  --                        --\n",
       "├─Linear: 1-6                            [3, 160]                  [3, 3]                    483                       --\n",
       "============================================================================================================================================\n",
       "Total params: 10,331\n",
       "Trainable params: 10,331\n",
       "Non-trainable params: 0\n",
       "Total mult-adds (Units.MEGABYTES): 11.72\n",
       "============================================================================================================================================\n",
       "Input size (MB): 0.15\n",
       "Forward/backward pass size (MB): 1.08\n",
       "Params size (MB): 0.04\n",
       "Estimated Total Size (MB): 1.27\n",
       "============================================================================================================================================"
      ]
     },
     "execution_count": 24,
     "metadata": {},
     "output_type": "execute_result"
    }
   ],
   "source": [
    "summary(model,input_size=(3, 32, 400),col_names=[\"input_size\", \"output_size\", \"num_params\", \"kernel_size\"])"
   ]
  },
  {
   "cell_type": "code",
   "execution_count": null,
   "metadata": {},
   "outputs": [],
   "source": []
  }
 ],
 "metadata": {
  "kernelspec": {
   "display_name": "Python 3",
   "language": "python",
   "name": "python3"
  },
  "language_info": {
   "codemirror_mode": {
    "name": "ipython",
    "version": 3
   },
   "file_extension": ".py",
   "mimetype": "text/x-python",
   "name": "python",
   "nbconvert_exporter": "python",
   "pygments_lexer": "ipython3",
   "version": "3.12.3"
  }
 },
 "nbformat": 4,
 "nbformat_minor": 2
}
