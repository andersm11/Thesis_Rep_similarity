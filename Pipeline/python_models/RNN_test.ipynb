{
 "cells": [
  {
   "cell_type": "code",
   "execution_count": 17,
   "metadata": {},
   "outputs": [],
   "source": [
    "import numpy as np\n",
    "import torch\n",
    "import matplotlib.pyplot as plt\n",
    "import seaborn as sns\n",
    "from braindecode.models import EEGConformer\n",
    "import pandas as pd\n",
    "from collections import OrderedDict\n",
    "import math\n",
    "import importlib\n",
    "import RNN_model\n",
    "importlib.reload(RNN_model)\n",
    "from RNN_model import ShallowRNNNet\n",
    "from shallow_laurits import ShallowFBCSPNet\n",
    "from torchinfo import summary"
   ]
  },
  {
   "cell_type": "code",
   "execution_count": 18,
   "metadata": {},
   "outputs": [],
   "source": [
    "in_chans = 22\n",
    "n_classes = 4\n",
    "input_window_samples = 1125\n",
    "model = ShallowRNNNet(in_chans,n_classes,input_window_samples)"
   ]
  },
  {
   "cell_type": "code",
   "execution_count": 19,
   "metadata": {},
   "outputs": [
    {
     "name": "stdout",
     "output_type": "stream",
     "text": [
      "ShallowRNNNet(\n",
      "  (RNN): RNN(\n",
      "    (RNN): RNN(22, 64, num_layers=2, batch_first=True)\n",
      "  )\n",
      "  (spatial): Conv2d(1, 10, kernel_size=(64, 1), stride=(1, 1))\n",
      "  (pool): AvgPool2d(kernel_size=(1, 25), stride=(1, 25), padding=0)\n",
      "  (batch_norm): BatchNorm2d(10, eps=1e-05, momentum=0.1, affine=True, track_running_stats=True)\n",
      "  (dropout): Dropout(p=0.7, inplace=False)\n",
      "  (fc): LazyLinear(in_features=0, out_features=4, bias=True)\n",
      ")\n"
     ]
    }
   ],
   "source": [
    "print(model)"
   ]
  },
  {
   "cell_type": "code",
   "execution_count": 20,
   "metadata": {},
   "outputs": [
    {
     "data": {
      "text/plain": [
       "============================================================================================================================================\n",
       "Layer (type:depth-idx)                   Input Shape               Output Shape              Param #                   Kernel Shape\n",
       "============================================================================================================================================\n",
       "ShallowRNNNet                            [1, 22, 1125]             [1, 4]                    --                        --\n",
       "├─RNN: 1-1                               [1, 1125, 22]             [1, 64, 1125]             --                        --\n",
       "│    └─RNN: 2-1                          [1, 1125, 22]             [1, 1125, 64]             13,952                    --\n",
       "├─Conv2d: 1-2                            [1, 1, 64, 1125]          [1, 10, 1, 1125]          650                       [64, 1]\n",
       "├─BatchNorm2d: 1-3                       [1, 10, 1, 1125]          [1, 10, 1, 1125]          20                        --\n",
       "├─AvgPool2d: 1-4                         [1, 10, 1, 1125]          [1, 10, 1, 45]            --                        [1, 25]\n",
       "├─Dropout: 1-5                           [1, 450]                  [1, 450]                  --                        --\n",
       "├─Linear: 1-6                            [1, 450]                  [1, 4]                    1,804                     --\n",
       "============================================================================================================================================\n",
       "Total params: 16,426\n",
       "Trainable params: 16,426\n",
       "Non-trainable params: 0\n",
       "Total mult-adds (Units.MEGABYTES): 16.43\n",
       "============================================================================================================================================\n",
       "Input size (MB): 0.10\n",
       "Forward/backward pass size (MB): 0.76\n",
       "Params size (MB): 0.07\n",
       "Estimated Total Size (MB): 0.92\n",
       "============================================================================================================================================"
      ]
     },
     "execution_count": 20,
     "metadata": {},
     "output_type": "execute_result"
    }
   ],
   "source": [
    "summary(model,input_size=(1, 22, 1125),col_names=[\"input_size\", \"output_size\", \"num_params\", \"kernel_size\"])"
   ]
  },
  {
   "cell_type": "code",
   "execution_count": null,
   "metadata": {},
   "outputs": [],
   "source": []
  }
 ],
 "metadata": {
  "kernelspec": {
   "display_name": "Python 3",
   "language": "python",
   "name": "python3"
  },
  "language_info": {
   "codemirror_mode": {
    "name": "ipython",
    "version": 3
   },
   "file_extension": ".py",
   "mimetype": "text/x-python",
   "name": "python",
   "nbconvert_exporter": "python",
   "pygments_lexer": "ipython3",
   "version": "3.12.9"
  }
 },
 "nbformat": 4,
 "nbformat_minor": 2
}
