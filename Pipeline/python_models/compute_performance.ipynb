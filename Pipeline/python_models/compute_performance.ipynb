{
 "cells": [
  {
   "cell_type": "code",
   "execution_count": 43,
   "metadata": {},
   "outputs": [],
   "source": [
    "import performance_functions\n",
    "from CKA_functions import fix_dataset_shape,load_dataset\n",
    "from torch.utils.data import DataLoader\n",
    "from torch import argmax\n",
    "import torch\n",
    "from performance_functions import *"
   ]
  },
  {
   "cell_type": "code",
   "execution_count": 44,
   "metadata": {},
   "outputs": [],
   "source": [
    "import pickle\n",
    "data_path = \"../Datasets/\"\n",
    "# X = torch.load('../Datasets/test_set.pkl')\n",
    "# test_loader = DataLoader(X, batch_size=16)\n",
    "\n",
    "with open('../Datasets/test_set.pkl', 'rb') as f:\n",
    "    data = pickle.load(f)\n",
    "test_loader = DataLoader(data, batch_size=16)\n",
    "\n"
   ]
  },
  {
   "cell_type": "code",
   "execution_count": 45,
   "metadata": {},
   "outputs": [
    {
     "name": "stderr",
     "output_type": "stream",
     "text": [
      "C:\\Users\\ahmm9\\AppData\\Local\\Temp\\ipykernel_4296\\3155468158.py:20: FutureWarning: \n",
      "\n",
      "Passing `palette` without assigning `hue` is deprecated and will be removed in v0.14.0. Assign the `x` variable to `hue` and set `legend=False` for the same effect.\n",
      "\n",
      "  ax = sns.barplot(\n"
     ]
    }
   ],
   "source": [
    "def plot_and_save_overall_accuracy(model_acc_std_dict, output_path):\n",
    "    \"\"\"\n",
    "    Plot and save overall accuracy comparison between models with deviation info and styled bars.\n",
    "    \n",
    "    Parameters:\n",
    "    - model_acc_std_dict (dict): Dictionary of {model_name: [accuracy, std]}.\n",
    "    - output_path (str): Directory to save the output figure.\n",
    "    \"\"\"\n",
    "    model_names = list(model_acc_std_dict.keys())\n",
    "    accuracies = [math.ceil(values[0]) for values in model_acc_std_dict.values()]\n",
    "    deviations = [values[1] for values in model_acc_std_dict.values()]\n",
    "\n",
    "    df = pd.DataFrame({\n",
    "        \"Model\": model_names,\n",
    "        \"Accuracy\": accuracies,\n",
    "        \"Deviation\": deviations\n",
    "    })\n",
    "\n",
    "    plt.figure(figsize=(10, 6))\n",
    "    ax = sns.barplot(\n",
    "        x=\"Model\", y=\"Accuracy\", data=df,\n",
    "        palette=\"pastel\", edgecolor=\"black\", linewidth=1.5\n",
    "    )\n",
    "    \n",
    "    # Remove grid lines\n",
    "    plt.grid(False)\n",
    "    \n",
    "    \n",
    "    # Annotate bars\n",
    "    for i, p in enumerate(ax.patches):\n",
    "        acc = accuracies[i]\n",
    "        dev = deviations[i]\n",
    "        ax.annotate(f\"{acc}\\u00B1{dev}\",\n",
    "                    (p.get_x() + p.get_width() / 2., p.get_height()),\n",
    "                    ha='center', va='bottom',\n",
    "                    fontsize=20, fontweight='bold', color='black')\n",
    "\n",
    "    plt.xlabel(\"Model\",fontsize=18)\n",
    "    plt.ylabel(\"Mean Model Accuracy (%\\u00B1 STD)\",fontsize=20)\n",
    "    plt.title(\"Mean Model Accuracy (Motion)\",fontsize=22)\n",
    "    plt.ylim(0, 100)\n",
    "    plt.xticks(fontsize=16)\n",
    "    plt.yticks(fontsize=16)\n",
    "    plt.tight_layout()\n",
    "\n",
    "    os.makedirs(output_path, exist_ok=True)\n",
    "    plt.savefig(os.path.join(output_path, \"overall_accuracy_comparison.png\"), dpi=300)\n",
    "    plt.close()\n",
    "models_acc_std = {\n",
    "    \"ShallowAtt\": [49.9, 0.53],\n",
    "    \"ShallowFBCSP\": [60.7, 0.9],\n",
    "    \"ShallowLSTM\": [58.9, 0.83],\n",
    "    \"ShallowRNN\": [57.3, 1.26],\n",
    "    \"ShallowSGCN\": [53.3, 1.18]\n",
    "}\n",
    "\n",
    "plot_and_save_overall_accuracy(models_acc_std, \"all_model_conf\")"
   ]
  },
  {
   "cell_type": "code",
   "execution_count": 46,
   "metadata": {},
   "outputs": [],
   "source": [
    "# compute_all_model_confusion(test_loader,\"../models\",\"all_model_conf\") "
   ]
  }
 ],
 "metadata": {
  "kernelspec": {
   "display_name": "Python 3",
   "language": "python",
   "name": "python3"
  },
  "language_info": {
   "codemirror_mode": {
    "name": "ipython",
    "version": 3
   },
   "file_extension": ".py",
   "mimetype": "text/x-python",
   "name": "python",
   "nbconvert_exporter": "python",
   "pygments_lexer": "ipython3",
   "version": "3.12.3"
  }
 },
 "nbformat": 4,
 "nbformat_minor": 2
}
