{
 "cells": [
  {
   "cell_type": "code",
   "execution_count": 87,
   "metadata": {},
   "outputs": [],
   "source": [
    "import math\n",
    "import importlib\n",
    "import Fractal_FBCSP\n",
    "importlib.reload(Fractal_FBCSP)\n",
    "from Fractal_FBCSP import ShallowFBCSPNet\n",
    "from torchinfo import summary"
   ]
  },
  {
   "cell_type": "code",
   "execution_count": 88,
   "metadata": {},
   "outputs": [],
   "source": [
    "in_chans = 22\n",
    "n_classes = 4\n",
    "input_window_samples = 1125\n",
    "model = ShallowFBCSPNet(in_chans,n_classes,input_window_samples)"
   ]
  },
  {
   "cell_type": "code",
   "execution_count": 89,
   "metadata": {},
   "outputs": [
    {
     "name": "stdout",
     "output_type": "stream",
     "text": [
      "ShallowFBCSPNet(\n",
      "  (fd_layer): FractalFeatureLayer()\n",
      "  (spatial): Conv2d(1, 22, kernel_size=(22, 1), stride=(1, 1))\n",
      "  (batch_norm): BatchNorm2d(22, eps=1e-05, momentum=0.1, affine=True, track_running_stats=True)\n",
      "  (pool): AvgPool2d(kernel_size=(1, 20), stride=(1, 20), padding=0)\n",
      "  (dropout): Dropout(p=0.5, inplace=False)\n",
      "  (fc): Linear(in_features=286, out_features=4, bias=True)\n",
      ")\n"
     ]
    }
   ],
   "source": [
    "print(model)"
   ]
  },
  {
   "cell_type": "code",
   "execution_count": 90,
   "metadata": {},
   "outputs": [
    {
     "name": "stdout",
     "output_type": "stream",
     "text": [
      "n_windows 7\n",
      "n_windows 16\n",
      "n_windows 33\n",
      "n_windows 69\n",
      "n_windows 139\n",
      "torch.Size([4, 1, 22, 264])\n",
      "torch.Size([4, 22, 1, 264])\n"
     ]
    },
    {
     "data": {
      "text/plain": [
       "============================================================================================================================================\n",
       "Layer (type:depth-idx)                   Input Shape               Output Shape              Param #                   Kernel Shape\n",
       "============================================================================================================================================\n",
       "ShallowFBCSPNet                          [4, 22, 1125]             [4, 4]                    --                        --\n",
       "├─FractalFeatureLayer: 1-1               [4, 22, 1125]             [4, 22, 264]              --                        --\n",
       "├─Conv2d: 1-2                            [4, 1, 22, 264]           [4, 22, 1, 264]           506                       [22, 1]\n",
       "├─BatchNorm2d: 1-3                       [4, 22, 1, 264]           [4, 22, 1, 264]           44                        --\n",
       "├─AvgPool2d: 1-4                         [4, 22, 1, 264]           [4, 22, 1, 13]            --                        [1, 20]\n",
       "├─Dropout: 1-5                           [4, 286]                  [4, 286]                  --                        --\n",
       "├─Linear: 1-6                            [4, 286]                  [4, 4]                    1,148                     --\n",
       "============================================================================================================================================\n",
       "Total params: 1,698\n",
       "Trainable params: 1,698\n",
       "Non-trainable params: 0\n",
       "Total mult-adds (Units.MEGABYTES): 0.54\n",
       "============================================================================================================================================\n",
       "Input size (MB): 0.40\n",
       "Forward/backward pass size (MB): 0.37\n",
       "Params size (MB): 0.01\n",
       "Estimated Total Size (MB): 0.77\n",
       "============================================================================================================================================"
      ]
     },
     "execution_count": 90,
     "metadata": {},
     "output_type": "execute_result"
    }
   ],
   "source": [
    "summary(model,input_size=(4, in_chans, input_window_samples),col_names=[\"input_size\", \"output_size\", \"num_params\", \"kernel_size\"])"
   ]
  },
  {
   "cell_type": "code",
   "execution_count": null,
   "metadata": {},
   "outputs": [],
   "source": []
  }
 ],
 "metadata": {
  "kernelspec": {
   "display_name": "Python 3",
   "language": "python",
   "name": "python3"
  },
  "language_info": {
   "codemirror_mode": {
    "name": "ipython",
    "version": 3
   },
   "file_extension": ".py",
   "mimetype": "text/x-python",
   "name": "python",
   "nbconvert_exporter": "python",
   "pygments_lexer": "ipython3",
   "version": "3.12.9"
  }
 },
 "nbformat": 4,
 "nbformat_minor": 2
}
