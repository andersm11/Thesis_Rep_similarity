{
 "cells": [
  {
   "cell_type": "code",
   "execution_count": 2,
   "metadata": {},
   "outputs": [],
   "source": [
    "import numpy as np\n",
    "import torch\n",
    "import matplotlib.pyplot as plt\n",
    "import seaborn as sns\n",
    "from braindecode.models import EEGConformer\n",
    "import pandas as pd\n",
    "from collections import OrderedDict\n",
    "import math\n",
    "import importlib\n",
    "import shallow_laurits_faced\n",
    "importlib.reload(shallow_laurits_faced)\n",
    "from shallow_laurits_faced import ShallowFBCSPNet\n",
    "from torchinfo import summary"
   ]
  },
  {
   "cell_type": "code",
   "execution_count": 3,
   "metadata": {},
   "outputs": [],
   "source": [
    "in_chans = 22\n",
    "n_classes = 4\n",
    "input_window_samples = 1125\n",
    "model = ShallowFBCSPNet(in_chans,n_classes,input_window_samples)"
   ]
  },
  {
   "cell_type": "code",
   "execution_count": 4,
   "metadata": {},
   "outputs": [
    {
     "name": "stdout",
     "output_type": "stream",
     "text": [
      "ShallowFBCSPNet(\n",
      "  (temporal): Conv2d(1, 20, kernel_size=(1, 25), stride=(1, 1))\n",
      "  (spatial): Conv2d(20, 20, kernel_size=(22, 1), stride=(1, 1))\n",
      "  (pool): AvgPool2d(kernel_size=(1, 50), stride=(1, 50), padding=0)\n",
      "  (batch_norm): BatchNorm2d(20, eps=1e-05, momentum=0.1, affine=True, track_running_stats=True)\n",
      "  (dropout): Dropout(p=0.5, inplace=False)\n",
      "  (fc): Linear(in_features=440, out_features=4, bias=True)\n",
      ")\n"
     ]
    }
   ],
   "source": [
    "print(model)"
   ]
  },
  {
   "cell_type": "code",
   "execution_count": 5,
   "metadata": {},
   "outputs": [
    {
     "data": {
      "text/plain": [
       "============================================================================================================================================\n",
       "Layer (type:depth-idx)                   Input Shape               Output Shape              Param #                   Kernel Shape\n",
       "============================================================================================================================================\n",
       "ShallowFBCSPNet                          [2, 22, 1125]             [2, 4]                    --                        --\n",
       "├─Conv2d: 1-1                            [2, 1, 22, 1125]          [2, 20, 22, 1101]         520                       [1, 25]\n",
       "├─Conv2d: 1-2                            [2, 20, 22, 1101]         [2, 20, 1, 1101]          8,820                     [22, 1]\n",
       "├─BatchNorm2d: 1-3                       [2, 20, 1, 1101]          [2, 20, 1, 1101]          40                        --\n",
       "├─AvgPool2d: 1-4                         [2, 20, 1, 1101]          [2, 20, 1, 22]            --                        [1, 50]\n",
       "├─Dropout: 1-5                           [2, 440]                  [2, 440]                  --                        --\n",
       "├─Linear: 1-6                            [2, 440]                  [2, 4]                    1,764                     --\n",
       "============================================================================================================================================\n",
       "Total params: 11,144\n",
       "Trainable params: 11,144\n",
       "Non-trainable params: 0\n",
       "Total mult-adds (Units.MEGABYTES): 44.62\n",
       "============================================================================================================================================\n",
       "Input size (MB): 0.20\n",
       "Forward/backward pass size (MB): 8.46\n",
       "Params size (MB): 0.04\n",
       "Estimated Total Size (MB): 8.70\n",
       "============================================================================================================================================"
      ]
     },
     "execution_count": 5,
     "metadata": {},
     "output_type": "execute_result"
    }
   ],
   "source": [
    "summary(model,input_size=(2, in_chans, input_window_samples),col_names=[\"input_size\", \"output_size\", \"num_params\", \"kernel_size\"])"
   ]
  },
  {
   "cell_type": "code",
   "execution_count": null,
   "metadata": {},
   "outputs": [],
   "source": []
  }
 ],
 "metadata": {
  "kernelspec": {
   "display_name": "Python 3",
   "language": "python",
   "name": "python3"
  },
  "language_info": {
   "codemirror_mode": {
    "name": "ipython",
    "version": 3
   },
   "file_extension": ".py",
   "mimetype": "text/x-python",
   "name": "python",
   "nbconvert_exporter": "python",
   "pygments_lexer": "ipython3",
   "version": "3.12.3"
  }
 },
 "nbformat": 4,
 "nbformat_minor": 2
}
