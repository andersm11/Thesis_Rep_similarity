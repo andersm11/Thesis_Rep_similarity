{
 "cells": [
  {
   "cell_type": "code",
   "execution_count": 95,
   "metadata": {},
   "outputs": [],
   "source": [
    "import numpy as np\n",
    "import torch\n",
    "import matplotlib.pyplot as plt\n",
    "import seaborn as sns\n",
    "from braindecode.models import EEGConformer\n",
    "import pandas as pd\n",
    "from collections import OrderedDict\n",
    "import math\n",
    "import importlib\n",
    "import shallow_laurits_faced\n",
    "importlib.reload(shallow_laurits_faced)\n",
    "from shallow_laurits_faced import ShallowFBCSPNet\n",
    "from torchinfo import summary"
   ]
  },
  {
   "cell_type": "code",
   "execution_count": 96,
   "metadata": {},
   "outputs": [],
   "source": [
    "in_chans = 32\n",
    "n_classes = 3\n",
    "input_window_samples = 400\n",
    "model = ShallowFBCSPNet(in_chans,n_classes,input_window_samples)"
   ]
  },
  {
   "cell_type": "code",
   "execution_count": 97,
   "metadata": {},
   "outputs": [
    {
     "name": "stdout",
     "output_type": "stream",
     "text": [
      "ShallowFBCSPNet(\n",
      "  (temporal): Conv2d(1, 20, kernel_size=(1, 25), stride=(1, 1))\n",
      "  (tpool): AvgPool2d(kernel_size=(1, 2), stride=(1, 2), padding=0)\n",
      "  (tbatch_norm): BatchNorm2d(20, eps=1e-05, momentum=0.1, affine=True, track_running_stats=True)\n",
      "  (spatial): Conv2d(20, 20, kernel_size=(32, 1), stride=(1, 1))\n",
      "  (pool): AvgPool2d(kernel_size=(1, 10), stride=(1, 10), padding=0)\n",
      "  (batch_norm): BatchNorm2d(20, eps=1e-05, momentum=0.1, affine=True, track_running_stats=True)\n",
      "  (dropout): Dropout(p=0.5, inplace=False)\n",
      "  (fc): Linear(in_features=360, out_features=3, bias=True)\n",
      ")\n"
     ]
    }
   ],
   "source": [
    "print(model)"
   ]
  },
  {
   "cell_type": "code",
   "execution_count": 98,
   "metadata": {},
   "outputs": [
    {
     "data": {
      "text/plain": [
       "============================================================================================================================================\n",
       "Layer (type:depth-idx)                   Input Shape               Output Shape              Param #                   Kernel Shape\n",
       "============================================================================================================================================\n",
       "ShallowFBCSPNet                          [4, 32, 400]              [4, 3]                    --                        --\n",
       "├─Conv2d: 1-1                            [4, 1, 32, 400]           [4, 20, 32, 376]          520                       [1, 25]\n",
       "├─BatchNorm2d: 1-2                       [4, 20, 32, 376]          [4, 20, 32, 376]          40                        --\n",
       "├─AvgPool2d: 1-3                         [4, 20, 32, 376]          [4, 20, 32, 188]          --                        [1, 2]\n",
       "├─Dropout: 1-4                           [4, 20, 32, 188]          [4, 20, 32, 188]          --                        --\n",
       "├─Conv2d: 1-5                            [4, 20, 32, 188]          [4, 20, 1, 188]           12,820                    [32, 1]\n",
       "├─BatchNorm2d: 1-6                       [4, 20, 1, 188]           [4, 20, 1, 188]           40                        --\n",
       "├─AvgPool2d: 1-7                         [4, 20, 1, 188]           [4, 20, 1, 18]            --                        [1, 10]\n",
       "├─Dropout: 1-8                           [4, 360]                  [4, 360]                  --                        --\n",
       "├─Linear: 1-9                            [4, 360]                  [4, 3]                    1,083                     --\n",
       "============================================================================================================================================\n",
       "Total params: 14,503\n",
       "Trainable params: 14,503\n",
       "Non-trainable params: 0\n",
       "Total mult-adds (Units.MEGABYTES): 34.67\n",
       "============================================================================================================================================\n",
       "Input size (MB): 0.20\n",
       "Forward/backward pass size (MB): 15.64\n",
       "Params size (MB): 0.06\n",
       "Estimated Total Size (MB): 15.90\n",
       "============================================================================================================================================"
      ]
     },
     "execution_count": 98,
     "metadata": {},
     "output_type": "execute_result"
    }
   ],
   "source": [
    "summary(model,input_size=(4, 32, 400),col_names=[\"input_size\", \"output_size\", \"num_params\", \"kernel_size\"])"
   ]
  },
  {
   "cell_type": "code",
   "execution_count": null,
   "metadata": {},
   "outputs": [],
   "source": []
  }
 ],
 "metadata": {
  "kernelspec": {
   "display_name": "Python 3",
   "language": "python",
   "name": "python3"
  },
  "language_info": {
   "codemirror_mode": {
    "name": "ipython",
    "version": 3
   },
   "file_extension": ".py",
   "mimetype": "text/x-python",
   "name": "python",
   "nbconvert_exporter": "python",
   "pygments_lexer": "ipython3",
   "version": "3.12.9"
  }
 },
 "nbformat": 4,
 "nbformat_minor": 2
}
