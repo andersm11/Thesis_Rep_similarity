{
 "cells": [
  {
   "cell_type": "code",
   "execution_count": null,
   "metadata": {},
   "outputs": [
    {
     "ename": "ModuleNotFoundError",
     "evalue": "No module named 'Fractal_FBCSP'",
     "output_type": "error",
     "traceback": [
      "\u001b[1;31m---------------------------------------------------------------------------\u001b[0m",
      "\u001b[1;31mModuleNotFoundError\u001b[0m                       Traceback (most recent call last)",
      "Cell \u001b[1;32mIn[1], line 10\u001b[0m\n\u001b[0;32m      8\u001b[0m \u001b[38;5;28;01mimport\u001b[39;00m \u001b[38;5;21;01mmath\u001b[39;00m\n\u001b[0;32m      9\u001b[0m \u001b[38;5;28;01mimport\u001b[39;00m \u001b[38;5;21;01mimportlib\u001b[39;00m\n\u001b[1;32m---> 10\u001b[0m \u001b[38;5;28;01mimport\u001b[39;00m \u001b[38;5;21;01mFractal_FBCSP\u001b[39;00m\n\u001b[0;32m     11\u001b[0m importlib\u001b[38;5;241m.\u001b[39mreload(Fractal_FBCSP)\n\u001b[0;32m     12\u001b[0m \u001b[38;5;28;01mfrom\u001b[39;00m \u001b[38;5;21;01mshallow_laurits_faced\u001b[39;00m \u001b[38;5;28;01mimport\u001b[39;00m ShallowFBCSPNet\n",
      "\u001b[1;31mModuleNotFoundError\u001b[0m: No module named 'Fractal_FBCSP'"
     ]
    }
   ],
   "source": [
    "import numpy as np\n",
    "import torch\n",
    "import matplotlib.pyplot as plt\n",
    "import seaborn as sns\n",
    "from braindecode.models import EEGConformer\n",
    "import pandas as pd\n",
    "from collections import OrderedDict\n",
    "import math\n",
    "import importlib\n",
    "import shallow_laurits_faced\n",
    "importlib.reload(shallow_laurits_faced)\n",
    "from shallow_laurits_faced import ShallowFBCSPNet\n",
    "from torchinfo import summary"
   ]
  },
  {
   "cell_type": "code",
   "execution_count": null,
   "metadata": {},
   "outputs": [],
   "source": [
    "in_chans = 22\n",
    "n_classes = 4\n",
    "input_window_samples = 1125\n",
    "model = ShallowFBCSPNet(in_chans,n_classes,input_window_samples)"
   ]
  },
  {
   "cell_type": "code",
   "execution_count": null,
   "metadata": {},
   "outputs": [
    {
     "name": "stdout",
     "output_type": "stream",
     "text": [
      "ShallowFBCSPNet(\n",
      "  (temporal): Conv2d(1, 20, kernel_size=(1, 25), stride=(1, 1))\n",
      "  (spatial): Conv2d(20, 20, kernel_size=(32, 1), stride=(1, 1))\n",
      "  (pool): AvgPool2d(kernel_size=(1, 50), stride=(1, 50), padding=0)\n",
      "  (batch_norm): BatchNorm2d(20, eps=1e-05, momentum=0.1, affine=True, track_running_stats=True)\n",
      "  (dropout): Dropout(p=0.5, inplace=False)\n",
      "  (fc): Linear(in_features=140, out_features=3, bias=True)\n",
      ")\n"
     ]
    }
   ],
   "source": [
    "print(model)"
   ]
  },
  {
   "cell_type": "code",
   "execution_count": null,
   "metadata": {},
   "outputs": [
    {
     "data": {
      "text/plain": [
       "============================================================================================================================================\n",
       "Layer (type:depth-idx)                   Input Shape               Output Shape              Param #                   Kernel Shape\n",
       "============================================================================================================================================\n",
       "ShallowFBCSPNet                          [4, 32, 400]              [4, 3]                    --                        --\n",
       "├─Conv2d: 1-1                            [4, 1, 32, 400]           [4, 20, 32, 376]          520                       [1, 25]\n",
       "├─Dropout: 1-2                           [4, 20, 32, 376]          [4, 20, 32, 376]          --                        --\n",
       "├─Conv2d: 1-3                            [4, 20, 32, 376]          [4, 20, 1, 376]           12,820                    [32, 1]\n",
       "├─BatchNorm2d: 1-4                       [4, 20, 1, 376]           [4, 20, 1, 376]           40                        --\n",
       "├─AvgPool2d: 1-5                         [4, 20, 1, 376]           [4, 20, 1, 7]             --                        [1, 50]\n",
       "├─Dropout: 1-6                           [4, 140]                  [4, 140]                  --                        --\n",
       "├─Linear: 1-7                            [4, 140]                  [4, 3]                    423                       --\n",
       "============================================================================================================================================\n",
       "Total params: 13,803\n",
       "Trainable params: 13,803\n",
       "Non-trainable params: 0\n",
       "Total mult-adds (Units.MEGABYTES): 44.31\n",
       "============================================================================================================================================\n",
       "Input size (MB): 0.20\n",
       "Forward/backward pass size (MB): 8.18\n",
       "Params size (MB): 0.06\n",
       "Estimated Total Size (MB): 8.44\n",
       "============================================================================================================================================"
      ]
     },
     "execution_count": 24,
     "metadata": {},
     "output_type": "execute_result"
    }
   ],
   "source": [
    "summary(model,input_size=(2, in_chans, input_window_samples),col_names=[\"input_size\", \"output_size\", \"num_params\", \"kernel_size\"])"
   ]
  },
  {
   "cell_type": "code",
   "execution_count": null,
   "metadata": {},
   "outputs": [],
   "source": []
  }
 ],
 "metadata": {
  "kernelspec": {
   "display_name": "Python 3",
   "language": "python",
   "name": "python3"
  },
  "language_info": {
   "codemirror_mode": {
    "name": "ipython",
    "version": 3
   },
   "file_extension": ".py",
   "mimetype": "text/x-python",
   "name": "python",
   "nbconvert_exporter": "python",
   "pygments_lexer": "ipython3",
   "version": "3.12.3"
  }
 },
 "nbformat": 4,
 "nbformat_minor": 2
}
