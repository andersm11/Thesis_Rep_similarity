{
 "cells": [
  {
   "cell_type": "code",
   "execution_count": 37,
   "metadata": {},
   "outputs": [],
   "source": [
    "import numpy as np\n",
    "import torch\n",
    "import matplotlib.pyplot as plt\n",
    "import seaborn as sns\n",
    "from braindecode.models import EEGConformer\n",
    "import pandas as pd\n",
    "from collections import OrderedDict\n",
    "from CKA_functions import adjacency_matrix_motion,adjacency_matrix_distance_motion\n",
    "import math\n",
    "import importlib\n",
    "import RGNN\n",
    "importlib.reload(RGNN)\n",
    "from RGNN import ShallowSGCNNet\n",
    "from torchinfo import summary"
   ]
  },
  {
   "cell_type": "code",
   "execution_count": 38,
   "metadata": {},
   "outputs": [
    {
     "name": "stdout",
     "output_type": "stream",
     "text": [
      "torch.Size([484])\n"
     ]
    }
   ],
   "source": [
    "in_chans = 32\n",
    "n_classes = 3\n",
    "input_window_samples = 400\n",
    "\n",
    "adj_m,pos = adjacency_matrix_motion()\n",
    "#print(adj_m)\n",
    "adj_dis_m, dm = adjacency_matrix_distance_motion(pos,delta=5)\n",
    "dm\n",
    "torch_tensor = torch.from_numpy(dm)\n",
    "edge_weight = torch_tensor.reshape(-1)\n",
    "print(edge_weight.shape)\n",
    "model = ShallowSGCNNet(in_chans,n_classes,input_window_samples,edge_weight)"
   ]
  },
  {
   "cell_type": "code",
   "execution_count": 39,
   "metadata": {},
   "outputs": [
    {
     "name": "stdout",
     "output_type": "stream",
     "text": [
      "ShallowSGCNNet(\n",
      "  (temporal): Conv2d(1, 10, kernel_size=(1, 25), stride=(1, 1))\n",
      "  (sgconv): SimpleGCNNet(\n",
      "    (sgconv): SGConv(37, 2, K=1)\n",
      "  )\n",
      "  (batch_norm): BatchNorm2d(10, eps=1e-05, momentum=0.1, affine=True, track_running_stats=True)\n",
      "  (pool): AvgPool2d(kernel_size=(1, 10), stride=(1, 10), padding=0)\n",
      "  (dropout): Dropout(p=0.5, inplace=False)\n",
      "  (fc): Linear(in_features=640, out_features=3, bias=True)\n",
      ")\n"
     ]
    }
   ],
   "source": [
    "print(model)"
   ]
  },
  {
   "cell_type": "code",
   "execution_count": 40,
   "metadata": {},
   "outputs": [
    {
     "name": "stdout",
     "output_type": "stream",
     "text": [
      "Distance Matrix Shape: (22, 22)\n",
      "Edge Index:\n",
      " torch.Size([2, 484])\n"
     ]
    }
   ],
   "source": [
    "\n",
    "# Define a threshold distance below which nodes will be connected\n",
    "threshold = 0  # Adjust as needed\n",
    "\n",
    "source_nodes = []\n",
    "target_nodes = []\n",
    "\n",
    "# Iterate over all elements in the distance matrix, including self-loops and duplicates\n",
    "for i in range(dm.shape[0]):\n",
    "    for j in range(dm.shape[1]):  # Iterate over all pairs, including (i, i)\n",
    "        if dm[i, j] >= threshold:  # If the distance meets the condition\n",
    "            source_nodes.append(i)  # Source node\n",
    "            target_nodes.append(j)  # Target node\n",
    "\n",
    "# Create the edge_index tensor\n",
    "edge_index = torch.tensor([source_nodes, target_nodes], dtype=torch.long)\n",
    "\n",
    "print(\"Distance Matrix Shape:\", dm.shape)\n",
    "print(\"Edge Index:\\n\", edge_index.shape)"
   ]
  },
  {
   "cell_type": "code",
   "execution_count": 41,
   "metadata": {},
   "outputs": [
    {
     "name": "stdout",
     "output_type": "stream",
     "text": [
      "torch.Size([2, 484])\n"
     ]
    }
   ],
   "source": [
    "print(edge_index.shape)"
   ]
  },
  {
   "cell_type": "code",
   "execution_count": 42,
   "metadata": {},
   "outputs": [
    {
     "data": {
      "text/plain": [
       "============================================================================================================================================\n",
       "Layer (type:depth-idx)                   Input Shape               Output Shape              Param #                   Kernel Shape\n",
       "============================================================================================================================================\n",
       "ShallowSGCNNet                           [2, 32, 400]              [2, 3]                    --                        --\n",
       "├─Conv2d: 1-1                            [2, 1, 32, 400]           [2, 10, 32, 376]          260                       [1, 25]\n",
       "├─BatchNorm2d: 1-2                       [2, 10, 32, 376]          [2, 10, 32, 376]          20                        --\n",
       "├─AvgPool2d: 1-3                         [2, 10, 32, 376]          [2, 10, 32, 37]           --                        [1, 10]\n",
       "├─SimpleGCNNet: 1-4                      [2, 10, 32, 37]           [2, 10, 32, 2]            484                       --\n",
       "│    └─SGConv: 2-1                       [2, 10, 32, 37]           [2, 10, 32, 2]            --                        --\n",
       "│    │    └─SumAggregation: 3-1          [2, 10, 494, 37]          [2, 10, 32, 37]           --                        --\n",
       "│    │    └─Linear: 3-2                  [2, 10, 32, 37]           [2, 10, 32, 2]            76                        --\n",
       "├─Dropout: 1-5                           [2, 640]                  [2, 640]                  --                        --\n",
       "├─Linear: 1-6                            [2, 640]                  [2, 3]                    1,923                     --\n",
       "============================================================================================================================================\n",
       "Total params: 2,763\n",
       "Trainable params: 2,763\n",
       "Non-trainable params: 0\n",
       "Total mult-adds (Units.MEGABYTES): 6.26\n",
       "============================================================================================================================================\n",
       "Input size (MB): 0.10\n",
       "Forward/backward pass size (MB): 3.86\n",
       "Params size (MB): 0.01\n",
       "Estimated Total Size (MB): 3.97\n",
       "============================================================================================================================================"
      ]
     },
     "execution_count": 42,
     "metadata": {},
     "output_type": "execute_result"
    }
   ],
   "source": [
    "summary(model,input_size=(2, 32, 400),edge_index=edge_index, col_names=[\"input_size\", \"output_size\", \"num_params\", \"kernel_size\"])"
   ]
  },
  {
   "cell_type": "code",
   "execution_count": null,
   "metadata": {},
   "outputs": [],
   "source": []
  }
 ],
 "metadata": {
  "kernelspec": {
   "display_name": "Python 3",
   "language": "python",
   "name": "python3"
  },
  "language_info": {
   "codemirror_mode": {
    "name": "ipython",
    "version": 3
   },
   "file_extension": ".py",
   "mimetype": "text/x-python",
   "name": "python",
   "nbconvert_exporter": "python",
   "pygments_lexer": "ipython3",
   "version": "3.12.3"
  }
 },
 "nbformat": 4,
 "nbformat_minor": 2
}
