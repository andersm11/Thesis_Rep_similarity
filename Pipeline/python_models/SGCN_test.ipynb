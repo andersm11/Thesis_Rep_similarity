{
 "cells": [
  {
   "cell_type": "code",
   "execution_count": 18,
   "metadata": {},
   "outputs": [],
   "source": [
    "import numpy as np\n",
    "import torch\n",
    "import matplotlib.pyplot as plt\n",
    "import seaborn as sns\n",
    "import pandas as pd\n",
    "from collections import OrderedDict\n",
    "from CKA_functions import adjacency_matrix_motion,adjacency_matrix_distance_motion\n",
    "from CKA_functions import adjacency_matrix_FACED,adjacency_matrix_distance_FACED\n",
    "import math\n",
    "import importlib\n",
    "import SGCN_norm\n",
    "importlib.reload(SGCN_norm)\n",
    "from SGCN_norm import ShallowSGCNNet\n",
    "from torchinfo import summary"
   ]
  },
  {
   "cell_type": "code",
   "execution_count": 19,
   "metadata": {},
   "outputs": [
    {
     "name": "stdout",
     "output_type": "stream",
     "text": [
      "torch.Size([484])\n"
     ]
    }
   ],
   "source": [
    "in_chans = 22\n",
    "n_classes = 4\n",
    "input_window_samples = 1125\n",
    "\n",
    "adj_m,pos = adjacency_matrix_motion()\n",
    "#print(adj_m)\n",
    "adj_dis_m, dm = adjacency_matrix_distance_motion(pos,delta=6)\n",
    "dm\n",
    "torch_tensor = torch.from_numpy(dm)\n",
    "edge_weight = torch_tensor.reshape(-1)\n",
    "print(edge_weight.shape)\n",
    "model = ShallowSGCNNet(in_chans,n_classes,input_window_samples,edge_weight)"
   ]
  },
  {
   "cell_type": "code",
   "execution_count": 20,
   "metadata": {},
   "outputs": [
    {
     "name": "stdout",
     "output_type": "stream",
     "text": [
      "ShallowSGCNNet(\n",
      "  (temporal): Conv2d(1, 40, kernel_size=(1, 25), stride=(1, 1))\n",
      "  (tpool): AvgPool2d(kernel_size=(1, 2), stride=(1, 2), padding=0)\n",
      "  (tbatch_norm): BatchNorm2d(40, eps=1e-05, momentum=0.1, affine=True, track_running_stats=True)\n",
      "  (sgconv): SimpleGCNNet(\n",
      "    (sgconv): SGConv(550, 10, K=1)\n",
      "  )\n",
      "  (batch_norm): BatchNorm2d(40, eps=1e-05, momentum=0.1, affine=True, track_running_stats=True)\n",
      "  (pool): AvgPool2d(kernel_size=(1, 10), stride=(1, 10), padding=0)\n",
      "  (dropout): Dropout(p=0.5, inplace=False)\n",
      "  (fc): Linear(in_features=880, out_features=4, bias=True)\n",
      ")\n"
     ]
    }
   ],
   "source": [
    "print(model)"
   ]
  },
  {
   "cell_type": "code",
   "execution_count": 21,
   "metadata": {},
   "outputs": [
    {
     "name": "stdout",
     "output_type": "stream",
     "text": [
      "Distance Matrix Shape: (22, 22)\n",
      "Edge Index:\n",
      " torch.Size([2, 484])\n"
     ]
    }
   ],
   "source": [
    "\n",
    "# Define a threshold distance below which nodes will be connected\n",
    "threshold = 0  # Adjust as needed\n",
    "\n",
    "source_nodes = []\n",
    "target_nodes = []\n",
    "\n",
    "# Iterate over all elements in the distance matrix, including self-loops and duplicates\n",
    "for i in range(dm.shape[0]):\n",
    "    for j in range(dm.shape[1]):  # Iterate over all pairs, including (i, i)\n",
    "        if dm[i, j] >= threshold:  # If the distance meets the condition\n",
    "            source_nodes.append(i)  # Source node\n",
    "            target_nodes.append(j)  # Target node\n",
    "\n",
    "# Create the edge_index tensor\n",
    "edge_index = torch.tensor([source_nodes, target_nodes], dtype=torch.long)\n",
    "\n",
    "print(\"Distance Matrix Shape:\", dm.shape)\n",
    "print(\"Edge Index:\\n\", edge_index.shape)"
   ]
  },
  {
   "cell_type": "code",
   "execution_count": 22,
   "metadata": {},
   "outputs": [
    {
     "name": "stdout",
     "output_type": "stream",
     "text": [
      "torch.Size([2, 484])\n"
     ]
    }
   ],
   "source": [
    "print(edge_index.shape)"
   ]
  },
  {
   "cell_type": "code",
   "execution_count": 23,
   "metadata": {},
   "outputs": [
    {
     "data": {
      "image/png": "[encoded data removed]",
      "text/plain": [
       "<Figure size 800x800 with 2 Axes>"
      ]
     },
     "metadata": {},
     "output_type": "display_data"
    }
   ],
   "source": [
    "adj_matrix = model.sgconv.edge_weights.detach().cpu().numpy().reshape(22,22)\n",
    "fig, ax = plt.subplots(figsize=(8, 8))\n",
    "cax = ax.matshow(adj_matrix, cmap='viridis', interpolation='nearest',vmin=0, vmax=1)  # Adjust color map\n",
    "fig.colorbar(cax)\n",
    "ax.set_title(\"Learned Edge Weights (Adjacency Matrix)\")\n",
    "ax.set_xlabel(\"Node Index\")\n",
    "ax.set_ylabel(\"Node Index\")\n",
    "\n",
    "\n",
    "# Finally, show the plot\n",
    "plt.show()"
   ]
  },
  {
   "cell_type": "code",
   "execution_count": 24,
   "metadata": {},
   "outputs": [
    {
     "data": {
      "text/plain": [
       "============================================================================================================================================\n",
       "Layer (type:depth-idx)                   Input Shape               Output Shape              Param #                   Kernel Shape\n",
       "============================================================================================================================================\n",
       "ShallowSGCNNet                           [2, 22, 1125]             [2, 4]                    --                        --\n",
       "├─Conv2d: 1-1                            [2, 1, 22, 1125]          [2, 40, 22, 1101]         1,040                     [1, 25]\n",
       "├─BatchNorm2d: 1-2                       [2, 40, 22, 1101]         [2, 40, 22, 1101]         80                        --\n",
       "├─AvgPool2d: 1-3                         [2, 40, 22, 1101]         [2, 40, 22, 550]          --                        [1, 2]\n",
       "├─SimpleGCNNet: 1-4                      [2, 40, 22, 550]          [2, 40, 22, 10]           484                       --\n",
       "│    └─SGConv: 2-1                       [2, 40, 22, 550]          [2, 40, 22, 10]           --                        --\n",
       "│    │    └─SumAggregation: 3-1          [2, 40, 484, 550]         [2, 40, 22, 550]          --                        --\n",
       "│    │    └─Linear: 3-2                  [2, 40, 22, 550]          [2, 40, 22, 10]           5,510                     --\n",
       "├─BatchNorm2d: 1-5                       [2, 40, 22, 10]           [2, 40, 22, 10]           80                        --\n",
       "├─AvgPool2d: 1-6                         [2, 40, 22, 10]           [2, 40, 22, 1]            --                        [1, 10]\n",
       "├─Dropout: 1-7                           [2, 880]                  [2, 880]                  --                        --\n",
       "├─Linear: 1-8                            [2, 880]                  [2, 4]                    3,524                     --\n",
       "============================================================================================================================================\n",
       "Total params: 10,718\n",
       "Trainable params: 10,718\n",
       "Non-trainable params: 0\n",
       "Total mult-adds (Units.MEGABYTES): 50.40\n",
       "============================================================================================================================================\n",
       "Input size (MB): 0.20\n",
       "Forward/backward pass size (MB): 31.29\n",
       "Params size (MB): 0.04\n",
       "Estimated Total Size (MB): 31.52\n",
       "============================================================================================================================================"
      ]
     },
     "execution_count": 24,
     "metadata": {},
     "output_type": "execute_result"
    }
   ],
   "source": [
    "summary(model,input_size=(2, 22, 1125),edge_index=edge_index, col_names=[\"input_size\", \"output_size\", \"num_params\", \"kernel_size\"])"
   ]
  },
  {
   "cell_type": "code",
   "execution_count": null,
   "metadata": {},
   "outputs": [],
   "source": []
  }
 ],
 "metadata": {
  "kernelspec": {
   "display_name": "Python 3",
   "language": "python",
   "name": "python3"
  },
  "language_info": {
   "codemirror_mode": {
    "name": "ipython",
    "version": 3
   },
   "file_extension": ".py",
   "mimetype": "text/x-python",
   "name": "python",
   "nbconvert_exporter": "python",
   "pygments_lexer": "ipython3",
   "version": "3.12.3"
  }
 },
 "nbformat": 4,
 "nbformat_minor": 2
}
