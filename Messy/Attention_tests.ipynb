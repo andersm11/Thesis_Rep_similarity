{
 "cells": [
  {
   "cell_type": "code",
<<<<<<< Updated upstream
   "execution_count": 5,
=======
   "execution_count": 2,
>>>>>>> Stashed changes
   "metadata": {},
   "outputs": [],
   "source": [
    "import numpy as np\n",
    "import torch\n",
    "import matplotlib.pyplot as plt\n",
    "import seaborn as sns\n",
    "from braindecode.models import EEGConformer\n",
    "import pandas as pd\n",
    "from collections import OrderedDict\n",
    "import math\n",
    "import importlib\n",
    "import Attention_FIRST_model\n",
    "importlib.reload(Attention_FIRST_model)\n",
    "from Attention_FIRST_model import ShallowAttentionNet\n",
    "from shallow_laurits import ShallowFBCSPNet\n",
    "from torchinfo import summary"
   ]
  },
  {
   "cell_type": "code",
<<<<<<< Updated upstream
   "execution_count": 6,
=======
   "execution_count": 3,
>>>>>>> Stashed changes
   "metadata": {},
   "outputs": [],
   "source": [
    "in_chans = 22\n",
    "n_classes = 4\n",
    "input_window_samples = 1125\n",
    "model = ShallowAttentionNet(in_chans,n_classes,input_window_samples)\n",
    "ref_model = ShallowFBCSPNet(in_chans,n_classes,input_window_samples)"
   ]
  },
  {
   "cell_type": "code",
<<<<<<< Updated upstream
   "execution_count": 7,
=======
   "execution_count": 4,
   "metadata": {},
   "outputs": [
    {
     "name": "stdout",
     "output_type": "stream",
     "text": [
      "ShallowAttentionNet(\n",
      "  (temporal): Conv2d(1, 10, kernel_size=(1, 25), stride=(1, 1))\n",
      "  (spatial_attention): SpatialAttention(\n",
      "    (query): Conv1d(22, 22, kernel_size=(1,), stride=(1,), bias=False)\n",
      "    (key): Conv1d(22, 22, kernel_size=(1,), stride=(1,), bias=False)\n",
      "    (value): Conv1d(22, 22, kernel_size=(1,), stride=(1,), bias=False)\n",
      "    (out_conv): Conv1d(22, 22, kernel_size=(1,), stride=(1,), bias=False)\n",
      "  )\n",
      "  (batch_norm): BatchNorm2d(10, eps=1e-05, momentum=0.1, affine=True, track_running_stats=True)\n",
      "  (pool): AvgPool2d(kernel_size=(1, 100), stride=(1, 100), padding=0)\n",
      "  (dropout): Dropout(p=0.7, inplace=False)\n",
      "  (fc): LazyLinear(in_features=0, out_features=4, bias=True)\n",
      ")\n"
     ]
    }
   ],
   "source": [
    "print(model)"
   ]
  },
  {
   "cell_type": "code",
   "execution_count": 5,
>>>>>>> Stashed changes
   "metadata": {},
   "outputs": [
    {
     "data": {
      "text/plain": [
       "============================================================================================================================================\n",
       "Layer (type:depth-idx)                   Input Shape               Output Shape              Param #                   Kernel Shape\n",
       "============================================================================================================================================\n",
       "ShallowAttentionNet                      [1, 22, 1125]             [1, 4]                    --                        --\n",
       "├─SpatialAttention: 1-1                  [1, 1, 22, 1125]          [1, 1, 22, 1125]          1                         --\n",
       "│    └─Conv1d: 2-1                       [1, 22, 1125]             [1, 22, 1125]             484                       [1]\n",
       "│    └─Conv1d: 2-2                       [1, 22, 1125]             [1, 22, 1125]             484                       [1]\n",
       "│    └─Conv1d: 2-3                       [1, 22, 1125]             [1, 22, 1125]             484                       [1]\n",
       "│    └─Conv1d: 2-4                       [1, 22, 1125]             [1, 22, 1125]             484                       [1]\n",
       "├─Conv2d: 1-2                            [1, 1, 22, 1125]          [1, 10, 22, 1101]         260                       [1, 25]\n",
       "├─BatchNorm2d: 1-3                       [1, 10, 22, 1101]         [1, 10, 22, 1101]         20                        --\n",
       "├─AvgPool2d: 1-4                         [1, 10, 22, 1101]         [1, 10, 22, 11]           --                        [1, 100]\n",
       "├─Dropout: 1-5                           [1, 2420]                 [1, 2420]                 --                        --\n",
       "├─Linear: 1-6                            [1, 2420]                 [1, 4]                    9,684                     --\n",
       "============================================================================================================================================\n",
       "Total params: 11,901\n",
       "Trainable params: 11,901\n",
       "Non-trainable params: 0\n",
       "Total mult-adds (Units.MEGABYTES): 8.49\n",
       "============================================================================================================================================\n",
       "Input size (MB): 0.10\n",
       "Forward/backward pass size (MB): 4.67\n",
       "Params size (MB): 0.05\n",
       "Estimated Total Size (MB): 4.81\n",
       "============================================================================================================================================"
      ]
     },
<<<<<<< Updated upstream
     "execution_count": 7,
=======
     "execution_count": 5,
>>>>>>> Stashed changes
     "metadata": {},
     "output_type": "execute_result"
    }
   ],
   "source": [
    "summary(model,input_size=(1, 22, 1125),col_names=[\"input_size\", \"output_size\", \"num_params\", \"kernel_size\"])"
   ]
  },
  {
   "cell_type": "code",
<<<<<<< Updated upstream
   "execution_count": 8,
=======
   "execution_count": 6,
>>>>>>> Stashed changes
   "metadata": {},
   "outputs": [
    {
     "data": {
      "text/plain": [
       "============================================================================================================================================\n",
       "Layer (type:depth-idx)                   Input Shape               Output Shape              Param #                   Kernel Shape\n",
       "============================================================================================================================================\n",
       "ShallowFBCSPNet                          [1, 22, 1125]             [1, 4]                    --                        --\n",
       "├─Conv2d: 1-1                            [1, 1, 22, 1125]          [1, 40, 22, 1101]         1,040                     [1, 25]\n",
       "├─Conv2d: 1-2                            [1, 40, 22, 1101]         [1, 40, 1, 1101]          35,240                    [22, 1]\n",
       "├─BatchNorm2d: 1-3                       [1, 40, 1, 1101]          [1, 40, 1, 1101]          80                        --\n",
       "├─AvgPool2d: 1-4                         [1, 40, 1, 1101]          [1, 40, 1, 11]            --                        [1, 100]\n",
       "├─Dropout: 1-5                           [1, 440]                  [1, 440]                  --                        --\n",
       "├─Linear: 1-6                            [1, 440]                  [1, 4]                    1,764                     --\n",
       "============================================================================================================================================\n",
       "Total params: 38,124\n",
       "Trainable params: 38,124\n",
       "Non-trainable params: 0\n",
       "Total mult-adds (Units.MEGABYTES): 63.99\n",
       "============================================================================================================================================\n",
       "Input size (MB): 0.10\n",
       "Forward/backward pass size (MB): 8.46\n",
       "Params size (MB): 0.15\n",
       "Estimated Total Size (MB): 8.71\n",
       "============================================================================================================================================"
      ]
     },
<<<<<<< Updated upstream
     "execution_count": 8,
=======
     "execution_count": 6,
>>>>>>> Stashed changes
     "metadata": {},
     "output_type": "execute_result"
    }
   ],
   "source": [
    "summary(ref_model,input_size=(1, 22, 1125),col_names=[\"input_size\", \"output_size\", \"num_params\", \"kernel_size\"])"
   ]
  },
  {
   "cell_type": "code",
<<<<<<< Updated upstream
   "execution_count": 9,
=======
   "execution_count": 7,
>>>>>>> Stashed changes
   "metadata": {},
   "outputs": [],
   "source": [
    "import pickle\n",
    "with open('Datasets/test_set.pkl', 'rb') as f:\n",
    "    test_set = pickle.load(f)\n",
    "\n",
    "X = torch.stack([torch.from_numpy(test_set[i][0]) for i in range(len(test_set))])"
   ]
  },
  {
   "cell_type": "code",
<<<<<<< Updated upstream
   "execution_count": 10,
=======
   "execution_count": 8,
>>>>>>> Stashed changes
   "metadata": {},
   "outputs": [
    {
     "name": "stdout",
     "output_type": "stream",
     "text": [
      "torch.Size([2592, 1, 22, 1125])\n"
     ]
    }
   ],
   "source": [
    "\n",
    "X_un = X.unsqueeze(dim=1)\n",
    "print(X_un.shape)"
   ]
  },
  {
   "cell_type": "code",
<<<<<<< Updated upstream
   "execution_count": 11,
=======
   "execution_count": 9,
>>>>>>> Stashed changes
   "metadata": {},
   "outputs": [
    {
     "name": "stdout",
     "output_type": "stream",
     "text": [
      "torch.Size([1, 4])\n",
<<<<<<< Updated upstream
      "tensor([[-0.1272,  0.0319,  0.1439, -0.0695]], grad_fn=<AddmmBackward0>)\n"
=======
      "tensor([[-0.0569, -0.0812, -0.0528,  0.0819]], grad_fn=<AddmmBackward0>)\n"
>>>>>>> Stashed changes
     ]
    }
   ],
   "source": [
    "model.eval()\n",
    "out = model(X[:1])\n",
    "print(out.shape)\n",
    "print(out)"
   ]
  },
  {
   "cell_type": "code",
   "execution_count": null,
   "metadata": {},
   "outputs": [],
   "source": []
  }
 ],
 "metadata": {
  "kernelspec": {
   "display_name": "Python 3",
   "language": "python",
   "name": "python3"
  },
  "language_info": {
   "codemirror_mode": {
    "name": "ipython",
    "version": 3
   },
   "file_extension": ".py",
   "mimetype": "text/x-python",
   "name": "python",
   "nbconvert_exporter": "python",
   "pygments_lexer": "ipython3",
   "version": "3.12.3"
  }
 },
 "nbformat": 4,
 "nbformat_minor": 2
}
