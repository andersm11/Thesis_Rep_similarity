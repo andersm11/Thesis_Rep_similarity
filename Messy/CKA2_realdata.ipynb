{
 "cells": [
  {
   "cell_type": "code",
   "execution_count": 1,
   "metadata": {},
   "outputs": [],
   "source": [
    "import numpy as np\n",
    "import torch\n",
    "import matplotlib.pyplot as plt\n",
    "import seaborn as sns\n",
    "#from shallow_fbcsp import ShallowFBCSPNet\n",
    "from braindecode.models import EEGConformer\n",
    "import Attention_models\n",
    "import importlib\n",
    "importlib.reload(Attention_models)\n",
    "import pandas as pd\n",
    "from collections import OrderedDict\n",
    "import math"
   ]
  },
  {
   "cell_type": "code",
   "execution_count": 2,
   "metadata": {},
   "outputs": [],
   "source": [
    "def linear_kernel(X):\n",
    "    \"\"\"Computes the linear kernel matrix for X.\"\"\"\n",
    "    return torch.matmul(X,X.T)  # Dot product\n",
    "\n",
    "def centering_matrix(K):\n",
    "    \"\"\"Apply centering to the kernel matrix.\"\"\"\n",
    "    n = K.shape[0]\n",
    "    H = torch.eye(n) - (1.0 / n) * torch.ones((n, n), device=K.device)\n",
    "    return H @ K @ H  # Centered kernel matrix\n",
    "\n",
    "def compute_hsic(K_x, K_y):\n",
    "    \"\"\"\n",
    "    Computes the Hilbert-Schmidt Independence Criterion (HSIC).\n",
    "    \n",
    "    Parameters:\n",
    "    - X: (n_samples, n_features_X) numpy array\n",
    "    - Y: (n_samples, n_features_Y) numpy array\n",
    "    - kernel_X: function to compute the kernel matrix for X\n",
    "    - kernel_Y: function to compute the kernel matrix for Y\n",
    "    \n",
    "    Returns:\n",
    "    - HSIC value (float)\n",
    "    \"\"\"\n",
    "    K_x_centered = centering_matrix(K_x)\n",
    "    K_y_centered = centering_matrix(K_y)\n",
    "    hsic_value = np.trace(K_x_centered @ K_y_centered) / ((K_x.shape[0] - 1) ** 2)\n",
    "    return hsic_value\n",
    "  \n",
    "def compute_CKA(K_x,K_y):\n",
    "  \"\"\"\n",
    "  compute CKA between two X,Y activations\n",
    "  \n",
    "  Parameters:\n",
    "  - X: (n_samples, x_features)\n",
    "  - Y: (n_samples, y_features)\n",
    "  - kernel_X: kernel for X\n",
    "  - kernel_Y: kernel for Y  \n",
    "  \"\"\"\n",
    "  HSIC_KL = compute_hsic(K_x,K_y) \n",
    "  #print(\"HSIC_KL:\", HSIC_KL)\n",
    "  HSIC_KK = compute_hsic(K_x,K_x)\n",
    "  #print(\"HSIC_KK:\", HSIC_KK)\n",
    "  HSIC_LL = compute_hsic(K_y,K_y)\n",
    "  #print(\"HSIC_LL:\", HSIC_LL)\n",
    "  numerator = HSIC_KL\n",
    "  denominator = math.sqrt(HSIC_KK * HSIC_LL)\n",
    "  return(numerator/denominator).item()\n"
   ]
  },
  {
   "cell_type": "code",
   "execution_count": 3,
   "metadata": {},
   "outputs": [],
   "source": [
    "# Define model parameters\n",
    "in_chans = 22\n",
    "n_classes = 4\n",
    "n_channels = 22\n",
    "input_window_samples = 1125\n",
    "# Load two models for comparison\n",
    "model= torch.load(\"shallow_63acc.pth\",weights_only = False,map_location=torch.device('cpu'))\n",
    "model2 =torch.load(\"Attention_models/spatial_attention_71_299221222.pth\",weights_only = False,map_location=torch.device('cpu'))#ShallowFBCSPNet(in_chans, n_classes, input_window_samples)\n",
    "\n"
   ]
  },
  {
   "cell_type": "code",
   "execution_count": 4,
   "metadata": {},
   "outputs": [
    {
     "name": "stdout",
     "output_type": "stream",
     "text": [
      "ShallowAttentionNet(\n",
      "  (temporal): Conv2d(1, 10, kernel_size=(1, 25), stride=(1, 1))\n",
      "  (spatial_attention): SpatialAttention(\n",
      "    (query): Conv1d(22, 22, kernel_size=(1,), stride=(1,))\n",
      "    (key): Conv1d(22, 22, kernel_size=(1,), stride=(1,))\n",
      "    (value): Conv1d(22, 22, kernel_size=(1,), stride=(1,))\n",
      "  )\n",
      "  (batch_norm): BatchNorm2d(10, eps=1e-05, momentum=0.1, affine=True, track_running_stats=True)\n",
      "  (pool): AvgPool2d(kernel_size=(1, 100), stride=(1, 100), padding=0)\n",
      "  (dropout): Dropout(p=0.5, inplace=False)\n",
      "  (fc): Linear(in_features=2420, out_features=4, bias=True)\n",
      ")\n"
     ]
    }
   ],
   "source": [
    "print(model2)"
   ]
  },
  {
   "cell_type": "code",
   "execution_count": 5,
   "metadata": {},
   "outputs": [
    {
     "name": "stdout",
     "output_type": "stream",
     "text": [
      "ShallowFBCSPNet(\n",
      "  (temporal): Conv2d(1, 40, kernel_size=(1, 25), stride=(1, 1))\n",
      "  (spatial): Conv2d(40, 40, kernel_size=(22, 1), stride=(1, 1))\n",
      "  (pool): AvgPool2d(kernel_size=(1, 100), stride=(1, 100), padding=0)\n",
      "  (batch_norm): BatchNorm2d(40, eps=1e-05, momentum=0.1, affine=True, track_running_stats=True)\n",
      "  (dropout): Dropout(p=0.5, inplace=False)\n",
      "  (fc): Linear(in_features=440, out_features=4, bias=True)\n",
      ")\n"
     ]
    }
   ],
   "source": [
    "print(model)"
   ]
  },
  {
   "cell_type": "code",
   "execution_count": null,
   "metadata": {},
   "outputs": [],
   "source": [
    "import os\n",
    "import torch\n",
    "\n",
    "def extract_model_activations(model, input_tensor, output_dir, batch_size=128):\n",
    "    if not os.path.exists(output_dir):\n",
    "        os.makedirs(output_dir)\n",
    "\n",
    "    activations = OrderedDict()\n",
    "\n",
    "    def get_activation(name):\n",
    "        def hook(model, input, output):\n",
    "            activations[name] = output.detach()\n",
    "        return hook\n",
    "\n",
    "    # Register hooks for specific layers\n",
    "    for name, layer in model.named_modules():\n",
    "        if name == \"temporal\" or name == \"spatial\" or name ==\"pool\" or name == \"patch_embedding.shallownet.0\" or  name == \"patch_embedding.shallownet.1\" or  name == \"patch_embedding.shallownet.4\" or name == \"spatial_attention\" :  # Modify as per your layer names\n",
    "            layer.register_forward_hook(get_activation(name))\n",
    "\n",
    "    model.eval()\n",
    "\n",
    "    with torch.no_grad():\n",
    "        for i in range(0, input_tensor.shape[0], batch_size):\n",
    "            batch = input_tensor[i:i + batch_size]  # Select current batch\n",
    "            _ = model(batch)  # Forward pass through the model\n",
    "\n",
    "            # Save activations after each batch\n",
    "            for name, activation in activations.items():\n",
    "                batch_idx = i // batch_size + 1  # This determines the batch number\n",
    "                print(f\"saving: {name}_batch_{batch_idx}.pt\")\n",
    "                torch.save(activation, os.path.join(output_dir, f\"{name}_batch_{batch_idx}.pt\"))\n",
    "            \n",
    "            # Clear activations list after saving\n",
    "            activations.clear()\n",
    "            torch.cuda.empty_cache()  # Optional: Clear GPU memory after each batch\n",
    "\n"
   ]
  },
  {
   "cell_type": "code",
   "execution_count": 7,
   "metadata": {},
   "outputs": [],
   "source": [
    "import pickle\n",
    "with open('Datasets/test_set.pkl', 'rb') as f:\n",
    "    test_set = pickle.load(f)"
   ]
  },
  {
   "cell_type": "code",
   "execution_count": 8,
   "metadata": {},
   "outputs": [
    {
     "name": "stdout",
     "output_type": "stream",
     "text": [
      "torch.Size([2592, 22, 1125])\n",
      "<class 'torch.Tensor'>\n"
     ]
    }
   ],
   "source": [
    "X = torch.stack([torch.from_numpy(test_set[i][0]) for i in range(len(test_set))])\n",
    "\n",
    "total_samples = X.shape[0]\n",
    "print(X.shape)  # Verify the tensor shape\n",
    "print(type(X))  # Should output <class 'torch.Tensor'>\n"
   ]
  },
  {
   "cell_type": "code",
   "execution_count": 9,
   "metadata": {},
   "outputs": [],
   "source": [
    "# print(model.conv_time.weight.device)  # Check the device of the conv_time layer\n",
    "# print(next(model.parameters()).device)\n"
   ]
  },
  {
   "cell_type": "code",
   "execution_count": 10,
   "metadata": {},
   "outputs": [
    {
     "name": "stdout",
     "output_type": "stream",
     "text": [
      "2592\n"
     ]
    }
   ],
   "source": [
    "\n",
    "batch_size = 64\n",
    "total_samples = X.shape[0]\n",
    "print(total_samples)"
   ]
  },
  {
   "cell_type": "code",
   "execution_count": 11,
   "metadata": {},
   "outputs": [],
   "source": [
    "# from scipy.signal import resample\n",
    "# resampled_input = torch.from_numpy(resample(X, num=1000, axis=-1))\n",
    "# resampled_input"
   ]
  },
  {
   "cell_type": "code",
   "execution_count": 12,
   "metadata": {},
   "outputs": [
    {
     "name": "stdout",
     "output_type": "stream",
     "text": [
      "torch.Size([22, 1125])\n"
     ]
    }
   ],
   "source": [
    "print(X[0].shape)"
   ]
  },
  {
   "cell_type": "code",
   "execution_count": 13,
   "metadata": {},
   "outputs": [
    {
     "name": "stdout",
     "output_type": "stream",
     "text": [
      "saving: temporal_batch_1.pt\n",
      "saving: spatial_batch_1.pt\n",
      "saving: pool_batch_1.pt\n",
      "saving: temporal_batch_2.pt\n",
      "saving: spatial_batch_2.pt\n",
      "saving: pool_batch_2.pt\n",
      "saving: temporal_batch_3.pt\n",
      "saving: spatial_batch_3.pt\n",
      "saving: pool_batch_3.pt\n",
      "saving: temporal_batch_4.pt\n",
      "saving: spatial_batch_4.pt\n",
      "saving: pool_batch_4.pt\n",
      "saving: temporal_batch_5.pt\n",
      "saving: spatial_batch_5.pt\n",
      "saving: pool_batch_5.pt\n",
      "saving: temporal_batch_6.pt\n",
      "saving: spatial_batch_6.pt\n",
      "saving: pool_batch_6.pt\n",
      "saving: temporal_batch_7.pt\n",
      "saving: spatial_batch_7.pt\n",
      "saving: pool_batch_7.pt\n",
      "saving: temporal_batch_8.pt\n",
      "saving: spatial_batch_8.pt\n",
      "saving: pool_batch_8.pt\n",
      "saving: temporal_batch_9.pt\n",
      "saving: spatial_batch_9.pt\n",
      "saving: pool_batch_9.pt\n",
      "saving: temporal_batch_10.pt\n",
      "saving: spatial_batch_10.pt\n",
      "saving: pool_batch_10.pt\n",
      "saving: temporal_batch_11.pt\n",
      "saving: spatial_batch_11.pt\n",
      "saving: pool_batch_11.pt\n",
      "saving: temporal_batch_12.pt\n",
      "saving: spatial_batch_12.pt\n",
      "saving: pool_batch_12.pt\n",
      "saving: temporal_batch_13.pt\n",
      "saving: spatial_batch_13.pt\n",
      "saving: pool_batch_13.pt\n",
      "saving: temporal_batch_14.pt\n",
      "saving: spatial_batch_14.pt\n",
      "saving: pool_batch_14.pt\n",
      "saving: temporal_batch_15.pt\n",
      "saving: spatial_batch_15.pt\n",
      "saving: pool_batch_15.pt\n",
      "saving: temporal_batch_16.pt\n",
      "saving: spatial_batch_16.pt\n",
      "saving: pool_batch_16.pt\n",
      "saving: temporal_batch_17.pt\n",
      "saving: spatial_batch_17.pt\n",
      "saving: pool_batch_17.pt\n",
      "saving: temporal_batch_18.pt\n",
      "saving: spatial_batch_18.pt\n",
      "saving: pool_batch_18.pt\n",
      "saving: temporal_batch_19.pt\n",
      "saving: spatial_batch_19.pt\n",
      "saving: pool_batch_19.pt\n",
      "saving: temporal_batch_20.pt\n",
      "saving: spatial_batch_20.pt\n",
      "saving: pool_batch_20.pt\n",
      "saving: temporal_batch_21.pt\n",
      "saving: spatial_batch_21.pt\n",
      "saving: pool_batch_21.pt\n",
      "saving: temporal_batch_22.pt\n",
      "saving: spatial_batch_22.pt\n",
      "saving: pool_batch_22.pt\n",
      "saving: temporal_batch_23.pt\n",
      "saving: spatial_batch_23.pt\n",
      "saving: pool_batch_23.pt\n",
      "saving: temporal_batch_24.pt\n",
      "saving: spatial_batch_24.pt\n",
      "saving: pool_batch_24.pt\n",
      "saving: temporal_batch_25.pt\n",
      "saving: spatial_batch_25.pt\n",
      "saving: pool_batch_25.pt\n",
      "saving: temporal_batch_26.pt\n",
      "saving: spatial_batch_26.pt\n",
      "saving: pool_batch_26.pt\n",
      "saving: temporal_batch_27.pt\n",
      "saving: spatial_batch_27.pt\n",
      "saving: pool_batch_27.pt\n",
      "saving: temporal_batch_28.pt\n",
      "saving: spatial_batch_28.pt\n",
      "saving: pool_batch_28.pt\n",
      "saving: temporal_batch_29.pt\n",
      "saving: spatial_batch_29.pt\n",
      "saving: pool_batch_29.pt\n",
      "saving: temporal_batch_30.pt\n",
      "saving: spatial_batch_30.pt\n",
      "saving: pool_batch_30.pt\n",
      "saving: temporal_batch_31.pt\n",
      "saving: spatial_batch_31.pt\n",
      "saving: pool_batch_31.pt\n",
      "saving: temporal_batch_32.pt\n",
      "saving: spatial_batch_32.pt\n",
      "saving: pool_batch_32.pt\n",
      "saving: temporal_batch_33.pt\n",
      "saving: spatial_batch_33.pt\n",
      "saving: pool_batch_33.pt\n",
      "saving: temporal_batch_34.pt\n",
      "saving: spatial_batch_34.pt\n",
      "saving: pool_batch_34.pt\n",
      "saving: temporal_batch_35.pt\n",
      "saving: spatial_batch_35.pt\n",
      "saving: pool_batch_35.pt\n",
      "saving: temporal_batch_36.pt\n",
      "saving: spatial_batch_36.pt\n",
      "saving: pool_batch_36.pt\n",
      "saving: temporal_batch_37.pt\n",
      "saving: spatial_batch_37.pt\n",
      "saving: pool_batch_37.pt\n",
      "saving: temporal_batch_38.pt\n",
      "saving: spatial_batch_38.pt\n",
      "saving: pool_batch_38.pt\n",
      "saving: temporal_batch_39.pt\n",
      "saving: spatial_batch_39.pt\n",
      "saving: pool_batch_39.pt\n",
      "saving: temporal_batch_40.pt\n",
      "saving: spatial_batch_40.pt\n",
      "saving: pool_batch_40.pt\n",
      "saving: temporal_batch_41.pt\n",
      "saving: spatial_batch_41.pt\n",
      "saving: pool_batch_41.pt\n"
     ]
    }
   ],
   "source": [
    "extract_model_activations(model,X,output_dir=\"Datasets/activations/model1/\",batch_size=batch_size)\n"
   ]
  },
  {
   "cell_type": "code",
   "execution_count": 14,
   "metadata": {},
   "outputs": [
    {
     "name": "stdout",
     "output_type": "stream",
     "text": [
      "torch.Size([2592, 22, 1125])\n"
     ]
    }
   ],
   "source": [
    "print(X.shape)\n",
    "#X_un = X.unsqueeze(dim=3)\n",
    "#print(X_un.shape)"
   ]
  },
  {
   "cell_type": "code",
   "execution_count": 15,
   "metadata": {},
   "outputs": [
    {
     "name": "stdout",
     "output_type": "stream",
     "text": [
      "saving: temporal_batch_1.pt\n",
      "saving: spatial_attention_batch_1.pt\n",
      "saving: pool_batch_1.pt\n",
      "saving: temporal_batch_2.pt\n",
      "saving: spatial_attention_batch_2.pt\n",
      "saving: pool_batch_2.pt\n",
      "saving: temporal_batch_3.pt\n",
      "saving: spatial_attention_batch_3.pt\n",
      "saving: pool_batch_3.pt\n",
      "saving: temporal_batch_4.pt\n",
      "saving: spatial_attention_batch_4.pt\n",
      "saving: pool_batch_4.pt\n",
      "saving: temporal_batch_5.pt\n",
      "saving: spatial_attention_batch_5.pt\n",
      "saving: pool_batch_5.pt\n",
      "saving: temporal_batch_6.pt\n",
      "saving: spatial_attention_batch_6.pt\n",
      "saving: pool_batch_6.pt\n",
      "saving: temporal_batch_7.pt\n",
      "saving: spatial_attention_batch_7.pt\n",
      "saving: pool_batch_7.pt\n",
      "saving: temporal_batch_8.pt\n",
      "saving: spatial_attention_batch_8.pt\n",
      "saving: pool_batch_8.pt\n",
      "saving: temporal_batch_9.pt\n",
      "saving: spatial_attention_batch_9.pt\n",
      "saving: pool_batch_9.pt\n",
      "saving: temporal_batch_10.pt\n",
      "saving: spatial_attention_batch_10.pt\n",
      "saving: pool_batch_10.pt\n",
      "saving: temporal_batch_11.pt\n",
      "saving: spatial_attention_batch_11.pt\n",
      "saving: pool_batch_11.pt\n",
      "saving: temporal_batch_12.pt\n",
      "saving: spatial_attention_batch_12.pt\n",
      "saving: pool_batch_12.pt\n",
      "saving: temporal_batch_13.pt\n",
      "saving: spatial_attention_batch_13.pt\n",
      "saving: pool_batch_13.pt\n",
      "saving: temporal_batch_14.pt\n",
      "saving: spatial_attention_batch_14.pt\n",
      "saving: pool_batch_14.pt\n",
      "saving: temporal_batch_15.pt\n",
      "saving: spatial_attention_batch_15.pt\n",
      "saving: pool_batch_15.pt\n",
      "saving: temporal_batch_16.pt\n",
      "saving: spatial_attention_batch_16.pt\n",
      "saving: pool_batch_16.pt\n",
      "saving: temporal_batch_17.pt\n",
      "saving: spatial_attention_batch_17.pt\n",
      "saving: pool_batch_17.pt\n",
      "saving: temporal_batch_18.pt\n",
      "saving: spatial_attention_batch_18.pt\n",
      "saving: pool_batch_18.pt\n",
      "saving: temporal_batch_19.pt\n",
      "saving: spatial_attention_batch_19.pt\n",
      "saving: pool_batch_19.pt\n",
      "saving: temporal_batch_20.pt\n",
      "saving: spatial_attention_batch_20.pt\n",
      "saving: pool_batch_20.pt\n",
      "saving: temporal_batch_21.pt\n",
      "saving: spatial_attention_batch_21.pt\n",
      "saving: pool_batch_21.pt\n",
      "saving: temporal_batch_22.pt\n",
      "saving: spatial_attention_batch_22.pt\n",
      "saving: pool_batch_22.pt\n",
      "saving: temporal_batch_23.pt\n",
      "saving: spatial_attention_batch_23.pt\n",
      "saving: pool_batch_23.pt\n",
      "saving: temporal_batch_24.pt\n",
      "saving: spatial_attention_batch_24.pt\n",
      "saving: pool_batch_24.pt\n",
      "saving: temporal_batch_25.pt\n",
      "saving: spatial_attention_batch_25.pt\n",
      "saving: pool_batch_25.pt\n",
      "saving: temporal_batch_26.pt\n",
      "saving: spatial_attention_batch_26.pt\n",
      "saving: pool_batch_26.pt\n",
      "saving: temporal_batch_27.pt\n",
      "saving: spatial_attention_batch_27.pt\n",
      "saving: pool_batch_27.pt\n",
      "saving: temporal_batch_28.pt\n",
      "saving: spatial_attention_batch_28.pt\n",
      "saving: pool_batch_28.pt\n",
      "saving: temporal_batch_29.pt\n",
      "saving: spatial_attention_batch_29.pt\n",
      "saving: pool_batch_29.pt\n",
      "saving: temporal_batch_30.pt\n",
      "saving: spatial_attention_batch_30.pt\n",
      "saving: pool_batch_30.pt\n",
      "saving: temporal_batch_31.pt\n",
      "saving: spatial_attention_batch_31.pt\n",
      "saving: pool_batch_31.pt\n",
      "saving: temporal_batch_32.pt\n",
      "saving: spatial_attention_batch_32.pt\n",
      "saving: pool_batch_32.pt\n",
      "saving: temporal_batch_33.pt\n",
      "saving: spatial_attention_batch_33.pt\n",
      "saving: pool_batch_33.pt\n",
      "saving: temporal_batch_34.pt\n",
      "saving: spatial_attention_batch_34.pt\n",
      "saving: pool_batch_34.pt\n",
      "saving: temporal_batch_35.pt\n",
      "saving: spatial_attention_batch_35.pt\n",
      "saving: pool_batch_35.pt\n",
      "saving: temporal_batch_36.pt\n",
      "saving: spatial_attention_batch_36.pt\n",
      "saving: pool_batch_36.pt\n",
      "saving: temporal_batch_37.pt\n",
      "saving: spatial_attention_batch_37.pt\n",
      "saving: pool_batch_37.pt\n",
      "saving: temporal_batch_38.pt\n",
      "saving: spatial_attention_batch_38.pt\n",
      "saving: pool_batch_38.pt\n",
      "saving: temporal_batch_39.pt\n",
      "saving: spatial_attention_batch_39.pt\n",
      "saving: pool_batch_39.pt\n",
      "saving: temporal_batch_40.pt\n",
      "saving: spatial_attention_batch_40.pt\n",
      "saving: pool_batch_40.pt\n",
      "saving: temporal_batch_41.pt\n",
      "saving: spatial_attention_batch_41.pt\n",
      "saving: pool_batch_41.pt\n"
     ]
    }
   ],
   "source": [
    "extract_model_activations(model2,X,output_dir=\"Datasets/activations/model2/\",batch_size=batch_size)"
   ]
  },
  {
   "cell_type": "code",
   "execution_count": 16,
   "metadata": {},
   "outputs": [],
   "source": [
    "# length = torch.load(f\"Datasets/activations/model1/final_layer.conv_classifier_batch_1.pt\")\n",
    "# print(length.shape)"
   ]
  },
  {
   "cell_type": "code",
   "execution_count": 17,
   "metadata": {},
   "outputs": [],
   "source": [
    "del X"
   ]
  },
  {
   "cell_type": "code",
   "execution_count": 18,
   "metadata": {},
   "outputs": [
    {
     "name": "stdout",
     "output_type": "stream",
     "text": [
      "['temporal', 'spatial', 'pool']\n",
      "['temporal', 'spatial_attention', 'pool']\n"
     ]
    }
   ],
   "source": [
    "import numpy as np\n",
    "import pandas as pd\n",
    "import seaborn as sns\n",
    "import matplotlib.pyplot as plt\n",
    "from collections import OrderedDict\n",
    "\n",
    "# Use OrderedDict to preserve the order of layer names\n",
    "layer_names_model1 = [\"temporal\",\"spatial\",\"pool\"]#['conv_time', 'conv_spat','pool']\n",
    "layer_names_model2 = [\"temporal\",\"spatial_attention\",\"pool\"]\n",
    "\n",
    "\n",
    "print(layer_names_model1)\n",
    "print(layer_names_model2)"
   ]
  },
  {
   "cell_type": "code",
   "execution_count": 19,
   "metadata": {},
   "outputs": [
    {
     "data": {
      "text/plain": [
       "40.5"
      ]
     },
     "execution_count": 19,
     "metadata": {},
     "output_type": "execute_result"
    }
   ],
   "source": [
    "import math\n",
    "batch_nr = total_samples /batch_size\n",
    "\n",
    "batch_nr"
   ]
  },
  {
   "cell_type": "code",
   "execution_count": 20,
   "metadata": {},
   "outputs": [],
   "source": [
    "\n",
    "def compute_kernel_full_highmem(layer, batch_nr, model_number):\n",
    "    \"\"\"Computes the linear kernel for all samples at once.\"\"\"\n",
    "    \n",
    "\n",
    "    activations_list = []\n",
    "    \n",
    "    for batch_idx in range(1, math.ceil(batch_nr+1)):\n",
    "        print(f\"\\rLoading batch {batch_idx} for {layer} in model {model_number}\", end='', flush=True)\n",
    "        \n",
    "\n",
    "        batch_activations = torch.load(f\"Datasets/activations/model{model_number}/{layer}_batch_{batch_idx}.pt\")\n",
    "        batch_activations = batch_activations.reshape(batch_activations.shape[0], -1)  # Flatten\n",
    "        \n",
    "        activations_list.append(batch_activations)\n",
    "    \n",
    "    all_activations = torch.cat(activations_list, dim=0)\n",
    "    print(\"\\nFinal Activations Shape:\", all_activations.shape)\n",
    "\n",
    "    full_kernel = torch.matmul(all_activations, all_activations.T)\n",
    "\n",
    "    return full_kernel\n",
    "\n",
    "# model_1_kernels = OrderedDict()\n",
    "# model_2_kernels = OrderedDict()\n",
    "\n",
    "# for layer in layer_names_model1:\n",
    "#     model_1_kernels[layer] = compute_kernel_full_highmem(layer, batch_nr,1)\n",
    "# for layer in layer_names_model2:\n",
    "#     model_2_kernels[layer] = compute_kernel_full_highmem(layer,batch_nr,2)\n",
    "\n",
    "\n",
    "\n",
    "\n",
    "\n"
   ]
  },
  {
   "cell_type": "code",
   "execution_count": 23,
   "metadata": {},
   "outputs": [
    {
     "name": "stdout",
     "output_type": "stream",
     "text": [
      "Loading batches 1-10 for temporal in model 1"
     ]
    },
    {
     "name": "stderr",
     "output_type": "stream",
     "text": [
      "C:\\Users\\ahmm9\\AppData\\Local\\Temp\\ipykernel_14800\\3100305280.py:21: FutureWarning: You are using `torch.load` with `weights_only=False` (the current default value), which uses the default pickle module implicitly. It is possible to construct malicious pickle data which will execute arbitrary code during unpickling (See https://github.com/pytorch/pytorch/blob/main/SECURITY.md#untrusted-models for more details). In a future release, the default value for `weights_only` will be flipped to `True`. This limits the functions that could be executed during unpickling. Arbitrary objects will no longer be allowed to be loaded via this mode unless they are explicitly allowlisted by the user via `torch.serialization.add_safe_globals`. We recommend you start setting `weights_only=True` for any use case where you don't have full control of the loaded file. Please open an issue on GitHub for any issues related to this experimental feature.\n",
      "  batch_activations = torch.load(\n",
      "C:\\Users\\ahmm9\\AppData\\Local\\Temp\\ipykernel_14800\\3100305280.py:41: FutureWarning: You are using `torch.load` with `weights_only=False` (the current default value), which uses the default pickle module implicitly. It is possible to construct malicious pickle data which will execute arbitrary code during unpickling (See https://github.com/pytorch/pytorch/blob/main/SECURITY.md#untrusted-models for more details). In a future release, the default value for `weights_only` will be flipped to `True`. This limits the functions that could be executed during unpickling. Arbitrary objects will no longer be allowed to be loaded via this mode unless they are explicitly allowlisted by the user via `torch.serialization.add_safe_globals`. We recommend you start setting `weights_only=True` for any use case where you don't have full control of the loaded file. Please open an issue on GitHub for any issues related to this experimental feature.\n",
      "  batch_activations_transpose = torch.load(\n"
     ]
    },
    {
     "name": "stdout",
     "output_type": "stream",
     "text": [
      "Loading batches 41-50 for pool in model 2on in model 2"
     ]
    }
   ],
   "source": [
    "def compute_kernel_full_lowmem(layer, batch_nr, model_number, total_samples, batch_size, n_batches=1, use_cuda=False):\n",
    "    \"\"\"Computes the full kernel matrix in batches efficiently using matrix multiplication.\"\"\"\n",
    "    \n",
    "    device = torch.device(\"cuda\" if use_cuda and torch.cuda.is_available() else \"cpu\")\n",
    "\n",
    "    full_kernel = torch.zeros((total_samples, total_samples), dtype=torch.float32, device=device)\n",
    "    \n",
    "    for batch_idx in range(1, math.ceil(math.ceil(batch_nr) / n_batches) + 1):\n",
    "        print(f\"\\rLoading batches {batch_idx * n_batches - (n_batches - 1)}-{batch_idx * n_batches} for {layer} in model {model_number}\", \n",
    "              end='', flush=True)\n",
    "\n",
    "        batch_activations_list = []\n",
    "        start_idx_col = (batch_idx - 1) * batch_size * n_batches\n",
    "        end_idx_col = min(start_idx_col + batch_size * n_batches, total_samples)  \n",
    "\n",
    "        # Load multiple batches at once\n",
    "        for sub_batch in range(n_batches):\n",
    "            batch_file_idx = (batch_idx - 1) * n_batches + sub_batch + 1\n",
    "            if batch_file_idx > math.ceil(batch_nr):\n",
    "                break\n",
    "            batch_activations = torch.load(\n",
    "                f\"Datasets/activations/model{model_number}/{layer}_batch_{batch_file_idx}.pt\"\n",
    "            ).to(device)\n",
    "            batch_activations_list.append(batch_activations.reshape(batch_activations.shape[0], -1))\n",
    "\n",
    "        if not batch_activations_list:\n",
    "            continue\n",
    "\n",
    "        batch_activations = torch.cat(batch_activations_list, dim=0)  # Merge batches\n",
    "\n",
    "        for batch_idx2 in range(1, math.ceil(math.ceil(batch_nr) / n_batches) + 2):\n",
    "            batch_activations_transpose_list = []\n",
    "            start_idx_row = (batch_idx2 - 1) * batch_size * n_batches\n",
    "            end_idx_row = min(start_idx_row + batch_size * n_batches, total_samples)\n",
    "\n",
    "            # Load multiple batches at once\n",
    "            for sub_batch2 in range(n_batches):\n",
    "                batch_file_idx2 = (batch_idx2 - 1) * n_batches + sub_batch2 + 1\n",
    "                if batch_file_idx2 > math.ceil(batch_nr):\n",
    "                    break\n",
    "                batch_activations_transpose = torch.load(\n",
    "                    f\"Datasets/activations/model{model_number}/{layer}_batch_{batch_file_idx2}.pt\"\n",
    "                ).to(device)\n",
    "                batch_activations_transpose_list.append(batch_activations_transpose.reshape(batch_activations_transpose.shape[0], -1))\n",
    "\n",
    "            if not batch_activations_transpose_list:\n",
    "                continue\n",
    "\n",
    "            batch_activations_transpose = torch.cat(batch_activations_transpose_list, dim=0)\n",
    "\n",
    "            kernel_block = batch_activations @ batch_activations_transpose.T\n",
    "            full_kernel[start_idx_col:end_idx_col, start_idx_row:end_idx_row] = kernel_block\n",
    "            full_kernel[start_idx_row:end_idx_row, start_idx_col:end_idx_col] = kernel_block.T  # Use symmetry\n",
    "\n",
    "    return full_kernel.cpu()\n",
    "\n",
    "\n",
    "def compute_full_kernels(layer_names_model1, layer_names_model2, batch_nr, total_samples,batch_size,n_batches):\n",
    "    \"\"\"Computes the kernels for both models.\"\"\"\n",
    "    model_1_kernels = {}\n",
    "    model_2_kernels = {}\n",
    "\n",
    "    # Compute kernels for model 1\n",
    "    for layer in layer_names_model1:\n",
    "        model_1_kernels[layer] = compute_kernel_full_lowmem(layer, batch_nr, 1, total_samples,batch_size,n_batches)\n",
    "\n",
    "    # Compute kernels for model 2\n",
    "    for layer in layer_names_model2:\n",
    "        model_2_kernels[layer] = compute_kernel_full_lowmem(layer, batch_nr, 2, total_samples,batch_size,n_batches)\n",
    "\n",
    "    return model_1_kernels, model_2_kernels\n",
    "\n",
    "model_1_kernels = OrderedDict()\n",
    "model_2_kernels = OrderedDict()\n",
    "layer_names_model = layer_names_model1 \n",
    "\n",
    "    \n",
    "model_1_kernels, model_2_kernels = compute_full_kernels(layer_names_model1, layer_names_model2, batch_nr,total_samples,batch_size,10)"
   ]
  },
  {
   "cell_type": "code",
   "execution_count": 25,
   "metadata": {},
   "outputs": [
    {
     "name": "stdout",
     "output_type": "stream",
     "text": [
      "torch.Size([2592, 2592])\n",
      "No zero values in the tensor.\n",
      "tensor([[6519904.0000, -131470.8594,  891554.7500,  ..., -135528.0938,\n",
      "          351304.9375, -247082.2344],\n",
      "        [-131470.8594, 6319219.0000,  342514.5000,  ...,  398594.8750,\n",
      "          389983.2812,  381403.4062],\n",
      "        [ 891554.7500,  342514.5000, 5467753.5000,  ...,  145468.8594,\n",
      "          150282.9375, -105330.4062],\n",
      "        ...,\n",
      "        [-135528.0938,  398594.8750,  145468.8594,  ..., 3943598.5000,\n",
      "          -49945.9648,  220594.5000],\n",
      "        [ 351304.9375,  389983.2812,  150282.9375,  ...,  -49945.9688,\n",
      "         4040193.5000,  274010.5312],\n",
      "        [-247082.2344,  381403.4062, -105330.4062,  ...,  220594.5000,\n",
      "          274010.5312, 4611897.5000]])\n"
     ]
    }
   ],
   "source": [
    "\n",
    "print(model_1_kernels[\"temporal\"].shape)\n",
    "if (model_1_kernels[\"temporal\"] == 0).any():\n",
    "    print(\"The tensor contains at least one zero value.\")\n",
    "else:\n",
    "    print(\"No zero values in the tensor.\")\n",
    "\n",
    "print(model_1_kernels[\"temporal\"])\n"
   ]
  },
  {
   "cell_type": "code",
   "execution_count": 26,
   "metadata": {},
   "outputs": [
    {
     "name": "stdout",
     "output_type": "stream",
     "text": [
      "torch.Size([2592, 2592])\n",
      "No zero values in the tensor.\n",
      "tensor([[2777953.0000,   -3982.6218,  464473.5312,  ...,  -52299.5195,\n",
      "          191567.7344, -140537.6406],\n",
      "        [  -3982.6218, 2701940.0000,  180374.2812,  ...,  217617.7344,\n",
      "          180124.5000,  187227.5000],\n",
      "        [ 464473.5312,  180374.2812, 2234964.5000,  ...,   91872.0781,\n",
      "           46863.7422,  -41621.4844],\n",
      "        ...,\n",
      "        [ -52299.5195,  217617.7344,   91872.0781,  ..., 2022318.5000,\n",
      "          -54737.1172,  105195.1406],\n",
      "        [ 191567.7344,  180124.5000,   46863.7422,  ...,  -54737.1055,\n",
      "         1914695.3750,  108082.7891],\n",
      "        [-140537.6406,  187227.5000,  -41621.4844,  ...,  105195.1406,\n",
      "          108082.7891, 2308903.7500]])\n"
     ]
    }
   ],
   "source": [
    "\n",
    "print(model_2_kernels[\"temporal\"].shape)\n",
    "if (model_2_kernels[\"temporal\"] == 0).any():\n",
    "    print(\"The tensor contains at least one zero value.\")\n",
    "else:\n",
    "    print(\"No zero values in the tensor.\")\n",
    "\n",
    "print(model_2_kernels[\"temporal\"])"
   ]
  },
  {
   "cell_type": "code",
   "execution_count": 42,
   "metadata": {},
   "outputs": [
    {
     "name": "stdout",
     "output_type": "stream",
     "text": [
      "CKA(temporal, temporal): 0.9290328226805366\n",
      "CKA(temporal, spatial_attention): 0.3220992541525918\n",
      "CKA(temporal, pool): 0.051847269002311853\n",
      "CKA(spatial, temporal): 0.6091890687788385\n",
      "CKA(spatial, spatial_attention): 0.6127117557996727\n",
      "CKA(spatial, pool): 0.07651737151287907\n",
      "CKA(pool, temporal): 0.05872596635831961\n",
      "CKA(pool, spatial_attention): 0.14070857708996418\n",
      "CKA(pool, pool): 0.5962067923148991\n"
     ]
    }
   ],
   "source": [
    "cka_results = OrderedDict()\n",
    "\n",
    "for layer1, K_x in model_1_kernels.items():\n",
    "    for layer2, K_y in model_2_kernels.items():\n",
    "        cka_value = compute_CKA(K_x, K_y)\n",
    "        cka_results[(layer1, layer2)] = cka_value\n",
    "        print(f\"CKA({layer1}, {layer2}): {cka_value}\")"
   ]
  },
  {
   "cell_type": "code",
   "execution_count": 43,
   "metadata": {},
   "outputs": [
    {
     "data": {
      "image/png": "[encoded data removed]",
      "text/plain": [
       "<Figure size 1000x800 with 2 Axes>"
      ]
     },
     "metadata": {},
     "output_type": "display_data"
    }
   ],
   "source": [
    "# Initialize a matrix for the CKA similarities\n",
    "n_layers1 = len(layer_names_model1)\n",
    "n_layers2 = len(layer_names_model2)\n",
    "matrix = np.zeros((n_layers1, n_layers2))\n",
    "\n",
    "# Fill the matrix with the CKA similarity values\n",
    "for (layer1, layer2), similarity in cka_results.items():\n",
    "\n",
    "    if layer1 in layer_names_model1:\n",
    "        i = layer_names_model1.index(layer1)  # Index for model 1 layer\n",
    "    else:\n",
    "        i = -1  # Invalid index (in case of layer not in model1)\n",
    "\n",
    "    if layer2 in layer_names_model2:\n",
    "        j = layer_names_model2.index(layer2)  # Index for model 2 layer\n",
    "    else:\n",
    "        j = -1  # Invalid index (in case of layer not in model2)\n",
    "    \n",
    "    if i != -1 and j != -1:  # Only fill the matrix if both indices are valid\n",
    "        matrix[i, j] = similarity\n",
    "\n",
    "# Create a DataFrame for better visualization\n",
    "df = pd.DataFrame(matrix, index=layer_names_model1, columns=layer_names_model2)\n",
    "\n",
    "# Plot the heatmap\n",
    "plt.figure(figsize=(10, 8))\n",
    "sns.heatmap(df, annot=True, cmap='gist_heat', fmt='.2f', square=True, linewidths=0.5, cbar=True, vmin=0, vmax=1)\n",
    "plt.title('CKA Similarity Heatmap (Shallow vs Spatial attn )')\n",
    "plt.xlabel(f'Layer (Shallow)')\n",
    "plt.ylabel(f'Layer (Spatial attn)')\n",
    "plt.show()\n"
   ]
  },
  {
   "cell_type": "code",
   "execution_count": null,
   "metadata": {},
   "outputs": [],
   "source": []
  }
 ],
 "metadata": {
  "kernelspec": {
   "display_name": "Python 3",
   "language": "python",
   "name": "python3"
  },
  "language_info": {
   "codemirror_mode": {
    "name": "ipython",
    "version": 3
   },
   "file_extension": ".py",
   "mimetype": "text/x-python",
   "name": "python",
   "nbconvert_exporter": "python",
   "pygments_lexer": "ipython3",
   "version": "3.12.3"
  }
 },
 "nbformat": 4,
 "nbformat_minor": 2
}
