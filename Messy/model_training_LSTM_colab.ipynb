{
  "cells": [
    {
      "cell_type": "code",
      "execution_count": 1,
      "metadata": {
        "colab": {
          "base_uri": "https://localhost:8080/"
        },
        "id": "82Vbwzg32ZhZ",
        "outputId": "d9330908-5efd-4626-e098-d6494b7f7c49"
      },
      "outputs": [
        {
          "output_type": "stream",
          "name": "stdout",
          "text": [
            "Running in Google Colab. Checking required libraries...\n",
            "All required libraries are already installed.\n"
          ]
        }
      ],
      "source": [
        "import sys\n",
        "import importlib\n",
        "import subprocess\n",
        "\n",
        "def install_if_colab():\n",
        "    if \"google.colab\" in sys.modules:\n",
        "        print(\"Running in Google Colab. Checking required libraries...\")\n",
        "\n",
        "        packages = [\"moabb\", \"braindecode\"]  # Add required libraries\n",
        "        missing_packages = [pkg for pkg in packages if importlib.util.find_spec(pkg) is None]\n",
        "\n",
        "        if missing_packages:\n",
        "            print(f\"Installing missing libraries: {', '.join(missing_packages)}\")\n",
        "            !pip install {\" \".join(missing_packages)}\n",
        "        else:\n",
        "            print(\"All required libraries are already installed.\")\n",
        "    else:\n",
        "        print(\"Not running in Google Colab. No installation needed.\")\n",
        "\n",
        "install_if_colab()\n"
      ]
    },
    {
      "cell_type": "code",
      "execution_count": 2,
      "metadata": {
        "id": "RuGBArX_2Zhe"
      },
      "outputs": [],
      "source": [
        "# import numpy as np\n",
        "# from braindecode.datasets import MOABBDataset\n",
        "\n",
        "# subject_id = [1,2,3,4]\n",
        "# dataset = MOABBDataset(dataset_name=\"BNCI2014_001\", subject_ids=[1,2,3,4,5,6,7,8,9])\n",
        "\n",
        "\n",
        "\n",
        "# from braindecode.preprocessing import (\n",
        "#     exponential_moving_standardize,\n",
        "#     preprocess,\n",
        "#     Preprocessor,\n",
        "# )\n",
        "\n",
        "# low_cut_hz = 4.0  # low cut frequency for filtering\n",
        "# high_cut_hz = 38.0  # high cut frequency for filtering\n",
        "# # Parameters for exponential moving standardization\n",
        "# factor_new = 1e-3\n",
        "# init_block_size = 1000\n",
        "\n",
        "# transforms = [\n",
        "#     Preprocessor(\"pick_types\", eeg=True, meg=False, stim=False),  # Keep EEG sensors\n",
        "#     Preprocessor(\n",
        "#         lambda data, factor: np.multiply(data, factor),  # Convert from V to uV\n",
        "#         factor=1e6,\n",
        "#     ),\n",
        "#     Preprocessor(\"filter\", l_freq=low_cut_hz, h_freq=high_cut_hz),  # Bandpass filter\n",
        "#     Preprocessor(\n",
        "#         exponential_moving_standardize,  # Exponential moving standardization\n",
        "#         factor_new=factor_new,\n",
        "#         init_block_size=init_block_size,\n",
        "#     ),\n",
        "# ]\n",
        "\n",
        "# # Transform the data\n",
        "# preprocess(dataset, transforms, n_jobs=-1)\n"
      ]
    },
    {
      "cell_type": "code",
      "execution_count": 3,
      "metadata": {
        "id": "ZQTd3g-i2Zhf"
      },
      "outputs": [],
      "source": [
        "# from braindecode.preprocessing import create_windows_from_events\n",
        "\n",
        "# trial_start_offset_seconds = -0.5\n",
        "# # Extract sampling frequency, check that they are same in all datasets\n",
        "# sfreq = dataset.datasets[0].raw.info[\"sfreq\"]\n",
        "# assert all([ds.raw.info[\"sfreq\"] == sfreq for ds in dataset.datasets])\n",
        "# # Calculate the trial start offset in samples.\n",
        "# trial_start_offset_samples = int(trial_start_offset_seconds * sfreq)\n",
        "\n",
        "# # Create windows using braindecode function for this. It needs parameters to define how\n",
        "# # trials should be used.\n",
        "# windows_dataset = create_windows_from_events(\n",
        "#     dataset,\n",
        "#     trial_start_offset_samples=trial_start_offset_samples,\n",
        "#     trial_stop_offset_samples=0,\n",
        "#     preload=True,\n",
        "# )"
      ]
    },
    {
      "cell_type": "code",
      "execution_count": 4,
      "metadata": {
        "colab": {
          "base_uri": "https://localhost:8080/"
        },
        "id": "f_sHCnT22v9k",
        "outputId": "1146b923-c932-42c9-dd70-a1269dc60d3f"
      },
      "outputs": [
        {
          "output_type": "stream",
          "name": "stdout",
          "text": [
            "Drive already mounted at /content/drive; to attempt to forcibly remount, call drive.mount(\"/content/drive\", force_remount=True).\n"
          ]
        }
      ],
      "source": [
        "from google.colab import drive\n",
        "drive.mount('/content/drive')\n",
        "path = \"/content/drive/MyDrive/\""
      ]
    },
    {
      "cell_type": "code",
      "execution_count": 5,
      "metadata": {
        "id": "1osynJth26to"
      },
      "outputs": [],
      "source": [
        "import pickle\n",
        "with open(path+'EEG_data/test_set.pkl', 'rb') as f:\n",
        "    test_set = pickle.load(f)\n",
        "\n",
        "import pickle\n",
        "with open(path+'EEG_data/train_set.pkl', 'rb') as f:\n",
        "    train_set = pickle.load(f)"
      ]
    },
    {
      "cell_type": "code",
      "execution_count": 74,
      "metadata": {
        "colab": {
          "base_uri": "https://localhost:8080/"
        },
        "id": "Xba9vjnO2Zhg",
        "outputId": "cd293467-dddf-4f25-cba4-f56a337b7b59"
      },
      "outputs": [
        {
          "output_type": "stream",
          "name": "stdout",
          "text": [
            "n_classes:  4\n",
            "n_channels: 22\n",
            "input_window_samples size: 1125\n"
          ]
        }
      ],
      "source": [
        "import torch\n",
        "#from shallow_fbcsp import ShallowFBCSPNet\n",
        "from braindecode.util import set_random_seeds\n",
        "\n",
        "\n",
        "cuda = torch.cuda.is_available()  # check if GPU is available, if True chooses to use it\n",
        "device = \"cuda\" if cuda else \"cpu\"\n",
        "if cuda:\n",
        "    torch.backends.cudnn.benchmark = True\n",
        "seed = 19123\n",
        "set_random_seeds(seed=seed, cuda=cuda)\n",
        "\n",
        "n_classes = 4\n",
        "classes = list(range(n_classes))\n",
        "# Extract number of chans and time steps from dataset\n",
        "n_channels = 22\n",
        "input_window_samples = 1125\n",
        "\n",
        "print(\"n_classes: \", n_classes)\n",
        "print(\"n_channels:\", n_channels)\n",
        "print(\"input_window_samples size:\", input_window_samples)"
      ]
    },
    {
      "cell_type": "code",
      "execution_count": 89,
      "metadata": {
        "colab": {
          "base_uri": "https://localhost:8080/"
        },
        "id": "b3wPzn3X2Zhh",
        "outputId": "ceffe800-1037-4cf8-9121-dfe0ce7e2712"
      },
      "outputs": [
        {
          "output_type": "stream",
          "name": "stdout",
          "text": [
            "ShallowLSTMNet(\n",
            "  (lstm): IndependentLSTM(\n",
            "    (lstm): LSTM(1, 22, batch_first=True)\n",
            "  )\n",
            "  (spatial): Conv2d(22, 22, kernel_size=(22, 1), stride=(1, 1))\n",
            "  (pool): AvgPool2d(kernel_size=(1, 100), stride=(1, 100), padding=0)\n",
            "  (batch_norm): BatchNorm2d(22, eps=1e-05, momentum=0.1, affine=True, track_running_stats=True)\n",
            "  (dropout): Dropout(p=0.5, inplace=False)\n",
            "  (fc): LazyLinear(in_features=0, out_features=4, bias=True)\n",
            ")\n"
          ]
        }
      ],
      "source": [
        "#from models_fbscp import CollapsedShallowNet\n",
        "# The ShallowFBCSPNet is a `nn.Sequential` model\n",
        "import importlib\n",
        "import LSTM_model\n",
        "importlib.reload(LSTM_model)\n",
        "from LSTM_model import ShallowLSTMNet\n",
        "model = ShallowLSTMNet(\n",
        "    n_chans=22,\n",
        "    n_outputs=n_classes,\n",
        "    n_times=input_window_samples,\n",
        ")\n",
        "\n",
        "# Display torchinfo table describing the model\n",
        "print(model)\n",
        "\n",
        "# Send model to GPU\n",
        "if cuda:\n",
        "    model.cuda()\n",
        "\n"
      ]
    },
    {
      "cell_type": "code",
      "execution_count": 89,
      "metadata": {
        "id": "mK-C-UW62Zhi"
      },
      "outputs": [],
      "source": [
        "\n"
      ]
    },
    {
      "cell_type": "code",
      "execution_count": 90,
      "metadata": {
        "id": "n7Eii9TH2Zhi"
      },
      "outputs": [],
      "source": [
        "# splitted = windows_dataset.split(\"session\")\n",
        "# train_set = splitted['0train']  # Session train\n",
        "# test_set = splitted['1test']  # Session evaluation\n",
        "\n",
        "from torch.nn import Module\n",
        "from torch.optim.lr_scheduler import LRScheduler\n",
        "from torch.utils.data import DataLoader\n",
        "\n",
        "#lr = 1e-4\n",
        "#weight_decay = 1e-4\n",
        "#batch_size = 64\n",
        "#n_epochs = 200\n"
      ]
    },
    {
      "cell_type": "code",
      "execution_count": 91,
      "metadata": {
        "id": "inbw4Tud2Zhj"
      },
      "outputs": [],
      "source": [
        "#train_loader = DataLoader(train_set, batch_size=batch_size, shuffle=True)\n",
        "#progress_bar = tqdm(enumerate(train_loader), total=len(train_loader))\n",
        "\n",
        "\n",
        "#from collections import defaultdict\n",
        "\n",
        "#counting_dict = defaultdict(int)  # Initialize class counter\n",
        "\n",
        "#for batch_idx, (X, y, _) in progress_bar:\n",
        "#   X, y = X.to(device), y.to(device)  # Move to device if needed\n",
        "\n",
        "    # Count occurrences of each class in y\n",
        "#    for value in y:\n",
        "#        counting_dict[int(value.item())] += 1  # Convert tensor to int and update count\n",
        "\n",
        "# Print class frequencies\n",
        "#print(\"Class counts:\", dict(counting_dict))\n"
      ]
    },
    {
      "cell_type": "code",
      "execution_count": 92,
      "metadata": {
        "id": "PlgtbF-r2Zhj"
      },
      "outputs": [],
      "source": [
        "\n",
        "from tqdm import tqdm\n",
        "# Define a method for training one epoch\n",
        "\n",
        "\n",
        "def train_one_epoch(\n",
        "        dataloader: DataLoader, model: Module, loss_fn, optimizer,\n",
        "        scheduler: LRScheduler, epoch: int, device, print_batch_stats=True\n",
        "):\n",
        "    model.train()  # Set the model to training mode\n",
        "    train_loss, correct = 0, 0\n",
        "\n",
        "    progress_bar = tqdm(enumerate(dataloader), total=len(dataloader),\n",
        "                        disable=not print_batch_stats)\n",
        "\n",
        "    for batch_idx, (X, y, _) in progress_bar:\n",
        "        X, y = X.to(device), y.to(device)\n",
        "        #print(X.shape)\n",
        "        optimizer.zero_grad()\n",
        "        pred = model(X)\n",
        "        #print(y.shape)\n",
        "        #print(pred.shape)\n",
        "        loss = loss_fn(pred, y)\n",
        "        loss.backward()\n",
        "        optimizer.step()  # update the model weights\n",
        "        optimizer.zero_grad()\n",
        "\n",
        "        train_loss += loss.item()\n",
        "        correct += (pred.argmax(1) == y).sum().item()\n",
        "\n",
        "        #if print_batch_stats:\n",
        "        #    progress_bar.set_description(\n",
        "        #        f\"Epoch {epoch}/{n_epochs}, \"\n",
        "        #        f\"Batch {batch_idx + 1}/{len(dataloader)}, \"\n",
        "        #        f\"Loss: {loss.item():.6f}\"\n",
        "        #    )\n",
        "\n",
        "    # Update the learning rate\n",
        "    scheduler.step()\n",
        "\n",
        "    correct /= len(dataloader.dataset)\n",
        "    return train_loss / len(dataloader), correct\n"
      ]
    },
    {
      "cell_type": "code",
      "execution_count": 93,
      "metadata": {
        "id": "M1S-1vTK2Zhk"
      },
      "outputs": [],
      "source": [
        "from collections import defaultdict\n",
        "from tqdm import tqdm\n",
        "import torch\n",
        "from torch.utils.data import DataLoader\n",
        "from sklearn.metrics import confusion_matrix\n",
        "import numpy as np\n",
        "\n",
        "@torch.no_grad()\n",
        "def test_model(dataloader: DataLoader, model: torch.nn.Module, loss_fn, print_batch_stats=True):\n",
        "    device = next(model.parameters()).device  # Get model device\n",
        "    size = len(dataloader.dataset)\n",
        "    n_batches = len(dataloader)\n",
        "    model.eval()  # Switch to evaluation mode\n",
        "    test_loss, correct = 0, 0\n",
        "\n",
        "    # Initialize dictionaries for per-class tracking\n",
        "    class_correct = defaultdict(int)\n",
        "    class_total = defaultdict(int)\n",
        "\n",
        "    # Lists to store true and predicted labels for confusion matrix\n",
        "    all_preds = []\n",
        "    all_targets = []\n",
        "\n",
        "    if print_batch_stats:\n",
        "        progress_bar = tqdm(enumerate(dataloader), total=len(dataloader))\n",
        "    else:\n",
        "        progress_bar = enumerate(dataloader)\n",
        "\n",
        "    for batch_idx, (X, y, _) in progress_bar:\n",
        "        X, y = X.to(device), y.to(device)\n",
        "        pred = model(X)\n",
        "        batch_loss = loss_fn(pred, y).item()\n",
        "\n",
        "        test_loss += batch_loss\n",
        "        correct += (pred.argmax(1) == y).sum().item()\n",
        "\n",
        "        # Store predictions and true labels for confusion matrix\n",
        "        all_preds.append(pred.argmax(1).cpu())\n",
        "        all_targets.append(y.cpu())\n",
        "\n",
        "        # Compute per-class accuracy\n",
        "        preds_labels = pred.argmax(1)\n",
        "        for label, pred_label in zip(y, preds_labels):\n",
        "            class_total[label.item()] += 1\n",
        "            class_correct[label.item()] += (label == pred_label).item()\n",
        "\n",
        "        if print_batch_stats:\n",
        "            progress_bar.set_description(\n",
        "                f\"Batch {batch_idx + 1}/{len(dataloader)}, Loss: {batch_loss:.6f}\"\n",
        "            )\n",
        "\n",
        "    # Convert lists to tensors\n",
        "    all_preds = torch.cat(all_preds)\n",
        "    all_targets = torch.cat(all_targets)\n",
        "\n",
        "    # Compute per-class accuracy\n",
        "    class_accuracies = {\n",
        "        cls: (class_correct[cls] / class_total[cls]) * 100 if class_total[cls] > 0 else 0\n",
        "        for cls in class_total\n",
        "    }\n",
        "\n",
        "    # Compute overall accuracy\n",
        "    test_loss /= n_batches\n",
        "    overall_accuracy = (correct / size) * 100\n",
        "\n",
        "    # Print per-class accuracy\n",
        "    print(\"\\nClass-wise Accuracy:\")\n",
        "    for cls, acc in class_accuracies.items():\n",
        "        print(f\"  Class {cls}: {acc:.2f}%\")\n",
        "\n",
        "    print(f\"Test Accuracy: {overall_accuracy:.1f}%, Test Loss: {test_loss:.6f}\\n\")\n",
        "\n",
        "    return test_loss, overall_accuracy, class_accuracies, all_preds, all_targets\n"
      ]
    },
    {
      "cell_type": "code",
      "execution_count": 94,
      "metadata": {
        "colab": {
          "base_uri": "https://localhost:8080/"
        },
        "id": "Vn58-cmZ2Zhl",
        "outputId": "e4e753e8-c293-4267-be37-f7fc2cb57691"
      },
      "outputs": [
        {
          "output_type": "stream",
          "name": "stderr",
          "text": [
            "\u001b[34m\u001b[1mwandb\u001b[0m: \u001b[33mWARNING\u001b[0m Calling wandb.login() after wandb.init() has no effect.\n"
          ]
        },
        {
          "output_type": "execute_result",
          "data": {
            "text/plain": [
              "True"
            ]
          },
          "metadata": {},
          "execution_count": 94
        }
      ],
      "source": [
        "import wandb\n",
        "wandb.login()"
      ]
    },
    {
      "cell_type": "code",
      "execution_count": null,
      "metadata": {
        "colab": {
          "base_uri": "https://localhost:8080/",
          "height": 1000
        },
        "id": "uDUBctmi2Zhl",
        "outputId": "b5b2e048-88a4-497f-f19b-50f3f405d8a2"
      },
      "outputs": [
        {
          "output_type": "stream",
          "name": "stdout",
          "text": [
            "Epoch 1/100: "
          ]
        },
        {
          "output_type": "stream",
          "name": "stderr",
          "text": [
            "100%|██████████| 41/41 [00:06<00:00,  6.81it/s]\n",
            "Batch 41/41, Loss: 1.401978: 100%|██████████| 41/41 [00:01<00:00, 23.92it/s]\n"
          ]
        },
        {
          "output_type": "stream",
          "name": "stdout",
          "text": [
            "\n",
            "Class-wise Accuracy:\n",
            "  Class 1: 0.00%\n",
            "  Class 2: 100.00%\n",
            "  Class 0: 0.00%\n",
            "  Class 3: 0.00%\n",
            "Test Accuracy: 25.0%, Test Loss: 1.401155\n",
            "\n",
            "\n",
            "Class-wise Accuracy:\n",
            "  Class 1: 0.00%\n",
            "  Class 2: 100.00%\n",
            "  Class 0: 0.00%\n",
            "  Class 3: 0.00%\n",
            "Train Accuracy: 28.16%, Average Train Loss: 1.380020, Test Accuracy: 25.00%, Average Test Loss: 1.401155\n",
            "\n",
            "Epoch 2/100: "
          ]
        },
        {
          "output_type": "stream",
          "name": "stderr",
          "text": [
            "100%|██████████| 41/41 [00:03<00:00, 11.48it/s]\n",
            "Batch 41/41, Loss: 1.468453: 100%|██████████| 41/41 [00:01<00:00, 29.07it/s]\n"
          ]
        },
        {
          "output_type": "stream",
          "name": "stdout",
          "text": [
            "\n",
            "Class-wise Accuracy:\n",
            "  Class 1: 0.00%\n",
            "  Class 2: 0.15%\n",
            "  Class 0: 0.93%\n",
            "  Class 3: 99.85%\n",
            "Test Accuracy: 25.2%, Test Loss: 1.547506\n",
            "\n",
            "\n",
            "Class-wise Accuracy:\n",
            "  Class 1: 0.00%\n",
            "  Class 2: 0.15%\n",
            "  Class 0: 0.93%\n",
            "  Class 3: 99.85%\n",
            "Train Accuracy: 34.18%, Average Train Loss: 1.345217, Test Accuracy: 25.23%, Average Test Loss: 1.547506\n",
            "\n",
            "Epoch 3/100: "
          ]
        },
        {
          "output_type": "stream",
          "name": "stderr",
          "text": [
            "100%|██████████| 41/41 [00:03<00:00, 12.73it/s]\n",
            "Batch 41/41, Loss: 1.883191: 100%|██████████| 41/41 [00:01<00:00, 29.25it/s]\n"
          ]
        },
        {
          "output_type": "stream",
          "name": "stdout",
          "text": [
            "\n",
            "Class-wise Accuracy:\n",
            "  Class 1: 0.00%\n",
            "  Class 2: 0.00%\n",
            "  Class 0: 0.00%\n",
            "  Class 3: 100.00%\n",
            "Test Accuracy: 25.0%, Test Loss: 1.972370\n",
            "\n",
            "\n",
            "Class-wise Accuracy:\n",
            "  Class 1: 0.00%\n",
            "  Class 2: 0.00%\n",
            "  Class 0: 0.00%\n",
            "  Class 3: 100.00%\n",
            "Train Accuracy: 36.07%, Average Train Loss: 1.328002, Test Accuracy: 25.00%, Average Test Loss: 1.972370\n",
            "\n",
            "Epoch 4/100: "
          ]
        },
        {
          "output_type": "stream",
          "name": "stderr",
          "text": [
            "100%|██████████| 41/41 [00:03<00:00, 12.37it/s]\n",
            "Batch 41/41, Loss: 1.265671: 100%|██████████| 41/41 [00:01<00:00, 24.45it/s]\n"
          ]
        },
        {
          "output_type": "stream",
          "name": "stdout",
          "text": [
            "\n",
            "Class-wise Accuracy:\n",
            "  Class 1: 1.08%\n",
            "  Class 2: 39.04%\n",
            "  Class 0: 60.49%\n",
            "  Class 3: 26.39%\n",
            "Test Accuracy: 31.8%, Test Loss: 1.355320\n",
            "\n",
            "\n",
            "Class-wise Accuracy:\n",
            "  Class 1: 1.08%\n",
            "  Class 2: 39.04%\n",
            "  Class 0: 60.49%\n",
            "  Class 3: 26.39%\n",
            "Train Accuracy: 38.31%, Average Train Loss: 1.306375, Test Accuracy: 31.75%, Average Test Loss: 1.355320\n",
            "\n",
            "Epoch 5/100: "
          ]
        },
        {
          "output_type": "stream",
          "name": "stderr",
          "text": [
            "100%|██████████| 41/41 [00:03<00:00, 11.98it/s]\n",
            "Batch 41/41, Loss: 1.225875: 100%|██████████| 41/41 [00:01<00:00, 27.95it/s]\n"
          ]
        },
        {
          "output_type": "stream",
          "name": "stdout",
          "text": [
            "\n",
            "Class-wise Accuracy:\n",
            "  Class 1: 83.64%\n",
            "  Class 2: 8.95%\n",
            "  Class 0: 16.67%\n",
            "  Class 3: 29.17%\n",
            "Test Accuracy: 34.6%, Test Loss: 1.329495\n",
            "\n",
            "\n",
            "Class-wise Accuracy:\n",
            "  Class 1: 83.64%\n",
            "  Class 2: 8.95%\n",
            "  Class 0: 16.67%\n",
            "  Class 3: 29.17%\n",
            "Train Accuracy: 39.51%, Average Train Loss: 1.296792, Test Accuracy: 34.61%, Average Test Loss: 1.329495\n",
            "\n",
            "Epoch 6/100: "
          ]
        },
        {
          "output_type": "stream",
          "name": "stderr",
          "text": [
            "100%|██████████| 41/41 [00:03<00:00, 12.28it/s]\n",
            "Batch 41/41, Loss: 1.270471: 100%|██████████| 41/41 [00:01<00:00, 27.49it/s]\n"
          ]
        },
        {
          "output_type": "stream",
          "name": "stdout",
          "text": [
            "\n",
            "Class-wise Accuracy:\n",
            "  Class 1: 15.59%\n",
            "  Class 2: 75.15%\n",
            "  Class 0: 3.40%\n",
            "  Class 3: 53.55%\n",
            "Test Accuracy: 36.9%, Test Loss: 1.305704\n",
            "\n",
            "\n",
            "Class-wise Accuracy:\n",
            "  Class 1: 15.59%\n",
            "  Class 2: 75.15%\n",
            "  Class 0: 3.40%\n",
            "  Class 3: 53.55%\n",
            "Train Accuracy: 40.39%, Average Train Loss: 1.275626, Test Accuracy: 36.92%, Average Test Loss: 1.305704\n",
            "\n",
            "Epoch 7/100: "
          ]
        },
        {
          "output_type": "stream",
          "name": "stderr",
          "text": [
            "100%|██████████| 41/41 [00:03<00:00, 12.21it/s]\n",
            "Batch 41/41, Loss: 1.640221: 100%|██████████| 41/41 [00:01<00:00, 25.79it/s]\n"
          ]
        },
        {
          "output_type": "stream",
          "name": "stdout",
          "text": [
            "\n",
            "Class-wise Accuracy:\n",
            "  Class 1: 1.39%\n",
            "  Class 2: 0.00%\n",
            "  Class 0: 12.81%\n",
            "  Class 3: 91.51%\n",
            "Test Accuracy: 26.4%, Test Loss: 1.631828\n",
            "\n",
            "\n",
            "Class-wise Accuracy:\n",
            "  Class 1: 1.39%\n",
            "  Class 2: 0.00%\n",
            "  Class 0: 12.81%\n",
            "  Class 3: 91.51%\n",
            "Train Accuracy: 41.67%, Average Train Loss: 1.244112, Test Accuracy: 26.43%, Average Test Loss: 1.631828\n",
            "\n",
            "Epoch 8/100: "
          ]
        },
        {
          "output_type": "stream",
          "name": "stderr",
          "text": [
            "100%|██████████| 41/41 [00:03<00:00, 11.71it/s]\n",
            "Batch 41/41, Loss: 1.356037: 100%|██████████| 41/41 [00:01<00:00, 28.32it/s]\n"
          ]
        },
        {
          "output_type": "stream",
          "name": "stdout",
          "text": [
            "\n",
            "Class-wise Accuracy:\n",
            "  Class 1: 13.58%\n",
            "  Class 2: 59.10%\n",
            "  Class 0: 36.73%\n",
            "  Class 3: 43.06%\n",
            "Test Accuracy: 38.1%, Test Loss: 1.297999\n",
            "\n",
            "\n",
            "Class-wise Accuracy:\n",
            "  Class 1: 13.58%\n",
            "  Class 2: 59.10%\n",
            "  Class 0: 36.73%\n",
            "  Class 3: 43.06%\n",
            "Train Accuracy: 42.63%, Average Train Loss: 1.233793, Test Accuracy: 38.12%, Average Test Loss: 1.297999\n",
            "\n",
            "Epoch 9/100: "
          ]
        },
        {
          "output_type": "stream",
          "name": "stderr",
          "text": [
            "100%|██████████| 41/41 [00:03<00:00, 12.28it/s]\n",
            "Batch 41/41, Loss: 1.380223: 100%|██████████| 41/41 [00:01<00:00, 27.77it/s]\n"
          ]
        },
        {
          "output_type": "stream",
          "name": "stdout",
          "text": [
            "\n",
            "Class-wise Accuracy:\n",
            "  Class 1: 29.94%\n",
            "  Class 2: 9.57%\n",
            "  Class 0: 11.73%\n",
            "  Class 3: 88.43%\n",
            "Test Accuracy: 34.9%, Test Loss: 1.340435\n",
            "\n",
            "\n",
            "Class-wise Accuracy:\n",
            "  Class 1: 29.94%\n",
            "  Class 2: 9.57%\n",
            "  Class 0: 11.73%\n",
            "  Class 3: 88.43%\n",
            "Train Accuracy: 44.48%, Average Train Loss: 1.212790, Test Accuracy: 34.92%, Average Test Loss: 1.340435\n",
            "\n",
            "Epoch 10/100: "
          ]
        },
        {
          "output_type": "stream",
          "name": "stderr",
          "text": [
            "100%|██████████| 41/41 [00:03<00:00, 11.87it/s]\n",
            "Batch 41/41, Loss: 1.105296: 100%|██████████| 41/41 [00:01<00:00, 23.21it/s]\n"
          ]
        },
        {
          "output_type": "stream",
          "name": "stdout",
          "text": [
            "\n",
            "Class-wise Accuracy:\n",
            "  Class 1: 64.35%\n",
            "  Class 2: 39.81%\n",
            "  Class 0: 15.12%\n",
            "  Class 3: 36.88%\n",
            "Test Accuracy: 39.0%, Test Loss: 1.260968\n",
            "\n",
            "\n",
            "Class-wise Accuracy:\n",
            "  Class 1: 64.35%\n",
            "  Class 2: 39.81%\n",
            "  Class 0: 15.12%\n",
            "  Class 3: 36.88%\n",
            "Train Accuracy: 45.41%, Average Train Loss: 1.202345, Test Accuracy: 39.04%, Average Test Loss: 1.260968\n",
            "\n",
            "Epoch 11/100: "
          ]
        },
        {
          "output_type": "stream",
          "name": "stderr",
          "text": [
            "100%|██████████| 41/41 [00:03<00:00, 12.31it/s]\n",
            "Batch 41/41, Loss: 1.111674: 100%|██████████| 41/41 [00:01<00:00, 28.50it/s]\n"
          ]
        },
        {
          "output_type": "stream",
          "name": "stdout",
          "text": [
            "\n",
            "Class-wise Accuracy:\n",
            "  Class 1: 46.91%\n",
            "  Class 2: 61.88%\n",
            "  Class 0: 15.12%\n",
            "  Class 3: 27.93%\n",
            "Test Accuracy: 38.0%, Test Loss: 1.278657\n",
            "\n",
            "\n",
            "Class-wise Accuracy:\n",
            "  Class 1: 46.91%\n",
            "  Class 2: 61.88%\n",
            "  Class 0: 15.12%\n",
            "  Class 3: 27.93%\n",
            "Train Accuracy: 44.25%, Average Train Loss: 1.200972, Test Accuracy: 37.96%, Average Test Loss: 1.278657\n",
            "\n",
            "Epoch 12/100: "
          ]
        },
        {
          "output_type": "stream",
          "name": "stderr",
          "text": [
            "100%|██████████| 41/41 [00:03<00:00, 12.41it/s]\n",
            "Batch 41/41, Loss: 1.121995: 100%|██████████| 41/41 [00:01<00:00, 28.92it/s]\n"
          ]
        },
        {
          "output_type": "stream",
          "name": "stdout",
          "text": [
            "\n",
            "Class-wise Accuracy:\n",
            "  Class 1: 72.07%\n",
            "  Class 2: 20.83%\n",
            "  Class 0: 28.70%\n",
            "  Class 3: 44.44%\n",
            "Test Accuracy: 41.5%, Test Loss: 1.230569\n",
            "\n",
            "\n",
            "Class-wise Accuracy:\n",
            "  Class 1: 72.07%\n",
            "  Class 2: 20.83%\n",
            "  Class 0: 28.70%\n",
            "  Class 3: 44.44%\n",
            "Train Accuracy: 45.29%, Average Train Loss: 1.195580, Test Accuracy: 41.51%, Average Test Loss: 1.230569\n",
            "\n",
            "Epoch 13/100: "
          ]
        },
        {
          "output_type": "stream",
          "name": "stderr",
          "text": [
            "100%|██████████| 41/41 [00:03<00:00, 11.75it/s]\n",
            "Batch 41/41, Loss: 1.074196: 100%|██████████| 41/41 [00:01<00:00, 25.29it/s]\n"
          ]
        },
        {
          "output_type": "stream",
          "name": "stdout",
          "text": [
            "\n",
            "Class-wise Accuracy:\n",
            "  Class 1: 82.56%\n",
            "  Class 2: 23.15%\n",
            "  Class 0: 25.00%\n",
            "  Class 3: 30.86%\n",
            "Test Accuracy: 40.4%, Test Loss: 1.256408\n",
            "\n",
            "\n",
            "Class-wise Accuracy:\n",
            "  Class 1: 82.56%\n",
            "  Class 2: 23.15%\n",
            "  Class 0: 25.00%\n",
            "  Class 3: 30.86%\n",
            "Train Accuracy: 45.79%, Average Train Loss: 1.178972, Test Accuracy: 40.39%, Average Test Loss: 1.256408\n",
            "\n",
            "Epoch 14/100: "
          ]
        },
        {
          "output_type": "stream",
          "name": "stderr",
          "text": [
            "100%|██████████| 41/41 [00:03<00:00, 12.07it/s]\n",
            "Batch 41/41, Loss: 1.197516: 100%|██████████| 41/41 [00:01<00:00, 27.99it/s]\n"
          ]
        },
        {
          "output_type": "stream",
          "name": "stdout",
          "text": [
            "\n",
            "Class-wise Accuracy:\n",
            "  Class 1: 56.64%\n",
            "  Class 2: 29.78%\n",
            "  Class 0: 27.31%\n",
            "  Class 3: 54.01%\n",
            "Test Accuracy: 41.9%, Test Loss: 1.218448\n",
            "\n",
            "\n",
            "Class-wise Accuracy:\n",
            "  Class 1: 56.64%\n",
            "  Class 2: 29.78%\n",
            "  Class 0: 27.31%\n",
            "  Class 3: 54.01%\n",
            "Train Accuracy: 46.22%, Average Train Loss: 1.182937, Test Accuracy: 41.94%, Average Test Loss: 1.218448\n",
            "\n",
            "Epoch 15/100: "
          ]
        },
        {
          "output_type": "stream",
          "name": "stderr",
          "text": [
            "100%|██████████| 41/41 [00:03<00:00, 12.22it/s]\n",
            "Batch 41/41, Loss: 1.090692: 100%|██████████| 41/41 [00:01<00:00, 26.55it/s]\n"
          ]
        },
        {
          "output_type": "stream",
          "name": "stdout",
          "text": [
            "\n",
            "Class-wise Accuracy:\n",
            "  Class 1: 64.66%\n",
            "  Class 2: 26.54%\n",
            "  Class 0: 29.94%\n",
            "  Class 3: 50.62%\n",
            "Test Accuracy: 42.9%, Test Loss: 1.208122\n",
            "\n",
            "\n",
            "Class-wise Accuracy:\n",
            "  Class 1: 64.66%\n",
            "  Class 2: 26.54%\n",
            "  Class 0: 29.94%\n",
            "  Class 3: 50.62%\n",
            "Train Accuracy: 47.03%, Average Train Loss: 1.165741, Test Accuracy: 42.94%, Average Test Loss: 1.208122\n",
            "\n",
            "Epoch 16/100: "
          ]
        },
        {
          "output_type": "stream",
          "name": "stderr",
          "text": [
            "100%|██████████| 41/41 [00:03<00:00, 11.49it/s]\n",
            "Batch 41/41, Loss: 1.140339: 100%|██████████| 41/41 [00:01<00:00, 26.84it/s]\n"
          ]
        },
        {
          "output_type": "stream",
          "name": "stdout",
          "text": [
            "\n",
            "Class-wise Accuracy:\n",
            "  Class 1: 52.78%\n",
            "  Class 2: 46.60%\n",
            "  Class 0: 11.27%\n",
            "  Class 3: 55.09%\n",
            "Test Accuracy: 41.4%, Test Loss: 1.212989\n",
            "\n",
            "\n",
            "Class-wise Accuracy:\n",
            "  Class 1: 52.78%\n",
            "  Class 2: 46.60%\n",
            "  Class 0: 11.27%\n",
            "  Class 3: 55.09%\n",
            "Train Accuracy: 47.76%, Average Train Loss: 1.172886, Test Accuracy: 41.44%, Average Test Loss: 1.212989\n",
            "\n",
            "Epoch 17/100: "
          ]
        },
        {
          "output_type": "stream",
          "name": "stderr",
          "text": [
            "100%|██████████| 41/41 [00:03<00:00, 12.02it/s]\n",
            "Batch 41/41, Loss: 1.140627: 100%|██████████| 41/41 [00:01<00:00, 27.68it/s]\n"
          ]
        },
        {
          "output_type": "stream",
          "name": "stdout",
          "text": [
            "\n",
            "Class-wise Accuracy:\n",
            "  Class 1: 26.54%\n",
            "  Class 2: 81.17%\n",
            "  Class 0: 22.38%\n",
            "  Class 3: 25.93%\n",
            "Test Accuracy: 39.0%, Test Loss: 1.288932\n",
            "\n",
            "\n",
            "Class-wise Accuracy:\n",
            "  Class 1: 26.54%\n",
            "  Class 2: 81.17%\n",
            "  Class 0: 22.38%\n",
            "  Class 3: 25.93%\n",
            "Train Accuracy: 48.65%, Average Train Loss: 1.157972, Test Accuracy: 39.00%, Average Test Loss: 1.288932\n",
            "\n",
            "Epoch 18/100: "
          ]
        },
        {
          "output_type": "stream",
          "name": "stderr",
          "text": [
            "100%|██████████| 41/41 [00:03<00:00, 11.88it/s]\n",
            "Batch 41/41, Loss: 1.100373: 100%|██████████| 41/41 [00:01<00:00, 23.61it/s]\n"
          ]
        },
        {
          "output_type": "stream",
          "name": "stdout",
          "text": [
            "\n",
            "Class-wise Accuracy:\n",
            "  Class 1: 41.36%\n",
            "  Class 2: 55.25%\n",
            "  Class 0: 30.25%\n",
            "  Class 3: 47.99%\n",
            "Test Accuracy: 43.7%, Test Loss: 1.195538\n",
            "\n",
            "\n",
            "Class-wise Accuracy:\n",
            "  Class 1: 41.36%\n",
            "  Class 2: 55.25%\n",
            "  Class 0: 30.25%\n",
            "  Class 3: 47.99%\n",
            "Train Accuracy: 47.96%, Average Train Loss: 1.155097, Test Accuracy: 43.71%, Average Test Loss: 1.195538\n",
            "\n",
            "Epoch 19/100: "
          ]
        },
        {
          "output_type": "stream",
          "name": "stderr",
          "text": [
            "100%|██████████| 41/41 [00:03<00:00, 11.60it/s]\n",
            "Batch 41/41, Loss: 1.103953: 100%|██████████| 41/41 [00:01<00:00, 26.64it/s]\n"
          ]
        },
        {
          "output_type": "stream",
          "name": "stdout",
          "text": [
            "\n",
            "Class-wise Accuracy:\n",
            "  Class 1: 32.56%\n",
            "  Class 2: 66.51%\n",
            "  Class 0: 25.15%\n",
            "  Class 3: 47.07%\n",
            "Test Accuracy: 42.8%, Test Loss: 1.201942\n",
            "\n",
            "\n",
            "Class-wise Accuracy:\n",
            "  Class 1: 32.56%\n",
            "  Class 2: 66.51%\n",
            "  Class 0: 25.15%\n",
            "  Class 3: 47.07%\n",
            "Train Accuracy: 49.19%, Average Train Loss: 1.147002, Test Accuracy: 42.82%, Average Test Loss: 1.201942\n",
            "\n",
            "Epoch 20/100: "
          ]
        },
        {
          "output_type": "stream",
          "name": "stderr",
          "text": [
            "100%|██████████| 41/41 [00:03<00:00, 11.74it/s]\n",
            "Batch 41/41, Loss: 1.017372: 100%|██████████| 41/41 [00:01<00:00, 26.54it/s]\n"
          ]
        },
        {
          "output_type": "stream",
          "name": "stdout",
          "text": [
            "\n",
            "Class-wise Accuracy:\n",
            "  Class 1: 68.52%\n",
            "  Class 2: 37.19%\n",
            "  Class 0: 26.85%\n",
            "  Class 3: 38.89%\n",
            "Test Accuracy: 42.9%, Test Loss: 1.197040\n",
            "\n",
            "\n",
            "Class-wise Accuracy:\n",
            "  Class 1: 68.52%\n",
            "  Class 2: 37.19%\n",
            "  Class 0: 26.85%\n",
            "  Class 3: 38.89%\n",
            "Train Accuracy: 49.73%, Average Train Loss: 1.138674, Test Accuracy: 42.86%, Average Test Loss: 1.197040\n",
            "\n",
            "Epoch 21/100: "
          ]
        },
        {
          "output_type": "stream",
          "name": "stderr",
          "text": [
            "100%|██████████| 41/41 [00:03<00:00, 11.56it/s]\n",
            "Batch 41/41, Loss: 1.024994: 100%|██████████| 41/41 [00:01<00:00, 24.55it/s]\n"
          ]
        },
        {
          "output_type": "stream",
          "name": "stdout",
          "text": [
            "\n",
            "Class-wise Accuracy:\n",
            "  Class 1: 69.91%\n",
            "  Class 2: 35.19%\n",
            "  Class 0: 29.32%\n",
            "  Class 3: 37.04%\n",
            "Test Accuracy: 42.9%, Test Loss: 1.202599\n",
            "\n",
            "\n",
            "Class-wise Accuracy:\n",
            "  Class 1: 69.91%\n",
            "  Class 2: 35.19%\n",
            "  Class 0: 29.32%\n",
            "  Class 3: 37.04%\n",
            "Train Accuracy: 50.58%, Average Train Loss: 1.125034, Test Accuracy: 42.86%, Average Test Loss: 1.202599\n",
            "\n",
            "Epoch 22/100: "
          ]
        },
        {
          "output_type": "stream",
          "name": "stderr",
          "text": [
            "100%|██████████| 41/41 [00:03<00:00, 11.74it/s]\n",
            "Batch 41/41, Loss: 1.139647: 100%|██████████| 41/41 [00:01<00:00, 26.56it/s]\n"
          ]
        },
        {
          "output_type": "stream",
          "name": "stdout",
          "text": [
            "\n",
            "Class-wise Accuracy:\n",
            "  Class 1: 42.59%\n",
            "  Class 2: 44.91%\n",
            "  Class 0: 16.98%\n",
            "  Class 3: 68.21%\n",
            "Test Accuracy: 43.2%, Test Loss: 1.205595\n",
            "\n",
            "\n",
            "Class-wise Accuracy:\n",
            "  Class 1: 42.59%\n",
            "  Class 2: 44.91%\n",
            "  Class 0: 16.98%\n",
            "  Class 3: 68.21%\n",
            "Train Accuracy: 49.54%, Average Train Loss: 1.130913, Test Accuracy: 43.17%, Average Test Loss: 1.205595\n",
            "\n",
            "Epoch 23/100: "
          ]
        },
        {
          "output_type": "stream",
          "name": "stderr",
          "text": [
            "100%|██████████| 41/41 [00:03<00:00, 11.81it/s]\n",
            "Batch 41/41, Loss: 1.138543: 100%|██████████| 41/41 [00:01<00:00, 27.28it/s]\n"
          ]
        },
        {
          "output_type": "stream",
          "name": "stdout",
          "text": [
            "\n",
            "Class-wise Accuracy:\n",
            "  Class 1: 20.83%\n",
            "  Class 2: 64.04%\n",
            "  Class 0: 28.09%\n",
            "  Class 3: 60.96%\n",
            "Test Accuracy: 43.5%, Test Loss: 1.209316\n",
            "\n",
            "\n",
            "Class-wise Accuracy:\n",
            "  Class 1: 20.83%\n",
            "  Class 2: 64.04%\n",
            "  Class 0: 28.09%\n",
            "  Class 3: 60.96%\n",
            "Train Accuracy: 51.12%, Average Train Loss: 1.111084, Test Accuracy: 43.48%, Average Test Loss: 1.209316\n",
            "\n",
            "Epoch 24/100: "
          ]
        },
        {
          "output_type": "stream",
          "name": "stderr",
          "text": [
            "100%|██████████| 41/41 [00:03<00:00, 11.46it/s]\n",
            "Batch 41/41, Loss: 1.099276: 100%|██████████| 41/41 [00:01<00:00, 24.98it/s]\n"
          ]
        },
        {
          "output_type": "stream",
          "name": "stdout",
          "text": [
            "\n",
            "Class-wise Accuracy:\n",
            "  Class 1: 87.65%\n",
            "  Class 2: 13.12%\n",
            "  Class 0: 8.95%\n",
            "  Class 3: 54.32%\n",
            "Test Accuracy: 41.0%, Test Loss: 1.344471\n",
            "\n",
            "\n",
            "Class-wise Accuracy:\n",
            "  Class 1: 87.65%\n",
            "  Class 2: 13.12%\n",
            "  Class 0: 8.95%\n",
            "  Class 3: 54.32%\n",
            "Train Accuracy: 49.73%, Average Train Loss: 1.117788, Test Accuracy: 41.01%, Average Test Loss: 1.344471\n",
            "\n",
            "Epoch 25/100: "
          ]
        },
        {
          "output_type": "stream",
          "name": "stderr",
          "text": [
            "100%|██████████| 41/41 [00:03<00:00, 11.68it/s]\n",
            "Batch 41/41, Loss: 1.104217: 100%|██████████| 41/41 [00:01<00:00, 26.66it/s]\n"
          ]
        },
        {
          "output_type": "stream",
          "name": "stdout",
          "text": [
            "\n",
            "Class-wise Accuracy:\n",
            "  Class 1: 21.45%\n",
            "  Class 2: 82.72%\n",
            "  Class 0: 20.83%\n",
            "  Class 3: 40.90%\n",
            "Test Accuracy: 41.5%, Test Loss: 1.229240\n",
            "\n",
            "\n",
            "Class-wise Accuracy:\n",
            "  Class 1: 21.45%\n",
            "  Class 2: 82.72%\n",
            "  Class 0: 20.83%\n",
            "  Class 3: 40.90%\n",
            "Train Accuracy: 50.19%, Average Train Loss: 1.115376, Test Accuracy: 41.47%, Average Test Loss: 1.229240\n",
            "\n",
            "Epoch 26/100: "
          ]
        },
        {
          "output_type": "stream",
          "name": "stderr",
          "text": [
            "100%|██████████| 41/41 [00:03<00:00, 11.61it/s]\n",
            "Batch 41/41, Loss: 1.047371: 100%|██████████| 41/41 [00:01<00:00, 24.91it/s]\n"
          ]
        },
        {
          "output_type": "stream",
          "name": "stdout",
          "text": [
            "\n",
            "Class-wise Accuracy:\n",
            "  Class 1: 81.64%\n",
            "  Class 2: 31.02%\n",
            "  Class 0: 18.06%\n",
            "  Class 3: 41.98%\n",
            "Test Accuracy: 43.2%, Test Loss: 1.215089\n",
            "\n",
            "\n",
            "Class-wise Accuracy:\n",
            "  Class 1: 81.64%\n",
            "  Class 2: 31.02%\n",
            "  Class 0: 18.06%\n",
            "  Class 3: 41.98%\n",
            "Train Accuracy: 51.54%, Average Train Loss: 1.100374, Test Accuracy: 43.17%, Average Test Loss: 1.215089\n",
            "\n",
            "Epoch 27/100: "
          ]
        },
        {
          "output_type": "stream",
          "name": "stderr",
          "text": [
            "100%|██████████| 41/41 [00:03<00:00, 11.15it/s]\n",
            "Batch 41/41, Loss: 1.098827: 100%|██████████| 41/41 [00:01<00:00, 25.81it/s]\n"
          ]
        },
        {
          "output_type": "stream",
          "name": "stdout",
          "text": [
            "\n",
            "Class-wise Accuracy:\n",
            "  Class 1: 25.93%\n",
            "  Class 2: 79.94%\n",
            "  Class 0: 33.80%\n",
            "  Class 3: 31.17%\n",
            "Test Accuracy: 42.7%, Test Loss: 1.229411\n",
            "\n",
            "\n",
            "Class-wise Accuracy:\n",
            "  Class 1: 25.93%\n",
            "  Class 2: 79.94%\n",
            "  Class 0: 33.80%\n",
            "  Class 3: 31.17%\n",
            "Train Accuracy: 52.16%, Average Train Loss: 1.105417, Test Accuracy: 42.71%, Average Test Loss: 1.229411\n",
            "\n",
            "Epoch 28/100: "
          ]
        },
        {
          "output_type": "stream",
          "name": "stderr",
          "text": [
            "100%|██████████| 41/41 [00:03<00:00, 11.38it/s]\n",
            "Batch 41/41, Loss: 1.145138: 100%|██████████| 41/41 [00:01<00:00, 25.64it/s]\n"
          ]
        },
        {
          "output_type": "stream",
          "name": "stdout",
          "text": [
            "\n",
            "Class-wise Accuracy:\n",
            "  Class 1: 45.06%\n",
            "  Class 2: 18.06%\n",
            "  Class 0: 58.49%\n",
            "  Class 3: 48.46%\n",
            "Test Accuracy: 42.5%, Test Loss: 1.244057\n",
            "\n",
            "\n",
            "Class-wise Accuracy:\n",
            "  Class 1: 45.06%\n",
            "  Class 2: 18.06%\n",
            "  Class 0: 58.49%\n",
            "  Class 3: 48.46%\n",
            "Train Accuracy: 51.81%, Average Train Loss: 1.094424, Test Accuracy: 42.52%, Average Test Loss: 1.244057\n",
            "\n",
            "Epoch 29/100: "
          ]
        },
        {
          "output_type": "stream",
          "name": "stderr",
          "text": [
            "100%|██████████| 41/41 [00:03<00:00, 11.08it/s]\n",
            "Batch 41/41, Loss: 1.055869: 100%|██████████| 41/41 [00:01<00:00, 23.41it/s]\n"
          ]
        },
        {
          "output_type": "stream",
          "name": "stdout",
          "text": [
            "\n",
            "Class-wise Accuracy:\n",
            "  Class 1: 53.40%\n",
            "  Class 2: 51.70%\n",
            "  Class 0: 32.87%\n",
            "  Class 3: 43.06%\n",
            "Test Accuracy: 45.3%, Test Loss: 1.167813\n",
            "\n",
            "\n",
            "Class-wise Accuracy:\n",
            "  Class 1: 53.40%\n",
            "  Class 2: 51.70%\n",
            "  Class 0: 32.87%\n",
            "  Class 3: 43.06%\n",
            "Train Accuracy: 51.31%, Average Train Loss: 1.098719, Test Accuracy: 45.25%, Average Test Loss: 1.167813\n",
            "\n",
            "Epoch 30/100: "
          ]
        },
        {
          "output_type": "stream",
          "name": "stderr",
          "text": [
            "100%|██████████| 41/41 [00:03<00:00, 11.11it/s]\n",
            "Batch 41/41, Loss: 1.177667: 100%|██████████| 41/41 [00:01<00:00, 25.05it/s]\n"
          ]
        },
        {
          "output_type": "stream",
          "name": "stdout",
          "text": [
            "\n",
            "Class-wise Accuracy:\n",
            "  Class 1: 35.19%\n",
            "  Class 2: 21.60%\n",
            "  Class 0: 40.90%\n",
            "  Class 3: 67.13%\n",
            "Test Accuracy: 41.2%, Test Loss: 1.266487\n",
            "\n",
            "\n",
            "Class-wise Accuracy:\n",
            "  Class 1: 35.19%\n",
            "  Class 2: 21.60%\n",
            "  Class 0: 40.90%\n",
            "  Class 3: 67.13%\n",
            "Train Accuracy: 52.39%, Average Train Loss: 1.103015, Test Accuracy: 41.20%, Average Test Loss: 1.266487\n",
            "\n",
            "Epoch 31/100: "
          ]
        },
        {
          "output_type": "stream",
          "name": "stderr",
          "text": [
            "100%|██████████| 41/41 [00:03<00:00, 11.25it/s]\n",
            "Batch 41/41, Loss: 1.020982: 100%|██████████| 41/41 [00:01<00:00, 24.48it/s]\n"
          ]
        },
        {
          "output_type": "stream",
          "name": "stdout",
          "text": [
            "\n",
            "Class-wise Accuracy:\n",
            "  Class 1: 63.73%\n",
            "  Class 2: 48.92%\n",
            "  Class 0: 20.99%\n",
            "  Class 3: 43.52%\n",
            "Test Accuracy: 44.3%, Test Loss: 1.172340\n",
            "\n",
            "\n",
            "Class-wise Accuracy:\n",
            "  Class 1: 63.73%\n",
            "  Class 2: 48.92%\n",
            "  Class 0: 20.99%\n",
            "  Class 3: 43.52%\n",
            "Train Accuracy: 53.36%, Average Train Loss: 1.081494, Test Accuracy: 44.29%, Average Test Loss: 1.172340\n",
            "\n",
            "Epoch 32/100: "
          ]
        },
        {
          "output_type": "stream",
          "name": "stderr",
          "text": [
            "100%|██████████| 41/41 [00:03<00:00, 10.82it/s]\n",
            "Batch 41/41, Loss: 1.026270: 100%|██████████| 41/41 [00:01<00:00, 24.69it/s]\n"
          ]
        },
        {
          "output_type": "stream",
          "name": "stdout",
          "text": [
            "\n",
            "Class-wise Accuracy:\n",
            "  Class 1: 72.22%\n",
            "  Class 2: 43.21%\n",
            "  Class 0: 16.67%\n",
            "  Class 3: 49.23%\n",
            "Test Accuracy: 45.3%, Test Loss: 1.185712\n",
            "\n",
            "\n",
            "Class-wise Accuracy:\n",
            "  Class 1: 72.22%\n",
            "  Class 2: 43.21%\n",
            "  Class 0: 16.67%\n",
            "  Class 3: 49.23%\n",
            "Train Accuracy: 52.70%, Average Train Loss: 1.070189, Test Accuracy: 45.33%, Average Test Loss: 1.185712\n",
            "\n",
            "Epoch 33/100: "
          ]
        },
        {
          "output_type": "stream",
          "name": "stderr",
          "text": [
            "100%|██████████| 41/41 [00:03<00:00, 11.18it/s]\n",
            "Batch 41/41, Loss: 1.276783: 100%|██████████| 41/41 [00:01<00:00, 25.21it/s]\n"
          ]
        },
        {
          "output_type": "stream",
          "name": "stdout",
          "text": [
            "\n",
            "Class-wise Accuracy:\n",
            "  Class 1: 13.73%\n",
            "  Class 2: 63.43%\n",
            "  Class 0: 38.58%\n",
            "  Class 3: 58.49%\n",
            "Test Accuracy: 43.6%, Test Loss: 1.243133\n",
            "\n",
            "\n",
            "Class-wise Accuracy:\n",
            "  Class 1: 13.73%\n",
            "  Class 2: 63.43%\n",
            "  Class 0: 38.58%\n",
            "  Class 3: 58.49%\n",
            "Train Accuracy: 53.09%, Average Train Loss: 1.064946, Test Accuracy: 43.56%, Average Test Loss: 1.243133\n",
            "\n",
            "Epoch 34/100: "
          ]
        },
        {
          "output_type": "stream",
          "name": "stderr",
          "text": [
            "100%|██████████| 41/41 [00:03<00:00, 11.22it/s]\n",
            "Batch 41/41, Loss: 1.197370: 100%|██████████| 41/41 [00:01<00:00, 23.50it/s]\n"
          ]
        },
        {
          "output_type": "stream",
          "name": "stdout",
          "text": [
            "\n",
            "Class-wise Accuracy:\n",
            "  Class 1: 16.67%\n",
            "  Class 2: 84.26%\n",
            "  Class 0: 13.58%\n",
            "  Class 3: 49.85%\n",
            "Test Accuracy: 41.1%, Test Loss: 1.278226\n",
            "\n",
            "\n",
            "Class-wise Accuracy:\n",
            "  Class 1: 16.67%\n",
            "  Class 2: 84.26%\n",
            "  Class 0: 13.58%\n",
            "  Class 3: 49.85%\n",
            "Train Accuracy: 53.20%, Average Train Loss: 1.065658, Test Accuracy: 41.09%, Average Test Loss: 1.278226\n",
            "\n",
            "Epoch 35/100: "
          ]
        },
        {
          "output_type": "stream",
          "name": "stderr",
          "text": [
            "100%|██████████| 41/41 [00:03<00:00, 11.12it/s]\n",
            "Batch 41/41, Loss: 1.105345: 100%|██████████| 41/41 [00:01<00:00, 25.35it/s]\n"
          ]
        },
        {
          "output_type": "stream",
          "name": "stdout",
          "text": [
            "\n",
            "Class-wise Accuracy:\n",
            "  Class 1: 62.81%\n",
            "  Class 2: 55.25%\n",
            "  Class 0: 16.20%\n",
            "  Class 3: 45.22%\n",
            "Test Accuracy: 44.9%, Test Loss: 1.182800\n",
            "\n",
            "\n",
            "Class-wise Accuracy:\n",
            "  Class 1: 62.81%\n",
            "  Class 2: 55.25%\n",
            "  Class 0: 16.20%\n",
            "  Class 3: 45.22%\n",
            "Train Accuracy: 53.82%, Average Train Loss: 1.064469, Test Accuracy: 44.87%, Average Test Loss: 1.182800\n",
            "\n",
            "Epoch 36/100: "
          ]
        },
        {
          "output_type": "stream",
          "name": "stderr",
          "text": [
            "100%|██████████| 41/41 [00:03<00:00, 11.34it/s]\n",
            "Batch 41/41, Loss: 1.071000: 100%|██████████| 41/41 [00:01<00:00, 25.23it/s]\n"
          ]
        },
        {
          "output_type": "stream",
          "name": "stdout",
          "text": [
            "\n",
            "Class-wise Accuracy:\n",
            "  Class 1: 60.03%\n",
            "  Class 2: 45.37%\n",
            "  Class 0: 27.93%\n",
            "  Class 3: 50.15%\n",
            "Test Accuracy: 45.9%, Test Loss: 1.154947\n",
            "\n",
            "\n",
            "Class-wise Accuracy:\n",
            "  Class 1: 60.03%\n",
            "  Class 2: 45.37%\n",
            "  Class 0: 27.93%\n",
            "  Class 3: 50.15%\n",
            "Train Accuracy: 54.36%, Average Train Loss: 1.059632, Test Accuracy: 45.87%, Average Test Loss: 1.154947\n",
            "\n",
            "Epoch 37/100: "
          ]
        },
        {
          "output_type": "stream",
          "name": "stderr",
          "text": [
            "100%|██████████| 41/41 [00:03<00:00, 10.84it/s]\n",
            "Batch 41/41, Loss: 1.063926: 100%|██████████| 41/41 [00:01<00:00, 22.20it/s]\n"
          ]
        },
        {
          "output_type": "stream",
          "name": "stdout",
          "text": [
            "\n",
            "Class-wise Accuracy:\n",
            "  Class 1: 54.78%\n",
            "  Class 2: 50.15%\n",
            "  Class 0: 23.61%\n",
            "  Class 3: 55.86%\n",
            "Test Accuracy: 46.1%, Test Loss: 1.151828\n",
            "\n",
            "\n",
            "Class-wise Accuracy:\n",
            "  Class 1: 54.78%\n",
            "  Class 2: 50.15%\n",
            "  Class 0: 23.61%\n",
            "  Class 3: 55.86%\n",
            "Train Accuracy: 53.20%, Average Train Loss: 1.065680, Test Accuracy: 46.10%, Average Test Loss: 1.151828\n",
            "\n",
            "Epoch 38/100: "
          ]
        },
        {
          "output_type": "stream",
          "name": "stderr",
          "text": [
            "100%|██████████| 41/41 [00:03<00:00, 11.05it/s]\n",
            "Batch 41/41, Loss: 1.132347: 100%|██████████| 41/41 [00:01<00:00, 25.09it/s]\n"
          ]
        },
        {
          "output_type": "stream",
          "name": "stdout",
          "text": [
            "\n",
            "Class-wise Accuracy:\n",
            "  Class 1: 62.35%\n",
            "  Class 2: 30.86%\n",
            "  Class 0: 38.89%\n",
            "  Class 3: 46.76%\n",
            "Test Accuracy: 44.7%, Test Loss: 1.191813\n",
            "\n",
            "\n",
            "Class-wise Accuracy:\n",
            "  Class 1: 62.35%\n",
            "  Class 2: 30.86%\n",
            "  Class 0: 38.89%\n",
            "  Class 3: 46.76%\n",
            "Train Accuracy: 54.44%, Average Train Loss: 1.054606, Test Accuracy: 44.71%, Average Test Loss: 1.191813\n",
            "\n",
            "Epoch 39/100: "
          ]
        },
        {
          "output_type": "stream",
          "name": "stderr",
          "text": [
            "100%|██████████| 41/41 [00:03<00:00, 11.31it/s]\n",
            "Batch 41/41, Loss: 1.223046: 100%|██████████| 41/41 [00:01<00:00, 24.27it/s]\n"
          ]
        },
        {
          "output_type": "stream",
          "name": "stdout",
          "text": [
            "\n",
            "Class-wise Accuracy:\n",
            "  Class 1: 15.12%\n",
            "  Class 2: 87.96%\n",
            "  Class 0: 14.81%\n",
            "  Class 3: 46.60%\n",
            "Test Accuracy: 41.1%, Test Loss: 1.284668\n",
            "\n",
            "\n",
            "Class-wise Accuracy:\n",
            "  Class 1: 15.12%\n",
            "  Class 2: 87.96%\n",
            "  Class 0: 14.81%\n",
            "  Class 3: 46.60%\n",
            "Train Accuracy: 53.51%, Average Train Loss: 1.063515, Test Accuracy: 41.13%, Average Test Loss: 1.284668\n",
            "\n",
            "Epoch 40/100: "
          ]
        },
        {
          "output_type": "stream",
          "name": "stderr",
          "text": [
            "100%|██████████| 41/41 [00:03<00:00, 10.91it/s]\n",
            "Batch 41/41, Loss: 1.180004: 100%|██████████| 41/41 [00:01<00:00, 25.22it/s]\n"
          ]
        },
        {
          "output_type": "stream",
          "name": "stdout",
          "text": [
            "\n",
            "Class-wise Accuracy:\n",
            "  Class 1: 42.90%\n",
            "  Class 2: 50.62%\n",
            "  Class 0: 34.88%\n",
            "  Class 3: 58.80%\n",
            "Test Accuracy: 46.8%, Test Loss: 1.168608\n",
            "\n",
            "\n",
            "Class-wise Accuracy:\n",
            "  Class 1: 42.90%\n",
            "  Class 2: 50.62%\n",
            "  Class 0: 34.88%\n",
            "  Class 3: 58.80%\n",
            "Train Accuracy: 54.78%, Average Train Loss: 1.040858, Test Accuracy: 46.80%, Average Test Loss: 1.168608\n",
            "\n",
            "Epoch 41/100: "
          ]
        },
        {
          "output_type": "stream",
          "name": "stderr",
          "text": [
            "100%|██████████| 41/41 [00:03<00:00, 11.30it/s]\n",
            "Batch 41/41, Loss: 1.218698: 100%|██████████| 41/41 [00:01<00:00, 25.05it/s]\n"
          ]
        },
        {
          "output_type": "stream",
          "name": "stdout",
          "text": [
            "\n",
            "Class-wise Accuracy:\n",
            "  Class 1: 18.52%\n",
            "  Class 2: 21.76%\n",
            "  Class 0: 79.48%\n",
            "  Class 3: 38.58%\n",
            "Test Accuracy: 39.6%, Test Loss: 1.255048\n",
            "\n",
            "\n",
            "Class-wise Accuracy:\n",
            "  Class 1: 18.52%\n",
            "  Class 2: 21.76%\n",
            "  Class 0: 79.48%\n",
            "  Class 3: 38.58%\n",
            "Train Accuracy: 55.98%, Average Train Loss: 1.037590, Test Accuracy: 39.58%, Average Test Loss: 1.255048\n",
            "\n",
            "Epoch 42/100: "
          ]
        },
        {
          "output_type": "stream",
          "name": "stderr",
          "text": [
            "100%|██████████| 41/41 [00:03<00:00, 11.24it/s]\n",
            "Batch 41/41, Loss: 1.054754: 100%|██████████| 41/41 [00:01<00:00, 21.06it/s]\n"
          ]
        },
        {
          "output_type": "stream",
          "name": "stdout",
          "text": [
            "\n",
            "Class-wise Accuracy:\n",
            "  Class 1: 80.71%\n",
            "  Class 2: 33.80%\n",
            "  Class 0: 22.38%\n",
            "  Class 3: 41.82%\n",
            "Test Accuracy: 44.7%, Test Loss: 1.181274\n",
            "\n",
            "\n",
            "Class-wise Accuracy:\n",
            "  Class 1: 80.71%\n",
            "  Class 2: 33.80%\n",
            "  Class 0: 22.38%\n",
            "  Class 3: 41.82%\n",
            "Train Accuracy: 55.86%, Average Train Loss: 1.035778, Test Accuracy: 44.68%, Average Test Loss: 1.181274\n",
            "\n",
            "Epoch 43/100: "
          ]
        },
        {
          "output_type": "stream",
          "name": "stderr",
          "text": [
            "100%|██████████| 41/41 [00:03<00:00, 11.22it/s]\n",
            "Batch 41/41, Loss: 1.096930: 100%|██████████| 41/41 [00:01<00:00, 25.10it/s]\n"
          ]
        },
        {
          "output_type": "stream",
          "name": "stdout",
          "text": [
            "\n",
            "Class-wise Accuracy:\n",
            "  Class 1: 63.73%\n",
            "  Class 2: 35.65%\n",
            "  Class 0: 39.20%\n",
            "  Class 3: 45.83%\n",
            "Test Accuracy: 46.1%, Test Loss: 1.160906\n",
            "\n",
            "\n",
            "Class-wise Accuracy:\n",
            "  Class 1: 63.73%\n",
            "  Class 2: 35.65%\n",
            "  Class 0: 39.20%\n",
            "  Class 3: 45.83%\n",
            "Train Accuracy: 55.63%, Average Train Loss: 1.044147, Test Accuracy: 46.10%, Average Test Loss: 1.160906\n",
            "\n",
            "Epoch 44/100: "
          ]
        },
        {
          "output_type": "stream",
          "name": "stderr",
          "text": [
            "100%|██████████| 41/41 [00:03<00:00, 11.29it/s]\n",
            "Batch 41/41, Loss: 1.199295: 100%|██████████| 41/41 [00:01<00:00, 25.14it/s]\n"
          ]
        },
        {
          "output_type": "stream",
          "name": "stdout",
          "text": [
            "\n",
            "Class-wise Accuracy:\n",
            "  Class 1: 20.06%\n",
            "  Class 2: 66.20%\n",
            "  Class 0: 50.62%\n",
            "  Class 3: 44.91%\n",
            "Test Accuracy: 45.4%, Test Loss: 1.191288\n",
            "\n",
            "\n",
            "Class-wise Accuracy:\n",
            "  Class 1: 20.06%\n",
            "  Class 2: 66.20%\n",
            "  Class 0: 50.62%\n",
            "  Class 3: 44.91%\n",
            "Train Accuracy: 55.52%, Average Train Loss: 1.038686, Test Accuracy: 45.45%, Average Test Loss: 1.191288\n",
            "\n",
            "Epoch 45/100: "
          ]
        },
        {
          "output_type": "stream",
          "name": "stderr",
          "text": [
            "100%|██████████| 41/41 [00:03<00:00, 10.85it/s]\n",
            "Batch 41/41, Loss: 1.060208: 100%|██████████| 41/41 [00:01<00:00, 23.50it/s]\n"
          ]
        },
        {
          "output_type": "stream",
          "name": "stdout",
          "text": [
            "\n",
            "Class-wise Accuracy:\n",
            "  Class 1: 81.17%\n",
            "  Class 2: 43.21%\n",
            "  Class 0: 23.46%\n",
            "  Class 3: 27.01%\n",
            "Test Accuracy: 43.7%, Test Loss: 1.291725\n",
            "\n",
            "\n",
            "Class-wise Accuracy:\n",
            "  Class 1: 81.17%\n",
            "  Class 2: 43.21%\n",
            "  Class 0: 23.46%\n",
            "  Class 3: 27.01%\n",
            "Train Accuracy: 56.06%, Average Train Loss: 1.018094, Test Accuracy: 43.71%, Average Test Loss: 1.291725\n",
            "\n",
            "Epoch 46/100: "
          ]
        },
        {
          "output_type": "stream",
          "name": "stderr",
          "text": [
            "100%|██████████| 41/41 [00:03<00:00, 11.25it/s]\n",
            "Batch 41/41, Loss: 1.098618: 100%|██████████| 41/41 [00:01<00:00, 25.02it/s]\n"
          ]
        },
        {
          "output_type": "stream",
          "name": "stdout",
          "text": [
            "\n",
            "Class-wise Accuracy:\n",
            "  Class 1: 47.38%\n",
            "  Class 2: 43.98%\n",
            "  Class 0: 43.67%\n",
            "  Class 3: 53.70%\n",
            "Test Accuracy: 47.2%, Test Loss: 1.154230\n",
            "\n",
            "\n",
            "Class-wise Accuracy:\n",
            "  Class 1: 47.38%\n",
            "  Class 2: 43.98%\n",
            "  Class 0: 43.67%\n",
            "  Class 3: 53.70%\n",
            "Train Accuracy: 56.10%, Average Train Loss: 1.020138, Test Accuracy: 47.18%, Average Test Loss: 1.154230\n",
            "\n",
            "Epoch 47/100: "
          ]
        },
        {
          "output_type": "stream",
          "name": "stderr",
          "text": [
            "100%|██████████| 41/41 [00:03<00:00, 11.16it/s]\n",
            "Batch 41/41, Loss: 1.054799: 100%|██████████| 41/41 [00:01<00:00, 23.42it/s]\n"
          ]
        },
        {
          "output_type": "stream",
          "name": "stdout",
          "text": [
            "\n",
            "Class-wise Accuracy:\n",
            "  Class 1: 69.91%\n",
            "  Class 2: 46.14%\n",
            "  Class 0: 18.52%\n",
            "  Class 3: 50.15%\n",
            "Test Accuracy: 46.2%, Test Loss: 1.181418\n",
            "\n",
            "\n",
            "Class-wise Accuracy:\n",
            "  Class 1: 69.91%\n",
            "  Class 2: 46.14%\n",
            "  Class 0: 18.52%\n",
            "  Class 3: 50.15%\n",
            "Train Accuracy: 56.79%, Average Train Loss: 1.020127, Test Accuracy: 46.18%, Average Test Loss: 1.181418\n",
            "\n",
            "Epoch 48/100: "
          ]
        },
        {
          "output_type": "stream",
          "name": "stderr",
          "text": [
            "100%|██████████| 41/41 [00:03<00:00, 10.88it/s]\n",
            "Batch 41/41, Loss: 1.286553: 100%|██████████| 41/41 [00:01<00:00, 25.18it/s]\n"
          ]
        },
        {
          "output_type": "stream",
          "name": "stdout",
          "text": [
            "\n",
            "Class-wise Accuracy:\n",
            "  Class 1: 16.20%\n",
            "  Class 2: 87.65%\n",
            "  Class 0: 40.28%\n",
            "  Class 3: 23.77%\n",
            "Test Accuracy: 42.0%, Test Loss: 1.290187\n",
            "\n",
            "\n",
            "Class-wise Accuracy:\n",
            "  Class 1: 16.20%\n",
            "  Class 2: 87.65%\n",
            "  Class 0: 40.28%\n",
            "  Class 3: 23.77%\n",
            "Train Accuracy: 57.91%, Average Train Loss: 1.004803, Test Accuracy: 41.98%, Average Test Loss: 1.290187\n",
            "\n",
            "Epoch 49/100: "
          ]
        },
        {
          "output_type": "stream",
          "name": "stderr",
          "text": [
            "100%|██████████| 41/41 [00:03<00:00, 11.22it/s]\n",
            "Batch 41/41, Loss: 1.091861: 100%|██████████| 41/41 [00:01<00:00, 25.12it/s]\n"
          ]
        },
        {
          "output_type": "stream",
          "name": "stdout",
          "text": [
            "\n",
            "Class-wise Accuracy:\n",
            "  Class 1: 56.79%\n",
            "  Class 2: 32.25%\n",
            "  Class 0: 31.94%\n",
            "  Class 3: 62.04%\n",
            "Test Accuracy: 45.8%, Test Loss: 1.190996\n",
            "\n",
            "\n",
            "Class-wise Accuracy:\n",
            "  Class 1: 56.79%\n",
            "  Class 2: 32.25%\n",
            "  Class 0: 31.94%\n",
            "  Class 3: 62.04%\n",
            "Train Accuracy: 56.56%, Average Train Loss: 1.008325, Test Accuracy: 45.76%, Average Test Loss: 1.190996\n",
            "\n",
            "Epoch 50/100: "
          ]
        },
        {
          "output_type": "stream",
          "name": "stderr",
          "text": [
            "100%|██████████| 41/41 [00:03<00:00, 10.96it/s]\n",
            "Batch 41/41, Loss: 1.271837: 100%|██████████| 41/41 [00:01<00:00, 22.42it/s]\n"
          ]
        },
        {
          "output_type": "stream",
          "name": "stdout",
          "text": [
            "\n",
            "Class-wise Accuracy:\n",
            "  Class 1: 17.13%\n",
            "  Class 2: 58.49%\n",
            "  Class 0: 31.02%\n",
            "  Class 3: 70.37%\n",
            "Test Accuracy: 44.3%, Test Loss: 1.234674\n",
            "\n",
            "\n",
            "Class-wise Accuracy:\n",
            "  Class 1: 17.13%\n",
            "  Class 2: 58.49%\n",
            "  Class 0: 31.02%\n",
            "  Class 3: 70.37%\n",
            "Train Accuracy: 56.06%, Average Train Loss: 1.020148, Test Accuracy: 44.25%, Average Test Loss: 1.234674\n",
            "\n",
            "Epoch 51/100: "
          ]
        },
        {
          "output_type": "stream",
          "name": "stderr",
          "text": [
            "100%|██████████| 41/41 [00:03<00:00, 11.32it/s]\n",
            "Batch 41/41, Loss: 1.079012: 100%|██████████| 41/41 [00:01<00:00, 25.45it/s]\n"
          ]
        },
        {
          "output_type": "stream",
          "name": "stdout",
          "text": [
            "\n",
            "Class-wise Accuracy:\n",
            "  Class 1: 74.23%\n",
            "  Class 2: 34.41%\n",
            "  Class 0: 28.86%\n",
            "  Class 3: 50.00%\n",
            "Test Accuracy: 46.9%, Test Loss: 1.153747\n",
            "\n",
            "\n",
            "Class-wise Accuracy:\n",
            "  Class 1: 74.23%\n",
            "  Class 2: 34.41%\n",
            "  Class 0: 28.86%\n",
            "  Class 3: 50.00%\n",
            "Train Accuracy: 58.37%, Average Train Loss: 0.987922, Test Accuracy: 46.88%, Average Test Loss: 1.153747\n",
            "\n",
            "Epoch 52/100: "
          ]
        },
        {
          "output_type": "stream",
          "name": "stderr",
          "text": [
            "100%|██████████| 41/41 [00:04<00:00, 10.17it/s]\n",
            "Batch 41/41, Loss: 1.044026: 100%|██████████| 41/41 [00:01<00:00, 23.16it/s]\n"
          ]
        },
        {
          "output_type": "stream",
          "name": "stdout",
          "text": [
            "\n",
            "Class-wise Accuracy:\n",
            "  Class 1: 75.77%\n",
            "  Class 2: 41.82%\n",
            "  Class 0: 21.14%\n",
            "  Class 3: 44.29%\n",
            "Test Accuracy: 45.8%, Test Loss: 1.179918\n",
            "\n",
            "\n",
            "Class-wise Accuracy:\n",
            "  Class 1: 75.77%\n",
            "  Class 2: 41.82%\n",
            "  Class 0: 21.14%\n",
            "  Class 3: 44.29%\n",
            "Train Accuracy: 57.21%, Average Train Loss: 0.997267, Test Accuracy: 45.76%, Average Test Loss: 1.179918\n",
            "\n",
            "Epoch 53/100: "
          ]
        },
        {
          "output_type": "stream",
          "name": "stderr",
          "text": [
            " 88%|████████▊ | 36/41 [00:03<00:00, 11.03it/s]"
          ]
        }
      ],
      "source": [
        "import torch\n",
        "import wandb\n",
        "from torch.utils.data import DataLoader\n",
        "from torch.optim import AdamW\n",
        "from torch.optim.lr_scheduler import CosineAnnealingLR\n",
        "from torch.nn import CrossEntropyLoss\n",
        "import numpy as np\n",
        "\n",
        "# Initialize Weights & Biases\n",
        "wandb.init(project=\"Master Thesis\", name=f\"LSTM {seed}\")\n",
        "\n",
        "# Define hyperparameters\n",
        "lr = 1e-3\n",
        "weight_decay = 0\n",
        "batch_size = 64  # Start with 124\n",
        "n_epochs = 50\n",
        "\n",
        "final_acc = 0.0\n",
        "\n",
        "# Log hyperparameters to wandb\n",
        "wandb.config.update({\n",
        "    \"learning_rate\": lr,\n",
        "    \"weight_decay\": weight_decay,\n",
        "    \"batch_size\": batch_size,\n",
        "    \"epochs\": n_epochs\n",
        "})\n",
        "\n",
        "# Define optimizer and scheduler\n",
        "optimizer = AdamW(model.parameters(), lr=lr, weight_decay=weight_decay)\n",
        "scheduler = CosineAnnealingLR(optimizer, T_max=n_epochs - 1)\n",
        "\n",
        "# Define loss function\n",
        "loss_fn = CrossEntropyLoss()\n",
        "\n",
        "# Create DataLoaders\n",
        "train_loader = DataLoader(train_set, batch_size=batch_size, shuffle=True)\n",
        "test_loader = DataLoader(test_set, batch_size=batch_size)\n",
        "\n",
        "# Initialize lists to store all predictions & targets\n",
        "all_preds, all_targets = [], []\n",
        "\n",
        "# Training loop\n",
        "for epoch in range(1, n_epochs + 1):\n",
        "    print(f\"Epoch {epoch}/{n_epochs}: \", end=\"\")\n",
        "\n",
        "    train_loss, train_accuracy = train_one_epoch(\n",
        "        train_loader, model, loss_fn, optimizer, scheduler, epoch, device\n",
        "    )\n",
        "\n",
        "    test_loss, test_accuracy, class_accuracies, batch_preds, batch_targets = test_model(test_loader, model, loss_fn)\n",
        "    final_acc = test_accuracy\n",
        "    # Store predictions & labels for confusion matrix\n",
        "    all_preds.extend(batch_preds)\n",
        "    all_targets.extend(batch_targets)\n",
        "\n",
        "    # Print class-wise accuracy\n",
        "    print(\"\\nClass-wise Accuracy:\")\n",
        "    for class_idx, acc in class_accuracies.items():\n",
        "        print(f\"  Class {class_idx}: {acc:.2f}%\")\n",
        "\n",
        "    # Log results to wandb\n",
        "    wandb.log({\n",
        "        \"epoch\": epoch,\n",
        "        \"train_loss\": train_loss,\n",
        "        \"train_accuracy\": train_accuracy * 100,\n",
        "        \"test_loss\": test_loss,\n",
        "        \"test_accuracy\": test_accuracy,\n",
        "        \"learning_rate\": scheduler.get_last_lr()[0],\n",
        "        **{f\"class_{class_idx}_accuracy\": acc for class_idx, acc in class_accuracies.items()}\n",
        "    })\n",
        "\n",
        "    print(\n",
        "        f\"Train Accuracy: {100 * train_accuracy:.2f}%, \"\n",
        "        f\"Average Train Loss: {train_loss:.6f}, \"\n",
        "        f\"Test Accuracy: {test_accuracy:.2f}%, \"\n",
        "        f\"Average Test Loss: {test_loss:.6f}\\n\"\n",
        "    )\n",
        "\n",
        "# Convert lists to NumPy arrays\n",
        "all_preds = np.array(all_preds)\n",
        "all_targets = np.array(all_targets)\n",
        "\n",
        "# Save predictions & true labels for later use (confusion matrix)\n",
        "wandb.log({\"all_preds\": all_preds.tolist(), \"all_targets\": all_targets.tolist()})\n",
        "\n"
      ]
    },
    {
      "cell_type": "code",
      "execution_count": null,
      "metadata": {
        "id": "_EeozMvYlqbs"
      },
      "outputs": [],
      "source": [
        "wandb.finish()"
      ]
    },
    {
      "cell_type": "code",
      "execution_count": null,
      "metadata": {
        "id": "r25kGBA32Zhm"
      },
      "outputs": [],
      "source": [
        "import math\n",
        "# Assuming 'model' is your trained Braindecode model\n",
        "print(seed)\n",
        "torch.save(model, f\"spatial_attention_{math.ceil(final_acc)}_{seed}.pth\")\n",
        "torch.save(model.state_dict(), f\"spatial_attention_{math.ceil(final_acc)}_{seed}_state.pth\")\n"
      ]
    },
    {
      "cell_type": "code",
      "source": [],
      "metadata": {
        "id": "6oTC35YwpAzQ"
      },
      "execution_count": null,
      "outputs": []
    }
  ],
  "metadata": {
    "accelerator": "GPU",
    "colab": {
      "gpuType": "T4",
      "provenance": []
    },
    "kernelspec": {
      "display_name": "Python 3",
      "name": "python3"
    },
    "language_info": {
      "codemirror_mode": {
        "name": "ipython",
        "version": 3
      },
      "file_extension": ".py",
      "mimetype": "text/x-python",
      "name": "python",
      "nbconvert_exporter": "python",
      "pygments_lexer": "ipython3",
      "version": "3.12.9"
    }
  },
  "nbformat": 4,
  "nbformat_minor": 0
}