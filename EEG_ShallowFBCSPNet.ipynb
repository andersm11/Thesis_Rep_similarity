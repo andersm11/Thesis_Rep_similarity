{
 "cells": [
  {
   "cell_type": "markdown",
   "metadata": {},
   "source": [
    "# Explore EEG data with Deep Learning \n",
    "### BNCI2014_001 with ShallowFBCSPNet"
   ]
  },
  {
   "cell_type": "code",
   "execution_count": 18,
   "metadata": {},
   "outputs": [],
   "source": [
    "#!pip install --upgrade pip\n",
    "\n",
    "#!pip install numpy\n",
    "#!pip install pandas\n",
    "#!pip install scipy\n",
    "#!pip uninstall matplotlib\n",
    "#!pip install matplotlib\n",
    "\n",
    "#!pip uninstall seaborn\n",
    "#!pip install seaborn\n",
    "\n",
    "#!pip install braindecode\n",
    "#!pip install PyYAML\n",
    "#!pip install moabb\n",
    "#!pip install mne\n",
    "#!pip install --upgrade pip setuptools wheel\n",
    "#!pip install Cython\n",
    "\n"
   ]
  },
  {
   "cell_type": "code",
   "execution_count": 19,
   "metadata": {},
   "outputs": [],
   "source": [
    "#!conda install numpy\n",
    "#!conda install scipy\n",
    "#!pip install -U seaborn\n",
    "#!pip install -U numpy\n",
    "#!pip install -U scipy\n"
   ]
  },
  {
   "cell_type": "code",
   "execution_count": 20,
   "metadata": {},
   "outputs": [],
   "source": [
    "#!pip uninstall h5py -y\n",
    "#!pip install --no-cache-dir h5py\n"
   ]
  },
  {
   "cell_type": "code",
   "execution_count": 21,
   "metadata": {},
   "outputs": [],
   "source": [
    "#!python.exe -m pip install --upgrade pip"
   ]
  },
  {
   "cell_type": "code",
   "execution_count": 22,
   "metadata": {},
   "outputs": [],
   "source": [
    "#!pip uninstall torch_geometric -y\n",
    "#!pip install torch_geometric\n",
    "#!pip uninstall h5py -y\n",
    "#!pip install --no-cache-dir h5py\n",
    "#!python.exe -m pip install --upgrade pip\n",
    "#!pip install mne\n",
    "#!pip install moabb\n",
    "#!pip install wandb==0.19.1"
   ]
  },
  {
   "cell_type": "code",
   "execution_count": 23,
   "metadata": {},
   "outputs": [],
   "source": [
    "import wandb"
   ]
  },
  {
   "cell_type": "code",
   "execution_count": 24,
   "metadata": {},
   "outputs": [],
   "source": [
    "import numpy as np\n",
    "import pandas as pd \n",
    "import math \n",
    "import seaborn as sns\n",
    "import matplotlib.pyplot as plt\n",
    "\n",
    "from mne import create_info\n",
    "from mne.channels import make_standard_montage\n",
    "from mne.io import RawArray\n",
    "from mne.utils import verbose\n",
    "from scipy.io import loadmat\n",
    "\n",
    "from moabb.datasets import download as dl\n",
    "from moabb.datasets.base import BaseDataset\n",
    "from moabb.utils import depreciated_alias\n",
    "\n",
    "\n",
    "from moabb.datasets.bnci import BNCI2014_001\n",
    "\n",
    "\n",
    "\n"
   ]
  },
  {
   "cell_type": "code",
   "execution_count": null,
   "metadata": {},
   "outputs": [],
   "source": []
  },
  {
   "cell_type": "markdown",
   "metadata": {},
   "source": [
    "### Data BNCI2014_001"
   ]
  },
  {
   "cell_type": "code",
   "execution_count": 25,
   "metadata": {},
   "outputs": [],
   "source": [
    "#BNCI_URL = \"http://bnci-horizon-2020.eu/database/data-sets/\"\n",
    "#BBCI_URL = \"http://doc.ml.tu-berlin.de/bbci/\"\n",
    "\n",
    "\n"
   ]
  },
  {
   "cell_type": "code",
   "execution_count": 26,
   "metadata": {},
   "outputs": [],
   "source": [
    "dataset = BNCI2014_001()\n",
    "data = dataset.get_data(subjects=[1])  # Load data for subject 1\n"
   ]
  },
  {
   "cell_type": "code",
   "execution_count": 27,
   "metadata": {},
   "outputs": [
    {
     "data": {
      "text/html": [
       "<script type=\"text/javascript\">\n",
       "    // must be `var` (not `const`) because this can get embedded multiple times on a page\n",
       "var toggleVisibility = (className) => {\n",
       "\n",
       "    const elements = document.querySelectorAll(`.${className}`);\n",
       "\n",
       "    elements.forEach(element => {\n",
       "        if (element.classList.contains(\"mne-repr-section-header\")) {\n",
       "            return  // Don't collapse the section header row\n",
       "        }\n",
       "        element.classList.toggle(\"mne-repr-collapsed\");\n",
       "    });\n",
       "\n",
       "    // trigger caret to rotate\n",
       "    var sel = `.mne-repr-section-header.${className} > th.mne-repr-section-toggle > button`;\n",
       "    const button = document.querySelector(sel);\n",
       "    button.classList.toggle(\"collapsed\");\n",
       "\n",
       "    // adjust tooltip\n",
       "    sel = `tr.mne-repr-section-header.${className}`;\n",
       "    const secHeadRow = document.querySelector(sel);\n",
       "    secHeadRow.classList.toggle(\"collapsed\");\n",
       "    secHeadRow.title = secHeadRow.title === \"Hide section\" ? \"Show section\" : \"Hide section\";\n",
       "}\n",
       "</script>\n",
       "\n",
       "<style type=\"text/css\">\n",
       "    /*\n",
       "Styles in this section apply both to the sphinx-built website docs and to notebooks\n",
       "rendered in an IDE or in Jupyter. In our web docs, styles here are complemented by\n",
       "doc/_static/styles.css and other CSS files (e.g. from the sphinx theme, sphinx-gallery,\n",
       "or bootstrap). In IDEs/Jupyter, those style files are unavailable, so only the rules in\n",
       "this file apply (plus whatever default styling the IDE applies).\n",
       "*/\n",
       ".mne-repr-table {\n",
       "    display: inline;  /* prevent using full container width */\n",
       "}\n",
       ".mne-repr-table tr.mne-repr-section-header > th {\n",
       "    padding-top: 1rem;\n",
       "    text-align: left;\n",
       "    vertical-align: middle;\n",
       "}\n",
       ".mne-repr-section-toggle > button {\n",
       "    all: unset;\n",
       "    display: block;\n",
       "    height: 1rem;\n",
       "    width: 1rem;\n",
       "}\n",
       ".mne-repr-section-toggle > button > svg {\n",
       "    height: 60%;\n",
       "}\n",
       "\n",
       "/* transition (rotation) effects on the collapser button */\n",
       ".mne-repr-section-toggle > button.collapsed > svg {\n",
       "    transition: 0.1s ease-out;\n",
       "    transform: rotate(-90deg);\n",
       "}\n",
       ".mne-repr-section-toggle > button:not(.collapsed) > svg {\n",
       "    transition: 0.1s ease-out;\n",
       "    transform: rotate(0deg);\n",
       "}\n",
       "\n",
       "/* hide collapsed table rows */\n",
       ".mne-repr-collapsed {\n",
       "    display: none;\n",
       "}\n",
       "\n",
       "\n",
       "@layer {\n",
       "    /*\n",
       "    Selectors in a `@layer` will always be lower-precedence than selectors outside the\n",
       "    layer. So even though e.g. `div.output_html` is present in the sphinx-rendered\n",
       "    website docs, the styles here won't take effect there as long as some other rule\n",
       "    somewhere in the page's CSS targets the same element.\n",
       "\n",
       "    In IDEs or Jupyter notebooks, though, the CSS files from the sphinx theme,\n",
       "    sphinx-gallery, and bootstrap are unavailable, so these styles will apply.\n",
       "\n",
       "    Notes:\n",
       "\n",
       "    - the selector `.accordion-body` is for MNE Reports\n",
       "    - the selector `.output_html` is for VSCode's notebook interface\n",
       "    - the selector `.jp-RenderedHTML` is for Jupyter notebook\n",
       "    - variables starting with `--theme-` are VSCode-specific.\n",
       "    - variables starting with `--jp-` are Jupyter styles, *some of which* are also\n",
       "      available in VSCode. Here we try the `--theme-` variable first, then fall back to\n",
       "      the `--jp-` ones.\n",
       "    */\n",
       "    .mne-repr-table {\n",
       "        --mne-toggle-color: var(--theme-foreground, var(--jp-ui-font-color1));\n",
       "        --mne-button-bg-color: var(--theme-button-background, var(--jp-info-color0, var(--jp-content-link-color)));\n",
       "        --mne-button-fg-color: var(--theme-button-foreground, var(--jp-ui-inverse-font-color0, var(--jp-editor-background)));\n",
       "        --mne-button-hover-bg-color: var(--theme-button-hover-background, var(--jp-info-color1));\n",
       "        --mne-button-radius: var(--jp-border-radius, 0.25rem);\n",
       "    }\n",
       "    /* chevron position/alignment; in VSCode it looks ok without adjusting */\n",
       "    .accordion-body .mne-repr-section-toggle > button,\n",
       "    .jp-RenderedHTML .mne-repr-section-toggle > button {\n",
       "        padding: 0 0 45% 25% !important;\n",
       "    }\n",
       "    /* chevron color; MNE Report doesn't have light/dark mode */\n",
       "    div.output_html .mne-repr-section-toggle > button > svg > path,\n",
       "    .jp-RenderedHTML .mne-repr-section-toggle > button > svg > path {\n",
       "        fill: var(--mne-toggle-color);\n",
       "    }\n",
       "    .accordion-body .mne-ch-names-btn,\n",
       "    div.output_html .mne-ch-names-btn,\n",
       "    .jp-RenderedHTML .mne-ch-names-btn {\n",
       "        -webkit-border-radius: var(--mne-button-radius);\n",
       "        -moz-border-radius: var(--mne-button-radius);\n",
       "        border-radius: var(--mne-button-radius);\n",
       "        border: none;\n",
       "        background-image: none;\n",
       "        background-color: var(--mne-button-bg-color);\n",
       "        color: var(--mne-button-fg-color);\n",
       "        font-size: inherit;\n",
       "        min-width: 1.5rem;\n",
       "        padding: 0.25rem;\n",
       "        text-align: center;\n",
       "        text-decoration: none;\n",
       "    }\n",
       "    .accordion-body .mne-ch-names-btn:hover,\n",
       "    div.output_html .mne.ch-names-btn:hover,\n",
       "    .jp-RenderedHTML .mne-ch-names-btn:hover {\n",
       "        background-color: var(--mne-button-hover-bg-color);\n",
       "        text-decoration: underline;\n",
       "    }\n",
       "    .accordion-body .mne-ch-names-btn:focus-visible,\n",
       "    div.output_html .mne-ch-names-btn:focus-visible,\n",
       "    .jp-RenderedHTML .mne-ch-names-btn:focus-visible {\n",
       "        outline: 0.1875rem solid var(--mne-button-bg-color) !important;\n",
       "        outline-offset: 0.1875rem !important;\n",
       "    }\n",
       "}\n",
       "</style>\n",
       "\n",
       "\n",
       "\n",
       "<table class=\"table mne-repr-table\">\n",
       "    \n",
       "\n",
       "\n",
       "\n",
       "\n",
       "\n",
       "\n",
       "\n",
       "<tr class=\"mne-repr-section-header general-171980bd-555a-42f6-acad-a127f7bb1fdb\"\n",
       "     title=\"Hide section\" \n",
       "    onclick=\"toggleVisibility('general-171980bd-555a-42f6-acad-a127f7bb1fdb')\">\n",
       "    <th class=\"mne-repr-section-toggle\">\n",
       "        <button >\n",
       "            <svg xmlns=\"http://www.w3.org/2000/svg\" viewBox=\"0 0 512 512\"><!--!Font Awesome Free 6.6.0 by @fontawesome - https://fontawesome.com License - https://fontawesome.com/license/free Copyright 2024 Fonticons, Inc.--><path d=\"M233.4 406.6c12.5 12.5 32.8 12.5 45.3 0l192-192c12.5-12.5 12.5-32.8 0-45.3s-32.8-12.5-45.3 0L256 338.7 86.6 169.4c-12.5-12.5-32.8-12.5-45.3 0s-12.5 32.8 0 45.3l192 192z\"/></svg>\n",
       "        </button>\n",
       "    </th>\n",
       "    <th colspan=\"2\">\n",
       "        <strong>General</strong>\n",
       "    </th>\n",
       "</tr>\n",
       "\n",
       "\n",
       "<tr class=\"repr-element general-171980bd-555a-42f6-acad-a127f7bb1fdb \">\n",
       "    <td class=\"mne-repr-section-toggle\"></td>\n",
       "    <td>MNE object type</td>\n",
       "    <td>RawArray</td>\n",
       "</tr>\n",
       "<tr class=\"repr-element general-171980bd-555a-42f6-acad-a127f7bb1fdb \">\n",
       "    <td class=\"mne-repr-section-toggle\"></td>\n",
       "    <td>Measurement date</td>\n",
       "    \n",
       "    <td>Unknown</td>\n",
       "    \n",
       "</tr>\n",
       "<tr class=\"repr-element general-171980bd-555a-42f6-acad-a127f7bb1fdb \">\n",
       "    <td class=\"mne-repr-section-toggle\"></td>\n",
       "    <td>Participant</td>\n",
       "    \n",
       "    <td>Unknown</td>\n",
       "    \n",
       "</tr>\n",
       "<tr class=\"repr-element general-171980bd-555a-42f6-acad-a127f7bb1fdb \">\n",
       "    <td class=\"mne-repr-section-toggle\"></td>\n",
       "    <td>Experimenter</td>\n",
       "    \n",
       "    <td>Unknown</td>\n",
       "    \n",
       "</tr>\n",
       "    \n",
       "\n",
       "\n",
       "\n",
       "\n",
       "\n",
       "\n",
       "\n",
       "<tr class=\"mne-repr-section-header acquisition-42d918fb-64e6-4ae8-8dd9-3d4681d91c79\"\n",
       "     title=\"Hide section\" \n",
       "    onclick=\"toggleVisibility('acquisition-42d918fb-64e6-4ae8-8dd9-3d4681d91c79')\">\n",
       "    <th class=\"mne-repr-section-toggle\">\n",
       "        <button >\n",
       "            <svg xmlns=\"http://www.w3.org/2000/svg\" viewBox=\"0 0 512 512\"><!--!Font Awesome Free 6.6.0 by @fontawesome - https://fontawesome.com License - https://fontawesome.com/license/free Copyright 2024 Fonticons, Inc.--><path d=\"M233.4 406.6c12.5 12.5 32.8 12.5 45.3 0l192-192c12.5-12.5 12.5-32.8 0-45.3s-32.8-12.5-45.3 0L256 338.7 86.6 169.4c-12.5-12.5-32.8-12.5-45.3 0s-12.5 32.8 0 45.3l192 192z\"/></svg>\n",
       "        </button>\n",
       "    </th>\n",
       "    <th colspan=\"2\">\n",
       "        <strong>Acquisition</strong>\n",
       "    </th>\n",
       "</tr>\n",
       "\n",
       "\n",
       "<tr class=\"repr-element acquisition-42d918fb-64e6-4ae8-8dd9-3d4681d91c79 \">\n",
       "    <td class=\"mne-repr-section-toggle\"></td>\n",
       "    <td>Duration</td>\n",
       "    <td>00:06:27 (HH:MM:SS)</td>\n",
       "</tr>\n",
       "\n",
       "\n",
       "\n",
       "\n",
       "\n",
       "\n",
       "\n",
       "\n",
       "<tr class=\"repr-element acquisition-42d918fb-64e6-4ae8-8dd9-3d4681d91c79 \">\n",
       "    <td class=\"mne-repr-section-toggle\"></td>\n",
       "    <td>Sampling frequency</td>\n",
       "    <td>250.00 Hz</td>\n",
       "</tr>\n",
       "\n",
       "\n",
       "<tr class=\"repr-element acquisition-42d918fb-64e6-4ae8-8dd9-3d4681d91c79 \">\n",
       "    <td class=\"mne-repr-section-toggle\"></td>\n",
       "    <td>Time points</td>\n",
       "    <td>96,735</td>\n",
       "</tr>\n",
       "\n",
       "\n",
       "    \n",
       "\n",
       "\n",
       "\n",
       "\n",
       "\n",
       "\n",
       "\n",
       "<tr class=\"mne-repr-section-header channels-5ad2ea8f-7a39-447e-a2fd-41199501f677\"\n",
       "     title=\"Hide section\" \n",
       "    onclick=\"toggleVisibility('channels-5ad2ea8f-7a39-447e-a2fd-41199501f677')\">\n",
       "    <th class=\"mne-repr-section-toggle\">\n",
       "        <button >\n",
       "            <svg xmlns=\"http://www.w3.org/2000/svg\" viewBox=\"0 0 512 512\"><!--!Font Awesome Free 6.6.0 by @fontawesome - https://fontawesome.com License - https://fontawesome.com/license/free Copyright 2024 Fonticons, Inc.--><path d=\"M233.4 406.6c12.5 12.5 32.8 12.5 45.3 0l192-192c12.5-12.5 12.5-32.8 0-45.3s-32.8-12.5-45.3 0L256 338.7 86.6 169.4c-12.5-12.5-32.8-12.5-45.3 0s-12.5 32.8 0 45.3l192 192z\"/></svg>\n",
       "        </button>\n",
       "    </th>\n",
       "    <th colspan=\"2\">\n",
       "        <strong>Channels</strong>\n",
       "    </th>\n",
       "</tr>\n",
       "\n",
       "\n",
       "    \n",
       "<tr class=\"repr-element channels-5ad2ea8f-7a39-447e-a2fd-41199501f677 \">\n",
       "    <td class=\"mne-repr-section-toggle\"></td>\n",
       "    <td>EEG</td>\n",
       "    <td>\n",
       "        <button class=\"mne-ch-names-btn sd-sphinx-override sd-btn sd-btn-info sd-text-wrap sd-shadow-sm\" onclick=\"alert('Good EEG:\\n\\nFz, FC3, FC1, FCz, FC2, FC4, C5, C3, C1, Cz, C2, C4, C6, CP3, CP1, CPz, CP2, CP4, P1, Pz, P2, POz')\" title=\"(Click to open in popup)&#13;&#13;Fz, FC3, FC1, FCz, FC2, FC4, C5, C3, C1, Cz, C2, C4, C6, CP3, CP1, CPz, CP2, CP4, P1, Pz, P2, POz\">\n",
       "            22\n",
       "        </button>\n",
       "\n",
       "        \n",
       "    </td>\n",
       "</tr>\n",
       "\n",
       "    \n",
       "<tr class=\"repr-element channels-5ad2ea8f-7a39-447e-a2fd-41199501f677 \">\n",
       "    <td class=\"mne-repr-section-toggle\"></td>\n",
       "    <td>EOG</td>\n",
       "    <td>\n",
       "        <button class=\"mne-ch-names-btn sd-sphinx-override sd-btn sd-btn-info sd-text-wrap sd-shadow-sm\" onclick=\"alert('Good EOG:\\n\\nEOG1, EOG2, EOG3')\" title=\"(Click to open in popup)&#13;&#13;EOG1, EOG2, EOG3\">\n",
       "            3\n",
       "        </button>\n",
       "\n",
       "        \n",
       "    </td>\n",
       "</tr>\n",
       "\n",
       "    \n",
       "<tr class=\"repr-element channels-5ad2ea8f-7a39-447e-a2fd-41199501f677 \">\n",
       "    <td class=\"mne-repr-section-toggle\"></td>\n",
       "    <td>Stimulus</td>\n",
       "    <td>\n",
       "        <button class=\"mne-ch-names-btn sd-sphinx-override sd-btn sd-btn-info sd-text-wrap sd-shadow-sm\" onclick=\"alert('Good Stimulus:\\n\\nstim')\" title=\"(Click to open in popup)&#13;&#13;stim\">\n",
       "            1\n",
       "        </button>\n",
       "\n",
       "        \n",
       "    </td>\n",
       "</tr>\n",
       "\n",
       "\n",
       "<tr class=\"repr-element channels-5ad2ea8f-7a39-447e-a2fd-41199501f677 \">\n",
       "    <td class=\"mne-repr-section-toggle\"></td>\n",
       "    <td>Head & sensor digitization</td>\n",
       "    \n",
       "    <td>25 points</td>\n",
       "    \n",
       "</tr>\n",
       "    \n",
       "\n",
       "\n",
       "\n",
       "\n",
       "\n",
       "\n",
       "\n",
       "<tr class=\"mne-repr-section-header filters-643b9b22-3768-404e-ab20-305a98d0af71\"\n",
       "     title=\"Hide section\" \n",
       "    onclick=\"toggleVisibility('filters-643b9b22-3768-404e-ab20-305a98d0af71')\">\n",
       "    <th class=\"mne-repr-section-toggle\">\n",
       "        <button >\n",
       "            <svg xmlns=\"http://www.w3.org/2000/svg\" viewBox=\"0 0 512 512\"><!--!Font Awesome Free 6.6.0 by @fontawesome - https://fontawesome.com License - https://fontawesome.com/license/free Copyright 2024 Fonticons, Inc.--><path d=\"M233.4 406.6c12.5 12.5 32.8 12.5 45.3 0l192-192c12.5-12.5 12.5-32.8 0-45.3s-32.8-12.5-45.3 0L256 338.7 86.6 169.4c-12.5-12.5-32.8-12.5-45.3 0s-12.5 32.8 0 45.3l192 192z\"/></svg>\n",
       "        </button>\n",
       "    </th>\n",
       "    <th colspan=\"2\">\n",
       "        <strong>Filters</strong>\n",
       "    </th>\n",
       "</tr>\n",
       "\n",
       "\n",
       "<tr class=\"repr-element filters-643b9b22-3768-404e-ab20-305a98d0af71 \">\n",
       "    <td class=\"mne-repr-section-toggle\"></td>\n",
       "    <td>Highpass</td>\n",
       "    <td>0.00 Hz</td>\n",
       "</tr>\n",
       "\n",
       "\n",
       "<tr class=\"repr-element filters-643b9b22-3768-404e-ab20-305a98d0af71 \">\n",
       "    <td class=\"mne-repr-section-toggle\"></td>\n",
       "    <td>Lowpass</td>\n",
       "    <td>125.00 Hz</td>\n",
       "</tr>\n",
       "\n",
       "\n",
       "</table>"
      ],
      "text/plain": [
       "<RawArray | 26 x 96735 (386.9 s), ~19.2 MiB, data loaded>"
      ]
     },
     "execution_count": 27,
     "metadata": {},
     "output_type": "execute_result"
    }
   ],
   "source": [
    "# Data\n",
    "### 0-train and 1-test\n",
    "### 0-train has 0-5 keys ???\n",
    "### Same Duration for all 0-5 keys\n",
    "\n",
    "data[1][\"0train\"][\"2\"]"
   ]
  },
  {
   "cell_type": "markdown",
   "metadata": {},
   "source": [
    "### Notes\n",
    "- EEG is Brain activity\n",
    "- EOG is Eye-movements which are located around the eye </br>\n",
    "    - Kinds of EOG?\n"
   ]
  },
  {
   "cell_type": "code",
   "execution_count": 28,
   "metadata": {},
   "outputs": [],
   "source": [
    "#!pip install --upgrade skorch\n"
   ]
  },
  {
   "cell_type": "markdown",
   "metadata": {},
   "source": [
    "### Model shallowFBCSPNet"
   ]
  },
  {
   "cell_type": "code",
   "execution_count": 29,
   "metadata": {},
   "outputs": [],
   "source": [
    "#!pip install skorch\n",
    "#!pip install braindecode\n",
    "#!pip install mne\n",
    "#!pip install moabb\n",
    "#!pip install wandb\n",
    "#!pip install --upgrade skorch\n",
    "#!pip install --upgrade setuptools pip\n",
    "#!pip install moabb\n",
    "#!pip install pyyaml==5.4.1\n",
    "\n"
   ]
  },
  {
   "cell_type": "code",
   "execution_count": 30,
   "metadata": {},
   "outputs": [],
   "source": [
    "from braindecode.models import ShallowFBCSPNet\n",
    "import mne\n",
    "\n",
    "\n",
    "import warnings\n",
    "\n",
    "import matplotlib.pyplot as plt\n",
    "import pandas as pd\n",
    "import seaborn as sns\n",
    "from mne.decoding import CSP\n",
    "from sklearn.discriminant_analysis import LinearDiscriminantAnalysis as LDA\n",
    "from sklearn.pipeline import make_pipeline\n",
    "\n",
    "import moabb\n",
    "from moabb.datasets import BNCI2014_001\n",
    "from moabb.evaluations import WithinSessionEvaluation\n",
    "from moabb.paradigms import LeftRightImagery\n",
    "import tqdm"
   ]
  },
  {
   "cell_type": "code",
   "execution_count": 31,
   "metadata": {},
   "outputs": [
    {
     "name": "stderr",
     "output_type": "stream",
     "text": [
      "\n"
     ]
    },
    {
     "name": "stdout",
     "output_type": "stream",
     "text": [
      "Requirement already satisfied: scikit-learn in c:\\users\\user\\appdata\\local\\packages\\pythonsoftwarefoundation.python.3.10_qbz5n2kfra8p0\\localcache\\local-packages\\python310\\site-packages (1.5.2)"
     ]
    },
    {
     "name": "stderr",
     "output_type": "stream",
     "text": [
      "[notice] A new release of pip is available: 25.0 -> 25.0.1"
     ]
    },
    {
     "name": "stdout",
     "output_type": "stream",
     "text": [
      "\n"
     ]
    },
    {
     "name": "stderr",
     "output_type": "stream",
     "text": [
      "\n"
     ]
    },
    {
     "name": "stdout",
     "output_type": "stream",
     "text": [
      "Requirement already satisfied: numpy>=1.19.5 in c:\\users\\user\\appdata\\local\\packages\\pythonsoftwarefoundation.python.3.10_qbz5n2kfra8p0\\localcache\\local-packages\\python310\\site-packages (from scikit-learn) (1.26.4)"
     ]
    },
    {
     "name": "stderr",
     "output_type": "stream",
     "text": [
      "[notice] To update, run: C:\\Users\\User\\AppData\\Local\\Microsoft\\WindowsApps\\PythonSoftwareFoundation.Python.3.10_qbz5n2kfra8p0\\python.exe -m pip install --upgrade pip\n"
     ]
    },
    {
     "name": "stdout",
     "output_type": "stream",
     "text": [
      "\n",
      "Requirement already satisfied: scipy>=1.6.0 in c:\\users\\user\\appdata\\local\\packages\\pythonsoftwarefoundation.python.3.10_qbz5n2kfra8p0\\localcache\\local-packages\\python310\\site-packages (from scikit-learn) (1.10.1)\n",
      "Requirement already satisfied: joblib>=1.2.0 in c:\\users\\user\\appdata\\local\\packages\\pythonsoftwarefoundation.python.3.10_qbz5n2kfra8p0\\localcache\\local-packages\\python310\\site-packages (from scikit-learn) (1.3.2)\n",
      "Requirement already satisfied: threadpoolctl>=3.1.0 in c:\\users\\user\\appdata\\local\\packages\\pythonsoftwarefoundation.python.3.10_qbz5n2kfra8p0\\localcache\\local-packages\\python310\\site-packages (from scikit-learn) (3.3.0)\n"
     ]
    }
   ],
   "source": [
    "!pip install scikit-learn"
   ]
  },
  {
   "cell_type": "code",
   "execution_count": 32,
   "metadata": {},
   "outputs": [
    {
     "data": {
      "text/plain": [
       "True"
      ]
     },
     "execution_count": 32,
     "metadata": {},
     "output_type": "execute_result"
    }
   ],
   "source": [
    "import wandb\n",
    "wandb.login()"
   ]
  },
  {
   "cell_type": "code",
   "execution_count": 33,
   "metadata": {},
   "outputs": [],
   "source": [
    "#y = np.random.randint(0, 4, size=100)  # 4 classes\n",
    "#print(y.shape)\n",
    "\n",
    "def get_ints(y_data):\n",
    "    y_EEG_int_vals = []\n",
    "    for i in y_data:\n",
    "        if i == \"right_hand\":\n",
    "            y_EEG_int_vals.append(0)\n",
    "        else:\n",
    "            y_EEG_int_vals.append(1)\n",
    "    return y_EEG_int_vals\n"
   ]
  },
  {
   "cell_type": "code",
   "execution_count": null,
   "metadata": {},
   "outputs": [],
   "source": []
  },
  {
   "cell_type": "code",
   "execution_count": null,
   "metadata": {},
   "outputs": [],
   "source": []
  },
  {
   "cell_type": "code",
   "execution_count": 66,
   "metadata": {},
   "outputs": [
    {
     "data": {
      "text/html": [
       "wandb version 0.19.6 is available!  To upgrade, please run:\n",
       " $ pip install wandb --upgrade"
      ],
      "text/plain": [
       "<IPython.core.display.HTML object>"
      ]
     },
     "metadata": {},
     "output_type": "display_data"
    },
    {
     "data": {
      "text/html": [
       "Tracking run with wandb version 0.16.6"
      ],
      "text/plain": [
       "<IPython.core.display.HTML object>"
      ]
     },
     "metadata": {},
     "output_type": "display_data"
    },
    {
     "data": {
      "text/html": [
       "Run data is saved locally in <code>c:\\Documents\\MsC_ITU\\4th_semester_MSc_ITU\\Master_Thesis\\Thesis_Rep_similarity\\wandb\\run-20250211_180506-cq7qrc20</code>"
      ],
      "text/plain": [
       "<IPython.core.display.HTML object>"
      ]
     },
     "metadata": {},
     "output_type": "display_data"
    },
    {
     "data": {
      "text/html": [
       "Syncing run <strong><a href='https://wandb.ai/philinthesky/Master%20Thesis/runs/cq7qrc20' target=\"_blank\">neat-snowflake-6</a></strong> to <a href='https://wandb.ai/philinthesky/Master%20Thesis' target=\"_blank\">Weights & Biases</a> (<a href='https://wandb.me/run' target=\"_blank\">docs</a>)<br/>"
      ],
      "text/plain": [
       "<IPython.core.display.HTML object>"
      ]
     },
     "metadata": {},
     "output_type": "display_data"
    },
    {
     "data": {
      "text/html": [
       " View project at <a href='https://wandb.ai/philinthesky/Master%20Thesis' target=\"_blank\">https://wandb.ai/philinthesky/Master%20Thesis</a>"
      ],
      "text/plain": [
       "<IPython.core.display.HTML object>"
      ]
     },
     "metadata": {},
     "output_type": "display_data"
    },
    {
     "data": {
      "text/html": [
       " View run at <a href='https://wandb.ai/philinthesky/Master%20Thesis/runs/cq7qrc20' target=\"_blank\">https://wandb.ai/philinthesky/Master%20Thesis/runs/cq7qrc20</a>"
      ],
      "text/plain": [
       "<IPython.core.display.HTML object>"
      ]
     },
     "metadata": {},
     "output_type": "display_data"
    },
    {
     "name": "stdout",
     "output_type": "stream",
     "text": [
      "Not setting metadata\n",
      "288 matching events found\n",
      "No baseline correction applied\n",
      "0 projection items activated\n",
      "Subject 1: 0.8103448275862069\n",
      "Not setting metadata\n",
      "288 matching events found\n",
      "No baseline correction applied\n",
      "0 projection items activated\n",
      "Subject 2: 0.5517241379310345\n",
      "Not setting metadata\n",
      "288 matching events found\n",
      "No baseline correction applied\n",
      "0 projection items activated\n",
      "Subject 3: 0.9655172413793104\n",
      "Not setting metadata\n",
      "288 matching events found\n",
      "No baseline correction applied\n",
      "0 projection items activated\n",
      "Subject 4: 0.6551724137931034\n",
      "Not setting metadata\n",
      "288 matching events found\n",
      "No baseline correction applied\n",
      "0 projection items activated\n",
      "Subject 5: 0.5862068965517241\n",
      "Not setting metadata\n",
      "288 matching events found\n",
      "No baseline correction applied\n",
      "0 projection items activated\n",
      "Subject 6: 0.603448275862069\n",
      "Not setting metadata\n",
      "288 matching events found\n",
      "No baseline correction applied\n",
      "0 projection items activated\n",
      "Subject 7: 0.6724137931034483\n",
      "Not setting metadata\n",
      "288 matching events found\n",
      "No baseline correction applied\n",
      "0 projection items activated\n",
      "Subject 8: 0.9137931034482759\n",
      "Not setting metadata\n",
      "288 matching events found\n",
      "No baseline correction applied\n",
      "0 projection items activated\n",
      "Subject 9: 0.896551724137931\n"
     ]
    },
    {
     "data": {
      "application/vnd.jupyter.widget-view+json": {
       "model_id": "a1e7b3f834a74130a843dbb6cb9e28f0",
       "version_major": 2,
       "version_minor": 0
      },
      "text/plain": [
       "VBox(children=(Label(value='0.001 MB of 0.011 MB uploaded\\r'), FloatProgress(value=0.13763190842425327, max=1.…"
      ]
     },
     "metadata": {},
     "output_type": "display_data"
    },
    {
     "data": {
      "text/html": [
       "<style>\n",
       "    table.wandb td:nth-child(1) { padding: 0 10px; text-align: left ; width: auto;} td:nth-child(2) {text-align: left ; width: 100%}\n",
       "    .wandb-row { display: flex; flex-direction: row; flex-wrap: wrap; justify-content: flex-start; width: 100% }\n",
       "    .wandb-col { display: flex; flex-direction: column; flex-basis: 100%; flex: 1; padding: 10px; }\n",
       "    </style>\n",
       "<div class=\"wandb-row\"><div class=\"wandb-col\"><h3>Run history:</h3><br/><table class=\"wandb\"><tr><td>avg_accuracy</td><td>▁</td></tr><tr><td>subject_1_acc</td><td>▁</td></tr><tr><td>subject_2_acc</td><td>▁</td></tr><tr><td>subject_3_acc</td><td>▁</td></tr><tr><td>subject_4_acc</td><td>▁</td></tr><tr><td>subject_5_acc</td><td>▁</td></tr><tr><td>subject_6_acc</td><td>▁</td></tr><tr><td>subject_7_acc</td><td>▁</td></tr><tr><td>subject_8_acc</td><td>▁</td></tr><tr><td>subject_9_acc</td><td>▁</td></tr></table><br/></div><div class=\"wandb-col\"><h3>Run summary:</h3><br/><table class=\"wandb\"><tr><td>avg_accuracy</td><td>0.73946</td></tr><tr><td>subject_1_acc</td><td>0.81034</td></tr><tr><td>subject_2_acc</td><td>0.55172</td></tr><tr><td>subject_3_acc</td><td>0.96552</td></tr><tr><td>subject_4_acc</td><td>0.65517</td></tr><tr><td>subject_5_acc</td><td>0.58621</td></tr><tr><td>subject_6_acc</td><td>0.60345</td></tr><tr><td>subject_7_acc</td><td>0.67241</td></tr><tr><td>subject_8_acc</td><td>0.91379</td></tr><tr><td>subject_9_acc</td><td>0.89655</td></tr></table><br/></div></div>"
      ],
      "text/plain": [
       "<IPython.core.display.HTML object>"
      ]
     },
     "metadata": {},
     "output_type": "display_data"
    },
    {
     "data": {
      "text/html": [
       " View run <strong style=\"color:#cdcd00\">neat-snowflake-6</strong> at: <a href='https://wandb.ai/philinthesky/Master%20Thesis/runs/cq7qrc20' target=\"_blank\">https://wandb.ai/philinthesky/Master%20Thesis/runs/cq7qrc20</a><br/> View project at: <a href='https://wandb.ai/philinthesky/Master%20Thesis' target=\"_blank\">https://wandb.ai/philinthesky/Master%20Thesis</a><br/>Synced 5 W&B file(s), 0 media file(s), 0 artifact file(s) and 0 other file(s)"
      ],
      "text/plain": [
       "<IPython.core.display.HTML object>"
      ]
     },
     "metadata": {},
     "output_type": "display_data"
    },
    {
     "data": {
      "text/html": [
       "Find logs at: <code>.\\wandb\\run-20250211_180506-cq7qrc20\\logs</code>"
      ],
      "text/plain": [
       "<IPython.core.display.HTML object>"
      ]
     },
     "metadata": {},
     "output_type": "display_data"
    }
   ],
   "source": [
    "from skorch.dataset import ValidSplit\n",
    "from braindecode import EEGClassifier\n",
    "from sklearn.pipeline import Pipeline\n",
    "from sklearn.preprocessing import StandardScaler\n",
    "import wandb\n",
    "import warnings\n",
    "import numpy as np\n",
    "import mne\n",
    "\n",
    "warnings.simplefilter(action='ignore', category=FutureWarning)\n",
    "import warnings\n",
    "warnings.filterwarnings(\"ignore\", category=UserWarning)\n",
    "\n",
    "\n",
    "\n",
    "# Initialize wandb\n",
    "wandb.init(\n",
    "    project=\"Master Thesis\",\n",
    "    config={\n",
    "        \"learning_rate\": 0.02,\n",
    "        \"architecture\": \"ShallowFBCSPNet\",\n",
    "        \"dataset\": \"BNCI2014_001\",\n",
    "        \"epochs\": 100,\n",
    "    }\n",
    ")\n",
    "\n",
    "dataset = BNCI2014_001()\n",
    "paradigm = LeftRightImagery()\n",
    "\n",
    "# Get EEG data\n",
    "subject = 1\n",
    "X_EEG, y_EEG, metadata = paradigm.get_data(dataset=dataset, subjects=[subject])\n",
    "\n",
    "ch_list = [f\"ch{i}\" for i in range(X_EEG.shape[1])]\n",
    "y_EEG_data = get_ints(y_EEG)\n",
    "\n",
    "# Define EEG model\n",
    "model = ShallowFBCSPNet(n_chans=22, n_times=1000, n_outputs=2, final_conv_length='auto')\n",
    "net = EEGClassifier(\n",
    "    'ShallowFBCSPNet',\n",
    "    max_epochs=100,\n",
    "    module__final_conv_length='auto',\n",
    "    train_split=ValidSplit(0.2),\n",
    "    verbose=0\n",
    ")\n",
    "\n",
    "acc_list = []\n",
    "for i in dataset.subject_list:\n",
    "    X_EEG, y_EEG, metadata = paradigm.get_data(dataset=dataset, subjects=[i])\n",
    "    y_EEG_data = get_ints(y_EEG)\n",
    "    \n",
    "    info = mne.create_info(ch_names=ch_list, sfreq=250., ch_types='eeg')\n",
    "    epochs = mne.EpochsArray(X_EEG, info=info)\n",
    "\n",
    "    net.fit(epochs, np.array(y_EEG_data))\n",
    "    \n",
    "    subject_acc = net.history[-1][\"valid_acc\"]\n",
    "    print(f\"Subject {i}: {subject_acc}\")\n",
    "    \n",
    "    acc_list.append(subject_acc)\n",
    "    wandb.log({f\"subject_{i}_acc\": subject_acc})  # Log accuracy for each subject\n",
    "\n",
    "# Log overall accuracy\n",
    "wandb.log({\"avg_accuracy\": np.mean(acc_list)})\n",
    "\n",
    "wandb.finish()\n"
   ]
  },
  {
   "cell_type": "code",
   "execution_count": 35,
   "metadata": {},
   "outputs": [
    {
     "data": {
      "text/html": [
       "<div>\n",
       "<style scoped>\n",
       "    .dataframe tbody tr th:only-of-type {\n",
       "        vertical-align: middle;\n",
       "    }\n",
       "\n",
       "    .dataframe tbody tr th {\n",
       "        vertical-align: top;\n",
       "    }\n",
       "\n",
       "    .dataframe thead th {\n",
       "        text-align: right;\n",
       "    }\n",
       "</style>\n",
       "<table border=\"1\" class=\"dataframe\">\n",
       "  <thead>\n",
       "    <tr style=\"text-align: right;\">\n",
       "      <th></th>\n",
       "      <th>subject</th>\n",
       "      <th>session</th>\n",
       "      <th>run</th>\n",
       "    </tr>\n",
       "  </thead>\n",
       "  <tbody>\n",
       "    <tr>\n",
       "      <th>0</th>\n",
       "      <td>9</td>\n",
       "      <td>0train</td>\n",
       "      <td>0</td>\n",
       "    </tr>\n",
       "    <tr>\n",
       "      <th>1</th>\n",
       "      <td>9</td>\n",
       "      <td>0train</td>\n",
       "      <td>0</td>\n",
       "    </tr>\n",
       "    <tr>\n",
       "      <th>2</th>\n",
       "      <td>9</td>\n",
       "      <td>0train</td>\n",
       "      <td>0</td>\n",
       "    </tr>\n",
       "    <tr>\n",
       "      <th>3</th>\n",
       "      <td>9</td>\n",
       "      <td>0train</td>\n",
       "      <td>0</td>\n",
       "    </tr>\n",
       "    <tr>\n",
       "      <th>4</th>\n",
       "      <td>9</td>\n",
       "      <td>0train</td>\n",
       "      <td>0</td>\n",
       "    </tr>\n",
       "    <tr>\n",
       "      <th>...</th>\n",
       "      <td>...</td>\n",
       "      <td>...</td>\n",
       "      <td>...</td>\n",
       "    </tr>\n",
       "    <tr>\n",
       "      <th>283</th>\n",
       "      <td>9</td>\n",
       "      <td>1test</td>\n",
       "      <td>5</td>\n",
       "    </tr>\n",
       "    <tr>\n",
       "      <th>284</th>\n",
       "      <td>9</td>\n",
       "      <td>1test</td>\n",
       "      <td>5</td>\n",
       "    </tr>\n",
       "    <tr>\n",
       "      <th>285</th>\n",
       "      <td>9</td>\n",
       "      <td>1test</td>\n",
       "      <td>5</td>\n",
       "    </tr>\n",
       "    <tr>\n",
       "      <th>286</th>\n",
       "      <td>9</td>\n",
       "      <td>1test</td>\n",
       "      <td>5</td>\n",
       "    </tr>\n",
       "    <tr>\n",
       "      <th>287</th>\n",
       "      <td>9</td>\n",
       "      <td>1test</td>\n",
       "      <td>5</td>\n",
       "    </tr>\n",
       "  </tbody>\n",
       "</table>\n",
       "<p>288 rows × 3 columns</p>\n",
       "</div>"
      ],
      "text/plain": [
       "     subject session run\n",
       "0          9  0train   0\n",
       "1          9  0train   0\n",
       "2          9  0train   0\n",
       "3          9  0train   0\n",
       "4          9  0train   0\n",
       "..       ...     ...  ..\n",
       "283        9   1test   5\n",
       "284        9   1test   5\n",
       "285        9   1test   5\n",
       "286        9   1test   5\n",
       "287        9   1test   5\n",
       "\n",
       "[288 rows x 3 columns]"
      ]
     },
     "execution_count": 35,
     "metadata": {},
     "output_type": "execute_result"
    }
   ],
   "source": [
    "metadata\n",
    " "
   ]
  },
  {
   "cell_type": "code",
   "execution_count": 36,
   "metadata": {},
   "outputs": [
    {
     "data": {
      "image/png": "[encoded data removed]",
      "text/plain": [
       "<Figure size 800x600 with 1 Axes>"
      ]
     },
     "metadata": {},
     "output_type": "display_data"
    }
   ],
   "source": [
    "import matplotlib.pyplot as plt\n",
    "from matplotlib import collections as matcoll\n",
    "import numpy as np\n",
    "\n",
    "if not np.issubdtype(np.array(dataset.subject_list).dtype, np.number):\n",
    "    x_positions = np.arange(len(dataset.subject_list))\n",
    "    x_labels = dataset.subject_list\n",
    "else:\n",
    "    x_positions = np.array(dataset.subject_list)\n",
    "    x_labels = dataset.subject_list\n",
    "\n",
    "# Create a list of line segments for each subject: from (x,0) to (x, accuracy)\n",
    "lines = [ [(x, 0), (x, acc)] for x, acc in zip(x_positions, acc_list) ]\n",
    "\n",
    "# Create a LineCollection from the list of segments\n",
    "lc = matcoll.LineCollection(lines, colors='blue', linewidths=2)\n",
    "\n",
    "# Create the plot\n",
    "fig, ax = plt.subplots(figsize=(8, 6))\n",
    "ax.add_collection(lc)\n",
    "\n",
    "# Add scatter points at the top of each line\n",
    "ax.scatter(x_positions, acc_list, color='red', zorder=3)\n",
    "\n",
    "# Set limits for x and y axes.\n",
    "ax.set_xlim(min(x_positions) - 0.5, max(x_positions) + 0.5)\n",
    "ax.set_ylim(0, max(acc_list) * 1.1)\n",
    "\n",
    "# If using categorical subject names, set the tick positions and labels.\n",
    "if not np.issubdtype(np.array(dataset.subject_list).dtype, np.number):\n",
    "    ax.set_xticks(x_positions)\n",
    "    ax.set_xticklabels(x_labels, rotation=45, ha='right')\n",
    "\n",
    "ax.set_title(\"Validation Acc. for each Subject\")\n",
    "ax.set_xlabel(\"Subjects\")\n",
    "ax.set_ylabel(\"Accuracy\")\n",
    "plt.tight_layout()\n",
    "plt.show()\n"
   ]
  },
  {
   "cell_type": "code",
   "execution_count": 37,
   "metadata": {},
   "outputs": [
    {
     "name": "stdout",
     "output_type": "stream",
     "text": [
      "Mean of the Subjects Validation Accuracy: 0.7356321839080459\n"
     ]
    }
   ],
   "source": [
    "\n",
    "print(f\"Mean of the Subjects Validation Accuracy: {np.mean(acc_list)}\")"
   ]
  },
  {
   "cell_type": "markdown",
   "metadata": {},
   "source": [
    "# Get Temporal and Spatial Layers"
   ]
  },
  {
   "cell_type": "code",
   "execution_count": 38,
   "metadata": {},
   "outputs": [
    {
     "data": {
      "text/html": [
       "<style>#sk-container-id-1 {\n",
       "  /* Definition of color scheme common for light and dark mode */\n",
       "  --sklearn-color-text: black;\n",
       "  --sklearn-color-line: gray;\n",
       "  /* Definition of color scheme for unfitted estimators */\n",
       "  --sklearn-color-unfitted-level-0: #fff5e6;\n",
       "  --sklearn-color-unfitted-level-1: #f6e4d2;\n",
       "  --sklearn-color-unfitted-level-2: #ffe0b3;\n",
       "  --sklearn-color-unfitted-level-3: chocolate;\n",
       "  /* Definition of color scheme for fitted estimators */\n",
       "  --sklearn-color-fitted-level-0: #f0f8ff;\n",
       "  --sklearn-color-fitted-level-1: #d4ebff;\n",
       "  --sklearn-color-fitted-level-2: #b3dbfd;\n",
       "  --sklearn-color-fitted-level-3: cornflowerblue;\n",
       "\n",
       "  /* Specific color for light theme */\n",
       "  --sklearn-color-text-on-default-background: var(--sg-text-color, var(--theme-code-foreground, var(--jp-content-font-color1, black)));\n",
       "  --sklearn-color-background: var(--sg-background-color, var(--theme-background, var(--jp-layout-color0, white)));\n",
       "  --sklearn-color-border-box: var(--sg-text-color, var(--theme-code-foreground, var(--jp-content-font-color1, black)));\n",
       "  --sklearn-color-icon: #696969;\n",
       "\n",
       "  @media (prefers-color-scheme: dark) {\n",
       "    /* Redefinition of color scheme for dark theme */\n",
       "    --sklearn-color-text-on-default-background: var(--sg-text-color, var(--theme-code-foreground, var(--jp-content-font-color1, white)));\n",
       "    --sklearn-color-background: var(--sg-background-color, var(--theme-background, var(--jp-layout-color0, #111)));\n",
       "    --sklearn-color-border-box: var(--sg-text-color, var(--theme-code-foreground, var(--jp-content-font-color1, white)));\n",
       "    --sklearn-color-icon: #878787;\n",
       "  }\n",
       "}\n",
       "\n",
       "#sk-container-id-1 {\n",
       "  color: var(--sklearn-color-text);\n",
       "}\n",
       "\n",
       "#sk-container-id-1 pre {\n",
       "  padding: 0;\n",
       "}\n",
       "\n",
       "#sk-container-id-1 input.sk-hidden--visually {\n",
       "  border: 0;\n",
       "  clip: rect(1px 1px 1px 1px);\n",
       "  clip: rect(1px, 1px, 1px, 1px);\n",
       "  height: 1px;\n",
       "  margin: -1px;\n",
       "  overflow: hidden;\n",
       "  padding: 0;\n",
       "  position: absolute;\n",
       "  width: 1px;\n",
       "}\n",
       "\n",
       "#sk-container-id-1 div.sk-dashed-wrapped {\n",
       "  border: 1px dashed var(--sklearn-color-line);\n",
       "  margin: 0 0.4em 0.5em 0.4em;\n",
       "  box-sizing: border-box;\n",
       "  padding-bottom: 0.4em;\n",
       "  background-color: var(--sklearn-color-background);\n",
       "}\n",
       "\n",
       "#sk-container-id-1 div.sk-container {\n",
       "  /* jupyter's `normalize.less` sets `[hidden] { display: none; }`\n",
       "     but bootstrap.min.css set `[hidden] { display: none !important; }`\n",
       "     so we also need the `!important` here to be able to override the\n",
       "     default hidden behavior on the sphinx rendered scikit-learn.org.\n",
       "     See: https://github.com/scikit-learn/scikit-learn/issues/21755 */\n",
       "  display: inline-block !important;\n",
       "  position: relative;\n",
       "}\n",
       "\n",
       "#sk-container-id-1 div.sk-text-repr-fallback {\n",
       "  display: none;\n",
       "}\n",
       "\n",
       "div.sk-parallel-item,\n",
       "div.sk-serial,\n",
       "div.sk-item {\n",
       "  /* draw centered vertical line to link estimators */\n",
       "  background-image: linear-gradient(var(--sklearn-color-text-on-default-background), var(--sklearn-color-text-on-default-background));\n",
       "  background-size: 2px 100%;\n",
       "  background-repeat: no-repeat;\n",
       "  background-position: center center;\n",
       "}\n",
       "\n",
       "/* Parallel-specific style estimator block */\n",
       "\n",
       "#sk-container-id-1 div.sk-parallel-item::after {\n",
       "  content: \"\";\n",
       "  width: 100%;\n",
       "  border-bottom: 2px solid var(--sklearn-color-text-on-default-background);\n",
       "  flex-grow: 1;\n",
       "}\n",
       "\n",
       "#sk-container-id-1 div.sk-parallel {\n",
       "  display: flex;\n",
       "  align-items: stretch;\n",
       "  justify-content: center;\n",
       "  background-color: var(--sklearn-color-background);\n",
       "  position: relative;\n",
       "}\n",
       "\n",
       "#sk-container-id-1 div.sk-parallel-item {\n",
       "  display: flex;\n",
       "  flex-direction: column;\n",
       "}\n",
       "\n",
       "#sk-container-id-1 div.sk-parallel-item:first-child::after {\n",
       "  align-self: flex-end;\n",
       "  width: 50%;\n",
       "}\n",
       "\n",
       "#sk-container-id-1 div.sk-parallel-item:last-child::after {\n",
       "  align-self: flex-start;\n",
       "  width: 50%;\n",
       "}\n",
       "\n",
       "#sk-container-id-1 div.sk-parallel-item:only-child::after {\n",
       "  width: 0;\n",
       "}\n",
       "\n",
       "/* Serial-specific style estimator block */\n",
       "\n",
       "#sk-container-id-1 div.sk-serial {\n",
       "  display: flex;\n",
       "  flex-direction: column;\n",
       "  align-items: center;\n",
       "  background-color: var(--sklearn-color-background);\n",
       "  padding-right: 1em;\n",
       "  padding-left: 1em;\n",
       "}\n",
       "\n",
       "\n",
       "/* Toggleable style: style used for estimator/Pipeline/ColumnTransformer box that is\n",
       "clickable and can be expanded/collapsed.\n",
       "- Pipeline and ColumnTransformer use this feature and define the default style\n",
       "- Estimators will overwrite some part of the style using the `sk-estimator` class\n",
       "*/\n",
       "\n",
       "/* Pipeline and ColumnTransformer style (default) */\n",
       "\n",
       "#sk-container-id-1 div.sk-toggleable {\n",
       "  /* Default theme specific background. It is overwritten whether we have a\n",
       "  specific estimator or a Pipeline/ColumnTransformer */\n",
       "  background-color: var(--sklearn-color-background);\n",
       "}\n",
       "\n",
       "/* Toggleable label */\n",
       "#sk-container-id-1 label.sk-toggleable__label {\n",
       "  cursor: pointer;\n",
       "  display: block;\n",
       "  width: 100%;\n",
       "  margin-bottom: 0;\n",
       "  padding: 0.5em;\n",
       "  box-sizing: border-box;\n",
       "  text-align: center;\n",
       "}\n",
       "\n",
       "#sk-container-id-1 label.sk-toggleable__label-arrow:before {\n",
       "  /* Arrow on the left of the label */\n",
       "  content: \"▸\";\n",
       "  float: left;\n",
       "  margin-right: 0.25em;\n",
       "  color: var(--sklearn-color-icon);\n",
       "}\n",
       "\n",
       "#sk-container-id-1 label.sk-toggleable__label-arrow:hover:before {\n",
       "  color: var(--sklearn-color-text);\n",
       "}\n",
       "\n",
       "/* Toggleable content - dropdown */\n",
       "\n",
       "#sk-container-id-1 div.sk-toggleable__content {\n",
       "  max-height: 0;\n",
       "  max-width: 0;\n",
       "  overflow: hidden;\n",
       "  text-align: left;\n",
       "  /* unfitted */\n",
       "  background-color: var(--sklearn-color-unfitted-level-0);\n",
       "}\n",
       "\n",
       "#sk-container-id-1 div.sk-toggleable__content.fitted {\n",
       "  /* fitted */\n",
       "  background-color: var(--sklearn-color-fitted-level-0);\n",
       "}\n",
       "\n",
       "#sk-container-id-1 div.sk-toggleable__content pre {\n",
       "  margin: 0.2em;\n",
       "  border-radius: 0.25em;\n",
       "  color: var(--sklearn-color-text);\n",
       "  /* unfitted */\n",
       "  background-color: var(--sklearn-color-unfitted-level-0);\n",
       "}\n",
       "\n",
       "#sk-container-id-1 div.sk-toggleable__content.fitted pre {\n",
       "  /* unfitted */\n",
       "  background-color: var(--sklearn-color-fitted-level-0);\n",
       "}\n",
       "\n",
       "#sk-container-id-1 input.sk-toggleable__control:checked~div.sk-toggleable__content {\n",
       "  /* Expand drop-down */\n",
       "  max-height: 200px;\n",
       "  max-width: 100%;\n",
       "  overflow: auto;\n",
       "}\n",
       "\n",
       "#sk-container-id-1 input.sk-toggleable__control:checked~label.sk-toggleable__label-arrow:before {\n",
       "  content: \"▾\";\n",
       "}\n",
       "\n",
       "/* Pipeline/ColumnTransformer-specific style */\n",
       "\n",
       "#sk-container-id-1 div.sk-label input.sk-toggleable__control:checked~label.sk-toggleable__label {\n",
       "  color: var(--sklearn-color-text);\n",
       "  background-color: var(--sklearn-color-unfitted-level-2);\n",
       "}\n",
       "\n",
       "#sk-container-id-1 div.sk-label.fitted input.sk-toggleable__control:checked~label.sk-toggleable__label {\n",
       "  background-color: var(--sklearn-color-fitted-level-2);\n",
       "}\n",
       "\n",
       "/* Estimator-specific style */\n",
       "\n",
       "/* Colorize estimator box */\n",
       "#sk-container-id-1 div.sk-estimator input.sk-toggleable__control:checked~label.sk-toggleable__label {\n",
       "  /* unfitted */\n",
       "  background-color: var(--sklearn-color-unfitted-level-2);\n",
       "}\n",
       "\n",
       "#sk-container-id-1 div.sk-estimator.fitted input.sk-toggleable__control:checked~label.sk-toggleable__label {\n",
       "  /* fitted */\n",
       "  background-color: var(--sklearn-color-fitted-level-2);\n",
       "}\n",
       "\n",
       "#sk-container-id-1 div.sk-label label.sk-toggleable__label,\n",
       "#sk-container-id-1 div.sk-label label {\n",
       "  /* The background is the default theme color */\n",
       "  color: var(--sklearn-color-text-on-default-background);\n",
       "}\n",
       "\n",
       "/* On hover, darken the color of the background */\n",
       "#sk-container-id-1 div.sk-label:hover label.sk-toggleable__label {\n",
       "  color: var(--sklearn-color-text);\n",
       "  background-color: var(--sklearn-color-unfitted-level-2);\n",
       "}\n",
       "\n",
       "/* Label box, darken color on hover, fitted */\n",
       "#sk-container-id-1 div.sk-label.fitted:hover label.sk-toggleable__label.fitted {\n",
       "  color: var(--sklearn-color-text);\n",
       "  background-color: var(--sklearn-color-fitted-level-2);\n",
       "}\n",
       "\n",
       "/* Estimator label */\n",
       "\n",
       "#sk-container-id-1 div.sk-label label {\n",
       "  font-family: monospace;\n",
       "  font-weight: bold;\n",
       "  display: inline-block;\n",
       "  line-height: 1.2em;\n",
       "}\n",
       "\n",
       "#sk-container-id-1 div.sk-label-container {\n",
       "  text-align: center;\n",
       "}\n",
       "\n",
       "/* Estimator-specific */\n",
       "#sk-container-id-1 div.sk-estimator {\n",
       "  font-family: monospace;\n",
       "  border: 1px dotted var(--sklearn-color-border-box);\n",
       "  border-radius: 0.25em;\n",
       "  box-sizing: border-box;\n",
       "  margin-bottom: 0.5em;\n",
       "  /* unfitted */\n",
       "  background-color: var(--sklearn-color-unfitted-level-0);\n",
       "}\n",
       "\n",
       "#sk-container-id-1 div.sk-estimator.fitted {\n",
       "  /* fitted */\n",
       "  background-color: var(--sklearn-color-fitted-level-0);\n",
       "}\n",
       "\n",
       "/* on hover */\n",
       "#sk-container-id-1 div.sk-estimator:hover {\n",
       "  /* unfitted */\n",
       "  background-color: var(--sklearn-color-unfitted-level-2);\n",
       "}\n",
       "\n",
       "#sk-container-id-1 div.sk-estimator.fitted:hover {\n",
       "  /* fitted */\n",
       "  background-color: var(--sklearn-color-fitted-level-2);\n",
       "}\n",
       "\n",
       "/* Specification for estimator info (e.g. \"i\" and \"?\") */\n",
       "\n",
       "/* Common style for \"i\" and \"?\" */\n",
       "\n",
       ".sk-estimator-doc-link,\n",
       "a:link.sk-estimator-doc-link,\n",
       "a:visited.sk-estimator-doc-link {\n",
       "  float: right;\n",
       "  font-size: smaller;\n",
       "  line-height: 1em;\n",
       "  font-family: monospace;\n",
       "  background-color: var(--sklearn-color-background);\n",
       "  border-radius: 1em;\n",
       "  height: 1em;\n",
       "  width: 1em;\n",
       "  text-decoration: none !important;\n",
       "  margin-left: 1ex;\n",
       "  /* unfitted */\n",
       "  border: var(--sklearn-color-unfitted-level-1) 1pt solid;\n",
       "  color: var(--sklearn-color-unfitted-level-1);\n",
       "}\n",
       "\n",
       ".sk-estimator-doc-link.fitted,\n",
       "a:link.sk-estimator-doc-link.fitted,\n",
       "a:visited.sk-estimator-doc-link.fitted {\n",
       "  /* fitted */\n",
       "  border: var(--sklearn-color-fitted-level-1) 1pt solid;\n",
       "  color: var(--sklearn-color-fitted-level-1);\n",
       "}\n",
       "\n",
       "/* On hover */\n",
       "div.sk-estimator:hover .sk-estimator-doc-link:hover,\n",
       ".sk-estimator-doc-link:hover,\n",
       "div.sk-label-container:hover .sk-estimator-doc-link:hover,\n",
       ".sk-estimator-doc-link:hover {\n",
       "  /* unfitted */\n",
       "  background-color: var(--sklearn-color-unfitted-level-3);\n",
       "  color: var(--sklearn-color-background);\n",
       "  text-decoration: none;\n",
       "}\n",
       "\n",
       "div.sk-estimator.fitted:hover .sk-estimator-doc-link.fitted:hover,\n",
       ".sk-estimator-doc-link.fitted:hover,\n",
       "div.sk-label-container:hover .sk-estimator-doc-link.fitted:hover,\n",
       ".sk-estimator-doc-link.fitted:hover {\n",
       "  /* fitted */\n",
       "  background-color: var(--sklearn-color-fitted-level-3);\n",
       "  color: var(--sklearn-color-background);\n",
       "  text-decoration: none;\n",
       "}\n",
       "\n",
       "/* Span, style for the box shown on hovering the info icon */\n",
       ".sk-estimator-doc-link span {\n",
       "  display: none;\n",
       "  z-index: 9999;\n",
       "  position: relative;\n",
       "  font-weight: normal;\n",
       "  right: .2ex;\n",
       "  padding: .5ex;\n",
       "  margin: .5ex;\n",
       "  width: min-content;\n",
       "  min-width: 20ex;\n",
       "  max-width: 50ex;\n",
       "  color: var(--sklearn-color-text);\n",
       "  box-shadow: 2pt 2pt 4pt #999;\n",
       "  /* unfitted */\n",
       "  background: var(--sklearn-color-unfitted-level-0);\n",
       "  border: .5pt solid var(--sklearn-color-unfitted-level-3);\n",
       "}\n",
       "\n",
       ".sk-estimator-doc-link.fitted span {\n",
       "  /* fitted */\n",
       "  background: var(--sklearn-color-fitted-level-0);\n",
       "  border: var(--sklearn-color-fitted-level-3);\n",
       "}\n",
       "\n",
       ".sk-estimator-doc-link:hover span {\n",
       "  display: block;\n",
       "}\n",
       "\n",
       "/* \"?\"-specific style due to the `<a>` HTML tag */\n",
       "\n",
       "#sk-container-id-1 a.estimator_doc_link {\n",
       "  float: right;\n",
       "  font-size: 1rem;\n",
       "  line-height: 1em;\n",
       "  font-family: monospace;\n",
       "  background-color: var(--sklearn-color-background);\n",
       "  border-radius: 1rem;\n",
       "  height: 1rem;\n",
       "  width: 1rem;\n",
       "  text-decoration: none;\n",
       "  /* unfitted */\n",
       "  color: var(--sklearn-color-unfitted-level-1);\n",
       "  border: var(--sklearn-color-unfitted-level-1) 1pt solid;\n",
       "}\n",
       "\n",
       "#sk-container-id-1 a.estimator_doc_link.fitted {\n",
       "  /* fitted */\n",
       "  border: var(--sklearn-color-fitted-level-1) 1pt solid;\n",
       "  color: var(--sklearn-color-fitted-level-1);\n",
       "}\n",
       "\n",
       "/* On hover */\n",
       "#sk-container-id-1 a.estimator_doc_link:hover {\n",
       "  /* unfitted */\n",
       "  background-color: var(--sklearn-color-unfitted-level-3);\n",
       "  color: var(--sklearn-color-background);\n",
       "  text-decoration: none;\n",
       "}\n",
       "\n",
       "#sk-container-id-1 a.estimator_doc_link.fitted:hover {\n",
       "  /* fitted */\n",
       "  background-color: var(--sklearn-color-fitted-level-3);\n",
       "}\n",
       "</style><div id=\"sk-container-id-1\" class=\"sk-top-container\"><div class=\"sk-text-repr-fallback\"><pre>&lt;class &#x27;braindecode.classifier.EEGClassifier&#x27;&gt;[initialized](\n",
       "  module_=============================================================================================================================================\n",
       "  Layer (type (var_name):depth-idx)        Input Shape               Output Shape              Param #                   Kernel Shape\n",
       "  ============================================================================================================================================\n",
       "  ShallowFBCSPNet (ShallowFBCSPNet)        [1, 22, 1001]             [1, 2]                    --                        --\n",
       "  ├─Ensure4d (ensuredims): 1-1             [1, 22, 1001]             [1, 22, 1001, 1]          --                        --\n",
       "  ├─Rearrange (dimshuffle): 1-2            [1, 22, 1001, 1]          [1, 1, 1001, 22]          --                        --\n",
       "  ├─CombinedConv (conv_time_spat): 1-3     [1, 1, 1001, 22]          [1, 40, 977, 1]           36,240                    --\n",
       "  ├─BatchNorm2d (bnorm): 1-4               [1, 40, 977, 1]           [1, 40, 977, 1]           80                        --\n",
       "  ├─Expression (conv_nonlin_exp): 1-5      [1, 40, 977, 1]           [1, 40, 977, 1]           --                        --\n",
       "  ├─AvgPool2d (pool): 1-6                  [1, 40, 977, 1]           [1, 40, 61, 1]            --                        [75, 1]\n",
       "  ├─Expression (pool_nonlin_exp): 1-7      [1, 40, 61, 1]            [1, 40, 61, 1]            --                        --\n",
       "  ├─Dropout (drop): 1-8                    [1, 40, 61, 1]            [1, 40, 61, 1]            --                        --\n",
       "  ├─Sequential (final_layer): 1-9          [1, 40, 61, 1]            [1, 2]                    --                        --\n",
       "  │    └─Conv2d (conv_classifier): 2-1     [1, 40, 61, 1]            [1, 2, 1, 1]              4,882                     [61, 1]\n",
       "  │    └─LogSoftmax (logsoftmax): 2-2      [1, 2, 1, 1]              [1, 2, 1, 1]              --                        --\n",
       "  │    └─Expression (squeeze): 2-3         [1, 2, 1, 1]              [1, 2]                    --                        --\n",
       "  ============================================================================================================================================\n",
       "  Total params: 41,202\n",
       "  Trainable params: 41,202\n",
       "  Non-trainable params: 0\n",
       "  Total mult-adds (M): 0.00\n",
       "  ============================================================================================================================================\n",
       "  Input size (MB): 0.09\n",
       "  Forward/backward pass size (MB): 0.31\n",
       "  Params size (MB): 0.02\n",
       "  Estimated Total Size (MB): 0.42\n",
       "  ============================================================================================================================================,\n",
       ")</pre><b>In a Jupyter environment, please rerun this cell to show the HTML representation or trust the notebook. <br />On GitHub, the HTML representation is unable to render, please try loading this page with nbviewer.org.</b></div><div class=\"sk-container\" hidden><div class=\"sk-item\"><div class=\"sk-estimator fitted sk-toggleable\"><input class=\"sk-toggleable__control sk-hidden--visually\" id=\"sk-estimator-id-1\" type=\"checkbox\" checked><label for=\"sk-estimator-id-1\" class=\"sk-toggleable__label fitted sk-toggleable__label-arrow fitted\">&nbsp;EEGClassifier<span class=\"sk-estimator-doc-link fitted\">i<span>Fitted</span></span></label><div class=\"sk-toggleable__content fitted\"><pre>&lt;class &#x27;braindecode.classifier.EEGClassifier&#x27;&gt;[initialized](\n",
       "  module_=============================================================================================================================================\n",
       "  Layer (type (var_name):depth-idx)        Input Shape               Output Shape              Param #                   Kernel Shape\n",
       "  ============================================================================================================================================\n",
       "  ShallowFBCSPNet (ShallowFBCSPNet)        [1, 22, 1001]             [1, 2]                    --                        --\n",
       "  ├─Ensure4d (ensuredims): 1-1             [1, 22, 1001]             [1, 22, 1001, 1]          --                        --\n",
       "  ├─Rearrange (dimshuffle): 1-2            [1, 22, 1001, 1]          [1, 1, 1001, 22]          --                        --\n",
       "  ├─CombinedConv (conv_time_spat): 1-3     [1, 1, 1001, 22]          [1, 40, 977, 1]           36,240                    --\n",
       "  ├─BatchNorm2d (bnorm): 1-4               [1, 40, 977, 1]           [1, 40, 977, 1]           80                        --\n",
       "  ├─Expression (conv_nonlin_exp): 1-5      [1, 40, 977, 1]           [1, 40, 977, 1]           --                        --\n",
       "  ├─AvgPool2d (pool): 1-6                  [1, 40, 977, 1]           [1, 40, 61, 1]            --                        [75, 1]\n",
       "  ├─Expression (pool_nonlin_exp): 1-7      [1, 40, 61, 1]            [1, 40, 61, 1]            --                        --\n",
       "  ├─Dropout (drop): 1-8                    [1, 40, 61, 1]            [1, 40, 61, 1]            --                        --\n",
       "  ├─Sequential (final_layer): 1-9          [1, 40, 61, 1]            [1, 2]                    --                        --\n",
       "  │    └─Conv2d (conv_classifier): 2-1     [1, 40, 61, 1]            [1, 2, 1, 1]              4,882                     [61, 1]\n",
       "  │    └─LogSoftmax (logsoftmax): 2-2      [1, 2, 1, 1]              [1, 2, 1, 1]              --                        --\n",
       "  │    └─Expression (squeeze): 2-3         [1, 2, 1, 1]              [1, 2]                    --                        --\n",
       "  ============================================================================================================================================\n",
       "  Total params: 41,202\n",
       "  Trainable params: 41,202\n",
       "  Non-trainable params: 0\n",
       "  Total mult-adds (M): 0.00\n",
       "  ============================================================================================================================================\n",
       "  Input size (MB): 0.09\n",
       "  Forward/backward pass size (MB): 0.31\n",
       "  Params size (MB): 0.02\n",
       "  Estimated Total Size (MB): 0.42\n",
       "  ============================================================================================================================================,\n",
       ")</pre></div> </div></div></div></div>"
      ],
      "text/plain": [
       "<class 'braindecode.classifier.EEGClassifier'>[initialized](\n",
       "  module_=============================================================================================================================================\n",
       "  Layer (type (var_name):depth-idx)        Input Shape               Output Shape              Param #                   Kernel Shape\n",
       "  ============================================================================================================================================\n",
       "  ShallowFBCSPNet (ShallowFBCSPNet)        [1, 22, 1001]             [1, 2]                    --                        --\n",
       "  ├─Ensure4d (ensuredims): 1-1             [1, 22, 1001]             [1, 22, 1001, 1]          --                        --\n",
       "  ├─Rearrange (dimshuffle): 1-2            [1, 22, 1001, 1]          [1, 1, 1001, 22]          --                        --\n",
       "  ├─CombinedConv (conv_time_spat): 1-3     [1, 1, 1001, 22]          [1, 40, 977, 1]           36,240                    --\n",
       "  ├─BatchNorm2d (bnorm): 1-4               [1, 40, 977, 1]           [1, 40, 977, 1]           80                        --\n",
       "  ├─Expression (conv_nonlin_exp): 1-5      [1, 40, 977, 1]           [1, 40, 977, 1]           --                        --\n",
       "  ├─AvgPool2d (pool): 1-6                  [1, 40, 977, 1]           [1, 40, 61, 1]            --                        [75, 1]\n",
       "  ├─Expression (pool_nonlin_exp): 1-7      [1, 40, 61, 1]            [1, 40, 61, 1]            --                        --\n",
       "  ├─Dropout (drop): 1-8                    [1, 40, 61, 1]            [1, 40, 61, 1]            --                        --\n",
       "  ├─Sequential (final_layer): 1-9          [1, 40, 61, 1]            [1, 2]                    --                        --\n",
       "  │    └─Conv2d (conv_classifier): 2-1     [1, 40, 61, 1]            [1, 2, 1, 1]              4,882                     [61, 1]\n",
       "  │    └─LogSoftmax (logsoftmax): 2-2      [1, 2, 1, 1]              [1, 2, 1, 1]              --                        --\n",
       "  │    └─Expression (squeeze): 2-3         [1, 2, 1, 1]              [1, 2]                    --                        --\n",
       "  ============================================================================================================================================\n",
       "  Total params: 41,202\n",
       "  Trainable params: 41,202\n",
       "  Non-trainable params: 0\n",
       "  Total mult-adds (M): 0.00\n",
       "  ============================================================================================================================================\n",
       "  Input size (MB): 0.09\n",
       "  Forward/backward pass size (MB): 0.31\n",
       "  Params size (MB): 0.02\n",
       "  Estimated Total Size (MB): 0.42\n",
       "  ============================================================================================================================================,\n",
       ")"
      ]
     },
     "execution_count": 38,
     "metadata": {},
     "output_type": "execute_result"
    }
   ],
   "source": [
    "net"
   ]
  },
  {
   "cell_type": "code",
   "execution_count": 39,
   "metadata": {},
   "outputs": [],
   "source": [
    "combined_conv = net.module_.conv_time_spat"
   ]
  },
  {
   "cell_type": "code",
   "execution_count": 40,
   "metadata": {},
   "outputs": [
    {
     "data": {
      "text/plain": [
       "CombinedConv(\n",
       "  (conv_time): Conv2d(1, 40, kernel_size=(25, 1), stride=(1, 1))\n",
       "  (conv_spat): Conv2d(40, 40, kernel_size=(1, 22), stride=(1, 1), bias=False)\n",
       ")"
      ]
     },
     "execution_count": 40,
     "metadata": {},
     "output_type": "execute_result"
    }
   ],
   "source": [
    "combined_conv"
   ]
  },
  {
   "cell_type": "code",
   "execution_count": 41,
   "metadata": {},
   "outputs": [
    {
     "name": "stdout",
     "output_type": "stream",
     "text": [
      "OrderedDict([('conv_time', Conv2d(1, 40, kernel_size=(25, 1), stride=(1, 1))), ('conv_spat', Conv2d(40, 40, kernel_size=(1, 22), stride=(1, 1), bias=False))])\n"
     ]
    }
   ],
   "source": [
    "print(combined_conv._modules)"
   ]
  },
  {
   "cell_type": "code",
   "execution_count": 42,
   "metadata": {},
   "outputs": [],
   "source": [
    "import sys\n"
   ]
  },
  {
   "cell_type": "code",
   "execution_count": 43,
   "metadata": {},
   "outputs": [
    {
     "name": "stdout",
     "output_type": "stream",
     "text": [
      "conv_time weights shape: (40, 1, 25, 1)\n",
      "conv_space weights shape: (40, 40, 1, 22)\n"
     ]
    }
   ],
   "source": [
    "weights_time = combined_conv.conv_time.weight.detach().cpu().numpy()\n",
    "weights_space = combined_conv.conv_spat.weight.detach().cpu().numpy()\n",
    "print(\"conv_time weights shape:\", weights_time.shape)\n",
    "print(\"conv_space weights shape:\", weights_space.shape)\n",
    "\n",
    "### Time:\n",
    "    # 40 Out-channels, 40 filters (or feature maps) produced by this layer\n",
    "    # 1 In-channels -  \n",
    "    # 25 Kernels height, 25 Time steps\n",
    "    # 1: Kernel Width\n",
    "\n",
    "### Space: \n",
    "    # 40 Out channels. Spatial features after the time features in the previous step\n",
    "    # 40 In channels.\n",
    "    # 1 Kernel height.\n",
    "    # 22 Kernel Width for the 22 Electrodes of the EEG signal\n",
    "\n",
    "\n",
    "\n"
   ]
  },
  {
   "cell_type": "code",
   "execution_count": 44,
   "metadata": {},
   "outputs": [
    {
     "data": {
      "text/plain": [
       "(40, 1, 25, 1)"
      ]
     },
     "execution_count": 44,
     "metadata": {},
     "output_type": "execute_result"
    }
   ],
   "source": [
    "weights_time.shape"
   ]
  },
  {
   "cell_type": "code",
   "execution_count": 45,
   "metadata": {},
   "outputs": [],
   "source": [
    "import HSIC\n",
    "import CKA"
   ]
  },
  {
   "cell_type": "code",
   "execution_count": 46,
   "metadata": {},
   "outputs": [
    {
     "name": "stdout",
     "output_type": "stream",
     "text": [
      "OrderedDict([('conv_time', Conv2d(1, 40, kernel_size=(25, 1), stride=(1, 1))), ('conv_spat', Conv2d(40, 40, kernel_size=(1, 22), stride=(1, 1), bias=False))])\n"
     ]
    }
   ],
   "source": [
    "print(combined_conv._modules)"
   ]
  },
  {
   "cell_type": "code",
   "execution_count": null,
   "metadata": {},
   "outputs": [],
   "source": []
  },
  {
   "cell_type": "code",
   "execution_count": 47,
   "metadata": {},
   "outputs": [
    {
     "name": "stdout",
     "output_type": "stream",
     "text": [
      "Space Dimensions:  (40, 22)\n",
      "Time Dimensions:  (40, 25)\n"
     ]
    }
   ],
   "source": [
    "print(\"Space Dimensions: \", weights_space[:,0,0].shape) ### We take only the Out channels as the In-channels are essentially the same as in the previous step. \n",
    "print(\"Time Dimensions: \",weights_time[:,0,:,0].shape)"
   ]
  },
  {
   "cell_type": "code",
   "execution_count": 48,
   "metadata": {},
   "outputs": [],
   "source": [
    "#!/usr/bin/env python\n",
    "import numpy as np\n",
    "import HSIC\n",
    "import math\n",
    "\n",
    "weights_time_2d = np.squeeze(weights_time)\n",
    "#dim_0 = weights_time_2d.shape[0]\n",
    "dim_0 = weights_time_2d.shape[1]\n",
    "dim_1 = weights_space[:,0,0].shape[1]\n",
    "\n",
    "\n",
    "CKA_similairty_matrix = np.zeros((dim_0,dim_1))\n",
    "for i in range(dim_0):\n",
    "    for j in range(dim_1):\n",
    "\n",
    "        weights_time_2d = np.squeeze(weights_time[:,0,:,0])\n",
    "        V = weights_time_2d[:,i].reshape(-1,1)\n",
    "        subset_space = weights_space[:,0,0,:]\n",
    "        space_weights_2d = np.squeeze(subset_space)\n",
    "        #print(space_weights_2d.shape)\n",
    "        W = space_weights_2d[:,j].reshape(-1,1)\n",
    "        K = np.matmul(V,V.T)\n",
    "        L = np.matmul(W,W.T)\n",
    "        #print(K.shape)\n",
    "        #print(L.shape)\n",
    "\n",
    "        HSIC_K_K = HSIC.hsic_gam(K,K)\n",
    "        HSIC_K_L = HSIC.hsic_gam(K,L)\n",
    "        HSIC_L_L = HSIC.hsic_gam(L,L)\n",
    "        #print(\"HSIC_K_K\", HSIC_K_K)\n",
    "        #print(\"HSIC_K_L\", HSIC_K_L)\n",
    "        #print(\"HSIC_L_L\", HSIC_L_L)\n",
    "\n",
    "        CKA = HSIC_K_L[0]/(math.sqrt(HSIC_K_K[0]*HSIC_L_L[0])) ### Tuple, took [0] since (test-statistic, test-threshold for alpha)\n",
    "        CKA_similairty_matrix[i,j] = CKA\n",
    "\n",
    "\n",
    "\n"
   ]
  },
  {
   "cell_type": "code",
   "execution_count": 49,
   "metadata": {},
   "outputs": [
    {
     "name": "stdout",
     "output_type": "stream",
     "text": [
      "(25, 22)\n"
     ]
    }
   ],
   "source": [
    "print(CKA_similairty_matrix.shape)"
   ]
  },
  {
   "cell_type": "code",
   "execution_count": 50,
   "metadata": {},
   "outputs": [
    {
     "name": "stdout",
     "output_type": "stream",
     "text": [
      "Space Dimensions:  (40, 22)\n",
      "Time Dimensions:  (40, 25)\n"
     ]
    }
   ],
   "source": [
    "print(\"Space Dimensions: \", weights_space[:,0,0].shape)\n",
    "print(\"Time Dimensions: \",weights_time[:,0,:,0].shape)"
   ]
  },
  {
   "cell_type": "code",
   "execution_count": 51,
   "metadata": {},
   "outputs": [
    {
     "data": {
      "image/png": "[encoded data removed]",
      "text/plain": [
       "<Figure size 640x480 with 2 Axes>"
      ]
     },
     "metadata": {},
     "output_type": "display_data"
    }
   ],
   "source": [
    "\n",
    "sns.heatmap(CKA_similairty_matrix)\n",
    "plt.title(\"CKA Similarity Matrix\", fontsize= 14)\n",
    "plt.ylabel(\"Time Layers\")\n",
    "plt.xlabel(\"Space Layers\")\n",
    "plt.xticks(fontsize = 8)\n",
    "plt.yticks(fontsize = 8)\n",
    "plt.show()  \n"
   ]
  },
  {
   "cell_type": "code",
   "execution_count": 52,
   "metadata": {},
   "outputs": [
    {
     "name": "stdout",
     "output_type": "stream",
     "text": [
      "Highest Values:\n",
      "0.05398234485572021\n",
      "0.03368582380631567\n",
      "0.08332880572887308\n",
      "Number of Squares:  1000\n"
     ]
    }
   ],
   "source": [
    "def lookup_function(idx_0, idx_1):\n",
    "    weights_time_2d = np.squeeze(weights_time[:,0,:,0])\n",
    "    V_look_up = weights_time_2d[:,idx_0].reshape(-1,1)\n",
    "    subset_space = weights_space[:,0,0,:]\n",
    "    space_weights_2d = np.squeeze(subset_space)\n",
    "    #print(space_weights_2d.shape)\n",
    "    W_look_up = space_weights_2d[:,idx_1].reshape(-1,1)\n",
    "    return CKA_similairty_matrix[idx_0,idx_1]\n",
    "\n",
    "print(\"Highest Values:\")\n",
    "print(CKA_similairty_matrix[3,12])\n",
    "print(CKA_similairty_matrix[13,15])\n",
    "print(CKA_similairty_matrix[20,17])\n",
    "print(\"Number of Squares: \", 40*25)"
   ]
  },
  {
   "cell_type": "code",
   "execution_count": 53,
   "metadata": {},
   "outputs": [
    {
     "name": "stdout",
     "output_type": "stream",
     "text": [
      "0.02380275134470064\n"
     ]
    }
   ],
   "source": [
    "print(CKA_similairty_matrix[2,7])"
   ]
  },
  {
   "cell_type": "code",
   "execution_count": 54,
   "metadata": {},
   "outputs": [
    {
     "name": "stdout",
     "output_type": "stream",
     "text": [
      "0.025174474701783304\n"
     ]
    }
   ],
   "source": [
    "print(CKA_similairty_matrix[6,2])"
   ]
  },
  {
   "cell_type": "code",
   "execution_count": 55,
   "metadata": {},
   "outputs": [
    {
     "name": "stdout",
     "output_type": "stream",
     "text": [
      "0.1298255734477337\n"
     ]
    }
   ],
   "source": [
    "print(CKA_similairty_matrix[19,11])"
   ]
  },
  {
   "cell_type": "markdown",
   "metadata": {},
   "source": [
    "First run it was [3,12], [13,15], [20, 17] </br>\n",
    "Second run: [2,7] </br>\n",
    "Third run: [6,2] </br>\n",
    "Fourth run: [19,11]"
   ]
  },
  {
   "cell_type": "code",
   "execution_count": 56,
   "metadata": {},
   "outputs": [
    {
     "name": "stdout",
     "output_type": "stream",
     "text": [
      "Mean:  0.06209505621354247\n",
      "Median:  0.05395731742587497\n",
      "Standard Deviation:  0.03306442315150108\n"
     ]
    },
    {
     "data": {
      "image/png": "[encoded data removed]",
      "text/plain": [
       "<Figure size 640x480 with 1 Axes>"
      ]
     },
     "metadata": {},
     "output_type": "display_data"
    }
   ],
   "source": [
    "flat_CKA_matrix = CKA_similairty_matrix.flatten()\n",
    "print(\"Mean: \", np.mean(flat_CKA_matrix))\n",
    "print(\"Median: \", np.median(flat_CKA_matrix))\n",
    "print(\"Standard Deviation: \", np.std(flat_CKA_matrix))\n",
    "\n",
    "plt.hist(flat_CKA_matrix)\n",
    "plt.ylabel(\"Frequency\")\n",
    "plt.xlabel(\"CKA Similarity\")\n",
    "#plt.title(\"Histogram - CKA Similarity Matrix\")\n",
    "plt.axvline(np.median(flat_CKA_matrix), color='b', linestyle = \"--\",label=f\"Median: {np.median(flat_CKA_matrix):.2f}\")\n",
    "#plt.axvline(np.mean(flat_CKA_matrix), color='orange', linestyle = \"--\",label=\"Mean\")\n",
    "plt.legend()\n",
    "plt.show()\n"
   ]
  },
  {
   "cell_type": "code",
   "execution_count": 57,
   "metadata": {},
   "outputs": [],
   "source": [
    "from sklearn.metrics import mutual_info_score\n"
   ]
  },
  {
   "cell_type": "markdown",
   "metadata": {},
   "source": [
    "# Spatial Only"
   ]
  },
  {
   "cell_type": "code",
   "execution_count": 58,
   "metadata": {},
   "outputs": [
    {
     "name": "stdout",
     "output_type": "stream",
     "text": [
      "(40, 22)\n"
     ]
    }
   ],
   "source": [
    "subset_space = weights_space[:,0,0,:]\n",
    "print(subset_space.shape)"
   ]
  },
  {
   "cell_type": "code",
   "execution_count": 59,
   "metadata": {},
   "outputs": [],
   "source": [
    "weights_time_2d = np.squeeze(weights_time)\n",
    "#dim_0 = weights_time_2d.shape[0]\n",
    "dim_0 = weights_time_2d.shape[1]\n",
    "dim_1 = weights_space[:,0,0].shape[1]\n",
    "\n",
    "\n",
    "CKA_similairty_matrix_Space = np.zeros((dim_1,dim_1))\n",
    "for i in range(dim_1):\n",
    "    for j in range(dim_1):\n",
    "\n",
    "        weights_time_2d = np.squeeze(weights_time[:,0,:,0])\n",
    "        #V = weights_time_2d[:,i].reshape(-1,1)\n",
    "        subset_space = weights_space[:,0,0,:]\n",
    "        space_weights_2d = np.squeeze(subset_space)\n",
    "        #print(space_weights_2d.shape)\n",
    "        W = space_weights_2d[:,j].reshape(-1,1)\n",
    "        V = space_weights_2d[:,i].reshape(-1,1)\n",
    "        K = np.matmul(V,V.T)\n",
    "        L = np.matmul(W,W.T)\n",
    "        #print(K.shape)\n",
    "        #print(L.shape)\n",
    "\n",
    "        HSIC_K_K = HSIC.hsic_gam(K,K)\n",
    "        HSIC_K_L = HSIC.hsic_gam(K,L)\n",
    "        HSIC_L_L = HSIC.hsic_gam(L,L)\n",
    "        #print(\"HSIC_K_K\", HSIC_K_K)\n",
    "        #print(\"HSIC_K_L\", HSIC_K_L)\n",
    "        #print(\"HSIC_L_L\", HSIC_L_L)\n",
    "\n",
    "        CKA = HSIC_K_L[0]/(math.sqrt(HSIC_K_K[0]*HSIC_L_L[0])) ### Tuple, took [0] since (test-statistic, test-threshold for alpha)\n",
    "        CKA_similairty_matrix_Space[i,j] = CKA\n"
   ]
  },
  {
   "cell_type": "code",
   "execution_count": 60,
   "metadata": {},
   "outputs": [
    {
     "data": {
      "image/png": "[encoded data removed]",
      "text/plain": [
       "<Figure size 640x480 with 2 Axes>"
      ]
     },
     "metadata": {},
     "output_type": "display_data"
    }
   ],
   "source": [
    "np.fill_diagonal(CKA_similairty_matrix_Space, np.nan)\n",
    "sns.heatmap(CKA_similairty_matrix_Space)\n",
    "plt.title(\"CKA Similarity Matrix - Space\", fontsize= 14)\n",
    "plt.ylabel(\"Space Layers\")\n",
    "plt.xlabel(\"Space Layers\")\n",
    "plt.xticks(fontsize = 8)\n",
    "plt.yticks(fontsize = 8)\n",
    "plt.show()  \n"
   ]
  },
  {
   "cell_type": "code",
   "execution_count": 61,
   "metadata": {},
   "outputs": [
    {
     "name": "stdout",
     "output_type": "stream",
     "text": [
      "Mean:  nan\n",
      "Median:  nan\n",
      "Standard Deviation:  nan\n"
     ]
    },
    {
     "data": {
      "image/png": "[encoded data removed]",
      "text/plain": [
       "<Figure size 640x480 with 1 Axes>"
      ]
     },
     "metadata": {},
     "output_type": "display_data"
    }
   ],
   "source": [
    "flat_CKA_matrix_space = CKA_similairty_matrix_Space.flatten()\n",
    "drop_one_space = [i for i in flat_CKA_matrix_space if i != 1]\n",
    "print(\"Mean: \", np.mean(drop_one_space))\n",
    "print(\"Median: \", np.median(drop_one_space))\n",
    "print(\"Standard Deviation: \", np.std(drop_one_space))\n",
    "\n",
    "plt.hist(drop_one_space)\n",
    "plt.ylabel(\"Frequency\")\n",
    "plt.xlabel(\"CKA Similarity - Space\")\n",
    "#plt.title(\"Histogram - CKA Similarity Matrix\")\n",
    "plt.axvline(np.median(drop_one_space), color='b', linestyle = \"--\",label=f\"Median: {np.median(drop_one_space):.2f}\")\n",
    "#plt.axvline(np.mean(flat_CKA_matrix), color='orange', linestyle = \"--\",label=\"Mean\")\n",
    "plt.legend()\n",
    "plt.show()\n"
   ]
  },
  {
   "cell_type": "markdown",
   "metadata": {},
   "source": [
    "# Time Only"
   ]
  },
  {
   "cell_type": "code",
   "execution_count": 62,
   "metadata": {},
   "outputs": [],
   "source": [
    "weights_time_2d = np.squeeze(weights_time)\n",
    "#dim_0 = weights_time_2d.shape[0]\n",
    "dim_0 = weights_time_2d.shape[1]\n",
    "dim_1 = weights_space[:,0,0].shape[1]\n",
    "\n",
    "\n",
    "CKA_similairty_matrix_Time = np.zeros((dim_0,dim_0))\n",
    "for i in range(dim_0):\n",
    "    for j in range(dim_0):\n",
    "\n",
    "        weights_time_2d = np.squeeze(weights_time[:,0,:,0])\n",
    "        V = weights_time_2d[:,i].reshape(-1,1)\n",
    "        W = weights_time_2d[:,j].reshape(-1,1)\n",
    "        #subset_space = weights_space[:,0,0,:]\n",
    "        #space_weights_2d = np.squeeze(subset_space)\n",
    "        #print(space_weights_2d.shape)\n",
    "        #W = space_weights_2d[:,j].reshape(-1,1)\n",
    "        #V = space_weights_2d[:,i].reshape(-1,1)\n",
    "        K = np.matmul(V,V.T)\n",
    "        L = np.matmul(W,W.T)\n",
    "        #print(K.shape)\n",
    "        #print(L.shape)\n",
    "\n",
    "        HSIC_K_K = HSIC.hsic_gam(K,K)\n",
    "        HSIC_K_L = HSIC.hsic_gam(K,L)\n",
    "        HSIC_L_L = HSIC.hsic_gam(L,L)\n",
    "        #print(\"HSIC_K_K\", HSIC_K_K)\n",
    "        #print(\"HSIC_K_L\", HSIC_K_L)\n",
    "        #print(\"HSIC_L_L\", HSIC_L_L)\n",
    "\n",
    "        CKA = HSIC_K_L[0]/(math.sqrt(HSIC_K_K[0]*HSIC_L_L[0])) ### Tuple, took [0] since (test-statistic, test-threshold for alpha)\n",
    "        CKA_similairty_matrix_Time[i,j] = CKA\n"
   ]
  },
  {
   "cell_type": "code",
   "execution_count": 63,
   "metadata": {},
   "outputs": [
    {
     "data": {
      "image/png": "[encoded data removed]",
      "text/plain": [
       "<Figure size 640x480 with 2 Axes>"
      ]
     },
     "metadata": {},
     "output_type": "display_data"
    }
   ],
   "source": [
    "import numpy as np\n",
    "import seaborn as sns\n",
    "import matplotlib.pyplot as plt\n",
    "\n",
    "# Replace diagonal with NaN (ignored in visualization)\n",
    "np.fill_diagonal(CKA_similairty_matrix_Time, np.nan)\n",
    "\n",
    "sns.heatmap(CKA_similairty_matrix_Time, fmt=\".2f\")\n",
    "plt.title(\"CKA Similarity Matrix - Time\", fontsize=14)\n",
    "plt.ylabel(\"Time Layers\")\n",
    "plt.xlabel(\"Time Layers\")\n",
    "plt.xticks(fontsize=8)\n",
    "plt.yticks(fontsize=8)\n",
    "plt.show()\n"
   ]
  },
  {
   "cell_type": "code",
   "execution_count": 64,
   "metadata": {},
   "outputs": [
    {
     "name": "stdout",
     "output_type": "stream",
     "text": [
      "Mean:  nan\n",
      "Median:  nan\n",
      "Standard Deviation:  nan\n"
     ]
    },
    {
     "data": {
      "image/png": "[encoded data removed]",
      "text/plain": [
       "<Figure size 640x480 with 1 Axes>"
      ]
     },
     "metadata": {},
     "output_type": "display_data"
    }
   ],
   "source": [
    "flat_CKA_matrix_time = CKA_similairty_matrix_Time.flatten()\n",
    "drop_one_time = [i for i in flat_CKA_matrix_time if i!=1]\n",
    "print(\"Mean: \", np.mean(drop_one_time))\n",
    "print(\"Median: \", np.median(drop_one_time))\n",
    "print(\"Standard Deviation: \", np.std(drop_one_time))\n",
    "\n",
    "plt.hist(drop_one_time)\n",
    "plt.ylabel(\"Frequency\")\n",
    "plt.xlabel(\"CKA Similarity - Time\")\n",
    "#plt.title(\"Histogram - CKA Similarity Matrix\")\n",
    "plt.axvline(np.median(drop_one_time), color='b', linestyle = \"--\",label=f\"Median: {np.median(drop_one_time):.2f}\")\n",
    "#plt.axvline(np.mean(flat_CKA_matrix), color='orange', linestyle = \"--\",label=\"Mean\")\n",
    "plt.legend()\n",
    "plt.show()"
   ]
  },
  {
   "cell_type": "markdown",
   "metadata": {},
   "source": [
    "Which One Should You Use? </br>\n",
    "✅ To visualize local differences → Use Heatmap of Differences. </br>\n",
    "✅ To check trend similarity → Use Correlation. </br>\n",
    "✅ To measure overall difference → Use Frobenius Norm. </br>\n",
    "✅ To check distribution similarity → Use Wasserstein Distance. </br>\n",
    "✅ To remove diagonal effects → Use Mean Absolute Difference (ignoring diagonal)."
   ]
  },
  {
   "cell_type": "code",
   "execution_count": null,
   "metadata": {},
   "outputs": [],
   "source": [
    " "
   ]
  },
  {
   "cell_type": "markdown",
   "metadata": {},
   "source": [
    "#### Maybe?\n",
    "\n",
    "#### Jackknife Boostrapping for CKA: "
   ]
  },
  {
   "cell_type": "code",
   "execution_count": null,
   "metadata": {},
   "outputs": [],
   "source": []
  }
 ],
 "metadata": {
  "kernelspec": {
   "display_name": "Python 3",
   "language": "python",
   "name": "python3"
  },
  "language_info": {
   "codemirror_mode": {
    "name": "ipython",
    "version": 3
   },
   "file_extension": ".py",
   "mimetype": "text/x-python",
   "name": "python",
   "nbconvert_exporter": "python",
   "pygments_lexer": "ipython3",
   "version": "3.10.11"
  }
 },
 "nbformat": 4,
 "nbformat_minor": 2
}
